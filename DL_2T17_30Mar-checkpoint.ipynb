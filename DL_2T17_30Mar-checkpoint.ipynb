{
 "cells": [
  {
   "cell_type": "code",
   "execution_count": 1,
   "metadata": {
    "id": "qLTVIvmEV0bJ"
   },
   "outputs": [
    {
     "name": "stderr",
     "output_type": "stream",
     "text": [
      "Using TensorFlow backend.\n"
     ]
    }
   ],
   "source": [
    "#We are testing a DL model for Mixed integer formulation for Water distribution network.\n",
    "# The input data such as water demand and time-ahead dynamic energy prices are obtained from Singh et al (2019) paper.\n",
    "# We computed the time ahead pump switching using MATALB Gurobi solver\n",
    "# We obtained the time ahead pump switching for 2048 hours (85.33 days)\n",
    "# We train_test the neural network in the ratio of 80-20.\n",
    "# The nn is trained using ReLu and SoftMax (as the output is integer values)\n",
    "\n",
    "#In our  case y is (z)\n",
    "\n",
    "import numpy as np\n",
    "import pandas as pd   #data analysis and manipulation library\n",
    "import seaborn as sns #Python statistical data visualization library.\n",
    "import matplotlib.pyplot as plt\n",
    "from sklearn import model_selection #Tuning the hyperparameters, cross validation, model persistance are the important aspects of this.\n",
    "from sklearn.model_selection import train_test_split #ML library to data analysis\n",
    "from sklearn.metrics import accuracy_score, r2_score\n",
    "import sklearn.metrics as metrics\n",
    "from openpyxl import Workbook, load_workbook\n",
    "from openpyxl.utils.dataframe import dataframe_to_rows\n",
    "\n",
    "\n",
    "from sklearn.decomposition import PCA #dimensionality reduction\n",
    "\n",
    "%matplotlib inline\n",
    "\n",
    "#Libraries for Deep learning framework from Keras\n",
    "\n",
    "import tensorflow as tf\n",
    "from tensorflow.keras.models import Sequential\n",
    "from tensorflow.keras.layers import Dense, Activation\n",
    "from tensorflow.keras.layers import BatchNormalization\n",
    "\n",
    "import keras\n",
    "import keras.utils\n",
    "from keras import utils as np_utils\n",
    "from keras.models import Sequential\n",
    "\n",
    "from tensorflow.keras import layers\n",
    "from tensorflow.keras import utils as np_utils\n",
    "from tensorflow.keras import models \n",
    "from tensorflow.keras.models import Sequential\n",
    "from tensorflow.keras.layers import Activation, LeakyReLU, PReLU, ELU #Import activation functions from keras.layers\n",
    "from tensorflow.keras.layers import Dropout #Import dropout library, the objective of dropout is to prevent overfitting of data, However, we have to be careful while setting the dropout rate.\n",
    "from tensorflow.keras.optimizers import SGD, RMSprop\n",
    "from tensorflow.keras.callbacks import LearningRateScheduler #Learning rate scheduler, Here call back is an object that can perform\n",
    "                                                # at various actions at different stages of training \n",
    "from tensorflow.keras.callbacks import History #We can use the data collected from history to  [accuracy, loss, val_accuracy, val_loss]\n",
    "\n",
    "\n",
    "\n",
    "import io #Deal with various types of input output\n",
    "import os #Talk with os, like changing and modifying dirctories\n",
    "import requests #Allow you to send HTTP/1.1, headers, form data, multipart files r = requests.get(‘https://github.com/timeline.json’)\n",
    "\n",
    "\n",
    "import warnings\n",
    "warnings.simplefilter(action='ignore', category=FutureWarning)\n",
    "warnings.filterwarnings('ignore')\n",
    "warnings.filterwarnings('ignore', category=DeprecationWarning) #Deprecated warning: it is a base category of warning about deprecated features\n",
    "\n",
    "\n",
    "import dill\n",
    "# dill.dump_session('notebook_env.db')\n"
   ]
  },
  {
   "cell_type": "code",
   "execution_count": 2,
   "metadata": {
    "colab": {
     "base_uri": "https://localhost:8080/",
     "height": 35
    },
    "id": "3UAv55q5WBcM",
    "outputId": "3c021aa0-bd4d-494f-f943-eef9218e7517"
   },
   "outputs": [
    {
     "data": {
      "text/plain": [
       "'C:\\\\Users\\\\jyotib18\\\\OneDrive - Universitetet i Agder\\\\Data Files From Rahul'"
      ]
     },
     "execution_count": 2,
     "metadata": {},
     "output_type": "execute_result"
    }
   ],
   "source": [
    "pwd\n"
   ]
  },
  {
   "cell_type": "code",
   "execution_count": 3,
   "metadata": {
    "colab": {
     "base_uri": "https://localhost:8080/",
     "height": 35
    },
    "id": "IpVFTXeQXCXK",
    "outputId": "27426a81-8e08-46b7-8f2c-c8deaf83a9a4"
   },
   "outputs": [
    {
     "data": {
      "text/plain": [
       "(165050, 123)"
      ]
     },
     "execution_count": 3,
     "metadata": {},
     "output_type": "execute_result"
    }
   ],
   "source": [
    "import io\n",
    "#inputs = pd.read_csv(io.BytesIO(uploaded['1.csv']))\n",
    "\n",
    "inputs=pd.read_csv(r'C:\\Users\\jyotib18\\OPS_Data\\2T20Ts5\\feasible_input_log.csv')\n",
    "inputs=inputs.dropna()\n",
    "\n",
    "\n",
    "# Dataset is now stored in a Pandas Dataframe\n",
    "inputs.shape"
   ]
  },
  {
   "cell_type": "code",
   "execution_count": 4,
   "metadata": {
    "colab": {
     "base_uri": "https://localhost:8080/",
     "height": 35
    },
    "id": "JJOS8FKYX-NI",
    "outputId": "1b70258b-b9d3-487b-c10f-9a84707063e3"
   },
   "outputs": [
    {
     "data": {
      "text/plain": [
       "pandas.core.frame.DataFrame"
      ]
     },
     "execution_count": 4,
     "metadata": {},
     "output_type": "execute_result"
    }
   ],
   "source": [
    "type(inputs)"
   ]
  },
  {
   "cell_type": "code",
   "execution_count": 5,
   "metadata": {
    "colab": {
     "base_uri": "https://localhost:8080/",
     "height": 267
    },
    "id": "7kjRvcIjYBcE",
    "outputId": "fc4ba7fd-6de7-44fa-fddc-9bbd367a8a2d"
   },
   "outputs": [
    {
     "data": {
      "text/plain": [
       "<bound method NDFrame.head of         95.731   83.82  0  1  0.1  0.2  3  1.1  1.2  1.3  ...   3.5626  \\\n",
       "0       67.644  98.898  0  1    1    0  1    0    0    0  ...   8.5146   \n",
       "1       76.438  67.008  0  1    1    0  3    1    0    1  ...  17.0140   \n",
       "2       76.754  99.397  1  0    1    0  4    0    1    1  ...   1.1341   \n",
       "3       84.733  84.176  1  0    1    0  1    0    0    1  ...  19.2880   \n",
       "4       87.870  69.256  1  0    0    0  2    1    0    0  ...   7.9776   \n",
       "...        ...     ... .. ..  ...  ... ..  ...  ...  ...  ...      ...   \n",
       "165045  99.111  95.306  0  0    0    0  3    1    0    0  ...  11.3580   \n",
       "165046  73.453  79.232  0  0    0    0  3    1    0    1  ...   9.0616   \n",
       "165047  55.991  88.879  0  0    0    1  3    1    0    0  ...  12.3330   \n",
       "165048  50.792  67.835  1  0    0    0  2    0    1    0  ...   3.0387   \n",
       "165049  67.086  99.645  0  0    0    0  0    0    0    0  ...  16.5090   \n",
       "\n",
       "         2.5603   19.982   3.4224   0.65202    11.224   17.637   13.384  \\\n",
       "0       12.8890  12.9520  13.5800  12.71600  18.90300   4.1787  14.1860   \n",
       "1       11.2110  18.5920  13.9330  11.65600  16.30800  17.5800  19.7780   \n",
       "2       10.4380   6.7170   3.5134   4.17890  18.10300  13.5080   9.3694   \n",
       "3        8.6497  13.8950  15.1620   8.65280  13.11000   2.1951  18.6750   \n",
       "4        8.3019   3.6148   5.1077   0.41072  18.47400  13.0740  18.6520   \n",
       "...         ...      ...      ...       ...       ...      ...      ...   \n",
       "165045   1.7126  10.6270   2.8560  15.63800   9.23850  18.0880   8.2509   \n",
       "165046  17.6210  19.4920  17.3060  13.36200  17.17000  16.5050   6.2800   \n",
       "165047   3.9217   5.9041   9.6410   6.64980   9.63600  11.6550   1.2757   \n",
       "165048   8.5976  15.4100   6.4145  11.26000  12.78100  12.2320   4.8781   \n",
       "165049   1.4823   8.5610  19.2580  17.48900   0.80468  12.8090  15.7470   \n",
       "\n",
       "           3.8087   7.3783  \n",
       "0        4.724600   2.3879  \n",
       "1        0.010448  17.3090  \n",
       "2       18.243000   2.0802  \n",
       "3        3.749200   5.3236  \n",
       "4        3.270200  18.4220  \n",
       "...           ...      ...  \n",
       "165045   8.147600   1.8027  \n",
       "165046   5.039000  14.1470  \n",
       "165047   1.162600   7.0210  \n",
       "165048  13.510000   5.4928  \n",
       "165049  17.762000  13.7110  \n",
       "\n",
       "[165050 rows x 123 columns]>"
      ]
     },
     "execution_count": 5,
     "metadata": {},
     "output_type": "execute_result"
    }
   ],
   "source": [
    "inputs.head"
   ]
  },
  {
   "cell_type": "code",
   "execution_count": 6,
   "metadata": {
    "colab": {
     "base_uri": "https://localhost:8080/",
     "height": 35
    },
    "id": "3K06d0z3YLHZ",
    "outputId": "2f18508a-5444-4967-a6c7-42e5cfdeb656"
   },
   "outputs": [
    {
     "data": {
      "text/plain": [
       "(165050, 80)"
      ]
     },
     "execution_count": 6,
     "metadata": {},
     "output_type": "execute_result"
    }
   ],
   "source": [
    "import io\n",
    "outputs = pd.read_csv(r'C:\\Users\\jyotib18\\OPS_Data\\2T20Ts5\\feasible_output_log.csv')\n",
    "# Dataset is now stored in a Pandas Dataframe\n",
    "outputs=outputs.dropna()\n",
    "outputs.shape"
   ]
  },
  {
   "cell_type": "code",
   "execution_count": 7,
   "metadata": {
    "colab": {
     "base_uri": "https://localhost:8080/",
     "height": 267
    },
    "id": "c_Y34U9Eo9RK",
    "outputId": "a0beb83e-4aeb-4f67-e98b-175ffcb61b9b"
   },
   "outputs": [
    {
     "data": {
      "text/plain": [
       "<bound method NDFrame.head of         0  0.1   -0  0.2    1  0.3  0.4  -0.1  0.5  0.6  ...  0.52  0.53  \\\n",
       "0       0 -0.0 -0.0 -0.0 -0.0 -0.0 -0.0  -0.0 -0.0  1.0  ...   0.0  -0.0   \n",
       "1       0  0.0  0.0  0.0  0.0  1.0  0.0   0.0  1.0  0.0  ...   0.0   0.0   \n",
       "2       1  0.0  0.0  0.0  0.0  0.0  1.0   0.0  0.0  1.0  ...   0.0   0.0   \n",
       "3       1  0.0  0.0 -0.0  1.0  0.0  0.0   0.0  0.0  0.0  ...   0.0   0.0   \n",
       "4       1 -0.0  1.0  0.0  0.0  0.0 -0.0  -0.0  0.0  0.0  ...   0.0   0.0   \n",
       "...    ..  ...  ...  ...  ...  ...  ...   ...  ...  ...  ...   ...   ...   \n",
       "165045  0  0.0  0.0  0.0  0.0  0.0  0.0   1.0  0.0  0.0  ...   0.0   1.0   \n",
       "165046  0  0.0  0.0  1.0  0.0  0.0  0.0   0.0  0.0  0.0  ...   0.0   0.0   \n",
       "165047  0  1.0 -0.0  0.0  1.0  0.0  1.0   0.0  0.0  1.0  ...   0.0  -0.0   \n",
       "165048  1  0.0 -0.0  0.0  0.0 -0.0  0.0   0.0  1.0  0.0  ...   0.0  -0.0   \n",
       "165049  0  0.0  0.0  0.0  0.0  1.0  0.0   0.0  0.0  1.0  ...   0.0   0.0   \n",
       "\n",
       "        0.54  -0.10  0.55  0.56  0.57  0.58  0.59  0.60  \n",
       "0       -0.0    0.0   0.0   0.0  -0.0   0.0   0.0     0  \n",
       "1        0.0    0.0   0.0   1.0   0.0   0.0   0.0     0  \n",
       "2       -0.0    0.0   0.0   0.0  -0.0   0.0   0.0     0  \n",
       "3        0.0    0.0   1.0   0.0   0.0   0.0   0.0     0  \n",
       "4        0.0    1.0   0.0   0.0   0.0   0.0   0.0     0  \n",
       "...      ...    ...   ...   ...   ...   ...   ...   ...  \n",
       "165045   0.0    0.0   0.0   0.0   0.0   1.0   0.0     0  \n",
       "165046   0.0    0.0   0.0   0.0   0.0   0.0   0.0     0  \n",
       "165047   0.0    0.0   0.0   1.0   0.0   0.0   0.0     0  \n",
       "165048   1.0    0.0   0.0   0.0   0.0   0.0   0.0     0  \n",
       "165049   0.0    0.0   0.0   1.0   0.0   0.0   0.0     0  \n",
       "\n",
       "[165050 rows x 80 columns]>"
      ]
     },
     "execution_count": 7,
     "metadata": {},
     "output_type": "execute_result"
    }
   ],
   "source": [
    "outputs.head"
   ]
  },
  {
   "cell_type": "code",
   "execution_count": 8,
   "metadata": {
    "colab": {
     "base_uri": "https://localhost:8080/",
     "height": 142
    },
    "id": "7Q5rdfEcYUpm",
    "outputId": "e1c8aace-b467-4903-93de-00041281f93e"
   },
   "outputs": [
    {
     "data": {
      "text/plain": [
       "array([[6.7644e+01, 9.8898e+01, 0.0000e+00, ..., 1.4186e+01, 4.7246e+00,\n",
       "        2.3879e+00],\n",
       "       [7.6438e+01, 6.7008e+01, 0.0000e+00, ..., 1.9778e+01, 1.0448e-02,\n",
       "        1.7309e+01],\n",
       "       [7.6754e+01, 9.9397e+01, 1.0000e+00, ..., 9.3694e+00, 1.8243e+01,\n",
       "        2.0802e+00],\n",
       "       ...,\n",
       "       [5.5991e+01, 8.8879e+01, 0.0000e+00, ..., 1.2757e+00, 1.1626e+00,\n",
       "        7.0210e+00],\n",
       "       [5.0792e+01, 6.7835e+01, 1.0000e+00, ..., 4.8781e+00, 1.3510e+01,\n",
       "        5.4928e+00],\n",
       "       [6.7086e+01, 9.9645e+01, 0.0000e+00, ..., 1.5747e+01, 1.7762e+01,\n",
       "        1.3711e+01]])"
      ]
     },
     "execution_count": 8,
     "metadata": {},
     "output_type": "execute_result"
    }
   ],
   "source": [
    "x = inputs.values #converting data frame to array frame\n",
    "x"
   ]
  },
  {
   "cell_type": "code",
   "execution_count": 9,
   "metadata": {
    "colab": {
     "base_uri": "https://localhost:8080/",
     "height": 35
    },
    "id": "u-1JFtEPZMI-",
    "outputId": "1a6530ce-97d3-43c1-e22d-afa1cc4cc523"
   },
   "outputs": [
    {
     "data": {
      "text/plain": [
       "pandas.core.frame.DataFrame"
      ]
     },
     "execution_count": 9,
     "metadata": {},
     "output_type": "execute_result"
    }
   ],
   "source": [
    "type(outputs)"
   ]
  },
  {
   "cell_type": "code",
   "execution_count": 10,
   "metadata": {
    "colab": {
     "base_uri": "https://localhost:8080/",
     "height": 142
    },
    "id": "ftCpb4JaZOCm",
    "outputId": "d1adf403-a25c-406b-af25-602b9fc6363a"
   },
   "outputs": [
    {
     "data": {
      "text/plain": [
       "array([[ 0., -0., -0., ...,  0.,  0.,  0.],\n",
       "       [ 0.,  0.,  0., ...,  0.,  0.,  0.],\n",
       "       [ 1.,  0.,  0., ...,  0.,  0.,  0.],\n",
       "       ...,\n",
       "       [ 0.,  1., -0., ...,  0.,  0.,  0.],\n",
       "       [ 1.,  0., -0., ...,  0.,  0.,  0.],\n",
       "       [ 0.,  0.,  0., ...,  0.,  0.,  0.]])"
      ]
     },
     "execution_count": 10,
     "metadata": {},
     "output_type": "execute_result"
    }
   ],
   "source": [
    "y = outputs.values # converting dataframe \"outputc\" in array form i.e. 'y' is now in array form \n",
    "y # y is combination of power assignments and channel assignments both."
   ]
  },
  {
   "cell_type": "code",
   "execution_count": 11,
   "metadata": {
    "colab": {
     "base_uri": "https://localhost:8080/",
     "height": 35
    },
    "id": "ChIBpH6HZQxg",
    "outputId": "18f59c85-a710-4dfa-997d-b35308e72991"
   },
   "outputs": [
    {
     "data": {
      "text/plain": [
       "(165050, 80)"
      ]
     },
     "execution_count": 11,
     "metadata": {},
     "output_type": "execute_result"
    }
   ],
   "source": [
    "y.shape"
   ]
  },
  {
   "cell_type": "code",
   "execution_count": 12,
   "metadata": {},
   "outputs": [
    {
     "data": {
      "text/plain": [
       "(165050, 123)"
      ]
     },
     "execution_count": 12,
     "metadata": {},
     "output_type": "execute_result"
    }
   ],
   "source": [
    "x.shape"
   ]
  },
  {
   "cell_type": "code",
   "execution_count": 13,
   "metadata": {
    "colab": {
     "base_uri": "https://localhost:8080/",
     "height": 35
    },
    "id": "abgDkl9qZTMj",
    "outputId": "2d246909-8eff-48b5-f5d5-2a3ac593b867"
   },
   "outputs": [
    {
     "data": {
      "text/plain": [
       "numpy.ndarray"
      ]
     },
     "execution_count": 13,
     "metadata": {},
     "output_type": "execute_result"
    }
   ],
   "source": [
    "type(y)"
   ]
  },
  {
   "cell_type": "code",
   "execution_count": 14,
   "metadata": {
    "colab": {
     "base_uri": "https://localhost:8080/",
     "height": 142
    },
    "id": "feOJ4F4eZVDY",
    "outputId": "50399f6d-8241-46ee-c374-b53b7e17226b"
   },
   "outputs": [],
   "source": [
    "#y[0]"
   ]
  },
  {
   "cell_type": "code",
   "execution_count": 15,
   "metadata": {
    "colab": {
     "base_uri": "https://localhost:8080/",
     "height": 71
    },
    "id": "kL_w5EAOZXE9",
    "outputId": "e61df404-dd57-44dd-ed66-5e1662d55204"
   },
   "outputs": [],
   "source": [
    "#y[0:50, 0] # First row and initial 50 columns of y "
   ]
  },
  {
   "cell_type": "code",
   "execution_count": 16,
   "metadata": {
    "id": "Jt2OQ-dMZZ1x"
   },
   "outputs": [],
   "source": [
    "# Splitting data for training and testing \n",
    "# Here both x and y are in array form (non-scaled)\n",
    "\n",
    "from sklearn.model_selection import train_test_split\n",
    "x_train, x_test, y_train, y_test = train_test_split(x, y, test_size=0.1, shuffle=False, random_state=42) # old\n",
    "#x_train, x_test, y_train, y_test = train_test_split(x, y, test_size=0.2, shuffle=True)"
   ]
  },
  {
   "cell_type": "code",
   "execution_count": 17,
   "metadata": {
    "id": "gBhAhKzuZehe"
   },
   "outputs": [],
   "source": [
    "# Feature Scaling\n",
    "from sklearn.preprocessing import StandardScaler\n",
    "sc = StandardScaler()\n",
    "x_train = sc.fit_transform(x_train)\n",
    "x_test = sc.transform(x_test)"
   ]
  },
  {
   "cell_type": "code",
   "execution_count": 18,
   "metadata": {},
   "outputs": [],
   "source": [
    "#Building neural network\n",
    "\n",
    "\n",
    "model = tf.keras.Sequential()\n",
    "\n",
    "model.add(Dense(20, input_dim=x.shape[1], kernel_initializer='random_normal')) # Input layer and 1st hidden layer\n",
    "model.add(LeakyReLU(alpha=0.1)) # Leaky Relu for 1st hidden layer\n",
    "model.add(BatchNormalization())\n",
    "\n",
    "\n",
    "model.add(Dense(100,  kernel_initializer='random_normal')) # 2nd Hidden layer\n",
    "model.add(LeakyReLU(alpha=0.1)) # Leaky Relu for 2nd hidden layer\n",
    "model.add(BatchNormalization())\n",
    "\n",
    "#model.add(BatchNormalization())\n",
    "\n",
    "model.add(Dense(40, kernel_initializer='random_normal')) # 3rd Hidden layer \n",
    "model.add(LeakyReLU(alpha=0.1)) # Leaky Relu for 3rd hidden layer\n",
    "model.add(BatchNormalization())\n",
    "\n",
    "model.add(Dense(60,  kernel_initializer='random_normal')) # 4th Hidden Layer \n",
    "model.add(LeakyReLU(alpha=0.1)) # Leaky Relu for 4th hidden layer\n",
    "model.add(BatchNormalization())\n",
    "\n",
    "model.add(Dense(80, kernel_initializer='random_normal')) # 5th Hidden Layer\n",
    "model.add(LeakyReLU(alpha=0.1)) # Leaky Relu for 5th hidden layer\n",
    "model.add(BatchNormalization())\n",
    "\n",
    "model.add(Dense(100, kernel_initializer='random_normal')) # 6th Hidden layer\n",
    "model.add(LeakyReLU(alpha=0.1)) # Leaky Relu for 6th hidden layer\n",
    "model.add(BatchNormalization())\n",
    "\n",
    "model.add(Dense(80, kernel_initializer='random_normal')) # 7th Hidden Layer \n",
    "model.add(LeakyReLU(alpha=0.1)) # Leaky Relu for 4th hidden layer\n",
    "model.add(BatchNormalization())\n",
    "\n",
    "\n",
    "model.add(Dense(60, kernel_initializer='random_normal')) # 7th Hidden Layer \n",
    "model.add(LeakyReLU(alpha=0.1)) # Leaky Relu for 4th hidden layer\n",
    "model.add(BatchNormalization())\n",
    "\n",
    "model.add(Dense(40, kernel_initializer='random_normal')) # 7th Hidden Layer \n",
    "model.add(LeakyReLU(alpha=0.1)) # Leaky Relu for 4th hidden layer\n",
    "model.add(BatchNormalization())\n",
    "\n",
    "\n",
    "\n",
    "model.add(Dense(y.shape[1], activation='sigmoid', kernel_initializer='random_normal')) # Output Layer "
   ]
  },
  {
   "cell_type": "code",
   "execution_count": 19,
   "metadata": {},
   "outputs": [
    {
     "data": {
      "text/plain": [
       "123"
      ]
     },
     "execution_count": 19,
     "metadata": {},
     "output_type": "execute_result"
    }
   ],
   "source": [
    "x.shape[1]"
   ]
  },
  {
   "cell_type": "code",
   "execution_count": 20,
   "metadata": {
    "id": "xhwu9nzjaVYA"
   },
   "outputs": [
    {
     "data": {
      "text/plain": [
       "\"\\nfrom tensorflow.keras.callbacks import EarlyStopping\\nbce = tf.keras.losses.BinaryCrossentropy(reduction=tf.keras.losses.Reduction.NONE)\\n\\nmodel.compile(loss=bce, optimizer=keras.optimizers.Adam(), metrics=['accuracy'])\\n\\n#model.compile(optimizer='ADAM', loss= 'mean_squared_error' , metrics = ['accuracy']) \\n\\nmonitor = EarlyStopping(monitor='val_loss', min_delta=0.00001, patience=10, \\n                        verbose=1, mode='max', restore_best_weights=True)\\n\""
      ]
     },
     "execution_count": 20,
     "metadata": {},
     "output_type": "execute_result"
    }
   ],
   "source": [
    "# Compiling Neural network\n",
    "'''\n",
    "from tensorflow.keras.callbacks import EarlyStopping\n",
    "bce = tf.keras.losses.BinaryCrossentropy(reduction=tf.keras.losses.Reduction.NONE)\n",
    "\n",
    "model.compile(loss=bce, optimizer=keras.optimizers.Adam(), metrics=['accuracy'])\n",
    "\n",
    "#model.compile(optimizer='ADAM', loss= 'mean_squared_error' , metrics = ['accuracy']) \n",
    "\n",
    "monitor = EarlyStopping(monitor='val_loss', min_delta=0.00001, patience=10, \n",
    "                        verbose=1, mode='max', restore_best_weights=True)\n",
    "'''"
   ]
  },
  {
   "cell_type": "code",
   "execution_count": 21,
   "metadata": {},
   "outputs": [],
   "source": [
    "from tensorflow.keras.callbacks import LearningRateScheduler\n",
    "lrs = LearningRateScheduler(lambda x: 0.001)"
   ]
  },
  {
   "cell_type": "code",
   "execution_count": 22,
   "metadata": {},
   "outputs": [],
   "source": [
    "from tensorflow.keras.callbacks import EarlyStopping\n",
    "model.compile(optimizer='adam', loss=tf.keras.losses.BinaryCrossentropy(), metrics = ['mean_absolute_error']) \n",
    "#model.compile(optimizer='ADAM', loss='mean_squared_error', metrics = ['mean_absolute_error']) \n",
    "monitor = EarlyStopping(monitor='val_loss', min_delta=0.0001, patience=10, \n",
    "                        verbose=1, mode='auto', restore_best_weights=True)"
   ]
  },
  {
   "cell_type": "code",
   "execution_count": 23,
   "metadata": {
    "colab": {
     "base_uri": "https://localhost:8080/",
     "height": 1000
    },
    "id": "sUm7vYpNaZhk",
    "outputId": "bb1cd85f-4a22-4777-8674-4e053a532b6e"
   },
   "outputs": [
    {
     "name": "stdout",
     "output_type": "stream",
     "text": [
      "Train on 148545 samples, validate on 16505 samples\n",
      "Epoch 1/1000\n",
      "148545/148545 - 5s - loss: 0.4401 - mean_absolute_error: 0.3127 - val_loss: 0.3024 - val_mean_absolute_error: 0.1804\n",
      "Epoch 2/1000\n",
      "148545/148545 - 3s - loss: 0.2706 - mean_absolute_error: 0.1592 - val_loss: 0.2576 - val_mean_absolute_error: 0.1471\n",
      "Epoch 3/1000\n",
      "148545/148545 - 3s - loss: 0.2470 - mean_absolute_error: 0.1444 - val_loss: 0.2436 - val_mean_absolute_error: 0.1390\n",
      "Epoch 4/1000\n",
      "148545/148545 - 3s - loss: 0.2383 - mean_absolute_error: 0.1393 - val_loss: 0.2368 - val_mean_absolute_error: 0.1368\n",
      "Epoch 5/1000\n",
      "148545/148545 - 3s - loss: 0.2320 - mean_absolute_error: 0.1361 - val_loss: 0.2296 - val_mean_absolute_error: 0.1314\n",
      "Epoch 6/1000\n",
      "148545/148545 - 3s - loss: 0.2261 - mean_absolute_error: 0.1334 - val_loss: 0.2264 - val_mean_absolute_error: 0.1335\n",
      "Epoch 7/1000\n",
      "148545/148545 - 3s - loss: 0.2210 - mean_absolute_error: 0.1311 - val_loss: 0.2221 - val_mean_absolute_error: 0.1310\n",
      "Epoch 8/1000\n",
      "148545/148545 - 3s - loss: 0.2176 - mean_absolute_error: 0.1295 - val_loss: 0.2199 - val_mean_absolute_error: 0.1314\n",
      "Epoch 9/1000\n",
      "148545/148545 - 3s - loss: 0.2152 - mean_absolute_error: 0.1283 - val_loss: 0.2158 - val_mean_absolute_error: 0.1288\n",
      "Epoch 10/1000\n",
      "148545/148545 - 3s - loss: 0.2137 - mean_absolute_error: 0.1277 - val_loss: 0.2137 - val_mean_absolute_error: 0.1269\n",
      "Epoch 11/1000\n",
      "148545/148545 - 3s - loss: 0.2124 - mean_absolute_error: 0.1272 - val_loss: 0.2126 - val_mean_absolute_error: 0.1251\n",
      "Epoch 12/1000\n",
      "148545/148545 - 3s - loss: 0.2111 - mean_absolute_error: 0.1266 - val_loss: 0.2110 - val_mean_absolute_error: 0.1246\n",
      "Epoch 13/1000\n",
      "148545/148545 - 3s - loss: 0.2098 - mean_absolute_error: 0.1260 - val_loss: 0.2100 - val_mean_absolute_error: 0.1269\n",
      "Epoch 14/1000\n",
      "148545/148545 - 3s - loss: 0.2090 - mean_absolute_error: 0.1256 - val_loss: 0.2090 - val_mean_absolute_error: 0.1255\n",
      "Epoch 15/1000\n",
      "148545/148545 - 3s - loss: 0.2083 - mean_absolute_error: 0.1254 - val_loss: 0.2083 - val_mean_absolute_error: 0.1260\n",
      "Epoch 16/1000\n",
      "148545/148545 - 3s - loss: 0.2077 - mean_absolute_error: 0.1251 - val_loss: 0.2075 - val_mean_absolute_error: 0.1258\n",
      "Epoch 17/1000\n",
      "148545/148545 - 3s - loss: 0.2073 - mean_absolute_error: 0.1250 - val_loss: 0.2072 - val_mean_absolute_error: 0.1262\n",
      "Epoch 18/1000\n",
      "148545/148545 - 3s - loss: 0.2069 - mean_absolute_error: 0.1248 - val_loss: 0.2068 - val_mean_absolute_error: 0.1234\n",
      "Epoch 19/1000\n",
      "148545/148545 - 3s - loss: 0.2065 - mean_absolute_error: 0.1247 - val_loss: 0.2068 - val_mean_absolute_error: 0.1257\n",
      "Epoch 20/1000\n",
      "148545/148545 - 3s - loss: 0.2061 - mean_absolute_error: 0.1245 - val_loss: 0.2067 - val_mean_absolute_error: 0.1206\n",
      "Epoch 21/1000\n",
      "148545/148545 - 3s - loss: 0.2059 - mean_absolute_error: 0.1244 - val_loss: 0.2059 - val_mean_absolute_error: 0.1242\n",
      "Epoch 22/1000\n",
      "148545/148545 - 3s - loss: 0.2056 - mean_absolute_error: 0.1243 - val_loss: 0.2055 - val_mean_absolute_error: 0.1229\n",
      "Epoch 23/1000\n",
      "148545/148545 - 3s - loss: 0.2054 - mean_absolute_error: 0.1242 - val_loss: 0.2054 - val_mean_absolute_error: 0.1241\n",
      "Epoch 24/1000\n",
      "148545/148545 - 3s - loss: 0.2050 - mean_absolute_error: 0.1241 - val_loss: 0.2054 - val_mean_absolute_error: 0.1240\n",
      "Epoch 25/1000\n",
      "148545/148545 - 3s - loss: 0.2050 - mean_absolute_error: 0.1241 - val_loss: 0.2049 - val_mean_absolute_error: 0.1239\n",
      "Epoch 26/1000\n",
      "148545/148545 - 3s - loss: 0.2048 - mean_absolute_error: 0.1240 - val_loss: 0.2049 - val_mean_absolute_error: 0.1241\n",
      "Epoch 27/1000\n",
      "148545/148545 - 3s - loss: 0.2047 - mean_absolute_error: 0.1240 - val_loss: 0.2051 - val_mean_absolute_error: 0.1239\n",
      "Epoch 28/1000\n",
      "148545/148545 - 3s - loss: 0.2044 - mean_absolute_error: 0.1239 - val_loss: 0.2044 - val_mean_absolute_error: 0.1222\n",
      "Epoch 29/1000\n",
      "148545/148545 - 3s - loss: 0.2042 - mean_absolute_error: 0.1239 - val_loss: 0.2045 - val_mean_absolute_error: 0.1232\n",
      "Epoch 30/1000\n",
      "148545/148545 - 3s - loss: 0.2041 - mean_absolute_error: 0.1238 - val_loss: 0.2043 - val_mean_absolute_error: 0.1247\n",
      "Epoch 31/1000\n",
      "148545/148545 - 3s - loss: 0.2039 - mean_absolute_error: 0.1237 - val_loss: 0.2040 - val_mean_absolute_error: 0.1235\n",
      "Epoch 32/1000\n",
      "148545/148545 - 3s - loss: 0.2038 - mean_absolute_error: 0.1237 - val_loss: 0.2046 - val_mean_absolute_error: 0.1251\n",
      "Epoch 33/1000\n",
      "148545/148545 - 3s - loss: 0.2037 - mean_absolute_error: 0.1237 - val_loss: 0.2037 - val_mean_absolute_error: 0.1220\n",
      "Epoch 34/1000\n",
      "148545/148545 - 3s - loss: 0.2035 - mean_absolute_error: 0.1236 - val_loss: 0.2037 - val_mean_absolute_error: 0.1241\n",
      "Epoch 35/1000\n",
      "148545/148545 - 3s - loss: 0.2034 - mean_absolute_error: 0.1236 - val_loss: 0.2037 - val_mean_absolute_error: 0.1212\n",
      "Epoch 36/1000\n",
      "148545/148545 - 3s - loss: 0.2034 - mean_absolute_error: 0.1236 - val_loss: 0.2039 - val_mean_absolute_error: 0.1248\n",
      "Epoch 37/1000\n",
      "148545/148545 - 3s - loss: 0.2031 - mean_absolute_error: 0.1235 - val_loss: 0.2035 - val_mean_absolute_error: 0.1209\n",
      "Epoch 38/1000\n",
      "148545/148545 - 3s - loss: 0.2030 - mean_absolute_error: 0.1234 - val_loss: 0.2031 - val_mean_absolute_error: 0.1216\n",
      "Epoch 39/1000\n",
      "148545/148545 - 3s - loss: 0.2028 - mean_absolute_error: 0.1233 - val_loss: 0.2033 - val_mean_absolute_error: 0.1219\n",
      "Epoch 40/1000\n",
      "148545/148545 - 3s - loss: 0.2027 - mean_absolute_error: 0.1233 - val_loss: 0.2034 - val_mean_absolute_error: 0.1195\n",
      "Epoch 41/1000\n",
      "148545/148545 - 3s - loss: 0.2026 - mean_absolute_error: 0.1233 - val_loss: 0.2029 - val_mean_absolute_error: 0.1224\n",
      "Epoch 42/1000\n",
      "148545/148545 - 3s - loss: 0.2025 - mean_absolute_error: 0.1232 - val_loss: 0.2025 - val_mean_absolute_error: 0.1233\n",
      "Epoch 43/1000\n",
      "148545/148545 - 3s - loss: 0.2024 - mean_absolute_error: 0.1231 - val_loss: 0.2032 - val_mean_absolute_error: 0.1254\n",
      "Epoch 44/1000\n",
      "148545/148545 - 3s - loss: 0.2023 - mean_absolute_error: 0.1232 - val_loss: 0.2024 - val_mean_absolute_error: 0.1227\n",
      "Epoch 45/1000\n",
      "148545/148545 - 3s - loss: 0.2022 - mean_absolute_error: 0.1231 - val_loss: 0.2024 - val_mean_absolute_error: 0.1226\n",
      "Epoch 46/1000\n",
      "148545/148545 - 3s - loss: 0.2022 - mean_absolute_error: 0.1231 - val_loss: 0.2022 - val_mean_absolute_error: 0.1211\n",
      "Epoch 47/1000\n",
      "148545/148545 - 3s - loss: 0.2020 - mean_absolute_error: 0.1230 - val_loss: 0.2023 - val_mean_absolute_error: 0.1243\n",
      "Epoch 48/1000\n",
      "148545/148545 - 3s - loss: 0.2020 - mean_absolute_error: 0.1230 - val_loss: 0.2018 - val_mean_absolute_error: 0.1225\n",
      "Epoch 49/1000\n",
      "148545/148545 - 3s - loss: 0.2019 - mean_absolute_error: 0.1230 - val_loss: 0.2021 - val_mean_absolute_error: 0.1250\n",
      "Epoch 50/1000\n",
      "148545/148545 - 3s - loss: 0.2019 - mean_absolute_error: 0.1230 - val_loss: 0.2020 - val_mean_absolute_error: 0.1229\n",
      "Epoch 51/1000\n",
      "148545/148545 - 3s - loss: 0.2018 - mean_absolute_error: 0.1229 - val_loss: 0.2020 - val_mean_absolute_error: 0.1223\n",
      "Epoch 52/1000\n",
      "148545/148545 - 3s - loss: 0.2017 - mean_absolute_error: 0.1228 - val_loss: 0.2019 - val_mean_absolute_error: 0.1205\n",
      "Epoch 53/1000\n",
      "148545/148545 - 3s - loss: 0.2017 - mean_absolute_error: 0.1228 - val_loss: 0.2020 - val_mean_absolute_error: 0.1246\n",
      "Epoch 54/1000\n",
      "148545/148545 - 3s - loss: 0.2016 - mean_absolute_error: 0.1228 - val_loss: 0.2015 - val_mean_absolute_error: 0.1214\n",
      "Epoch 55/1000\n",
      "148545/148545 - 3s - loss: 0.2015 - mean_absolute_error: 0.1228 - val_loss: 0.2023 - val_mean_absolute_error: 0.1251\n",
      "Epoch 56/1000\n",
      "148545/148545 - 3s - loss: 0.2015 - mean_absolute_error: 0.1228 - val_loss: 0.2018 - val_mean_absolute_error: 0.1216\n",
      "Epoch 57/1000\n",
      "148545/148545 - 3s - loss: 0.2015 - mean_absolute_error: 0.1228 - val_loss: 0.2018 - val_mean_absolute_error: 0.1233\n",
      "Epoch 58/1000\n",
      "148545/148545 - 3s - loss: 0.2015 - mean_absolute_error: 0.1228 - val_loss: 0.2017 - val_mean_absolute_error: 0.1236\n",
      "Epoch 59/1000\n",
      "148545/148545 - 3s - loss: 0.2013 - mean_absolute_error: 0.1227 - val_loss: 0.2016 - val_mean_absolute_error: 0.1230\n",
      "Epoch 60/1000\n",
      "148545/148545 - 3s - loss: 0.2014 - mean_absolute_error: 0.1227 - val_loss: 0.2015 - val_mean_absolute_error: 0.1235\n",
      "Epoch 61/1000\n",
      "148545/148545 - 3s - loss: 0.2012 - mean_absolute_error: 0.1227 - val_loss: 0.2017 - val_mean_absolute_error: 0.1214\n",
      "Epoch 62/1000\n",
      "148545/148545 - 3s - loss: 0.2013 - mean_absolute_error: 0.1227 - val_loss: 0.2017 - val_mean_absolute_error: 0.1213\n",
      "Epoch 63/1000\n",
      "148545/148545 - 2s - loss: 0.2012 - mean_absolute_error: 0.1226 - val_loss: 0.2021 - val_mean_absolute_error: 0.1214\n"
     ]
    },
    {
     "name": "stdout",
     "output_type": "stream",
     "text": [
      "Epoch 64/1000\n",
      "Restoring model weights from the end of the best epoch.\n",
      "148545/148545 - 3s - loss: 0.2011 - mean_absolute_error: 0.1226 - val_loss: 0.2014 - val_mean_absolute_error: 0.1230\n",
      "Epoch 00064: early stopping\n"
     ]
    }
   ],
   "source": [
    "# Fitting Neural network to training set\n",
    "\n",
    "model_history=model.fit(x_train, y_train, validation_data=(x_test, y_test), batch_size=512, verbose=2, callbacks=[monitor, lrs], epochs=1000)"
   ]
  },
  {
   "cell_type": "code",
   "execution_count": null,
   "metadata": {},
   "outputs": [],
   "source": []
  },
  {
   "cell_type": "code",
   "execution_count": 24,
   "metadata": {
    "colab": {
     "base_uri": "https://localhost:8080/",
     "height": 142
    },
    "id": "AT8SOvaeap0x",
    "outputId": "c1eec1b2-94c5-4a80-bc87-7ed372b14acf"
   },
   "outputs": [
    {
     "data": {
      "text/plain": [
       "array([[ 0., -0., -0., ...,  0.,  0.,  0.],\n",
       "       [ 0.,  0.,  0., ...,  0.,  0.,  0.],\n",
       "       [ 1.,  0.,  0., ...,  0.,  0.,  0.],\n",
       "       ...,\n",
       "       [ 0.,  0.,  0., ...,  0.,  0.,  0.],\n",
       "       [ 1.,  0.,  0., ...,  0.,  0.,  0.],\n",
       "       [ 0.,  0.,  0., ...,  0.,  0.,  0.]])"
      ]
     },
     "execution_count": 24,
     "metadata": {},
     "output_type": "execute_result"
    }
   ],
   "source": [
    "y_train"
   ]
  },
  {
   "cell_type": "code",
   "execution_count": 25,
   "metadata": {},
   "outputs": [
    {
     "data": {
      "text/plain": [
       "array([[ 0.,  0.,  0., ...,  0.,  0.,  0.],\n",
       "       [ 0., -0.,  0., ...,  0., -0.,  0.],\n",
       "       [ 0.,  1.,  0., ...,  0.,  0.,  0.],\n",
       "       ...,\n",
       "       [ 0.,  1., -0., ...,  0.,  0.,  0.],\n",
       "       [ 1.,  0., -0., ...,  0.,  0.,  0.],\n",
       "       [ 0.,  0.,  0., ...,  0.,  0.,  0.]])"
      ]
     },
     "execution_count": 25,
     "metadata": {},
     "output_type": "execute_result"
    }
   ],
   "source": [
    "y_test = np.asarray(y_test)\n",
    "x_test = np.asarray(x_test)\n",
    "y_test\n"
   ]
  },
  {
   "cell_type": "code",
   "execution_count": 26,
   "metadata": {},
   "outputs": [
    {
     "data": {
      "text/plain": [
       "(16505, 80)"
      ]
     },
     "execution_count": 26,
     "metadata": {},
     "output_type": "execute_result"
    }
   ],
   "source": [
    "y_test.shape"
   ]
  },
  {
   "cell_type": "code",
   "execution_count": 27,
   "metadata": {
    "colab": {
     "base_uri": "https://localhost:8080/",
     "height": 53
    },
    "id": "jnvop5zhare2",
    "outputId": "f9e033be-f657-4367-e93a-750eee9cc444"
   },
   "outputs": [
    {
     "name": "stdout",
     "output_type": "stream",
     "text": [
      "\r",
      "16505/1 [==============================================================================================================================================================================================================================================================================================================================================================================================================================================================================================================================================================================================================================================================================================================================================================================================================================================================================================================================================================================================================================================================================================================================================================================================================================================================================================================================================================================================================================================================================================================================================================================================================================================================================================================================================================================================================================================================================================================================================================================================================================================================================================================================================================================================================================================================================================================================================================================================================================================================================================================================================================================================================================================================================================================================================================================================================================================================================================================================================================================================================================================================================================================================================================================================================================================================================================================================================================================================================================================================================================================================================================================================================================================================================================================================================================================================================================================================================================================================================================================================================================================================================================================================================================================================================================================================================================================================================================================================================================================================================================================================================================================================================================================================================================================================================================================================================================================================================================================================================================================================================================================================================================================================================================================================================================================================================================================================================================================================================================================================================================================================================================================================================================================================================================================================================================================================================================================================================================================================================================================================================================================================================================================================================================================================================================================================================================================================================================================================================================================================================================================================================================================================================================================================================================================================================================================================================================================================================================================================================================================================================================================================================================================================================================================================================================================================================================================================================================================================================================================================================================================================================================================================================================================================================================================================================================================================================================================================================================================================================================================================================================================================================================================================================================================================================================================================================================================================================================================================================================================================================================================================================================================================================================================================================================================================================================================================================================================================================================================================================================================================================================================================================================================================================================================================================================================================================================================================================================================================================================================================================================================================================================================================================================================================================================================================================================================================================================================================================================================================================================================================================================================================================================================================================================================================================================================================================================================================================================================================================================================================================================================================================================================================================================================================================================================================================================================================================================================================================================================================================================================================================================================================================================================================================================================================================================================================================================================================================================================================================================================================================================================================================================================================================================================================================================================================================================================================================================================================================================================================================================================================================================================================================================================================================================================================================================================================================================================================================================================================================================================================================================================================================================================================================================================================================================================================================================================================================================================================================================================================================================================================================================================================================================================================================================================================================================================================================================================================================================================================================================================================================================================================================================================================================================================================================================================================================================================================================================================================================================================================================================================================================================================================================================================================================================================================================================================================================================================================================================================================================================================================================================================================================================================================================================================================================================================================================================================================================================================================================================================================================================================================================================================================================================================================================================================================================================================================================================================================================================================================================================================================================================================================================================================================================================================================================================================================================================================================================================================================================================================================================================================================================================================================================================================================================================================================================================================================================================================================================================================================================================================================================================================================================================================================================================================================================================================================================================================================================================================================================================================================================================================================================================================================================================================================================================================================================================================================================================================================================================================================================================================================================================================================================================================================================================================================================================================================================================================================================================================================================================================================================================================================================================================================================================================================================================================================================================================================================================================================================================================================================================================================================================================================================================================================================================================================================================================================================================================================================================================================================================================================================================================================================================================================================================================================================================================================================================================================================================================================================================================================================================================================================================================================================================================================================================================================================================================================================================================================================================================================================================================================================================================================================================================================================================================================================================================================================================================================================================================================================================================================================================================================================================================================================================================================================================================================================================================================================================================================================================================================================================================================================================================================================================================================================================================================================================================================================================================================================================================================================================================================================================================================================================================================================================================================================================================================================================================================================================================================================================================================================================================================================================================================================================================================================================================================================================================================================================================================================================================================================================================================================================================================================================================================================================================================================================================================================================================================================================================================================================================================================================================================================================================================================================================================================================================================================================================================================================================================================================================================================================================================================================================================================================================================================================================================================================================================================================================================================================================================================================================================================================================================================================================================================================================================================================================================================================================================================================================================================================================================================================================================================================================================================================================================================================================================================================================================================================================================================================================================================================================================================================================================================================================================================================================================================================================================================================================================================================================================================================================================================================================================================================================================================================================================================================================================================================================================================================================================================================================================================================================================================================================================================================================================================================================================================================================================================================================================================================================================================================================================================================================================================================================================================================================================================================================================================================================================================================================================================================================================================================================================================================================================================================================================================================================================================================================================================================================================================================================================================================================================================================================================================================================================================================================================================================================================================================================================================================================================================================================================================================================================================================================================================================================================================================================================================================================================================================================================================================================================================================================================================================================================================================================================================================================================================================================================================================================================================================================================================================================================================================================================================================================================================================================================================================================================================================================================================================================================================================================================================================================================================================================================================================================================================================================================================================================================================================================================================================================================================================================================================================================================================================================================================================================================================================================================================================================================================================================================================================================================================================================================================================================================================================================================================================================================================================================================================================================================================================================================================================================================================================================================================================================================================================================================================================================================================================================================================================================================================================================================================================================================================================================================================================================================================================================================================================================================================================================================================================================================================================================================================================================================================================================================================================================================================================================================================================================================================================================================================================================================================================================================================================================================================================================================================================================================================================================================================================================================================================================================================================================================================================================================================================================================================================================================================================================================================================================================================================================================================================================================================================================================================================================================================================================================================================================================================================================================================================================================================================================================================================================================================================================================================================================================================================================================================================================================================================================================================================================================================================================================================================================================================================================================================================================================================================================================================================================================================================================================================================================================================================================================================================================================================================================================================================================================================================================================================================================================================================================================================================================================================================================================================================================================================================================================================================================================================================================================================================================================================================================================================================================================================================================================================================================================================================================================================================================================================================================================================================================================================================================================================================================================================================================================================================================================================================================================================================================================================================================================================================================================================================================================================================================================================================================================================================================================================================================================================================================================================================================================================================================================================================================================================================================================================================================================================================================================================================================================================================================================================================================================================================================================================================================================================================================================================================================================================================================================================================================================================================================================================================================================================================================================================================================================================================================================================================================================================================================================================================================================================================================================================================================================================================================================================================================================================================================================================================================================================================================================================================================================================================================================================================================================================================================================================================================================================================================================================================================================================================================================================================================================================================================================================================================================================================================================================================================================================================================================================================================================================================================================================================================================================================================================================================================================================================================================================================================================================================================================================================================================================================================================================================================================================================================================================================================================================================================================================================================================================================================================================================================================================================================================================================================================================================================================================================================================================================================================================================================================================================================================================================================================================================================================================================================================================================================================================================================================================================================================================================================================================================================================================================================================================================================================================================================================================================================================================================================================================================================================================================================================================================================================================================================================================================================================================================================================================================================================================================================================================================================================================================================================================================================================================================================================================================================================================================================================================================================================================================================================================================================================================================================================================================================================================================================================================================================================================================================================================================================================================================================================================================================================================================================================================================================================================================================================================================================================================================================================================================================================================================================================================================================================================================================================================================================================================================================================================================================================================================================================================================================================================================================================================================================================================================================================================================================================================================================================================================================================================================================================================================================================================================================================================================================================================================================================================================================================================================================================================================================================================================================================================================================================================================================================================================================================================================================================================================================================================================================================================================================================================================================================================================================================================================================================================================================================================================================================================================================================================================================================================================================================================================================================================================================================================================================================================================================================================================================================================================================================================================================================================================================================================================================================================================================================================================================================================================================================================================================================================================================================================================================================================================================================================================================================================================================================================================================================================================================================================================================================================================================================================================================================================================================================================================================================================================================================================================================================================================================================================================================================================================================================================================================================================================================================================================================================================================================================================================================================================================================================================================================================================================================================================================================================================================================================================================================================================================================================================================================================================================================================================================================================================================================================================================================================================================================================================================================================================================================================================================================================================================================================================================================================================================================================================================================================================================================================================================================================================================================================================================================================================================================================================================================================================================================================================================================================================================================================================================================================================================================================================================================================================================================================================================================================================================================================================================================================================================================================================================================================================================================================================================================================================================================================================================================================================================================================================================================================================================================================================================================================================================================================================================================================================================================================================================================================================================================================================================================================================================================================================================================================================================================================================================================================================================================================================================================================================================================================================================================================================================================================================================================================================================================================================================================================================================================================================================================================================================================================================================================================================================================================================================================================================================================================================================================================================================================================================================================================================================================================================================================================================================================================================================================================================================================================================================================================================================================================================================================================================================================================================================================================================================================================================================================================================================================================================================================================================================================================================================================================================================================================================================================================================================================================================================================================================================================================================================================================================================================================================================================================================================================================================================================================================================================================================================================================================================================================================================================================================================================================================================================================================================================================================================================================================================================================================================================================================================================================================================================================================================================================================================================================================================================================================================================================================================================================================================================================================================================================================================================================================================================================================================================================================================================================================================================================================================================================================================================================================================================================================================================================================================================================================================================================================================================================================================================================================================================================================================================================================================================================================================================================================================================================================================================================================================================================================================================================================================================================================================================================================================================================================================================================================================================================================================================================================================================================================================================================================================================================================================================================================================================================================================================================================================================================================================================================================================================================================================================================================================================================================================================================================================================================================================================================================================================================================================================================================================================================================================================================================================================================================================================================================================================================================================================================================================================================================================================================================================================================================================================================================================================================================================================================================================================================================================================================================================================================================================================================================================================================================================================================================================================================================================================================================================================================================================================================================================================================================================================================================================================================================================================================================================================================================================================================================================================================================================================================================================================================================================================================================================================================================================================================================================================================================================================================================================================================================================================================================================================================================================================================================================================================================================================================================================================================================================================================================================================================================================================================================================================================================================================================================================================================================================================================================================================================================================================================================================================================================================================================================================================================================================================================================================================================================================================================================================================================================================================================================================================================================================================================================================================================================================================================================================================================================================================================================================================================================================================================================================================================================================================================================================================================================================================================================================================================================================================================================================================================================================================================================================================================================================================================================================================================================================================================================================================================================================================================================================================================================================================================================================================================================================================================================================================================================================================================================================================================================================================================================================================================================================================================================================================================================================================================================================================================================================================================================================================================================================================================================================================================================================================================================================================================================================================================================================================================================================================================================================================================================================================================================================================================================================================================================================================================================================================================================================================================================================================================================================================================================================================================================================================================================================================================================================================================================================================================================================================================================================================================================================================================================================================================================================================================================================================================================================================================================================================================================================================================================================================================================================================================================================================================================================================================================================================================================================================================================================================================================================================================================================================================================================================================================================================================================================================================================================================================================================================================================================================================================================================================================================================================================================================================================================================================================================================================================================================================================================================================================================================================================================================================================================================================================================================================================================================================================================================================================================================================================================================================================================================================================================================================================================================================================================================================================================================================================================================================================================================================================================================================================================================================================================================================================================================================================================================================================================================================================================================================================================================================================================================================================================================================================================================================================================================================================================================================================================================================================================================================================================================================================================================================================================================================================================================================================================================================================================================================================================================================================================================================================================================================================================================================================================================================================================================================================================================================================================================================================================================================================================================================================================================================================================================================================================================================================================================================================================================================================================================================================================================================================================================================================================================================================================================================================================================================================================================================================================================================================================================================================================================================================================================================================================================================================================================================================================================================================================================================================================================================================================================================================================================================================================================================================================================================================================================================================================================================================================================================================================================================================================================================================================================================================================================================================================================================================================================================================================================================================================================================================================================================================================================================================================================================================================================================================================================================================================================================================================================================================================================================================================================================================================================================================================================================================================================================================================================================================================================================================================================================================================================================================================================================================================================================================================================================================================================================================================================================================================================================================================================================================================================================================================================================================================================================================================================================================================================================================================================================================================================================================================================================================================================================================================================================================================================================================================================================================================================================================================================================================================================================================================================================================================================================================================================================================================================================================================================================================================================================================================================================================================================================================================================================================================================================================================================================================================================================================================================================================================================================================================================================================================================================================================================================================================================================================================================================================================================================================================================================================================================================================================================================================================================================================================================================================================================================================================================================================================================================================================================================================================================================================================================================================================================================================================================================================================================================================================================================================================================================================================================================================================================================================================================================================================================================================================================================================================================================================================================================================================================================================================================================================================================================================================================================================================================================================================================================================================================================================================================================================================================================================================================================================================================================================================================================================================================================================================================================================================================================================================================================================================================================================================================================================================================================================================================================================================================================================================================================================================================================================================================================================================================================================================================================================================================================================================================================================================================================================================================================================================================================================================================================================================================================================================================================================================================================================================================================================================================================================================================================================================================================================================================================================================================================================================================================================================================================================================================================================================================================================================================================================================================================================================================================================================================================================================================================================================================================================================================================================================================================================================================================================================================================================================================================================================================================================================================================================================================================================================================================================================================================================================================================================================================================================================================================================================================================================================================================================================================================================================================================================================================================================================================================================================================================================================================================================================================================================================================================================================================================================================================================================================================================================================================================================================================================================================================================================================================================================================================================================================================================================================================================================================================================================================================================================================================================================================================================================================================================================================================================================================================================================================================================================================================================================================================================================================================================================================================================================================================================================================================================================================================================================================================================================================================================================================================================================================================================================================================================================================================================================================================================================================================================================================================================================================================================================================================================================================================================================================================================================================================================================================================================================================================================================================================================================================================================================================================================================================================================================================================================================================================================================================================================================================================================================================================================================================================================================================================================================================================================================================================================================================================================================================================================================================================================================================================================================================================================================================================================================================================================================================================================================================================================================================================================================================================================================================================================================================================================================================================================================================================================================================================================================================================================================================================================================================================================================================================================================================================================================================================================================================================================================================================================================================================================================================================================================================================================================================================================================================================================================================================================================================================================================================================================================================================================================================================================================================================================================================================================================================================================================================================================================================================================================================================================================================================================================================================================================================================================================================================================================================================================================================================================================================================================================================================================================================================================================================================================================================================================================================================================================================================================================================================================================================================================================================================================================================================================================================================================================================================================================================================================================================================================================================================================================================================================================================================================================================================================================================================================================================================================================================================================================================================================================================================================================================================================================================================================================================================================================================================================================================================================================================================================================================================================================================================================================================================================================================================================================================================================================================================================================================================================================================================================================================================================================================================================================================================================================================================================================================================================================================================================================================================================================================================================================================================================================================================================================================================================================================================================================================================================================================================================================================================================================================================================================================================================================================================================================================================================================================================================================================================================================================================================================================================================================================================================================================================================================================================================================================================================================================================================================================================================================================================================================================================================================================================================================================================================================================================================================================================================================================================================================================================================================================================================================================================================================================================================================================================================================================================================================================================================================================================================================================================================================================================================================================================================================================================================================================================================================================================================================================================================================================================================================================================================================================================================================================================================================================================================================================================================================================================================================================================================================================================================================================================================================================================================================================================================================================================================================================================================================================================================================================================================================================================================================================================================================================================================================================================================================================================================================================================================================================================================================================================================================================================================================================================================================================================================================================================================================================================================================================================================================================================================================================================================================================================================================================================================================================================================================================================================================================================================================================================================================================================================================================================================================================================================================================================================================================================================================================================================================================================================================================================================================================================================================================================================================================================================================================================================================================================================================================================================================================================================================================================================================================================================================================================================================================================================================================================================================================================================================================================================================================================================================================================================================================================================================================================================================================================================================================================================================================================================================================================================================================================================================================================================================================================================================================================================================================================================================================================================================================================================================================================================================================================================================================================================================================================================================================================================================================================================================================================================================================================================================================================================================================================================================================================================================================================================================================================================================================================================================================================================================================================================================================================================================================================================================================================================================================================================================================================================================================================================================================================================================================================================================================================================================================================================================================================================================================================================================================================================================================================================================================================================================================================================================================================================================================================================================================================================================================================================================================================================================================================================================================================================================================================================================================================================================================================================================================================================================================================================================================================================================================================================================================================================================================================================================================================================================================================================================================================================================================================================================================================================================================================================================================================================================================================================================================================================================================================================================================================================================================================================================================================================================================================================================================================================================================================================================================================================================================================================================================================================================================================================================================================================================================================================================================================================================================================================================================================================================================================================================================================================================================================================================================================================================================================================================================================================================================================================================================================================================================================================================================================================================================================================================================================================================================================================================================================================================================================================================================================================================================================================================================================================================================================================================================================================================================================================================================================================================================================================================================================================================================================================================================================================================================================================================================================================================================================================================================================================================================================================================================================================================================================================================================================================================================================================================================================================================================================================================================================================================================================================================================================================================================================================================================================================================================================================================================================================================================================================================================================================================================================================================================================================================================================================================================================================================================================================================================================================================================================================================================================================================================================================================================================================================================================================================================================================================================================================================================================================================================================================================================================================================================================================================================================================================================================================================================================================================================================================================================================================================================================================================================================================================================================================================================================================================================================================================================================================================================================================================================================================================================================================================================================================================================================================================================================================================================================================================================================================================================================================================================================================================================================================================================================================================================================================================================================================================================================================================================================================================================================================================================================================================================================================================================================================================================================================================================================================================================================================================================================================================================================================================================================================================================================================================================================================================================================================================================================================================================================================================================================================================================================================================================================================================================================================================================================================================================================================================================================================================================================================================================================================================================================================================================================================================================================================================================================================================================================================================================================================================================================================================================================================================================================================================================================================================================================================================================================================================================================================================================================================================================================================================================================================================================================================================================================================================================================================================================================================================================================================================================================================================================================================================================================================================================================================================================================================================================================================================================================================================================================================================================================================================================================================================================================================================================================================================================================================================================================================================================================================================================================================================================================================================================================================================================================================================================================================================================================================================================================================================================================================================================================================================================================================================================================================================================================================================================================================================================================================================================================================================================================================================================================================================================================================================================================================================================================================================================================================================================================================================================================================================================================================================================================================================================================================================================================================================================================================================================================================================================================================================================================================================================================================================================================================================================================================================================================================================================================================================================================================================================================================================================================================================================================================================================================================================================================================================================================================================================================================================================================================================================================================================================================================================================================================================================================================================================================================================================================================================================================================================================================================================================================================================================================================================================================================================================================================================================================================================================================================================================================================================================================================================================================================================================================================================================================================================================================================================================================================================================================================================================================================================================================================================================================================================================================================================================================================================================================================================================================================================================================================================================================================================================================================================================================================================================================================================================================================================================================================================================================================================================================================================================================================================================================================================================================================================================================================================================================================================================================================================================================================================================================================================================================================================================================================================================================================================================================================================================================================================================================================================================================================================================================================================================================================================================================================================================================================================================================================================================================================================================================================================================================================================================================================================================================================================================================================================================================================================================================================================================================================================================================================================================================================================================================================================================================================================================================================================================================================================================================================================================================================================================================================================================================================================================================================================================================================================================================================================================================================================================================================================================================================================================================================================================================================================================================================================================================================================================================================================================================================================================================================================================================================================================================================================================================================================================================================================================================================================================================================================================================================================================================================================================================================================================================================================================================================================================================================================================================================================================================================================================================================================================================================================================================================================================================================================================================================================================================================================================================================================================================================================================================================================================================================================================================================================================================================================================================================================================================================================================================================================================================================================================================================================================================================================================================================================================================================================================================================================================================================================================================================================================================================================================================================================================================================================================================================================================================================================================================================================================================================================================================================================================================================================================================================================================================================================================================================================================================================================================================================================================================================================================================================================================================================================================================================================================================================================================================================================================================================================================================================================================================================================================================================================================================================================================================================================================================================================================================================================================================================================================================================================================================================================================================================================================================================================================================================================================================================================================================================================================================================================================================================================================================================================================================================================================================================================================================================================================================================================================================================================================================================================================================================================================================================================================================================================================================================================================================================================================================================================================================================================================================================================================================================================================================================================================================================================================================================================================================================================================================================================================================================================================================================================================================================================================================================================================================================================================================================================================================================================================================================================================================================================================================================================================================================================================================================================================================================================================================================================================================================================================================================================================================================================================================================================================================================================================================================================================================================================================================================================================================================================================================================================================================================================================================================================================================================================================================================================================================================================================================================================================================================================================================================================================================================================================================================================================================================================================================================================================================================================================================================================================================================================================================================================================================================================================================================================================================================================================================================================================================================================================================================================================================================================================================================================================================================================================================================================================================================================================================================================================================================================================================================================================================================================================================================================================================================================================================================================================================================================================================================================================================================================================================================================================================================================================================================================================================================================================================================================================================================================================================================================================================================================================================================================================================================================================================================================================================================================================================================================================================================================================================================================================================================================================================================================================================================================================================================================================================================================================================================================================================================================================================================================================================================================================================================================================================================================================================================================================================================================================================================================================================================================================================================================================================================================================================================================================================================================================================================================================================================================================================================================================================================================================================================================================================================================================================================================================================================================================================================================================================================================================================================================================================================================================================================================================================================================================================================================================================================================================================================================================================================================================================================================================================================================================================================================================================================================================================================================================================================================================================================================================================================================================================================================================================================================================================================================================================================================================================================================================================================================================================================================================================================================================================================================================================================================================================================================================================================================================================================================================================================================================================================================================================================================================================================================================================================================================================================================================================================================================================================================================================================================================================================================================================================================================================================================================================================================================================================================================================================================================================================================================================================================================================================================================================================================================================================================================================================================================================================================================================================================================================================================================================================================================================================================================================================================================================================================================================================================================================================================================================================================================================================================================================================================================================================================================================================================================================================================================================================================================================================================================================================================================================================================================================================================================================================================================================================================================================================================================================================================================================================================================================================================================================================================================================================================================================================================================================================================================================================================================================================================================================================================================================================================================================================================================================================================================================================================================================================================================================================================================================================================================================================================================================================================================================================================================================================================================================================================================================================================================================================================================================================================================================================================================================================================================================================================================================================================================================================================================================================================================================================================================================================================================================================================================================================================================================================================================================================================================================================================================================================================================================================================================================================================================================================================================================================================================================================================================================================================================================================================================================================================================================================================================================================================================================================================================================================================================================================================================================================================================================================================================================================================================================================================================================================================================================================================================================================================================================================================================================================================================================================================================================================================================================================================================================================================================================================================================================================================================================================================================================================================================================================================================================================================================================================================================================================================================================================================================================================================================================================================================================================================================================================================================================================================================================================================================================================================================================================================================================================================================================================================================================================================================================================================================================================================================================================================================================================================================================================================================================================================================================================================================================================================================================================================================================================================================================================================================================================================================================================================================================================================================================================================================================================================================================================================================================================================================================================================================================================================================================================================================================================================================================================================================================================================================================================================================================================================================================================================================================================================================================================================================================================================================================================================================================================================================================================================================================================================================================================================================================================================================================================================================================================================================================================================================================================================================================================================================================================================================================================================================================================================================================================================================================================================================================================================================================================================================================================================================================================================================================================================================================================================================================================================================================================================================================================================================================================================================================================================================================================================================================================================================================================================================================================================================================================================================================================================================================================================================================================================================================================================================================================================================================================================================================================================================================================================================================================================================================================================================================================================================================================================================================================================================================================================================================================================================================================================================================================================================================================================================================================================================================================================================================================================================================================================================================================================================================================================================================================================================================================================================================================================================================================================================================================================================================================================================================================================================================================================================================================================================================================================================================================================================================================================================================================================================================================================================================================================================================================================================================================================================================================================================================================================================================================================================================================================================================================================================================================================================================================================================================================================================================================================================================================================================================================================================================================================================================================================================================================================================================================================================================================================================================================================================================================================================================================================================================================================================================================================================================================================================================================================================================================================================================================================================================================================================================================================================================================================================================================================================================================================================================================================================================================================================================================================================================================================================================================================================================================================================================================================================================================================================================================================================================================================================================================================================================================================================================================================================================================================================================================================================================================================================================================================================================================================================================================================================================================================================================================================================================================================================================================================================================================================================================================================================================================================================================================================================================================================================================================================================================================================================================================================================================================================================================================================================================================================================================================================================================================================================================================================================================================================================================================================================================================================================================================================================================================================================================================================================================================================================================================================================================================================================================================================================================================================================================================================================================================================================================================================================================================================================================================================================================================================================================================================================================================================================================================================================================================================================================================================================================================================================================================================================================================================================================================================================================================================================================================================================================================================================================================================================================================================================================================================================================================================================================================================================================================================================================================================================================================================================================================================================================================================================================================================================================================================================================================================================================================================================================================================================================================================================================================================================================================================================================================================================================================================================================================================================================================================================================================================================================================================================================================================================================================================================================================================================================================================================================================================================================================================================================================================================================================================================================================================================================================================================================================================================================================================================================================================================================================================================================================================================================================================================================================================================================================================================================================================================================================================================================================================================================================================================================================================================================================================================================================================================================================================================================================================================================================================================================================================================================================================================================================================================================================================================================================================================================================================================================================================================================================================================================================================================================================================================================================================================================================================================================================================================================================================================================================================================================================================================================================================================================================================================================================================================================================================================================================================================================================================================================================================================================================================================================================================================================================================================================================================================================================================================================================================================================================================================================================================================================================================================================================================================================================================================================================================================================================================================================================================================================================================================================================================================================================================================================================================================================================================================================================================================================================================================================================================================================================================================================================================================================================================================================================================================================================================================================================================================================================================================================================================================================================================================================================================================================================================================================================================================================================================================================================================================================================================================================================================================================================================================================================================================================================================================================================================================================================================================================================================================================================================================================================================================================================================================================================================================================================================================================================================================================================================================================================================================================================================================================================================================================================================================================================================================================================================================================================================================================================================================================================================================================================================================================================================================================================================================================================================================================================================================================================================================================================================================================================================================================================================================================================================================================================================================================================================================================================================================================================================================================================================================================================================================================================================================================================================================================================================================================================================================================================================================================================================================================================================================================================================================================================================================================================================================================================================================================================================================================================================================================================================================================================================================================================================================================================================================================================================================================================================================================================================================================================================================================================================================================================================================================================================================================================================================================================================================================================================================================================================================================================================================================================================================================================================================================================================================================================================================================================================================================================================================================================================================================================================================================================================================================================================================================================================================================================================================================================================================================================================================================================================================================================================================================================================================================================================================================================================================================================================================================================================================================================================================================================================================================================================================================================================================================================================================================================================================================================================================================================================================================================================================================================================================================================================================================================================================================================================================================================================================================================================================================================================================================================================================================================================================================================================================================================================================================================================================================================================================================================================================================================================================================================================================================================================================================================================================================================================================================================================================================================================================================================================================================================================================================================================================================================================================================================================================================================================================================================================================================================================================================================================================================================================================================================================================================================================================================================================================================================================================================================================================================================================================================================================================================================================================================================================================================================================================================================================================================================================================================================================================================================================================================================================================================================================================================================================================================================================================================================================================================================================================================================================================================================================================================================================================================================================================================================================================================================================================================================================================================================================================================================================================================================================================================================================================================================================================================================================================================================================================================================================================================================================================================================================================================================================================================================================================================================================================================================================================================================================================================================================================================================================================================================================================================================================================================================================================================================================================================================================================================================================================================================================================================================================================================================================================================================================================================================================================================================================================================================================================================================================================================================================================================================================================================================================================================================================================================================================================================================================================================================================================================================================================================================================================================================================================================================================================================================================================================================================================================================================================================================================================================================================================================================================================================================================================================================================================================================================================================================================================================================================================================================================================================================================================================================================================================================================================================================================================================================================================================================================================================================================================================================================================================================================================================================================================================================================================================================================================================================================================================================================================================================================================================================================================================================================================================================================================================================================================================================================================================================================================================================================================================================================================================================================================================================================================================================================================================================================================================================================================================================================================================================================================================================================================================================================================================================================================================================================================================================================================================================================================================================================================================================================================================================================================================================================================================================================================================================================================================================================================================================================================================================================================================================================================================================================================================================================================================================================================================================================================================================================================================================================================================================================================================================================================================================================================================================================================================================================================================================================================================================================================================================================================================================================================================================================================================================================================================================================================================================================================================================================================================================================================================================================================================================================================================================================================================================================================================================================================================================================================================================================================================================================================================================================================================================================================================================================================================================================================================================================================================================================================================================================================================================================================================================================================================================================================================================================================================================================================================================================================================================================================================================================================================================================================================================================================================================================================================================================================================================================================================================================================================================================================================================================================================================================================================================================================================================================================================================================================================================================================================================================================================================================================================================================================================================================================================================================================================================================================================================================================================================================================================================================================================================================================================================================================================================================================================================================================================================================================================================================================================================================================================================================================================================================================================================================================================================================================================================================================================================================================================================================================================================================================================================================================================================================================================================================================================================================================================================================================================================================================================================================================================================================================================================================================================================================================================================================================================================================================================================================================================================================================================================================================================================================================================================================================================================================================================================================================================================================================================================================================================================================================================================================================================================================================================================================================================================================================================================================================================================================================================================================================================================================================================================================================================================================================================================================================================================================================================================================================================================================================================================================================================================================================================================================================================================================================================================================================================================================================================================================================================================================================================================================================================================================================================================================================================================================================================================================================================================================================================================================================================================================================================================================================================================================================================================================================================================================================================================================================================================================================================================================================================================================================================================================================================================================================================================================================================================================================================================================================================================================================================================================================================================================================================================================================================================================================================================================================================================================================================================================================================================================================================================================================================================================================================================================================================================================================================================================================================================================================================================================================================================================================================================================================================================================================================================================================================================================================================================================================================================================================================================================================================================================================================================================================================================================================================================================================================================================================================================================================================================================================================================================================================================================================================================================================================================================================================================================================================================================================================================================================================================================================================================================================================================================================================================================================================================================================================================================================================================================================================================================================================================================================================================================================================================================================================================================================================================================================================================================================================================================================================================================================================================================================================================================================================================================================================================================================================================================================================================================================================================================================================================================================================================================================================================================================================================================================================================================================================================================================================================================================================================================================================================================================================================================================================================================================================================================================================================================================================================================================================================================================================================================================================================================================================================================================================================================================================================================================================================================================================================================================================================================================================================================================================================================================================================================================================================================================================================================================================================================================================================================================================================================================================================================================================================================================================================================================================================================================================================================================================================================================================================================================================================================================================================================================================================================================================================================================================================================================================================================================================================================================================================================================================================================================================================================================================================================================================================================================================================================================================================================================================================================================================================================================================================================================================================================================================================================================================================================================================================================================================================================================================================================================================================================================================================================================================================================================================================================================================================================================================================================================================================================================================================================================================================================================================================================================================================================================================================================================================================================================================================================================================================================================================================================================================================================================================================================================================================================================================================================================================================================================================================================================================================================================================================================================================================================================================================================================================================================================================================================================================================================================================================================================================================================================================================================================================================================================================================================================================================================================================================================================================================================================================================================================================================================================================================================================================================================================================================================================================================================================================================================================================================================================================================================================================================================================================================================================================================================================================================================================================================================================================================================================================================================================================================================================================================================================================================================================================================================================================================================================================================================================================================================================================================================================================================================================================================================================================================================================================================================================================================================================================================================================================================================================================================================================================================================================================================================================================================================================================================================================================================================================================================================================================================================================================================================================================================================================================================================================================================================================================================================================================================================================================================================================================================================================================================================================================================================================================================================================================================================================================================================================================================================================================================================================================================================================================================================================================================================================================================================================================================================================================================================================================================================================================================================================================================================================================================================================================================================================================================================================================================================================================================================================================================================================================================================================================================================================================================================================================================================================================================================================================================================================================================================================================================================================================================================================================================================================================================================================================================================================================================================================================================================================================================================================================================================================================================================================================================================================================================================================================================================================================================================================================================================================================================================================================================================================================================================================================================================================================================================================================================================================================================================================================================================================================================================================================================================================================================================================================================================================================================================================================================================================================================================================================================================================================================================================================================================================================================================================================================================================================================================================================================================================================================================================================================================================================================================================================================================================================================================================================================================================================================================================================================================================================================================================================================================================================================================================================================================================================================================================================================================================================================================================================================================================================================================================================================================================================================================================================================================================================================================================================================================================================================================================================================================================================================================================================================================================================================================================================================================================================================================================================================================================================================================================================================================================================================================================================================================================================================================================================================================================================================================================================================================================================================================================================================================================================================================================================================================================================================================================================================================================================================================================================================================================================================================================================================================================================================================================================================================================================================================================================================================================================================================================================================================================================================================================================================================================================================================================================================================================================================================================================================================================================================================================================================================================================================================================================================================================================================================================================================================================================================================================================================================================================================================================================================================================================================================================================================================================================================================================================================================================================================================================================================================================================================================================================================================================================================================================================================================================================================================================================================================================================================================================================================================================================================================================================================================================================================================================================================================================================================================================================================================================================================================================================================================================================================================================================================================================================================================================================================================================================================================================================================================================================================================================================================================================================================================================================================================================================================================================================================================================================================================================================================================================================================================================================================================================================================================================================================================================================================================================================================================================================================================================================================================================================================================================================================================================================================================================================================================================================================================================================================================================================================================================================================================================================================================================================================================================================================================================================================================================================================================================================================================================================================================================================================================================================================================================================================================================================================================================================================================================================================================================================================================================================================================================================================================================================================================================================================================================================================================================================================================================================================================================================================================================================================================================================================================================================================================================================================================================================================================================================================================================================================================================================================================================================================================================================================================================================================================================================================================================================================================================================================================================================================================================================================================================================================================================================================================================================================================================================================================================================================================================================================================================================================================================================================================================================================================================================================================================================================================================================================================================================================================================================================================================================================================================================================================================================================================================================================================================================================================================================================================================================================================================================================================================================================================================================================================================================================================================================================================================================================================================================================================================================================================================================================================================================================================================================================================================================================================================================================================================================================================================================================================================================================================================================================================================================================================================================================================================================================================================================================================================================================================================================================================================================================================================================================================================================================================================================================================================================================================================================================================================================================================================================================================================================================================================================================================================================================================================================================================================================================================================================================================================================================================================================================================================================================================================================================================================================================================================================================================================================================================================================================================================================================================================================================================================================================================================================================================================================================================================================================================================================================================================================================================================================================================================================================================================================================================================================================================================================================================================================================================================================================================================================================================================================================================================================================================================================================================================================================================================================================================================================================================================================================================================================================================================================================================================================================================================================================================================================================================================================================================================================================================================================================================================================================================================================================================================================================================================================================================================================================================================================================================================================================================================================================================================================================================================================================================================================================================================================================================================================================================================================================================================================================================================================================================================================================================================================================================================================================================================================================================================================================================================================================================================================================================================================================================================================================================================================================================================================================================================================================================================================================================================================================================================================================================================================================================================================================================================================================================================================================================================================================================================================================================================================================================================================================================================================================================================================================================================================================================================================================================================================================================================================================================================================================================================================================================================================================================================================================================================================================================================================================================================================================================================================================================================================================================================================================================================================================================================================================================================================================================================================================================================================================================================================================================================================================================================================================================================================================================================================================================================================================================================================================================================================================================================================================================================================================================================================================================================================================================================================================================================================================================================================================================================================================================================================================================================================================================================================================================================================================================================================================================================================================================================================================================================================================================================================================================================================================================================================================================================================================================================================================================================================================================================================================================================================================================================================================================================================================================================================================================================================================================================================================================================================================================================================================================================================================================================================================================================================================================================================================================================================================================================================================================================================================================================================================================================================================================================================================================================================================================================================================================================================================================================================================================================================================================================================================================================================================================================================================================================================================================================================================================================================================================================================================================================================================================================================================================================================================================================================================================================================================================================================================================================================================================================================================================================================================================================================================================================================================================================================================================================================================================================================================================================================================================================================================================================================================================================================================================================================================================================================================================================================================================================================================================================================================================================================================================================================================================================================================================================================================================================================================================================================================================================================================================================================================================================================================================================================================================================================================================================================================================================================================================================================================================================================================================================================================================================================================================================================================================================================================================================================================================================================================================================================================================================================================================================================================================================================================================================================================================================================================================================================================================================================================================================================================================================================================================================================================================================================================================================================================================================================================================================================================================================================================================================================================================================================================================================================================================================================================================================================================================================================================================================================================================================================================================================================================================================================================================================================================================================================================================================================================================================================================================================================================================================================================================================================================================================================================================================================================================================================================================================================================================================================================================================================================================================================================================================================================================================================================================================================================================================================================================================================================================================================================================================================================================================================================================================================================================================================================================================================================================================================================================================================================================================================================================================================================================================================================================================================================================================================================================================================================================================================================================================================================================================================================================================================================================================================================================================================================================================================================================================================================================================================================================================================================================================================================================================================================================================================================================================================================================================================================================================================================================================================================================================================================================================================================================================================================================================================================================================================================================================================================================================================================================================================================================================================================================================================================================================================================================================================================================================================================================================================================================================================================================================================================================================================================================================================================================================================================================================================================================================================================================================================================================================================================================================================================================================================================================================================================================================================================================================================================================================================================================================================================================================================================================================================================================================================================================================================================================================================================================================================================================================================================================================================================================================================================================================================================================================================================================================================================================================================================================================================================================================================================================================================================================================================================================================================================================================================================================================================================================================================================================================================================================================================================================================================================================================================================================================================================================================================================================================================================================================================================================================================================================================================================================================================================================================================================================================================================================================================================================================================================================================================================================================================================================================================================================================================================================================================================================================================================================================================================================================================================================================================================================================================================================================================================================================================================================================================================================================================================================================================================================================================================================================================================================================================================================================================================================================================================================================================================================================================================================================================================================================================================================================================================================================================================================================================================================================================================================================================================================================================================================================================================================================================================================================================================================================================================================================================================================================================================================================================================================================================================================================================================================================================================================================================================================================================================================================================================================================================================================================================================================================================================================================================================================================================================================================================================================================================================================================================================================================================================================================================================================================================================================================================================================================================================================================================================================================================================================================================================================================================================================================================================================================================================================================================================================================================================================================================================================================================================================================================================================================================================================================================================================================================================================================================================================================================================================================================================================================================================================================================================================================================================================================================================================================================================================================================================================================================================================================================================================================================================================================================================================================================================================================================================================================================================================================================================================================================================================================================================================================================================================================================================================================================================================================================================================================================================================================================================================================================================================================================================================================================================================================================================================================================================================================================================================================================================================================================================================================================================================================================================================================================================================================================================================================================================================================================================================================================================================================================================================================================================================================================================================================================================================================================================================================================================================================================================================================================================================================================================================================================================================================================================================================================================================================================================================================================================================================================================================================================================================================================================================================================================================================================================================================================================================================================================================================================================================================================================================================================================================================================================================================================================================================================================================================================================================================================================================================================================================================================================================================================================================================================================================================================================================================================================================================================================================================================================================================================================================================================================================================================================================================================================================================================================================================================================================================================================================================================================================================================================================================================================================================================================================================================================================================================================================================================================================================================================================================================================================================================================================================================================================================================================================================================================================================================================================================================================================================================================================================================================================================================================================================================================================================================================================================================================================================================================================================================================================================================================================================================================================================================================================================================================================================================================================================================================================================================================================================================================================================================================================================================================================================================================================================================================================================================================================================================================================================================================================================================================================================================================================================================================================================================================================================================================================================================================================================================================================================================================================================================================================================================================================================================================================================================================================================================================================================================================================================================================================================================================================================================================================================================================================================================================================================================================================================================================================================================================================================================================================================================================================================================================================================================================================================================================================================================================================================================================================================================================================================================================================================================================================================================================================================================================================================================================================================================================================================================================================================================================================================================================================================================================================================================================================================================================================================================================================================================================================================================================================================================================================================================================================================================================================================================================================================================================================================================================================================================================================================================================================================================================================================================================================================================================================================================================================================================================================================================================================================================================================================================================================================================================================================================================================================================================================================================================================================================================================================================================================================================================================================================================================================================================================================================================================================================================================================================================================================================================================================================================================================================================================================================================================================================================================================================================================================================================================================================================================================================================================================================================================================================================================================================================================================================================================================================================================================================================================================================================================================================================================================================================================================================================================================================================================================================================================================================================================================================================================================================================================================================================================================================================================================================================================================================================================================================================================================================================================================================================================================================================================================================================================================================================================================================================================================================================================================================================================================================================================================================================================================================================================================================================================================================================================================================================================================================================================================================================================================================================================================================================================================================================================================================================================================================================================================================================================================================================================================================================================================================================================================================================================================================================================================================================================================================================================================================================================================================================================================================================================================================================================================================================================================================================================================================================================================================================================================================================================================================================================================================================================================================================================================================================================================================================================================================================================================================================================================================================================================================================================================================================================================================================================================================================================================================================================================================================================================================================================================================================================================================================================================================================================================================================================================================================================================================================================================================================================================================================================================================================================================================================================================================================================================================================================================================================================================================================================================================================================================================================================================================================================================================================================================================================================================================================================================================================================================================================================================================================================================================================================================================================================================================================================================================================================================================================================================================================================================================================================================================================================================================================================================================================================================================================================================================================================================================================================================================================================================================================================================================================================================================================================================================================================================================================================================================================================================================================================================================================================================================================================================================================================================================================================================================================================================================================================================================================================================================================================================================================================================================================================================================================================================================================================================================================================================================================================================================================================================================================================================================================================================================================================================================================================================================================================================================================================================================================================================================================================================================================================================================================================================================================================================================================================================================================================================================================================================================================================================================================================================================================================================================================================================================================================================================================================================================================================================================================================================================================================================================================================================================================================================================================================================================================================================================================================================================================================================================================================================================================================================================================================================================================================================================================================================================================================================================================================================================================================================================================================================================================================================================================================================================================================================================================================================================================================================================================================================================================================================================================================================================================================================================================================================================================================================================================================================================================================================================================================================================================================================================================================================================================================================================================================================================================================================================================================================================================================================================================================================================================================================================================================================================================================================================================================================================================================================================================================================================================================================================================================================================================================================================================================================================================================================================================================================================================================================================================================================================================================================================================================================================================================================================================================================================================================================================================================================================================================================================================================================================================================================================================================================================================================================================================================================================================================================================================================================================================================================================================================================================================================================================================================================================================================================================================================================================================================================================================================================================================================================================================================================================================================================================================================================================================================================================================================================================================================================================================================================================================================================================================================================================================================================================================================================================================================================================================================================================================================================================================================================================================================================================================================================================================================================================================================================================================================================================================================================================================================================================================================================================================================================================================================================================================================================================================================================================================================================================================================================================================================================================================================================================================================================================================================================================================================================================================================================================================================================================================================================================================================================================================================================================================================================================================================================================================================================================================================================================================================================================================================================================================================================================================================================================================================================================================================================================================================================================================================================================================================================================================================================================================================================================================================================================================================================================================================================================================================================================================================================================================================================================================================================================================================================================================================================================================================================================================================================================================================================================================================================================================================================================================================================================================================================================================================================================================================================================================================================================================================================================================================================================================================================================================================================================================================================================================================================================================================================================================================================================================================================================================================================================================================================================================================================================================================================================================================================================================================================================================================================================================================================================================================================================================================================================================================================================================================================================================================================================================================================================================================================================================================================================================================================================================================================================================================================================================================================================================================================================================================================================================================================================================================================================================================================================================================================================================================================================================================================================================================================================================================================================================================================================================================================================================================================================================================================================================================================================================================================================================================================================================================================================================================================================================================================================================================================================================================================================================================================================================================================================================================================================================================================================================================================================================================================================================================================================================================================================================================================================================================================================================================================================================================================================================================================================================================================================================================================================================================================================================================================================================================================================================================================================================================================================================================================================================================================================================================================================================================================================================================================================================================================================================================================================================================================================================================================================================================================================================================================================================================================================================================================================================================================================================================================================================================================================================================================================================================================================================================================================================================================================================================================================================================================================================================================================================================================================================================================================================================================================================================================================================================================================================================================================================================================================================================================================================================================================================================================================================================================================================================================================================================================================================================================================================================================================================================================================================================================================================================================================================================================================================================================================================================================================================================================================================================================================================================================================================================================================================================================================================================================================================================================================================================================================================================================================================================================================================================================================================================================================================================================================================================================================================================================================================================================================================================================================================================================================================================================================================================================================================================================================================================================================================================================================================================================================================================================================================================================================================================================================================================================================================================================================================================================================================================================================================================================================================================================================================================================================================================================================================================================================================================================================================================================================================================================================================================================================================================================================================================================================================================================================================================================================================================================================================================================================================================================================================================================================================================================================================================================================================================================================================================================================================================================================================================================================================================================================================================================================================================================================================================================================================================================================================================================================================================================================================================================================================================================================================================================================================================================================================================================================================================================================================================================================================================================================================================================================================================================================================================================================================================================================================================================================================================================================================================================================================================================================================================================================================================================================================================================================================================================================================================================================================================================================================================================================================================================================================================================================================================================================================================================================================================================================================================================================================================================================================================================================================================================================================================================================================================================================================================================================================================================================================================================================================================================================================================================================================================================================================================================================================================================================================================================================================================================================================================================================================================================================================================================================================================================================================================================================================================================================================================================================================================================================================================================================================================================================================================================================================================================================================================================================================================================================================================================================================================================================================================================================================================================================================================================================================================================================================================================================================================================================================================================================================================================================================================================================================================================================================================================================================================================================================================================================================================================================================================================================================================================================================================================================================================================================================================================================================================================================================================================================================================================================================================================================================================================================================================================================================================================================================================================================================================================================================================================================================================================================================================================================================================================================================================================================================================================================================================================================================================================================================================================================================================================================================================================================================================================================================================================================================================================================================================================================================================================================================================================================================================================================================================================================================================================================================================================================================================================================================================================================================================================================================================================================================================================================================================================================================================================================================================================================================================================================================================================================================================================================================================================================================================================================================================================================================================================================================================================================================================================================================================================================================================================================================================================================================================================================================================================================================================================================================================================================================================================================================================================================================================================================================================================================================================================================================================================================================================================================================================================================================================================================================================================================================================================================================================================================================================================================================================================================================================================================================================================================================================================================================================================================================================================================================================================================================================================================================================================================================================================================================================================================================================================================================================================================================================================================================================================================================================================================================================================================================================================================================================================================================================================================================================================================================================================================================================================================================================================================================================================================================================================================================================================================================================================================================================================================================================================================================================================================================================================================================================================================================================================================================================================================================================================================================================================================================================================================================================================================================================================================================================================================================================================================================================================================================================================================================================================================================================================================================================================================================================================================================================================================================================================================================================================================================================================================================================================================================================================================================================================================================================================================================================================================================================================================================================================================================================================================================================================================================================================================================================================================================================================================================================================================================================================================================================================================================================================================================================================================================================================================================================================================================================================================================================================================================================================================================================================================================================================================================================================================================================================================================================================================================================================================================================================================================================================================================================================================================================================================================================================================================================================================================================================================================================================================================================================================================================================================================================================================================================================================================================================================================================================================================================================================================================================================================================================================================================================================================================================================================================================================================================================================================================================================================================================================================================================================================================================================================================================================================================================================================================================================================================================================================================================================================================================================================================================================================================================================================================================================================================================================================================================================================================================================================================================================================================================================================================================================================================================================================================================================================================================================================================================================================================================================================================================================================================================================================================================================================================================================================================================================================================================================================================================================================================================================================================================================================================================================================================================================================================================================================================================================================================================================================================================================================================================================================================================================================================================================================================================================================================================================================================================================================================================================================================================================================================================================================================================================================================================================================================================================================================================================================================================================================================================================================================================================================================================================================================================================================================================================================================================================================================================================================================================================================================================================================================================================================================================================================================================================================================================================================================================================================================================================================================================================================================================================================================================================================================================================================================================================================================================================================================================================================================================================================================================================================================================================================================================================================================================================================================================================================================================================================================================================================================================================================================================================================================================================================================================================================================================================================================================================================================================================================================================================================================================================================================================================================================================================================================================================================================================================================================================================================================================================================================================================================================================================================================================================================================================================================================================================================================================================================================================================================================================================================================================================================================================================================================================================================================================================================================================================================================================================================================================================================================================================================================================================================================================================================================================================================================================================================================================================================================================================================================================================================================================================================================================================================================================================================================================================================================================================================================================================================================================================================================================================================================================================================================================================================================================================================================================================================================================================================================================================================================================================================================================================================================================================================================================================================================================================================================================================================================================================================================================================================================================================================================================================================================================================================================================================================================================================================================================================================================================================================================================================================================================================================================================================================================================================================================================================================================================================================================================================================================================================================================================================================================================================================================================================================================================================================================================================================================================================================================================================================================================================================================================================================================================================================================================================================================================================================================================================================================================================================================================================================================================================================================================================================================================================================================================================================================================================================================================================================================================================================================================================================================================================================================================================================================================================================================================================================================================================================================================================================================================================================================================================================================================================================================================================================================================================================================================================================================================================================================================================================================================================================================================================================================================================================================================================================================================================================================================================================================================================================================================================================================================================================================================================================================================================================================================================================================================================================================================================================================================================================================================================================================================================================================================================================================================================================================================================================================================================================================================================================================================================================================================================================================================================================================================================================================================================================================================================================================================================================================================================================================================================================================================================================================================================================================================================================================================================================================================================================================================================================================================================================================================================================================================================================================================================================================================================================================================================================================================================================================================================================================================================================================================================================================================================================================================================================================================================================================================================================================================================================================================================================================================================================================================================================================================================================================================================================================================================================================================================================================================================================================================================================================================================================================================================================================================================================================================================================================================================================================================================================================================================================================================================================================================================================================================================================================================================================================================================================================================================================================================================================================================================================================================================================================================================================================================================================================================================================================================================================================================================================================================================================================================================================================================================================================================================================================================================================================================================================================================================================================================================================================================================================================================================================================================================================================================================================================================================================================================================================================================================================================================================================================================================================================================================================================================================================================================================================================================================================================================================================================================================================================================================================================================================================================================================================================================================================================================================================================================================================================================================================================================================================================================================================================================================================================================================================================================================================================================================================================================================================================================================================================================================================================================================================================================================================================================================================================================================================================================================================================================================================================================================================================================================================================================================================================================================================================================================================================================================================================================================================================================================================================================================================================================================================================================================================================================================================================================================================================================================================================================================================================================================================================================================================================================================================================================================================================================================================================================================================================================================================================================================================================================================================================================================================================================================================================================================================================================================================================================================================================================================================================================================================================================================================================================================================================================================================================================================================================================================================================================================================================================================================================================================================================================================================================================================================================================================================================================================================================================================================================================================================================================================================================================================================================================================================================================================================================================================================================================================================================================================================================================================================================================================================================================================================================================================================================================================================================================================================================================================================================================================================================================================================================================================================================================================================================================================================================================================================================================================================================================================================================================================================================================================================================================================================================================================================================================================================================================================================================================================================================================================================================================================================================================================================================================================================================================================================================================================================================================================================================================================================================================================================================================================================================================================================================================================================================================================================================================================================================================================================================================================================================================================================================================================================================================================================================================================================================================================================================================================================================================================================================================================================================================================================================================================================================================================================================================================================================================================================================================================================================================================================================================================================================================================================================================================================================================================================================================================================================================================================================================================================================================================================================================================================================================================================================================================================================================================================================================================================================================================================================================================================================================================================================================================================================================================================================================================================================================================================================================================================================================================================================================================================================================================================================================================================================================================================================================================================================================================================================================================================================================================================================================================================================================================================================================================================================================================================================================================================================================================================================================================================================================================================================================================================================================================================================================================================================================================================================================================================================================================================================================================================================================================================================================================================================================================================================================================================================================================================================================================================================================================================================================================================================================================================================================================================================================================================================================================================================================================================================================================================================================================================================================================================================================================================================================================================================================================================================================================================================================================================================================================================================================================================================================================================================================================================================================================================================================================================================================================================================================================================================================================================================================================================================================================================================================================================================================================================================================================================================================================================================================================================================================================================================================================================================================================================================================================================================================================================================================================================================================================================================================================================================================================================================================================================================================================================================================================================================================================================================================================================================================================================================================================================================================================================================================================================================================================================================================================================================================================================================================================================================================================================================================================================================================================================================================================================================================================================================================================================================================================================================================================================================================================================================================================================================================================================================================================================================================================================================================================================================================================================================================================================================================================================================================================================================================================================================================================================================================================================================================================================================================================================================================================================================================================================================================================================================================================================================================================================================================================================================================================================================================================================================================================================================================================================================================================================================================================================================================================================================================================================================================================================================================================================================================================================================================================================================================================================================================================================================================================================================================================================================================================================================================================================================================================================================================================================================================================================================================================================================================================================================================================================================================================================================================================================================================================================================================================================================================================================================================================================================================================================================================================================================================================================================================================================================================================================================================================================================================================================================================================================================================================================================================================================================================================================================================================================================================================================================================================================================================================================================================================================================================================================================================================================================================================================================================================================================================================================================================================================================================================================================================================================================================================================================================================================================================================================================================================================================================================================================================================================================================================================================================================================================================================================================================================================================================================================================================================================================================================================================================================================================================================================================================================================================================================================================================================================================================================================================================================================================================================================================================================================================================================================================================================================================================================================================================================================================================================================================================================================================================================================================================================================================================================================================================================================================================================================================================================================================================================================================================================================================================================================================================================================================================================================================================================================================================================================================================================================================================================================================================================================================================================================================================================================================================================================================================================================================================================================================================================================================================================================================================================================================================================================================================================================================================================================================================================================================================================================================================================================================================================================================================================================================================================================================================================================================================================================================================================================================================================================================================================================================================================================================================================================================================================================================================================================================================================================================================================================================================================================================================================================================================================================================================================================================================================================================================================================================================================================================================================================================================================================================================================================================================================================================================================================================================================================================================================================================================================================================================================================================================================================================================================================================================================================================================================================================================================================================================================================================================================================================================================================================================================================================================================================================================================================================================================================================================================================================================================================================================================================================================================================================================================================================================================================================================================================================================================================================================================================================================================================================================================================================================================================================================================================================================================================================================================================================================================================================================================================================================================================================================================================================================================================================================================================================================================================================================================================================================================================================================================================================================================================================================================================================================================================================================================================================================================================================================================================================================================================================================================================================================================================================================================================================================================================================================================================================================================================================================================================================================================================================================================================================================================================================================================================================================================================================================================================================================================================================================================================================================================================================================================================================================================================================================================================================================================================================================================================================================================================================================================================================================================================================================================================================================================================================================================================================================================================================================================================================================================================================================================================================================================================================================================================================================================================================================================================================================================================================================================================================================================================================================================================================================================================================================================================================================================================================================================================================================================================================================================================================================================================================================================================================================================================================================================================================================================================================================================================================================================================================================================================================================================================================================================================================================================================================================================================================================================================================================================================================================================================================================================================================================================================================================================================================================================================================================================================================================================================================================================================================================================================================================================================================================================================================================================================================================================================================================================================================================================================================================================================================================================================================================================================================================================================================================================================================================================================================================================================================================================================================================================================================================================================================================================================================================================================================================================================================================================================================================================================================================================================================================================================================================================================================================================================================================================================================================================================================================================================================================================================================================================================================================================================================================================================================================================================================================================================================================================================================================================================================================================================================================================================================================================================================================================================================================================================================================================================================================================================================================================================================================================================================================================================================================================================================================================================================================================================================================================================================================================================================================================================================================================================================================================================================================================================================================================================================================================================================================================================================================================================================================================================================================================================================================================================================================================================================================================================================================================================================================================================================================================================================================================================================================================================================================================================================================================================================================================================================================================================================================================================================================================================================================================================================================================================================================================================================================================================================================================================================================================================================================================================================================================================================================================================================================================================================================================================================================================================================================================================================================================================================================================================================================================================================================================================================================================================================================================================================================================================================================================================================================================================================================================================================================================================================================================================================================================================================================================================================================================================================================================================================================================================================================================================================================================================================================================================================================================================================================================================================================================================================================================================================================================================================================================================================================================================================================================================================================================================================================================================================================================================================================================================================================================================================================================================================================================================================================================================================================================================================================================================================================================================================================================================================================================================================================================================================================================================================================================================================================================================================================================================================================================================================================================================================================================================================================================================================================================================================================================================================================================================================================================================================================================================================================================================================================================================================================================================================================================================================================================================================================================================================================================================================================================================================================================================================================================================================================================================================================================================================================================================================================================================================================================================================================================================================================================================================================================================================================================================================================================================================================================================================================================================================================================================================================================================================================================================================================================================================================================================================================================================================================================================================================================================================================================================================================================================================================================================================================================================================================================================================================================================================================================================================================================================================================================================================================================================================================================================================================================================================================================================================================================================================================================================================================================================================================================================================================================================================================================================================================================================================================================================================================================================================================================================================================================================================================================================================================================================================================================================================================================================================================================================================================================================================================================================================================================================================================================================================================================================================================================================================================================================================================================================================================================================================================================================================================================================================================================================================================================================================================================================================================================================================================================================================================================================================================================================================================================================================================================================================================================================================================================================================================================================================================================================================================================================================================================================================================================================================================================================================================================================================================================================================================================================================================================================================================================================================================================================================================================================================================================================================================================================================================================================================================================================================================================================================================================================================================================================================================================================================================================================================================================================================================================================================================================================================================================================================================================================================================================================================================================================================================================================================================================================================================================================================================================================================================================================================================================================================================================================================================================================================================================================================================================================================================================================================================================================================================================================================================================================================================================================================================================================================================================================================================================================================================================================================================================================================================================================================================================================================================================================================================================================================================================================================================================================================================================================================================================================================================================================================================================================================================================================================================================================================================================================================================================================================================================================================================================================================================================================================================================================================================================================================================================================================================================================================================================================================================================================================================================================================================================================================================================================================================================================================================================================================================================================================================================================================================================================================================================================================================================================================================================================================================================================================================================================================================================================================================================================================================================================================================================================================================================================================================================================================================================================================================================================================================================================================================================================================================================================================================================================================================================================================================================================================================================================================================================================================================================================================================================================================================================================================================================================================================================================================================================================================================================================================================================================================================================================================================================================================================================================================================================================================================================================================================================================================================================================================================================================================================================================================================================================================================================================================================================================================================================================================================================================================================================================================================================================================================================================================================================================================================================================================================================================================================================================================================================================================================================================================================================================================================================================================================================================================================================================================================================================================================================================================================================================================================================================================================================================================================================================================================================================================================================================================================================================================================================================================================================================================================================================================================================================================================================================================================================================================================================================================================================================================================================================================================================================================================================================================================================================================================================================================================================================================================================================================================================================================================================================================================================================================================================================================================================================================================================================================================================================================================================================================================================================================================================================================================================================================================================================================================================================================================================================================================================================================================================================================================================================================================================================================================================================================================================================================================================================================================================================================================================================================================================================================================================================================================================================================================================================================================================================================================================================================================================================================================================================================================================================================================================================================================================================================================================================================================================================================================================================================================================================================================================================================================================================================================================================================================================================================================================================================================================================================================================================================================================================================================================================================================================================================================================================================================================================================================================================================================================================================================================================================================================================================================================================================================================================================================================================================================================================================================================================================================================================================================================================================================================================================================================================================================================================================================================================================================================================================================================================================================================================================================================================================================================================================================================================================================================================================================================================================================================================================================================================================================================================================================================================================================================================================================================================================================================================================================================================================================================================================================================================================================================================================================================================================================================================================================================================================================================================================================================================================================================================================================================================================================================================================================================================================================================================================================================================================================================================================================================================================================================================================================================================================================================================================================================================================================================================================================================================================================================================================================================================================================================================================================================================================================================================================================================================================================================================================================================================================================================================================================================================================================================================================================================================================================================================================================================================================================================================================================================================================================================================================================================================================================================================================================================================================================================================================================================================================================================================================================================================================================================================================================================================================================================================================================================================================================================================================================================================================================================================================================================================================================================================================================================================================================================================================================================================================================================================================================================================================================================================================================================================================================================================================================================================================================================================================================================================================================================================================================================================================================================================================================================================================================================================================================================================================================================================================================================================================================================================================================================================================================================================================================================================================================================================================================================================================================================================================================================================================================================================================================================================================================================================================================================================================================================================================================================================================================================================================================================================================================================================================================================================================================================================================================================================================================================================================================================================================================================================================================================================================================================================================================================================================================================================================================================================================================================================================================================================================================================================================================================================================================================================================================================================================================================================================================================================================================================================================================================================================================================================================================================================================================================================================================================================================================================================================================================================================================================================================================================================================================================================================================================================================================================================================================================================================================================================================================================================================================================================================================================================================================================================================================================================================================================================================================================================================================================================================================================================================================================================================================================================================================================================================================================================================================================================================================================================================================================================================================================================================================================================================================================================================================================================================================================================================================================================================================================================================================================================================================================================================================================================================================================================================================================================================================================================================================================================================================================================================================================================================================================================================================================================================================================================================================================================================================================================================================================================================================================================================================================================================================================================================================================================================================================================================================================================================================================================================================================================================================================================================================================================================================================================================================================================================================================================================================================================================================================================================================================================================================================================================================================================================================================================================================================================================================================================================================================================================================================================================================================================================================================================================================================================================================================================================================================================================================================================================================================================================================================================================================================================================================================================================================================================================================================================================================================================================================================================================================================================================================================================================================================================================================================================================================================================================================================================================================================================================================================================================================================================================================================================================================================================================================================================================================================================================================================================================================================================================================================================================================================================================================================================================================================================================================================================================================================================================================================================================================================================================================================================================================================================================================================================================================================================================================================================================================================================================================================================================================================================================================================================================================================================================================================================================================================================================================================================================================================================================================================================================================================================================================================================================================================================================================================================================================================================================================================================================================================================================================================================================================================================================================================================================================================================================================================================================================================================================================================================================================================================================================================================================================================================================================================================================================================================================================================================================================================================================================================================================================================================================================================================================================================================================================================================================================================================================================================================================================================================================================================================================================================================================================================================================================================================================================================================================================================================================================================================================================================================================================================================================================================================================================================================================================================================================================================================================================================================================================================================================================================================================================================================================================================================================================================================================================================================================================================================================================================================================================================================================================================================================================================================================================================================================================================================================================================================================================================================================================================================================================================================================================================================================================================================================================================================================================================================================================================================================================================================================================================================================================================================================================================================================================================================================================================================================================================================================================================================================================================================================================================================================================================================================================================================================================================================================================================================================================================================================================================================================================================================================================================================================================================================================================================================================================================================================================================================================================================================================================================================================================================================================================================================================================================================================================================================================================================================================================================================================================================================================================================================================================================================================================================================================================================================================================================================================================================================================================================================================================================================================================================================================================================================================================================================================================================================================================================================================================================================================================================================================================================================================================================================================================================================================================================================================================================================================================================================================================================================================================================================================================================================================================================================================================================================================================================================================================================================================================================================================================================================================================================================================================================================================================================================================================================================================================================================================================================================================================================================================================================================================================================================================================================================================================================================================================================================================================================================================================================================================================================================================================================================================================================================================================================================================================================================================================================================================================================================================================================================================================================================================================================================================================================================================================================================================================================================================================================================================================================================================================================================================================================================================================================================================================================================================================================================================================================================================================================================================================================================================================================================================================================================================================================================================================================================================================================================================================================================================================================================================================================================================================================================================================================================================================================================================================================================================================================================================================================================================================================================================================================================================================================================================================================================================================================================================================================================================================================================================================================================================================================================================================================================================================================================================================================================================================================================================================================================================================================================================================================================================================================================================================================================================================================================================================================================================================================================================================================================================================================================================================================================================================================================================================================================================================================================================================================================================================================================================================================================================================================================================================================================================================================================================================================================================================================================================================================================================================================================================================================================================================================================================================================================================================================================================================================================================================================================================================================================================================================================================================================================================================================================================================================================================================================================================================================================================================================================================================================================================================================================================================================================================================================================================================================================================================================================================================================================================================================================================================================================================================================================================================================================================================================================================================================================================================================================================================================================================================================================================================================================================================================================================================================================================================================================================================================================================================================================================================================================================================================================================================================================================================================================================================================================================================================================================================================================================================================================================================================================================================================================================================================================================================================================================================================================================================================================================================================================================================================================================================================================================================================================================================================================================================================================================================================================================================================================================================================================================================================================================================================================================================================================================================================================================================================================================================================================================================================================================================================================================================================================================================================================================================================================================================================================================================================================================================================================================================================================================================================================================================================================================================================================================================================================================================================================================================================================================================================================================================================================================================================================================================================================================================================================================================================================================================================================================================================================================================================================================================================================================================================================================================================================================================================================================================================================================================================================================================================================================================================================================================================================================================================================================================================================================================================================================================================================================================================================================================================================================================================================================================================================================================================================================================================================================================================================================================================================================================================================================================================================================================================================================================================================================================================================================================================================================================================================================================================================================================================================================================================================================================================================================================================================================================================================================================================================================================================================================================================================================================================================================================================================================================================================================================================================================================================================================================================================================================================================================================================================================================================================================================================================================================================================================================================================================================================================================================================================================================================================================================================================================================================================================================================================================================================================================================================================================================================================================================================================================================================================================================================================================================================================================================================================================================================================================================================================================================================================================================================================================================================================================================================================================================================================================================================================================================================================================================================================================================================================================================================================================================================================================================================================================================================================================================================================================================================================================================================================================================================================================================================================================================================================================================================================================================================================================================================================================================================================================================================================================================================================================================================================================================================================================================================================================================================================================================================================================================================================================================================================================================================================================================================================================================================================================================================================================================================================================================================================================================================================================================================================================================================================================================================================================================================================================================================================================================================================================================================================================================================================================================================================================================================================================================================================================================================================================================================================================================================================================================================================================================================================================================================================================================================================================================================================================================================================================================================================================================================================================================================================================================================================================================================================================================================================================================================================================================================================================================================================================================================================================================================================================================================================================================================================================================================================================================================================================================================================================================================================================================================================================================================================================================================================================================================================================================================================================================================================================================================================================================================================================================================================================================================================================================================================================================================================================================================================================================================================================================================================================================================================================================================================================================================================================================================================================================================================================================================================================================================================================================================================================================================================================================================================================================================================================================================================================================================================================================================================================================================================================================================================================================================================================================================================================================================================================================================================================================================================================================================================================================================================================================================================================================================================================================================================================================================================================================================================================================================================================================================================================================================================================================================================================================================================================================================================================================================================================================================================================================================================================================================================================================================================================================================================================================================================================================================================================================================================================================================================================================================================================================================================================================================================================================================================================================================================================================================================================================================================================================================================================================================================================================================================================================================================================================================================================================================================================================================================================================================================================================================================================================================================================================================================================================================================================================================================================================================================================================================================================================================================================================================================================================================================================================================================================================================================================================================================================================================================================================================================================================================================================================================================================================================================================================================================================================================================================================================================================================================================================================================================================================================================================================================================================================================================================================================================================================================================================================================================================================================================================================================================================================================================================================================================================================================================================================================================================================================================================================================================================================================================================================================================================================================================================================================================================================================================================================================================================================================================================================================================================================================================================================================================================================================================================================================================================================================================================================================================================================================================================================================================================================================================================================================================================================================================================================================================================================================================================================================================================================================================================================================================================================================================================================================================================================================================================================================================================================================================================================================================================================================================================================================================================================================================================================================================================================================================================================================================================================================================================================================================================================================================================================================================================================================================================================================================================================================================================================================================================================================================================================================================================================================================================================================================================================================================================================================================================================================================================================================================================================================================================================================================================================================================================================================================================================================================================================================================================================================================================================================================================================================================================================================================================================================================================================================================================================================================================================================================================================================================================================================================================================================================================================================================================================================================================================================================================================================================================================================================================================================================================================================================================================================================================================================================================================================================================================================================================================================================================================================================================================================================================================================================================================================================================================================================================================================================================================================================================================================================================================================================================================================================================================================================================================================================================================================================================================================================================================================================================================================================================================================================================================================================================================================================================================================================================================================================================================================================================================================================================================================================================================================================================================================================================================================================================================================================================================================================================================================================================================================================================================================================================================================================================================================================================================================================================================================================================================================================================================================================================================================================================================================================================================================================================================================================================================================================================================================================================================================================================================================================================================================================================================================================================================================================================================================================================================================================================================================================================================================================================================================================================================================================================================================================================================================================================================================================================================================================================================================================================================================================================================================================================================================================================================================================================================================================================================================================================================================================================================================================================================================================================================================================================================================================================================================================================================================================================================================================================================================================================================================================================================================================================================================================================================================================================================================================================================================================================================================================================================================================================================================================================================================================================================================================================================================================================================================================================================================================================================================================================================================================================================================================================================================================================================================================================================================================================================================================================================================================================================================================================================================================================================================================================================================================================================================================================================================================================================================================================================================================================================================================================================================================================================================================================================================================================================================================================================================================================================================================================================================================================================================================================================================================================================================================================================================================================================================================================================================================================================================================================================================================================================================================================================================================================================================================================================================================================================================================================================================================================================================================================================================================================================================================================================================================================================================================================================================================================================================================================================================================================================================================================================================================================================================================================================================================================================================================================================================================================================================================================================================================================================================================================================================================================================================================================================================================================================================================================================================================================================================================================================================================================================================================================================================================================================================================================================================================================================================================================================================================================================================================================================================================================================================================================================================================================================================================================================================================================================================================================================================================================================================================================================================================================================================================================================================================================================================================================================================================================================================================================================================================================================================================================================================================================================================================================================================================================================================================================================================================================================================================================================================================================================================================================================================================================================================================================================================================================================================================================================================================================================================================================================================================================================================================================================================================================================================================================================================================================================================================================================================================================================================================================================================================================================================================================================================================================================================================================================================================================================================================================================================================================================================================================================================================================================================================================================================================================================================================================================================================================================================================================================================================================================================================================================================================================================================================================================================================================================================================================================================================================================================================================================================================================================================================================================================================================================================================================================================================================================================================================================================================================================================================================================================================================================================================================================================================================================================================================================================================================================================================================================================================================================================================================================================================================================================================================================================================================================================================================================================================================================================================================================================================================================================================================================================================================================================================================================================================================================================================================================================================================================================================================================================================================================================================================================================================================================================================================================================================================================================================================================================================================================================================================================================================================================================================================================================================================================================================================================================================================================================================================================================================================================================================================================================================================================================================================================================================================================================================================================================================================================================================================================================================================================================================================================================================================================================================================================================================================================================================================================================================================================================================================================================================================================================================================================================================================================================================================================================================================================================================================================================================================================================================================================================================================================================================================================================================================================================================================================================================================================================================================================================================================================================================================================================================================================================================================================================================================================================================================================================================================================================================================================================================================================================================================================================================================================================================================================================================================================================================================================================================================================================================================================================================================================================================================================================================================================================================================================================================================================================================================================================================================================================================================================================================================================================================================================================================================================================================================================================================================================================================================================================================================================================================================================================================================================================================================================================================================================================================================================================================================================================================================================================================================================================================================================================================================================================================================================================================================================================================================================================================================================================================================================================================================================================================================================================================================================================================================================================================================================================================================================================================================================================================================================================================================================================================================================================================================================================================================================================================================================================================================================================================================================================================================================================================================================================================================================================================================================================================================================================================================================================================================================================================================================================================================================================================================================================================================================================================================================================================================================================================================================================================================================================================================================================================================================================================================================================================================================================================================================================================================================================================================================================================================================================================================================================================================================================================================================================================================================================================================================================================================================================================================================================================================================================================================================================================================================================================================================================================================================================================================================================================================================================================================================================================================================================================================================================================================================================================================================================================================================================================================================================================================================================================================================================================================================================================================================================================================================================================================================================================================================================================================================================================================================================================================================================================================================================================================================================================================================================================================================================================================================================================================================================================================================================================================================================================================================================================================================================================================================================================================================================================================================================================================================================================================================================================================================================================================================================================================================================================================================================================================================================================================================================================================================================================================================================================================================================================================================================================================================================================================================================================================================================================================================================================================================================================================================================================================================================================================================================================================================================================================================================================================================================================================================================================================================================================================================================================================================================================================================================================================================================================================================================================================================================================================================================================================================================================================================================================================================================================================================================================================================================================================================================================================================================================================================================================================================================================================================================================================================================================================================================================================================================================================================================================================================================================================================================================================================================================================================================================================================================================================================================================================================================================================================================================================================================================================================================================================================================================================================================================================================================================================================================================================================================================================================================================================================================================================================================================================================================================================================================================================================================================================================================================================================================================================================================================================================================================================================================================================================================================================================================================================================================================================================================================================================================================================================================================================================================================================================================================================================================================================================================================================================================================================================================================================================================================================================================================================================================================================================================================================================================================================================================================================================================================================================================================================================================================================================================================================================================================================================================================================================================================================================================================================================================================================================================================================================================================================================================================================================================================================================================================================================================================================================================================================================================================================================================================================================================================================================================================================================================================================================================================================================================================================================================================================================================================================================================================================================================================================================================================================================================================================================================================================================================================================================================================================================================================================================================================================================================================================================================================================================================================================================================================================================================================================================================================================================================================================================================================================================================================================================================================================================================================================================================================================================================================================================================================================================================================================================================================================================================================================================================================================================================================================================================================================================================================================================================================================================================================================================================================================================================================================================================================================================================================================================================================================================================================================================================================================================================================================================================================================================================================================================================================================================================================================================================================================================================================================================================================================================================================================================================================================================================================================================================================================================================================================================================================================================================================================================================================================================================================================================================================================================================================================================================================================================================================================================================================================================================================================================================================================================================================================================================================================================================================================================================================================================================================================================================================================================================================================================================================================================================================================================================================================================================================================================================================================================================================================================================================================================================================================================================================================================================================================================================================================================================================================================================================================================================================================================================================================================================================================================================================================================================================================================================================================================================================================================================================================================================================================================================================================================================================================================================================================================================================================================================================================================================================================================================================================================================================================================================================================================================================================================================================================================================================================================================================================================================================================================================================================================================================================================================================================================================================================================================================================================================================================================================================================================================================================================================================================================================================================================================================================================================================================================================================================================================================================================================================================================================================================================================================================================================================================================================================================================================================================================================================================================================================================================================================================================================================================================================================================================================================================================================================================================================================================================================================================================================================================================================================================================================================================================================================================================================================================================================================================================================================================================================================================================================================================================================================================================================================================================================================================================================================================================================================================================================================================================================================================================================================================================================================================================================================================================================================================================================================================================================================================================================================================================================================================================================================================================================================================================================================================================================================================================================================================================================================================================================================================================================================================================================================================================================================================================================================================================================================================================================================================================================================================================================================================================================================================================================================================================================================================================================================================================================================================================================================================================================================================================================================================================================================================================================================================================================================================================================================================================================================================================================================================================================================================================================================================================================================================================================================================================================================================================================================================================================================================================================================================================================================================================================================================================================================================================================================================================================================================================================================================================================================================================================================================================================================================================================================================================================================================================================================================================================================================================================================================================================================================================================================================================================================================================================================================================================================================================================================================================================================================================================================================================================================================================================================================================================================================================================================================================================================================================================================================================================================================================================================================================================================================================================] - 1s 34us/sample - loss: 0.1951 - mean_absolute_error: 0.1214\n"
     ]
    },
    {
     "data": {
      "text/plain": [
       "[0.20149498996915907, 0.12142305]"
      ]
     },
     "execution_count": 27,
     "metadata": {},
     "output_type": "execute_result"
    }
   ],
   "source": [
    "# To evaluate model test loss\n",
    "\n",
    "test_loss = model.evaluate(x_test, y_test)\n",
    "test_loss"
   ]
  },
  {
   "cell_type": "code",
   "execution_count": 28,
   "metadata": {},
   "outputs": [
    {
     "data": {
      "text/plain": [
       "(16505, 123)"
      ]
     },
     "execution_count": 28,
     "metadata": {},
     "output_type": "execute_result"
    }
   ],
   "source": [
    "\n",
    "x_test.shape"
   ]
  },
  {
   "cell_type": "code",
   "execution_count": 29,
   "metadata": {},
   "outputs": [
    {
     "data": {
      "text/plain": [
       "(16505, 80)"
      ]
     },
     "execution_count": 29,
     "metadata": {},
     "output_type": "execute_result"
    }
   ],
   "source": [
    "y_test.shape"
   ]
  },
  {
   "cell_type": "code",
   "execution_count": 30,
   "metadata": {
    "colab": {
     "base_uri": "https://localhost:8080/",
     "height": 280
    },
    "id": "K6jxwKI-au9s",
    "outputId": "4824a9db-6941-4ac8-87d8-5d749bc8497d"
   },
   "outputs": [
    {
     "data": {
      "image/png": "[encoded data removed]",
      "text/plain": [
       "<Figure size 432x288 with 1 Axes>"
      ]
     },
     "metadata": {
      "needs_background": "light"
     },
     "output_type": "display_data"
    }
   ],
   "source": [
    "# To plot training loss only\n",
    "\n",
    "loss = model_history.history['loss']\n",
    "epochs = range(1, len(loss)+1)\n",
    "plt.plot(epochs, loss, 'ro', label='Training loss')\n",
    "plt.xlabel('epoch')\n",
    "plt.legend()\n",
    "plt.show()"
   ]
  },
  {
   "cell_type": "code",
   "execution_count": 79,
   "metadata": {
    "colab": {
     "base_uri": "https://localhost:8080/",
     "height": 313
    },
    "id": "gr4ZQqHQayfv",
    "outputId": "b292d2fe-9161-4bfc-9b6f-fe09e9543f33"
   },
   "outputs": [
    {
     "name": "stdout",
     "output_type": "stream",
     "text": [
      "dict_keys(['loss', 'mean_absolute_error', 'val_loss', 'val_mean_absolute_error', 'lr'])\n"
     ]
    },
    {
     "data": {
      "image/png": "[encoded data removed]",
      "text/plain": [
       "<Figure size 432x288 with 1 Axes>"
      ]
     },
     "metadata": {
      "needs_background": "light"
     },
     "output_type": "display_data"
    }
   ],
   "source": [
    "# list all data in history\n",
    "\n",
    "print(model_history.history.keys())\n",
    "hfont = {'fontname':'Arial'}\n",
    "# summarize history for accuracy\n",
    "acc = model_history.history['mean_absolute_error']\n",
    "val_acc = model_history.history['val_mean_absolute_error']\n",
    "\n",
    "plt.plot(acc,color='red',linewidth=3)\n",
    "plt.plot(val_acc,color='blue',linewidth=3)\n",
    "#plt.title('model accuracy')\n",
    "plt.ylabel('Mean Absolute Error', fontsize=16, **hfont)\n",
    "plt.xlabel('Number of epochs', fontsize=16, **hfont)\n",
    "\n",
    "#ylim(top=0.2)  # adjust the top leaving bottom unchanged\n",
    "#ylim(bottom=0.05)  # adjust the bottom leaving top unchanged\n",
    "plt.legend(['Training (ReLU), T=20', 'Testing (ReLU), T=20'], loc='upper right', prop={\"size\":14})\n",
    "plt.ylim(top=0.185)  # adjust the top leaving bottom unchanged\n",
    "plt.grid()\n",
    "plt.savefig('accuracy_3_layer.pdf')\n",
    "plt.show()"
   ]
  },
  {
   "cell_type": "code",
   "execution_count": 32,
   "metadata": {
    "colab": {
     "base_uri": "https://localhost:8080/",
     "height": 295
    },
    "id": "pgrdmzrca2id",
    "outputId": "7698718b-fba5-415a-c5a5-abfbfe868c6c"
   },
   "outputs": [
    {
     "data": {
      "image/png": "[encoded data removed]",
      "text/plain": [
       "<Figure size 432x288 with 1 Axes>"
      ]
     },
     "metadata": {
      "needs_background": "light"
     },
     "output_type": "display_data"
    }
   ],
   "source": [
    "# summarize history for loss\n",
    "\n",
    "loss = model_history.history['loss']\n",
    "val_loss = model_history.history['val_loss']\n",
    "plt.plot(loss)\n",
    "plt.plot(val_loss)\n",
    "plt.title('Model loss')\n",
    "plt.ylabel('loss')\n",
    "plt.xlabel('epoch')\n",
    "plt.legend(['train', 'test'], loc='upper right')\n",
    "plt.savefig('loss_3_layer.pdf')\n",
    "plt.grid()\n",
    "plt.show()\n",
    "\n",
    "\n",
    "\n"
   ]
  },
  {
   "cell_type": "code",
   "execution_count": 33,
   "metadata": {
    "colab": {
     "base_uri": "https://localhost:8080/",
     "height": 249
    },
    "id": "V_KxSfNKa666",
    "outputId": "c668ae3d-01ef-4869-e191-af2122733da1"
   },
   "outputs": [
    {
     "data": {
      "text/plain": [
       "array([[1.9311905e-05, 9.4085932e-05, 2.1693763e-01, ..., 7.7795088e-03,\n",
       "        1.2442261e-02, 1.7881393e-07],\n",
       "       [1.9073486e-06, 6.1981678e-03, 1.0856450e-02, ..., 1.6378313e-02,\n",
       "        1.7418653e-02, 3.5762787e-07],\n",
       "       [1.0132790e-06, 3.5393947e-01, 4.6961904e-03, ..., 8.2577169e-02,\n",
       "        1.1238247e-02, 8.3446503e-07],\n",
       "       ...,\n",
       "       [6.3180923e-06, 3.2291245e-01, 3.0694634e-02, ..., 3.5243767e-01,\n",
       "        6.7149967e-02, 1.4603138e-06],\n",
       "       [9.9987614e-01, 1.1796683e-02, 6.4308047e-03, ..., 4.6806833e-01,\n",
       "        7.4564815e-03, 1.7881393e-07],\n",
       "       [5.6624413e-07, 1.7854506e-01, 4.6854228e-02, ..., 1.3603151e-02,\n",
       "        2.7192146e-02, 2.9206276e-06]], dtype=float32)"
      ]
     },
     "execution_count": 33,
     "metadata": {},
     "output_type": "execute_result"
    }
   ],
   "source": [
    "# Making the predictions for testing\n",
    "\n",
    "# Predicting the Test set results\n",
    "y_pred = model.predict(x_test) \n",
    "y_pred"
   ]
  },
  {
   "cell_type": "code",
   "execution_count": 34,
   "metadata": {
    "colab": {
     "base_uri": "https://localhost:8080/",
     "height": 142
    },
    "id": "nTiknlOLaTPp",
    "outputId": "70722f3f-835d-4abe-ca27-4cd0d3b285f1"
   },
   "outputs": [
    {
     "data": {
      "text/plain": [
       "(16505, 80)"
      ]
     },
     "execution_count": 34,
     "metadata": {},
     "output_type": "execute_result"
    }
   ],
   "source": [
    "y_test.shape\n"
   ]
  },
  {
   "cell_type": "code",
   "execution_count": 35,
   "metadata": {
    "id": "5x9nZKCHa9ZI"
   },
   "outputs": [
    {
     "data": {
      "text/plain": [
       "(16505, 80)"
      ]
     },
     "execution_count": 35,
     "metadata": {},
     "output_type": "execute_result"
    }
   ],
   "source": [
    "y_pred.shape"
   ]
  },
  {
   "cell_type": "code",
   "execution_count": 36,
   "metadata": {
    "id": "ACY5x1V7a_vo"
   },
   "outputs": [
    {
     "name": "stdout",
     "output_type": "stream",
     "text": [
      "Test Mean Squared error (MSE): 0.06143315617236587\n",
      "Test Root mean squared error (RMSE): 0.24785712854861744\n",
      "Test Mean absolute error (MAE): 0.12142308827973669\n"
     ]
    }
   ],
   "source": [
    "# Evaluating the model # Test error\n",
    "\n",
    "# Measure MSE error  \n",
    "mse_test = metrics.mean_squared_error(y_test, y_pred)\n",
    "print(\"Test Mean Squared error (MSE): {}\".format(mse_test))\n",
    "\n",
    "# Measure RMSE error \n",
    "rmse_test = np.sqrt(metrics.mean_squared_error(y_test, y_pred))\n",
    "print(\"Test Root mean squared error (RMSE): {}\".format(rmse_test))\n",
    "\n",
    "# Measure MAE error\n",
    "mae_test = metrics.mean_absolute_error(y_test, y_pred)\n",
    "print(\"Test Mean absolute error (MAE): {}\".format(mae_test))"
   ]
  },
  {
   "cell_type": "code",
   "execution_count": 37,
   "metadata": {
    "id": "EpTj4zULbQMd"
   },
   "outputs": [
    {
     "data": {
      "text/plain": [
       "array([[2.8312206e-06, 8.8618100e-03, 5.8999956e-03, ..., 2.3824632e-02,\n",
       "        2.0066023e-02, 2.3841858e-07],\n",
       "       [1.1026859e-06, 1.3470650e-04, 1.5541285e-02, ..., 2.4721599e-01,\n",
       "        2.1158606e-02, 2.9802322e-07],\n",
       "       [9.9992657e-01, 1.1848807e-03, 2.5348365e-03, ..., 1.0422379e-02,\n",
       "        1.5496075e-02, 1.4901161e-07],\n",
       "       ...,\n",
       "       [2.6524067e-06, 1.1534095e-03, 4.7039092e-03, ..., 9.3014836e-03,\n",
       "        6.4629406e-02, 1.4901161e-07],\n",
       "       [9.9974561e-01, 1.2091994e-02, 9.0444237e-02, ..., 1.1750311e-02,\n",
       "        1.5283912e-02, 1.7881393e-07],\n",
       "       [2.0861626e-07, 4.7946155e-02, 4.1192740e-02, ..., 6.7809522e-03,\n",
       "        6.8906009e-02, 3.2782555e-07]], dtype=float32)"
      ]
     },
     "execution_count": 37,
     "metadata": {},
     "output_type": "execute_result"
    }
   ],
   "source": [
    "# Making the predictions for training\n",
    "\n",
    "# Predicting the Training set results\n",
    "y_pred_train = model.predict(x_train) \n",
    "y_pred_train"
   ]
  },
  {
   "cell_type": "code",
   "execution_count": 38,
   "metadata": {
    "id": "Of9BhiCTbU01"
   },
   "outputs": [
    {
     "data": {
      "text/plain": [
       "(148545, 80)"
      ]
     },
     "execution_count": 38,
     "metadata": {},
     "output_type": "execute_result"
    }
   ],
   "source": [
    "y_pred_train.shape "
   ]
  },
  {
   "cell_type": "code",
   "execution_count": 39,
   "metadata": {
    "id": "FWK7_bNJbXME"
   },
   "outputs": [
    {
     "name": "stdout",
     "output_type": "stream",
     "text": [
      "Training Mean Squared error (MSE): 0.0611438074178632\n",
      "Training Root mean squared error (RMSE): 0.24727273892983673\n",
      "Training Mean absolute error (MAE): 0.12111818932995219\n"
     ]
    }
   ],
   "source": [
    "# Evaluating the model # Training error\n",
    "\n",
    "# Measure MSE error  \n",
    "mse_train = metrics.mean_squared_error(y_train, y_pred_train)\n",
    "print(\"Training Mean Squared error (MSE): {}\".format(mse_train))\n",
    "\n",
    "# Measure RMSE error \n",
    "rmse_train = np.sqrt(metrics.mean_squared_error(y_train, y_pred_train))\n",
    "print(\"Training Root mean squared error (RMSE): {}\".format(rmse_train))\n",
    "\n",
    "# Measure MAE error\n",
    "mae_train = metrics.mean_absolute_error(y_train, y_pred_train)\n",
    "print(\"Training Mean absolute error (MAE): {}\".format(mae_train))"
   ]
  },
  {
   "cell_type": "code",
   "execution_count": 40,
   "metadata": {
    "id": "1Yw2ek-lRAmD"
   },
   "outputs": [
    {
     "data": {
      "text/plain": [
       "array([1.9311905e-05, 9.4085932e-05, 2.1693763e-01, ..., 1.3603151e-02,\n",
       "       2.7192146e-02, 2.9206276e-06], dtype=float32)"
      ]
     },
     "execution_count": 40,
     "metadata": {},
     "output_type": "execute_result"
    }
   ],
   "source": [
    "y_pred_flat = y_pred.flatten()\n",
    "y_pred_flat"
   ]
  },
  {
   "cell_type": "code",
   "execution_count": 41,
   "metadata": {
    "id": "zrHf4K-yRWEW"
   },
   "outputs": [
    {
     "data": {
      "text/plain": [
       "array([0., 0., 0., ..., 0., 0., 0.])"
      ]
     },
     "execution_count": 41,
     "metadata": {},
     "output_type": "execute_result"
    }
   ],
   "source": [
    "y_test_flat = y_test.flatten()\n",
    "y_test_flat"
   ]
  },
  {
   "cell_type": "code",
   "execution_count": 42,
   "metadata": {
    "id": "3sCT93VyRYOz"
   },
   "outputs": [
    {
     "name": "stdout",
     "output_type": "stream",
     "text": [
      "R2 Score Test: 0.4234235336480058\n"
     ]
    }
   ],
   "source": [
    "# Regression score for test\n",
    "\n",
    "r2_score_test = metrics.r2_score(y_test_flat, y_pred_flat)\n",
    "print(\"R2 Score Test: {}\".format(r2_score_test))"
   ]
  },
  {
   "cell_type": "code",
   "execution_count": 43,
   "metadata": {
    "id": "5oZLTaS6Rdpb"
   },
   "outputs": [
    {
     "data": {
      "text/plain": [
       "array([2.8312206e-06, 8.8618100e-03, 5.8999956e-03, ..., 6.7809522e-03,\n",
       "       6.8906009e-02, 3.2782555e-07], dtype=float32)"
      ]
     },
     "execution_count": 43,
     "metadata": {},
     "output_type": "execute_result"
    }
   ],
   "source": [
    "y_pred_train_flat = y_pred_train.flatten()\n",
    "y_pred_train_flat"
   ]
  },
  {
   "cell_type": "code",
   "execution_count": 44,
   "metadata": {
    "id": "imceUpMlRfrV"
   },
   "outputs": [
    {
     "data": {
      "text/plain": [
       "array([ 0., -0., -0., ...,  0.,  0.,  0.])"
      ]
     },
     "execution_count": 44,
     "metadata": {},
     "output_type": "execute_result"
    }
   ],
   "source": [
    "y_train_flat = y_train.flatten()\n",
    "y_train_flat"
   ]
  },
  {
   "cell_type": "code",
   "execution_count": 45,
   "metadata": {
    "id": "IywAjABTRjex"
   },
   "outputs": [
    {
     "name": "stdout",
     "output_type": "stream",
     "text": [
      "R2 Score Train: 0.42576469024494734\n"
     ]
    }
   ],
   "source": [
    "# Regression score for training\n",
    "\n",
    "r2_score_train = metrics.r2_score(y_train_flat, y_pred_train_flat)\n",
    "print(\"R2 Score Train: {}\".format(r2_score_train))"
   ]
  },
  {
   "cell_type": "code",
   "execution_count": 46,
   "metadata": {
    "id": "hr_f0cdyWpil"
   },
   "outputs": [],
   "source": [
    "######################### Constraint verification for test data ##########################"
   ]
  },
  {
   "cell_type": "code",
   "execution_count": 47,
   "metadata": {
    "colab": {
     "base_uri": "https://localhost:8080/",
     "height": 249
    },
    "id": "aS9k-9lwW0hY",
    "outputId": "32c16051-3a86-49a8-d7cb-77e547ad3e64"
   },
   "outputs": [
    {
     "data": {
      "text/plain": [
       "array([[1.9311905e-05, 9.4085932e-05, 2.1693763e-01, ..., 7.7795088e-03,\n",
       "        1.2442261e-02, 1.7881393e-07],\n",
       "       [1.9073486e-06, 6.1981678e-03, 1.0856450e-02, ..., 1.6378313e-02,\n",
       "        1.7418653e-02, 3.5762787e-07],\n",
       "       [1.0132790e-06, 3.5393947e-01, 4.6961904e-03, ..., 8.2577169e-02,\n",
       "        1.1238247e-02, 8.3446503e-07],\n",
       "       ...,\n",
       "       [6.3180923e-06, 3.2291245e-01, 3.0694634e-02, ..., 3.5243767e-01,\n",
       "        6.7149967e-02, 1.4603138e-06],\n",
       "       [9.9987614e-01, 1.1796683e-02, 6.4308047e-03, ..., 4.6806833e-01,\n",
       "        7.4564815e-03, 1.7881393e-07],\n",
       "       [5.6624413e-07, 1.7854506e-01, 4.6854228e-02, ..., 1.3603151e-02,\n",
       "        2.7192146e-02, 2.9206276e-06]], dtype=float32)"
      ]
     },
     "execution_count": 47,
     "metadata": {},
     "output_type": "execute_result"
    }
   ],
   "source": [
    "y_pred = model.predict(x_test)\n",
    "y_pred"
   ]
  },
  {
   "cell_type": "code",
   "execution_count": 48,
   "metadata": {
    "colab": {
     "base_uri": "https://localhost:8080/",
     "height": 249
    },
    "id": "qdcimHOXZsH2",
    "outputId": "1585d70d-b16d-4e2a-d7d5-6f381a4521fd"
   },
   "outputs": [
    {
     "data": {
      "text/plain": [
       "array([[-0.78611353,  1.06428217, -1.00148887, ...,  1.12895097,\n",
       "         0.94901612,  0.84466306],\n",
       "       [ 1.27337987,  0.53089654, -1.00148887, ..., -0.48112988,\n",
       "         1.3334617 , -1.33530447],\n",
       "       [ 0.53045922, -0.81211134, -1.00148887, ...,  0.39052317,\n",
       "         0.44887369,  1.48369187],\n",
       "       ...,\n",
       "       [-0.83684668,  1.12035938, -1.00148887, ..., -1.51257358,\n",
       "        -1.52444069, -0.51491748],\n",
       "       [-1.14497947, -0.12709196,  0.99851334, ..., -0.88871986,\n",
       "         0.61091845, -0.77942556],\n",
       "       [-0.17927152,  1.75854895, -1.00148887, ...,  0.99352636,\n",
       "         1.34625926,  0.64301935]])"
      ]
     },
     "execution_count": 48,
     "metadata": {},
     "output_type": "execute_result"
    }
   ],
   "source": [
    "x_test"
   ]
  },
  {
   "cell_type": "code",
   "execution_count": 49,
   "metadata": {
    "colab": {
     "base_uri": "https://localhost:8080/",
     "height": 35
    },
    "id": "ruqLSKwaZ06X",
    "outputId": "42dd9de3-1395-4349-8ec3-f163ef502a0e"
   },
   "outputs": [
    {
     "data": {
      "text/plain": [
       "(16505, 123)"
      ]
     },
     "execution_count": 49,
     "metadata": {},
     "output_type": "execute_result"
    }
   ],
   "source": [
    "x_test.shape"
   ]
  },
  {
   "cell_type": "code",
   "execution_count": 50,
   "metadata": {
    "colab": {
     "base_uri": "https://localhost:8080/",
     "height": 35
    },
    "id": "fOj5D4GRW7Ac",
    "outputId": "e4223fa4-dd8e-400f-eefc-bbd0178e4d99"
   },
   "outputs": [
    {
     "data": {
      "text/plain": [
       "(16505, 80)"
      ]
     },
     "execution_count": 50,
     "metadata": {},
     "output_type": "execute_result"
    }
   ],
   "source": [
    "y_test.shape"
   ]
  },
  {
   "cell_type": "code",
   "execution_count": 51,
   "metadata": {},
   "outputs": [
    {
     "data": {
      "text/plain": [
       "array([[1.9311905e-05, 9.4085932e-05, 2.1693763e-01, ..., 7.7795088e-03,\n",
       "        1.2442261e-02, 1.7881393e-07],\n",
       "       [1.9073486e-06, 6.1981678e-03, 1.0856450e-02, ..., 1.6378313e-02,\n",
       "        1.7418653e-02, 3.5762787e-07],\n",
       "       [1.0132790e-06, 3.5393947e-01, 4.6961904e-03, ..., 8.2577169e-02,\n",
       "        1.1238247e-02, 8.3446503e-07],\n",
       "       ...,\n",
       "       [6.3180923e-06, 3.2291245e-01, 3.0694634e-02, ..., 3.5243767e-01,\n",
       "        6.7149967e-02, 1.4603138e-06],\n",
       "       [9.9987614e-01, 1.1796683e-02, 6.4308047e-03, ..., 4.6806833e-01,\n",
       "        7.4564815e-03, 1.7881393e-07],\n",
       "       [5.6624413e-07, 1.7854506e-01, 4.6854228e-02, ..., 1.3603151e-02,\n",
       "        2.7192146e-02, 2.9206276e-06]], dtype=float32)"
      ]
     },
     "execution_count": 51,
     "metadata": {},
     "output_type": "execute_result"
    }
   ],
   "source": [
    "y_pred"
   ]
  },
  {
   "cell_type": "code",
   "execution_count": 52,
   "metadata": {
    "colab": {
     "base_uri": "https://localhost:8080/",
     "height": 142
    },
    "id": "Yn9ruPcpOQq0",
    "outputId": "c187ee9b-7905-455c-cee3-fa098f0966e1"
   },
   "outputs": [
    {
     "name": "stdout",
     "output_type": "stream",
     "text": [
      "[[0. 0. 0. ... 0. 0. 0.]\n",
      " [0. 0. 0. ... 0. 0. 0.]\n",
      " [0. 0. 0. ... 0. 0. 0.]\n",
      " ...\n",
      " [0. 0. 0. ... 0. 0. 0.]\n",
      " [1. 0. 0. ... 0. 0. 0.]\n",
      " [0. 0. 0. ... 0. 0. 0.]]\n"
     ]
    }
   ],
   "source": [
    "#round-off the y_pred\n",
    "\n",
    "import numpy as np\n",
    "a_list = np.array(y_pred)\n",
    "y_pred_binary = np.round(a_list)\n",
    "print(y_pred_binary)\n",
    "\n"
   ]
  },
  {
   "cell_type": "code",
   "execution_count": 53,
   "metadata": {
    "colab": {
     "base_uri": "https://localhost:8080/",
     "height": 35
    },
    "id": "zus7h7n3PMDh",
    "outputId": "ce6a354b-6dfa-40b8-c6c3-adead6f2d051"
   },
   "outputs": [
    {
     "data": {
      "text/plain": [
       "(16505, 80)"
      ]
     },
     "execution_count": 53,
     "metadata": {},
     "output_type": "execute_result"
    }
   ],
   "source": [
    "y_pred_binary.shape"
   ]
  },
  {
   "cell_type": "code",
   "execution_count": 54,
   "metadata": {
    "colab": {
     "base_uri": "https://localhost:8080/",
     "height": 142
    },
    "id": "RKVmQiPemWnf",
    "outputId": "8fa5f012-e7b4-4262-e8c9-06ad35d44c13"
   },
   "outputs": [
    {
     "data": {
      "text/plain": [
       "array([[0., 0., 0., ..., 0., 0., 0.],\n",
       "       [0., 0., 0., ..., 0., 0., 0.],\n",
       "       [0., 0., 0., ..., 0., 0., 0.],\n",
       "       ...,\n",
       "       [0., 0., 0., ..., 0., 0., 0.],\n",
       "       [1., 0., 0., ..., 0., 0., 0.],\n",
       "       [0., 0., 0., ..., 0., 0., 0.]], dtype=float32)"
      ]
     },
     "execution_count": 54,
     "metadata": {},
     "output_type": "execute_result"
    }
   ],
   "source": [
    "y_pred_binary"
   ]
  },
  {
   "cell_type": "code",
   "execution_count": 55,
   "metadata": {},
   "outputs": [
    {
     "data": {
      "text/plain": [
       "array([[ 0.,  0.,  0., ...,  0.,  0.,  0.],\n",
       "       [ 0., -0.,  0., ...,  0., -0.,  0.],\n",
       "       [ 0.,  1.,  0., ...,  0.,  0.,  0.],\n",
       "       ...,\n",
       "       [ 0.,  1., -0., ...,  0.,  0.,  0.],\n",
       "       [ 1.,  0., -0., ...,  0.,  0.,  0.],\n",
       "       [ 0.,  0.,  0., ...,  0.,  0.,  0.]])"
      ]
     },
     "execution_count": 55,
     "metadata": {},
     "output_type": "execute_result"
    }
   ],
   "source": [
    "y_test"
   ]
  },
  {
   "cell_type": "code",
   "execution_count": 56,
   "metadata": {
    "colab": {
     "base_uri": "https://localhost:8080/",
     "height": 35
    },
    "id": "0Y2CI1jdPzWz",
    "outputId": "7de20c4e-215b-40c2-b415-72ad1edead13"
   },
   "outputs": [
    {
     "data": {
      "text/plain": [
       "16505"
      ]
     },
     "execution_count": 56,
     "metadata": {},
     "output_type": "execute_result"
    }
   ],
   "source": [
    "len(y_pred_binary)"
   ]
  },
  {
   "cell_type": "code",
   "execution_count": null,
   "metadata": {},
   "outputs": [],
   "source": []
  },
  {
   "cell_type": "code",
   "execution_count": 57,
   "metadata": {
    "colab": {
     "base_uri": "https://localhost:8080/",
     "height": 35
    },
    "id": "W0EhQiatZWyj",
    "outputId": "67776725-788b-47d7-a3bd-288348bd211c"
   },
   "outputs": [
    {
     "data": {
      "text/plain": [
       "(165050, 123)"
      ]
     },
     "execution_count": 57,
     "metadata": {},
     "output_type": "execute_result"
    }
   ],
   "source": [
    "inputs.shape"
   ]
  },
  {
   "cell_type": "code",
   "execution_count": 58,
   "metadata": {},
   "outputs": [
    {
     "data": {
      "text/plain": [
       "array([[-0.78611353,  1.06428217, -1.00148887, ...,  1.12895097,\n",
       "         0.94901612,  0.84466306],\n",
       "       [ 1.27337987,  0.53089654, -1.00148887, ..., -0.48112988,\n",
       "         1.3334617 , -1.33530447],\n",
       "       [ 0.53045922, -0.81211134, -1.00148887, ...,  0.39052317,\n",
       "         0.44887369,  1.48369187],\n",
       "       ...,\n",
       "       [-0.83684668,  1.12035938, -1.00148887, ..., -1.51257358,\n",
       "        -1.52444069, -0.51491748],\n",
       "       [-1.14497947, -0.12709196,  0.99851334, ..., -0.88871986,\n",
       "         0.61091845, -0.77942556],\n",
       "       [-0.17927152,  1.75854895, -1.00148887, ...,  0.99352636,\n",
       "         1.34625926,  0.64301935]])"
      ]
     },
     "execution_count": 58,
     "metadata": {},
     "output_type": "execute_result"
    }
   ],
   "source": [
    "x_test"
   ]
  },
  {
   "cell_type": "code",
   "execution_count": 59,
   "metadata": {},
   "outputs": [
    {
     "data": {
      "text/plain": [
       "<bound method NDFrame.head of             0         1         2         3         4        5         6    \\\n",
       "0     -0.786114  1.064282 -1.001489  0.995265 -1.006314 -1.00033 -0.444809   \n",
       "1      1.273380  0.530897 -1.001489  0.995265 -1.006314  0.99967  0.448483   \n",
       "2      0.530459 -0.812111 -1.001489 -1.004757 -1.006314 -1.00033  0.448483   \n",
       "3      1.077441  0.820708  0.998513  0.995265 -1.006314  0.99967 -0.444809   \n",
       "4      1.387470  1.348699  0.998513  0.995265  0.993725 -1.00033  0.448483   \n",
       "...         ...       ...       ...       ...       ...      ...       ...   \n",
       "16500  1.718777  1.501341 -1.001489 -1.004757 -1.006314 -1.00033  0.448483   \n",
       "16501  0.198086  0.548502 -1.001489 -1.004757 -1.006314 -1.00033  0.448483   \n",
       "16502 -0.836847  1.120359 -1.001489 -1.004757 -1.006314  0.99967  0.448483   \n",
       "16503 -1.144979 -0.127092  0.998513 -1.004757 -1.006314 -1.00033 -0.444809   \n",
       "16504 -0.179272  1.758549 -1.001489 -1.004757 -1.006314 -1.00033 -2.231392   \n",
       "\n",
       "            7         8         9    ...       113       114       115  \\\n",
       "0     -0.999737  0.997089  1.001691  ...  0.099566  0.428057 -0.101450   \n",
       "1      1.000263 -1.002919 -0.998312  ... -1.610786 -1.159608 -0.077189   \n",
       "2     -0.999737  0.997089  1.001691  ...  0.015246  0.444326  1.226183   \n",
       "3      1.000263 -1.002919  1.001691  ...  0.844247 -1.626952 -0.734672   \n",
       "4     -0.999737  0.997089 -0.998312  ...  1.325061  0.637137  0.320936   \n",
       "...         ...       ...       ...  ...       ...       ...       ...   \n",
       "16500  1.000263 -1.002919 -0.998312  ...  0.233231 -1.434875  0.110046   \n",
       "16501  1.000263 -1.002919  1.001691  ... -0.164371  1.318554  1.646229   \n",
       "16502  1.000263 -1.002919 -0.998312  ...  0.402044 -1.052523 -0.708368   \n",
       "16503 -0.999737  0.997089 -0.998312  ... -1.207184 -0.243218  0.938875   \n",
       "16504 -0.999737 -1.002919 -0.998312  ...  1.125083 -1.474735 -0.247963   \n",
       "\n",
       "            116       117       118       119       120       121       122  \n",
       "0     -1.425301  1.167451 -0.470611 -1.479392  1.128951  0.949016  0.844663  \n",
       "1     -1.703826  0.589196 -1.428289 -1.080215 -0.481130  1.333462 -1.335304  \n",
       "2     -0.372184  1.260567 -1.733832 -0.004975  0.390523  0.448874  1.483692  \n",
       "3     -0.313346  1.292067  1.588787 -1.010833 -0.513895  0.113543 -1.286702  \n",
       "4     -1.079765 -0.927819  1.691549 -0.705673  0.989024  1.149108 -0.230505  \n",
       "...         ...       ...       ...       ...       ...       ...       ...  \n",
       "16500 -1.237724  0.974295 -0.138151  1.399869 -0.304628 -0.316455 -1.418126  \n",
       "16501  1.268046  0.580369  1.236312  1.125632 -0.645943 -0.854056  0.718484  \n",
       "16502 -0.061139 -0.581368 -0.069267  0.285425 -1.512574 -1.524441 -0.514917  \n",
       "16503 -0.620645  0.216558  0.475735  0.385384 -0.888720  0.610918 -0.779426  \n",
       "16504  1.606542  1.294663 -1.599661  0.485342  0.993526  1.346259  0.643019  \n",
       "\n",
       "[16505 rows x 123 columns]>"
      ]
     },
     "execution_count": 59,
     "metadata": {},
     "output_type": "execute_result"
    }
   ],
   "source": [
    "x_p = pd.DataFrame(x_test)\n",
    "#pi = x_p.iloc[:, 27:50]\n",
    "#pi\n",
    "x_p.head"
   ]
  },
  {
   "cell_type": "code",
   "execution_count": 60,
   "metadata": {},
   "outputs": [],
   "source": [
    "#In the next cells, we are going to compute the suboptimality of the DNN solution vs others "
   ]
  },
  {
   "cell_type": "code",
   "execution_count": 61,
   "metadata": {},
   "outputs": [
    {
     "data": {
      "text/html": [
       "<div>\n",
       "<style scoped>\n",
       "    .dataframe tbody tr th:only-of-type {\n",
       "        vertical-align: middle;\n",
       "    }\n",
       "\n",
       "    .dataframe tbody tr th {\n",
       "        vertical-align: top;\n",
       "    }\n",
       "\n",
       "    .dataframe thead th {\n",
       "        text-align: right;\n",
       "    }\n",
       "</style>\n",
       "<table border=\"1\" class=\"dataframe\">\n",
       "  <thead>\n",
       "    <tr style=\"text-align: right;\">\n",
       "      <th></th>\n",
       "      <th>27</th>\n",
       "      <th>28</th>\n",
       "      <th>29</th>\n",
       "      <th>30</th>\n",
       "      <th>31</th>\n",
       "      <th>32</th>\n",
       "      <th>33</th>\n",
       "      <th>34</th>\n",
       "      <th>35</th>\n",
       "      <th>36</th>\n",
       "      <th>37</th>\n",
       "      <th>38</th>\n",
       "      <th>39</th>\n",
       "      <th>40</th>\n",
       "      <th>41</th>\n",
       "      <th>42</th>\n",
       "      <th>43</th>\n",
       "      <th>44</th>\n",
       "      <th>45</th>\n",
       "      <th>46</th>\n",
       "    </tr>\n",
       "  </thead>\n",
       "  <tbody>\n",
       "    <tr>\n",
       "      <th>0</th>\n",
       "      <td>0.833285</td>\n",
       "      <td>1.077005</td>\n",
       "      <td>-1.369947</td>\n",
       "      <td>-0.532756</td>\n",
       "      <td>0.459941</td>\n",
       "      <td>1.045659</td>\n",
       "      <td>1.177309</td>\n",
       "      <td>1.406637</td>\n",
       "      <td>-1.028523</td>\n",
       "      <td>-1.638092</td>\n",
       "      <td>1.182250</td>\n",
       "      <td>0.404045</td>\n",
       "      <td>1.088193</td>\n",
       "      <td>0.146525</td>\n",
       "      <td>0.043721</td>\n",
       "      <td>-0.572423</td>\n",
       "      <td>-1.727986</td>\n",
       "      <td>1.239959</td>\n",
       "      <td>1.255966</td>\n",
       "      <td>-1.262450</td>\n",
       "    </tr>\n",
       "    <tr>\n",
       "      <th>1</th>\n",
       "      <td>0.915987</td>\n",
       "      <td>-0.863264</td>\n",
       "      <td>-0.985854</td>\n",
       "      <td>-1.430956</td>\n",
       "      <td>0.392835</td>\n",
       "      <td>-0.383992</td>\n",
       "      <td>0.192553</td>\n",
       "      <td>-1.717279</td>\n",
       "      <td>0.216344</td>\n",
       "      <td>0.084626</td>\n",
       "      <td>-1.704963</td>\n",
       "      <td>-0.034520</td>\n",
       "      <td>0.874998</td>\n",
       "      <td>-0.530832</td>\n",
       "      <td>-1.219658</td>\n",
       "      <td>1.594320</td>\n",
       "      <td>-0.892959</td>\n",
       "      <td>-0.602708</td>\n",
       "      <td>-0.523465</td>\n",
       "      <td>1.294095</td>\n",
       "    </tr>\n",
       "    <tr>\n",
       "      <th>2</th>\n",
       "      <td>-1.472246</td>\n",
       "      <td>-1.276995</td>\n",
       "      <td>0.566293</td>\n",
       "      <td>-0.778830</td>\n",
       "      <td>0.642828</td>\n",
       "      <td>-0.127024</td>\n",
       "      <td>-0.119341</td>\n",
       "      <td>1.204307</td>\n",
       "      <td>1.335861</td>\n",
       "      <td>-0.715294</td>\n",
       "      <td>-1.241168</td>\n",
       "      <td>-1.080003</td>\n",
       "      <td>-0.948439</td>\n",
       "      <td>-0.658362</td>\n",
       "      <td>-1.342078</td>\n",
       "      <td>-0.320032</td>\n",
       "      <td>0.584549</td>\n",
       "      <td>-0.179638</td>\n",
       "      <td>1.580675</td>\n",
       "      <td>0.678296</td>\n",
       "    </tr>\n",
       "    <tr>\n",
       "      <th>3</th>\n",
       "      <td>0.301299</td>\n",
       "      <td>1.404197</td>\n",
       "      <td>-1.485844</td>\n",
       "      <td>0.388595</td>\n",
       "      <td>0.169738</td>\n",
       "      <td>1.712529</td>\n",
       "      <td>1.465244</td>\n",
       "      <td>-1.692325</td>\n",
       "      <td>-0.631733</td>\n",
       "      <td>0.553135</td>\n",
       "      <td>-1.606559</td>\n",
       "      <td>0.119365</td>\n",
       "      <td>1.218928</td>\n",
       "      <td>0.494379</td>\n",
       "      <td>-1.412544</td>\n",
       "      <td>1.414850</td>\n",
       "      <td>0.853565</td>\n",
       "      <td>0.315041</td>\n",
       "      <td>1.269293</td>\n",
       "      <td>1.044160</td>\n",
       "    </tr>\n",
       "    <tr>\n",
       "      <th>4</th>\n",
       "      <td>-0.373301</td>\n",
       "      <td>-1.358495</td>\n",
       "      <td>-0.138018</td>\n",
       "      <td>-0.915734</td>\n",
       "      <td>-0.210813</td>\n",
       "      <td>0.548278</td>\n",
       "      <td>0.958021</td>\n",
       "      <td>-1.332715</td>\n",
       "      <td>1.343503</td>\n",
       "      <td>-1.674852</td>\n",
       "      <td>0.552833</td>\n",
       "      <td>1.199827</td>\n",
       "      <td>0.357255</td>\n",
       "      <td>-0.160117</td>\n",
       "      <td>0.446502</td>\n",
       "      <td>-0.223305</td>\n",
       "      <td>-1.573466</td>\n",
       "      <td>0.238999</td>\n",
       "      <td>-0.513180</td>\n",
       "      <td>-1.619390</td>\n",
       "    </tr>\n",
       "    <tr>\n",
       "      <th>...</th>\n",
       "      <td>...</td>\n",
       "      <td>...</td>\n",
       "      <td>...</td>\n",
       "      <td>...</td>\n",
       "      <td>...</td>\n",
       "      <td>...</td>\n",
       "      <td>...</td>\n",
       "      <td>...</td>\n",
       "      <td>...</td>\n",
       "      <td>...</td>\n",
       "      <td>...</td>\n",
       "      <td>...</td>\n",
       "      <td>...</td>\n",
       "      <td>...</td>\n",
       "      <td>...</td>\n",
       "      <td>...</td>\n",
       "      <td>...</td>\n",
       "      <td>...</td>\n",
       "      <td>...</td>\n",
       "      <td>...</td>\n",
       "    </tr>\n",
       "    <tr>\n",
       "      <th>16500</th>\n",
       "      <td>0.753082</td>\n",
       "      <td>0.881082</td>\n",
       "      <td>0.455629</td>\n",
       "      <td>0.614176</td>\n",
       "      <td>-1.632585</td>\n",
       "      <td>0.072575</td>\n",
       "      <td>-0.619641</td>\n",
       "      <td>-1.367387</td>\n",
       "      <td>1.226447</td>\n",
       "      <td>0.547355</td>\n",
       "      <td>0.186827</td>\n",
       "      <td>-0.590913</td>\n",
       "      <td>0.987717</td>\n",
       "      <td>0.699321</td>\n",
       "      <td>1.085234</td>\n",
       "      <td>1.454488</td>\n",
       "      <td>1.289687</td>\n",
       "      <td>0.612620</td>\n",
       "      <td>-1.606792</td>\n",
       "      <td>0.447862</td>\n",
       "    </tr>\n",
       "    <tr>\n",
       "      <th>16501</th>\n",
       "      <td>0.309753</td>\n",
       "      <td>-1.123033</td>\n",
       "      <td>1.459188</td>\n",
       "      <td>-1.730035</td>\n",
       "      <td>-0.532337</td>\n",
       "      <td>-1.080972</td>\n",
       "      <td>-0.612603</td>\n",
       "      <td>1.161342</td>\n",
       "      <td>1.167382</td>\n",
       "      <td>-0.744386</td>\n",
       "      <td>1.314417</td>\n",
       "      <td>0.784389</td>\n",
       "      <td>0.091358</td>\n",
       "      <td>1.667359</td>\n",
       "      <td>1.535853</td>\n",
       "      <td>0.537027</td>\n",
       "      <td>0.480946</td>\n",
       "      <td>1.080282</td>\n",
       "      <td>-0.865430</td>\n",
       "      <td>-0.836737</td>\n",
       "    </tr>\n",
       "    <tr>\n",
       "      <th>16502</th>\n",
       "      <td>1.238068</td>\n",
       "      <td>-0.842110</td>\n",
       "      <td>-0.626849</td>\n",
       "      <td>-0.748860</td>\n",
       "      <td>-0.877103</td>\n",
       "      <td>1.134177</td>\n",
       "      <td>-1.091213</td>\n",
       "      <td>-0.096524</td>\n",
       "      <td>-0.458991</td>\n",
       "      <td>-1.401314</td>\n",
       "      <td>-0.618672</td>\n",
       "      <td>-0.742527</td>\n",
       "      <td>0.398254</td>\n",
       "      <td>0.115529</td>\n",
       "      <td>0.497495</td>\n",
       "      <td>0.576435</td>\n",
       "      <td>1.663384</td>\n",
       "      <td>-0.897666</td>\n",
       "      <td>-0.819247</td>\n",
       "      <td>0.539982</td>\n",
       "    </tr>\n",
       "    <tr>\n",
       "      <th>16503</th>\n",
       "      <td>1.280265</td>\n",
       "      <td>1.102697</td>\n",
       "      <td>0.623011</td>\n",
       "      <td>-0.519004</td>\n",
       "      <td>0.609621</td>\n",
       "      <td>-0.848992</td>\n",
       "      <td>-1.337421</td>\n",
       "      <td>1.656945</td>\n",
       "      <td>-1.694603</td>\n",
       "      <td>0.192631</td>\n",
       "      <td>0.540335</td>\n",
       "      <td>-0.088047</td>\n",
       "      <td>-0.577446</td>\n",
       "      <td>1.298070</td>\n",
       "      <td>1.218353</td>\n",
       "      <td>1.190617</td>\n",
       "      <td>1.509210</td>\n",
       "      <td>-1.174316</td>\n",
       "      <td>0.534094</td>\n",
       "      <td>-1.164830</td>\n",
       "    </tr>\n",
       "    <tr>\n",
       "      <th>16504</th>\n",
       "      <td>-0.860056</td>\n",
       "      <td>-0.774687</td>\n",
       "      <td>0.268200</td>\n",
       "      <td>0.999080</td>\n",
       "      <td>1.593588</td>\n",
       "      <td>0.132717</td>\n",
       "      <td>-0.497844</td>\n",
       "      <td>0.075298</td>\n",
       "      <td>1.674008</td>\n",
       "      <td>-1.718084</td>\n",
       "      <td>-0.949378</td>\n",
       "      <td>1.084231</td>\n",
       "      <td>1.347084</td>\n",
       "      <td>1.477028</td>\n",
       "      <td>0.221097</td>\n",
       "      <td>-1.580486</td>\n",
       "      <td>-0.867636</td>\n",
       "      <td>1.617126</td>\n",
       "      <td>0.547807</td>\n",
       "      <td>-0.278826</td>\n",
       "    </tr>\n",
       "  </tbody>\n",
       "</table>\n",
       "<p>16505 rows × 20 columns</p>\n",
       "</div>"
      ],
      "text/plain": [
       "             27        28        29        30        31        32        33  \\\n",
       "0      0.833285  1.077005 -1.369947 -0.532756  0.459941  1.045659  1.177309   \n",
       "1      0.915987 -0.863264 -0.985854 -1.430956  0.392835 -0.383992  0.192553   \n",
       "2     -1.472246 -1.276995  0.566293 -0.778830  0.642828 -0.127024 -0.119341   \n",
       "3      0.301299  1.404197 -1.485844  0.388595  0.169738  1.712529  1.465244   \n",
       "4     -0.373301 -1.358495 -0.138018 -0.915734 -0.210813  0.548278  0.958021   \n",
       "...         ...       ...       ...       ...       ...       ...       ...   \n",
       "16500  0.753082  0.881082  0.455629  0.614176 -1.632585  0.072575 -0.619641   \n",
       "16501  0.309753 -1.123033  1.459188 -1.730035 -0.532337 -1.080972 -0.612603   \n",
       "16502  1.238068 -0.842110 -0.626849 -0.748860 -0.877103  1.134177 -1.091213   \n",
       "16503  1.280265  1.102697  0.623011 -0.519004  0.609621 -0.848992 -1.337421   \n",
       "16504 -0.860056 -0.774687  0.268200  0.999080  1.593588  0.132717 -0.497844   \n",
       "\n",
       "             34        35        36        37        38        39        40  \\\n",
       "0      1.406637 -1.028523 -1.638092  1.182250  0.404045  1.088193  0.146525   \n",
       "1     -1.717279  0.216344  0.084626 -1.704963 -0.034520  0.874998 -0.530832   \n",
       "2      1.204307  1.335861 -0.715294 -1.241168 -1.080003 -0.948439 -0.658362   \n",
       "3     -1.692325 -0.631733  0.553135 -1.606559  0.119365  1.218928  0.494379   \n",
       "4     -1.332715  1.343503 -1.674852  0.552833  1.199827  0.357255 -0.160117   \n",
       "...         ...       ...       ...       ...       ...       ...       ...   \n",
       "16500 -1.367387  1.226447  0.547355  0.186827 -0.590913  0.987717  0.699321   \n",
       "16501  1.161342  1.167382 -0.744386  1.314417  0.784389  0.091358  1.667359   \n",
       "16502 -0.096524 -0.458991 -1.401314 -0.618672 -0.742527  0.398254  0.115529   \n",
       "16503  1.656945 -1.694603  0.192631  0.540335 -0.088047 -0.577446  1.298070   \n",
       "16504  0.075298  1.674008 -1.718084 -0.949378  1.084231  1.347084  1.477028   \n",
       "\n",
       "             41        42        43        44        45        46  \n",
       "0      0.043721 -0.572423 -1.727986  1.239959  1.255966 -1.262450  \n",
       "1     -1.219658  1.594320 -0.892959 -0.602708 -0.523465  1.294095  \n",
       "2     -1.342078 -0.320032  0.584549 -0.179638  1.580675  0.678296  \n",
       "3     -1.412544  1.414850  0.853565  0.315041  1.269293  1.044160  \n",
       "4      0.446502 -0.223305 -1.573466  0.238999 -0.513180 -1.619390  \n",
       "...         ...       ...       ...       ...       ...       ...  \n",
       "16500  1.085234  1.454488  1.289687  0.612620 -1.606792  0.447862  \n",
       "16501  1.535853  0.537027  0.480946  1.080282 -0.865430 -0.836737  \n",
       "16502  0.497495  0.576435  1.663384 -0.897666 -0.819247  0.539982  \n",
       "16503  1.218353  1.190617  1.509210 -1.174316  0.534094 -1.164830  \n",
       "16504  0.221097 -1.580486 -0.867636  1.617126  0.547807 -0.278826  \n",
       "\n",
       "[16505 rows x 20 columns]"
      ]
     },
     "execution_count": 61,
     "metadata": {},
     "output_type": "execute_result"
    }
   ],
   "source": [
    "x_pi = pd.DataFrame(x_test)\n",
    "x_pi = x_pi.iloc[:, 27:47]\n",
    "x_pi #Saving the energy prize"
   ]
  },
  {
   "cell_type": "code",
   "execution_count": 62,
   "metadata": {},
   "outputs": [
    {
     "data": {
      "text/html": [
       "<div>\n",
       "<style scoped>\n",
       "    .dataframe tbody tr th:only-of-type {\n",
       "        vertical-align: middle;\n",
       "    }\n",
       "\n",
       "    .dataframe tbody tr th {\n",
       "        vertical-align: top;\n",
       "    }\n",
       "\n",
       "    .dataframe thead th {\n",
       "        text-align: right;\n",
       "    }\n",
       "</style>\n",
       "<table border=\"1\" class=\"dataframe\">\n",
       "  <thead>\n",
       "    <tr style=\"text-align: right;\">\n",
       "      <th></th>\n",
       "      <th>0</th>\n",
       "      <th>1</th>\n",
       "      <th>2</th>\n",
       "      <th>3</th>\n",
       "      <th>4</th>\n",
       "      <th>5</th>\n",
       "      <th>6</th>\n",
       "      <th>7</th>\n",
       "      <th>8</th>\n",
       "      <th>9</th>\n",
       "      <th>...</th>\n",
       "      <th>70</th>\n",
       "      <th>71</th>\n",
       "      <th>72</th>\n",
       "      <th>73</th>\n",
       "      <th>74</th>\n",
       "      <th>75</th>\n",
       "      <th>76</th>\n",
       "      <th>77</th>\n",
       "      <th>78</th>\n",
       "      <th>79</th>\n",
       "    </tr>\n",
       "  </thead>\n",
       "  <tbody>\n",
       "    <tr>\n",
       "      <th>0</th>\n",
       "      <td>1.931190e-05</td>\n",
       "      <td>0.000094</td>\n",
       "      <td>0.216938</td>\n",
       "      <td>0.050741</td>\n",
       "      <td>0.055589</td>\n",
       "      <td>0.018099</td>\n",
       "      <td>0.025780</td>\n",
       "      <td>0.015677</td>\n",
       "      <td>0.123349</td>\n",
       "      <td>0.633950</td>\n",
       "      <td>...</td>\n",
       "      <td>0.007246</td>\n",
       "      <td>0.043904</td>\n",
       "      <td>0.003722</td>\n",
       "      <td>0.076042</td>\n",
       "      <td>0.044450</td>\n",
       "      <td>0.120774</td>\n",
       "      <td>0.389221</td>\n",
       "      <td>0.007780</td>\n",
       "      <td>0.012442</td>\n",
       "      <td>1.788139e-07</td>\n",
       "    </tr>\n",
       "    <tr>\n",
       "      <th>1</th>\n",
       "      <td>1.907349e-06</td>\n",
       "      <td>0.006198</td>\n",
       "      <td>0.010856</td>\n",
       "      <td>0.327829</td>\n",
       "      <td>0.004148</td>\n",
       "      <td>0.051130</td>\n",
       "      <td>0.003556</td>\n",
       "      <td>0.462250</td>\n",
       "      <td>0.006994</td>\n",
       "      <td>0.023657</td>\n",
       "      <td>...</td>\n",
       "      <td>0.474564</td>\n",
       "      <td>0.021701</td>\n",
       "      <td>0.023252</td>\n",
       "      <td>0.057414</td>\n",
       "      <td>0.434482</td>\n",
       "      <td>0.005483</td>\n",
       "      <td>0.197523</td>\n",
       "      <td>0.016378</td>\n",
       "      <td>0.017419</td>\n",
       "      <td>3.576279e-07</td>\n",
       "    </tr>\n",
       "    <tr>\n",
       "      <th>2</th>\n",
       "      <td>1.013279e-06</td>\n",
       "      <td>0.353939</td>\n",
       "      <td>0.004696</td>\n",
       "      <td>0.385724</td>\n",
       "      <td>0.004772</td>\n",
       "      <td>0.091649</td>\n",
       "      <td>0.078536</td>\n",
       "      <td>0.009849</td>\n",
       "      <td>0.008717</td>\n",
       "      <td>0.090954</td>\n",
       "      <td>...</td>\n",
       "      <td>0.350469</td>\n",
       "      <td>0.027812</td>\n",
       "      <td>0.077316</td>\n",
       "      <td>0.017333</td>\n",
       "      <td>0.586568</td>\n",
       "      <td>0.036409</td>\n",
       "      <td>0.024709</td>\n",
       "      <td>0.082577</td>\n",
       "      <td>0.011238</td>\n",
       "      <td>8.344650e-07</td>\n",
       "    </tr>\n",
       "    <tr>\n",
       "      <th>3</th>\n",
       "      <td>9.996185e-01</td>\n",
       "      <td>0.000137</td>\n",
       "      <td>0.217893</td>\n",
       "      <td>0.009950</td>\n",
       "      <td>0.057101</td>\n",
       "      <td>0.002279</td>\n",
       "      <td>0.007929</td>\n",
       "      <td>0.459013</td>\n",
       "      <td>0.010778</td>\n",
       "      <td>0.003335</td>\n",
       "      <td>...</td>\n",
       "      <td>0.322298</td>\n",
       "      <td>0.011922</td>\n",
       "      <td>0.014719</td>\n",
       "      <td>0.009952</td>\n",
       "      <td>0.578534</td>\n",
       "      <td>0.010064</td>\n",
       "      <td>0.036402</td>\n",
       "      <td>0.051680</td>\n",
       "      <td>0.026007</td>\n",
       "      <td>1.490116e-07</td>\n",
       "    </tr>\n",
       "    <tr>\n",
       "      <th>4</th>\n",
       "      <td>9.999001e-01</td>\n",
       "      <td>0.080538</td>\n",
       "      <td>0.003679</td>\n",
       "      <td>0.213746</td>\n",
       "      <td>0.026348</td>\n",
       "      <td>0.009252</td>\n",
       "      <td>0.004754</td>\n",
       "      <td>0.214459</td>\n",
       "      <td>0.002308</td>\n",
       "      <td>0.560118</td>\n",
       "      <td>...</td>\n",
       "      <td>0.015423</td>\n",
       "      <td>0.006397</td>\n",
       "      <td>0.010629</td>\n",
       "      <td>0.056925</td>\n",
       "      <td>0.017124</td>\n",
       "      <td>0.048349</td>\n",
       "      <td>0.390909</td>\n",
       "      <td>0.010437</td>\n",
       "      <td>0.018022</td>\n",
       "      <td>5.960464e-08</td>\n",
       "    </tr>\n",
       "    <tr>\n",
       "      <th>...</th>\n",
       "      <td>...</td>\n",
       "      <td>...</td>\n",
       "      <td>...</td>\n",
       "      <td>...</td>\n",
       "      <td>...</td>\n",
       "      <td>...</td>\n",
       "      <td>...</td>\n",
       "      <td>...</td>\n",
       "      <td>...</td>\n",
       "      <td>...</td>\n",
       "      <td>...</td>\n",
       "      <td>...</td>\n",
       "      <td>...</td>\n",
       "      <td>...</td>\n",
       "      <td>...</td>\n",
       "      <td>...</td>\n",
       "      <td>...</td>\n",
       "      <td>...</td>\n",
       "      <td>...</td>\n",
       "      <td>...</td>\n",
       "      <td>...</td>\n",
       "    </tr>\n",
       "    <tr>\n",
       "      <th>16500</th>\n",
       "      <td>2.485514e-05</td>\n",
       "      <td>0.004842</td>\n",
       "      <td>0.022117</td>\n",
       "      <td>0.011994</td>\n",
       "      <td>0.559417</td>\n",
       "      <td>0.006048</td>\n",
       "      <td>0.029055</td>\n",
       "      <td>0.513637</td>\n",
       "      <td>0.006158</td>\n",
       "      <td>0.037160</td>\n",
       "      <td>...</td>\n",
       "      <td>0.038702</td>\n",
       "      <td>0.451652</td>\n",
       "      <td>0.017152</td>\n",
       "      <td>0.096381</td>\n",
       "      <td>0.057952</td>\n",
       "      <td>0.015170</td>\n",
       "      <td>0.029116</td>\n",
       "      <td>0.039526</td>\n",
       "      <td>0.254352</td>\n",
       "      <td>5.662441e-07</td>\n",
       "    </tr>\n",
       "    <tr>\n",
       "      <th>16501</th>\n",
       "      <td>3.841519e-05</td>\n",
       "      <td>0.112205</td>\n",
       "      <td>0.001046</td>\n",
       "      <td>0.480912</td>\n",
       "      <td>0.001593</td>\n",
       "      <td>0.186035</td>\n",
       "      <td>0.057573</td>\n",
       "      <td>0.006067</td>\n",
       "      <td>0.006410</td>\n",
       "      <td>0.388450</td>\n",
       "      <td>...</td>\n",
       "      <td>0.018121</td>\n",
       "      <td>0.023158</td>\n",
       "      <td>0.268593</td>\n",
       "      <td>0.015142</td>\n",
       "      <td>0.015742</td>\n",
       "      <td>0.045579</td>\n",
       "      <td>0.128435</td>\n",
       "      <td>0.003626</td>\n",
       "      <td>0.254578</td>\n",
       "      <td>1.192093e-07</td>\n",
       "    </tr>\n",
       "    <tr>\n",
       "      <th>16502</th>\n",
       "      <td>6.318092e-06</td>\n",
       "      <td>0.322912</td>\n",
       "      <td>0.030695</td>\n",
       "      <td>0.128743</td>\n",
       "      <td>0.103413</td>\n",
       "      <td>0.002913</td>\n",
       "      <td>0.341001</td>\n",
       "      <td>0.006505</td>\n",
       "      <td>0.020816</td>\n",
       "      <td>0.603584</td>\n",
       "      <td>...</td>\n",
       "      <td>0.014131</td>\n",
       "      <td>0.231724</td>\n",
       "      <td>0.007276</td>\n",
       "      <td>0.118129</td>\n",
       "      <td>0.017034</td>\n",
       "      <td>0.054459</td>\n",
       "      <td>0.008589</td>\n",
       "      <td>0.352438</td>\n",
       "      <td>0.067150</td>\n",
       "      <td>1.460314e-06</td>\n",
       "    </tr>\n",
       "    <tr>\n",
       "      <th>16503</th>\n",
       "      <td>9.998761e-01</td>\n",
       "      <td>0.011797</td>\n",
       "      <td>0.006431</td>\n",
       "      <td>0.064671</td>\n",
       "      <td>0.004078</td>\n",
       "      <td>0.075183</td>\n",
       "      <td>0.164991</td>\n",
       "      <td>0.001490</td>\n",
       "      <td>0.564017</td>\n",
       "      <td>0.008961</td>\n",
       "      <td>...</td>\n",
       "      <td>0.024193</td>\n",
       "      <td>0.019859</td>\n",
       "      <td>0.478806</td>\n",
       "      <td>0.020783</td>\n",
       "      <td>0.019214</td>\n",
       "      <td>0.044760</td>\n",
       "      <td>0.025803</td>\n",
       "      <td>0.468068</td>\n",
       "      <td>0.007456</td>\n",
       "      <td>1.788139e-07</td>\n",
       "    </tr>\n",
       "    <tr>\n",
       "      <th>16504</th>\n",
       "      <td>5.662441e-07</td>\n",
       "      <td>0.178545</td>\n",
       "      <td>0.046854</td>\n",
       "      <td>0.006293</td>\n",
       "      <td>0.016239</td>\n",
       "      <td>0.090083</td>\n",
       "      <td>0.331493</td>\n",
       "      <td>0.056563</td>\n",
       "      <td>0.013661</td>\n",
       "      <td>0.625675</td>\n",
       "      <td>...</td>\n",
       "      <td>0.143716</td>\n",
       "      <td>0.018932</td>\n",
       "      <td>0.048992</td>\n",
       "      <td>0.036953</td>\n",
       "      <td>0.088780</td>\n",
       "      <td>0.608419</td>\n",
       "      <td>0.099383</td>\n",
       "      <td>0.013603</td>\n",
       "      <td>0.027192</td>\n",
       "      <td>2.920628e-06</td>\n",
       "    </tr>\n",
       "  </tbody>\n",
       "</table>\n",
       "<p>16505 rows × 80 columns</p>\n",
       "</div>"
      ],
      "text/plain": [
       "                 0         1         2         3         4         5   \\\n",
       "0      1.931190e-05  0.000094  0.216938  0.050741  0.055589  0.018099   \n",
       "1      1.907349e-06  0.006198  0.010856  0.327829  0.004148  0.051130   \n",
       "2      1.013279e-06  0.353939  0.004696  0.385724  0.004772  0.091649   \n",
       "3      9.996185e-01  0.000137  0.217893  0.009950  0.057101  0.002279   \n",
       "4      9.999001e-01  0.080538  0.003679  0.213746  0.026348  0.009252   \n",
       "...             ...       ...       ...       ...       ...       ...   \n",
       "16500  2.485514e-05  0.004842  0.022117  0.011994  0.559417  0.006048   \n",
       "16501  3.841519e-05  0.112205  0.001046  0.480912  0.001593  0.186035   \n",
       "16502  6.318092e-06  0.322912  0.030695  0.128743  0.103413  0.002913   \n",
       "16503  9.998761e-01  0.011797  0.006431  0.064671  0.004078  0.075183   \n",
       "16504  5.662441e-07  0.178545  0.046854  0.006293  0.016239  0.090083   \n",
       "\n",
       "             6         7         8         9   ...        70        71  \\\n",
       "0      0.025780  0.015677  0.123349  0.633950  ...  0.007246  0.043904   \n",
       "1      0.003556  0.462250  0.006994  0.023657  ...  0.474564  0.021701   \n",
       "2      0.078536  0.009849  0.008717  0.090954  ...  0.350469  0.027812   \n",
       "3      0.007929  0.459013  0.010778  0.003335  ...  0.322298  0.011922   \n",
       "4      0.004754  0.214459  0.002308  0.560118  ...  0.015423  0.006397   \n",
       "...         ...       ...       ...       ...  ...       ...       ...   \n",
       "16500  0.029055  0.513637  0.006158  0.037160  ...  0.038702  0.451652   \n",
       "16501  0.057573  0.006067  0.006410  0.388450  ...  0.018121  0.023158   \n",
       "16502  0.341001  0.006505  0.020816  0.603584  ...  0.014131  0.231724   \n",
       "16503  0.164991  0.001490  0.564017  0.008961  ...  0.024193  0.019859   \n",
       "16504  0.331493  0.056563  0.013661  0.625675  ...  0.143716  0.018932   \n",
       "\n",
       "             72        73        74        75        76        77        78  \\\n",
       "0      0.003722  0.076042  0.044450  0.120774  0.389221  0.007780  0.012442   \n",
       "1      0.023252  0.057414  0.434482  0.005483  0.197523  0.016378  0.017419   \n",
       "2      0.077316  0.017333  0.586568  0.036409  0.024709  0.082577  0.011238   \n",
       "3      0.014719  0.009952  0.578534  0.010064  0.036402  0.051680  0.026007   \n",
       "4      0.010629  0.056925  0.017124  0.048349  0.390909  0.010437  0.018022   \n",
       "...         ...       ...       ...       ...       ...       ...       ...   \n",
       "16500  0.017152  0.096381  0.057952  0.015170  0.029116  0.039526  0.254352   \n",
       "16501  0.268593  0.015142  0.015742  0.045579  0.128435  0.003626  0.254578   \n",
       "16502  0.007276  0.118129  0.017034  0.054459  0.008589  0.352438  0.067150   \n",
       "16503  0.478806  0.020783  0.019214  0.044760  0.025803  0.468068  0.007456   \n",
       "16504  0.048992  0.036953  0.088780  0.608419  0.099383  0.013603  0.027192   \n",
       "\n",
       "                 79  \n",
       "0      1.788139e-07  \n",
       "1      3.576279e-07  \n",
       "2      8.344650e-07  \n",
       "3      1.490116e-07  \n",
       "4      5.960464e-08  \n",
       "...             ...  \n",
       "16500  5.662441e-07  \n",
       "16501  1.192093e-07  \n",
       "16502  1.460314e-06  \n",
       "16503  1.788139e-07  \n",
       "16504  2.920628e-06  \n",
       "\n",
       "[16505 rows x 80 columns]"
      ]
     },
     "execution_count": 62,
     "metadata": {},
     "output_type": "execute_result"
    }
   ],
   "source": [
    "#saving the test and predicted switching\n",
    "y_test= pd.DataFrame(y_test)\n",
    "y_train= pd.DataFrame(y_train)\n",
    "y_pred= pd.DataFrame(y_pred)\n",
    "y_pred\n"
   ]
  },
  {
   "cell_type": "code",
   "execution_count": 63,
   "metadata": {
    "id": "ZQpsT-B6aMra"
   },
   "outputs": [
    {
     "data": {
      "text/plain": [
       "'\\nx_p = pd.DataFrame(inputs.values)            #Energy price of inputs\\nx_p = x_p.iloc[65544:81881, 18:50]            # Saving the Energy price\\nx_p.index = range(len(x_p))\\nx_p.columns = range(x_p.shape[1])\\n\\n\\ny_test= pd.DataFrame(y_test)\\ny_test = y_test.iloc[0:16377, 0:14]\\ny_test.index = range(len(y_test))\\ny_test.columns = range(y_test.shape[1])\\n\\ny_pred= pd.DataFrame(y_pred_binary)\\ny_pred = y_pred.iloc[0:16377, 0:14]\\ny_pred.index = range(len(y_pred))\\ny_pred.columns = range(y_pred.shape[1])\\n'"
      ]
     },
     "execution_count": 63,
     "metadata": {},
     "output_type": "execute_result"
    }
   ],
   "source": [
    "'''\n",
    "x_p = pd.DataFrame(inputs.values)            #Energy price of inputs\n",
    "x_p = x_p.iloc[65544:81881, 18:50]            # Saving the Energy price\n",
    "x_p.index = range(len(x_p))\n",
    "x_p.columns = range(x_p.shape[1])\n",
    "\n",
    "\n",
    "y_test= pd.DataFrame(y_test)\n",
    "y_test = y_test.iloc[0:16377, 0:14]\n",
    "y_test.index = range(len(y_test))\n",
    "y_test.columns = range(y_test.shape[1])\n",
    "\n",
    "y_pred= pd.DataFrame(y_pred_binary)\n",
    "y_pred = y_pred.iloc[0:16377, 0:14]\n",
    "y_pred.index = range(len(y_pred))\n",
    "y_pred.columns = range(y_pred.shape[1])\n",
    "'''\n",
    "#testing = pd.concat([x_pi, y_test, y_pred], axis=1)\n",
    "#testing.to_excel('testing.xlsx', index = False)"
   ]
  },
  {
   "cell_type": "code",
   "execution_count": 64,
   "metadata": {
    "id": "cmavpKE-GMCX"
   },
   "outputs": [],
   "source": [
    "concat_x_pi =  pd.concat([x_pi, x_pi, x_pi, x_pi], ignore_index=True, axis=1)\n",
    "concat_x_pi= pd.DataFrame(concat_x_pi)\n",
    "#concat_x_pi.index = new_index\n",
    "concat_x_pi = concat_x_pi.T\n"
   ]
  },
  {
   "cell_type": "code",
   "execution_count": 65,
   "metadata": {},
   "outputs": [
    {
     "data": {
      "text/plain": [
       "(80, 16505)"
      ]
     },
     "execution_count": 65,
     "metadata": {},
     "output_type": "execute_result"
    }
   ],
   "source": [
    "concat_x_pi = abs(concat_x_pi)\n",
    "concat_x_pi.shape"
   ]
  },
  {
   "cell_type": "code",
   "execution_count": 66,
   "metadata": {
    "colab": {
     "base_uri": "https://localhost:8080/",
     "height": 35
    },
    "id": "kyDfSEAnHTYC",
    "outputId": "a6daab74-55ac-445e-8835-2a1869120f5f"
   },
   "outputs": [
    {
     "data": {
      "text/plain": [
       "(16505, 80)"
      ]
     },
     "execution_count": 66,
     "metadata": {},
     "output_type": "execute_result"
    }
   ],
   "source": [
    "y_pred.shape\n"
   ]
  },
  {
   "cell_type": "code",
   "execution_count": 67,
   "metadata": {},
   "outputs": [],
   "source": [
    "y_pred = y_pred"
   ]
  },
  {
   "cell_type": "code",
   "execution_count": 68,
   "metadata": {},
   "outputs": [
    {
     "data": {
      "text/html": [
       "<div>\n",
       "<style scoped>\n",
       "    .dataframe tbody tr th:only-of-type {\n",
       "        vertical-align: middle;\n",
       "    }\n",
       "\n",
       "    .dataframe tbody tr th {\n",
       "        vertical-align: top;\n",
       "    }\n",
       "\n",
       "    .dataframe thead th {\n",
       "        text-align: right;\n",
       "    }\n",
       "</style>\n",
       "<table border=\"1\" class=\"dataframe\">\n",
       "  <thead>\n",
       "    <tr style=\"text-align: right;\">\n",
       "      <th></th>\n",
       "      <th>0</th>\n",
       "      <th>1</th>\n",
       "      <th>2</th>\n",
       "      <th>3</th>\n",
       "      <th>4</th>\n",
       "      <th>5</th>\n",
       "      <th>6</th>\n",
       "      <th>7</th>\n",
       "      <th>8</th>\n",
       "      <th>9</th>\n",
       "      <th>...</th>\n",
       "      <th>70</th>\n",
       "      <th>71</th>\n",
       "      <th>72</th>\n",
       "      <th>73</th>\n",
       "      <th>74</th>\n",
       "      <th>75</th>\n",
       "      <th>76</th>\n",
       "      <th>77</th>\n",
       "      <th>78</th>\n",
       "      <th>79</th>\n",
       "    </tr>\n",
       "  </thead>\n",
       "  <tbody>\n",
       "    <tr>\n",
       "      <th>0</th>\n",
       "      <td>1.931190e-05</td>\n",
       "      <td>0.000094</td>\n",
       "      <td>0.216938</td>\n",
       "      <td>0.050741</td>\n",
       "      <td>0.055589</td>\n",
       "      <td>0.018099</td>\n",
       "      <td>0.025780</td>\n",
       "      <td>0.015677</td>\n",
       "      <td>0.123349</td>\n",
       "      <td>0.633950</td>\n",
       "      <td>...</td>\n",
       "      <td>0.007246</td>\n",
       "      <td>0.043904</td>\n",
       "      <td>0.003722</td>\n",
       "      <td>0.076042</td>\n",
       "      <td>0.044450</td>\n",
       "      <td>0.120774</td>\n",
       "      <td>0.389221</td>\n",
       "      <td>0.007780</td>\n",
       "      <td>0.012442</td>\n",
       "      <td>1.788139e-07</td>\n",
       "    </tr>\n",
       "    <tr>\n",
       "      <th>1</th>\n",
       "      <td>1.907349e-06</td>\n",
       "      <td>0.006198</td>\n",
       "      <td>0.010856</td>\n",
       "      <td>0.327829</td>\n",
       "      <td>0.004148</td>\n",
       "      <td>0.051130</td>\n",
       "      <td>0.003556</td>\n",
       "      <td>0.462250</td>\n",
       "      <td>0.006994</td>\n",
       "      <td>0.023657</td>\n",
       "      <td>...</td>\n",
       "      <td>0.474564</td>\n",
       "      <td>0.021701</td>\n",
       "      <td>0.023252</td>\n",
       "      <td>0.057414</td>\n",
       "      <td>0.434482</td>\n",
       "      <td>0.005483</td>\n",
       "      <td>0.197523</td>\n",
       "      <td>0.016378</td>\n",
       "      <td>0.017419</td>\n",
       "      <td>3.576279e-07</td>\n",
       "    </tr>\n",
       "    <tr>\n",
       "      <th>2</th>\n",
       "      <td>1.013279e-06</td>\n",
       "      <td>0.353939</td>\n",
       "      <td>0.004696</td>\n",
       "      <td>0.385724</td>\n",
       "      <td>0.004772</td>\n",
       "      <td>0.091649</td>\n",
       "      <td>0.078536</td>\n",
       "      <td>0.009849</td>\n",
       "      <td>0.008717</td>\n",
       "      <td>0.090954</td>\n",
       "      <td>...</td>\n",
       "      <td>0.350469</td>\n",
       "      <td>0.027812</td>\n",
       "      <td>0.077316</td>\n",
       "      <td>0.017333</td>\n",
       "      <td>0.586568</td>\n",
       "      <td>0.036409</td>\n",
       "      <td>0.024709</td>\n",
       "      <td>0.082577</td>\n",
       "      <td>0.011238</td>\n",
       "      <td>8.344650e-07</td>\n",
       "    </tr>\n",
       "    <tr>\n",
       "      <th>3</th>\n",
       "      <td>9.996185e-01</td>\n",
       "      <td>0.000137</td>\n",
       "      <td>0.217893</td>\n",
       "      <td>0.009950</td>\n",
       "      <td>0.057101</td>\n",
       "      <td>0.002279</td>\n",
       "      <td>0.007929</td>\n",
       "      <td>0.459013</td>\n",
       "      <td>0.010778</td>\n",
       "      <td>0.003335</td>\n",
       "      <td>...</td>\n",
       "      <td>0.322298</td>\n",
       "      <td>0.011922</td>\n",
       "      <td>0.014719</td>\n",
       "      <td>0.009952</td>\n",
       "      <td>0.578534</td>\n",
       "      <td>0.010064</td>\n",
       "      <td>0.036402</td>\n",
       "      <td>0.051680</td>\n",
       "      <td>0.026007</td>\n",
       "      <td>1.490116e-07</td>\n",
       "    </tr>\n",
       "    <tr>\n",
       "      <th>4</th>\n",
       "      <td>9.999001e-01</td>\n",
       "      <td>0.080538</td>\n",
       "      <td>0.003679</td>\n",
       "      <td>0.213746</td>\n",
       "      <td>0.026348</td>\n",
       "      <td>0.009252</td>\n",
       "      <td>0.004754</td>\n",
       "      <td>0.214459</td>\n",
       "      <td>0.002308</td>\n",
       "      <td>0.560118</td>\n",
       "      <td>...</td>\n",
       "      <td>0.015423</td>\n",
       "      <td>0.006397</td>\n",
       "      <td>0.010629</td>\n",
       "      <td>0.056925</td>\n",
       "      <td>0.017124</td>\n",
       "      <td>0.048349</td>\n",
       "      <td>0.390909</td>\n",
       "      <td>0.010437</td>\n",
       "      <td>0.018022</td>\n",
       "      <td>5.960464e-08</td>\n",
       "    </tr>\n",
       "    <tr>\n",
       "      <th>...</th>\n",
       "      <td>...</td>\n",
       "      <td>...</td>\n",
       "      <td>...</td>\n",
       "      <td>...</td>\n",
       "      <td>...</td>\n",
       "      <td>...</td>\n",
       "      <td>...</td>\n",
       "      <td>...</td>\n",
       "      <td>...</td>\n",
       "      <td>...</td>\n",
       "      <td>...</td>\n",
       "      <td>...</td>\n",
       "      <td>...</td>\n",
       "      <td>...</td>\n",
       "      <td>...</td>\n",
       "      <td>...</td>\n",
       "      <td>...</td>\n",
       "      <td>...</td>\n",
       "      <td>...</td>\n",
       "      <td>...</td>\n",
       "      <td>...</td>\n",
       "    </tr>\n",
       "    <tr>\n",
       "      <th>16500</th>\n",
       "      <td>2.485514e-05</td>\n",
       "      <td>0.004842</td>\n",
       "      <td>0.022117</td>\n",
       "      <td>0.011994</td>\n",
       "      <td>0.559417</td>\n",
       "      <td>0.006048</td>\n",
       "      <td>0.029055</td>\n",
       "      <td>0.513637</td>\n",
       "      <td>0.006158</td>\n",
       "      <td>0.037160</td>\n",
       "      <td>...</td>\n",
       "      <td>0.038702</td>\n",
       "      <td>0.451652</td>\n",
       "      <td>0.017152</td>\n",
       "      <td>0.096381</td>\n",
       "      <td>0.057952</td>\n",
       "      <td>0.015170</td>\n",
       "      <td>0.029116</td>\n",
       "      <td>0.039526</td>\n",
       "      <td>0.254352</td>\n",
       "      <td>5.662441e-07</td>\n",
       "    </tr>\n",
       "    <tr>\n",
       "      <th>16501</th>\n",
       "      <td>3.841519e-05</td>\n",
       "      <td>0.112205</td>\n",
       "      <td>0.001046</td>\n",
       "      <td>0.480912</td>\n",
       "      <td>0.001593</td>\n",
       "      <td>0.186035</td>\n",
       "      <td>0.057573</td>\n",
       "      <td>0.006067</td>\n",
       "      <td>0.006410</td>\n",
       "      <td>0.388450</td>\n",
       "      <td>...</td>\n",
       "      <td>0.018121</td>\n",
       "      <td>0.023158</td>\n",
       "      <td>0.268593</td>\n",
       "      <td>0.015142</td>\n",
       "      <td>0.015742</td>\n",
       "      <td>0.045579</td>\n",
       "      <td>0.128435</td>\n",
       "      <td>0.003626</td>\n",
       "      <td>0.254578</td>\n",
       "      <td>1.192093e-07</td>\n",
       "    </tr>\n",
       "    <tr>\n",
       "      <th>16502</th>\n",
       "      <td>6.318092e-06</td>\n",
       "      <td>0.322912</td>\n",
       "      <td>0.030695</td>\n",
       "      <td>0.128743</td>\n",
       "      <td>0.103413</td>\n",
       "      <td>0.002913</td>\n",
       "      <td>0.341001</td>\n",
       "      <td>0.006505</td>\n",
       "      <td>0.020816</td>\n",
       "      <td>0.603584</td>\n",
       "      <td>...</td>\n",
       "      <td>0.014131</td>\n",
       "      <td>0.231724</td>\n",
       "      <td>0.007276</td>\n",
       "      <td>0.118129</td>\n",
       "      <td>0.017034</td>\n",
       "      <td>0.054459</td>\n",
       "      <td>0.008589</td>\n",
       "      <td>0.352438</td>\n",
       "      <td>0.067150</td>\n",
       "      <td>1.460314e-06</td>\n",
       "    </tr>\n",
       "    <tr>\n",
       "      <th>16503</th>\n",
       "      <td>9.998761e-01</td>\n",
       "      <td>0.011797</td>\n",
       "      <td>0.006431</td>\n",
       "      <td>0.064671</td>\n",
       "      <td>0.004078</td>\n",
       "      <td>0.075183</td>\n",
       "      <td>0.164991</td>\n",
       "      <td>0.001490</td>\n",
       "      <td>0.564017</td>\n",
       "      <td>0.008961</td>\n",
       "      <td>...</td>\n",
       "      <td>0.024193</td>\n",
       "      <td>0.019859</td>\n",
       "      <td>0.478806</td>\n",
       "      <td>0.020783</td>\n",
       "      <td>0.019214</td>\n",
       "      <td>0.044760</td>\n",
       "      <td>0.025803</td>\n",
       "      <td>0.468068</td>\n",
       "      <td>0.007456</td>\n",
       "      <td>1.788139e-07</td>\n",
       "    </tr>\n",
       "    <tr>\n",
       "      <th>16504</th>\n",
       "      <td>5.662441e-07</td>\n",
       "      <td>0.178545</td>\n",
       "      <td>0.046854</td>\n",
       "      <td>0.006293</td>\n",
       "      <td>0.016239</td>\n",
       "      <td>0.090083</td>\n",
       "      <td>0.331493</td>\n",
       "      <td>0.056563</td>\n",
       "      <td>0.013661</td>\n",
       "      <td>0.625675</td>\n",
       "      <td>...</td>\n",
       "      <td>0.143716</td>\n",
       "      <td>0.018932</td>\n",
       "      <td>0.048992</td>\n",
       "      <td>0.036953</td>\n",
       "      <td>0.088780</td>\n",
       "      <td>0.608419</td>\n",
       "      <td>0.099383</td>\n",
       "      <td>0.013603</td>\n",
       "      <td>0.027192</td>\n",
       "      <td>2.920628e-06</td>\n",
       "    </tr>\n",
       "  </tbody>\n",
       "</table>\n",
       "<p>16505 rows × 80 columns</p>\n",
       "</div>"
      ],
      "text/plain": [
       "                 0         1         2         3         4         5   \\\n",
       "0      1.931190e-05  0.000094  0.216938  0.050741  0.055589  0.018099   \n",
       "1      1.907349e-06  0.006198  0.010856  0.327829  0.004148  0.051130   \n",
       "2      1.013279e-06  0.353939  0.004696  0.385724  0.004772  0.091649   \n",
       "3      9.996185e-01  0.000137  0.217893  0.009950  0.057101  0.002279   \n",
       "4      9.999001e-01  0.080538  0.003679  0.213746  0.026348  0.009252   \n",
       "...             ...       ...       ...       ...       ...       ...   \n",
       "16500  2.485514e-05  0.004842  0.022117  0.011994  0.559417  0.006048   \n",
       "16501  3.841519e-05  0.112205  0.001046  0.480912  0.001593  0.186035   \n",
       "16502  6.318092e-06  0.322912  0.030695  0.128743  0.103413  0.002913   \n",
       "16503  9.998761e-01  0.011797  0.006431  0.064671  0.004078  0.075183   \n",
       "16504  5.662441e-07  0.178545  0.046854  0.006293  0.016239  0.090083   \n",
       "\n",
       "             6         7         8         9   ...        70        71  \\\n",
       "0      0.025780  0.015677  0.123349  0.633950  ...  0.007246  0.043904   \n",
       "1      0.003556  0.462250  0.006994  0.023657  ...  0.474564  0.021701   \n",
       "2      0.078536  0.009849  0.008717  0.090954  ...  0.350469  0.027812   \n",
       "3      0.007929  0.459013  0.010778  0.003335  ...  0.322298  0.011922   \n",
       "4      0.004754  0.214459  0.002308  0.560118  ...  0.015423  0.006397   \n",
       "...         ...       ...       ...       ...  ...       ...       ...   \n",
       "16500  0.029055  0.513637  0.006158  0.037160  ...  0.038702  0.451652   \n",
       "16501  0.057573  0.006067  0.006410  0.388450  ...  0.018121  0.023158   \n",
       "16502  0.341001  0.006505  0.020816  0.603584  ...  0.014131  0.231724   \n",
       "16503  0.164991  0.001490  0.564017  0.008961  ...  0.024193  0.019859   \n",
       "16504  0.331493  0.056563  0.013661  0.625675  ...  0.143716  0.018932   \n",
       "\n",
       "             72        73        74        75        76        77        78  \\\n",
       "0      0.003722  0.076042  0.044450  0.120774  0.389221  0.007780  0.012442   \n",
       "1      0.023252  0.057414  0.434482  0.005483  0.197523  0.016378  0.017419   \n",
       "2      0.077316  0.017333  0.586568  0.036409  0.024709  0.082577  0.011238   \n",
       "3      0.014719  0.009952  0.578534  0.010064  0.036402  0.051680  0.026007   \n",
       "4      0.010629  0.056925  0.017124  0.048349  0.390909  0.010437  0.018022   \n",
       "...         ...       ...       ...       ...       ...       ...       ...   \n",
       "16500  0.017152  0.096381  0.057952  0.015170  0.029116  0.039526  0.254352   \n",
       "16501  0.268593  0.015142  0.015742  0.045579  0.128435  0.003626  0.254578   \n",
       "16502  0.007276  0.118129  0.017034  0.054459  0.008589  0.352438  0.067150   \n",
       "16503  0.478806  0.020783  0.019214  0.044760  0.025803  0.468068  0.007456   \n",
       "16504  0.048992  0.036953  0.088780  0.608419  0.099383  0.013603  0.027192   \n",
       "\n",
       "                 79  \n",
       "0      1.788139e-07  \n",
       "1      3.576279e-07  \n",
       "2      8.344650e-07  \n",
       "3      1.490116e-07  \n",
       "4      5.960464e-08  \n",
       "...             ...  \n",
       "16500  5.662441e-07  \n",
       "16501  1.192093e-07  \n",
       "16502  1.460314e-06  \n",
       "16503  1.788139e-07  \n",
       "16504  2.920628e-06  \n",
       "\n",
       "[16505 rows x 80 columns]"
      ]
     },
     "execution_count": 68,
     "metadata": {},
     "output_type": "execute_result"
    }
   ],
   "source": [
    "y_pred"
   ]
  },
  {
   "cell_type": "code",
   "execution_count": 69,
   "metadata": {
    "colab": {
     "base_uri": "https://localhost:8080/",
     "height": 427
    },
    "id": "8M0aZBT7HFzP",
    "outputId": "2ae09b1c-2193-41da-e402-43a5475e2eeb"
   },
   "outputs": [
    {
     "data": {
      "text/plain": [
       "(16505, 16505)"
      ]
     },
     "execution_count": 69,
     "metadata": {},
     "output_type": "execute_result"
    }
   ],
   "source": [
    "result_predict = y_pred.dot(concat_x_pi);\n",
    "result_predict.shape"
   ]
  },
  {
   "cell_type": "code",
   "execution_count": 70,
   "metadata": {},
   "outputs": [
    {
     "data": {
      "text/plain": [
       "(16505, 16505)"
      ]
     },
     "execution_count": 70,
     "metadata": {},
     "output_type": "execute_result"
    }
   ],
   "source": [
    "result_test = y_test.dot(concat_x_pi);\n",
    "result_test.shape"
   ]
  },
  {
   "cell_type": "code",
   "execution_count": 71,
   "metadata": {
    "id": "2_iywgm_0Ivw"
   },
   "outputs": [],
   "source": [
    "sub = abs(result_test - result_predict)\n"
   ]
  },
  {
   "cell_type": "code",
   "execution_count": 72,
   "metadata": {},
   "outputs": [
    {
     "data": {
      "text/html": [
       "<div>\n",
       "<style scoped>\n",
       "    .dataframe tbody tr th:only-of-type {\n",
       "        vertical-align: middle;\n",
       "    }\n",
       "\n",
       "    .dataframe tbody tr th {\n",
       "        vertical-align: top;\n",
       "    }\n",
       "\n",
       "    .dataframe thead th {\n",
       "        text-align: right;\n",
       "    }\n",
       "</style>\n",
       "<table border=\"1\" class=\"dataframe\">\n",
       "  <thead>\n",
       "    <tr style=\"text-align: right;\">\n",
       "      <th></th>\n",
       "      <th>0</th>\n",
       "      <th>1</th>\n",
       "      <th>2</th>\n",
       "      <th>3</th>\n",
       "      <th>4</th>\n",
       "      <th>5</th>\n",
       "      <th>6</th>\n",
       "      <th>7</th>\n",
       "      <th>8</th>\n",
       "      <th>9</th>\n",
       "      <th>...</th>\n",
       "      <th>16495</th>\n",
       "      <th>16496</th>\n",
       "      <th>16497</th>\n",
       "      <th>16498</th>\n",
       "      <th>16499</th>\n",
       "      <th>16500</th>\n",
       "      <th>16501</th>\n",
       "      <th>16502</th>\n",
       "      <th>16503</th>\n",
       "      <th>16504</th>\n",
       "    </tr>\n",
       "  </thead>\n",
       "  <tbody>\n",
       "    <tr>\n",
       "      <th>0</th>\n",
       "      <td>0.745598</td>\n",
       "      <td>1.782249</td>\n",
       "      <td>1.589940</td>\n",
       "      <td>1.270146</td>\n",
       "      <td>0.116286</td>\n",
       "      <td>0.191674</td>\n",
       "      <td>0.281955</td>\n",
       "      <td>0.091092</td>\n",
       "      <td>1.546619</td>\n",
       "      <td>2.218485</td>\n",
       "      <td>...</td>\n",
       "      <td>0.094698</td>\n",
       "      <td>0.552649</td>\n",
       "      <td>2.086192</td>\n",
       "      <td>0.595561</td>\n",
       "      <td>1.274405</td>\n",
       "      <td>0.732454</td>\n",
       "      <td>2.484564</td>\n",
       "      <td>0.462248</td>\n",
       "      <td>0.399954</td>\n",
       "      <td>1.454867</td>\n",
       "    </tr>\n",
       "    <tr>\n",
       "      <th>1</th>\n",
       "      <td>1.276522</td>\n",
       "      <td>2.005645</td>\n",
       "      <td>1.319586</td>\n",
       "      <td>1.775899</td>\n",
       "      <td>1.383705</td>\n",
       "      <td>0.919073</td>\n",
       "      <td>0.133682</td>\n",
       "      <td>0.632596</td>\n",
       "      <td>0.979541</td>\n",
       "      <td>0.050145</td>\n",
       "      <td>...</td>\n",
       "      <td>1.204378</td>\n",
       "      <td>0.675729</td>\n",
       "      <td>0.036037</td>\n",
       "      <td>0.792346</td>\n",
       "      <td>0.984638</td>\n",
       "      <td>1.494172</td>\n",
       "      <td>0.930230</td>\n",
       "      <td>0.203112</td>\n",
       "      <td>1.808147</td>\n",
       "      <td>0.428803</td>\n",
       "    </tr>\n",
       "    <tr>\n",
       "      <th>2</th>\n",
       "      <td>1.007060</td>\n",
       "      <td>0.742961</td>\n",
       "      <td>0.798603</td>\n",
       "      <td>1.411320</td>\n",
       "      <td>1.032269</td>\n",
       "      <td>0.225519</td>\n",
       "      <td>0.152281</td>\n",
       "      <td>1.739922</td>\n",
       "      <td>1.225075</td>\n",
       "      <td>1.566917</td>\n",
       "      <td>...</td>\n",
       "      <td>0.972862</td>\n",
       "      <td>0.034828</td>\n",
       "      <td>1.128737</td>\n",
       "      <td>0.714721</td>\n",
       "      <td>1.633446</td>\n",
       "      <td>0.975826</td>\n",
       "      <td>0.324362</td>\n",
       "      <td>0.035767</td>\n",
       "      <td>0.220150</td>\n",
       "      <td>2.623576</td>\n",
       "    </tr>\n",
       "    <tr>\n",
       "      <th>3</th>\n",
       "      <td>0.632718</td>\n",
       "      <td>0.182033</td>\n",
       "      <td>0.005170</td>\n",
       "      <td>0.948532</td>\n",
       "      <td>0.260832</td>\n",
       "      <td>0.255802</td>\n",
       "      <td>0.904413</td>\n",
       "      <td>1.589112</td>\n",
       "      <td>0.214127</td>\n",
       "      <td>0.266671</td>\n",
       "      <td>...</td>\n",
       "      <td>1.325377</td>\n",
       "      <td>0.378672</td>\n",
       "      <td>0.425529</td>\n",
       "      <td>0.048616</td>\n",
       "      <td>0.241660</td>\n",
       "      <td>0.073363</td>\n",
       "      <td>0.884648</td>\n",
       "      <td>0.052631</td>\n",
       "      <td>0.767517</td>\n",
       "      <td>1.011864</td>\n",
       "    </tr>\n",
       "    <tr>\n",
       "      <th>4</th>\n",
       "      <td>1.843129</td>\n",
       "      <td>1.950707</td>\n",
       "      <td>1.554750</td>\n",
       "      <td>1.475869</td>\n",
       "      <td>1.942443</td>\n",
       "      <td>1.578942</td>\n",
       "      <td>1.815992</td>\n",
       "      <td>1.429321</td>\n",
       "      <td>0.956273</td>\n",
       "      <td>2.052583</td>\n",
       "      <td>...</td>\n",
       "      <td>1.299964</td>\n",
       "      <td>1.385147</td>\n",
       "      <td>1.762276</td>\n",
       "      <td>1.707529</td>\n",
       "      <td>1.568105</td>\n",
       "      <td>1.760783</td>\n",
       "      <td>2.371495</td>\n",
       "      <td>1.987601</td>\n",
       "      <td>1.703108</td>\n",
       "      <td>2.386151</td>\n",
       "    </tr>\n",
       "    <tr>\n",
       "      <th>...</th>\n",
       "      <td>...</td>\n",
       "      <td>...</td>\n",
       "      <td>...</td>\n",
       "      <td>...</td>\n",
       "      <td>...</td>\n",
       "      <td>...</td>\n",
       "      <td>...</td>\n",
       "      <td>...</td>\n",
       "      <td>...</td>\n",
       "      <td>...</td>\n",
       "      <td>...</td>\n",
       "      <td>...</td>\n",
       "      <td>...</td>\n",
       "      <td>...</td>\n",
       "      <td>...</td>\n",
       "      <td>...</td>\n",
       "      <td>...</td>\n",
       "      <td>...</td>\n",
       "      <td>...</td>\n",
       "      <td>...</td>\n",
       "      <td>...</td>\n",
       "    </tr>\n",
       "    <tr>\n",
       "      <th>16500</th>\n",
       "      <td>1.348818</td>\n",
       "      <td>0.703393</td>\n",
       "      <td>0.555966</td>\n",
       "      <td>0.337404</td>\n",
       "      <td>0.614642</td>\n",
       "      <td>1.451217</td>\n",
       "      <td>0.452629</td>\n",
       "      <td>0.131872</td>\n",
       "      <td>1.107835</td>\n",
       "      <td>0.977198</td>\n",
       "      <td>...</td>\n",
       "      <td>1.916744</td>\n",
       "      <td>1.922457</td>\n",
       "      <td>0.602285</td>\n",
       "      <td>1.020081</td>\n",
       "      <td>0.965079</td>\n",
       "      <td>1.080673</td>\n",
       "      <td>0.562281</td>\n",
       "      <td>0.473869</td>\n",
       "      <td>0.952546</td>\n",
       "      <td>0.745820</td>\n",
       "    </tr>\n",
       "    <tr>\n",
       "      <th>16501</th>\n",
       "      <td>0.538005</td>\n",
       "      <td>0.340896</td>\n",
       "      <td>0.440552</td>\n",
       "      <td>1.615958</td>\n",
       "      <td>0.032014</td>\n",
       "      <td>0.042175</td>\n",
       "      <td>1.405398</td>\n",
       "      <td>1.305223</td>\n",
       "      <td>0.035568</td>\n",
       "      <td>1.548722</td>\n",
       "      <td>...</td>\n",
       "      <td>1.324858</td>\n",
       "      <td>0.310608</td>\n",
       "      <td>0.722515</td>\n",
       "      <td>0.427080</td>\n",
       "      <td>0.295775</td>\n",
       "      <td>0.116167</td>\n",
       "      <td>0.635008</td>\n",
       "      <td>0.454678</td>\n",
       "      <td>1.422689</td>\n",
       "      <td>0.739971</td>\n",
       "    </tr>\n",
       "    <tr>\n",
       "      <th>16502</th>\n",
       "      <td>0.087687</td>\n",
       "      <td>0.403194</td>\n",
       "      <td>0.262100</td>\n",
       "      <td>0.992734</td>\n",
       "      <td>0.934777</td>\n",
       "      <td>1.576324</td>\n",
       "      <td>1.305363</td>\n",
       "      <td>0.559654</td>\n",
       "      <td>1.389637</td>\n",
       "      <td>0.980488</td>\n",
       "      <td>...</td>\n",
       "      <td>0.153779</td>\n",
       "      <td>0.352292</td>\n",
       "      <td>0.413033</td>\n",
       "      <td>0.658324</td>\n",
       "      <td>1.923357</td>\n",
       "      <td>1.071765</td>\n",
       "      <td>1.744692</td>\n",
       "      <td>0.799027</td>\n",
       "      <td>0.378654</td>\n",
       "      <td>0.449652</td>\n",
       "    </tr>\n",
       "    <tr>\n",
       "      <th>16503</th>\n",
       "      <td>0.649578</td>\n",
       "      <td>0.079244</td>\n",
       "      <td>1.066062</td>\n",
       "      <td>1.317160</td>\n",
       "      <td>0.220130</td>\n",
       "      <td>0.879882</td>\n",
       "      <td>0.088723</td>\n",
       "      <td>2.284673</td>\n",
       "      <td>0.128338</td>\n",
       "      <td>0.209756</td>\n",
       "      <td>...</td>\n",
       "      <td>1.523038</td>\n",
       "      <td>0.461471</td>\n",
       "      <td>0.291728</td>\n",
       "      <td>0.494664</td>\n",
       "      <td>0.771675</td>\n",
       "      <td>0.456099</td>\n",
       "      <td>0.358910</td>\n",
       "      <td>0.163096</td>\n",
       "      <td>0.127849</td>\n",
       "      <td>0.527058</td>\n",
       "    </tr>\n",
       "    <tr>\n",
       "      <th>16504</th>\n",
       "      <td>2.326836</td>\n",
       "      <td>0.076907</td>\n",
       "      <td>0.338389</td>\n",
       "      <td>0.762184</td>\n",
       "      <td>1.969918</td>\n",
       "      <td>0.236206</td>\n",
       "      <td>0.061269</td>\n",
       "      <td>1.763955</td>\n",
       "      <td>0.925090</td>\n",
       "      <td>1.955155</td>\n",
       "      <td>...</td>\n",
       "      <td>0.319785</td>\n",
       "      <td>0.953275</td>\n",
       "      <td>0.700970</td>\n",
       "      <td>2.647749</td>\n",
       "      <td>2.024443</td>\n",
       "      <td>0.667452</td>\n",
       "      <td>0.515224</td>\n",
       "      <td>2.638635</td>\n",
       "      <td>0.880319</td>\n",
       "      <td>1.601129</td>\n",
       "    </tr>\n",
       "  </tbody>\n",
       "</table>\n",
       "<p>16505 rows × 16505 columns</p>\n",
       "</div>"
      ],
      "text/plain": [
       "          0         1         2         3         4         5         6      \\\n",
       "0      0.745598  1.782249  1.589940  1.270146  0.116286  0.191674  0.281955   \n",
       "1      1.276522  2.005645  1.319586  1.775899  1.383705  0.919073  0.133682   \n",
       "2      1.007060  0.742961  0.798603  1.411320  1.032269  0.225519  0.152281   \n",
       "3      0.632718  0.182033  0.005170  0.948532  0.260832  0.255802  0.904413   \n",
       "4      1.843129  1.950707  1.554750  1.475869  1.942443  1.578942  1.815992   \n",
       "...         ...       ...       ...       ...       ...       ...       ...   \n",
       "16500  1.348818  0.703393  0.555966  0.337404  0.614642  1.451217  0.452629   \n",
       "16501  0.538005  0.340896  0.440552  1.615958  0.032014  0.042175  1.405398   \n",
       "16502  0.087687  0.403194  0.262100  0.992734  0.934777  1.576324  1.305363   \n",
       "16503  0.649578  0.079244  1.066062  1.317160  0.220130  0.879882  0.088723   \n",
       "16504  2.326836  0.076907  0.338389  0.762184  1.969918  0.236206  0.061269   \n",
       "\n",
       "          7         8         9      ...     16495     16496     16497  \\\n",
       "0      0.091092  1.546619  2.218485  ...  0.094698  0.552649  2.086192   \n",
       "1      0.632596  0.979541  0.050145  ...  1.204378  0.675729  0.036037   \n",
       "2      1.739922  1.225075  1.566917  ...  0.972862  0.034828  1.128737   \n",
       "3      1.589112  0.214127  0.266671  ...  1.325377  0.378672  0.425529   \n",
       "4      1.429321  0.956273  2.052583  ...  1.299964  1.385147  1.762276   \n",
       "...         ...       ...       ...  ...       ...       ...       ...   \n",
       "16500  0.131872  1.107835  0.977198  ...  1.916744  1.922457  0.602285   \n",
       "16501  1.305223  0.035568  1.548722  ...  1.324858  0.310608  0.722515   \n",
       "16502  0.559654  1.389637  0.980488  ...  0.153779  0.352292  0.413033   \n",
       "16503  2.284673  0.128338  0.209756  ...  1.523038  0.461471  0.291728   \n",
       "16504  1.763955  0.925090  1.955155  ...  0.319785  0.953275  0.700970   \n",
       "\n",
       "          16498     16499     16500     16501     16502     16503     16504  \n",
       "0      0.595561  1.274405  0.732454  2.484564  0.462248  0.399954  1.454867  \n",
       "1      0.792346  0.984638  1.494172  0.930230  0.203112  1.808147  0.428803  \n",
       "2      0.714721  1.633446  0.975826  0.324362  0.035767  0.220150  2.623576  \n",
       "3      0.048616  0.241660  0.073363  0.884648  0.052631  0.767517  1.011864  \n",
       "4      1.707529  1.568105  1.760783  2.371495  1.987601  1.703108  2.386151  \n",
       "...         ...       ...       ...       ...       ...       ...       ...  \n",
       "16500  1.020081  0.965079  1.080673  0.562281  0.473869  0.952546  0.745820  \n",
       "16501  0.427080  0.295775  0.116167  0.635008  0.454678  1.422689  0.739971  \n",
       "16502  0.658324  1.923357  1.071765  1.744692  0.799027  0.378654  0.449652  \n",
       "16503  0.494664  0.771675  0.456099  0.358910  0.163096  0.127849  0.527058  \n",
       "16504  2.647749  2.024443  0.667452  0.515224  2.638635  0.880319  1.601129  \n",
       "\n",
       "[16505 rows x 16505 columns]"
      ]
     },
     "execution_count": 72,
     "metadata": {},
     "output_type": "execute_result"
    }
   ],
   "source": [
    "sub"
   ]
  },
  {
   "cell_type": "code",
   "execution_count": 73,
   "metadata": {
    "id": "LzRbMb3jGQ70"
   },
   "outputs": [
    {
     "data": {
      "text/html": [
       "<div>\n",
       "<style scoped>\n",
       "    .dataframe tbody tr th:only-of-type {\n",
       "        vertical-align: middle;\n",
       "    }\n",
       "\n",
       "    .dataframe tbody tr th {\n",
       "        vertical-align: top;\n",
       "    }\n",
       "\n",
       "    .dataframe thead th {\n",
       "        text-align: right;\n",
       "    }\n",
       "</style>\n",
       "<table border=\"1\" class=\"dataframe\">\n",
       "  <thead>\n",
       "    <tr style=\"text-align: right;\">\n",
       "      <th></th>\n",
       "      <th>0</th>\n",
       "      <th>1</th>\n",
       "      <th>2</th>\n",
       "      <th>3</th>\n",
       "      <th>4</th>\n",
       "      <th>5</th>\n",
       "      <th>6</th>\n",
       "      <th>7</th>\n",
       "      <th>8</th>\n",
       "      <th>9</th>\n",
       "      <th>...</th>\n",
       "      <th>16495</th>\n",
       "      <th>16496</th>\n",
       "      <th>16497</th>\n",
       "      <th>16498</th>\n",
       "      <th>16499</th>\n",
       "      <th>16500</th>\n",
       "      <th>16501</th>\n",
       "      <th>16502</th>\n",
       "      <th>16503</th>\n",
       "      <th>16504</th>\n",
       "    </tr>\n",
       "  </thead>\n",
       "  <tbody>\n",
       "    <tr>\n",
       "      <th>0</th>\n",
       "      <td>0.080216</td>\n",
       "      <td>0.269344</td>\n",
       "      <td>0.199711</td>\n",
       "      <td>0.174129</td>\n",
       "      <td>0.013737</td>\n",
       "      <td>0.032629</td>\n",
       "      <td>0.051833</td>\n",
       "      <td>0.009471</td>\n",
       "      <td>0.158878</td>\n",
       "      <td>0.216599</td>\n",
       "      <td>...</td>\n",
       "      <td>0.016615</td>\n",
       "      <td>0.071499</td>\n",
       "      <td>0.199132</td>\n",
       "      <td>0.098161</td>\n",
       "      <td>0.129696</td>\n",
       "      <td>0.101292</td>\n",
       "      <td>0.276912</td>\n",
       "      <td>0.055355</td>\n",
       "      <td>0.056302</td>\n",
       "      <td>0.135246</td>\n",
       "    </tr>\n",
       "    <tr>\n",
       "      <th>1</th>\n",
       "      <td>0.120436</td>\n",
       "      <td>0.132325</td>\n",
       "      <td>0.100830</td>\n",
       "      <td>0.137030</td>\n",
       "      <td>0.149871</td>\n",
       "      <td>0.095290</td>\n",
       "      <td>0.019014</td>\n",
       "      <td>0.068014</td>\n",
       "      <td>0.105099</td>\n",
       "      <td>0.006656</td>\n",
       "      <td>...</td>\n",
       "      <td>0.098136</td>\n",
       "      <td>0.070979</td>\n",
       "      <td>0.004288</td>\n",
       "      <td>0.099714</td>\n",
       "      <td>0.103259</td>\n",
       "      <td>0.148581</td>\n",
       "      <td>0.077422</td>\n",
       "      <td>0.027410</td>\n",
       "      <td>0.138270</td>\n",
       "      <td>0.069682</td>\n",
       "    </tr>\n",
       "    <tr>\n",
       "      <th>2</th>\n",
       "      <td>0.200830</td>\n",
       "      <td>0.088173</td>\n",
       "      <td>0.105395</td>\n",
       "      <td>0.127582</td>\n",
       "      <td>0.196132</td>\n",
       "      <td>0.032795</td>\n",
       "      <td>0.022527</td>\n",
       "      <td>0.289237</td>\n",
       "      <td>0.413095</td>\n",
       "      <td>0.329250</td>\n",
       "      <td>...</td>\n",
       "      <td>0.126881</td>\n",
       "      <td>0.006042</td>\n",
       "      <td>0.150434</td>\n",
       "      <td>0.134805</td>\n",
       "      <td>0.315353</td>\n",
       "      <td>0.191981</td>\n",
       "      <td>0.029657</td>\n",
       "      <td>0.005991</td>\n",
       "      <td>0.029294</td>\n",
       "      <td>0.718420</td>\n",
       "    </tr>\n",
       "    <tr>\n",
       "      <th>3</th>\n",
       "      <td>0.076926</td>\n",
       "      <td>0.014651</td>\n",
       "      <td>0.000409</td>\n",
       "      <td>0.090367</td>\n",
       "      <td>0.043510</td>\n",
       "      <td>0.027578</td>\n",
       "      <td>0.153699</td>\n",
       "      <td>0.181147</td>\n",
       "      <td>0.021391</td>\n",
       "      <td>0.038072</td>\n",
       "      <td>...</td>\n",
       "      <td>0.103674</td>\n",
       "      <td>0.036766</td>\n",
       "      <td>0.043552</td>\n",
       "      <td>0.007686</td>\n",
       "      <td>0.025778</td>\n",
       "      <td>0.008000</td>\n",
       "      <td>0.093270</td>\n",
       "      <td>0.007501</td>\n",
       "      <td>0.068032</td>\n",
       "      <td>0.151811</td>\n",
       "    </tr>\n",
       "    <tr>\n",
       "      <th>4</th>\n",
       "      <td>0.206845</td>\n",
       "      <td>0.352913</td>\n",
       "      <td>0.203603</td>\n",
       "      <td>0.323936</td>\n",
       "      <td>0.263354</td>\n",
       "      <td>0.286087</td>\n",
       "      <td>0.588744</td>\n",
       "      <td>0.164801</td>\n",
       "      <td>0.131103</td>\n",
       "      <td>0.259626</td>\n",
       "      <td>...</td>\n",
       "      <td>0.173500</td>\n",
       "      <td>0.160805</td>\n",
       "      <td>0.245082</td>\n",
       "      <td>0.430838</td>\n",
       "      <td>0.201103</td>\n",
       "      <td>0.292925</td>\n",
       "      <td>0.584066</td>\n",
       "      <td>0.240143</td>\n",
       "      <td>0.230392</td>\n",
       "      <td>0.342874</td>\n",
       "    </tr>\n",
       "    <tr>\n",
       "      <th>...</th>\n",
       "      <td>...</td>\n",
       "      <td>...</td>\n",
       "      <td>...</td>\n",
       "      <td>...</td>\n",
       "      <td>...</td>\n",
       "      <td>...</td>\n",
       "      <td>...</td>\n",
       "      <td>...</td>\n",
       "      <td>...</td>\n",
       "      <td>...</td>\n",
       "      <td>...</td>\n",
       "      <td>...</td>\n",
       "      <td>...</td>\n",
       "      <td>...</td>\n",
       "      <td>...</td>\n",
       "      <td>...</td>\n",
       "      <td>...</td>\n",
       "      <td>...</td>\n",
       "      <td>...</td>\n",
       "      <td>...</td>\n",
       "      <td>...</td>\n",
       "    </tr>\n",
       "    <tr>\n",
       "      <th>16500</th>\n",
       "      <td>0.159740</td>\n",
       "      <td>0.098615</td>\n",
       "      <td>0.063043</td>\n",
       "      <td>0.046606</td>\n",
       "      <td>0.081177</td>\n",
       "      <td>0.165647</td>\n",
       "      <td>0.083814</td>\n",
       "      <td>0.019281</td>\n",
       "      <td>0.097122</td>\n",
       "      <td>0.170989</td>\n",
       "      <td>...</td>\n",
       "      <td>0.178600</td>\n",
       "      <td>0.180514</td>\n",
       "      <td>0.076485</td>\n",
       "      <td>0.100725</td>\n",
       "      <td>0.089652</td>\n",
       "      <td>0.100354</td>\n",
       "      <td>0.069734</td>\n",
       "      <td>0.090334</td>\n",
       "      <td>0.117968</td>\n",
       "      <td>0.096279</td>\n",
       "    </tr>\n",
       "    <tr>\n",
       "      <th>16501</th>\n",
       "      <td>0.074530</td>\n",
       "      <td>0.058168</td>\n",
       "      <td>0.069971</td>\n",
       "      <td>0.339467</td>\n",
       "      <td>0.004595</td>\n",
       "      <td>0.009115</td>\n",
       "      <td>0.423644</td>\n",
       "      <td>0.285717</td>\n",
       "      <td>0.009757</td>\n",
       "      <td>0.168119</td>\n",
       "      <td>...</td>\n",
       "      <td>0.316516</td>\n",
       "      <td>0.052548</td>\n",
       "      <td>0.098936</td>\n",
       "      <td>0.070366</td>\n",
       "      <td>0.041092</td>\n",
       "      <td>0.021000</td>\n",
       "      <td>0.083163</td>\n",
       "      <td>0.072554</td>\n",
       "      <td>0.465873</td>\n",
       "      <td>0.088850</td>\n",
       "    </tr>\n",
       "    <tr>\n",
       "      <th>16502</th>\n",
       "      <td>0.008260</td>\n",
       "      <td>0.090811</td>\n",
       "      <td>0.036521</td>\n",
       "      <td>0.124102</td>\n",
       "      <td>0.090699</td>\n",
       "      <td>0.281997</td>\n",
       "      <td>0.227275</td>\n",
       "      <td>0.073196</td>\n",
       "      <td>0.132784</td>\n",
       "      <td>0.104548</td>\n",
       "      <td>...</td>\n",
       "      <td>0.021644</td>\n",
       "      <td>0.037947</td>\n",
       "      <td>0.037585</td>\n",
       "      <td>0.079924</td>\n",
       "      <td>0.144069</td>\n",
       "      <td>0.130807</td>\n",
       "      <td>0.258668</td>\n",
       "      <td>0.074937</td>\n",
       "      <td>0.050326</td>\n",
       "      <td>0.037337</td>\n",
       "    </tr>\n",
       "    <tr>\n",
       "      <th>16503</th>\n",
       "      <td>0.068600</td>\n",
       "      <td>0.015308</td>\n",
       "      <td>0.123504</td>\n",
       "      <td>0.167134</td>\n",
       "      <td>0.035149</td>\n",
       "      <td>0.219623</td>\n",
       "      <td>0.011812</td>\n",
       "      <td>0.215076</td>\n",
       "      <td>0.020160</td>\n",
       "      <td>0.021851</td>\n",
       "      <td>...</td>\n",
       "      <td>0.146514</td>\n",
       "      <td>0.080475</td>\n",
       "      <td>0.057810</td>\n",
       "      <td>0.063293</td>\n",
       "      <td>0.076107</td>\n",
       "      <td>0.056443</td>\n",
       "      <td>0.057451</td>\n",
       "      <td>0.027919</td>\n",
       "      <td>0.012634</td>\n",
       "      <td>0.045151</td>\n",
       "    </tr>\n",
       "    <tr>\n",
       "      <th>16504</th>\n",
       "      <td>0.181666</td>\n",
       "      <td>0.010378</td>\n",
       "      <td>0.061937</td>\n",
       "      <td>0.065744</td>\n",
       "      <td>0.182705</td>\n",
       "      <td>0.044239</td>\n",
       "      <td>0.008189</td>\n",
       "      <td>0.162107</td>\n",
       "      <td>0.110590</td>\n",
       "      <td>0.201320</td>\n",
       "      <td>...</td>\n",
       "      <td>0.042055</td>\n",
       "      <td>0.129811</td>\n",
       "      <td>0.089750</td>\n",
       "      <td>0.224498</td>\n",
       "      <td>0.171067</td>\n",
       "      <td>0.076241</td>\n",
       "      <td>0.065089</td>\n",
       "      <td>0.229768</td>\n",
       "      <td>0.096859</td>\n",
       "      <td>0.126497</td>\n",
       "    </tr>\n",
       "  </tbody>\n",
       "</table>\n",
       "<p>16505 rows × 16505 columns</p>\n",
       "</div>"
      ],
      "text/plain": [
       "          0         1         2         3         4         5         6      \\\n",
       "0      0.080216  0.269344  0.199711  0.174129  0.013737  0.032629  0.051833   \n",
       "1      0.120436  0.132325  0.100830  0.137030  0.149871  0.095290  0.019014   \n",
       "2      0.200830  0.088173  0.105395  0.127582  0.196132  0.032795  0.022527   \n",
       "3      0.076926  0.014651  0.000409  0.090367  0.043510  0.027578  0.153699   \n",
       "4      0.206845  0.352913  0.203603  0.323936  0.263354  0.286087  0.588744   \n",
       "...         ...       ...       ...       ...       ...       ...       ...   \n",
       "16500  0.159740  0.098615  0.063043  0.046606  0.081177  0.165647  0.083814   \n",
       "16501  0.074530  0.058168  0.069971  0.339467  0.004595  0.009115  0.423644   \n",
       "16502  0.008260  0.090811  0.036521  0.124102  0.090699  0.281997  0.227275   \n",
       "16503  0.068600  0.015308  0.123504  0.167134  0.035149  0.219623  0.011812   \n",
       "16504  0.181666  0.010378  0.061937  0.065744  0.182705  0.044239  0.008189   \n",
       "\n",
       "          7         8         9      ...     16495     16496     16497  \\\n",
       "0      0.009471  0.158878  0.216599  ...  0.016615  0.071499  0.199132   \n",
       "1      0.068014  0.105099  0.006656  ...  0.098136  0.070979  0.004288   \n",
       "2      0.289237  0.413095  0.329250  ...  0.126881  0.006042  0.150434   \n",
       "3      0.181147  0.021391  0.038072  ...  0.103674  0.036766  0.043552   \n",
       "4      0.164801  0.131103  0.259626  ...  0.173500  0.160805  0.245082   \n",
       "...         ...       ...       ...  ...       ...       ...       ...   \n",
       "16500  0.019281  0.097122  0.170989  ...  0.178600  0.180514  0.076485   \n",
       "16501  0.285717  0.009757  0.168119  ...  0.316516  0.052548  0.098936   \n",
       "16502  0.073196  0.132784  0.104548  ...  0.021644  0.037947  0.037585   \n",
       "16503  0.215076  0.020160  0.021851  ...  0.146514  0.080475  0.057810   \n",
       "16504  0.162107  0.110590  0.201320  ...  0.042055  0.129811  0.089750   \n",
       "\n",
       "          16498     16499     16500     16501     16502     16503     16504  \n",
       "0      0.098161  0.129696  0.101292  0.276912  0.055355  0.056302  0.135246  \n",
       "1      0.099714  0.103259  0.148581  0.077422  0.027410  0.138270  0.069682  \n",
       "2      0.134805  0.315353  0.191981  0.029657  0.005991  0.029294  0.718420  \n",
       "3      0.007686  0.025778  0.008000  0.093270  0.007501  0.068032  0.151811  \n",
       "4      0.430838  0.201103  0.292925  0.584066  0.240143  0.230392  0.342874  \n",
       "...         ...       ...       ...       ...       ...       ...       ...  \n",
       "16500  0.100725  0.089652  0.100354  0.069734  0.090334  0.117968  0.096279  \n",
       "16501  0.070366  0.041092  0.021000  0.083163  0.072554  0.465873  0.088850  \n",
       "16502  0.079924  0.144069  0.130807  0.258668  0.074937  0.050326  0.037337  \n",
       "16503  0.063293  0.076107  0.056443  0.057451  0.027919  0.012634  0.045151  \n",
       "16504  0.224498  0.171067  0.076241  0.065089  0.229768  0.096859  0.126497  \n",
       "\n",
       "[16505 rows x 16505 columns]"
      ]
     },
     "execution_count": 73,
     "metadata": {},
     "output_type": "execute_result"
    }
   ],
   "source": [
    "sub = abs(result_test - result_predict)/(result_test)\n",
    "sub"
   ]
  },
  {
   "cell_type": "code",
   "execution_count": 74,
   "metadata": {},
   "outputs": [
    {
     "data": {
      "text/plain": [
       "<matplotlib.lines.Line2D at 0x20c68423308>"
      ]
     },
     "execution_count": 74,
     "metadata": {},
     "output_type": "execute_result"
    },
    {
     "data": {
      "image/png": "[encoded data removed]",
      "text/plain": [
       "<Figure size 432x288 with 1 Axes>"
      ]
     },
     "metadata": {
      "needs_background": "light"
     },
     "output_type": "display_data"
    }
   ],
   "source": [
    "suboptimality = np.diag(sub)\n",
    "#plt.plot(suboptimality[48:72])\n",
    "plt.xlabel('number of components')\n",
    "plt.ylabel('element wise suboptimality')\n",
    "plt.title('F*-F^/')\n",
    "plt.axhline(y=0.15, color='r', linestyle='-')"
   ]
  },
  {
   "cell_type": "code",
   "execution_count": 75,
   "metadata": {},
   "outputs": [
    {
     "data": {
      "text/plain": [
       "(16505,)"
      ]
     },
     "execution_count": 75,
     "metadata": {},
     "output_type": "execute_result"
    }
   ],
   "source": [
    "suboptimality.shape"
   ]
  },
  {
   "cell_type": "code",
   "execution_count": 76,
   "metadata": {},
   "outputs": [
    {
     "data": {
      "text/plain": [
       "0.09232869370189876"
      ]
     },
     "execution_count": 76,
     "metadata": {},
     "output_type": "execute_result"
    }
   ],
   "source": [
    "#Calculating the suboptimality for T=20, two tank model, batch normalization, activation = sigmoid, ReLU\n",
    "#loss= binary cross entropy, pumps =4 \n",
    "T = np.mean(suboptimality)\n",
    "T"
   ]
  },
  {
   "cell_type": "code",
   "execution_count": null,
   "metadata": {},
   "outputs": [],
   "source": []
  },
  {
   "cell_type": "code",
   "execution_count": null,
   "metadata": {},
   "outputs": [],
   "source": []
  }
 ],
 "metadata": {
  "colab": {
   "collapsed_sections": [],
   "name": "FinalCodeDL.ipynb",
   "provenance": [],
   "toc_visible": true
  },
  "kernelspec": {
   "display_name": "Python 3",
   "language": "python",
   "name": "python3"
  },
  "language_info": {
   "codemirror_mode": {
    "name": "ipython",
    "version": 3
   },
   "file_extension": ".py",
   "mimetype": "text/x-python",
   "name": "python",
   "nbconvert_exporter": "python",
   "pygments_lexer": "ipython3",
   "version": "3.7.6"
  }
 },
 "nbformat": 4,
 "nbformat_minor": 1
}
