{
 "cells": [
  {
   "cell_type": "code",
   "execution_count": 182,
   "metadata": {
    "id": "qLTVIvmEV0bJ"
   },
   "outputs": [],
   "source": [
    "#We are testing a DL model for Mixed integer formulation for Water distribution network.\n",
    "# The input data such as water demand and time-ahead dynamic energy prices are obtained from Singh et al (2019) paper.\n",
    "# We computed the time ahead pump switching using MATALB Gurobi solver\n",
    "# We obtained the time ahead pump switching for 2048 hours (85.33 days)\n",
    "# We train_test the neural network in the ratio of 80-20.\n",
    "# The nn is trained using ReLu and SoftMax (as the output is integer values)\n",
    "\n",
    "#In our  case y is (z)\n",
    "\n",
    "import numpy as np\n",
    "import pandas as pd   #data analysis and manipulation library\n",
    "import seaborn as sns #Python statistical data visualization library.\n",
    "import matplotlib.pyplot as plt\n",
    "from sklearn import model_selection #Tuning the hyperparameters, cross validation, model persistance are the important aspects of this.\n",
    "from sklearn.model_selection import train_test_split #ML library to data analysis\n",
    "from sklearn.metrics import accuracy_score, r2_score\n",
    "import sklearn.metrics as metrics\n",
    "from openpyxl import Workbook, load_workbook\n",
    "from openpyxl.utils.dataframe import dataframe_to_rows\n",
    "\n",
    "\n",
    "from sklearn.decomposition import PCA #dimensionality reduction\n",
    "\n",
    "%matplotlib inline\n",
    "\n",
    "#Libraries for Deep learning framework from Keras\n",
    "\n",
    "import tensorflow as tf\n",
    "from tensorflow.keras.models import Sequential\n",
    "from tensorflow.keras.layers import Dense, Activation\n",
    "\n",
    "import keras\n",
    "import keras.utils\n",
    "from keras import utils as np_utils\n",
    "from keras.models import Sequential\n",
    "\n",
    "from tensorflow.keras import layers\n",
    "from tensorflow.keras import utils as np_utils\n",
    "from tensorflow.keras import models \n",
    "from tensorflow.keras.models import Sequential\n",
    "from tensorflow.keras.layers import Activation, LeakyReLU, PReLU, ELU #Import activation functions from keras.layers\n",
    "from tensorflow.keras.layers import Dropout #Import dropout library, the objective of dropout is to prevent overfitting of data, However, we have to be careful while setting the dropout rate.\n",
    "from tensorflow.keras.optimizers import SGD, RMSprop\n",
    "from tensorflow.keras.callbacks import LearningRateScheduler #Learning rate scheduler, Here call back is an object that can perform\n",
    "                                                # at various actions at different stages of training \n",
    "from tensorflow.keras.callbacks import History #We can use the data collected from history to  [accuracy, loss, val_accuracy, val_loss]\n",
    "\n",
    "\n",
    "\n",
    "import io #Deal with various types of input output\n",
    "import os #Talk with os, like changing and modifying dirctories\n",
    "import requests #Allow you to send HTTP/1.1, headers, form data, multipart files r = requests.get(‘https://github.com/timeline.json’)\n",
    "\n",
    "\n",
    "import warnings\n",
    "warnings.simplefilter(action='ignore', category=FutureWarning)\n",
    "warnings.filterwarnings('ignore')\n",
    "warnings.filterwarnings('ignore', category=DeprecationWarning) #Deprecated warning: it is a base category of warning about deprecated features\n",
    "\n",
    "\n",
    "import dill\n",
    "# dill.dump_session('notebook_env.db')\n"
   ]
  },
  {
   "cell_type": "code",
   "execution_count": 183,
   "metadata": {
    "colab": {
     "base_uri": "https://localhost:8080/",
     "height": 35
    },
    "id": "3UAv55q5WBcM",
    "outputId": "3c021aa0-bd4d-494f-f943-eef9218e7517"
   },
   "outputs": [
    {
     "data": {
      "text/plain": [
       "'C:\\\\Users\\\\jyotib18\\\\OneDrive - Universitetet i Agder\\\\Data Files From Rahul'"
      ]
     },
     "execution_count": 183,
     "metadata": {},
     "output_type": "execute_result"
    }
   ],
   "source": [
    "pwd\n"
   ]
  },
  {
   "cell_type": "code",
   "execution_count": 184,
   "metadata": {
    "colab": {
     "base_uri": "https://localhost:8080/",
     "height": 35
    },
    "id": "IpVFTXeQXCXK",
    "outputId": "27426a81-8e08-46b7-8f2c-c8deaf83a9a4"
   },
   "outputs": [
    {
     "data": {
      "text/plain": [
       "(81881, 47)"
      ]
     },
     "execution_count": 184,
     "metadata": {},
     "output_type": "execute_result"
    }
   ],
   "source": [
    "import io\n",
    "#inputs = pd.read_csv(io.BytesIO(uploaded['1.csv']))\n",
    "\n",
    "inputs=pd.read_csv(r'C:\\Users\\jyotib18\\Google Drive\\1.UiA\\8. Summaries\\Papers\\Bhardwaj_Optimal water flow online\\Joshin Data\\Results\\T15DaTa\\1.csv')\n",
    "\n",
    "\n",
    "# Dataset is now stored in a Pandas Dataframe\n",
    "inputs.shape"
   ]
  },
  {
   "cell_type": "code",
   "execution_count": 185,
   "metadata": {
    "colab": {
     "base_uri": "https://localhost:8080/",
     "height": 35
    },
    "id": "JJOS8FKYX-NI",
    "outputId": "1b70258b-b9d3-487b-c10f-9a84707063e3"
   },
   "outputs": [
    {
     "data": {
      "text/plain": [
       "pandas.core.frame.DataFrame"
      ]
     },
     "execution_count": 185,
     "metadata": {},
     "output_type": "execute_result"
    }
   ],
   "source": [
    "type(inputs)"
   ]
  },
  {
   "cell_type": "code",
   "execution_count": 186,
   "metadata": {
    "colab": {
     "base_uri": "https://localhost:8080/",
     "height": 267
    },
    "id": "7kjRvcIjYBcE",
    "outputId": "fc4ba7fd-6de7-44fa-fddc-9bbd367a8a2d"
   },
   "outputs": [
    {
     "data": {
      "text/plain": [
       "<bound method NDFrame.head of            Vo  Zo  So  D1  D2  D3  D4  D5  D6  D7  ...        U5        U6  \\\n",
       "0      88.883   1   6   0   1   1   0   0   1   1  ...  13.89700   6.34200   \n",
       "1      66.735   1   5   1   1   0   1   1   0   0  ...  11.70500  10.99400   \n",
       "2      71.848   1   4   1   0   1   0   0   0   0  ...   5.19740  16.00100   \n",
       "3      72.992   0   3   1   1   0   1   0   0   0  ...   0.86048   3.37980   \n",
       "4      81.207   0   4   0   1   1   0   1   1   0  ...   6.22200  18.46800   \n",
       "...       ...  ..  ..  ..  ..  ..  ..  ..  ..  ..  ...       ...       ...   \n",
       "81876  71.372   1   6   1   1   1   0   0   0   0  ...  19.02100  12.16200   \n",
       "81877  83.196   0   7   0   1   1   1   1   1   1  ...   6.28850   0.58418   \n",
       "81878  74.043   1   5   0   1   1   1   0   1   0  ...  15.19600   3.06080   \n",
       "81879  91.452   1   6   1   1   0   1   1   0   1  ...  16.31600   9.30570   \n",
       "81880  61.132   1   3   0   1   0   1   0   1   0  ...  17.74000   1.64390   \n",
       "\n",
       "             U7        U8       U9      U10       U11      U12      U13  \\\n",
       "0      19.00400   0.68892   8.7749   7.6312  15.31000  15.9040   3.7375   \n",
       "1      18.34400   5.71680  15.1440  15.0750   7.60890  11.3560   1.5171   \n",
       "2       8.62830  18.21300   3.6369   5.2761   2.91080   2.7214  17.3860   \n",
       "3      12.98200  14.63400  12.9550   9.0185  10.94000   5.9264  14.8940   \n",
       "4       8.60410   3.69630  18.0980  19.5950   8.77740   2.2224   5.1613   \n",
       "...         ...       ...      ...      ...       ...      ...      ...   \n",
       "81876   0.48431   6.56570   7.8693  11.8260   3.40460  18.8390  12.9470   \n",
       "81877  18.82100   5.59820  13.5880   6.8464  13.75400  19.9020  13.9930   \n",
       "81878  15.04700   1.87370  11.5350   9.3954   0.12498  16.7610  18.2230   \n",
       "81879   0.81617   7.62580   5.0450   4.9149  16.18700  14.1160   6.7427   \n",
       "81880  19.89100   3.27000   2.5282  18.3630  17.73200  19.9260   7.1158   \n",
       "\n",
       "            U14  \n",
       "0       9.79530  \n",
       "1       1.07900  \n",
       "2      11.59400  \n",
       "3       3.77910  \n",
       "4       8.17440  \n",
       "...         ...  \n",
       "81876  13.46700  \n",
       "81877  13.34500  \n",
       "81878  12.64000  \n",
       "81879   0.16285  \n",
       "81880   4.87300  \n",
       "\n",
       "[81881 rows x 47 columns]>"
      ]
     },
     "execution_count": 186,
     "metadata": {},
     "output_type": "execute_result"
    }
   ],
   "source": [
    "inputs.head"
   ]
  },
  {
   "cell_type": "code",
   "execution_count": 187,
   "metadata": {
    "colab": {
     "base_uri": "https://localhost:8080/",
     "height": 35
    },
    "id": "3K06d0z3YLHZ",
    "outputId": "2f18508a-5444-4967-a6c7-42e5cfdeb656"
   },
   "outputs": [
    {
     "data": {
      "text/plain": [
       "(81881, 45)"
      ]
     },
     "execution_count": 187,
     "metadata": {},
     "output_type": "execute_result"
    }
   ],
   "source": [
    "import io\n",
    "outputs = pd.read_csv(r'C:\\Users\\jyotib18\\Google Drive\\1.UiA\\8. Summaries\\Papers\\Bhardwaj_Optimal water flow online\\Joshin Data\\Results\\T15DaTa\\2.csv')\n",
    "# Dataset is now stored in a Pandas Dataframe\n",
    "outputs.shape"
   ]
  },
  {
   "cell_type": "code",
   "execution_count": 188,
   "metadata": {
    "colab": {
     "base_uri": "https://localhost:8080/",
     "height": 267
    },
    "id": "c_Y34U9Eo9RK",
    "outputId": "a0beb83e-4aeb-4f67-e98b-175ffcb61b9b"
   },
   "outputs": [
    {
     "data": {
      "text/plain": [
       "<bound method NDFrame.head of        z1   z2   z3   z4   z5   z6   z7   z8   z9  z10  ...   fu6   fu7  \\\n",
       "0       1  0.0  0.0  1.0  1.0  0.0  0.0  1.0  0.0  0.0  ...   0.0   0.0   \n",
       "1       1  1.0  0.0  1.0  1.0  1.0  1.0  1.0  1.0  1.0  ...  10.0  10.0   \n",
       "2       1  1.0  1.0  1.0  0.0  1.0  0.0  1.0  0.0  1.0  ...  10.0   0.0   \n",
       "3       0  1.0  0.0  1.0  1.0  0.0  1.0  1.0  1.0  1.0  ...   0.0  10.0   \n",
       "4       0  0.0  1.0  1.0  0.0  0.0  1.0  0.0  1.0  1.0  ...   0.0  10.0   \n",
       "...    ..  ...  ...  ...  ...  ...  ...  ...  ...  ...  ...   ...   ...   \n",
       "81876   1  1.0  0.0  1.0  0.0  1.0  0.0  1.0  1.0  1.0  ...  10.0   0.0   \n",
       "81877   0  1.0  1.0  1.0  1.0  0.0  1.0  1.0  1.0  1.0  ...   0.0  10.0   \n",
       "81878   1  0.0  1.0  0.0  0.0  1.0  1.0  1.0  1.0  1.0  ...  10.0  10.0   \n",
       "81879   1  0.0  0.0  1.0  1.0  0.0  0.0  1.0  1.0  1.0  ...   0.0   0.0   \n",
       "81880   1  1.0  0.0  0.0  1.0  1.0  1.0  1.0  1.0  1.0  ...  10.0  10.0   \n",
       "\n",
       "           fu8   fu9  fu10     fu11  fu12  fu13          fu14  fu15  \n",
       "0      10.0000   0.0   0.0  10.0000  10.0  10.0  0.000000e+00     0  \n",
       "1       7.2417  10.0  10.0  10.0000  10.0   0.0  0.000000e+00     0  \n",
       "2      10.0000   0.0  10.0  10.0000  10.0   0.0  1.000000e+01     0  \n",
       "3      10.0000  10.0  10.0  10.0000   0.0   0.0  0.000000e+00     0  \n",
       "4       0.0000  10.0  10.0   9.0115   0.0  10.0  0.000000e+00     0  \n",
       "...        ...   ...   ...      ...   ...   ...           ...   ...  \n",
       "81876  10.0000  10.0  10.0  10.0000  10.0  10.0  1.000000e+01     0  \n",
       "81877  10.0000  10.0  10.0  10.0000  10.0   0.0  0.000000e+00     0  \n",
       "81878  10.0000  10.0  10.0  10.0000   0.0  10.0  1.000000e+01     0  \n",
       "81879  10.0000  10.0  10.0  10.0000   0.0   0.0  0.000000e+00     0  \n",
       "81880  10.0000  10.0  10.0  10.0000  10.0  10.0 -5.550000e-16     0  \n",
       "\n",
       "[81881 rows x 45 columns]>"
      ]
     },
     "execution_count": 188,
     "metadata": {},
     "output_type": "execute_result"
    }
   ],
   "source": [
    "outputs.head"
   ]
  },
  {
   "cell_type": "code",
   "execution_count": 189,
   "metadata": {
    "colab": {
     "base_uri": "https://localhost:8080/",
     "height": 142
    },
    "id": "7Q5rdfEcYUpm",
    "outputId": "e1c8aace-b467-4903-93de-00041281f93e"
   },
   "outputs": [
    {
     "data": {
      "text/plain": [
       "array([[88.883  ,  1.     ,  6.     , ..., 15.904  ,  3.7375 ,  9.7953 ],\n",
       "       [66.735  ,  1.     ,  5.     , ..., 11.356  ,  1.5171 ,  1.079  ],\n",
       "       [71.848  ,  1.     ,  4.     , ...,  2.7214 , 17.386  , 11.594  ],\n",
       "       ...,\n",
       "       [74.043  ,  1.     ,  5.     , ..., 16.761  , 18.223  , 12.64   ],\n",
       "       [91.452  ,  1.     ,  6.     , ..., 14.116  ,  6.7427 ,  0.16285],\n",
       "       [61.132  ,  1.     ,  3.     , ..., 19.926  ,  7.1158 ,  4.873  ]])"
      ]
     },
     "execution_count": 189,
     "metadata": {},
     "output_type": "execute_result"
    }
   ],
   "source": [
    "x = inputs.values #converting data frame to array frame\n",
    "x"
   ]
  },
  {
   "cell_type": "code",
   "execution_count": 190,
   "metadata": {
    "colab": {
     "base_uri": "https://localhost:8080/",
     "height": 35
    },
    "id": "u-1JFtEPZMI-",
    "outputId": "1a6530ce-97d3-43c1-e22d-afa1cc4cc523"
   },
   "outputs": [
    {
     "data": {
      "text/plain": [
       "pandas.core.frame.DataFrame"
      ]
     },
     "execution_count": 190,
     "metadata": {},
     "output_type": "execute_result"
    }
   ],
   "source": [
    "type(outputs)"
   ]
  },
  {
   "cell_type": "code",
   "execution_count": 191,
   "metadata": {
    "colab": {
     "base_uri": "https://localhost:8080/",
     "height": 142
    },
    "id": "ftCpb4JaZOCm",
    "outputId": "d1adf403-a25c-406b-af25-602b9fc6363a"
   },
   "outputs": [
    {
     "data": {
      "text/plain": [
       "array([[ 1.00e+00,  0.00e+00,  0.00e+00, ...,  1.00e+01,  0.00e+00,\n",
       "         0.00e+00],\n",
       "       [ 1.00e+00,  1.00e+00,  0.00e+00, ...,  0.00e+00,  0.00e+00,\n",
       "         0.00e+00],\n",
       "       [ 1.00e+00,  1.00e+00,  1.00e+00, ...,  0.00e+00,  1.00e+01,\n",
       "         0.00e+00],\n",
       "       ...,\n",
       "       [ 1.00e+00,  0.00e+00,  1.00e+00, ...,  1.00e+01,  1.00e+01,\n",
       "         0.00e+00],\n",
       "       [ 1.00e+00,  0.00e+00,  0.00e+00, ...,  0.00e+00,  0.00e+00,\n",
       "         0.00e+00],\n",
       "       [ 1.00e+00,  1.00e+00,  0.00e+00, ...,  1.00e+01, -5.55e-16,\n",
       "         0.00e+00]])"
      ]
     },
     "execution_count": 191,
     "metadata": {},
     "output_type": "execute_result"
    }
   ],
   "source": [
    "y = outputs.values # converting dataframe \"outputc\" in array form i.e. 'y' is now in array form \n",
    "y # y is combination of power assignments and channel assignments both."
   ]
  },
  {
   "cell_type": "code",
   "execution_count": 192,
   "metadata": {
    "colab": {
     "base_uri": "https://localhost:8080/",
     "height": 35
    },
    "id": "ChIBpH6HZQxg",
    "outputId": "18f59c85-a710-4dfa-997d-b35308e72991"
   },
   "outputs": [
    {
     "data": {
      "text/plain": [
       "(81881, 45)"
      ]
     },
     "execution_count": 192,
     "metadata": {},
     "output_type": "execute_result"
    }
   ],
   "source": [
    "y.shape"
   ]
  },
  {
   "cell_type": "code",
   "execution_count": 193,
   "metadata": {},
   "outputs": [
    {
     "data": {
      "text/plain": [
       "(81881, 47)"
      ]
     },
     "execution_count": 193,
     "metadata": {},
     "output_type": "execute_result"
    }
   ],
   "source": [
    "x.shape"
   ]
  },
  {
   "cell_type": "code",
   "execution_count": 194,
   "metadata": {
    "colab": {
     "base_uri": "https://localhost:8080/",
     "height": 35
    },
    "id": "abgDkl9qZTMj",
    "outputId": "2d246909-8eff-48b5-f5d5-2a3ac593b867"
   },
   "outputs": [
    {
     "data": {
      "text/plain": [
       "numpy.ndarray"
      ]
     },
     "execution_count": 194,
     "metadata": {},
     "output_type": "execute_result"
    }
   ],
   "source": [
    "type(y)"
   ]
  },
  {
   "cell_type": "code",
   "execution_count": 195,
   "metadata": {
    "colab": {
     "base_uri": "https://localhost:8080/",
     "height": 142
    },
    "id": "feOJ4F4eZVDY",
    "outputId": "50399f6d-8241-46ee-c374-b53b7e17226b"
   },
   "outputs": [
    {
     "data": {
      "text/plain": [
       "array([ 1.    ,  0.    ,  0.    ,  1.    ,  1.    ,  0.    ,  0.    ,\n",
       "        1.    ,  0.    ,  0.    ,  1.    ,  1.    ,  1.    ,  0.    ,\n",
       "        0.    , 88.883 , 93.345 , 92.422 , 90.479 , 84.01  , 77.188 ,\n",
       "       70.846 , 51.842 , 61.153 , 52.378 , 44.747 , 39.437 , 33.533 ,\n",
       "       39.795 , 30.    , 10.    ,  0.    ,  0.    , 10.    ,  7.0753,\n",
       "        0.    ,  0.    , 10.    ,  0.    ,  0.    , 10.    , 10.    ,\n",
       "       10.    ,  0.    ,  0.    ])"
      ]
     },
     "execution_count": 195,
     "metadata": {},
     "output_type": "execute_result"
    }
   ],
   "source": [
    "y[0]"
   ]
  },
  {
   "cell_type": "code",
   "execution_count": 196,
   "metadata": {
    "colab": {
     "base_uri": "https://localhost:8080/",
     "height": 71
    },
    "id": "kL_w5EAOZXE9",
    "outputId": "e61df404-dd57-44dd-ed66-5e1662d55204"
   },
   "outputs": [
    {
     "data": {
      "text/plain": [
       "array([1., 1., 1., 0., 0., 0., 0., 1., 1., 1., 1., 1., 0., 0., 0., 1., 1.,\n",
       "       0., 0., 1., 1., 1., 1., 1., 1., 0., 1., 1., 0., 0., 1., 1., 0., 0.,\n",
       "       0., 1., 1., 1., 0., 1., 1., 0., 1., 1., 0., 0., 1., 0., 0., 1.])"
      ]
     },
     "execution_count": 196,
     "metadata": {},
     "output_type": "execute_result"
    }
   ],
   "source": [
    "y[0:50, 0] # First row and initial 50 columns of y "
   ]
  },
  {
   "cell_type": "code",
   "execution_count": 197,
   "metadata": {
    "id": "Jt2OQ-dMZZ1x"
   },
   "outputs": [],
   "source": [
    "# Splitting data for training and testing \n",
    "# Here both x and y are in array form (non-scaled)\n",
    "\n",
    "from sklearn.model_selection import train_test_split\n",
    "x_train, x_test, y_train, y_test = train_test_split(x, y, test_size=0.2, shuffle=False, random_state=42) # old\n",
    "#x_train, x_test, y_train, y_test = train_test_split(x, y, test_size=0.2, shuffle=True)"
   ]
  },
  {
   "cell_type": "code",
   "execution_count": 198,
   "metadata": {
    "id": "gBhAhKzuZehe"
   },
   "outputs": [],
   "source": [
    "# Feature Scaling\n",
    "from sklearn.preprocessing import StandardScaler\n",
    "sc = StandardScaler()\n",
    "x_train = sc.fit_transform(x_train)\n",
    "x_test = sc.transform(x_test)"
   ]
  },
  {
   "cell_type": "code",
   "execution_count": 199,
   "metadata": {
    "id": "VX8qOZkUZfiq"
   },
   "outputs": [],
   "source": [
    "# Building neural network\n",
    "\n",
    "model = Sequential()\n",
    "model.add(Dense(40, input_dim=x.shape[1], activation='relu', kernel_initializer='random_normal')) # Input layer and 1st hidden layer\n",
    "\n",
    "model.add(Dense(20, activation='relu', kernel_initializer='random_normal')) # 2nd Hidden layer \n",
    "model.add(Dense(5, activation='relu', kernel_initializer='random_normal')) # 3rd Hidden layer \n",
    "\n",
    "model.add(Dense(60, activation='relu', kernel_initializer='random_normal')) # 4th Hidden Layer \n",
    "model.add(Dense(60, activation='relu', kernel_initializer='random_normal')) # 5th Hidden Layer\n",
    "model.add(Dense(60, activation='relu', kernel_initializer='random_normal')) # 6th Hidden Layer \n",
    "model.add(Dense(60, activation='relu', kernel_initializer='random_normal')) # 7th Hidden Layer\n",
    "model.add(Dense(60, activation='linear', kernel_initializer='random_normal')) # 8th Hidden Layer\n",
    "model.add(Dense(60, activation='linear', kernel_initializer='random_normal')) # 9th Hidden Layer \n",
    "model.add(Dense(60, activation='linear', kernel_initializer='random_normal')) # 10th Hidden Layer\n",
    "\n",
    "model.add(Dense(y.shape[1], activation='linear', kernel_initializer='random_normal')) # Output Layer "
   ]
  },
  {
   "cell_type": "code",
   "execution_count": 200,
   "metadata": {},
   "outputs": [
    {
     "data": {
      "text/plain": [
       "47"
      ]
     },
     "execution_count": 200,
     "metadata": {},
     "output_type": "execute_result"
    }
   ],
   "source": [
    "x.shape[1]"
   ]
  },
  {
   "cell_type": "code",
   "execution_count": 201,
   "metadata": {
    "id": "wQ7hnYBPZlEz"
   },
   "outputs": [],
   "source": [
    "# #Building neural network\n",
    "\n",
    "# model = keras.Sequential()\n",
    "# model.add(Dense(40, input_dim=x.shape[1], kernel_initializer='random_normal')) # Input layer and 1st hidden layer\n",
    "\n",
    "# model.add(LeakyReLU(alpha=0.1)) # Leaky Relu for 1st hidden layer\n",
    "\n",
    "# model.add(Dense(60, kernel_initializer='random_normal')) # 2nd Hidden layer\n",
    "\n",
    "# model.add(LeakyReLU(alpha=0.1)) # Leaky Relu for 2nd hidden layer\n",
    "\n",
    "# model.add(Dense(80, kernel_initializer='random_normal')) # 3rd Hidden layer \n",
    "# model.add(LeakyReLU(alpha=0.1)) # Leaky Relu for 3rd hidden layer\n",
    "\n",
    "# model.add(Dense(100, kernel_initializer='random_normal')) # 4th Hidden Layer \n",
    "# model.add(LeakyReLU(alpha=0.1)) # Leaky Relu for 4th hidden layer\n",
    "# model.add(Dense(80, kernel_initializer='random_normal')) # 5th Hidden Layer\n",
    "# model.add(LeakyReLU(alpha=0.1)) # Leaky Relu for 5th hidden layer\n",
    "# model.add(Dense(60, kernel_initializer='random_normal')) # 6th Hidden layer\n",
    "# model.add(LeakyReLU(alpha=0.1)) # Leaky Relu for 6th hidden layer\n",
    "\n",
    "# model.add(Dense(10, kernel_initializer='random_normal')) # 7th Hidden Layer \n",
    "# model.add(LeakyReLU(alpha=0.1)) # Leaky Relu for 4th hidden layer\n",
    "# model.add(Dense(8, kernel_initializer='random_normal')) # 8th Hidden Layer\n",
    "# model.add(LeakyReLU(alpha=0.1)) # Leaky Relu for 5th hidden layer\n",
    "# model.add(Dense(6, kernel_initializer='random_normal')) # 9th Hidden layer\n",
    "# model.add(LeakyReLU(alpha=0.1)) # Leaky Relu for 6th hidden layer\n",
    "\n",
    "\n",
    "# model.add(Dense(10, kernel_initializer='random_normal')) # 10th Hidden Layer \n",
    "# model.add(LeakyReLU(alpha=0.1)) # Leaky Relu for 4th hidden layer\n",
    "# model.add(Dense(8, kernel_initializer='random_normal')) # 11th Hidden Layer\n",
    "# model.add(LeakyReLU(alpha=0.1)) # Leaky Relu for 5th hidden layer\n",
    "# model.add(Dense(6, kernel_initializer='random_normal')) # 12th Hidden layer\n",
    "# model.add(LeakyReLU(alpha=0.1)) # Leaky Relu for 6th hidden layer\n",
    "\n",
    "\n",
    "\n",
    "# model.add(LeakyReLU(alpha=0.1)) # Leaky Relu for 1st hidden layer\n",
    "\n",
    "# model.add(Dense(60, kernel_initializer='random_normal')) # 2nd Hidden layer\n",
    "# model.add(LeakyReLU(alpha=0.1)) # Leaky Relu for 2nd hidden layer\n",
    "\n",
    "# model.add(Dense(80, kernel_initializer='random_normal')) # 3rd Hidden layer \n",
    "# model.add(LeakyReLU(alpha=0.1)) # Leaky Relu for 3rd hidden layer\n",
    "\n",
    "# model.add(Dense(100, kernel_initializer='random_normal')) # 4th Hidden Layer \n",
    "# model.add(LeakyReLU(alpha=0.1)) # Leaky Relu for 4th hidden layer\n",
    "# model.add(Dense(80, kernel_initializer='random_normal')) # 5th Hidden Layer\n",
    "# model.add(LeakyReLU(alpha=0.1)) # Leaky Relu for 5th hidden layer\n",
    "# model.add(Dense(60, kernel_initializer='random_normal')) # 6th Hidden layer\n",
    "# model.add(LeakyReLU(alpha=0.1)) # Leaky Relu for 6th hidden layer\n",
    "\n",
    "# # model.add(Dense(10, kernel_initializer='random_normal')) # 7th Hidden Layer \n",
    "# # model.add(LeakyReLU(alpha=0.1)) # Leaky Relu for 4th hidden layer\n",
    "# # model.add(Dense(8, kernel_initializer='random_normal')) # 8th Hidden Layer\n",
    "# # model.add(LeakyReLU(alpha=0.1)) # Leaky Relu for 5th hidden layer\n",
    "# # model.add(Dense(6, kernel_initializer='random_normal')) # 9th Hidden layer\n",
    "# # model.add(LeakyReLU(alpha=0.1)) # Leaky Relu for 6th hidden layer\n",
    "\n",
    "\n",
    "# # model.add(Dense(10, kernel_initializer='random_normal')) # 10th Hidden Layer \n",
    "# # model.add(LeakyReLU(alpha=0.1)) # Leaky Relu for 4th hidden layer\n",
    "# # model.add(Dense(8, kernel_initializer='random_normal')) # 11th Hidden Layer\n",
    "# # model.add(LeakyReLU(alpha=0.1)) # Leaky Relu for 5th hidden layer\n",
    "# # model.add(Dense(6, kernel_initializer='random_normal')) # 12th Hidden layer\n",
    "# # model.add(LeakyReLU(alpha=0.1)) # Leaky Relu for 6th hidden layer\n",
    "\n",
    "\n",
    "# #model.add(Dense(y.shape[1], activation='relu', kernel_initializer='random_normal')) # Output Layer \n",
    "\n",
    "# # model.add(Dense(y.shape[1], activation='softmax', kernel_initializer='random_normal')) # Output Layer \n",
    "\n",
    "# # model.add(Dense(y.shape[1], kernel_initializer='random_normal')) # Output Layer\n",
    "# # model.add(LeakyReLU(alpha=0.1)) # Leaky Relu for output laye\n",
    "\n",
    "# model.add(Dense(y.shape[1], activation='relu', kernel_initializer='random_normal')) # Output Layer \n",
    "\n",
    "# # model.add(Dense(y.shape[1], activation='softmax', kernel_initializer='random_normal')) # Output Layer \n",
    "\n",
    "# # model.add(Dense(y.shape[1], kernel_initializer='random_normal')) # Output Layer\n",
    "# # model.add(LeakyReLU(alpha=0.1)) # Leaky Relu for output layer"
   ]
  },
  {
   "cell_type": "code",
   "execution_count": 202,
   "metadata": {
    "id": "xhwu9nzjaVYA"
   },
   "outputs": [],
   "source": [
    "# Compiling Neural network\n",
    "\n",
    "from tensorflow.keras.callbacks import EarlyStopping\n",
    "model.compile(optimizer='ADAM', loss='mean_squared_error', metrics = ['mean_absolute_error']) \n",
    "monitor = EarlyStopping(monitor='val_loss', min_delta=0.0001, patience=10, \n",
    "                        verbose=1, mode='auto', restore_best_weights=True)"
   ]
  },
  {
   "cell_type": "code",
   "execution_count": 203,
   "metadata": {
    "colab": {
     "base_uri": "https://localhost:8080/",
     "height": 1000
    },
    "id": "sUm7vYpNaZhk",
    "outputId": "bb1cd85f-4a22-4777-8674-4e053a532b6e"
   },
   "outputs": [
    {
     "name": "stdout",
     "output_type": "stream",
     "text": [
      "Train on 65504 samples, validate on 16377 samples\n",
      "Epoch 1/1000\n",
      "65504/65504 - 1s - loss: 412.9685 - mean_absolute_error: 10.6952 - val_loss: 35.5072 - val_mean_absolute_error: 3.9015\n",
      "Epoch 2/1000\n",
      "65504/65504 - 1s - loss: 32.7556 - mean_absolute_error: 3.8347 - val_loss: 32.6425 - val_mean_absolute_error: 3.8409\n",
      "Epoch 3/1000\n",
      "65504/65504 - 0s - loss: 31.9805 - mean_absolute_error: 3.8112 - val_loss: 32.0932 - val_mean_absolute_error: 3.8069\n",
      "Epoch 4/1000\n",
      "65504/65504 - 0s - loss: 31.3973 - mean_absolute_error: 3.7872 - val_loss: 31.6427 - val_mean_absolute_error: 3.7912\n",
      "Epoch 5/1000\n",
      "65504/65504 - 1s - loss: 31.0772 - mean_absolute_error: 3.7739 - val_loss: 31.4564 - val_mean_absolute_error: 3.7899\n",
      "Epoch 6/1000\n",
      "65504/65504 - 0s - loss: 30.9296 - mean_absolute_error: 3.7679 - val_loss: 31.3518 - val_mean_absolute_error: 3.7783\n",
      "Epoch 7/1000\n",
      "65504/65504 - 0s - loss: 30.8225 - mean_absolute_error: 3.7622 - val_loss: 31.2407 - val_mean_absolute_error: 3.7829\n",
      "Epoch 8/1000\n",
      "65504/65504 - 0s - loss: 30.7305 - mean_absolute_error: 3.7578 - val_loss: 31.1394 - val_mean_absolute_error: 3.7739\n",
      "Epoch 9/1000\n",
      "65504/65504 - 0s - loss: 30.6420 - mean_absolute_error: 3.7533 - val_loss: 31.0625 - val_mean_absolute_error: 3.7689\n",
      "Epoch 10/1000\n",
      "65504/65504 - 0s - loss: 30.6054 - mean_absolute_error: 3.7511 - val_loss: 31.1614 - val_mean_absolute_error: 3.7790\n",
      "Epoch 11/1000\n",
      "65504/65504 - 0s - loss: 30.5532 - mean_absolute_error: 3.7483 - val_loss: 30.9771 - val_mean_absolute_error: 3.7516\n",
      "Epoch 12/1000\n",
      "65504/65504 - 0s - loss: 30.5192 - mean_absolute_error: 3.7459 - val_loss: 30.9533 - val_mean_absolute_error: 3.7641\n",
      "Epoch 13/1000\n",
      "65504/65504 - 0s - loss: 30.4756 - mean_absolute_error: 3.7448 - val_loss: 30.9254 - val_mean_absolute_error: 3.7566\n",
      "Epoch 14/1000\n",
      "65504/65504 - 1s - loss: 30.4503 - mean_absolute_error: 3.7430 - val_loss: 30.9457 - val_mean_absolute_error: 3.7618\n",
      "Epoch 15/1000\n",
      "65504/65504 - 1s - loss: 30.4326 - mean_absolute_error: 3.7419 - val_loss: 30.8693 - val_mean_absolute_error: 3.7496\n",
      "Epoch 16/1000\n",
      "65504/65504 - 1s - loss: 30.3831 - mean_absolute_error: 3.7382 - val_loss: 30.8753 - val_mean_absolute_error: 3.7555\n",
      "Epoch 17/1000\n",
      "65504/65504 - 1s - loss: 30.3570 - mean_absolute_error: 3.7372 - val_loss: 30.8382 - val_mean_absolute_error: 3.7672\n",
      "Epoch 18/1000\n",
      "65504/65504 - 1s - loss: 30.3494 - mean_absolute_error: 3.7374 - val_loss: 30.8107 - val_mean_absolute_error: 3.7659\n",
      "Epoch 19/1000\n",
      "65504/65504 - 0s - loss: 30.3060 - mean_absolute_error: 3.7340 - val_loss: 30.8462 - val_mean_absolute_error: 3.7665\n",
      "Epoch 20/1000\n",
      "65504/65504 - 0s - loss: 30.3174 - mean_absolute_error: 3.7344 - val_loss: 30.7355 - val_mean_absolute_error: 3.7562\n",
      "Epoch 21/1000\n",
      "65504/65504 - 0s - loss: 30.2694 - mean_absolute_error: 3.7322 - val_loss: 30.7952 - val_mean_absolute_error: 3.7528\n",
      "Epoch 22/1000\n",
      "65504/65504 - 0s - loss: 30.2115 - mean_absolute_error: 3.7288 - val_loss: 30.7328 - val_mean_absolute_error: 3.7458\n",
      "Epoch 23/1000\n",
      "65504/65504 - 0s - loss: 30.2054 - mean_absolute_error: 3.7278 - val_loss: 30.6265 - val_mean_absolute_error: 3.7441\n",
      "Epoch 24/1000\n",
      "65504/65504 - 1s - loss: 30.2127 - mean_absolute_error: 3.7272 - val_loss: 30.6548 - val_mean_absolute_error: 3.7477\n",
      "Epoch 25/1000\n",
      "65504/65504 - 0s - loss: 30.1365 - mean_absolute_error: 3.7235 - val_loss: 30.9477 - val_mean_absolute_error: 3.7555\n",
      "Epoch 26/1000\n",
      "65504/65504 - 1s - loss: 30.0814 - mean_absolute_error: 3.7195 - val_loss: 30.4930 - val_mean_absolute_error: 3.7430\n",
      "Epoch 27/1000\n",
      "65504/65504 - 1s - loss: 30.0161 - mean_absolute_error: 3.7163 - val_loss: 30.5445 - val_mean_absolute_error: 3.7388\n",
      "Epoch 28/1000\n",
      "65504/65504 - 0s - loss: 29.9864 - mean_absolute_error: 3.7135 - val_loss: 30.4079 - val_mean_absolute_error: 3.7216\n",
      "Epoch 29/1000\n",
      "65504/65504 - 0s - loss: 29.9063 - mean_absolute_error: 3.7086 - val_loss: 30.3308 - val_mean_absolute_error: 3.7341\n",
      "Epoch 30/1000\n",
      "65504/65504 - 0s - loss: 29.7874 - mean_absolute_error: 3.7016 - val_loss: 30.1962 - val_mean_absolute_error: 3.7210\n",
      "Epoch 31/1000\n",
      "65504/65504 - 0s - loss: 29.7122 - mean_absolute_error: 3.6963 - val_loss: 30.0974 - val_mean_absolute_error: 3.7097\n",
      "Epoch 32/1000\n",
      "65504/65504 - 0s - loss: 29.5373 - mean_absolute_error: 3.6847 - val_loss: 29.9369 - val_mean_absolute_error: 3.7051\n",
      "Epoch 33/1000\n",
      "65504/65504 - 0s - loss: 29.3129 - mean_absolute_error: 3.6702 - val_loss: 29.6207 - val_mean_absolute_error: 3.6858\n",
      "Epoch 34/1000\n",
      "65504/65504 - 1s - loss: 28.8641 - mean_absolute_error: 3.6398 - val_loss: 28.9535 - val_mean_absolute_error: 3.6496\n",
      "Epoch 35/1000\n",
      "65504/65504 - 0s - loss: 27.3249 - mean_absolute_error: 3.5079 - val_loss: 26.7391 - val_mean_absolute_error: 3.4268\n",
      "Epoch 36/1000\n",
      "65504/65504 - 0s - loss: 26.1427 - mean_absolute_error: 3.3959 - val_loss: 26.5675 - val_mean_absolute_error: 3.4269\n",
      "Epoch 37/1000\n",
      "65504/65504 - 0s - loss: 26.0505 - mean_absolute_error: 3.3921 - val_loss: 26.3060 - val_mean_absolute_error: 3.4007\n",
      "Epoch 38/1000\n",
      "65504/65504 - 0s - loss: 24.0411 - mean_absolute_error: 3.2690 - val_loss: 23.4901 - val_mean_absolute_error: 3.2369\n",
      "Epoch 39/1000\n",
      "65504/65504 - 0s - loss: 22.8755 - mean_absolute_error: 3.2292 - val_loss: 22.6695 - val_mean_absolute_error: 3.2282\n",
      "Epoch 40/1000\n",
      "65504/65504 - 0s - loss: 22.4564 - mean_absolute_error: 3.2258 - val_loss: 22.4389 - val_mean_absolute_error: 3.2065\n",
      "Epoch 41/1000\n",
      "65504/65504 - 0s - loss: 22.2356 - mean_absolute_error: 3.2204 - val_loss: 22.2481 - val_mean_absolute_error: 3.2338\n",
      "Epoch 42/1000\n",
      "65504/65504 - 0s - loss: 22.1598 - mean_absolute_error: 3.2186 - val_loss: 22.1781 - val_mean_absolute_error: 3.2247\n",
      "Epoch 43/1000\n",
      "65504/65504 - 1s - loss: 22.0792 - mean_absolute_error: 3.2172 - val_loss: 22.0417 - val_mean_absolute_error: 3.2052\n",
      "Epoch 44/1000\n",
      "65504/65504 - 0s - loss: 21.9448 - mean_absolute_error: 3.2103 - val_loss: 21.9622 - val_mean_absolute_error: 3.1972\n",
      "Epoch 45/1000\n",
      "65504/65504 - 1s - loss: 21.8598 - mean_absolute_error: 3.2061 - val_loss: 21.8918 - val_mean_absolute_error: 3.2165\n",
      "Epoch 46/1000\n",
      "65504/65504 - 0s - loss: 21.7342 - mean_absolute_error: 3.1992 - val_loss: 21.7723 - val_mean_absolute_error: 3.2079\n",
      "Epoch 47/1000\n",
      "65504/65504 - 0s - loss: 21.6156 - mean_absolute_error: 3.1935 - val_loss: 21.6294 - val_mean_absolute_error: 3.1828\n",
      "Epoch 48/1000\n",
      "65504/65504 - 0s - loss: 21.3465 - mean_absolute_error: 3.1776 - val_loss: 21.3309 - val_mean_absolute_error: 3.1696\n",
      "Epoch 49/1000\n",
      "65504/65504 - 0s - loss: 21.1141 - mean_absolute_error: 3.1628 - val_loss: 21.0105 - val_mean_absolute_error: 3.1525\n",
      "Epoch 50/1000\n",
      "65504/65504 - 1s - loss: 20.5886 - mean_absolute_error: 3.1243 - val_loss: 20.7240 - val_mean_absolute_error: 3.1229\n",
      "Epoch 51/1000\n",
      "65504/65504 - 1s - loss: 20.0881 - mean_absolute_error: 3.0754 - val_loss: 20.0979 - val_mean_absolute_error: 3.0321\n",
      "Epoch 52/1000\n",
      "65504/65504 - 0s - loss: 19.8044 - mean_absolute_error: 3.0372 - val_loss: 19.8066 - val_mean_absolute_error: 3.0224\n",
      "Epoch 53/1000\n",
      "65504/65504 - 0s - loss: 19.7000 - mean_absolute_error: 3.0297 - val_loss: 19.8250 - val_mean_absolute_error: 3.0387\n",
      "Epoch 54/1000\n",
      "65504/65504 - 0s - loss: 19.6431 - mean_absolute_error: 3.0286 - val_loss: 20.0038 - val_mean_absolute_error: 3.0374\n",
      "Epoch 55/1000\n",
      "65504/65504 - 0s - loss: 19.6269 - mean_absolute_error: 3.0299 - val_loss: 19.7474 - val_mean_absolute_error: 3.0293\n",
      "Epoch 56/1000\n",
      "65504/65504 - 0s - loss: 19.6347 - mean_absolute_error: 3.0308 - val_loss: 19.7350 - val_mean_absolute_error: 3.0469\n",
      "Epoch 57/1000\n",
      "65504/65504 - 1s - loss: 19.5905 - mean_absolute_error: 3.0295 - val_loss: 19.6851 - val_mean_absolute_error: 3.0453\n",
      "Epoch 58/1000\n",
      "65504/65504 - 0s - loss: 19.5759 - mean_absolute_error: 3.0287 - val_loss: 19.7675 - val_mean_absolute_error: 3.0545\n",
      "Epoch 59/1000\n",
      "65504/65504 - 0s - loss: 19.5681 - mean_absolute_error: 3.0287 - val_loss: 19.6637 - val_mean_absolute_error: 3.0416\n",
      "Epoch 60/1000\n",
      "65504/65504 - 0s - loss: 19.6222 - mean_absolute_error: 3.0324 - val_loss: 19.7221 - val_mean_absolute_error: 3.0315\n",
      "Epoch 61/1000\n",
      "65504/65504 - 0s - loss: 19.5786 - mean_absolute_error: 3.0299 - val_loss: 19.6445 - val_mean_absolute_error: 3.0230\n",
      "Epoch 62/1000\n",
      "65504/65504 - 0s - loss: 19.5052 - mean_absolute_error: 3.0248 - val_loss: 19.6798 - val_mean_absolute_error: 3.0329\n",
      "Epoch 63/1000\n",
      "65504/65504 - 0s - loss: 19.5379 - mean_absolute_error: 3.0270 - val_loss: 19.6490 - val_mean_absolute_error: 3.0351\n"
     ]
    },
    {
     "name": "stdout",
     "output_type": "stream",
     "text": [
      "Epoch 64/1000\n",
      "65504/65504 - 0s - loss: 19.5086 - mean_absolute_error: 3.0257 - val_loss: 19.7546 - val_mean_absolute_error: 3.0513\n",
      "Epoch 65/1000\n",
      "65504/65504 - 0s - loss: 19.4906 - mean_absolute_error: 3.0247 - val_loss: 19.6721 - val_mean_absolute_error: 3.0383\n",
      "Epoch 66/1000\n",
      "65504/65504 - 1s - loss: 19.5324 - mean_absolute_error: 3.0272 - val_loss: 19.8939 - val_mean_absolute_error: 3.0557\n",
      "Epoch 67/1000\n",
      "65504/65504 - 0s - loss: 19.5811 - mean_absolute_error: 3.0305 - val_loss: 19.8289 - val_mean_absolute_error: 3.0245\n",
      "Epoch 68/1000\n",
      "65504/65504 - 0s - loss: 19.4932 - mean_absolute_error: 3.0242 - val_loss: 19.8352 - val_mean_absolute_error: 3.0362\n",
      "Epoch 69/1000\n",
      "65504/65504 - 0s - loss: 19.5313 - mean_absolute_error: 3.0269 - val_loss: 19.7164 - val_mean_absolute_error: 3.0329\n",
      "Epoch 70/1000\n",
      "65504/65504 - 1s - loss: 19.4482 - mean_absolute_error: 3.0214 - val_loss: 19.5939 - val_mean_absolute_error: 3.0301\n",
      "Epoch 71/1000\n",
      "65504/65504 - 1s - loss: 19.4624 - mean_absolute_error: 3.0228 - val_loss: 19.7080 - val_mean_absolute_error: 3.0333\n",
      "Epoch 72/1000\n",
      "65504/65504 - 0s - loss: 19.5146 - mean_absolute_error: 3.0257 - val_loss: 19.6123 - val_mean_absolute_error: 3.0292\n",
      "Epoch 73/1000\n",
      "65504/65504 - 1s - loss: 19.4995 - mean_absolute_error: 3.0248 - val_loss: 19.6669 - val_mean_absolute_error: 3.0409\n",
      "Epoch 74/1000\n",
      "65504/65504 - 1s - loss: 19.4562 - mean_absolute_error: 3.0228 - val_loss: 19.5864 - val_mean_absolute_error: 3.0235\n",
      "Epoch 75/1000\n",
      "65504/65504 - 1s - loss: 19.4411 - mean_absolute_error: 3.0210 - val_loss: 19.5853 - val_mean_absolute_error: 3.0192\n",
      "Epoch 76/1000\n",
      "65504/65504 - 0s - loss: 19.3879 - mean_absolute_error: 3.0174 - val_loss: 19.6775 - val_mean_absolute_error: 3.0444\n",
      "Epoch 77/1000\n",
      "65504/65504 - 0s - loss: 19.4275 - mean_absolute_error: 3.0204 - val_loss: 19.6212 - val_mean_absolute_error: 3.0216\n",
      "Epoch 78/1000\n",
      "65504/65504 - 0s - loss: 19.4194 - mean_absolute_error: 3.0197 - val_loss: 19.7462 - val_mean_absolute_error: 3.0224\n",
      "Epoch 79/1000\n",
      "65504/65504 - 0s - loss: 19.3931 - mean_absolute_error: 3.0181 - val_loss: 19.6551 - val_mean_absolute_error: 3.0186\n",
      "Epoch 80/1000\n",
      "65504/65504 - 1s - loss: 19.4446 - mean_absolute_error: 3.0213 - val_loss: 19.5537 - val_mean_absolute_error: 3.0095\n",
      "Epoch 81/1000\n",
      "65504/65504 - 1s - loss: 19.3281 - mean_absolute_error: 3.0121 - val_loss: 19.3292 - val_mean_absolute_error: 3.0045\n",
      "Epoch 82/1000\n",
      "65504/65504 - 0s - loss: 18.6866 - mean_absolute_error: 2.9606 - val_loss: 18.3087 - val_mean_absolute_error: 2.9453\n",
      "Epoch 83/1000\n",
      "65504/65504 - 1s - loss: 18.0755 - mean_absolute_error: 2.9251 - val_loss: 18.1547 - val_mean_absolute_error: 2.9369\n",
      "Epoch 84/1000\n",
      "65504/65504 - 1s - loss: 17.9375 - mean_absolute_error: 2.9259 - val_loss: 18.4313 - val_mean_absolute_error: 2.9629\n",
      "Epoch 85/1000\n",
      "65504/65504 - 0s - loss: 17.8173 - mean_absolute_error: 2.9254 - val_loss: 17.8926 - val_mean_absolute_error: 2.9363\n",
      "Epoch 86/1000\n",
      "65504/65504 - 0s - loss: 17.7028 - mean_absolute_error: 2.9218 - val_loss: 17.8987 - val_mean_absolute_error: 2.9515\n",
      "Epoch 87/1000\n",
      "65504/65504 - 0s - loss: 17.6208 - mean_absolute_error: 2.9196 - val_loss: 17.7024 - val_mean_absolute_error: 2.9318\n",
      "Epoch 88/1000\n",
      "65504/65504 - 0s - loss: 17.5455 - mean_absolute_error: 2.9162 - val_loss: 17.6100 - val_mean_absolute_error: 2.8998\n",
      "Epoch 89/1000\n",
      "65504/65504 - 0s - loss: 17.4361 - mean_absolute_error: 2.9108 - val_loss: 17.5712 - val_mean_absolute_error: 2.9097\n",
      "Epoch 90/1000\n",
      "65504/65504 - 0s - loss: 17.2267 - mean_absolute_error: 2.8966 - val_loss: 17.2420 - val_mean_absolute_error: 2.8977\n",
      "Epoch 91/1000\n",
      "65504/65504 - 0s - loss: 16.9690 - mean_absolute_error: 2.8742 - val_loss: 17.0441 - val_mean_absolute_error: 2.8688\n",
      "Epoch 92/1000\n",
      "65504/65504 - 0s - loss: 16.7312 - mean_absolute_error: 2.8427 - val_loss: 16.8133 - val_mean_absolute_error: 2.8388\n",
      "Epoch 93/1000\n",
      "65504/65504 - 0s - loss: 16.6495 - mean_absolute_error: 2.8308 - val_loss: 17.1439 - val_mean_absolute_error: 2.8725\n",
      "Epoch 94/1000\n",
      "65504/65504 - 0s - loss: 16.6569 - mean_absolute_error: 2.8303 - val_loss: 16.7356 - val_mean_absolute_error: 2.8261\n",
      "Epoch 95/1000\n",
      "65504/65504 - 0s - loss: 16.6300 - mean_absolute_error: 2.8297 - val_loss: 16.8471 - val_mean_absolute_error: 2.8400\n",
      "Epoch 96/1000\n",
      "65504/65504 - 1s - loss: 16.6171 - mean_absolute_error: 2.8291 - val_loss: 16.7677 - val_mean_absolute_error: 2.8360\n",
      "Epoch 97/1000\n",
      "65504/65504 - 0s - loss: 16.6235 - mean_absolute_error: 2.8295 - val_loss: 16.8234 - val_mean_absolute_error: 2.8408\n",
      "Epoch 98/1000\n",
      "65504/65504 - 0s - loss: 16.6405 - mean_absolute_error: 2.8314 - val_loss: 16.8107 - val_mean_absolute_error: 2.8537\n",
      "Epoch 99/1000\n",
      "65504/65504 - 0s - loss: 16.6065 - mean_absolute_error: 2.8287 - val_loss: 16.7035 - val_mean_absolute_error: 2.8390\n",
      "Epoch 100/1000\n",
      "65504/65504 - 0s - loss: 16.6069 - mean_absolute_error: 2.8291 - val_loss: 16.7233 - val_mean_absolute_error: 2.8338\n",
      "Epoch 101/1000\n",
      "65504/65504 - 1s - loss: 16.5908 - mean_absolute_error: 2.8282 - val_loss: 16.6874 - val_mean_absolute_error: 2.8319\n",
      "Epoch 102/1000\n",
      "65504/65504 - 0s - loss: 16.6212 - mean_absolute_error: 2.8297 - val_loss: 16.6918 - val_mean_absolute_error: 2.8433\n",
      "Epoch 103/1000\n",
      "65504/65504 - 1s - loss: 16.5883 - mean_absolute_error: 2.8277 - val_loss: 16.7411 - val_mean_absolute_error: 2.8420\n",
      "Epoch 104/1000\n",
      "65504/65504 - 0s - loss: 16.5743 - mean_absolute_error: 2.8266 - val_loss: 16.7047 - val_mean_absolute_error: 2.8352\n",
      "Epoch 105/1000\n",
      "65504/65504 - 1s - loss: 16.5937 - mean_absolute_error: 2.8281 - val_loss: 16.6766 - val_mean_absolute_error: 2.8271\n",
      "Epoch 106/1000\n",
      "65504/65504 - 1s - loss: 16.5495 - mean_absolute_error: 2.8249 - val_loss: 16.7201 - val_mean_absolute_error: 2.8421\n",
      "Epoch 107/1000\n",
      "65504/65504 - 1s - loss: 16.5531 - mean_absolute_error: 2.8254 - val_loss: 16.6834 - val_mean_absolute_error: 2.8380\n",
      "Epoch 108/1000\n",
      "65504/65504 - 0s - loss: 16.5539 - mean_absolute_error: 2.8258 - val_loss: 16.6978 - val_mean_absolute_error: 2.8325\n",
      "Epoch 109/1000\n",
      "65504/65504 - 0s - loss: 16.5605 - mean_absolute_error: 2.8252 - val_loss: 16.6962 - val_mean_absolute_error: 2.8382\n",
      "Epoch 110/1000\n",
      "65504/65504 - 0s - loss: 16.5394 - mean_absolute_error: 2.8245 - val_loss: 16.6977 - val_mean_absolute_error: 2.8168\n",
      "Epoch 111/1000\n",
      "65504/65504 - 0s - loss: 16.5921 - mean_absolute_error: 2.8278 - val_loss: 16.6793 - val_mean_absolute_error: 2.8280\n",
      "Epoch 112/1000\n",
      "65504/65504 - 1s - loss: 16.5390 - mean_absolute_error: 2.8241 - val_loss: 16.6586 - val_mean_absolute_error: 2.8289\n",
      "Epoch 113/1000\n",
      "65504/65504 - 1s - loss: 16.5524 - mean_absolute_error: 2.8250 - val_loss: 16.7381 - val_mean_absolute_error: 2.8281\n",
      "Epoch 114/1000\n",
      "65504/65504 - 0s - loss: 16.5515 - mean_absolute_error: 2.8244 - val_loss: 16.7682 - val_mean_absolute_error: 2.8392\n",
      "Epoch 115/1000\n",
      "65504/65504 - 1s - loss: 16.5580 - mean_absolute_error: 2.8260 - val_loss: 16.7172 - val_mean_absolute_error: 2.8406\n",
      "Epoch 116/1000\n",
      "65504/65504 - 1s - loss: 16.5059 - mean_absolute_error: 2.8219 - val_loss: 16.7200 - val_mean_absolute_error: 2.8448\n",
      "Epoch 117/1000\n",
      "65504/65504 - 1s - loss: 16.5217 - mean_absolute_error: 2.8229 - val_loss: 16.7618 - val_mean_absolute_error: 2.8405\n",
      "Epoch 118/1000\n",
      "65504/65504 - 0s - loss: 16.5554 - mean_absolute_error: 2.8256 - val_loss: 16.7303 - val_mean_absolute_error: 2.8396\n",
      "Epoch 119/1000\n",
      "65504/65504 - 0s - loss: 16.5009 - mean_absolute_error: 2.8215 - val_loss: 16.6727 - val_mean_absolute_error: 2.8411\n",
      "Epoch 120/1000\n",
      "65504/65504 - 0s - loss: 16.5109 - mean_absolute_error: 2.8223 - val_loss: 17.1172 - val_mean_absolute_error: 2.8582\n",
      "Epoch 121/1000\n",
      "65504/65504 - 1s - loss: 16.5248 - mean_absolute_error: 2.8233 - val_loss: 16.7342 - val_mean_absolute_error: 2.8313\n",
      "Epoch 122/1000\n",
      "65504/65504 - 1s - loss: 16.5915 - mean_absolute_error: 2.8283 - val_loss: 16.6278 - val_mean_absolute_error: 2.8367\n",
      "Epoch 123/1000\n",
      "65504/65504 - 0s - loss: 16.4895 - mean_absolute_error: 2.8206 - val_loss: 16.6657 - val_mean_absolute_error: 2.8325\n",
      "Epoch 124/1000\n",
      "65504/65504 - 1s - loss: 16.4762 - mean_absolute_error: 2.8196 - val_loss: 16.6850 - val_mean_absolute_error: 2.8423\n",
      "Epoch 125/1000\n",
      "65504/65504 - 0s - loss: 16.5440 - mean_absolute_error: 2.8247 - val_loss: 16.6551 - val_mean_absolute_error: 2.8267\n",
      "Epoch 126/1000\n",
      "65504/65504 - 0s - loss: 16.4681 - mean_absolute_error: 2.8191 - val_loss: 16.6513 - val_mean_absolute_error: 2.8316\n"
     ]
    },
    {
     "name": "stdout",
     "output_type": "stream",
     "text": [
      "Epoch 127/1000\n",
      "65504/65504 - 0s - loss: 16.4895 - mean_absolute_error: 2.8208 - val_loss: 16.6263 - val_mean_absolute_error: 2.8335\n",
      "Epoch 128/1000\n",
      "65504/65504 - 0s - loss: 16.4737 - mean_absolute_error: 2.8196 - val_loss: 16.6045 - val_mean_absolute_error: 2.8318\n",
      "Epoch 129/1000\n",
      "65504/65504 - 0s - loss: 16.4736 - mean_absolute_error: 2.8198 - val_loss: 16.6742 - val_mean_absolute_error: 2.8291\n",
      "Epoch 130/1000\n",
      "65504/65504 - 0s - loss: 16.4756 - mean_absolute_error: 2.8197 - val_loss: 16.8532 - val_mean_absolute_error: 2.8551\n",
      "Epoch 131/1000\n",
      "65504/65504 - 0s - loss: 16.4675 - mean_absolute_error: 2.8195 - val_loss: 16.9446 - val_mean_absolute_error: 2.8355\n",
      "Epoch 132/1000\n",
      "65504/65504 - 1s - loss: 16.4819 - mean_absolute_error: 2.8197 - val_loss: 16.6291 - val_mean_absolute_error: 2.8289\n",
      "Epoch 133/1000\n",
      "65504/65504 - 0s - loss: 16.4735 - mean_absolute_error: 2.8199 - val_loss: 16.6417 - val_mean_absolute_error: 2.8320\n",
      "Epoch 134/1000\n",
      "65504/65504 - 0s - loss: 16.4774 - mean_absolute_error: 2.8199 - val_loss: 16.6573 - val_mean_absolute_error: 2.8453\n",
      "Epoch 135/1000\n",
      "65504/65504 - 0s - loss: 16.5051 - mean_absolute_error: 2.8217 - val_loss: 16.7354 - val_mean_absolute_error: 2.8305\n",
      "Epoch 136/1000\n",
      "65504/65504 - 0s - loss: 16.4842 - mean_absolute_error: 2.8206 - val_loss: 16.6154 - val_mean_absolute_error: 2.8317\n",
      "Epoch 137/1000\n",
      "65504/65504 - 0s - loss: 16.4479 - mean_absolute_error: 2.8178 - val_loss: 16.6049 - val_mean_absolute_error: 2.8203\n",
      "Epoch 138/1000\n",
      "Restoring model weights from the end of the best epoch.\n",
      "65504/65504 - 0s - loss: 16.4546 - mean_absolute_error: 2.8183 - val_loss: 16.6240 - val_mean_absolute_error: 2.8371\n",
      "Epoch 00138: early stopping\n"
     ]
    }
   ],
   "source": [
    "# Fitting Neural network to training set\n",
    "\n",
    "model_history=model.fit(x_train, y_train, validation_data=(x_test, y_test), batch_size=512, verbose=2, callbacks=[monitor], epochs=1000)"
   ]
  },
  {
   "cell_type": "code",
   "execution_count": 204,
   "metadata": {
    "colab": {
     "base_uri": "https://localhost:8080/",
     "height": 142
    },
    "id": "AT8SOvaeap0x",
    "outputId": "c1eec1b2-94c5-4a80-bc87-7ed372b14acf"
   },
   "outputs": [
    {
     "data": {
      "text/plain": [
       "array([[ 1.,  0.,  0., ..., 10.,  0.,  0.],\n",
       "       [ 1.,  1.,  0., ...,  0.,  0.,  0.],\n",
       "       [ 1.,  1.,  1., ...,  0., 10.,  0.],\n",
       "       ...,\n",
       "       [ 0.,  1.,  0., ..., 10.,  0.,  0.],\n",
       "       [ 0.,  0.,  0., ..., 10.,  0.,  0.],\n",
       "       [ 0.,  1.,  1., ...,  0., 10.,  0.]])"
      ]
     },
     "execution_count": 204,
     "metadata": {},
     "output_type": "execute_result"
    }
   ],
   "source": [
    "y_train"
   ]
  },
  {
   "cell_type": "code",
   "execution_count": 205,
   "metadata": {},
   "outputs": [
    {
     "data": {
      "text/plain": [
       "array([[ 0.00e+00,  0.00e+00,  1.00e+00, ...,  1.00e+01,  0.00e+00,\n",
       "         0.00e+00],\n",
       "       [ 1.00e+00,  1.00e+00,  1.00e+00, ...,  1.00e+01,  1.00e+01,\n",
       "         0.00e+00],\n",
       "       [ 0.00e+00,  1.00e+00,  0.00e+00, ...,  1.00e+01,  1.00e+01,\n",
       "         0.00e+00],\n",
       "       ...,\n",
       "       [ 1.00e+00,  0.00e+00,  1.00e+00, ...,  1.00e+01,  1.00e+01,\n",
       "         0.00e+00],\n",
       "       [ 1.00e+00,  0.00e+00,  0.00e+00, ...,  0.00e+00,  0.00e+00,\n",
       "         0.00e+00],\n",
       "       [ 1.00e+00,  1.00e+00,  0.00e+00, ...,  1.00e+01, -5.55e-16,\n",
       "         0.00e+00]])"
      ]
     },
     "execution_count": 205,
     "metadata": {},
     "output_type": "execute_result"
    }
   ],
   "source": [
    "y_test = np.asarray(y_test)\n",
    "x_test = np.asarray(x_test)\n",
    "y_test\n"
   ]
  },
  {
   "cell_type": "code",
   "execution_count": 206,
   "metadata": {
    "colab": {
     "base_uri": "https://localhost:8080/",
     "height": 53
    },
    "id": "jnvop5zhare2",
    "outputId": "f9e033be-f657-4367-e93a-750eee9cc444"
   },
   "outputs": [
    {
     "name": "stdout",
     "output_type": "stream",
     "text": [
      "\r",
      "16377/1 [==============================================================================================================================================================================================================================================================================================================================================================================================================================================================================================================================================================================================================================================================================================================================================================================================================================================================================================================================================================================================================================================================================================================================================================================================================================================================================================================================================================================================================================================================================================================================================================================================================================================================================================================================================================================================================================================================================================================================================================================================================================================================================================================================================================================================================================================================================================================================================================================================================================================================================================================================================================================================================================================================================================================================================================================================================================================================================================================================================================================================================================================================================================================================================================================================================================================================================================================================================================================================================================================================================================================================================================================================================================================================================================================================================================================================================================================================================================================================================================================================================================================================================================================================================================================================================================================================================================================================================================================================================================================================================================================================================================================================================================================================================================================================================================================================================================================================================================================================================================================================================================================================================================================================================================================================================================================================================================================================================================================================================================================================================================================================================================================================================================================================================================================================================================================================================================================================================================================================================================================================================================================================================================================================================================================================================================================================================================================================================================================================================================================================================================================================================================================================================================================================================================================================================================================================================================================================================================================================================================================================================================================================================================================================================================================================================================================================================================================================================================================================================================================================================================================================================================================================================================================================================================================================================================================================================================================================================================================================================================================================================================================================================================================================================================================================================================================================================================================================================================================================================================================================================================================================================================================================================================================================================================================================================================================================================================================================================================================================================================================================================================================================================================================================================================================================================================================================================================================================================================================================================================================================================================================================================================================================================================================================================================================================================================================================================================================================================================================================================================================================================================================================================================================================================================================================================================================================================================================================================================================================================================================================================================================================================================================================================================================================================================================================================================================================================================================================================================================================================================================================================================================================================================================================================================================================================================================================================================================================================================================================================================================================================================================================================================================================================================================================================================================================================================================================================================================================================================================================================================================================================================================================================================================================================================================================================================================================================================================================================================================================================================================================================================================================================================================================================================================================================================================================================================================================================================================================================================================================================================================================================================================================================================================================================================================================================================================================================================================================================================================================================================================================================================================================================================================================================================================================================================================================================================================================================================================================================================================================================================================================================================================================================================================================================================================================================================================================================================================================================================================================================================================================================================================================================================================================================================================================================================================================================================================================================================================================================================================================================================================================================================================================================================================================================================================================================================================================================================================================================================================================================================================================================================================================================================================================================================================================================================================================================================================================================================================================================================================================================================================================================================================================================================================================================================================================================================================================================================================================================================================================================================================================================================================================================================================================================================================================================================================================================================================================================================================================================================================================================================================================================================================================================================================================================================================================================================================================================================================================================================================================================================================================================================================================================================================================================================================================================================================================================================================================================================================================================================================================================================================================================================================================================================================================================================================================================================================================================================================================================================================================================================================================================================================================================================================================================================================================================================================================================================================================================================================================================================================================================================================================================================================================================================================================================================================================================================================================================================================================================================================================================================================================================================================================================================================================================================================================================================================================================================================================================================================================================================================================================================================================================================================================================================================================================================================================================================================================================================================================================================================================================================================================================================================================================================================================================================================================================================================================================================================================================================================================================================================================================================================================================================================================================================================================================================================================================================================================================================================================================================================================================================================================================================================================================================================================================================================================================================================================================================================================================================================================================================================================================================================================================================================================================================================================================================================================================================================================================================================================================================================================================================================================================================================================================================================================================================================================================================================================================================================================================================================================================================================================================================================================================================================================================================================================================================================================================================================================================================================================================================================================================================================================================================================================================================================================================================================================================================================================================================================================================================================================================================================================================================================================================================================================================================================================================================================================================================================================================================================================================================================================================================================================================================================================================================================================================================================================================================================================================================================================================================================================================================================================================================================================================================================================================================================================================================================================================================================================================================================================================================================================================================================================================================================================================================================================================================================================================================================================================================================================================================================================================================================================================================================================================================================================================================================================================================================================================================================================================================================================================================================================================================================================================================================================================================================================================================================================================================================================================================================================================================================================================================================================================================================================================================================================================================================================================================================================================================================================================================================================================================================================================================================================================================================================================================================================================================================================================================================================================================================================================================================================================================================================================================================================================================================================================================================================================================================================================================================================================================================================================================================================================================================================================================================================================================================================================================================================================================================================================================================================================================================================================================================================================================================================================================================================================================================================================================================================================================================================================================================================================================================================================================================================================================================================================================================================================================================================================================================================================================================================================================================================================================================================================================================================================================================================================================================================================================================================================================================================================================================================================================================================================================================================================================================================================================================================================================================================================================================================================================================================================================================================================================================================================================================================================================================================================================================================================================================================================================================================================================================================================================================================================================================================================================================================================================================================================================================================================================================================================================================================================================================================================================================================================================================================================================================================================================================================================================================================================================================================================================================================================================================================================================================================================================================================================================================================================================================================================================================================================================================================================================================================================================================================================================================================================================================================================================================================================================================================================================================================================================================================================================================================================================================================================================================================================================================================================================================================================================================================================================================================================================================================================================================================================================================================================================================================================================================================================================================================================================================================================================================================================================================================================================================================================================================================================================================================================================================================================================================================================================================================================================================================================================================================================================================================================================================================================================================================================================================================================================================================================================================================================================================================================================================================================================================================================================================================================================================================================================================================================================================================================================================================================================================================================================================================================================================================================================================================================================================================================================================================================================================================================================================================================================================================================================================================================================================================================================================================================================================================================================================================================================================================================================================================================================================================================================================================================================================================================================================================================================================================================================================================================================================================================================================================================================================================================================================================================================================================================================================================================================================================================================================================================================================================================================================================================================================================================================================================================================================================================================================================================================================================================================================================================================================================================================================================================================================================================================================================================================================================================================================================================================================================================================================================================================================================================================================================================================================================================================================================================================================================================================================================================================================================================================================================================================================================================================================================================================================================================================================================================================================================================================================================================================================================================================================================================================================================================================================================================================================================================================================================================================================================================================================================================================================================================================================================================================================================================================================================================================================================================================================================================================================================================================================================================================================================================================================================================================================================================================================================================================================================================================================================================================================================================================================================================================================================================================================================================================================================================================================================================================================================================================================================================================================================================================================================================================================================================================================================================================================================================================================================================================================================================================================================================================================================================================================================================================================================================================================================================================================================================================================================================================================================================================================================================================================================================================================================================================================================================================================================================================================================================================================================================================================================================================================================================================================================================================================================================================================================================================================================================================================================================================================================================================================================================================================================================================================================================================================================================================================================================================================================================================================================================================================================================================================================================================================================================================================================================================================================================================================================================================================================================================================================================================================================================================================================================================================================================================================================================================================================================================================================================================================================================================================================================================================================================================================================================================================================================================================================================================================================================================================================================================================================================================================================================================================================================================================================================================================================================================================================================================================================================================================================================================================================================================================================================================================================================================================================================================================================================================================================================================================================================================================================================================================================================================================================================================================================================================================================================================================================================================================================================================================================================================================================================================================================================================================================================================================================================================================================================================================================================================================================================================================================================================================================================================================================================================================================================================================================================================================================================================================================================================================================================================================================================================================================================================================================================================================================================================================================================================================================================================================================================================================================================================================================================================================================================================================================================================================================================================================================================================================================================================================================================================================================================================================================================================================================================================================================================================================================================================================================================================================================================================================================================================================================================================================================================================================================================================================================================================================================================================================================================================================================================================================================================================================================================================================================================================================================================================================================================================================================================================================================================================================================================================================================================================================================================================================================================================================================================================================================================================================================================================================================================================================================================================================================================================================================================================================================================================================================================================================================================================================================================================================================================================================================================================================================================================================================================================================================================================================================================================================================================================================================================================================================================================================================================================================================================================================================================================================================================================================================================================================================================================================================================================================================================================================================================================================================================================================================================================================================================================================================================================================================================================================================================================================================================================================================================================================================================================================================================================================================================================================================================================================================================================================================================================================================================================================================================================================================================================================================================================================================================================================================================================================================================================================================================================================================================================================================================================================================================================================================================================================================================================================================================================================================================================================================================================================================================================================================================================================================================================================================================================================================================================================================================================================================================================================================================================================================================================================================================================================================================================================================================================================================================================================================================================================================================================================================================================================================================================================================================================================================================================================================================================================================================================================================================================================================================================================================================================================================================================================================================================================================================================================================================================================================================================================================================================================================================================================================================================================================================================================================================================================================================================================================================================================================================================================================================================================================================================================================================================================================================================================================================================================================================================================================================================================================================================================================================================================================================================================================================================================================================================================================================================================================================================================================================================================================================================================================================================================================================================================================================================================================================================================================================================================================================================================================================================================================================================================================================================================================================================================================================================================================================================================================================================================================================================================================================================================================================================================================================================================================================================================================================================================================================================================================================================================================================================================================================================================================================================================================================================================================================================================================================================================================================================================================================================================================================================================================================================================================================================================================================================================================================================================================================================================================================================================================================================================================================================================================================================================================================================================================================================================================================================================================================================================================================================================================================================================================================================================================================================================================================================================================================================================================================================================================================================================================================================================================================================================================================================================================================================================================================================================================================================================================================================================================================================================================================================================================================================================================================================================================================================================================================================================================================================================================================================================================================================================================================================================================================================================================================================================================================================================================================================================================================================================================================================================================================================================================================================================================================================================================================================================================================================================================================================================================================================================================================================================================================================================================================================================================================================================================================================================================================================================================================================================================================================================================================================================================================================================================================================================================================================================================================================================================================================================================================================================================================================================================================================================================================================================================================================================================================================================================================================================================================================================================================================================================================================================================================================================================================================================================================================================================================================================================================================================================================================================================================================================================================================================================================================================================================================================================================================================================================================================================================================================================================================================================================================================================================================================================================================================================================================================================================================================================================================================================================================================================================================================================================================================================================================================================================================================================================================================================================================================================================================================================================================================================================================================================================================================================================================================================================================================================================================================================================================================================================================================================================================================================================================================================================================================================================================================================================================================================================================================================================================================================================================================================================================================================================================================================================================================================================================================================================================================================================================================================================================================================================================================================================================================================================================================================================================================================================================================================================================================================================================================================================================================================================================================================================================================================================================================================================================================================================================================================================================================================================================================================================================================================================================================================================================================================================================================================================================================================================================================================================================================================================================================================================================================================================================================================================================================================================================================================================================================================================================================================================================================================================================================================================================================================================================================================================================================================================================================================================================================================================================================================================================================================================================================================================================================================================================================================================================================================================================================================================================================================================================================================================================================================================================================================================================================================================================================================================================================================================================================================================================================================================================================================================================================================================================================================================================================================================================================================================================================================================================================================================================================================================================================================================================================================================================================================================================================================================================================================================================================================================================================================================================================================================================================================================================================================================================================================================================================================================================================================================================================================================================================================================================================================================================================================================================================================================================================================================================================================================================================================================================================================================================================================================================================================================================================================================================================================================================================================================================================================================================================================================================================================================================================================================================================================================================================================================================================================================================================================================================================================================================================================================================================================================================================================================================================================================================================================================================================================================================================================================================================================================================================================================================================================================================================================================================================================================================================================================================================================================================================================================================================================================================================================================================================================================================================================================================================================================================================================================================================================================================================================================================================================================================================================================================================================================================================================================================================================================================================================================================================================================================================================================================================================================================================================================================================================================================================================================================================================================================================================================================================================================================================================================================================================================================================================================================================================================================================================================================================================================================================================================================================================================================================================================================================================================================================================================================================================================================================================================================================================================================================================================================================================================================================================================================================================================================================================================================================================================================================================================================================================================================================================================================================================================================================================================================================================================================================================================================================================================================================================================================================================================================================================================================================================================================================================================================================================================================================================================================================================================================================================================================================================================================================================================================================================================================================================================================================================================================================================================================================================================================================================================================================================================================================================================================================================================================================================================================================================================================================================================================================================================================================================================================================================================================================================================================================================================================================================================================================================================================================================================================================================================================================================================================================================================================================================================================================================================================================================================================================================================================================================================================================================================================================================================================================================================================================================================================================================================================================================================================================================================================================================================================================================================================================================================================================================================================================================================================================================================================================================================================================================================================================================================================================================================================================================================================================================================================================================================================================================================================================================================================================================================================================================================================================================================================================================================================================================================================================================================================================================================================================================================================================================================================================================================================================================================================================================================================================================================================================================================================================================================================================================================================================================================================================================================================================================================================================================================================================================================================================================================================================================================================================================================================================================================================================================================================================================================================================================================================================================================================================================================================================================================================================================================================================================================================================================================================================================================================================================================================================================================================================================================================================================================================================================================================================================================================================================================================================================================================================================================================================================================================================================================================================================================================================================================================================================================================================================================================================================================================================================================================================================================================================================================================================================================================================================================================================================================================================================================================================================================================================================================================================================================================================================================================================================================================================================================================================================================================================================================================================================================================================================================================================================================================================================================================================================================================================================================================================================================================================================================================================================================================================================================================================================================================================================================================================================================================================================================================================================================================================================================================================================================================================================================================================================================================================================================================================================================================================================================================================================================================================================================================================================================================================================================================================================================================================================================================================================================================================================================================================================================================================================================================================================================================================================================================================================================================================================================================================================================================================================================================================================================================================================================================================================================================================================================================================================================================================================================================================================================================================================================================================================================================================================================================================================================================================================================================================================================================================================================================================================================================================================================================================================================================================================================================================================================================================================================================================================================================================================================================================================================================================================================================================================================================================================================================================================================================================================================================================================================================================================================================================================================================================================================================================================================================================================================================================================================================================================================================================================================================================================================================================================================================================================================================================================================================================================================================================================================================================================================================================================================================================================================================================================================================================================================================================================================================================================================================================================================================================================================================================================================================================================================================================================================================================================================================================================================================================================================================================================================================================================================================================================================================================================================================================================================================================================================================================================================================================================================================================================================================================================================================================================================================================================================================================================================================================================================================================================================================================================================================================================================================================================================================================================================================================================================================================================================================================================================================================================================================================================================================================================================================================================================================================================================================================================================================================================================================================================================================================================================================================================================================================================================================================================================================================================================================================================================================================================================================================================================================================================================================================================================================================================================================================================================================================================================================================================================================================================================================================================================================================================================================================================================================================================================================================================================================================================================================================================================================================================================================================================================================================================================================================================================================================================================================================================================================================================================================================================================================================================================================================================================================================================================================================================================================================================================================================================================================================================================================================================================================================================================================================================================================================================================================================================================================================================================================================================================================================================================================================================================================================================================================================================================================================================================================================================================================================================================================================================================================================================================================================================================================================================================================================================================================================================================================================================================================================================================================================================================================================================================================================================================================================================================================================================================================================================================================================================================================================================================================================================================================================================================================================================================================================================================================================================================================================================================================================================================================================================================================================================================================================================================================================================================================================================================================================================================================================================================================================================================================================================================================================================================================================================================================================================================================================================================================================================================================================================================================================================================================================================================================================================================================================================================================================================================================================================================================================================================================================================================================================================================================================================================================================================================================================================================================================================================================================================================================================================================================================================================================================================================================================================================================================================================================================================================================================================================================================================================================================================================================================================================================================================================================================================================================================================================================================================================================================================================================================================================================================================================================================================================================================================================================================================================================================================================================================================================================================================================================================================================================================================================================================================================================================================================================================================================================================================================================================================================================================================================================================================================================================================================================================================================================================================================================================================================================================================================================================================================================================================================================================================================================================================================================================================================================================================================================================================================================================================================================================================================================================================================================================================================================================================================================================================================================================================================================================================================================================================================================================================================================================================================================================================================================================================================================================================================================================================================================================================================================================================================================================================================================================================================================================================================================================================================================================================================================================================================================================================================================================================================================================================================================================================================================================================================================================================================================================================================================================================================================================================================================================================================================================================================================================================================================================================================================================================================================================================================================================================================================================================================================================================================================================================================================================================================================================================================================================================================================================================================================================================================================================================================================================================================================================================================================================================================================================================================================================================================================================================================================================================================================================================================================================================================================================================================================================================================================================================================================================================================================================================================================================================================================================================================================================================================================================================================================================================================================================================================================================================================================================================================================================================================================================================================================================================================================================================================================================================================================================================================================================================================================================================================================================================================================================================================================================================================================================================================================================================================================================================================================================================================================================================================================================================================================================================================================================================================================================================================================================================================================================================================================================================================================================================================================================================================================================================================================================================================================================================================================================================================================================================================================================================================================================================================================================================================================================================================================================================================================================================================================================================================================================================================================================================================================================================================================================================================================================================================================================================================================================================================================================================================================================================================================================================================================================================================================================================================================================================================================================================================================================================================================================================================================================================================================================================================================================================================================================================================================================================================================================================================================================================================================================================================================================================================================================================================================================================================================================================================================================================================================================================================================================================================================================================================================================================================================================================================================================================================================================================================================================================================================================================================================================================================================================================================================================================================================================================================================================================================================================================================================================================================================================================================================================================================================================================================================================================================================================================================================================================================================================================================================================================================================================================================================================================================================================================================================================================================================================================================================================================================================================================================================================================================================================================================================================================================================================================================================================================================================================================================================================================================================================================================================================================================================================================================================================================================================================================================================================================================================================================================================================================================================================================================================================================================================================================================================================================================================================================================================================================================================================================================================================================================================================================================================================================================================================================================================================================================================================================================================================================================================================================================================================================================================================================================================================================================================================================================================================================================================================================================================================================================================================================================================================================================================================================================================================================================================================================================================================================================================================================================================================================================================================================================================================================================================================================================================================================================================================================================================================================================================================================================================================================================================================================================================================================================================================================================================================================================================================================================================================================================================================================================================================================================================================================================================================================================================================================================================================================================================================================================================================================================================================================================================================================================================================================================================================================================================================================================================================================================================================================================================================================================================================================================================================================================================================================================================================================================================================================================================================================================================================================================================================================================================================================================================================================================================================================================================================================================================================================================================================================================================================================================================================================================================================================================================================================================================================================================================================================================================================================================================================================================================================================================================================================================================================================================================================================================================================================================================================================================================================================================================================================================================================================================================================================================================================================================================================================================================================================================================================================================================================================================================================================================================================================================================================================================================================================================================================================================================================================================================================================================================================================================================================================================================================================================================================================================================================================================================================================================================================================================================================================================================================================================================================================================================================================================================================================================================================================================================================================================================================================================================================================================================================================================================================================================================================================================================================================================================================================================================================================================================================================================================================================================================================================================================================================================================================================================================================================================================================================================================================================================================================================================================================================================================================================================================================================================================================================================================================================================================================================================================================================================================================================================================================================================================================================================================================================================================================================================================================================================================================================================================================================================================================================================================================================================================================================================================================================================================================================================================================================================================================================================================================================================================================================================================================================================================================================================================================================================================================================================================================================================================================================================================================================================================================================================================================================================================================================================================================================================================================================================================================================================================================================================================================================================================================================================================================================================================================================================================================================================================================================================================================================================================================================================================================================================================================================================================================================================================================================================================================================================================================================================================================================================================================================================================================================================================================================================================================================================================================================================================================================================================================================================================================================================================================================================================================================================================================================================================================================================================================================================================================================================================================================================================================================================================================================================================================================================================================================================================================================================================================================================================================================================================================================================================================================================================================================================================================================================================================================================================================================================================================================================================================================================================================================================================================================================================================================================================================================================================================================================================================================================================================================================================================================================================================================================================================================================================================================================================================================================================================================================================================================================================================================================================================================================================================================================================================================================================================================================================================================================================================================================================================================================================================================================================================================================================================================================================================================================================================================================================================================================================================================================================================================================================================================================================================================================================================================================================================================================================================================================================================================================================================================================================================================================================================================================================================================================================================================================================================================================================================================================================================================================================================================================================================================================================================================================================================================================================================================================================================================================================================================================================================================================================================================================================================================================================================================================================================================================================================================================================================================================================================================================================================================================================================================================================================================================================================================================================================================================================================================================================================================================================================================================================================================================================================================================================================================================================================================================================================================================================================================================================================================================================================================================================================================================================================================================================================================================================================================================================================================================================================================================================================================================================================================================================================================================================================================================================================================================================================================================================================================================================================================================================================================================================================================================================================================================================================================================================================================================================================================================================================================================================================================================================================================================================================================================================================================================================================================================================================================================================================================================================================================================================================================================================================================================================================================================================================================================================================================================================================================================================================================================================================================================================================================================================================================================================================================================================================================================================================================================================================================================================================================================================================================================================================================================================================================================================================================================================================================================================================================================================================================================================================================================================================================================================================================================================================================================================================================================================================================================================================================================================================================================================================================================================================================================================================================================================================================================================================================================================================================================================================================================================================================================================================================================================================================================================================================================================================================================================================================================================================================================================================================================================================================================================================================================================================================================================================================================================================================================================================================================================================================================================================================================================================================================================================================================================================================================================================================================================================================================================================================================================================================================================================================================================================================================================================================================================================================================================================================================================================================================================================================================================================================================================================================================================================================================================================================================================================================================================================================================================================================================================================================================================================================================================================================================================================================================================================================================================================================================================================================================================================================================================================================================================================================================================================================================================================================================================================================================================================================================================================================================================================================================================================================================================================================================================================================================================================================================================================================================================================================================================================================================================================================================================================================================================================================================================================================================================================================================================================================================================================================================================================================================================================================================================================================================================================================================================================================================================================================================================================================================================================================================================================================================================================================================================================================================================================================================================================================================================================================================================================================================================================================================================================================================================================================================================================================================================================================================================================================================================================================================================================================================================================================================================================================================================================================================================================================================================================================================================================================================================================================================================================================================================================================================================================================================================================================================================================================================================================================================================================================================================================================================================================================================================================================================================================================================================================================================================================================================================================================================================================================================================================================================================================================================================================================================================================================================================================================================================================================================================================================================================================================================================================================================================================================================================================================================================================================================================================================================================================================================================================================================================================================================================================================================================================================================================================================================================================================================================================================================================================================================================================================================================================================================================================================================================================================================================================================================================================================================================================================================================================================================================================================================================================================================================================================================================================================================================================================================================================================================================================================================================================================================================================================================================================================================================================================================================================================================================================================================================================================================================================================================================================================================================================================================================================================================================================================================================================================================================================================================================================================================================================================================================================================================================================================================================================================================================================================================================================================================================================================================================================================================================================================================================================================================================================================================================================================================================================================================================================================================================================================================================================================================================================================================================================================================================================================================================================================================================================================================================================================================================================================================================================================================================================================================================================================================================================================================================================================================================================================================================================================================================================================================================================================================================================================================================================================================================================================================================================================================================================================================================================================================================================================================================================================================================================================================================================================================================================================================================================================================================================================================================================================================================================================================================================================================================================================================================================================================================================================================================================================================================================================================================================================================================================================================================================================================================================================================================================================================================================================================================================================================================================================================================================================================================================================================================================================================================================================================================================================================================================================================================================================================================================================================================================================================================================================================================================================================================================================================================================================================================================================================================================================================================================================================================================================================================================================================================================================================================================================================================================================================================================================================================================================================================================================================================================================================================================================================================================================================================================================================================================================================================================================================================================================================================================================================================================================================================================================================================================================================================================================================================================================================================================================================================================================================================================================================================================================================================================================================================================================================================================================================================================================================================================================================================================================================================================================================================================================================================================================================================================================================================================================================================================================================================================================================================================================================================================================================================================================================================================================================================================================================================================================================================================================================================================================================================================================================================================================================================================================================================================================================================================================================================================================================================================================================================================================================================================================================================================================================================================================================================================================================================================================================================================================================================================================================================================================================================================================================================================================================================================================================================================================================================================================================================================================================================================================================================================================================================================================================================================================================================================================================================================================================================================================================================================================================================================================================================================================================================================================================================================================================================================================================================================================================================================================================================================================================================================================================================================================================================================================================================================================================================================================================================================================================================================================================================================================================================================================================================================================================================================================================================================================================================================================================================================================================================================================================================================================================================================================================================================================================================================================================================================================================================================================================================================================================================================================================================================================================================================================================================================================================================================================================================================================================================================================================================================================================================================================================================================================================================================================================================================================================================================================================================================================================================================================================================================================================================================================================================================================================================================================================================================================================================================================================================================================================================================================================================================================================================================================================================================================================================================================================================================================================================================================================================================================================================================================================================================================================================================================================================================================================================================================================================================================================================================================================================================================================================================================================================================================================================================================================================================================================================================================================================================================================================================================================================================================================================================================================================================================================================================================================================================================================================================================================================================================================================================================================================================================================================================================================================================================================================================================================================================================================================================================================================================================================================================================================================================================================================================================================================================================================================================================================================================================================================================================================================================================================================================================================================================================================================================================================================================================================================================================================================================================================================================================================================================================================================================================================================================================================================================================================================================================================================================================================================================================================================================================================================================================================================================================================================================================================================================================================================================================================================================================================================================================================================================================================================================================================================================================================================================================================================================================================================================================================================================================================================================================================================================================================================================================================================================================================================================================================================================================================================================================================================================================================================================================================================================================================================================================================================================================================================================================================================================================================================================================================================================================================================================================================================================================================================================================================================================================================================================================================================================================================================================================================================================================================================================================================================================================================================================================================================================================================================================================================================================================================================================================================================================================================================================================================================================================================================================================================================================================================================================================================================================================================================================================================================================================================================================================================================================================================================================================================================================================================================================================================================================================================================================================================================================================================================================================================================================================================================================================================================================================================================================================================================================================================================================================================================================================================================================================================================================================================================================================================================================================================================================================================================================================================================================================================================================================================================================================================================================================================================================================================================================================================================================================================================================================================================================================================================================================================================================================================================================================================================================================================================================================================================================================================================================================================================================================================================================================================================================================================================================================================================================================================================================================================================================================================================================================================================================================================================================================================================================================================================================================================================================================================================================================================================================================================================================================================================================================================================================================================================================================================================================================================================================================================================================================================================================================================================================================================================================================================================================================================================================================================================================================================================================================================================================================================================================================================================================================================================================================================================================================================================================================================================================================================================================================================================================================================================================================================================================================================================================================================================================================================================================================================================================================================================================================================================================================================================================================================================================================================================================================================================================================================================================================================================================================================================================================================================================================================================================================================================================================================================================================================================================================================================================================================================================================================================================================================================================================================================================================================================================================================================================================================================================================================================================================================================================================================================================================================================================================================================================================================================================================================================================================================================================================================================================================================================================================================================================================================================================================================================================================================================================================================================================================================================================================================================================================================================================================================================================================================================================================================================================================================================================================================================================================================================================================================================================================================================================================================================================================================================================================================================================================================================================================================================================================================================================================================================================================================================================================================================================================================================================================================================================================================================================================================================================================================================================================================================================================================================================================================================================================================================================================================================================================================================================================================================================================================================================================================================================================================================================================================================================================================================================================================================================================================================================================================================================================================================================================================================================================================================================================================================================================================================================================================================================================================================================================================================================================================================================================================================================================================================================================================================================================================================================================================================================================================================================================================================================================================================================================================================================================================================================================================================================================================================================================================================================================================================================================================================================================================================================================================================================================================================================================================================================================================================================================================================================================================================================================================================================================================================================================================================================================================================================================================================================================================================================================================================================================================================================================================================================================================================================================================================================================================================================================================================================================================================================================================================================================================================================================================================================================================================================================================================================================================================================================================================================================================================================================================================================================================================================================================================================================================================================================================================================================================================================================================================================================================================================================================================================================================================================================================================================================================================================================================================================================================================================================================================================================================================================================================================================================================================================================================================================================================================================================================================================================================================================================================================================================================================================================================================================================================================================================================================================================================================================================================================================================================================================================================================================================================================================================================================================================================================================================================================================================================================================================================================================================================================================================================================================================================================================================================================================================================================================================================================================================================================================================================================================================================================================================================================================================================================================================================================================================================================================================================================================================================================================================================================================================================================================================================================================================================================================================================================================================================================================================================================================================================================================================================================================================================================================================================================================================================================================================================================================================================================================================================================================================================================================================================================================================================================================================================================================================================================================================================================================================================================================================================================================================================================================================================================================================================================================================================================================================================================================================================================================================================================================================================================================================================================================================================================================================================================================================================================================================================================================================================================================================================================================================================================================================================================================================================================================================================================================================================================================================================================================================================================================================================================================================================================================================================================================================================================================================================================================================================================================================================================================================================================================================================================================================================================================================================================================================================================================================================================================================================================================================================================================================================================================================================================================================================================================================================================================================================================================================================================================================================================================================================================================================================================================================================================================================================================================================================================================================================================================================================================================================================================================================================================================================================================================================================================================================================================================================================================================================================================================================================================================================================================================================================================================================================================================================================================================================================================================================================================================================================================================================================================================================================================================================================================================================================================================================================================================================================================================================================================================================================================================================================================================================================================================================================================================================================================================================================================================================================================================================================================================================================================================================================================================================================================================================================================================================================================================================================================================================================================================================================================================================================================================================================================================================================================================================================================================================================================================================================================================================================================================================================================================================================================================================================================================================================================================================================================================================================================================================================================================================================================================================================================================================================================================================================================================================================================================================================================================================================================================================================================================================================================================================================================================================================================================================================================================================================================================================================================================================================================================================================================================================================================================================================================================================================================================================================================================================================================================================================================================================================================================================================================================================================================================================================================================================================================================================================================================================================================================================================================================================================================================================================================================================================================================================================================================================================================================================================================================================================================================================================================================================================================================================================================================================================================================================================================================================================================================================================================================================================================================================================================================================================================================================================================================================================================================================================================================================================================================================================================================================================================================================================================================================================================================================================================================================================================================================================================================================================================================================================================================================================================================================================================================================================================================================================================================================================================================================================================================================================================================================================================================================================================================================================================================================================================================================================================================================================================================================================================================================================================================================================================================================================================================================================================================================================================================================================================================================================================================================================================================================================================================================================================================================================================================================================================================================================================================================================================================================================================================================================================================================================================================================================================================================================================================================================================================================================================================================================================================================================================================================================================================================================================================================================================================================================================================================================================================================================================================================================================================================================================================================================================================================================================================================================================================================================================================================================================================================================================================================================================================================================================================================================================================================================================================================================================================================================================================================================================================================================================================================================================================================================================================================================================================================================================================================================================================================================================================================================================================================================================================================================================================================================================================================================================================================================================================================================================================================================================================================================================================================================================================================================================================================================================================================================================================================================================================================================================================================================================================================================================================================================================================================================================================================================================================================================================================================================================================================================================================================================================================================================================================================================================================================================================================================================================================================================================================================================================================================================================================================================================================================================================================================================================================================================================================================================================================================================================================================================================================================================================================================================================================================================================================================================================================================================================================================================================================================================================================================================================================================================================================================================================================================================================================================================================================================================================================================================================================================================================================================================================================================================================================================================================================================================================================================================================================================================================================================================================================================================================================================================================================================================================================================================================================================================================================================================================================================================================================================================================================================================================================================================================================================================================================================================================================================================================================================================================================================================================================================================================================================================================================================================================================================================================================================================================================================================================================================================================================================================================================================================================================================================================================================================================================================================================================================================================================================================================================================================================================================================================================================================================================================================================================================================================================================================================================================================================================================================================================================================================================================================================================================================================================================================================================================================================================================================================================================================================================================================================================================================================================================================================================================================================================================================================================================================================================================================================================================================================================================================================================================================================================================================================================================================================================================================================================================================================================================================================================================================================================================================================================================================================================================================================================================================================================================================================================================================================================================================================================================================================================================================================================================================================================================================================================================================================================================================================================================================================================================================================================================================================================================================================================================================================================================================================================================================================================================================================================================================================================================================================================================================================================================================================================================================================================================================================================================================================================================================================================================================================================================================================================================================================================================================================================================================================================================================================================================================================================================================================================================================================================================================================================================================================================================================================================================================================================================================================================================================================================================================================================================================================================================================================================================================================================================================================================================================================================================================================================================================================================================================================================================================================================================================================================================================================================================================================================================================================================================================================================================================================================================================================================================================================================================================================================================================================================================================================================================================================================================================================================================================================================================================================================================================================================================================================================================================================================================================================================================================================================================================================================================================================================================================================================================================================================================================================================================================================================================================================================================================================================================================================================================================================================================================================================================================================================================================================================================================================================================================================================================================================================================================================================================================================================================================================================================================================================================================================================================================================================================================================================================================================================================================================================================================================================================================================================================================================================================================================================================================================================================================================================================================================================================================================================================================================================================================================================================================================================================================================================================================================================================================================================================================================================================================================================================================================================================================================================================================================================================================================================================================================================================================================================================================================================================================================================================================================================================================================================================================================================================================================================================================================================================================================================================================================================================================================================================================================================================================================================================================================================================================================================================================================================================================================================================================================================================================================================================================================================================================================================================================================================================================================================================================================================================================================================================================================================================================================================================================================================================================================================================================================================================================================================================================================================================================================================================================================================================================================================================================================================================================================================================================================================================================================================================================================================================================================================================================================================================================================================================================================================================================================================================================================================================================================================================================================================================================================================================================================================================================================================================================================================================================================================================================================================================================================================================================================================================================================================================================================================================================================================================================================================================================================================================================================================================================================================================================================================================================================================================================================================================================================================================================================================================================================================================================================================================================================================================================================================================================================================================================================================================================================================================================================================================================================================================================================================================================================================================================================================================================================================================================================================================================================================================================================================================================================================================================================================================================================================================================================================================================================================================================================================================================================================================================================================================================================================================================================================================================================================================================================================================================================================================================================================================================================================================================================================================================================================================================================================================================================================================================================================================================================================================================================================================================================================================================================================================================================================================================================================================================================================================================================================================================================================================================================================================================================================================================================================================================================================================================================================================================================================================================================================================================================================================================================================================================================================================================================================================================================================================================================================================================================================================================================================================================================================================================================================================================================================================================================================================================================================================================================================================================================================================================================================================================================================================================================================================================================================================================================================================================================================================================================================================================================================================================================================================================================================================================================================================================================================================================================================================================================================================================================================================================================================================================================================================================================================================================================================================================================================================================================================================================================================================================================================================================================================================================================================================================================================================================================================================================================================================================================================================================================================================================================================================================================================================================================================================================================================================================================================================================================================================================================================================================================================================================================================================================================================================================================================================================================================================================================================================================================================================================================================================================================================================================================================================================================================================================================================================================================================================================================================================================================================================================================================================================================================================================================================================================================================================================================================================================================================================================================================================================================================================================================================================================================================================================================================================================================================================================================================================================================================================================================================================================================================================================================================================================================================================================================================================================================================================================================================================================================================================================================================================================================================================================================================================================================================================================================================================================================================================================================================================================================================================================================================================================================================================================================================================================================================================================================================================================================================================================================================================================================================================================================================================================================================================================================================================================================================================================================================================================================================================================================================================================================================================================================================================================================================================================================================================================================================================================================================================================================================================================================================================================================================================================================================================================================================================================================================================================================================================================================================================================================================================================================================================================================================================================================================================================================================================================================================================================================================================================================================================================================================================================================================================================================================================================================================================================================================================================================================================================================================================================================================================================================================================================================================================================================================================================================================================================================================================================================================================================================================================================================================================================================================================================================================================================================================================================================================================================================================================================================================================================================================================================================================================================================================================================================================================================================================================================================================================================================================================================================================================================================================================================================================================================================================================================================================================================================================================================================================================================================================================================================================================================================================================================================================================================================================================================================================================================================================================================================================================================================================================================================================================================================================================================================================================================================================================================================================================================================================================================================================================================================================================================================================================================================================================================================================================================================================================================================================================================================================================================================================================================================================================================================================================================================================================================================================================================================================================================================================================================================================================================================================================================================================================================================================================================================================================================================================================================================================================================================================================================================================================================================================================================================================================================================================================================================================================================================================================================================================================================================================================================================================================================================================================================================================================================================================================================================================================================================================================================================================================================================================================================================================================================================================================================================================================================================================================================================================================================================================================================================================================================================================================================================================================================================================================================================================================================================================================================================================================================================================================================================================================================================================================================================================================================================================================================================================================================================================================================================================================================================================================================================================================================================================================================================================================================================================================================================================================================================================================================================================================================================================================================================================================================================================================================================================================================================================================================================================================================================================================================================================================================================================================================================================================================================================================================================================================================================================================================================================================================================================================================================================================================================================================================================================================================================================================================================================================================================================================================================================================================================================================================================================================================================================================================================================================================================================================================================================================================================================================================================================================================================================================================================================================================================================================================================================================================================================================================================================================================================================================================================================================================================================================================================================================================================================================================================================================================================================================================================================================================================================================================================================================================================================================================================================================================================================================================================================================================================================================================================================================================================================================================================================================================================================================================================================================================================================================================================================================================================================================================================================================================================================================================================================================================================================================================================================================================================================================================================================================================================================================================================================================================================================================================================================================================================================================================================================================================================================================================================================================================================================================================================================================================================================================================================================================================================================================================================================================================================================================================================================================================================================================================================================================================================================================================================================================================================================================================================================================================================================================================================================================================================================================================================================================================================================================================================================================================================================================================================================================================================================================================================================================================================================================================================================================================================================================================================================================================================================================================================================================================================================================================================================================================================================================================================================================================================================================================================================================================================================================================================================================================================================================================================================================================================================================================================================================================================================================================================================================================================================================================================================================================================================================================================================================================================================================================================================================================================================================================================================================================================================================================================================================================================================================================================================================================================================================================================================================================================================================================================================================================================================================================================================================================================================================================================================================================================================================================================================================================================================================================================================================================================================================================================================================================================================================================================================================================================================================================================================================================================================================================================================================================================================================================================================================================================================================================================================================================================================================================================================================================================================================================================================================================================================================================================================================================================================================================================================================================================================================================================================================================================================================================================================================================================================================================================================================================================================================================================================================================================================================================================================================================================================================================================================================================================================================================================================================================================================================================================================================================================================================================================================================================================================================================================================================================================================================================================================================================================================================================================================================================================================================================================================================================================================================================================================================================================================================================================================================================================================================================================================================================================================================================================================================================================================================================================================================================================================================================================================================================================================================================================================================================================================================================================================================================================================================================================================================================================================================================================================================================================================================================================================================================================================================================================================================================================================================================================================================================================================================================================================================================================================================================================================================================================================================================================================================================================================================================================================================================================================================================================================================================================================================================================================================================================================================================================================================================================================================================================================================================================================================================================================================================================================================================================================================================================================================================================================================================================================================================================================================================================================================================================================================================================================================================================================================================================================================================================================================================================================================================================================================================================================================================================================================================================================================================================================================================================================================================================================================================================================================================================================================================================================================================================================================================================================================================================================================================================================================================================================================================================================================================================================================================================================================================================================================================================================================================================================================================================================================================================================================================================================================================================================================================================================================================================================================================================================================================================================================================================================================================================================================================================================================================================================================================================================================================================================================================================================================================================================================================================================================================================================================================================================================================================================================================================================================================================================================================================================================================================================================================================================================================================================================================================================================================================================================================================================================================================================================================================================================================================================================================================================================================================================================================================================================================================================================================================================================================================================================================================================================================================================================================================================================================================================================================================================================================================================================================================================================================================================================================================================================================================================================================================================================================================================================================================================================================================================================================================================================================================================================================================================================================================================================================================================================================================================================================================================================================================================================================================================================================================================================================================================================================================================================================================================================================================================================================================================================================================================================================================================================================================================================================================================================================================================================================================================================================================================================================================================================================================================================================================================================================================================================================================================================================================================================================================================================================================================================================================================================================================================================================================================================================================================================================================================================================================================================================================================================================================================================================================================================================================================================================================================================================================================================================================================================================================================================================================================================================================================================================================================================================================================================================================================================================================================================================================================================================================================================================================================================================================================================================================================================================================================================================================================================================================================================================================================================================================================================================================================================================================================================================================================================================================================================================================================================================================================================================================================================================================================================================================================================================================================================================================================================================================================================================================================================================================================================================================================================================================================================================================================================================================================================================================================================================================================================================================================================================================================================================================================================================================================================================================================================================================================================================================================================================================================================================================================================================================================================================================================================================================================================================================================================================================================================================================================================================================================================================================================================================================================================================================================================================================================================================================================================================================================================================================================================================================================================================================================================================================================================================================================================================================================================================================================================================================================================================================================================================================================================================================================================================================================================================================================================================================================================================================================================================================================================================================================================================================================================================================================================================================================================================================================================================================================================================================================================================================================================================================================================================================================================================================================================================================================================================================================================================================================================================================================================================================================================================================================================================================================================================================================================================================================================================================================================================================================================================================================================================================================================================================================================================================================================================================================================================================================================================================================================================================================================================================================================================================================================================================================================================================================================================================================================================================================================================================================================================================================================================================================================================================================================================================================================================================================================================================================================================================================================================================================================================================================================================================================================================================================================================================================================================================================================================================================================================================================================================================================================================================================================================================================================================================================================================================================================================================================================================================================================================================================================================================================================================================================================================================================================================================================================================================================================================================================================================================================================================================================================================================================================================================================================================================================================================================================================================================================================================================================================================================================================================================================================================================================================================================================================================================================================================================================================================================================================================================================================================================================================================================================================================================================================================================================================================================================================================================================================================================================================================================================================================================================================================================================================================================================================================================================================================================================================================================================================================================================================================================================================================================================================================================================================================================================================================================================================================================================================================================================================================================================================================================================================================================================================================================================================================================================================================================================================================================================================================================================================================================================================================================================================================================================================================================================================================================================================================================================================================================================================================================================================================================================================================================================================================================================================================================================================================================================================================================================================================================================================================================================================================================================================================================================================================================================================================================================================================================================================================================================================================================================================================================================================================================================================================================================================================================================================================================================================================================================================================================================================================================================================================================================================================================================================================================================================================================================================================================================================================================================================================================================================================================================================================================================================================================================================================================================================================================================================================================================================================================================================================================================================================================================================================================================================================================================================================================================================================================================================================================================================================================================================================================================================================================================================================================================================================================================================================================================================================================================================================================================================================================================================================================================================================================================================================================================================================================================================================================================================================================================================================================================================================================================================================================================================================================================================================================================================================================================================================================================================================================================================================================================================================================================================================================================================================================================================================================================================================================================================================================================================================================================================================================================================================================================================================================================================================================================================================================================================================================================================================================================================================================================================================================================================================================================================================================================================================================================================================================================================================================================================================================================================================================================================================================================================================================================================================================================================================================================================================================================================================================================================================================================================================================================================================================================================================================================================================================================================================================================================================================================================================================================================================================================================================================================================================================================================================================================================================================================================================================================================================================================================================================================================================================================================================================================================================================================================================================================================================================================================================================================================================================================================================================================================================================================================================================================================================================================================================================================================================================================================================================================================================================================================================================================================================================================================================================================================================================================================================================================================================================================================================================================================================================================================================================================================================================================================================================================================================================================================================================================================================================================================================================================================================================================================================================================================================================================================================================================================================================================================================================================================================================================================================================================================================================================================================================================================================================================================================================================================================================================================================================================================================================================================================================================================================================================================================================================================================================================================================================================================================================================================================================================================================================================================================================================================================================================================================================================================================================================================================================================================================================================================================================================================================================================================================================================================================================================================================================================================================================================================================================================================================================================================================================================================================================================================================================================================================================================================================================================================================================================================================================================================================================================================================================================================================================================================================================================================================================================================================================================================================================================================================================================================================================================================================================================================================================================================================================================================================================================================================================================================================================================================================================================================================================================================================================================================================================================================================================================================================================================================================================================================================================================================================================================================================================================================================================================================================================================================================================================================================================================================================================================================================================================================================================================================================================================================================================================================================================================================================================================================================================================================================================================================================================================================================================================================================================================================================================================================================================================================================================================================================================================================================================================================================================================================================================================================================================================================================================================================================================================================================================================================================================================================================================================================================================================================================================================================================================================================================================================================================================================================================================================================================================================================================================================================================================================================================================================================================================================================================================================================================================================================================================================================================================================================================================================================================================================================================================================================================================================================================================================================================================================================================================================================================================================================================================================================================================================================================================================================================================================================================================================================================================================================================================================================================================================================================================================================================================================================================================================================================================================================================================================================================================================================================================================================================================================================================================================================================================================================================================================================================================================================================================================================================================================================================================================================================================================================================================================================================================================================================================================================================================================================================================================================================================================================================================================================================================================================================================================================================================================================================================================================================================================================================================================================================================================================================================================================================================================================================================================================================================================================================================================================================================================================================================================================================================================================================================================================================================================================================================================================================================================================================================================================================================================================================================================================================================================================================================================================================================================================================================================================================================================================================================================================================================================================================================================================================================================================================================================================================================================================================================================================================================================================================================================================================================================================================================================================================================================================================================================================================================================================================================================================================================================================================================================================================================================================================================================================================================================================================================================================================================================================================================================================================================================================================================================================================================================================================================================================================================================================================================================================================================================================================================================================================================================================================================================================================================================================================================================================================================================================================================================================================================================================================================================================================================================================================================================================================================================================================================================================================================================================================================================================================================================================================================================================================================================================================================================================================================================================================================================================================================================================================================================================================================================================================================================================================================================================================================================================================================================================================================================================================================================================================================================================================================================================================================================================================================================================================================================================================================================================================================================================================================================================================================================================================================================================================================================================================================================================================================================================================================================================================================================================================================================================================================================================================================================================================================================================================================================================================================================================================================================================================================================================================================================================================================================================================================================================================================================================================================================================================================================================================================================================================================================================================================================================================================================================================================================================================================================================================================================================================================================================================================================================================================================================================================================================================================================================================================================================================================================================================================================================================================================================================================================================================================================================================================================================================================================================================================================================================================================================================================================================================================================================================================================================================================================================================================================================================================================================================================================================================================================================================================================================================================================================================================================================================================================================================================================================================================================================================================================================================================================================================================================================================================================================================================================================================================================================================================================================================================================================================================================================================================================================================================================================================================================================================================================================================================================================================================================================================================================================================================================================================================================================================================================================================================================================================================================================================================================================================================================================================================================================================================================================================================================================================================================================================================================================================================================================================================================================================================================================================================================================================================================================================================================================================================================================================================================================================================================================================================================================================================================================================================================================================================================================================================================================================================================================================================================================================================================================================================================================================================================================================================================================================================================================================================================================================================================================================================================================================================================================================================================================================================================================================================================================================================================================================================================================================================================================================================================================================================================================================================================================================================================================================================================================================================================================================================================================================================================================================================================================================================================================================================================================================================================================================================================================================================================================================================================================================================================================================================================================================================================================================================================================================================================================================================================================================================================================================================================================================================================================================================================================================================================================================================================================================================================================================================================================================================================================================================================================================================================================================================================================================================================================================================================================================================================================================================================================================================================================================================================================================================================================================================================================================================================================================================================================================================================================================================================================================================================================================================================================================================================================================================================================================================================================================================================================================================================================================================================================================================================================================================================================================================================================================================================================================================================================================================================================================================================================================================================================================================================================================================================================================================================================================================================================================================================================================================================================================================================================================================================================================================================================================================================================================================================================================================================================================================================================================================================================================================================================================================================================================================================================================================================================================================================================================================================================================================================================================================================================================================================================================================================================================================================================================================================================================================================================================================================================================================================================================================================================================================================================================================================================================================================================================================================================================================================================================================================================================================================================================================================================================================================================================================================================================================================================================================================================================================================================================================================================================================================================================================================================================================================================================================================================================================================================================================================================================================================================================================================================================================================================================================================================================================================================================================================================================================================================================================================================================================================================================================================================================================================================================================================================================================================================================================================================================================================================================================================================================================================================================================================================================================================================================================================================================================================================================================================================================================================================================================================================================================================================================================================================================================================================================================================================================================================================================================================================================================================================================================================================================================================================================================================================================================================================================================================================================================================================================================================================================================================================================================================================================================================================================================================================================================================================================================================================================================================================================================================================================================================================================================================================================================================================================================================================================================================================================================================================================================================================================================================================================================================================================================================================================================================================================================================================================================================================================================================================================================================================================================================================================================================================================================================================================================================================================================================================================================================================================================================================================================================================================================================================================================================================================================================================================================================================================================================================================================================================================================================================================================================================================================================================================================================================================================================================================================================================================================================================================================================================================================================================================================================================================================================================================================================================================================================================================================================================================================================================================================================================================================================================================================================================================================================================================================================================================================================================================================================================================================================================================================================================================================================================================================================================================================================================================================================================================================================================================================================================================================================================================================================================================================================================================================================================================================================================================================================================================================================================================================================================================================================================================================================================================================================================================================================================================================================================================================================================================================================================================================================================================================================================================================================================================================================================================================================================================================================================================================================================================================================================================================================================================================================================================================================================================================================================================================================================================================================================================================================================================================================================================================================================================================================================================================================================================================================================================================================================================================================================================================================================================================================================================================================================================================================================================================================================================================================================================================================================================================================================================================================================================================================================================================================================================================================================================================================================================================================================================================================================================================================================================================================================================================================================================================================================================================================================================================================================================================================================================================================================================================================================================================================================================================================================================================================================================================================================================================================================================================================================================================================================================================================================================================================================================================================================================================================================================================================================================================================================================================================================================================================================================================================================================================================================================================================================================================================================================================================================================================================================================================================================================================================================================================================================================================================================================================================================================================================================================================================================================================================================================================================================================================================================================================================================================================================================================================================================================================================================================================================================================================================================================================================================================================================================================================================================================================================================================================================================================================================================================================================================================================================================================================================================================================================================================================================================================================================================================================================================================================================================================================================================================================================================================================================================================================================================================================================================================================================================================================================================================================================================================================================================================================================================================================================================================================================================================================================================================================================================================================================================================================================================================================================================================================================================================================================================================================================================================================================================================================================================================================================================================================================================================================================================================================================================================================================================================================================================================================================================================================================================================================================================================================================================================================================================================================================================================================================================================================================================================================================================================================================================================================================================================================================================================================================================================================================================================================================================================================================================================================================================================================================================================================================================================================================================================================================================================================================================================================================================================================================================================================================================================================================================================================================================================================================================================================================================================================================================================================================================================================================================================================================================================================================================================================================================================================================================================================================================================================================================================================================================================================================================================================================================================================================================================================================================================================================================================================================================================================================================================================================================================================================================================================================================================================================================================================================================================================================================================================================================================================================================================================================================================================================================================================================================================================================================================================================================================================================================================================================================================================================================================================================================================================================================================================================================================================================================================================================================================================================================================================================================================================================================================================================================================================================================================================================================================================================================================================================================================================================================================================================================================================================================================================================================================================================================================================================================================================================================================================================================================================================================================================================================================================================================================================================================================================================================================================================================================================================================================================================================================================================================================================================================================================================================================================================================================================================================================================================================================================================================================================================================================================================================================================================================================================================================================================================================================================================================================================================================================================================================================================================================================================================================================================================================================================================================================================================================================================================================================================================================================================================================================================================================================================================================================================================================================================================================================================================================================================================================================================================================================================================================================================================================================================================================================================================================================================================================================================================================================================================================================================================================================================================================================================================================================================================================================================================================================================================================================================================================================================================================================================================================================================================================================================================================================================================================================================================================================================================================================================================================================================================================================================================================================================================================================================================================================================================================================================================================================================================================================================================================================================================================================================================================================================================================================================================================================================================================================================================================================================================================================================================================================================================================================================================================================================================================================================================================================================================================================================================================================================================================================================================================================================================================================================================================================================================================================================================================================================================================================================================================================================================================================================================================================================================================================================================================================================================================================================================================================================================================================================================================================================================================================================================================================================================================================================================================================================================================================================================================================================================================================================================================================================================================================================================================================================================================================================================================================================================================================================================================================================================================================================================================================================================================================================================================================================================================================================================================================================================================================================================================================================================================================================================================================================================================================================================================================================================================================================================================================================================================================================================================================================================================================================================================================================================================================================================================================================================================================================================================================================================================================================================================================================================================================================================================================================================================================================================================================================================================================================================================================================================================================================================================================================================================================================================================================================================================================================================================================================================================================================================================================================================================================================================================================================================================================================================================================================================================================================================================================================================================================================================================================================================================================================================================================================================================================================================================================================================================================================================================================================================================================================================================================================================================================================================================================================================================================================================================================================================================================================================================================================================================================================================================================================================================================================================================================================================================================================================================================================================================================================================================================================================================================================================================================================================================================================================================================================================================================================================================================================================================================================================================================================================================================================================================================================================================================================================================================================================================================================================================================================================================================================================================================================================================================================================================================================================================================================================================================================================================================================================================================================================================================================================================================================================================================================================================================================================================================================================================================================================================================================================================================================================================================================================================================================================================================================================================================================================================================================================================================================================================================================================================================================================================================================================================================================================================================================================================================================================================================================================================================================================================================================================================================================================================================================================================================================================================================================================================================================================================================================================================================================================================================================================================================================================================================================================================================================================================================================================================================================================================================================================================================================================================================================================================================================================================================================================================================================================================================================================================================================================================================================================================================================================================================================================================================================================================================================================================================================================================================================================================================================================================================================================================================================================================================================================================================================================================================================================================================================================================================================================================================================================================================================================================================================================================================================================================================================================================================================================================================================================================================================================================================================================================================================================================================================================================================================================================================================================================================================================================================================================================================================================================================================================================================================================================================================================================================================================================================================================================================================================================================================================================================================================================================================================================================================================================================================================================================================================================================================================================================================================================================================================================================================================================================================================================================================================================================================================================================================================================================================================================================================================================================================================================================================================================================================================================================================================================================================================================================================================================================================================================================================================================================================================================================================================================================================================================================================================================================================================================================================================================================================================================================================================================================================================================================================================================================================================================================================================================================================================================================================================================================================================================================================================================================================================================================================================================================================================================================================================================================================================================================================================================================================================================================================================================================================================================================================================================================================================================================================================================================================================================================================================================================================================================================================================================================================================================================================================================================================================================================================================================================================================================================================================================================================================================================================================================================================================================================================================================================================================================================================================================================================================================================================================================================================================================================================================================================================================================================================================================================================================================================================================================================================================================================================================================================================================================================================================================================================================================================================================================================================================================================================================================================================================================================================================================================================================================================================================================================================================================================================================================================================================================================================================================================================================================================================================================================================================================================================================================================================================================================================================================================================================================================================================================================================================================================================================================================================================================================================================================================================================================================================================================================================================================================================================================================================================================================================================================================================================================================================================================================================================================================================================================================================================================================================================================================================================================================================================================================================================================================================================================================================================================================================================================================================================================================================================================================================================================================================================================================================================================================================================================================================================================================================================================================================================================================================================================================================================================================================================================================================================================================================================================================================================================================================================================================================================================================================================================================================================================================================================================================================================================================================================================================================================================================================================================================================================================================================================================================================================================================================================================================================================================================================================================================================================================================================================================================================================================================================================================================================================================================================================================================================================================================================================================================================================================================================================================================================================================================================================================================================================================================================================================================================================================================================================================================================================================================================================================================================================================================================================================================================================================================================================================================================================================================================================================================================================================================================================================================================================================================================================================================================================================================================================================================================================================================================================================================================================================================================================================================================================================================================================================================================================================================================================================================================================================================================================================================================================================================================================================================================================================================================================================================================================================================================================================================================================================================================================================================================================================================================================================================================================================================================================================================================================================================================================================================================================================================================================================================================================================================================================================================================================================================================================================================================================================================================================================================================================================================================================================================================================================================================================================================================================================================================================================================================================================================================================================================================================================================================================================================================================================================================================================================================================================================================================================================================================================================================================================================================================================================================================================================================================================================================================================================================================================================================================================================================================================================================================================================================================================================================================================================================================================================================================================================================================================================================================================================================================================================================================================================================================================================================================================================================================================================================================================================================================================================================================================================================================================================================================================================================================================================================================================================================================================================================================================================================================================================================================================================================================================================================================================================================================================================================================================================================================================================================================================================================================================================================================================================================================================================================================================================================================================================================================================================================================================================================================================================================================================================================================================================================================================================================================================================================================================================================================================================================================================================================================================================================================================================================================================================================================================================================================================================================================================================================================================================================================================================================================================================================================================================================================================================================================================================================================================================================================================================================================================================================================================================================================================================================================================================================================================================================================================================================================================================================================================================================================================================================================================================================================================================================================================================================================================================================================================================================================================================================================================================================================================================================================================================================================================================================================================================================================================================================================================================================================================================================================================================================================================================================================================================================================================================================================================================================================================================================================================================================================================================================================================================================================================================================================================================================================================================================================================================================================================================================================================================================================================================================================================================================================================================================================================================================================================================================================================================================================================================================================================================================================================================================================================================================================================================================================================================================================================================================================================================================================================================================================================================================================================================================================================================================================================================================================================================================================================================================================================================================================================================================================================================================================================================================================================================================================================================================================================================================================================================================================================================================================================================================================================================================================================================================================================================================================================================================================================================================================================================================================================================================================================================================================================================================================================================================================================================================================================================================================================================================================================================================================================================================================================================================================================================================================================================================================================================================================================================================================================================================================================================================================================================================================================================================================================================================================================================================================================================================================================================================================================================================================================================================================================================================================================================================================================================================================================================================================================================================================================================================================================================================================================================================================================================================================================================================================================================================================================================================================================================================================================================================================================================================================================================================================================================================================================================================================================================================================================================================================================================================================================================================================================================================================================================================================================================================================================================================================================================================================================================================================================================================================================================================================================================================================================================================================================================================================================================================================================================================================================================================================================================================================================================================================================================================================================================================================================================================================================================================================================================================================================================================================================================================================================================================================================================================================================================================================================================================================================================================================================================================================================================================================================================================================================================================================================================================================================================================================================================================================================================================================================================================================================================================================================================================================================================================================================================================================================================================================================================================================================================================================================================================================================================================================================================================================================================================================================================================================================================================================================================================================================================================================================================================================================================================================================================================================================================================================================================================================================================================================================================================================================================================================================================================================================================================================================================================================================================================================================================================================================================================================================================================================================================================================================================================================================================================================================================================================================================================================================================================================================================================================================================================================================================================================================================================================================================================================================================================================================================================================================================================================================================================================================================================================================================================================================================================================================================================================================================================================================================================================================================================================================================================================================================================================================================================================================================================================================================================================================================================================================================================================================================================================================================================================================================================================================================================================================================================================================================================================================================================================================================================================================================================================================================================================================================================================================================================================================================================================================================================================================================================================================================================================================================================================================================================================================================================================================================================================================================================================================================================================================================================================================================================================================================================================================================================================================================================================================================================================================================================================================================================================================================================================================================================================================================================================================================================================================================================================================================================================================================================================================================================================================================================================================================================================================================================================================================================================================================================================================================================================================================================================================================================================================================================================================================================================================================================================================================================================================================================================================================================================================================================================================================================================================================================================================================================================================================================================================================================================================================================================================================================================================================================================================================================================================================================================================================================================================================================================================================================================================================================================================================================================================================================================================================================================================================================================================================================================================================================================================================================================================================================================================================================================================================================================================================================================================================================================================================================================================================================================================================================================================================================================================================================================================================================================================================================================================================================================================================================================================================================================================================================================================================================================================================================================================================================================================================================================================================================================================================================================================================================================================================================================================================================================================================================================================================================================================================================================================================================================================================================================================================================================================================================================================================================================================================================================================================================================================================================================================================================================================================================================================================================================================================================================================================================================================================================================================================================================================================================================================================================================================================================================================================================================================================================================================================================================================================================================================================================================================================================================================================================================================================================================================================================================================================================================================================================================================================================================================================================================================================================================================================================================================================================================================================================================================================================================================================================================================================================================================================================================================================================================================================================================================================================================================================================================================================================================================================================================================================================================================================================================================================================================================================================================================================================================================================================================================================================================================================================================================================================================================================================================================================================================================================================================================================================================================================================================================================================================================================================================================================================================================================================================================================================================================================================================================================================================================================================================================================================================================================================================================================================================================================================================================================================================================================================================================================================================================================================================================================================================================================================================================================================================================================================================================================================================================================================================================================================================================================================================================================================================================================================================================================================================================================================================================================================================================================================================================================================================================================================================================================================================================================================================================================================================================================================================================================================================================================================================================================================================================================================================================================================================================================================================================================================================================================================================================================================================================================================================================================================================================================================================================================================================================================================================================================================================================================================================================================================================================================================================================================================================================================================================================================================================================================================================================================================================================================================================================================================================================================================================================================================================================================================================================================================================================================================================================================================================================================================================================================================================================================================================================================================================================================================================================================================================================================================================================================================================================================================================================================================================================================================================================================================================================================================================================================================================================================================================================================================================================================================================================================================================================================================================================================================================================================================================================================================================================================================================================================================================================================================================================================================================================================================================================================================================================================================================================================================================================================================================================================================================================================================================================================================================================================================================================================================================================================================================================================================================================================================================================================================================================================================================================================================================================================================================================================================================================================================================================================================================================================================================================================================================================================================================================================================================================================================================================================================================================================================================================================================================================================================================================================================================================================================================================================================================================================================================================================================================================================================================================================================================================================================================================================================================================================================================================================================================================================================================================================================================================================================================================================================================================================================================================================================================================================================================================================================================================================================================================================================================================================================================================================================================================================================================================================================================================================================================================================================================================================================================================================================================================================================================================================================================================================================================================================================================================================================================================================================================================================================================================================================================================================================================================================================================================================================================================================================================================================================================================================================================================================================================================================================================================================================================================================================================================================================================================================================================================================================================================================================================================================================================================================================================================================================================================================================================================================================================================================================================================================================================================================================================================================================================================================================================================================================================================================================================================================================================================================================================================================================================================================================================================================================================================================================================================================================================================================================================================================================================================================================================================================================================================================================================================================================================================================================================================================================================================================================================================================================================================================================================================================================================================================================================================================================================================================================================================================================================================================================================================================================================================================================================================================================================================================================================================================================================================================================================================================================================================================================================================================================================================================================================================================================================================================================================================================================================================================================================================================================================================================================================================================================================================================================================================================================================================================================================================================================================================================================================================================================================================================================================================================================================================================================================================================================================================================================================================================================================================================================================================================================================================================================================================================================================================================================================================================================================================================================================================================================================================================================================================================================================================================================================================================================================================================================================================================================================================================================================================================================================================================================================================================================================================================================================================================================================================================================================================================================================================================================================================================================================================================================================================================================================================================================================================================================================================================================================================================================================================================================================================================================================================================================================================================================================================================================================================================================================================================================================================================================================================================================================================================================================================================================================================================================================================================================================================================================================================================================================================================================================================================================================================================================================================================================================================================================================================================================================================================================================================================================================================================================================================================================================================================================================================================================================================================================================================================================================================================================================================================================================================================================================================================================================================================================================================================================================================================================================================================================================================================================================================================================================================================================================================================================================================================================================================================================================================================================================================================================================================================================================================================================================================================================================================================================================================================================================================================================================================================================================================================================================================================================================================================================================================================================================================================================================================================================================================================================================================================================================================================================================================================================================================================================================================================================================================================================================================================================================================================================================================================================================================================================================================================================================================================================================================================================================================================================================================================================================================================================================================================================================================================================================================================================================================================================================================================================================================================================================================================================================================================================================================================================================================================================================================================================================================================================================================================================================================================================================================================================================================================================================================================================================================================================================================================================================================================================================================================================================================================================================================================================================================================================================================================================================================================================================================================================================================================================================================================================================================================================================================================================================================================================================================================================================================================================================================================================================================================================================================================================================================================================================================================================================================================================================================================================================================================================================================================================================================================================================================================================================================================================================================================================================================================================================================================================================================================================================================================================================================================================================================================================================================================================================================================================================================================================================================================================================================================================================================================================================================================================================================================================================================================================================================================================================================================================================================================================================================================================================================================================================================================================================================================================================================================================================================================================================================================================================================================================================================================================================================================================================================================================================================================================================================================================================================================================================================================================================================================================================================================================================================================================================================================================================================================================================================================================================================================================================================================================================================================================================================================================================================================================================================================================================================================================================================================================================================================================================================================================================================================================================================================================================================================================================================================================================================================================================================================================================================================================================================================================================================================================================================================================================================================================================================================================================================================================================================================================================================================================================================================================================================================================================================================================================================================================================================================================================================================================================================================================================================================================================================================================================================================================================================================================================================================================================================================================================================================================================================================================================================================================================================================================================================================================================================================================================================================================================================================================================================================================================================================================================================================================================================================================================================================================================================================================================================================================================================================================================================================================================================================================================================================================================================================================================================================================================================================================================================================================================================================================================================================================================================================================================================================================================================================================================================================================================================================================================================================================================================================================================================================================================================================================================================================================================================================================================================================================================================================================================================================================================================================================================================================================================================================================================================================================================================================================================================================================================================================================================================================================================================================================================================================================================================================================================================================================================================================================================================================================================================================================================================================================================================================================================================================================================================================================================================================================================================================================================================================================================================================================================================================================================================================================================================================================================================================================================================================================================================================================================================================================================================================================================================================================================================================================================================================================================================================================================================================================================================================================================================================================================================================================================================================================================================================================================================================================================================================================================================================================================================================================================================================================================================================================================================================================================================================================================================================================================================================================================================================================================================================================================================================================================================================================================================================================================================================================================================================================================================================================================================================================================================================================================================================================================================================================================================================================================================================================================================================================================================================================================================================================================================================================================================================================================================================================================================================================================================================================================================================================================================================================================================================================================================================================================================================================================================================================================================================================================================================================================================================================================================================================================================================================================================================================================================================================================================================================================================================================================================================================================================================================================================================================================================================================================================================================================================================================================================================================================================================================================================================================================================================================================================================================================================================================================================================================================================================================================================================================================================================================================================================================================================================================================================================================================================================================================================================================================================================================================================================================================================================================================================================================================================================================================================================================================================================================================================================================================================================================================================================================================================================================================================================================================================================================================================================================================================================================================================================================================================================================================================================================================================================================================================================================================================================================================================================================================================================================================================================================================================================================================================================================================================================================================================================================================================================================================================================================================================================================================================================================================================================================================================================================================================================================================================================================================================================================================================================================================================================================================================================================================================================================================================================================================================================================================================================================================================================================================================================================================================================================================================================================================================================================================================================================================================================================================================================================================================================================================================================================================================================================================================================================================================================================================================================================================================================================================================================================================================================================================================================================================================================================================================================================================================================================================================================================================================================================================================================================================================================================================================================================================================================================================================================================================================================================================================================================================================================================================================================================================================================================================================================================================================================================================================================================================================================================================================================================================================================================================================================================================================================================================================================================================================================================================================================================================================================================================================================================================================================================================================================================================================================================================================================================================================================================================================================================================================================================================================================================================================================================================================================================================================================================================================================================================================================================================================================================================================================================================================================================================================================================================================================================================================================================================================================================================================================================================================================================================================================================================================================================================================================================================================================================================================================================================================================================================================================================================================================================================================================================================================================================================================================================================================================================================================================================================================================================================================================================================================================================================================================================================================================================================================================================================================================================================================================================================================================================================================================================================================================================================================================================================================================================================================================================================================================================================================================================================================================================================================================================================================================================================================================================================================================================================================================================================================================================================================================================================================================================================================================================================================================================================================================================================================================================================================================================================================================================================================================================================================================================================================================================================================================================================================================================================================================================================================================================================================================================================================================================================================================================================================================================================================================================================================================================================================================================================================================================================================================================================================================================================================================================================================================================================================================================================================================================================================================================================================================================================================================================================================================================================================================================================================================================================================================================================================================================================================================================================================================================================================================================================================================================================================================================================================================================================================================================================================================================================================================================================================================================================================================================================================================================================================================================================================================================================================================================================================================================================================================================================================================================================================================================================================================================================================================================================================================================================================================================================================================================================================================================================================================================================================================================================================================================================================================================================================================================================================================================================================================================================================================================================================================================================================================================================================================================================================================================================================================================================================================================================================================================================================================================================================================================================================================================================================================================================================================================================================================================================================================================================================================================================================================================================================================================================================================================================================================================================================================================================================================================================================================================================================================================================================================================================================================================================================================================================================================================================================================================================================================================================================================================================================================================================================================================================================================================================================================================================================================================================================================================================================================================================================================================================================================================================================================================================================================================================================================================================================================================================================================================================================================================================================================================================================================================================================================================================================================================================================================================================================================================================================================================================================================================================================================================================================================================================================================================================================================================================================================================================================================================================================================================================================================================================================================================================================================================================================================================================================================================================================================================================================================================================================================================================================================================================================================================================================================================================================================================================================================================================================================================================================================================================================================================================================================================================================================================================================================================================================================================================================================================================================================================================================================================================================================================================================================================================================================================================================================================================================================================================================================================================================================================================================================================================================================================================================================================================================================================================================================================================================================================================================================================================================================================================================================================================================================================================================================================================================================================================================================================================================================================================================================================================================================================================================================================================================================================================================================================================================================================================================================================================================================================================================================================================================================================================================================================================================================================================================================================================================================================================================================================================================================================================================================================================================================================================================================================================================================================================================================================================================================================================================================================================================================================================================================================================================================================================================================================================================================================================================================================================================================================================================================================================================================================================================================================================================================================================================================================================================================================================================================================================================================================================================================================================================================================================================================================================================================================================================================================================================================================================================================================================================================================================================================================================================================================================================================================================================================================================================================================================================================================================================================================================================================================================================================================================================================================================================================================================================================================================================================================================================================================================================================================================================================================================================================================================================================================================================================================================================================================================================================================================================================================================================================================================================================================================================================================================================================================================================================================================================================================================================================================================================================================================================================================================================================================================================================================================================================================================================================================================================================================================================================================================================================================================================================================================================================================================================================================================================================================================================================================================================================================================================================================================================================================================================================================================================================================================================================================================================================================================================================================================================================================================================================================================================================================================================================================================================================================================================================================================================================================================================================================================================================================================================================================================================================================================================================================================================================================================================================================================================================================================================================================================================================================================================================================================================================================================================================================================================================================================================================================================================================================================================================================================================================================================================================================================================================================================================================================================================================================================================================================================================================================================================================================================================================================================================================================================================================================================================================================================================================================================================================================================================================================================================================================================================================================================================================================================================================================================================================================================================================================================================================================================================================================================================================================================================================================================================================================================================================================================================================================================================================================================================================================================================================================================================================================================================================================================================================================================================================================================================================================================================================================================================================================================================================================================================================================================================================================================================================================================================================================================================================================================================================================================================================================================================================================================================================================================================================================================================================================================================================================================================================================================================================================================================================================================================================================================================================================================================================================================================================================================================================================================================================================================================================================================================================================================================================================================================================================================================================================================================================================================================================================================================================================================================================================================================================================================================================================================================================================================================================================================================================================================================================================================================================================================================================================================================================================================================================================================================================================================================================================================================================================================================================================================================================================================================================================================================================================================================================================================================================================================================================================================================================================================================================================================================================================================================================================================================================================================================================================================================================================================================================================================================================================================================================================================================================================================================================================================================================================================================================================================================================================================================================================================================================================================================================================================================================================================================================================================================================================================================================================================================================================================================================================================================================================================================================================================================================================================================================================================================================================================================================================================================================================================================================================================================================================================================================================================================================================================================================================================================================================================================================================================================================================================================================================================================================================================================================================================================================================================================================================================================================================================================================================================================================================================================================================================================================================================================================================================================================================================================================================================================================================================================================================================================================================================================================================================================================================================================================================================================================================================================================================================================================================================================================================================================================================================================================================================================================================================================================================================================================================================================================================================================================================================================================================================================================================================================================================================================================================================================================================================================================================================================================================================================================================================================================================================================================================================================================================================================================================================================================================================================================================================================================================================================================================================================================================================================================================================================================================================================================================================================================================================================================================================================================================================================================================================================================================================================================================================================================================================================================================================================================================================================================================================================================================================================================================================================================================================================================================================================================================================================================================================================================================================================================================================================================================================================================================================================================================================================================================================================================================================================================================================================================================================================================================================================================================================================================================================================================================================================================================================================================================================================================================================================================================================================================================================================================================================================================================================================================================================================================================================================================================================================================================================================================================================================================================================================================================================================================================================================================================================================================================================================================================================================================================================================================================================================================================================================================================================================================================================================================================================================================================================================================================================================================================================================================================================================================================================================================================================================================================================================================================================================================================================================================================================================================================================================================================================================================================================================================================================================================================================================================================================================================================================================================================================================================================================================================================================================================================================================================================================================================================================================================================================================================================================================================================================================================================================================================================================================================================================================================================================================================================================================================================================================================================================================================================================================================================================================================================================================================================================================================================================================================================================================================================================================================================================================================================================================================================================================================================================================================================================================================================================================================================================================================================================================================================================================================================================================================================================================================================================================================================================================================================================================================================================================================================================================================================================================================================================================================================================================================================================================================================================================================================================================================================================================================================================================================================================================================================================================================================================================================================================================================================================================================================================================================================================================================================================================================================================================================================================================================================================================================================================================================================================================================================================================================================================================================================================================================================================================================================================================================================================================================================================================================================================================================================================================================================================================================================================================================================================================================================================================================================================================================================================================================================================================================================================================================================================================================================================================================================================================================================================================================================================================================================================================================================================================================================================================================================================================================================================================================================================================================================================================================================================================================================================================================================================================================================================================================================================================================================================================================================================================================================================================================================================================================================================================================================================================================================================================================================================================================================================================================================================================================================================================================================================================================================================================================================================================================================================================================================================================================================================================================================================================================================================================================================================================================================================================================================================================================================================================================================================================================================================================================================================================================================================================================================================================================================================================================================================================================================================================================================================================================================================================================================================================================================================================================================================================================================================================================================================================================================================================================================================================================================================================================================================================================================================================================================================================================================================================================================================================================================================================================================================================================================================================================================================================================================================================================================================================================================================================================================================================================================================================================================================================================================================================================================================================================================================================================================================================================================================================================================================================================================================================================================================================================================================================================================================================================================================================================================================] - 0s 26us/sample - loss: 17.1821 - mean_absolute_error: 2.8318\n"
     ]
    },
    {
     "data": {
      "text/plain": [
       "[16.604479855711354, 2.8317702]"
      ]
     },
     "execution_count": 206,
     "metadata": {},
     "output_type": "execute_result"
    }
   ],
   "source": [
    "# To evaluate model test loss\n",
    "\n",
    "test_loss = model.evaluate(x_test, y_test)\n",
    "test_loss"
   ]
  },
  {
   "cell_type": "code",
   "execution_count": 207,
   "metadata": {},
   "outputs": [
    {
     "data": {
      "text/plain": [
       "(16377, 47)"
      ]
     },
     "execution_count": 207,
     "metadata": {},
     "output_type": "execute_result"
    }
   ],
   "source": [
    "\n",
    "x_test.shape"
   ]
  },
  {
   "cell_type": "code",
   "execution_count": 208,
   "metadata": {},
   "outputs": [
    {
     "data": {
      "text/plain": [
       "(16377, 45)"
      ]
     },
     "execution_count": 208,
     "metadata": {},
     "output_type": "execute_result"
    }
   ],
   "source": [
    "y_test.shape"
   ]
  },
  {
   "cell_type": "code",
   "execution_count": 209,
   "metadata": {
    "colab": {
     "base_uri": "https://localhost:8080/",
     "height": 280
    },
    "id": "K6jxwKI-au9s",
    "outputId": "4824a9db-6941-4ac8-87d8-5d749bc8497d"
   },
   "outputs": [
    {
     "data": {
      "image/png": "[encoded data removed]",
      "text/plain": [
       "<Figure size 432x288 with 1 Axes>"
      ]
     },
     "metadata": {
      "needs_background": "light"
     },
     "output_type": "display_data"
    }
   ],
   "source": [
    "# To plot training loss only\n",
    "\n",
    "loss = model_history.history['loss']\n",
    "epochs = range(1, len(loss)+1)\n",
    "plt.plot(epochs, loss, 'ro', label='Training loss')\n",
    "plt.xlabel('epoch')\n",
    "plt.legend()\n",
    "plt.show()"
   ]
  },
  {
   "cell_type": "code",
   "execution_count": 210,
   "metadata": {
    "colab": {
     "base_uri": "https://localhost:8080/",
     "height": 313
    },
    "id": "gr4ZQqHQayfv",
    "outputId": "b292d2fe-9161-4bfc-9b6f-fe09e9543f33"
   },
   "outputs": [
    {
     "name": "stdout",
     "output_type": "stream",
     "text": [
      "dict_keys(['loss', 'mean_absolute_error', 'val_loss', 'val_mean_absolute_error'])\n"
     ]
    },
    {
     "data": {
      "image/png": "[encoded data removed]",
      "text/plain": [
       "<Figure size 432x288 with 1 Axes>"
      ]
     },
     "metadata": {
      "needs_background": "light"
     },
     "output_type": "display_data"
    }
   ],
   "source": [
    "# list all data in history\n",
    "\n",
    "print(model_history.history.keys())\n",
    "\n",
    "# summarize history for accuracy\n",
    "acc = model_history.history['mean_absolute_error']\n",
    "val_acc = model_history.history['val_mean_absolute_error']\n",
    "\n",
    "plt.plot(acc)\n",
    "plt.plot(val_acc)\n",
    "plt.title('model accuracy')\n",
    "plt.ylabel('Mean Absolute Error')\n",
    "plt.xlabel('epoch')\n",
    "plt.legend(['train', 'test'], loc='upper right')\n",
    "plt.savefig('accuracy_3_layer.pdf')\n",
    "plt.show()"
   ]
  },
  {
   "cell_type": "code",
   "execution_count": 211,
   "metadata": {
    "colab": {
     "base_uri": "https://localhost:8080/",
     "height": 295
    },
    "id": "pgrdmzrca2id",
    "outputId": "7698718b-fba5-415a-c5a5-abfbfe868c6c"
   },
   "outputs": [
    {
     "data": {
      "image/png": "[encoded data removed]",
      "text/plain": [
       "<Figure size 432x288 with 1 Axes>"
      ]
     },
     "metadata": {
      "needs_background": "light"
     },
     "output_type": "display_data"
    }
   ],
   "source": [
    "# summarize history for loss\n",
    "\n",
    "loss = model_history.history['loss']\n",
    "val_loss = model_history.history['val_loss']\n",
    "plt.plot(loss)\n",
    "plt.plot(val_loss)\n",
    "plt.title('model loss')\n",
    "plt.ylabel('loss')\n",
    "plt.xlabel('epoch')\n",
    "plt.legend(['train', 'test'], loc='upper right')\n",
    "plt.savefig('loss_3_layer.pdf')\n",
    "plt.show()"
   ]
  },
  {
   "cell_type": "code",
   "execution_count": 212,
   "metadata": {
    "colab": {
     "base_uri": "https://localhost:8080/",
     "height": 249
    },
    "id": "V_KxSfNKa666",
    "outputId": "c668ae3d-01ef-4869-e191-af2122733da1"
   },
   "outputs": [
    {
     "data": {
      "text/plain": [
       "array([[ 0.41502944,  0.82630646,  0.80948395, ...,  7.0070276 ,\n",
       "         5.5067606 , -0.0178077 ],\n",
       "       [ 0.49222943,  0.64048827,  0.6052922 , ...,  6.200573  ,\n",
       "         4.212495  , -0.02144094],\n",
       "       [ 0.50148684,  0.4642595 ,  0.4318456 , ...,  5.0345306 ,\n",
       "         4.376981  , -0.02938591],\n",
       "       ...,\n",
       "       [ 0.3433103 ,  0.5417346 ,  0.5092005 , ...,  5.6491623 ,\n",
       "         4.9311953 , -0.02216741],\n",
       "       [ 0.39148998,  0.4749736 ,  0.42766458, ...,  5.338982  ,\n",
       "         3.9030561 , -0.0223087 ],\n",
       "       [ 0.4615412 ,  0.6933087 ,  0.67051286, ...,  6.2199326 ,\n",
       "         5.0182905 , -0.02261739]], dtype=float32)"
      ]
     },
     "execution_count": 212,
     "metadata": {},
     "output_type": "execute_result"
    }
   ],
   "source": [
    "# Making the predictions for testing\n",
    "\n",
    "# Predicting the Test set results\n",
    "y_pred = model.predict(x_test) \n",
    "y_pred"
   ]
  },
  {
   "cell_type": "code",
   "execution_count": 213,
   "metadata": {
    "colab": {
     "base_uri": "https://localhost:8080/",
     "height": 142
    },
    "id": "nTiknlOLaTPp",
    "outputId": "70722f3f-835d-4abe-ca27-4cd0d3b285f1"
   },
   "outputs": [
    {
     "data": {
      "text/plain": [
       "array([[ 0.00e+00,  0.00e+00,  1.00e+00, ...,  1.00e+01,  0.00e+00,\n",
       "         0.00e+00],\n",
       "       [ 1.00e+00,  1.00e+00,  1.00e+00, ...,  1.00e+01,  1.00e+01,\n",
       "         0.00e+00],\n",
       "       [ 0.00e+00,  1.00e+00,  0.00e+00, ...,  1.00e+01,  1.00e+01,\n",
       "         0.00e+00],\n",
       "       ...,\n",
       "       [ 1.00e+00,  0.00e+00,  1.00e+00, ...,  1.00e+01,  1.00e+01,\n",
       "         0.00e+00],\n",
       "       [ 1.00e+00,  0.00e+00,  0.00e+00, ...,  0.00e+00,  0.00e+00,\n",
       "         0.00e+00],\n",
       "       [ 1.00e+00,  1.00e+00,  0.00e+00, ...,  1.00e+01, -5.55e-16,\n",
       "         0.00e+00]])"
      ]
     },
     "execution_count": 213,
     "metadata": {},
     "output_type": "execute_result"
    }
   ],
   "source": [
    "y_test\n"
   ]
  },
  {
   "cell_type": "code",
   "execution_count": 214,
   "metadata": {
    "id": "5x9nZKCHa9ZI"
   },
   "outputs": [
    {
     "data": {
      "text/plain": [
       "(16377, 45)"
      ]
     },
     "execution_count": 214,
     "metadata": {},
     "output_type": "execute_result"
    }
   ],
   "source": [
    "y_pred.shape"
   ]
  },
  {
   "cell_type": "code",
   "execution_count": 215,
   "metadata": {
    "id": "ACY5x1V7a_vo"
   },
   "outputs": [
    {
     "name": "stdout",
     "output_type": "stream",
     "text": [
      "Test Mean Squared error (MSE): 16.60447983771397\n",
      "Test Root mean squared error (RMSE): 4.074859486867489\n",
      "Test Mean absolute error (MAE): 2.831770619179252\n"
     ]
    }
   ],
   "source": [
    "# Evaluating the model # Test error\n",
    "\n",
    "# Measure MSE error  \n",
    "mse_test = metrics.mean_squared_error(y_test, y_pred)\n",
    "print(\"Test Mean Squared error (MSE): {}\".format(mse_test))\n",
    "\n",
    "# Measure RMSE error \n",
    "rmse_test = np.sqrt(metrics.mean_squared_error(y_test, y_pred))\n",
    "print(\"Test Root mean squared error (RMSE): {}\".format(rmse_test))\n",
    "\n",
    "# Measure MAE error\n",
    "mae_test = metrics.mean_absolute_error(y_test, y_pred)\n",
    "print(\"Test Mean absolute error (MAE): {}\".format(mae_test))"
   ]
  },
  {
   "cell_type": "code",
   "execution_count": 216,
   "metadata": {
    "id": "EpTj4zULbQMd"
   },
   "outputs": [
    {
     "data": {
      "text/plain": [
       "array([[ 0.57105166,  0.53077793,  0.4889229 , ...,  5.394096  ,\n",
       "         3.5454626 , -0.02664342],\n",
       "       [ 0.48463795,  0.73779756,  0.712575  , ...,  6.588999  ,\n",
       "         4.790405  , -0.02050836],\n",
       "       [ 0.53561735,  0.76674443,  0.7428015 , ...,  6.8274355 ,\n",
       "         4.6855087 , -0.02058227],\n",
       "       ...,\n",
       "       [ 0.49460873,  0.53746825,  0.50553405, ...,  5.424468  ,\n",
       "         4.4077897 , -0.02676746],\n",
       "       [ 0.28276166,  0.45253074,  0.41026306, ...,  5.328965  ,\n",
       "         4.6102853 , -0.02119912],\n",
       "       [ 0.4188631 ,  0.6181306 ,  0.5932093 , ...,  5.897665  ,\n",
       "         5.07579   , -0.02349545]], dtype=float32)"
      ]
     },
     "execution_count": 216,
     "metadata": {},
     "output_type": "execute_result"
    }
   ],
   "source": [
    "# Making the predictions for training\n",
    "\n",
    "# Predicting the Training set results\n",
    "y_pred_train = model.predict(x_train) \n",
    "y_pred_train"
   ]
  },
  {
   "cell_type": "code",
   "execution_count": 217,
   "metadata": {
    "id": "Of9BhiCTbU01"
   },
   "outputs": [
    {
     "data": {
      "text/plain": [
       "(65504, 45)"
      ]
     },
     "execution_count": 217,
     "metadata": {},
     "output_type": "execute_result"
    }
   ],
   "source": [
    "y_pred_train.shape "
   ]
  },
  {
   "cell_type": "code",
   "execution_count": 218,
   "metadata": {
    "id": "FWK7_bNJbXME"
   },
   "outputs": [
    {
     "name": "stdout",
     "output_type": "stream",
     "text": [
      "Training Mean Squared error (MSE): 16.36624282654003\n",
      "Training Root mean squared error (RMSE): 4.045521329388838\n",
      "Training Mean absolute error (MAE): 2.815102929404966\n"
     ]
    }
   ],
   "source": [
    "# Evaluating the model # Training error\n",
    "\n",
    "# Measure MSE error  \n",
    "mse_train = metrics.mean_squared_error(y_train, y_pred_train)\n",
    "print(\"Training Mean Squared error (MSE): {}\".format(mse_train))\n",
    "\n",
    "# Measure RMSE error \n",
    "rmse_train = np.sqrt(metrics.mean_squared_error(y_train, y_pred_train))\n",
    "print(\"Training Root mean squared error (RMSE): {}\".format(rmse_train))\n",
    "\n",
    "# Measure MAE error\n",
    "mae_train = metrics.mean_absolute_error(y_train, y_pred_train)\n",
    "print(\"Training Mean absolute error (MAE): {}\".format(mae_train))"
   ]
  },
  {
   "cell_type": "code",
   "execution_count": 219,
   "metadata": {
    "id": "1Yw2ek-lRAmD"
   },
   "outputs": [
    {
     "data": {
      "text/plain": [
       "array([ 0.41502944,  0.82630646,  0.80948395, ...,  6.2199326 ,\n",
       "        5.0182905 , -0.02261739], dtype=float32)"
      ]
     },
     "execution_count": 219,
     "metadata": {},
     "output_type": "execute_result"
    }
   ],
   "source": [
    "y_pred_flat = y_pred.flatten()\n",
    "y_pred_flat"
   ]
  },
  {
   "cell_type": "code",
   "execution_count": 220,
   "metadata": {
    "id": "zrHf4K-yRWEW"
   },
   "outputs": [
    {
     "data": {
      "text/plain": [
       "array([ 0.00e+00,  0.00e+00,  1.00e+00, ...,  1.00e+01, -5.55e-16,\n",
       "        0.00e+00])"
      ]
     },
     "execution_count": 220,
     "metadata": {},
     "output_type": "execute_result"
    }
   ],
   "source": [
    "y_test_flat = y_test.flatten()\n",
    "y_test_flat"
   ]
  },
  {
   "cell_type": "code",
   "execution_count": 221,
   "metadata": {
    "id": "3sCT93VyRYOz"
   },
   "outputs": [
    {
     "name": "stdout",
     "output_type": "stream",
     "text": [
      "R2 Score Test: 0.9759878025279332\n"
     ]
    }
   ],
   "source": [
    "# Regression score for test\n",
    "\n",
    "r2_score_test = metrics.r2_score(y_test_flat, y_pred_flat)\n",
    "print(\"R2 Score Test: {}\".format(r2_score_test))"
   ]
  },
  {
   "cell_type": "code",
   "execution_count": 222,
   "metadata": {
    "id": "5oZLTaS6Rdpb"
   },
   "outputs": [
    {
     "data": {
      "text/plain": [
       "array([ 0.57105166,  0.53077793,  0.4889229 , ...,  5.897665  ,\n",
       "        5.07579   , -0.02349545], dtype=float32)"
      ]
     },
     "execution_count": 222,
     "metadata": {},
     "output_type": "execute_result"
    }
   ],
   "source": [
    "y_pred_train_flat = y_pred_train.flatten()\n",
    "y_pred_train_flat"
   ]
  },
  {
   "cell_type": "code",
   "execution_count": 223,
   "metadata": {
    "id": "imceUpMlRfrV"
   },
   "outputs": [
    {
     "data": {
      "text/plain": [
       "array([ 1.,  0.,  0., ...,  0., 10.,  0.])"
      ]
     },
     "execution_count": 223,
     "metadata": {},
     "output_type": "execute_result"
    }
   ],
   "source": [
    "y_train_flat = y_train.flatten()\n",
    "y_train_flat"
   ]
  },
  {
   "cell_type": "code",
   "execution_count": 224,
   "metadata": {
    "id": "IywAjABTRjex"
   },
   "outputs": [
    {
     "name": "stdout",
     "output_type": "stream",
     "text": [
      "R2 Score Train: 0.9761389592330151\n"
     ]
    }
   ],
   "source": [
    "# Regression score for training\n",
    "\n",
    "r2_score_train = metrics.r2_score(y_train_flat, y_pred_train_flat)\n",
    "print(\"R2 Score Train: {}\".format(r2_score_train))"
   ]
  },
  {
   "cell_type": "code",
   "execution_count": 225,
   "metadata": {
    "id": "hr_f0cdyWpil"
   },
   "outputs": [],
   "source": [
    "######################### Constraint verification for test data ##########################"
   ]
  },
  {
   "cell_type": "code",
   "execution_count": 226,
   "metadata": {
    "colab": {
     "base_uri": "https://localhost:8080/",
     "height": 249
    },
    "id": "aS9k-9lwW0hY",
    "outputId": "32c16051-3a86-49a8-d7cb-77e547ad3e64"
   },
   "outputs": [
    {
     "data": {
      "text/plain": [
       "array([[ 0.41502944,  0.82630646,  0.80948395, ...,  7.0070276 ,\n",
       "         5.5067606 , -0.0178077 ],\n",
       "       [ 0.49222943,  0.64048827,  0.6052922 , ...,  6.200573  ,\n",
       "         4.212495  , -0.02144094],\n",
       "       [ 0.50148684,  0.4642595 ,  0.4318456 , ...,  5.0345306 ,\n",
       "         4.376981  , -0.02938591],\n",
       "       ...,\n",
       "       [ 0.3433103 ,  0.5417346 ,  0.5092005 , ...,  5.6491623 ,\n",
       "         4.9311953 , -0.02216741],\n",
       "       [ 0.39148998,  0.4749736 ,  0.42766458, ...,  5.338982  ,\n",
       "         3.9030561 , -0.0223087 ],\n",
       "       [ 0.4615412 ,  0.6933087 ,  0.67051286, ...,  6.2199326 ,\n",
       "         5.0182905 , -0.02261739]], dtype=float32)"
      ]
     },
     "execution_count": 226,
     "metadata": {},
     "output_type": "execute_result"
    }
   ],
   "source": [
    "y_pred = model.predict(x_test)\n",
    "y_pred"
   ]
  },
  {
   "cell_type": "code",
   "execution_count": 227,
   "metadata": {
    "colab": {
     "base_uri": "https://localhost:8080/",
     "height": 249
    },
    "id": "qdcimHOXZsH2",
    "outputId": "1585d70d-b16d-4e2a-d7d5-6f381a4521fd"
   },
   "outputs": [
    {
     "data": {
      "text/plain": [
       "array([[-1.36267672e+00, -1.07696438e+00,  6.30509953e-01, ...,\n",
       "        -7.06477044e-01, -1.03637414e+00,  2.11477105e-01],\n",
       "       [-4.71134275e-01,  9.28535814e-01, -6.32109816e-01, ...,\n",
       "        -1.51419605e+00,  1.48454840e+00,  2.55051804e-01],\n",
       "       [ 1.44716113e+00, -1.07696438e+00, -1.26341970e+00, ...,\n",
       "        -7.30101065e-01,  1.35371008e+00,  1.69492650e+00],\n",
       "       ...,\n",
       "       [ 5.06087117e-03,  9.28535814e-01, -7.99931613e-04, ...,\n",
       "         1.20270541e+00,  1.44944967e+00,  4.66675539e-01],\n",
       "       [ 1.08929855e+00,  9.28535814e-01,  6.30509953e-01, ...,\n",
       "         7.42914868e-01, -5.45322118e-01, -1.69941231e+00],\n",
       "       [-7.99040035e-01,  9.28535814e-01, -1.26341970e+00, ...,\n",
       "         1.75288956e+00, -4.80493729e-01, -8.81709655e-01]])"
      ]
     },
     "execution_count": 227,
     "metadata": {},
     "output_type": "execute_result"
    }
   ],
   "source": [
    "x_test"
   ]
  },
  {
   "cell_type": "code",
   "execution_count": 228,
   "metadata": {
    "colab": {
     "base_uri": "https://localhost:8080/",
     "height": 35
    },
    "id": "ruqLSKwaZ06X",
    "outputId": "42dd9de3-1395-4349-8ec3-f163ef502a0e"
   },
   "outputs": [
    {
     "data": {
      "text/plain": [
       "(16377, 47)"
      ]
     },
     "execution_count": 228,
     "metadata": {},
     "output_type": "execute_result"
    }
   ],
   "source": [
    "x_test.shape"
   ]
  },
  {
   "cell_type": "code",
   "execution_count": 229,
   "metadata": {
    "colab": {
     "base_uri": "https://localhost:8080/",
     "height": 35
    },
    "id": "fOj5D4GRW7Ac",
    "outputId": "e4223fa4-dd8e-400f-eefc-bbd0178e4d99"
   },
   "outputs": [
    {
     "data": {
      "text/plain": [
       "(16377, 45)"
      ]
     },
     "execution_count": 229,
     "metadata": {},
     "output_type": "execute_result"
    }
   ],
   "source": [
    "y_pred.shape"
   ]
  },
  {
   "cell_type": "code",
   "execution_count": 230,
   "metadata": {
    "colab": {
     "base_uri": "https://localhost:8080/",
     "height": 142
    },
    "id": "Yn9ruPcpOQq0",
    "outputId": "c187ee9b-7905-455c-cee3-fa098f0966e1"
   },
   "outputs": [
    {
     "name": "stdout",
     "output_type": "stream",
     "text": [
      "[[ 0.  1.  1. ...  7.  6. -0.]\n",
      " [ 0.  1.  1. ...  6.  4. -0.]\n",
      " [ 1.  0.  0. ...  5.  4. -0.]\n",
      " ...\n",
      " [ 0.  1.  1. ...  6.  5. -0.]\n",
      " [ 0.  0.  0. ...  5.  4. -0.]\n",
      " [ 0.  1.  1. ...  6.  5. -0.]]\n"
     ]
    }
   ],
   "source": [
    "#round-off the y_pred\n",
    "\n",
    "import numpy as np\n",
    "a_list = np.array(y_pred)\n",
    "y_pred_binary = np.round(a_list)\n",
    "print(y_pred_binary)\n",
    "\n"
   ]
  },
  {
   "cell_type": "code",
   "execution_count": 231,
   "metadata": {
    "colab": {
     "base_uri": "https://localhost:8080/",
     "height": 35
    },
    "id": "zus7h7n3PMDh",
    "outputId": "ce6a354b-6dfa-40b8-c6c3-adead6f2d051"
   },
   "outputs": [
    {
     "data": {
      "text/plain": [
       "(16377, 45)"
      ]
     },
     "execution_count": 231,
     "metadata": {},
     "output_type": "execute_result"
    }
   ],
   "source": [
    "y_pred_binary.shape"
   ]
  },
  {
   "cell_type": "code",
   "execution_count": 232,
   "metadata": {
    "colab": {
     "base_uri": "https://localhost:8080/",
     "height": 142
    },
    "id": "RKVmQiPemWnf",
    "outputId": "8fa5f012-e7b4-4262-e8c9-06ad35d44c13"
   },
   "outputs": [
    {
     "data": {
      "text/plain": [
       "array([[ 0.,  1.,  1., ...,  7.,  6., -0.],\n",
       "       [ 0.,  1.,  1., ...,  6.,  4., -0.],\n",
       "       [ 1.,  0.,  0., ...,  5.,  4., -0.],\n",
       "       ...,\n",
       "       [ 0.,  1.,  1., ...,  6.,  5., -0.],\n",
       "       [ 0.,  0.,  0., ...,  5.,  4., -0.],\n",
       "       [ 0.,  1.,  1., ...,  6.,  5., -0.]], dtype=float32)"
      ]
     },
     "execution_count": 232,
     "metadata": {},
     "output_type": "execute_result"
    }
   ],
   "source": [
    "y_pred_binary"
   ]
  },
  {
   "cell_type": "code",
   "execution_count": 233,
   "metadata": {
    "colab": {
     "base_uri": "https://localhost:8080/",
     "height": 35
    },
    "id": "0Y2CI1jdPzWz",
    "outputId": "7de20c4e-215b-40c2-b415-72ad1edead13"
   },
   "outputs": [
    {
     "data": {
      "text/plain": [
       "16377"
      ]
     },
     "execution_count": 233,
     "metadata": {},
     "output_type": "execute_result"
    }
   ],
   "source": [
    "len(y_pred_binary)"
   ]
  },
  {
   "cell_type": "code",
   "execution_count": 234,
   "metadata": {
    "colab": {
     "base_uri": "https://localhost:8080/",
     "height": 35
    },
    "id": "W0EhQiatZWyj",
    "outputId": "67776725-788b-47d7-a3bd-288348bd211c"
   },
   "outputs": [
    {
     "data": {
      "text/plain": [
       "(81881, 47)"
      ]
     },
     "execution_count": 234,
     "metadata": {},
     "output_type": "execute_result"
    }
   ],
   "source": [
    "inputs.shape"
   ]
  },
  {
   "cell_type": "code",
   "execution_count": 235,
   "metadata": {
    "id": "ZQpsT-B6aMra"
   },
   "outputs": [],
   "source": [
    "x_p = pd.DataFrame(inputs.values)            #Energy price of inputs\n",
    "x_p = x_p.iloc[59540:74425, 28:52]            # Saving the Energy price\n",
    "x_p.index = range(len(x_p))\n",
    "x_p.columns = range(x_p.shape[1])\n",
    "y_test= pd.DataFrame(y_test)\n",
    "\n",
    "y_test = y_test.iloc[0:14885, 0:24]\n",
    "y_test.index = range(len(y_test))\n",
    "y_test.columns = range(y_test.shape[1])\n",
    "\n",
    "y_pred= pd.DataFrame(y_pred_binary)\n",
    "y_pred = y_pred.iloc[0:14885, 0:24]\n",
    "y_pred.index = range(len(y_pred))\n",
    "y_pred.columns = range(y_pred.shape[1])\n",
    "\n",
    "testing = pd.concat([x_p, y_test, y_pred], axis=1)\n",
    "testing.to_excel('testing.xlsx', index = False)"
   ]
  },
  {
   "cell_type": "code",
   "execution_count": 236,
   "metadata": {
    "id": "cmavpKE-GMCX"
   },
   "outputs": [
    {
     "data": {
      "text/html": [
       "<div>\n",
       "<style scoped>\n",
       "    .dataframe tbody tr th:only-of-type {\n",
       "        vertical-align: middle;\n",
       "    }\n",
       "\n",
       "    .dataframe tbody tr th {\n",
       "        vertical-align: top;\n",
       "    }\n",
       "\n",
       "    .dataframe thead th {\n",
       "        text-align: right;\n",
       "    }\n",
       "</style>\n",
       "<table border=\"1\" class=\"dataframe\">\n",
       "  <thead>\n",
       "    <tr style=\"text-align: right;\">\n",
       "      <th></th>\n",
       "      <th>0</th>\n",
       "      <th>1</th>\n",
       "      <th>2</th>\n",
       "      <th>3</th>\n",
       "      <th>4</th>\n",
       "      <th>5</th>\n",
       "      <th>6</th>\n",
       "      <th>7</th>\n",
       "      <th>8</th>\n",
       "      <th>9</th>\n",
       "      <th>10</th>\n",
       "      <th>11</th>\n",
       "      <th>12</th>\n",
       "      <th>13</th>\n",
       "      <th>14</th>\n",
       "      <th>15</th>\n",
       "      <th>16</th>\n",
       "      <th>17</th>\n",
       "      <th>18</th>\n",
       "    </tr>\n",
       "  </thead>\n",
       "  <tbody>\n",
       "    <tr>\n",
       "      <th>0</th>\n",
       "      <td>2.4838</td>\n",
       "      <td>5.4242</td>\n",
       "      <td>5.7745</td>\n",
       "      <td>1.2386</td>\n",
       "      <td>3.1703</td>\n",
       "      <td>15.743000</td>\n",
       "      <td>14.0930</td>\n",
       "      <td>6.2553</td>\n",
       "      <td>6.91960</td>\n",
       "      <td>0.68006</td>\n",
       "      <td>4.1995</td>\n",
       "      <td>3.51000</td>\n",
       "      <td>13.5770</td>\n",
       "      <td>16.0060</td>\n",
       "      <td>13.7980</td>\n",
       "      <td>0.45758</td>\n",
       "      <td>2.7783</td>\n",
       "      <td>19.8750</td>\n",
       "      <td>14.3810</td>\n",
       "    </tr>\n",
       "    <tr>\n",
       "      <th>1</th>\n",
       "      <td>7.1636</td>\n",
       "      <td>9.4423</td>\n",
       "      <td>3.2375</td>\n",
       "      <td>1.0830</td>\n",
       "      <td>2.1655</td>\n",
       "      <td>8.590800</td>\n",
       "      <td>3.9260</td>\n",
       "      <td>19.3020</td>\n",
       "      <td>0.41276</td>\n",
       "      <td>18.88100</td>\n",
       "      <td>14.5380</td>\n",
       "      <td>7.48310</td>\n",
       "      <td>12.5030</td>\n",
       "      <td>10.6160</td>\n",
       "      <td>10.2820</td>\n",
       "      <td>7.56120</td>\n",
       "      <td>0.7458</td>\n",
       "      <td>16.8060</td>\n",
       "      <td>2.8922</td>\n",
       "    </tr>\n",
       "    <tr>\n",
       "      <th>2</th>\n",
       "      <td>2.6395</td>\n",
       "      <td>9.6785</td>\n",
       "      <td>8.7508</td>\n",
       "      <td>3.4331</td>\n",
       "      <td>5.1594</td>\n",
       "      <td>2.613000</td>\n",
       "      <td>16.1340</td>\n",
       "      <td>11.1790</td>\n",
       "      <td>11.33000</td>\n",
       "      <td>4.54300</td>\n",
       "      <td>10.5940</td>\n",
       "      <td>19.24600</td>\n",
       "      <td>14.2860</td>\n",
       "      <td>9.6181</td>\n",
       "      <td>8.5784</td>\n",
       "      <td>6.77490</td>\n",
       "      <td>4.7331</td>\n",
       "      <td>3.9960</td>\n",
       "      <td>16.5130</td>\n",
       "    </tr>\n",
       "    <tr>\n",
       "      <th>3</th>\n",
       "      <td>4.0667</td>\n",
       "      <td>2.5959</td>\n",
       "      <td>9.0116</td>\n",
       "      <td>6.1154</td>\n",
       "      <td>2.1193</td>\n",
       "      <td>0.085638</td>\n",
       "      <td>12.5250</td>\n",
       "      <td>16.4360</td>\n",
       "      <td>10.79600</td>\n",
       "      <td>12.80000</td>\n",
       "      <td>4.6103</td>\n",
       "      <td>15.43700</td>\n",
       "      <td>3.5293</td>\n",
       "      <td>10.0450</td>\n",
       "      <td>5.1858</td>\n",
       "      <td>10.00200</td>\n",
       "      <td>9.9179</td>\n",
       "      <td>14.9790</td>\n",
       "      <td>18.1710</td>\n",
       "    </tr>\n",
       "    <tr>\n",
       "      <th>4</th>\n",
       "      <td>1.4365</td>\n",
       "      <td>5.5379</td>\n",
       "      <td>8.9615</td>\n",
       "      <td>7.9762</td>\n",
       "      <td>2.6483</td>\n",
       "      <td>4.202800</td>\n",
       "      <td>8.4828</td>\n",
       "      <td>14.2720</td>\n",
       "      <td>14.42900</td>\n",
       "      <td>18.42400</td>\n",
       "      <td>8.9758</td>\n",
       "      <td>7.99920</td>\n",
       "      <td>2.2836</td>\n",
       "      <td>5.3155</td>\n",
       "      <td>3.6484</td>\n",
       "      <td>18.84600</td>\n",
       "      <td>9.6874</td>\n",
       "      <td>18.3550</td>\n",
       "      <td>4.1074</td>\n",
       "    </tr>\n",
       "    <tr>\n",
       "      <th>...</th>\n",
       "      <td>...</td>\n",
       "      <td>...</td>\n",
       "      <td>...</td>\n",
       "      <td>...</td>\n",
       "      <td>...</td>\n",
       "      <td>...</td>\n",
       "      <td>...</td>\n",
       "      <td>...</td>\n",
       "      <td>...</td>\n",
       "      <td>...</td>\n",
       "      <td>...</td>\n",
       "      <td>...</td>\n",
       "      <td>...</td>\n",
       "      <td>...</td>\n",
       "      <td>...</td>\n",
       "      <td>...</td>\n",
       "      <td>...</td>\n",
       "      <td>...</td>\n",
       "      <td>...</td>\n",
       "    </tr>\n",
       "    <tr>\n",
       "      <th>14880</th>\n",
       "      <td>9.6644</td>\n",
       "      <td>8.8586</td>\n",
       "      <td>9.5376</td>\n",
       "      <td>8.8597</td>\n",
       "      <td>3.0526</td>\n",
       "      <td>15.175000</td>\n",
       "      <td>8.3544</td>\n",
       "      <td>12.6980</td>\n",
       "      <td>16.05300</td>\n",
       "      <td>14.54000</td>\n",
       "      <td>3.4595</td>\n",
       "      <td>0.65643</td>\n",
       "      <td>9.3389</td>\n",
       "      <td>5.0496</td>\n",
       "      <td>10.9620</td>\n",
       "      <td>8.30460</td>\n",
       "      <td>19.8210</td>\n",
       "      <td>13.5380</td>\n",
       "      <td>2.8367</td>\n",
       "    </tr>\n",
       "    <tr>\n",
       "      <th>14881</th>\n",
       "      <td>2.2524</td>\n",
       "      <td>3.1034</td>\n",
       "      <td>6.4112</td>\n",
       "      <td>1.0537</td>\n",
       "      <td>8.2327</td>\n",
       "      <td>5.530500</td>\n",
       "      <td>18.6870</td>\n",
       "      <td>6.8806</td>\n",
       "      <td>10.28000</td>\n",
       "      <td>17.49400</td>\n",
       "      <td>18.9090</td>\n",
       "      <td>4.28360</td>\n",
       "      <td>3.1790</td>\n",
       "      <td>8.0176</td>\n",
       "      <td>9.0537</td>\n",
       "      <td>13.15200</td>\n",
       "      <td>14.4010</td>\n",
       "      <td>2.1498</td>\n",
       "      <td>1.1996</td>\n",
       "    </tr>\n",
       "    <tr>\n",
       "      <th>14882</th>\n",
       "      <td>9.8246</td>\n",
       "      <td>5.1349</td>\n",
       "      <td>7.9926</td>\n",
       "      <td>1.3984</td>\n",
       "      <td>8.5390</td>\n",
       "      <td>5.351900</td>\n",
       "      <td>9.6522</td>\n",
       "      <td>4.9931</td>\n",
       "      <td>13.58100</td>\n",
       "      <td>7.04420</td>\n",
       "      <td>12.6010</td>\n",
       "      <td>14.54300</td>\n",
       "      <td>2.3946</td>\n",
       "      <td>19.8220</td>\n",
       "      <td>14.3400</td>\n",
       "      <td>19.00100</td>\n",
       "      <td>9.2815</td>\n",
       "      <td>11.7500</td>\n",
       "      <td>2.5425</td>\n",
       "    </tr>\n",
       "    <tr>\n",
       "      <th>14883</th>\n",
       "      <td>1.9853</td>\n",
       "      <td>6.8830</td>\n",
       "      <td>8.0851</td>\n",
       "      <td>1.4558</td>\n",
       "      <td>1.7392</td>\n",
       "      <td>6.054900</td>\n",
       "      <td>14.2780</td>\n",
       "      <td>12.3980</td>\n",
       "      <td>19.55900</td>\n",
       "      <td>5.91200</td>\n",
       "      <td>4.4370</td>\n",
       "      <td>3.86540</td>\n",
       "      <td>10.4820</td>\n",
       "      <td>12.9990</td>\n",
       "      <td>1.8854</td>\n",
       "      <td>1.98980</td>\n",
       "      <td>17.5320</td>\n",
       "      <td>18.9670</td>\n",
       "      <td>9.9752</td>\n",
       "    </tr>\n",
       "    <tr>\n",
       "      <th>14884</th>\n",
       "      <td>6.0783</td>\n",
       "      <td>6.7398</td>\n",
       "      <td>3.0142</td>\n",
       "      <td>3.5943</td>\n",
       "      <td>1.1477</td>\n",
       "      <td>16.592000</td>\n",
       "      <td>12.5000</td>\n",
       "      <td>19.8290</td>\n",
       "      <td>6.18570</td>\n",
       "      <td>18.91000</td>\n",
       "      <td>9.3213</td>\n",
       "      <td>17.19300</td>\n",
       "      <td>19.0230</td>\n",
       "      <td>11.8710</td>\n",
       "      <td>12.8980</td>\n",
       "      <td>13.81500</td>\n",
       "      <td>12.1220</td>\n",
       "      <td>13.4120</td>\n",
       "      <td>4.8022</td>\n",
       "    </tr>\n",
       "  </tbody>\n",
       "</table>\n",
       "<p>14885 rows × 19 columns</p>\n",
       "</div>"
      ],
      "text/plain": [
       "            0       1       2       3       4          5        6        7  \\\n",
       "0      2.4838  5.4242  5.7745  1.2386  3.1703  15.743000  14.0930   6.2553   \n",
       "1      7.1636  9.4423  3.2375  1.0830  2.1655   8.590800   3.9260  19.3020   \n",
       "2      2.6395  9.6785  8.7508  3.4331  5.1594   2.613000  16.1340  11.1790   \n",
       "3      4.0667  2.5959  9.0116  6.1154  2.1193   0.085638  12.5250  16.4360   \n",
       "4      1.4365  5.5379  8.9615  7.9762  2.6483   4.202800   8.4828  14.2720   \n",
       "...       ...     ...     ...     ...     ...        ...      ...      ...   \n",
       "14880  9.6644  8.8586  9.5376  8.8597  3.0526  15.175000   8.3544  12.6980   \n",
       "14881  2.2524  3.1034  6.4112  1.0537  8.2327   5.530500  18.6870   6.8806   \n",
       "14882  9.8246  5.1349  7.9926  1.3984  8.5390   5.351900   9.6522   4.9931   \n",
       "14883  1.9853  6.8830  8.0851  1.4558  1.7392   6.054900  14.2780  12.3980   \n",
       "14884  6.0783  6.7398  3.0142  3.5943  1.1477  16.592000  12.5000  19.8290   \n",
       "\n",
       "              8         9       10        11       12       13       14  \\\n",
       "0       6.91960   0.68006   4.1995   3.51000  13.5770  16.0060  13.7980   \n",
       "1       0.41276  18.88100  14.5380   7.48310  12.5030  10.6160  10.2820   \n",
       "2      11.33000   4.54300  10.5940  19.24600  14.2860   9.6181   8.5784   \n",
       "3      10.79600  12.80000   4.6103  15.43700   3.5293  10.0450   5.1858   \n",
       "4      14.42900  18.42400   8.9758   7.99920   2.2836   5.3155   3.6484   \n",
       "...         ...       ...      ...       ...      ...      ...      ...   \n",
       "14880  16.05300  14.54000   3.4595   0.65643   9.3389   5.0496  10.9620   \n",
       "14881  10.28000  17.49400  18.9090   4.28360   3.1790   8.0176   9.0537   \n",
       "14882  13.58100   7.04420  12.6010  14.54300   2.3946  19.8220  14.3400   \n",
       "14883  19.55900   5.91200   4.4370   3.86540  10.4820  12.9990   1.8854   \n",
       "14884   6.18570  18.91000   9.3213  17.19300  19.0230  11.8710  12.8980   \n",
       "\n",
       "             15       16       17       18  \n",
       "0       0.45758   2.7783  19.8750  14.3810  \n",
       "1       7.56120   0.7458  16.8060   2.8922  \n",
       "2       6.77490   4.7331   3.9960  16.5130  \n",
       "3      10.00200   9.9179  14.9790  18.1710  \n",
       "4      18.84600   9.6874  18.3550   4.1074  \n",
       "...         ...      ...      ...      ...  \n",
       "14880   8.30460  19.8210  13.5380   2.8367  \n",
       "14881  13.15200  14.4010   2.1498   1.1996  \n",
       "14882  19.00100   9.2815  11.7500   2.5425  \n",
       "14883   1.98980  17.5320  18.9670   9.9752  \n",
       "14884  13.81500  12.1220  13.4120   4.8022  \n",
       "\n",
       "[14885 rows x 19 columns]"
      ]
     },
     "execution_count": 236,
     "metadata": {},
     "output_type": "execute_result"
    }
   ],
   "source": [
    "x_p "
   ]
  },
  {
   "cell_type": "code",
   "execution_count": 237,
   "metadata": {
    "colab": {
     "base_uri": "https://localhost:8080/",
     "height": 35
    },
    "id": "xyk1BSSoH0rR",
    "outputId": "d48b837f-c7db-49ad-ad95-272f34bc8bb2"
   },
   "outputs": [
    {
     "data": {
      "text/html": [
       "<div>\n",
       "<style scoped>\n",
       "    .dataframe tbody tr th:only-of-type {\n",
       "        vertical-align: middle;\n",
       "    }\n",
       "\n",
       "    .dataframe tbody tr th {\n",
       "        vertical-align: top;\n",
       "    }\n",
       "\n",
       "    .dataframe thead th {\n",
       "        text-align: right;\n",
       "    }\n",
       "</style>\n",
       "<table border=\"1\" class=\"dataframe\">\n",
       "  <thead>\n",
       "    <tr style=\"text-align: right;\">\n",
       "      <th></th>\n",
       "      <th>0</th>\n",
       "      <th>1</th>\n",
       "      <th>2</th>\n",
       "      <th>3</th>\n",
       "      <th>4</th>\n",
       "      <th>5</th>\n",
       "      <th>6</th>\n",
       "      <th>7</th>\n",
       "      <th>8</th>\n",
       "      <th>9</th>\n",
       "      <th>10</th>\n",
       "      <th>11</th>\n",
       "      <th>12</th>\n",
       "      <th>13</th>\n",
       "      <th>14</th>\n",
       "      <th>15</th>\n",
       "      <th>16</th>\n",
       "      <th>17</th>\n",
       "      <th>18</th>\n",
       "    </tr>\n",
       "  </thead>\n",
       "  <tbody>\n",
       "    <tr>\n",
       "      <th>0</th>\n",
       "      <td>2.4838</td>\n",
       "      <td>5.4242</td>\n",
       "      <td>5.7745</td>\n",
       "      <td>1.2386</td>\n",
       "      <td>3.1703</td>\n",
       "      <td>15.743000</td>\n",
       "      <td>14.0930</td>\n",
       "      <td>6.2553</td>\n",
       "      <td>6.91960</td>\n",
       "      <td>0.68006</td>\n",
       "      <td>4.1995</td>\n",
       "      <td>3.51000</td>\n",
       "      <td>13.5770</td>\n",
       "      <td>16.0060</td>\n",
       "      <td>13.7980</td>\n",
       "      <td>0.45758</td>\n",
       "      <td>2.7783</td>\n",
       "      <td>19.8750</td>\n",
       "      <td>14.3810</td>\n",
       "    </tr>\n",
       "    <tr>\n",
       "      <th>1</th>\n",
       "      <td>7.1636</td>\n",
       "      <td>9.4423</td>\n",
       "      <td>3.2375</td>\n",
       "      <td>1.0830</td>\n",
       "      <td>2.1655</td>\n",
       "      <td>8.590800</td>\n",
       "      <td>3.9260</td>\n",
       "      <td>19.3020</td>\n",
       "      <td>0.41276</td>\n",
       "      <td>18.88100</td>\n",
       "      <td>14.5380</td>\n",
       "      <td>7.48310</td>\n",
       "      <td>12.5030</td>\n",
       "      <td>10.6160</td>\n",
       "      <td>10.2820</td>\n",
       "      <td>7.56120</td>\n",
       "      <td>0.7458</td>\n",
       "      <td>16.8060</td>\n",
       "      <td>2.8922</td>\n",
       "    </tr>\n",
       "    <tr>\n",
       "      <th>2</th>\n",
       "      <td>2.6395</td>\n",
       "      <td>9.6785</td>\n",
       "      <td>8.7508</td>\n",
       "      <td>3.4331</td>\n",
       "      <td>5.1594</td>\n",
       "      <td>2.613000</td>\n",
       "      <td>16.1340</td>\n",
       "      <td>11.1790</td>\n",
       "      <td>11.33000</td>\n",
       "      <td>4.54300</td>\n",
       "      <td>10.5940</td>\n",
       "      <td>19.24600</td>\n",
       "      <td>14.2860</td>\n",
       "      <td>9.6181</td>\n",
       "      <td>8.5784</td>\n",
       "      <td>6.77490</td>\n",
       "      <td>4.7331</td>\n",
       "      <td>3.9960</td>\n",
       "      <td>16.5130</td>\n",
       "    </tr>\n",
       "    <tr>\n",
       "      <th>3</th>\n",
       "      <td>4.0667</td>\n",
       "      <td>2.5959</td>\n",
       "      <td>9.0116</td>\n",
       "      <td>6.1154</td>\n",
       "      <td>2.1193</td>\n",
       "      <td>0.085638</td>\n",
       "      <td>12.5250</td>\n",
       "      <td>16.4360</td>\n",
       "      <td>10.79600</td>\n",
       "      <td>12.80000</td>\n",
       "      <td>4.6103</td>\n",
       "      <td>15.43700</td>\n",
       "      <td>3.5293</td>\n",
       "      <td>10.0450</td>\n",
       "      <td>5.1858</td>\n",
       "      <td>10.00200</td>\n",
       "      <td>9.9179</td>\n",
       "      <td>14.9790</td>\n",
       "      <td>18.1710</td>\n",
       "    </tr>\n",
       "    <tr>\n",
       "      <th>4</th>\n",
       "      <td>1.4365</td>\n",
       "      <td>5.5379</td>\n",
       "      <td>8.9615</td>\n",
       "      <td>7.9762</td>\n",
       "      <td>2.6483</td>\n",
       "      <td>4.202800</td>\n",
       "      <td>8.4828</td>\n",
       "      <td>14.2720</td>\n",
       "      <td>14.42900</td>\n",
       "      <td>18.42400</td>\n",
       "      <td>8.9758</td>\n",
       "      <td>7.99920</td>\n",
       "      <td>2.2836</td>\n",
       "      <td>5.3155</td>\n",
       "      <td>3.6484</td>\n",
       "      <td>18.84600</td>\n",
       "      <td>9.6874</td>\n",
       "      <td>18.3550</td>\n",
       "      <td>4.1074</td>\n",
       "    </tr>\n",
       "    <tr>\n",
       "      <th>...</th>\n",
       "      <td>...</td>\n",
       "      <td>...</td>\n",
       "      <td>...</td>\n",
       "      <td>...</td>\n",
       "      <td>...</td>\n",
       "      <td>...</td>\n",
       "      <td>...</td>\n",
       "      <td>...</td>\n",
       "      <td>...</td>\n",
       "      <td>...</td>\n",
       "      <td>...</td>\n",
       "      <td>...</td>\n",
       "      <td>...</td>\n",
       "      <td>...</td>\n",
       "      <td>...</td>\n",
       "      <td>...</td>\n",
       "      <td>...</td>\n",
       "      <td>...</td>\n",
       "      <td>...</td>\n",
       "    </tr>\n",
       "    <tr>\n",
       "      <th>14880</th>\n",
       "      <td>9.6644</td>\n",
       "      <td>8.8586</td>\n",
       "      <td>9.5376</td>\n",
       "      <td>8.8597</td>\n",
       "      <td>3.0526</td>\n",
       "      <td>15.175000</td>\n",
       "      <td>8.3544</td>\n",
       "      <td>12.6980</td>\n",
       "      <td>16.05300</td>\n",
       "      <td>14.54000</td>\n",
       "      <td>3.4595</td>\n",
       "      <td>0.65643</td>\n",
       "      <td>9.3389</td>\n",
       "      <td>5.0496</td>\n",
       "      <td>10.9620</td>\n",
       "      <td>8.30460</td>\n",
       "      <td>19.8210</td>\n",
       "      <td>13.5380</td>\n",
       "      <td>2.8367</td>\n",
       "    </tr>\n",
       "    <tr>\n",
       "      <th>14881</th>\n",
       "      <td>2.2524</td>\n",
       "      <td>3.1034</td>\n",
       "      <td>6.4112</td>\n",
       "      <td>1.0537</td>\n",
       "      <td>8.2327</td>\n",
       "      <td>5.530500</td>\n",
       "      <td>18.6870</td>\n",
       "      <td>6.8806</td>\n",
       "      <td>10.28000</td>\n",
       "      <td>17.49400</td>\n",
       "      <td>18.9090</td>\n",
       "      <td>4.28360</td>\n",
       "      <td>3.1790</td>\n",
       "      <td>8.0176</td>\n",
       "      <td>9.0537</td>\n",
       "      <td>13.15200</td>\n",
       "      <td>14.4010</td>\n",
       "      <td>2.1498</td>\n",
       "      <td>1.1996</td>\n",
       "    </tr>\n",
       "    <tr>\n",
       "      <th>14882</th>\n",
       "      <td>9.8246</td>\n",
       "      <td>5.1349</td>\n",
       "      <td>7.9926</td>\n",
       "      <td>1.3984</td>\n",
       "      <td>8.5390</td>\n",
       "      <td>5.351900</td>\n",
       "      <td>9.6522</td>\n",
       "      <td>4.9931</td>\n",
       "      <td>13.58100</td>\n",
       "      <td>7.04420</td>\n",
       "      <td>12.6010</td>\n",
       "      <td>14.54300</td>\n",
       "      <td>2.3946</td>\n",
       "      <td>19.8220</td>\n",
       "      <td>14.3400</td>\n",
       "      <td>19.00100</td>\n",
       "      <td>9.2815</td>\n",
       "      <td>11.7500</td>\n",
       "      <td>2.5425</td>\n",
       "    </tr>\n",
       "    <tr>\n",
       "      <th>14883</th>\n",
       "      <td>1.9853</td>\n",
       "      <td>6.8830</td>\n",
       "      <td>8.0851</td>\n",
       "      <td>1.4558</td>\n",
       "      <td>1.7392</td>\n",
       "      <td>6.054900</td>\n",
       "      <td>14.2780</td>\n",
       "      <td>12.3980</td>\n",
       "      <td>19.55900</td>\n",
       "      <td>5.91200</td>\n",
       "      <td>4.4370</td>\n",
       "      <td>3.86540</td>\n",
       "      <td>10.4820</td>\n",
       "      <td>12.9990</td>\n",
       "      <td>1.8854</td>\n",
       "      <td>1.98980</td>\n",
       "      <td>17.5320</td>\n",
       "      <td>18.9670</td>\n",
       "      <td>9.9752</td>\n",
       "    </tr>\n",
       "    <tr>\n",
       "      <th>14884</th>\n",
       "      <td>6.0783</td>\n",
       "      <td>6.7398</td>\n",
       "      <td>3.0142</td>\n",
       "      <td>3.5943</td>\n",
       "      <td>1.1477</td>\n",
       "      <td>16.592000</td>\n",
       "      <td>12.5000</td>\n",
       "      <td>19.8290</td>\n",
       "      <td>6.18570</td>\n",
       "      <td>18.91000</td>\n",
       "      <td>9.3213</td>\n",
       "      <td>17.19300</td>\n",
       "      <td>19.0230</td>\n",
       "      <td>11.8710</td>\n",
       "      <td>12.8980</td>\n",
       "      <td>13.81500</td>\n",
       "      <td>12.1220</td>\n",
       "      <td>13.4120</td>\n",
       "      <td>4.8022</td>\n",
       "    </tr>\n",
       "  </tbody>\n",
       "</table>\n",
       "<p>14885 rows × 19 columns</p>\n",
       "</div>"
      ],
      "text/plain": [
       "            0       1       2       3       4          5        6        7  \\\n",
       "0      2.4838  5.4242  5.7745  1.2386  3.1703  15.743000  14.0930   6.2553   \n",
       "1      7.1636  9.4423  3.2375  1.0830  2.1655   8.590800   3.9260  19.3020   \n",
       "2      2.6395  9.6785  8.7508  3.4331  5.1594   2.613000  16.1340  11.1790   \n",
       "3      4.0667  2.5959  9.0116  6.1154  2.1193   0.085638  12.5250  16.4360   \n",
       "4      1.4365  5.5379  8.9615  7.9762  2.6483   4.202800   8.4828  14.2720   \n",
       "...       ...     ...     ...     ...     ...        ...      ...      ...   \n",
       "14880  9.6644  8.8586  9.5376  8.8597  3.0526  15.175000   8.3544  12.6980   \n",
       "14881  2.2524  3.1034  6.4112  1.0537  8.2327   5.530500  18.6870   6.8806   \n",
       "14882  9.8246  5.1349  7.9926  1.3984  8.5390   5.351900   9.6522   4.9931   \n",
       "14883  1.9853  6.8830  8.0851  1.4558  1.7392   6.054900  14.2780  12.3980   \n",
       "14884  6.0783  6.7398  3.0142  3.5943  1.1477  16.592000  12.5000  19.8290   \n",
       "\n",
       "              8         9       10        11       12       13       14  \\\n",
       "0       6.91960   0.68006   4.1995   3.51000  13.5770  16.0060  13.7980   \n",
       "1       0.41276  18.88100  14.5380   7.48310  12.5030  10.6160  10.2820   \n",
       "2      11.33000   4.54300  10.5940  19.24600  14.2860   9.6181   8.5784   \n",
       "3      10.79600  12.80000   4.6103  15.43700   3.5293  10.0450   5.1858   \n",
       "4      14.42900  18.42400   8.9758   7.99920   2.2836   5.3155   3.6484   \n",
       "...         ...       ...      ...       ...      ...      ...      ...   \n",
       "14880  16.05300  14.54000   3.4595   0.65643   9.3389   5.0496  10.9620   \n",
       "14881  10.28000  17.49400  18.9090   4.28360   3.1790   8.0176   9.0537   \n",
       "14882  13.58100   7.04420  12.6010  14.54300   2.3946  19.8220  14.3400   \n",
       "14883  19.55900   5.91200   4.4370   3.86540  10.4820  12.9990   1.8854   \n",
       "14884   6.18570  18.91000   9.3213  17.19300  19.0230  11.8710  12.8980   \n",
       "\n",
       "             15       16       17       18  \n",
       "0       0.45758   2.7783  19.8750  14.3810  \n",
       "1       7.56120   0.7458  16.8060   2.8922  \n",
       "2       6.77490   4.7331   3.9960  16.5130  \n",
       "3      10.00200   9.9179  14.9790  18.1710  \n",
       "4      18.84600   9.6874  18.3550   4.1074  \n",
       "...         ...      ...      ...      ...  \n",
       "14880   8.30460  19.8210  13.5380   2.8367  \n",
       "14881  13.15200  14.4010   2.1498   1.1996  \n",
       "14882  19.00100   9.2815  11.7500   2.5425  \n",
       "14883   1.98980  17.5320  18.9670   9.9752  \n",
       "14884  13.81500  12.1220  13.4120   4.8022  \n",
       "\n",
       "[14885 rows x 19 columns]"
      ]
     },
     "execution_count": 237,
     "metadata": {},
     "output_type": "execute_result"
    }
   ],
   "source": [
    "x_p"
   ]
  },
  {
   "cell_type": "code",
   "execution_count": 238,
   "metadata": {
    "colab": {
     "base_uri": "https://localhost:8080/",
     "height": 35
    },
    "id": "kyDfSEAnHTYC",
    "outputId": "a6daab74-55ac-445e-8835-2a1869120f5f"
   },
   "outputs": [
    {
     "data": {
      "text/plain": [
       "(14885, 24)"
      ]
     },
     "execution_count": 238,
     "metadata": {},
     "output_type": "execute_result"
    }
   ],
   "source": [
    "y_pred.shape\n"
   ]
  },
  {
   "cell_type": "code",
   "execution_count": 239,
   "metadata": {},
   "outputs": [],
   "source": [
    "y_pred = y_pred.T"
   ]
  },
  {
   "cell_type": "code",
   "execution_count": 240,
   "metadata": {},
   "outputs": [
    {
     "data": {
      "text/html": [
       "<div>\n",
       "<style scoped>\n",
       "    .dataframe tbody tr th:only-of-type {\n",
       "        vertical-align: middle;\n",
       "    }\n",
       "\n",
       "    .dataframe tbody tr th {\n",
       "        vertical-align: top;\n",
       "    }\n",
       "\n",
       "    .dataframe thead th {\n",
       "        text-align: right;\n",
       "    }\n",
       "</style>\n",
       "<table border=\"1\" class=\"dataframe\">\n",
       "  <thead>\n",
       "    <tr style=\"text-align: right;\">\n",
       "      <th></th>\n",
       "      <th>0</th>\n",
       "      <th>1</th>\n",
       "      <th>2</th>\n",
       "      <th>3</th>\n",
       "      <th>4</th>\n",
       "      <th>5</th>\n",
       "      <th>6</th>\n",
       "      <th>7</th>\n",
       "      <th>8</th>\n",
       "      <th>9</th>\n",
       "      <th>...</th>\n",
       "      <th>14875</th>\n",
       "      <th>14876</th>\n",
       "      <th>14877</th>\n",
       "      <th>14878</th>\n",
       "      <th>14879</th>\n",
       "      <th>14880</th>\n",
       "      <th>14881</th>\n",
       "      <th>14882</th>\n",
       "      <th>14883</th>\n",
       "      <th>14884</th>\n",
       "    </tr>\n",
       "  </thead>\n",
       "  <tbody>\n",
       "    <tr>\n",
       "      <th>0</th>\n",
       "      <td>0.0</td>\n",
       "      <td>0.0</td>\n",
       "      <td>1.0</td>\n",
       "      <td>0.0</td>\n",
       "      <td>0.0</td>\n",
       "      <td>1.0</td>\n",
       "      <td>0.0</td>\n",
       "      <td>0.0</td>\n",
       "      <td>0.0</td>\n",
       "      <td>0.0</td>\n",
       "      <td>...</td>\n",
       "      <td>1.0</td>\n",
       "      <td>1.0</td>\n",
       "      <td>1.0</td>\n",
       "      <td>0.0</td>\n",
       "      <td>0.0</td>\n",
       "      <td>0.0</td>\n",
       "      <td>0.0</td>\n",
       "      <td>0.0</td>\n",
       "      <td>0.0</td>\n",
       "      <td>0.0</td>\n",
       "    </tr>\n",
       "    <tr>\n",
       "      <th>1</th>\n",
       "      <td>1.0</td>\n",
       "      <td>1.0</td>\n",
       "      <td>0.0</td>\n",
       "      <td>1.0</td>\n",
       "      <td>1.0</td>\n",
       "      <td>1.0</td>\n",
       "      <td>1.0</td>\n",
       "      <td>1.0</td>\n",
       "      <td>1.0</td>\n",
       "      <td>0.0</td>\n",
       "      <td>...</td>\n",
       "      <td>1.0</td>\n",
       "      <td>1.0</td>\n",
       "      <td>1.0</td>\n",
       "      <td>1.0</td>\n",
       "      <td>1.0</td>\n",
       "      <td>1.0</td>\n",
       "      <td>1.0</td>\n",
       "      <td>1.0</td>\n",
       "      <td>1.0</td>\n",
       "      <td>1.0</td>\n",
       "    </tr>\n",
       "    <tr>\n",
       "      <th>2</th>\n",
       "      <td>1.0</td>\n",
       "      <td>1.0</td>\n",
       "      <td>0.0</td>\n",
       "      <td>1.0</td>\n",
       "      <td>1.0</td>\n",
       "      <td>1.0</td>\n",
       "      <td>1.0</td>\n",
       "      <td>1.0</td>\n",
       "      <td>1.0</td>\n",
       "      <td>0.0</td>\n",
       "      <td>...</td>\n",
       "      <td>1.0</td>\n",
       "      <td>0.0</td>\n",
       "      <td>1.0</td>\n",
       "      <td>1.0</td>\n",
       "      <td>1.0</td>\n",
       "      <td>1.0</td>\n",
       "      <td>1.0</td>\n",
       "      <td>0.0</td>\n",
       "      <td>1.0</td>\n",
       "      <td>1.0</td>\n",
       "    </tr>\n",
       "    <tr>\n",
       "      <th>3</th>\n",
       "      <td>1.0</td>\n",
       "      <td>1.0</td>\n",
       "      <td>1.0</td>\n",
       "      <td>1.0</td>\n",
       "      <td>1.0</td>\n",
       "      <td>1.0</td>\n",
       "      <td>1.0</td>\n",
       "      <td>1.0</td>\n",
       "      <td>1.0</td>\n",
       "      <td>0.0</td>\n",
       "      <td>...</td>\n",
       "      <td>1.0</td>\n",
       "      <td>1.0</td>\n",
       "      <td>1.0</td>\n",
       "      <td>1.0</td>\n",
       "      <td>1.0</td>\n",
       "      <td>1.0</td>\n",
       "      <td>1.0</td>\n",
       "      <td>1.0</td>\n",
       "      <td>1.0</td>\n",
       "      <td>1.0</td>\n",
       "    </tr>\n",
       "    <tr>\n",
       "      <th>4</th>\n",
       "      <td>1.0</td>\n",
       "      <td>1.0</td>\n",
       "      <td>1.0</td>\n",
       "      <td>1.0</td>\n",
       "      <td>1.0</td>\n",
       "      <td>1.0</td>\n",
       "      <td>1.0</td>\n",
       "      <td>1.0</td>\n",
       "      <td>1.0</td>\n",
       "      <td>0.0</td>\n",
       "      <td>...</td>\n",
       "      <td>1.0</td>\n",
       "      <td>1.0</td>\n",
       "      <td>1.0</td>\n",
       "      <td>1.0</td>\n",
       "      <td>1.0</td>\n",
       "      <td>1.0</td>\n",
       "      <td>1.0</td>\n",
       "      <td>1.0</td>\n",
       "      <td>1.0</td>\n",
       "      <td>1.0</td>\n",
       "    </tr>\n",
       "    <tr>\n",
       "      <th>5</th>\n",
       "      <td>1.0</td>\n",
       "      <td>1.0</td>\n",
       "      <td>1.0</td>\n",
       "      <td>1.0</td>\n",
       "      <td>1.0</td>\n",
       "      <td>1.0</td>\n",
       "      <td>1.0</td>\n",
       "      <td>1.0</td>\n",
       "      <td>1.0</td>\n",
       "      <td>1.0</td>\n",
       "      <td>...</td>\n",
       "      <td>1.0</td>\n",
       "      <td>0.0</td>\n",
       "      <td>1.0</td>\n",
       "      <td>1.0</td>\n",
       "      <td>1.0</td>\n",
       "      <td>1.0</td>\n",
       "      <td>1.0</td>\n",
       "      <td>1.0</td>\n",
       "      <td>1.0</td>\n",
       "      <td>1.0</td>\n",
       "    </tr>\n",
       "    <tr>\n",
       "      <th>6</th>\n",
       "      <td>1.0</td>\n",
       "      <td>1.0</td>\n",
       "      <td>1.0</td>\n",
       "      <td>1.0</td>\n",
       "      <td>1.0</td>\n",
       "      <td>1.0</td>\n",
       "      <td>1.0</td>\n",
       "      <td>1.0</td>\n",
       "      <td>1.0</td>\n",
       "      <td>1.0</td>\n",
       "      <td>...</td>\n",
       "      <td>1.0</td>\n",
       "      <td>0.0</td>\n",
       "      <td>1.0</td>\n",
       "      <td>1.0</td>\n",
       "      <td>1.0</td>\n",
       "      <td>1.0</td>\n",
       "      <td>1.0</td>\n",
       "      <td>1.0</td>\n",
       "      <td>1.0</td>\n",
       "      <td>1.0</td>\n",
       "    </tr>\n",
       "    <tr>\n",
       "      <th>7</th>\n",
       "      <td>1.0</td>\n",
       "      <td>1.0</td>\n",
       "      <td>1.0</td>\n",
       "      <td>1.0</td>\n",
       "      <td>1.0</td>\n",
       "      <td>1.0</td>\n",
       "      <td>1.0</td>\n",
       "      <td>1.0</td>\n",
       "      <td>1.0</td>\n",
       "      <td>1.0</td>\n",
       "      <td>...</td>\n",
       "      <td>1.0</td>\n",
       "      <td>0.0</td>\n",
       "      <td>1.0</td>\n",
       "      <td>1.0</td>\n",
       "      <td>1.0</td>\n",
       "      <td>1.0</td>\n",
       "      <td>1.0</td>\n",
       "      <td>1.0</td>\n",
       "      <td>1.0</td>\n",
       "      <td>1.0</td>\n",
       "    </tr>\n",
       "    <tr>\n",
       "      <th>8</th>\n",
       "      <td>1.0</td>\n",
       "      <td>1.0</td>\n",
       "      <td>1.0</td>\n",
       "      <td>1.0</td>\n",
       "      <td>1.0</td>\n",
       "      <td>1.0</td>\n",
       "      <td>1.0</td>\n",
       "      <td>1.0</td>\n",
       "      <td>1.0</td>\n",
       "      <td>1.0</td>\n",
       "      <td>...</td>\n",
       "      <td>1.0</td>\n",
       "      <td>1.0</td>\n",
       "      <td>1.0</td>\n",
       "      <td>1.0</td>\n",
       "      <td>1.0</td>\n",
       "      <td>1.0</td>\n",
       "      <td>1.0</td>\n",
       "      <td>1.0</td>\n",
       "      <td>1.0</td>\n",
       "      <td>1.0</td>\n",
       "    </tr>\n",
       "    <tr>\n",
       "      <th>9</th>\n",
       "      <td>1.0</td>\n",
       "      <td>1.0</td>\n",
       "      <td>0.0</td>\n",
       "      <td>1.0</td>\n",
       "      <td>1.0</td>\n",
       "      <td>1.0</td>\n",
       "      <td>1.0</td>\n",
       "      <td>1.0</td>\n",
       "      <td>1.0</td>\n",
       "      <td>1.0</td>\n",
       "      <td>...</td>\n",
       "      <td>1.0</td>\n",
       "      <td>1.0</td>\n",
       "      <td>1.0</td>\n",
       "      <td>1.0</td>\n",
       "      <td>1.0</td>\n",
       "      <td>1.0</td>\n",
       "      <td>1.0</td>\n",
       "      <td>1.0</td>\n",
       "      <td>1.0</td>\n",
       "      <td>1.0</td>\n",
       "    </tr>\n",
       "    <tr>\n",
       "      <th>10</th>\n",
       "      <td>1.0</td>\n",
       "      <td>1.0</td>\n",
       "      <td>1.0</td>\n",
       "      <td>1.0</td>\n",
       "      <td>1.0</td>\n",
       "      <td>1.0</td>\n",
       "      <td>1.0</td>\n",
       "      <td>1.0</td>\n",
       "      <td>1.0</td>\n",
       "      <td>1.0</td>\n",
       "      <td>...</td>\n",
       "      <td>1.0</td>\n",
       "      <td>1.0</td>\n",
       "      <td>1.0</td>\n",
       "      <td>1.0</td>\n",
       "      <td>1.0</td>\n",
       "      <td>1.0</td>\n",
       "      <td>1.0</td>\n",
       "      <td>1.0</td>\n",
       "      <td>1.0</td>\n",
       "      <td>1.0</td>\n",
       "    </tr>\n",
       "    <tr>\n",
       "      <th>11</th>\n",
       "      <td>1.0</td>\n",
       "      <td>1.0</td>\n",
       "      <td>1.0</td>\n",
       "      <td>1.0</td>\n",
       "      <td>1.0</td>\n",
       "      <td>1.0</td>\n",
       "      <td>1.0</td>\n",
       "      <td>1.0</td>\n",
       "      <td>1.0</td>\n",
       "      <td>1.0</td>\n",
       "      <td>...</td>\n",
       "      <td>1.0</td>\n",
       "      <td>1.0</td>\n",
       "      <td>1.0</td>\n",
       "      <td>1.0</td>\n",
       "      <td>1.0</td>\n",
       "      <td>1.0</td>\n",
       "      <td>1.0</td>\n",
       "      <td>1.0</td>\n",
       "      <td>1.0</td>\n",
       "      <td>1.0</td>\n",
       "    </tr>\n",
       "    <tr>\n",
       "      <th>12</th>\n",
       "      <td>1.0</td>\n",
       "      <td>1.0</td>\n",
       "      <td>0.0</td>\n",
       "      <td>1.0</td>\n",
       "      <td>1.0</td>\n",
       "      <td>1.0</td>\n",
       "      <td>1.0</td>\n",
       "      <td>1.0</td>\n",
       "      <td>1.0</td>\n",
       "      <td>0.0</td>\n",
       "      <td>...</td>\n",
       "      <td>1.0</td>\n",
       "      <td>1.0</td>\n",
       "      <td>1.0</td>\n",
       "      <td>1.0</td>\n",
       "      <td>1.0</td>\n",
       "      <td>1.0</td>\n",
       "      <td>1.0</td>\n",
       "      <td>1.0</td>\n",
       "      <td>1.0</td>\n",
       "      <td>1.0</td>\n",
       "    </tr>\n",
       "    <tr>\n",
       "      <th>13</th>\n",
       "      <td>1.0</td>\n",
       "      <td>0.0</td>\n",
       "      <td>0.0</td>\n",
       "      <td>0.0</td>\n",
       "      <td>0.0</td>\n",
       "      <td>1.0</td>\n",
       "      <td>0.0</td>\n",
       "      <td>0.0</td>\n",
       "      <td>1.0</td>\n",
       "      <td>0.0</td>\n",
       "      <td>...</td>\n",
       "      <td>0.0</td>\n",
       "      <td>0.0</td>\n",
       "      <td>0.0</td>\n",
       "      <td>1.0</td>\n",
       "      <td>1.0</td>\n",
       "      <td>1.0</td>\n",
       "      <td>0.0</td>\n",
       "      <td>0.0</td>\n",
       "      <td>0.0</td>\n",
       "      <td>1.0</td>\n",
       "    </tr>\n",
       "    <tr>\n",
       "      <th>14</th>\n",
       "      <td>0.0</td>\n",
       "      <td>0.0</td>\n",
       "      <td>0.0</td>\n",
       "      <td>0.0</td>\n",
       "      <td>0.0</td>\n",
       "      <td>0.0</td>\n",
       "      <td>0.0</td>\n",
       "      <td>0.0</td>\n",
       "      <td>0.0</td>\n",
       "      <td>0.0</td>\n",
       "      <td>...</td>\n",
       "      <td>0.0</td>\n",
       "      <td>0.0</td>\n",
       "      <td>0.0</td>\n",
       "      <td>0.0</td>\n",
       "      <td>0.0</td>\n",
       "      <td>0.0</td>\n",
       "      <td>0.0</td>\n",
       "      <td>0.0</td>\n",
       "      <td>0.0</td>\n",
       "      <td>0.0</td>\n",
       "    </tr>\n",
       "    <tr>\n",
       "      <th>15</th>\n",
       "      <td>52.0</td>\n",
       "      <td>80.0</td>\n",
       "      <td>96.0</td>\n",
       "      <td>65.0</td>\n",
       "      <td>78.0</td>\n",
       "      <td>59.0</td>\n",
       "      <td>61.0</td>\n",
       "      <td>83.0</td>\n",
       "      <td>72.0</td>\n",
       "      <td>103.0</td>\n",
       "      <td>...</td>\n",
       "      <td>75.0</td>\n",
       "      <td>99.0</td>\n",
       "      <td>64.0</td>\n",
       "      <td>46.0</td>\n",
       "      <td>53.0</td>\n",
       "      <td>49.0</td>\n",
       "      <td>73.0</td>\n",
       "      <td>86.0</td>\n",
       "      <td>61.0</td>\n",
       "      <td>53.0</td>\n",
       "    </tr>\n",
       "    <tr>\n",
       "      <th>16</th>\n",
       "      <td>46.0</td>\n",
       "      <td>76.0</td>\n",
       "      <td>93.0</td>\n",
       "      <td>60.0</td>\n",
       "      <td>72.0</td>\n",
       "      <td>57.0</td>\n",
       "      <td>55.0</td>\n",
       "      <td>78.0</td>\n",
       "      <td>68.0</td>\n",
       "      <td>97.0</td>\n",
       "      <td>...</td>\n",
       "      <td>74.0</td>\n",
       "      <td>97.0</td>\n",
       "      <td>61.0</td>\n",
       "      <td>40.0</td>\n",
       "      <td>46.0</td>\n",
       "      <td>43.0</td>\n",
       "      <td>69.0</td>\n",
       "      <td>81.0</td>\n",
       "      <td>53.0</td>\n",
       "      <td>47.0</td>\n",
       "    </tr>\n",
       "    <tr>\n",
       "      <th>17</th>\n",
       "      <td>45.0</td>\n",
       "      <td>72.0</td>\n",
       "      <td>88.0</td>\n",
       "      <td>58.0</td>\n",
       "      <td>67.0</td>\n",
       "      <td>58.0</td>\n",
       "      <td>53.0</td>\n",
       "      <td>74.0</td>\n",
       "      <td>65.0</td>\n",
       "      <td>88.0</td>\n",
       "      <td>...</td>\n",
       "      <td>73.0</td>\n",
       "      <td>93.0</td>\n",
       "      <td>60.0</td>\n",
       "      <td>40.0</td>\n",
       "      <td>44.0</td>\n",
       "      <td>43.0</td>\n",
       "      <td>67.0</td>\n",
       "      <td>75.0</td>\n",
       "      <td>49.0</td>\n",
       "      <td>45.0</td>\n",
       "    </tr>\n",
       "    <tr>\n",
       "      <th>18</th>\n",
       "      <td>44.0</td>\n",
       "      <td>69.0</td>\n",
       "      <td>84.0</td>\n",
       "      <td>56.0</td>\n",
       "      <td>61.0</td>\n",
       "      <td>60.0</td>\n",
       "      <td>50.0</td>\n",
       "      <td>70.0</td>\n",
       "      <td>63.0</td>\n",
       "      <td>78.0</td>\n",
       "      <td>...</td>\n",
       "      <td>73.0</td>\n",
       "      <td>89.0</td>\n",
       "      <td>60.0</td>\n",
       "      <td>42.0</td>\n",
       "      <td>42.0</td>\n",
       "      <td>44.0</td>\n",
       "      <td>64.0</td>\n",
       "      <td>69.0</td>\n",
       "      <td>45.0</td>\n",
       "      <td>44.0</td>\n",
       "    </tr>\n",
       "    <tr>\n",
       "      <th>19</th>\n",
       "      <td>44.0</td>\n",
       "      <td>64.0</td>\n",
       "      <td>80.0</td>\n",
       "      <td>55.0</td>\n",
       "      <td>54.0</td>\n",
       "      <td>62.0</td>\n",
       "      <td>48.0</td>\n",
       "      <td>67.0</td>\n",
       "      <td>62.0</td>\n",
       "      <td>69.0</td>\n",
       "      <td>...</td>\n",
       "      <td>72.0</td>\n",
       "      <td>82.0</td>\n",
       "      <td>60.0</td>\n",
       "      <td>43.0</td>\n",
       "      <td>40.0</td>\n",
       "      <td>45.0</td>\n",
       "      <td>63.0</td>\n",
       "      <td>64.0</td>\n",
       "      <td>41.0</td>\n",
       "      <td>43.0</td>\n",
       "    </tr>\n",
       "    <tr>\n",
       "      <th>20</th>\n",
       "      <td>44.0</td>\n",
       "      <td>59.0</td>\n",
       "      <td>77.0</td>\n",
       "      <td>54.0</td>\n",
       "      <td>48.0</td>\n",
       "      <td>61.0</td>\n",
       "      <td>46.0</td>\n",
       "      <td>66.0</td>\n",
       "      <td>62.0</td>\n",
       "      <td>62.0</td>\n",
       "      <td>...</td>\n",
       "      <td>70.0</td>\n",
       "      <td>74.0</td>\n",
       "      <td>58.0</td>\n",
       "      <td>43.0</td>\n",
       "      <td>40.0</td>\n",
       "      <td>45.0</td>\n",
       "      <td>61.0</td>\n",
       "      <td>59.0</td>\n",
       "      <td>39.0</td>\n",
       "      <td>42.0</td>\n",
       "    </tr>\n",
       "    <tr>\n",
       "      <th>21</th>\n",
       "      <td>43.0</td>\n",
       "      <td>54.0</td>\n",
       "      <td>74.0</td>\n",
       "      <td>52.0</td>\n",
       "      <td>43.0</td>\n",
       "      <td>56.0</td>\n",
       "      <td>44.0</td>\n",
       "      <td>66.0</td>\n",
       "      <td>63.0</td>\n",
       "      <td>58.0</td>\n",
       "      <td>...</td>\n",
       "      <td>65.0</td>\n",
       "      <td>65.0</td>\n",
       "      <td>54.0</td>\n",
       "      <td>42.0</td>\n",
       "      <td>39.0</td>\n",
       "      <td>45.0</td>\n",
       "      <td>60.0</td>\n",
       "      <td>56.0</td>\n",
       "      <td>37.0</td>\n",
       "      <td>41.0</td>\n",
       "    </tr>\n",
       "    <tr>\n",
       "      <th>22</th>\n",
       "      <td>43.0</td>\n",
       "      <td>49.0</td>\n",
       "      <td>73.0</td>\n",
       "      <td>51.0</td>\n",
       "      <td>39.0</td>\n",
       "      <td>50.0</td>\n",
       "      <td>43.0</td>\n",
       "      <td>67.0</td>\n",
       "      <td>64.0</td>\n",
       "      <td>57.0</td>\n",
       "      <td>...</td>\n",
       "      <td>60.0</td>\n",
       "      <td>55.0</td>\n",
       "      <td>49.0</td>\n",
       "      <td>41.0</td>\n",
       "      <td>39.0</td>\n",
       "      <td>44.0</td>\n",
       "      <td>58.0</td>\n",
       "      <td>55.0</td>\n",
       "      <td>37.0</td>\n",
       "      <td>40.0</td>\n",
       "    </tr>\n",
       "    <tr>\n",
       "      <th>23</th>\n",
       "      <td>42.0</td>\n",
       "      <td>44.0</td>\n",
       "      <td>70.0</td>\n",
       "      <td>49.0</td>\n",
       "      <td>36.0</td>\n",
       "      <td>43.0</td>\n",
       "      <td>42.0</td>\n",
       "      <td>67.0</td>\n",
       "      <td>64.0</td>\n",
       "      <td>57.0</td>\n",
       "      <td>...</td>\n",
       "      <td>54.0</td>\n",
       "      <td>46.0</td>\n",
       "      <td>44.0</td>\n",
       "      <td>39.0</td>\n",
       "      <td>40.0</td>\n",
       "      <td>42.0</td>\n",
       "      <td>56.0</td>\n",
       "      <td>54.0</td>\n",
       "      <td>37.0</td>\n",
       "      <td>39.0</td>\n",
       "    </tr>\n",
       "  </tbody>\n",
       "</table>\n",
       "<p>24 rows × 14885 columns</p>\n",
       "</div>"
      ],
      "text/plain": [
       "    0      1      2      3      4      5      6      7      8      9      ...  \\\n",
       "0     0.0    0.0    1.0    0.0    0.0    1.0    0.0    0.0    0.0    0.0  ...   \n",
       "1     1.0    1.0    0.0    1.0    1.0    1.0    1.0    1.0    1.0    0.0  ...   \n",
       "2     1.0    1.0    0.0    1.0    1.0    1.0    1.0    1.0    1.0    0.0  ...   \n",
       "3     1.0    1.0    1.0    1.0    1.0    1.0    1.0    1.0    1.0    0.0  ...   \n",
       "4     1.0    1.0    1.0    1.0    1.0    1.0    1.0    1.0    1.0    0.0  ...   \n",
       "5     1.0    1.0    1.0    1.0    1.0    1.0    1.0    1.0    1.0    1.0  ...   \n",
       "6     1.0    1.0    1.0    1.0    1.0    1.0    1.0    1.0    1.0    1.0  ...   \n",
       "7     1.0    1.0    1.0    1.0    1.0    1.0    1.0    1.0    1.0    1.0  ...   \n",
       "8     1.0    1.0    1.0    1.0    1.0    1.0    1.0    1.0    1.0    1.0  ...   \n",
       "9     1.0    1.0    0.0    1.0    1.0    1.0    1.0    1.0    1.0    1.0  ...   \n",
       "10    1.0    1.0    1.0    1.0    1.0    1.0    1.0    1.0    1.0    1.0  ...   \n",
       "11    1.0    1.0    1.0    1.0    1.0    1.0    1.0    1.0    1.0    1.0  ...   \n",
       "12    1.0    1.0    0.0    1.0    1.0    1.0    1.0    1.0    1.0    0.0  ...   \n",
       "13    1.0    0.0    0.0    0.0    0.0    1.0    0.0    0.0    1.0    0.0  ...   \n",
       "14    0.0    0.0    0.0    0.0    0.0    0.0    0.0    0.0    0.0    0.0  ...   \n",
       "15   52.0   80.0   96.0   65.0   78.0   59.0   61.0   83.0   72.0  103.0  ...   \n",
       "16   46.0   76.0   93.0   60.0   72.0   57.0   55.0   78.0   68.0   97.0  ...   \n",
       "17   45.0   72.0   88.0   58.0   67.0   58.0   53.0   74.0   65.0   88.0  ...   \n",
       "18   44.0   69.0   84.0   56.0   61.0   60.0   50.0   70.0   63.0   78.0  ...   \n",
       "19   44.0   64.0   80.0   55.0   54.0   62.0   48.0   67.0   62.0   69.0  ...   \n",
       "20   44.0   59.0   77.0   54.0   48.0   61.0   46.0   66.0   62.0   62.0  ...   \n",
       "21   43.0   54.0   74.0   52.0   43.0   56.0   44.0   66.0   63.0   58.0  ...   \n",
       "22   43.0   49.0   73.0   51.0   39.0   50.0   43.0   67.0   64.0   57.0  ...   \n",
       "23   42.0   44.0   70.0   49.0   36.0   43.0   42.0   67.0   64.0   57.0  ...   \n",
       "\n",
       "    14875  14876  14877  14878  14879  14880  14881  14882  14883  14884  \n",
       "0     1.0    1.0    1.0    0.0    0.0    0.0    0.0    0.0    0.0    0.0  \n",
       "1     1.0    1.0    1.0    1.0    1.0    1.0    1.0    1.0    1.0    1.0  \n",
       "2     1.0    0.0    1.0    1.0    1.0    1.0    1.0    0.0    1.0    1.0  \n",
       "3     1.0    1.0    1.0    1.0    1.0    1.0    1.0    1.0    1.0    1.0  \n",
       "4     1.0    1.0    1.0    1.0    1.0    1.0    1.0    1.0    1.0    1.0  \n",
       "5     1.0    0.0    1.0    1.0    1.0    1.0    1.0    1.0    1.0    1.0  \n",
       "6     1.0    0.0    1.0    1.0    1.0    1.0    1.0    1.0    1.0    1.0  \n",
       "7     1.0    0.0    1.0    1.0    1.0    1.0    1.0    1.0    1.0    1.0  \n",
       "8     1.0    1.0    1.0    1.0    1.0    1.0    1.0    1.0    1.0    1.0  \n",
       "9     1.0    1.0    1.0    1.0    1.0    1.0    1.0    1.0    1.0    1.0  \n",
       "10    1.0    1.0    1.0    1.0    1.0    1.0    1.0    1.0    1.0    1.0  \n",
       "11    1.0    1.0    1.0    1.0    1.0    1.0    1.0    1.0    1.0    1.0  \n",
       "12    1.0    1.0    1.0    1.0    1.0    1.0    1.0    1.0    1.0    1.0  \n",
       "13    0.0    0.0    0.0    1.0    1.0    1.0    0.0    0.0    0.0    1.0  \n",
       "14    0.0    0.0    0.0    0.0    0.0    0.0    0.0    0.0    0.0    0.0  \n",
       "15   75.0   99.0   64.0   46.0   53.0   49.0   73.0   86.0   61.0   53.0  \n",
       "16   74.0   97.0   61.0   40.0   46.0   43.0   69.0   81.0   53.0   47.0  \n",
       "17   73.0   93.0   60.0   40.0   44.0   43.0   67.0   75.0   49.0   45.0  \n",
       "18   73.0   89.0   60.0   42.0   42.0   44.0   64.0   69.0   45.0   44.0  \n",
       "19   72.0   82.0   60.0   43.0   40.0   45.0   63.0   64.0   41.0   43.0  \n",
       "20   70.0   74.0   58.0   43.0   40.0   45.0   61.0   59.0   39.0   42.0  \n",
       "21   65.0   65.0   54.0   42.0   39.0   45.0   60.0   56.0   37.0   41.0  \n",
       "22   60.0   55.0   49.0   41.0   39.0   44.0   58.0   55.0   37.0   40.0  \n",
       "23   54.0   46.0   44.0   39.0   40.0   42.0   56.0   54.0   37.0   39.0  \n",
       "\n",
       "[24 rows x 14885 columns]"
      ]
     },
     "execution_count": 240,
     "metadata": {},
     "output_type": "execute_result"
    }
   ],
   "source": [
    "y_pred"
   ]
  },
  {
   "cell_type": "code",
   "execution_count": 241,
   "metadata": {
    "colab": {
     "base_uri": "https://localhost:8080/",
     "height": 427
    },
    "id": "8M0aZBT7HFzP",
    "outputId": "2ae09b1c-2193-41da-e402-43a5475e2eeb"
   },
   "outputs": [
    {
     "ename": "ValueError",
     "evalue": "matrices are not aligned",
     "output_type": "error",
     "traceback": [
      "\u001b[1;31m---------------------------------------------------------------------------\u001b[0m",
      "\u001b[1;31mValueError\u001b[0m                                Traceback (most recent call last)",
      "\u001b[1;32m<ipython-input-241-f2ee32d239d4>\u001b[0m in \u001b[0;36m<module>\u001b[1;34m\u001b[0m\n\u001b[1;32m----> 1\u001b[1;33m \u001b[0mresult_predict\u001b[0m \u001b[1;33m=\u001b[0m \u001b[0mx_p\u001b[0m\u001b[1;33m.\u001b[0m\u001b[0mdot\u001b[0m\u001b[1;33m(\u001b[0m\u001b[0my_pred\u001b[0m\u001b[1;33m)\u001b[0m\u001b[1;33m;\u001b[0m\u001b[1;33m\u001b[0m\u001b[1;33m\u001b[0m\u001b[0m\n\u001b[0m\u001b[0;32m      2\u001b[0m \u001b[0mresult_predict\u001b[0m\u001b[1;33m.\u001b[0m\u001b[0mshape\u001b[0m\u001b[1;33m\u001b[0m\u001b[1;33m\u001b[0m\u001b[0m\n",
      "\u001b[1;32m~\\Anaconda3\\lib\\site-packages\\pandas\\core\\frame.py\u001b[0m in \u001b[0;36mdot\u001b[1;34m(self, other)\u001b[0m\n\u001b[0;32m   1121\u001b[0m             \u001b[0mcommon\u001b[0m \u001b[1;33m=\u001b[0m \u001b[0mself\u001b[0m\u001b[1;33m.\u001b[0m\u001b[0mcolumns\u001b[0m\u001b[1;33m.\u001b[0m\u001b[0munion\u001b[0m\u001b[1;33m(\u001b[0m\u001b[0mother\u001b[0m\u001b[1;33m.\u001b[0m\u001b[0mindex\u001b[0m\u001b[1;33m)\u001b[0m\u001b[1;33m\u001b[0m\u001b[1;33m\u001b[0m\u001b[0m\n\u001b[0;32m   1122\u001b[0m             \u001b[1;32mif\u001b[0m \u001b[0mlen\u001b[0m\u001b[1;33m(\u001b[0m\u001b[0mcommon\u001b[0m\u001b[1;33m)\u001b[0m \u001b[1;33m>\u001b[0m \u001b[0mlen\u001b[0m\u001b[1;33m(\u001b[0m\u001b[0mself\u001b[0m\u001b[1;33m.\u001b[0m\u001b[0mcolumns\u001b[0m\u001b[1;33m)\u001b[0m \u001b[1;32mor\u001b[0m \u001b[0mlen\u001b[0m\u001b[1;33m(\u001b[0m\u001b[0mcommon\u001b[0m\u001b[1;33m)\u001b[0m \u001b[1;33m>\u001b[0m \u001b[0mlen\u001b[0m\u001b[1;33m(\u001b[0m\u001b[0mother\u001b[0m\u001b[1;33m.\u001b[0m\u001b[0mindex\u001b[0m\u001b[1;33m)\u001b[0m\u001b[1;33m:\u001b[0m\u001b[1;33m\u001b[0m\u001b[1;33m\u001b[0m\u001b[0m\n\u001b[1;32m-> 1123\u001b[1;33m                 \u001b[1;32mraise\u001b[0m \u001b[0mValueError\u001b[0m\u001b[1;33m(\u001b[0m\u001b[1;34m\"matrices are not aligned\"\u001b[0m\u001b[1;33m)\u001b[0m\u001b[1;33m\u001b[0m\u001b[1;33m\u001b[0m\u001b[0m\n\u001b[0m\u001b[0;32m   1124\u001b[0m \u001b[1;33m\u001b[0m\u001b[0m\n\u001b[0;32m   1125\u001b[0m             \u001b[0mleft\u001b[0m \u001b[1;33m=\u001b[0m \u001b[0mself\u001b[0m\u001b[1;33m.\u001b[0m\u001b[0mreindex\u001b[0m\u001b[1;33m(\u001b[0m\u001b[0mcolumns\u001b[0m\u001b[1;33m=\u001b[0m\u001b[0mcommon\u001b[0m\u001b[1;33m,\u001b[0m \u001b[0mcopy\u001b[0m\u001b[1;33m=\u001b[0m\u001b[1;32mFalse\u001b[0m\u001b[1;33m)\u001b[0m\u001b[1;33m\u001b[0m\u001b[1;33m\u001b[0m\u001b[0m\n",
      "\u001b[1;31mValueError\u001b[0m: matrices are not aligned"
     ]
    }
   ],
   "source": [
    "result_predict = x_p.dot(y_pred);\n",
    "result_predict.shape"
   ]
  },
  {
   "cell_type": "code",
   "execution_count": null,
   "metadata": {},
   "outputs": [],
   "source": [
    "y_test.shape"
   ]
  },
  {
   "cell_type": "code",
   "execution_count": null,
   "metadata": {},
   "outputs": [],
   "source": [
    "y_test = y_test.T"
   ]
  },
  {
   "cell_type": "code",
   "execution_count": null,
   "metadata": {},
   "outputs": [],
   "source": [
    "result_test = x_p.dot(y_test)\n"
   ]
  },
  {
   "cell_type": "code",
   "execution_count": null,
   "metadata": {},
   "outputs": [],
   "source": [
    "result_test.shape"
   ]
  },
  {
   "cell_type": "code",
   "execution_count": null,
   "metadata": {
    "id": "2_iywgm_0Ivw"
   },
   "outputs": [],
   "source": [
    "sub = abs(result_test - result_predict)\n"
   ]
  },
  {
   "cell_type": "code",
   "execution_count": null,
   "metadata": {},
   "outputs": [],
   "source": []
  },
  {
   "cell_type": "code",
   "execution_count": null,
   "metadata": {},
   "outputs": [],
   "source": [
    "sub"
   ]
  },
  {
   "cell_type": "code",
   "execution_count": null,
   "metadata": {},
   "outputs": [],
   "source": [
    "result_test"
   ]
  },
  {
   "cell_type": "code",
   "execution_count": null,
   "metadata": {
    "scrolled": true
   },
   "outputs": [],
   "source": [
    "result_test"
   ]
  },
  {
   "cell_type": "code",
   "execution_count": null,
   "metadata": {
    "id": "LzRbMb3jGQ70"
   },
   "outputs": [],
   "source": [
    " sub = abs(result_test - result_predict)/(result_test)\n",
    " sub"
   ]
  },
  {
   "cell_type": "code",
   "execution_count": null,
   "metadata": {},
   "outputs": [],
   "source": [
    "suboptimality = np.diag(sub)\n",
    "plt.plot(suboptimality[48:72])\n",
    "plt.xlabel('number of components')\n",
    "plt.ylabel('element wise suboptimality')\n",
    "plt.title('F*-F^')\n",
    "plt.axhline(y=0.15, color='r', linestyle='-')"
   ]
  },
  {
   "cell_type": "code",
   "execution_count": null,
   "metadata": {},
   "outputs": [],
   "source": [
    "T = np.mean(suboptimality) #Calculating the suboptimality for T=24 horizon\n",
    "T"
   ]
  },
  {
   "cell_type": "code",
   "execution_count": null,
   "metadata": {},
   "outputs": [],
   "source": []
  },
  {
   "cell_type": "code",
   "execution_count": null,
   "metadata": {},
   "outputs": [],
   "source": []
  }
 ],
 "metadata": {
  "colab": {
   "collapsed_sections": [],
   "name": "FinalCodeDL.ipynb",
   "provenance": [],
   "toc_visible": true
  },
  "kernelspec": {
   "display_name": "Python 3",
   "language": "python",
   "name": "python3"
  },
  "language_info": {
   "codemirror_mode": {
    "name": "ipython",
    "version": 3
   },
   "file_extension": ".py",
   "mimetype": "text/x-python",
   "name": "python",
   "nbconvert_exporter": "python",
   "pygments_lexer": "ipython3",
   "version": "3.7.6"
  }
 },
 "nbformat": 4,
 "nbformat_minor": 1
}
