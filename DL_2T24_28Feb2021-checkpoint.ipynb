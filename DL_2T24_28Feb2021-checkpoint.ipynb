{
 "cells": [
  {
   "cell_type": "code",
   "execution_count": 1,
   "metadata": {
    "id": "qLTVIvmEV0bJ"
   },
   "outputs": [
    {
     "name": "stderr",
     "output_type": "stream",
     "text": [
      "Using TensorFlow backend.\n"
     ]
    }
   ],
   "source": [
    "#We are testing a DL model for Mixed integer formulation for Water distribution network.\n",
    "# The input data such as water demand and time-ahead dynamic energy prices are obtained from Singh et al (2019) paper.\n",
    "# We computed the time ahead pump switching using MATALB Gurobi solver\n",
    "# We obtained the time ahead pump switching for 2048 hours (85.33 days)\n",
    "# We train_test the neural network in the ratio of 80-20.\n",
    "# The nn is trained using ReLu and SoftMax (as the output is integer values)\n",
    "\n",
    "#In our  case y is (z)\n",
    "\n",
    "import numpy as np\n",
    "import pandas as pd   #data analysis and manipulation library\n",
    "import seaborn as sns #Python statistical data visualization library.\n",
    "import matplotlib.pyplot as plt\n",
    "from sklearn import model_selection #Tuning the hyperparameters, cross validation, model persistance are the important aspects of this.\n",
    "from sklearn.model_selection import train_test_split #ML library to data analysis\n",
    "from sklearn.metrics import accuracy_score, r2_score\n",
    "import sklearn.metrics as metrics\n",
    "from openpyxl import Workbook, load_workbook\n",
    "from openpyxl.utils.dataframe import dataframe_to_rows\n",
    "\n",
    "\n",
    "from sklearn.decomposition import PCA #dimensionality reduction\n",
    "\n",
    "%matplotlib inline\n",
    "\n",
    "#Libraries for Deep learning framework from Keras\n",
    "\n",
    "import tensorflow as tf\n",
    "from tensorflow.keras.models import Sequential\n",
    "from tensorflow.keras.layers import Dense, Activation\n",
    "from tensorflow.keras.layers import BatchNormalization\n",
    "\n",
    "import keras\n",
    "import keras.utils\n",
    "from keras import utils as np_utils\n",
    "from keras.models import Sequential\n",
    "\n",
    "from tensorflow.keras import layers\n",
    "from tensorflow.keras import utils as np_utils\n",
    "from tensorflow.keras import models \n",
    "from tensorflow.keras.models import Sequential\n",
    "from tensorflow.keras.layers import Activation, LeakyReLU, PReLU, ELU #Import activation functions from keras.layers\n",
    "from tensorflow.keras.layers import Dropout #Import dropout library, the objective of dropout is to prevent overfitting of data, However, we have to be careful while setting the dropout rate.\n",
    "from tensorflow.keras.optimizers import SGD, RMSprop\n",
    "from tensorflow.keras.callbacks import LearningRateScheduler #Learning rate scheduler, Here call back is an object that can perform\n",
    "                                                # at various actions at different stages of training \n",
    "from tensorflow.keras.callbacks import History #We can use the data collected from history to  [accuracy, loss, val_accuracy, val_loss]\n",
    "\n",
    "\n",
    "\n",
    "import io #Deal with various types of input output\n",
    "import os #Talk with os, like changing and modifying dirctories\n",
    "import requests #Allow you to send HTTP/1.1, headers, form data, multipart files r = requests.get(‘https://github.com/timeline.json’)\n",
    "\n",
    "\n",
    "import warnings\n",
    "warnings.simplefilter(action='ignore', category=FutureWarning)\n",
    "warnings.filterwarnings('ignore')\n",
    "warnings.filterwarnings('ignore', category=DeprecationWarning) #Deprecated warning: it is a base category of warning about deprecated features\n",
    "\n",
    "\n",
    "import dill\n",
    "# dill.dump_session('notebook_env.db')\n"
   ]
  },
  {
   "cell_type": "code",
   "execution_count": 2,
   "metadata": {
    "colab": {
     "base_uri": "https://localhost:8080/",
     "height": 35
    },
    "id": "3UAv55q5WBcM",
    "outputId": "3c021aa0-bd4d-494f-f943-eef9218e7517"
   },
   "outputs": [
    {
     "data": {
      "text/plain": [
       "'C:\\\\Users\\\\jyotib18\\\\OneDrive - Universitetet i Agder\\\\Data Files From Rahul'"
      ]
     },
     "execution_count": 2,
     "metadata": {},
     "output_type": "execute_result"
    }
   ],
   "source": [
    "pwd\n"
   ]
  },
  {
   "cell_type": "code",
   "execution_count": 3,
   "metadata": {
    "colab": {
     "base_uri": "https://localhost:8080/",
     "height": 35
    },
    "id": "IpVFTXeQXCXK",
    "outputId": "27426a81-8e08-46b7-8f2c-c8deaf83a9a4"
   },
   "outputs": [
    {
     "data": {
      "text/plain": [
       "(54677, 93)"
      ]
     },
     "execution_count": 3,
     "metadata": {},
     "output_type": "execute_result"
    }
   ],
   "source": [
    "import io\n",
    "#inputs = pd.read_csv(io.BytesIO(uploaded['1.csv']))\n",
    "\n",
    "inputs=pd.read_csv(r'C:\\Users\\jyotib18\\OPS_Data\\2T10Ts5\\1.csv')\n",
    "inputs=inputs.dropna()\n",
    "\n",
    "\n",
    "# Dataset is now stored in a Pandas Dataframe\n",
    "inputs.shape"
   ]
  },
  {
   "cell_type": "code",
   "execution_count": 4,
   "metadata": {
    "colab": {
     "base_uri": "https://localhost:8080/",
     "height": 35
    },
    "id": "JJOS8FKYX-NI",
    "outputId": "1b70258b-b9d3-487b-c10f-9a84707063e3"
   },
   "outputs": [
    {
     "data": {
      "text/plain": [
       "pandas.core.frame.DataFrame"
      ]
     },
     "execution_count": 4,
     "metadata": {},
     "output_type": "execute_result"
    }
   ],
   "source": [
    "type(inputs)"
   ]
  },
  {
   "cell_type": "code",
   "execution_count": 5,
   "metadata": {
    "colab": {
     "base_uri": "https://localhost:8080/",
     "height": 267
    },
    "id": "7kjRvcIjYBcE",
    "outputId": "fc4ba7fd-6de7-44fa-fddc-9bbd367a8a2d"
   },
   "outputs": [
    {
     "data": {
      "text/plain": [
       "<bound method NDFrame.head of        71.848   86.75  1  0  1.1  0.1  4  0.2  0.3  0.4  ...  0.86048  \\\n",
       "0      50.552  83.305  0  0    0    1  4    0    1    0  ...  11.7220   \n",
       "1      61.745  42.972  0  0    0    0  4    0    0    0  ...   4.1789   \n",
       "2      75.833  57.996  0  0    1    0  1    0    0    0  ...  13.7010   \n",
       "3      53.737  78.516  0  0    1    0  3    0    0    1  ...   3.0874   \n",
       "4      75.849  60.119  0  0    0    0  4    1    1    0  ...  19.9400   \n",
       "...       ...     ... .. ..  ...  ... ..  ...  ...  ...  ...      ...   \n",
       "54672  90.822  51.947  1  0    1    0  2    0    1    0  ...   1.7475   \n",
       "54673  98.012  60.489  1  0    0    0  5    1    0    1  ...  12.7790   \n",
       "54674  93.404  47.230  0  0    0    1  5    1    1    0  ...   5.1705   \n",
       "54675  93.183  68.686  0  0    1    1  5    0    1    0  ...   4.7674   \n",
       "54676  53.407  62.672  0  0    0    1  1    0    1    0  ...  11.3330   \n",
       "\n",
       "        3.3798    12.982   14.634   12.955   9.0185    10.94   5.9264  \\\n",
       "0       5.2429   0.88908  15.0990   4.8557   8.8480  13.7560   7.1846   \n",
       "1      18.1030  13.50800   9.3694  18.2430   2.0802  14.9110  14.7250   \n",
       "2      11.9590  15.78700   7.3531   4.1206   1.7333  15.4390   4.1135   \n",
       "3       7.6269   3.22270  15.1620  17.4220   7.0155  13.7110   5.8830   \n",
       "4       4.4834  13.04900  12.1000   7.7449   2.8437   0.5027   8.4222   \n",
       "...        ...       ...      ...      ...      ...      ...      ...   \n",
       "54672  17.1880   6.21200  15.6580  15.5110  17.3660   3.8386   6.7195   \n",
       "54673   3.9542  11.98500  19.9540   2.5306  16.0520  16.7390   6.6045   \n",
       "54674  13.2930   3.74960  16.8280  14.2530  15.0690   2.7901   3.5791   \n",
       "54675  17.0380  13.50900   1.5724  10.3200   6.3414   8.6293   2.0324   \n",
       "54676  10.1130   2.20810  19.2870  13.7060   7.8109  17.4510   3.7729   \n",
       "\n",
       "        14.894    3.7791  \n",
       "0      14.7270   7.89410  \n",
       "1      11.2370   3.68390  \n",
       "2       7.7654  11.03600  \n",
       "3      10.6130  16.64800  \n",
       "4       3.6820  14.51600  \n",
       "...        ...       ...  \n",
       "54672  12.2840   6.33590  \n",
       "54673   1.6663   3.11970  \n",
       "54674   3.8214  18.13100  \n",
       "54675   5.0390   5.99490  \n",
       "54676   2.5069   0.48154  \n",
       "\n",
       "[54677 rows x 93 columns]>"
      ]
     },
     "execution_count": 5,
     "metadata": {},
     "output_type": "execute_result"
    }
   ],
   "source": [
    "inputs.head"
   ]
  },
  {
   "cell_type": "code",
   "execution_count": 6,
   "metadata": {
    "colab": {
     "base_uri": "https://localhost:8080/",
     "height": 35
    },
    "id": "3K06d0z3YLHZ",
    "outputId": "2f18508a-5444-4967-a6c7-42e5cfdeb656"
   },
   "outputs": [
    {
     "data": {
      "text/plain": [
       "(54677, 60)"
      ]
     },
     "execution_count": 6,
     "metadata": {},
     "output_type": "execute_result"
    }
   ],
   "source": [
    "import io\n",
    "outputs = pd.read_csv(r'C:\\Users\\jyotib18\\OPS_Data\\2T10Ts5\\2.csv')\n",
    "# Dataset is now stored in a Pandas Dataframe\n",
    "outputs=outputs.dropna()\n",
    "outputs.shape"
   ]
  },
  {
   "cell_type": "code",
   "execution_count": 7,
   "metadata": {
    "colab": {
     "base_uri": "https://localhost:8080/",
     "height": 267
    },
    "id": "c_Y34U9Eo9RK",
    "outputId": "a0beb83e-4aeb-4f67-e98b-175ffcb61b9b"
   },
   "outputs": [
    {
     "data": {
      "text/plain": [
       "<bound method NDFrame.head of        1    0  0.1  0.2  0.3  1.1  0.4  0.5  0.6  1.2  ...  0.43  0.44  0.45  \\\n",
       "0      0  0.0  0.0  0.0  0.0  0.0  0.0  0.0  1.0  0.0  ...   0.0   1.0   0.0   \n",
       "1      0  1.0  0.0  0.0  0.0  0.0  1.0  0.0  0.0  0.0  ...   0.0   1.0   0.0   \n",
       "2      0  0.0  0.0  0.0  0.0  1.0  0.0  0.0  0.0  1.0  ...   0.0   0.0   0.0   \n",
       "3      0  0.0  0.0  0.0  0.0  0.0  0.0  0.0  0.0  0.0  ...   0.0   0.0   0.0   \n",
       "4      0  0.0  0.0  0.0  0.0  0.0  1.0  0.0  0.0  0.0  ...   0.0   0.0   0.0   \n",
       "...   ..  ...  ...  ...  ...  ...  ...  ...  ...  ...  ...   ...   ...   ...   \n",
       "54672  1  0.0  0.0  0.0  0.0  0.0  0.0  0.0  1.0  0.0  ...   0.0   0.0   0.0   \n",
       "54673  1  1.0  1.0  1.0  0.0  0.0  0.0  0.0  0.0  0.0  ...   1.0   0.0   1.0   \n",
       "54674  0  0.0  0.0  0.0  0.0  0.0  0.0  0.0  0.0  0.0  ...   0.0   0.0   0.0   \n",
       "54675  0  0.0  0.0  0.0  0.0  0.0  0.0  0.0  1.0  0.0  ...   0.0   0.0   0.0   \n",
       "54676  0  0.0  0.0  1.0  0.0  0.0  0.0  0.0  0.0  0.0  ...   0.0   0.0   0.0   \n",
       "\n",
       "       0.46  0.47  0.48  0.49  0.50  0.51  0.52  \n",
       "0       0.0   0.0   0.0   0.0   0.0   0.0   0.0  \n",
       "1       0.0   0.0   0.0   0.0   0.0   0.0   0.0  \n",
       "2       0.0   1.0   0.0   0.0   0.0   0.0   0.0  \n",
       "3       0.0   0.0   0.0   0.0   0.0   0.0   0.0  \n",
       "4       0.0   1.0   0.0   0.0   0.0   0.0   0.0  \n",
       "...     ...   ...   ...   ...   ...   ...   ...  \n",
       "54672   0.0   0.0   0.0   0.0   0.0   0.0   0.0  \n",
       "54673   1.0   0.0   0.0   0.0   0.0   0.0   0.0  \n",
       "54674   0.0   0.0   1.0   0.0   0.0   0.0   0.0  \n",
       "54675   1.0   0.0   0.0   1.0   0.0   0.0   0.0  \n",
       "54676   0.0   0.0   0.0   0.0   0.0   1.0   0.0  \n",
       "\n",
       "[54677 rows x 60 columns]>"
      ]
     },
     "execution_count": 7,
     "metadata": {},
     "output_type": "execute_result"
    }
   ],
   "source": [
    "outputs.head"
   ]
  },
  {
   "cell_type": "code",
   "execution_count": 8,
   "metadata": {
    "colab": {
     "base_uri": "https://localhost:8080/",
     "height": 142
    },
    "id": "7Q5rdfEcYUpm",
    "outputId": "e1c8aace-b467-4903-93de-00041281f93e"
   },
   "outputs": [
    {
     "data": {
      "text/plain": [
       "array([[50.552  , 83.305  ,  0.     , ...,  7.1846 , 14.727  ,  7.8941 ],\n",
       "       [61.745  , 42.972  ,  0.     , ..., 14.725  , 11.237  ,  3.6839 ],\n",
       "       [75.833  , 57.996  ,  0.     , ...,  4.1135 ,  7.7654 , 11.036  ],\n",
       "       ...,\n",
       "       [93.404  , 47.23   ,  0.     , ...,  3.5791 ,  3.8214 , 18.131  ],\n",
       "       [93.183  , 68.686  ,  0.     , ...,  2.0324 ,  5.039  ,  5.9949 ],\n",
       "       [53.407  , 62.672  ,  0.     , ...,  3.7729 ,  2.5069 ,  0.48154]])"
      ]
     },
     "execution_count": 8,
     "metadata": {},
     "output_type": "execute_result"
    }
   ],
   "source": [
    "x = inputs.values #converting data frame to array frame\n",
    "x"
   ]
  },
  {
   "cell_type": "code",
   "execution_count": 9,
   "metadata": {
    "colab": {
     "base_uri": "https://localhost:8080/",
     "height": 35
    },
    "id": "u-1JFtEPZMI-",
    "outputId": "1a6530ce-97d3-43c1-e22d-afa1cc4cc523"
   },
   "outputs": [
    {
     "data": {
      "text/plain": [
       "pandas.core.frame.DataFrame"
      ]
     },
     "execution_count": 9,
     "metadata": {},
     "output_type": "execute_result"
    }
   ],
   "source": [
    "type(outputs)"
   ]
  },
  {
   "cell_type": "code",
   "execution_count": 10,
   "metadata": {
    "colab": {
     "base_uri": "https://localhost:8080/",
     "height": 142
    },
    "id": "ftCpb4JaZOCm",
    "outputId": "d1adf403-a25c-406b-af25-602b9fc6363a"
   },
   "outputs": [
    {
     "data": {
      "text/plain": [
       "array([[0., 0., 0., ..., 0., 0., 0.],\n",
       "       [0., 1., 0., ..., 0., 0., 0.],\n",
       "       [0., 0., 0., ..., 0., 0., 0.],\n",
       "       ...,\n",
       "       [0., 0., 0., ..., 0., 0., 0.],\n",
       "       [0., 0., 0., ..., 0., 0., 0.],\n",
       "       [0., 0., 0., ..., 0., 1., 0.]])"
      ]
     },
     "execution_count": 10,
     "metadata": {},
     "output_type": "execute_result"
    }
   ],
   "source": [
    "y = outputs.values # converting dataframe \"outputc\" in array form i.e. 'y' is now in array form \n",
    "y # y is combination of power assignments and channel assignments both."
   ]
  },
  {
   "cell_type": "code",
   "execution_count": 11,
   "metadata": {
    "colab": {
     "base_uri": "https://localhost:8080/",
     "height": 35
    },
    "id": "ChIBpH6HZQxg",
    "outputId": "18f59c85-a710-4dfa-997d-b35308e72991"
   },
   "outputs": [
    {
     "data": {
      "text/plain": [
       "(54677, 60)"
      ]
     },
     "execution_count": 11,
     "metadata": {},
     "output_type": "execute_result"
    }
   ],
   "source": [
    "y.shape"
   ]
  },
  {
   "cell_type": "code",
   "execution_count": 12,
   "metadata": {},
   "outputs": [
    {
     "data": {
      "text/plain": [
       "(54677, 93)"
      ]
     },
     "execution_count": 12,
     "metadata": {},
     "output_type": "execute_result"
    }
   ],
   "source": [
    "x.shape"
   ]
  },
  {
   "cell_type": "code",
   "execution_count": 13,
   "metadata": {
    "colab": {
     "base_uri": "https://localhost:8080/",
     "height": 35
    },
    "id": "abgDkl9qZTMj",
    "outputId": "2d246909-8eff-48b5-f5d5-2a3ac593b867"
   },
   "outputs": [
    {
     "data": {
      "text/plain": [
       "numpy.ndarray"
      ]
     },
     "execution_count": 13,
     "metadata": {},
     "output_type": "execute_result"
    }
   ],
   "source": [
    "type(y)"
   ]
  },
  {
   "cell_type": "code",
   "execution_count": 14,
   "metadata": {
    "colab": {
     "base_uri": "https://localhost:8080/",
     "height": 142
    },
    "id": "feOJ4F4eZVDY",
    "outputId": "50399f6d-8241-46ee-c374-b53b7e17226b"
   },
   "outputs": [],
   "source": [
    "#y[0]"
   ]
  },
  {
   "cell_type": "code",
   "execution_count": 15,
   "metadata": {
    "colab": {
     "base_uri": "https://localhost:8080/",
     "height": 71
    },
    "id": "kL_w5EAOZXE9",
    "outputId": "e61df404-dd57-44dd-ed66-5e1662d55204"
   },
   "outputs": [],
   "source": [
    "#y[0:50, 0] # First row and initial 50 columns of y "
   ]
  },
  {
   "cell_type": "code",
   "execution_count": 16,
   "metadata": {
    "id": "Jt2OQ-dMZZ1x"
   },
   "outputs": [],
   "source": [
    "# Splitting data for training and testing \n",
    "# Here both x and y are in array form (non-scaled)\n",
    "\n",
    "from sklearn.model_selection import train_test_split\n",
    "x_train, x_test, y_train, y_test = train_test_split(x, y, test_size=0.1, shuffle=False, random_state=42) # old\n",
    "#x_train, x_test, y_train, y_test = train_test_split(x, y, test_size=0.2, shuffle=True)"
   ]
  },
  {
   "cell_type": "code",
   "execution_count": 17,
   "metadata": {
    "id": "gBhAhKzuZehe"
   },
   "outputs": [],
   "source": [
    "# Feature Scaling\n",
    "from sklearn.preprocessing import StandardScaler\n",
    "sc = StandardScaler()\n",
    "x_train = sc.fit_transform(x_train)\n",
    "x_test = sc.transform(x_test)"
   ]
  },
  {
   "cell_type": "code",
   "execution_count": 18,
   "metadata": {},
   "outputs": [],
   "source": [
    "#Building neural network\n",
    "\n",
    "\n",
    "model = tf.keras.Sequential()\n",
    "\n",
    "model.add(Dense(20, input_dim=x.shape[1], kernel_initializer='random_normal')) # Input layer and 1st hidden layer\n",
    "model.add(LeakyReLU(alpha=0.1)) # Leaky Relu for 1st hidden layer\n",
    "model.add(BatchNormalization())\n",
    "\n",
    "\n",
    "#model.add(Dense(100,  kernel_initializer='random_normal')) # 2nd Hidden layer\n",
    "#model.add(BatchNormalization())\n",
    "#model.add(LeakyReLU(alpha=0.1)) # Leaky Relu for 2nd hidden layer\n",
    "\n",
    "\n",
    "#model.add(BatchNormalization())\n",
    "\n",
    "model.add(Dense(40, kernel_initializer='random_normal')) # 3rd Hidden layer \n",
    "model.add(LeakyReLU(alpha=0.1)) # Leaky Relu for 3rd hidden layer\n",
    "model.add(BatchNormalization())\n",
    "\n",
    "model.add(Dense(60,  kernel_initializer='random_normal')) # 4th Hidden Layer \n",
    "model.add(LeakyReLU(alpha=0.1)) # Leaky Relu for 4th hidden layer\n",
    "model.add(BatchNormalization())\n",
    "\n",
    "model.add(Dense(80, kernel_initializer='random_normal')) # 5th Hidden Layer\n",
    "model.add(LeakyReLU(alpha=0.1)) # Leaky Relu for 5th hidden layer\n",
    "model.add(BatchNormalization())\n",
    "\n",
    "model.add(Dense(100, kernel_initializer='random_normal')) # 6th Hidden layer\n",
    "model.add(LeakyReLU(alpha=0.1)) # Leaky Relu for 6th hidden layer\n",
    "model.add(BatchNormalization())\n",
    "\n",
    "model.add(Dense(80, kernel_initializer='random_normal')) # 7th Hidden Layer \n",
    "model.add(LeakyReLU(alpha=0.1)) # Leaky Relu for 4th hidden layer\n",
    "model.add(BatchNormalization())\n",
    "\n",
    "\n",
    "model.add(Dense(60, kernel_initializer='random_normal')) # 7th Hidden Layer \n",
    "model.add(LeakyReLU(alpha=0.1)) # Leaky Relu for 4th hidden layer\n",
    "model.add(BatchNormalization())\n",
    "\n",
    "model.add(Dense(40, kernel_initializer='random_normal')) # 7th Hidden Layer \n",
    "model.add(LeakyReLU(alpha=0.1)) # Leaky Relu for 4th hidden layer\n",
    "model.add(BatchNormalization())\n",
    "\n",
    "\n",
    "\n",
    "model.add(Dense(y.shape[1], activation='sigmoid', kernel_initializer='random_normal')) # Output Layer "
   ]
  },
  {
   "cell_type": "code",
   "execution_count": 19,
   "metadata": {},
   "outputs": [
    {
     "data": {
      "text/plain": [
       "93"
      ]
     },
     "execution_count": 19,
     "metadata": {},
     "output_type": "execute_result"
    }
   ],
   "source": [
    "x.shape[1]"
   ]
  },
  {
   "cell_type": "code",
   "execution_count": 20,
   "metadata": {
    "id": "xhwu9nzjaVYA"
   },
   "outputs": [
    {
     "data": {
      "text/plain": [
       "\"\\nfrom tensorflow.keras.callbacks import EarlyStopping\\nbce = tf.keras.losses.BinaryCrossentropy(reduction=tf.keras.losses.Reduction.NONE)\\n\\nmodel.compile(loss=bce, optimizer=keras.optimizers.Adam(), metrics=['accuracy'])\\n\\n#model.compile(optimizer='ADAM', loss= 'mean_squared_error' , metrics = ['accuracy']) \\n\\nmonitor = EarlyStopping(monitor='val_loss', min_delta=0.00001, patience=10, \\n                        verbose=1, mode='max', restore_best_weights=True)\\n\""
      ]
     },
     "execution_count": 20,
     "metadata": {},
     "output_type": "execute_result"
    }
   ],
   "source": [
    "# Compiling Neural network\n",
    "'''\n",
    "from tensorflow.keras.callbacks import EarlyStopping\n",
    "bce = tf.keras.losses.BinaryCrossentropy(reduction=tf.keras.losses.Reduction.NONE)\n",
    "\n",
    "model.compile(loss=bce, optimizer=keras.optimizers.Adam(), metrics=['accuracy'])\n",
    "\n",
    "#model.compile(optimizer='ADAM', loss= 'mean_squared_error' , metrics = ['accuracy']) \n",
    "\n",
    "monitor = EarlyStopping(monitor='val_loss', min_delta=0.00001, patience=10, \n",
    "                        verbose=1, mode='max', restore_best_weights=True)\n",
    "'''"
   ]
  },
  {
   "cell_type": "code",
   "execution_count": 21,
   "metadata": {},
   "outputs": [],
   "source": [
    "from tensorflow.keras.callbacks import LearningRateScheduler\n",
    "lrs = LearningRateScheduler(lambda x: 0.001)"
   ]
  },
  {
   "cell_type": "code",
   "execution_count": 22,
   "metadata": {},
   "outputs": [],
   "source": [
    "from tensorflow.keras.callbacks import EarlyStopping\n",
    "model.compile(optimizer='adam', loss=tf.keras.losses.BinaryCrossentropy(), metrics = ['mean_absolute_error']) \n",
    "#model.compile(optimizer='ADAM', loss='mean_squared_error', metrics = ['mean_absolute_error']) \n",
    "monitor = EarlyStopping(monitor='val_loss', min_delta=0.0001, patience=10, \n",
    "                        verbose=1, mode='auto', restore_best_weights=True)"
   ]
  },
  {
   "cell_type": "code",
   "execution_count": 23,
   "metadata": {
    "colab": {
     "base_uri": "https://localhost:8080/",
     "height": 1000
    },
    "id": "sUm7vYpNaZhk",
    "outputId": "bb1cd85f-4a22-4777-8674-4e053a532b6e"
   },
   "outputs": [
    {
     "name": "stdout",
     "output_type": "stream",
     "text": [
      "Train on 49209 samples, validate on 5468 samples\n",
      "Epoch 1/1000\n",
      "49209/49209 - 3s - loss: 0.6297 - mean_absolute_error: 0.4620 - val_loss: 0.5507 - val_mean_absolute_error: 0.4191\n",
      "Epoch 2/1000\n",
      "49209/49209 - 1s - loss: 0.3699 - mean_absolute_error: 0.2772 - val_loss: 0.3442 - val_mean_absolute_error: 0.2349\n",
      "Epoch 3/1000\n",
      "49209/49209 - 1s - loss: 0.2713 - mean_absolute_error: 0.1711 - val_loss: 0.2948 - val_mean_absolute_error: 0.1812\n",
      "Epoch 4/1000\n",
      "49209/49209 - 1s - loss: 0.2469 - mean_absolute_error: 0.1477 - val_loss: 0.2508 - val_mean_absolute_error: 0.1533\n",
      "Epoch 5/1000\n",
      "49209/49209 - 1s - loss: 0.2351 - mean_absolute_error: 0.1381 - val_loss: 0.2332 - val_mean_absolute_error: 0.1383\n",
      "Epoch 6/1000\n",
      "49209/49209 - 1s - loss: 0.2266 - mean_absolute_error: 0.1324 - val_loss: 0.2284 - val_mean_absolute_error: 0.1363\n",
      "Epoch 7/1000\n",
      "49209/49209 - 1s - loss: 0.2207 - mean_absolute_error: 0.1288 - val_loss: 0.2204 - val_mean_absolute_error: 0.1315\n",
      "Epoch 8/1000\n",
      "49209/49209 - 1s - loss: 0.2167 - mean_absolute_error: 0.1264 - val_loss: 0.2183 - val_mean_absolute_error: 0.1301\n",
      "Epoch 9/1000\n",
      "49209/49209 - 1s - loss: 0.2138 - mean_absolute_error: 0.1248 - val_loss: 0.2140 - val_mean_absolute_error: 0.1269\n",
      "Epoch 10/1000\n",
      "49209/49209 - 1s - loss: 0.2108 - mean_absolute_error: 0.1230 - val_loss: 0.2117 - val_mean_absolute_error: 0.1270\n",
      "Epoch 11/1000\n",
      "49209/49209 - 1s - loss: 0.2074 - mean_absolute_error: 0.1211 - val_loss: 0.2086 - val_mean_absolute_error: 0.1247\n",
      "Epoch 12/1000\n",
      "49209/49209 - 1s - loss: 0.2046 - mean_absolute_error: 0.1198 - val_loss: 0.2066 - val_mean_absolute_error: 0.1225\n",
      "Epoch 13/1000\n",
      "49209/49209 - 1s - loss: 0.2024 - mean_absolute_error: 0.1187 - val_loss: 0.2041 - val_mean_absolute_error: 0.1240\n",
      "Epoch 14/1000\n",
      "49209/49209 - 1s - loss: 0.2010 - mean_absolute_error: 0.1178 - val_loss: 0.2044 - val_mean_absolute_error: 0.1226\n",
      "Epoch 15/1000\n",
      "49209/49209 - 1s - loss: 0.1999 - mean_absolute_error: 0.1173 - val_loss: 0.2024 - val_mean_absolute_error: 0.1202\n",
      "Epoch 16/1000\n",
      "49209/49209 - 1s - loss: 0.1984 - mean_absolute_error: 0.1166 - val_loss: 0.1992 - val_mean_absolute_error: 0.1197\n",
      "Epoch 17/1000\n",
      "49209/49209 - 1s - loss: 0.1970 - mean_absolute_error: 0.1159 - val_loss: 0.1973 - val_mean_absolute_error: 0.1147\n",
      "Epoch 18/1000\n",
      "49209/49209 - 1s - loss: 0.1956 - mean_absolute_error: 0.1152 - val_loss: 0.1966 - val_mean_absolute_error: 0.1152\n",
      "Epoch 19/1000\n",
      "49209/49209 - 1s - loss: 0.1942 - mean_absolute_error: 0.1146 - val_loss: 0.1950 - val_mean_absolute_error: 0.1144\n",
      "Epoch 20/1000\n",
      "49209/49209 - 1s - loss: 0.1927 - mean_absolute_error: 0.1139 - val_loss: 0.1935 - val_mean_absolute_error: 0.1147\n",
      "Epoch 21/1000\n",
      "49209/49209 - 1s - loss: 0.1916 - mean_absolute_error: 0.1133 - val_loss: 0.1934 - val_mean_absolute_error: 0.1156\n",
      "Epoch 22/1000\n",
      "49209/49209 - 1s - loss: 0.1904 - mean_absolute_error: 0.1127 - val_loss: 0.1921 - val_mean_absolute_error: 0.1124\n",
      "Epoch 23/1000\n",
      "49209/49209 - 1s - loss: 0.1898 - mean_absolute_error: 0.1125 - val_loss: 0.1921 - val_mean_absolute_error: 0.1140\n",
      "Epoch 24/1000\n",
      "49209/49209 - 1s - loss: 0.1894 - mean_absolute_error: 0.1123 - val_loss: 0.1913 - val_mean_absolute_error: 0.1144\n",
      "Epoch 25/1000\n",
      "49209/49209 - 1s - loss: 0.1888 - mean_absolute_error: 0.1119 - val_loss: 0.1913 - val_mean_absolute_error: 0.1123\n",
      "Epoch 26/1000\n",
      "49209/49209 - 1s - loss: 0.1884 - mean_absolute_error: 0.1117 - val_loss: 0.1906 - val_mean_absolute_error: 0.1119\n",
      "Epoch 27/1000\n",
      "49209/49209 - 1s - loss: 0.1880 - mean_absolute_error: 0.1115 - val_loss: 0.1896 - val_mean_absolute_error: 0.1122\n",
      "Epoch 28/1000\n",
      "49209/49209 - 1s - loss: 0.1874 - mean_absolute_error: 0.1112 - val_loss: 0.1899 - val_mean_absolute_error: 0.1143\n",
      "Epoch 29/1000\n",
      "49209/49209 - 1s - loss: 0.1871 - mean_absolute_error: 0.1111 - val_loss: 0.1903 - val_mean_absolute_error: 0.1147\n",
      "Epoch 30/1000\n",
      "49209/49209 - 1s - loss: 0.1870 - mean_absolute_error: 0.1109 - val_loss: 0.1889 - val_mean_absolute_error: 0.1125\n",
      "Epoch 31/1000\n",
      "49209/49209 - 1s - loss: 0.1866 - mean_absolute_error: 0.1108 - val_loss: 0.1886 - val_mean_absolute_error: 0.1095\n",
      "Epoch 32/1000\n",
      "49209/49209 - 1s - loss: 0.1861 - mean_absolute_error: 0.1105 - val_loss: 0.1886 - val_mean_absolute_error: 0.1110\n",
      "Epoch 33/1000\n",
      "49209/49209 - 1s - loss: 0.1856 - mean_absolute_error: 0.1103 - val_loss: 0.1882 - val_mean_absolute_error: 0.1126\n",
      "Epoch 34/1000\n",
      "49209/49209 - 1s - loss: 0.1853 - mean_absolute_error: 0.1101 - val_loss: 0.1880 - val_mean_absolute_error: 0.1120\n",
      "Epoch 35/1000\n",
      "49209/49209 - 1s - loss: 0.1854 - mean_absolute_error: 0.1102 - val_loss: 0.1884 - val_mean_absolute_error: 0.1114\n",
      "Epoch 36/1000\n",
      "49209/49209 - 1s - loss: 0.1851 - mean_absolute_error: 0.1100 - val_loss: 0.1874 - val_mean_absolute_error: 0.1115\n",
      "Epoch 37/1000\n",
      "49209/49209 - 1s - loss: 0.1849 - mean_absolute_error: 0.1098 - val_loss: 0.1872 - val_mean_absolute_error: 0.1103\n",
      "Epoch 38/1000\n",
      "49209/49209 - 1s - loss: 0.1843 - mean_absolute_error: 0.1097 - val_loss: 0.1868 - val_mean_absolute_error: 0.1108\n",
      "Epoch 39/1000\n",
      "49209/49209 - 1s - loss: 0.1840 - mean_absolute_error: 0.1095 - val_loss: 0.1869 - val_mean_absolute_error: 0.1102\n",
      "Epoch 40/1000\n",
      "49209/49209 - 1s - loss: 0.1840 - mean_absolute_error: 0.1095 - val_loss: 0.1866 - val_mean_absolute_error: 0.1089\n",
      "Epoch 41/1000\n",
      "49209/49209 - 1s - loss: 0.1837 - mean_absolute_error: 0.1094 - val_loss: 0.1864 - val_mean_absolute_error: 0.1104\n",
      "Epoch 42/1000\n",
      "49209/49209 - 1s - loss: 0.1834 - mean_absolute_error: 0.1092 - val_loss: 0.1866 - val_mean_absolute_error: 0.1099\n",
      "Epoch 43/1000\n",
      "49209/49209 - 1s - loss: 0.1833 - mean_absolute_error: 0.1091 - val_loss: 0.1873 - val_mean_absolute_error: 0.1113\n",
      "Epoch 44/1000\n",
      "49209/49209 - 1s - loss: 0.1832 - mean_absolute_error: 0.1091 - val_loss: 0.1862 - val_mean_absolute_error: 0.1096\n",
      "Epoch 45/1000\n",
      "49209/49209 - 1s - loss: 0.1829 - mean_absolute_error: 0.1089 - val_loss: 0.1869 - val_mean_absolute_error: 0.1114\n",
      "Epoch 46/1000\n",
      "49209/49209 - 1s - loss: 0.1831 - mean_absolute_error: 0.1091 - val_loss: 0.1860 - val_mean_absolute_error: 0.1114\n",
      "Epoch 47/1000\n",
      "49209/49209 - 1s - loss: 0.1827 - mean_absolute_error: 0.1089 - val_loss: 0.1859 - val_mean_absolute_error: 0.1109\n",
      "Epoch 48/1000\n",
      "49209/49209 - 1s - loss: 0.1824 - mean_absolute_error: 0.1087 - val_loss: 0.1858 - val_mean_absolute_error: 0.1096\n",
      "Epoch 49/1000\n",
      "49209/49209 - 1s - loss: 0.1827 - mean_absolute_error: 0.1088 - val_loss: 0.1860 - val_mean_absolute_error: 0.1106\n",
      "Epoch 50/1000\n",
      "49209/49209 - 1s - loss: 0.1824 - mean_absolute_error: 0.1087 - val_loss: 0.1852 - val_mean_absolute_error: 0.1087\n",
      "Epoch 51/1000\n",
      "49209/49209 - 1s - loss: 0.1820 - mean_absolute_error: 0.1085 - val_loss: 0.1862 - val_mean_absolute_error: 0.1132\n",
      "Epoch 52/1000\n",
      "49209/49209 - 1s - loss: 0.1820 - mean_absolute_error: 0.1086 - val_loss: 0.1855 - val_mean_absolute_error: 0.1099\n",
      "Epoch 53/1000\n",
      "49209/49209 - 1s - loss: 0.1827 - mean_absolute_error: 0.1088 - val_loss: 0.1858 - val_mean_absolute_error: 0.1104\n",
      "Epoch 54/1000\n",
      "49209/49209 - 1s - loss: 0.1818 - mean_absolute_error: 0.1085 - val_loss: 0.1854 - val_mean_absolute_error: 0.1109\n",
      "Epoch 55/1000\n",
      "49209/49209 - 1s - loss: 0.1813 - mean_absolute_error: 0.1082 - val_loss: 0.1849 - val_mean_absolute_error: 0.1085\n",
      "Epoch 56/1000\n",
      "49209/49209 - 1s - loss: 0.1812 - mean_absolute_error: 0.1081 - val_loss: 0.1851 - val_mean_absolute_error: 0.1123\n",
      "Epoch 57/1000\n",
      "49209/49209 - 1s - loss: 0.1813 - mean_absolute_error: 0.1083 - val_loss: 0.1852 - val_mean_absolute_error: 0.1104\n",
      "Epoch 58/1000\n",
      "49209/49209 - 1s - loss: 0.1810 - mean_absolute_error: 0.1081 - val_loss: 0.1847 - val_mean_absolute_error: 0.1081\n",
      "Epoch 59/1000\n",
      "49209/49209 - 1s - loss: 0.1807 - mean_absolute_error: 0.1079 - val_loss: 0.1844 - val_mean_absolute_error: 0.1081\n",
      "Epoch 60/1000\n",
      "49209/49209 - 1s - loss: 0.1808 - mean_absolute_error: 0.1080 - val_loss: 0.1850 - val_mean_absolute_error: 0.1113\n",
      "Epoch 61/1000\n",
      "49209/49209 - 1s - loss: 0.1807 - mean_absolute_error: 0.1080 - val_loss: 0.1850 - val_mean_absolute_error: 0.1094\n",
      "Epoch 62/1000\n",
      "49209/49209 - 1s - loss: 0.1807 - mean_absolute_error: 0.1080 - val_loss: 0.1847 - val_mean_absolute_error: 0.1105\n",
      "Epoch 63/1000\n",
      "49209/49209 - 1s - loss: 0.1803 - mean_absolute_error: 0.1079 - val_loss: 0.1845 - val_mean_absolute_error: 0.1092\n",
      "Epoch 64/1000\n",
      "49209/49209 - 1s - loss: 0.1801 - mean_absolute_error: 0.1077 - val_loss: 0.1843 - val_mean_absolute_error: 0.1094\n"
     ]
    },
    {
     "name": "stdout",
     "output_type": "stream",
     "text": [
      "Epoch 65/1000\n",
      "49209/49209 - 1s - loss: 0.1802 - mean_absolute_error: 0.1078 - val_loss: 0.1842 - val_mean_absolute_error: 0.1076\n",
      "Epoch 66/1000\n",
      "49209/49209 - 1s - loss: 0.1801 - mean_absolute_error: 0.1077 - val_loss: 0.1840 - val_mean_absolute_error: 0.1073\n",
      "Epoch 67/1000\n",
      "49209/49209 - 1s - loss: 0.1797 - mean_absolute_error: 0.1076 - val_loss: 0.1842 - val_mean_absolute_error: 0.1104\n",
      "Epoch 68/1000\n",
      "49209/49209 - 1s - loss: 0.1796 - mean_absolute_error: 0.1075 - val_loss: 0.1836 - val_mean_absolute_error: 0.1081\n",
      "Epoch 69/1000\n",
      "49209/49209 - 1s - loss: 0.1794 - mean_absolute_error: 0.1075 - val_loss: 0.1839 - val_mean_absolute_error: 0.1091\n",
      "Epoch 70/1000\n",
      "49209/49209 - 1s - loss: 0.1796 - mean_absolute_error: 0.1075 - val_loss: 0.1842 - val_mean_absolute_error: 0.1099\n",
      "Epoch 71/1000\n",
      "49209/49209 - 1s - loss: 0.1799 - mean_absolute_error: 0.1077 - val_loss: 0.1839 - val_mean_absolute_error: 0.1092\n",
      "Epoch 72/1000\n",
      "49209/49209 - 1s - loss: 0.1794 - mean_absolute_error: 0.1075 - val_loss: 0.1842 - val_mean_absolute_error: 0.1109\n",
      "Epoch 73/1000\n",
      "49209/49209 - 1s - loss: 0.1790 - mean_absolute_error: 0.1074 - val_loss: 0.1832 - val_mean_absolute_error: 0.1089\n",
      "Epoch 74/1000\n",
      "49209/49209 - 1s - loss: 0.1789 - mean_absolute_error: 0.1073 - val_loss: 0.1836 - val_mean_absolute_error: 0.1063\n",
      "Epoch 75/1000\n",
      "49209/49209 - 1s - loss: 0.1787 - mean_absolute_error: 0.1071 - val_loss: 0.1836 - val_mean_absolute_error: 0.1060\n",
      "Epoch 76/1000\n",
      "49209/49209 - 1s - loss: 0.1787 - mean_absolute_error: 0.1072 - val_loss: 0.1836 - val_mean_absolute_error: 0.1087\n",
      "Epoch 77/1000\n",
      "49209/49209 - 1s - loss: 0.1786 - mean_absolute_error: 0.1071 - val_loss: 0.1836 - val_mean_absolute_error: 0.1069\n",
      "Epoch 78/1000\n",
      "49209/49209 - 1s - loss: 0.1787 - mean_absolute_error: 0.1072 - val_loss: 0.1837 - val_mean_absolute_error: 0.1113\n",
      "Epoch 79/1000\n",
      "49209/49209 - 1s - loss: 0.1785 - mean_absolute_error: 0.1072 - val_loss: 0.1837 - val_mean_absolute_error: 0.1105\n",
      "Epoch 80/1000\n",
      "49209/49209 - 1s - loss: 0.1784 - mean_absolute_error: 0.1070 - val_loss: 0.1835 - val_mean_absolute_error: 0.1082\n",
      "Epoch 81/1000\n",
      "49209/49209 - 1s - loss: 0.1783 - mean_absolute_error: 0.1070 - val_loss: 0.1834 - val_mean_absolute_error: 0.1077\n",
      "Epoch 82/1000\n",
      "49209/49209 - 1s - loss: 0.1782 - mean_absolute_error: 0.1070 - val_loss: 0.1835 - val_mean_absolute_error: 0.1100\n",
      "Epoch 83/1000\n",
      "Restoring model weights from the end of the best epoch.\n",
      "49209/49209 - 1s - loss: 0.1780 - mean_absolute_error: 0.1069 - val_loss: 0.1839 - val_mean_absolute_error: 0.1093\n",
      "Epoch 00083: early stopping\n"
     ]
    }
   ],
   "source": [
    "# Fitting Neural network to training set\n",
    "\n",
    "model_history=model.fit(x_train, y_train, validation_data=(x_test, y_test), batch_size=512, verbose=2, callbacks=[monitor, lrs], epochs=1000)"
   ]
  },
  {
   "cell_type": "code",
   "execution_count": null,
   "metadata": {},
   "outputs": [],
   "source": []
  },
  {
   "cell_type": "code",
   "execution_count": 24,
   "metadata": {
    "colab": {
     "base_uri": "https://localhost:8080/",
     "height": 142
    },
    "id": "AT8SOvaeap0x",
    "outputId": "c1eec1b2-94c5-4a80-bc87-7ed372b14acf"
   },
   "outputs": [
    {
     "data": {
      "text/plain": [
       "array([[0., 0., 0., ..., 0., 0., 0.],\n",
       "       [0., 1., 0., ..., 0., 0., 0.],\n",
       "       [0., 0., 0., ..., 0., 0., 0.],\n",
       "       ...,\n",
       "       [1., 1., 0., ..., 0., 0., 0.],\n",
       "       [1., 0., 0., ..., 0., 0., 0.],\n",
       "       [0., 1., 0., ..., 0., 0., 0.]])"
      ]
     },
     "execution_count": 24,
     "metadata": {},
     "output_type": "execute_result"
    }
   ],
   "source": [
    "y_train"
   ]
  },
  {
   "cell_type": "code",
   "execution_count": 25,
   "metadata": {},
   "outputs": [
    {
     "data": {
      "text/plain": [
       "array([[0., 0., 0., ..., 0., 0., 0.],\n",
       "       [1., 1., 0., ..., 0., 0., 0.],\n",
       "       [0., 0., 0., ..., 0., 0., 0.],\n",
       "       ...,\n",
       "       [0., 0., 0., ..., 0., 0., 0.],\n",
       "       [0., 0., 0., ..., 0., 0., 0.],\n",
       "       [0., 0., 0., ..., 0., 1., 0.]])"
      ]
     },
     "execution_count": 25,
     "metadata": {},
     "output_type": "execute_result"
    }
   ],
   "source": [
    "y_test = np.asarray(y_test)\n",
    "x_test = np.asarray(x_test)\n",
    "y_test\n"
   ]
  },
  {
   "cell_type": "code",
   "execution_count": 26,
   "metadata": {},
   "outputs": [
    {
     "data": {
      "text/plain": [
       "(5468, 60)"
      ]
     },
     "execution_count": 26,
     "metadata": {},
     "output_type": "execute_result"
    }
   ],
   "source": [
    "y_test.shape"
   ]
  },
  {
   "cell_type": "code",
   "execution_count": 27,
   "metadata": {
    "colab": {
     "base_uri": "https://localhost:8080/",
     "height": 53
    },
    "id": "jnvop5zhare2",
    "outputId": "f9e033be-f657-4367-e93a-750eee9cc444"
   },
   "outputs": [
    {
     "name": "stdout",
     "output_type": "stream",
     "text": [
      "\r",
      "5468/1 [========================================================================================================================================================================================================================================================================================================================================================================================================================================================================================================================================================================================================================================================================================================================================================================================================================================================================================================================================================================================================================================================================================================================================================================================================================================================================================================================================================================================================================================================================================================================================================================================================================================================================================================================================================================================================================================================================================================================================================================================================================================================================================================================================================================================================================================================================================================================================================================================================================================================================================================================================================================================================================================================================================================================================================================================================================================================================================================================================================================================================================================================================================================================================================================================================================================================================================================================================================================================================================================================================================================================================================================================================================================================================================================================================================================================================================================================================================================================================================================================================================================================================================================================================================================================================================================================================================================================================================================================================================================================================================================================================================================================================================================================================================================================================================================================================================================================================================================================================================================================================================================================================================================================================================================================================================================================================================================================================================================================================================================================================================================================================================================================================================================================================================================================================================================================================================================================================================================================================================================================================================================================================================================================================================================================================================================================================================================================================================================================================================================================================================================================================================================================================================================================================================================================================================================================================================================================================================================================================================================================================================================================================================================================================================================================================================================================================================================================================================================================================================================================================================================================================================================================================================================================================================================================================================================================================================================================================================================================================================================================================================================================================================================================================================================================================================================================================================================================================================================================================================================================================================================================================================================================================================================================================================================================================================================================================================================================================================================================================================================================================================================================================================================================================================================================================================================================================================================================================================================================================================================================================================================================================================================================================================================================================================================================================================================================================================================================================================================================================================================================================================================================================================================================================================================================================================================================================================================================================================================================================================================================================================================================================================================================================================================================================================================================================================================================================================================================================================================================================================================================================================================================================================================================================================================================================================================================================================================================================================================================================================================================================================================================================================================================================================================================================================================================================================================================================================================================================================================================================================================================================================================================================================================================================================================================================================================================================================================================================================================================================================================================================================================================================================================================================================================================================================================================================================================================================================================================================================================================================================================================================================================================================================================================================================================================================================================================================================================================================================================================================================================================================================================================================================================================================================================================================================================================================================================================================================================================================================================================================================================================================================================================================================================================================================================================================================================================================================================================================================================================================================================================================================================================================================================================================================================================================================================================================================================================================================================================================================================================================================================================================================================================================================================================================================================================================================================================================================================================================================================================================================================================================================================================================================================================================================================================================================================================================================================================================================================================================================================================================================================================================================================================================================================================================================================================================================================================================================================================================================================================================================================================================================================================================================================================================================================================================================================================================================================================================================================================================================================================================================================================================================================================================================================================================================================================================================================================================================================================================================================================================================================================================================================================================================================================================================================================================================================================================================================================================================================================================================================================================================================================================================================================================================================================================================================================================================================================================================================================================================================================================================================================================================================================================================================================================================================================================================================================================================================================================================================================================================================================================================================================================================================================================================================================================================================================================================================================================================================================================================================================================================================================================================================================================================================================================================================================================================================================================================================================================================================================================================================================================================================================================================================================================================================================================================================================================================================================================================================================================================================================================================================================================================================================================================================================================================================================================================================================================================================================================================================================================================================================================================================================================================================================================================================================================================================================================================================================================================================================================================================================================================================================================================================================================================================================================================================================================================================================================================================================================================================================================================================================================================================================================================================================================================================================================================================================================================================================================================================================================================================================================================================================================================================================================================================================================================================================================================================================================================================================================================================================================================================================================================================================================================================================================================================================================================================================================================================================================================================================================================================================================================================================================================================================================================================================================================================================================================================================================================================================================================================================================================================================================================================================================================================================================================================================================================================================================================================================================================================================================================================================================================================================================================================================================================================================================================================================================================================================================================================================================================================================================================================================================================================================================================================================================================================================================================================================================================================================================================================================================================================================================================================================================================================================================================================================================================================================================================================================================================================================================================================================================================================================================================================================================================================================================================================================================================================================================================================================================================================================================================================================================================================================================================================================================================================================================================================================================================================================================================================================================================================================================================================================================================================================================================================================================================================================================================================================================================================================================================================================================================================================================================================================================================================================================================================================================================================================================================================================================================================================================================================================================================================================================================================================================================================================================================================================================================================================================================================================================================================================================================================================================================================================================================================================================================================================================================================================================================================================================================================================================================================================================================================================================================================================================================================================================================================================================================================================================================================================================================================================================================================================================================================================================================================================================================================================================================================================================================================================================================================================================================================================================================================================================================================================================================================================================================================================================================================================================================================================================================================================================================================================================================================================================================================================================================================================================================================================================================================================================================================================================================================================================================================================================================================================================================================================================================================================================================================================================================================================================================================================================================================================================================================================================================================================================================================================================================================================================================================================================================================================================================================================================================================================================================================================================================================================================================================================================================================================================================================================================================================================================================================================================================================================================================================================================================================================================================================================================================================================================================================================================================================================================================================================================================================================================================================================================================================================================================================================================================================================================================================================================================================================================================================================================================================================================================================================================================================================================================================================================================================================================================================================================================================================================================================================================================================================================================================================================================================================================================================================================================================================================================================================================================================================================================================================================================================================================================================================================================================================================================================================================================================================================================================================================================================================================================================================================================================================================================================================================================================================================================================================================================================================================================================================================================================================================================================================================================================================================================================================================================================================================================================================================================================================================================================================================================================================================================================================================================================================================================================================================================================================================================================================================================================================================================================================================================================================================================================================================================================================================================================================================================================================================================================================================================================================================================================================================================================================================================================================================================================================================================================================================================================================================================================================================================================================================================================================================================================================================================================================================================================================================================================================================================================================================================================================================================================================================================================================================================================================================================================================================================================================================================================================================================================================================================================================================================================================================================================================================================================================================================================================================================================================================================================================================================================================================================================================================================================================================================================================================================================================================================================================================================================================================================================================================================================================================================================================================================================================================================================================================================================================================================================================================================================================================================================================================================================================================================================================================================================================================================================================================================================================================================================================================================================================================================================================================================================================================================================================================================================================================================================================================================================================================================================================================================================================================================================================================================================================================================================================================================================================================================================================================================================================================================================================================================================================================================================================================================================================================================================================================================================================================================================================================================================================================================================================================================================================================================================================================================================================================================================================================================================================================================================================================================================================================================================================================================================================================================================================================================================================================================================================================================================================================================================================================================================================================================================================================================================================================================================================================================================================================================================================================================================================================================================================================================================================================================================================================================================================================================================================================================================================================================================================================================================================================================================================================================================================================================================================================================================================================================================================================================================================================================================================================================================================================================================================================================================================================================================================================================================================================================================================================================================================================================================================================================================================================================================================================================================================================================================================================================================================================================================================================================================================================================================================================================================================================================================================================================================================================================================================================================================================================================================================================================================================================================================================================================================================================================================================================================================================================================================================================================================================================================================================================================================================================================================================================================================================================================================================================================================================================================================================================================================================================================================================================================================================================================================================================================================================================================================================================================================================================================================================================================================================================================================================================================================================================================================================================================================================================================================================================================================================================================================================================================================================================================================================================================================================================================================================================================================================================================================================================================================================================================================================================================================================================================================================================================================================================================================================================================================================================================================================================================================================================================================================================================================================================================================================================================================================================================================================================================================================================================================================================================================================================================================================================================================================================================================================================================================================================================================================================================================================================================================================================================================================================================================================================================================================================================================================================================================================================================================================================================================================================================================================================================================================================================================================================================================================================================================================================================================================================================================================================================================================================================================================================================================================================================================================================================================================================================================================================================================================================================================================================================================================================================================================================================================================================================================================================================================================================================================================================================================================================================================================================================================================================================================================================================================================================================================================================================================================================================================================================================================================================================================================================================================================================================================================================================================================================================================================================================================================================================================================================================================================================================================================================================================================================================================================================================================================================================================================================================================================================================================================================================================================================================================================================================================================================================================================================================================================================================================================================================================================================================================================================================================================================================================================================================================================================================================================================================================================================================================================================================================================================================================================================================================================================================================================================================================================================================================================================================================================================================================================================================================================================================================================================================================================================================================================================================================================================================================================================================================================================================================================================================================================================================================================================================================================================================================================================================================================================================================================================================================================================================================================================================================================================================================================================================================================================================================================================================================================================================================================================================================================================================================================================================================================================================================================================================================================================================================================================================================================================================================================================================================================================================================================================================================================================================================================================================================================================================================================================================================================================================================================================================================================================================================================================================================================================================================================================================================================================================================================================================================================================================================================================================================================================================================================================================================================================================================================================================================================================================================================================================================================================================================================================================================================================================================================================================================================================================================================================================================================================================================================================================================================================================================================================================================================================================================================================================================================================================================================================================================================================================================================================================================================================================================================================================================================================================================================================================================================================================================================================================================================================================================================================================================================================================================================================================================================================================================================================================================================================================================================================================================================================================================================================================================================================================================================================================================================================================================================================================================================================================================================================================================================================================================================================================================================================================================================================================================================================================================================================================================================================================================================================================================================================================================================================================================================================================================================================================================================================================================================================================================================================================================================================================================================================================================================================================================================================================================================================================================================================================================================================================================================================================================================================================================================================================================================================================================================================================================================================================================================================================================================================================================================================================================================================================================================================================================================================================================================================================================================================================================================================================================================================================================================================================================================================================================================================================================================================================================================================================================================================================================================================================================================================================================================================================================================================================================================================================================================================================================================================================================================================================================================================================================================================================================================================================================================================================================================================================================================================================================================================================================================================================================================================================================================================================================================================================================================================================================================================================================================================================================================================================================================================================================================================================================================================================================================================================================================================================================================================================================================================================================================================================================================================================================================================================================================================================================================================================================================================================================================================================================================================================================================================================================================================================================================================================================================================================================================================================================================================================================================================================================================================================================================================================================================================================================================================================================================================================================================================================================================================================================================================================================================================================================================================================================================================================================================================================================================================================================================================================================================================================================================================================================================================================================================================================================================================================================================================================================================================================================================================================================================================================================================================================================================================================================================================================================================================================================================================================================================================================================================================================================================================================================================================================================================================================================================================================================================================================================================================================================================================================================================================================================================================================================================================================================================================================================================================================================================================================================================================================================================================================================================================================================================================================================================================================================================================================================================================================================================================================================================================================================================================================================================================================================================================================================================================================================================================================================================================================================================================================================================================================================================================================================================================================================================================================================================================================================================================================================================================================================================================================================================================================================================================================================================================================================================================================================================================================================================================================================================================================================================================================================================================================================================================================================================================================================================================================================================================================================================================================================================================================================================================================================================================================================================================================================================================================================================================================================================================================================================================================================================================================================================================================================================================================================================================================================================================================================================================================================================================================================================================================================================================================================================================================================================================================================================================================================================================================================================================================================================================================================================================================================================================================================================================================================================================================================================================================================================================================================================================================================================================================================================================================================================================================================================================================================================================================================================================================================================================================================================================================================================================================================================================================================================================================================================================================================================================================================================================================================================================================================================================================================================================================================================================================================================================================================================================================================================================================================================================================================================================================================================================================================================================================================================================================================================================================================================================================================================================================================================================================================================================================================================================================================================================================================================================================================================================================================================================================================================================================================================================================================================================================================================================================================================================================================================================================================================================================================================================================================================================================================================================================================================================================================================================================================================================================================================================================================================================================================================================================================================================================================================================================================================================================================================================================================================================================================================================================================================================================================================================================================================================================================================================================================================================================================================================================================================================================================================================================================================================================================================================================================================================================================================================================================================================================================================================================================================================================================================================================================================================================================================================================================================================================================================================================================================================================================================================================================================================================================================================================================================================================================================================================================================================================================================================================================================================================================================================================================================================================================================================================================================================================================================================================================================================================================================================================================================================================================================================================================================================================================================================================================================================================================================================================================================================================================================================================================================================================================================================================================================================================================================================================================================================================================================================================================================================================================================================================================================================================================================================================================================================================================================================================================================================================================================================================================================================================================================================================================================================================================================================================================================================================================================================================================================================================================================================================================================================================================================================================================================================================================================================================================================================================================================================================================================================================================================================================================================================================================================================================================================================================================================================================================================================================================================================================================================================================================================================================================================================================================================================================================================================================================================================================================================================================================================================================================================================================================================================================================================================================================================================================================================================================================================================================================================================================================================================================================================================================================================================================================================================================================================================================================================================================================================================================================================================================================================================================================================================================================================================================================================================================================================================================================================================================================================================================================================================================================================================================================================================================================================================================================================================================================================================================================================================================================================================================================================================================================================================================================================================================================================================================================================================================================================================================================================================================================================================================================================================================================================================================================================================================================================================================================================================================================================================================================================================================================================================================================================================================================================================================================================================================================================================================================================================================================================================================================================================================================================================================================================================================================================================================================================================================================================================================================================================================================================================================================================================================================================================================================================================================================================================================================================================================================================================================================================================================================================================================================================================================================================================================================================================================================================================================================================================================================================================================================================================================================================================================================================================================================================================================================================================================================================================================================================================================================================================================================================================================================================================================================================================================================================================================================================================================================================================================================================================================================================================================================================================================================================================================================================================================================================================================================================================================================================================================================================================================================================================================================================================================================================================================================================================================================================================================================================================================================================================================================================================================================================================================================================================================================================================================================================================================================================================================================================================================================================================================================================================================================================================================================================================================================================================================================================================================================================================================================================================================================================================================================================================================================================================================================================================================================================================================================================================================================================================================================================================================================================================================================================================================================================================================================================================================================================================================================================================================================================================================================================================================================================================================================================================================================================================================================================================================================================================================================================================================================================================================================================================================================================================================================================================================================================================================================================================================================================================================================================================================================================================================================================================================================================================================================================================================================================================================================================================================================================================================================================================================================================================================================================================================================================================================================================================================================================================================================================================================================================================================================================================================================================================================================================================================================================================================================================================================================================================================================================================================================================================================================================================================================================================================================================================================================================================================================================================================================================================================================================================================================================================================================================================================================================================================================================================================================================================================================================================================================================================================================================================================================================================================================================================================================================================================================================================================================================================================================================================================================================================================================================================================================================================================================================================================================================================================================================================================================================================================================================================================================================================================================================================================================================================================================================================================================================================================================================================================================================================================================================================================================================================================================================================================================================================================================================================================================================================================================================================================================================================================================================================================================================================================================================================================================================================================================================================================================================================================================================================================================================================================================================================================================================================================================================================================================================================================================================================================================================================================================================================================================================================================================================================================================================================================================================================================================================================================================================================================================================================================================================================================================================================================================================================================================================================================================================================================================================================================================================================================================================================================================================================================================================================================================================================================================================================================================================================================================================================================================================================================================================================================================================================================================================================================================================================================================================================================================================================================================================================================================================================================================================================================================================================================================================================================================================================================================================================================================================================================================================================================================================================================================================================================================================================================================================================================================================================================================================================================================================================================================================================================================================================================================================================================================================================================================================================================================================================================================================================================================================================================================================================================================================================================================================================================================================================================================================================================================================================================================================================================================================================================================================================================================================================================================================================================================================================================================================================================================================================================================================================================================================================================================================================================================================================================================================================================================================================================================================================================================================================================================================================================================================================================================================================================================================================================================================================================================================================================================================================================================================================================================================================================================================================================================================================================================================================================================================================================================================================================================================================================================================================================================================================================================================================================================================================================================================================================================================================================================================================================================================================================================================================================================================================================================================================================================================================================================================================================================================================================================================================================================================================================================================================================================================================================================================================================================================================================================================================================================================================================================================================================================================================================================================================================================================================================================================================================================================================================================================================================================================================================================================================================================================================================================================================================================================================================================================================================================================================================================================================================================================================================================================================================================================================================================================================================================================================================================================================================================================================================================================================================================================================================================================================================================================================================================================================================================================================================================================================================================================================================================================================================================================================================================================================================================================================================================================================================================================================================================================================================================================================================================================================================================================================================================================================================================================================================================================================================================================================================================================================================================================================================================================================================================================================================================================================================================================================================================================================================================================================================================================================================================================================================================================================================================================================================================================================================================================================================================================================================================================================================================================================================================================================================================================================================================================================================================================================================================================================================================================================================================================================================================================================================================================================================================================================================================================================================================================================================================================================================================================================================================================================================================================================================================================================================================================================================================================================================================================================================================================================================================================================================================================================================================================================================================================================================================================================================================================================================================================================================================================================================================================================================================================================================================================================================================================================================================================================================================================================================================================================================================================================================================================================================================================================================================================================================================================================================================================================================================================================================================================================================================================================================================================================================================================================================================================================================================================================================================================================================================================================================================================================================================================================================================================================================================================================================================================================================================================================================================================================================================================================================================================================================================================================================================================================================================================================================================================================================================================================================================================================================================================================================================================================================================================================================================================================================================================================================================================================================================================================================================================================================================================================================================================================================================================================================================================================================================================================================================================================================================================================================================================================================================================================================================================================================================================================================================================================================================================================================================================================================================================================================================================================================================================================================================================================================================================================================================================================================================================================================================================================================================================================================================================================================================================================================================================================================================================================================================================================================================================================================================================================================================================================================================================================================================================================================================================================================================================================================================================================================================================================================================================================================================================================================================================================================================================================================================================================================================================================================================================================================================================================================================================================================================================================================================================================================================================================================================================================================================================================================================================================================================================================================================================================================================================================================================================================================================================================================================================================================================================================================================================================================================================================================================================================================================================================================================================================================================================================================================================================================================================================================================================================================================================================================================================================================================================================================================================================================================================================================================================================================================================================================================================================================================================================================================================================================================================================================================================================================================================================================================================================================================================================================================================================================================================================================================================================================================================================================================================================================================================================================================================================================================================================================================================================================================================================================================================================================================================================================================================================================================================================================================================================================================================================================================================================================================================================================================================================================================================================================================================================================================================================================================================================================================================================================================================================================================================================================================================================================================================================================================================================================================================================================================================================================================================================================================================================================================================================================================================================================================================================================================================================================================================================================================================================================================================================================================================================================================================================================================================================================================================================================================================================================================================================================================================================================================================================================================================================================================================================================================================================================================================================================================================================================================================================================================================================================================================================================================================================================================================================================================================================================================================================================================================================================================================================================================================================================================================================================================================================================================================================================================================================================================================================================================================================================================================================================================================================================================================================================================================================================================================================================================================================================================================================================================================================================================================================================================================================================================================================================================================================================================================================================================================================================================================================================================================================================================================================================================================================================================================================================================================================================================================================================================================================================================================================================================================================================================================================================================================================================================================================================================================================================================================================================================================================================================================================================================================================================================================================================================================================================================================================================================================================================================================================================================================================================================================================================================================================================================================================================================================================================================================================================================================================================================================================================================================================================================================================================================================================================================================================================================================================================================================================================================================================================================================================================================================================================================================================================================================================================================================================================================================================================================================================================================================================================================================================================================================================================================================================================================================================================================================================================================================================================================================================================================================================================================================================================================================================================================================================================================================================================================================================================================================================================================================================================================================================================================================================================================================================================================================================================================================================================================================================================================================================================================================================================================================================================================================================================================================================================================================================================================================================================================================================================================================================================================================================================================================================================================================================================================================================================================================================================================================================================================================================================================================================================================================================================================================================================================================================================================================================================================================================================================================================================================================================================================================================================================================================================================================================================================================================================================================================================================================================================================================================================================================================================================================================================================================================================================================================================================================================================================================================================================================================================================================================================================================================================================================================================================================================================================================================================================================================================================================================================================================================================================================================================================================================================================================================================================================================================================================================================================================================================================================================================================================================================================================================================================================================================================================================================================================================================================================================================================================================================================================================================================================================================================================================================================================================================================================================================================================================================================================================================================================================================================================================================================================================================================================================================================================================================================================================================================================================================================================================================================================================================================================================================================================================================================================================================================================================================================================================================================================================================================================================================================================================================================================================================================================================================================================================================================================================================================================================================================================================================================================================================================================================================================================================================================================================================================================================================================================================================================================================================================================================================================================================================================================================================================================================================================================================================================================================================================================================================================================================================================================================================================================================================================================================================================================================================================================================================================================================================================================================================================================================================================================================================================================================================================================================================================================================================================================================================================================================================================================================================================================================================================================================================================================================================================================================================================================================================================================================================================================================================================================================================================================================================================================================================================================================================================================================================================================================================================================================================================================================================================================================================================================================================================================================================================================================================================================================================================================================================================================================================================================================================================================================================================================================================================================================================================================================================================================================================================================================================================================================================================================================================================================================================================================================================================================================================================================================================================================================================================================================================================================================================================================================================================================================================================================================================================================================================================================================================================================================================================================================================================================================================================================================================================================================================================================================================================================================================================================================================================================================================================================================================================================================================================================================================================================================================================================================================================================================================================================================================================================================================================================================================================================================================================================================================================================================================================================================================================================================================================================================================================================================================================================================================================================================================================================================================================================================================================================================================================================================================================================================================================================================================================================================================================================================================================================================================================================================================================================================================================================================================================================================================================================================================================================================================================================================================================================================================================================================================================================================================================================================================================================================================================================================================================================================================================================================================================================================================================================================================================================================================================================================================================================================================================================================================================================================================================================================================================================================================================================================================================================================================================================================================================================================================================================================================================================================================================================================================================================================================================================================================================================================================================================================================================================================================================================================================================================================================================================================================================================================================================================================================================================================================================================================================================================================================================================================================================================================================================================================================================================================================================================================================================================================================================================================================================================================================================================================================================================================================================================================================================================================================================================================================================================================================================================================================================================================================================================================================================================================================================================================================================================================================================================================================================================================================================================================================================================================================================================================================================================================================================================================================================================================================================================================================================================================================================================================================================================================================================================================================================================================================================================================================================================================================================================================================================================================================================================================================================================================================================================================================================================================================================================================================================================================================================================================================================================================================================================================================================================================================================================================================================================================================================================================================================================================================================================================================================================================================================================================================================================================================================================================================================================================================================================================================================================================================================================================================================================================================================================================================================================================================================================================================================================================================================================================================================================================================================================================================================================================================================================================================================================================================================================================================================================================================================================================================================================================================================================================================================================================================================================================================================================================================================================================================================================================================================================================================================================================================================================================================================================================================================================================================================================================================================================================================================================================================================================================================================================================================================================================================================================================================================================================================================================================================================================================================================================================================================================================================================================================================================================================================================================================================================================================================================================================================================================================================================================================================================================================================================================================================================================================================================================================================================================================================================================================================================================================================================================================================================================================================================================================================================================================================================================================================================================================================================================================================================================================================================================================================================================================================================================================================================================================================================================================================================================================================================================================================================================================================================================================================================================================================================================================================================================================================================================================================================================================================================================================================================================================================================================================================================================================================================================================================================================================================================================================================================================================================================================================================================================================================================================================================================================================================================================================================================================================================================================================================================================================================================================================================================================================================================================================================================================================================================================================================================================================================================================================================================================================================================================================================================================================================================================================================================================================================================================================================================================================================================================================================================================================================================================================================================================================================================================================================================================================================================================================================================================================================================================================================================================================================================================================================================================================================================================================================================================================================================================================================================================================================================================================================================================================================================================================================================================================================================================================================================================================================================================================================================================================================================================================================================================================================================================================================================================================================================================================================================================================================================================================================================================================================================================================================================================================================================================================================================================================================================================================================================================================================================================================================================================================================================================================================================================================================================================================================================================================================================================================================================================================================================================================================================================================================================================================================================================================================================================================================================================================================================================================================================================================================================================================================================================================================================================================================================================================================================================================================================================================================================================================================================================================================================================================================================================================================================================================================================================================================================================================================================================================================================================================================================================================================================================================================================================================================================================================================================================================================================================================================================================================================================================================================================================================================================================================================================================================================================================================================================================================================================================================================================================================================================================================================================================================================================================================================================================================================================================================================================================================================================================================================================================================================================================================================================================================================================================================================================================================================================================================================================================================================================================================================================================================================================================================================================================================================================================================================================================================================================================================================================================================================================================================================================================================================================================================================================================================================================================================================================================================================================================================================================================================================================================================================================================================================================================================================================================================================================================================================================================================================================================================================================================================================================================================================================================================================================================================================================================================================================================================================================================================================================================================================================================================================================================================================================================================================================================================================================================================================================================================================================================================================================================================================================================================================================================================================================================================================================================================================================================================================================================================================================================================================================================================================================================================================================================================================================================================================================================================================================================================================================================================================================================================================================================================================================================================================================================================================================================================================================================================================================================================================================================================================================================================================================================================================================================================================================================================================================================================================================================================================================================================================================================================================================================================================================================================================================================================================================================================================================================================================================================================================================================================================================================================================================================================================================================================================================================================================================================================================================================================================================================================================================================================================================================================================================================================================================================================================================================================================================================================] - 0s 36us/sample - loss: 0.1998 - mean_absolute_error: 0.1089\n"
     ]
    },
    {
     "data": {
      "text/plain": [
       "[0.1832476742810896, 0.10885354]"
      ]
     },
     "execution_count": 27,
     "metadata": {},
     "output_type": "execute_result"
    }
   ],
   "source": [
    "# To evaluate model test loss\n",
    "\n",
    "test_loss = model.evaluate(x_test, y_test)\n",
    "test_loss"
   ]
  },
  {
   "cell_type": "code",
   "execution_count": 28,
   "metadata": {},
   "outputs": [
    {
     "data": {
      "text/plain": [
       "(5468, 93)"
      ]
     },
     "execution_count": 28,
     "metadata": {},
     "output_type": "execute_result"
    }
   ],
   "source": [
    "\n",
    "x_test.shape"
   ]
  },
  {
   "cell_type": "code",
   "execution_count": 29,
   "metadata": {},
   "outputs": [
    {
     "data": {
      "text/plain": [
       "(5468, 60)"
      ]
     },
     "execution_count": 29,
     "metadata": {},
     "output_type": "execute_result"
    }
   ],
   "source": [
    "y_test.shape"
   ]
  },
  {
   "cell_type": "code",
   "execution_count": 30,
   "metadata": {
    "colab": {
     "base_uri": "https://localhost:8080/",
     "height": 280
    },
    "id": "K6jxwKI-au9s",
    "outputId": "4824a9db-6941-4ac8-87d8-5d749bc8497d"
   },
   "outputs": [
    {
     "data": {
      "image/png": "[encoded data removed]",
      "text/plain": [
       "<Figure size 432x288 with 1 Axes>"
      ]
     },
     "metadata": {
      "needs_background": "light"
     },
     "output_type": "display_data"
    }
   ],
   "source": [
    "# To plot training loss only\n",
    "\n",
    "loss = model_history.history['loss']\n",
    "epochs = range(1, len(loss)+1)\n",
    "plt.plot(epochs, loss, 'ro', label='Training loss')\n",
    "plt.xlabel('epoch')\n",
    "plt.legend()\n",
    "plt.show()"
   ]
  },
  {
   "cell_type": "code",
   "execution_count": 31,
   "metadata": {
    "colab": {
     "base_uri": "https://localhost:8080/",
     "height": 313
    },
    "id": "gr4ZQqHQayfv",
    "outputId": "b292d2fe-9161-4bfc-9b6f-fe09e9543f33"
   },
   "outputs": [
    {
     "name": "stdout",
     "output_type": "stream",
     "text": [
      "dict_keys(['loss', 'mean_absolute_error', 'val_loss', 'val_mean_absolute_error', 'lr'])\n"
     ]
    },
    {
     "data": {
      "image/png": "[encoded data removed]",
      "text/plain": [
       "<Figure size 432x288 with 1 Axes>"
      ]
     },
     "metadata": {
      "needs_background": "light"
     },
     "output_type": "display_data"
    }
   ],
   "source": [
    "# list all data in history\n",
    "\n",
    "print(model_history.history.keys())\n",
    "\n",
    "# summarize history for accuracy\n",
    "acc = model_history.history['mean_absolute_error']\n",
    "val_acc = model_history.history['val_mean_absolute_error']\n",
    "\n",
    "plt.plot(acc)\n",
    "plt.plot(val_acc)\n",
    "plt.title('model accuracy')\n",
    "plt.ylabel('Mean Absolute Error')\n",
    "plt.xlabel('epoch')\n",
    "plt.legend(['train', 'test'], loc='upper right')\n",
    "plt.savefig('accuracy_3_layer.pdf')\n",
    "plt.show()"
   ]
  },
  {
   "cell_type": "code",
   "execution_count": 32,
   "metadata": {
    "colab": {
     "base_uri": "https://localhost:8080/",
     "height": 295
    },
    "id": "pgrdmzrca2id",
    "outputId": "7698718b-fba5-415a-c5a5-abfbfe868c6c"
   },
   "outputs": [
    {
     "data": {
      "image/png": "[encoded data removed]",
      "text/plain": [
       "<Figure size 432x288 with 1 Axes>"
      ]
     },
     "metadata": {
      "needs_background": "light"
     },
     "output_type": "display_data"
    }
   ],
   "source": [
    "# summarize history for loss\n",
    "\n",
    "loss = model_history.history['loss']\n",
    "val_loss = model_history.history['val_loss']\n",
    "plt.plot(loss)\n",
    "plt.plot(val_loss)\n",
    "plt.title('model loss')\n",
    "plt.ylabel('loss')\n",
    "plt.xlabel('epoch')\n",
    "plt.legend(['train', 'test'], loc='upper right')\n",
    "plt.savefig('loss_3_layer.pdf')\n",
    "plt.show()"
   ]
  },
  {
   "cell_type": "code",
   "execution_count": 33,
   "metadata": {
    "colab": {
     "base_uri": "https://localhost:8080/",
     "height": 249
    },
    "id": "V_KxSfNKa666",
    "outputId": "c668ae3d-01ef-4869-e191-af2122733da1"
   },
   "outputs": [
    {
     "data": {
      "text/plain": [
       "array([[4.0233135e-06, 3.0406713e-03, 1.3952732e-02, ..., 5.2097142e-02,\n",
       "        8.7237060e-03, 4.3094158e-05],\n",
       "       [9.9999988e-01, 9.8944861e-01, 2.1251857e-02, ..., 2.7646720e-01,\n",
       "        6.2455535e-03, 2.6106834e-05],\n",
       "       [1.9550323e-05, 2.5047660e-03, 2.5351346e-03, ..., 1.2647361e-02,\n",
       "        9.2913806e-03, 5.3048134e-06],\n",
       "       ...,\n",
       "       [1.7583370e-06, 4.3061376e-04, 2.8139353e-04, ..., 2.1315157e-02,\n",
       "        8.5282266e-02, 2.6953220e-04],\n",
       "       [0.0000000e+00, 5.1736236e-03, 8.3297491e-05, ..., 1.6240478e-02,\n",
       "        2.1937001e-01, 5.9723854e-05],\n",
       "       [1.8715858e-05, 1.7544329e-03, 3.8197935e-03, ..., 1.6336051e-01,\n",
       "        5.4908723e-02, 1.6242266e-05]], dtype=float32)"
      ]
     },
     "execution_count": 33,
     "metadata": {},
     "output_type": "execute_result"
    }
   ],
   "source": [
    "# Making the predictions for testing\n",
    "\n",
    "# Predicting the Test set results\n",
    "y_pred = model.predict(x_test) \n",
    "y_pred"
   ]
  },
  {
   "cell_type": "code",
   "execution_count": 34,
   "metadata": {
    "colab": {
     "base_uri": "https://localhost:8080/",
     "height": 142
    },
    "id": "nTiknlOLaTPp",
    "outputId": "70722f3f-835d-4abe-ca27-4cd0d3b285f1"
   },
   "outputs": [
    {
     "data": {
      "text/plain": [
       "(5468, 60)"
      ]
     },
     "execution_count": 34,
     "metadata": {},
     "output_type": "execute_result"
    }
   ],
   "source": [
    "y_test.shape\n"
   ]
  },
  {
   "cell_type": "code",
   "execution_count": 35,
   "metadata": {
    "id": "5x9nZKCHa9ZI"
   },
   "outputs": [
    {
     "data": {
      "text/plain": [
       "(5468, 60)"
      ]
     },
     "execution_count": 35,
     "metadata": {},
     "output_type": "execute_result"
    }
   ],
   "source": [
    "y_pred.shape"
   ]
  },
  {
   "cell_type": "code",
   "execution_count": 36,
   "metadata": {
    "id": "ACY5x1V7a_vo"
   },
   "outputs": [
    {
     "name": "stdout",
     "output_type": "stream",
     "text": [
      "Test Mean Squared error (MSE): 0.05479373809496784\n",
      "Test Root mean squared error (RMSE): 0.23408062306600227\n",
      "Test Mean absolute error (MAE): 0.10885351240277556\n"
     ]
    }
   ],
   "source": [
    "# Evaluating the model # Test error\n",
    "\n",
    "# Measure MSE error  \n",
    "mse_test = metrics.mean_squared_error(y_test, y_pred)\n",
    "print(\"Test Mean Squared error (MSE): {}\".format(mse_test))\n",
    "\n",
    "# Measure RMSE error \n",
    "rmse_test = np.sqrt(metrics.mean_squared_error(y_test, y_pred))\n",
    "print(\"Test Root mean squared error (RMSE): {}\".format(rmse_test))\n",
    "\n",
    "# Measure MAE error\n",
    "mae_test = metrics.mean_absolute_error(y_test, y_pred)\n",
    "print(\"Test Mean absolute error (MAE): {}\".format(mae_test))"
   ]
  },
  {
   "cell_type": "code",
   "execution_count": 37,
   "metadata": {
    "id": "EpTj4zULbQMd"
   },
   "outputs": [
    {
     "data": {
      "text/plain": [
       "array([[2.45571136e-05, 1.23500824e-02, 7.36531615e-03, ...,\n",
       "        2.82341242e-01, 8.81835818e-03, 4.09185886e-05],\n",
       "       [2.09212303e-05, 1.40707999e-01, 1.56285018e-01, ...,\n",
       "        1.66674107e-01, 2.00897455e-03, 5.75184822e-06],\n",
       "       [7.56591558e-04, 2.28699446e-02, 1.13213062e-02, ...,\n",
       "        1.95754230e-01, 1.32455826e-02, 5.48958778e-05],\n",
       "       ...,\n",
       "       [1.00000000e+00, 9.99994874e-01, 3.72714639e-01, ...,\n",
       "        3.19134593e-02, 1.29615963e-02, 1.41859055e-05],\n",
       "       [9.99876499e-01, 2.56252289e-03, 6.73860312e-04, ...,\n",
       "        1.71162695e-01, 3.26412916e-02, 1.62124634e-05],\n",
       "       [5.01275063e-05, 1.40668333e-01, 8.59284103e-02, ...,\n",
       "        1.06970221e-02, 4.61353473e-02, 3.41535197e-05]], dtype=float32)"
      ]
     },
     "execution_count": 37,
     "metadata": {},
     "output_type": "execute_result"
    }
   ],
   "source": [
    "# Making the predictions for training\n",
    "\n",
    "# Predicting the Training set results\n",
    "y_pred_train = model.predict(x_train) \n",
    "y_pred_train"
   ]
  },
  {
   "cell_type": "code",
   "execution_count": 38,
   "metadata": {
    "id": "Of9BhiCTbU01"
   },
   "outputs": [
    {
     "data": {
      "text/plain": [
       "(49209, 60)"
      ]
     },
     "execution_count": 38,
     "metadata": {},
     "output_type": "execute_result"
    }
   ],
   "source": [
    "y_pred_train.shape "
   ]
  },
  {
   "cell_type": "code",
   "execution_count": 39,
   "metadata": {
    "id": "FWK7_bNJbXME"
   },
   "outputs": [
    {
     "name": "stdout",
     "output_type": "stream",
     "text": [
      "Training Mean Squared error (MSE): 0.053122172867249504\n",
      "Training Root mean squared error (RMSE): 0.230482478438708\n",
      "Training Mean absolute error (MAE): 0.10703857241816937\n"
     ]
    }
   ],
   "source": [
    "# Evaluating the model # Training error\n",
    "\n",
    "# Measure MSE error  \n",
    "mse_train = metrics.mean_squared_error(y_train, y_pred_train)\n",
    "print(\"Training Mean Squared error (MSE): {}\".format(mse_train))\n",
    "\n",
    "# Measure RMSE error \n",
    "rmse_train = np.sqrt(metrics.mean_squared_error(y_train, y_pred_train))\n",
    "print(\"Training Root mean squared error (RMSE): {}\".format(rmse_train))\n",
    "\n",
    "# Measure MAE error\n",
    "mae_train = metrics.mean_absolute_error(y_train, y_pred_train)\n",
    "print(\"Training Mean absolute error (MAE): {}\".format(mae_train))"
   ]
  },
  {
   "cell_type": "code",
   "execution_count": 40,
   "metadata": {
    "id": "1Yw2ek-lRAmD"
   },
   "outputs": [
    {
     "data": {
      "text/plain": [
       "array([4.0233135e-06, 3.0406713e-03, 1.3952732e-02, ..., 1.6336051e-01,\n",
       "       5.4908723e-02, 1.6242266e-05], dtype=float32)"
      ]
     },
     "execution_count": 40,
     "metadata": {},
     "output_type": "execute_result"
    }
   ],
   "source": [
    "y_pred_flat = y_pred.flatten()\n",
    "y_pred_flat"
   ]
  },
  {
   "cell_type": "code",
   "execution_count": 41,
   "metadata": {
    "id": "zrHf4K-yRWEW"
   },
   "outputs": [
    {
     "data": {
      "text/plain": [
       "array([0., 0., 0., ..., 0., 1., 0.])"
      ]
     },
     "execution_count": 41,
     "metadata": {},
     "output_type": "execute_result"
    }
   ],
   "source": [
    "y_test_flat = y_test.flatten()\n",
    "y_test_flat"
   ]
  },
  {
   "cell_type": "code",
   "execution_count": 42,
   "metadata": {
    "id": "3sCT93VyRYOz"
   },
   "outputs": [
    {
     "name": "stdout",
     "output_type": "stream",
     "text": [
      "R2 Score Test: 0.5016921577077482\n"
     ]
    }
   ],
   "source": [
    "# Regression score for test\n",
    "\n",
    "r2_score_test = metrics.r2_score(y_test_flat, y_pred_flat)\n",
    "print(\"R2 Score Test: {}\".format(r2_score_test))"
   ]
  },
  {
   "cell_type": "code",
   "execution_count": 43,
   "metadata": {
    "id": "5oZLTaS6Rdpb"
   },
   "outputs": [
    {
     "data": {
      "text/plain": [
       "array([2.4557114e-05, 1.2350082e-02, 7.3653162e-03, ..., 1.0697022e-02,\n",
       "       4.6135347e-02, 3.4153520e-05], dtype=float32)"
      ]
     },
     "execution_count": 43,
     "metadata": {},
     "output_type": "execute_result"
    }
   ],
   "source": [
    "y_pred_train_flat = y_pred_train.flatten()\n",
    "y_pred_train_flat"
   ]
  },
  {
   "cell_type": "code",
   "execution_count": 44,
   "metadata": {
    "id": "imceUpMlRfrV"
   },
   "outputs": [
    {
     "data": {
      "text/plain": [
       "array([0., 0., 0., ..., 0., 0., 0.])"
      ]
     },
     "execution_count": 44,
     "metadata": {},
     "output_type": "execute_result"
    }
   ],
   "source": [
    "y_train_flat = y_train.flatten()\n",
    "y_train_flat"
   ]
  },
  {
   "cell_type": "code",
   "execution_count": 45,
   "metadata": {
    "id": "IywAjABTRjex"
   },
   "outputs": [
    {
     "name": "stdout",
     "output_type": "stream",
     "text": [
      "R2 Score Train: 0.5170080651518305\n"
     ]
    }
   ],
   "source": [
    "# Regression score for training\n",
    "\n",
    "r2_score_train = metrics.r2_score(y_train_flat, y_pred_train_flat)\n",
    "print(\"R2 Score Train: {}\".format(r2_score_train))"
   ]
  },
  {
   "cell_type": "code",
   "execution_count": 46,
   "metadata": {
    "id": "hr_f0cdyWpil"
   },
   "outputs": [],
   "source": [
    "######################### Constraint verification for test data ##########################"
   ]
  },
  {
   "cell_type": "code",
   "execution_count": 47,
   "metadata": {
    "colab": {
     "base_uri": "https://localhost:8080/",
     "height": 249
    },
    "id": "aS9k-9lwW0hY",
    "outputId": "32c16051-3a86-49a8-d7cb-77e547ad3e64"
   },
   "outputs": [
    {
     "data": {
      "text/plain": [
       "array([[4.0233135e-06, 3.0406713e-03, 1.3952732e-02, ..., 5.2097142e-02,\n",
       "        8.7237060e-03, 4.3094158e-05],\n",
       "       [9.9999988e-01, 9.8944861e-01, 2.1251857e-02, ..., 2.7646720e-01,\n",
       "        6.2455535e-03, 2.6106834e-05],\n",
       "       [1.9550323e-05, 2.5047660e-03, 2.5351346e-03, ..., 1.2647361e-02,\n",
       "        9.2913806e-03, 5.3048134e-06],\n",
       "       ...,\n",
       "       [1.7583370e-06, 4.3061376e-04, 2.8139353e-04, ..., 2.1315157e-02,\n",
       "        8.5282266e-02, 2.6953220e-04],\n",
       "       [0.0000000e+00, 5.1736236e-03, 8.3297491e-05, ..., 1.6240478e-02,\n",
       "        2.1937001e-01, 5.9723854e-05],\n",
       "       [1.8715858e-05, 1.7544329e-03, 3.8197935e-03, ..., 1.6336051e-01,\n",
       "        5.4908723e-02, 1.6242266e-05]], dtype=float32)"
      ]
     },
     "execution_count": 47,
     "metadata": {},
     "output_type": "execute_result"
    }
   ],
   "source": [
    "y_pred = model.predict(x_test)\n",
    "y_pred"
   ]
  },
  {
   "cell_type": "code",
   "execution_count": 48,
   "metadata": {
    "colab": {
     "base_uri": "https://localhost:8080/",
     "height": 249
    },
    "id": "qdcimHOXZsH2",
    "outputId": "1585d70d-b16d-4e2a-d7d5-6f381a4521fd"
   },
   "outputs": [
    {
     "data": {
      "text/plain": [
       "array([[-0.19662979, -0.2040936 , -1.00580849, ...,  0.92634588,\n",
       "        -0.92693223,  0.19560278],\n",
       "       [ 1.36949557,  1.60061641,  0.99422505, ...,  0.2395976 ,\n",
       "        -1.27212598,  0.65061739],\n",
       "       [-0.008747  , -0.79347028, -1.00580849, ...,  0.29462774,\n",
       "         0.0270619 , -0.16989679],\n",
       "       ...,\n",
       "       [ 1.37697763, -1.36806059, -1.00580849, ..., -1.11929947,\n",
       "        -1.075764  ,  1.41151255],\n",
       "       [ 1.36385434, -0.09393806, -1.00580849, ..., -1.38780138,\n",
       "        -0.86408596, -0.68814633],\n",
       "       [-0.99810071, -0.45106766, -1.00580849, ..., -1.08565645,\n",
       "        -1.30428797, -1.64200921]])"
      ]
     },
     "execution_count": 48,
     "metadata": {},
     "output_type": "execute_result"
    }
   ],
   "source": [
    "x_test"
   ]
  },
  {
   "cell_type": "code",
   "execution_count": 49,
   "metadata": {
    "colab": {
     "base_uri": "https://localhost:8080/",
     "height": 35
    },
    "id": "ruqLSKwaZ06X",
    "outputId": "42dd9de3-1395-4349-8ec3-f163ef502a0e"
   },
   "outputs": [
    {
     "data": {
      "text/plain": [
       "(5468, 93)"
      ]
     },
     "execution_count": 49,
     "metadata": {},
     "output_type": "execute_result"
    }
   ],
   "source": [
    "x_test.shape"
   ]
  },
  {
   "cell_type": "code",
   "execution_count": 50,
   "metadata": {
    "colab": {
     "base_uri": "https://localhost:8080/",
     "height": 35
    },
    "id": "fOj5D4GRW7Ac",
    "outputId": "e4223fa4-dd8e-400f-eefc-bbd0178e4d99"
   },
   "outputs": [
    {
     "data": {
      "text/plain": [
       "(5468, 60)"
      ]
     },
     "execution_count": 50,
     "metadata": {},
     "output_type": "execute_result"
    }
   ],
   "source": [
    "y_test.shape"
   ]
  },
  {
   "cell_type": "code",
   "execution_count": 51,
   "metadata": {},
   "outputs": [
    {
     "data": {
      "text/plain": [
       "array([[4.0233135e-06, 3.0406713e-03, 1.3952732e-02, ..., 5.2097142e-02,\n",
       "        8.7237060e-03, 4.3094158e-05],\n",
       "       [9.9999988e-01, 9.8944861e-01, 2.1251857e-02, ..., 2.7646720e-01,\n",
       "        6.2455535e-03, 2.6106834e-05],\n",
       "       [1.9550323e-05, 2.5047660e-03, 2.5351346e-03, ..., 1.2647361e-02,\n",
       "        9.2913806e-03, 5.3048134e-06],\n",
       "       ...,\n",
       "       [1.7583370e-06, 4.3061376e-04, 2.8139353e-04, ..., 2.1315157e-02,\n",
       "        8.5282266e-02, 2.6953220e-04],\n",
       "       [0.0000000e+00, 5.1736236e-03, 8.3297491e-05, ..., 1.6240478e-02,\n",
       "        2.1937001e-01, 5.9723854e-05],\n",
       "       [1.8715858e-05, 1.7544329e-03, 3.8197935e-03, ..., 1.6336051e-01,\n",
       "        5.4908723e-02, 1.6242266e-05]], dtype=float32)"
      ]
     },
     "execution_count": 51,
     "metadata": {},
     "output_type": "execute_result"
    }
   ],
   "source": [
    "y_pred"
   ]
  },
  {
   "cell_type": "code",
   "execution_count": 52,
   "metadata": {
    "colab": {
     "base_uri": "https://localhost:8080/",
     "height": 142
    },
    "id": "Yn9ruPcpOQq0",
    "outputId": "c187ee9b-7905-455c-cee3-fa098f0966e1"
   },
   "outputs": [
    {
     "name": "stdout",
     "output_type": "stream",
     "text": [
      "[[0. 0. 0. ... 0. 0. 0.]\n",
      " [1. 1. 0. ... 0. 0. 0.]\n",
      " [0. 0. 0. ... 0. 0. 0.]\n",
      " ...\n",
      " [0. 0. 0. ... 0. 0. 0.]\n",
      " [0. 0. 0. ... 0. 0. 0.]\n",
      " [0. 0. 0. ... 0. 0. 0.]]\n"
     ]
    }
   ],
   "source": [
    "#round-off the y_pred\n",
    "\n",
    "import numpy as np\n",
    "a_list = np.array(y_pred)\n",
    "y_pred_binary = np.round(a_list)\n",
    "print(y_pred_binary)\n",
    "\n"
   ]
  },
  {
   "cell_type": "code",
   "execution_count": 53,
   "metadata": {
    "colab": {
     "base_uri": "https://localhost:8080/",
     "height": 35
    },
    "id": "zus7h7n3PMDh",
    "outputId": "ce6a354b-6dfa-40b8-c6c3-adead6f2d051"
   },
   "outputs": [
    {
     "data": {
      "text/plain": [
       "(5468, 60)"
      ]
     },
     "execution_count": 53,
     "metadata": {},
     "output_type": "execute_result"
    }
   ],
   "source": [
    "y_pred_binary.shape"
   ]
  },
  {
   "cell_type": "code",
   "execution_count": 54,
   "metadata": {
    "colab": {
     "base_uri": "https://localhost:8080/",
     "height": 142
    },
    "id": "RKVmQiPemWnf",
    "outputId": "8fa5f012-e7b4-4262-e8c9-06ad35d44c13"
   },
   "outputs": [
    {
     "data": {
      "text/plain": [
       "array([[0., 0., 0., ..., 0., 0., 0.],\n",
       "       [1., 1., 0., ..., 0., 0., 0.],\n",
       "       [0., 0., 0., ..., 0., 0., 0.],\n",
       "       ...,\n",
       "       [0., 0., 0., ..., 0., 0., 0.],\n",
       "       [0., 0., 0., ..., 0., 0., 0.],\n",
       "       [0., 0., 0., ..., 0., 0., 0.]], dtype=float32)"
      ]
     },
     "execution_count": 54,
     "metadata": {},
     "output_type": "execute_result"
    }
   ],
   "source": [
    "y_pred_binary"
   ]
  },
  {
   "cell_type": "code",
   "execution_count": 55,
   "metadata": {},
   "outputs": [
    {
     "data": {
      "text/plain": [
       "array([[0., 0., 0., ..., 0., 0., 0.],\n",
       "       [1., 1., 0., ..., 0., 0., 0.],\n",
       "       [0., 0., 0., ..., 0., 0., 0.],\n",
       "       ...,\n",
       "       [0., 0., 0., ..., 0., 0., 0.],\n",
       "       [0., 0., 0., ..., 0., 0., 0.],\n",
       "       [0., 0., 0., ..., 0., 1., 0.]])"
      ]
     },
     "execution_count": 55,
     "metadata": {},
     "output_type": "execute_result"
    }
   ],
   "source": [
    "y_test"
   ]
  },
  {
   "cell_type": "code",
   "execution_count": 56,
   "metadata": {
    "colab": {
     "base_uri": "https://localhost:8080/",
     "height": 35
    },
    "id": "0Y2CI1jdPzWz",
    "outputId": "7de20c4e-215b-40c2-b415-72ad1edead13"
   },
   "outputs": [
    {
     "data": {
      "text/plain": [
       "5468"
      ]
     },
     "execution_count": 56,
     "metadata": {},
     "output_type": "execute_result"
    }
   ],
   "source": [
    "len(y_pred_binary)"
   ]
  },
  {
   "cell_type": "code",
   "execution_count": null,
   "metadata": {},
   "outputs": [],
   "source": []
  },
  {
   "cell_type": "code",
   "execution_count": 57,
   "metadata": {
    "colab": {
     "base_uri": "https://localhost:8080/",
     "height": 35
    },
    "id": "W0EhQiatZWyj",
    "outputId": "67776725-788b-47d7-a3bd-288348bd211c"
   },
   "outputs": [
    {
     "data": {
      "text/plain": [
       "(54677, 93)"
      ]
     },
     "execution_count": 57,
     "metadata": {},
     "output_type": "execute_result"
    }
   ],
   "source": [
    "inputs.shape"
   ]
  },
  {
   "cell_type": "code",
   "execution_count": 58,
   "metadata": {},
   "outputs": [
    {
     "data": {
      "text/plain": [
       "array([[-0.19662979, -0.2040936 , -1.00580849, ...,  0.92634588,\n",
       "        -0.92693223,  0.19560278],\n",
       "       [ 1.36949557,  1.60061641,  0.99422505, ...,  0.2395976 ,\n",
       "        -1.27212598,  0.65061739],\n",
       "       [-0.008747  , -0.79347028, -1.00580849, ...,  0.29462774,\n",
       "         0.0270619 , -0.16989679],\n",
       "       ...,\n",
       "       [ 1.37697763, -1.36806059, -1.00580849, ..., -1.11929947,\n",
       "        -1.075764  ,  1.41151255],\n",
       "       [ 1.36385434, -0.09393806, -1.00580849, ..., -1.38780138,\n",
       "        -0.86408596, -0.68814633],\n",
       "       [-0.99810071, -0.45106766, -1.00580849, ..., -1.08565645,\n",
       "        -1.30428797, -1.64200921]])"
      ]
     },
     "execution_count": 58,
     "metadata": {},
     "output_type": "execute_result"
    }
   ],
   "source": [
    "x_test"
   ]
  },
  {
   "cell_type": "code",
   "execution_count": 59,
   "metadata": {},
   "outputs": [
    {
     "data": {
      "text/plain": [
       "<bound method NDFrame.head of             0         1         2         3         4         5         6   \\\n",
       "0    -0.196630 -0.204094 -1.005808 -1.011384 -1.003155  0.995924  0.973152   \n",
       "1     1.369496  1.600616  0.994225  0.988744  0.996855  0.995924  0.973152   \n",
       "2    -0.008747 -0.793470 -1.005808  0.988744 -1.003155  0.995924  0.973152   \n",
       "3    -0.701728  1.392241 -1.005808  0.988744 -1.003155 -1.004093 -0.005269   \n",
       "4     0.435367 -0.248928  0.994225  0.988744  0.996855  0.995924  0.973152   \n",
       "...        ...       ...       ...       ...       ...       ...       ...   \n",
       "5463  1.223655 -1.087951  0.994225 -1.011384  0.996855 -1.004093 -1.962110   \n",
       "5464  1.650607 -0.580701  0.994225 -1.011384 -1.003155 -1.004093  0.973152   \n",
       "5465  1.376978 -1.368061 -1.005808 -1.011384 -1.003155  0.995924  0.973152   \n",
       "5466  1.363854 -0.093938 -1.005808 -1.011384  0.996855  0.995924  0.973152   \n",
       "5467 -0.998101 -0.451068 -1.005808 -1.011384 -1.003155  0.995924 -2.940531   \n",
       "\n",
       "            7         8         9   ...        83        84        85  \\\n",
       "0    -0.812955  1.221205  1.223999  ... -0.664882 -0.671785  1.576393   \n",
       "1    -0.812955  1.221205 -0.816994  ... -0.337788  0.838536  0.566452   \n",
       "2     1.230081 -0.818863 -0.816994  ... -1.696889  0.812453  0.983410   \n",
       "3     1.230081 -0.818863 -0.816994  ... -0.465744 -0.432375 -0.917425   \n",
       "4    -0.812955  1.221205  1.223999  ...  1.331132  1.475754 -1.273215   \n",
       "...        ...       ...       ...  ...       ...       ...       ...   \n",
       "5463 -0.812955  1.221205 -0.816994  ... -1.432221  1.241353 -0.653958   \n",
       "5464  1.230081 -0.818863  1.223999  ...  0.477859 -1.044581  0.345252   \n",
       "5465  1.230081  1.221205 -0.816994  ... -0.839536  0.568552 -1.080158   \n",
       "5466 -0.812955  1.221205 -0.816994  ... -0.909332  1.215443  0.609031   \n",
       "5467 -0.812955  1.221205 -0.816994  ...  0.227487  0.019257 -1.346966   \n",
       "\n",
       "            86        87        88        89        90        91        92  \n",
       "0     0.109951 -0.867083 -0.637793 -0.450186  0.926346 -0.926932  0.195603  \n",
       "1     0.918944  0.167099 -1.687743  0.168451  0.239598 -1.272126  0.650617  \n",
       "2     0.583361 -0.258056  0.571549  0.603833  0.294628  0.027062 -0.169897  \n",
       "3     1.324132 -1.250106  0.584696 -0.318549 -0.131934 -0.017409  0.224841  \n",
       "4     0.910827  1.625048 -1.131259 -0.956571 -1.660220  0.540089  0.180032  \n",
       "...        ...       ...       ...       ...       ...       ...       ...  \n",
       "5463  0.980949  0.956533  1.269729 -1.068754 -0.574137  0.395447 -0.629150  \n",
       "5464  1.722929 -1.292133  1.042422  1.168043 -0.594100 -1.450425 -1.185583  \n",
       "5465  1.183024  0.738603  0.872375 -1.250554 -1.119299 -1.075764  1.411513  \n",
       "5466 -1.451833  0.057267 -0.637395 -0.238096 -1.387801 -0.864086 -0.688146  \n",
       "5467  1.607728  0.643843 -0.383189  1.291497 -1.085656 -1.304288 -1.642009  \n",
       "\n",
       "[5468 rows x 93 columns]>"
      ]
     },
     "execution_count": 59,
     "metadata": {},
     "output_type": "execute_result"
    }
   ],
   "source": [
    "x_p = pd.DataFrame(x_test)\n",
    "#pi = x_p.iloc[:, 27:50]\n",
    "#pi\n",
    "x_p.head"
   ]
  },
  {
   "cell_type": "code",
   "execution_count": 60,
   "metadata": {},
   "outputs": [],
   "source": [
    "#In the next cells, we are going to compute the suboptimality of the DNN solution vs others "
   ]
  },
  {
   "cell_type": "code",
   "execution_count": 61,
   "metadata": {},
   "outputs": [
    {
     "data": {
      "text/html": [
       "<div>\n",
       "<style scoped>\n",
       "    .dataframe tbody tr th:only-of-type {\n",
       "        vertical-align: middle;\n",
       "    }\n",
       "\n",
       "    .dataframe tbody tr th {\n",
       "        vertical-align: top;\n",
       "    }\n",
       "\n",
       "    .dataframe thead th {\n",
       "        text-align: right;\n",
       "    }\n",
       "</style>\n",
       "<table border=\"1\" class=\"dataframe\">\n",
       "  <thead>\n",
       "    <tr style=\"text-align: right;\">\n",
       "      <th></th>\n",
       "      <th>22</th>\n",
       "      <th>23</th>\n",
       "      <th>24</th>\n",
       "      <th>25</th>\n",
       "      <th>26</th>\n",
       "      <th>27</th>\n",
       "      <th>28</th>\n",
       "      <th>29</th>\n",
       "      <th>30</th>\n",
       "      <th>31</th>\n",
       "    </tr>\n",
       "  </thead>\n",
       "  <tbody>\n",
       "    <tr>\n",
       "      <th>0</th>\n",
       "      <td>-1.433982</td>\n",
       "      <td>-0.365973</td>\n",
       "      <td>-0.442245</td>\n",
       "      <td>1.479275</td>\n",
       "      <td>-1.629198</td>\n",
       "      <td>1.002359</td>\n",
       "      <td>-1.428946</td>\n",
       "      <td>-0.709916</td>\n",
       "      <td>-1.065119</td>\n",
       "      <td>-1.666444</td>\n",
       "    </tr>\n",
       "    <tr>\n",
       "      <th>1</th>\n",
       "      <td>-0.317249</td>\n",
       "      <td>-1.739379</td>\n",
       "      <td>-1.029663</td>\n",
       "      <td>0.447355</td>\n",
       "      <td>-1.125154</td>\n",
       "      <td>-0.052956</td>\n",
       "      <td>1.500198</td>\n",
       "      <td>0.045886</td>\n",
       "      <td>-0.852830</td>\n",
       "      <td>0.156585</td>\n",
       "    </tr>\n",
       "    <tr>\n",
       "      <th>2</th>\n",
       "      <td>-1.545494</td>\n",
       "      <td>-0.191057</td>\n",
       "      <td>0.250734</td>\n",
       "      <td>0.764603</td>\n",
       "      <td>-1.079007</td>\n",
       "      <td>0.707459</td>\n",
       "      <td>1.642389</td>\n",
       "      <td>-0.334632</td>\n",
       "      <td>0.436032</td>\n",
       "      <td>-1.458027</td>\n",
       "    </tr>\n",
       "    <tr>\n",
       "      <th>3</th>\n",
       "      <td>-1.224869</td>\n",
       "      <td>1.377705</td>\n",
       "      <td>-1.391596</td>\n",
       "      <td>-0.577402</td>\n",
       "      <td>-1.717721</td>\n",
       "      <td>-0.190829</td>\n",
       "      <td>1.635866</td>\n",
       "      <td>-0.080774</td>\n",
       "      <td>-1.625116</td>\n",
       "      <td>0.624558</td>\n",
       "    </tr>\n",
       "    <tr>\n",
       "      <th>4</th>\n",
       "      <td>-0.476309</td>\n",
       "      <td>1.617341</td>\n",
       "      <td>0.170822</td>\n",
       "      <td>-0.947254</td>\n",
       "      <td>0.765818</td>\n",
       "      <td>-0.695111</td>\n",
       "      <td>-1.602322</td>\n",
       "      <td>1.326223</td>\n",
       "      <td>1.253855</td>\n",
       "      <td>1.009766</td>\n",
       "    </tr>\n",
       "    <tr>\n",
       "      <th>...</th>\n",
       "      <td>...</td>\n",
       "      <td>...</td>\n",
       "      <td>...</td>\n",
       "      <td>...</td>\n",
       "      <td>...</td>\n",
       "      <td>...</td>\n",
       "      <td>...</td>\n",
       "      <td>...</td>\n",
       "      <td>...</td>\n",
       "      <td>...</td>\n",
       "    </tr>\n",
       "    <tr>\n",
       "      <th>5463</th>\n",
       "      <td>-0.789651</td>\n",
       "      <td>-1.097091</td>\n",
       "      <td>1.695537</td>\n",
       "      <td>-1.594457</td>\n",
       "      <td>1.250233</td>\n",
       "      <td>-1.337574</td>\n",
       "      <td>-0.589120</td>\n",
       "      <td>0.048157</td>\n",
       "      <td>-1.220708</td>\n",
       "      <td>-0.382969</td>\n",
       "    </tr>\n",
       "    <tr>\n",
       "      <th>5464</th>\n",
       "      <td>1.069978</td>\n",
       "      <td>-1.413772</td>\n",
       "      <td>-1.528620</td>\n",
       "      <td>0.079775</td>\n",
       "      <td>0.602820</td>\n",
       "      <td>0.016250</td>\n",
       "      <td>-0.205622</td>\n",
       "      <td>0.151840</td>\n",
       "      <td>-1.061462</td>\n",
       "      <td>1.243367</td>\n",
       "    </tr>\n",
       "    <tr>\n",
       "      <th>5465</th>\n",
       "      <td>0.146444</td>\n",
       "      <td>0.303980</td>\n",
       "      <td>-0.552042</td>\n",
       "      <td>-0.374376</td>\n",
       "      <td>-1.272218</td>\n",
       "      <td>0.760467</td>\n",
       "      <td>-1.278032</td>\n",
       "      <td>0.802457</td>\n",
       "      <td>-1.194764</td>\n",
       "      <td>-0.837212</td>\n",
       "    </tr>\n",
       "    <tr>\n",
       "      <th>5466</th>\n",
       "      <td>0.857705</td>\n",
       "      <td>0.963887</td>\n",
       "      <td>-0.535174</td>\n",
       "      <td>0.560267</td>\n",
       "      <td>-0.189887</td>\n",
       "      <td>1.687888</td>\n",
       "      <td>-0.686345</td>\n",
       "      <td>-1.031549</td>\n",
       "      <td>-1.151497</td>\n",
       "      <td>0.367123</td>\n",
       "    </tr>\n",
       "    <tr>\n",
       "      <th>5467</th>\n",
       "      <td>-0.847642</td>\n",
       "      <td>0.780547</td>\n",
       "      <td>1.402309</td>\n",
       "      <td>-0.828411</td>\n",
       "      <td>1.081539</td>\n",
       "      <td>-0.307476</td>\n",
       "      <td>0.580747</td>\n",
       "      <td>0.388879</td>\n",
       "      <td>-0.191404</td>\n",
       "      <td>0.473954</td>\n",
       "    </tr>\n",
       "  </tbody>\n",
       "</table>\n",
       "<p>5468 rows × 10 columns</p>\n",
       "</div>"
      ],
      "text/plain": [
       "            22        23        24        25        26        27        28  \\\n",
       "0    -1.433982 -0.365973 -0.442245  1.479275 -1.629198  1.002359 -1.428946   \n",
       "1    -0.317249 -1.739379 -1.029663  0.447355 -1.125154 -0.052956  1.500198   \n",
       "2    -1.545494 -0.191057  0.250734  0.764603 -1.079007  0.707459  1.642389   \n",
       "3    -1.224869  1.377705 -1.391596 -0.577402 -1.717721 -0.190829  1.635866   \n",
       "4    -0.476309  1.617341  0.170822 -0.947254  0.765818 -0.695111 -1.602322   \n",
       "...        ...       ...       ...       ...       ...       ...       ...   \n",
       "5463 -0.789651 -1.097091  1.695537 -1.594457  1.250233 -1.337574 -0.589120   \n",
       "5464  1.069978 -1.413772 -1.528620  0.079775  0.602820  0.016250 -0.205622   \n",
       "5465  0.146444  0.303980 -0.552042 -0.374376 -1.272218  0.760467 -1.278032   \n",
       "5466  0.857705  0.963887 -0.535174  0.560267 -0.189887  1.687888 -0.686345   \n",
       "5467 -0.847642  0.780547  1.402309 -0.828411  1.081539 -0.307476  0.580747   \n",
       "\n",
       "            29        30        31  \n",
       "0    -0.709916 -1.065119 -1.666444  \n",
       "1     0.045886 -0.852830  0.156585  \n",
       "2    -0.334632  0.436032 -1.458027  \n",
       "3    -0.080774 -1.625116  0.624558  \n",
       "4     1.326223  1.253855  1.009766  \n",
       "...        ...       ...       ...  \n",
       "5463  0.048157 -1.220708 -0.382969  \n",
       "5464  0.151840 -1.061462  1.243367  \n",
       "5465  0.802457 -1.194764 -0.837212  \n",
       "5466 -1.031549 -1.151497  0.367123  \n",
       "5467  0.388879 -0.191404  0.473954  \n",
       "\n",
       "[5468 rows x 10 columns]"
      ]
     },
     "execution_count": 61,
     "metadata": {},
     "output_type": "execute_result"
    }
   ],
   "source": [
    "x_pi = pd.DataFrame(x_test)\n",
    "x_pi = x_pi.iloc[:, 22:32]\n",
    "x_pi #Saving the energy prize"
   ]
  },
  {
   "cell_type": "code",
   "execution_count": 62,
   "metadata": {},
   "outputs": [
    {
     "data": {
      "text/html": [
       "<div>\n",
       "<style scoped>\n",
       "    .dataframe tbody tr th:only-of-type {\n",
       "        vertical-align: middle;\n",
       "    }\n",
       "\n",
       "    .dataframe tbody tr th {\n",
       "        vertical-align: top;\n",
       "    }\n",
       "\n",
       "    .dataframe thead th {\n",
       "        text-align: right;\n",
       "    }\n",
       "</style>\n",
       "<table border=\"1\" class=\"dataframe\">\n",
       "  <thead>\n",
       "    <tr style=\"text-align: right;\">\n",
       "      <th></th>\n",
       "      <th>0</th>\n",
       "      <th>1</th>\n",
       "      <th>2</th>\n",
       "      <th>3</th>\n",
       "      <th>4</th>\n",
       "      <th>5</th>\n",
       "      <th>6</th>\n",
       "      <th>7</th>\n",
       "      <th>8</th>\n",
       "      <th>9</th>\n",
       "      <th>...</th>\n",
       "      <th>50</th>\n",
       "      <th>51</th>\n",
       "      <th>52</th>\n",
       "      <th>53</th>\n",
       "      <th>54</th>\n",
       "      <th>55</th>\n",
       "      <th>56</th>\n",
       "      <th>57</th>\n",
       "      <th>58</th>\n",
       "      <th>59</th>\n",
       "    </tr>\n",
       "  </thead>\n",
       "  <tbody>\n",
       "    <tr>\n",
       "      <th>0</th>\n",
       "      <td>0.000004</td>\n",
       "      <td>0.003041</td>\n",
       "      <td>0.013953</td>\n",
       "      <td>0.047214</td>\n",
       "      <td>0.485535</td>\n",
       "      <td>0.004863</td>\n",
       "      <td>0.151232</td>\n",
       "      <td>0.005798</td>\n",
       "      <td>0.072436</td>\n",
       "      <td>0.671714</td>\n",
       "      <td>...</td>\n",
       "      <td>0.004281</td>\n",
       "      <td>0.179446</td>\n",
       "      <td>0.008582</td>\n",
       "      <td>0.086353</td>\n",
       "      <td>0.692384</td>\n",
       "      <td>0.028545</td>\n",
       "      <td>0.026086</td>\n",
       "      <td>0.052097</td>\n",
       "      <td>0.008724</td>\n",
       "      <td>0.000043</td>\n",
       "    </tr>\n",
       "    <tr>\n",
       "      <th>1</th>\n",
       "      <td>1.000000</td>\n",
       "      <td>0.989449</td>\n",
       "      <td>0.021252</td>\n",
       "      <td>0.021880</td>\n",
       "      <td>0.551508</td>\n",
       "      <td>0.052058</td>\n",
       "      <td>0.007383</td>\n",
       "      <td>0.015949</td>\n",
       "      <td>0.352898</td>\n",
       "      <td>0.009666</td>\n",
       "      <td>...</td>\n",
       "      <td>0.027065</td>\n",
       "      <td>0.008133</td>\n",
       "      <td>0.022456</td>\n",
       "      <td>0.233103</td>\n",
       "      <td>0.010282</td>\n",
       "      <td>0.221371</td>\n",
       "      <td>0.008460</td>\n",
       "      <td>0.276467</td>\n",
       "      <td>0.006246</td>\n",
       "      <td>0.000026</td>\n",
       "    </tr>\n",
       "    <tr>\n",
       "      <th>2</th>\n",
       "      <td>0.000020</td>\n",
       "      <td>0.002505</td>\n",
       "      <td>0.002535</td>\n",
       "      <td>0.007200</td>\n",
       "      <td>0.473215</td>\n",
       "      <td>0.002919</td>\n",
       "      <td>0.005982</td>\n",
       "      <td>0.078277</td>\n",
       "      <td>0.006870</td>\n",
       "      <td>0.511710</td>\n",
       "      <td>...</td>\n",
       "      <td>0.004256</td>\n",
       "      <td>0.006885</td>\n",
       "      <td>0.058575</td>\n",
       "      <td>0.008311</td>\n",
       "      <td>0.448606</td>\n",
       "      <td>0.126923</td>\n",
       "      <td>0.030120</td>\n",
       "      <td>0.012647</td>\n",
       "      <td>0.009291</td>\n",
       "      <td>0.000005</td>\n",
       "    </tr>\n",
       "    <tr>\n",
       "      <th>3</th>\n",
       "      <td>0.000442</td>\n",
       "      <td>0.000191</td>\n",
       "      <td>0.089167</td>\n",
       "      <td>0.007758</td>\n",
       "      <td>0.618231</td>\n",
       "      <td>0.014138</td>\n",
       "      <td>0.004775</td>\n",
       "      <td>0.014560</td>\n",
       "      <td>0.472128</td>\n",
       "      <td>0.008455</td>\n",
       "      <td>...</td>\n",
       "      <td>0.017784</td>\n",
       "      <td>0.004984</td>\n",
       "      <td>0.016177</td>\n",
       "      <td>0.467802</td>\n",
       "      <td>0.009312</td>\n",
       "      <td>0.060531</td>\n",
       "      <td>0.030995</td>\n",
       "      <td>0.010473</td>\n",
       "      <td>0.093172</td>\n",
       "      <td>0.000012</td>\n",
       "    </tr>\n",
       "    <tr>\n",
       "      <th>4</th>\n",
       "      <td>0.999991</td>\n",
       "      <td>0.011051</td>\n",
       "      <td>0.000812</td>\n",
       "      <td>0.005029</td>\n",
       "      <td>0.001546</td>\n",
       "      <td>0.033541</td>\n",
       "      <td>0.612276</td>\n",
       "      <td>0.046732</td>\n",
       "      <td>0.019565</td>\n",
       "      <td>0.007812</td>\n",
       "      <td>...</td>\n",
       "      <td>0.036840</td>\n",
       "      <td>0.545797</td>\n",
       "      <td>0.037970</td>\n",
       "      <td>0.016624</td>\n",
       "      <td>0.007602</td>\n",
       "      <td>0.062540</td>\n",
       "      <td>0.227291</td>\n",
       "      <td>0.006832</td>\n",
       "      <td>0.049628</td>\n",
       "      <td>0.000006</td>\n",
       "    </tr>\n",
       "    <tr>\n",
       "      <th>...</th>\n",
       "      <td>...</td>\n",
       "      <td>...</td>\n",
       "      <td>...</td>\n",
       "      <td>...</td>\n",
       "      <td>...</td>\n",
       "      <td>...</td>\n",
       "      <td>...</td>\n",
       "      <td>...</td>\n",
       "      <td>...</td>\n",
       "      <td>...</td>\n",
       "      <td>...</td>\n",
       "      <td>...</td>\n",
       "      <td>...</td>\n",
       "      <td>...</td>\n",
       "      <td>...</td>\n",
       "      <td>...</td>\n",
       "      <td>...</td>\n",
       "      <td>...</td>\n",
       "      <td>...</td>\n",
       "      <td>...</td>\n",
       "      <td>...</td>\n",
       "    </tr>\n",
       "    <tr>\n",
       "      <th>5463</th>\n",
       "      <td>0.999971</td>\n",
       "      <td>0.020564</td>\n",
       "      <td>0.001057</td>\n",
       "      <td>0.470310</td>\n",
       "      <td>0.005878</td>\n",
       "      <td>0.382766</td>\n",
       "      <td>0.019281</td>\n",
       "      <td>0.004289</td>\n",
       "      <td>0.266641</td>\n",
       "      <td>0.004788</td>\n",
       "      <td>...</td>\n",
       "      <td>0.193018</td>\n",
       "      <td>0.014363</td>\n",
       "      <td>0.005915</td>\n",
       "      <td>0.175709</td>\n",
       "      <td>0.004728</td>\n",
       "      <td>0.338328</td>\n",
       "      <td>0.010926</td>\n",
       "      <td>0.187383</td>\n",
       "      <td>0.007571</td>\n",
       "      <td>0.000011</td>\n",
       "    </tr>\n",
       "    <tr>\n",
       "      <th>5464</th>\n",
       "      <td>0.999999</td>\n",
       "      <td>0.999658</td>\n",
       "      <td>0.962045</td>\n",
       "      <td>0.256137</td>\n",
       "      <td>0.017043</td>\n",
       "      <td>0.092673</td>\n",
       "      <td>0.052792</td>\n",
       "      <td>0.005015</td>\n",
       "      <td>0.192621</td>\n",
       "      <td>0.000930</td>\n",
       "      <td>...</td>\n",
       "      <td>0.088680</td>\n",
       "      <td>0.105877</td>\n",
       "      <td>0.009357</td>\n",
       "      <td>0.149863</td>\n",
       "      <td>0.001228</td>\n",
       "      <td>0.443132</td>\n",
       "      <td>0.021951</td>\n",
       "      <td>0.015633</td>\n",
       "      <td>0.006761</td>\n",
       "      <td>0.000003</td>\n",
       "    </tr>\n",
       "    <tr>\n",
       "      <th>5465</th>\n",
       "      <td>0.000002</td>\n",
       "      <td>0.000431</td>\n",
       "      <td>0.000281</td>\n",
       "      <td>0.009303</td>\n",
       "      <td>0.459187</td>\n",
       "      <td>0.009028</td>\n",
       "      <td>0.257663</td>\n",
       "      <td>0.006749</td>\n",
       "      <td>0.224869</td>\n",
       "      <td>0.017098</td>\n",
       "      <td>...</td>\n",
       "      <td>0.003419</td>\n",
       "      <td>0.224582</td>\n",
       "      <td>0.014302</td>\n",
       "      <td>0.243363</td>\n",
       "      <td>0.034366</td>\n",
       "      <td>0.363680</td>\n",
       "      <td>0.180504</td>\n",
       "      <td>0.021315</td>\n",
       "      <td>0.085282</td>\n",
       "      <td>0.000270</td>\n",
       "    </tr>\n",
       "    <tr>\n",
       "      <th>5466</th>\n",
       "      <td>0.000000</td>\n",
       "      <td>0.005174</td>\n",
       "      <td>0.000083</td>\n",
       "      <td>0.000873</td>\n",
       "      <td>0.068451</td>\n",
       "      <td>0.001710</td>\n",
       "      <td>0.062809</td>\n",
       "      <td>0.123871</td>\n",
       "      <td>0.499164</td>\n",
       "      <td>0.045322</td>\n",
       "      <td>...</td>\n",
       "      <td>0.001379</td>\n",
       "      <td>0.047222</td>\n",
       "      <td>0.130856</td>\n",
       "      <td>0.440303</td>\n",
       "      <td>0.062447</td>\n",
       "      <td>0.007071</td>\n",
       "      <td>0.230362</td>\n",
       "      <td>0.016240</td>\n",
       "      <td>0.219370</td>\n",
       "      <td>0.000060</td>\n",
       "    </tr>\n",
       "    <tr>\n",
       "      <th>5467</th>\n",
       "      <td>0.000019</td>\n",
       "      <td>0.001754</td>\n",
       "      <td>0.003820</td>\n",
       "      <td>0.681164</td>\n",
       "      <td>0.008233</td>\n",
       "      <td>0.182185</td>\n",
       "      <td>0.017541</td>\n",
       "      <td>0.008547</td>\n",
       "      <td>0.240381</td>\n",
       "      <td>0.018446</td>\n",
       "      <td>...</td>\n",
       "      <td>0.172615</td>\n",
       "      <td>0.018801</td>\n",
       "      <td>0.010988</td>\n",
       "      <td>0.221649</td>\n",
       "      <td>0.018613</td>\n",
       "      <td>0.018734</td>\n",
       "      <td>0.011137</td>\n",
       "      <td>0.163361</td>\n",
       "      <td>0.054909</td>\n",
       "      <td>0.000016</td>\n",
       "    </tr>\n",
       "  </tbody>\n",
       "</table>\n",
       "<p>5468 rows × 60 columns</p>\n",
       "</div>"
      ],
      "text/plain": [
       "            0         1         2         3         4         5         6   \\\n",
       "0     0.000004  0.003041  0.013953  0.047214  0.485535  0.004863  0.151232   \n",
       "1     1.000000  0.989449  0.021252  0.021880  0.551508  0.052058  0.007383   \n",
       "2     0.000020  0.002505  0.002535  0.007200  0.473215  0.002919  0.005982   \n",
       "3     0.000442  0.000191  0.089167  0.007758  0.618231  0.014138  0.004775   \n",
       "4     0.999991  0.011051  0.000812  0.005029  0.001546  0.033541  0.612276   \n",
       "...        ...       ...       ...       ...       ...       ...       ...   \n",
       "5463  0.999971  0.020564  0.001057  0.470310  0.005878  0.382766  0.019281   \n",
       "5464  0.999999  0.999658  0.962045  0.256137  0.017043  0.092673  0.052792   \n",
       "5465  0.000002  0.000431  0.000281  0.009303  0.459187  0.009028  0.257663   \n",
       "5466  0.000000  0.005174  0.000083  0.000873  0.068451  0.001710  0.062809   \n",
       "5467  0.000019  0.001754  0.003820  0.681164  0.008233  0.182185  0.017541   \n",
       "\n",
       "            7         8         9   ...        50        51        52  \\\n",
       "0     0.005798  0.072436  0.671714  ...  0.004281  0.179446  0.008582   \n",
       "1     0.015949  0.352898  0.009666  ...  0.027065  0.008133  0.022456   \n",
       "2     0.078277  0.006870  0.511710  ...  0.004256  0.006885  0.058575   \n",
       "3     0.014560  0.472128  0.008455  ...  0.017784  0.004984  0.016177   \n",
       "4     0.046732  0.019565  0.007812  ...  0.036840  0.545797  0.037970   \n",
       "...        ...       ...       ...  ...       ...       ...       ...   \n",
       "5463  0.004289  0.266641  0.004788  ...  0.193018  0.014363  0.005915   \n",
       "5464  0.005015  0.192621  0.000930  ...  0.088680  0.105877  0.009357   \n",
       "5465  0.006749  0.224869  0.017098  ...  0.003419  0.224582  0.014302   \n",
       "5466  0.123871  0.499164  0.045322  ...  0.001379  0.047222  0.130856   \n",
       "5467  0.008547  0.240381  0.018446  ...  0.172615  0.018801  0.010988   \n",
       "\n",
       "            53        54        55        56        57        58        59  \n",
       "0     0.086353  0.692384  0.028545  0.026086  0.052097  0.008724  0.000043  \n",
       "1     0.233103  0.010282  0.221371  0.008460  0.276467  0.006246  0.000026  \n",
       "2     0.008311  0.448606  0.126923  0.030120  0.012647  0.009291  0.000005  \n",
       "3     0.467802  0.009312  0.060531  0.030995  0.010473  0.093172  0.000012  \n",
       "4     0.016624  0.007602  0.062540  0.227291  0.006832  0.049628  0.000006  \n",
       "...        ...       ...       ...       ...       ...       ...       ...  \n",
       "5463  0.175709  0.004728  0.338328  0.010926  0.187383  0.007571  0.000011  \n",
       "5464  0.149863  0.001228  0.443132  0.021951  0.015633  0.006761  0.000003  \n",
       "5465  0.243363  0.034366  0.363680  0.180504  0.021315  0.085282  0.000270  \n",
       "5466  0.440303  0.062447  0.007071  0.230362  0.016240  0.219370  0.000060  \n",
       "5467  0.221649  0.018613  0.018734  0.011137  0.163361  0.054909  0.000016  \n",
       "\n",
       "[5468 rows x 60 columns]"
      ]
     },
     "execution_count": 62,
     "metadata": {},
     "output_type": "execute_result"
    }
   ],
   "source": [
    "#saving the test and predicted switching\n",
    "y_test= pd.DataFrame(y_test)\n",
    "y_train= pd.DataFrame(y_train)\n",
    "y_pred= pd.DataFrame(y_pred)\n",
    "y_pred\n"
   ]
  },
  {
   "cell_type": "code",
   "execution_count": 63,
   "metadata": {
    "id": "ZQpsT-B6aMra"
   },
   "outputs": [
    {
     "data": {
      "text/plain": [
       "'\\nx_p = pd.DataFrame(inputs.values)            #Energy price of inputs\\nx_p = x_p.iloc[65544:81881, 18:50]            # Saving the Energy price\\nx_p.index = range(len(x_p))\\nx_p.columns = range(x_p.shape[1])\\n\\n\\ny_test= pd.DataFrame(y_test)\\ny_test = y_test.iloc[0:16377, 0:14]\\ny_test.index = range(len(y_test))\\ny_test.columns = range(y_test.shape[1])\\n\\ny_pred= pd.DataFrame(y_pred_binary)\\ny_pred = y_pred.iloc[0:16377, 0:14]\\ny_pred.index = range(len(y_pred))\\ny_pred.columns = range(y_pred.shape[1])\\n'"
      ]
     },
     "execution_count": 63,
     "metadata": {},
     "output_type": "execute_result"
    }
   ],
   "source": [
    "'''\n",
    "x_p = pd.DataFrame(inputs.values)            #Energy price of inputs\n",
    "x_p = x_p.iloc[65544:81881, 18:50]            # Saving the Energy price\n",
    "x_p.index = range(len(x_p))\n",
    "x_p.columns = range(x_p.shape[1])\n",
    "\n",
    "\n",
    "y_test= pd.DataFrame(y_test)\n",
    "y_test = y_test.iloc[0:16377, 0:14]\n",
    "y_test.index = range(len(y_test))\n",
    "y_test.columns = range(y_test.shape[1])\n",
    "\n",
    "y_pred= pd.DataFrame(y_pred_binary)\n",
    "y_pred = y_pred.iloc[0:16377, 0:14]\n",
    "y_pred.index = range(len(y_pred))\n",
    "y_pred.columns = range(y_pred.shape[1])\n",
    "'''\n",
    "#testing = pd.concat([x_pi, y_test, y_pred], axis=1)\n",
    "#testing.to_excel('testing.xlsx', index = False)"
   ]
  },
  {
   "cell_type": "code",
   "execution_count": 64,
   "metadata": {
    "id": "cmavpKE-GMCX"
   },
   "outputs": [],
   "source": [
    "concat_x_pi =  pd.concat([x_pi, x_pi, x_pi, x_pi], ignore_index=True, axis=1)\n",
    "concat_x_pi= pd.DataFrame(concat_x_pi)\n",
    "#concat_x_pi.index = new_index\n",
    "concat_x_pi = concat_x_pi.T\n"
   ]
  },
  {
   "cell_type": "code",
   "execution_count": 65,
   "metadata": {},
   "outputs": [
    {
     "data": {
      "text/plain": [
       "(40, 5468)"
      ]
     },
     "execution_count": 65,
     "metadata": {},
     "output_type": "execute_result"
    }
   ],
   "source": [
    "concat_x_pi = abs(concat_x_pi)\n",
    "concat_x_pi.shape"
   ]
  },
  {
   "cell_type": "code",
   "execution_count": 66,
   "metadata": {
    "colab": {
     "base_uri": "https://localhost:8080/",
     "height": 35
    },
    "id": "kyDfSEAnHTYC",
    "outputId": "a6daab74-55ac-445e-8835-2a1869120f5f"
   },
   "outputs": [
    {
     "data": {
      "text/plain": [
       "(5468, 60)"
      ]
     },
     "execution_count": 66,
     "metadata": {},
     "output_type": "execute_result"
    }
   ],
   "source": [
    "y_pred.shape\n"
   ]
  },
  {
   "cell_type": "code",
   "execution_count": 67,
   "metadata": {},
   "outputs": [],
   "source": [
    "y_pred = y_pred"
   ]
  },
  {
   "cell_type": "code",
   "execution_count": 68,
   "metadata": {},
   "outputs": [
    {
     "data": {
      "text/html": [
       "<div>\n",
       "<style scoped>\n",
       "    .dataframe tbody tr th:only-of-type {\n",
       "        vertical-align: middle;\n",
       "    }\n",
       "\n",
       "    .dataframe tbody tr th {\n",
       "        vertical-align: top;\n",
       "    }\n",
       "\n",
       "    .dataframe thead th {\n",
       "        text-align: right;\n",
       "    }\n",
       "</style>\n",
       "<table border=\"1\" class=\"dataframe\">\n",
       "  <thead>\n",
       "    <tr style=\"text-align: right;\">\n",
       "      <th></th>\n",
       "      <th>0</th>\n",
       "      <th>1</th>\n",
       "      <th>2</th>\n",
       "      <th>3</th>\n",
       "      <th>4</th>\n",
       "      <th>5</th>\n",
       "      <th>6</th>\n",
       "      <th>7</th>\n",
       "      <th>8</th>\n",
       "      <th>9</th>\n",
       "      <th>...</th>\n",
       "      <th>50</th>\n",
       "      <th>51</th>\n",
       "      <th>52</th>\n",
       "      <th>53</th>\n",
       "      <th>54</th>\n",
       "      <th>55</th>\n",
       "      <th>56</th>\n",
       "      <th>57</th>\n",
       "      <th>58</th>\n",
       "      <th>59</th>\n",
       "    </tr>\n",
       "  </thead>\n",
       "  <tbody>\n",
       "    <tr>\n",
       "      <th>0</th>\n",
       "      <td>0.000004</td>\n",
       "      <td>0.003041</td>\n",
       "      <td>0.013953</td>\n",
       "      <td>0.047214</td>\n",
       "      <td>0.485535</td>\n",
       "      <td>0.004863</td>\n",
       "      <td>0.151232</td>\n",
       "      <td>0.005798</td>\n",
       "      <td>0.072436</td>\n",
       "      <td>0.671714</td>\n",
       "      <td>...</td>\n",
       "      <td>0.004281</td>\n",
       "      <td>0.179446</td>\n",
       "      <td>0.008582</td>\n",
       "      <td>0.086353</td>\n",
       "      <td>0.692384</td>\n",
       "      <td>0.028545</td>\n",
       "      <td>0.026086</td>\n",
       "      <td>0.052097</td>\n",
       "      <td>0.008724</td>\n",
       "      <td>0.000043</td>\n",
       "    </tr>\n",
       "    <tr>\n",
       "      <th>1</th>\n",
       "      <td>1.000000</td>\n",
       "      <td>0.989449</td>\n",
       "      <td>0.021252</td>\n",
       "      <td>0.021880</td>\n",
       "      <td>0.551508</td>\n",
       "      <td>0.052058</td>\n",
       "      <td>0.007383</td>\n",
       "      <td>0.015949</td>\n",
       "      <td>0.352898</td>\n",
       "      <td>0.009666</td>\n",
       "      <td>...</td>\n",
       "      <td>0.027065</td>\n",
       "      <td>0.008133</td>\n",
       "      <td>0.022456</td>\n",
       "      <td>0.233103</td>\n",
       "      <td>0.010282</td>\n",
       "      <td>0.221371</td>\n",
       "      <td>0.008460</td>\n",
       "      <td>0.276467</td>\n",
       "      <td>0.006246</td>\n",
       "      <td>0.000026</td>\n",
       "    </tr>\n",
       "    <tr>\n",
       "      <th>2</th>\n",
       "      <td>0.000020</td>\n",
       "      <td>0.002505</td>\n",
       "      <td>0.002535</td>\n",
       "      <td>0.007200</td>\n",
       "      <td>0.473215</td>\n",
       "      <td>0.002919</td>\n",
       "      <td>0.005982</td>\n",
       "      <td>0.078277</td>\n",
       "      <td>0.006870</td>\n",
       "      <td>0.511710</td>\n",
       "      <td>...</td>\n",
       "      <td>0.004256</td>\n",
       "      <td>0.006885</td>\n",
       "      <td>0.058575</td>\n",
       "      <td>0.008311</td>\n",
       "      <td>0.448606</td>\n",
       "      <td>0.126923</td>\n",
       "      <td>0.030120</td>\n",
       "      <td>0.012647</td>\n",
       "      <td>0.009291</td>\n",
       "      <td>0.000005</td>\n",
       "    </tr>\n",
       "    <tr>\n",
       "      <th>3</th>\n",
       "      <td>0.000442</td>\n",
       "      <td>0.000191</td>\n",
       "      <td>0.089167</td>\n",
       "      <td>0.007758</td>\n",
       "      <td>0.618231</td>\n",
       "      <td>0.014138</td>\n",
       "      <td>0.004775</td>\n",
       "      <td>0.014560</td>\n",
       "      <td>0.472128</td>\n",
       "      <td>0.008455</td>\n",
       "      <td>...</td>\n",
       "      <td>0.017784</td>\n",
       "      <td>0.004984</td>\n",
       "      <td>0.016177</td>\n",
       "      <td>0.467802</td>\n",
       "      <td>0.009312</td>\n",
       "      <td>0.060531</td>\n",
       "      <td>0.030995</td>\n",
       "      <td>0.010473</td>\n",
       "      <td>0.093172</td>\n",
       "      <td>0.000012</td>\n",
       "    </tr>\n",
       "    <tr>\n",
       "      <th>4</th>\n",
       "      <td>0.999991</td>\n",
       "      <td>0.011051</td>\n",
       "      <td>0.000812</td>\n",
       "      <td>0.005029</td>\n",
       "      <td>0.001546</td>\n",
       "      <td>0.033541</td>\n",
       "      <td>0.612276</td>\n",
       "      <td>0.046732</td>\n",
       "      <td>0.019565</td>\n",
       "      <td>0.007812</td>\n",
       "      <td>...</td>\n",
       "      <td>0.036840</td>\n",
       "      <td>0.545797</td>\n",
       "      <td>0.037970</td>\n",
       "      <td>0.016624</td>\n",
       "      <td>0.007602</td>\n",
       "      <td>0.062540</td>\n",
       "      <td>0.227291</td>\n",
       "      <td>0.006832</td>\n",
       "      <td>0.049628</td>\n",
       "      <td>0.000006</td>\n",
       "    </tr>\n",
       "    <tr>\n",
       "      <th>...</th>\n",
       "      <td>...</td>\n",
       "      <td>...</td>\n",
       "      <td>...</td>\n",
       "      <td>...</td>\n",
       "      <td>...</td>\n",
       "      <td>...</td>\n",
       "      <td>...</td>\n",
       "      <td>...</td>\n",
       "      <td>...</td>\n",
       "      <td>...</td>\n",
       "      <td>...</td>\n",
       "      <td>...</td>\n",
       "      <td>...</td>\n",
       "      <td>...</td>\n",
       "      <td>...</td>\n",
       "      <td>...</td>\n",
       "      <td>...</td>\n",
       "      <td>...</td>\n",
       "      <td>...</td>\n",
       "      <td>...</td>\n",
       "      <td>...</td>\n",
       "    </tr>\n",
       "    <tr>\n",
       "      <th>5463</th>\n",
       "      <td>0.999971</td>\n",
       "      <td>0.020564</td>\n",
       "      <td>0.001057</td>\n",
       "      <td>0.470310</td>\n",
       "      <td>0.005878</td>\n",
       "      <td>0.382766</td>\n",
       "      <td>0.019281</td>\n",
       "      <td>0.004289</td>\n",
       "      <td>0.266641</td>\n",
       "      <td>0.004788</td>\n",
       "      <td>...</td>\n",
       "      <td>0.193018</td>\n",
       "      <td>0.014363</td>\n",
       "      <td>0.005915</td>\n",
       "      <td>0.175709</td>\n",
       "      <td>0.004728</td>\n",
       "      <td>0.338328</td>\n",
       "      <td>0.010926</td>\n",
       "      <td>0.187383</td>\n",
       "      <td>0.007571</td>\n",
       "      <td>0.000011</td>\n",
       "    </tr>\n",
       "    <tr>\n",
       "      <th>5464</th>\n",
       "      <td>0.999999</td>\n",
       "      <td>0.999658</td>\n",
       "      <td>0.962045</td>\n",
       "      <td>0.256137</td>\n",
       "      <td>0.017043</td>\n",
       "      <td>0.092673</td>\n",
       "      <td>0.052792</td>\n",
       "      <td>0.005015</td>\n",
       "      <td>0.192621</td>\n",
       "      <td>0.000930</td>\n",
       "      <td>...</td>\n",
       "      <td>0.088680</td>\n",
       "      <td>0.105877</td>\n",
       "      <td>0.009357</td>\n",
       "      <td>0.149863</td>\n",
       "      <td>0.001228</td>\n",
       "      <td>0.443132</td>\n",
       "      <td>0.021951</td>\n",
       "      <td>0.015633</td>\n",
       "      <td>0.006761</td>\n",
       "      <td>0.000003</td>\n",
       "    </tr>\n",
       "    <tr>\n",
       "      <th>5465</th>\n",
       "      <td>0.000002</td>\n",
       "      <td>0.000431</td>\n",
       "      <td>0.000281</td>\n",
       "      <td>0.009303</td>\n",
       "      <td>0.459187</td>\n",
       "      <td>0.009028</td>\n",
       "      <td>0.257663</td>\n",
       "      <td>0.006749</td>\n",
       "      <td>0.224869</td>\n",
       "      <td>0.017098</td>\n",
       "      <td>...</td>\n",
       "      <td>0.003419</td>\n",
       "      <td>0.224582</td>\n",
       "      <td>0.014302</td>\n",
       "      <td>0.243363</td>\n",
       "      <td>0.034366</td>\n",
       "      <td>0.363680</td>\n",
       "      <td>0.180504</td>\n",
       "      <td>0.021315</td>\n",
       "      <td>0.085282</td>\n",
       "      <td>0.000270</td>\n",
       "    </tr>\n",
       "    <tr>\n",
       "      <th>5466</th>\n",
       "      <td>0.000000</td>\n",
       "      <td>0.005174</td>\n",
       "      <td>0.000083</td>\n",
       "      <td>0.000873</td>\n",
       "      <td>0.068451</td>\n",
       "      <td>0.001710</td>\n",
       "      <td>0.062809</td>\n",
       "      <td>0.123871</td>\n",
       "      <td>0.499164</td>\n",
       "      <td>0.045322</td>\n",
       "      <td>...</td>\n",
       "      <td>0.001379</td>\n",
       "      <td>0.047222</td>\n",
       "      <td>0.130856</td>\n",
       "      <td>0.440303</td>\n",
       "      <td>0.062447</td>\n",
       "      <td>0.007071</td>\n",
       "      <td>0.230362</td>\n",
       "      <td>0.016240</td>\n",
       "      <td>0.219370</td>\n",
       "      <td>0.000060</td>\n",
       "    </tr>\n",
       "    <tr>\n",
       "      <th>5467</th>\n",
       "      <td>0.000019</td>\n",
       "      <td>0.001754</td>\n",
       "      <td>0.003820</td>\n",
       "      <td>0.681164</td>\n",
       "      <td>0.008233</td>\n",
       "      <td>0.182185</td>\n",
       "      <td>0.017541</td>\n",
       "      <td>0.008547</td>\n",
       "      <td>0.240381</td>\n",
       "      <td>0.018446</td>\n",
       "      <td>...</td>\n",
       "      <td>0.172615</td>\n",
       "      <td>0.018801</td>\n",
       "      <td>0.010988</td>\n",
       "      <td>0.221649</td>\n",
       "      <td>0.018613</td>\n",
       "      <td>0.018734</td>\n",
       "      <td>0.011137</td>\n",
       "      <td>0.163361</td>\n",
       "      <td>0.054909</td>\n",
       "      <td>0.000016</td>\n",
       "    </tr>\n",
       "  </tbody>\n",
       "</table>\n",
       "<p>5468 rows × 60 columns</p>\n",
       "</div>"
      ],
      "text/plain": [
       "            0         1         2         3         4         5         6   \\\n",
       "0     0.000004  0.003041  0.013953  0.047214  0.485535  0.004863  0.151232   \n",
       "1     1.000000  0.989449  0.021252  0.021880  0.551508  0.052058  0.007383   \n",
       "2     0.000020  0.002505  0.002535  0.007200  0.473215  0.002919  0.005982   \n",
       "3     0.000442  0.000191  0.089167  0.007758  0.618231  0.014138  0.004775   \n",
       "4     0.999991  0.011051  0.000812  0.005029  0.001546  0.033541  0.612276   \n",
       "...        ...       ...       ...       ...       ...       ...       ...   \n",
       "5463  0.999971  0.020564  0.001057  0.470310  0.005878  0.382766  0.019281   \n",
       "5464  0.999999  0.999658  0.962045  0.256137  0.017043  0.092673  0.052792   \n",
       "5465  0.000002  0.000431  0.000281  0.009303  0.459187  0.009028  0.257663   \n",
       "5466  0.000000  0.005174  0.000083  0.000873  0.068451  0.001710  0.062809   \n",
       "5467  0.000019  0.001754  0.003820  0.681164  0.008233  0.182185  0.017541   \n",
       "\n",
       "            7         8         9   ...        50        51        52  \\\n",
       "0     0.005798  0.072436  0.671714  ...  0.004281  0.179446  0.008582   \n",
       "1     0.015949  0.352898  0.009666  ...  0.027065  0.008133  0.022456   \n",
       "2     0.078277  0.006870  0.511710  ...  0.004256  0.006885  0.058575   \n",
       "3     0.014560  0.472128  0.008455  ...  0.017784  0.004984  0.016177   \n",
       "4     0.046732  0.019565  0.007812  ...  0.036840  0.545797  0.037970   \n",
       "...        ...       ...       ...  ...       ...       ...       ...   \n",
       "5463  0.004289  0.266641  0.004788  ...  0.193018  0.014363  0.005915   \n",
       "5464  0.005015  0.192621  0.000930  ...  0.088680  0.105877  0.009357   \n",
       "5465  0.006749  0.224869  0.017098  ...  0.003419  0.224582  0.014302   \n",
       "5466  0.123871  0.499164  0.045322  ...  0.001379  0.047222  0.130856   \n",
       "5467  0.008547  0.240381  0.018446  ...  0.172615  0.018801  0.010988   \n",
       "\n",
       "            53        54        55        56        57        58        59  \n",
       "0     0.086353  0.692384  0.028545  0.026086  0.052097  0.008724  0.000043  \n",
       "1     0.233103  0.010282  0.221371  0.008460  0.276467  0.006246  0.000026  \n",
       "2     0.008311  0.448606  0.126923  0.030120  0.012647  0.009291  0.000005  \n",
       "3     0.467802  0.009312  0.060531  0.030995  0.010473  0.093172  0.000012  \n",
       "4     0.016624  0.007602  0.062540  0.227291  0.006832  0.049628  0.000006  \n",
       "...        ...       ...       ...       ...       ...       ...       ...  \n",
       "5463  0.175709  0.004728  0.338328  0.010926  0.187383  0.007571  0.000011  \n",
       "5464  0.149863  0.001228  0.443132  0.021951  0.015633  0.006761  0.000003  \n",
       "5465  0.243363  0.034366  0.363680  0.180504  0.021315  0.085282  0.000270  \n",
       "5466  0.440303  0.062447  0.007071  0.230362  0.016240  0.219370  0.000060  \n",
       "5467  0.221649  0.018613  0.018734  0.011137  0.163361  0.054909  0.000016  \n",
       "\n",
       "[5468 rows x 60 columns]"
      ]
     },
     "execution_count": 68,
     "metadata": {},
     "output_type": "execute_result"
    }
   ],
   "source": [
    "y_pred"
   ]
  },
  {
   "cell_type": "code",
   "execution_count": 69,
   "metadata": {
    "colab": {
     "base_uri": "https://localhost:8080/",
     "height": 427
    },
    "id": "8M0aZBT7HFzP",
    "outputId": "2ae09b1c-2193-41da-e402-43a5475e2eeb"
   },
   "outputs": [
    {
     "ename": "ValueError",
     "evalue": "matrices are not aligned",
     "output_type": "error",
     "traceback": [
      "\u001b[1;31m---------------------------------------------------------------------------\u001b[0m",
      "\u001b[1;31mValueError\u001b[0m                                Traceback (most recent call last)",
      "\u001b[1;32m<ipython-input-69-44ab13ba9718>\u001b[0m in \u001b[0;36m<module>\u001b[1;34m\u001b[0m\n\u001b[1;32m----> 1\u001b[1;33m \u001b[0mresult_predict\u001b[0m \u001b[1;33m=\u001b[0m \u001b[0my_pred\u001b[0m\u001b[1;33m.\u001b[0m\u001b[0mdot\u001b[0m\u001b[1;33m(\u001b[0m\u001b[0mconcat_x_pi\u001b[0m\u001b[1;33m)\u001b[0m\u001b[1;33m;\u001b[0m\u001b[1;33m\u001b[0m\u001b[1;33m\u001b[0m\u001b[0m\n\u001b[0m\u001b[0;32m      2\u001b[0m \u001b[0mresult_predict\u001b[0m\u001b[1;33m.\u001b[0m\u001b[0mshape\u001b[0m\u001b[1;33m\u001b[0m\u001b[1;33m\u001b[0m\u001b[0m\n",
      "\u001b[1;32m~\\Anaconda3\\lib\\site-packages\\pandas\\core\\frame.py\u001b[0m in \u001b[0;36mdot\u001b[1;34m(self, other)\u001b[0m\n\u001b[0;32m   1121\u001b[0m             \u001b[0mcommon\u001b[0m \u001b[1;33m=\u001b[0m \u001b[0mself\u001b[0m\u001b[1;33m.\u001b[0m\u001b[0mcolumns\u001b[0m\u001b[1;33m.\u001b[0m\u001b[0munion\u001b[0m\u001b[1;33m(\u001b[0m\u001b[0mother\u001b[0m\u001b[1;33m.\u001b[0m\u001b[0mindex\u001b[0m\u001b[1;33m)\u001b[0m\u001b[1;33m\u001b[0m\u001b[1;33m\u001b[0m\u001b[0m\n\u001b[0;32m   1122\u001b[0m             \u001b[1;32mif\u001b[0m \u001b[0mlen\u001b[0m\u001b[1;33m(\u001b[0m\u001b[0mcommon\u001b[0m\u001b[1;33m)\u001b[0m \u001b[1;33m>\u001b[0m \u001b[0mlen\u001b[0m\u001b[1;33m(\u001b[0m\u001b[0mself\u001b[0m\u001b[1;33m.\u001b[0m\u001b[0mcolumns\u001b[0m\u001b[1;33m)\u001b[0m \u001b[1;32mor\u001b[0m \u001b[0mlen\u001b[0m\u001b[1;33m(\u001b[0m\u001b[0mcommon\u001b[0m\u001b[1;33m)\u001b[0m \u001b[1;33m>\u001b[0m \u001b[0mlen\u001b[0m\u001b[1;33m(\u001b[0m\u001b[0mother\u001b[0m\u001b[1;33m.\u001b[0m\u001b[0mindex\u001b[0m\u001b[1;33m)\u001b[0m\u001b[1;33m:\u001b[0m\u001b[1;33m\u001b[0m\u001b[1;33m\u001b[0m\u001b[0m\n\u001b[1;32m-> 1123\u001b[1;33m                 \u001b[1;32mraise\u001b[0m \u001b[0mValueError\u001b[0m\u001b[1;33m(\u001b[0m\u001b[1;34m\"matrices are not aligned\"\u001b[0m\u001b[1;33m)\u001b[0m\u001b[1;33m\u001b[0m\u001b[1;33m\u001b[0m\u001b[0m\n\u001b[0m\u001b[0;32m   1124\u001b[0m \u001b[1;33m\u001b[0m\u001b[0m\n\u001b[0;32m   1125\u001b[0m             \u001b[0mleft\u001b[0m \u001b[1;33m=\u001b[0m \u001b[0mself\u001b[0m\u001b[1;33m.\u001b[0m\u001b[0mreindex\u001b[0m\u001b[1;33m(\u001b[0m\u001b[0mcolumns\u001b[0m\u001b[1;33m=\u001b[0m\u001b[0mcommon\u001b[0m\u001b[1;33m,\u001b[0m \u001b[0mcopy\u001b[0m\u001b[1;33m=\u001b[0m\u001b[1;32mFalse\u001b[0m\u001b[1;33m)\u001b[0m\u001b[1;33m\u001b[0m\u001b[1;33m\u001b[0m\u001b[0m\n",
      "\u001b[1;31mValueError\u001b[0m: matrices are not aligned"
     ]
    }
   ],
   "source": [
    "result_predict = y_pred.dot(concat_x_pi);\n",
    "result_predict.shape"
   ]
  },
  {
   "cell_type": "code",
   "execution_count": null,
   "metadata": {},
   "outputs": [],
   "source": [
    "result_test = y_test.dot(concat_x_pi);\n",
    "result_test.shape"
   ]
  },
  {
   "cell_type": "code",
   "execution_count": null,
   "metadata": {
    "id": "2_iywgm_0Ivw"
   },
   "outputs": [],
   "source": [
    "sub = abs(result_test - result_predict)\n"
   ]
  },
  {
   "cell_type": "code",
   "execution_count": null,
   "metadata": {},
   "outputs": [],
   "source": [
    "sub"
   ]
  },
  {
   "cell_type": "code",
   "execution_count": null,
   "metadata": {
    "id": "LzRbMb3jGQ70"
   },
   "outputs": [],
   "source": [
    "sub = abs(result_test - result_predict)/(result_test)\n",
    "sub"
   ]
  },
  {
   "cell_type": "code",
   "execution_count": null,
   "metadata": {},
   "outputs": [],
   "source": [
    "suboptimality = np.diag(sub)\n",
    "#plt.plot(suboptimality[48:72])\n",
    "plt.xlabel('number of components')\n",
    "plt.ylabel('element wise suboptimality')\n",
    "plt.title('F*-F^/')\n",
    "plt.axhline(y=0.15, color='r', linestyle='-')"
   ]
  },
  {
   "cell_type": "code",
   "execution_count": null,
   "metadata": {},
   "outputs": [],
   "source": [
    "suboptimality.shape"
   ]
  },
  {
   "cell_type": "code",
   "execution_count": null,
   "metadata": {},
   "outputs": [],
   "source": [
    "#Calculating the suboptimality for T=15, two tank model, batch normalization, activation = sigmoid, \n",
    "#loss= binary cross entropy, pumps =4 \n",
    "T = np.mean(suboptimality)\n",
    "T"
   ]
  },
  {
   "cell_type": "code",
   "execution_count": null,
   "metadata": {},
   "outputs": [],
   "source": []
  }
 ],
 "metadata": {
  "colab": {
   "collapsed_sections": [],
   "name": "FinalCodeDL.ipynb",
   "provenance": [],
   "toc_visible": true
  },
  "kernelspec": {
   "display_name": "Python 3",
   "language": "python",
   "name": "python3"
  },
  "language_info": {
   "codemirror_mode": {
    "name": "ipython",
    "version": 3
   },
   "file_extension": ".py",
   "mimetype": "text/x-python",
   "name": "python",
   "nbconvert_exporter": "python",
   "pygments_lexer": "ipython3",
   "version": "3.7.6"
  }
 },
 "nbformat": 4,
 "nbformat_minor": 1
}
