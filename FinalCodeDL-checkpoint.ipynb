{
 "cells": [
  {
   "cell_type": "code",
   "execution_count": 3,
   "metadata": {
    "id": "qLTVIvmEV0bJ"
   },
   "outputs": [
    {
     "ename": "ImportError",
     "evalue": "cannot import name 'export_saved_model' from 'tensorflow.python.keras.saving.saved_model' (C:\\Users\\jyotib18\\Anaconda3\\lib\\site-packages\\tensorflow\\python\\keras\\saving\\saved_model\\__init__.py)",
     "output_type": "error",
     "traceback": [
      "\u001b[1;31m---------------------------------------------------------------------------\u001b[0m",
      "\u001b[1;31mImportError\u001b[0m                               Traceback (most recent call last)",
      "\u001b[1;32m<ipython-input-3-20f509a13bee>\u001b[0m in \u001b[0;36m<module>\u001b[1;34m\u001b[0m\n\u001b[0;32m     26\u001b[0m \u001b[1;31m#Libraries for Deep learning framework from Keras\u001b[0m\u001b[1;33m\u001b[0m\u001b[1;33m\u001b[0m\u001b[1;33m\u001b[0m\u001b[0m\n\u001b[0;32m     27\u001b[0m \u001b[1;33m\u001b[0m\u001b[0m\n\u001b[1;32m---> 28\u001b[1;33m \u001b[1;32mimport\u001b[0m \u001b[0mtensorflow\u001b[0m \u001b[1;32mas\u001b[0m \u001b[0mtf\u001b[0m\u001b[1;33m\u001b[0m\u001b[1;33m\u001b[0m\u001b[0m\n\u001b[0m\u001b[0;32m     29\u001b[0m \u001b[1;32mfrom\u001b[0m \u001b[0mtensorflow\u001b[0m\u001b[1;33m.\u001b[0m\u001b[0mkeras\u001b[0m\u001b[1;33m.\u001b[0m\u001b[0mmodels\u001b[0m \u001b[1;32mimport\u001b[0m \u001b[0mSequential\u001b[0m\u001b[1;33m\u001b[0m\u001b[1;33m\u001b[0m\u001b[0m\n\u001b[0;32m     30\u001b[0m \u001b[1;32mfrom\u001b[0m \u001b[0mtensorflow\u001b[0m\u001b[1;33m.\u001b[0m\u001b[0mkeras\u001b[0m\u001b[1;33m.\u001b[0m\u001b[0mlayers\u001b[0m \u001b[1;32mimport\u001b[0m \u001b[0mDense\u001b[0m\u001b[1;33m,\u001b[0m \u001b[0mActivation\u001b[0m\u001b[1;33m\u001b[0m\u001b[1;33m\u001b[0m\u001b[0m\n",
      "\u001b[1;32m~\\Anaconda3\\lib\\site-packages\\tensorflow\\__init__.py\u001b[0m in \u001b[0;36m<module>\u001b[1;34m\u001b[0m\n\u001b[0;32m     26\u001b[0m \u001b[1;33m\u001b[0m\u001b[0m\n\u001b[0;32m     27\u001b[0m \u001b[1;31m# pylint: disable=g-bad-import-order\u001b[0m\u001b[1;33m\u001b[0m\u001b[1;33m\u001b[0m\u001b[1;33m\u001b[0m\u001b[0m\n\u001b[1;32m---> 28\u001b[1;33m \u001b[1;32mfrom\u001b[0m \u001b[0mtensorflow\u001b[0m\u001b[1;33m.\u001b[0m\u001b[0mpython\u001b[0m \u001b[1;32mimport\u001b[0m \u001b[0mpywrap_tensorflow\u001b[0m  \u001b[1;31m# pylint: disable=unused-import\u001b[0m\u001b[1;33m\u001b[0m\u001b[1;33m\u001b[0m\u001b[0m\n\u001b[0m\u001b[0;32m     29\u001b[0m \u001b[1;32mfrom\u001b[0m \u001b[0mtensorflow\u001b[0m\u001b[1;33m.\u001b[0m\u001b[0mpython\u001b[0m\u001b[1;33m.\u001b[0m\u001b[0mtools\u001b[0m \u001b[1;32mimport\u001b[0m \u001b[0mmodule_util\u001b[0m \u001b[1;32mas\u001b[0m \u001b[0m_module_util\u001b[0m\u001b[1;33m\u001b[0m\u001b[1;33m\u001b[0m\u001b[0m\n\u001b[0;32m     30\u001b[0m \u001b[1;33m\u001b[0m\u001b[0m\n",
      "\u001b[1;32m~\\Anaconda3\\lib\\site-packages\\tensorflow\\python\\__init__.py\u001b[0m in \u001b[0;36m<module>\u001b[1;34m\u001b[0m\n\u001b[0;32m     81\u001b[0m \u001b[1;32mfrom\u001b[0m \u001b[0mtensorflow\u001b[0m\u001b[1;33m.\u001b[0m\u001b[0mpython\u001b[0m \u001b[1;32mimport\u001b[0m \u001b[0mdata\u001b[0m\u001b[1;33m\u001b[0m\u001b[1;33m\u001b[0m\u001b[0m\n\u001b[0;32m     82\u001b[0m \u001b[1;32mfrom\u001b[0m \u001b[0mtensorflow\u001b[0m\u001b[1;33m.\u001b[0m\u001b[0mpython\u001b[0m \u001b[1;32mimport\u001b[0m \u001b[0mdistribute\u001b[0m\u001b[1;33m\u001b[0m\u001b[1;33m\u001b[0m\u001b[0m\n\u001b[1;32m---> 83\u001b[1;33m \u001b[1;32mfrom\u001b[0m \u001b[0mtensorflow\u001b[0m\u001b[1;33m.\u001b[0m\u001b[0mpython\u001b[0m \u001b[1;32mimport\u001b[0m \u001b[0mkeras\u001b[0m\u001b[1;33m\u001b[0m\u001b[1;33m\u001b[0m\u001b[0m\n\u001b[0m\u001b[0;32m     84\u001b[0m \u001b[1;32mfrom\u001b[0m \u001b[0mtensorflow\u001b[0m\u001b[1;33m.\u001b[0m\u001b[0mpython\u001b[0m\u001b[1;33m.\u001b[0m\u001b[0mfeature_column\u001b[0m \u001b[1;32mimport\u001b[0m \u001b[0mfeature_column_lib\u001b[0m \u001b[1;32mas\u001b[0m \u001b[0mfeature_column\u001b[0m\u001b[1;33m\u001b[0m\u001b[1;33m\u001b[0m\u001b[0m\n\u001b[0;32m     85\u001b[0m \u001b[1;32mfrom\u001b[0m \u001b[0mtensorflow\u001b[0m\u001b[1;33m.\u001b[0m\u001b[0mpython\u001b[0m\u001b[1;33m.\u001b[0m\u001b[0mlayers\u001b[0m \u001b[1;32mimport\u001b[0m \u001b[0mlayers\u001b[0m\u001b[1;33m\u001b[0m\u001b[1;33m\u001b[0m\u001b[0m\n",
      "\u001b[1;32m~\\Anaconda3\\lib\\site-packages\\tensorflow\\python\\keras\\__init__.py\u001b[0m in \u001b[0;36m<module>\u001b[1;34m\u001b[0m\n\u001b[0;32m     25\u001b[0m \u001b[1;33m\u001b[0m\u001b[0m\n\u001b[0;32m     26\u001b[0m \u001b[1;32mfrom\u001b[0m \u001b[0mtensorflow\u001b[0m\u001b[1;33m.\u001b[0m\u001b[0mpython\u001b[0m\u001b[1;33m.\u001b[0m\u001b[0mkeras\u001b[0m \u001b[1;32mimport\u001b[0m \u001b[0mactivations\u001b[0m\u001b[1;33m\u001b[0m\u001b[1;33m\u001b[0m\u001b[0m\n\u001b[1;32m---> 27\u001b[1;33m \u001b[1;32mfrom\u001b[0m \u001b[0mtensorflow\u001b[0m\u001b[1;33m.\u001b[0m\u001b[0mpython\u001b[0m\u001b[1;33m.\u001b[0m\u001b[0mkeras\u001b[0m \u001b[1;32mimport\u001b[0m \u001b[0mapplications\u001b[0m\u001b[1;33m\u001b[0m\u001b[1;33m\u001b[0m\u001b[0m\n\u001b[0m\u001b[0;32m     28\u001b[0m \u001b[1;32mfrom\u001b[0m \u001b[0mtensorflow\u001b[0m\u001b[1;33m.\u001b[0m\u001b[0mpython\u001b[0m\u001b[1;33m.\u001b[0m\u001b[0mkeras\u001b[0m \u001b[1;32mimport\u001b[0m \u001b[0mbackend\u001b[0m\u001b[1;33m\u001b[0m\u001b[1;33m\u001b[0m\u001b[0m\n\u001b[0;32m     29\u001b[0m \u001b[1;32mfrom\u001b[0m \u001b[0mtensorflow\u001b[0m\u001b[1;33m.\u001b[0m\u001b[0mpython\u001b[0m\u001b[1;33m.\u001b[0m\u001b[0mkeras\u001b[0m \u001b[1;32mimport\u001b[0m \u001b[0mcallbacks\u001b[0m\u001b[1;33m\u001b[0m\u001b[1;33m\u001b[0m\u001b[0m\n",
      "\u001b[1;32m~\\Anaconda3\\lib\\site-packages\\tensorflow\\python\\keras\\applications\\__init__.py\u001b[0m in \u001b[0;36m<module>\u001b[1;34m\u001b[0m\n\u001b[0;32m     24\u001b[0m \u001b[1;32mfrom\u001b[0m \u001b[0mtensorflow\u001b[0m\u001b[1;33m.\u001b[0m\u001b[0mpython\u001b[0m\u001b[1;33m.\u001b[0m\u001b[0mkeras\u001b[0m \u001b[1;32mimport\u001b[0m \u001b[0mbackend\u001b[0m\u001b[1;33m\u001b[0m\u001b[1;33m\u001b[0m\u001b[0m\n\u001b[0;32m     25\u001b[0m \u001b[1;32mfrom\u001b[0m \u001b[0mtensorflow\u001b[0m\u001b[1;33m.\u001b[0m\u001b[0mpython\u001b[0m\u001b[1;33m.\u001b[0m\u001b[0mkeras\u001b[0m \u001b[1;32mimport\u001b[0m \u001b[0mengine\u001b[0m\u001b[1;33m\u001b[0m\u001b[1;33m\u001b[0m\u001b[0m\n\u001b[1;32m---> 26\u001b[1;33m \u001b[1;32mfrom\u001b[0m \u001b[0mtensorflow\u001b[0m\u001b[1;33m.\u001b[0m\u001b[0mpython\u001b[0m\u001b[1;33m.\u001b[0m\u001b[0mkeras\u001b[0m \u001b[1;32mimport\u001b[0m \u001b[0mlayers\u001b[0m\u001b[1;33m\u001b[0m\u001b[1;33m\u001b[0m\u001b[0m\n\u001b[0m\u001b[0;32m     27\u001b[0m \u001b[1;32mfrom\u001b[0m \u001b[0mtensorflow\u001b[0m\u001b[1;33m.\u001b[0m\u001b[0mpython\u001b[0m\u001b[1;33m.\u001b[0m\u001b[0mkeras\u001b[0m \u001b[1;32mimport\u001b[0m \u001b[0mmodels\u001b[0m\u001b[1;33m\u001b[0m\u001b[1;33m\u001b[0m\u001b[0m\n\u001b[0;32m     28\u001b[0m \u001b[1;32mfrom\u001b[0m \u001b[0mtensorflow\u001b[0m\u001b[1;33m.\u001b[0m\u001b[0mpython\u001b[0m\u001b[1;33m.\u001b[0m\u001b[0mkeras\u001b[0m \u001b[1;32mimport\u001b[0m \u001b[0mutils\u001b[0m\u001b[1;33m\u001b[0m\u001b[1;33m\u001b[0m\u001b[0m\n",
      "\u001b[1;32m~\\Anaconda3\\lib\\site-packages\\tensorflow\\python\\keras\\layers\\__init__.py\u001b[0m in \u001b[0;36m<module>\u001b[1;34m\u001b[0m\n\u001b[0;32m     27\u001b[0m \u001b[1;33m\u001b[0m\u001b[0m\n\u001b[0;32m     28\u001b[0m \u001b[1;31m# Advanced activations.\u001b[0m\u001b[1;33m\u001b[0m\u001b[1;33m\u001b[0m\u001b[1;33m\u001b[0m\u001b[0m\n\u001b[1;32m---> 29\u001b[1;33m \u001b[1;32mfrom\u001b[0m \u001b[0mtensorflow\u001b[0m\u001b[1;33m.\u001b[0m\u001b[0mpython\u001b[0m\u001b[1;33m.\u001b[0m\u001b[0mkeras\u001b[0m\u001b[1;33m.\u001b[0m\u001b[0mlayers\u001b[0m\u001b[1;33m.\u001b[0m\u001b[0madvanced_activations\u001b[0m \u001b[1;32mimport\u001b[0m \u001b[0mLeakyReLU\u001b[0m\u001b[1;33m\u001b[0m\u001b[1;33m\u001b[0m\u001b[0m\n\u001b[0m\u001b[0;32m     30\u001b[0m \u001b[1;32mfrom\u001b[0m \u001b[0mtensorflow\u001b[0m\u001b[1;33m.\u001b[0m\u001b[0mpython\u001b[0m\u001b[1;33m.\u001b[0m\u001b[0mkeras\u001b[0m\u001b[1;33m.\u001b[0m\u001b[0mlayers\u001b[0m\u001b[1;33m.\u001b[0m\u001b[0madvanced_activations\u001b[0m \u001b[1;32mimport\u001b[0m \u001b[0mPReLU\u001b[0m\u001b[1;33m\u001b[0m\u001b[1;33m\u001b[0m\u001b[0m\n\u001b[0;32m     31\u001b[0m \u001b[1;32mfrom\u001b[0m \u001b[0mtensorflow\u001b[0m\u001b[1;33m.\u001b[0m\u001b[0mpython\u001b[0m\u001b[1;33m.\u001b[0m\u001b[0mkeras\u001b[0m\u001b[1;33m.\u001b[0m\u001b[0mlayers\u001b[0m\u001b[1;33m.\u001b[0m\u001b[0madvanced_activations\u001b[0m \u001b[1;32mimport\u001b[0m \u001b[0mELU\u001b[0m\u001b[1;33m\u001b[0m\u001b[1;33m\u001b[0m\u001b[0m\n",
      "\u001b[1;32m~\\Anaconda3\\lib\\site-packages\\tensorflow\\python\\keras\\layers\\advanced_activations.py\u001b[0m in \u001b[0;36m<module>\u001b[1;34m\u001b[0m\n\u001b[0;32m     25\u001b[0m \u001b[1;32mfrom\u001b[0m \u001b[0mtensorflow\u001b[0m\u001b[1;33m.\u001b[0m\u001b[0mpython\u001b[0m\u001b[1;33m.\u001b[0m\u001b[0mkeras\u001b[0m\u001b[1;33m.\u001b[0m\u001b[0mengine\u001b[0m\u001b[1;33m.\u001b[0m\u001b[0mbase_layer\u001b[0m \u001b[1;32mimport\u001b[0m \u001b[0mLayer\u001b[0m\u001b[1;33m\u001b[0m\u001b[1;33m\u001b[0m\u001b[0m\n\u001b[0;32m     26\u001b[0m \u001b[1;32mfrom\u001b[0m \u001b[0mtensorflow\u001b[0m\u001b[1;33m.\u001b[0m\u001b[0mpython\u001b[0m\u001b[1;33m.\u001b[0m\u001b[0mkeras\u001b[0m\u001b[1;33m.\u001b[0m\u001b[0mengine\u001b[0m\u001b[1;33m.\u001b[0m\u001b[0minput_spec\u001b[0m \u001b[1;32mimport\u001b[0m \u001b[0mInputSpec\u001b[0m\u001b[1;33m\u001b[0m\u001b[1;33m\u001b[0m\u001b[0m\n\u001b[1;32m---> 27\u001b[1;33m \u001b[1;32mfrom\u001b[0m \u001b[0mtensorflow\u001b[0m\u001b[1;33m.\u001b[0m\u001b[0mpython\u001b[0m\u001b[1;33m.\u001b[0m\u001b[0mkeras\u001b[0m\u001b[1;33m.\u001b[0m\u001b[0mutils\u001b[0m \u001b[1;32mimport\u001b[0m \u001b[0mtf_utils\u001b[0m\u001b[1;33m\u001b[0m\u001b[1;33m\u001b[0m\u001b[0m\n\u001b[0m\u001b[0;32m     28\u001b[0m \u001b[1;32mfrom\u001b[0m \u001b[0mtensorflow\u001b[0m\u001b[1;33m.\u001b[0m\u001b[0mpython\u001b[0m\u001b[1;33m.\u001b[0m\u001b[0mops\u001b[0m \u001b[1;32mimport\u001b[0m \u001b[0mmath_ops\u001b[0m\u001b[1;33m\u001b[0m\u001b[1;33m\u001b[0m\u001b[0m\n\u001b[0;32m     29\u001b[0m \u001b[1;32mfrom\u001b[0m \u001b[0mtensorflow\u001b[0m\u001b[1;33m.\u001b[0m\u001b[0mpython\u001b[0m\u001b[1;33m.\u001b[0m\u001b[0mutil\u001b[0m\u001b[1;33m.\u001b[0m\u001b[0mtf_export\u001b[0m \u001b[1;32mimport\u001b[0m \u001b[0mkeras_export\u001b[0m\u001b[1;33m\u001b[0m\u001b[1;33m\u001b[0m\u001b[0m\n",
      "\u001b[1;32m~\\Anaconda3\\lib\\site-packages\\tensorflow\\python\\keras\\utils\\__init__.py\u001b[0m in \u001b[0;36m<module>\u001b[1;34m\u001b[0m\n\u001b[0;32m     37\u001b[0m \u001b[1;32mfrom\u001b[0m \u001b[0mtensorflow\u001b[0m\u001b[1;33m.\u001b[0m\u001b[0mpython\u001b[0m\u001b[1;33m.\u001b[0m\u001b[0mkeras\u001b[0m\u001b[1;33m.\u001b[0m\u001b[0mutils\u001b[0m\u001b[1;33m.\u001b[0m\u001b[0mlayer_utils\u001b[0m \u001b[1;32mimport\u001b[0m \u001b[0mprint_summary\u001b[0m\u001b[1;33m\u001b[0m\u001b[1;33m\u001b[0m\u001b[0m\n\u001b[0;32m     38\u001b[0m \u001b[1;32mfrom\u001b[0m \u001b[0mtensorflow\u001b[0m\u001b[1;33m.\u001b[0m\u001b[0mpython\u001b[0m\u001b[1;33m.\u001b[0m\u001b[0mkeras\u001b[0m\u001b[1;33m.\u001b[0m\u001b[0mutils\u001b[0m\u001b[1;33m.\u001b[0m\u001b[0mlosses_utils\u001b[0m \u001b[1;32mimport\u001b[0m \u001b[0msqueeze_or_expand_dimensions\u001b[0m\u001b[1;33m\u001b[0m\u001b[1;33m\u001b[0m\u001b[0m\n\u001b[1;32m---> 39\u001b[1;33m \u001b[1;32mfrom\u001b[0m \u001b[0mtensorflow\u001b[0m\u001b[1;33m.\u001b[0m\u001b[0mpython\u001b[0m\u001b[1;33m.\u001b[0m\u001b[0mkeras\u001b[0m\u001b[1;33m.\u001b[0m\u001b[0mutils\u001b[0m\u001b[1;33m.\u001b[0m\u001b[0mmulti_gpu_utils\u001b[0m \u001b[1;32mimport\u001b[0m \u001b[0mmulti_gpu_model\u001b[0m\u001b[1;33m\u001b[0m\u001b[1;33m\u001b[0m\u001b[0m\n\u001b[0m\u001b[0;32m     40\u001b[0m \u001b[1;32mfrom\u001b[0m \u001b[0mtensorflow\u001b[0m\u001b[1;33m.\u001b[0m\u001b[0mpython\u001b[0m\u001b[1;33m.\u001b[0m\u001b[0mkeras\u001b[0m\u001b[1;33m.\u001b[0m\u001b[0mutils\u001b[0m\u001b[1;33m.\u001b[0m\u001b[0mnp_utils\u001b[0m \u001b[1;32mimport\u001b[0m \u001b[0mnormalize\u001b[0m\u001b[1;33m\u001b[0m\u001b[1;33m\u001b[0m\u001b[0m\n\u001b[0;32m     41\u001b[0m \u001b[1;32mfrom\u001b[0m \u001b[0mtensorflow\u001b[0m\u001b[1;33m.\u001b[0m\u001b[0mpython\u001b[0m\u001b[1;33m.\u001b[0m\u001b[0mkeras\u001b[0m\u001b[1;33m.\u001b[0m\u001b[0mutils\u001b[0m\u001b[1;33m.\u001b[0m\u001b[0mnp_utils\u001b[0m \u001b[1;32mimport\u001b[0m \u001b[0mto_categorical\u001b[0m\u001b[1;33m\u001b[0m\u001b[1;33m\u001b[0m\u001b[0m\n",
      "\u001b[1;32m~\\Anaconda3\\lib\\site-packages\\tensorflow\\python\\keras\\utils\\multi_gpu_utils.py\u001b[0m in \u001b[0;36m<module>\u001b[1;34m\u001b[0m\n\u001b[0;32m     20\u001b[0m \u001b[1;32mfrom\u001b[0m \u001b[0mtensorflow\u001b[0m\u001b[1;33m.\u001b[0m\u001b[0mpython\u001b[0m\u001b[1;33m.\u001b[0m\u001b[0mframework\u001b[0m \u001b[1;32mimport\u001b[0m \u001b[0mops\u001b[0m\u001b[1;33m\u001b[0m\u001b[1;33m\u001b[0m\u001b[0m\n\u001b[0;32m     21\u001b[0m \u001b[1;32mfrom\u001b[0m \u001b[0mtensorflow\u001b[0m\u001b[1;33m.\u001b[0m\u001b[0mpython\u001b[0m\u001b[1;33m.\u001b[0m\u001b[0mkeras\u001b[0m \u001b[1;32mimport\u001b[0m \u001b[0mbackend\u001b[0m \u001b[1;32mas\u001b[0m \u001b[0mK\u001b[0m\u001b[1;33m\u001b[0m\u001b[1;33m\u001b[0m\u001b[0m\n\u001b[1;32m---> 22\u001b[1;33m \u001b[1;32mfrom\u001b[0m \u001b[0mtensorflow\u001b[0m\u001b[1;33m.\u001b[0m\u001b[0mpython\u001b[0m\u001b[1;33m.\u001b[0m\u001b[0mkeras\u001b[0m\u001b[1;33m.\u001b[0m\u001b[0mengine\u001b[0m\u001b[1;33m.\u001b[0m\u001b[0mtraining\u001b[0m \u001b[1;32mimport\u001b[0m \u001b[0mModel\u001b[0m\u001b[1;33m\u001b[0m\u001b[1;33m\u001b[0m\u001b[0m\n\u001b[0m\u001b[0;32m     23\u001b[0m \u001b[1;32mfrom\u001b[0m \u001b[0mtensorflow\u001b[0m\u001b[1;33m.\u001b[0m\u001b[0mpython\u001b[0m\u001b[1;33m.\u001b[0m\u001b[0mops\u001b[0m \u001b[1;32mimport\u001b[0m \u001b[0marray_ops\u001b[0m\u001b[1;33m\u001b[0m\u001b[1;33m\u001b[0m\u001b[0m\n\u001b[0;32m     24\u001b[0m \u001b[1;32mfrom\u001b[0m \u001b[0mtensorflow\u001b[0m\u001b[1;33m.\u001b[0m\u001b[0mpython\u001b[0m\u001b[1;33m.\u001b[0m\u001b[0mutil\u001b[0m\u001b[1;33m.\u001b[0m\u001b[0mtf_export\u001b[0m \u001b[1;32mimport\u001b[0m \u001b[0mkeras_export\u001b[0m\u001b[1;33m\u001b[0m\u001b[1;33m\u001b[0m\u001b[0m\n",
      "\u001b[1;32m~\\Anaconda3\\lib\\site-packages\\tensorflow\\python\\keras\\engine\\training.py\u001b[0m in \u001b[0;36m<module>\u001b[1;34m\u001b[0m\n\u001b[0;32m     38\u001b[0m \u001b[1;32mfrom\u001b[0m \u001b[0mtensorflow\u001b[0m\u001b[1;33m.\u001b[0m\u001b[0mpython\u001b[0m\u001b[1;33m.\u001b[0m\u001b[0mkeras\u001b[0m \u001b[1;32mimport\u001b[0m \u001b[0moptimizers\u001b[0m\u001b[1;33m\u001b[0m\u001b[1;33m\u001b[0m\u001b[0m\n\u001b[0;32m     39\u001b[0m \u001b[1;32mfrom\u001b[0m \u001b[0mtensorflow\u001b[0m\u001b[1;33m.\u001b[0m\u001b[0mpython\u001b[0m\u001b[1;33m.\u001b[0m\u001b[0mkeras\u001b[0m\u001b[1;33m.\u001b[0m\u001b[0mdistribute\u001b[0m \u001b[1;32mimport\u001b[0m \u001b[0mdistributed_training_utils\u001b[0m\u001b[1;33m\u001b[0m\u001b[1;33m\u001b[0m\u001b[0m\n\u001b[1;32m---> 40\u001b[1;33m \u001b[1;32mfrom\u001b[0m \u001b[0mtensorflow\u001b[0m\u001b[1;33m.\u001b[0m\u001b[0mpython\u001b[0m\u001b[1;33m.\u001b[0m\u001b[0mkeras\u001b[0m\u001b[1;33m.\u001b[0m\u001b[0mengine\u001b[0m \u001b[1;32mimport\u001b[0m \u001b[0mnetwork\u001b[0m\u001b[1;33m\u001b[0m\u001b[1;33m\u001b[0m\u001b[0m\n\u001b[0m\u001b[0;32m     41\u001b[0m \u001b[1;32mfrom\u001b[0m \u001b[0mtensorflow\u001b[0m\u001b[1;33m.\u001b[0m\u001b[0mpython\u001b[0m\u001b[1;33m.\u001b[0m\u001b[0mkeras\u001b[0m\u001b[1;33m.\u001b[0m\u001b[0mengine\u001b[0m \u001b[1;32mimport\u001b[0m \u001b[0mtraining_arrays\u001b[0m\u001b[1;33m\u001b[0m\u001b[1;33m\u001b[0m\u001b[0m\n\u001b[0;32m     42\u001b[0m \u001b[1;32mfrom\u001b[0m \u001b[0mtensorflow\u001b[0m\u001b[1;33m.\u001b[0m\u001b[0mpython\u001b[0m\u001b[1;33m.\u001b[0m\u001b[0mkeras\u001b[0m\u001b[1;33m.\u001b[0m\u001b[0mengine\u001b[0m \u001b[1;32mimport\u001b[0m \u001b[0mtraining_distributed\u001b[0m\u001b[1;33m\u001b[0m\u001b[1;33m\u001b[0m\u001b[0m\n",
      "\u001b[1;32m~\\Anaconda3\\lib\\site-packages\\tensorflow\\python\\keras\\engine\\network.py\u001b[0m in \u001b[0;36m<module>\u001b[1;34m\u001b[0m\n\u001b[0;32m     37\u001b[0m \u001b[1;32mfrom\u001b[0m \u001b[0mtensorflow\u001b[0m\u001b[1;33m.\u001b[0m\u001b[0mpython\u001b[0m\u001b[1;33m.\u001b[0m\u001b[0mkeras\u001b[0m \u001b[1;32mimport\u001b[0m \u001b[0mbackend\u001b[0m\u001b[1;33m\u001b[0m\u001b[1;33m\u001b[0m\u001b[0m\n\u001b[0;32m     38\u001b[0m \u001b[1;32mfrom\u001b[0m \u001b[0mtensorflow\u001b[0m\u001b[1;33m.\u001b[0m\u001b[0mpython\u001b[0m\u001b[1;33m.\u001b[0m\u001b[0mkeras\u001b[0m \u001b[1;32mimport\u001b[0m \u001b[0mcallbacks\u001b[0m\u001b[1;33m\u001b[0m\u001b[1;33m\u001b[0m\u001b[0m\n\u001b[1;32m---> 39\u001b[1;33m \u001b[1;32mfrom\u001b[0m \u001b[0mtensorflow\u001b[0m\u001b[1;33m.\u001b[0m\u001b[0mpython\u001b[0m\u001b[1;33m.\u001b[0m\u001b[0mkeras\u001b[0m \u001b[1;32mimport\u001b[0m \u001b[0msaving\u001b[0m\u001b[1;33m\u001b[0m\u001b[1;33m\u001b[0m\u001b[0m\n\u001b[0m\u001b[0;32m     40\u001b[0m \u001b[1;32mfrom\u001b[0m \u001b[0mtensorflow\u001b[0m\u001b[1;33m.\u001b[0m\u001b[0mpython\u001b[0m\u001b[1;33m.\u001b[0m\u001b[0mkeras\u001b[0m\u001b[1;33m.\u001b[0m\u001b[0mengine\u001b[0m \u001b[1;32mimport\u001b[0m \u001b[0mbase_layer\u001b[0m\u001b[1;33m\u001b[0m\u001b[1;33m\u001b[0m\u001b[0m\n\u001b[0;32m     41\u001b[0m \u001b[1;32mfrom\u001b[0m \u001b[0mtensorflow\u001b[0m\u001b[1;33m.\u001b[0m\u001b[0mpython\u001b[0m\u001b[1;33m.\u001b[0m\u001b[0mkeras\u001b[0m\u001b[1;33m.\u001b[0m\u001b[0mengine\u001b[0m \u001b[1;32mimport\u001b[0m \u001b[0mbase_layer_utils\u001b[0m\u001b[1;33m\u001b[0m\u001b[1;33m\u001b[0m\u001b[0m\n",
      "\u001b[1;32m~\\Anaconda3\\lib\\site-packages\\tensorflow\\python\\keras\\saving\\__init__.py\u001b[0m in \u001b[0;36m<module>\u001b[1;34m\u001b[0m\n\u001b[0;32m     31\u001b[0m \u001b[1;32mfrom\u001b[0m \u001b[0mtensorflow\u001b[0m\u001b[1;33m.\u001b[0m\u001b[0mpython\u001b[0m\u001b[1;33m.\u001b[0m\u001b[0mkeras\u001b[0m\u001b[1;33m.\u001b[0m\u001b[0msaving\u001b[0m\u001b[1;33m.\u001b[0m\u001b[0msave\u001b[0m \u001b[1;32mimport\u001b[0m \u001b[0mload_model\u001b[0m\u001b[1;33m\u001b[0m\u001b[1;33m\u001b[0m\u001b[0m\n\u001b[0;32m     32\u001b[0m \u001b[1;32mfrom\u001b[0m \u001b[0mtensorflow\u001b[0m\u001b[1;33m.\u001b[0m\u001b[0mpython\u001b[0m\u001b[1;33m.\u001b[0m\u001b[0mkeras\u001b[0m\u001b[1;33m.\u001b[0m\u001b[0msaving\u001b[0m\u001b[1;33m.\u001b[0m\u001b[0msave\u001b[0m \u001b[1;32mimport\u001b[0m \u001b[0msave_model\u001b[0m\u001b[1;33m\u001b[0m\u001b[1;33m\u001b[0m\u001b[0m\n\u001b[1;32m---> 33\u001b[1;33m \u001b[1;32mfrom\u001b[0m \u001b[0mtensorflow\u001b[0m\u001b[1;33m.\u001b[0m\u001b[0mpython\u001b[0m\u001b[1;33m.\u001b[0m\u001b[0mkeras\u001b[0m\u001b[1;33m.\u001b[0m\u001b[0msaving\u001b[0m\u001b[1;33m.\u001b[0m\u001b[0msaved_model\u001b[0m \u001b[1;32mimport\u001b[0m \u001b[0mexport_saved_model\u001b[0m\u001b[1;33m\u001b[0m\u001b[1;33m\u001b[0m\u001b[0m\n\u001b[0m\u001b[0;32m     34\u001b[0m \u001b[1;32mfrom\u001b[0m \u001b[0mtensorflow\u001b[0m\u001b[1;33m.\u001b[0m\u001b[0mpython\u001b[0m\u001b[1;33m.\u001b[0m\u001b[0mkeras\u001b[0m\u001b[1;33m.\u001b[0m\u001b[0msaving\u001b[0m\u001b[1;33m.\u001b[0m\u001b[0msaved_model\u001b[0m \u001b[1;32mimport\u001b[0m \u001b[0mload_from_saved_model\u001b[0m\u001b[1;33m\u001b[0m\u001b[1;33m\u001b[0m\u001b[0m\n\u001b[0;32m     35\u001b[0m \u001b[1;32mfrom\u001b[0m \u001b[0mtensorflow\u001b[0m\u001b[1;33m.\u001b[0m\u001b[0mpython\u001b[0m\u001b[1;33m.\u001b[0m\u001b[0mkeras\u001b[0m\u001b[1;33m.\u001b[0m\u001b[0msaving\u001b[0m\u001b[1;33m.\u001b[0m\u001b[0msaving_utils\u001b[0m \u001b[1;32mimport\u001b[0m \u001b[0mtrace_model_call\u001b[0m\u001b[1;33m\u001b[0m\u001b[1;33m\u001b[0m\u001b[0m\n",
      "\u001b[1;31mImportError\u001b[0m: cannot import name 'export_saved_model' from 'tensorflow.python.keras.saving.saved_model' (C:\\Users\\jyotib18\\Anaconda3\\lib\\site-packages\\tensorflow\\python\\keras\\saving\\saved_model\\__init__.py)"
     ]
    }
   ],
   "source": [
    "#We are testing a DL model for Mixed integer formulation for Water distribution network.\n",
    "# The input data such as water demand and time-ahead dynamic energy prices are obtained from Singh et al (2019) paper.\n",
    "# We computed the time ahead pump switching using MATALB Gurobi solver\n",
    "# We obtained the time ahead pump switching for 2048 hours (85.33 days)\n",
    "# We train_test the neural network in the ratio of 80-20.\n",
    "# The nn is trained using ReLu and SoftMax (as the output is integer values)\n",
    "\n",
    "#In our  case y is (z)\n",
    "\n",
    "import numpy as np\n",
    "import pandas as pd   #data analysis and manipulation library\n",
    "import seaborn as sns #Python statistical data visualization library.\n",
    "import matplotlib.pyplot as plt\n",
    "from sklearn import model_selection #Tuning the hyperparameters, cross validation, model persistance are the important aspects of this.\n",
    "from sklearn.model_selection import train_test_split #ML library to data analysis\n",
    "from sklearn.metrics import accuracy_score, r2_score\n",
    "import sklearn.metrics as metrics\n",
    "from openpyxl import Workbook, load_workbook\n",
    "from openpyxl.utils.dataframe import dataframe_to_rows\n",
    "\n",
    "\n",
    "from sklearn.decomposition import PCA #dimensionality reduction\n",
    "\n",
    "%matplotlib inline\n",
    "\n",
    "#Libraries for Deep learning framework from Keras\n",
    "\n",
    "import tensorflow as tf\n",
    "from tensorflow.keras.models import Sequential\n",
    "from tensorflow.keras.layers import Dense, Activation\n",
    "\n",
    "import keras\n",
    "import keras.utils\n",
    "from keras import utils as np_utils\n",
    "\n",
    "from tensorflow.keras import layers\n",
    "from tensorflow.keras import utils as np_utils\n",
    "from tensorflow.keras import models \n",
    "from tensorflow.keras.models import Sequential\n",
    "from tensorflow.keras.layers import Activation, LeakyReLU, PReLU, ELU #Import activation functions from keras.layers\n",
    "from tensorflow.keras.layers import Dropout #Import dropout library, the objective of dropout is to prevent overfitting of data, However, we have to be careful while setting the dropout rate.\n",
    "from tensorflow.keras.optimizers import SGD, RMSprop\n",
    "from tensorflow.keras.callbacks import LearningRateScheduler #Learning rate scheduler, Here call back is an object that can perform\n",
    "                                                # at various actions at different stages of training \n",
    "from tensorflow.keras.callbacks import History #We can use the data collected from history to  [accuracy, loss, val_accuracy, val_loss]\n",
    "\n",
    "\n",
    "\n",
    "import io #Deal with various types of input output\n",
    "import os #Talk with os, like changing and modifying dirctories\n",
    "import requests #Allow you to send HTTP/1.1, headers, form data, multipart files r = requests.get(‘https://github.com/timeline.json’)\n",
    "\n",
    "\n",
    "import warnings\n",
    "warnings.simplefilter(action='ignore', category=FutureWarning)\n",
    "warnings.filterwarnings('ignore')\n",
    "warnings.filterwarnings('ignore', category=DeprecationWarning) #Deprecated warning: it is a base category of warning about deprecated features\n",
    "\n",
    "\n",
    "# import dill\n",
    "# dill.dump_session('notebook_env.db')\n"
   ]
  },
  {
   "cell_type": "code",
   "execution_count": 2,
   "metadata": {
    "colab": {
     "base_uri": "https://localhost:8080/",
     "height": 35
    },
    "id": "3UAv55q5WBcM",
    "outputId": "3c021aa0-bd4d-494f-f943-eef9218e7517"
   },
   "outputs": [
    {
     "data": {
      "text/plain": [
       "'C:\\\\Users\\\\jyotib18\\\\OneDrive - Universitetet i Agder\\\\Data Files From Rahul'"
      ]
     },
     "execution_count": 2,
     "metadata": {},
     "output_type": "execute_result"
    }
   ],
   "source": [
    "pwd\n"
   ]
  },
  {
   "cell_type": "code",
   "execution_count": null,
   "metadata": {
    "colab": {
     "base_uri": "https://localhost:8080/",
     "height": 73,
     "resources": {
      "http://localhost:8080/nbextensions/google.colab/files.js": {
       "data": "Ly8gQ29weXJpZ2h0IDIwMTcgR29vZ2xlIExMQwovLwovLyBMaWNlbnNlZCB1bmRlciB0aGUgQXBhY2hlIExpY2Vuc2UsIFZlcnNpb24gMi4wICh0aGUgIkxpY2Vuc2UiKTsKLy8geW91IG1heSBub3QgdXNlIHRoaXMgZmlsZSBleGNlcHQgaW4gY29tcGxpYW5jZSB3aXRoIHRoZSBMaWNlbnNlLgovLyBZb3UgbWF5IG9idGFpbiBhIGNvcHkgb2YgdGhlIExpY2Vuc2UgYXQKLy8KLy8gICAgICBodHRwOi8vd3d3LmFwYWNoZS5vcmcvbGljZW5zZXMvTElDRU5TRS0yLjAKLy8KLy8gVW5sZXNzIHJlcXVpcmVkIGJ5IGFwcGxpY2FibGUgbGF3IG9yIGFncmVlZCB0byBpbiB3cml0aW5nLCBzb2Z0d2FyZQovLyBkaXN0cmlidXRlZCB1bmRlciB0aGUgTGljZW5zZSBpcyBkaXN0cmlidXRlZCBvbiBhbiAiQVMgSVMiIEJBU0lTLAovLyBXSVRIT1VUIFdBUlJBTlRJRVMgT1IgQ09ORElUSU9OUyBPRiBBTlkgS0lORCwgZWl0aGVyIGV4cHJlc3Mgb3IgaW1wbGllZC4KLy8gU2VlIHRoZSBMaWNlbnNlIGZvciB0aGUgc3BlY2lmaWMgbGFuZ3VhZ2UgZ292ZXJuaW5nIHBlcm1pc3Npb25zIGFuZAovLyBsaW1pdGF0aW9ucyB1bmRlciB0aGUgTGljZW5zZS4KCi8qKgogKiBAZmlsZW92ZXJ2aWV3IEhlbHBlcnMgZm9yIGdvb2dsZS5jb2xhYiBQeXRob24gbW9kdWxlLgogKi8KKGZ1bmN0aW9uKHNjb3BlKSB7CmZ1bmN0aW9uIHNwYW4odGV4dCwgc3R5bGVBdHRyaWJ1dGVzID0ge30pIHsKICBjb25zdCBlbGVtZW50ID0gZG9jdW1lbnQuY3JlYXRlRWxlbWVudCgnc3BhbicpOwogIGVsZW1lbnQudGV4dENvbnRlbnQgPSB0ZXh0OwogIGZvciAoY29uc3Qga2V5IG9mIE9iamVjdC5rZXlzKHN0eWxlQXR0cmlidXRlcykpIHsKICAgIGVsZW1lbnQuc3R5bGVba2V5XSA9IHN0eWxlQXR0cmlidXRlc1trZXldOwogIH0KICByZXR1cm4gZWxlbWVudDsKfQoKLy8gTWF4IG51bWJlciBvZiBieXRlcyB3aGljaCB3aWxsIGJlIHVwbG9hZGVkIGF0IGEgdGltZS4KY29uc3QgTUFYX1BBWUxPQURfU0laRSA9IDEwMCAqIDEwMjQ7CgpmdW5jdGlvbiBfdXBsb2FkRmlsZXMoaW5wdXRJZCwgb3V0cHV0SWQpIHsKICBjb25zdCBzdGVwcyA9IHVwbG9hZEZpbGVzU3RlcChpbnB1dElkLCBvdXRwdXRJZCk7CiAgY29uc3Qgb3V0cHV0RWxlbWVudCA9IGRvY3VtZW50LmdldEVsZW1lbnRCeUlkKG91dHB1dElkKTsKICAvLyBDYWNoZSBzdGVwcyBvbiB0aGUgb3V0cHV0RWxlbWVudCB0byBtYWtlIGl0IGF2YWlsYWJsZSBmb3IgdGhlIG5leHQgY2FsbAogIC8vIHRvIHVwbG9hZEZpbGVzQ29udGludWUgZnJvbSBQeXRob24uCiAgb3V0cHV0RWxlbWVudC5zdGVwcyA9IHN0ZXBzOwoKICByZXR1cm4gX3VwbG9hZEZpbGVzQ29udGludWUob3V0cHV0SWQpOwp9CgovLyBUaGlzIGlzIHJvdWdobHkgYW4gYXN5bmMgZ2VuZXJhdG9yIChub3Qgc3VwcG9ydGVkIGluIHRoZSBicm93c2VyIHlldCksCi8vIHdoZXJlIHRoZXJlIGFyZSBtdWx0aXBsZSBhc3luY2hyb25vdXMgc3RlcHMgYW5kIHRoZSBQeXRob24gc2lkZSBpcyBnb2luZwovLyB0byBwb2xsIGZvciBjb21wbGV0aW9uIG9mIGVhY2ggc3RlcC4KLy8gVGhpcyB1c2VzIGEgUHJvbWlzZSB0byBibG9jayB0aGUgcHl0aG9uIHNpZGUgb24gY29tcGxldGlvbiBvZiBlYWNoIHN0ZXAsCi8vIHRoZW4gcGFzc2VzIHRoZSByZXN1bHQgb2YgdGhlIHByZXZpb3VzIHN0ZXAgYXMgdGhlIGlucHV0IHRvIHRoZSBuZXh0IHN0ZXAuCmZ1bmN0aW9uIF91cGxvYWRGaWxlc0NvbnRpbnVlKG91dHB1dElkKSB7CiAgY29uc3Qgb3V0cHV0RWxlbWVudCA9IGRvY3VtZW50LmdldEVsZW1lbnRCeUlkKG91dHB1dElkKTsKICBjb25zdCBzdGVwcyA9IG91dHB1dEVsZW1lbnQuc3RlcHM7CgogIGNvbnN0IG5leHQgPSBzdGVwcy5uZXh0KG91dHB1dEVsZW1lbnQubGFzdFByb21pc2VWYWx1ZSk7CiAgcmV0dXJuIFByb21pc2UucmVzb2x2ZShuZXh0LnZhbHVlLnByb21pc2UpLnRoZW4oKHZhbHVlKSA9PiB7CiAgICAvLyBDYWNoZSB0aGUgbGFzdCBwcm9taXNlIHZhbHVlIHRvIG1ha2UgaXQgYXZhaWxhYmxlIHRvIHRoZSBuZXh0CiAgICAvLyBzdGVwIG9mIHRoZSBnZW5lcmF0b3IuCiAgICBvdXRwdXRFbGVtZW50Lmxhc3RQcm9taXNlVmFsdWUgPSB2YWx1ZTsKICAgIHJldHVybiBuZXh0LnZhbHVlLnJlc3BvbnNlOwogIH0pOwp9CgovKioKICogR2VuZXJhdG9yIGZ1bmN0aW9uIHdoaWNoIGlzIGNhbGxlZCBiZXR3ZWVuIGVhY2ggYXN5bmMgc3RlcCBvZiB0aGUgdXBsb2FkCiAqIHByb2Nlc3MuCiAqIEBwYXJhbSB7c3RyaW5nfSBpbnB1dElkIEVsZW1lbnQgSUQgb2YgdGhlIGlucHV0IGZpbGUgcGlja2VyIGVsZW1lbnQuCiAqIEBwYXJhbSB7c3RyaW5nfSBvdXRwdXRJZCBFbGVtZW50IElEIG9mIHRoZSBvdXRwdXQgZGlzcGxheS4KICogQHJldHVybiB7IUl0ZXJhYmxlPCFPYmplY3Q+fSBJdGVyYWJsZSBvZiBuZXh0IHN0ZXBzLgogKi8KZnVuY3Rpb24qIHVwbG9hZEZpbGVzU3RlcChpbnB1dElkLCBvdXRwdXRJZCkgewogIGNvbnN0IGlucHV0RWxlbWVudCA9IGRvY3VtZW50LmdldEVsZW1lbnRCeUlkKGlucHV0SWQpOwogIGlucHV0RWxlbWVudC5kaXNhYmxlZCA9IGZhbHNlOwoKICBjb25zdCBvdXRwdXRFbGVtZW50ID0gZG9jdW1lbnQuZ2V0RWxlbWVudEJ5SWQob3V0cHV0SWQpOwogIG91dHB1dEVsZW1lbnQuaW5uZXJIVE1MID0gJyc7CgogIGNvbnN0IHBpY2tlZFByb21pc2UgPSBuZXcgUHJvbWlzZSgocmVzb2x2ZSkgPT4gewogICAgaW5wdXRFbGVtZW50LmFkZEV2ZW50TGlzdGVuZXIoJ2NoYW5nZScsIChlKSA9PiB7CiAgICAgIHJlc29sdmUoZS50YXJnZXQuZmlsZXMpOwogICAgfSk7CiAgfSk7CgogIGNvbnN0IGNhbmNlbCA9IGRvY3VtZW50LmNyZWF0ZUVsZW1lbnQoJ2J1dHRvbicpOwogIGlucHV0RWxlbWVudC5wYXJlbnRFbGVtZW50LmFwcGVuZENoaWxkKGNhbmNlbCk7CiAgY2FuY2VsLnRleHRDb250ZW50ID0gJ0NhbmNlbCB1cGxvYWQnOwogIGNvbnN0IGNhbmNlbFByb21pc2UgPSBuZXcgUHJvbWlzZSgocmVzb2x2ZSkgPT4gewogICAgY2FuY2VsLm9uY2xpY2sgPSAoKSA9PiB7CiAgICAgIHJlc29sdmUobnVsbCk7CiAgICB9OwogIH0pOwoKICAvLyBXYWl0IGZvciB0aGUgdXNlciB0byBwaWNrIHRoZSBmaWxlcy4KICBjb25zdCBmaWxlcyA9IHlpZWxkIHsKICAgIHByb21pc2U6IFByb21pc2UucmFjZShbcGlja2VkUHJvbWlzZSwgY2FuY2VsUHJvbWlzZV0pLAogICAgcmVzcG9uc2U6IHsKICAgICAgYWN0aW9uOiAnc3RhcnRpbmcnLAogICAgfQogIH07CgogIGNhbmNlbC5yZW1vdmUoKTsKCiAgLy8gRGlzYWJsZSB0aGUgaW5wdXQgZWxlbWVudCBzaW5jZSBmdXJ0aGVyIHBpY2tzIGFyZSBub3QgYWxsb3dlZC4KICBpbnB1dEVsZW1lbnQuZGlzYWJsZWQgPSB0cnVlOwoKICBpZiAoIWZpbGVzKSB7CiAgICByZXR1cm4gewogICAgICByZXNwb25zZTogewogICAgICAgIGFjdGlvbjogJ2NvbXBsZXRlJywKICAgICAgfQogICAgfTsKICB9CgogIGZvciAoY29uc3QgZmlsZSBvZiBmaWxlcykgewogICAgY29uc3QgbGkgPSBkb2N1bWVudC5jcmVhdGVFbGVtZW50KCdsaScpOwogICAgbGkuYXBwZW5kKHNwYW4oZmlsZS5uYW1lLCB7Zm9udFdlaWdodDogJ2JvbGQnfSkpOwogICAgbGkuYXBwZW5kKHNwYW4oCiAgICAgICAgYCgke2ZpbGUudHlwZSB8fCAnbi9hJ30pIC0gJHtmaWxlLnNpemV9IGJ5dGVzLCBgICsKICAgICAgICBgbGFzdCBtb2RpZmllZDogJHsKICAgICAgICAgICAgZmlsZS5sYXN0TW9kaWZpZWREYXRlID8gZmlsZS5sYXN0TW9kaWZpZWREYXRlLnRvTG9jYWxlRGF0ZVN0cmluZygpIDoKICAgICAgICAgICAgICAgICAgICAgICAgICAgICAgICAgICAgJ24vYSd9IC0gYCkpOwogICAgY29uc3QgcGVyY2VudCA9IHNwYW4oJzAlIGRvbmUnKTsKICAgIGxpLmFwcGVuZENoaWxkKHBlcmNlbnQpOwoKICAgIG91dHB1dEVsZW1lbnQuYXBwZW5kQ2hpbGQobGkpOwoKICAgIGNvbnN0IGZpbGVEYXRhUHJvbWlzZSA9IG5ldyBQcm9taXNlKChyZXNvbHZlKSA9PiB7CiAgICAgIGNvbnN0IHJlYWRlciA9IG5ldyBGaWxlUmVhZGVyKCk7CiAgICAgIHJlYWRlci5vbmxvYWQgPSAoZSkgPT4gewogICAgICAgIHJlc29sdmUoZS50YXJnZXQucmVzdWx0KTsKICAgICAgfTsKICAgICAgcmVhZGVyLnJlYWRBc0FycmF5QnVmZmVyKGZpbGUpOwogICAgfSk7CiAgICAvLyBXYWl0IGZvciB0aGUgZGF0YSB0byBiZSByZWFkeS4KICAgIGxldCBmaWxlRGF0YSA9IHlpZWxkIHsKICAgICAgcHJvbWlzZTogZmlsZURhdGFQcm9taXNlLAogICAgICByZXNwb25zZTogewogICAgICAgIGFjdGlvbjogJ2NvbnRpbnVlJywKICAgICAgfQogICAgfTsKCiAgICAvLyBVc2UgYSBjaHVua2VkIHNlbmRpbmcgdG8gYXZvaWQgbWVzc2FnZSBzaXplIGxpbWl0cy4gU2VlIGIvNjIxMTU2NjAuCiAgICBsZXQgcG9zaXRpb24gPSAwOwogICAgd2hpbGUgKHBvc2l0aW9uIDwgZmlsZURhdGEuYnl0ZUxlbmd0aCkgewogICAgICBjb25zdCBsZW5ndGggPSBNYXRoLm1pbihmaWxlRGF0YS5ieXRlTGVuZ3RoIC0gcG9zaXRpb24sIE1BWF9QQVlMT0FEX1NJWkUpOwogICAgICBjb25zdCBjaHVuayA9IG5ldyBVaW50OEFycmF5KGZpbGVEYXRhLCBwb3NpdGlvbiwgbGVuZ3RoKTsKICAgICAgcG9zaXRpb24gKz0gbGVuZ3RoOwoKICAgICAgY29uc3QgYmFzZTY0ID0gYnRvYShTdHJpbmcuZnJvbUNoYXJDb2RlLmFwcGx5KG51bGwsIGNodW5rKSk7CiAgICAgIHlpZWxkIHsKICAgICAgICByZXNwb25zZTogewogICAgICAgICAgYWN0aW9uOiAnYXBwZW5kJywKICAgICAgICAgIGZpbGU6IGZpbGUubmFtZSwKICAgICAgICAgIGRhdGE6IGJhc2U2NCwKICAgICAgICB9LAogICAgICB9OwogICAgICBwZXJjZW50LnRleHRDb250ZW50ID0KICAgICAgICAgIGAke01hdGgucm91bmQoKHBvc2l0aW9uIC8gZmlsZURhdGEuYnl0ZUxlbmd0aCkgKiAxMDApfSUgZG9uZWA7CiAgICB9CiAgfQoKICAvLyBBbGwgZG9uZS4KICB5aWVsZCB7CiAgICByZXNwb25zZTogewogICAgICBhY3Rpb246ICdjb21wbGV0ZScsCiAgICB9CiAgfTsKfQoKc2NvcGUuZ29vZ2xlID0gc2NvcGUuZ29vZ2xlIHx8IHt9OwpzY29wZS5nb29nbGUuY29sYWIgPSBzY29wZS5nb29nbGUuY29sYWIgfHwge307CnNjb3BlLmdvb2dsZS5jb2xhYi5fZmlsZXMgPSB7CiAgX3VwbG9hZEZpbGVzLAogIF91cGxvYWRGaWxlc0NvbnRpbnVlLAp9Owp9KShzZWxmKTsK",
       "headers": [
        [
         "content-type",
         "application/javascript"
        ]
       ],
       "ok": true,
       "status": 200,
       "status_text": ""
      }
     }
    },
    "id": "beX_lBIGXCaM",
    "outputId": "7513d247-36d8-438f-ea2e-d18accaea01c"
   },
   "outputs": [
    {
     "data": {
      "text/html": [
       "\n",
       "     <input type=\"file\" id=\"files-63c1e6e9-9d8e-4ab6-bbca-5dcadb288f40\" name=\"files[]\" multiple disabled\n",
       "        style=\"border:none\" />\n",
       "     <output id=\"result-63c1e6e9-9d8e-4ab6-bbca-5dcadb288f40\">\n",
       "      Upload widget is only available when the cell has been executed in the\n",
       "      current browser session. Please rerun this cell to enable.\n",
       "      </output>\n",
       "      <script src=\"/nbextensions/google.colab/files.js\"></script> "
      ],
      "text/plain": [
       "<IPython.core.display.HTML object>"
      ]
     },
     "metadata": {
      "tags": []
     },
     "output_type": "display_data"
    },
    {
     "name": "stdout",
     "output_type": "stream",
     "text": [
      "Saving 1.csv to 1 (4).csv\n"
     ]
    }
   ],
   "source": [
    "from google.colab import files\n",
    "uploaded = files.upload()"
   ]
  },
  {
   "cell_type": "code",
   "execution_count": null,
   "metadata": {
    "colab": {
     "base_uri": "https://localhost:8080/",
     "height": 35
    },
    "id": "IpVFTXeQXCXK",
    "outputId": "27426a81-8e08-46b7-8f2c-c8deaf83a9a4"
   },
   "outputs": [
    {
     "data": {
      "text/plain": [
       "(74426, 74)"
      ]
     },
     "execution_count": 5,
     "metadata": {
      "tags": []
     },
     "output_type": "execute_result"
    }
   ],
   "source": [
    "import io\n",
    "inputs = pd.read_csv(io.BytesIO(uploaded['1.csv']))\n",
    "# Dataset is now stored in a Pandas Dataframe\n",
    "inputs.shape"
   ]
  },
  {
   "cell_type": "code",
   "execution_count": null,
   "metadata": {
    "colab": {
     "base_uri": "https://localhost:8080/",
     "height": 35
    },
    "id": "JJOS8FKYX-NI",
    "outputId": "1b70258b-b9d3-487b-c10f-9a84707063e3"
   },
   "outputs": [
    {
     "data": {
      "text/plain": [
       "pandas.core.frame.DataFrame"
      ]
     },
     "execution_count": 6,
     "metadata": {
      "tags": []
     },
     "output_type": "execute_result"
    }
   ],
   "source": [
    "type(inputs)"
   ]
  },
  {
   "cell_type": "code",
   "execution_count": null,
   "metadata": {
    "colab": {
     "base_uri": "https://localhost:8080/",
     "height": 267
    },
    "id": "7kjRvcIjYBcE",
    "outputId": "fc4ba7fd-6de7-44fa-fddc-9bbd367a8a2d"
   },
   "outputs": [
    {
     "data": {
      "text/plain": [
       "<bound method NDFrame.head of            Vo  Zo  So  D1  D2  ...      U19       U20      U21      U22      U23\n",
       "0      62.566   0   5   1   0  ...   8.8337   0.58154  13.5080   2.2318   3.9928\n",
       "1      71.810   1   5   0   1  ...   5.5927  16.99000  16.1340   3.7825  19.5710\n",
       "2      55.224   1   5   1   0  ...  19.2290  15.67300  13.4650  16.8140   8.4171\n",
       "3      93.310   0   3   1   0  ...  12.7290   0.95541  13.9670   5.1422  13.8180\n",
       "4      80.276   0   3   0   0  ...  13.3570  14.64800  12.6200   9.3641   6.2872\n",
       "...       ...  ..  ..  ..  ..  ...      ...       ...      ...      ...      ...\n",
       "74421  83.700   1   3   0   0  ...   7.1363  15.05300  13.0420   9.1120   9.6588\n",
       "74422  47.008   1   5   0   0  ...   5.0991  12.60700  15.7320   8.2169   2.5618\n",
       "74423  78.333   1   2   1   0  ...   1.1724  14.57100  12.4900   4.3054   7.5235\n",
       "74424  78.274   1   4   1   0  ...   3.0832   5.48130   6.7063  11.6630  19.0950\n",
       "74425  98.236   1   4   0   1  ...  12.8460  15.92300  19.5390  17.4880  14.0980\n",
       "\n",
       "[74426 rows x 74 columns]>"
      ]
     },
     "execution_count": 7,
     "metadata": {
      "tags": []
     },
     "output_type": "execute_result"
    }
   ],
   "source": [
    "inputs.head"
   ]
  },
  {
   "cell_type": "code",
   "execution_count": null,
   "metadata": {
    "colab": {
     "base_uri": "https://localhost:8080/",
     "height": 73,
     "resources": {
      "http://localhost:8080/nbextensions/google.colab/files.js": {
       "data": "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",
       "headers": [
        [
         "content-type",
         "application/javascript"
        ]
       ],
       "ok": true,
       "status": 200,
       "status_text": ""
      }
     }
    },
    "id": "cyxhH-K9YDE4",
    "outputId": "a4394952-f9dd-4ef1-a867-d7948c3a2732"
   },
   "outputs": [
    {
     "data": {
      "text/html": [
       "\n",
       "     <input type=\"file\" id=\"files-6b62b3ab-24d3-4601-af95-2178cdb4c5a3\" name=\"files[]\" multiple disabled\n",
       "        style=\"border:none\" />\n",
       "     <output id=\"result-6b62b3ab-24d3-4601-af95-2178cdb4c5a3\">\n",
       "      Upload widget is only available when the cell has been executed in the\n",
       "      current browser session. Please rerun this cell to enable.\n",
       "      </output>\n",
       "      <script src=\"/nbextensions/google.colab/files.js\"></script> "
      ],
      "text/plain": [
       "<IPython.core.display.HTML object>"
      ]
     },
     "metadata": {
      "tags": []
     },
     "output_type": "display_data"
    },
    {
     "name": "stdout",
     "output_type": "stream",
     "text": [
      "Saving 3.csv to 3 (3).csv\n"
     ]
    }
   ],
   "source": [
    "from google.colab import files\n",
    "uploaded = files.upload()"
   ]
  },
  {
   "cell_type": "code",
   "execution_count": null,
   "metadata": {
    "colab": {
     "base_uri": "https://localhost:8080/",
     "height": 35
    },
    "id": "3K06d0z3YLHZ",
    "outputId": "2f18508a-5444-4967-a6c7-42e5cfdeb656"
   },
   "outputs": [
    {
     "data": {
      "text/plain": [
       "(74426, 48)"
      ]
     },
     "execution_count": 34,
     "metadata": {
      "tags": []
     },
     "output_type": "execute_result"
    }
   ],
   "source": [
    "import io\n",
    "outputs = pd.read_csv(io.BytesIO(uploaded['3.csv']))\n",
    "# Dataset is now stored in a Pandas Dataframe\n",
    "outputs.shape"
   ]
  },
  {
   "cell_type": "code",
   "execution_count": null,
   "metadata": {
    "colab": {
     "base_uri": "https://localhost:8080/",
     "height": 267
    },
    "id": "c_Y34U9Eo9RK",
    "outputId": "a0beb83e-4aeb-4f67-e98b-175ffcb61b9b"
   },
   "outputs": [
    {
     "data": {
      "text/plain": [
       "<bound method NDFrame.head of        z1   z2   z3   z4   z5   z6  ...     fu19  fu20    fu21  fu22  fu23  fu24\n",
       "0       0  1.0  1.0  1.0  1.0  1.0  ...   9.4519   0.0  10.000   0.0   0.0     0\n",
       "1       1  1.0  1.0  1.0  1.0  1.0  ...  10.0000   0.0  10.000  10.0  10.0     0\n",
       "2       1  1.0  1.0  1.0  1.0  1.0  ...  10.0000  10.0  10.000  10.0  10.0     0\n",
       "3       0  1.0  1.0  1.0  1.0  1.0  ...  10.0000  10.0   4.621  10.0  10.0     0\n",
       "4       0  1.0  1.0  1.0  1.0  1.0  ...  10.0000  10.0   0.000   0.0  10.0     0\n",
       "...    ..  ...  ...  ...  ...  ...  ...      ...   ...     ...   ...   ...   ...\n",
       "74421   1  1.0  1.0  1.0  0.0  1.0  ...  10.0000  10.0   0.000  10.0   0.0     0\n",
       "74422   1  1.0  1.0  1.0  1.0  1.0  ...   0.0000  10.0  10.000   0.0   0.0     0\n",
       "74423   1  0.0  0.0  1.0  1.0  1.0  ...  10.0000   0.0  10.000   0.0  10.0     0\n",
       "74424   1  1.0  1.0  0.0  1.0  1.0  ...  10.0000   0.0  10.000   0.0  10.0     0\n",
       "74425   1  1.0  1.0  1.0  1.0  0.0  ...  10.0000  10.0  10.000  10.0  10.0     0\n",
       "\n",
       "[74426 rows x 48 columns]>"
      ]
     },
     "execution_count": 36,
     "metadata": {
      "tags": []
     },
     "output_type": "execute_result"
    }
   ],
   "source": [
    "outputs.head"
   ]
  },
  {
   "cell_type": "code",
   "execution_count": null,
   "metadata": {
    "colab": {
     "base_uri": "https://localhost:8080/",
     "height": 142
    },
    "id": "7Q5rdfEcYUpm",
    "outputId": "e1c8aace-b467-4903-93de-00041281f93e"
   },
   "outputs": [
    {
     "data": {
      "text/plain": [
       "array([[62.566 ,  0.    ,  5.    , ..., 13.508 ,  2.2318,  3.9928],\n",
       "       [71.81  ,  1.    ,  5.    , ..., 16.134 ,  3.7825, 19.571 ],\n",
       "       [55.224 ,  1.    ,  5.    , ..., 13.465 , 16.814 ,  8.4171],\n",
       "       ...,\n",
       "       [78.333 ,  1.    ,  2.    , ..., 12.49  ,  4.3054,  7.5235],\n",
       "       [78.274 ,  1.    ,  4.    , ...,  6.7063, 11.663 , 19.095 ],\n",
       "       [98.236 ,  1.    ,  4.    , ..., 19.539 , 17.488 , 14.098 ]])"
      ]
     },
     "execution_count": 37,
     "metadata": {
      "tags": []
     },
     "output_type": "execute_result"
    }
   ],
   "source": [
    "x = inputs.values #converting data frame to array frame\n",
    "x"
   ]
  },
  {
   "cell_type": "code",
   "execution_count": null,
   "metadata": {
    "cellView": "both",
    "id": "_I8GfZFpYZgi"
   },
   "outputs": [],
   "source": [
    "#@title\n",
    "########PCA##########"
   ]
  },
  {
   "cell_type": "code",
   "execution_count": null,
   "metadata": {
    "cellView": "form",
    "colab": {
     "base_uri": "https://localhost:8080/",
     "height": 249
    },
    "id": "GRluknxvYajU",
    "outputId": "9e3f96a4-0963-4db8-ee4d-59f6a0512364"
   },
   "outputs": [
    {
     "data": {
      "text/plain": [
       "array([[-7.79199366e-01, -1.08578931e+00, -1.29684865e-03, ...,\n",
       "         6.39047227e-01, -1.33684474e+00, -1.03453175e+00],\n",
       "       [-1.97251337e-01,  9.20988988e-01, -1.29684865e-03, ...,\n",
       "         1.09515085e+00, -1.06667121e+00,  1.67369719e+00],\n",
       "       [-1.24140863e+00,  9.20988988e-01, -1.29684865e-03, ...,\n",
       "         6.31578660e-01,  1.20376558e+00, -2.65378874e-01],\n",
       "       ...,\n",
       "       [ 2.13398490e-01,  9.20988988e-01, -1.90628219e+00, ...,\n",
       "         4.62233256e-01, -9.75568004e-01, -4.20728874e-01],\n",
       "       [ 2.09684196e-01,  9.20988988e-01, -6.36291963e-01, ...,\n",
       "        -5.42323683e-01,  3.06323240e-01,  1.59094584e+00],\n",
       "       [ 1.46637465e+00,  9.20988988e-01, -6.36291963e-01, ...,\n",
       "         1.68655711e+00,  1.32119446e+00,  7.22230589e-01]])"
      ]
     },
     "execution_count": 39,
     "metadata": {
      "tags": []
     },
     "output_type": "execute_result"
    }
   ],
   "source": [
    "#@title\n",
    "\n",
    "#Scaling \n",
    "#Standerdize features by removing mean and scaling to unit varince\n",
    "\n",
    "from sklearn.preprocessing import StandardScaler\n",
    "x_scaled = StandardScaler().fit_transform(inputs)\n",
    "x_scaled"
   ]
  },
  {
   "cell_type": "code",
   "execution_count": null,
   "metadata": {
    "cellView": "form",
    "colab": {
     "base_uri": "https://localhost:8080/",
     "height": 35
    },
    "id": "UfDNzLFXYdQQ",
    "outputId": "9d01ab05-feb2-4a6b-87a5-2d8615a64e64"
   },
   "outputs": [
    {
     "data": {
      "text/plain": [
       "numpy.ndarray"
      ]
     },
     "execution_count": 40,
     "metadata": {
      "tags": []
     },
     "output_type": "execute_result"
    }
   ],
   "source": [
    "#@title\n",
    "type(x_scaled)"
   ]
  },
  {
   "cell_type": "code",
   "execution_count": null,
   "metadata": {
    "colab": {
     "base_uri": "https://localhost:8080/",
     "height": 35
    },
    "id": "6G4XI2ExYgQG",
    "outputId": "502a04e9-db8e-45a2-a0d8-1841667f637c"
   },
   "outputs": [
    {
     "data": {
      "text/plain": [
       "(74426, 74)"
      ]
     },
     "execution_count": 41,
     "metadata": {
      "tags": []
     },
     "output_type": "execute_result"
    }
   ],
   "source": [
    "x_scaled.shape\n"
   ]
  },
  {
   "cell_type": "code",
   "execution_count": null,
   "metadata": {
    "colab": {
     "base_uri": "https://localhost:8080/",
     "height": 35
    },
    "id": "DqbvNZJeYhq4",
    "outputId": "f87332ff-f868-4f90-d6bf-4ae63c217912"
   },
   "outputs": [
    {
     "data": {
      "text/plain": [
       "(-2.5629742128423135e-17, 0.9999999999999991)"
      ]
     },
     "execution_count": 42,
     "metadata": {
      "tags": []
     },
     "output_type": "execute_result"
    }
   ],
   "source": [
    "# testing the normalized data, mean and standard deviation of one\n",
    "\n",
    "np.mean(x_scaled), np.std(x_scaled)"
   ]
  },
  {
   "cell_type": "code",
   "execution_count": null,
   "metadata": {
    "colab": {
     "base_uri": "https://localhost:8080/",
     "height": 218
    },
    "id": "RB3WMjZaYkrF",
    "outputId": "6a06c3cc-7123-461c-cf65-b9aaeeafebc8"
   },
   "outputs": [
    {
     "data": {
      "text/html": [
       "<div>\n",
       "<style scoped>\n",
       "    .dataframe tbody tr th:only-of-type {\n",
       "        vertical-align: middle;\n",
       "    }\n",
       "\n",
       "    .dataframe tbody tr th {\n",
       "        vertical-align: top;\n",
       "    }\n",
       "\n",
       "    .dataframe thead th {\n",
       "        text-align: right;\n",
       "    }\n",
       "</style>\n",
       "<table border=\"1\" class=\"dataframe\">\n",
       "  <thead>\n",
       "    <tr style=\"text-align: right;\">\n",
       "      <th></th>\n",
       "      <th>feature0</th>\n",
       "      <th>feature1</th>\n",
       "      <th>feature2</th>\n",
       "      <th>feature3</th>\n",
       "      <th>feature4</th>\n",
       "      <th>feature5</th>\n",
       "      <th>feature6</th>\n",
       "      <th>feature7</th>\n",
       "      <th>feature8</th>\n",
       "      <th>feature9</th>\n",
       "      <th>feature10</th>\n",
       "      <th>feature11</th>\n",
       "      <th>feature12</th>\n",
       "      <th>feature13</th>\n",
       "      <th>feature14</th>\n",
       "      <th>feature15</th>\n",
       "      <th>feature16</th>\n",
       "      <th>feature17</th>\n",
       "      <th>feature18</th>\n",
       "      <th>feature19</th>\n",
       "      <th>feature20</th>\n",
       "      <th>feature21</th>\n",
       "      <th>feature22</th>\n",
       "      <th>feature23</th>\n",
       "      <th>feature24</th>\n",
       "      <th>feature25</th>\n",
       "      <th>feature26</th>\n",
       "      <th>feature27</th>\n",
       "      <th>feature28</th>\n",
       "      <th>feature29</th>\n",
       "      <th>feature30</th>\n",
       "      <th>feature31</th>\n",
       "      <th>feature32</th>\n",
       "      <th>feature33</th>\n",
       "      <th>feature34</th>\n",
       "      <th>feature35</th>\n",
       "      <th>feature36</th>\n",
       "      <th>feature37</th>\n",
       "      <th>feature38</th>\n",
       "      <th>feature39</th>\n",
       "      <th>feature40</th>\n",
       "      <th>feature41</th>\n",
       "      <th>feature42</th>\n",
       "      <th>feature43</th>\n",
       "      <th>feature44</th>\n",
       "      <th>feature45</th>\n",
       "      <th>feature46</th>\n",
       "      <th>feature47</th>\n",
       "      <th>feature48</th>\n",
       "      <th>feature49</th>\n",
       "      <th>feature50</th>\n",
       "      <th>feature51</th>\n",
       "      <th>feature52</th>\n",
       "      <th>feature53</th>\n",
       "      <th>feature54</th>\n",
       "      <th>feature55</th>\n",
       "      <th>feature56</th>\n",
       "      <th>feature57</th>\n",
       "      <th>feature58</th>\n",
       "      <th>feature59</th>\n",
       "      <th>feature60</th>\n",
       "      <th>feature61</th>\n",
       "      <th>feature62</th>\n",
       "      <th>feature63</th>\n",
       "      <th>feature64</th>\n",
       "      <th>feature65</th>\n",
       "      <th>feature66</th>\n",
       "      <th>feature67</th>\n",
       "      <th>feature68</th>\n",
       "      <th>feature69</th>\n",
       "      <th>feature70</th>\n",
       "      <th>feature71</th>\n",
       "      <th>feature72</th>\n",
       "      <th>feature73</th>\n",
       "    </tr>\n",
       "  </thead>\n",
       "  <tbody>\n",
       "    <tr>\n",
       "      <th>0</th>\n",
       "      <td>-0.779199</td>\n",
       "      <td>-1.085789</td>\n",
       "      <td>-0.001297</td>\n",
       "      <td>0.999758</td>\n",
       "      <td>-0.998845</td>\n",
       "      <td>-1.002152</td>\n",
       "      <td>-0.997531</td>\n",
       "      <td>-1.00296</td>\n",
       "      <td>-0.996727</td>\n",
       "      <td>0.996298</td>\n",
       "      <td>0.996111</td>\n",
       "      <td>1.000215</td>\n",
       "      <td>1.001748</td>\n",
       "      <td>0.997853</td>\n",
       "      <td>-0.994987</td>\n",
       "      <td>1.001022</td>\n",
       "      <td>1.001183</td>\n",
       "      <td>0.999758</td>\n",
       "      <td>1.000618</td>\n",
       "      <td>-0.999355</td>\n",
       "      <td>-0.998845</td>\n",
       "      <td>-1.003257</td>\n",
       "      <td>0.995442</td>\n",
       "      <td>-0.998496</td>\n",
       "      <td>-1.002637</td>\n",
       "      <td>0.999516</td>\n",
       "      <td>-0.998926</td>\n",
       "      <td>1.666327</td>\n",
       "      <td>0.382746</td>\n",
       "      <td>-0.865584</td>\n",
       "      <td>0.052943</td>\n",
       "      <td>0.742942</td>\n",
       "      <td>-0.835330</td>\n",
       "      <td>-1.336538</td>\n",
       "      <td>0.167820</td>\n",
       "      <td>-0.970953</td>\n",
       "      <td>-0.648693</td>\n",
       "      <td>1.641954</td>\n",
       "      <td>-0.660720</td>\n",
       "      <td>1.550239</td>\n",
       "      <td>-0.307590</td>\n",
       "      <td>-1.697326</td>\n",
       "      <td>-0.653961</td>\n",
       "      <td>-1.194959</td>\n",
       "      <td>1.704705</td>\n",
       "      <td>-0.177235</td>\n",
       "      <td>0.157821</td>\n",
       "      <td>-0.817445</td>\n",
       "      <td>1.328882</td>\n",
       "      <td>-1.378022</td>\n",
       "      <td>1.125337</td>\n",
       "      <td>-0.155879</td>\n",
       "      <td>1.554811</td>\n",
       "      <td>0.189437</td>\n",
       "      <td>1.377436</td>\n",
       "      <td>-0.430137</td>\n",
       "      <td>-0.270874</td>\n",
       "      <td>0.416529</td>\n",
       "      <td>1.500311</td>\n",
       "      <td>-1.211704</td>\n",
       "      <td>-1.526308</td>\n",
       "      <td>-0.283937</td>\n",
       "      <td>0.387110</td>\n",
       "      <td>1.524688</td>\n",
       "      <td>-0.660711</td>\n",
       "      <td>0.203252</td>\n",
       "      <td>1.021331</td>\n",
       "      <td>-0.553433</td>\n",
       "      <td>-1.371661</td>\n",
       "      <td>-0.172083</td>\n",
       "      <td>-1.614088</td>\n",
       "      <td>0.639047</td>\n",
       "      <td>-1.336845</td>\n",
       "      <td>-1.034532</td>\n",
       "    </tr>\n",
       "    <tr>\n",
       "      <th>1</th>\n",
       "      <td>-0.197251</td>\n",
       "      <td>0.920989</td>\n",
       "      <td>-0.001297</td>\n",
       "      <td>-1.000242</td>\n",
       "      <td>1.001156</td>\n",
       "      <td>0.997853</td>\n",
       "      <td>1.002475</td>\n",
       "      <td>-1.00296</td>\n",
       "      <td>1.003284</td>\n",
       "      <td>-1.003715</td>\n",
       "      <td>0.996111</td>\n",
       "      <td>-0.999785</td>\n",
       "      <td>-0.998255</td>\n",
       "      <td>-1.002152</td>\n",
       "      <td>-0.994987</td>\n",
       "      <td>-0.998979</td>\n",
       "      <td>-0.998818</td>\n",
       "      <td>0.999758</td>\n",
       "      <td>1.000618</td>\n",
       "      <td>1.000645</td>\n",
       "      <td>-0.998845</td>\n",
       "      <td>0.996754</td>\n",
       "      <td>-1.004579</td>\n",
       "      <td>1.001506</td>\n",
       "      <td>-1.002637</td>\n",
       "      <td>-1.000484</td>\n",
       "      <td>1.001075</td>\n",
       "      <td>-0.492004</td>\n",
       "      <td>0.005829</td>\n",
       "      <td>0.861889</td>\n",
       "      <td>1.136494</td>\n",
       "      <td>-0.360523</td>\n",
       "      <td>-1.400985</td>\n",
       "      <td>-0.814782</td>\n",
       "      <td>1.007040</td>\n",
       "      <td>1.510180</td>\n",
       "      <td>0.236368</td>\n",
       "      <td>1.520248</td>\n",
       "      <td>0.335108</td>\n",
       "      <td>1.694915</td>\n",
       "      <td>0.907904</td>\n",
       "      <td>-1.089912</td>\n",
       "      <td>0.063166</td>\n",
       "      <td>0.485296</td>\n",
       "      <td>1.272478</td>\n",
       "      <td>0.341959</td>\n",
       "      <td>1.732627</td>\n",
       "      <td>-1.279065</td>\n",
       "      <td>-0.713070</td>\n",
       "      <td>-0.083736</td>\n",
       "      <td>-1.285639</td>\n",
       "      <td>-0.851382</td>\n",
       "      <td>-1.026391</td>\n",
       "      <td>0.693260</td>\n",
       "      <td>-0.526016</td>\n",
       "      <td>1.100881</td>\n",
       "      <td>0.237178</td>\n",
       "      <td>-0.865942</td>\n",
       "      <td>0.719386</td>\n",
       "      <td>-1.504540</td>\n",
       "      <td>0.317792</td>\n",
       "      <td>1.785483</td>\n",
       "      <td>-0.421558</td>\n",
       "      <td>0.265903</td>\n",
       "      <td>1.545289</td>\n",
       "      <td>-0.791428</td>\n",
       "      <td>1.197658</td>\n",
       "      <td>-1.082485</td>\n",
       "      <td>1.359607</td>\n",
       "      <td>-0.737072</td>\n",
       "      <td>1.245204</td>\n",
       "      <td>1.095151</td>\n",
       "      <td>-1.066671</td>\n",
       "      <td>1.673697</td>\n",
       "    </tr>\n",
       "    <tr>\n",
       "      <th>2</th>\n",
       "      <td>-1.241409</td>\n",
       "      <td>0.920989</td>\n",
       "      <td>-0.001297</td>\n",
       "      <td>0.999758</td>\n",
       "      <td>-0.998845</td>\n",
       "      <td>0.997853</td>\n",
       "      <td>-0.997531</td>\n",
       "      <td>-1.00296</td>\n",
       "      <td>1.003284</td>\n",
       "      <td>-1.003715</td>\n",
       "      <td>0.996111</td>\n",
       "      <td>1.000215</td>\n",
       "      <td>-0.998255</td>\n",
       "      <td>-1.002152</td>\n",
       "      <td>-0.994987</td>\n",
       "      <td>1.001022</td>\n",
       "      <td>-0.998818</td>\n",
       "      <td>0.999758</td>\n",
       "      <td>-0.999382</td>\n",
       "      <td>1.000645</td>\n",
       "      <td>1.001156</td>\n",
       "      <td>-1.003257</td>\n",
       "      <td>-1.004579</td>\n",
       "      <td>1.001506</td>\n",
       "      <td>-1.002637</td>\n",
       "      <td>0.999516</td>\n",
       "      <td>1.001075</td>\n",
       "      <td>0.703081</td>\n",
       "      <td>-0.888252</td>\n",
       "      <td>0.314143</td>\n",
       "      <td>1.506052</td>\n",
       "      <td>1.376068</td>\n",
       "      <td>0.364899</td>\n",
       "      <td>1.009767</td>\n",
       "      <td>1.160220</td>\n",
       "      <td>0.208331</td>\n",
       "      <td>-1.725228</td>\n",
       "      <td>-0.860231</td>\n",
       "      <td>-0.236345</td>\n",
       "      <td>-0.238094</td>\n",
       "      <td>1.297968</td>\n",
       "      <td>-1.498718</td>\n",
       "      <td>-0.550418</td>\n",
       "      <td>-1.119233</td>\n",
       "      <td>-0.879366</td>\n",
       "      <td>0.784327</td>\n",
       "      <td>-0.732849</td>\n",
       "      <td>-0.904076</td>\n",
       "      <td>-1.245796</td>\n",
       "      <td>-0.970586</td>\n",
       "      <td>1.104415</td>\n",
       "      <td>-0.326899</td>\n",
       "      <td>0.665000</td>\n",
       "      <td>1.616236</td>\n",
       "      <td>-0.174373</td>\n",
       "      <td>0.452334</td>\n",
       "      <td>1.712741</td>\n",
       "      <td>-0.397791</td>\n",
       "      <td>0.641902</td>\n",
       "      <td>-0.577290</td>\n",
       "      <td>1.406315</td>\n",
       "      <td>-0.652268</td>\n",
       "      <td>-0.656465</td>\n",
       "      <td>1.480752</td>\n",
       "      <td>0.032611</td>\n",
       "      <td>-0.975366</td>\n",
       "      <td>-1.602328</td>\n",
       "      <td>-1.099561</td>\n",
       "      <td>-0.650799</td>\n",
       "      <td>1.640085</td>\n",
       "      <td>1.015707</td>\n",
       "      <td>0.631579</td>\n",
       "      <td>1.203766</td>\n",
       "      <td>-0.265379</td>\n",
       "    </tr>\n",
       "    <tr>\n",
       "      <th>3</th>\n",
       "      <td>1.156263</td>\n",
       "      <td>-1.085789</td>\n",
       "      <td>-1.271287</td>\n",
       "      <td>0.999758</td>\n",
       "      <td>-0.998845</td>\n",
       "      <td>-1.002152</td>\n",
       "      <td>-0.997531</td>\n",
       "      <td>-1.00296</td>\n",
       "      <td>1.003284</td>\n",
       "      <td>0.996298</td>\n",
       "      <td>-1.003904</td>\n",
       "      <td>-0.999785</td>\n",
       "      <td>-0.998255</td>\n",
       "      <td>-1.002152</td>\n",
       "      <td>1.005038</td>\n",
       "      <td>-0.998979</td>\n",
       "      <td>1.001183</td>\n",
       "      <td>0.999758</td>\n",
       "      <td>1.000618</td>\n",
       "      <td>-0.999355</td>\n",
       "      <td>1.001156</td>\n",
       "      <td>0.996754</td>\n",
       "      <td>-1.004579</td>\n",
       "      <td>1.001506</td>\n",
       "      <td>0.997370</td>\n",
       "      <td>-1.000484</td>\n",
       "      <td>1.001075</td>\n",
       "      <td>0.183146</td>\n",
       "      <td>-0.847851</td>\n",
       "      <td>-1.462880</td>\n",
       "      <td>0.298535</td>\n",
       "      <td>0.609192</td>\n",
       "      <td>0.301792</td>\n",
       "      <td>0.114169</td>\n",
       "      <td>-0.099091</td>\n",
       "      <td>-0.608397</td>\n",
       "      <td>-0.238056</td>\n",
       "      <td>0.920150</td>\n",
       "      <td>1.715248</td>\n",
       "      <td>-0.812597</td>\n",
       "      <td>1.010603</td>\n",
       "      <td>-1.266649</td>\n",
       "      <td>-1.606428</td>\n",
       "      <td>-0.159896</td>\n",
       "      <td>0.215498</td>\n",
       "      <td>-0.937147</td>\n",
       "      <td>-1.229895</td>\n",
       "      <td>0.620457</td>\n",
       "      <td>-0.502698</td>\n",
       "      <td>0.032597</td>\n",
       "      <td>0.677682</td>\n",
       "      <td>0.431568</td>\n",
       "      <td>0.108454</td>\n",
       "      <td>1.058532</td>\n",
       "      <td>0.729117</td>\n",
       "      <td>-0.546644</td>\n",
       "      <td>1.233950</td>\n",
       "      <td>0.636125</td>\n",
       "      <td>0.372965</td>\n",
       "      <td>-1.609260</td>\n",
       "      <td>1.236831</td>\n",
       "      <td>-1.286124</td>\n",
       "      <td>1.237370</td>\n",
       "      <td>-0.505426</td>\n",
       "      <td>-0.188329</td>\n",
       "      <td>1.070882</td>\n",
       "      <td>-1.200574</td>\n",
       "      <td>0.421810</td>\n",
       "      <td>1.536450</td>\n",
       "      <td>0.506968</td>\n",
       "      <td>-1.548939</td>\n",
       "      <td>0.718770</td>\n",
       "      <td>-0.829775</td>\n",
       "      <td>0.673553</td>\n",
       "    </tr>\n",
       "    <tr>\n",
       "      <th>4</th>\n",
       "      <td>0.335718</td>\n",
       "      <td>-1.085789</td>\n",
       "      <td>-1.271287</td>\n",
       "      <td>-1.000242</td>\n",
       "      <td>-0.998845</td>\n",
       "      <td>-1.002152</td>\n",
       "      <td>-0.997531</td>\n",
       "      <td>-1.00296</td>\n",
       "      <td>1.003284</td>\n",
       "      <td>0.996298</td>\n",
       "      <td>-1.003904</td>\n",
       "      <td>-0.999785</td>\n",
       "      <td>1.001748</td>\n",
       "      <td>-1.002152</td>\n",
       "      <td>1.005038</td>\n",
       "      <td>1.001022</td>\n",
       "      <td>-0.998818</td>\n",
       "      <td>0.999758</td>\n",
       "      <td>1.000618</td>\n",
       "      <td>1.000645</td>\n",
       "      <td>-0.998845</td>\n",
       "      <td>0.996754</td>\n",
       "      <td>0.995442</td>\n",
       "      <td>-0.998496</td>\n",
       "      <td>0.997370</td>\n",
       "      <td>0.999516</td>\n",
       "      <td>1.001075</td>\n",
       "      <td>-0.674057</td>\n",
       "      <td>-0.545540</td>\n",
       "      <td>-0.384866</td>\n",
       "      <td>-1.644683</td>\n",
       "      <td>0.468125</td>\n",
       "      <td>0.222937</td>\n",
       "      <td>-0.468138</td>\n",
       "      <td>-0.276287</td>\n",
       "      <td>-0.130149</td>\n",
       "      <td>-0.640897</td>\n",
       "      <td>-0.949007</td>\n",
       "      <td>-1.328818</td>\n",
       "      <td>-1.267166</td>\n",
       "      <td>1.544292</td>\n",
       "      <td>-0.026640</td>\n",
       "      <td>0.866141</td>\n",
       "      <td>-0.655407</td>\n",
       "      <td>-1.702673</td>\n",
       "      <td>0.395653</td>\n",
       "      <td>-0.492431</td>\n",
       "      <td>0.522463</td>\n",
       "      <td>1.202150</td>\n",
       "      <td>-1.383908</td>\n",
       "      <td>0.308000</td>\n",
       "      <td>0.386494</td>\n",
       "      <td>0.163271</td>\n",
       "      <td>-0.067373</td>\n",
       "      <td>1.712159</td>\n",
       "      <td>-1.026418</td>\n",
       "      <td>0.283856</td>\n",
       "      <td>0.516203</td>\n",
       "      <td>-1.562129</td>\n",
       "      <td>0.565732</td>\n",
       "      <td>1.241003</td>\n",
       "      <td>-0.304554</td>\n",
       "      <td>-0.163144</td>\n",
       "      <td>-1.386262</td>\n",
       "      <td>0.340829</td>\n",
       "      <td>1.342594</td>\n",
       "      <td>-0.973779</td>\n",
       "      <td>-1.362220</td>\n",
       "      <td>-1.049009</td>\n",
       "      <td>0.616444</td>\n",
       "      <td>0.837093</td>\n",
       "      <td>0.484813</td>\n",
       "      <td>-0.094207</td>\n",
       "      <td>-0.635656</td>\n",
       "    </tr>\n",
       "  </tbody>\n",
       "</table>\n",
       "</div>"
      ],
      "text/plain": [
       "   feature0  feature1  feature2  ...  feature71  feature72  feature73\n",
       "0 -0.779199 -1.085789 -0.001297  ...   0.639047  -1.336845  -1.034532\n",
       "1 -0.197251  0.920989 -0.001297  ...   1.095151  -1.066671   1.673697\n",
       "2 -1.241409  0.920989 -0.001297  ...   0.631579   1.203766  -0.265379\n",
       "3  1.156263 -1.085789 -1.271287  ...   0.718770  -0.829775   0.673553\n",
       "4  0.335718 -1.085789 -1.271287  ...   0.484813  -0.094207  -0.635656\n",
       "\n",
       "[5 rows x 74 columns]"
      ]
     },
     "execution_count": 43,
     "metadata": {
      "tags": []
     },
     "output_type": "execute_result"
    }
   ],
   "source": [
    "#Converting x_scaled in tablular form, \n",
    "\n",
    "feature_columns = ['feature'+ str(i) for i in range(x_scaled.shape[1])]\n",
    "x_scaled = pd.DataFrame(x_scaled, columns=feature_columns)\n",
    "x_scaled.head()\n",
    "\n"
   ]
  },
  {
   "cell_type": "code",
   "execution_count": null,
   "metadata": {
    "colab": {
     "base_uri": "https://localhost:8080/",
     "height": 35
    },
    "id": "2lEWiBy2YmdQ",
    "outputId": "ce93b449-e5f0-4967-ea94-4a47276be923"
   },
   "outputs": [
    {
     "data": {
      "text/plain": [
       "(74426, 74)"
      ]
     },
     "execution_count": 44,
     "metadata": {
      "tags": []
     },
     "output_type": "execute_result"
    }
   ],
   "source": [
    "x_scaled.shape"
   ]
  },
  {
   "cell_type": "code",
   "execution_count": null,
   "metadata": {
    "colab": {
     "base_uri": "https://localhost:8080/",
     "height": 295
    },
    "id": "Arv2osm7lT9I",
    "outputId": "f665c246-5cbb-4d00-8df5-b5bbf94b1f58"
   },
   "outputs": [
    {
     "data": {
      "image/png": "[encoded data removed]",
      "text/plain": [
       "<Figure size 432x288 with 1 Axes>"
      ]
     },
     "metadata": {
      "needs_background": "light",
      "tags": []
     },
     "output_type": "display_data"
    }
   ],
   "source": [
    "# Choosing number of components for PCA\n",
    "\n",
    "pca = PCA().fit(x_scaled) # scaled version of original data\n",
    "plt.plot(np.cumsum(pca.explained_variance_ratio_))\n",
    "plt.xlabel('number of components')\n",
    "plt.ylabel('cumulative explained variance (%)')\n",
    "plt.title('Number of components needed to explain variance')\n",
    "plt.axhline(y=0.95, color='r', linestyle='-')\n",
    "plt.text(0.5, 0.85, '95% cut-off threshold', color = 'red', fontsize=16)\n",
    "plt.grid()\n",
    "# plt.savefig('output1.pdf')\n",
    "# plt.savefig('output1.png', dpi=300, bbox_inches='tight')\n",
    "plt.show()"
   ]
  },
  {
   "cell_type": "code",
   "execution_count": null,
   "metadata": {
    "id": "1DHEmIeoYxJH"
   },
   "outputs": [],
   "source": [
    "# Summary- To get 95% of variance, we require 70 components.\n",
    "# Further Analyis-\n",
    "# This curve quantifies how much of the total, N-dimensional variance is contained within the first N components.\n",
    "# Here we can see, to cover 90% of variance, we need to take N=2.5 components out of 4. \n",
    "#However, since the problem deals with mixed integer formulations, we will take 3 componenets out of 5.\n",
    "# Summary- select n such that the 100 % variance will be covered."
   ]
  },
  {
   "cell_type": "code",
   "execution_count": null,
   "metadata": {
    "id": "oH5q1tkxYzUm"
   },
   "outputs": [],
   "source": [
    "# Dimensionality reduction using SVD to project to lower dimensional space\n",
    "# Projecting 5 dimensional data to 3 dimensional principal components\n",
    "\n",
    "from sklearn.decomposition import PCA \n",
    "pca = PCA(n_components=70) # n_components=number of components (based on above plot)\n",
    "x_pca = pca.fit_transform(x_scaled)"
   ]
  },
  {
   "cell_type": "code",
   "execution_count": null,
   "metadata": {
    "colab": {
     "base_uri": "https://localhost:8080/",
     "height": 35
    },
    "id": "ipCPs0XVY2d4",
    "outputId": "1384b41f-2eca-4e2f-8b85-7a3d6c911972"
   },
   "outputs": [
    {
     "data": {
      "text/plain": [
       "(74426, 70)"
      ]
     },
     "execution_count": 48,
     "metadata": {
      "tags": []
     },
     "output_type": "execute_result"
    }
   ],
   "source": [
    "x_pca.shape # shape of x after PCA"
   ]
  },
  {
   "cell_type": "code",
   "execution_count": null,
   "metadata": {
    "colab": {
     "base_uri": "https://localhost:8080/",
     "height": 267
    },
    "id": "4ZXWYXlQY5nl",
    "outputId": "fc7b2cb0-6aae-4005-8e36-94b95a7630d9"
   },
   "outputs": [
    {
     "data": {
      "image/png": "[encoded data removed]",
      "text/plain": [
       "<Figure size 432x288 with 1 Axes>"
      ]
     },
     "metadata": {
      "needs_background": "light",
      "tags": []
     },
     "output_type": "display_data"
    }
   ],
   "source": [
    "# Original data before PCA\n",
    "\n",
    "plt.scatter(x_scaled.iloc[:, 0], x_scaled.iloc[:, 1], c='r', marker='x', label='Original data')\n",
    "plt.legend(loc='upper right')\n",
    "plt.show()"
   ]
  },
  {
   "cell_type": "code",
   "execution_count": null,
   "metadata": {
    "colab": {
     "base_uri": "https://localhost:8080/",
     "height": 265
    },
    "id": "1OQjpeANY69q",
    "outputId": "06d36944-1e25-4208-acab-90cae35e5a45"
   },
   "outputs": [
    {
     "data": {
      "image/png": "[encoded data removed]",
      "text/plain": [
       "<Figure size 432x288 with 1 Axes>"
      ]
     },
     "metadata": {
      "needs_background": "light",
      "tags": []
     },
     "output_type": "display_data"
    }
   ],
   "source": [
    "# To understand the effect of dimensionality reduction, we can perform the\n",
    "# inverse transform of reduced data \n",
    "# Data after PCA\n",
    "\n",
    "x_new = pca.inverse_transform(x_pca)\n",
    "plt.scatter(x_new[:, 0], x_new[:, 1], c='b', marker='s', label='Projected data')\n",
    "plt.legend(loc='upper right')\n",
    "plt.show()"
   ]
  },
  {
   "cell_type": "code",
   "execution_count": null,
   "metadata": {
    "id": "J0nduFQGY-vU"
   },
   "outputs": [],
   "source": [
    "#Analysis of PCA plot-\n",
    "# The information along the least important principal axis is removed, leaving only the component of\n",
    "# the data with the highest variance. The fraction of variance that is cut out is roughly a measure \n",
    "# of how much \"information\" is discarded in this reduction of dimensionality.\n",
    "# This reduced-dimension dataset is in some senses \"good enough\" to encode the most important \n",
    "# relationships between the points: despite reducing the dimension of the data by 50%, \n",
    "# the overall relationship between the data points are mostly preserved."
   ]
  },
  {
   "cell_type": "code",
   "execution_count": null,
   "metadata": {
    "colab": {
     "base_uri": "https://localhost:8080/",
     "height": 249
    },
    "id": "MRcdztxbY_a-",
    "outputId": "04d2c973-69a1-4331-f456-46efccce6949"
   },
   "outputs": [
    {
     "name": "stdout",
     "output_type": "stream",
     "text": [
      "[[-1.54274640e-03  5.61858620e-04 -7.07851831e-01 ... -1.04344169e-02\n",
      "   2.50764352e-03  4.14834857e-03]\n",
      " [-8.00304480e-01  2.14006397e-01 -7.74314292e-04 ... -5.40616892e-02\n",
      "  -1.40824638e-02 -4.77688985e-02]\n",
      " [ 5.88945298e-03 -2.80927049e-01  3.92121373e-03 ... -1.29916292e-01\n",
      "   3.39536678e-03 -6.76547693e-02]\n",
      " ...\n",
      " [-4.21515679e-04 -8.57812293e-02  2.21512944e-03 ...  1.02461597e-01\n",
      "   9.41889062e-02  1.74481334e-01]\n",
      " [ 5.00822568e-03  7.23817824e-02 -2.30166263e-03 ...  6.76817496e-02\n",
      "  -2.25613854e-03  4.64269513e-02]\n",
      " [ 3.96848247e-02  1.18390982e-01 -3.14420878e-03 ...  9.55988748e-02\n",
      "   3.00505031e-02  1.06372196e-01]]\n"
     ]
    }
   ],
   "source": [
    "# The components correspond to combinations of original features.\n",
    "print(pca.components_)"
   ]
  },
  {
   "cell_type": "code",
   "execution_count": null,
   "metadata": {
    "colab": {
     "base_uri": "https://localhost:8080/",
     "height": 393
    },
    "id": "nUd_PSa-arod",
    "outputId": "98eadb3f-964f-402d-acbc-4ee84bdc3cc5"
   },
   "outputs": [
    {
     "data": {
      "text/plain": [
       "<matplotlib.axes._subplots.AxesSubplot at 0x7f17995f5f60>"
      ]
     },
     "execution_count": 53,
     "metadata": {
      "tags": []
     },
     "output_type": "execute_result"
    },
    {
     "data": {
      "image/png": "[encoded data removed]",
      "text/plain": [
       "<Figure size 864x432 with 2 Axes>"
      ]
     },
     "metadata": {
      "needs_background": "light",
      "tags": []
     },
     "output_type": "display_data"
    }
   ],
   "source": [
    "# Visualizing components using heatmap\n",
    "# Heatmap and color bar represent correlation between \n",
    "# various feature and the principal component.\n",
    "\n",
    "map= pd.DataFrame(pca.components_)\n",
    "plt.figure(figsize=(12,6))\n",
    "sns.heatmap(map,cmap='twilight')\n",
    "\n",
    "\n",
    "# map= pd.DataFrame(pca.components_,columns=data['feature_names'])"
   ]
  },
  {
   "cell_type": "code",
   "execution_count": null,
   "metadata": {
    "colab": {
     "base_uri": "https://localhost:8080/",
     "height": 231
    },
    "id": "Xmv6ah7MZE6F",
    "outputId": "03b8c402-1f31-40c1-cbb1-704c0d985c2d"
   },
   "outputs": [
    {
     "name": "stdout",
     "output_type": "stream",
     "text": [
      "[1.99389772 1.18687917 1.06450512 1.06321567 1.05802258 1.05562667\n",
      " 1.05430532 1.04925611 1.0478898  1.04528874 1.04378485 1.04254547\n",
      " 1.04214896 1.04136006 1.03956708 1.03685866 1.03453468 1.03297875\n",
      " 1.03127617 1.02993407 1.02903092 1.02817083 1.02526981 1.02427985\n",
      " 1.02262522 1.02100061 1.01781025 1.01624112 1.01575623 1.01498232\n",
      " 1.01235033 1.01109939 1.01002545 1.00902475 1.00818113 1.00595862\n",
      " 1.00383835 1.00331319 1.00154055 1.00092262 0.99907959 0.9979437\n",
      " 0.99594363 0.99511226 0.99387374 0.99193066 0.98979301 0.98927284\n",
      " 0.98672315 0.98439204 0.98313069 0.98241532 0.98000494 0.97903418\n",
      " 0.97628089 0.97556422 0.97472083 0.97389779 0.97052995 0.96899876\n",
      " 0.96823016 0.96648987 0.9637687  0.96180657 0.9584109  0.9579915\n",
      " 0.95671413 0.95361857 0.94991013 0.9464008 ]\n"
     ]
    }
   ],
   "source": [
    "print(pca.explained_variance_)"
   ]
  },
  {
   "cell_type": "code",
   "execution_count": null,
   "metadata": {
    "colab": {
     "base_uri": "https://localhost:8080/",
     "height": 231
    },
    "id": "1bRru-oaZHDo",
    "outputId": "ee5deeff-f3c4-4111-d34b-94a835328ab8"
   },
   "outputs": [
    {
     "name": "stdout",
     "output_type": "stream",
     "text": [
      "Explained variation per principal component: [0.0269442  0.01603869 0.01438501 0.01436759 0.01429741 0.01426503\n",
      " 0.01424718 0.01417895 0.01416048 0.01412533 0.01410501 0.01408826\n",
      " 0.0140829  0.01407224 0.01404801 0.01401142 0.01398001 0.01395898\n",
      " 0.01393598 0.01391784 0.01390564 0.01389401 0.01385481 0.01384143\n",
      " 0.01381907 0.01379712 0.01375401 0.0137328  0.01372625 0.01371579\n",
      " 0.01368023 0.01366332 0.01364881 0.01363529 0.01362389 0.01359385\n",
      " 0.0135652  0.0135581  0.01353415 0.0135258  0.01350089 0.01348554\n",
      " 0.01345852 0.01344728 0.01343055 0.01340429 0.0133754  0.01336837\n",
      " 0.01333392 0.01330242 0.01328537 0.0132757  0.01324313 0.01323001\n",
      " 0.01319281 0.01318312 0.01317173 0.0131606  0.01311509 0.0130944\n",
      " 0.01308402 0.0130605  0.01302373 0.01299721 0.01295132 0.01294566\n",
      " 0.0129284  0.01288656 0.01283645 0.01278903]\n"
     ]
    }
   ],
   "source": [
    "# Finding explained variance ratio to see amount of information or variance each principal component holds\n",
    "# after projecting the data to a lower dimensional sub-space.\n",
    "\n",
    "print('Explained variation per principal component: {}'.format(pca.explained_variance_ratio_))"
   ]
  },
  {
   "cell_type": "code",
   "execution_count": null,
   "metadata": {
    "id": "sYvCu2b_ZH9S"
   },
   "outputs": [],
   "source": [
    "# Ananlysis of PCA result above\n",
    "# From the above output, we can observe that the principal component 1 holds 35% of the information, principal component 2 holds only 25% of the information."
   ]
  },
  {
   "cell_type": "code",
   "execution_count": null,
   "metadata": {
    "id": "fW2D_4pZZKdm"
   },
   "outputs": [],
   "source": [
    "##################################### PCA over here #########################################"
   ]
  },
  {
   "cell_type": "code",
   "execution_count": null,
   "metadata": {
    "colab": {
     "base_uri": "https://localhost:8080/",
     "height": 35
    },
    "id": "u-1JFtEPZMI-",
    "outputId": "1a6530ce-97d3-43c1-e22d-afa1cc4cc523"
   },
   "outputs": [
    {
     "data": {
      "text/plain": [
       "pandas.core.frame.DataFrame"
      ]
     },
     "execution_count": 58,
     "metadata": {
      "tags": []
     },
     "output_type": "execute_result"
    }
   ],
   "source": [
    "type(outputs)"
   ]
  },
  {
   "cell_type": "code",
   "execution_count": null,
   "metadata": {
    "colab": {
     "base_uri": "https://localhost:8080/",
     "height": 142
    },
    "id": "ftCpb4JaZOCm",
    "outputId": "d1adf403-a25c-406b-af25-602b9fc6363a"
   },
   "outputs": [
    {
     "data": {
      "text/plain": [
       "array([[ 0.,  1.,  1., ...,  0.,  0.,  0.],\n",
       "       [ 1.,  1.,  1., ..., 10., 10.,  0.],\n",
       "       [ 1.,  1.,  1., ..., 10., 10.,  0.],\n",
       "       ...,\n",
       "       [ 1.,  0.,  0., ...,  0., 10.,  0.],\n",
       "       [ 1.,  1.,  1., ...,  0., 10.,  0.],\n",
       "       [ 1.,  1.,  1., ..., 10., 10.,  0.]])"
      ]
     },
     "execution_count": 59,
     "metadata": {
      "tags": []
     },
     "output_type": "execute_result"
    }
   ],
   "source": [
    "y = outputs.values # converting dataframe \"outputc\" in array form i.e. 'y' is now in array form \n",
    "y # y is combination of power assignments and channel assignments both."
   ]
  },
  {
   "cell_type": "code",
   "execution_count": null,
   "metadata": {
    "colab": {
     "base_uri": "https://localhost:8080/",
     "height": 35
    },
    "id": "ChIBpH6HZQxg",
    "outputId": "18f59c85-a710-4dfa-997d-b35308e72991"
   },
   "outputs": [
    {
     "data": {
      "text/plain": [
       "(74426, 48)"
      ]
     },
     "execution_count": 60,
     "metadata": {
      "tags": []
     },
     "output_type": "execute_result"
    }
   ],
   "source": [
    "y.shape"
   ]
  },
  {
   "cell_type": "code",
   "execution_count": null,
   "metadata": {
    "colab": {
     "base_uri": "https://localhost:8080/",
     "height": 35
    },
    "id": "abgDkl9qZTMj",
    "outputId": "2d246909-8eff-48b5-f5d5-2a3ac593b867"
   },
   "outputs": [
    {
     "data": {
      "text/plain": [
       "numpy.ndarray"
      ]
     },
     "execution_count": 61,
     "metadata": {
      "tags": []
     },
     "output_type": "execute_result"
    }
   ],
   "source": [
    "type(y)"
   ]
  },
  {
   "cell_type": "code",
   "execution_count": null,
   "metadata": {
    "colab": {
     "base_uri": "https://localhost:8080/",
     "height": 142
    },
    "id": "feOJ4F4eZVDY",
    "outputId": "50399f6d-8241-46ee-c374-b53b7e17226b"
   },
   "outputs": [
    {
     "data": {
      "text/plain": [
       "array([ 0.    ,  1.    ,  1.    ,  1.    ,  1.    ,  1.    ,  1.    ,\n",
       "        1.    ,  1.    ,  1.    ,  1.    ,  1.    ,  1.    ,  1.    ,\n",
       "        1.    ,  1.    ,  1.    ,  0.    ,  1.    ,  0.    ,  1.    ,\n",
       "        0.    ,  0.    ,  0.    ,  0.    , 10.    , 10.    , 10.    ,\n",
       "       10.    , 10.    , 10.    , 10.    , 10.    , 10.    , 10.    ,\n",
       "       10.    , 10.    , 10.    , 10.    , 10.    , 10.    ,  0.    ,\n",
       "        9.4519,  0.    , 10.    ,  0.    ,  0.    ,  0.    ])"
      ]
     },
     "execution_count": 62,
     "metadata": {
      "tags": []
     },
     "output_type": "execute_result"
    }
   ],
   "source": [
    "y[0]"
   ]
  },
  {
   "cell_type": "code",
   "execution_count": null,
   "metadata": {
    "colab": {
     "base_uri": "https://localhost:8080/",
     "height": 71
    },
    "id": "kL_w5EAOZXE9",
    "outputId": "e61df404-dd57-44dd-ed66-5e1662d55204"
   },
   "outputs": [
    {
     "data": {
      "text/plain": [
       "array([0., 1., 1., 0., 0., 1., 1., 0., 0., 0., 0., 0., 0., 1., 1., 1., 1.,\n",
       "       1., 1., 1., 0., 1., 1., 1., 1., 1., 1., 0., 0., 0., 1., 1., 0., 0.,\n",
       "       1., 1., 1., 1., 0., 1., 1., 0., 0., 0., 0., 1., 1., 0., 0., 0.])"
      ]
     },
     "execution_count": 63,
     "metadata": {
      "tags": []
     },
     "output_type": "execute_result"
    }
   ],
   "source": [
    "y[0:50, 0] # First row and initial 50 columns of y "
   ]
  },
  {
   "cell_type": "code",
   "execution_count": null,
   "metadata": {
    "id": "Jt2OQ-dMZZ1x"
   },
   "outputs": [],
   "source": [
    "# Splitting data for training and testing \n",
    "# Here both x and y are in array form (non-scaled)\n",
    "\n",
    "from sklearn.model_selection import train_test_split\n",
    "x_train, x_test, y_train, y_test = train_test_split(x, y, test_size=0.2, shuffle=False, random_state=42) # old\n",
    "#x_train, x_test, y_train, y_test = train_test_split(x, y, test_size=0.2, shuffle=True)"
   ]
  },
  {
   "cell_type": "code",
   "execution_count": null,
   "metadata": {
    "id": "gBhAhKzuZehe"
   },
   "outputs": [],
   "source": [
    "# Feature Scaling\n",
    "from sklearn.preprocessing import StandardScaler\n",
    "sc = StandardScaler()\n",
    "x_train = sc.fit_transform(x_train)\n",
    "x_test = sc.transform(x_test)"
   ]
  },
  {
   "cell_type": "code",
   "execution_count": null,
   "metadata": {
    "id": "VX8qOZkUZfiq"
   },
   "outputs": [],
   "source": [
    "# # Building neural network\n",
    "\n",
    "#model = Sequential()\n",
    "#model.add(Dense(40, input_dim=x.shape[1], activation='relu', kernel_initializer='random_normal')) # Input layer and 1st hidden layer\n",
    "\n",
    "#model.add(Dense(20, activation='relu', kernel_initializer='random_normal')) # 2nd Hidden layer \n",
    "#model.add(Dense(5, activation='relu', kernel_initializer='random_normal')) # 3rd Hidden layer \n",
    "\n",
    "# # model.add(Dense(60, activation='relu', kernel_initializer='random_normal')) # 4th Hidden Layer \n",
    "# # model.add(Dense(60, activation='relu', kernel_initializer='random_normal')) # 5th Hidden Layer\n",
    "# # model.add(Dense(60, activation='relu', kernel_initializer='random_normal')) # 6th Hidden Layer \n",
    "# # model.add(Dense(60, activation='relu', kernel_initializer='random_normal')) # 7th Hidden Layer\n",
    "# # model.add(Dense(60, activation='linear', kernel_initializer='random_normal')) # 8th Hidden Layer\n",
    "# # model.add(Dense(60, activation='linear', kernel_initializer='random_normal')) # 9th Hidden Layer \n",
    "# # model.add(Dense(60, activation='linear', kernel_initializer='random_normal')) # 10th Hidden Layer\n",
    "\n",
    "#model.add(Dense(y.shape[1], activation='linear', kernel_initializer='random_normal')) # Output Layer "
   ]
  },
  {
   "cell_type": "code",
   "execution_count": null,
   "metadata": {
    "id": "wQ7hnYBPZlEz"
   },
   "outputs": [],
   "source": [
    "#Building neural network\n",
    "\n",
    "model = keras.Sequential()\n",
    "model.add(Dense(40, input_dim=x.shape[1], kernel_initializer='random_normal')) # Input layer and 1st hidden layer\n",
    "\n",
    "model.add(LeakyReLU(alpha=0.1)) # Leaky Relu for 1st hidden layer\n",
    "\n",
    "model.add(Dense(60, kernel_initializer='random_normal')) # 2nd Hidden layer\n",
    "\n",
    "model.add(LeakyReLU(alpha=0.1)) # Leaky Relu for 2nd hidden layer\n",
    "\n",
    "model.add(Dense(80, kernel_initializer='random_normal')) # 3rd Hidden layer \n",
    "model.add(LeakyReLU(alpha=0.1)) # Leaky Relu for 3rd hidden layer\n",
    "\n",
    "model.add(Dense(100, kernel_initializer='random_normal')) # 4th Hidden Layer \n",
    "model.add(LeakyReLU(alpha=0.1)) # Leaky Relu for 4th hidden layer\n",
    "model.add(Dense(80, kernel_initializer='random_normal')) # 5th Hidden Layer\n",
    "model.add(LeakyReLU(alpha=0.1)) # Leaky Relu for 5th hidden layer\n",
    "model.add(Dense(60, kernel_initializer='random_normal')) # 6th Hidden layer\n",
    "model.add(LeakyReLU(alpha=0.1)) # Leaky Relu for 6th hidden layer\n",
    "\n",
    "model.add(Dense(10, kernel_initializer='random_normal')) # 7th Hidden Layer \n",
    "model.add(LeakyReLU(alpha=0.1)) # Leaky Relu for 4th hidden layer\n",
    "model.add(Dense(8, kernel_initializer='random_normal')) # 8th Hidden Layer\n",
    "model.add(LeakyReLU(alpha=0.1)) # Leaky Relu for 5th hidden layer\n",
    "model.add(Dense(6, kernel_initializer='random_normal')) # 9th Hidden layer\n",
    "model.add(LeakyReLU(alpha=0.1)) # Leaky Relu for 6th hidden layer\n",
    "\n",
    "\n",
    "model.add(Dense(10, kernel_initializer='random_normal')) # 10th Hidden Layer \n",
    "model.add(LeakyReLU(alpha=0.1)) # Leaky Relu for 4th hidden layer\n",
    "model.add(Dense(8, kernel_initializer='random_normal')) # 11th Hidden Layer\n",
    "model.add(LeakyReLU(alpha=0.1)) # Leaky Relu for 5th hidden layer\n",
    "model.add(Dense(6, kernel_initializer='random_normal')) # 12th Hidden layer\n",
    "model.add(LeakyReLU(alpha=0.1)) # Leaky Relu for 6th hidden layer\n",
    "\n",
    "\n",
    "\n",
    "model.add(LeakyReLU(alpha=0.1)) # Leaky Relu for 1st hidden layer\n",
    "\n",
    "model.add(Dense(60, kernel_initializer='random_normal')) # 2nd Hidden layer\n",
    "model.add(LeakyReLU(alpha=0.1)) # Leaky Relu for 2nd hidden layer\n",
    "\n",
    "model.add(Dense(80, kernel_initializer='random_normal')) # 3rd Hidden layer \n",
    "model.add(LeakyReLU(alpha=0.1)) # Leaky Relu for 3rd hidden layer\n",
    "\n",
    "model.add(Dense(100, kernel_initializer='random_normal')) # 4th Hidden Layer \n",
    "model.add(LeakyReLU(alpha=0.1)) # Leaky Relu for 4th hidden layer\n",
    "model.add(Dense(80, kernel_initializer='random_normal')) # 5th Hidden Layer\n",
    "model.add(LeakyReLU(alpha=0.1)) # Leaky Relu for 5th hidden layer\n",
    "model.add(Dense(60, kernel_initializer='random_normal')) # 6th Hidden layer\n",
    "model.add(LeakyReLU(alpha=0.1)) # Leaky Relu for 6th hidden layer\n",
    "\n",
    "# model.add(Dense(10, kernel_initializer='random_normal')) # 7th Hidden Layer \n",
    "# model.add(LeakyReLU(alpha=0.1)) # Leaky Relu for 4th hidden layer\n",
    "# model.add(Dense(8, kernel_initializer='random_normal')) # 8th Hidden Layer\n",
    "# model.add(LeakyReLU(alpha=0.1)) # Leaky Relu for 5th hidden layer\n",
    "# model.add(Dense(6, kernel_initializer='random_normal')) # 9th Hidden layer\n",
    "# model.add(LeakyReLU(alpha=0.1)) # Leaky Relu for 6th hidden layer\n",
    "\n",
    "\n",
    "# model.add(Dense(10, kernel_initializer='random_normal')) # 10th Hidden Layer \n",
    "# model.add(LeakyReLU(alpha=0.1)) # Leaky Relu for 4th hidden layer\n",
    "# model.add(Dense(8, kernel_initializer='random_normal')) # 11th Hidden Layer\n",
    "# model.add(LeakyReLU(alpha=0.1)) # Leaky Relu for 5th hidden layer\n",
    "# model.add(Dense(6, kernel_initializer='random_normal')) # 12th Hidden layer\n",
    "# model.add(LeakyReLU(alpha=0.1)) # Leaky Relu for 6th hidden layer\n",
    "\n",
    "\n",
    "#model.add(Dense(y.shape[1], activation='relu', kernel_initializer='random_normal')) # Output Layer \n",
    "\n",
    "# model.add(Dense(y.shape[1], activation='softmax', kernel_initializer='random_normal')) # Output Layer \n",
    "\n",
    "# model.add(Dense(y.shape[1], kernel_initializer='random_normal')) # Output Layer\n",
    "# model.add(LeakyReLU(alpha=0.1)) # Leaky Relu for output laye\n",
    "\n",
    "model.add(Dense(y.shape[1], activation='relu', kernel_initializer='random_normal')) # Output Layer \n",
    "\n",
    "# model.add(Dense(y.shape[1], activation='softmax', kernel_initializer='random_normal')) # Output Layer \n",
    "\n",
    "# model.add(Dense(y.shape[1], kernel_initializer='random_normal')) # Output Layer\n",
    "# model.add(LeakyReLU(alpha=0.1)) # Leaky Relu for output layer"
   ]
  },
  {
   "cell_type": "code",
   "execution_count": null,
   "metadata": {
    "id": "xhwu9nzjaVYA"
   },
   "outputs": [],
   "source": [
    "# Compiling Neural network\n",
    "\n",
    "from tensorflow.keras.callbacks import EarlyStopping\n",
    "model.compile(optimizer='ADAM', loss='mean_squared_error', metrics = ['mean_absolute_error']) \n",
    "monitor = EarlyStopping(monitor='val_loss', min_delta=0.0001, patience=10, \n",
    "                        verbose=1, mode='auto', restore_best_weights=True)"
   ]
  },
  {
   "cell_type": "code",
   "execution_count": null,
   "metadata": {
    "colab": {
     "base_uri": "https://localhost:8080/",
     "height": 1000
    },
    "id": "sUm7vYpNaZhk",
    "outputId": "bb1cd85f-4a22-4777-8674-4e053a532b6e"
   },
   "outputs": [
    {
     "name": "stdout",
     "output_type": "stream",
     "text": [
      "Epoch 1/1000\n",
      "117/117 - 2s - loss: 19.6597 - mean_absolute_error: 2.8043 - val_loss: 11.4965 - val_mean_absolute_error: 2.0545\n",
      "Epoch 2/1000\n",
      "117/117 - 1s - loss: 11.5318 - mean_absolute_error: 2.0566 - val_loss: 11.4958 - val_mean_absolute_error: 2.0488\n",
      "Epoch 3/1000\n",
      "117/117 - 1s - loss: 11.5328 - mean_absolute_error: 2.0565 - val_loss: 11.4968 - val_mean_absolute_error: 2.0556\n",
      "Epoch 4/1000\n",
      "117/117 - 1s - loss: 11.1236 - mean_absolute_error: 1.9783 - val_loss: 10.9582 - val_mean_absolute_error: 1.9576\n",
      "Epoch 5/1000\n",
      "117/117 - 1s - loss: 10.9846 - mean_absolute_error: 1.9495 - val_loss: 10.9523 - val_mean_absolute_error: 1.9533\n",
      "Epoch 6/1000\n",
      "117/117 - 1s - loss: 10.9805 - mean_absolute_error: 1.9480 - val_loss: 10.9486 - val_mean_absolute_error: 1.9416\n",
      "Epoch 7/1000\n",
      "117/117 - 1s - loss: 10.9787 - mean_absolute_error: 1.9476 - val_loss: 10.9479 - val_mean_absolute_error: 1.9419\n",
      "Epoch 8/1000\n",
      "117/117 - 1s - loss: 10.9775 - mean_absolute_error: 1.9467 - val_loss: 10.9483 - val_mean_absolute_error: 1.9496\n",
      "Epoch 9/1000\n",
      "117/117 - 1s - loss: 10.9767 - mean_absolute_error: 1.9469 - val_loss: 10.9456 - val_mean_absolute_error: 1.9434\n",
      "Epoch 10/1000\n",
      "117/117 - 1s - loss: 10.9756 - mean_absolute_error: 1.9464 - val_loss: 10.9455 - val_mean_absolute_error: 1.9393\n",
      "Epoch 11/1000\n",
      "117/117 - 1s - loss: 10.9760 - mean_absolute_error: 1.9464 - val_loss: 10.9458 - val_mean_absolute_error: 1.9293\n",
      "Epoch 12/1000\n",
      "117/117 - 1s - loss: 10.9753 - mean_absolute_error: 1.9462 - val_loss: 10.9452 - val_mean_absolute_error: 1.9311\n",
      "Epoch 13/1000\n",
      "117/117 - 1s - loss: 10.9750 - mean_absolute_error: 1.9460 - val_loss: 10.9441 - val_mean_absolute_error: 1.9415\n",
      "Epoch 14/1000\n",
      "117/117 - 1s - loss: 10.9751 - mean_absolute_error: 1.9461 - val_loss: 10.9430 - val_mean_absolute_error: 1.9446\n",
      "Epoch 15/1000\n",
      "117/117 - 1s - loss: 10.9748 - mean_absolute_error: 1.9462 - val_loss: 10.9443 - val_mean_absolute_error: 1.9309\n",
      "Epoch 16/1000\n",
      "117/117 - 1s - loss: 10.9750 - mean_absolute_error: 1.9457 - val_loss: 10.9459 - val_mean_absolute_error: 1.9278\n",
      "Epoch 17/1000\n",
      "117/117 - 1s - loss: 10.9747 - mean_absolute_error: 1.9457 - val_loss: 10.9446 - val_mean_absolute_error: 1.9330\n",
      "Epoch 18/1000\n",
      "117/117 - 1s - loss: 10.9737 - mean_absolute_error: 1.9456 - val_loss: 10.9430 - val_mean_absolute_error: 1.9445\n",
      "Epoch 19/1000\n",
      "117/117 - 1s - loss: 10.9737 - mean_absolute_error: 1.9455 - val_loss: 10.9456 - val_mean_absolute_error: 1.9451\n",
      "Epoch 20/1000\n",
      "117/117 - 1s - loss: 10.9728 - mean_absolute_error: 1.9453 - val_loss: 10.9442 - val_mean_absolute_error: 1.9468\n",
      "Epoch 21/1000\n",
      "117/117 - 1s - loss: 10.9730 - mean_absolute_error: 1.9456 - val_loss: 10.9439 - val_mean_absolute_error: 1.9396\n",
      "Epoch 22/1000\n",
      "117/117 - 1s - loss: 10.9726 - mean_absolute_error: 1.9453 - val_loss: 10.9423 - val_mean_absolute_error: 1.9449\n",
      "Epoch 23/1000\n",
      "117/117 - 1s - loss: 10.9728 - mean_absolute_error: 1.9455 - val_loss: 10.9433 - val_mean_absolute_error: 1.9336\n",
      "Epoch 24/1000\n",
      "117/117 - 1s - loss: 10.9725 - mean_absolute_error: 1.9452 - val_loss: 10.9437 - val_mean_absolute_error: 1.9376\n",
      "Epoch 25/1000\n",
      "117/117 - 1s - loss: 10.9715 - mean_absolute_error: 1.9449 - val_loss: 10.9423 - val_mean_absolute_error: 1.9448\n",
      "Epoch 26/1000\n",
      "117/117 - 1s - loss: 10.9719 - mean_absolute_error: 1.9450 - val_loss: 10.9432 - val_mean_absolute_error: 1.9195\n",
      "Epoch 27/1000\n",
      "117/117 - 1s - loss: 10.9717 - mean_absolute_error: 1.9450 - val_loss: 10.9436 - val_mean_absolute_error: 1.9278\n",
      "Epoch 28/1000\n",
      "117/117 - 1s - loss: 10.9714 - mean_absolute_error: 1.9448 - val_loss: 10.9431 - val_mean_absolute_error: 1.9521\n",
      "Epoch 29/1000\n",
      "117/117 - 1s - loss: 10.9707 - mean_absolute_error: 1.9449 - val_loss: 10.9409 - val_mean_absolute_error: 1.9334\n",
      "Epoch 30/1000\n",
      "117/117 - 1s - loss: 10.9706 - mean_absolute_error: 1.9446 - val_loss: 10.9404 - val_mean_absolute_error: 1.9409\n",
      "Epoch 31/1000\n",
      "117/117 - 1s - loss: 10.9702 - mean_absolute_error: 1.9446 - val_loss: 10.9397 - val_mean_absolute_error: 1.9477\n",
      "Epoch 32/1000\n",
      "117/117 - 1s - loss: 10.9702 - mean_absolute_error: 1.9446 - val_loss: 10.9393 - val_mean_absolute_error: 1.9325\n",
      "Epoch 33/1000\n",
      "117/117 - 1s - loss: 10.9699 - mean_absolute_error: 1.9447 - val_loss: 10.9402 - val_mean_absolute_error: 1.9240\n",
      "Epoch 34/1000\n",
      "117/117 - 1s - loss: 10.9694 - mean_absolute_error: 1.9443 - val_loss: 10.9381 - val_mean_absolute_error: 1.9379\n",
      "Epoch 35/1000\n",
      "117/117 - 1s - loss: 10.9691 - mean_absolute_error: 1.9442 - val_loss: 10.9387 - val_mean_absolute_error: 1.9333\n",
      "Epoch 36/1000\n",
      "117/117 - 1s - loss: 10.9695 - mean_absolute_error: 1.9441 - val_loss: 10.9422 - val_mean_absolute_error: 1.9619\n",
      "Epoch 37/1000\n",
      "117/117 - 1s - loss: 10.9682 - mean_absolute_error: 1.9442 - val_loss: 10.9424 - val_mean_absolute_error: 1.9156\n",
      "Epoch 38/1000\n",
      "117/117 - 1s - loss: 10.9686 - mean_absolute_error: 1.9438 - val_loss: 10.9393 - val_mean_absolute_error: 1.9451\n",
      "Epoch 39/1000\n",
      "117/117 - 1s - loss: 10.9676 - mean_absolute_error: 1.9438 - val_loss: 10.9393 - val_mean_absolute_error: 1.9585\n",
      "Epoch 40/1000\n",
      "117/117 - 1s - loss: 10.9674 - mean_absolute_error: 1.9438 - val_loss: 10.9363 - val_mean_absolute_error: 1.9394\n",
      "Epoch 41/1000\n",
      "117/117 - 1s - loss: 10.9668 - mean_absolute_error: 1.9436 - val_loss: 10.9437 - val_mean_absolute_error: 1.9664\n",
      "Epoch 42/1000\n",
      "117/117 - 1s - loss: 10.9669 - mean_absolute_error: 1.9439 - val_loss: 10.9430 - val_mean_absolute_error: 1.9128\n",
      "Epoch 43/1000\n",
      "117/117 - 1s - loss: 10.9659 - mean_absolute_error: 1.9434 - val_loss: 10.9378 - val_mean_absolute_error: 1.9501\n",
      "Epoch 44/1000\n",
      "117/117 - 1s - loss: 10.9656 - mean_absolute_error: 1.9434 - val_loss: 10.9364 - val_mean_absolute_error: 1.9318\n",
      "Epoch 45/1000\n",
      "117/117 - 1s - loss: 10.9654 - mean_absolute_error: 1.9432 - val_loss: 10.9472 - val_mean_absolute_error: 1.9781\n",
      "Epoch 46/1000\n",
      "117/117 - 1s - loss: 10.9653 - mean_absolute_error: 1.9435 - val_loss: 10.9348 - val_mean_absolute_error: 1.9360\n",
      "Epoch 47/1000\n",
      "117/117 - 1s - loss: 10.9636 - mean_absolute_error: 1.9429 - val_loss: 10.9331 - val_mean_absolute_error: 1.9435\n",
      "Epoch 48/1000\n",
      "117/117 - 1s - loss: 10.9628 - mean_absolute_error: 1.9426 - val_loss: 10.9338 - val_mean_absolute_error: 1.9198\n",
      "Epoch 49/1000\n",
      "117/117 - 1s - loss: 10.9625 - mean_absolute_error: 1.9424 - val_loss: 10.9311 - val_mean_absolute_error: 1.9264\n",
      "Epoch 50/1000\n",
      "117/117 - 1s - loss: 10.9616 - mean_absolute_error: 1.9421 - val_loss: 10.9317 - val_mean_absolute_error: 1.9245\n",
      "Epoch 51/1000\n",
      "117/117 - 1s - loss: 10.9606 - mean_absolute_error: 1.9420 - val_loss: 10.9303 - val_mean_absolute_error: 1.9278\n",
      "Epoch 52/1000\n",
      "117/117 - 1s - loss: 10.9591 - mean_absolute_error: 1.9417 - val_loss: 10.9300 - val_mean_absolute_error: 1.9501\n",
      "Epoch 53/1000\n",
      "117/117 - 1s - loss: 10.9584 - mean_absolute_error: 1.9416 - val_loss: 10.9277 - val_mean_absolute_error: 1.9283\n",
      "Epoch 54/1000\n",
      "117/117 - 1s - loss: 10.9555 - mean_absolute_error: 1.9406 - val_loss: 10.9132 - val_mean_absolute_error: 1.9193\n",
      "Epoch 55/1000\n",
      "117/117 - 1s - loss: 10.9420 - mean_absolute_error: 1.9302 - val_loss: 10.9109 - val_mean_absolute_error: 1.9317\n",
      "Epoch 56/1000\n",
      "117/117 - 1s - loss: 10.9398 - mean_absolute_error: 1.9296 - val_loss: 10.9110 - val_mean_absolute_error: 1.9094\n",
      "Epoch 57/1000\n",
      "117/117 - 1s - loss: 10.9385 - mean_absolute_error: 1.9291 - val_loss: 10.9045 - val_mean_absolute_error: 1.9172\n",
      "Epoch 58/1000\n",
      "117/117 - 1s - loss: 10.9353 - mean_absolute_error: 1.9286 - val_loss: 10.9033 - val_mean_absolute_error: 1.8942\n",
      "Epoch 59/1000\n",
      "117/117 - 1s - loss: 10.9257 - mean_absolute_error: 1.9258 - val_loss: 10.8736 - val_mean_absolute_error: 1.9125\n",
      "Epoch 60/1000\n",
      "117/117 - 1s - loss: 10.7711 - mean_absolute_error: 1.8884 - val_loss: 10.5518 - val_mean_absolute_error: 1.8211\n",
      "Epoch 61/1000\n",
      "117/117 - 1s - loss: 10.5098 - mean_absolute_error: 1.8299 - val_loss: 10.4126 - val_mean_absolute_error: 1.8266\n",
      "Epoch 62/1000\n",
      "117/117 - 1s - loss: 10.4798 - mean_absolute_error: 1.8214 - val_loss: 10.4827 - val_mean_absolute_error: 1.8253\n",
      "Epoch 63/1000\n",
      "117/117 - 1s - loss: 10.4961 - mean_absolute_error: 1.8244 - val_loss: 10.4666 - val_mean_absolute_error: 1.8137\n",
      "Epoch 64/1000\n",
      "117/117 - 1s - loss: 10.4792 - mean_absolute_error: 1.8209 - val_loss: 10.4297 - val_mean_absolute_error: 1.8345\n",
      "Epoch 65/1000\n",
      "117/117 - 1s - loss: 10.4635 - mean_absolute_error: 1.8162 - val_loss: 10.4411 - val_mean_absolute_error: 1.7847\n",
      "Epoch 66/1000\n",
      "117/117 - 1s - loss: 10.4720 - mean_absolute_error: 1.8184 - val_loss: 10.4193 - val_mean_absolute_error: 1.8265\n",
      "Epoch 67/1000\n",
      "117/117 - 1s - loss: 10.4377 - mean_absolute_error: 1.8109 - val_loss: 10.3959 - val_mean_absolute_error: 1.8131\n",
      "Epoch 68/1000\n",
      "117/117 - 1s - loss: 10.4257 - mean_absolute_error: 1.8085 - val_loss: 10.3881 - val_mean_absolute_error: 1.7824\n",
      "Epoch 69/1000\n",
      "117/117 - 1s - loss: 10.4198 - mean_absolute_error: 1.8068 - val_loss: 10.3849 - val_mean_absolute_error: 1.8215\n",
      "Epoch 70/1000\n",
      "117/117 - 1s - loss: 10.4164 - mean_absolute_error: 1.8062 - val_loss: 10.3805 - val_mean_absolute_error: 1.8006\n",
      "Epoch 71/1000\n",
      "117/117 - 1s - loss: 10.4163 - mean_absolute_error: 1.8056 - val_loss: 10.3818 - val_mean_absolute_error: 1.8050\n",
      "Epoch 72/1000\n",
      "117/117 - 1s - loss: 10.4158 - mean_absolute_error: 1.8056 - val_loss: 10.3833 - val_mean_absolute_error: 1.8193\n",
      "Epoch 73/1000\n",
      "117/117 - 1s - loss: 10.4143 - mean_absolute_error: 1.8052 - val_loss: 10.3808 - val_mean_absolute_error: 1.8205\n",
      "Epoch 74/1000\n",
      "117/117 - 1s - loss: 10.4138 - mean_absolute_error: 1.8052 - val_loss: 10.3852 - val_mean_absolute_error: 1.7684\n",
      "Epoch 75/1000\n",
      "117/117 - 1s - loss: 10.4133 - mean_absolute_error: 1.8050 - val_loss: 10.3817 - val_mean_absolute_error: 1.7978\n",
      "Epoch 76/1000\n",
      "117/117 - 1s - loss: 10.4143 - mean_absolute_error: 1.8053 - val_loss: 10.3791 - val_mean_absolute_error: 1.8122\n",
      "Epoch 77/1000\n",
      "117/117 - 1s - loss: 10.4114 - mean_absolute_error: 1.8045 - val_loss: 10.3772 - val_mean_absolute_error: 1.7941\n",
      "Epoch 78/1000\n",
      "117/117 - 1s - loss: 10.4116 - mean_absolute_error: 1.8044 - val_loss: 10.3862 - val_mean_absolute_error: 1.7862\n",
      "Epoch 79/1000\n",
      "117/117 - 1s - loss: 10.4103 - mean_absolute_error: 1.8040 - val_loss: 10.3753 - val_mean_absolute_error: 1.8017\n",
      "Epoch 80/1000\n",
      "117/117 - 1s - loss: 10.4104 - mean_absolute_error: 1.8043 - val_loss: 10.3787 - val_mean_absolute_error: 1.8215\n",
      "Epoch 81/1000\n",
      "117/117 - 1s - loss: 10.4107 - mean_absolute_error: 1.8046 - val_loss: 10.3756 - val_mean_absolute_error: 1.7951\n",
      "Epoch 82/1000\n",
      "117/117 - 1s - loss: 10.4090 - mean_absolute_error: 1.8039 - val_loss: 10.3754 - val_mean_absolute_error: 1.7871\n",
      "Epoch 83/1000\n",
      "117/117 - 1s - loss: 10.4079 - mean_absolute_error: 1.8035 - val_loss: 10.3766 - val_mean_absolute_error: 1.7835\n",
      "Epoch 84/1000\n",
      "117/117 - 1s - loss: 10.4081 - mean_absolute_error: 1.8035 - val_loss: 10.3746 - val_mean_absolute_error: 1.7957\n",
      "Epoch 85/1000\n",
      "117/117 - 1s - loss: 10.4075 - mean_absolute_error: 1.8034 - val_loss: 10.3761 - val_mean_absolute_error: 1.7842\n",
      "Epoch 86/1000\n",
      "117/117 - 1s - loss: 10.4079 - mean_absolute_error: 1.8035 - val_loss: 10.3742 - val_mean_absolute_error: 1.7936\n",
      "Epoch 87/1000\n",
      "117/117 - 1s - loss: 10.4071 - mean_absolute_error: 1.8033 - val_loss: 10.3731 - val_mean_absolute_error: 1.7967\n",
      "Epoch 88/1000\n",
      "117/117 - 1s - loss: 10.4066 - mean_absolute_error: 1.8033 - val_loss: 10.3734 - val_mean_absolute_error: 1.7981\n",
      "Epoch 89/1000\n",
      "117/117 - 1s - loss: 10.4071 - mean_absolute_error: 1.8035 - val_loss: 10.3713 - val_mean_absolute_error: 1.7932\n",
      "Epoch 90/1000\n",
      "117/117 - 1s - loss: 10.4043 - mean_absolute_error: 1.8026 - val_loss: 10.3722 - val_mean_absolute_error: 1.8073\n",
      "Epoch 91/1000\n",
      "117/117 - 1s - loss: 10.4064 - mean_absolute_error: 1.8038 - val_loss: 10.3725 - val_mean_absolute_error: 1.7904\n",
      "Epoch 92/1000\n",
      "117/117 - 1s - loss: 10.4041 - mean_absolute_error: 1.8029 - val_loss: 10.3783 - val_mean_absolute_error: 1.7672\n",
      "Epoch 93/1000\n",
      "117/117 - 1s - loss: 10.4046 - mean_absolute_error: 1.8028 - val_loss: 10.3718 - val_mean_absolute_error: 1.8115\n",
      "Epoch 94/1000\n",
      "117/117 - 1s - loss: 10.4022 - mean_absolute_error: 1.8025 - val_loss: 10.3735 - val_mean_absolute_error: 1.7710\n",
      "Epoch 95/1000\n",
      "117/117 - 1s - loss: 10.4026 - mean_absolute_error: 1.8027 - val_loss: 10.3666 - val_mean_absolute_error: 1.7926\n",
      "Epoch 96/1000\n",
      "117/117 - 1s - loss: 10.4014 - mean_absolute_error: 1.8022 - val_loss: 10.3668 - val_mean_absolute_error: 1.7978\n",
      "Epoch 97/1000\n",
      "117/117 - 1s - loss: 10.4000 - mean_absolute_error: 1.8019 - val_loss: 10.3696 - val_mean_absolute_error: 1.7756\n",
      "Epoch 98/1000\n",
      "117/117 - 1s - loss: 9.4749 - mean_absolute_error: 1.7161 - val_loss: 8.9267 - val_mean_absolute_error: 1.6563\n",
      "Epoch 99/1000\n",
      "117/117 - 1s - loss: 8.9621 - mean_absolute_error: 1.6566 - val_loss: 8.9236 - val_mean_absolute_error: 1.6688\n",
      "Epoch 100/1000\n",
      "117/117 - 1s - loss: 8.9619 - mean_absolute_error: 1.6565 - val_loss: 8.9303 - val_mean_absolute_error: 1.6472\n",
      "Epoch 101/1000\n",
      "117/117 - 1s - loss: 9.0148 - mean_absolute_error: 1.6666 - val_loss: 8.9678 - val_mean_absolute_error: 1.6333\n",
      "Epoch 102/1000\n",
      "117/117 - 1s - loss: 8.9869 - mean_absolute_error: 1.6616 - val_loss: 8.9324 - val_mean_absolute_error: 1.6654\n",
      "Epoch 103/1000\n",
      "117/117 - 1s - loss: 8.9718 - mean_absolute_error: 1.6580 - val_loss: 8.9324 - val_mean_absolute_error: 1.6504\n",
      "Epoch 104/1000\n",
      "117/117 - 1s - loss: 8.9878 - mean_absolute_error: 1.6609 - val_loss: 8.9489 - val_mean_absolute_error: 1.6513\n",
      "Epoch 105/1000\n",
      "117/117 - 1s - loss: 9.0219 - mean_absolute_error: 1.6677 - val_loss: 8.9899 - val_mean_absolute_error: 1.6595\n",
      "Epoch 106/1000\n",
      "117/117 - 1s - loss: 9.0166 - mean_absolute_error: 1.6673 - val_loss: 8.9712 - val_mean_absolute_error: 1.6844\n",
      "Epoch 107/1000\n",
      "117/117 - 1s - loss: 8.9912 - mean_absolute_error: 1.6622 - val_loss: 8.9515 - val_mean_absolute_error: 1.6135\n",
      "Epoch 108/1000\n",
      "117/117 - 1s - loss: 8.9807 - mean_absolute_error: 1.6596 - val_loss: 8.9421 - val_mean_absolute_error: 1.6727\n",
      "Epoch 109/1000\n",
      "Restoring model weights from the end of the best epoch.\n",
      "117/117 - 1s - loss: 8.9748 - mean_absolute_error: 1.6588 - val_loss: 8.9360 - val_mean_absolute_error: 1.6409\n",
      "Epoch 00109: early stopping\n"
     ]
    }
   ],
   "source": [
    "# Fitting Neural network to training set\n",
    "\n",
    "model_history=model.fit(x_train, y_train, validation_data=(x_test, y_test), batch_size=512, verbose=2, callbacks=[monitor], epochs=1000)"
   ]
  },
  {
   "cell_type": "code",
   "execution_count": null,
   "metadata": {
    "colab": {
     "base_uri": "https://localhost:8080/",
     "height": 142
    },
    "id": "AT8SOvaeap0x",
    "outputId": "c1eec1b2-94c5-4a80-bc87-7ed372b14acf"
   },
   "outputs": [
    {
     "data": {
      "text/plain": [
       "array([[ 0.    ,  1.    ,  1.    , ...,  0.    ,  0.    ,  0.    ],\n",
       "       [ 1.    ,  1.    ,  1.    , ..., 10.    , 10.    ,  0.    ],\n",
       "       [ 1.    ,  1.    ,  1.    , ..., 10.    , 10.    ,  0.    ],\n",
       "       ...,\n",
       "       [ 0.    ,  1.    ,  1.    , ..., 10.    , 10.    ,  0.    ],\n",
       "       [ 1.    ,  1.    ,  1.    , ...,  0.    ,  0.    ,  0.    ],\n",
       "       [ 1.    ,  1.    ,  1.    , ...,  7.2658,  0.    ,  0.    ]])"
      ]
     },
     "execution_count": 70,
     "metadata": {
      "tags": []
     },
     "output_type": "execute_result"
    }
   ],
   "source": [
    "y_train"
   ]
  },
  {
   "cell_type": "code",
   "execution_count": null,
   "metadata": {
    "colab": {
     "base_uri": "https://localhost:8080/",
     "height": 53
    },
    "id": "jnvop5zhare2",
    "outputId": "f9e033be-f657-4367-e93a-750eee9cc444"
   },
   "outputs": [
    {
     "name": "stdout",
     "output_type": "stream",
     "text": [
      "466/466 [==============================] - 1s 1ms/step - loss: 8.9236 - mean_absolute_error: 1.6688\n"
     ]
    },
    {
     "data": {
      "text/plain": [
       "[8.923645973205566, 1.6688487529754639]"
      ]
     },
     "execution_count": 71,
     "metadata": {
      "tags": []
     },
     "output_type": "execute_result"
    }
   ],
   "source": [
    "# To evaluate model test loss\n",
    "\n",
    "test_loss = model.evaluate(x_test, y_test)\n",
    "test_loss"
   ]
  },
  {
   "cell_type": "code",
   "execution_count": null,
   "metadata": {
    "colab": {
     "base_uri": "https://localhost:8080/",
     "height": 280
    },
    "id": "K6jxwKI-au9s",
    "outputId": "4824a9db-6941-4ac8-87d8-5d749bc8497d"
   },
   "outputs": [
    {
     "data": {
      "image/png": "[encoded data removed]",
      "text/plain": [
       "<Figure size 432x288 with 1 Axes>"
      ]
     },
     "metadata": {
      "needs_background": "light",
      "tags": []
     },
     "output_type": "display_data"
    }
   ],
   "source": [
    "# To plot training loss only\n",
    "\n",
    "loss = model_history.history['loss']\n",
    "epochs = range(1, len(loss)+1)\n",
    "plt.plot(epochs, loss, 'ro', label='Training loss')\n",
    "plt.xlabel('epoch')\n",
    "plt.legend()\n",
    "plt.show()"
   ]
  },
  {
   "cell_type": "code",
   "execution_count": null,
   "metadata": {
    "colab": {
     "base_uri": "https://localhost:8080/",
     "height": 313
    },
    "id": "gr4ZQqHQayfv",
    "outputId": "b292d2fe-9161-4bfc-9b6f-fe09e9543f33"
   },
   "outputs": [
    {
     "name": "stdout",
     "output_type": "stream",
     "text": [
      "dict_keys(['loss', 'mean_absolute_error', 'val_loss', 'val_mean_absolute_error'])\n"
     ]
    },
    {
     "data": {
      "image/png": "[encoded data removed]",
      "text/plain": [
       "<Figure size 432x288 with 1 Axes>"
      ]
     },
     "metadata": {
      "needs_background": "light",
      "tags": []
     },
     "output_type": "display_data"
    }
   ],
   "source": [
    "# list all data in history\n",
    "\n",
    "print(model_history.history.keys())\n",
    "\n",
    "# summarize history for accuracy\n",
    "acc = model_history.history['mean_absolute_error']\n",
    "val_acc = model_history.history['val_mean_absolute_error']\n",
    "\n",
    "plt.plot(acc)\n",
    "plt.plot(val_acc)\n",
    "plt.title('model accuracy')\n",
    "plt.ylabel('Mean Absolute Error')\n",
    "plt.xlabel('epoch')\n",
    "plt.legend(['train', 'test'], loc='upper right')\n",
    "plt.savefig('accuracy_3_layer.pdf')\n",
    "plt.show()"
   ]
  },
  {
   "cell_type": "code",
   "execution_count": null,
   "metadata": {
    "colab": {
     "base_uri": "https://localhost:8080/",
     "height": 295
    },
    "id": "pgrdmzrca2id",
    "outputId": "7698718b-fba5-415a-c5a5-abfbfe868c6c"
   },
   "outputs": [
    {
     "data": {
      "image/png": "[encoded data removed]",
      "text/plain": [
       "<Figure size 432x288 with 1 Axes>"
      ]
     },
     "metadata": {
      "needs_background": "light",
      "tags": []
     },
     "output_type": "display_data"
    }
   ],
   "source": [
    "# summarize history for loss\n",
    "\n",
    "loss = model_history.history['loss']\n",
    "val_loss = model_history.history['val_loss']\n",
    "plt.plot(loss)\n",
    "plt.plot(val_loss)\n",
    "plt.title('model loss')\n",
    "plt.ylabel('loss')\n",
    "plt.xlabel('epoch')\n",
    "plt.legend(['train', 'test'], loc='upper right')\n",
    "plt.savefig('loss_3_layer.pdf')\n",
    "plt.show()"
   ]
  },
  {
   "cell_type": "code",
   "execution_count": null,
   "metadata": {
    "colab": {
     "base_uri": "https://localhost:8080/",
     "height": 249
    },
    "id": "V_KxSfNKa666",
    "outputId": "c668ae3d-01ef-4869-e191-af2122733da1"
   },
   "outputs": [
    {
     "data": {
      "text/plain": [
       "array([[0.       , 0.9303088, 0.9484105, ..., 0.       , 6.383842 ,\n",
       "        0.       ],\n",
       "       [0.       , 0.7662887, 0.7218243, ..., 0.       , 4.4036617,\n",
       "        0.       ],\n",
       "       [0.       , 0.8143778, 0.7573246, ..., 0.       , 4.7402554,\n",
       "        0.       ],\n",
       "       ...,\n",
       "       [0.       , 0.7443251, 0.7061038, ..., 0.       , 4.257149 ,\n",
       "        0.       ],\n",
       "       [0.       , 0.8491716, 0.7964178, ..., 0.       , 5.193966 ,\n",
       "        0.       ],\n",
       "       [0.       , 0.8148956, 0.7579013, ..., 0.       , 4.7468905,\n",
       "        0.       ]], dtype=float32)"
      ]
     },
     "execution_count": 75,
     "metadata": {
      "tags": []
     },
     "output_type": "execute_result"
    }
   ],
   "source": [
    "# Making the predictions for testing\n",
    "\n",
    "# Predicting the Test set results\n",
    "y_pred = model.predict(x_test) \n",
    "y_pred"
   ]
  },
  {
   "cell_type": "code",
   "execution_count": null,
   "metadata": {
    "colab": {
     "base_uri": "https://localhost:8080/",
     "height": 142
    },
    "id": "nTiknlOLaTPp",
    "outputId": "70722f3f-835d-4abe-ca27-4cd0d3b285f1"
   },
   "outputs": [
    {
     "data": {
      "text/plain": [
       "array([[ 0.,  1.,  1., ..., 10., 10.,  0.],\n",
       "       [ 1.,  0.,  1., ..., 10., 10.,  0.],\n",
       "       [ 1.,  1.,  1., ...,  0., 10.,  0.],\n",
       "       ...,\n",
       "       [ 1.,  0.,  0., ...,  0., 10.,  0.],\n",
       "       [ 1.,  1.,  1., ...,  0., 10.,  0.],\n",
       "       [ 1.,  1.,  1., ..., 10., 10.,  0.]])"
      ]
     },
     "execution_count": 76,
     "metadata": {
      "tags": []
     },
     "output_type": "execute_result"
    }
   ],
   "source": [
    "y_test\n"
   ]
  },
  {
   "cell_type": "code",
   "execution_count": null,
   "metadata": {
    "id": "5x9nZKCHa9ZI"
   },
   "outputs": [],
   "source": [
    "y_pred.shape"
   ]
  },
  {
   "cell_type": "code",
   "execution_count": null,
   "metadata": {
    "id": "ACY5x1V7a_vo"
   },
   "outputs": [],
   "source": [
    "# Evaluating the model # Test error\n",
    "\n",
    "# Measure MSE error  \n",
    "mse_test = metrics.mean_squared_error(y_test, y_pred)\n",
    "print(\"Test Mean Squared error (MSE): {}\".format(mse_test))\n",
    "\n",
    "# Measure RMSE error \n",
    "rmse_test = np.sqrt(metrics.mean_squared_error(y_test, y_pred))\n",
    "print(\"Test Root mean squared error (RMSE): {}\".format(rmse_test))\n",
    "\n",
    "# Measure MAE error\n",
    "mae_test = metrics.mean_absolute_error(y_test, y_pred)\n",
    "print(\"Test Mean absolute error (MAE): {}\".format(mae_test))"
   ]
  },
  {
   "cell_type": "code",
   "execution_count": null,
   "metadata": {
    "id": "EpTj4zULbQMd"
   },
   "outputs": [],
   "source": [
    "# Making the predictions for training\n",
    "\n",
    "# Predicting the Training set results\n",
    "y_pred_train = model.predict(x_train) \n",
    "y_pred_train"
   ]
  },
  {
   "cell_type": "code",
   "execution_count": null,
   "metadata": {
    "id": "Of9BhiCTbU01"
   },
   "outputs": [],
   "source": [
    "y_pred_train.shape "
   ]
  },
  {
   "cell_type": "code",
   "execution_count": null,
   "metadata": {
    "id": "FWK7_bNJbXME"
   },
   "outputs": [],
   "source": [
    "# Evaluating the model # Training error\n",
    "\n",
    "# Measure MSE error  \n",
    "mse_train = metrics.mean_squared_error(y_train, y_pred_train)\n",
    "print(\"Training Mean Squared error (MSE): {}\".format(mse_train))\n",
    "\n",
    "# Measure RMSE error \n",
    "rmse_train = np.sqrt(metrics.mean_squared_error(y_train, y_pred_train))\n",
    "print(\"Training Root mean squared error (RMSE): {}\".format(rmse_train))\n",
    "\n",
    "# Measure MAE error\n",
    "mae_train = metrics.mean_absolute_error(y_train, y_pred_train)\n",
    "print(\"Training Mean absolute error (MAE): {}\".format(mae_train))"
   ]
  },
  {
   "cell_type": "code",
   "execution_count": null,
   "metadata": {
    "id": "1Yw2ek-lRAmD"
   },
   "outputs": [],
   "source": [
    "y_pred_flat = y_pred.flatten()\n",
    "y_pred_flat"
   ]
  },
  {
   "cell_type": "code",
   "execution_count": null,
   "metadata": {
    "id": "zrHf4K-yRWEW"
   },
   "outputs": [],
   "source": [
    "y_test_flat = y_test.flatten()\n",
    "y_test_flat"
   ]
  },
  {
   "cell_type": "code",
   "execution_count": null,
   "metadata": {
    "id": "3sCT93VyRYOz"
   },
   "outputs": [],
   "source": [
    "# Regression score for test\n",
    "\n",
    "r2_score_test = metrics.r2_score(y_test_flat, y_pred_flat)\n",
    "print(\"R2 Score Test: {}\".format(r2_score_test))"
   ]
  },
  {
   "cell_type": "code",
   "execution_count": null,
   "metadata": {
    "id": "5oZLTaS6Rdpb"
   },
   "outputs": [],
   "source": [
    "y_pred_train_flat = y_pred_train.flatten()\n",
    "y_pred_train_flat"
   ]
  },
  {
   "cell_type": "code",
   "execution_count": null,
   "metadata": {
    "id": "imceUpMlRfrV"
   },
   "outputs": [],
   "source": [
    "y_train_flat = y_train.flatten()\n",
    "y_train_flat"
   ]
  },
  {
   "cell_type": "code",
   "execution_count": null,
   "metadata": {
    "id": "IywAjABTRjex"
   },
   "outputs": [],
   "source": [
    "# Regression score for training\n",
    "\n",
    "r2_score_train = metrics.r2_score(y_train_flat, y_pred_train_flat)\n",
    "print(\"R2 Score Train: {}\".format(r2_score_train))"
   ]
  },
  {
   "cell_type": "code",
   "execution_count": null,
   "metadata": {
    "id": "6pdlRHKtRm0S"
   },
   "outputs": [],
   "source": [
    "############### PDF and CDF of any column of Input (x_train) #############"
   ]
  },
  {
   "cell_type": "code",
   "execution_count": null,
   "metadata": {
    "colab": {
     "base_uri": "https://localhost:8080/",
     "height": 249
    },
    "id": "T49XBIiZRq2u",
    "outputId": "bb7f87c9-0584-4ac2-89c6-6158ffbd321c"
   },
   "outputs": [
    {
     "data": {
      "text/plain": [
       "array([[-7.81980664e-01, -1.08616514e+00, -8.31167652e-04, ...,\n",
       "         6.40728267e-01, -1.33688191e+00, -1.03148744e+00],\n",
       "       [-1.99358524e-01,  9.20670313e-01, -8.31167652e-04, ...,\n",
       "         1.09736807e+00, -1.06681699e+00,  1.67319943e+00],\n",
       "       [-1.24472534e+00,  9.20670313e-01, -8.31167652e-04, ...,\n",
       "         6.33250921e-01,  1.20270716e+00, -2.63340535e-01],\n",
       "       ...,\n",
       "       [-1.63379138e+00, -1.08616514e+00, -1.90420509e+00, ...,\n",
       "        -8.32005863e-02,  1.20584199e+00, -4.76702136e-01],\n",
       "       [-1.30371866e+00,  9.20670313e-01, -1.26974712e+00, ...,\n",
       "        -1.23302518e+00,  5.04338454e-01, -1.75297840e-01],\n",
       "       [ 6.38964396e-01,  9.20670313e-01, -1.26974712e+00, ...,\n",
       "        -1.28992257e+00, -9.60476853e-01, -1.22597655e+00]])"
      ]
     },
     "execution_count": 115,
     "metadata": {
      "tags": []
     },
     "output_type": "execute_result"
    }
   ],
   "source": [
    "x_train"
   ]
  },
  {
   "cell_type": "code",
   "execution_count": null,
   "metadata": {
    "colab": {
     "base_uri": "https://localhost:8080/",
     "height": 35
    },
    "id": "Eh57mhcmRurw",
    "outputId": "3692b218-a57a-432a-b571-bd78c2d0e862"
   },
   "outputs": [
    {
     "data": {
      "text/plain": [
       "(59540, 74)"
      ]
     },
     "execution_count": 116,
     "metadata": {
      "tags": []
     },
     "output_type": "execute_result"
    }
   ],
   "source": [
    "x_train.shape"
   ]
  },
  {
   "cell_type": "code",
   "execution_count": null,
   "metadata": {
    "id": "kttXqaMDRxCB"
   },
   "outputs": [],
   "source": [
    "x_train[:,3] # Third column of x_train "
   ]
  },
  {
   "cell_type": "code",
   "execution_count": null,
   "metadata": {
    "id": "t_JE9K6WR3Eh"
   },
   "outputs": [],
   "source": [
    "x_train[:,3].shape"
   ]
  },
  {
   "cell_type": "code",
   "execution_count": null,
   "metadata": {
    "id": "HBanYvIKR9ew"
   },
   "outputs": [],
   "source": [
    "# Checking PDF and CDF of tenth column of x_train (for example)\n",
    "\n",
    "data=x_train[:,3] \n",
    "data"
   ]
  },
  {
   "cell_type": "code",
   "execution_count": null,
   "metadata": {
    "id": "vKUs69zsQfnA"
   },
   "outputs": [],
   "source": [
    "y_test.shape"
   ]
  },
  {
   "cell_type": "code",
   "execution_count": null,
   "metadata": {
    "colab": {
     "base_uri": "https://localhost:8080/",
     "height": 491
    },
    "id": "IARwPDhMSCoe",
    "outputId": "f14d76c8-52c2-4e8e-cc08-9b1533aaf1a7"
   },
   "outputs": [
    {
     "name": "stdout",
     "output_type": "stream",
     "text": [
      "Printing the counts for histogram:\n",
      " [29808     0     0     0     0     0     0     0     0 29732]\n",
      "Sum of counts is:\n",
      " 59540\n",
      "Printing edges of bins: \n",
      " [-0.99872436 -0.7987242  -0.59872403 -0.39872387 -0.19872371  0.00127645\n",
      "  0.20127662  0.40127678  0.60127694  0.80127711  1.00127727]\n",
      "PDF is as follows:\n",
      " [0.50063823 0.         0.         0.         0.         0.\n",
      " 0.         0.         0.         0.49936177]\n"
     ]
    },
    {
     "data": {
      "text/plain": [
       "[<matplotlib.lines.Line2D at 0x7f178c0b53c8>]"
      ]
     },
     "execution_count": 117,
     "metadata": {
      "tags": []
     },
     "output_type": "execute_result"
    },
    {
     "data": {
      "image/png": "[encoded data removed]",
      "text/plain": [
       "<Figure size 432x288 with 1 Axes>"
      ]
     },
     "metadata": {
      "needs_background": "light",
      "tags": []
     },
     "output_type": "display_data"
    }
   ],
   "source": [
    "# To get PDF\n",
    "counts, bin_edges= np.histogram(data, bins=10, density=False)\n",
    "print(\"Printing the counts for histogram:\\n\", counts)\n",
    "pdf = counts/(sum(counts))\n",
    "print(\"Sum of counts is:\\n\", sum(counts))\n",
    "print(\"Printing edges of bins: \\n\", bin_edges)\n",
    "print(\"PDF is as follows:\\n\",pdf);\n",
    "\n",
    "plt.gca().legend(('Pdf'))\n",
    "plt.title('PDF of third column of x_train')\n",
    "plt.xlabel(\"data\")\n",
    "plt.ylabel(\"Percentage\")\n",
    "plt.plot(bin_edges[1:],pdf)"
   ]
  },
  {
   "cell_type": "code",
   "execution_count": null,
   "metadata": {
    "colab": {
     "base_uri": "https://localhost:8080/",
     "height": 545
    },
    "id": "5FvS6jzuSMo0",
    "outputId": "f1facb46-05ac-442b-f881-ea25feefcd5f"
   },
   "outputs": [
    {
     "name": "stdout",
     "output_type": "stream",
     "text": [
      "Printing the counts for histogram:\n",
      " [29808     0     0     0     0     0     0     0     0 29732]\n",
      "Sum of count is:\n",
      " 59540\n",
      "Printing edges of bins:\n",
      " [-0.99872436 -0.7987242  -0.59872403 -0.39872387 -0.19872371  0.00127645\n",
      "  0.20127662  0.40127678  0.60127694  0.80127711  1.00127727]\n",
      "PDF is as follows:\n",
      " [0.50063823 0.         0.         0.         0.         0.\n",
      " 0.         0.         0.         0.49936177]\n",
      "CDF is as follows:\n",
      " [0.50063823 0.50063823 0.50063823 0.50063823 0.50063823 0.50063823\n",
      " 0.50063823 0.50063823 0.50063823 1.        ]\n"
     ]
    },
    {
     "data": {
      "text/plain": [
       "[<matplotlib.lines.Line2D at 0x7f1796347d30>]"
      ]
     },
     "execution_count": 118,
     "metadata": {
      "tags": []
     },
     "output_type": "execute_result"
    },
    {
     "data": {
      "image/png": "[encoded data removed]",
      "text/plain": [
       "<Figure size 432x288 with 1 Axes>"
      ]
     },
     "metadata": {
      "needs_background": "light",
      "tags": []
     },
     "output_type": "display_data"
    }
   ],
   "source": [
    "# To get CDF\n",
    "counts, bin_edges = np.histogram(data, bins=10, density=False)\n",
    "\n",
    "print(\"Printing the counts for histogram:\\n\",counts)\n",
    "pdf = counts/(sum(counts))\n",
    "print(\"Sum of count is:\\n\",sum(counts))\n",
    "print(\"Printing edges of bins:\\n\",bin_edges)\n",
    "print(\"PDF is as follows:\\n\",pdf);\n",
    "\n",
    "cdf = np.cumsum(pdf) # cdf\n",
    "print(\"CDF is as follows:\\n\",cdf)\n",
    "plt.gca().legend(('Cdf'))\n",
    "plt.title('CDF of third column of x_train')\n",
    "plt.xlabel(\"data\")\n",
    "plt.ylabel(\"Percentage\")\n",
    "plt.plot(bin_edges[1:],cdf)"
   ]
  },
  {
   "cell_type": "code",
   "execution_count": null,
   "metadata": {
    "colab": {
     "base_uri": "https://localhost:8080/",
     "height": 384
    },
    "id": "Umk-ChmCSSVp",
    "outputId": "273003be-ee87-4b07-ec55-7c9e6f61c94b"
   },
   "outputs": [
    {
     "name": "stdout",
     "output_type": "stream",
     "text": [
      "[29808     0     0     0     0     0     0     0     0 29732]\n",
      "[0.50063823 0.         0.         0.         0.         0.\n",
      " 0.         0.         0.         0.49936177]\n",
      "[-0.99872436 -0.7987242  -0.59872403 -0.39872387 -0.19872371  0.00127645\n",
      "  0.20127662  0.40127678  0.60127694  0.80127711  1.00127727]\n"
     ]
    },
    {
     "data": {
      "image/png": "[encoded data removed]",
      "text/plain": [
       "<Figure size 432x288 with 1 Axes>"
      ]
     },
     "metadata": {
      "needs_background": "light",
      "tags": []
     },
     "output_type": "display_data"
    }
   ],
   "source": [
    "# PDF and CDF both\n",
    "counts, bin_edges = np.histogram(data, bins=10, density=False)\n",
    "\n",
    "print(counts)\n",
    "pdf = counts/(sum(counts))\n",
    "print(pdf)\n",
    "print(bin_edges)\n",
    "\n",
    "# compute CDF\n",
    "cdf = np.cumsum(pdf)\n",
    "plt.plot(bin_edges[1:],pdf)\n",
    "plt.plot(bin_edges[1:], cdf)\n",
    "plt.gca().legend(('Pdf','Cdf'))\n",
    "plt.title('PDF and CDF of third column of x_train')\n",
    "plt.xlabel(\"data\")\n",
    "plt.ylabel(\"Percentage\")\n",
    "# plt.savefig('PDF and CDF of 10th column of x_train for 80_20 split.pdf')\n",
    "plt.show();"
   ]
  },
  {
   "cell_type": "code",
   "execution_count": null,
   "metadata": {
    "id": "hr_f0cdyWpil"
   },
   "outputs": [],
   "source": [
    "######################### Constraint verification for test data ##########################"
   ]
  },
  {
   "cell_type": "code",
   "execution_count": null,
   "metadata": {
    "colab": {
     "base_uri": "https://localhost:8080/",
     "height": 249
    },
    "id": "aS9k-9lwW0hY",
    "outputId": "32c16051-3a86-49a8-d7cb-77e547ad3e64"
   },
   "outputs": [
    {
     "data": {
      "text/plain": [
       "array([[0.       , 0.9303088, 0.9484105, ..., 0.       , 6.383842 ,\n",
       "        0.       ],\n",
       "       [0.       , 0.7662887, 0.7218243, ..., 0.       , 4.4036617,\n",
       "        0.       ],\n",
       "       [0.       , 0.8143778, 0.7573246, ..., 0.       , 4.7402554,\n",
       "        0.       ],\n",
       "       ...,\n",
       "       [0.       , 0.7443251, 0.7061038, ..., 0.       , 4.257149 ,\n",
       "        0.       ],\n",
       "       [0.       , 0.8491716, 0.7964178, ..., 0.       , 5.193966 ,\n",
       "        0.       ],\n",
       "       [0.       , 0.8148956, 0.7579013, ..., 0.       , 4.7468905,\n",
       "        0.       ]], dtype=float32)"
      ]
     },
     "execution_count": 120,
     "metadata": {
      "tags": []
     },
     "output_type": "execute_result"
    }
   ],
   "source": [
    "y_pred = model.predict(x_test)\n",
    "y_pred"
   ]
  },
  {
   "cell_type": "code",
   "execution_count": null,
   "metadata": {
    "colab": {
     "base_uri": "https://localhost:8080/",
     "height": 249
    },
    "id": "qdcimHOXZsH2",
    "outputId": "1585d70d-b16d-4e2a-d7d5-6f381a4521fd"
   },
   "outputs": [
    {
     "data": {
      "text/plain": [
       "array([[ 1.54529351e+00, -1.08616514e+00, -1.26974712e+00, ...,\n",
       "        -1.17626690e+00, -4.50545785e-01,  1.54385254e+00],\n",
       "       [ 1.31133707e+00,  9.20670313e-01, -8.31167652e-04, ...,\n",
       "        -1.48777663e+00,  4.57664436e-01,  8.64998395e-01],\n",
       "       [ 1.38085592e+00,  9.20670313e-01, -6.35289142e-01, ...,\n",
       "        -6.29864163e-01, -8.72997900e-01,  6.46063592e-01],\n",
       "       ...,\n",
       "       [ 2.11766986e-01,  9.20670313e-01, -1.90420509e+00, ...,\n",
       "         4.63706439e-01, -9.75750403e-01, -4.18487355e-01],\n",
       "       [ 2.08048389e-01,  9.20670313e-01, -6.35289142e-01, ...,\n",
       "        -5.42031427e-01,  3.05625562e-01,  1.59055632e+00],\n",
       "       [ 1.46619455e+00,  9.20670313e-01, -6.35289142e-01, ...,\n",
       "         1.68946957e+00,  1.32008884e+00,  7.22977246e-01]])"
      ]
     },
     "execution_count": 121,
     "metadata": {
      "tags": []
     },
     "output_type": "execute_result"
    }
   ],
   "source": [
    "x_test"
   ]
  },
  {
   "cell_type": "code",
   "execution_count": null,
   "metadata": {
    "colab": {
     "base_uri": "https://localhost:8080/",
     "height": 35
    },
    "id": "ruqLSKwaZ06X",
    "outputId": "42dd9de3-1395-4349-8ec3-f163ef502a0e"
   },
   "outputs": [
    {
     "data": {
      "text/plain": [
       "(14886, 74)"
      ]
     },
     "execution_count": 123,
     "metadata": {
      "tags": []
     },
     "output_type": "execute_result"
    }
   ],
   "source": [
    "x_test.shape"
   ]
  },
  {
   "cell_type": "code",
   "execution_count": null,
   "metadata": {
    "colab": {
     "base_uri": "https://localhost:8080/",
     "height": 35
    },
    "id": "fOj5D4GRW7Ac",
    "outputId": "e4223fa4-dd8e-400f-eefc-bbd0178e4d99"
   },
   "outputs": [
    {
     "data": {
      "text/plain": [
       "(14886, 48)"
      ]
     },
     "execution_count": 124,
     "metadata": {
      "tags": []
     },
     "output_type": "execute_result"
    }
   ],
   "source": [
    "y_pred.shape"
   ]
  },
  {
   "cell_type": "code",
   "execution_count": null,
   "metadata": {
    "colab": {
     "base_uri": "https://localhost:8080/",
     "height": 142
    },
    "id": "Yn9ruPcpOQq0",
    "outputId": "c187ee9b-7905-455c-cee3-fa098f0966e1"
   },
   "outputs": [
    {
     "name": "stdout",
     "output_type": "stream",
     "text": [
      "[[0. 1. 1. ... 0. 6. 0.]\n",
      " [0. 1. 1. ... 0. 4. 0.]\n",
      " [0. 1. 1. ... 0. 5. 0.]\n",
      " ...\n",
      " [0. 1. 1. ... 0. 4. 0.]\n",
      " [0. 1. 1. ... 0. 5. 0.]\n",
      " [0. 1. 1. ... 0. 5. 0.]]\n"
     ]
    }
   ],
   "source": [
    "#round-off the y_pred\n",
    "\n",
    "import numpy as np\n",
    "a_list = np.array(y_pred)\n",
    "y_pred_binary = np.round(a_list)\n",
    "print(y_pred_binary)\n",
    "\n"
   ]
  },
  {
   "cell_type": "code",
   "execution_count": null,
   "metadata": {
    "colab": {
     "base_uri": "https://localhost:8080/",
     "height": 35
    },
    "id": "zus7h7n3PMDh",
    "outputId": "ce6a354b-6dfa-40b8-c6c3-adead6f2d051"
   },
   "outputs": [
    {
     "data": {
      "text/plain": [
       "(14886, 48)"
      ]
     },
     "execution_count": 126,
     "metadata": {
      "tags": []
     },
     "output_type": "execute_result"
    }
   ],
   "source": [
    "y_pred_binary.shape"
   ]
  },
  {
   "cell_type": "code",
   "execution_count": null,
   "metadata": {
    "colab": {
     "base_uri": "https://localhost:8080/",
     "height": 142
    },
    "id": "RKVmQiPemWnf",
    "outputId": "8fa5f012-e7b4-4262-e8c9-06ad35d44c13"
   },
   "outputs": [
    {
     "data": {
      "text/plain": [
       "array([[0., 1., 1., ..., 0., 6., 0.],\n",
       "       [0., 1., 1., ..., 0., 4., 0.],\n",
       "       [0., 1., 1., ..., 0., 5., 0.],\n",
       "       ...,\n",
       "       [0., 1., 1., ..., 0., 4., 0.],\n",
       "       [0., 1., 1., ..., 0., 5., 0.],\n",
       "       [0., 1., 1., ..., 0., 5., 0.]], dtype=float32)"
      ]
     },
     "execution_count": 127,
     "metadata": {
      "tags": []
     },
     "output_type": "execute_result"
    }
   ],
   "source": [
    "y_pred_binary"
   ]
  },
  {
   "cell_type": "code",
   "execution_count": null,
   "metadata": {
    "colab": {
     "base_uri": "https://localhost:8080/",
     "height": 35
    },
    "id": "0Y2CI1jdPzWz",
    "outputId": "7de20c4e-215b-40c2-b415-72ad1edead13"
   },
   "outputs": [
    {
     "data": {
      "text/plain": [
       "14886"
      ]
     },
     "execution_count": 128,
     "metadata": {
      "tags": []
     },
     "output_type": "execute_result"
    }
   ],
   "source": [
    "len(y_pred_binary)"
   ]
  },
  {
   "cell_type": "code",
   "execution_count": null,
   "metadata": {
    "colab": {
     "base_uri": "https://localhost:8080/",
     "height": 35
    },
    "id": "W0EhQiatZWyj",
    "outputId": "67776725-788b-47d7-a3bd-288348bd211c"
   },
   "outputs": [
    {
     "data": {
      "text/plain": [
       "(74426, 74)"
      ]
     },
     "execution_count": 129,
     "metadata": {
      "tags": []
     },
     "output_type": "execute_result"
    }
   ],
   "source": [
    "inputs.shape"
   ]
  },
  {
   "cell_type": "code",
   "execution_count": null,
   "metadata": {
    "id": "ZQpsT-B6aMra"
   },
   "outputs": [],
   "source": [
    "x_p = pd.DataFrame(inputs.values)            #Energy price of inputs\n",
    "x_p = x_p.iloc[59541:74426, 28:52]            # Saving the Energy price\n",
    "x_p.index = range(len(x_p))\n",
    "y_test= pd.DataFrame(y_test)\n",
    "y_test = y_test.iloc[0:14885, 0:24]\n",
    "y_pred= pd.DataFrame(y_pred_binary)\n",
    "y_pred = y_pred.iloc[0:14885, 0:24]\n",
    "testing = pd.concat([x_p, y_test, y_pred], axis=1)\n",
    "testing.to_excel('testing.xlsx', index = False)"
   ]
  },
  {
   "cell_type": "code",
   "execution_count": null,
   "metadata": {
    "id": "cmavpKE-GMCX"
   },
   "outputs": [],
   "source": [
    "x_p = x_p.T"
   ]
  },
  {
   "cell_type": "code",
   "execution_count": null,
   "metadata": {
    "colab": {
     "base_uri": "https://localhost:8080/",
     "height": 35
    },
    "id": "xyk1BSSoH0rR",
    "outputId": "d48b837f-c7db-49ad-ad95-272f34bc8bb2"
   },
   "outputs": [
    {
     "data": {
      "text/plain": [
       "(24, 14885)"
      ]
     },
     "execution_count": 141,
     "metadata": {
      "tags": []
     },
     "output_type": "execute_result"
    }
   ],
   "source": [
    "x_p.shape"
   ]
  },
  {
   "cell_type": "code",
   "execution_count": null,
   "metadata": {
    "colab": {
     "base_uri": "https://localhost:8080/",
     "height": 35
    },
    "id": "kyDfSEAnHTYC",
    "outputId": "a6daab74-55ac-445e-8835-2a1869120f5f"
   },
   "outputs": [
    {
     "data": {
      "text/plain": [
       "(14885, 24)"
      ]
     },
     "execution_count": 143,
     "metadata": {
      "tags": []
     },
     "output_type": "execute_result"
    }
   ],
   "source": [
    "y_pred.shape\n",
    "y_test.shape"
   ]
  },
  {
   "cell_type": "code",
   "execution_count": null,
   "metadata": {
    "id": "V-gEzuWpvSem"
   },
   "outputs": [],
   "source": [
    "x_p = x_p.to_numpy()\n"
   ]
  },
  {
   "cell_type": "code",
   "execution_count": null,
   "metadata": {
    "colab": {
     "base_uri": "https://localhost:8080/",
     "height": 427
    },
    "id": "8M0aZBT7HFzP",
    "outputId": "2ae09b1c-2193-41da-e402-43a5475e2eeb"
   },
   "outputs": [
    {
     "data": {
      "text/html": [
       "<div>\n",
       "<style scoped>\n",
       "    .dataframe tbody tr th:only-of-type {\n",
       "        vertical-align: middle;\n",
       "    }\n",
       "\n",
       "    .dataframe tbody tr th {\n",
       "        vertical-align: top;\n",
       "    }\n",
       "\n",
       "    .dataframe thead th {\n",
       "        text-align: right;\n",
       "    }\n",
       "</style>\n",
       "<table border=\"1\" class=\"dataframe\">\n",
       "  <thead>\n",
       "    <tr style=\"text-align: right;\">\n",
       "      <th></th>\n",
       "      <th>0</th>\n",
       "      <th>1</th>\n",
       "      <th>2</th>\n",
       "      <th>3</th>\n",
       "      <th>4</th>\n",
       "      <th>5</th>\n",
       "      <th>6</th>\n",
       "      <th>7</th>\n",
       "      <th>8</th>\n",
       "      <th>9</th>\n",
       "      <th>10</th>\n",
       "      <th>11</th>\n",
       "      <th>12</th>\n",
       "      <th>13</th>\n",
       "      <th>14</th>\n",
       "      <th>15</th>\n",
       "      <th>16</th>\n",
       "      <th>17</th>\n",
       "      <th>18</th>\n",
       "      <th>19</th>\n",
       "      <th>20</th>\n",
       "      <th>21</th>\n",
       "      <th>22</th>\n",
       "      <th>23</th>\n",
       "      <th>24</th>\n",
       "      <th>25</th>\n",
       "      <th>26</th>\n",
       "      <th>27</th>\n",
       "      <th>28</th>\n",
       "      <th>29</th>\n",
       "      <th>30</th>\n",
       "      <th>31</th>\n",
       "      <th>32</th>\n",
       "      <th>33</th>\n",
       "      <th>34</th>\n",
       "      <th>35</th>\n",
       "      <th>36</th>\n",
       "      <th>37</th>\n",
       "      <th>38</th>\n",
       "      <th>39</th>\n",
       "      <th>...</th>\n",
       "      <th>14845</th>\n",
       "      <th>14846</th>\n",
       "      <th>14847</th>\n",
       "      <th>14848</th>\n",
       "      <th>14849</th>\n",
       "      <th>14850</th>\n",
       "      <th>14851</th>\n",
       "      <th>14852</th>\n",
       "      <th>14853</th>\n",
       "      <th>14854</th>\n",
       "      <th>14855</th>\n",
       "      <th>14856</th>\n",
       "      <th>14857</th>\n",
       "      <th>14858</th>\n",
       "      <th>14859</th>\n",
       "      <th>14860</th>\n",
       "      <th>14861</th>\n",
       "      <th>14862</th>\n",
       "      <th>14863</th>\n",
       "      <th>14864</th>\n",
       "      <th>14865</th>\n",
       "      <th>14866</th>\n",
       "      <th>14867</th>\n",
       "      <th>14868</th>\n",
       "      <th>14869</th>\n",
       "      <th>14870</th>\n",
       "      <th>14871</th>\n",
       "      <th>14872</th>\n",
       "      <th>14873</th>\n",
       "      <th>14874</th>\n",
       "      <th>14875</th>\n",
       "      <th>14876</th>\n",
       "      <th>14877</th>\n",
       "      <th>14878</th>\n",
       "      <th>14879</th>\n",
       "      <th>14880</th>\n",
       "      <th>14881</th>\n",
       "      <th>14882</th>\n",
       "      <th>14883</th>\n",
       "      <th>14884</th>\n",
       "    </tr>\n",
       "  </thead>\n",
       "  <tbody>\n",
       "    <tr>\n",
       "      <th>0</th>\n",
       "      <td>109.7355</td>\n",
       "      <td>114.6368</td>\n",
       "      <td>116.1581</td>\n",
       "      <td>101.9392</td>\n",
       "      <td>126.8322</td>\n",
       "      <td>113.9985</td>\n",
       "      <td>97.8363</td>\n",
       "      <td>120.4560</td>\n",
       "      <td>113.6176</td>\n",
       "      <td>110.7269</td>\n",
       "      <td>95.3209</td>\n",
       "      <td>118.9245</td>\n",
       "      <td>101.4711</td>\n",
       "      <td>89.2149</td>\n",
       "      <td>99.4887</td>\n",
       "      <td>123.2517</td>\n",
       "      <td>98.2388</td>\n",
       "      <td>111.2419</td>\n",
       "      <td>119.4157</td>\n",
       "      <td>123.2637</td>\n",
       "      <td>114.9413</td>\n",
       "      <td>109.4686</td>\n",
       "      <td>131.7277</td>\n",
       "      <td>100.5285</td>\n",
       "      <td>106.3774</td>\n",
       "      <td>106.7427</td>\n",
       "      <td>126.9704</td>\n",
       "      <td>111.7581</td>\n",
       "      <td>119.3651</td>\n",
       "      <td>107.8084</td>\n",
       "      <td>100.6602</td>\n",
       "      <td>105.7080</td>\n",
       "      <td>118.0118</td>\n",
       "      <td>110.9352</td>\n",
       "      <td>92.3153</td>\n",
       "      <td>105.7806</td>\n",
       "      <td>121.0390</td>\n",
       "      <td>95.9154</td>\n",
       "      <td>119.247</td>\n",
       "      <td>116.5983</td>\n",
       "      <td>...</td>\n",
       "      <td>82.4134</td>\n",
       "      <td>118.5917</td>\n",
       "      <td>127.7184</td>\n",
       "      <td>102.1187</td>\n",
       "      <td>128.3437</td>\n",
       "      <td>121.1244</td>\n",
       "      <td>132.1395</td>\n",
       "      <td>109.1616</td>\n",
       "      <td>109.9146</td>\n",
       "      <td>97.1974</td>\n",
       "      <td>82.1246</td>\n",
       "      <td>98.8024</td>\n",
       "      <td>112.378</td>\n",
       "      <td>96.9461</td>\n",
       "      <td>86.2958</td>\n",
       "      <td>113.1963</td>\n",
       "      <td>120.2770</td>\n",
       "      <td>133.6879</td>\n",
       "      <td>101.6853</td>\n",
       "      <td>116.4676</td>\n",
       "      <td>109.2409</td>\n",
       "      <td>108.8740</td>\n",
       "      <td>124.4703</td>\n",
       "      <td>107.9137</td>\n",
       "      <td>138.6624</td>\n",
       "      <td>111.6080</td>\n",
       "      <td>105.2977</td>\n",
       "      <td>114.1438</td>\n",
       "      <td>90.7563</td>\n",
       "      <td>117.3411</td>\n",
       "      <td>118.5171</td>\n",
       "      <td>110.4423</td>\n",
       "      <td>90.5387</td>\n",
       "      <td>117.8193</td>\n",
       "      <td>119.5782</td>\n",
       "      <td>108.5936</td>\n",
       "      <td>109.1190</td>\n",
       "      <td>112.5844</td>\n",
       "      <td>104.6135</td>\n",
       "      <td>117.5672</td>\n",
       "    </tr>\n",
       "    <tr>\n",
       "      <th>1</th>\n",
       "      <td>102.7972</td>\n",
       "      <td>112.8764</td>\n",
       "      <td>108.0293</td>\n",
       "      <td>100.4861</td>\n",
       "      <td>118.5246</td>\n",
       "      <td>110.7517</td>\n",
       "      <td>88.2425</td>\n",
       "      <td>110.5423</td>\n",
       "      <td>105.3928</td>\n",
       "      <td>104.3641</td>\n",
       "      <td>92.7487</td>\n",
       "      <td>110.4182</td>\n",
       "      <td>99.8751</td>\n",
       "      <td>80.2258</td>\n",
       "      <td>96.7322</td>\n",
       "      <td>114.8000</td>\n",
       "      <td>92.5764</td>\n",
       "      <td>109.8606</td>\n",
       "      <td>111.3423</td>\n",
       "      <td>115.4802</td>\n",
       "      <td>112.9083</td>\n",
       "      <td>105.2652</td>\n",
       "      <td>125.0051</td>\n",
       "      <td>99.3889</td>\n",
       "      <td>97.0142</td>\n",
       "      <td>99.0084</td>\n",
       "      <td>121.0107</td>\n",
       "      <td>106.0873</td>\n",
       "      <td>113.7240</td>\n",
       "      <td>98.6497</td>\n",
       "      <td>90.9573</td>\n",
       "      <td>103.8616</td>\n",
       "      <td>116.5104</td>\n",
       "      <td>102.3596</td>\n",
       "      <td>87.4602</td>\n",
       "      <td>97.2660</td>\n",
       "      <td>117.2709</td>\n",
       "      <td>90.9379</td>\n",
       "      <td>110.270</td>\n",
       "      <td>109.0813</td>\n",
       "      <td>...</td>\n",
       "      <td>74.9890</td>\n",
       "      <td>111.0943</td>\n",
       "      <td>119.2536</td>\n",
       "      <td>97.4631</td>\n",
       "      <td>120.8006</td>\n",
       "      <td>111.3728</td>\n",
       "      <td>128.3741</td>\n",
       "      <td>102.4869</td>\n",
       "      <td>100.3001</td>\n",
       "      <td>94.7011</td>\n",
       "      <td>80.0168</td>\n",
       "      <td>92.4557</td>\n",
       "      <td>105.627</td>\n",
       "      <td>93.5080</td>\n",
       "      <td>79.4404</td>\n",
       "      <td>105.4521</td>\n",
       "      <td>116.9573</td>\n",
       "      <td>126.0428</td>\n",
       "      <td>96.5585</td>\n",
       "      <td>110.3976</td>\n",
       "      <td>105.3688</td>\n",
       "      <td>99.5141</td>\n",
       "      <td>123.1064</td>\n",
       "      <td>100.0334</td>\n",
       "      <td>131.7598</td>\n",
       "      <td>105.6413</td>\n",
       "      <td>95.3966</td>\n",
       "      <td>105.9962</td>\n",
       "      <td>81.9288</td>\n",
       "      <td>110.5705</td>\n",
       "      <td>113.3618</td>\n",
       "      <td>107.7676</td>\n",
       "      <td>82.0304</td>\n",
       "      <td>108.4869</td>\n",
       "      <td>112.3655</td>\n",
       "      <td>99.1251</td>\n",
       "      <td>104.0155</td>\n",
       "      <td>104.2827</td>\n",
       "      <td>97.3266</td>\n",
       "      <td>108.9165</td>\n",
       "    </tr>\n",
       "    <tr>\n",
       "      <th>2</th>\n",
       "      <td>102.7972</td>\n",
       "      <td>112.8764</td>\n",
       "      <td>108.0293</td>\n",
       "      <td>100.4861</td>\n",
       "      <td>118.5246</td>\n",
       "      <td>110.7517</td>\n",
       "      <td>88.2425</td>\n",
       "      <td>110.5423</td>\n",
       "      <td>105.3928</td>\n",
       "      <td>104.3641</td>\n",
       "      <td>92.7487</td>\n",
       "      <td>110.4182</td>\n",
       "      <td>99.8751</td>\n",
       "      <td>80.2258</td>\n",
       "      <td>96.7322</td>\n",
       "      <td>114.8000</td>\n",
       "      <td>92.5764</td>\n",
       "      <td>109.8606</td>\n",
       "      <td>111.3423</td>\n",
       "      <td>115.4802</td>\n",
       "      <td>112.9083</td>\n",
       "      <td>105.2652</td>\n",
       "      <td>125.0051</td>\n",
       "      <td>99.3889</td>\n",
       "      <td>97.0142</td>\n",
       "      <td>99.0084</td>\n",
       "      <td>121.0107</td>\n",
       "      <td>106.0873</td>\n",
       "      <td>113.7240</td>\n",
       "      <td>98.6497</td>\n",
       "      <td>90.9573</td>\n",
       "      <td>103.8616</td>\n",
       "      <td>116.5104</td>\n",
       "      <td>102.3596</td>\n",
       "      <td>87.4602</td>\n",
       "      <td>97.2660</td>\n",
       "      <td>117.2709</td>\n",
       "      <td>90.9379</td>\n",
       "      <td>110.270</td>\n",
       "      <td>109.0813</td>\n",
       "      <td>...</td>\n",
       "      <td>74.9890</td>\n",
       "      <td>111.0943</td>\n",
       "      <td>119.2536</td>\n",
       "      <td>97.4631</td>\n",
       "      <td>120.8006</td>\n",
       "      <td>111.3728</td>\n",
       "      <td>128.3741</td>\n",
       "      <td>102.4869</td>\n",
       "      <td>100.3001</td>\n",
       "      <td>94.7011</td>\n",
       "      <td>80.0168</td>\n",
       "      <td>92.4557</td>\n",
       "      <td>105.627</td>\n",
       "      <td>93.5080</td>\n",
       "      <td>79.4404</td>\n",
       "      <td>105.4521</td>\n",
       "      <td>116.9573</td>\n",
       "      <td>126.0428</td>\n",
       "      <td>96.5585</td>\n",
       "      <td>110.3976</td>\n",
       "      <td>105.3688</td>\n",
       "      <td>99.5141</td>\n",
       "      <td>123.1064</td>\n",
       "      <td>100.0334</td>\n",
       "      <td>131.7598</td>\n",
       "      <td>105.6413</td>\n",
       "      <td>95.3966</td>\n",
       "      <td>105.9962</td>\n",
       "      <td>81.9288</td>\n",
       "      <td>110.5705</td>\n",
       "      <td>113.3618</td>\n",
       "      <td>107.7676</td>\n",
       "      <td>82.0304</td>\n",
       "      <td>108.4869</td>\n",
       "      <td>112.3655</td>\n",
       "      <td>99.1251</td>\n",
       "      <td>104.0155</td>\n",
       "      <td>104.2827</td>\n",
       "      <td>97.3266</td>\n",
       "      <td>108.9165</td>\n",
       "    </tr>\n",
       "    <tr>\n",
       "      <th>3</th>\n",
       "      <td>102.7972</td>\n",
       "      <td>112.8764</td>\n",
       "      <td>108.0293</td>\n",
       "      <td>100.4861</td>\n",
       "      <td>118.5246</td>\n",
       "      <td>110.7517</td>\n",
       "      <td>88.2425</td>\n",
       "      <td>110.5423</td>\n",
       "      <td>105.3928</td>\n",
       "      <td>104.3641</td>\n",
       "      <td>92.7487</td>\n",
       "      <td>110.4182</td>\n",
       "      <td>99.8751</td>\n",
       "      <td>80.2258</td>\n",
       "      <td>96.7322</td>\n",
       "      <td>114.8000</td>\n",
       "      <td>92.5764</td>\n",
       "      <td>109.8606</td>\n",
       "      <td>111.3423</td>\n",
       "      <td>115.4802</td>\n",
       "      <td>112.9083</td>\n",
       "      <td>105.2652</td>\n",
       "      <td>125.0051</td>\n",
       "      <td>99.3889</td>\n",
       "      <td>97.0142</td>\n",
       "      <td>99.0084</td>\n",
       "      <td>121.0107</td>\n",
       "      <td>106.0873</td>\n",
       "      <td>113.7240</td>\n",
       "      <td>98.6497</td>\n",
       "      <td>90.9573</td>\n",
       "      <td>103.8616</td>\n",
       "      <td>116.5104</td>\n",
       "      <td>102.3596</td>\n",
       "      <td>87.4602</td>\n",
       "      <td>97.2660</td>\n",
       "      <td>117.2709</td>\n",
       "      <td>90.9379</td>\n",
       "      <td>110.270</td>\n",
       "      <td>109.0813</td>\n",
       "      <td>...</td>\n",
       "      <td>74.9890</td>\n",
       "      <td>111.0943</td>\n",
       "      <td>119.2536</td>\n",
       "      <td>97.4631</td>\n",
       "      <td>120.8006</td>\n",
       "      <td>111.3728</td>\n",
       "      <td>128.3741</td>\n",
       "      <td>102.4869</td>\n",
       "      <td>100.3001</td>\n",
       "      <td>94.7011</td>\n",
       "      <td>80.0168</td>\n",
       "      <td>92.4557</td>\n",
       "      <td>105.627</td>\n",
       "      <td>93.5080</td>\n",
       "      <td>79.4404</td>\n",
       "      <td>105.4521</td>\n",
       "      <td>116.9573</td>\n",
       "      <td>126.0428</td>\n",
       "      <td>96.5585</td>\n",
       "      <td>110.3976</td>\n",
       "      <td>105.3688</td>\n",
       "      <td>99.5141</td>\n",
       "      <td>123.1064</td>\n",
       "      <td>100.0334</td>\n",
       "      <td>131.7598</td>\n",
       "      <td>105.6413</td>\n",
       "      <td>95.3966</td>\n",
       "      <td>105.9962</td>\n",
       "      <td>81.9288</td>\n",
       "      <td>110.5705</td>\n",
       "      <td>113.3618</td>\n",
       "      <td>107.7676</td>\n",
       "      <td>82.0304</td>\n",
       "      <td>108.4869</td>\n",
       "      <td>112.3655</td>\n",
       "      <td>99.1251</td>\n",
       "      <td>104.0155</td>\n",
       "      <td>104.2827</td>\n",
       "      <td>97.3266</td>\n",
       "      <td>108.9165</td>\n",
       "    </tr>\n",
       "    <tr>\n",
       "      <th>4</th>\n",
       "      <td>109.7355</td>\n",
       "      <td>114.6368</td>\n",
       "      <td>116.1581</td>\n",
       "      <td>101.9392</td>\n",
       "      <td>126.8322</td>\n",
       "      <td>113.9985</td>\n",
       "      <td>97.8363</td>\n",
       "      <td>120.4560</td>\n",
       "      <td>113.6176</td>\n",
       "      <td>110.7269</td>\n",
       "      <td>95.3209</td>\n",
       "      <td>118.9245</td>\n",
       "      <td>101.4711</td>\n",
       "      <td>89.2149</td>\n",
       "      <td>99.4887</td>\n",
       "      <td>123.2517</td>\n",
       "      <td>98.2388</td>\n",
       "      <td>111.2419</td>\n",
       "      <td>119.4157</td>\n",
       "      <td>123.2637</td>\n",
       "      <td>114.9413</td>\n",
       "      <td>109.4686</td>\n",
       "      <td>131.7277</td>\n",
       "      <td>100.5285</td>\n",
       "      <td>106.3774</td>\n",
       "      <td>106.7427</td>\n",
       "      <td>126.9704</td>\n",
       "      <td>111.7581</td>\n",
       "      <td>119.3651</td>\n",
       "      <td>107.8084</td>\n",
       "      <td>100.6602</td>\n",
       "      <td>105.7080</td>\n",
       "      <td>118.0118</td>\n",
       "      <td>110.9352</td>\n",
       "      <td>92.3153</td>\n",
       "      <td>105.7806</td>\n",
       "      <td>121.0390</td>\n",
       "      <td>95.9154</td>\n",
       "      <td>119.247</td>\n",
       "      <td>116.5983</td>\n",
       "      <td>...</td>\n",
       "      <td>82.4134</td>\n",
       "      <td>118.5917</td>\n",
       "      <td>127.7184</td>\n",
       "      <td>102.1187</td>\n",
       "      <td>128.3437</td>\n",
       "      <td>121.1244</td>\n",
       "      <td>132.1395</td>\n",
       "      <td>109.1616</td>\n",
       "      <td>109.9146</td>\n",
       "      <td>97.1974</td>\n",
       "      <td>82.1246</td>\n",
       "      <td>98.8024</td>\n",
       "      <td>112.378</td>\n",
       "      <td>96.9461</td>\n",
       "      <td>86.2958</td>\n",
       "      <td>113.1963</td>\n",
       "      <td>120.2770</td>\n",
       "      <td>133.6879</td>\n",
       "      <td>101.6853</td>\n",
       "      <td>116.4676</td>\n",
       "      <td>109.2409</td>\n",
       "      <td>108.8740</td>\n",
       "      <td>124.4703</td>\n",
       "      <td>107.9137</td>\n",
       "      <td>138.6624</td>\n",
       "      <td>111.6080</td>\n",
       "      <td>105.2977</td>\n",
       "      <td>114.1438</td>\n",
       "      <td>90.7563</td>\n",
       "      <td>117.3411</td>\n",
       "      <td>118.5171</td>\n",
       "      <td>110.4423</td>\n",
       "      <td>90.5387</td>\n",
       "      <td>117.8193</td>\n",
       "      <td>119.5782</td>\n",
       "      <td>108.5936</td>\n",
       "      <td>109.1190</td>\n",
       "      <td>112.5844</td>\n",
       "      <td>104.6135</td>\n",
       "      <td>117.5672</td>\n",
       "    </tr>\n",
       "    <tr>\n",
       "      <th>...</th>\n",
       "      <td>...</td>\n",
       "      <td>...</td>\n",
       "      <td>...</td>\n",
       "      <td>...</td>\n",
       "      <td>...</td>\n",
       "      <td>...</td>\n",
       "      <td>...</td>\n",
       "      <td>...</td>\n",
       "      <td>...</td>\n",
       "      <td>...</td>\n",
       "      <td>...</td>\n",
       "      <td>...</td>\n",
       "      <td>...</td>\n",
       "      <td>...</td>\n",
       "      <td>...</td>\n",
       "      <td>...</td>\n",
       "      <td>...</td>\n",
       "      <td>...</td>\n",
       "      <td>...</td>\n",
       "      <td>...</td>\n",
       "      <td>...</td>\n",
       "      <td>...</td>\n",
       "      <td>...</td>\n",
       "      <td>...</td>\n",
       "      <td>...</td>\n",
       "      <td>...</td>\n",
       "      <td>...</td>\n",
       "      <td>...</td>\n",
       "      <td>...</td>\n",
       "      <td>...</td>\n",
       "      <td>...</td>\n",
       "      <td>...</td>\n",
       "      <td>...</td>\n",
       "      <td>...</td>\n",
       "      <td>...</td>\n",
       "      <td>...</td>\n",
       "      <td>...</td>\n",
       "      <td>...</td>\n",
       "      <td>...</td>\n",
       "      <td>...</td>\n",
       "      <td>...</td>\n",
       "      <td>...</td>\n",
       "      <td>...</td>\n",
       "      <td>...</td>\n",
       "      <td>...</td>\n",
       "      <td>...</td>\n",
       "      <td>...</td>\n",
       "      <td>...</td>\n",
       "      <td>...</td>\n",
       "      <td>...</td>\n",
       "      <td>...</td>\n",
       "      <td>...</td>\n",
       "      <td>...</td>\n",
       "      <td>...</td>\n",
       "      <td>...</td>\n",
       "      <td>...</td>\n",
       "      <td>...</td>\n",
       "      <td>...</td>\n",
       "      <td>...</td>\n",
       "      <td>...</td>\n",
       "      <td>...</td>\n",
       "      <td>...</td>\n",
       "      <td>...</td>\n",
       "      <td>...</td>\n",
       "      <td>...</td>\n",
       "      <td>...</td>\n",
       "      <td>...</td>\n",
       "      <td>...</td>\n",
       "      <td>...</td>\n",
       "      <td>...</td>\n",
       "      <td>...</td>\n",
       "      <td>...</td>\n",
       "      <td>...</td>\n",
       "      <td>...</td>\n",
       "      <td>...</td>\n",
       "      <td>...</td>\n",
       "      <td>...</td>\n",
       "      <td>...</td>\n",
       "      <td>...</td>\n",
       "      <td>...</td>\n",
       "      <td>...</td>\n",
       "    </tr>\n",
       "    <tr>\n",
       "      <th>14880</th>\n",
       "      <td>102.7972</td>\n",
       "      <td>112.8764</td>\n",
       "      <td>108.0293</td>\n",
       "      <td>100.4861</td>\n",
       "      <td>118.5246</td>\n",
       "      <td>110.7517</td>\n",
       "      <td>88.2425</td>\n",
       "      <td>110.5423</td>\n",
       "      <td>105.3928</td>\n",
       "      <td>104.3641</td>\n",
       "      <td>92.7487</td>\n",
       "      <td>110.4182</td>\n",
       "      <td>99.8751</td>\n",
       "      <td>80.2258</td>\n",
       "      <td>96.7322</td>\n",
       "      <td>114.8000</td>\n",
       "      <td>92.5764</td>\n",
       "      <td>109.8606</td>\n",
       "      <td>111.3423</td>\n",
       "      <td>115.4802</td>\n",
       "      <td>112.9083</td>\n",
       "      <td>105.2652</td>\n",
       "      <td>125.0051</td>\n",
       "      <td>99.3889</td>\n",
       "      <td>97.0142</td>\n",
       "      <td>99.0084</td>\n",
       "      <td>121.0107</td>\n",
       "      <td>106.0873</td>\n",
       "      <td>113.7240</td>\n",
       "      <td>98.6497</td>\n",
       "      <td>90.9573</td>\n",
       "      <td>103.8616</td>\n",
       "      <td>116.5104</td>\n",
       "      <td>102.3596</td>\n",
       "      <td>87.4602</td>\n",
       "      <td>97.2660</td>\n",
       "      <td>117.2709</td>\n",
       "      <td>90.9379</td>\n",
       "      <td>110.270</td>\n",
       "      <td>109.0813</td>\n",
       "      <td>...</td>\n",
       "      <td>74.9890</td>\n",
       "      <td>111.0943</td>\n",
       "      <td>119.2536</td>\n",
       "      <td>97.4631</td>\n",
       "      <td>120.8006</td>\n",
       "      <td>111.3728</td>\n",
       "      <td>128.3741</td>\n",
       "      <td>102.4869</td>\n",
       "      <td>100.3001</td>\n",
       "      <td>94.7011</td>\n",
       "      <td>80.0168</td>\n",
       "      <td>92.4557</td>\n",
       "      <td>105.627</td>\n",
       "      <td>93.5080</td>\n",
       "      <td>79.4404</td>\n",
       "      <td>105.4521</td>\n",
       "      <td>116.9573</td>\n",
       "      <td>126.0428</td>\n",
       "      <td>96.5585</td>\n",
       "      <td>110.3976</td>\n",
       "      <td>105.3688</td>\n",
       "      <td>99.5141</td>\n",
       "      <td>123.1064</td>\n",
       "      <td>100.0334</td>\n",
       "      <td>131.7598</td>\n",
       "      <td>105.6413</td>\n",
       "      <td>95.3966</td>\n",
       "      <td>105.9962</td>\n",
       "      <td>81.9288</td>\n",
       "      <td>110.5705</td>\n",
       "      <td>113.3618</td>\n",
       "      <td>107.7676</td>\n",
       "      <td>82.0304</td>\n",
       "      <td>108.4869</td>\n",
       "      <td>112.3655</td>\n",
       "      <td>99.1251</td>\n",
       "      <td>104.0155</td>\n",
       "      <td>104.2827</td>\n",
       "      <td>97.3266</td>\n",
       "      <td>108.9165</td>\n",
       "    </tr>\n",
       "    <tr>\n",
       "      <th>14881</th>\n",
       "      <td>102.7972</td>\n",
       "      <td>112.8764</td>\n",
       "      <td>108.0293</td>\n",
       "      <td>100.4861</td>\n",
       "      <td>118.5246</td>\n",
       "      <td>110.7517</td>\n",
       "      <td>88.2425</td>\n",
       "      <td>110.5423</td>\n",
       "      <td>105.3928</td>\n",
       "      <td>104.3641</td>\n",
       "      <td>92.7487</td>\n",
       "      <td>110.4182</td>\n",
       "      <td>99.8751</td>\n",
       "      <td>80.2258</td>\n",
       "      <td>96.7322</td>\n",
       "      <td>114.8000</td>\n",
       "      <td>92.5764</td>\n",
       "      <td>109.8606</td>\n",
       "      <td>111.3423</td>\n",
       "      <td>115.4802</td>\n",
       "      <td>112.9083</td>\n",
       "      <td>105.2652</td>\n",
       "      <td>125.0051</td>\n",
       "      <td>99.3889</td>\n",
       "      <td>97.0142</td>\n",
       "      <td>99.0084</td>\n",
       "      <td>121.0107</td>\n",
       "      <td>106.0873</td>\n",
       "      <td>113.7240</td>\n",
       "      <td>98.6497</td>\n",
       "      <td>90.9573</td>\n",
       "      <td>103.8616</td>\n",
       "      <td>116.5104</td>\n",
       "      <td>102.3596</td>\n",
       "      <td>87.4602</td>\n",
       "      <td>97.2660</td>\n",
       "      <td>117.2709</td>\n",
       "      <td>90.9379</td>\n",
       "      <td>110.270</td>\n",
       "      <td>109.0813</td>\n",
       "      <td>...</td>\n",
       "      <td>74.9890</td>\n",
       "      <td>111.0943</td>\n",
       "      <td>119.2536</td>\n",
       "      <td>97.4631</td>\n",
       "      <td>120.8006</td>\n",
       "      <td>111.3728</td>\n",
       "      <td>128.3741</td>\n",
       "      <td>102.4869</td>\n",
       "      <td>100.3001</td>\n",
       "      <td>94.7011</td>\n",
       "      <td>80.0168</td>\n",
       "      <td>92.4557</td>\n",
       "      <td>105.627</td>\n",
       "      <td>93.5080</td>\n",
       "      <td>79.4404</td>\n",
       "      <td>105.4521</td>\n",
       "      <td>116.9573</td>\n",
       "      <td>126.0428</td>\n",
       "      <td>96.5585</td>\n",
       "      <td>110.3976</td>\n",
       "      <td>105.3688</td>\n",
       "      <td>99.5141</td>\n",
       "      <td>123.1064</td>\n",
       "      <td>100.0334</td>\n",
       "      <td>131.7598</td>\n",
       "      <td>105.6413</td>\n",
       "      <td>95.3966</td>\n",
       "      <td>105.9962</td>\n",
       "      <td>81.9288</td>\n",
       "      <td>110.5705</td>\n",
       "      <td>113.3618</td>\n",
       "      <td>107.7676</td>\n",
       "      <td>82.0304</td>\n",
       "      <td>108.4869</td>\n",
       "      <td>112.3655</td>\n",
       "      <td>99.1251</td>\n",
       "      <td>104.0155</td>\n",
       "      <td>104.2827</td>\n",
       "      <td>97.3266</td>\n",
       "      <td>108.9165</td>\n",
       "    </tr>\n",
       "    <tr>\n",
       "      <th>14882</th>\n",
       "      <td>109.7355</td>\n",
       "      <td>114.6368</td>\n",
       "      <td>116.1581</td>\n",
       "      <td>101.9392</td>\n",
       "      <td>126.8322</td>\n",
       "      <td>113.9985</td>\n",
       "      <td>97.8363</td>\n",
       "      <td>120.4560</td>\n",
       "      <td>113.6176</td>\n",
       "      <td>110.7269</td>\n",
       "      <td>95.3209</td>\n",
       "      <td>118.9245</td>\n",
       "      <td>101.4711</td>\n",
       "      <td>89.2149</td>\n",
       "      <td>99.4887</td>\n",
       "      <td>123.2517</td>\n",
       "      <td>98.2388</td>\n",
       "      <td>111.2419</td>\n",
       "      <td>119.4157</td>\n",
       "      <td>123.2637</td>\n",
       "      <td>114.9413</td>\n",
       "      <td>109.4686</td>\n",
       "      <td>131.7277</td>\n",
       "      <td>100.5285</td>\n",
       "      <td>106.3774</td>\n",
       "      <td>106.7427</td>\n",
       "      <td>126.9704</td>\n",
       "      <td>111.7581</td>\n",
       "      <td>119.3651</td>\n",
       "      <td>107.8084</td>\n",
       "      <td>100.6602</td>\n",
       "      <td>105.7080</td>\n",
       "      <td>118.0118</td>\n",
       "      <td>110.9352</td>\n",
       "      <td>92.3153</td>\n",
       "      <td>105.7806</td>\n",
       "      <td>121.0390</td>\n",
       "      <td>95.9154</td>\n",
       "      <td>119.247</td>\n",
       "      <td>116.5983</td>\n",
       "      <td>...</td>\n",
       "      <td>82.4134</td>\n",
       "      <td>118.5917</td>\n",
       "      <td>127.7184</td>\n",
       "      <td>102.1187</td>\n",
       "      <td>128.3437</td>\n",
       "      <td>121.1244</td>\n",
       "      <td>132.1395</td>\n",
       "      <td>109.1616</td>\n",
       "      <td>109.9146</td>\n",
       "      <td>97.1974</td>\n",
       "      <td>82.1246</td>\n",
       "      <td>98.8024</td>\n",
       "      <td>112.378</td>\n",
       "      <td>96.9461</td>\n",
       "      <td>86.2958</td>\n",
       "      <td>113.1963</td>\n",
       "      <td>120.2770</td>\n",
       "      <td>133.6879</td>\n",
       "      <td>101.6853</td>\n",
       "      <td>116.4676</td>\n",
       "      <td>109.2409</td>\n",
       "      <td>108.8740</td>\n",
       "      <td>124.4703</td>\n",
       "      <td>107.9137</td>\n",
       "      <td>138.6624</td>\n",
       "      <td>111.6080</td>\n",
       "      <td>105.2977</td>\n",
       "      <td>114.1438</td>\n",
       "      <td>90.7563</td>\n",
       "      <td>117.3411</td>\n",
       "      <td>118.5171</td>\n",
       "      <td>110.4423</td>\n",
       "      <td>90.5387</td>\n",
       "      <td>117.8193</td>\n",
       "      <td>119.5782</td>\n",
       "      <td>108.5936</td>\n",
       "      <td>109.1190</td>\n",
       "      <td>112.5844</td>\n",
       "      <td>104.6135</td>\n",
       "      <td>117.5672</td>\n",
       "    </tr>\n",
       "    <tr>\n",
       "      <th>14883</th>\n",
       "      <td>102.7972</td>\n",
       "      <td>112.8764</td>\n",
       "      <td>108.0293</td>\n",
       "      <td>100.4861</td>\n",
       "      <td>118.5246</td>\n",
       "      <td>110.7517</td>\n",
       "      <td>88.2425</td>\n",
       "      <td>110.5423</td>\n",
       "      <td>105.3928</td>\n",
       "      <td>104.3641</td>\n",
       "      <td>92.7487</td>\n",
       "      <td>110.4182</td>\n",
       "      <td>99.8751</td>\n",
       "      <td>80.2258</td>\n",
       "      <td>96.7322</td>\n",
       "      <td>114.8000</td>\n",
       "      <td>92.5764</td>\n",
       "      <td>109.8606</td>\n",
       "      <td>111.3423</td>\n",
       "      <td>115.4802</td>\n",
       "      <td>112.9083</td>\n",
       "      <td>105.2652</td>\n",
       "      <td>125.0051</td>\n",
       "      <td>99.3889</td>\n",
       "      <td>97.0142</td>\n",
       "      <td>99.0084</td>\n",
       "      <td>121.0107</td>\n",
       "      <td>106.0873</td>\n",
       "      <td>113.7240</td>\n",
       "      <td>98.6497</td>\n",
       "      <td>90.9573</td>\n",
       "      <td>103.8616</td>\n",
       "      <td>116.5104</td>\n",
       "      <td>102.3596</td>\n",
       "      <td>87.4602</td>\n",
       "      <td>97.2660</td>\n",
       "      <td>117.2709</td>\n",
       "      <td>90.9379</td>\n",
       "      <td>110.270</td>\n",
       "      <td>109.0813</td>\n",
       "      <td>...</td>\n",
       "      <td>74.9890</td>\n",
       "      <td>111.0943</td>\n",
       "      <td>119.2536</td>\n",
       "      <td>97.4631</td>\n",
       "      <td>120.8006</td>\n",
       "      <td>111.3728</td>\n",
       "      <td>128.3741</td>\n",
       "      <td>102.4869</td>\n",
       "      <td>100.3001</td>\n",
       "      <td>94.7011</td>\n",
       "      <td>80.0168</td>\n",
       "      <td>92.4557</td>\n",
       "      <td>105.627</td>\n",
       "      <td>93.5080</td>\n",
       "      <td>79.4404</td>\n",
       "      <td>105.4521</td>\n",
       "      <td>116.9573</td>\n",
       "      <td>126.0428</td>\n",
       "      <td>96.5585</td>\n",
       "      <td>110.3976</td>\n",
       "      <td>105.3688</td>\n",
       "      <td>99.5141</td>\n",
       "      <td>123.1064</td>\n",
       "      <td>100.0334</td>\n",
       "      <td>131.7598</td>\n",
       "      <td>105.6413</td>\n",
       "      <td>95.3966</td>\n",
       "      <td>105.9962</td>\n",
       "      <td>81.9288</td>\n",
       "      <td>110.5705</td>\n",
       "      <td>113.3618</td>\n",
       "      <td>107.7676</td>\n",
       "      <td>82.0304</td>\n",
       "      <td>108.4869</td>\n",
       "      <td>112.3655</td>\n",
       "      <td>99.1251</td>\n",
       "      <td>104.0155</td>\n",
       "      <td>104.2827</td>\n",
       "      <td>97.3266</td>\n",
       "      <td>108.9165</td>\n",
       "    </tr>\n",
       "    <tr>\n",
       "      <th>14884</th>\n",
       "      <td>102.7972</td>\n",
       "      <td>112.8764</td>\n",
       "      <td>108.0293</td>\n",
       "      <td>100.4861</td>\n",
       "      <td>118.5246</td>\n",
       "      <td>110.7517</td>\n",
       "      <td>88.2425</td>\n",
       "      <td>110.5423</td>\n",
       "      <td>105.3928</td>\n",
       "      <td>104.3641</td>\n",
       "      <td>92.7487</td>\n",
       "      <td>110.4182</td>\n",
       "      <td>99.8751</td>\n",
       "      <td>80.2258</td>\n",
       "      <td>96.7322</td>\n",
       "      <td>114.8000</td>\n",
       "      <td>92.5764</td>\n",
       "      <td>109.8606</td>\n",
       "      <td>111.3423</td>\n",
       "      <td>115.4802</td>\n",
       "      <td>112.9083</td>\n",
       "      <td>105.2652</td>\n",
       "      <td>125.0051</td>\n",
       "      <td>99.3889</td>\n",
       "      <td>97.0142</td>\n",
       "      <td>99.0084</td>\n",
       "      <td>121.0107</td>\n",
       "      <td>106.0873</td>\n",
       "      <td>113.7240</td>\n",
       "      <td>98.6497</td>\n",
       "      <td>90.9573</td>\n",
       "      <td>103.8616</td>\n",
       "      <td>116.5104</td>\n",
       "      <td>102.3596</td>\n",
       "      <td>87.4602</td>\n",
       "      <td>97.2660</td>\n",
       "      <td>117.2709</td>\n",
       "      <td>90.9379</td>\n",
       "      <td>110.270</td>\n",
       "      <td>109.0813</td>\n",
       "      <td>...</td>\n",
       "      <td>74.9890</td>\n",
       "      <td>111.0943</td>\n",
       "      <td>119.2536</td>\n",
       "      <td>97.4631</td>\n",
       "      <td>120.8006</td>\n",
       "      <td>111.3728</td>\n",
       "      <td>128.3741</td>\n",
       "      <td>102.4869</td>\n",
       "      <td>100.3001</td>\n",
       "      <td>94.7011</td>\n",
       "      <td>80.0168</td>\n",
       "      <td>92.4557</td>\n",
       "      <td>105.627</td>\n",
       "      <td>93.5080</td>\n",
       "      <td>79.4404</td>\n",
       "      <td>105.4521</td>\n",
       "      <td>116.9573</td>\n",
       "      <td>126.0428</td>\n",
       "      <td>96.5585</td>\n",
       "      <td>110.3976</td>\n",
       "      <td>105.3688</td>\n",
       "      <td>99.5141</td>\n",
       "      <td>123.1064</td>\n",
       "      <td>100.0334</td>\n",
       "      <td>131.7598</td>\n",
       "      <td>105.6413</td>\n",
       "      <td>95.3966</td>\n",
       "      <td>105.9962</td>\n",
       "      <td>81.9288</td>\n",
       "      <td>110.5705</td>\n",
       "      <td>113.3618</td>\n",
       "      <td>107.7676</td>\n",
       "      <td>82.0304</td>\n",
       "      <td>108.4869</td>\n",
       "      <td>112.3655</td>\n",
       "      <td>99.1251</td>\n",
       "      <td>104.0155</td>\n",
       "      <td>104.2827</td>\n",
       "      <td>97.3266</td>\n",
       "      <td>108.9165</td>\n",
       "    </tr>\n",
       "  </tbody>\n",
       "</table>\n",
       "<p>14885 rows × 14885 columns</p>\n",
       "</div>"
      ],
      "text/plain": [
       "          0         1         2      ...     14882     14883     14884\n",
       "0      109.7355  114.6368  116.1581  ...  112.5844  104.6135  117.5672\n",
       "1      102.7972  112.8764  108.0293  ...  104.2827   97.3266  108.9165\n",
       "2      102.7972  112.8764  108.0293  ...  104.2827   97.3266  108.9165\n",
       "3      102.7972  112.8764  108.0293  ...  104.2827   97.3266  108.9165\n",
       "4      109.7355  114.6368  116.1581  ...  112.5844  104.6135  117.5672\n",
       "...         ...       ...       ...  ...       ...       ...       ...\n",
       "14880  102.7972  112.8764  108.0293  ...  104.2827   97.3266  108.9165\n",
       "14881  102.7972  112.8764  108.0293  ...  104.2827   97.3266  108.9165\n",
       "14882  109.7355  114.6368  116.1581  ...  112.5844  104.6135  117.5672\n",
       "14883  102.7972  112.8764  108.0293  ...  104.2827   97.3266  108.9165\n",
       "14884  102.7972  112.8764  108.0293  ...  104.2827   97.3266  108.9165\n",
       "\n",
       "[14885 rows x 14885 columns]"
      ]
     },
     "execution_count": 147,
     "metadata": {
      "tags": []
     },
     "output_type": "execute_result"
    }
   ],
   "source": [
    "result_predict = y_pred.dot(x_p);\n",
    "result_test = y_test.dot(x_p);\n"
   ]
  },
  {
   "cell_type": "code",
   "execution_count": null,
   "metadata": {
    "id": "2_iywgm_0Ivw"
   },
   "outputs": [],
   "source": [
    "sub = abs(result_test - result_predict).div(result_test)\n",
    "sub = diag(sub)"
   ]
  },
  {
   "cell_type": "code",
   "execution_count": null,
   "metadata": {
    "id": "_BYofwDszNTb"
   },
   "outputs": [],
   "source": [
    "result_test = y_t.dot(x_p);"
   ]
  },
  {
   "cell_type": "code",
   "execution_count": null,
   "metadata": {
    "id": "JsVgpPyvwZvY"
   },
   "outputs": [],
   "source": [
    "result_predict.shape"
   ]
  },
  {
   "cell_type": "code",
   "execution_count": null,
   "metadata": {
    "id": "tfriszUuifoz"
   },
   "outputs": [],
   "source": [
    "y_t = pd.DataFrame(outputs.values)\n",
    "y_t = y_t.iloc[1:14886, 0:24]\n",
    "y_t.shape"
   ]
  },
  {
   "cell_type": "code",
   "execution_count": null,
   "metadata": {
    "id": "zMBXtWVLuhz0"
   },
   "outputs": [],
   "source": [
    "y_t"
   ]
  },
  {
   "cell_type": "code",
   "execution_count": null,
   "metadata": {
    "id": "kAAfgxwOjVHM"
   },
   "outputs": [],
   "source": [
    "x_p = x_p.to_numpy()\n",
    "y_t = y_t.values\n",
    "x_p"
   ]
  },
  {
   "cell_type": "code",
   "execution_count": null,
   "metadata": {
    "id": "6DP7VreUuRTe"
   },
   "outputs": [],
   "source": [
    "result_test = result_test.to_numpy()\n",
    "result_predict = result_predict.to_numpy()"
   ]
  },
  {
   "cell_type": "code",
   "execution_count": null,
   "metadata": {
    "id": "BQvLFZf-t56G"
   },
   "outputs": [],
   "source": [
    "result_predict"
   ]
  },
  {
   "cell_type": "code",
   "execution_count": null,
   "metadata": {
    "id": "BYbNgzjhhoX9"
   },
   "outputs": [],
   "source": [
    "result.shape = x_p*(y_test)"
   ]
  },
  {
   "cell_type": "code",
   "execution_count": null,
   "metadata": {
    "id": "LzRbMb3jGQ70"
   },
   "outputs": [],
   "source": [
    " sub = abs(result - result_predict).div(result)\n",
    " sub"
   ]
  },
  {
   "cell_type": "code",
   "execution_count": null,
   "metadata": {
    "id": "FSwyq_ldmdGj"
   },
   "outputs": [],
   "source": [
    "\n",
    "hat_x = pd.diag(result)\n"
   ]
  },
  {
   "cell_type": "code",
   "execution_count": null,
   "metadata": {
    "id": "WjcKIQytEnaa"
   },
   "outputs": [],
   "source": [
    "mydict = [{'a': 1, 'b': 2, 'c': 3, 'd': 4},\n",
    "          {'a': 100, 'b': 200, 'c': 300, 'd': 400},\n",
    "          {'a': 1000, 'b': 2000, 'c': 3000, 'd': 4000 }]\n",
    "df = pd.DataFrame(mydict)\n",
    "df"
   ]
  },
  {
   "cell_type": "code",
   "execution_count": null,
   "metadata": {
    "id": "p-CyUNBWEtA5"
   },
   "outputs": [],
   "source": [
    "df.iloc[0:3, 0:2]"
   ]
  },
  {
   "cell_type": "code",
   "execution_count": null,
   "metadata": {
    "id": "ibOi6bms_ggx"
   },
   "outputs": [],
   "source": [
    "inputs"
   ]
  },
  {
   "cell_type": "code",
   "execution_count": null,
   "metadata": {
    "id": "nUplKuVdaS6j"
   },
   "outputs": [],
   "source": [
    "y1= pd.DataFrame(y_pred_binary)\n",
    "x1=inputs.loc[6913:8641]\n",
    "x1= pd.DataFrame(x1)\n",
    "x1.index = range(len(x1))\n",
    "test = pd.concat([x1, y1], axis=1)\n",
    "\n",
    "\n",
    "\n"
   ]
  },
  {
   "cell_type": "code",
   "execution_count": null,
   "metadata": {
    "id": "wk1M_D8lf9vf"
   },
   "outputs": [],
   "source": [
    "x1"
   ]
  },
  {
   "cell_type": "code",
   "execution_count": null,
   "metadata": {
    "id": "yfO0HZIObs3D"
   },
   "outputs": [],
   "source": [
    "test.head"
   ]
  },
  {
   "cell_type": "code",
   "execution_count": null,
   "metadata": {
    "id": "fmXJHOl6aaUd"
   },
   "outputs": [],
   "source": [
    "test.to_excel('test.xlsx', index = False)"
   ]
  },
  {
   "cell_type": "code",
   "execution_count": null,
   "metadata": {
    "id": "SUJBG64VJGlS"
   },
   "outputs": [],
   "source": [
    "test['actual_cost_Gurobi'] = test['Z_Gurobi']*test['Eprize'] + test['f_Gurobi']*test['Water Price']\n",
    "test['estimated_cost_DNN'] = test['z_DNN']*df['Eprize'] + df['f(t,r)_DNN']*df['waterP']"
   ]
  },
  {
   "cell_type": "code",
   "execution_count": null,
   "metadata": {
    "id": "SbdRCgCGPqtO"
   },
   "outputs": [],
   "source": [
    "#Plot the cost function (Gurobi and DNN)\n",
    "fig = plt.figure()\n",
    "#plt.plot(df['actual_cost_Gurobi'], df['estimated_cost_DNN'])\n",
    "ax = df['actual_cost_Gurobi'].plot()\n",
    "df['estimated_cost_DNN'].plot(ax=ax)\n",
    "fig.set_size_inches(18.5, 10.5)\n",
    "\n",
    "plt.xlim(75,125)\n",
    "plt.ylim(0,300)\n",
    "plt.show()"
   ]
  },
  {
   "cell_type": "code",
   "execution_count": null,
   "metadata": {
    "id": "LwlleKo1TBUp"
   },
   "outputs": [],
   "source": [
    "df['running_sum_Gurobi'] = df['actual_cost_Gurobi'].cumsum()\n",
    "df['running_sum_DNN'] = df['estimated_cost_DNN'].cumsum()"
   ]
  },
  {
   "cell_type": "code",
   "execution_count": null,
   "metadata": {
    "id": "Sr9BW3s6XWor"
   },
   "outputs": [],
   "source": [
    "#Plotting the running sum of cost functions (Gurobi and Predicted)\n",
    "\n",
    "fig = plt.figure()\n",
    "#plt.plot(df['actual_cost_Gurobi'], df['estimated_cost_DNN'])\n",
    "ax = df['running_sum_Gurobi'].plot()\n",
    "df['running_sum_DNN'].plot(ax=ax)\n",
    "fig.set_size_inches(18.5, 10.5)\n",
    "plt.xlabel('T')\n",
    "plt.ylabel('running_cost')\n",
    "plt.title('Comparison of running cost Gurobi Vs DNN')\n",
    "plt.xlim(0,250)\n",
    "plt.ylim(0,25000)\n",
    "plt.show()"
   ]
  },
  {
   "cell_type": "code",
   "execution_count": null,
   "metadata": {
    "id": "AsV8gW6FCdQq"
   },
   "outputs": [],
   "source": [
    "#Suboptimality\n",
    "#If the estimated solution X^ is feasible. We degine suboptimality as \n",
    "# d(x^_i) = (f(x^)-f(x))/|f(x^)|\n",
    "\n",
    "df['suboptimality'] = (df['estimated_cost_DNN'] - df['actual_cost_Gurobi']).div(df['actual_cost_Gurobi'])\n",
    "#fig = plt.figure()\n",
    "#plt.plot(df['actual_cost_Gurobi'], df['estimated_cost_DNN'])\n",
    "#ax = df['suboptimality'].plot()\n",
    "#plt.xlim(0,100)\n",
    "#plt.ylim(-1,0.5)\n",
    "#plt.show()\n",
    "\n",
    "\n",
    "\n"
   ]
  },
  {
   "cell_type": "code",
   "execution_count": null,
   "metadata": {
    "id": "LRpLLhQ0GOLO"
   },
   "outputs": [],
   "source": [
    "#Suboptimality\n",
    "#If the estimated solution X^ is feasible. We degine suboptimality as \n",
    "# d(x^_i) = (f(x^)-f(x))/|f(x^)|\n",
    "\n",
    "df['suboptimality_running_sum'] = (df['running_sum_DNN'] - df['running_sum_Gurobi']).div(df['running_sum_Gurobi'])\n",
    "df['suboptimality_running_sum'] = abs(df['suboptimality_running_sum'])\n",
    "fig = plt.figure()\n",
    "#plt.plot(df['actual_cost_Gurobi'], df['estimated_cost_DNN'])\n",
    "plt.axhline(y=0.07, color='r', linestyle='-')\n",
    "ax = df['suboptimality_running_sum'].plot()\n",
    "plt.xlabel('T')\n",
    "plt.ylabel('Suboptimality')\n",
    "plt.title('Suboptimality/in running Cost (set at 3X10^-2)')\n",
    "fig.set_size_inches(18.5, 10.5)\n",
    "plt.xlim(30,200)\n",
    "plt.ylim(0,0.2)\n",
    "plt.show()\n"
   ]
  },
  {
   "cell_type": "markdown",
   "metadata": {
    "id": "G-6_hjEkt-q9"
   },
   "source": [
    "#Constraint Verification"
   ]
  },
  {
   "cell_type": "markdown",
   "metadata": {
    "id": "iElXaBYUWSKA"
   },
   "source": [
    "# New Section"
   ]
  },
  {
   "cell_type": "code",
   "execution_count": null,
   "metadata": {
    "id": "JvKf1YtIoGxa"
   },
   "outputs": [],
   "source": [
    "#Creating a data frame with maximum values of flows\n",
    "\n",
    "df['F_max'] = df['f(t,r)_Gurobi']"
   ]
  },
  {
   "cell_type": "code",
   "execution_count": null,
   "metadata": {
    "id": "c6MMVYG7uEoe"
   },
   "outputs": [],
   "source": [
    "df['diff'] = ((df['f(t,r)_DNN'] - (df['z_DNN']*df['F_max'])).div(150)) - 0.03\n",
    "\n",
    "\n",
    "#.div(df['running_sum_Gurobi'])\n",
    "\n",
    "#fig = plt.figure()\n",
    "#plt.plot(df['actual_cost_Gurobi'], df['estimated_cost_DNN'])\n",
    "#plt.axhline(y=0.02, color='r', linestyle='-')\n",
    "#ax = df['diff'].plot()\n",
    "#plt.xlabel('T')\n",
    "#plt.ylabel('Suboptimality')\n",
    "#plt.title('Suboptimality/in running Cost (set at 2X10^-2)')\n",
    "#fig.set_size_inches(18.5, 10.5)\n",
    "#plt.xlim(30,205)\n",
    "#plt.ylim(-1,1)\n",
    "#plt.show()\n"
   ]
  },
  {
   "cell_type": "code",
   "execution_count": null,
   "metadata": {
    "id": "CeiMXj5R30pD"
   },
   "outputs": [],
   "source": [
    "#Satisfied constraints in formulation\n",
    "y = sum(i <= 0 for i in df['diff'])\n",
    "count_col = df.shape[0]\n",
    "satisfied_C = (y/count_col)*100\n",
    "satisfied_C\n"
   ]
  },
  {
   "cell_type": "code",
   "execution_count": null,
   "metadata": {
    "id": "jGYBdO1NxUTD"
   },
   "outputs": [],
   "source": [
    "df['diff'].head\n"
   ]
  },
  {
   "cell_type": "code",
   "execution_count": null,
   "metadata": {
    "id": "xcCGVw39K5Ws"
   },
   "outputs": [],
   "source": [
    "df.to_excel('File Name.xlsx', index = False)"
   ]
  },
  {
   "cell_type": "code",
   "execution_count": null,
   "metadata": {
    "id": "3uMPe_ZnZM3l"
   },
   "outputs": [],
   "source": []
  }
 ],
 "metadata": {
  "colab": {
   "collapsed_sections": [],
   "name": "FinalCodeDL.ipynb",
   "provenance": [],
   "toc_visible": true
  },
  "kernelspec": {
   "display_name": "Python 3",
   "language": "python",
   "name": "python3"
  },
  "language_info": {
   "codemirror_mode": {
    "name": "ipython",
    "version": 3
   },
   "file_extension": ".py",
   "mimetype": "text/x-python",
   "name": "python",
   "nbconvert_exporter": "python",
   "pygments_lexer": "ipython3",
   "version": "3.7.6"
  }
 },
 "nbformat": 4,
 "nbformat_minor": 1
}
