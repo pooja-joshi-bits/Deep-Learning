{
 "cells": [
  {
   "cell_type": "code",
   "execution_count": 1,
   "metadata": {
    "id": "qLTVIvmEV0bJ"
   },
   "outputs": [
    {
     "name": "stderr",
     "output_type": "stream",
     "text": [
      "Using TensorFlow backend.\n"
     ]
    }
   ],
   "source": [
    "#We are testing a DL model for Mixed integer formulation for Water distribution network.\n",
    "# The input data such as water demand and time-ahead dynamic energy prices are obtained from Singh et al (2019) paper.\n",
    "# We computed the time ahead pump switching using MATALB Gurobi solver\n",
    "# We obtained the time ahead pump switching for 2048 hours (85.33 days)\n",
    "# We train_test the neural network in the ratio of 80-20.\n",
    "# The nn is trained using ReLu and SoftMax (as the output is integer values)\n",
    "\n",
    "#In our  case y is (z)\n",
    "\n",
    "import numpy as np\n",
    "import pandas as pd   #data analysis and manipulation library\n",
    "import seaborn as sns #Python statistical data visualization library.\n",
    "import matplotlib.pyplot as plt\n",
    "from sklearn import model_selection #Tuning the hyperparameters, cross validation, model persistance are the important aspects of this.\n",
    "from sklearn.model_selection import train_test_split #ML library to data analysis\n",
    "from sklearn.metrics import accuracy_score, r2_score\n",
    "import sklearn.metrics as metrics\n",
    "from openpyxl import Workbook, load_workbook\n",
    "from openpyxl.utils.dataframe import dataframe_to_rows\n",
    "\n",
    "\n",
    "from sklearn.decomposition import PCA #dimensionality reduction\n",
    "\n",
    "%matplotlib inline\n",
    "\n",
    "#Libraries for Deep learning framework from Keras\n",
    "\n",
    "import tensorflow as tf\n",
    "from tensorflow.keras.models import Sequential\n",
    "from tensorflow.keras.layers import Dense, Activation\n",
    "from tensorflow.keras.layers import BatchNormalization\n",
    "\n",
    "import keras\n",
    "import keras.utils\n",
    "from keras import utils as np_utils\n",
    "from keras.models import Sequential\n",
    "\n",
    "from tensorflow.keras import layers\n",
    "from tensorflow.keras import utils as np_utils\n",
    "from tensorflow.keras import models \n",
    "from tensorflow.keras.models import Sequential\n",
    "from tensorflow.keras.layers import Activation, LeakyReLU, PReLU, ELU #Import activation functions from keras.layers\n",
    "from tensorflow.keras.layers import Dropout #Import dropout library, the objective of dropout is to prevent overfitting of data, However, we have to be careful while setting the dropout rate.\n",
    "from tensorflow.keras.optimizers import SGD, RMSprop\n",
    "from tensorflow.keras.callbacks import LearningRateScheduler #Learning rate scheduler, Here call back is an object that can perform\n",
    "                                                # at various actions at different stages of training \n",
    "from tensorflow.keras.callbacks import History #We can use the data collected from history to  [accuracy, loss, val_accuracy, val_loss]\n",
    "\n",
    "\n",
    "\n",
    "import io #Deal with various types of input output\n",
    "import os #Talk with os, like changing and modifying dirctories\n",
    "import requests #Allow you to send HTTP/1.1, headers, form data, multipart files r = requests.get(‘https://github.com/timeline.json’)\n",
    "\n",
    "\n",
    "import warnings\n",
    "warnings.simplefilter(action='ignore', category=FutureWarning)\n",
    "warnings.filterwarnings('ignore')\n",
    "warnings.filterwarnings('ignore', category=DeprecationWarning) #Deprecated warning: it is a base category of warning about deprecated features\n",
    "\n",
    "\n",
    "import dill\n",
    "# dill.dump_session('notebook_env.db')\n"
   ]
  },
  {
   "cell_type": "code",
   "execution_count": 2,
   "metadata": {
    "colab": {
     "base_uri": "https://localhost:8080/",
     "height": 35
    },
    "id": "3UAv55q5WBcM",
    "outputId": "3c021aa0-bd4d-494f-f943-eef9218e7517"
   },
   "outputs": [
    {
     "data": {
      "text/plain": [
       "'C:\\\\Users\\\\jyotib18\\\\OneDrive - Universitetet i Agder\\\\Data Files From Rahul'"
      ]
     },
     "execution_count": 2,
     "metadata": {},
     "output_type": "execute_result"
    }
   ],
   "source": [
    "pwd\n"
   ]
  },
  {
   "cell_type": "code",
   "execution_count": 3,
   "metadata": {
    "colab": {
     "base_uri": "https://localhost:8080/",
     "height": 35
    },
    "id": "IpVFTXeQXCXK",
    "outputId": "27426a81-8e08-46b7-8f2c-c8deaf83a9a4"
   },
   "outputs": [
    {
     "data": {
      "text/plain": [
       "(109355, 93)"
      ]
     },
     "execution_count": 3,
     "metadata": {},
     "output_type": "execute_result"
    }
   ],
   "source": [
    "import io\n",
    "#inputs = pd.read_csv(io.BytesIO(uploaded['1.csv']))\n",
    "\n",
    "inputs=pd.read_csv(r'C:\\Users\\jyotib18\\OPS_Data\\2T15in\\Double data\\2T15in.csv')\n",
    "\n",
    "\n",
    "# Dataset is now stored in a Pandas Dataframe\n",
    "inputs.shape"
   ]
  },
  {
   "cell_type": "code",
   "execution_count": 4,
   "metadata": {
    "colab": {
     "base_uri": "https://localhost:8080/",
     "height": 35
    },
    "id": "JJOS8FKYX-NI",
    "outputId": "1b70258b-b9d3-487b-c10f-9a84707063e3"
   },
   "outputs": [
    {
     "data": {
      "text/plain": [
       "pandas.core.frame.DataFrame"
      ]
     },
     "execution_count": 4,
     "metadata": {},
     "output_type": "execute_result"
    }
   ],
   "source": [
    "type(inputs)"
   ]
  },
  {
   "cell_type": "code",
   "execution_count": 5,
   "metadata": {
    "colab": {
     "base_uri": "https://localhost:8080/",
     "height": 267
    },
    "id": "7kjRvcIjYBcE",
    "outputId": "fc4ba7fd-6de7-44fa-fddc-9bbd367a8a2d"
   },
   "outputs": [
    {
     "data": {
      "text/plain": [
       "<bound method NDFrame.head of         71.848   86.75  1  0  1.1  0.1  4  0.2  0.3  0.4  ...  0.86048  \\\n",
       "0       50.552  83.305  0  0    0    1  4    0    1    0  ...  11.7220   \n",
       "1       61.745  42.972  0  0    0    0  4    0    0    0  ...   4.1789   \n",
       "2       75.833  57.996  0  0    1    0  1    0    0    0  ...  13.7010   \n",
       "3       53.737  78.516  0  0    1    0  3    0    0    1  ...   3.0874   \n",
       "4       75.849  60.119  0  0    0    0  4    1    1    0  ...  19.9400   \n",
       "...        ...     ... .. ..  ...  ... ..  ...  ...  ...  ...      ...   \n",
       "109350  90.822  51.947  1  0    1    0  2    0    1    0  ...   1.7475   \n",
       "109351  98.012  60.489  1  0    0    0  5    1    0    1  ...  12.7790   \n",
       "109352  93.404  47.230  0  0    0    1  5    1    1    0  ...   5.1705   \n",
       "109353  93.183  68.686  0  0    1    1  5    0    1    0  ...   4.7674   \n",
       "109354  53.407  62.672  0  0    0    1  1    0    1    0  ...  11.3330   \n",
       "\n",
       "         3.3798    12.982   14.634   12.955   9.0185    10.94   5.9264  \\\n",
       "0        5.2429   0.88908  15.0990   4.8557   8.8480  13.7560   7.1846   \n",
       "1       18.1030  13.50800   9.3694  18.2430   2.0802  14.9110  14.7250   \n",
       "2       11.9590  15.78700   7.3531   4.1206   1.7333  15.4390   4.1135   \n",
       "3        7.6269   3.22270  15.1620  17.4220   7.0155  13.7110   5.8830   \n",
       "4        4.4834  13.04900  12.1000   7.7449   2.8437   0.5027   8.4222   \n",
       "...         ...       ...      ...      ...      ...      ...      ...   \n",
       "109350  17.1880   6.21200  15.6580  15.5110  17.3660   3.8386   6.7195   \n",
       "109351   3.9542  11.98500  19.9540   2.5306  16.0520  16.7390   6.6045   \n",
       "109352  13.2930   3.74960  16.8280  14.2530  15.0690   2.7901   3.5791   \n",
       "109353  17.0380  13.50900   1.5724  10.3200   6.3414   8.6293   2.0324   \n",
       "109354  10.1130   2.20810  19.2870  13.7060   7.8109  17.4510   3.7729   \n",
       "\n",
       "         14.894    3.7791  \n",
       "0       14.7270   7.89410  \n",
       "1       11.2370   3.68390  \n",
       "2        7.7654  11.03600  \n",
       "3       10.6130  16.64800  \n",
       "4        3.6820  14.51600  \n",
       "...         ...       ...  \n",
       "109350  12.2840   6.33590  \n",
       "109351   1.6663   3.11970  \n",
       "109352   3.8214  18.13100  \n",
       "109353   5.0390   5.99490  \n",
       "109354   2.5069   0.48154  \n",
       "\n",
       "[109355 rows x 93 columns]>"
      ]
     },
     "execution_count": 5,
     "metadata": {},
     "output_type": "execute_result"
    }
   ],
   "source": [
    "inputs.head"
   ]
  },
  {
   "cell_type": "code",
   "execution_count": 6,
   "metadata": {
    "colab": {
     "base_uri": "https://localhost:8080/",
     "height": 35
    },
    "id": "3K06d0z3YLHZ",
    "outputId": "2f18508a-5444-4967-a6c7-42e5cfdeb656"
   },
   "outputs": [
    {
     "data": {
      "text/plain": [
       "(109355, 60)"
      ]
     },
     "execution_count": 6,
     "metadata": {},
     "output_type": "execute_result"
    }
   ],
   "source": [
    "import io\n",
    "outputs = pd.read_csv(r'C:\\Users\\jyotib18\\OPS_Data\\2T15in\\Double data\\2T15out.csv')\n",
    "# Dataset is now stored in a Pandas Dataframe\n",
    "outputs.shape"
   ]
  },
  {
   "cell_type": "code",
   "execution_count": 7,
   "metadata": {
    "colab": {
     "base_uri": "https://localhost:8080/",
     "height": 267
    },
    "id": "c_Y34U9Eo9RK",
    "outputId": "a0beb83e-4aeb-4f67-e98b-175ffcb61b9b"
   },
   "outputs": [
    {
     "data": {
      "text/plain": [
       "<bound method NDFrame.head of         1    0  0.1  0.2  0.3  1.1  0.4  0.5  0.6  1.2  ...  0.43  0.44  0.45  \\\n",
       "0       0  0.0  0.0  0.0  0.0  0.0  0.0  0.0  1.0  0.0  ...   0.0   1.0   0.0   \n",
       "1       0  1.0  0.0  0.0  0.0  0.0  1.0  0.0  0.0  0.0  ...   0.0   1.0   0.0   \n",
       "2       0  0.0  0.0  0.0  0.0  1.0  0.0  0.0  0.0  1.0  ...   0.0   0.0   0.0   \n",
       "3       0  0.0  0.0  0.0  0.0  0.0  0.0  0.0  0.0  0.0  ...   0.0   0.0   0.0   \n",
       "4       0  0.0  0.0  0.0  0.0  0.0  1.0  0.0  0.0  0.0  ...   0.0   0.0   0.0   \n",
       "...    ..  ...  ...  ...  ...  ...  ...  ...  ...  ...  ...   ...   ...   ...   \n",
       "109350  1  0.0  0.0  0.0  0.0  0.0  0.0  0.0  1.0  0.0  ...   0.0   0.0   0.0   \n",
       "109351  1  1.0  1.0  1.0  0.0  0.0  0.0  0.0  0.0  0.0  ...   1.0   0.0   1.0   \n",
       "109352  0  0.0  0.0  0.0  0.0  0.0  0.0  0.0  0.0  0.0  ...   0.0   0.0   0.0   \n",
       "109353  0  0.0  0.0  0.0  0.0  0.0  0.0  0.0  1.0  0.0  ...   0.0   0.0   0.0   \n",
       "109354  0  0.0  0.0  1.0  0.0  0.0  0.0  0.0  0.0  0.0  ...   0.0   0.0   0.0   \n",
       "\n",
       "        0.46  0.47  0.48  0.49  0.50  0.51  0.52  \n",
       "0        0.0   0.0   0.0   0.0   0.0   0.0     0  \n",
       "1        0.0   0.0   0.0   0.0   0.0   0.0     0  \n",
       "2        0.0   1.0   0.0   0.0   0.0   0.0     0  \n",
       "3        0.0   0.0   0.0   0.0   0.0   0.0     0  \n",
       "4        0.0   1.0   0.0   0.0   0.0   0.0     0  \n",
       "...      ...   ...   ...   ...   ...   ...   ...  \n",
       "109350   0.0   0.0   0.0   0.0   0.0   0.0     0  \n",
       "109351   1.0   0.0   0.0   0.0   0.0   0.0     0  \n",
       "109352   0.0   0.0   1.0   0.0   0.0   0.0     0  \n",
       "109353   1.0   0.0   0.0   1.0   0.0   0.0     0  \n",
       "109354   0.0   0.0   0.0   0.0   0.0   1.0     0  \n",
       "\n",
       "[109355 rows x 60 columns]>"
      ]
     },
     "execution_count": 7,
     "metadata": {},
     "output_type": "execute_result"
    }
   ],
   "source": [
    "outputs.head"
   ]
  },
  {
   "cell_type": "code",
   "execution_count": 8,
   "metadata": {
    "colab": {
     "base_uri": "https://localhost:8080/",
     "height": 142
    },
    "id": "7Q5rdfEcYUpm",
    "outputId": "e1c8aace-b467-4903-93de-00041281f93e"
   },
   "outputs": [
    {
     "data": {
      "text/plain": [
       "array([[50.552  , 83.305  ,  0.     , ...,  7.1846 , 14.727  ,  7.8941 ],\n",
       "       [61.745  , 42.972  ,  0.     , ..., 14.725  , 11.237  ,  3.6839 ],\n",
       "       [75.833  , 57.996  ,  0.     , ...,  4.1135 ,  7.7654 , 11.036  ],\n",
       "       ...,\n",
       "       [93.404  , 47.23   ,  0.     , ...,  3.5791 ,  3.8214 , 18.131  ],\n",
       "       [93.183  , 68.686  ,  0.     , ...,  2.0324 ,  5.039  ,  5.9949 ],\n",
       "       [53.407  , 62.672  ,  0.     , ...,  3.7729 ,  2.5069 ,  0.48154]])"
      ]
     },
     "execution_count": 8,
     "metadata": {},
     "output_type": "execute_result"
    }
   ],
   "source": [
    "x = inputs.values #converting data frame to array frame\n",
    "x"
   ]
  },
  {
   "cell_type": "code",
   "execution_count": 9,
   "metadata": {
    "colab": {
     "base_uri": "https://localhost:8080/",
     "height": 35
    },
    "id": "u-1JFtEPZMI-",
    "outputId": "1a6530ce-97d3-43c1-e22d-afa1cc4cc523"
   },
   "outputs": [
    {
     "data": {
      "text/plain": [
       "pandas.core.frame.DataFrame"
      ]
     },
     "execution_count": 9,
     "metadata": {},
     "output_type": "execute_result"
    }
   ],
   "source": [
    "type(outputs)"
   ]
  },
  {
   "cell_type": "code",
   "execution_count": 10,
   "metadata": {
    "colab": {
     "base_uri": "https://localhost:8080/",
     "height": 142
    },
    "id": "ftCpb4JaZOCm",
    "outputId": "d1adf403-a25c-406b-af25-602b9fc6363a"
   },
   "outputs": [
    {
     "data": {
      "text/plain": [
       "array([[0., 0., 0., ..., 0., 0., 0.],\n",
       "       [0., 1., 0., ..., 0., 0., 0.],\n",
       "       [0., 0., 0., ..., 0., 0., 0.],\n",
       "       ...,\n",
       "       [0., 0., 0., ..., 0., 0., 0.],\n",
       "       [0., 0., 0., ..., 0., 0., 0.],\n",
       "       [0., 0., 0., ..., 0., 1., 0.]])"
      ]
     },
     "execution_count": 10,
     "metadata": {},
     "output_type": "execute_result"
    }
   ],
   "source": [
    "y = outputs.values # converting dataframe \"outputc\" in array form i.e. 'y' is now in array form \n",
    "y # y is combination of power assignments and channel assignments both."
   ]
  },
  {
   "cell_type": "code",
   "execution_count": 11,
   "metadata": {
    "colab": {
     "base_uri": "https://localhost:8080/",
     "height": 35
    },
    "id": "ChIBpH6HZQxg",
    "outputId": "18f59c85-a710-4dfa-997d-b35308e72991"
   },
   "outputs": [
    {
     "data": {
      "text/plain": [
       "(109355, 60)"
      ]
     },
     "execution_count": 11,
     "metadata": {},
     "output_type": "execute_result"
    }
   ],
   "source": [
    "y.shape"
   ]
  },
  {
   "cell_type": "code",
   "execution_count": 12,
   "metadata": {},
   "outputs": [
    {
     "data": {
      "text/plain": [
       "(109355, 93)"
      ]
     },
     "execution_count": 12,
     "metadata": {},
     "output_type": "execute_result"
    }
   ],
   "source": [
    "x.shape"
   ]
  },
  {
   "cell_type": "code",
   "execution_count": 13,
   "metadata": {
    "colab": {
     "base_uri": "https://localhost:8080/",
     "height": 35
    },
    "id": "abgDkl9qZTMj",
    "outputId": "2d246909-8eff-48b5-f5d5-2a3ac593b867"
   },
   "outputs": [
    {
     "data": {
      "text/plain": [
       "numpy.ndarray"
      ]
     },
     "execution_count": 13,
     "metadata": {},
     "output_type": "execute_result"
    }
   ],
   "source": [
    "type(y)"
   ]
  },
  {
   "cell_type": "code",
   "execution_count": 14,
   "metadata": {
    "colab": {
     "base_uri": "https://localhost:8080/",
     "height": 142
    },
    "id": "feOJ4F4eZVDY",
    "outputId": "50399f6d-8241-46ee-c374-b53b7e17226b"
   },
   "outputs": [],
   "source": [
    "#y[0]"
   ]
  },
  {
   "cell_type": "code",
   "execution_count": 15,
   "metadata": {
    "colab": {
     "base_uri": "https://localhost:8080/",
     "height": 71
    },
    "id": "kL_w5EAOZXE9",
    "outputId": "e61df404-dd57-44dd-ed66-5e1662d55204"
   },
   "outputs": [],
   "source": [
    "#y[0:50, 0] # First row and initial 50 columns of y "
   ]
  },
  {
   "cell_type": "code",
   "execution_count": 16,
   "metadata": {
    "id": "Jt2OQ-dMZZ1x"
   },
   "outputs": [],
   "source": [
    "# Splitting data for training and testing \n",
    "# Here both x and y are in array form (non-scaled)\n",
    "\n",
    "from sklearn.model_selection import train_test_split\n",
    "x_train, x_test, y_train, y_test = train_test_split(x, y, test_size=0.1, shuffle=False, random_state=42) # old\n",
    "#x_train, x_test, y_train, y_test = train_test_split(x, y, test_size=0.2, shuffle=True)"
   ]
  },
  {
   "cell_type": "code",
   "execution_count": 17,
   "metadata": {
    "id": "gBhAhKzuZehe"
   },
   "outputs": [],
   "source": [
    "# Feature Scaling\n",
    "from sklearn.preprocessing import StandardScaler\n",
    "sc = StandardScaler()\n",
    "x_train = sc.fit_transform(x_train)\n",
    "x_test = sc.transform(x_test)"
   ]
  },
  {
   "cell_type": "code",
   "execution_count": 18,
   "metadata": {},
   "outputs": [],
   "source": [
    "#Building neural network\n",
    "\n",
    "\n",
    "model = tf.keras.Sequential()\n",
    "\n",
    "model.add(Dense(20, input_dim=x.shape[1], kernel_initializer='random_normal')) # Input layer and 1st hidden layer\n",
    "model.add(LeakyReLU(alpha=0.1)) # Leaky Relu for 1st hidden layer\n",
    "model.add(BatchNormalization())\n",
    "\n",
    "\n",
    "#model.add(Dense(100,  kernel_initializer='random_normal')) # 2nd Hidden layer\n",
    "#model.add(BatchNormalization())\n",
    "#model.add(LeakyReLU(alpha=0.1)) # Leaky Relu for 2nd hidden layer\n",
    "\n",
    "\n",
    "#model.add(BatchNormalization())\n",
    "\n",
    "model.add(Dense(40, kernel_initializer='random_normal')) # 3rd Hidden layer \n",
    "model.add(LeakyReLU(alpha=0.1)) # Leaky Relu for 3rd hidden layer\n",
    "model.add(BatchNormalization())\n",
    "\n",
    "model.add(Dense(60,  kernel_initializer='random_normal')) # 4th Hidden Layer \n",
    "model.add(LeakyReLU(alpha=0.1)) # Leaky Relu for 4th hidden layer\n",
    "model.add(BatchNormalization())\n",
    "\n",
    "model.add(Dense(80, kernel_initializer='random_normal')) # 5th Hidden Layer\n",
    "model.add(LeakyReLU(alpha=0.1)) # Leaky Relu for 5th hidden layer\n",
    "model.add(BatchNormalization())\n",
    "\n",
    "model.add(Dense(100, kernel_initializer='random_normal')) # 6th Hidden layer\n",
    "model.add(LeakyReLU(alpha=0.1)) # Leaky Relu for 6th hidden layer\n",
    "model.add(BatchNormalization())\n",
    "\n",
    "model.add(Dense(80, kernel_initializer='random_normal')) # 7th Hidden Layer \n",
    "model.add(LeakyReLU(alpha=0.1)) # Leaky Relu for 4th hidden layer\n",
    "model.add(BatchNormalization())\n",
    "\n",
    "\n",
    "model.add(Dense(60, kernel_initializer='random_normal')) # 7th Hidden Layer \n",
    "model.add(LeakyReLU(alpha=0.1)) # Leaky Relu for 4th hidden layer\n",
    "model.add(BatchNormalization())\n",
    "\n",
    "model.add(Dense(40, kernel_initializer='random_normal')) # 7th Hidden Layer \n",
    "model.add(LeakyReLU(alpha=0.1)) # Leaky Relu for 4th hidden layer\n",
    "model.add(BatchNormalization())\n",
    "\n",
    "\n",
    "\n",
    "model.add(Dense(y.shape[1], activation='sigmoid', kernel_initializer='random_normal')) # Output Layer "
   ]
  },
  {
   "cell_type": "code",
   "execution_count": 19,
   "metadata": {},
   "outputs": [
    {
     "data": {
      "text/plain": [
       "93"
      ]
     },
     "execution_count": 19,
     "metadata": {},
     "output_type": "execute_result"
    }
   ],
   "source": [
    "x.shape[1]"
   ]
  },
  {
   "cell_type": "code",
   "execution_count": 20,
   "metadata": {
    "id": "xhwu9nzjaVYA"
   },
   "outputs": [
    {
     "data": {
      "text/plain": [
       "\"\\nfrom tensorflow.keras.callbacks import EarlyStopping\\nbce = tf.keras.losses.BinaryCrossentropy(reduction=tf.keras.losses.Reduction.NONE)\\n\\nmodel.compile(loss=bce, optimizer=keras.optimizers.Adam(), metrics=['accuracy'])\\n\\n#model.compile(optimizer='ADAM', loss= 'mean_squared_error' , metrics = ['accuracy']) \\n\\nmonitor = EarlyStopping(monitor='val_loss', min_delta=0.00001, patience=10, \\n                        verbose=1, mode='max', restore_best_weights=True)\\n\""
      ]
     },
     "execution_count": 20,
     "metadata": {},
     "output_type": "execute_result"
    }
   ],
   "source": [
    "# Compiling Neural network\n",
    "'''\n",
    "from tensorflow.keras.callbacks import EarlyStopping\n",
    "bce = tf.keras.losses.BinaryCrossentropy(reduction=tf.keras.losses.Reduction.NONE)\n",
    "\n",
    "model.compile(loss=bce, optimizer=keras.optimizers.Adam(), metrics=['accuracy'])\n",
    "\n",
    "#model.compile(optimizer='ADAM', loss= 'mean_squared_error' , metrics = ['accuracy']) \n",
    "\n",
    "monitor = EarlyStopping(monitor='val_loss', min_delta=0.00001, patience=10, \n",
    "                        verbose=1, mode='max', restore_best_weights=True)\n",
    "'''"
   ]
  },
  {
   "cell_type": "code",
   "execution_count": 21,
   "metadata": {},
   "outputs": [],
   "source": [
    "from tensorflow.keras.callbacks import LearningRateScheduler\n",
    "lrs = LearningRateScheduler(lambda x: 0.001)"
   ]
  },
  {
   "cell_type": "code",
   "execution_count": 22,
   "metadata": {},
   "outputs": [],
   "source": [
    "from tensorflow.keras.callbacks import EarlyStopping\n",
    "model.compile(optimizer='adam', loss=tf.keras.losses.BinaryCrossentropy(), metrics = ['mean_absolute_error']) \n",
    "#model.compile(optimizer='ADAM', loss='mean_squared_error', metrics = ['mean_absolute_error']) \n",
    "monitor = EarlyStopping(monitor='val_loss', min_delta=0.0001, patience=10, \n",
    "                        verbose=1, mode='auto', restore_best_weights=True)"
   ]
  },
  {
   "cell_type": "code",
   "execution_count": 23,
   "metadata": {
    "colab": {
     "base_uri": "https://localhost:8080/",
     "height": 1000
    },
    "id": "sUm7vYpNaZhk",
    "outputId": "bb1cd85f-4a22-4777-8674-4e053a532b6e"
   },
   "outputs": [
    {
     "name": "stdout",
     "output_type": "stream",
     "text": [
      "Train on 98419 samples, validate on 10936 samples\n",
      "Epoch 1/1000\n",
      "98419/98419 - 4s - loss: 0.5015 - mean_absolute_error: 0.3712 - val_loss: 0.3418 - val_mean_absolute_error: 0.2286\n",
      "Epoch 2/1000\n",
      "98419/98419 - 1s - loss: 0.2564 - mean_absolute_error: 0.1589 - val_loss: 0.2432 - val_mean_absolute_error: 0.1474\n",
      "Epoch 3/1000\n",
      "98419/98419 - 2s - loss: 0.2287 - mean_absolute_error: 0.1348 - val_loss: 0.2259 - val_mean_absolute_error: 0.1330\n",
      "Epoch 4/1000\n",
      "98419/98419 - 2s - loss: 0.2172 - mean_absolute_error: 0.1272 - val_loss: 0.2169 - val_mean_absolute_error: 0.1240\n",
      "Epoch 5/1000\n",
      "98419/98419 - 1s - loss: 0.2091 - mean_absolute_error: 0.1225 - val_loss: 0.2083 - val_mean_absolute_error: 0.1242\n",
      "Epoch 6/1000\n",
      "98419/98419 - 1s - loss: 0.2037 - mean_absolute_error: 0.1193 - val_loss: 0.2034 - val_mean_absolute_error: 0.1211\n",
      "Epoch 7/1000\n",
      "98419/98419 - 1s - loss: 0.2000 - mean_absolute_error: 0.1174 - val_loss: 0.1982 - val_mean_absolute_error: 0.1178\n",
      "Epoch 8/1000\n",
      "98419/98419 - 1s - loss: 0.1968 - mean_absolute_error: 0.1159 - val_loss: 0.1954 - val_mean_absolute_error: 0.1138\n",
      "Epoch 9/1000\n",
      "98419/98419 - 2s - loss: 0.1940 - mean_absolute_error: 0.1145 - val_loss: 0.1928 - val_mean_absolute_error: 0.1124\n",
      "Epoch 10/1000\n",
      "98419/98419 - 1s - loss: 0.1919 - mean_absolute_error: 0.1135 - val_loss: 0.1906 - val_mean_absolute_error: 0.1133\n",
      "Epoch 11/1000\n",
      "98419/98419 - 1s - loss: 0.1905 - mean_absolute_error: 0.1128 - val_loss: 0.1901 - val_mean_absolute_error: 0.1138\n",
      "Epoch 12/1000\n",
      "98419/98419 - 1s - loss: 0.1893 - mean_absolute_error: 0.1122 - val_loss: 0.1882 - val_mean_absolute_error: 0.1130\n",
      "Epoch 13/1000\n",
      "98419/98419 - 1s - loss: 0.1883 - mean_absolute_error: 0.1116 - val_loss: 0.1872 - val_mean_absolute_error: 0.1133\n",
      "Epoch 14/1000\n",
      "98419/98419 - 1s - loss: 0.1874 - mean_absolute_error: 0.1112 - val_loss: 0.1868 - val_mean_absolute_error: 0.1116\n",
      "Epoch 15/1000\n",
      "98419/98419 - 2s - loss: 0.1864 - mean_absolute_error: 0.1108 - val_loss: 0.1852 - val_mean_absolute_error: 0.1098\n",
      "Epoch 16/1000\n",
      "98419/98419 - 2s - loss: 0.1859 - mean_absolute_error: 0.1105 - val_loss: 0.1852 - val_mean_absolute_error: 0.1124\n",
      "Epoch 17/1000\n",
      "98419/98419 - 2s - loss: 0.1851 - mean_absolute_error: 0.1101 - val_loss: 0.1848 - val_mean_absolute_error: 0.1116\n",
      "Epoch 18/1000\n",
      "98419/98419 - 2s - loss: 0.1847 - mean_absolute_error: 0.1099 - val_loss: 0.1848 - val_mean_absolute_error: 0.1108\n",
      "Epoch 19/1000\n",
      "98419/98419 - 2s - loss: 0.1841 - mean_absolute_error: 0.1095 - val_loss: 0.1840 - val_mean_absolute_error: 0.1098\n",
      "Epoch 20/1000\n",
      "98419/98419 - 1s - loss: 0.1836 - mean_absolute_error: 0.1093 - val_loss: 0.1836 - val_mean_absolute_error: 0.1103\n",
      "Epoch 21/1000\n",
      "98419/98419 - 1s - loss: 0.1832 - mean_absolute_error: 0.1091 - val_loss: 0.1826 - val_mean_absolute_error: 0.1096\n",
      "Epoch 22/1000\n",
      "98419/98419 - 2s - loss: 0.1827 - mean_absolute_error: 0.1089 - val_loss: 0.1825 - val_mean_absolute_error: 0.1099\n",
      "Epoch 23/1000\n",
      "98419/98419 - 1s - loss: 0.1824 - mean_absolute_error: 0.1087 - val_loss: 0.1825 - val_mean_absolute_error: 0.1093\n",
      "Epoch 24/1000\n",
      "98419/98419 - 2s - loss: 0.1822 - mean_absolute_error: 0.1086 - val_loss: 0.1821 - val_mean_absolute_error: 0.1104\n",
      "Epoch 25/1000\n",
      "98419/98419 - 2s - loss: 0.1819 - mean_absolute_error: 0.1085 - val_loss: 0.1825 - val_mean_absolute_error: 0.1110\n",
      "Epoch 26/1000\n",
      "98419/98419 - 1s - loss: 0.1816 - mean_absolute_error: 0.1084 - val_loss: 0.1813 - val_mean_absolute_error: 0.1079\n",
      "Epoch 27/1000\n",
      "98419/98419 - 1s - loss: 0.1813 - mean_absolute_error: 0.1082 - val_loss: 0.1812 - val_mean_absolute_error: 0.1073\n",
      "Epoch 28/1000\n",
      "98419/98419 - 1s - loss: 0.1811 - mean_absolute_error: 0.1081 - val_loss: 0.1808 - val_mean_absolute_error: 0.1092\n",
      "Epoch 29/1000\n",
      "98419/98419 - 2s - loss: 0.1808 - mean_absolute_error: 0.1080 - val_loss: 0.1807 - val_mean_absolute_error: 0.1078\n",
      "Epoch 30/1000\n",
      "98419/98419 - 1s - loss: 0.1806 - mean_absolute_error: 0.1079 - val_loss: 0.1809 - val_mean_absolute_error: 0.1100\n",
      "Epoch 31/1000\n",
      "98419/98419 - 2s - loss: 0.1805 - mean_absolute_error: 0.1079 - val_loss: 0.1804 - val_mean_absolute_error: 0.1072\n",
      "Epoch 32/1000\n",
      "98419/98419 - 2s - loss: 0.1802 - mean_absolute_error: 0.1078 - val_loss: 0.1801 - val_mean_absolute_error: 0.1085\n",
      "Epoch 33/1000\n",
      "98419/98419 - 2s - loss: 0.1799 - mean_absolute_error: 0.1076 - val_loss: 0.1798 - val_mean_absolute_error: 0.1089\n",
      "Epoch 34/1000\n",
      "98419/98419 - 1s - loss: 0.1796 - mean_absolute_error: 0.1075 - val_loss: 0.1798 - val_mean_absolute_error: 0.1075\n",
      "Epoch 35/1000\n",
      "98419/98419 - 1s - loss: 0.1794 - mean_absolute_error: 0.1074 - val_loss: 0.1801 - val_mean_absolute_error: 0.1093\n",
      "Epoch 36/1000\n",
      "98419/98419 - 2s - loss: 0.1792 - mean_absolute_error: 0.1074 - val_loss: 0.1793 - val_mean_absolute_error: 0.1085\n",
      "Epoch 37/1000\n",
      "98419/98419 - 2s - loss: 0.1790 - mean_absolute_error: 0.1073 - val_loss: 0.1792 - val_mean_absolute_error: 0.1080\n",
      "Epoch 38/1000\n",
      "98419/98419 - 2s - loss: 0.1787 - mean_absolute_error: 0.1071 - val_loss: 0.1791 - val_mean_absolute_error: 0.1069\n",
      "Epoch 39/1000\n",
      "98419/98419 - 1s - loss: 0.1787 - mean_absolute_error: 0.1071 - val_loss: 0.1795 - val_mean_absolute_error: 0.1084\n",
      "Epoch 40/1000\n",
      "98419/98419 - 1s - loss: 0.1785 - mean_absolute_error: 0.1071 - val_loss: 0.1786 - val_mean_absolute_error: 0.1077\n",
      "Epoch 41/1000\n",
      "98419/98419 - 1s - loss: 0.1783 - mean_absolute_error: 0.1070 - val_loss: 0.1786 - val_mean_absolute_error: 0.1071\n",
      "Epoch 42/1000\n",
      "98419/98419 - 1s - loss: 0.1781 - mean_absolute_error: 0.1068 - val_loss: 0.1784 - val_mean_absolute_error: 0.1067\n",
      "Epoch 43/1000\n",
      "98419/98419 - 1s - loss: 0.1781 - mean_absolute_error: 0.1068 - val_loss: 0.1786 - val_mean_absolute_error: 0.1075\n",
      "Epoch 44/1000\n",
      "98419/98419 - 1s - loss: 0.1778 - mean_absolute_error: 0.1067 - val_loss: 0.1790 - val_mean_absolute_error: 0.1065\n",
      "Epoch 45/1000\n",
      "98419/98419 - 1s - loss: 0.1778 - mean_absolute_error: 0.1068 - val_loss: 0.1784 - val_mean_absolute_error: 0.1078\n",
      "Epoch 46/1000\n",
      "98419/98419 - 1s - loss: 0.1776 - mean_absolute_error: 0.1066 - val_loss: 0.1789 - val_mean_absolute_error: 0.1094\n",
      "Epoch 47/1000\n",
      "98419/98419 - 1s - loss: 0.1774 - mean_absolute_error: 0.1066 - val_loss: 0.1781 - val_mean_absolute_error: 0.1071\n",
      "Epoch 48/1000\n",
      "98419/98419 - 1s - loss: 0.1773 - mean_absolute_error: 0.1065 - val_loss: 0.1783 - val_mean_absolute_error: 0.1082\n",
      "Epoch 49/1000\n",
      "98419/98419 - 1s - loss: 0.1772 - mean_absolute_error: 0.1064 - val_loss: 0.1780 - val_mean_absolute_error: 0.1077\n",
      "Epoch 50/1000\n",
      "98419/98419 - 1s - loss: 0.1769 - mean_absolute_error: 0.1063 - val_loss: 0.1781 - val_mean_absolute_error: 0.1065\n",
      "Epoch 51/1000\n",
      "98419/98419 - 2s - loss: 0.1769 - mean_absolute_error: 0.1063 - val_loss: 0.1778 - val_mean_absolute_error: 0.1077\n",
      "Epoch 52/1000\n",
      "98419/98419 - 1s - loss: 0.1769 - mean_absolute_error: 0.1063 - val_loss: 0.1777 - val_mean_absolute_error: 0.1071\n",
      "Epoch 53/1000\n",
      "98419/98419 - 2s - loss: 0.1767 - mean_absolute_error: 0.1062 - val_loss: 0.1776 - val_mean_absolute_error: 0.1064\n",
      "Epoch 54/1000\n",
      "98419/98419 - 1s - loss: 0.1766 - mean_absolute_error: 0.1061 - val_loss: 0.1780 - val_mean_absolute_error: 0.1087\n",
      "Epoch 55/1000\n",
      "98419/98419 - 1s - loss: 0.1765 - mean_absolute_error: 0.1061 - val_loss: 0.1774 - val_mean_absolute_error: 0.1051\n",
      "Epoch 56/1000\n",
      "98419/98419 - 1s - loss: 0.1763 - mean_absolute_error: 0.1060 - val_loss: 0.1779 - val_mean_absolute_error: 0.1075\n",
      "Epoch 57/1000\n",
      "98419/98419 - 1s - loss: 0.1762 - mean_absolute_error: 0.1060 - val_loss: 0.1776 - val_mean_absolute_error: 0.1074\n",
      "Epoch 58/1000\n",
      "98419/98419 - 1s - loss: 0.1761 - mean_absolute_error: 0.1060 - val_loss: 0.1773 - val_mean_absolute_error: 0.1063\n",
      "Epoch 59/1000\n",
      "98419/98419 - 2s - loss: 0.1760 - mean_absolute_error: 0.1059 - val_loss: 0.1774 - val_mean_absolute_error: 0.1071\n",
      "Epoch 60/1000\n",
      "98419/98419 - 1s - loss: 0.1759 - mean_absolute_error: 0.1058 - val_loss: 0.1771 - val_mean_absolute_error: 0.1071\n",
      "Epoch 61/1000\n",
      "98419/98419 - 2s - loss: 0.1759 - mean_absolute_error: 0.1058 - val_loss: 0.1776 - val_mean_absolute_error: 0.1084\n",
      "Epoch 62/1000\n",
      "98419/98419 - 2s - loss: 0.1757 - mean_absolute_error: 0.1057 - val_loss: 0.1772 - val_mean_absolute_error: 0.1072\n",
      "Epoch 63/1000\n",
      "98419/98419 - 1s - loss: 0.1756 - mean_absolute_error: 0.1057 - val_loss: 0.1771 - val_mean_absolute_error: 0.1045\n",
      "Epoch 64/1000\n",
      "98419/98419 - 1s - loss: 0.1757 - mean_absolute_error: 0.1057 - val_loss: 0.1769 - val_mean_absolute_error: 0.1062\n"
     ]
    },
    {
     "name": "stdout",
     "output_type": "stream",
     "text": [
      "Epoch 65/1000\n",
      "98419/98419 - 1s - loss: 0.1755 - mean_absolute_error: 0.1056 - val_loss: 0.1767 - val_mean_absolute_error: 0.1053\n",
      "Epoch 66/1000\n",
      "98419/98419 - 2s - loss: 0.1754 - mean_absolute_error: 0.1056 - val_loss: 0.1774 - val_mean_absolute_error: 0.1066\n",
      "Epoch 67/1000\n",
      "98419/98419 - 1s - loss: 0.1753 - mean_absolute_error: 0.1055 - val_loss: 0.1771 - val_mean_absolute_error: 0.1030\n",
      "Epoch 68/1000\n",
      "98419/98419 - 1s - loss: 0.1753 - mean_absolute_error: 0.1055 - val_loss: 0.1768 - val_mean_absolute_error: 0.1066\n",
      "Epoch 69/1000\n",
      "98419/98419 - 2s - loss: 0.1751 - mean_absolute_error: 0.1054 - val_loss: 0.1765 - val_mean_absolute_error: 0.1044\n",
      "Epoch 70/1000\n",
      "98419/98419 - 1s - loss: 0.1750 - mean_absolute_error: 0.1053 - val_loss: 0.1765 - val_mean_absolute_error: 0.1057\n",
      "Epoch 71/1000\n",
      "98419/98419 - 1s - loss: 0.1749 - mean_absolute_error: 0.1053 - val_loss: 0.1766 - val_mean_absolute_error: 0.1064\n",
      "Epoch 72/1000\n",
      "98419/98419 - 1s - loss: 0.1750 - mean_absolute_error: 0.1053 - val_loss: 0.1767 - val_mean_absolute_error: 0.1069\n",
      "Epoch 73/1000\n",
      "98419/98419 - 2s - loss: 0.1748 - mean_absolute_error: 0.1053 - val_loss: 0.1764 - val_mean_absolute_error: 0.1054\n",
      "Epoch 74/1000\n",
      "98419/98419 - 1s - loss: 0.1747 - mean_absolute_error: 0.1052 - val_loss: 0.1764 - val_mean_absolute_error: 0.1057\n",
      "Epoch 75/1000\n",
      "98419/98419 - 1s - loss: 0.1747 - mean_absolute_error: 0.1052 - val_loss: 0.1768 - val_mean_absolute_error: 0.1076\n",
      "Epoch 76/1000\n",
      "98419/98419 - 1s - loss: 0.1747 - mean_absolute_error: 0.1052 - val_loss: 0.1761 - val_mean_absolute_error: 0.1069\n",
      "Epoch 77/1000\n",
      "98419/98419 - 1s - loss: 0.1745 - mean_absolute_error: 0.1051 - val_loss: 0.1767 - val_mean_absolute_error: 0.1058\n",
      "Epoch 78/1000\n",
      "98419/98419 - 1s - loss: 0.1745 - mean_absolute_error: 0.1052 - val_loss: 0.1762 - val_mean_absolute_error: 0.1053\n",
      "Epoch 79/1000\n",
      "98419/98419 - 2s - loss: 0.1744 - mean_absolute_error: 0.1050 - val_loss: 0.1770 - val_mean_absolute_error: 0.1079\n",
      "Epoch 80/1000\n",
      "98419/98419 - 1s - loss: 0.1745 - mean_absolute_error: 0.1051 - val_loss: 0.1761 - val_mean_absolute_error: 0.1051\n",
      "Epoch 81/1000\n",
      "98419/98419 - 1s - loss: 0.1742 - mean_absolute_error: 0.1049 - val_loss: 0.1761 - val_mean_absolute_error: 0.1071\n",
      "Epoch 82/1000\n",
      "98419/98419 - 1s - loss: 0.1743 - mean_absolute_error: 0.1050 - val_loss: 0.1760 - val_mean_absolute_error: 0.1039\n",
      "Epoch 83/1000\n",
      "98419/98419 - 1s - loss: 0.1742 - mean_absolute_error: 0.1050 - val_loss: 0.1762 - val_mean_absolute_error: 0.1043\n",
      "Epoch 84/1000\n",
      "98419/98419 - 1s - loss: 0.1741 - mean_absolute_error: 0.1049 - val_loss: 0.1758 - val_mean_absolute_error: 0.1056\n",
      "Epoch 85/1000\n",
      "98419/98419 - 1s - loss: 0.1739 - mean_absolute_error: 0.1048 - val_loss: 0.1759 - val_mean_absolute_error: 0.1059\n",
      "Epoch 86/1000\n",
      "98419/98419 - 1s - loss: 0.1740 - mean_absolute_error: 0.1048 - val_loss: 0.1761 - val_mean_absolute_error: 0.1067\n",
      "Epoch 87/1000\n",
      "98419/98419 - 1s - loss: 0.1739 - mean_absolute_error: 0.1048 - val_loss: 0.1760 - val_mean_absolute_error: 0.1061\n",
      "Epoch 88/1000\n",
      "98419/98419 - 1s - loss: 0.1738 - mean_absolute_error: 0.1048 - val_loss: 0.1759 - val_mean_absolute_error: 0.1048\n",
      "Epoch 89/1000\n",
      "98419/98419 - 1s - loss: 0.1737 - mean_absolute_error: 0.1048 - val_loss: 0.1759 - val_mean_absolute_error: 0.1053\n",
      "Epoch 90/1000\n",
      "98419/98419 - 1s - loss: 0.1738 - mean_absolute_error: 0.1047 - val_loss: 0.1766 - val_mean_absolute_error: 0.1080\n",
      "Epoch 91/1000\n",
      "98419/98419 - 1s - loss: 0.1738 - mean_absolute_error: 0.1048 - val_loss: 0.1760 - val_mean_absolute_error: 0.1028\n",
      "Epoch 92/1000\n",
      "98419/98419 - 1s - loss: 0.1736 - mean_absolute_error: 0.1046 - val_loss: 0.1757 - val_mean_absolute_error: 0.1051\n",
      "Epoch 93/1000\n",
      "98419/98419 - 1s - loss: 0.1735 - mean_absolute_error: 0.1047 - val_loss: 0.1760 - val_mean_absolute_error: 0.1076\n",
      "Epoch 94/1000\n",
      "98419/98419 - 2s - loss: 0.1735 - mean_absolute_error: 0.1046 - val_loss: 0.1756 - val_mean_absolute_error: 0.1071\n",
      "Epoch 95/1000\n",
      "98419/98419 - 2s - loss: 0.1735 - mean_absolute_error: 0.1046 - val_loss: 0.1758 - val_mean_absolute_error: 0.1040\n",
      "Epoch 96/1000\n",
      "98419/98419 - 2s - loss: 0.1734 - mean_absolute_error: 0.1046 - val_loss: 0.1758 - val_mean_absolute_error: 0.1040\n",
      "Epoch 97/1000\n",
      "98419/98419 - 2s - loss: 0.1734 - mean_absolute_error: 0.1045 - val_loss: 0.1754 - val_mean_absolute_error: 0.1039\n",
      "Epoch 98/1000\n",
      "98419/98419 - 2s - loss: 0.1733 - mean_absolute_error: 0.1045 - val_loss: 0.1757 - val_mean_absolute_error: 0.1053\n",
      "Epoch 99/1000\n",
      "98419/98419 - 2s - loss: 0.1732 - mean_absolute_error: 0.1044 - val_loss: 0.1759 - val_mean_absolute_error: 0.1046\n",
      "Epoch 100/1000\n",
      "98419/98419 - 2s - loss: 0.1732 - mean_absolute_error: 0.1044 - val_loss: 0.1760 - val_mean_absolute_error: 0.1056\n",
      "Epoch 101/1000\n",
      "98419/98419 - 2s - loss: 0.1732 - mean_absolute_error: 0.1045 - val_loss: 0.1754 - val_mean_absolute_error: 0.1054\n",
      "Epoch 102/1000\n",
      "98419/98419 - 2s - loss: 0.1732 - mean_absolute_error: 0.1044 - val_loss: 0.1756 - val_mean_absolute_error: 0.1062\n",
      "Epoch 103/1000\n",
      "98419/98419 - 2s - loss: 0.1731 - mean_absolute_error: 0.1043 - val_loss: 0.1757 - val_mean_absolute_error: 0.1070\n",
      "Epoch 104/1000\n",
      "98419/98419 - 1s - loss: 0.1732 - mean_absolute_error: 0.1044 - val_loss: 0.1756 - val_mean_absolute_error: 0.1052\n",
      "Epoch 105/1000\n",
      "98419/98419 - 1s - loss: 0.1730 - mean_absolute_error: 0.1043 - val_loss: 0.1756 - val_mean_absolute_error: 0.1049\n",
      "Epoch 106/1000\n",
      "98419/98419 - 2s - loss: 0.1729 - mean_absolute_error: 0.1043 - val_loss: 0.1756 - val_mean_absolute_error: 0.1059\n",
      "Epoch 107/1000\n",
      "Restoring model weights from the end of the best epoch.\n",
      "98419/98419 - 2s - loss: 0.1729 - mean_absolute_error: 0.1043 - val_loss: 0.1753 - val_mean_absolute_error: 0.1050\n",
      "Epoch 00107: early stopping\n"
     ]
    }
   ],
   "source": [
    "# Fitting Neural network to training set\n",
    "\n",
    "model_history=model.fit(x_train, y_train, validation_data=(x_test, y_test), batch_size=512, verbose=2, callbacks=[monitor, lrs], epochs=1000)"
   ]
  },
  {
   "cell_type": "code",
   "execution_count": null,
   "metadata": {},
   "outputs": [],
   "source": []
  },
  {
   "cell_type": "code",
   "execution_count": 24,
   "metadata": {
    "colab": {
     "base_uri": "https://localhost:8080/",
     "height": 142
    },
    "id": "AT8SOvaeap0x",
    "outputId": "c1eec1b2-94c5-4a80-bc87-7ed372b14acf"
   },
   "outputs": [
    {
     "data": {
      "text/plain": [
       "array([[0., 0., 0., ..., 0., 0., 0.],\n",
       "       [0., 1., 0., ..., 0., 0., 0.],\n",
       "       [0., 0., 0., ..., 0., 0., 0.],\n",
       "       ...,\n",
       "       [0., 0., 0., ..., 0., 0., 0.],\n",
       "       [0., 0., 0., ..., 0., 0., 0.],\n",
       "       [0., 0., 0., ..., 0., 0., 0.]])"
      ]
     },
     "execution_count": 24,
     "metadata": {},
     "output_type": "execute_result"
    }
   ],
   "source": [
    "y_train"
   ]
  },
  {
   "cell_type": "code",
   "execution_count": 25,
   "metadata": {},
   "outputs": [
    {
     "data": {
      "text/plain": [
       "array([[0., 0., 0., ..., 0., 0., 0.],\n",
       "       [0., 0., 0., ..., 0., 0., 0.],\n",
       "       [1., 1., 0., ..., 0., 0., 0.],\n",
       "       ...,\n",
       "       [0., 0., 0., ..., 0., 0., 0.],\n",
       "       [0., 0., 0., ..., 0., 0., 0.],\n",
       "       [0., 0., 0., ..., 0., 1., 0.]])"
      ]
     },
     "execution_count": 25,
     "metadata": {},
     "output_type": "execute_result"
    }
   ],
   "source": [
    "y_test = np.asarray(y_test)\n",
    "x_test = np.asarray(x_test)\n",
    "y_test\n"
   ]
  },
  {
   "cell_type": "code",
   "execution_count": 26,
   "metadata": {},
   "outputs": [
    {
     "data": {
      "text/plain": [
       "(10936, 60)"
      ]
     },
     "execution_count": 26,
     "metadata": {},
     "output_type": "execute_result"
    }
   ],
   "source": [
    "y_test.shape"
   ]
  },
  {
   "cell_type": "code",
   "execution_count": 27,
   "metadata": {
    "colab": {
     "base_uri": "https://localhost:8080/",
     "height": 53
    },
    "id": "jnvop5zhare2",
    "outputId": "f9e033be-f657-4367-e93a-750eee9cc444"
   },
   "outputs": [
    {
     "name": "stdout",
     "output_type": "stream",
     "text": [
      "\r",
      "10936/1 [================================================================================================================================================================================================================================================================================================================================================================================================================================================================================================================================================================================================================================================================================================================================================================================================================================================================================================================================================================================================================================================================================================================================================================================================================================================================================================================================================================================================================================================================================================================================================================================================================================================================================================================================================================================================================================================================================================================================================================================================================================================================================================================================================================================================================================================================================================================================================================================================================================================================================================================================================================================================================================================================================================================================================================================================================================================================================================================================================================================================================================================================================================================================================================================================================================================================================================================================================================================================================================================================================================================================================================================================================================================================================================================================================================================================================================================================================================================================================================================================================================================================================================================================================================================================================================================================================================================================================================================================================================================================================================================================================================================================================================================================================================================================================================================================================================================================================================================================================================================================================================================================================================================================================================================================================================================================================================================================================================================================================================================================================================================================================================================================================================================================================================================================================================================================================================================================================================================================================================================================================================================================================================================================================================================================================================================================================================================================================================================================================================================================================================================================================================================================================================================================================================================================================================================================================================================================================================================================================================================================================================================================================================================================================================================================================================================================================================================================================================================================================================================================================================================================================================================================================================================================================================================================================================================================================================================================================================================================================================================================================================================================================================================================================================================================================================================================================================================================================================================================================================================================================================================================================================================================================================================================================================================================================================================================================================================================================================================================================================================================================================================================================================================================================================================================================================================================================================================================================================================================================================================================================================================================================================================================================================================================================================================================================================================================================================================================================================================================================================================================================================================================================================================================================================================================================================================================================================================================================================================================================================================================================================================================================================================================================================================================================================================================================================================================================================================================================================================================================================================================================================================================================================================================================================================================================================================================================================================================================================================================================================================================================================================================================================================================================================================================================================================================================================================================================================================================================================================================================================================================================================================================================================================================================================================================================================================================================================================================================================================================================================================================================================================================================================================================================================================================================================================================================================================================================================================================================================================================================================================================================================================================================================================================================================================================================================================================================================================================================================================================================================================================================================================================================================================================================================================================================================================================================================================================================================================================================================================================================================================================================================================================================================================================================================================================================================================================================================================================================================================================================================================================================================================================================================================================================================================================================================================================================================================================================================================================================================================================================================================================================================================================================================================================================================================================================================================================================================================================================================================================================================================================================================================================================================================================================================================================================================================================================================================================================================================================================================================================================================================================================================================================================================================================================================================================================================================================================================================================================================================================================================================================================================================================================================================================================================================================================================================================================================================================================================================================================================================================================================================================================================================================================================================================================================================================================================================================================================================================================================================================================================================================================================================================================================================================================================================================================================================================================================================================================================================================================================================================================================================================================================================================================================================================================================================================================================================================================================================================================================================================================================================================================================================================================================================================================================================================================================================================================================================================================================================================================================================================================================================================================================================================================================================================================================================================================================================================================================================================================================================================================================================================================================================================================================================================================================================================================================================================================================================================================================================================================================================================================================================================================================================================================================================================================================================================================================================================================================================================================================================================================================================================================================================================================================================================================================================================================================================================================================================================================================================================================================================================================================================================================================================================================================================================================================================================================================================================================================================================================================================================================================================================================================================================================================================================================================================================================================================================================================================================================================================================================================================================================================================================================================================================================================================================================================================================================================================================================================================================================================================================================================================================================================================================================================================================================================================================================================================================================================================================================================================================================================================================================================================================================================================================================================================================================================================================================================================================================================================================================================================================================================================================================================================================================================================================================================================================================================================================================================================================================================================================================================================================================================================================================================================================================================================================================================================================================================================================================================================================================================================================================================================================================================================================================================================================================================================================================================================================================================================================================================================================================================================================================================================================================================================================================================================================================================================================================================================================================================================================================================================================================================================================================================================================================================================================================================================================================================================================================================================================================================================================================================================================================================================================================================================================================================================================================================================================================================================================================================================================================================================================================================================================================================================================================================================================================================================================================================================================================================================================================================================================================================================================================================================================================================================================================================================================================================================================================================================================================================================================================================================================================================================================================================================================================================================================================================================================================================================================================================================================================================================================================================================================================================================================================================================================================================================================================================================================================================================================================================================================================================================================================================================================================================================================================================================================================================================================================================================================================================================================================================================================================================================================================================================================================================================================================================================================================================================================================================================================================================================================================================================================================================================================================================================================================================================================================================================================================================================================================================================================================================================================================================================================================================================================================================================================================================================================================================================================================================================================================================================================================================================================================================================================================================================================================================================================================================================================================================================================================================================================================================================================================================================================================================================================================================================================================================================================================================================================================================================================================================================================================================================================================================================================================================================================================================================================================================================================================================================================================================================================================================================================================================================================================================================================================================================================================================================================================================================================================================================================================================================================================================================================================================================================================================================================================================================================================================================================================================================================================================================================================================================================================================================================================================================================================================================================================================================================================================================================================================================================================================================================================================================================================================================================================================================================================================================================================================================================================================================================================================================================================================================================================================================================================================================================================================================================================================================================================================================================================================================================================================================================================================================================================================================================================================================================================================================================================================================================================================================================================================================================================================================================================================================================================================================================================================================================================================================================================================================================================================================================================================================================================================================================================================================================================================================================================================================================================================================================================================================================================================================================================================================================================================================================================================================================================================================================================================================================================================================================================================================================================================================================================================================================================================================================================================================================================================================================================================================================================================================================================================================================================================================================================================================================================================================================================================================================================================================================================================================================================================================================================================================================================================================================================================================================================================================================================================================================================================================================================================================================================================================================================================================================================================================================================================================================================================================================================================================================================================================================================================================================================================================================================================================================================================================================================================================================================================================================================================================================================================================================================================================================================================================================================================================================================================================================================================================================================================================================================================================================================================================================================================================================================================================================================================================================================================================================================================================================================================================================================================================================================================================================================================================================================================================================================================================================================================================================================================================================================================================================================================================================================================================================================================================================================================================================================================================================================================================================================================================================================================================================================================================================================================================================================================================================================================================================================================================================================================================================================================================================================================================================================================================================================================================================================================================================================================================================================================================================================================================================================================================================================================================================================================================================================================================================================================================================================================================================================================================================================================================================================================================================================================================================================================================================================================================================================================================================================================================================================================================================================================================================================================================================================================================================================================================================================================================================================================================================================================================================================================================================================================================================================================================================================================================================================================================================================================================================================================================================================================================================================================================================================================================================================================================================================================================================================================================================================================================================================================================================================================================================================================================================================================================================================================================================================================================================================================================================================================================================================================================================================================================================================================================================================================================================================================================================================================================================================================================================================================================================================================================================================================================================================================================================================================================================================================================================================================================================================================================================================================================================================================================================================================================================================================================================================================================================================================================================================================================================================================================================================================================================================================================================================================================================================================================================================================================================================================================================================================================================================================================================================================================================================================================================================================================================================================================================================================================================================================================================================================================================================================================================================================================================================================================================================================================================================================================================================================================================================================================================================================================================================================================================================================================================================================================================================================================================================================================================================================================================================================================================================================================================================================================================================================================================================================================================================================================================================================================================================================================================================================================================================================================================================================================================================================================================================================================================================================================================================================================================================================================================================================================================================================================================================================================================================================================================================================================================================================================================================================================================================================================================================================================================================================================================================================================================================================================================================================================================================================================================================================================================================================================================================================================================================================================================================================================================================================================================================================================================================================================================================================================================================================================================================================================================================================================================================================================================================================================================================================================================================================================================================================================================================================================================================================================================================================================================================================================================================================================================================================================================================================================================================================================================================================================================================================================================================================================================================================================================================================================================================================================================================================================================================================================================================================================================================================================================================================================================================================================================================================================================================================================================================================================================================================================================================================================================================================================================================================================================================================================================================================================================================================================================================================================================================================================================================================================================================================================================================================================================================================================================================================================================================================================================================================================================================================================================================================================================================================================================================================================================================================================================================================================================================================================================================================================================================================================================================================================================================================================================================================================================================================================================================================================================================================================================================================================================================================================================================================================================================================================================================================================================================================================================================================================================================================================================================================================================================================================================================================================================================================================================================================================================================================================================================================================================================================================================================================================================================================================================================================================================================================================================================================================================================================================================================================================================================================================================================================================================================================================================================================================================================================================================================================================================================================================================================================================================================================================================================================================================================================================================================================================================================================================================================================================================================================================================================================================================================================================================================================================================================================================================================================================================================================================================================================================================================================================================================================================================================================================================================================================================================================================================================================================================================================================================================================================================================================================================================================================================================================================================================================================================================================================================================================================================================================================================================================================================================================================================================================================================================================================================================================================================================================================================================================================================================================================================================================================================================================================================================================================================================================================================================================================================================================================================================================================================================================================================================================================================================================================================================================================================================================================================================================================================================================================================================================================================================================================================================================================================================================================================================================================================================================================================================================================================================================================================================================================================================================================================================================================================================================================================================================================================================================================================================================================================================================================================================================================================================================================================================================================================================================================================================================================================================================================================================================================================================================================================================================================================================================================================================================================================================================================================================================================================================================================================================================================================================================================================================================================================================================================================================================================================================================================================================================================================================================================================================================================================================================================================================================================================================================================================================================================================================================================================================================================================================================================================================================================================================================================================================================================================================================================================================================================================================================================================================================================================================================================================================================================================================================================================================================================================================================================================================================================================================================================================================================================================================================================================================================================================================================================================================================================================================================================================================================================================================================================================================================================================================================================================================================================================================================================================================================================================================================================================================================================================================================================================================================================================================================================================================================================================================================================================================================================================================================================================================================================================================================================================================================================================================================================================================================================================================================================================================================================================================================================================================================================================================================================================================================================================================================================================================================================================================================================================================================================================================================================================================================================================================================================================================================================================================================================================================================================================================================================================================================================================================================================================================================================================================================================================================================================================================================================================================================================================================================================================================================================================================================================================================================================================================================================================================================================================================================================================================================================================================================================================================================================================================================================================================================================================================================================================================================================================================================================================================================================================================================================================================================================================================================================================================================================================================================================================================================================================================================================================================================================================================================================================================================================================================================================================================================================================================================================================================================================================================================================================================================================================================================================================================================================================================================================================================================================================================================================================================================================================================================================================================================================================================================================================================================================================================================================================================================================================================================================================================================================================================================================================================================================================================================================================================================================================================================================================================================================================================================================================================================================================================================================================================================================================================================================================================================================================================================================================================================================================================================================================================================================================================================================================================================================================================================================================================================================================================================================================================================================================================================================================================================================================================================================================================================================================================================================================================================================================================================================================================================================================================================================================================================================================================================================================================================================================================================================================================================================================================================================================================================================================================================================================================================================================================================================================================================================================================================================================================================================================================================================================================================================================================================================================================================================================================================================================================================================================================================================================================================================================================================================================================================================================================================================================================================================================================================================================================================================================================================================================================================================================================================================================================================================================================================================================================================================================================================================================================================================================================================================================================================================================================================================================================================================================================================================================================================================================================================================================================================================================================================================================================================================================================================================================================================================================================================================================================================================================================================================================================================================================================================================================================================================================================================================================================================================================================================================================================================================================================================================================================================================================================================================================================================================================================================================================================================================================================================================================================================================================================================================================================================================================================================================================================================================================================================================================================================================================================================================================================================================================================================================================================================================================================================================================================================================================================================================================================================================================================================================================================================================================================================================================================================================================================================================================================================================================================================================================================================================================================================================================================================================================================================================================================================================================================================================================================================================================================================================================================================================================================================================================================================================================================================================================================================================================================================================================================================================================================================================================================================================================================================================================================================================================================================================================================================================================================================================================================================================================================================================================================================================================================================================================================================================================================================================================================================================================================================================================================================================================================================================================================================================================================================================================================================================================================================================================================================================================================================================================================================================================================================================================================================================================================================================================================================================================================================================================================================================================================================================================================================================================================================================================================================================================================================================================================================================================================================================================================================================================================================================================================================================================================================================================================================================================================================================================================================================================================================================================================================================================================================================================================================================================================================================================================================================================================================================================================================================================================================================================================================================================================================================================================================================================================================================================================================================================================================================================================================================================================================================================================================================================================================================================================================================================================================================================================================================================================================================================================================================================================================================================================================================================================================================================================================================================================================================================================================================================================================================================================================================================================================================================================================================================================================================================================================================================================================================================================================================================================================================================================================================================================================================================================================================================================================================================================================================================================================================================================================================================================================================================================================================================================================================================================================================================================================================================================================================================================================================================================================================================================================================================================================================================================================================================================================================================================================================================================================================================================================================================================================================================================================================================================================================================================================================================================================================================================================================================================================================================================================================================================================================================================================================================================================================================================================================================================================================================================================================================================================================================================================================================================================================================================================================================================================================================================================================================================================================================================================================================================================================================================================================================================================================================================================================================================================================================================================================================================================================================================================================================================================================================================================================================================================================================================================================================================================================================================================================================================================================================================================================================================================================================================================================================================================================================================================================================================================================================================================================================================================================================================================================================================================================================================================================================================================================================================================================================================================================================================================================================================================================================================================================================================================================================================================================================================================================================================================================================================================================================================================================================================================================================================================================================================================================================================================================================================================================================================================================================================================================================================================================================================================================================================================================================================================================================================================================================================================================================================================================================================================================================================================================================================================================================================================================================================================================================================================================================================================================================================================================================================================================================================================================================================================================================================================================================================================================================================================================================================================================================================================================================================================================================================================================================================================================================================================================================================================================================================================================================================================================================================================================================================================================================================================================================================================================================================================================================================================================================================================================================================================================================================================================================================================================================================================================================================================================================================================================================================================================================================================================================================================================================================================================================================================================================================================================================================================================================================================================================================================================================================================================================================================================================================================================================================================================================================================================================================================================================================================================================================================================================================================================================================================================================================================================================================================================================================================================================================================================================================================================================================================================================================================================================================================================================================================================================================================================================================================================================================================================================================================================================================================================================================================================================================================================================================================================================================================================================================================================================================================================================================================================================================================================================================================================================================================================================================================================================================================================================================================================================================================================================================================================================================================================================================================================================================================================================================================================================================================================================================================================================================================================================================================================================================================================================================================================================================================================================================================================================================================================================================================================================================================================================================================================================================================================================================================================================================================================================================================================================================================================================================================================================================================================================================================================================================================================================================================================================================================================================================================================================================================================================================================================================================================================================================================================================================================================================================================================================================================================================================================================================================================================================================================================================================================================================================================================================================================================================================================================================================================================================================================================================================================================================================================================================================================================================================================================================================================================================================================================================================================================================================================================================================================================================================================================================================================================================================================================================================================================================================================================================================================================================================================================================================================================================================================================================================================================================================================================================================================================================================================================================================================================================================================================================================================================================================================================================================================================================================================================================================================================================================================================================================================================================================================================================================================================================================================================================================================================================================================================================================================================================================================================================================================================================================================================================================================================================================================================================================================================================================================================================================================================================================================================================================================================================================================================================================================================================================================================================================================================================================================================================================================================================================================================================================================================================================================================================================================================================================================================================================================================================================================================================================================================================================================================================================================================================================================================================================================================================================================================================================================================================================================================================================================================================================================================================================================================================================================================================================================================================================================================================================================================================================================================================================================================================================================================================================================================================================================================================================================================================================================================================================================================================================================================================================================================================================================================================================================================================================================================================================================================================================================================================================================================================================================================================================================================================================================================================================================================================================================================================================================================================================================================================================================================================================================================================================================================================================================================================================================================================================================================================================================================================================================================================================================================================================================================================================================================================================================================================================================================================================================================================================================================================================================================================================================================================================================================================================================================================================================================================================================================================================================================================================================================================================================================================================================================================================================================================================================================================================================================================================================================================================================================================================================================================================================================================================================================================================================================================================================================================================================================================================================================================================================================================================================================================================================================================================================================================================================================================================================================================================================================================================================================================================================================================================================================================================================================================================================================================================================================================================================================================================================================================================================================================================================================================================================================================================================================================================================================================================================================================================================================================================================================================================================================================================================================================================================================================================================================================================================================================================================================================================================================================================================================================================================================================================================================================================================================================================================================================================================================================================================================================================================================================================================================================================================================================================================================================================================================================================================================================================================================================================================================================================================================================================================================================================================================================================================================================================================================================================================================================================================================================================================================================================================================================================================================================================================================================================================================================================================================================================================================================================================================================================================================================================================================================================================================================================================================================================================================================================================================================================================================================================================================================================================================================================================================================================================================================================================================================================================================================================================================================================================================================================================================================================================================================================================================================================================================================================================================================================================================================================================================================================================================================================================================================================================================================================================================================================================================================================================================================================================================================================================================================================================================================================================================================================================================================================================================================================================================================================================================================================================================================================================================================================================================================================================================================================================================================================================================================================================================================================================================================================================================================================================================================================================================================================================================================================================================================================================================================================================================================================================================================================================================================================================================================================================================================================================================================================================================================================================================================================================================================================================================================================================================================================================================================================================================================================================================================================================================================================================================================================================================================================================================================================================================================================================================================================================================================================================================================================================================================================================================================================================================================================================================================================================================================================================================================================================================================================================================================================================================================================================================================================================================================================================================================================================================================================================================================================================================================================================================================================================================================================================================================================================================================================================================================================================================================================================================================================================================================================================================================================================================================================================================================================================================================================================================================================================================================================================================================================================================================================================================================================================================================================================================================================================================================================================================================================================================================================================================================================================================================================================================================================================================================================================================================================================================================================================================================================================================================================================================================================================================================================================================================================================================================================================================================================================================================================================================================================================================================================================================================================================================================================================================================================================================================================================================================================================================================================================================================================================================================================================================================================================================================================================================================================================================================================================================================================================================================================================================================================================================================================================================================================================================================================================================================================================================================================================================================================================================================================================================================================================================================================================================================================================================================================================================================================================================================================================================================================================================================================================================================================================================================================================================================================================================================================================================================================================================================================================================================================================================================================================================================================================================================================================================================================================================================================================================================================================================================================================================================================================================================================================================================================================================================================================================================================================================================================================================================================================================================================================================================================================================================================================================================================================================================================================================================================================================================================================================================================================================================================================================================================================================================================================================================================================================================================================================================================================================================================================================================================================================================================================================================================================================================================================================================================================================================================================================================================================================================================================================================================================================================================================================================================================================================================================================================================================================================================================================================================================================================================================================================================================================================================================================================================================================================================================================================================================================================================================================================================================================================================================================================================================================================================================================================================================================================================================================================================================================================================================================================================================================================================================================================================================================================================================================================================================================================================================================================================================================================================================================================================================================================================================================================================================================================================================================================================================================================================================================================================================================================================================================================================================================================================================================================================================================================================================================================================================================================================================================================================================================================================================================================================================================================================================================================================================================================================================================================================================================================================================================================================================================================================================================================================================================================================================================================================================================================================================================================================================================================================================================================================================================================================================================================================================================================================================================================================================================================================================================================================================================================================================================================================================================================================================================================================================================================================================================================================================================================================================================================================================================================================================================================================================================================================================================================================================================================================================================================================================================================================================================================================================================================================================================================================================================================================================================================================================================================================================================================================================================================================================================================================================================================================================================================================================================================================================================================================================================================================================================================================================================================================================================================================================================================================================================================================================================================================================================================================================================================================================================================================================================================================================================================================================================================================================================================================================================================================================================================================================================================================================================================================================================================================================================================================================================================================================================================================================================================================================================================================================================================================================================================================================================================================================================================================================================================================================================================================================================================================================================================================================================================================================================================================================================================================================================================================================================================================================================================================================================================================================================================================================================================================================================================================================================================================================================================================================================================================================================================================================================================================================================================================================================================================================================================================================================================================================================================================================================================================================================================================================================================================================================================================================================================================================================================================================================================================================================================================================================================================================================================================================================================================================================================================================================================================================================================================================================================================================================================================================================================================================================================================================================================================================================================================================================================================================================================================================================================================================================================================================================================================================================================================================================================================================================================================================================================================================================================================================================================================================================================================================================================================================================================================================================================================================================================================================================================================================================================================================================================================================================================================================================================================================================================================================================================================================================================================================================================================================================================================================================================================================================================================================================================================================================================================================================================================================================================================================================================================================================================================================================================================================================================================================================================================================================================================================================================================================================================================================================================================================================================================================================================================================================================================================================================================================================================================================================================================================================================================================================================================================================================================================================================================================================================================================================================================================================================================================================================================================================================================================================================================================================================================================================================================================================================================================================================================================================================================================================================================================================================================================================================================================================================================================================================================================================================================================================================================================================================================================================================================================================================================================================================================================================================================================================================================================================================================================================================================================================================================================================================================================================================================================================================================================================================================================================================================================================================================================================================================================================================================================================================================================================================================================================================================================================================================================================================================================================================================================================================================================================================================================================================================================================================================================================================================================================================================================================================================================================================================================================================================================================================================================================================================================================================================================================================================================================================================================================================================================================================================================================================================================================================================================================================================================================================================================================================================================================================================================================================================================================================================================================================================================================================================================================================================================================================================================================================================================================================================================================================================================================================================================================================================================================================================================================================================================================================================================================================================================================================================================================================================================================================================================================================================================================================================================================================================================================================================================================================================================================================================================================================================================================================================================================================================================================================================================================================================================================================================================================================================================================================================================================================================================================================================================================================================================================================================================================================================================================================================================================================================================================================================================================================================================================================================================================================================================================================================================================================================================================================================================================================================================================================================================================================================================================================================================================================================================================================================================================================================================================================================================================================================================================================================================================================================================================================================================================================================================================================================================================================================================================================================================================================================================================================================================================================================================================================================================================================================================================================================================================================================================================================================================================================================================================================================================================================================================================================================================================================================================================================================================================================================================================================================================================================================================================================================================================================================================================================================================================================================================================================================================================================================================================================================================================================================================================================================================================================================================================================================================================================================================================================================================================================================================================================================================================================================================================================================================================================================================================================================================================================================================================================================================================================================================================================================================================================================================================================================================================================================================================================================================================================================================================================================================================================================================================================================================================================================================================================================================================================================================================================================================================================================================================================================================================================================================================================================================================================================================================================================================================================================================================================================================================================================================================================================================================================================================================================================================================================================================================================================================================================================================================================================================================================================================================================================================================================================================================================================================================================================================================================================================================================================================================================================================================================================================================================================================================================================================================================================================================================================================================================================================================================================================================================================================================================================================================================================================================================================================================================================================================================================================================================================================================================================================================================================================================================================================================================================================================================================================================================================================================================================================================================================================================================================================================================================================================================================================================================================================================================================================================================================================================================================================================================================================================================================================================================================================================================================================================================================================================================================================================================================================================================================================================================================================================================================================================================================================================================================================================================================================================================================================================================================================================================================================================================================================================================================================================================================================================================================================================================================================================================================================================================================================================================================================================================================================================================================================================================================================================================================================================================================================================================================================================================================================================================================================================================================================================================================================================================================================================================================================================================================================================================================================================================================================================================================================================================================================================================================================================================================================================================================================================================================================================================================================================================================================================================================================================================================================================================================================================================================================================================================================================================================================================================================================================================================================================================================================================================================================================================================================================================================================================================================================================================================================================================================================================================================================================================================================================================================================================================================================================================================================================================================================================================================================================================================================================================================================================================================================================================================================================================================================================================================================================================================================================================================================================================================================================================================================================================================================================================================================================================================================================================================================================================================================================================================================================================================================================================================================================================================================================================================================================================================================================================================================================================================================================================================================================================================================================================================================================================================================================================================================================================================================================================================================================================================================================================================================================================================================================================================================================================================================================================================================================================================================================================================================================================================================================================================================================================================================================================================================================================================================================================================================================================================================================================================================================================================================================================================================================================================================================================================================================================================================================================================================================================================================================================================================================================================================================================================================================================================================================================================================================================================================================================================================================================================================================================================================================================================================================================================================================================================================================================================================================================================================================================================================================================================================================================================================================================================================================================================================================================================================================================================================================================================================================================================================================================================================================================================================================================================================================================================================================================================================================================================================================================================================================================================================================================================================================================================================================================================================================================================================================================================================================================================================================================================================================================================================================================================================================================================================================================================================================================================================================================================================================================================================================================================================================================================================================================================================================================================================================================================================================================================================================================================================================================================================================================================================================================================================================================================================================================================================================================================================================================================================================================================================================================================================================================================================================================================================================================================================================================================================================================================================================================================================================================================================================================================================================================================================================================================================================================================================================================================================================================================================================================================================================================================================================================================================================================================================================================================================================================================================================================================================================================================================================================================================================================================================================================================================================================================================================================================================================================================================================================================================================================================================================================================================================================================================================================================================================================================================================================================================================================================================================================================================================================================================================================================================================================================================================================================================================================================================================================================================================================================================================================================================================================================================================================================================================================================================================================================================================================================================================================================================================================================================================================================================================================================================================================================================================================================================================================================================================================================================================================================================================================================================================================================================================================================================================================================================================================================================================================================================================================================================================================================================================================================================================================================================================================================================================================================================================================================================================================================================================================================================================================================================================================================================================================================================================================================================================================================================================================================================================================================================================================================================================================================================================================================================================================================================================================================================================================================================================================================================================================================================================================================================================================================================================================================================================================================================================================================================================================================================================================================================================================================================================================================================================================================================================================================================================================================================================================================================================================================================================================================================================================================================================================================================================================================================================================================================================================================================================================================================================================================================================================================================================================================================================================================================================================================================================================================================================================================================================================================================================================================================================================================================================================================================================================================================================================================================================================================================================================================================================================================================================================================================================================================================================================================================================================================================================================================================================================================================================================================================================================================================================================================================================================================================================================================================================================================================================================================================================================================================================================================================================================================================================================================================================================================================================================================================================================================================================================================================================================================================================================================================================================================================================================================================================================================================================================================================================================================================================================================================================================================================================================================================================================================================================================================================================================================================================================================================================================================================================================================================================================================================================================================================================================================================================================================================================================================================================================================================================================================================================================================================================================================================================================================================================================================================================================================================================================================================================================================================================================================================================================================================================================================================================================================================================================================================================================================================================================================================================================================================================================================================================================================================================================================================================================================================================================================================================================================================================================================================================================================================================================================================================================================================================================================================================================================================================================================================================================================================================================================================================================================================================================================================================================================================================================================================================================================================================================================================================================================================================================================================================================================================================================================================================================================================================================================================================================================================================================================================================================================================================================================================================================================================================================================================================================================================================================================================================================================================================================================================================================================================================================================================================================================================================================================================================================================================================================================================================================================================================================================================================================================================================================================================================================================================================================================================================================================================================================================================================================================================================================================================================================================================================================================================================================================================================================================================================================================================================================================================================================================================================================================================================================================================================================================================================================================================================================================================================================================================================================================================================================================================================================================================================================================================================================================================================================================================================================================================================================================================================================================================================================================================================================================================================================================================================================================================================================================================================================================================================================================================================================================================================================================================================================================================================================================================================================================================================================================================================================================================================================================================================================================================================================================================================================================================================================================================================================================================================================================================================================================================================================================================================================================================================================================================================================================================================================================================================================================================================================================================================================================================================================================================================================================================================================================================================================================================================================================================================================================================================================================================================================================================================================================================================================================================================================================================================================================================================================================================================================================================================================================================================================================================================================================================================================================================================================================================================================================================================================================================================================================================================================================================================================================================================================================================================================================================================================================================================================================================================================================================================================================================================================================================================================================================================================================================================================================================================================================================================================================================================================================================================================================================================================================================================================================================================================================================================================================================================================================================================================================================================================================================================================================================================================================================================================================================================================================================================================================================================================================================================================================================================================================================================================================================================================================================================================================================================================================================================================================================================================================================================================================================================================================================================================================================================================================================================================================================================================================================================================================================================================================================================================================================================================================================================================================================================================================================================================================================================================================================================================================================================================================================================================================================================================================================================================================================================================================================================================================================================================================================================================================================================================================================================================================================================================================================================================================================================================================================================================================================================================================================================================================================================================================================================================================================================================================================================================================================================================================================================================================================================================================================================================================================================================================================================================================================================================================================================================================================================================================================================================================================================================================================================================================================================================================================================================================================================================================================================================================================================================================================================================================================================================================================================================================================================================================================================================================================================================================================================================================================================================================================================================================================================================================================================================================================================================================================================================================================================================================================================================================================================================================================================================================================================================================================================================================================================================================================================================================================================================================================================================================================================================================================================================================================================================================================================================================================================================================================================================================================================================================================================================================================================================================================================================================================================================================================================================================================================================================================================================================================================================================================================================================================================================================================================================================================================================================================================================================================================================================================================================================================================================================================================================================================================================================================================================================================================================================================================================================================================================================================================================================================================================================================================================================================================================================================================================================================================================================================================================================================================================================================================================================================================================================================================================================================================================================================================================================================================================================================================================================================================================================================================================================================================================================================================================================================================================================================================================================================================================================================================================================================================================================================================================================================================================================================================================================================================================================================================================================================================================================================================================================================================================================================================================================================================================================================================================================================================================================================================================================================================================================================================================================================================================================================================================================================================================================================================================================================================================================================================================================================================================================================================================================================================================================================================================================================================================================================================================================================================================================================================================================================================================================================================================================================================================================================================================================================================================================================================================================================================================================================================================================================================================================================================================================================================================================================================================================================================================================================================================================================================================================================================================================================================================================================================================================================================================================================================================================================================================================================================================================================================================================================================================================================================================================================================================================================================================================================================================================================================================================================================================================================================================================================================================================================================================================================================================================================================================================================================================================================================================================================================================================================================================================================================================================================================================================================================================================================================================================================================================================================================================================================================================================================================================================================================================================================================================================================================================================================================================================================================================================================================================================================================================================================================================================================================================================================================================================================================================================================================================================================================================================================================================================================================================================================================================================================================================================================================================================================================================================================================================================================================================================================================================================================================================================================================================================================================================================================================================================================================================================================================================================================================================================================================================================================================================================================================================================================================================================================================================================================================================================================================================================================================================================================================================================================================================================================================================================================================================================================================================================================================================================================================================================================================================================================================================================================================================================================================================================================================================================================================================================================================================================================================================================================================================================================================================================================================================================================================================================================================================================================================================================================================================================================================================================================================================================================================================================================================================================================================================================================================================================================================================================================================================================================================================================================================================================================================================================================================================================================================================================================================================================================================================================================================================================================================================================================================================================================================================================================================================================================================================================================================================================================================================================================================================================================================================================================================================================================================================================================================================================================================================================================================================================================================================================================================================================================================================================================================================================================================================================================================================================================================================================================================================================================================================================================================================================================================================================================================================================================================================================================================================================================================================================================================================================================================================================================================================================================================================================================================================================================================================================================================================================================================================================================================================================================================================================================================================================================================================================================================================================================================================================================================================================================================================================================================================================================================================================================================================================================================================================================================================================================================================================================================================================================================================================================================================================================================================================================================================================================================================================================================================================================================================================================================================================================================================================================================================================================================================================================================================================================================================================================================================================================================================================================================================================================================================================================================================================================================================================================================================================================================================================================================================================================================================================================================================================================================================================================================================================================================================================================================================================================================================================================================================================================================================================================================================================================================================================================================================================================================================================================================================================================================================================================================================================================================================================================================================================================================================================================================================================================================================================================================================================================================================================================================================================================================================================================================================================================================================================================================================================================================================================================================================================================================================================================================================================================================================================================================================================================================================================================================================================================================================================================================================================================================================================================================================================================================================================================================================================================================================================================================================================================================================================================================================================================================================================================================================================================================================================================================================================================================================================================================================================================================================================================================================================================================================================================================================================================================================================================================================================================================================================================================================================================================================================================================================================================================================================================================================================================================================================================================================================================================================================================================================================================================================================================================================================================================================================================================================================================================================================================================================================================================================================================================================================================================================================================================================================================================================================================================================================================================================================================================================================================================================================================================================================================================================================================================================================================================================================================================================================================================================================================================================================================================================================================================================================================================================================================================================================================================================================================================================================================================================================================================================================================================================================================================================================================================================================================================================================================================================================================================================================================================================================================================================================================================================================================================================================================================================================================================================================================================================================================================================================================================================================================================================================================================================================================================================================================================================================================================================================================================================================================================================================================================================================================================================================================================================================================================================================================================================================================================================================================================================================================================================================================================================================================================================================================================================================================================================================================================================================================================================================================================================================================================================================================================================================================================================================================================================================================================================================================================================================================================================================================================================================================================================================================================================================================================================================================================================================================================================================================================================================================================================================================================================================================================================================================================================================================================================================================================================================================================================================================================================================================================================================================================================================================================================================================================================================================================================================================================================================================================================================================================================================================================================================================================================================================================================================================================================================================================================================================================================================================================================================================================================================================================================================================================================================================================================================================================================================================================================================================================================================================================================================================================================================================================================================================================================================================================================================================================================================================================================================================================================================================================================================================================================================================================================================================================================================================================================================================================================================================================================================================================================================================================================================================================================================================================================================================================================================================================================================================================================================================================================================================================================================================================================================================================================================================================================================================================================================================================================================================================================================================================================================================================================================================================================================================================================================================================================================================================================================================================================================================================================================================================================================================================================================================================================================================================================================================================================================================================================================================================================================================================================================================================================================================================================================================================================================================================================================================================================================================================================================================================================================================================================================================================================================================================================================================================================================================================================================================================================================================================================================================================================================================================================================================================================================================================================================================================================================================================================================================================================================================================================================================================================================================================================================================================================================================================================================================================================================================================================================================================================================================================================================================================================================================================================================================================================================================================================================================================================================================================================================================================================================================================================================================================================================================================================================================================================================================================================================================================================================================================================================================================================================================================================================================================================================================================================================================================================================================================================================================================================================================================================================================================================================================================================================================================================================================================================================================================================================================================================================================================================================================================================================================================================================================================================================================================================================================================================================================================================================================================================================================================================================================================================================================================================================================================================================================================================================================================================================================================================================================================================================================================================================================================================================================================================================================================================================================================================================================================================================================================================================================================================================================================================================================================================================================================================================================================================================================================================================================================================================================================================================================================================================================================================================================================================================================================================================================================================================================================================================================================================================================================================================================================================================================================================================================================================================================================================================================================================================================================================================================================================================================================================================================================================================================================================================================================================================================================================================================================================================================================================================================================================================================================================================================================================================================================================================================================================================================================================================================================================================================================================================================================================================================================================================================================================================================================================================================================================================================================================================================================================================================================================================================================================================================================================================================================================================================================================================================================================================================================================================================================================================================================================================================================================================================================================================================================================================================================================================================================================================================================================================================================================================================================================================================================================================================================================================================================================================================================================================================================================================================================================================================================================================================================================================================================================================================================================================================================================================================================================================================================================================================================================================================================================================================================================================================================================================================================================================================================================================================================================================================================================================================================================================================================================================================================================================================================================================================================================================================================================================================================================================================================================================================================================================================================================================================================================================================================================================================================================================================================================================================================================================================================================================================================================================================================================================================================================================================================================================================================================================================================================================================================================================================================================================================================================================================================================================================================================================================================================================================================================================================================================================================================================================================================================================================================================================================================================================================================================================================================================================================================================================================================================================================================================================================================================================================================================================================================================================================================================================================================================================================================================================================================================================================================================================================================================================================================================================================================================================================================================================================================================================================================================================================================================================================================================================================================================================================================================================================================================================================================================================================================================================================================================================================================================================================================================================================================================================================================================================================================================================================================================================================================================================================================================================================================================================================================================================================================================================================================================================================================================================================================================================================================================================================================================================================================================================================================================================================================================================================================================================================================================================================================================================================================================================================================================================================================================================================================================================================================================================================================================================================================================================================================================================================================================================================================================================================================================================================================================================================================================================================================================================================================================================================================================================================================================================================================================================================================================================================================================================================================================================================================================================================================================================================================================================================================================================================================================================================================================================================================================================================================================================================================================================================================================================================================================================================================================================================================================================================================================================================================================================================================================================================================================================================================================================================================================================================================================================================================================================================================================================================================================================================================================================================================================================================================================================================================================================================================================================================================================================================================================================================================================================================================================================================================================================================================================================================================================================================================================================================================================================================================================================================================================================================================================================================================================================================================================================================================================================================================================================================================================================================================================================================================================================================================================================================================================================================================================================================================================================================================================================================================================================================================================================================================================================================================================================================================================================================================================================================================================================================================================================================================================================================================================================================================================================================================================================================================================================================================================================================================================================================================================================================================================================================================================================================================================================================================================================================================================================================================================================================================================================================================================================================================================================================================================================================================================================================================================================================================================================================================================================================================================================================================================================================================================================================================================================================================================================================================================================================================================================================================================================================================================================================================================================================================================================================================================================================================================================================================================================================================================================================================================================================================================================================================================================================================================================================================================================================================================================================================================================================================================================================================================================================================================================================================================================================================================================================================================================================================================================================================================================================================================================================================================================================================================================================================================================================================================================================================================================================================================================================================================================================================================================================================================================================================================================================================================================================================================================================================================================================================================================================================================================================================================================================================================================================================================================================================================================================================================================================================================================================================================================================================================================================================================================================================================================================================================================================================================================================================================================================================================================================================================================================================================================================================================================================================================================================================================================================================================================================================================================================================================================================================================================================================================================================================================================================================================================================================================================================================================================================================================================================================================================================================================================================================================================================================================================================================================================================================================================================================================================================================================================================================================================================================================================================================================================================================================================================================================================================================================================================================================================================================================================================================================================================================================================================================================================================================================================================================================================================================================================================================================================================================================================================================================================================================================================================================================================================================================================================================================================================================================================================================================================================================================================================================================================================================================================================================================================================================================================================================================================================================================================================================================================================================================================================================================================================================================================================================================================================================================================================================================================================================================================================================================================================================================================================================================================================================================================================================================================================================================================================================================================================================================================================================================================================================================================================================================================================================================================================================================================================================================================================================================================================================================================================================================================================================================================================================================================================================================================================================================================================================================================================================================================================================================================================================================================================================================================================================================================================================================================================================================================================================================================================================================================================================================================================================================================================================================================================================================================================================================================================================================================================================================================================================================================================================================================================================================================================================================================================================================================================================================================================================================================================================================================================================================================================================================================================================================================================================================================================================================================================================================================================================================================================================================================================================================================================================================================================================================================================================================================================================================================================================================================================================================================================================================================================================================================================================================================================================================================================================================================================================================================================================================================================================================================================================================================================================================================================================================================================================================================================================================================================================================================================================================================================================================================================================================================================================================================================================================================================================================================================================================================================================================================================================================================================================================================================================================================================================================================================================================================================================================================================================================================================================================================================================================================================================================================================================================================================================================================================================================================================================================================================================================================================================================================================================================================================================================================================================================================================================================================================================================================================================================================================================================================================================================================================================================================================================================================================================================================================================================================================================================================================================================================================================================================================================================================================================================================================================================================================================================================================================================================================================================================================================================================================================================================================================================================================================================================================================================================================================================================================================================================================================================================================================================================================================================================================================================================================================================================================================================================================================================================================================================================================================================================================================================================================================================================================================================================================================================================================================================================================================================================================================================================================================================================================================================================================================================================================================================================================================================================================================================================================================================================================================================================================================================================================================================================================================================================================================================================================================================================================================================================================================================================================================================================================================================================================================================================================================================================================================================================================================================================================================================================================================================================================================================================================================================================================================================================================================================================================================================================================================================================================================================================================================================================================================================================================================================================================================================================================================================================================================================================================================================================================================================================================================================================================================================================================================================================================================================================================================================================================================================================================================================================================================================================================================================================================================================================================================================================================================================================================================================================================================================================================================================================================================================================================================================================================================================================================================================================================================================================================================================================================================================================================================================================================================================================================================================================================================================================================================================================================================================================================================================================================================================================================================================================================================================================================================================================================================================================================================================================================================================================================================================================================================================================================================================================================================================================================================================================================================================================================================================================================================================================================================================================================================================================================================================================================================================================================================================================================================================================================================================================================================================================================================================================================================================================================================================================================================================================================================================================================================================================================================================================================================================================================================================================================================================================================================================================================================================================================================================================================================================================================================================================================================================================================================================================================================================================================================================================================================================================================================================================================================================================================================================================================================================================================================================================================================================================================================================================================================================================================================================================================================================================================================================================================================================================================================================================================================================================================================================================================================================================================================================================================================================================================================================================================================================================================================================================================================================================================================================================================================================================================================================================================================================================================================================================================================================================================================================================================================================================================================================================================================================================================================================================================================================================================================================================================================================================================================================================================================================================================================================================================================================================================================================================================================================================================================================================================================================================================================================================================================================================================================================================================================================================================================================================================================================================================================================================================================================================================================================================================================================================================================================================================================================================================================================================================================================================================================================================================================================================================================================================================================================================================================================================================================================================================================================================================================================================================================================================================================================================================================================================================================================================================================================================================================================================================================================================================================================================================================================================================================================================================================================================================================================================================================================================================================================================================================================================================================================================================================================================================================================================================================================================================================================================================================================================================================================================================================================================================================================================================================================================================================================================================================================================================================================================================================================================================================================================================================================================================================================================================================================================================================================================================================================================================================================================================================================================================================================================================================================================================================================================================================================================================================================================================================================================================================================================================================================================================================================================================================================================================================================================================================================================================================================================================================================================================================================================================================================================================================================================================================================================================================================================================================================================================================================================================================================================================================================================================================================================================================================================================================================================================================================================================================================================================================================================================================================================================================================================================================================================================================================================================================================================================================================================================================================================================================================================================================================================================================================================================================================================================================================================================================================================================================================================================================================================================================================================================================================================================================================================================================================================================================================================================================================================================================================================================================================================================================================================================================================================================================================================================================================================================================================================================================================================================================================================================================================================================================================================================================================================================================================================================================================================================================================================================================================================================================================================================================================================================================================================================================================================================================================================================================================================================================================================================================================================================================================================================================================================================================================================================================================================================================================================================================================================================================================================================================================================================================================================================================================================================================================================================================================================================================================================================================================================================================================================================================================================================================================================================================================================================================================================================================================================================================================================================================================================================================================================================================================================================================================================================================================================================================================================================================================================================================================================================================================================================================================================================================================================================================================================================================================================================================================================================================================================================================================================================================================================================================================================================================================================================================================================================================================================================================================================================================================================================================================================================================================================================================================================================================================================================================================================================================================================================================================================================================================================================================================================================================================================================================================================================================================================================================================================================================================================================================================================================================================================================================================================================================================================================================================================================================================================================================================================================================================================================================================================================================================================================================================================================================================================================================================================================================================================================================================================================================================================================================================================================================================================================================================================================================================================================================================================================================================================================================================================================================================================================================================================================================================================================================================================================================================================================================================================================================================================================================================================================================================================================================================================================================================================================================================================================================================================================================================================================================================================================================================================================================================================================================================================================================================================================================================================================================================================================================================================================================================================================================================================================================================================================================================================================================================================================================================================================================================================================================================================================================================================================================================================================================================================================================================================================================================================================================================================================================================================================================================================================================================================================================================================================================================================================================================================================================================================================================================================================================================================================================================================================================================================================================================================================================================================================================================================================================================================================================================================================================================================================================================================================================================================================================================================================================================================================================================================================================================================================================================================================================================================================================================================================================================================================================================================================================================================================================================================================================================================================================================================================================================================================================================================================================================================================================================================================================================================================================================================================================================================================================================================================================================================================================================================================================================================================================================================================================================================================================================================================================================================================================================================================================================================================================================================================================================================================================================================================================================================================================================================================================================================================================================================================================================================================================================================================================================================================================================================================================================================================================================================================================================================================================================================================================================================================================================================================================================================================================================================================================================================================================================================================================================================================================================================================================================================================================================================================================================================================================================================================================================================================================================================================================================================================================================================================================================================================================================================================================================================================================================================================================================================================================================================================================================================================================================================================================================================================================================================================================================================================================================================================================================================================================================================================================================================================================================================================================================================================================================================================================================================================================================================================================================================================================================================================================================================================================================================================================================================================================================================================================================================================================================================================================================================================================================================================================================================================================================================================================================================================================================================================================================================================================================================================================================================================================================================================================================================================================================================================================================================================================================================================================================================================================================================================================================================================================================================================================================================================================================================================================================================================================================================================================================================================================================================================================================================================================================================================================================================================================================================================================================================================================================================================================================================================================================================================================================================================================================================================================================================================================================================================================================================================================================================================================================================================================================================================================================================================================================================================================================================================================================================================================================================================================================================================================================================================================================================================================================================================================================================================================================================================================================================================================================================================================================================================================================================================================================================================================================================================================================================================================================================================================================================================================================================================================================================================================================================================================================================================================================================================================================================================================================================================================================================================================================================================================================================================================================================================================================================================================================================================================================================================================================================================================================================================================================================================================================================================================================================================================================================================================================================================================================================================================================================================================================================================================================================================================================================================================================================================================================================================================================================================================================================================================================================================================================================================================================================================================================================================================================================================================================================================================================================================================================================================================================================================================================================================================================================================================================================================================================================================================================================================================================================================================================================================================================================================================================================================================================================================================================================================================================================================================================================================================================================================================================================================================================================================================================================================================================================================================================================================================================================================================================================================================================================================================================================================================================================================================================================================================================================================================================================================================================================================================================================================================================================================================================================================================================================================================================================================================================================================================================================================================================================================================================================================================================================================================================================================================================================================================================================================================================================================================================================================================================================================================================================================================================================================================================================================================================================================================================================================================================================================================================================================================================================================================================================================================================================================================================================================================================================================================================================================================================================================================================================================================================================================================================================================================================================================================================================================================================================================================================================================================================================================================================================================================================================================================================================================================================================================================================================================================================================================================================================================================================================================================================================================================================================================================================================================================================================================================================================================================================================================================================================================================================================================================================================================================================================================================================================================================================================================================================================================================================================================================================================================================================================================================================================================================================================================================================================================================================================================================================================================================================================================================================================================================================================================================================================================================================================================================================================================================================================================================================================================================================================================================================================================================================================================================================================================================================================================================================================================================================================================================================================================================================================================================================================================================================================================================================================================================================================================================================================================================================================================================================================================================================================================================================================================================================================================================================================================================================================================================================================================================================================================================================================================================================================================================================================================================================================================================================================================================================================================================================================================================================================================================================================================================================================================================================================================================================================================================================================================================================================================================================================================================================================================================================================================================================================================================================================================================================================================================================================================================================================================================================================================================================================================================================================================================================================================================================================================================================================================================================================================================================================================================================================================================================================================================================================================================================================================================================================================================================================================================================================================================================================================================================================================================================================================================================================================================================================================================================================================================================================================================================================================================================================================================================================================================================================================================================================================================================================================================================================================================================================================================================================================================================================================================================================================================================================================================================================================================================================================================================================================================================================================================================================================================================================================================================================================================================================================================================================================================================================================================================================================================================================================================================================================================================================================================================================================================================================================================================================================================================================================================================================================================================================================================================================================================================================================================================================================================================================================================================================================================================================================================================================================================================================================================================================================================================================================================================================================================================================================================================================================================================================================================================================================================================================================================================================================================================================================================================================================================================================================================================================================================================================================================================================================================================================================================================================================================================================================================================================================================================================================================================================================================================================================================================================================================================================================================================================================================================================================================================================================================================================================================================================================================================================================================================================================================================================================================================================================================================================================================================================================================================================================================================================================================================================================================================================================================================================================================================================================================================================================================================================================================================================================================================================================================================================================================================================================================================================================================================================================================================================================================================================================================================================================================================================================================================================================================================================================================================================================================================================================================================================================================================================================================================================================================================================================================================================================================================================================================================================================================================================================================================================================================================================================================================================================================================================================================================================================================================================================================================================================================================================================================================================================================================================================================================================================================================================================================================================================================================================================================================================================================================================================================================================================================================================================================================================================================================================================================================================================================================================================================================================================================================================================================================================================================================================================================================================================================================================================================================================================================================================================================================================================================================================================================================================================================================================================================================================================================================================================================================================================================================================================================================================================================================================================================================================================================================================================================================================================================================================================================================================================================================================================================================================================================================================================================================================================================================================================================================================================================================================================================================================================================================================================================================================================================================================================================================================================================================================================================================================================================================================================================================================================================================================================================================================================================================================================================================================================================================================================================================================================================================================================================================================================================================================================================================================================================================================================================================================================================================================================================================================================================================================================================================================================================================================================================================================================================================================================================================================================================================================================================================================================================================================================================================================================================================================================================================================================================================================================================================================================================================================================================================================================================================================================================================================================================================================================================================================================================================================================================================================================================================================================================================================================================================================================================================================================================================================================================================================================================================================================================================================================================================================================================================================================================================================================================================================================================================================================================================================================================================================================================================================================================================================================================================================================================================================================================================================================================================================================================================================================================================================================================================================================================================================================================================================================================================================================================================================================================================================================================================================================================================================================================================================================================================================================================================================================================================================================================================================================================================================================================================================================================================================================================================================================================================================================================================================================================================================================================================================================================================================================================================================================================================================================================================================================================================================================================================================================================================================================================================================================================================================================================================================================================================================================================================================================================================================================================================================================================================================================================================================================================================================================================================================================================================================================================================================================================================================================================================================================================================================================================================================================================================================================================================================================================================================================================================================================================================================================================================================================================================================================================================================================================================================================================================================] - 0s 41us/sample - loss: 0.1795 - mean_absolute_error: 0.1039\n"
     ]
    },
    {
     "data": {
      "text/plain": [
       "[0.17535410845419222, 0.10394056]"
      ]
     },
     "execution_count": 27,
     "metadata": {},
     "output_type": "execute_result"
    }
   ],
   "source": [
    "# To evaluate model test loss\n",
    "\n",
    "test_loss = model.evaluate(x_test, y_test)\n",
    "test_loss"
   ]
  },
  {
   "cell_type": "code",
   "execution_count": 28,
   "metadata": {},
   "outputs": [
    {
     "data": {
      "text/plain": [
       "(10936, 93)"
      ]
     },
     "execution_count": 28,
     "metadata": {},
     "output_type": "execute_result"
    }
   ],
   "source": [
    "\n",
    "x_test.shape"
   ]
  },
  {
   "cell_type": "code",
   "execution_count": 29,
   "metadata": {},
   "outputs": [
    {
     "data": {
      "text/plain": [
       "(10936, 60)"
      ]
     },
     "execution_count": 29,
     "metadata": {},
     "output_type": "execute_result"
    }
   ],
   "source": [
    "y_test.shape"
   ]
  },
  {
   "cell_type": "code",
   "execution_count": 30,
   "metadata": {
    "colab": {
     "base_uri": "https://localhost:8080/",
     "height": 280
    },
    "id": "K6jxwKI-au9s",
    "outputId": "4824a9db-6941-4ac8-87d8-5d749bc8497d"
   },
   "outputs": [
    {
     "data": {
      "image/png": "[encoded data removed]",
      "text/plain": [
       "<Figure size 432x288 with 1 Axes>"
      ]
     },
     "metadata": {
      "needs_background": "light"
     },
     "output_type": "display_data"
    }
   ],
   "source": [
    "# To plot training loss only\n",
    "\n",
    "loss = model_history.history['loss']\n",
    "epochs = range(1, len(loss)+1)\n",
    "plt.plot(epochs, loss, 'ro', label='Training loss')\n",
    "plt.xlabel('epoch')\n",
    "plt.legend()\n",
    "plt.show()"
   ]
  },
  {
   "cell_type": "code",
   "execution_count": 31,
   "metadata": {
    "colab": {
     "base_uri": "https://localhost:8080/",
     "height": 313
    },
    "id": "gr4ZQqHQayfv",
    "outputId": "b292d2fe-9161-4bfc-9b6f-fe09e9543f33"
   },
   "outputs": [
    {
     "name": "stdout",
     "output_type": "stream",
     "text": [
      "dict_keys(['loss', 'mean_absolute_error', 'val_loss', 'val_mean_absolute_error', 'lr'])\n"
     ]
    },
    {
     "data": {
      "image/png": "[encoded data removed]",
      "text/plain": [
       "<Figure size 432x288 with 1 Axes>"
      ]
     },
     "metadata": {
      "needs_background": "light"
     },
     "output_type": "display_data"
    }
   ],
   "source": [
    "# list all data in history\n",
    "\n",
    "print(model_history.history.keys())\n",
    "\n",
    "# summarize history for accuracy\n",
    "acc = model_history.history['mean_absolute_error']\n",
    "val_acc = model_history.history['val_mean_absolute_error']\n",
    "\n",
    "plt.plot(acc)\n",
    "plt.plot(val_acc)\n",
    "plt.title('model accuracy')\n",
    "plt.ylabel('Mean Absolute Error')\n",
    "plt.xlabel('epoch')\n",
    "plt.legend(['train', 'test'], loc='upper right')\n",
    "plt.savefig('accuracy_3_layer.pdf')\n",
    "plt.show()"
   ]
  },
  {
   "cell_type": "code",
   "execution_count": 32,
   "metadata": {
    "colab": {
     "base_uri": "https://localhost:8080/",
     "height": 295
    },
    "id": "pgrdmzrca2id",
    "outputId": "7698718b-fba5-415a-c5a5-abfbfe868c6c"
   },
   "outputs": [
    {
     "data": {
      "image/png": "[encoded data removed]",
      "text/plain": [
       "<Figure size 432x288 with 1 Axes>"
      ]
     },
     "metadata": {
      "needs_background": "light"
     },
     "output_type": "display_data"
    }
   ],
   "source": [
    "# summarize history for loss\n",
    "\n",
    "loss = model_history.history['loss']\n",
    "val_loss = model_history.history['val_loss']\n",
    "plt.plot(loss)\n",
    "plt.plot(val_loss)\n",
    "plt.title('model loss')\n",
    "plt.ylabel('loss')\n",
    "plt.xlabel('epoch')\n",
    "plt.legend(['train', 'test'], loc='upper right')\n",
    "plt.savefig('loss_3_layer.pdf')\n",
    "plt.show()"
   ]
  },
  {
   "cell_type": "code",
   "execution_count": 33,
   "metadata": {
    "colab": {
     "base_uri": "https://localhost:8080/",
     "height": 249
    },
    "id": "V_KxSfNKa666",
    "outputId": "c668ae3d-01ef-4869-e191-af2122733da1"
   },
   "outputs": [
    {
     "data": {
      "text/plain": [
       "array([[2.14576721e-06, 2.22355127e-04, 5.74698448e-02, ...,\n",
       "        4.14311886e-03, 1.07345879e-02, 0.00000000e+00],\n",
       "       [3.07857990e-05, 2.39090025e-02, 4.97043133e-04, ...,\n",
       "        7.30136037e-03, 1.98980272e-02, 0.00000000e+00],\n",
       "       [9.99981403e-01, 9.97327387e-01, 4.45652008e-03, ...,\n",
       "        8.57263505e-02, 5.36102355e-02, 2.98023224e-08],\n",
       "       ...,\n",
       "       [0.00000000e+00, 1.07854605e-04, 6.86943531e-05, ...,\n",
       "        5.25929034e-02, 8.45262408e-02, 1.19209290e-07],\n",
       "       [0.00000000e+00, 1.94042921e-04, 7.21961260e-04, ...,\n",
       "        1.42094791e-02, 2.21130013e-01, 1.49011612e-07],\n",
       "       [4.06980515e-04, 2.48506665e-03, 2.28754878e-02, ...,\n",
       "        1.35640204e-01, 1.52108550e-01, 8.94069672e-08]], dtype=float32)"
      ]
     },
     "execution_count": 33,
     "metadata": {},
     "output_type": "execute_result"
    }
   ],
   "source": [
    "# Making the predictions for testing\n",
    "\n",
    "# Predicting the Test set results\n",
    "y_pred = model.predict(x_test) \n",
    "y_pred"
   ]
  },
  {
   "cell_type": "code",
   "execution_count": 34,
   "metadata": {
    "colab": {
     "base_uri": "https://localhost:8080/",
     "height": 142
    },
    "id": "nTiknlOLaTPp",
    "outputId": "70722f3f-835d-4abe-ca27-4cd0d3b285f1"
   },
   "outputs": [
    {
     "data": {
      "text/plain": [
       "(10936, 60)"
      ]
     },
     "execution_count": 34,
     "metadata": {},
     "output_type": "execute_result"
    }
   ],
   "source": [
    "y_test.shape\n"
   ]
  },
  {
   "cell_type": "code",
   "execution_count": 35,
   "metadata": {
    "id": "5x9nZKCHa9ZI"
   },
   "outputs": [
    {
     "data": {
      "text/plain": [
       "(10936, 60)"
      ]
     },
     "execution_count": 35,
     "metadata": {},
     "output_type": "execute_result"
    }
   ],
   "source": [
    "y_pred.shape"
   ]
  },
  {
   "cell_type": "code",
   "execution_count": 36,
   "metadata": {
    "id": "ACY5x1V7a_vo"
   },
   "outputs": [
    {
     "name": "stdout",
     "output_type": "stream",
     "text": [
      "Test Mean Squared error (MSE): 0.05274225930334822\n",
      "Test Root mean squared error (RMSE): 0.22965682942892907\n",
      "Test Mean absolute error (MAE): 0.10394054507086806\n"
     ]
    }
   ],
   "source": [
    "# Evaluating the model # Test error\n",
    "\n",
    "# Measure MSE error  \n",
    "mse_test = metrics.mean_squared_error(y_test, y_pred)\n",
    "print(\"Test Mean Squared error (MSE): {}\".format(mse_test))\n",
    "\n",
    "# Measure RMSE error \n",
    "rmse_test = np.sqrt(metrics.mean_squared_error(y_test, y_pred))\n",
    "print(\"Test Root mean squared error (RMSE): {}\".format(rmse_test))\n",
    "\n",
    "# Measure MAE error\n",
    "mae_test = metrics.mean_absolute_error(y_test, y_pred)\n",
    "print(\"Test Mean absolute error (MAE): {}\".format(mae_test))"
   ]
  },
  {
   "cell_type": "code",
   "execution_count": 37,
   "metadata": {
    "id": "EpTj4zULbQMd"
   },
   "outputs": [
    {
     "data": {
      "text/plain": [
       "array([[7.7486038e-07, 3.3921301e-03, 1.0166228e-02, ..., 3.3406892e-01,\n",
       "        1.9571394e-02, 1.1920929e-07],\n",
       "       [1.8462539e-03, 1.9122767e-01, 1.3340667e-01, ..., 2.2586581e-01,\n",
       "        2.7734041e-03, 2.9802322e-08],\n",
       "       [2.9802322e-07, 8.5889429e-02, 6.2188506e-03, ..., 1.8422407e-01,\n",
       "        4.8636496e-03, 0.0000000e+00],\n",
       "       ...,\n",
       "       [9.5665455e-05, 3.8479567e-03, 1.9431293e-02, ..., 2.7541816e-02,\n",
       "        2.3746067e-01, 3.8743019e-07],\n",
       "       [0.0000000e+00, 5.8412552e-06, 6.4584196e-02, ..., 2.0288926e-01,\n",
       "        2.7215183e-03, 0.0000000e+00],\n",
       "       [1.8507242e-05, 4.0951371e-04, 4.5144194e-01, ..., 9.4510831e-02,\n",
       "        2.4587817e-02, 3.4189306e-08]], dtype=float32)"
      ]
     },
     "execution_count": 37,
     "metadata": {},
     "output_type": "execute_result"
    }
   ],
   "source": [
    "# Making the predictions for training\n",
    "\n",
    "# Predicting the Training set results\n",
    "y_pred_train = model.predict(x_train) \n",
    "y_pred_train"
   ]
  },
  {
   "cell_type": "code",
   "execution_count": 38,
   "metadata": {
    "id": "Of9BhiCTbU01"
   },
   "outputs": [
    {
     "data": {
      "text/plain": [
       "(98419, 60)"
      ]
     },
     "execution_count": 38,
     "metadata": {},
     "output_type": "execute_result"
    }
   ],
   "source": [
    "y_pred_train.shape "
   ]
  },
  {
   "cell_type": "code",
   "execution_count": 39,
   "metadata": {
    "id": "FWK7_bNJbXME"
   },
   "outputs": [
    {
     "name": "stdout",
     "output_type": "stream",
     "text": [
      "Training Mean Squared error (MSE): 0.051708733396535166\n",
      "Training Root mean squared error (RMSE): 0.22739554392409533\n",
      "Training Mean absolute error (MAE): 0.1028414576989449\n"
     ]
    }
   ],
   "source": [
    "# Evaluating the model # Training error\n",
    "\n",
    "# Measure MSE error  \n",
    "mse_train = metrics.mean_squared_error(y_train, y_pred_train)\n",
    "print(\"Training Mean Squared error (MSE): {}\".format(mse_train))\n",
    "\n",
    "# Measure RMSE error \n",
    "rmse_train = np.sqrt(metrics.mean_squared_error(y_train, y_pred_train))\n",
    "print(\"Training Root mean squared error (RMSE): {}\".format(rmse_train))\n",
    "\n",
    "# Measure MAE error\n",
    "mae_train = metrics.mean_absolute_error(y_train, y_pred_train)\n",
    "print(\"Training Mean absolute error (MAE): {}\".format(mae_train))"
   ]
  },
  {
   "cell_type": "code",
   "execution_count": 40,
   "metadata": {
    "id": "1Yw2ek-lRAmD"
   },
   "outputs": [
    {
     "data": {
      "text/plain": [
       "array([2.1457672e-06, 2.2235513e-04, 5.7469845e-02, ..., 1.3564020e-01,\n",
       "       1.5210855e-01, 8.9406967e-08], dtype=float32)"
      ]
     },
     "execution_count": 40,
     "metadata": {},
     "output_type": "execute_result"
    }
   ],
   "source": [
    "y_pred_flat = y_pred.flatten()\n",
    "y_pred_flat"
   ]
  },
  {
   "cell_type": "code",
   "execution_count": 41,
   "metadata": {
    "id": "zrHf4K-yRWEW"
   },
   "outputs": [
    {
     "data": {
      "text/plain": [
       "array([0., 0., 0., ..., 0., 1., 0.])"
      ]
     },
     "execution_count": 41,
     "metadata": {},
     "output_type": "execute_result"
    }
   ],
   "source": [
    "y_test_flat = y_test.flatten()\n",
    "y_test_flat"
   ]
  },
  {
   "cell_type": "code",
   "execution_count": 42,
   "metadata": {
    "id": "3sCT93VyRYOz"
   },
   "outputs": [
    {
     "name": "stdout",
     "output_type": "stream",
     "text": [
      "R2 Score Test: 0.5201297715428078\n"
     ]
    }
   ],
   "source": [
    "# Regression score for test\n",
    "\n",
    "r2_score_test = metrics.r2_score(y_test_flat, y_pred_flat)\n",
    "print(\"R2 Score Test: {}\".format(r2_score_test))"
   ]
  },
  {
   "cell_type": "code",
   "execution_count": 43,
   "metadata": {
    "id": "5oZLTaS6Rdpb"
   },
   "outputs": [
    {
     "data": {
      "text/plain": [
       "array([7.7486038e-07, 3.3921301e-03, 1.0166228e-02, ..., 9.4510831e-02,\n",
       "       2.4587817e-02, 3.4189306e-08], dtype=float32)"
      ]
     },
     "execution_count": 43,
     "metadata": {},
     "output_type": "execute_result"
    }
   ],
   "source": [
    "y_pred_train_flat = y_pred_train.flatten()\n",
    "y_pred_train_flat"
   ]
  },
  {
   "cell_type": "code",
   "execution_count": 44,
   "metadata": {
    "id": "imceUpMlRfrV"
   },
   "outputs": [
    {
     "data": {
      "text/plain": [
       "array([0., 0., 0., ..., 0., 0., 0.])"
      ]
     },
     "execution_count": 44,
     "metadata": {},
     "output_type": "execute_result"
    }
   ],
   "source": [
    "y_train_flat = y_train.flatten()\n",
    "y_train_flat"
   ]
  },
  {
   "cell_type": "code",
   "execution_count": 45,
   "metadata": {
    "id": "IywAjABTRjex"
   },
   "outputs": [
    {
     "name": "stdout",
     "output_type": "stream",
     "text": [
      "R2 Score Train: 0.5298827306714531\n"
     ]
    }
   ],
   "source": [
    "# Regression score for training\n",
    "\n",
    "r2_score_train = metrics.r2_score(y_train_flat, y_pred_train_flat)\n",
    "print(\"R2 Score Train: {}\".format(r2_score_train))"
   ]
  },
  {
   "cell_type": "code",
   "execution_count": 46,
   "metadata": {
    "id": "hr_f0cdyWpil"
   },
   "outputs": [],
   "source": [
    "######################### Constraint verification for test data ##########################"
   ]
  },
  {
   "cell_type": "code",
   "execution_count": 47,
   "metadata": {
    "colab": {
     "base_uri": "https://localhost:8080/",
     "height": 249
    },
    "id": "aS9k-9lwW0hY",
    "outputId": "32c16051-3a86-49a8-d7cb-77e547ad3e64"
   },
   "outputs": [
    {
     "data": {
      "text/plain": [
       "array([[2.14576721e-06, 2.22355127e-04, 5.74698448e-02, ...,\n",
       "        4.14311886e-03, 1.07345879e-02, 0.00000000e+00],\n",
       "       [3.07857990e-05, 2.39090025e-02, 4.97043133e-04, ...,\n",
       "        7.30136037e-03, 1.98980272e-02, 0.00000000e+00],\n",
       "       [9.99981403e-01, 9.97327387e-01, 4.45652008e-03, ...,\n",
       "        8.57263505e-02, 5.36102355e-02, 2.98023224e-08],\n",
       "       ...,\n",
       "       [0.00000000e+00, 1.07854605e-04, 6.86943531e-05, ...,\n",
       "        5.25929034e-02, 8.45262408e-02, 1.19209290e-07],\n",
       "       [0.00000000e+00, 1.94042921e-04, 7.21961260e-04, ...,\n",
       "        1.42094791e-02, 2.21130013e-01, 1.49011612e-07],\n",
       "       [4.06980515e-04, 2.48506665e-03, 2.28754878e-02, ...,\n",
       "        1.35640204e-01, 1.52108550e-01, 8.94069672e-08]], dtype=float32)"
      ]
     },
     "execution_count": 47,
     "metadata": {},
     "output_type": "execute_result"
    }
   ],
   "source": [
    "y_pred = model.predict(x_test)\n",
    "y_pred"
   ]
  },
  {
   "cell_type": "code",
   "execution_count": 48,
   "metadata": {
    "colab": {
     "base_uri": "https://localhost:8080/",
     "height": 249
    },
    "id": "qdcimHOXZsH2",
    "outputId": "1585d70d-b16d-4e2a-d7d5-6f381a4521fd"
   },
   "outputs": [
    {
     "data": {
      "text/plain": [
       "array([[-0.96565418, -1.02510763, -1.00583909, ..., -0.93439145,\n",
       "        -0.44236428, -1.17577208],\n",
       "       [-0.48924106,  0.52100408, -1.00583909, ..., -1.65295975,\n",
       "        -0.75870877,  0.77838022],\n",
       "       [ 0.86051702,  1.64728977,  0.9941948 , ..., -1.14274709,\n",
       "         0.67330256, -1.01421832],\n",
       "       ...,\n",
       "       [ 1.37607763, -1.36785667, -1.00583909, ..., -1.12031787,\n",
       "        -1.07531388,  1.41145663],\n",
       "       [ 1.36296915, -0.09377084, -1.00583909, ..., -1.38882618,\n",
       "        -0.86376892, -0.68659868],\n",
       "       [-0.99631971, -0.45089016, -1.00583909, ..., -1.08667404,\n",
       "        -1.30369417, -1.63973307]])"
      ]
     },
     "execution_count": 48,
     "metadata": {},
     "output_type": "execute_result"
    }
   ],
   "source": [
    "x_test"
   ]
  },
  {
   "cell_type": "code",
   "execution_count": 49,
   "metadata": {
    "colab": {
     "base_uri": "https://localhost:8080/",
     "height": 35
    },
    "id": "ruqLSKwaZ06X",
    "outputId": "42dd9de3-1395-4349-8ec3-f163ef502a0e"
   },
   "outputs": [
    {
     "data": {
      "text/plain": [
       "(10936, 93)"
      ]
     },
     "execution_count": 49,
     "metadata": {},
     "output_type": "execute_result"
    }
   ],
   "source": [
    "x_test.shape"
   ]
  },
  {
   "cell_type": "code",
   "execution_count": 50,
   "metadata": {
    "colab": {
     "base_uri": "https://localhost:8080/",
     "height": 35
    },
    "id": "fOj5D4GRW7Ac",
    "outputId": "e4223fa4-dd8e-400f-eefc-bbd0178e4d99"
   },
   "outputs": [
    {
     "data": {
      "text/plain": [
       "(10936, 60)"
      ]
     },
     "execution_count": 50,
     "metadata": {},
     "output_type": "execute_result"
    }
   ],
   "source": [
    "y_test.shape"
   ]
  },
  {
   "cell_type": "code",
   "execution_count": 51,
   "metadata": {},
   "outputs": [
    {
     "data": {
      "text/plain": [
       "array([[2.14576721e-06, 2.22355127e-04, 5.74698448e-02, ...,\n",
       "        4.14311886e-03, 1.07345879e-02, 0.00000000e+00],\n",
       "       [3.07857990e-05, 2.39090025e-02, 4.97043133e-04, ...,\n",
       "        7.30136037e-03, 1.98980272e-02, 0.00000000e+00],\n",
       "       [9.99981403e-01, 9.97327387e-01, 4.45652008e-03, ...,\n",
       "        8.57263505e-02, 5.36102355e-02, 2.98023224e-08],\n",
       "       ...,\n",
       "       [0.00000000e+00, 1.07854605e-04, 6.86943531e-05, ...,\n",
       "        5.25929034e-02, 8.45262408e-02, 1.19209290e-07],\n",
       "       [0.00000000e+00, 1.94042921e-04, 7.21961260e-04, ...,\n",
       "        1.42094791e-02, 2.21130013e-01, 1.49011612e-07],\n",
       "       [4.06980515e-04, 2.48506665e-03, 2.28754878e-02, ...,\n",
       "        1.35640204e-01, 1.52108550e-01, 8.94069672e-08]], dtype=float32)"
      ]
     },
     "execution_count": 51,
     "metadata": {},
     "output_type": "execute_result"
    }
   ],
   "source": [
    "y_pred"
   ]
  },
  {
   "cell_type": "code",
   "execution_count": 52,
   "metadata": {
    "colab": {
     "base_uri": "https://localhost:8080/",
     "height": 142
    },
    "id": "Yn9ruPcpOQq0",
    "outputId": "c187ee9b-7905-455c-cee3-fa098f0966e1"
   },
   "outputs": [
    {
     "name": "stdout",
     "output_type": "stream",
     "text": [
      "[[0. 0. 0. ... 0. 0. 0.]\n",
      " [0. 0. 0. ... 0. 0. 0.]\n",
      " [1. 1. 0. ... 0. 0. 0.]\n",
      " ...\n",
      " [0. 0. 0. ... 0. 0. 0.]\n",
      " [0. 0. 0. ... 0. 0. 0.]\n",
      " [0. 0. 0. ... 0. 0. 0.]]\n"
     ]
    }
   ],
   "source": [
    "#round-off the y_pred\n",
    "\n",
    "import numpy as np\n",
    "a_list = np.array(y_pred)\n",
    "y_pred_binary = np.round(a_list)\n",
    "print(y_pred_binary)\n",
    "\n"
   ]
  },
  {
   "cell_type": "code",
   "execution_count": 53,
   "metadata": {
    "colab": {
     "base_uri": "https://localhost:8080/",
     "height": 35
    },
    "id": "zus7h7n3PMDh",
    "outputId": "ce6a354b-6dfa-40b8-c6c3-adead6f2d051"
   },
   "outputs": [
    {
     "data": {
      "text/plain": [
       "(10936, 60)"
      ]
     },
     "execution_count": 53,
     "metadata": {},
     "output_type": "execute_result"
    }
   ],
   "source": [
    "y_pred_binary.shape"
   ]
  },
  {
   "cell_type": "code",
   "execution_count": 54,
   "metadata": {
    "colab": {
     "base_uri": "https://localhost:8080/",
     "height": 142
    },
    "id": "RKVmQiPemWnf",
    "outputId": "8fa5f012-e7b4-4262-e8c9-06ad35d44c13"
   },
   "outputs": [
    {
     "data": {
      "text/plain": [
       "array([[0., 0., 0., ..., 0., 0., 0.],\n",
       "       [0., 0., 0., ..., 0., 0., 0.],\n",
       "       [1., 1., 0., ..., 0., 0., 0.],\n",
       "       ...,\n",
       "       [0., 0., 0., ..., 0., 0., 0.],\n",
       "       [0., 0., 0., ..., 0., 0., 0.],\n",
       "       [0., 0., 0., ..., 0., 0., 0.]], dtype=float32)"
      ]
     },
     "execution_count": 54,
     "metadata": {},
     "output_type": "execute_result"
    }
   ],
   "source": [
    "y_pred_binary"
   ]
  },
  {
   "cell_type": "code",
   "execution_count": 55,
   "metadata": {},
   "outputs": [
    {
     "data": {
      "text/plain": [
       "array([[0., 0., 0., ..., 0., 0., 0.],\n",
       "       [0., 0., 0., ..., 0., 0., 0.],\n",
       "       [1., 1., 0., ..., 0., 0., 0.],\n",
       "       ...,\n",
       "       [0., 0., 0., ..., 0., 0., 0.],\n",
       "       [0., 0., 0., ..., 0., 0., 0.],\n",
       "       [0., 0., 0., ..., 0., 1., 0.]])"
      ]
     },
     "execution_count": 55,
     "metadata": {},
     "output_type": "execute_result"
    }
   ],
   "source": [
    "y_test"
   ]
  },
  {
   "cell_type": "code",
   "execution_count": 56,
   "metadata": {
    "colab": {
     "base_uri": "https://localhost:8080/",
     "height": 35
    },
    "id": "0Y2CI1jdPzWz",
    "outputId": "7de20c4e-215b-40c2-b415-72ad1edead13"
   },
   "outputs": [
    {
     "data": {
      "text/plain": [
       "10936"
      ]
     },
     "execution_count": 56,
     "metadata": {},
     "output_type": "execute_result"
    }
   ],
   "source": [
    "len(y_pred_binary)"
   ]
  },
  {
   "cell_type": "code",
   "execution_count": null,
   "metadata": {},
   "outputs": [],
   "source": []
  },
  {
   "cell_type": "code",
   "execution_count": 57,
   "metadata": {
    "colab": {
     "base_uri": "https://localhost:8080/",
     "height": 35
    },
    "id": "W0EhQiatZWyj",
    "outputId": "67776725-788b-47d7-a3bd-288348bd211c"
   },
   "outputs": [
    {
     "data": {
      "text/plain": [
       "(109355, 93)"
      ]
     },
     "execution_count": 57,
     "metadata": {},
     "output_type": "execute_result"
    }
   ],
   "source": [
    "inputs.shape"
   ]
  },
  {
   "cell_type": "code",
   "execution_count": 58,
   "metadata": {},
   "outputs": [
    {
     "data": {
      "text/plain": [
       "array([[-0.96565418, -1.02510763, -1.00583909, ..., -0.93439145,\n",
       "        -0.44236428, -1.17577208],\n",
       "       [-0.48924106,  0.52100408, -1.00583909, ..., -1.65295975,\n",
       "        -0.75870877,  0.77838022],\n",
       "       [ 0.86051702,  1.64728977,  0.9941948 , ..., -1.14274709,\n",
       "         0.67330256, -1.01421832],\n",
       "       ...,\n",
       "       [ 1.37607763, -1.36785667, -1.00583909, ..., -1.12031787,\n",
       "        -1.07531388,  1.41145663],\n",
       "       [ 1.36296915, -0.09377084, -1.00583909, ..., -1.38882618,\n",
       "        -0.86376892, -0.68659868],\n",
       "       [-0.99631971, -0.45089016, -1.00583909, ..., -1.08667404,\n",
       "        -1.30369417, -1.63973307]])"
      ]
     },
     "execution_count": 58,
     "metadata": {},
     "output_type": "execute_result"
    }
   ],
   "source": [
    "x_test"
   ]
  },
  {
   "cell_type": "code",
   "execution_count": 59,
   "metadata": {},
   "outputs": [
    {
     "data": {
      "text/plain": [
       "<bound method NDFrame.head of              0         1         2         3         4         5         6   \\\n",
       "0     -0.965654 -1.025108 -1.005839 -1.011230  0.996946  0.995347 -0.004105   \n",
       "1     -0.489241  0.521004 -1.005839 -1.011230 -1.003063  0.995347 -0.982235   \n",
       "2      0.860517  1.647290  0.994195  0.988895  0.996946  0.995347  0.974026   \n",
       "3      1.110705  0.164122 -1.005839  0.988895 -1.003063  0.995347 -1.960365   \n",
       "4     -0.661134 -0.887521 -1.005839  0.988895 -1.003063  0.995347  0.974026   \n",
       "...         ...       ...       ...       ...       ...       ...       ...   \n",
       "10931  1.222928 -1.087755  0.994195 -1.011230  0.996946 -1.004675 -1.960365   \n",
       "10932  1.649398 -0.580520  0.994195 -1.011230 -1.003063 -1.004675  0.974026   \n",
       "10933  1.376078 -1.367857 -1.005839 -1.011230 -1.003063  0.995347  0.974026   \n",
       "10934  1.362969 -0.093771 -1.005839 -1.011230  0.996946  0.995347  0.974026   \n",
       "10935 -0.996320 -0.450890 -1.005839 -1.011230 -1.003063  0.995347 -2.938495   \n",
       "\n",
       "             7         8         9   ...        83        84        85  \\\n",
       "0     -0.813551 -0.819341  1.223828  ...  1.039587 -0.618669  1.573290   \n",
       "1     -0.813551  1.220493 -0.817109  ...  0.028826 -1.280170 -1.075525   \n",
       "2     -0.813551 -0.819341  1.223828  ... -0.865972 -1.230602 -0.628716   \n",
       "3     -0.813551 -0.819341  1.223828  ...  0.857653 -0.003696  0.970257   \n",
       "4     -0.813551 -0.819341  1.223828  ...  0.339377  1.373588  0.825121   \n",
       "...         ...       ...       ...  ...       ...       ...       ...   \n",
       "10931 -0.813551  1.220493 -0.817109  ... -1.431749  1.240601 -0.654093   \n",
       "10932  1.229179 -0.819341  1.223828  ...  0.477861 -1.045024  0.344562   \n",
       "10933  1.229179  1.220493 -0.817109  ... -0.839210  0.567891 -1.080057   \n",
       "10934 -0.813551  1.220493 -0.817109  ... -0.908988  1.214694  0.608195   \n",
       "10935 -0.813551  1.220493 -0.817109  ...  0.227551  0.018670 -1.346717   \n",
       "\n",
       "             86        87        88        89        90        91        92  \n",
       "0     -0.751625  0.574260 -0.812199  0.457030 -0.934391 -0.442364 -1.175772  \n",
       "1     -1.333100  1.467707 -0.116571  0.783579 -1.652960 -0.758709  0.778380  \n",
       "2     -1.247133 -0.773614 -0.739336 -0.582640 -1.142747  0.673303 -1.014218  \n",
       "3     -0.961183 -1.439813 -0.961589 -1.494742 -1.171356 -0.572547  0.718046  \n",
       "4     -0.330071  1.448145 -0.626852  0.717853  1.689393  0.621528 -0.142277  \n",
       "...         ...       ...       ...       ...       ...       ...       ...  \n",
       "10931  0.979995  0.956152  1.268962 -1.068961 -0.575142  0.394972 -0.627648  \n",
       "10932  1.722480 -1.290951  1.041817  1.168225 -0.595106 -1.449739 -1.183655  \n",
       "10933  1.182208  0.738373  0.871890 -1.250792 -1.120318 -1.075314  1.411457  \n",
       "10934 -1.454445  0.057511 -0.636809 -0.238159 -1.388826 -0.863769 -0.686599  \n",
       "10935  1.607201  0.643679 -0.382784  1.291700 -1.086674 -1.303694 -1.639733  \n",
       "\n",
       "[10936 rows x 93 columns]>"
      ]
     },
     "execution_count": 59,
     "metadata": {},
     "output_type": "execute_result"
    }
   ],
   "source": [
    "x_p = pd.DataFrame(x_test)\n",
    "#pi = x_p.iloc[:, 27:50]\n",
    "#pi\n",
    "x_p.head"
   ]
  },
  {
   "cell_type": "code",
   "execution_count": 60,
   "metadata": {},
   "outputs": [],
   "source": [
    "#In the next cells, we are going to compute the suboptimality of the DNN solution vs others "
   ]
  },
  {
   "cell_type": "code",
   "execution_count": 61,
   "metadata": {},
   "outputs": [
    {
     "data": {
      "text/html": [
       "<div>\n",
       "<style scoped>\n",
       "    .dataframe tbody tr th:only-of-type {\n",
       "        vertical-align: middle;\n",
       "    }\n",
       "\n",
       "    .dataframe tbody tr th {\n",
       "        vertical-align: top;\n",
       "    }\n",
       "\n",
       "    .dataframe thead th {\n",
       "        text-align: right;\n",
       "    }\n",
       "</style>\n",
       "<table border=\"1\" class=\"dataframe\">\n",
       "  <thead>\n",
       "    <tr style=\"text-align: right;\">\n",
       "      <th></th>\n",
       "      <th>22</th>\n",
       "      <th>23</th>\n",
       "      <th>24</th>\n",
       "      <th>25</th>\n",
       "      <th>26</th>\n",
       "      <th>27</th>\n",
       "      <th>28</th>\n",
       "      <th>29</th>\n",
       "      <th>30</th>\n",
       "      <th>31</th>\n",
       "      <th>32</th>\n",
       "      <th>33</th>\n",
       "      <th>34</th>\n",
       "      <th>35</th>\n",
       "      <th>36</th>\n",
       "    </tr>\n",
       "  </thead>\n",
       "  <tbody>\n",
       "    <tr>\n",
       "      <th>0</th>\n",
       "      <td>1.134502</td>\n",
       "      <td>-0.522965</td>\n",
       "      <td>-0.983313</td>\n",
       "      <td>-1.258300</td>\n",
       "      <td>-0.437126</td>\n",
       "      <td>0.844939</td>\n",
       "      <td>1.378356</td>\n",
       "      <td>-1.558260</td>\n",
       "      <td>0.451588</td>\n",
       "      <td>-0.519617</td>\n",
       "      <td>0.178917</td>\n",
       "      <td>-1.185506</td>\n",
       "      <td>0.449627</td>\n",
       "      <td>0.732987</td>\n",
       "      <td>-0.886427</td>\n",
       "    </tr>\n",
       "    <tr>\n",
       "      <th>1</th>\n",
       "      <td>-0.553784</td>\n",
       "      <td>-1.418371</td>\n",
       "      <td>0.356850</td>\n",
       "      <td>-1.129016</td>\n",
       "      <td>-0.144219</td>\n",
       "      <td>0.169736</td>\n",
       "      <td>-1.514847</td>\n",
       "      <td>0.491402</td>\n",
       "      <td>-1.010697</td>\n",
       "      <td>-0.218277</td>\n",
       "      <td>0.801438</td>\n",
       "      <td>-1.621006</td>\n",
       "      <td>1.391682</td>\n",
       "      <td>-0.171666</td>\n",
       "      <td>1.186963</td>\n",
       "    </tr>\n",
       "    <tr>\n",
       "      <th>2</th>\n",
       "      <td>-1.562913</td>\n",
       "      <td>1.403970</td>\n",
       "      <td>1.458641</td>\n",
       "      <td>1.075123</td>\n",
       "      <td>-0.508314</td>\n",
       "      <td>-0.910650</td>\n",
       "      <td>-0.036498</td>\n",
       "      <td>-0.759228</td>\n",
       "      <td>1.000406</td>\n",
       "      <td>0.003282</td>\n",
       "      <td>0.086906</td>\n",
       "      <td>1.146834</td>\n",
       "      <td>0.347507</td>\n",
       "      <td>0.096030</td>\n",
       "      <td>1.096973</td>\n",
       "    </tr>\n",
       "    <tr>\n",
       "      <th>3</th>\n",
       "      <td>0.118403</td>\n",
       "      <td>0.739906</td>\n",
       "      <td>0.160953</td>\n",
       "      <td>-0.936476</td>\n",
       "      <td>-0.931591</td>\n",
       "      <td>-1.419230</td>\n",
       "      <td>0.947461</td>\n",
       "      <td>-1.416539</td>\n",
       "      <td>-0.640352</td>\n",
       "      <td>1.198304</td>\n",
       "      <td>1.176174</td>\n",
       "      <td>-0.662184</td>\n",
       "      <td>-0.118297</td>\n",
       "      <td>-0.448545</td>\n",
       "      <td>0.195648</td>\n",
       "    </tr>\n",
       "    <tr>\n",
       "      <th>4</th>\n",
       "      <td>-0.948872</td>\n",
       "      <td>-0.454614</td>\n",
       "      <td>1.640059</td>\n",
       "      <td>-0.138713</td>\n",
       "      <td>1.444572</td>\n",
       "      <td>-1.436571</td>\n",
       "      <td>0.881959</td>\n",
       "      <td>-1.282783</td>\n",
       "      <td>0.699357</td>\n",
       "      <td>-1.207635</td>\n",
       "      <td>-0.985199</td>\n",
       "      <td>-1.210762</td>\n",
       "      <td>-0.058659</td>\n",
       "      <td>-1.731875</td>\n",
       "      <td>-0.127169</td>\n",
       "    </tr>\n",
       "    <tr>\n",
       "      <th>...</th>\n",
       "      <td>...</td>\n",
       "      <td>...</td>\n",
       "      <td>...</td>\n",
       "      <td>...</td>\n",
       "      <td>...</td>\n",
       "      <td>...</td>\n",
       "      <td>...</td>\n",
       "      <td>...</td>\n",
       "      <td>...</td>\n",
       "      <td>...</td>\n",
       "      <td>...</td>\n",
       "      <td>...</td>\n",
       "      <td>...</td>\n",
       "      <td>...</td>\n",
       "      <td>...</td>\n",
       "    </tr>\n",
       "    <tr>\n",
       "      <th>10931</th>\n",
       "      <td>-0.789913</td>\n",
       "      <td>-1.096874</td>\n",
       "      <td>1.695859</td>\n",
       "      <td>-1.596216</td>\n",
       "      <td>1.248902</td>\n",
       "      <td>-1.337318</td>\n",
       "      <td>-0.589061</td>\n",
       "      <td>0.046345</td>\n",
       "      <td>-1.219738</td>\n",
       "      <td>-0.384784</td>\n",
       "      <td>-1.552960</td>\n",
       "      <td>-0.503468</td>\n",
       "      <td>-1.583827</td>\n",
       "      <td>1.008983</td>\n",
       "      <td>0.434441</td>\n",
       "    </tr>\n",
       "    <tr>\n",
       "      <th>10932</th>\n",
       "      <td>1.068539</td>\n",
       "      <td>-1.413732</td>\n",
       "      <td>-1.528105</td>\n",
       "      <td>0.077582</td>\n",
       "      <td>0.601634</td>\n",
       "      <td>0.015888</td>\n",
       "      <td>-0.205769</td>\n",
       "      <td>0.150010</td>\n",
       "      <td>-1.060474</td>\n",
       "      <td>1.242053</td>\n",
       "      <td>-1.594790</td>\n",
       "      <td>0.125716</td>\n",
       "      <td>0.612040</td>\n",
       "      <td>0.637415</td>\n",
       "      <td>1.459358</td>\n",
       "    </tr>\n",
       "    <tr>\n",
       "      <th>10933</th>\n",
       "      <td>0.145590</td>\n",
       "      <td>0.304980</td>\n",
       "      <td>-0.551585</td>\n",
       "      <td>-0.376452</td>\n",
       "      <td>-1.272983</td>\n",
       "      <td>0.759766</td>\n",
       "      <td>-1.277604</td>\n",
       "      <td>0.800510</td>\n",
       "      <td>-1.193791</td>\n",
       "      <td>-0.839167</td>\n",
       "      <td>-1.197311</td>\n",
       "      <td>-1.008135</td>\n",
       "      <td>-0.448095</td>\n",
       "      <td>-0.706364</td>\n",
       "      <td>-1.284416</td>\n",
       "    </tr>\n",
       "    <tr>\n",
       "      <th>10934</th>\n",
       "      <td>0.856401</td>\n",
       "      <td>0.965256</td>\n",
       "      <td>-0.534718</td>\n",
       "      <td>0.557949</td>\n",
       "      <td>-0.190894</td>\n",
       "      <td>1.686765</td>\n",
       "      <td>-0.686234</td>\n",
       "      <td>-1.033165</td>\n",
       "      <td>-1.150520</td>\n",
       "      <td>0.365538</td>\n",
       "      <td>0.954788</td>\n",
       "      <td>-1.109890</td>\n",
       "      <td>0.602904</td>\n",
       "      <td>-1.440162</td>\n",
       "      <td>-0.276742</td>\n",
       "    </tr>\n",
       "    <tr>\n",
       "      <th>10935</th>\n",
       "      <td>-0.847867</td>\n",
       "      <td>0.781813</td>\n",
       "      <td>1.402649</td>\n",
       "      <td>-0.830369</td>\n",
       "      <td>1.080246</td>\n",
       "      <td>-0.307691</td>\n",
       "      <td>0.580179</td>\n",
       "      <td>0.387007</td>\n",
       "      <td>-0.190318</td>\n",
       "      <td>0.472402</td>\n",
       "      <td>0.614185</td>\n",
       "      <td>0.800154</td>\n",
       "      <td>-0.457578</td>\n",
       "      <td>-1.338326</td>\n",
       "      <td>-1.460200</td>\n",
       "    </tr>\n",
       "  </tbody>\n",
       "</table>\n",
       "<p>10936 rows × 15 columns</p>\n",
       "</div>"
      ],
      "text/plain": [
       "             22        23        24        25        26        27        28  \\\n",
       "0      1.134502 -0.522965 -0.983313 -1.258300 -0.437126  0.844939  1.378356   \n",
       "1     -0.553784 -1.418371  0.356850 -1.129016 -0.144219  0.169736 -1.514847   \n",
       "2     -1.562913  1.403970  1.458641  1.075123 -0.508314 -0.910650 -0.036498   \n",
       "3      0.118403  0.739906  0.160953 -0.936476 -0.931591 -1.419230  0.947461   \n",
       "4     -0.948872 -0.454614  1.640059 -0.138713  1.444572 -1.436571  0.881959   \n",
       "...         ...       ...       ...       ...       ...       ...       ...   \n",
       "10931 -0.789913 -1.096874  1.695859 -1.596216  1.248902 -1.337318 -0.589061   \n",
       "10932  1.068539 -1.413732 -1.528105  0.077582  0.601634  0.015888 -0.205769   \n",
       "10933  0.145590  0.304980 -0.551585 -0.376452 -1.272983  0.759766 -1.277604   \n",
       "10934  0.856401  0.965256 -0.534718  0.557949 -0.190894  1.686765 -0.686234   \n",
       "10935 -0.847867  0.781813  1.402649 -0.830369  1.080246 -0.307691  0.580179   \n",
       "\n",
       "             29        30        31        32        33        34        35  \\\n",
       "0     -1.558260  0.451588 -0.519617  0.178917 -1.185506  0.449627  0.732987   \n",
       "1      0.491402 -1.010697 -0.218277  0.801438 -1.621006  1.391682 -0.171666   \n",
       "2     -0.759228  1.000406  0.003282  0.086906  1.146834  0.347507  0.096030   \n",
       "3     -1.416539 -0.640352  1.198304  1.176174 -0.662184 -0.118297 -0.448545   \n",
       "4     -1.282783  0.699357 -1.207635 -0.985199 -1.210762 -0.058659 -1.731875   \n",
       "...         ...       ...       ...       ...       ...       ...       ...   \n",
       "10931  0.046345 -1.219738 -0.384784 -1.552960 -0.503468 -1.583827  1.008983   \n",
       "10932  0.150010 -1.060474  1.242053 -1.594790  0.125716  0.612040  0.637415   \n",
       "10933  0.800510 -1.193791 -0.839167 -1.197311 -1.008135 -0.448095 -0.706364   \n",
       "10934 -1.033165 -1.150520  0.365538  0.954788 -1.109890  0.602904 -1.440162   \n",
       "10935  0.387007 -0.190318  0.472402  0.614185  0.800154 -0.457578 -1.338326   \n",
       "\n",
       "             36  \n",
       "0     -0.886427  \n",
       "1      1.186963  \n",
       "2      1.096973  \n",
       "3      0.195648  \n",
       "4     -0.127169  \n",
       "...         ...  \n",
       "10931  0.434441  \n",
       "10932  1.459358  \n",
       "10933 -1.284416  \n",
       "10934 -0.276742  \n",
       "10935 -1.460200  \n",
       "\n",
       "[10936 rows x 15 columns]"
      ]
     },
     "execution_count": 61,
     "metadata": {},
     "output_type": "execute_result"
    }
   ],
   "source": [
    "x_pi = pd.DataFrame(x_test)\n",
    "x_pi = x_pi.iloc[:, 22:37]\n",
    "x_pi #Saving the energy prize"
   ]
  },
  {
   "cell_type": "code",
   "execution_count": 62,
   "metadata": {},
   "outputs": [
    {
     "data": {
      "text/html": [
       "<div>\n",
       "<style scoped>\n",
       "    .dataframe tbody tr th:only-of-type {\n",
       "        vertical-align: middle;\n",
       "    }\n",
       "\n",
       "    .dataframe tbody tr th {\n",
       "        vertical-align: top;\n",
       "    }\n",
       "\n",
       "    .dataframe thead th {\n",
       "        text-align: right;\n",
       "    }\n",
       "</style>\n",
       "<table border=\"1\" class=\"dataframe\">\n",
       "  <thead>\n",
       "    <tr style=\"text-align: right;\">\n",
       "      <th></th>\n",
       "      <th>0</th>\n",
       "      <th>1</th>\n",
       "      <th>2</th>\n",
       "      <th>3</th>\n",
       "      <th>4</th>\n",
       "      <th>5</th>\n",
       "      <th>6</th>\n",
       "      <th>7</th>\n",
       "      <th>8</th>\n",
       "      <th>9</th>\n",
       "      <th>...</th>\n",
       "      <th>50</th>\n",
       "      <th>51</th>\n",
       "      <th>52</th>\n",
       "      <th>53</th>\n",
       "      <th>54</th>\n",
       "      <th>55</th>\n",
       "      <th>56</th>\n",
       "      <th>57</th>\n",
       "      <th>58</th>\n",
       "      <th>59</th>\n",
       "    </tr>\n",
       "  </thead>\n",
       "  <tbody>\n",
       "    <tr>\n",
       "      <th>0</th>\n",
       "      <td>0.000002</td>\n",
       "      <td>0.000222</td>\n",
       "      <td>0.057470</td>\n",
       "      <td>0.315371</td>\n",
       "      <td>0.012452</td>\n",
       "      <td>0.002078</td>\n",
       "      <td>0.003126</td>\n",
       "      <td>0.710022</td>\n",
       "      <td>0.003094</td>\n",
       "      <td>0.081644</td>\n",
       "      <td>...</td>\n",
       "      <td>0.004383</td>\n",
       "      <td>0.003512</td>\n",
       "      <td>0.532717</td>\n",
       "      <td>0.004896</td>\n",
       "      <td>0.077134</td>\n",
       "      <td>0.003138</td>\n",
       "      <td>0.156450</td>\n",
       "      <td>0.004143</td>\n",
       "      <td>0.010735</td>\n",
       "      <td>0.000000e+00</td>\n",
       "    </tr>\n",
       "    <tr>\n",
       "      <th>1</th>\n",
       "      <td>0.000031</td>\n",
       "      <td>0.023909</td>\n",
       "      <td>0.000497</td>\n",
       "      <td>0.030595</td>\n",
       "      <td>0.001421</td>\n",
       "      <td>0.003157</td>\n",
       "      <td>0.728229</td>\n",
       "      <td>0.005510</td>\n",
       "      <td>0.165377</td>\n",
       "      <td>0.013804</td>\n",
       "      <td>...</td>\n",
       "      <td>0.004356</td>\n",
       "      <td>0.497158</td>\n",
       "      <td>0.003953</td>\n",
       "      <td>0.129953</td>\n",
       "      <td>0.012729</td>\n",
       "      <td>0.019169</td>\n",
       "      <td>0.356845</td>\n",
       "      <td>0.007301</td>\n",
       "      <td>0.019898</td>\n",
       "      <td>0.000000e+00</td>\n",
       "    </tr>\n",
       "    <tr>\n",
       "      <th>2</th>\n",
       "      <td>0.999981</td>\n",
       "      <td>0.997327</td>\n",
       "      <td>0.004457</td>\n",
       "      <td>0.002582</td>\n",
       "      <td>0.027694</td>\n",
       "      <td>0.201267</td>\n",
       "      <td>0.002082</td>\n",
       "      <td>0.479323</td>\n",
       "      <td>0.003829</td>\n",
       "      <td>0.133329</td>\n",
       "      <td>...</td>\n",
       "      <td>0.151122</td>\n",
       "      <td>0.002821</td>\n",
       "      <td>0.491243</td>\n",
       "      <td>0.005329</td>\n",
       "      <td>0.141879</td>\n",
       "      <td>0.025798</td>\n",
       "      <td>0.018750</td>\n",
       "      <td>0.085726</td>\n",
       "      <td>0.053610</td>\n",
       "      <td>2.980232e-08</td>\n",
       "    </tr>\n",
       "    <tr>\n",
       "      <th>3</th>\n",
       "      <td>0.000079</td>\n",
       "      <td>0.000103</td>\n",
       "      <td>0.014063</td>\n",
       "      <td>0.069976</td>\n",
       "      <td>0.101670</td>\n",
       "      <td>0.628213</td>\n",
       "      <td>0.003891</td>\n",
       "      <td>0.520639</td>\n",
       "      <td>0.100122</td>\n",
       "      <td>0.006665</td>\n",
       "      <td>...</td>\n",
       "      <td>0.471079</td>\n",
       "      <td>0.002998</td>\n",
       "      <td>0.430309</td>\n",
       "      <td>0.094167</td>\n",
       "      <td>0.008775</td>\n",
       "      <td>0.017177</td>\n",
       "      <td>0.200077</td>\n",
       "      <td>0.021490</td>\n",
       "      <td>0.039375</td>\n",
       "      <td>2.384186e-07</td>\n",
       "    </tr>\n",
       "    <tr>\n",
       "      <th>4</th>\n",
       "      <td>0.000024</td>\n",
       "      <td>0.000116</td>\n",
       "      <td>0.006131</td>\n",
       "      <td>0.029436</td>\n",
       "      <td>0.005924</td>\n",
       "      <td>0.497693</td>\n",
       "      <td>0.004058</td>\n",
       "      <td>0.263266</td>\n",
       "      <td>0.006911</td>\n",
       "      <td>0.131925</td>\n",
       "      <td>...</td>\n",
       "      <td>0.295410</td>\n",
       "      <td>0.006536</td>\n",
       "      <td>0.264561</td>\n",
       "      <td>0.007756</td>\n",
       "      <td>0.120932</td>\n",
       "      <td>0.022574</td>\n",
       "      <td>0.311236</td>\n",
       "      <td>0.008614</td>\n",
       "      <td>0.063559</td>\n",
       "      <td>0.000000e+00</td>\n",
       "    </tr>\n",
       "    <tr>\n",
       "      <th>...</th>\n",
       "      <td>...</td>\n",
       "      <td>...</td>\n",
       "      <td>...</td>\n",
       "      <td>...</td>\n",
       "      <td>...</td>\n",
       "      <td>...</td>\n",
       "      <td>...</td>\n",
       "      <td>...</td>\n",
       "      <td>...</td>\n",
       "      <td>...</td>\n",
       "      <td>...</td>\n",
       "      <td>...</td>\n",
       "      <td>...</td>\n",
       "      <td>...</td>\n",
       "      <td>...</td>\n",
       "      <td>...</td>\n",
       "      <td>...</td>\n",
       "      <td>...</td>\n",
       "      <td>...</td>\n",
       "      <td>...</td>\n",
       "      <td>...</td>\n",
       "    </tr>\n",
       "    <tr>\n",
       "      <th>10931</th>\n",
       "      <td>0.999981</td>\n",
       "      <td>0.008079</td>\n",
       "      <td>0.000216</td>\n",
       "      <td>0.265554</td>\n",
       "      <td>0.002813</td>\n",
       "      <td>0.364017</td>\n",
       "      <td>0.013722</td>\n",
       "      <td>0.002142</td>\n",
       "      <td>0.345215</td>\n",
       "      <td>0.013435</td>\n",
       "      <td>...</td>\n",
       "      <td>0.228673</td>\n",
       "      <td>0.013467</td>\n",
       "      <td>0.002490</td>\n",
       "      <td>0.224471</td>\n",
       "      <td>0.009893</td>\n",
       "      <td>0.276949</td>\n",
       "      <td>0.009410</td>\n",
       "      <td>0.214759</td>\n",
       "      <td>0.006021</td>\n",
       "      <td>2.980232e-08</td>\n",
       "    </tr>\n",
       "    <tr>\n",
       "      <th>10932</th>\n",
       "      <td>1.000000</td>\n",
       "      <td>0.999998</td>\n",
       "      <td>0.926737</td>\n",
       "      <td>0.296979</td>\n",
       "      <td>0.004810</td>\n",
       "      <td>0.041484</td>\n",
       "      <td>0.027052</td>\n",
       "      <td>0.002514</td>\n",
       "      <td>0.279697</td>\n",
       "      <td>0.001344</td>\n",
       "      <td>...</td>\n",
       "      <td>0.175216</td>\n",
       "      <td>0.066129</td>\n",
       "      <td>0.003075</td>\n",
       "      <td>0.262639</td>\n",
       "      <td>0.001388</td>\n",
       "      <td>0.134558</td>\n",
       "      <td>0.007520</td>\n",
       "      <td>0.007952</td>\n",
       "      <td>0.003099</td>\n",
       "      <td>0.000000e+00</td>\n",
       "    </tr>\n",
       "    <tr>\n",
       "      <th>10933</th>\n",
       "      <td>0.000000</td>\n",
       "      <td>0.000108</td>\n",
       "      <td>0.000069</td>\n",
       "      <td>0.008827</td>\n",
       "      <td>0.237267</td>\n",
       "      <td>0.000423</td>\n",
       "      <td>0.177720</td>\n",
       "      <td>0.003128</td>\n",
       "      <td>0.321021</td>\n",
       "      <td>0.018420</td>\n",
       "      <td>...</td>\n",
       "      <td>0.000357</td>\n",
       "      <td>0.139544</td>\n",
       "      <td>0.005119</td>\n",
       "      <td>0.309244</td>\n",
       "      <td>0.026661</td>\n",
       "      <td>0.250887</td>\n",
       "      <td>0.101418</td>\n",
       "      <td>0.052593</td>\n",
       "      <td>0.084526</td>\n",
       "      <td>1.192093e-07</td>\n",
       "    </tr>\n",
       "    <tr>\n",
       "      <th>10934</th>\n",
       "      <td>0.000000</td>\n",
       "      <td>0.000194</td>\n",
       "      <td>0.000722</td>\n",
       "      <td>0.001677</td>\n",
       "      <td>0.051702</td>\n",
       "      <td>0.000848</td>\n",
       "      <td>0.104080</td>\n",
       "      <td>0.149464</td>\n",
       "      <td>0.337848</td>\n",
       "      <td>0.010403</td>\n",
       "      <td>...</td>\n",
       "      <td>0.000843</td>\n",
       "      <td>0.065971</td>\n",
       "      <td>0.139101</td>\n",
       "      <td>0.321316</td>\n",
       "      <td>0.019733</td>\n",
       "      <td>0.011367</td>\n",
       "      <td>0.219254</td>\n",
       "      <td>0.014209</td>\n",
       "      <td>0.221130</td>\n",
       "      <td>1.490116e-07</td>\n",
       "    </tr>\n",
       "    <tr>\n",
       "      <th>10935</th>\n",
       "      <td>0.000407</td>\n",
       "      <td>0.002485</td>\n",
       "      <td>0.022875</td>\n",
       "      <td>0.533920</td>\n",
       "      <td>0.002444</td>\n",
       "      <td>0.175361</td>\n",
       "      <td>0.007086</td>\n",
       "      <td>0.007545</td>\n",
       "      <td>0.290530</td>\n",
       "      <td>0.020069</td>\n",
       "      <td>...</td>\n",
       "      <td>0.271446</td>\n",
       "      <td>0.008813</td>\n",
       "      <td>0.007589</td>\n",
       "      <td>0.284031</td>\n",
       "      <td>0.027463</td>\n",
       "      <td>0.017497</td>\n",
       "      <td>0.007664</td>\n",
       "      <td>0.135640</td>\n",
       "      <td>0.152109</td>\n",
       "      <td>8.940697e-08</td>\n",
       "    </tr>\n",
       "  </tbody>\n",
       "</table>\n",
       "<p>10936 rows × 60 columns</p>\n",
       "</div>"
      ],
      "text/plain": [
       "             0         1         2         3         4         5         6   \\\n",
       "0      0.000002  0.000222  0.057470  0.315371  0.012452  0.002078  0.003126   \n",
       "1      0.000031  0.023909  0.000497  0.030595  0.001421  0.003157  0.728229   \n",
       "2      0.999981  0.997327  0.004457  0.002582  0.027694  0.201267  0.002082   \n",
       "3      0.000079  0.000103  0.014063  0.069976  0.101670  0.628213  0.003891   \n",
       "4      0.000024  0.000116  0.006131  0.029436  0.005924  0.497693  0.004058   \n",
       "...         ...       ...       ...       ...       ...       ...       ...   \n",
       "10931  0.999981  0.008079  0.000216  0.265554  0.002813  0.364017  0.013722   \n",
       "10932  1.000000  0.999998  0.926737  0.296979  0.004810  0.041484  0.027052   \n",
       "10933  0.000000  0.000108  0.000069  0.008827  0.237267  0.000423  0.177720   \n",
       "10934  0.000000  0.000194  0.000722  0.001677  0.051702  0.000848  0.104080   \n",
       "10935  0.000407  0.002485  0.022875  0.533920  0.002444  0.175361  0.007086   \n",
       "\n",
       "             7         8         9   ...        50        51        52  \\\n",
       "0      0.710022  0.003094  0.081644  ...  0.004383  0.003512  0.532717   \n",
       "1      0.005510  0.165377  0.013804  ...  0.004356  0.497158  0.003953   \n",
       "2      0.479323  0.003829  0.133329  ...  0.151122  0.002821  0.491243   \n",
       "3      0.520639  0.100122  0.006665  ...  0.471079  0.002998  0.430309   \n",
       "4      0.263266  0.006911  0.131925  ...  0.295410  0.006536  0.264561   \n",
       "...         ...       ...       ...  ...       ...       ...       ...   \n",
       "10931  0.002142  0.345215  0.013435  ...  0.228673  0.013467  0.002490   \n",
       "10932  0.002514  0.279697  0.001344  ...  0.175216  0.066129  0.003075   \n",
       "10933  0.003128  0.321021  0.018420  ...  0.000357  0.139544  0.005119   \n",
       "10934  0.149464  0.337848  0.010403  ...  0.000843  0.065971  0.139101   \n",
       "10935  0.007545  0.290530  0.020069  ...  0.271446  0.008813  0.007589   \n",
       "\n",
       "             53        54        55        56        57        58  \\\n",
       "0      0.004896  0.077134  0.003138  0.156450  0.004143  0.010735   \n",
       "1      0.129953  0.012729  0.019169  0.356845  0.007301  0.019898   \n",
       "2      0.005329  0.141879  0.025798  0.018750  0.085726  0.053610   \n",
       "3      0.094167  0.008775  0.017177  0.200077  0.021490  0.039375   \n",
       "4      0.007756  0.120932  0.022574  0.311236  0.008614  0.063559   \n",
       "...         ...       ...       ...       ...       ...       ...   \n",
       "10931  0.224471  0.009893  0.276949  0.009410  0.214759  0.006021   \n",
       "10932  0.262639  0.001388  0.134558  0.007520  0.007952  0.003099   \n",
       "10933  0.309244  0.026661  0.250887  0.101418  0.052593  0.084526   \n",
       "10934  0.321316  0.019733  0.011367  0.219254  0.014209  0.221130   \n",
       "10935  0.284031  0.027463  0.017497  0.007664  0.135640  0.152109   \n",
       "\n",
       "                 59  \n",
       "0      0.000000e+00  \n",
       "1      0.000000e+00  \n",
       "2      2.980232e-08  \n",
       "3      2.384186e-07  \n",
       "4      0.000000e+00  \n",
       "...             ...  \n",
       "10931  2.980232e-08  \n",
       "10932  0.000000e+00  \n",
       "10933  1.192093e-07  \n",
       "10934  1.490116e-07  \n",
       "10935  8.940697e-08  \n",
       "\n",
       "[10936 rows x 60 columns]"
      ]
     },
     "execution_count": 62,
     "metadata": {},
     "output_type": "execute_result"
    }
   ],
   "source": [
    "#saving the test and predicted switching\n",
    "y_test= pd.DataFrame(y_test)\n",
    "y_train= pd.DataFrame(y_train)\n",
    "y_pred= pd.DataFrame(y_pred)\n",
    "y_pred\n"
   ]
  },
  {
   "cell_type": "code",
   "execution_count": 63,
   "metadata": {
    "id": "ZQpsT-B6aMra"
   },
   "outputs": [
    {
     "data": {
      "text/plain": [
       "'\\nx_p = pd.DataFrame(inputs.values)            #Energy price of inputs\\nx_p = x_p.iloc[65544:81881, 18:50]            # Saving the Energy price\\nx_p.index = range(len(x_p))\\nx_p.columns = range(x_p.shape[1])\\n\\n\\ny_test= pd.DataFrame(y_test)\\ny_test = y_test.iloc[0:16377, 0:14]\\ny_test.index = range(len(y_test))\\ny_test.columns = range(y_test.shape[1])\\n\\ny_pred= pd.DataFrame(y_pred_binary)\\ny_pred = y_pred.iloc[0:16377, 0:14]\\ny_pred.index = range(len(y_pred))\\ny_pred.columns = range(y_pred.shape[1])\\n'"
      ]
     },
     "execution_count": 63,
     "metadata": {},
     "output_type": "execute_result"
    }
   ],
   "source": [
    "'''\n",
    "x_p = pd.DataFrame(inputs.values)            #Energy price of inputs\n",
    "x_p = x_p.iloc[65544:81881, 18:50]            # Saving the Energy price\n",
    "x_p.index = range(len(x_p))\n",
    "x_p.columns = range(x_p.shape[1])\n",
    "\n",
    "\n",
    "y_test= pd.DataFrame(y_test)\n",
    "y_test = y_test.iloc[0:16377, 0:14]\n",
    "y_test.index = range(len(y_test))\n",
    "y_test.columns = range(y_test.shape[1])\n",
    "\n",
    "y_pred= pd.DataFrame(y_pred_binary)\n",
    "y_pred = y_pred.iloc[0:16377, 0:14]\n",
    "y_pred.index = range(len(y_pred))\n",
    "y_pred.columns = range(y_pred.shape[1])\n",
    "'''\n",
    "#testing = pd.concat([x_pi, y_test, y_pred], axis=1)\n",
    "#testing.to_excel('testing.xlsx', index = False)"
   ]
  },
  {
   "cell_type": "code",
   "execution_count": 64,
   "metadata": {
    "id": "cmavpKE-GMCX"
   },
   "outputs": [],
   "source": [
    "concat_x_pi =  pd.concat([x_pi, x_pi, x_pi, x_pi], ignore_index=True, axis=1)\n",
    "concat_x_pi= pd.DataFrame(concat_x_pi)\n",
    "#concat_x_pi.index = new_index\n",
    "concat_x_pi = concat_x_pi.T\n"
   ]
  },
  {
   "cell_type": "code",
   "execution_count": 65,
   "metadata": {},
   "outputs": [
    {
     "data": {
      "text/plain": [
       "(60, 10936)"
      ]
     },
     "execution_count": 65,
     "metadata": {},
     "output_type": "execute_result"
    }
   ],
   "source": [
    "concat_x_pi = abs(concat_x_pi)\n",
    "concat_x_pi.shape"
   ]
  },
  {
   "cell_type": "code",
   "execution_count": 66,
   "metadata": {
    "colab": {
     "base_uri": "https://localhost:8080/",
     "height": 35
    },
    "id": "kyDfSEAnHTYC",
    "outputId": "a6daab74-55ac-445e-8835-2a1869120f5f"
   },
   "outputs": [
    {
     "data": {
      "text/plain": [
       "(10936, 60)"
      ]
     },
     "execution_count": 66,
     "metadata": {},
     "output_type": "execute_result"
    }
   ],
   "source": [
    "y_pred.shape\n"
   ]
  },
  {
   "cell_type": "code",
   "execution_count": 67,
   "metadata": {},
   "outputs": [],
   "source": [
    "y_pred = y_pred"
   ]
  },
  {
   "cell_type": "code",
   "execution_count": 68,
   "metadata": {},
   "outputs": [
    {
     "data": {
      "text/html": [
       "<div>\n",
       "<style scoped>\n",
       "    .dataframe tbody tr th:only-of-type {\n",
       "        vertical-align: middle;\n",
       "    }\n",
       "\n",
       "    .dataframe tbody tr th {\n",
       "        vertical-align: top;\n",
       "    }\n",
       "\n",
       "    .dataframe thead th {\n",
       "        text-align: right;\n",
       "    }\n",
       "</style>\n",
       "<table border=\"1\" class=\"dataframe\">\n",
       "  <thead>\n",
       "    <tr style=\"text-align: right;\">\n",
       "      <th></th>\n",
       "      <th>0</th>\n",
       "      <th>1</th>\n",
       "      <th>2</th>\n",
       "      <th>3</th>\n",
       "      <th>4</th>\n",
       "      <th>5</th>\n",
       "      <th>6</th>\n",
       "      <th>7</th>\n",
       "      <th>8</th>\n",
       "      <th>9</th>\n",
       "      <th>...</th>\n",
       "      <th>50</th>\n",
       "      <th>51</th>\n",
       "      <th>52</th>\n",
       "      <th>53</th>\n",
       "      <th>54</th>\n",
       "      <th>55</th>\n",
       "      <th>56</th>\n",
       "      <th>57</th>\n",
       "      <th>58</th>\n",
       "      <th>59</th>\n",
       "    </tr>\n",
       "  </thead>\n",
       "  <tbody>\n",
       "    <tr>\n",
       "      <th>0</th>\n",
       "      <td>0.000002</td>\n",
       "      <td>0.000222</td>\n",
       "      <td>0.057470</td>\n",
       "      <td>0.315371</td>\n",
       "      <td>0.012452</td>\n",
       "      <td>0.002078</td>\n",
       "      <td>0.003126</td>\n",
       "      <td>0.710022</td>\n",
       "      <td>0.003094</td>\n",
       "      <td>0.081644</td>\n",
       "      <td>...</td>\n",
       "      <td>0.004383</td>\n",
       "      <td>0.003512</td>\n",
       "      <td>0.532717</td>\n",
       "      <td>0.004896</td>\n",
       "      <td>0.077134</td>\n",
       "      <td>0.003138</td>\n",
       "      <td>0.156450</td>\n",
       "      <td>0.004143</td>\n",
       "      <td>0.010735</td>\n",
       "      <td>0.000000e+00</td>\n",
       "    </tr>\n",
       "    <tr>\n",
       "      <th>1</th>\n",
       "      <td>0.000031</td>\n",
       "      <td>0.023909</td>\n",
       "      <td>0.000497</td>\n",
       "      <td>0.030595</td>\n",
       "      <td>0.001421</td>\n",
       "      <td>0.003157</td>\n",
       "      <td>0.728229</td>\n",
       "      <td>0.005510</td>\n",
       "      <td>0.165377</td>\n",
       "      <td>0.013804</td>\n",
       "      <td>...</td>\n",
       "      <td>0.004356</td>\n",
       "      <td>0.497158</td>\n",
       "      <td>0.003953</td>\n",
       "      <td>0.129953</td>\n",
       "      <td>0.012729</td>\n",
       "      <td>0.019169</td>\n",
       "      <td>0.356845</td>\n",
       "      <td>0.007301</td>\n",
       "      <td>0.019898</td>\n",
       "      <td>0.000000e+00</td>\n",
       "    </tr>\n",
       "    <tr>\n",
       "      <th>2</th>\n",
       "      <td>0.999981</td>\n",
       "      <td>0.997327</td>\n",
       "      <td>0.004457</td>\n",
       "      <td>0.002582</td>\n",
       "      <td>0.027694</td>\n",
       "      <td>0.201267</td>\n",
       "      <td>0.002082</td>\n",
       "      <td>0.479323</td>\n",
       "      <td>0.003829</td>\n",
       "      <td>0.133329</td>\n",
       "      <td>...</td>\n",
       "      <td>0.151122</td>\n",
       "      <td>0.002821</td>\n",
       "      <td>0.491243</td>\n",
       "      <td>0.005329</td>\n",
       "      <td>0.141879</td>\n",
       "      <td>0.025798</td>\n",
       "      <td>0.018750</td>\n",
       "      <td>0.085726</td>\n",
       "      <td>0.053610</td>\n",
       "      <td>2.980232e-08</td>\n",
       "    </tr>\n",
       "    <tr>\n",
       "      <th>3</th>\n",
       "      <td>0.000079</td>\n",
       "      <td>0.000103</td>\n",
       "      <td>0.014063</td>\n",
       "      <td>0.069976</td>\n",
       "      <td>0.101670</td>\n",
       "      <td>0.628213</td>\n",
       "      <td>0.003891</td>\n",
       "      <td>0.520639</td>\n",
       "      <td>0.100122</td>\n",
       "      <td>0.006665</td>\n",
       "      <td>...</td>\n",
       "      <td>0.471079</td>\n",
       "      <td>0.002998</td>\n",
       "      <td>0.430309</td>\n",
       "      <td>0.094167</td>\n",
       "      <td>0.008775</td>\n",
       "      <td>0.017177</td>\n",
       "      <td>0.200077</td>\n",
       "      <td>0.021490</td>\n",
       "      <td>0.039375</td>\n",
       "      <td>2.384186e-07</td>\n",
       "    </tr>\n",
       "    <tr>\n",
       "      <th>4</th>\n",
       "      <td>0.000024</td>\n",
       "      <td>0.000116</td>\n",
       "      <td>0.006131</td>\n",
       "      <td>0.029436</td>\n",
       "      <td>0.005924</td>\n",
       "      <td>0.497693</td>\n",
       "      <td>0.004058</td>\n",
       "      <td>0.263266</td>\n",
       "      <td>0.006911</td>\n",
       "      <td>0.131925</td>\n",
       "      <td>...</td>\n",
       "      <td>0.295410</td>\n",
       "      <td>0.006536</td>\n",
       "      <td>0.264561</td>\n",
       "      <td>0.007756</td>\n",
       "      <td>0.120932</td>\n",
       "      <td>0.022574</td>\n",
       "      <td>0.311236</td>\n",
       "      <td>0.008614</td>\n",
       "      <td>0.063559</td>\n",
       "      <td>0.000000e+00</td>\n",
       "    </tr>\n",
       "    <tr>\n",
       "      <th>...</th>\n",
       "      <td>...</td>\n",
       "      <td>...</td>\n",
       "      <td>...</td>\n",
       "      <td>...</td>\n",
       "      <td>...</td>\n",
       "      <td>...</td>\n",
       "      <td>...</td>\n",
       "      <td>...</td>\n",
       "      <td>...</td>\n",
       "      <td>...</td>\n",
       "      <td>...</td>\n",
       "      <td>...</td>\n",
       "      <td>...</td>\n",
       "      <td>...</td>\n",
       "      <td>...</td>\n",
       "      <td>...</td>\n",
       "      <td>...</td>\n",
       "      <td>...</td>\n",
       "      <td>...</td>\n",
       "      <td>...</td>\n",
       "      <td>...</td>\n",
       "    </tr>\n",
       "    <tr>\n",
       "      <th>10931</th>\n",
       "      <td>0.999981</td>\n",
       "      <td>0.008079</td>\n",
       "      <td>0.000216</td>\n",
       "      <td>0.265554</td>\n",
       "      <td>0.002813</td>\n",
       "      <td>0.364017</td>\n",
       "      <td>0.013722</td>\n",
       "      <td>0.002142</td>\n",
       "      <td>0.345215</td>\n",
       "      <td>0.013435</td>\n",
       "      <td>...</td>\n",
       "      <td>0.228673</td>\n",
       "      <td>0.013467</td>\n",
       "      <td>0.002490</td>\n",
       "      <td>0.224471</td>\n",
       "      <td>0.009893</td>\n",
       "      <td>0.276949</td>\n",
       "      <td>0.009410</td>\n",
       "      <td>0.214759</td>\n",
       "      <td>0.006021</td>\n",
       "      <td>2.980232e-08</td>\n",
       "    </tr>\n",
       "    <tr>\n",
       "      <th>10932</th>\n",
       "      <td>1.000000</td>\n",
       "      <td>0.999998</td>\n",
       "      <td>0.926737</td>\n",
       "      <td>0.296979</td>\n",
       "      <td>0.004810</td>\n",
       "      <td>0.041484</td>\n",
       "      <td>0.027052</td>\n",
       "      <td>0.002514</td>\n",
       "      <td>0.279697</td>\n",
       "      <td>0.001344</td>\n",
       "      <td>...</td>\n",
       "      <td>0.175216</td>\n",
       "      <td>0.066129</td>\n",
       "      <td>0.003075</td>\n",
       "      <td>0.262639</td>\n",
       "      <td>0.001388</td>\n",
       "      <td>0.134558</td>\n",
       "      <td>0.007520</td>\n",
       "      <td>0.007952</td>\n",
       "      <td>0.003099</td>\n",
       "      <td>0.000000e+00</td>\n",
       "    </tr>\n",
       "    <tr>\n",
       "      <th>10933</th>\n",
       "      <td>0.000000</td>\n",
       "      <td>0.000108</td>\n",
       "      <td>0.000069</td>\n",
       "      <td>0.008827</td>\n",
       "      <td>0.237267</td>\n",
       "      <td>0.000423</td>\n",
       "      <td>0.177720</td>\n",
       "      <td>0.003128</td>\n",
       "      <td>0.321021</td>\n",
       "      <td>0.018420</td>\n",
       "      <td>...</td>\n",
       "      <td>0.000357</td>\n",
       "      <td>0.139544</td>\n",
       "      <td>0.005119</td>\n",
       "      <td>0.309244</td>\n",
       "      <td>0.026661</td>\n",
       "      <td>0.250887</td>\n",
       "      <td>0.101418</td>\n",
       "      <td>0.052593</td>\n",
       "      <td>0.084526</td>\n",
       "      <td>1.192093e-07</td>\n",
       "    </tr>\n",
       "    <tr>\n",
       "      <th>10934</th>\n",
       "      <td>0.000000</td>\n",
       "      <td>0.000194</td>\n",
       "      <td>0.000722</td>\n",
       "      <td>0.001677</td>\n",
       "      <td>0.051702</td>\n",
       "      <td>0.000848</td>\n",
       "      <td>0.104080</td>\n",
       "      <td>0.149464</td>\n",
       "      <td>0.337848</td>\n",
       "      <td>0.010403</td>\n",
       "      <td>...</td>\n",
       "      <td>0.000843</td>\n",
       "      <td>0.065971</td>\n",
       "      <td>0.139101</td>\n",
       "      <td>0.321316</td>\n",
       "      <td>0.019733</td>\n",
       "      <td>0.011367</td>\n",
       "      <td>0.219254</td>\n",
       "      <td>0.014209</td>\n",
       "      <td>0.221130</td>\n",
       "      <td>1.490116e-07</td>\n",
       "    </tr>\n",
       "    <tr>\n",
       "      <th>10935</th>\n",
       "      <td>0.000407</td>\n",
       "      <td>0.002485</td>\n",
       "      <td>0.022875</td>\n",
       "      <td>0.533920</td>\n",
       "      <td>0.002444</td>\n",
       "      <td>0.175361</td>\n",
       "      <td>0.007086</td>\n",
       "      <td>0.007545</td>\n",
       "      <td>0.290530</td>\n",
       "      <td>0.020069</td>\n",
       "      <td>...</td>\n",
       "      <td>0.271446</td>\n",
       "      <td>0.008813</td>\n",
       "      <td>0.007589</td>\n",
       "      <td>0.284031</td>\n",
       "      <td>0.027463</td>\n",
       "      <td>0.017497</td>\n",
       "      <td>0.007664</td>\n",
       "      <td>0.135640</td>\n",
       "      <td>0.152109</td>\n",
       "      <td>8.940697e-08</td>\n",
       "    </tr>\n",
       "  </tbody>\n",
       "</table>\n",
       "<p>10936 rows × 60 columns</p>\n",
       "</div>"
      ],
      "text/plain": [
       "             0         1         2         3         4         5         6   \\\n",
       "0      0.000002  0.000222  0.057470  0.315371  0.012452  0.002078  0.003126   \n",
       "1      0.000031  0.023909  0.000497  0.030595  0.001421  0.003157  0.728229   \n",
       "2      0.999981  0.997327  0.004457  0.002582  0.027694  0.201267  0.002082   \n",
       "3      0.000079  0.000103  0.014063  0.069976  0.101670  0.628213  0.003891   \n",
       "4      0.000024  0.000116  0.006131  0.029436  0.005924  0.497693  0.004058   \n",
       "...         ...       ...       ...       ...       ...       ...       ...   \n",
       "10931  0.999981  0.008079  0.000216  0.265554  0.002813  0.364017  0.013722   \n",
       "10932  1.000000  0.999998  0.926737  0.296979  0.004810  0.041484  0.027052   \n",
       "10933  0.000000  0.000108  0.000069  0.008827  0.237267  0.000423  0.177720   \n",
       "10934  0.000000  0.000194  0.000722  0.001677  0.051702  0.000848  0.104080   \n",
       "10935  0.000407  0.002485  0.022875  0.533920  0.002444  0.175361  0.007086   \n",
       "\n",
       "             7         8         9   ...        50        51        52  \\\n",
       "0      0.710022  0.003094  0.081644  ...  0.004383  0.003512  0.532717   \n",
       "1      0.005510  0.165377  0.013804  ...  0.004356  0.497158  0.003953   \n",
       "2      0.479323  0.003829  0.133329  ...  0.151122  0.002821  0.491243   \n",
       "3      0.520639  0.100122  0.006665  ...  0.471079  0.002998  0.430309   \n",
       "4      0.263266  0.006911  0.131925  ...  0.295410  0.006536  0.264561   \n",
       "...         ...       ...       ...  ...       ...       ...       ...   \n",
       "10931  0.002142  0.345215  0.013435  ...  0.228673  0.013467  0.002490   \n",
       "10932  0.002514  0.279697  0.001344  ...  0.175216  0.066129  0.003075   \n",
       "10933  0.003128  0.321021  0.018420  ...  0.000357  0.139544  0.005119   \n",
       "10934  0.149464  0.337848  0.010403  ...  0.000843  0.065971  0.139101   \n",
       "10935  0.007545  0.290530  0.020069  ...  0.271446  0.008813  0.007589   \n",
       "\n",
       "             53        54        55        56        57        58  \\\n",
       "0      0.004896  0.077134  0.003138  0.156450  0.004143  0.010735   \n",
       "1      0.129953  0.012729  0.019169  0.356845  0.007301  0.019898   \n",
       "2      0.005329  0.141879  0.025798  0.018750  0.085726  0.053610   \n",
       "3      0.094167  0.008775  0.017177  0.200077  0.021490  0.039375   \n",
       "4      0.007756  0.120932  0.022574  0.311236  0.008614  0.063559   \n",
       "...         ...       ...       ...       ...       ...       ...   \n",
       "10931  0.224471  0.009893  0.276949  0.009410  0.214759  0.006021   \n",
       "10932  0.262639  0.001388  0.134558  0.007520  0.007952  0.003099   \n",
       "10933  0.309244  0.026661  0.250887  0.101418  0.052593  0.084526   \n",
       "10934  0.321316  0.019733  0.011367  0.219254  0.014209  0.221130   \n",
       "10935  0.284031  0.027463  0.017497  0.007664  0.135640  0.152109   \n",
       "\n",
       "                 59  \n",
       "0      0.000000e+00  \n",
       "1      0.000000e+00  \n",
       "2      2.980232e-08  \n",
       "3      2.384186e-07  \n",
       "4      0.000000e+00  \n",
       "...             ...  \n",
       "10931  2.980232e-08  \n",
       "10932  0.000000e+00  \n",
       "10933  1.192093e-07  \n",
       "10934  1.490116e-07  \n",
       "10935  8.940697e-08  \n",
       "\n",
       "[10936 rows x 60 columns]"
      ]
     },
     "execution_count": 68,
     "metadata": {},
     "output_type": "execute_result"
    }
   ],
   "source": [
    "y_pred"
   ]
  },
  {
   "cell_type": "code",
   "execution_count": 69,
   "metadata": {
    "colab": {
     "base_uri": "https://localhost:8080/",
     "height": 427
    },
    "id": "8M0aZBT7HFzP",
    "outputId": "2ae09b1c-2193-41da-e402-43a5475e2eeb"
   },
   "outputs": [
    {
     "data": {
      "text/plain": [
       "(10936, 10936)"
      ]
     },
     "execution_count": 69,
     "metadata": {},
     "output_type": "execute_result"
    }
   ],
   "source": [
    "result_predict = y_pred.dot(concat_x_pi);\n",
    "result_predict.shape"
   ]
  },
  {
   "cell_type": "code",
   "execution_count": 70,
   "metadata": {},
   "outputs": [
    {
     "data": {
      "text/plain": [
       "(10936, 10936)"
      ]
     },
     "execution_count": 70,
     "metadata": {},
     "output_type": "execute_result"
    }
   ],
   "source": [
    "result_test = y_test.dot(concat_x_pi);\n",
    "result_test.shape"
   ]
  },
  {
   "cell_type": "code",
   "execution_count": 71,
   "metadata": {
    "id": "2_iywgm_0Ivw"
   },
   "outputs": [],
   "source": [
    "sub = abs(result_test - result_predict)\n"
   ]
  },
  {
   "cell_type": "code",
   "execution_count": 72,
   "metadata": {},
   "outputs": [
    {
     "data": {
      "text/html": [
       "<div>\n",
       "<style scoped>\n",
       "    .dataframe tbody tr th:only-of-type {\n",
       "        vertical-align: middle;\n",
       "    }\n",
       "\n",
       "    .dataframe tbody tr th {\n",
       "        vertical-align: top;\n",
       "    }\n",
       "\n",
       "    .dataframe thead th {\n",
       "        text-align: right;\n",
       "    }\n",
       "</style>\n",
       "<table border=\"1\" class=\"dataframe\">\n",
       "  <thead>\n",
       "    <tr style=\"text-align: right;\">\n",
       "      <th></th>\n",
       "      <th>0</th>\n",
       "      <th>1</th>\n",
       "      <th>2</th>\n",
       "      <th>3</th>\n",
       "      <th>4</th>\n",
       "      <th>5</th>\n",
       "      <th>6</th>\n",
       "      <th>7</th>\n",
       "      <th>8</th>\n",
       "      <th>9</th>\n",
       "      <th>...</th>\n",
       "      <th>10926</th>\n",
       "      <th>10927</th>\n",
       "      <th>10928</th>\n",
       "      <th>10929</th>\n",
       "      <th>10930</th>\n",
       "      <th>10931</th>\n",
       "      <th>10932</th>\n",
       "      <th>10933</th>\n",
       "      <th>10934</th>\n",
       "      <th>10935</th>\n",
       "    </tr>\n",
       "  </thead>\n",
       "  <tbody>\n",
       "    <tr>\n",
       "      <th>0</th>\n",
       "      <td>0.214316</td>\n",
       "      <td>0.982906</td>\n",
       "      <td>0.619909</td>\n",
       "      <td>0.001103</td>\n",
       "      <td>0.771393</td>\n",
       "      <td>0.115259</td>\n",
       "      <td>1.027142</td>\n",
       "      <td>0.183209</td>\n",
       "      <td>1.064853</td>\n",
       "      <td>0.931248</td>\n",
       "      <td>...</td>\n",
       "      <td>0.424529</td>\n",
       "      <td>0.673685</td>\n",
       "      <td>0.499812</td>\n",
       "      <td>0.568876</td>\n",
       "      <td>0.241926</td>\n",
       "      <td>0.875663</td>\n",
       "      <td>0.666323</td>\n",
       "      <td>0.622696</td>\n",
       "      <td>0.409677</td>\n",
       "      <td>0.786011</td>\n",
       "    </tr>\n",
       "    <tr>\n",
       "      <th>1</th>\n",
       "      <td>2.085269</td>\n",
       "      <td>2.105097</td>\n",
       "      <td>0.337220</td>\n",
       "      <td>1.049502</td>\n",
       "      <td>1.224579</td>\n",
       "      <td>0.109313</td>\n",
       "      <td>2.116175</td>\n",
       "      <td>1.646097</td>\n",
       "      <td>0.210597</td>\n",
       "      <td>0.499928</td>\n",
       "      <td>...</td>\n",
       "      <td>1.232846</td>\n",
       "      <td>0.911575</td>\n",
       "      <td>1.070671</td>\n",
       "      <td>0.969148</td>\n",
       "      <td>1.103703</td>\n",
       "      <td>0.019870</td>\n",
       "      <td>0.530126</td>\n",
       "      <td>1.596432</td>\n",
       "      <td>0.586449</td>\n",
       "      <td>0.772054</td>\n",
       "    </tr>\n",
       "    <tr>\n",
       "      <th>2</th>\n",
       "      <td>1.050093</td>\n",
       "      <td>0.356019</td>\n",
       "      <td>1.199070</td>\n",
       "      <td>2.527440</td>\n",
       "      <td>3.722457</td>\n",
       "      <td>3.998872</td>\n",
       "      <td>3.831057</td>\n",
       "      <td>0.507838</td>\n",
       "      <td>2.842409</td>\n",
       "      <td>3.171897</td>\n",
       "      <td>...</td>\n",
       "      <td>1.622198</td>\n",
       "      <td>0.165845</td>\n",
       "      <td>4.076856</td>\n",
       "      <td>2.682064</td>\n",
       "      <td>1.675597</td>\n",
       "      <td>3.273687</td>\n",
       "      <td>0.662266</td>\n",
       "      <td>1.538238</td>\n",
       "      <td>3.844001</td>\n",
       "      <td>1.370376</td>\n",
       "    </tr>\n",
       "    <tr>\n",
       "      <th>3</th>\n",
       "      <td>0.410150</td>\n",
       "      <td>0.724460</td>\n",
       "      <td>0.118943</td>\n",
       "      <td>0.744067</td>\n",
       "      <td>1.609093</td>\n",
       "      <td>1.178056</td>\n",
       "      <td>1.345359</td>\n",
       "      <td>0.487623</td>\n",
       "      <td>0.639606</td>\n",
       "      <td>0.893908</td>\n",
       "      <td>...</td>\n",
       "      <td>0.026878</td>\n",
       "      <td>0.199118</td>\n",
       "      <td>0.871028</td>\n",
       "      <td>0.683603</td>\n",
       "      <td>0.086537</td>\n",
       "      <td>1.034671</td>\n",
       "      <td>0.697047</td>\n",
       "      <td>0.924643</td>\n",
       "      <td>1.356375</td>\n",
       "      <td>0.024381</td>\n",
       "    </tr>\n",
       "    <tr>\n",
       "      <th>4</th>\n",
       "      <td>0.172383</td>\n",
       "      <td>0.637052</td>\n",
       "      <td>0.656786</td>\n",
       "      <td>0.838583</td>\n",
       "      <td>0.353771</td>\n",
       "      <td>1.120711</td>\n",
       "      <td>1.071172</td>\n",
       "      <td>0.118586</td>\n",
       "      <td>0.099436</td>\n",
       "      <td>0.631523</td>\n",
       "      <td>...</td>\n",
       "      <td>0.206331</td>\n",
       "      <td>0.295975</td>\n",
       "      <td>0.600644</td>\n",
       "      <td>0.610093</td>\n",
       "      <td>0.815911</td>\n",
       "      <td>0.679046</td>\n",
       "      <td>1.064092</td>\n",
       "      <td>0.010874</td>\n",
       "      <td>1.082839</td>\n",
       "      <td>0.697167</td>\n",
       "    </tr>\n",
       "    <tr>\n",
       "      <th>...</th>\n",
       "      <td>...</td>\n",
       "      <td>...</td>\n",
       "      <td>...</td>\n",
       "      <td>...</td>\n",
       "      <td>...</td>\n",
       "      <td>...</td>\n",
       "      <td>...</td>\n",
       "      <td>...</td>\n",
       "      <td>...</td>\n",
       "      <td>...</td>\n",
       "      <td>...</td>\n",
       "      <td>...</td>\n",
       "      <td>...</td>\n",
       "      <td>...</td>\n",
       "      <td>...</td>\n",
       "      <td>...</td>\n",
       "      <td>...</td>\n",
       "      <td>...</td>\n",
       "      <td>...</td>\n",
       "      <td>...</td>\n",
       "      <td>...</td>\n",
       "    </tr>\n",
       "    <tr>\n",
       "      <th>10931</th>\n",
       "      <td>0.092304</td>\n",
       "      <td>0.301090</td>\n",
       "      <td>0.069252</td>\n",
       "      <td>0.191174</td>\n",
       "      <td>0.185799</td>\n",
       "      <td>0.071939</td>\n",
       "      <td>0.401849</td>\n",
       "      <td>0.007948</td>\n",
       "      <td>0.171431</td>\n",
       "      <td>0.361228</td>\n",
       "      <td>...</td>\n",
       "      <td>0.194512</td>\n",
       "      <td>0.202238</td>\n",
       "      <td>0.309025</td>\n",
       "      <td>0.118409</td>\n",
       "      <td>0.201870</td>\n",
       "      <td>0.407343</td>\n",
       "      <td>0.141385</td>\n",
       "      <td>0.002269</td>\n",
       "      <td>0.036780</td>\n",
       "      <td>0.002198</td>\n",
       "    </tr>\n",
       "    <tr>\n",
       "      <th>10932</th>\n",
       "      <td>5.565849</td>\n",
       "      <td>5.073285</td>\n",
       "      <td>3.510835</td>\n",
       "      <td>3.724380</td>\n",
       "      <td>3.664541</td>\n",
       "      <td>2.794420</td>\n",
       "      <td>4.490097</td>\n",
       "      <td>3.641996</td>\n",
       "      <td>2.036876</td>\n",
       "      <td>5.029443</td>\n",
       "      <td>...</td>\n",
       "      <td>5.822194</td>\n",
       "      <td>5.025370</td>\n",
       "      <td>2.821643</td>\n",
       "      <td>1.891106</td>\n",
       "      <td>5.031488</td>\n",
       "      <td>3.619863</td>\n",
       "      <td>0.249938</td>\n",
       "      <td>3.250636</td>\n",
       "      <td>4.076036</td>\n",
       "      <td>2.552560</td>\n",
       "    </tr>\n",
       "    <tr>\n",
       "      <th>10933</th>\n",
       "      <td>0.461175</td>\n",
       "      <td>0.764816</td>\n",
       "      <td>1.216674</td>\n",
       "      <td>1.102294</td>\n",
       "      <td>0.753871</td>\n",
       "      <td>0.833231</td>\n",
       "      <td>1.169075</td>\n",
       "      <td>1.597878</td>\n",
       "      <td>1.070223</td>\n",
       "      <td>0.594366</td>\n",
       "      <td>...</td>\n",
       "      <td>0.367912</td>\n",
       "      <td>0.267933</td>\n",
       "      <td>0.078638</td>\n",
       "      <td>0.337182</td>\n",
       "      <td>0.842577</td>\n",
       "      <td>0.700560</td>\n",
       "      <td>0.666604</td>\n",
       "      <td>0.670928</td>\n",
       "      <td>1.012304</td>\n",
       "      <td>0.769043</td>\n",
       "    </tr>\n",
       "    <tr>\n",
       "      <th>10934</th>\n",
       "      <td>0.780369</td>\n",
       "      <td>0.135790</td>\n",
       "      <td>0.406861</td>\n",
       "      <td>0.643914</td>\n",
       "      <td>0.233772</td>\n",
       "      <td>0.347293</td>\n",
       "      <td>0.252415</td>\n",
       "      <td>0.846806</td>\n",
       "      <td>0.703293</td>\n",
       "      <td>0.401160</td>\n",
       "      <td>...</td>\n",
       "      <td>0.265792</td>\n",
       "      <td>0.371422</td>\n",
       "      <td>0.559795</td>\n",
       "      <td>0.911001</td>\n",
       "      <td>0.304589</td>\n",
       "      <td>0.626908</td>\n",
       "      <td>0.566460</td>\n",
       "      <td>0.010930</td>\n",
       "      <td>0.451087</td>\n",
       "      <td>0.054072</td>\n",
       "    </tr>\n",
       "    <tr>\n",
       "      <th>10935</th>\n",
       "      <td>0.082013</td>\n",
       "      <td>0.386698</td>\n",
       "      <td>0.586623</td>\n",
       "      <td>0.578422</td>\n",
       "      <td>0.736304</td>\n",
       "      <td>0.250069</td>\n",
       "      <td>1.429852</td>\n",
       "      <td>0.265669</td>\n",
       "      <td>0.330569</td>\n",
       "      <td>1.540846</td>\n",
       "      <td>...</td>\n",
       "      <td>0.056646</td>\n",
       "      <td>0.641911</td>\n",
       "      <td>0.217394</td>\n",
       "      <td>0.392279</td>\n",
       "      <td>0.353043</td>\n",
       "      <td>0.836079</td>\n",
       "      <td>0.614200</td>\n",
       "      <td>0.596108</td>\n",
       "      <td>0.791488</td>\n",
       "      <td>0.254662</td>\n",
       "    </tr>\n",
       "  </tbody>\n",
       "</table>\n",
       "<p>10936 rows × 10936 columns</p>\n",
       "</div>"
      ],
      "text/plain": [
       "          0         1         2         3         4         5         6      \\\n",
       "0      0.214316  0.982906  0.619909  0.001103  0.771393  0.115259  1.027142   \n",
       "1      2.085269  2.105097  0.337220  1.049502  1.224579  0.109313  2.116175   \n",
       "2      1.050093  0.356019  1.199070  2.527440  3.722457  3.998872  3.831057   \n",
       "3      0.410150  0.724460  0.118943  0.744067  1.609093  1.178056  1.345359   \n",
       "4      0.172383  0.637052  0.656786  0.838583  0.353771  1.120711  1.071172   \n",
       "...         ...       ...       ...       ...       ...       ...       ...   \n",
       "10931  0.092304  0.301090  0.069252  0.191174  0.185799  0.071939  0.401849   \n",
       "10932  5.565849  5.073285  3.510835  3.724380  3.664541  2.794420  4.490097   \n",
       "10933  0.461175  0.764816  1.216674  1.102294  0.753871  0.833231  1.169075   \n",
       "10934  0.780369  0.135790  0.406861  0.643914  0.233772  0.347293  0.252415   \n",
       "10935  0.082013  0.386698  0.586623  0.578422  0.736304  0.250069  1.429852   \n",
       "\n",
       "          7         8         9      ...     10926     10927     10928  \\\n",
       "0      0.183209  1.064853  0.931248  ...  0.424529  0.673685  0.499812   \n",
       "1      1.646097  0.210597  0.499928  ...  1.232846  0.911575  1.070671   \n",
       "2      0.507838  2.842409  3.171897  ...  1.622198  0.165845  4.076856   \n",
       "3      0.487623  0.639606  0.893908  ...  0.026878  0.199118  0.871028   \n",
       "4      0.118586  0.099436  0.631523  ...  0.206331  0.295975  0.600644   \n",
       "...         ...       ...       ...  ...       ...       ...       ...   \n",
       "10931  0.007948  0.171431  0.361228  ...  0.194512  0.202238  0.309025   \n",
       "10932  3.641996  2.036876  5.029443  ...  5.822194  5.025370  2.821643   \n",
       "10933  1.597878  1.070223  0.594366  ...  0.367912  0.267933  0.078638   \n",
       "10934  0.846806  0.703293  0.401160  ...  0.265792  0.371422  0.559795   \n",
       "10935  0.265669  0.330569  1.540846  ...  0.056646  0.641911  0.217394   \n",
       "\n",
       "          10929     10930     10931     10932     10933     10934     10935  \n",
       "0      0.568876  0.241926  0.875663  0.666323  0.622696  0.409677  0.786011  \n",
       "1      0.969148  1.103703  0.019870  0.530126  1.596432  0.586449  0.772054  \n",
       "2      2.682064  1.675597  3.273687  0.662266  1.538238  3.844001  1.370376  \n",
       "3      0.683603  0.086537  1.034671  0.697047  0.924643  1.356375  0.024381  \n",
       "4      0.610093  0.815911  0.679046  1.064092  0.010874  1.082839  0.697167  \n",
       "...         ...       ...       ...       ...       ...       ...       ...  \n",
       "10931  0.118409  0.201870  0.407343  0.141385  0.002269  0.036780  0.002198  \n",
       "10932  1.891106  5.031488  3.619863  0.249938  3.250636  4.076036  2.552560  \n",
       "10933  0.337182  0.842577  0.700560  0.666604  0.670928  1.012304  0.769043  \n",
       "10934  0.911001  0.304589  0.626908  0.566460  0.010930  0.451087  0.054072  \n",
       "10935  0.392279  0.353043  0.836079  0.614200  0.596108  0.791488  0.254662  \n",
       "\n",
       "[10936 rows x 10936 columns]"
      ]
     },
     "execution_count": 72,
     "metadata": {},
     "output_type": "execute_result"
    }
   ],
   "source": [
    "sub"
   ]
  },
  {
   "cell_type": "code",
   "execution_count": 73,
   "metadata": {
    "id": "LzRbMb3jGQ70"
   },
   "outputs": [
    {
     "data": {
      "text/html": [
       "<div>\n",
       "<style scoped>\n",
       "    .dataframe tbody tr th:only-of-type {\n",
       "        vertical-align: middle;\n",
       "    }\n",
       "\n",
       "    .dataframe tbody tr th {\n",
       "        vertical-align: top;\n",
       "    }\n",
       "\n",
       "    .dataframe thead th {\n",
       "        text-align: right;\n",
       "    }\n",
       "</style>\n",
       "<table border=\"1\" class=\"dataframe\">\n",
       "  <thead>\n",
       "    <tr style=\"text-align: right;\">\n",
       "      <th></th>\n",
       "      <th>0</th>\n",
       "      <th>1</th>\n",
       "      <th>2</th>\n",
       "      <th>3</th>\n",
       "      <th>4</th>\n",
       "      <th>5</th>\n",
       "      <th>6</th>\n",
       "      <th>7</th>\n",
       "      <th>8</th>\n",
       "      <th>9</th>\n",
       "      <th>...</th>\n",
       "      <th>10926</th>\n",
       "      <th>10927</th>\n",
       "      <th>10928</th>\n",
       "      <th>10929</th>\n",
       "      <th>10930</th>\n",
       "      <th>10931</th>\n",
       "      <th>10932</th>\n",
       "      <th>10933</th>\n",
       "      <th>10934</th>\n",
       "      <th>10935</th>\n",
       "    </tr>\n",
       "  </thead>\n",
       "  <tbody>\n",
       "    <tr>\n",
       "      <th>0</th>\n",
       "      <td>0.026129</td>\n",
       "      <td>0.264878</td>\n",
       "      <td>0.095685</td>\n",
       "      <td>0.000203</td>\n",
       "      <td>0.131082</td>\n",
       "      <td>0.023533</td>\n",
       "      <td>0.252026</td>\n",
       "      <td>0.037432</td>\n",
       "      <td>0.362308</td>\n",
       "      <td>0.237563</td>\n",
       "      <td>...</td>\n",
       "      <td>0.048480</td>\n",
       "      <td>0.125120</td>\n",
       "      <td>0.145803</td>\n",
       "      <td>0.153999</td>\n",
       "      <td>0.028622</td>\n",
       "      <td>0.264145</td>\n",
       "      <td>0.250056</td>\n",
       "      <td>0.202888</td>\n",
       "      <td>0.076286</td>\n",
       "      <td>0.213177</td>\n",
       "    </tr>\n",
       "    <tr>\n",
       "      <th>1</th>\n",
       "      <td>0.231210</td>\n",
       "      <td>0.213603</td>\n",
       "      <td>0.084251</td>\n",
       "      <td>0.200569</td>\n",
       "      <td>0.177521</td>\n",
       "      <td>0.034612</td>\n",
       "      <td>0.233013</td>\n",
       "      <td>0.265113</td>\n",
       "      <td>0.069381</td>\n",
       "      <td>0.130404</td>\n",
       "      <td>...</td>\n",
       "      <td>0.148433</td>\n",
       "      <td>0.156754</td>\n",
       "      <td>0.159868</td>\n",
       "      <td>0.140300</td>\n",
       "      <td>0.122234</td>\n",
       "      <td>0.004784</td>\n",
       "      <td>0.247370</td>\n",
       "      <td>0.219523</td>\n",
       "      <td>0.100745</td>\n",
       "      <td>0.161894</td>\n",
       "    </tr>\n",
       "    <tr>\n",
       "      <th>2</th>\n",
       "      <td>0.087686</td>\n",
       "      <td>0.038368</td>\n",
       "      <td>0.077569</td>\n",
       "      <td>0.235016</td>\n",
       "      <td>0.263146</td>\n",
       "      <td>0.290448</td>\n",
       "      <td>0.307706</td>\n",
       "      <td>0.072899</td>\n",
       "      <td>0.337996</td>\n",
       "      <td>0.282537</td>\n",
       "      <td>...</td>\n",
       "      <td>0.103289</td>\n",
       "      <td>0.027123</td>\n",
       "      <td>0.276688</td>\n",
       "      <td>0.222001</td>\n",
       "      <td>0.093779</td>\n",
       "      <td>0.251837</td>\n",
       "      <td>0.055160</td>\n",
       "      <td>0.239317</td>\n",
       "      <td>0.253132</td>\n",
       "      <td>0.142162</td>\n",
       "    </tr>\n",
       "    <tr>\n",
       "      <th>3</th>\n",
       "      <td>0.047284</td>\n",
       "      <td>0.144599</td>\n",
       "      <td>0.015294</td>\n",
       "      <td>0.122223</td>\n",
       "      <td>0.221964</td>\n",
       "      <td>0.206433</td>\n",
       "      <td>0.207356</td>\n",
       "      <td>0.094236</td>\n",
       "      <td>0.141396</td>\n",
       "      <td>0.161538</td>\n",
       "      <td>...</td>\n",
       "      <td>0.002800</td>\n",
       "      <td>0.032422</td>\n",
       "      <td>0.176408</td>\n",
       "      <td>0.160627</td>\n",
       "      <td>0.008877</td>\n",
       "      <td>0.202499</td>\n",
       "      <td>0.262414</td>\n",
       "      <td>0.229068</td>\n",
       "      <td>0.190135</td>\n",
       "      <td>0.005531</td>\n",
       "    </tr>\n",
       "    <tr>\n",
       "      <th>4</th>\n",
       "      <td>0.022839</td>\n",
       "      <td>0.170829</td>\n",
       "      <td>0.084595</td>\n",
       "      <td>0.127576</td>\n",
       "      <td>0.040659</td>\n",
       "      <td>0.157967</td>\n",
       "      <td>0.121662</td>\n",
       "      <td>0.029978</td>\n",
       "      <td>0.018575</td>\n",
       "      <td>0.092322</td>\n",
       "      <td>...</td>\n",
       "      <td>0.024299</td>\n",
       "      <td>0.059881</td>\n",
       "      <td>0.101060</td>\n",
       "      <td>0.147238</td>\n",
       "      <td>0.086827</td>\n",
       "      <td>0.110565</td>\n",
       "      <td>0.432476</td>\n",
       "      <td>0.002483</td>\n",
       "      <td>0.121447</td>\n",
       "      <td>0.183177</td>\n",
       "    </tr>\n",
       "    <tr>\n",
       "      <th>...</th>\n",
       "      <td>...</td>\n",
       "      <td>...</td>\n",
       "      <td>...</td>\n",
       "      <td>...</td>\n",
       "      <td>...</td>\n",
       "      <td>...</td>\n",
       "      <td>...</td>\n",
       "      <td>...</td>\n",
       "      <td>...</td>\n",
       "      <td>...</td>\n",
       "      <td>...</td>\n",
       "      <td>...</td>\n",
       "      <td>...</td>\n",
       "      <td>...</td>\n",
       "      <td>...</td>\n",
       "      <td>...</td>\n",
       "      <td>...</td>\n",
       "      <td>...</td>\n",
       "      <td>...</td>\n",
       "      <td>...</td>\n",
       "      <td>...</td>\n",
       "    </tr>\n",
       "    <tr>\n",
       "      <th>10931</th>\n",
       "      <td>0.016929</td>\n",
       "      <td>0.053669</td>\n",
       "      <td>0.010579</td>\n",
       "      <td>0.042227</td>\n",
       "      <td>0.035619</td>\n",
       "      <td>0.012341</td>\n",
       "      <td>0.047910</td>\n",
       "      <td>0.001709</td>\n",
       "      <td>0.035444</td>\n",
       "      <td>0.080315</td>\n",
       "      <td>...</td>\n",
       "      <td>0.028645</td>\n",
       "      <td>0.052851</td>\n",
       "      <td>0.045424</td>\n",
       "      <td>0.015845</td>\n",
       "      <td>0.022625</td>\n",
       "      <td>0.045924</td>\n",
       "      <td>0.025716</td>\n",
       "      <td>0.000532</td>\n",
       "      <td>0.005518</td>\n",
       "      <td>0.000537</td>\n",
       "    </tr>\n",
       "    <tr>\n",
       "      <th>10932</th>\n",
       "      <td>0.569842</td>\n",
       "      <td>0.525327</td>\n",
       "      <td>0.361876</td>\n",
       "      <td>0.520179</td>\n",
       "      <td>0.418692</td>\n",
       "      <td>0.358358</td>\n",
       "      <td>0.476426</td>\n",
       "      <td>0.571231</td>\n",
       "      <td>0.352465</td>\n",
       "      <td>0.578536</td>\n",
       "      <td>...</td>\n",
       "      <td>0.489399</td>\n",
       "      <td>0.645315</td>\n",
       "      <td>0.343516</td>\n",
       "      <td>0.230980</td>\n",
       "      <td>0.413395</td>\n",
       "      <td>0.346113</td>\n",
       "      <td>0.039940</td>\n",
       "      <td>0.473405</td>\n",
       "      <td>0.443829</td>\n",
       "      <td>0.387596</td>\n",
       "    </tr>\n",
       "    <tr>\n",
       "      <th>10933</th>\n",
       "      <td>0.108056</td>\n",
       "      <td>0.142204</td>\n",
       "      <td>0.290111</td>\n",
       "      <td>0.183066</td>\n",
       "      <td>0.105511</td>\n",
       "      <td>0.231958</td>\n",
       "      <td>0.163927</td>\n",
       "      <td>0.270913</td>\n",
       "      <td>0.373940</td>\n",
       "      <td>0.225668</td>\n",
       "      <td>...</td>\n",
       "      <td>0.052258</td>\n",
       "      <td>0.064374</td>\n",
       "      <td>0.010695</td>\n",
       "      <td>0.045353</td>\n",
       "      <td>0.114180</td>\n",
       "      <td>0.086708</td>\n",
       "      <td>0.094141</td>\n",
       "      <td>0.100608</td>\n",
       "      <td>0.210929</td>\n",
       "      <td>0.137361</td>\n",
       "    </tr>\n",
       "    <tr>\n",
       "      <th>10934</th>\n",
       "      <td>0.127166</td>\n",
       "      <td>0.017502</td>\n",
       "      <td>0.044333</td>\n",
       "      <td>0.156744</td>\n",
       "      <td>0.032703</td>\n",
       "      <td>0.051707</td>\n",
       "      <td>0.044891</td>\n",
       "      <td>0.299395</td>\n",
       "      <td>0.131904</td>\n",
       "      <td>0.100088</td>\n",
       "      <td>...</td>\n",
       "      <td>0.028740</td>\n",
       "      <td>0.081602</td>\n",
       "      <td>0.068563</td>\n",
       "      <td>0.101398</td>\n",
       "      <td>0.027111</td>\n",
       "      <td>0.081148</td>\n",
       "      <td>0.072173</td>\n",
       "      <td>0.002185</td>\n",
       "      <td>0.053104</td>\n",
       "      <td>0.009357</td>\n",
       "    </tr>\n",
       "    <tr>\n",
       "      <th>10935</th>\n",
       "      <td>0.013458</td>\n",
       "      <td>0.075480</td>\n",
       "      <td>0.099686</td>\n",
       "      <td>0.144003</td>\n",
       "      <td>0.193956</td>\n",
       "      <td>0.041626</td>\n",
       "      <td>0.312626</td>\n",
       "      <td>0.044167</td>\n",
       "      <td>0.067534</td>\n",
       "      <td>0.474358</td>\n",
       "      <td>...</td>\n",
       "      <td>0.007031</td>\n",
       "      <td>0.183502</td>\n",
       "      <td>0.026639</td>\n",
       "      <td>0.048908</td>\n",
       "      <td>0.043969</td>\n",
       "      <td>0.107090</td>\n",
       "      <td>0.204790</td>\n",
       "      <td>0.187745</td>\n",
       "      <td>0.154559</td>\n",
       "      <td>0.052318</td>\n",
       "    </tr>\n",
       "  </tbody>\n",
       "</table>\n",
       "<p>10936 rows × 10936 columns</p>\n",
       "</div>"
      ],
      "text/plain": [
       "          0         1         2         3         4         5         6      \\\n",
       "0      0.026129  0.264878  0.095685  0.000203  0.131082  0.023533  0.252026   \n",
       "1      0.231210  0.213603  0.084251  0.200569  0.177521  0.034612  0.233013   \n",
       "2      0.087686  0.038368  0.077569  0.235016  0.263146  0.290448  0.307706   \n",
       "3      0.047284  0.144599  0.015294  0.122223  0.221964  0.206433  0.207356   \n",
       "4      0.022839  0.170829  0.084595  0.127576  0.040659  0.157967  0.121662   \n",
       "...         ...       ...       ...       ...       ...       ...       ...   \n",
       "10931  0.016929  0.053669  0.010579  0.042227  0.035619  0.012341  0.047910   \n",
       "10932  0.569842  0.525327  0.361876  0.520179  0.418692  0.358358  0.476426   \n",
       "10933  0.108056  0.142204  0.290111  0.183066  0.105511  0.231958  0.163927   \n",
       "10934  0.127166  0.017502  0.044333  0.156744  0.032703  0.051707  0.044891   \n",
       "10935  0.013458  0.075480  0.099686  0.144003  0.193956  0.041626  0.312626   \n",
       "\n",
       "          7         8         9      ...     10926     10927     10928  \\\n",
       "0      0.037432  0.362308  0.237563  ...  0.048480  0.125120  0.145803   \n",
       "1      0.265113  0.069381  0.130404  ...  0.148433  0.156754  0.159868   \n",
       "2      0.072899  0.337996  0.282537  ...  0.103289  0.027123  0.276688   \n",
       "3      0.094236  0.141396  0.161538  ...  0.002800  0.032422  0.176408   \n",
       "4      0.029978  0.018575  0.092322  ...  0.024299  0.059881  0.101060   \n",
       "...         ...       ...       ...  ...       ...       ...       ...   \n",
       "10931  0.001709  0.035444  0.080315  ...  0.028645  0.052851  0.045424   \n",
       "10932  0.571231  0.352465  0.578536  ...  0.489399  0.645315  0.343516   \n",
       "10933  0.270913  0.373940  0.225668  ...  0.052258  0.064374  0.010695   \n",
       "10934  0.299395  0.131904  0.100088  ...  0.028740  0.081602  0.068563   \n",
       "10935  0.044167  0.067534  0.474358  ...  0.007031  0.183502  0.026639   \n",
       "\n",
       "          10929     10930     10931     10932     10933     10934     10935  \n",
       "0      0.153999  0.028622  0.264145  0.250056  0.202888  0.076286  0.213177  \n",
       "1      0.140300  0.122234  0.004784  0.247370  0.219523  0.100745  0.161894  \n",
       "2      0.222001  0.093779  0.251837  0.055160  0.239317  0.253132  0.142162  \n",
       "3      0.160627  0.008877  0.202499  0.262414  0.229068  0.190135  0.005531  \n",
       "4      0.147238  0.086827  0.110565  0.432476  0.002483  0.121447  0.183177  \n",
       "...         ...       ...       ...       ...       ...       ...       ...  \n",
       "10931  0.015845  0.022625  0.045924  0.025716  0.000532  0.005518  0.000537  \n",
       "10932  0.230980  0.413395  0.346113  0.039940  0.473405  0.443829  0.387596  \n",
       "10933  0.045353  0.114180  0.086708  0.094141  0.100608  0.210929  0.137361  \n",
       "10934  0.101398  0.027111  0.081148  0.072173  0.002185  0.053104  0.009357  \n",
       "10935  0.048908  0.043969  0.107090  0.204790  0.187745  0.154559  0.052318  \n",
       "\n",
       "[10936 rows x 10936 columns]"
      ]
     },
     "execution_count": 73,
     "metadata": {},
     "output_type": "execute_result"
    }
   ],
   "source": [
    "sub = abs(result_test - result_predict)/(result_test)\n",
    "sub"
   ]
  },
  {
   "cell_type": "code",
   "execution_count": 74,
   "metadata": {},
   "outputs": [
    {
     "data": {
      "text/plain": [
       "<matplotlib.lines.Line2D at 0x26e2ead0148>"
      ]
     },
     "execution_count": 74,
     "metadata": {},
     "output_type": "execute_result"
    },
    {
     "data": {
      "image/png": "[encoded data removed]",
      "text/plain": [
       "<Figure size 432x288 with 1 Axes>"
      ]
     },
     "metadata": {
      "needs_background": "light"
     },
     "output_type": "display_data"
    }
   ],
   "source": [
    "suboptimality = np.diag(sub)\n",
    "#plt.plot(suboptimality[48:72])\n",
    "plt.xlabel('number of components')\n",
    "plt.ylabel('element wise suboptimality')\n",
    "plt.title('F*-F^/')\n",
    "plt.axhline(y=0.15, color='r', linestyle='-')"
   ]
  },
  {
   "cell_type": "code",
   "execution_count": 75,
   "metadata": {},
   "outputs": [
    {
     "data": {
      "text/plain": [
       "(10936,)"
      ]
     },
     "execution_count": 75,
     "metadata": {},
     "output_type": "execute_result"
    }
   ],
   "source": [
    "suboptimality.shape"
   ]
  },
  {
   "cell_type": "code",
   "execution_count": 76,
   "metadata": {},
   "outputs": [
    {
     "data": {
      "text/plain": [
       "0.11221161928298919"
      ]
     },
     "execution_count": 76,
     "metadata": {},
     "output_type": "execute_result"
    }
   ],
   "source": [
    "#Calculating the suboptimality for T=15, two tank model, batch normalization, activation = sigmoid, \n",
    "#loss= binary cross entropy, pumps =4 \n",
    "T = np.mean(suboptimality)\n",
    "T"
   ]
  },
  {
   "cell_type": "code",
   "execution_count": null,
   "metadata": {},
   "outputs": [],
   "source": []
  }
 ],
 "metadata": {
  "colab": {
   "collapsed_sections": [],
   "name": "FinalCodeDL.ipynb",
   "provenance": [],
   "toc_visible": true
  },
  "kernelspec": {
   "display_name": "Python 3",
   "language": "python",
   "name": "python3"
  },
  "language_info": {
   "codemirror_mode": {
    "name": "ipython",
    "version": 3
   },
   "file_extension": ".py",
   "mimetype": "text/x-python",
   "name": "python",
   "nbconvert_exporter": "python",
   "pygments_lexer": "ipython3",
   "version": "3.7.6"
  }
 },
 "nbformat": 4,
 "nbformat_minor": 1
}
