{
 "cells": [
  {
   "cell_type": "code",
   "execution_count": 1,
   "metadata": {
    "id": "qLTVIvmEV0bJ"
   },
   "outputs": [
    {
     "name": "stderr",
     "output_type": "stream",
     "text": [
      "Using TensorFlow backend.\n"
     ]
    }
   ],
   "source": [
    "#We are testing a DL model for Mixed integer formulation for Water distribution network.\n",
    "# The input data such as water demand and time-ahead dynamic energy prices are obtained from Singh et al (2019) paper.\n",
    "# We computed the time ahead pump switching using MATALB Gurobi solver\n",
    "# We obtained the time ahead pump switching for 2048 hours (85.33 days)\n",
    "# We train_test the neural network in the ratio of 80-20.\n",
    "# The nn is trained using ReLu and SoftMax (as the output is integer values)\n",
    "\n",
    "#In our  case y is (z)\n",
    "\n",
    "import numpy as np\n",
    "import pandas as pd   #data analysis and manipulation library\n",
    "import seaborn as sns #Python statistical data visualization library.\n",
    "import matplotlib.pyplot as plt\n",
    "from sklearn import model_selection #Tuning the hyperparameters, cross validation, model persistance are the important aspects of this.\n",
    "from sklearn.model_selection import train_test_split #ML library to data analysis\n",
    "from sklearn.metrics import accuracy_score, r2_score\n",
    "import sklearn.metrics as metrics\n",
    "from openpyxl import Workbook, load_workbook\n",
    "from openpyxl.utils.dataframe import dataframe_to_rows\n",
    "\n",
    "\n",
    "from sklearn.decomposition import PCA #dimensionality reduction\n",
    "\n",
    "%matplotlib inline\n",
    "\n",
    "#Libraries for Deep learning framework from Keras\n",
    "\n",
    "import tensorflow as tf\n",
    "from tensorflow.keras.models import Sequential\n",
    "from tensorflow.keras.layers import Dense, Activation\n",
    "from tensorflow.keras.layers import BatchNormalization\n",
    "\n",
    "import keras\n",
    "import keras.utils\n",
    "from keras import utils as np_utils\n",
    "from keras.models import Sequential\n",
    "\n",
    "from tensorflow.keras import layers\n",
    "from tensorflow.keras import utils as np_utils\n",
    "from tensorflow.keras import models \n",
    "from tensorflow.keras.models import Sequential\n",
    "from tensorflow.keras.layers import Activation, LeakyReLU, PReLU, ELU #Import activation functions from keras.layers\n",
    "from tensorflow.keras.layers import Dropout #Import dropout library, the objective of dropout is to prevent overfitting of data, However, we have to be careful while setting the dropout rate.\n",
    "from tensorflow.keras.optimizers import SGD, RMSprop\n",
    "from tensorflow.keras.callbacks import LearningRateScheduler #Learning rate scheduler, Here call back is an object that can perform\n",
    "                                                # at various actions at different stages of training \n",
    "from tensorflow.keras.callbacks import History #We can use the data collected from history to  [accuracy, loss, val_accuracy, val_loss]\n",
    "\n",
    "\n",
    "\n",
    "import io #Deal with various types of input output\n",
    "import os #Talk with os, like changing and modifying dirctories\n",
    "import requests #Allow you to send HTTP/1.1, headers, form data, multipart files r = requests.get(‘https://github.com/timeline.json’)\n",
    "\n",
    "\n",
    "import warnings\n",
    "warnings.simplefilter(action='ignore', category=FutureWarning)\n",
    "warnings.filterwarnings('ignore')\n",
    "warnings.filterwarnings('ignore', category=DeprecationWarning) #Deprecated warning: it is a base category of warning about deprecated features\n",
    "\n",
    "\n",
    "import dill\n",
    "# dill.dump_session('notebook_env.db')\n"
   ]
  },
  {
   "cell_type": "code",
   "execution_count": 2,
   "metadata": {
    "colab": {
     "base_uri": "https://localhost:8080/",
     "height": 35
    },
    "id": "3UAv55q5WBcM",
    "outputId": "3c021aa0-bd4d-494f-f943-eef9218e7517"
   },
   "outputs": [
    {
     "data": {
      "text/plain": [
       "'C:\\\\Users\\\\jyotib18\\\\OneDrive - Universitetet i Agder\\\\Data Files From Rahul'"
      ]
     },
     "execution_count": 2,
     "metadata": {},
     "output_type": "execute_result"
    }
   ],
   "source": [
    "pwd\n"
   ]
  },
  {
   "cell_type": "code",
   "execution_count": 3,
   "metadata": {
    "colab": {
     "base_uri": "https://localhost:8080/",
     "height": 35
    },
    "id": "IpVFTXeQXCXK",
    "outputId": "27426a81-8e08-46b7-8f2c-c8deaf83a9a4"
   },
   "outputs": [
    {
     "data": {
      "text/plain": [
       "(165050, 123)"
      ]
     },
     "execution_count": 3,
     "metadata": {},
     "output_type": "execute_result"
    }
   ],
   "source": [
    "import io\n",
    "#inputs = pd.read_csv(io.BytesIO(uploaded['1.csv']))\n",
    "\n",
    "inputs=pd.read_csv(r'C:\\Users\\jyotib18\\OPS_Data\\2T20Ts5\\feasible_input_log.csv')\n",
    "inputs=inputs.dropna()\n",
    "\n",
    "\n",
    "# Dataset is now stored in a Pandas Dataframe\n",
    "inputs.shape"
   ]
  },
  {
   "cell_type": "code",
   "execution_count": 4,
   "metadata": {
    "colab": {
     "base_uri": "https://localhost:8080/",
     "height": 35
    },
    "id": "JJOS8FKYX-NI",
    "outputId": "1b70258b-b9d3-487b-c10f-9a84707063e3"
   },
   "outputs": [
    {
     "data": {
      "text/plain": [
       "pandas.core.frame.DataFrame"
      ]
     },
     "execution_count": 4,
     "metadata": {},
     "output_type": "execute_result"
    }
   ],
   "source": [
    "type(inputs)"
   ]
  },
  {
   "cell_type": "code",
   "execution_count": 5,
   "metadata": {
    "colab": {
     "base_uri": "https://localhost:8080/",
     "height": 267
    },
    "id": "7kjRvcIjYBcE",
    "outputId": "fc4ba7fd-6de7-44fa-fddc-9bbd367a8a2d"
   },
   "outputs": [
    {
     "data": {
      "text/plain": [
       "<bound method NDFrame.head of         95.731   83.82  0  1  0.1  0.2  3  1.1  1.2  1.3  ...   3.5626  \\\n",
       "0       67.644  98.898  0  1    1    0  1    0    0    0  ...   8.5146   \n",
       "1       76.438  67.008  0  1    1    0  3    1    0    1  ...  17.0140   \n",
       "2       76.754  99.397  1  0    1    0  4    0    1    1  ...   1.1341   \n",
       "3       84.733  84.176  1  0    1    0  1    0    0    1  ...  19.2880   \n",
       "4       87.870  69.256  1  0    0    0  2    1    0    0  ...   7.9776   \n",
       "...        ...     ... .. ..  ...  ... ..  ...  ...  ...  ...      ...   \n",
       "165045  99.111  95.306  0  0    0    0  3    1    0    0  ...  11.3580   \n",
       "165046  73.453  79.232  0  0    0    0  3    1    0    1  ...   9.0616   \n",
       "165047  55.991  88.879  0  0    0    1  3    1    0    0  ...  12.3330   \n",
       "165048  50.792  67.835  1  0    0    0  2    0    1    0  ...   3.0387   \n",
       "165049  67.086  99.645  0  0    0    0  0    0    0    0  ...  16.5090   \n",
       "\n",
       "         2.5603   19.982   3.4224   0.65202    11.224   17.637   13.384  \\\n",
       "0       12.8890  12.9520  13.5800  12.71600  18.90300   4.1787  14.1860   \n",
       "1       11.2110  18.5920  13.9330  11.65600  16.30800  17.5800  19.7780   \n",
       "2       10.4380   6.7170   3.5134   4.17890  18.10300  13.5080   9.3694   \n",
       "3        8.6497  13.8950  15.1620   8.65280  13.11000   2.1951  18.6750   \n",
       "4        8.3019   3.6148   5.1077   0.41072  18.47400  13.0740  18.6520   \n",
       "...         ...      ...      ...       ...       ...      ...      ...   \n",
       "165045   1.7126  10.6270   2.8560  15.63800   9.23850  18.0880   8.2509   \n",
       "165046  17.6210  19.4920  17.3060  13.36200  17.17000  16.5050   6.2800   \n",
       "165047   3.9217   5.9041   9.6410   6.64980   9.63600  11.6550   1.2757   \n",
       "165048   8.5976  15.4100   6.4145  11.26000  12.78100  12.2320   4.8781   \n",
       "165049   1.4823   8.5610  19.2580  17.48900   0.80468  12.8090  15.7470   \n",
       "\n",
       "           3.8087   7.3783  \n",
       "0        4.724600   2.3879  \n",
       "1        0.010448  17.3090  \n",
       "2       18.243000   2.0802  \n",
       "3        3.749200   5.3236  \n",
       "4        3.270200  18.4220  \n",
       "...           ...      ...  \n",
       "165045   8.147600   1.8027  \n",
       "165046   5.039000  14.1470  \n",
       "165047   1.162600   7.0210  \n",
       "165048  13.510000   5.4928  \n",
       "165049  17.762000  13.7110  \n",
       "\n",
       "[165050 rows x 123 columns]>"
      ]
     },
     "execution_count": 5,
     "metadata": {},
     "output_type": "execute_result"
    }
   ],
   "source": [
    "inputs.head"
   ]
  },
  {
   "cell_type": "code",
   "execution_count": 6,
   "metadata": {
    "colab": {
     "base_uri": "https://localhost:8080/",
     "height": 35
    },
    "id": "3K06d0z3YLHZ",
    "outputId": "2f18508a-5444-4967-a6c7-42e5cfdeb656"
   },
   "outputs": [
    {
     "data": {
      "text/plain": [
       "(165050, 80)"
      ]
     },
     "execution_count": 6,
     "metadata": {},
     "output_type": "execute_result"
    }
   ],
   "source": [
    "import io\n",
    "outputs = pd.read_csv(r'C:\\Users\\jyotib18\\OPS_Data\\2T20Ts5\\feasible_output_log.csv')\n",
    "# Dataset is now stored in a Pandas Dataframe\n",
    "outputs=outputs.dropna()\n",
    "outputs.shape"
   ]
  },
  {
   "cell_type": "code",
   "execution_count": 7,
   "metadata": {
    "colab": {
     "base_uri": "https://localhost:8080/",
     "height": 267
    },
    "id": "c_Y34U9Eo9RK",
    "outputId": "a0beb83e-4aeb-4f67-e98b-175ffcb61b9b"
   },
   "outputs": [
    {
     "data": {
      "text/plain": [
       "<bound method NDFrame.head of         0  0.1   -0  0.2    1  0.3  0.4  -0.1  0.5  0.6  ...  0.52  0.53  \\\n",
       "0       0 -0.0 -0.0 -0.0 -0.0 -0.0 -0.0  -0.0 -0.0  1.0  ...   0.0  -0.0   \n",
       "1       0  0.0  0.0  0.0  0.0  1.0  0.0   0.0  1.0  0.0  ...   0.0   0.0   \n",
       "2       1  0.0  0.0  0.0  0.0  0.0  1.0   0.0  0.0  1.0  ...   0.0   0.0   \n",
       "3       1  0.0  0.0 -0.0  1.0  0.0  0.0   0.0  0.0  0.0  ...   0.0   0.0   \n",
       "4       1 -0.0  1.0  0.0  0.0  0.0 -0.0  -0.0  0.0  0.0  ...   0.0   0.0   \n",
       "...    ..  ...  ...  ...  ...  ...  ...   ...  ...  ...  ...   ...   ...   \n",
       "165045  0  0.0  0.0  0.0  0.0  0.0  0.0   1.0  0.0  0.0  ...   0.0   1.0   \n",
       "165046  0  0.0  0.0  1.0  0.0  0.0  0.0   0.0  0.0  0.0  ...   0.0   0.0   \n",
       "165047  0  1.0 -0.0  0.0  1.0  0.0  1.0   0.0  0.0  1.0  ...   0.0  -0.0   \n",
       "165048  1  0.0 -0.0  0.0  0.0 -0.0  0.0   0.0  1.0  0.0  ...   0.0  -0.0   \n",
       "165049  0  0.0  0.0  0.0  0.0  1.0  0.0   0.0  0.0  1.0  ...   0.0   0.0   \n",
       "\n",
       "        0.54  -0.10  0.55  0.56  0.57  0.58  0.59  0.60  \n",
       "0       -0.0    0.0   0.0   0.0  -0.0   0.0   0.0     0  \n",
       "1        0.0    0.0   0.0   1.0   0.0   0.0   0.0     0  \n",
       "2       -0.0    0.0   0.0   0.0  -0.0   0.0   0.0     0  \n",
       "3        0.0    0.0   1.0   0.0   0.0   0.0   0.0     0  \n",
       "4        0.0    1.0   0.0   0.0   0.0   0.0   0.0     0  \n",
       "...      ...    ...   ...   ...   ...   ...   ...   ...  \n",
       "165045   0.0    0.0   0.0   0.0   0.0   1.0   0.0     0  \n",
       "165046   0.0    0.0   0.0   0.0   0.0   0.0   0.0     0  \n",
       "165047   0.0    0.0   0.0   1.0   0.0   0.0   0.0     0  \n",
       "165048   1.0    0.0   0.0   0.0   0.0   0.0   0.0     0  \n",
       "165049   0.0    0.0   0.0   1.0   0.0   0.0   0.0     0  \n",
       "\n",
       "[165050 rows x 80 columns]>"
      ]
     },
     "execution_count": 7,
     "metadata": {},
     "output_type": "execute_result"
    }
   ],
   "source": [
    "outputs.head"
   ]
  },
  {
   "cell_type": "code",
   "execution_count": 8,
   "metadata": {
    "colab": {
     "base_uri": "https://localhost:8080/",
     "height": 142
    },
    "id": "7Q5rdfEcYUpm",
    "outputId": "e1c8aace-b467-4903-93de-00041281f93e"
   },
   "outputs": [
    {
     "data": {
      "text/plain": [
       "array([[6.7644e+01, 9.8898e+01, 0.0000e+00, ..., 1.4186e+01, 4.7246e+00,\n",
       "        2.3879e+00],\n",
       "       [7.6438e+01, 6.7008e+01, 0.0000e+00, ..., 1.9778e+01, 1.0448e-02,\n",
       "        1.7309e+01],\n",
       "       [7.6754e+01, 9.9397e+01, 1.0000e+00, ..., 9.3694e+00, 1.8243e+01,\n",
       "        2.0802e+00],\n",
       "       ...,\n",
       "       [5.5991e+01, 8.8879e+01, 0.0000e+00, ..., 1.2757e+00, 1.1626e+00,\n",
       "        7.0210e+00],\n",
       "       [5.0792e+01, 6.7835e+01, 1.0000e+00, ..., 4.8781e+00, 1.3510e+01,\n",
       "        5.4928e+00],\n",
       "       [6.7086e+01, 9.9645e+01, 0.0000e+00, ..., 1.5747e+01, 1.7762e+01,\n",
       "        1.3711e+01]])"
      ]
     },
     "execution_count": 8,
     "metadata": {},
     "output_type": "execute_result"
    }
   ],
   "source": [
    "x = inputs.values #converting data frame to array frame\n",
    "x"
   ]
  },
  {
   "cell_type": "code",
   "execution_count": 9,
   "metadata": {
    "colab": {
     "base_uri": "https://localhost:8080/",
     "height": 35
    },
    "id": "u-1JFtEPZMI-",
    "outputId": "1a6530ce-97d3-43c1-e22d-afa1cc4cc523"
   },
   "outputs": [
    {
     "data": {
      "text/plain": [
       "pandas.core.frame.DataFrame"
      ]
     },
     "execution_count": 9,
     "metadata": {},
     "output_type": "execute_result"
    }
   ],
   "source": [
    "type(outputs)"
   ]
  },
  {
   "cell_type": "code",
   "execution_count": 10,
   "metadata": {
    "colab": {
     "base_uri": "https://localhost:8080/",
     "height": 142
    },
    "id": "ftCpb4JaZOCm",
    "outputId": "d1adf403-a25c-406b-af25-602b9fc6363a"
   },
   "outputs": [
    {
     "data": {
      "text/plain": [
       "array([[ 0., -0., -0., ...,  0.,  0.,  0.],\n",
       "       [ 0.,  0.,  0., ...,  0.,  0.,  0.],\n",
       "       [ 1.,  0.,  0., ...,  0.,  0.,  0.],\n",
       "       ...,\n",
       "       [ 0.,  1., -0., ...,  0.,  0.,  0.],\n",
       "       [ 1.,  0., -0., ...,  0.,  0.,  0.],\n",
       "       [ 0.,  0.,  0., ...,  0.,  0.,  0.]])"
      ]
     },
     "execution_count": 10,
     "metadata": {},
     "output_type": "execute_result"
    }
   ],
   "source": [
    "y = outputs.values # converting dataframe \"outputc\" in array form i.e. 'y' is now in array form \n",
    "y # y is combination of power assignments and channel assignments both."
   ]
  },
  {
   "cell_type": "code",
   "execution_count": 11,
   "metadata": {
    "colab": {
     "base_uri": "https://localhost:8080/",
     "height": 35
    },
    "id": "ChIBpH6HZQxg",
    "outputId": "18f59c85-a710-4dfa-997d-b35308e72991"
   },
   "outputs": [
    {
     "data": {
      "text/plain": [
       "(165050, 80)"
      ]
     },
     "execution_count": 11,
     "metadata": {},
     "output_type": "execute_result"
    }
   ],
   "source": [
    "y.shape"
   ]
  },
  {
   "cell_type": "code",
   "execution_count": 12,
   "metadata": {},
   "outputs": [
    {
     "data": {
      "text/plain": [
       "(165050, 123)"
      ]
     },
     "execution_count": 12,
     "metadata": {},
     "output_type": "execute_result"
    }
   ],
   "source": [
    "x.shape"
   ]
  },
  {
   "cell_type": "code",
   "execution_count": 13,
   "metadata": {
    "colab": {
     "base_uri": "https://localhost:8080/",
     "height": 35
    },
    "id": "abgDkl9qZTMj",
    "outputId": "2d246909-8eff-48b5-f5d5-2a3ac593b867"
   },
   "outputs": [
    {
     "data": {
      "text/plain": [
       "numpy.ndarray"
      ]
     },
     "execution_count": 13,
     "metadata": {},
     "output_type": "execute_result"
    }
   ],
   "source": [
    "type(y)"
   ]
  },
  {
   "cell_type": "code",
   "execution_count": 14,
   "metadata": {
    "colab": {
     "base_uri": "https://localhost:8080/",
     "height": 142
    },
    "id": "feOJ4F4eZVDY",
    "outputId": "50399f6d-8241-46ee-c374-b53b7e17226b"
   },
   "outputs": [],
   "source": [
    "#y[0]"
   ]
  },
  {
   "cell_type": "code",
   "execution_count": 15,
   "metadata": {
    "colab": {
     "base_uri": "https://localhost:8080/",
     "height": 71
    },
    "id": "kL_w5EAOZXE9",
    "outputId": "e61df404-dd57-44dd-ed66-5e1662d55204"
   },
   "outputs": [],
   "source": [
    "#y[0:50, 0] # First row and initial 50 columns of y "
   ]
  },
  {
   "cell_type": "code",
   "execution_count": 16,
   "metadata": {
    "id": "Jt2OQ-dMZZ1x"
   },
   "outputs": [],
   "source": [
    "# Splitting data for training and testing \n",
    "# Here both x and y are in array form (non-scaled)\n",
    "\n",
    "from sklearn.model_selection import train_test_split\n",
    "x_train, x_test, y_train, y_test = train_test_split(x, y, test_size=0.1, shuffle=False, random_state=42) # old\n",
    "#x_train, x_test, y_train, y_test = train_test_split(x, y, test_size=0.2, shuffle=True)"
   ]
  },
  {
   "cell_type": "code",
   "execution_count": 17,
   "metadata": {
    "id": "gBhAhKzuZehe"
   },
   "outputs": [],
   "source": [
    "# Feature Scaling\n",
    "from sklearn.preprocessing import StandardScaler\n",
    "sc = StandardScaler()\n",
    "x_train = sc.fit_transform(x_train)\n",
    "x_test = sc.transform(x_test)"
   ]
  },
  {
   "cell_type": "code",
   "execution_count": 18,
   "metadata": {},
   "outputs": [],
   "source": [
    "#Building neural network\n",
    "\n",
    "\n",
    "model = tf.keras.Sequential()\n",
    "\n",
    "model.add(Dense(20, input_dim=x.shape[1], kernel_initializer='random_normal')) # Input layer and 1st hidden layer\n",
    "model.add(LeakyReLU(alpha=0.1)) # Leaky Relu for 1st hidden layer\n",
    "model.add(BatchNormalization())\n",
    "\n",
    "\n",
    "model.add(Dense(100,  kernel_initializer='random_normal')) # 2nd Hidden layer\n",
    "model.add(LeakyReLU(alpha=0.1)) # Leaky Relu for 2nd hidden layer\n",
    "model.add(BatchNormalization())\n",
    "\n",
    "#model.add(BatchNormalization())\n",
    "\n",
    "model.add(Dense(40, kernel_initializer='random_normal')) # 3rd Hidden layer \n",
    "model.add(LeakyReLU(alpha=0.1)) # Leaky Relu for 3rd hidden layer\n",
    "model.add(BatchNormalization())\n",
    "\n",
    "model.add(Dense(60,  kernel_initializer='random_normal')) # 4th Hidden Layer \n",
    "model.add(LeakyReLU(alpha=0.1)) # Leaky Relu for 4th hidden layer\n",
    "model.add(BatchNormalization())\n",
    "\n",
    "model.add(Dense(80, kernel_initializer='random_normal')) # 5th Hidden Layer\n",
    "model.add(LeakyReLU(alpha=0.1)) # Leaky Relu for 5th hidden layer\n",
    "model.add(BatchNormalization())\n",
    "\n",
    "model.add(Dense(100, kernel_initializer='random_normal')) # 6th Hidden layer\n",
    "model.add(LeakyReLU(alpha=0.1)) # Leaky Relu for 6th hidden layer\n",
    "model.add(BatchNormalization())\n",
    "\n",
    "model.add(Dense(80, kernel_initializer='random_normal')) # 7th Hidden Layer \n",
    "model.add(LeakyReLU(alpha=0.1)) # Leaky Relu for 4th hidden layer\n",
    "model.add(BatchNormalization())\n",
    "\n",
    "\n",
    "model.add(Dense(60, kernel_initializer='random_normal')) # 7th Hidden Layer \n",
    "model.add(LeakyReLU(alpha=0.1)) # Leaky Relu for 4th hidden layer\n",
    "model.add(BatchNormalization())\n",
    "\n",
    "model.add(Dense(40, kernel_initializer='random_normal')) # 7th Hidden Layer \n",
    "model.add(LeakyReLU(alpha=0.1)) # Leaky Relu for 4th hidden layer\n",
    "model.add(BatchNormalization())\n",
    "\n",
    "\n",
    "\n",
    "model.add(Dense(y.shape[1], activation='sigmoid', kernel_initializer='random_normal')) # Output Layer "
   ]
  },
  {
   "cell_type": "code",
   "execution_count": 19,
   "metadata": {},
   "outputs": [
    {
     "data": {
      "text/plain": [
       "123"
      ]
     },
     "execution_count": 19,
     "metadata": {},
     "output_type": "execute_result"
    }
   ],
   "source": [
    "x.shape[1]"
   ]
  },
  {
   "cell_type": "code",
   "execution_count": 20,
   "metadata": {
    "id": "xhwu9nzjaVYA"
   },
   "outputs": [
    {
     "data": {
      "text/plain": [
       "\"\\nfrom tensorflow.keras.callbacks import EarlyStopping\\nbce = tf.keras.losses.BinaryCrossentropy(reduction=tf.keras.losses.Reduction.NONE)\\n\\nmodel.compile(loss=bce, optimizer=keras.optimizers.Adam(), metrics=['accuracy'])\\n\\n#model.compile(optimizer='ADAM', loss= 'mean_squared_error' , metrics = ['accuracy']) \\n\\nmonitor = EarlyStopping(monitor='val_loss', min_delta=0.00001, patience=10, \\n                        verbose=1, mode='max', restore_best_weights=True)\\n\""
      ]
     },
     "execution_count": 20,
     "metadata": {},
     "output_type": "execute_result"
    }
   ],
   "source": [
    "# Compiling Neural network\n",
    "'''\n",
    "from tensorflow.keras.callbacks import EarlyStopping\n",
    "bce = tf.keras.losses.BinaryCrossentropy(reduction=tf.keras.losses.Reduction.NONE)\n",
    "\n",
    "model.compile(loss=bce, optimizer=keras.optimizers.Adam(), metrics=['accuracy'])\n",
    "\n",
    "#model.compile(optimizer='ADAM', loss= 'mean_squared_error' , metrics = ['accuracy']) \n",
    "\n",
    "monitor = EarlyStopping(monitor='val_loss', min_delta=0.00001, patience=10, \n",
    "                        verbose=1, mode='max', restore_best_weights=True)\n",
    "'''"
   ]
  },
  {
   "cell_type": "code",
   "execution_count": 21,
   "metadata": {},
   "outputs": [],
   "source": [
    "from tensorflow.keras.callbacks import LearningRateScheduler\n",
    "lrs = LearningRateScheduler(lambda x: 0.001)"
   ]
  },
  {
   "cell_type": "code",
   "execution_count": 22,
   "metadata": {},
   "outputs": [],
   "source": [
    "from tensorflow.keras.callbacks import EarlyStopping\n",
    "model.compile(optimizer='adam', loss=tf.keras.losses.BinaryCrossentropy(), metrics = ['mean_absolute_error']) \n",
    "#model.compile(optimizer='ADAM', loss='mean_squared_error', metrics = ['mean_absolute_error']) \n",
    "monitor = EarlyStopping(monitor='val_loss', min_delta=0.0001, patience=10, \n",
    "                        verbose=1, mode='auto', restore_best_weights=True)"
   ]
  },
  {
   "cell_type": "code",
   "execution_count": 23,
   "metadata": {
    "colab": {
     "base_uri": "https://localhost:8080/",
     "height": 1000
    },
    "id": "sUm7vYpNaZhk",
    "outputId": "bb1cd85f-4a22-4777-8674-4e053a532b6e"
   },
   "outputs": [
    {
     "name": "stdout",
     "output_type": "stream",
     "text": [
      "Train on 148545 samples, validate on 16505 samples\n",
      "Epoch 1/1000\n",
      "148545/148545 - 5s - loss: 0.4397 - mean_absolute_error: 0.3123 - val_loss: 0.3059 - val_mean_absolute_error: 0.1902\n",
      "Epoch 2/1000\n",
      "148545/148545 - 3s - loss: 0.2692 - mean_absolute_error: 0.1587 - val_loss: 0.2605 - val_mean_absolute_error: 0.1563\n",
      "Epoch 3/1000\n",
      "148545/148545 - 3s - loss: 0.2458 - mean_absolute_error: 0.1441 - val_loss: 0.2494 - val_mean_absolute_error: 0.1444\n",
      "Epoch 4/1000\n",
      "148545/148545 - 3s - loss: 0.2353 - mean_absolute_error: 0.1380 - val_loss: 0.2358 - val_mean_absolute_error: 0.1402\n",
      "Epoch 5/1000\n",
      "148545/148545 - 3s - loss: 0.2298 - mean_absolute_error: 0.1351 - val_loss: 0.2279 - val_mean_absolute_error: 0.1323\n",
      "Epoch 6/1000\n",
      "148545/148545 - 3s - loss: 0.2250 - mean_absolute_error: 0.1327 - val_loss: 0.2253 - val_mean_absolute_error: 0.1344\n",
      "Epoch 7/1000\n",
      "148545/148545 - 3s - loss: 0.2214 - mean_absolute_error: 0.1311 - val_loss: 0.2208 - val_mean_absolute_error: 0.1317\n",
      "Epoch 8/1000\n",
      "148545/148545 - 2s - loss: 0.2185 - mean_absolute_error: 0.1299 - val_loss: 0.2175 - val_mean_absolute_error: 0.1285\n",
      "Epoch 9/1000\n",
      "148545/148545 - 2s - loss: 0.2159 - mean_absolute_error: 0.1286 - val_loss: 0.2156 - val_mean_absolute_error: 0.1289\n",
      "Epoch 10/1000\n",
      "148545/148545 - 2s - loss: 0.2138 - mean_absolute_error: 0.1276 - val_loss: 0.2134 - val_mean_absolute_error: 0.1290\n",
      "Epoch 11/1000\n",
      "148545/148545 - 3s - loss: 0.2123 - mean_absolute_error: 0.1269 - val_loss: 0.2120 - val_mean_absolute_error: 0.1287\n",
      "Epoch 12/1000\n",
      "148545/148545 - 3s - loss: 0.2110 - mean_absolute_error: 0.1265 - val_loss: 0.2116 - val_mean_absolute_error: 0.1292\n",
      "Epoch 13/1000\n",
      "148545/148545 - 3s - loss: 0.2101 - mean_absolute_error: 0.1261 - val_loss: 0.2098 - val_mean_absolute_error: 0.1255\n",
      "Epoch 14/1000\n",
      "148545/148545 - 3s - loss: 0.2090 - mean_absolute_error: 0.1257 - val_loss: 0.2093 - val_mean_absolute_error: 0.1272\n",
      "Epoch 15/1000\n",
      "148545/148545 - 3s - loss: 0.2081 - mean_absolute_error: 0.1253 - val_loss: 0.2085 - val_mean_absolute_error: 0.1261\n",
      "Epoch 16/1000\n",
      "148545/148545 - 3s - loss: 0.2075 - mean_absolute_error: 0.1251 - val_loss: 0.2071 - val_mean_absolute_error: 0.1245\n",
      "Epoch 17/1000\n",
      "148545/148545 - 2s - loss: 0.2070 - mean_absolute_error: 0.1249 - val_loss: 0.2079 - val_mean_absolute_error: 0.1291\n",
      "Epoch 18/1000\n",
      "148545/148545 - 2s - loss: 0.2066 - mean_absolute_error: 0.1248 - val_loss: 0.2066 - val_mean_absolute_error: 0.1250\n",
      "Epoch 19/1000\n",
      "148545/148545 - 3s - loss: 0.2063 - mean_absolute_error: 0.1246 - val_loss: 0.2063 - val_mean_absolute_error: 0.1243\n",
      "Epoch 20/1000\n",
      "148545/148545 - 3s - loss: 0.2061 - mean_absolute_error: 0.1245 - val_loss: 0.2070 - val_mean_absolute_error: 0.1282\n",
      "Epoch 21/1000\n",
      "148545/148545 - 3s - loss: 0.2058 - mean_absolute_error: 0.1244 - val_loss: 0.2062 - val_mean_absolute_error: 0.1259\n",
      "Epoch 22/1000\n",
      "148545/148545 - 2s - loss: 0.2056 - mean_absolute_error: 0.1243 - val_loss: 0.2059 - val_mean_absolute_error: 0.1262\n",
      "Epoch 23/1000\n",
      "148545/148545 - 2s - loss: 0.2053 - mean_absolute_error: 0.1242 - val_loss: 0.2054 - val_mean_absolute_error: 0.1236\n",
      "Epoch 24/1000\n",
      "148545/148545 - 2s - loss: 0.2052 - mean_absolute_error: 0.1242 - val_loss: 0.2051 - val_mean_absolute_error: 0.1251\n",
      "Epoch 25/1000\n",
      "148545/148545 - 3s - loss: 0.2050 - mean_absolute_error: 0.1241 - val_loss: 0.2050 - val_mean_absolute_error: 0.1225\n",
      "Epoch 26/1000\n",
      "148545/148545 - 2s - loss: 0.2048 - mean_absolute_error: 0.1240 - val_loss: 0.2052 - val_mean_absolute_error: 0.1244\n",
      "Epoch 27/1000\n",
      "148545/148545 - 3s - loss: 0.2046 - mean_absolute_error: 0.1239 - val_loss: 0.2050 - val_mean_absolute_error: 0.1220\n",
      "Epoch 28/1000\n",
      "148545/148545 - 2s - loss: 0.2045 - mean_absolute_error: 0.1239 - val_loss: 0.2046 - val_mean_absolute_error: 0.1237\n",
      "Epoch 29/1000\n",
      "148545/148545 - 2s - loss: 0.2044 - mean_absolute_error: 0.1238 - val_loss: 0.2042 - val_mean_absolute_error: 0.1222\n",
      "Epoch 30/1000\n",
      "148545/148545 - 2s - loss: 0.2042 - mean_absolute_error: 0.1238 - val_loss: 0.2045 - val_mean_absolute_error: 0.1210\n",
      "Epoch 31/1000\n",
      "148545/148545 - 2s - loss: 0.2041 - mean_absolute_error: 0.1238 - val_loss: 0.2047 - val_mean_absolute_error: 0.1204\n",
      "Epoch 32/1000\n",
      "148545/148545 - 3s - loss: 0.2040 - mean_absolute_error: 0.1237 - val_loss: 0.2044 - val_mean_absolute_error: 0.1253\n",
      "Epoch 33/1000\n",
      "148545/148545 - 2s - loss: 0.2039 - mean_absolute_error: 0.1237 - val_loss: 0.2039 - val_mean_absolute_error: 0.1231\n",
      "Epoch 34/1000\n",
      "148545/148545 - 2s - loss: 0.2038 - mean_absolute_error: 0.1236 - val_loss: 0.2041 - val_mean_absolute_error: 0.1242\n",
      "Epoch 35/1000\n",
      "148545/148545 - 2s - loss: 0.2037 - mean_absolute_error: 0.1236 - val_loss: 0.2037 - val_mean_absolute_error: 0.1245\n",
      "Epoch 36/1000\n",
      "148545/148545 - 2s - loss: 0.2037 - mean_absolute_error: 0.1236 - val_loss: 0.2042 - val_mean_absolute_error: 0.1231\n",
      "Epoch 37/1000\n",
      "148545/148545 - 2s - loss: 0.2035 - mean_absolute_error: 0.1236 - val_loss: 0.2038 - val_mean_absolute_error: 0.1252\n",
      "Epoch 38/1000\n",
      "148545/148545 - 3s - loss: 0.2034 - mean_absolute_error: 0.1235 - val_loss: 0.2038 - val_mean_absolute_error: 0.1235\n",
      "Epoch 39/1000\n",
      "148545/148545 - 3s - loss: 0.2034 - mean_absolute_error: 0.1235 - val_loss: 0.2036 - val_mean_absolute_error: 0.1234\n",
      "Epoch 40/1000\n",
      "148545/148545 - 3s - loss: 0.2033 - mean_absolute_error: 0.1234 - val_loss: 0.2040 - val_mean_absolute_error: 0.1243\n",
      "Epoch 41/1000\n",
      "148545/148545 - 2s - loss: 0.2033 - mean_absolute_error: 0.1234 - val_loss: 0.2033 - val_mean_absolute_error: 0.1227\n",
      "Epoch 42/1000\n",
      "148545/148545 - 2s - loss: 0.2032 - mean_absolute_error: 0.1234 - val_loss: 0.2040 - val_mean_absolute_error: 0.1247\n",
      "Epoch 43/1000\n",
      "148545/148545 - 2s - loss: 0.2031 - mean_absolute_error: 0.1234 - val_loss: 0.2032 - val_mean_absolute_error: 0.1229\n",
      "Epoch 44/1000\n",
      "148545/148545 - 2s - loss: 0.2030 - mean_absolute_error: 0.1234 - val_loss: 0.2033 - val_mean_absolute_error: 0.1215\n",
      "Epoch 45/1000\n",
      "148545/148545 - 3s - loss: 0.2030 - mean_absolute_error: 0.1234 - val_loss: 0.2032 - val_mean_absolute_error: 0.1207\n",
      "Epoch 46/1000\n",
      "148545/148545 - 2s - loss: 0.2028 - mean_absolute_error: 0.1233 - val_loss: 0.2032 - val_mean_absolute_error: 0.1244\n",
      "Epoch 47/1000\n",
      "148545/148545 - 2s - loss: 0.2027 - mean_absolute_error: 0.1233 - val_loss: 0.2031 - val_mean_absolute_error: 0.1237\n",
      "Epoch 48/1000\n",
      "148545/148545 - 3s - loss: 0.2025 - mean_absolute_error: 0.1232 - val_loss: 0.2028 - val_mean_absolute_error: 0.1220\n",
      "Epoch 49/1000\n",
      "148545/148545 - 3s - loss: 0.2024 - mean_absolute_error: 0.1232 - val_loss: 0.2025 - val_mean_absolute_error: 0.1241\n",
      "Epoch 50/1000\n",
      "148545/148545 - 3s - loss: 0.2022 - mean_absolute_error: 0.1231 - val_loss: 0.2026 - val_mean_absolute_error: 0.1245\n",
      "Epoch 51/1000\n",
      "148545/148545 - 3s - loss: 0.2022 - mean_absolute_error: 0.1231 - val_loss: 0.2022 - val_mean_absolute_error: 0.1226\n",
      "Epoch 52/1000\n",
      "148545/148545 - 2s - loss: 0.2020 - mean_absolute_error: 0.1231 - val_loss: 0.2022 - val_mean_absolute_error: 0.1216\n",
      "Epoch 53/1000\n",
      "148545/148545 - 2s - loss: 0.2020 - mean_absolute_error: 0.1231 - val_loss: 0.2025 - val_mean_absolute_error: 0.1245\n",
      "Epoch 54/1000\n",
      "148545/148545 - 2s - loss: 0.2019 - mean_absolute_error: 0.1230 - val_loss: 0.2024 - val_mean_absolute_error: 0.1244\n",
      "Epoch 55/1000\n",
      "148545/148545 - 3s - loss: 0.2019 - mean_absolute_error: 0.1230 - val_loss: 0.2022 - val_mean_absolute_error: 0.1220\n",
      "Epoch 56/1000\n",
      "148545/148545 - 3s - loss: 0.2018 - mean_absolute_error: 0.1230 - val_loss: 0.2021 - val_mean_absolute_error: 0.1227\n",
      "Epoch 57/1000\n",
      "148545/148545 - 3s - loss: 0.2017 - mean_absolute_error: 0.1229 - val_loss: 0.2020 - val_mean_absolute_error: 0.1215\n",
      "Epoch 58/1000\n",
      "148545/148545 - 3s - loss: 0.2016 - mean_absolute_error: 0.1229 - val_loss: 0.2021 - val_mean_absolute_error: 0.1251\n",
      "Epoch 59/1000\n",
      "148545/148545 - 3s - loss: 0.2016 - mean_absolute_error: 0.1229 - val_loss: 0.2029 - val_mean_absolute_error: 0.1272\n",
      "Epoch 60/1000\n",
      "148545/148545 - 2s - loss: 0.2017 - mean_absolute_error: 0.1229 - val_loss: 0.2018 - val_mean_absolute_error: 0.1238\n",
      "Epoch 61/1000\n",
      "148545/148545 - 3s - loss: 0.2015 - mean_absolute_error: 0.1229 - val_loss: 0.2021 - val_mean_absolute_error: 0.1230\n",
      "Epoch 62/1000\n",
      "148545/148545 - 3s - loss: 0.2015 - mean_absolute_error: 0.1228 - val_loss: 0.2018 - val_mean_absolute_error: 0.1213\n",
      "Epoch 63/1000\n",
      "148545/148545 - 3s - loss: 0.2014 - mean_absolute_error: 0.1228 - val_loss: 0.2023 - val_mean_absolute_error: 0.1254\n"
     ]
    },
    {
     "name": "stdout",
     "output_type": "stream",
     "text": [
      "Epoch 64/1000\n",
      "148545/148545 - 3s - loss: 0.2013 - mean_absolute_error: 0.1228 - val_loss: 0.2018 - val_mean_absolute_error: 0.1216\n",
      "Epoch 65/1000\n",
      "148545/148545 - 3s - loss: 0.2013 - mean_absolute_error: 0.1228 - val_loss: 0.2016 - val_mean_absolute_error: 0.1218\n",
      "Epoch 66/1000\n",
      "148545/148545 - 3s - loss: 0.2012 - mean_absolute_error: 0.1227 - val_loss: 0.2019 - val_mean_absolute_error: 0.1195\n",
      "Epoch 67/1000\n",
      "148545/148545 - 2s - loss: 0.2012 - mean_absolute_error: 0.1226 - val_loss: 0.2015 - val_mean_absolute_error: 0.1225\n",
      "Epoch 68/1000\n",
      "148545/148545 - 2s - loss: 0.2011 - mean_absolute_error: 0.1227 - val_loss: 0.2013 - val_mean_absolute_error: 0.1226\n",
      "Epoch 69/1000\n",
      "148545/148545 - 3s - loss: 0.2010 - mean_absolute_error: 0.1226 - val_loss: 0.2016 - val_mean_absolute_error: 0.1205\n",
      "Epoch 70/1000\n",
      "148545/148545 - 3s - loss: 0.2009 - mean_absolute_error: 0.1226 - val_loss: 0.2013 - val_mean_absolute_error: 0.1231\n",
      "Epoch 71/1000\n",
      "148545/148545 - 3s - loss: 0.2009 - mean_absolute_error: 0.1226 - val_loss: 0.2012 - val_mean_absolute_error: 0.1228\n",
      "Epoch 72/1000\n",
      "148545/148545 - 3s - loss: 0.2008 - mean_absolute_error: 0.1225 - val_loss: 0.2013 - val_mean_absolute_error: 0.1247\n",
      "Epoch 73/1000\n",
      "148545/148545 - 3s - loss: 0.2008 - mean_absolute_error: 0.1225 - val_loss: 0.2014 - val_mean_absolute_error: 0.1241\n",
      "Epoch 74/1000\n",
      "148545/148545 - 3s - loss: 0.2008 - mean_absolute_error: 0.1225 - val_loss: 0.2010 - val_mean_absolute_error: 0.1224\n",
      "Epoch 75/1000\n",
      "148545/148545 - 3s - loss: 0.2007 - mean_absolute_error: 0.1225 - val_loss: 0.2014 - val_mean_absolute_error: 0.1239\n",
      "Epoch 76/1000\n",
      "148545/148545 - 3s - loss: 0.2007 - mean_absolute_error: 0.1224 - val_loss: 0.2009 - val_mean_absolute_error: 0.1211\n",
      "Epoch 77/1000\n",
      "148545/148545 - 2s - loss: 0.2006 - mean_absolute_error: 0.1224 - val_loss: 0.2011 - val_mean_absolute_error: 0.1225\n",
      "Epoch 78/1000\n",
      "148545/148545 - 3s - loss: 0.2007 - mean_absolute_error: 0.1225 - val_loss: 0.2012 - val_mean_absolute_error: 0.1234\n",
      "Epoch 79/1000\n",
      "148545/148545 - 2s - loss: 0.2005 - mean_absolute_error: 0.1224 - val_loss: 0.2007 - val_mean_absolute_error: 0.1223\n",
      "Epoch 80/1000\n",
      "148545/148545 - 2s - loss: 0.2005 - mean_absolute_error: 0.1224 - val_loss: 0.2007 - val_mean_absolute_error: 0.1214\n",
      "Epoch 81/1000\n",
      "148545/148545 - 3s - loss: 0.2004 - mean_absolute_error: 0.1223 - val_loss: 0.2010 - val_mean_absolute_error: 0.1233\n",
      "Epoch 82/1000\n",
      "148545/148545 - 3s - loss: 0.2004 - mean_absolute_error: 0.1223 - val_loss: 0.2010 - val_mean_absolute_error: 0.1234\n",
      "Epoch 83/1000\n",
      "148545/148545 - 3s - loss: 0.2004 - mean_absolute_error: 0.1223 - val_loss: 0.2009 - val_mean_absolute_error: 0.1215\n",
      "Epoch 84/1000\n",
      "148545/148545 - 3s - loss: 0.2004 - mean_absolute_error: 0.1223 - val_loss: 0.2013 - val_mean_absolute_error: 0.1212\n",
      "Epoch 85/1000\n",
      "148545/148545 - 3s - loss: 0.2003 - mean_absolute_error: 0.1223 - val_loss: 0.2008 - val_mean_absolute_error: 0.1228\n",
      "Epoch 86/1000\n",
      "148545/148545 - 3s - loss: 0.2003 - mean_absolute_error: 0.1223 - val_loss: 0.2008 - val_mean_absolute_error: 0.1235\n",
      "Epoch 87/1000\n",
      "148545/148545 - 3s - loss: 0.2003 - mean_absolute_error: 0.1223 - val_loss: 0.2009 - val_mean_absolute_error: 0.1198\n",
      "Epoch 88/1000\n",
      "148545/148545 - 3s - loss: 0.2003 - mean_absolute_error: 0.1223 - val_loss: 0.2011 - val_mean_absolute_error: 0.1249\n",
      "Epoch 89/1000\n",
      "Restoring model weights from the end of the best epoch.\n",
      "148545/148545 - 3s - loss: 0.2003 - mean_absolute_error: 0.1222 - val_loss: 0.2011 - val_mean_absolute_error: 0.1243\n",
      "Epoch 00089: early stopping\n"
     ]
    }
   ],
   "source": [
    "# Fitting Neural network to training set\n",
    "\n",
    "model_history=model.fit(x_train, y_train, validation_data=(x_test, y_test), batch_size=512, verbose=2, callbacks=[monitor, lrs], epochs=1000)"
   ]
  },
  {
   "cell_type": "code",
   "execution_count": null,
   "metadata": {},
   "outputs": [],
   "source": []
  },
  {
   "cell_type": "code",
   "execution_count": 24,
   "metadata": {
    "colab": {
     "base_uri": "https://localhost:8080/",
     "height": 142
    },
    "id": "AT8SOvaeap0x",
    "outputId": "c1eec1b2-94c5-4a80-bc87-7ed372b14acf"
   },
   "outputs": [
    {
     "data": {
      "text/plain": [
       "array([[ 0., -0., -0., ...,  0.,  0.,  0.],\n",
       "       [ 0.,  0.,  0., ...,  0.,  0.,  0.],\n",
       "       [ 1.,  0.,  0., ...,  0.,  0.,  0.],\n",
       "       ...,\n",
       "       [ 0.,  0.,  0., ...,  0.,  0.,  0.],\n",
       "       [ 1.,  0.,  0., ...,  0.,  0.,  0.],\n",
       "       [ 0.,  0.,  0., ...,  0.,  0.,  0.]])"
      ]
     },
     "execution_count": 24,
     "metadata": {},
     "output_type": "execute_result"
    }
   ],
   "source": [
    "y_train"
   ]
  },
  {
   "cell_type": "code",
   "execution_count": 25,
   "metadata": {},
   "outputs": [
    {
     "data": {
      "text/plain": [
       "array([[ 0.,  0.,  0., ...,  0.,  0.,  0.],\n",
       "       [ 0., -0.,  0., ...,  0., -0.,  0.],\n",
       "       [ 0.,  1.,  0., ...,  0.,  0.,  0.],\n",
       "       ...,\n",
       "       [ 0.,  1., -0., ...,  0.,  0.,  0.],\n",
       "       [ 1.,  0., -0., ...,  0.,  0.,  0.],\n",
       "       [ 0.,  0.,  0., ...,  0.,  0.,  0.]])"
      ]
     },
     "execution_count": 25,
     "metadata": {},
     "output_type": "execute_result"
    }
   ],
   "source": [
    "y_test = np.asarray(y_test)\n",
    "x_test = np.asarray(x_test)\n",
    "y_test\n"
   ]
  },
  {
   "cell_type": "code",
   "execution_count": 26,
   "metadata": {},
   "outputs": [
    {
     "data": {
      "text/plain": [
       "(16505, 80)"
      ]
     },
     "execution_count": 26,
     "metadata": {},
     "output_type": "execute_result"
    }
   ],
   "source": [
    "y_test.shape"
   ]
  },
  {
   "cell_type": "code",
   "execution_count": 27,
   "metadata": {
    "colab": {
     "base_uri": "https://localhost:8080/",
     "height": 53
    },
    "id": "jnvop5zhare2",
    "outputId": "f9e033be-f657-4367-e93a-750eee9cc444"
   },
   "outputs": [
    {
     "name": "stdout",
     "output_type": "stream",
     "text": [
      "\r",
      "16505/1 [==============================================================================================================================================================================================================================================================================================================================================================================================================================================================================================================================================================================================================================================================================================================================================================================================================================================================================================================================================================================================================================================================================================================================================================================================================================================================================================================================================================================================================================================================================================================================================================================================================================================================================================================================================================================================================================================================================================================================================================================================================================================================================================================================================================================================================================================================================================================================================================================================================================================================================================================================================================================================================================================================================================================================================================================================================================================================================================================================================================================================================================================================================================================================================================================================================================================================================================================================================================================================================================================================================================================================================================================================================================================================================================================================================================================================================================================================================================================================================================================================================================================================================================================================================================================================================================================================================================================================================================================================================================================================================================================================================================================================================================================================================================================================================================================================================================================================================================================================================================================================================================================================================================================================================================================================================================================================================================================================================================================================================================================================================================================================================================================================================================================================================================================================================================================================================================================================================================================================================================================================================================================================================================================================================================================================================================================================================================================================================================================================================================================================================================================================================================================================================================================================================================================================================================================================================================================================================================================================================================================================================================================================================================================================================================================================================================================================================================================================================================================================================================================================================================================================================================================================================================================================================================================================================================================================================================================================================================================================================================================================================================================================================================================================================================================================================================================================================================================================================================================================================================================================================================================================================================================================================================================================================================================================================================================================================================================================================================================================================================================================================================================================================================================================================================================================================================================================================================================================================================================================================================================================================================================================================================================================================================================================================================================================================================================================================================================================================================================================================================================================================================================================================================================================================================================================================================================================================================================================================================================================================================================================================================================================================================================================================================================================================================================================================================================================================================================================================================================================================================================================================================================================================================================================================================================================================================================================================================================================================================================================================================================================================================================================================================================================================================================================================================================================================================================================================================================================================================================================================================================================================================================================================================================================================================================================================================================================================================================================================================================================================================================================================================================================================================================================================================================================================================================================================================================================================================================================================================================================================================================================================================================================================================================================================================================================================================================================================================================================================================================================================================================================================================================================================================================================================================================================================================================================================================================================================================================================================================================================================================================================================================================================================================================================================================================================================================================================================================================================================================================================================================================================================================================================================================================================================================================================================================================================================================================================================================================================================================================================================================================================================================================================================================================================================================================================================================================================================================================================================================================================================================================================================================================================================================================================================================================================================================================================================================================================================================================================================================================================================================================================================================================================================================================================================================================================================================================================================================================================================================================================================================================================================================================================================================================================================================================================================================================================================================================================================================================================================================================================================================================================================================================================================================================================================================================================================================================================================================================================================================================================================================================================================================================================================================================================================================================================================================================================================================================================================================================================================================================================================================================================================================================================================================================================================================================================================================================================================================================================================================================================================================================================================================================================================================================================================================================================================================================================================================================================================================================================================================================================================================================================================================================================================================================================================================================================================================================================================================================================================================================================================================================================================================================================================================================================================================================================================================================================================================================================================================================================================================================================================================================================================================================================================================================================================================================================================================================================================================================================================================================================================================================================================================================================================================================================================================================================================================================================================================================================================================================================================================================================================================================================================================================================================================================================================================================================================================================================================================================================================================================================================================================================================================================================================================================================================================================================================================================================================================================================================================================================================================================================================================================================================================================================================================================================================================================================================================================================================================================================================================================================================================================================================================================================================================================================================================================================================================================================================================================================================================================================================================================================================================================================================================================================================================================================================================================================================================================================================================================================================================================================================================================================================================================================================================================================================================================================================================================================================================================================================================================================================================================================================================================================================================================================================================================================================================================================================================================================================================================================================================================================================================================================================================================================================================================================================================================================================================================================================================================================================================================================================================================================================================================================================================================================================================================================================================================================================================================================================================================================================================================================================================================================================================================================================================================================================================================================================================================================================================================================================================================================================================================================================================================================================================================================================================================================================================================================================================================================================================================================================================================================================================================================================================================================================================================================================================================================================================================================================================================================================================================================================================================================================================================================================================================================================================================================================================================================================================================================================================================================================================================================================================================================================================================================================================================================================================================================================================================================================================================================================================================================================================================================================================================================================================================================================================================================================================================================================================================================================================================================================================================================================================================================================================================================================================================================================================================================================================================================================================================================================================================================================================================================================================================================================================================================================================================================================================================================================================================================================================================================================================================================================================================================================================================================================================================================================================================================================================================================================================================================================================================================================================================================================================================================================================================================================================================================================================================================================================================================================================================================================================================================================================================================================================================================================================================================================================================================================================================================================================================================================================================================================================================================================================================================================================================================================================================================================================================================================================================================================================================================================================================================================================================================================================================================================================================================================================================================================================================================================================================================================================================================================================================================================================================================================================================================================================================================================================================================================================================================================================================================================================================================================================================================================================================================================================================================================================================================================================================================================================================================================================================================================================================================================================================================================================================================================================================================================================================================================================================================================================================================================================================================================================================================================================================================================================================================================================================================================================================================================================================================================================================================================================================================================================================================================================================================================================================================================================================================================================================================================================================================================================================================================================================================================================================================================================================================================================================================================================================================================================================================================================================================================================================================================================================================================================================================================================================================================================================================================================================================================================================================================================================================================================================================================================================================================================================================================================================================================================================================================================================================================================================================================================================================================================================================================================================================================================================================================================================================================================================================================================================================================================================================================================================================================================================================================================================================================================================================================================================================================================================================================================================================================================================================================================================================================================================================================================================================================================================================================================================================================================================================================================================================================================================================================================================================================================================================================================================================================================================================================================================================================================================================================================================================================================================================================================================================================================================================================================================================================================================================================================================================================================================================================================================================================================================================================================================================================================================================================================================================================================================================================================================================================================================================================================================================================================================================================================================================================================================================================================================================================================================================================================================================================================================================================================================================================================================================================================================================================================================================================================================================================================================================================================================================================================================================================================================================================================================================================================================================================================================================================================================================================================================================================================================================================================================================================================================================================================================================================================================================================================================================================================================================================================================================================================================================================================================================================================================================================================================================================================================================================================================================================================================================================================================================================================================================================================================================================================================================================================================================================================================================================================================================================================================================================================================================================================================================================================================================================================================================================================================================================================================================================================================================================================================================================================================================================================================================================================================================================================================================================================================================================================================================================================================================================================================================================================================================================================================================================================================================================================================================================================================================================================================================================================================================================================================================================================================================================================================================================================================================================================================================================================================================================================================================================================================================================================================================================================================================================================================================================================================================================================================================================================================================================================================================================================================================================================================================================================================================================================================================================================================================================================================================================================================================================================================================================================================================================================================================================================================================================================================================================================================================================================================================================================================================================================================================================================================================================================================================================================================================================================================================================================================================================================================================================================================================================================================================================================================================================================================================================================================================================================================================================================================================================================================================================================================================================================================================================================================================================================================================================================================================================================================================================================================================================================================================================================================================================================================================================================================================================================================================================================================================================================================================================================================================================================================================================================================================================================================================================================================================================================================================================================================================================================================================================================================================================================================================================================================================================================================================================================================================================================================================================================================================================================================================================================================================================================================================================================================================================================================================================================================================================================================================================================================================================================================================================================================================================================================================================================================================================================================================================================================================================================================================================================================================================================================================================================================================================================================================================================================================================================================================================================================================================================================================================================================================================================================================================================================================================================================================================================================================================================================================================================================================================================================================================================================================================================================================================================================================================================================================================================================================================================================================================================================================================================================================================================================================================================================================================================================================================================================================================================================================================================================================================================================================================================================================================================================================================================================================================================================================================================================================================================================================================================================================================================================================================================================================================================================================================================================================================================================================================================================================================================================================================================================================================================================================================================================================================================================================================================================================================================================================================================================================================================================================================================================================================================================================================================================================================================================================================================================================================================================================================================================================================================================================================================================================================================================================================================================================================================================================================================================================================================================================================================================================================================================================================================================================================================================================================================================================================================================================================================================================================================================================================================================================================================================================================================================================================================================================================================================================================================================================================================================================================================================================================================================================================================================================================================================================================================================================================================================================================================================================================================================================================================================================================================================================================================================================================================================================================================================================================================================================================================================================================================================================================================================================================================================================================================================================================================================================================================================================================================================================================================================================================================================================================================================================================================================================================================================================================================================================================================================================================================================================================================================================================================================================================================================================================================================================================================================================================================================================================================================================================================================================================================================================================================================================================================================================================================================================================================================================================================================================================================================================================================================================================================================================================================================================================================================================================================================================================================================================================================================================================================================================================================================================================================================================================================================================================================================================================================================================================================================================================================================================================================================================================================================================================================================================================================================================================================================================================================================================================================================================================================================================================================================================================================================================================================================================================================================================================================================================================================================================================================================================================================================================================================================================================================================================================================================================================================================================================================================================================================================================================================================================================================================================================================================================================================================================================================================================================================================================================================================================================================================================================================================================================================================================================================================================================================================================================================================================================================================================================================================================================================================================================================================================================================================================================================================================================================================================================================================================================================================================================================================================================================================================================================================================================================================================================================================================================================================================================================================================================================================================================================================================================================================================================================================================================================================================================================================================================================================================================================================================================================================================================================================================================================================================================================================================================================================================================================================================================================================================================================================================================================================================================================================================================================================================================================================================================================================================================================================================================================================================================================================================================================================================================================================================================================================================================================================================================================================================================================================================================================================================================================================================================================================================================================================================================================================================================================================================================================================================================================================================================================================================================================================================================================================================================================================================================================================================================================================================================================================================================================================================================================================================================================================================================================================================================================================================================================================================================================================================================================================================================================================================================================================================================================================================================================================================================================================================================================================================================================================================================================================================================================================================================================================================================================================================================================================================================================================================================================================================================================================================================================================================================================================================================================================================================================================================================================================================================================================================================================================================================================================================================================================================================================================================================================================================================================================================================================================================================================================================================================================================================================================================================================================================================================================================================================================================================================================================================================================================================================================================================================================================================================================================================================================================================================================================================================================================================================================================================================================================================================================================================================================================================================================================================================================================================================================================================================================================================================================================================================================================================================================================================================================================================================================================================================================================================================================================================================================================================================================================================================================================================================================================================================================================================================================================================================================================================================================================================================================================================================================================================================================================================================================================================================================================================================================================================================================================================================================================================================================================================================================================================================================================================================================================================================================================================================================================================================================================================================================================================================================================================================================================================================================================================================================================================================================================================================================================================================================================================================================================================================================================================================================================================================================================================================================================================================================================================================================================================================================================================================================================================================================================================================================================================================================================================================================================================================================================================================================================================================================================================================================================================================================================================================================================================================================================================================================================================================================================================================================================================================================================================================================================================================================================================================================================================================================================================================================================================================================================================================================================================================================================================================================================================================================================================================================================================================================================================================================================================================================================================================================================================================================================================================================================================================================================================================================================================================================================================================================================================================================================================================================================================================================================================================================================================================================================================================================================================================================================================================================================================================================================================================================================================================================================================================================================================================================================================================================================================================================================================================================================================================================================================================================================================================================================================================================================================================================================================================================================================================================================================================================================================================================================================================================================================================================================================================================================================================================================================================================================================================================================================================================================================================================================================================================================================================================================================================================================================================================================================================================================================================================================================================================================================================================================================================================================================================================================================================================================================================================================================================================================================================================================================================================================================================================================================================================================================================================================================================================================================================================================================================================================================================================================================================================================================================================================================================================================================================================================================================================================================================================================================================================================================================================================================================================================================================================================================================================================================================================================================================================================================================================================================================================================================================================================================================================================================================================================================================================================================================================================================================================================================================================================================================================================================================================================================================================================================================================================================================================================================================================================================================================================================================================================================================================================================================================================================================================================================================================================================================================================================================================================================================================================================================================================================================================================================================================================================================================================================================================================================================================================================================================================================================================================================================================================================================================================================================================================================================================================================================================================================================================================================================================================================================================================================================================================================================================================================================================================================================================================================================================================================================================================================================================================================================================================================================================================================================================================================================================================================================================================================================================================================================================================================================================================================================================================================================================================================================================================================================================================================================================================================================================================================================================================================================================================================================================================================================================================================================================================================================================================================================================================================================================================================================================================================================================================================================================================================================================================================================================================================================================================================================================================================================================================================================================================================================================================================================================================================================================================================================================================================================================================================================================================================================================================================================================================================================================================================================================================================================================================================================================================================================================================================================================================================================================================================================================================================================================================================================================================================================================================================================================================================================================================================================================================================================================================================================================================================================================================================================================================================================================================================================================================================================================================================================================================================================================================================================================================================================================================================================================================================================================================================================================================================================================================================================================================================================================================================================================================================================================================================================================================================================================================================================================================================================================================================================================================================================================================================================================================================================================================================================================================================================================================================================================================================================================================================================================================================================================================================================================================================================================================================================================================================================================================================================================================================================================================================================================================================================================================================================================================================================================================================================================================================================================================================================================================================================================================================================================================================================================================================================================================================================================================================================================================================================================================================================================================================================================================================================================================================================================================================================================================================================================================================================================================================================================================================================================================================================================================================================================================================================================================================================================================================================================================================================================================================================================================================================================================================================================================================================================================================================================================================================================================================================================================================================================================================================================================================================================================================================================================================================================================================================================================================================================================================================================================================================================================================================================================================================================================================================================================================================================================================================================================================================================================================================================================================================================================================================================================================================================================================================================================================================================================================================================================================================================================================================================================================================================================================================================================================================================================================================================================================================================================================================================================================================================================================================================================================================================================================================================================================================================================================================================================================================================================================================================================================================================================================================================================================================================================================================================================================================================================================================================================================================================================================================================================================================================================================================================================================================================================================================================================================================================================================================================================================================================================================================================================================================================================================================================================================================================================================================================================================================================================================================================================================================================================================================================================================================================================================================================================================================================================================================================================================================================================================================================================================================================================================================================================================================================================================================================================================================================================================================================================================================================================================================================================================================================================================================================================================================================================================================================================================================================================================================================================================================================================================================================================================================================================================================================================================================================================================================================================================================================================================================================================================================================================================================================================================================================================================================================================================================================================================================================================================================================================================================================================================================================================================================================================================================================================================================================================================================================================================================================================================================================================================================================================================================================================================================================================================================================================================================================================================================================================================================================================================================================================================================================================================================================================================================================================================================================================================================================================================================================================================================================================================================================================================================================================================================================================================================================================================================================================================================================================================================================================================================================================================================================================================================================================================================================================================================================================================================================================================================================================================================================================================================================================================================================================================================================================================================================================================================================================================================================================================================================================================================================================================================================================================================================================================================================================================================================================================================================================================================================================================================================================================================================================================================================================================================================================================================================================================================================================================================================================================================================================================================================================================================================================================================================================================================================================================================================================================================================================================================================================================================================================================================================================================================================================================================================================================================================================================================================================================================================================================================================================================================================================================================================================================================================================================================================================================================================================================================================================================================================================================================================================================================================================================================================================================================================================================================================================================================================================================================================================================================================================================================================================================================================================================================================================================================================================================================================================================================================================================================================================================================================================================================================================================================================================================================================================================================================================================================================================================================================================================================================================================================================================================================================================================================================================================================================================================================================================================================================================================================================================================================================================================================================================================================================================================================================================================================================================================================================================================================================================================================================================================================================================================================================================================================================================================================================================================================================================================================================================================================================================================================================================================================================================================================================================================================================================================================================================================================================================================================================================================================================================================================================================================================================================================================================================================================================================================================================================================================================================================================================================================================================================================================================================================================================================================================================================================================================================================================================================================================================================================================================================================================================================================================================================================================================================================================================================================================================================================================================================================================================================================================================================================================================================================================================================================================================================================================================================================================================================================================================================================================================================================================================================================================================================================================================================================================================================================================================================================================================================================================================================================================================================================================================================================================================================================================================================================================================================================================================================================================================================================================================================================================================================================================================================================================================================================================================================================================================================================================================================================================================================================================================================================================================================================================================================================================================================================================================================================================================================================================================================================================================================================================================================================================================================================================================================================================================================================================================================================================================================================================================================================================================================================================================================================================================================================================================================================================================================================================================================================================================================================================================================================================================================================================================================================================================================================================================================================================================================================================================================================================================================================================================================================================================================================================================================================================================================================================================================================================================================================================================================================================================================================================================================================================================================================================================================================================================================================================================================================================================================================================================================================================================================================================================================================================================================================================================================================================================================================================================================================================================================================================================================================================================================================================================================================================================================================================================================================================================================================================================================================================================================================================================================================================================================================================================================================================================================================================================================================================================================================================================================================================================================================================================================================================================================================================================================================================================================================================================================================================================================================================================================================================================================================================================================================================================================================================================================================================================================================================================================================================================================================================================================================================================================================================================================================================================================================================================================================================================================================================================================================================================================================================================================================================================================================================================================================================================================================================================================================================================================================================================================================================================================================================================================================================================================================================================================================================================================================================================================================================================================================================================================================================================================================================================================================================================================================================================================================================================================================================================================================================================================================================================================================================================================================================================================================================================================================================================================================================================================================================================================================================================================================================================================================================================================================================================================================================================================================================================================================================================================================================================================================================================================================================================================================================================================================================================================================================================================================================================================================================================================================================================================================================================================================================================================================================================================================================================================================================================================================================================================================================================================================================================================================================================================================================================================================================================================================================================================================================================================================================================================================================================================================================================================================================================================================================================================================================================================================================================================================================================================================================================================================================================================================================================================================================================================================================================================================================================================================================================================================================================================================================================================================================================================================================================================================================================================================================================================================================================================================================================================================================================================================================================================================================================================================================================================================================================================================================================================================================================================================================================================================================================================================================================================================================================================================================================================================================================================================================================================================================================================================================================================================================================================================================================================================================================================================================================================================================================================================================================================================================================================================================================================================================================================================================================================================================================================================================================================================================================================================================================================================================================================================================================================================================================================================================================================================================================================================================================================================================================================================================================================================================================================================================================================================================================================================================================================================================================================================================================================================================================================================================================================================================================================================================================================================================================================================================================================================================================================================================================================================================================================================================================================================================================================================================================================================================================================================================================================================================================================================================================================================================================================================================================================================================================================================================================================================================================================================================================================================================================================================================================================================================================================================================================================================================================================================================================================================================================================================================================================================================================================================================================================================================================================================================================================================================================================================================================================================================================================================================================================================================================================================================================================================================================================================================================================================================================================================================================================================================================================================================================================================================================================================================================================================================================================================================================================================================================================================================================================================================================================================================================================================================================================================================================================================================================================================================================================================================================================================================================================================================================================================================================================================================================================================================================================================================================================================================================================================================================================================================================================================================================================================================================================================================================================================================================================================================================================================================================================================================================================================================================================================================================================================================================================================================================================================================================================================================================================================================================================================================================================================================================================================================================================================================================================================================================================================================================================================================================================================================================================================================================================================================================================================================================================================================================================================================================================================================================================================================================================================================================================================================================================================================================================================================================================================================================================================================================================================================================================================================================================================================================================================================================================================================================================================================================================================================================================================================================================================================================================================================================================================================================================================================================================================================================================================================================================================================================================================================================================================================================================================================================================================================================================================================================================================================================================================================================================================================================================================================================================================================================================================================================================================================================================================================================================================================================================================================================================================================================================================================================================================================================================================================================================================================================================================================================================================================================================================================================================================================================================================================================================================================================================================================================================================================================================================================================================================================================================================================================================================================================================================================================================================================================================================================================================================================================================================================================================================================================================================================================================================================================================================================================================================================================================================================================================================================================================================================================================================================================================================================================================================================================================================================================================================================================================================================================================================================================================================================================================================================================================================================================================================================================================================================================================================================================================================================================================================================================================================================================================================================================================================================================================================================================================================================================================================================================================================================================================================================================================================================================================================================================================================================================================================================================================================================================================================================================================================================================================================================================================================================================================================================================================================================================================================================================================================================================================================================================================================================================================================================================================================================================================================================================================================================================================================================================================================================================================================================================================================================================================================================================================================================================================================================================================================================================================================================================================================================================================================================================================================================================================================================================================================================================================================================================================================================================================================================================================================================================================================================================================================================================================================================================================================================================================================================================================================================================================================================================================================================================================================================================================================================================================================================================================================================================================================================================================================================================================================================================================================================================================================================================================================================================================================================================================================================================================================================================================================================================================================================================================================================================================================================================================================================================================================================================================================================================================================================================================================================================================================================================================================================================================================================================================================================================================================================================================================================================================================================================================================================================================================================================================================================================================================================================================================================================================================================================================================================================================================================================================================================================================================================================================================================================================================================================================================================================================================================================================================================================================================================================================================================================================================================================================================================================================================================================================================================================================================================================================================================================================================================================================================================================================================================================================================================================================================================================================================================================================================================================================================================================================================================================================================================================================================================================================================================================================================================================================================================================================================================================================================================================================================================================================================================================================================================================================================================================================================================================================================================================================================================================================================================================================================================================================================================================================================================================================================================================================================================================================================================================================================================================================================================================================================================================================================================================================================================================================================================================================================================================================================================================================================================================================================================================================================================================================================================================================================================================================================================================================================================================================================================================================================================================================================================================================================================================================================================================================================================================================================================================================================================================================================================================================================================================================================================================================================================================================================================================================================================================================================================================================================================================================================================================================================================================================================================================================================================================================================================================================================================================================================================================================================================================================================================================================================================================================================================================================================================================================================================================================================================================================================================================================================================================================================================================================================================================================================================================================================================================================================================================================================================================================================================================================================================================================================================================================================================================================================================================================================================================================================================================================================================================================================================================================================================================================================================================================================================================================================================================================================================================================================================================================================================================================================================================================================================================================================================================================================================================================================================================================================================================================================================================================================================================================================================================================================================================================================================================================================================================================================================================================================================================================================================================================================================================================================================================================================================================================================================================================================================================================================================================================================================================================================================================================================================================================================================================================================================================================================================================================================================================================================================================================================================================================================================================================================================================================================================================================================================================================================================================================================================================================================================================================================================================================================================================================================================================================================================================================================================================================================================================================================================================================================================================================================================================================================================================================================================================================================================================================================================================================================================================================================================================================================================================================================================================================================================================================================================================================================================================================================================================================================================================================================================================================================================================================================================================================================================================================================================================================================================================================================================================================================================================================================================================================================================================================================================================================================================================================================================================================================================================================================================================================================================================================================================================================================================================================================================================================================================================================================================================================================================================================================================================================================================================================================================================================================================================================================================================================================================================================================================================================================================================================================================================================================================================================================================================================================================================================================================================================================================================================================================================================================================================================================================================================================================================================================================================================================================================================================================================================================================================================================================================================================================================================================================================================================================================================================================================================================================================================================================================================================================================================================================================================================================================================================================================================================================================================================================================================================================================================================================================================================================================================================================================================================================================================================================================================================================================================================================================================================================================================================================================================================================================================================================================================================================================================================================================================================================================================================================================================================================================================================================================================================================================================================================================================================================================================================================================================================================================================================================================================================================================================================================================================================================================================================================================================================================================================================================================================================================================================================================================================================================================================================================================================================================================================================================================================================================================================================================================================================================================================================================================================================================================================================================================================================================================================================================================================================================================================================================================================================================================================================================================================================================================================================================================================================================================================================================================================================================================================================================================================================================================================================================================================================================================================================================================================================================================================================================================================================================================================================================================================================================================================================================================================================================================================================================================================================================================================================================================================================================================================================================================================================================================================================================================================================================================================================================================================================================================================================================================================================================================================================================================================================================================================================================================================================================================================================================================================================================================================================================================================================================================================================================================================================================================================================================================================================================================================================================================================================================================================================================================================================================================================================================================================================================================================================================================================================================================================================================================================================================================================================================================================================================================================================================================================================================================================================================================================================================================================================================================================================================================================================================================================================================================================================================================================================================================================================================================================================================================================================================================================================================================================================================================================================================================================================================================================================================================================================================================================================================================================================================================================================================================================================================================================================================================================================================================================================================================================================================================================================================================================================================================================================================================================================================================================================================================================================================================================================================================================================================================================================================================================================================================================================================================================================================================================================================================================================================================================================================================================================================================================================================================================================================================================================================================================================================================================================================================================================================================================================================================================================================================================================================================================================================================================================================================================================================================================================================================================================================================================================================================================================================================================================================================================================================================================================================================================================================================================================================================================================================================================================================================================================================================================================================================================================================================================================================================================================================================================================================================================================================================================================================================================================================================================================================================================================================================================================================================================================================================================================================================================================================================================================================================================================================================================================================================================================================================================================================================================================================================================================================================================================================================================================================================================================================================================================================================================================================================================================================================================================================================================================================================================================================================================================================================================================================================================================================================================================================================================================================================================================================================================================================================================================================================================================================================================================================================================================================================================================================================================================================================================================================================================================================================================================================================================================================================================================================================================================================================================================================================================================================================================================================================================================================================================================================================================================================================================================================================================================================================================================================================================================================================================================================================================================================================================================================================================================================================================================================================================================================================================================================================================================================================================================================================================================================================================================================================================================================================================================================================================================================================================================================================================================================================================================================================================================================================================================================================================================================================================================================================================================================================================================================================================================================================================================================================================================================================================================================================================================================================================================================================================================================================================================================================================================================================================================================================================================================================================================================================================================================================================================================================================================================================================================================================================================================================================================================================================================================================================================================================================================================================================================================================================================================================================================================================================================================================================================================================================================================================================================================================================================================================================================================================================================================================================================================================================================================================================================================================================================================================================================================================================================================================================================================================================================================================================================================================================================================================================================================================================================================================================================================================================================================================================================================================================================================================================================================================================================================================================================================================================================================================================================================================================================================================================================================================================================================================================================================================================================================================================================================================================================================================================================================================================================================================================================================================================================================================================================================================================================================================================================================================================================================================================================================================================================================================================================================================================================================================================================================================================================================================================================================================================================================================================================================================================================================================================================================================================================================================================================================================================================================================================================================================================================================================================================================================================================================================================================================================================================================================================================================================================================================================================================================================================================================================================================================================================================================================================================================================================================================================================================================================================================================================================================================================================================================================================================================================================================================================================================================================================================================================================================================================================================================================================================================================================================================================================================================================================================================================================================================================================================================================================================================================================================================================================================================================================================================================================================================================================================================================================================================================================================================================================================================================================================================================================================================================================================================================================================================================================================================================================================================================================================================================================================================================================================================================================================================================================================================================================================================================================================================================================================================================================================================================================================================================================================================================================================================================================================================================================================================================================================================================================================================================================================================================================================================================================================================================================================================================================================================================================================================================================================================================================================================================================================================================================================================================================================================================================================================================================================================================================================================================================================================================================================================================================================================================================================================================================================================================================================================================================================================================================================================================================================================================================================================================================================================================================================================================================================================================================================================================================================================================================================================================================================================================================================================================================================================================================================================================================================================================================================================================================================================================================================================================================================================================================================================================================================================================================================================================================================================================================================================================================================================================================================================================================================================================================================================================================================================================================================================================================================================================================================================================================================================================================================================================================================================================================================================================================================================================================================================================================================================================================================================================================================================================================================================================================================================================================================================================================================================================================================================================================================================================================================================================================================================================================================================================================================================================================================================================================================================================================================================================================================================================================================================================================================================================================================================================================================================================================================================================================================================================================================================================================================================================================================================================================================================================================================================================================================================================================================================================================================================================================================================================================================================================================================================================================================================================================================================================================================================================================================================================================================================================================================================================================================================================================================================================================================================================================================================================================================================================================================================================================================================================================================================================================================================================================================================================================================================================================================================================================================================================================================================================================================================================================================================================================================================================================================================================================================================================================================================================================================================================================================================================================================================================================================================================================================================================================================================================================================================================================================================================================================================================================================================================================================================================================================================================================================================================================================================================================================================================================================================================================================================================================================================================================================================================================================================================================================================================================================================================================================================================================================================================================================================================================================================================================================================================================================================================================================================================================================================================================================================================================================================================================================================================================================================================================================================================================================================================================================================================================================================================================================================================================================================================================================================================================================================================================================================================================================================================================================================================================================================================================================================================================================================================================================================================================================================================================================================================================================================================================================================================================================================================================================================================================================================================================================================================================================================================================================================================================================================================================================================================================================================================================================================================================================================================================================================================================================================================================================================================================================================================================================================================================================================================================================================================================================================================================================================================================================================================================================================================================================================================================================================================================================================================================================================================================================================================================================================================================================================================================================================================================================================================================================================================================================================================================================================================================================================================================================================================================================================================================================================================================================================================================================================================================================================================================================================================================================================================================================================================================================================================================================================================================================================================================================================================================================================================================================================================================================================================================================================================================================================================================================================================================================================================================================================================================================================================================================================================================================================================================================================================================================================================================================================================================================================================================================================================================================================================================================================================================================================================================================================================================================================================================================================================================================================================================================================================================================================================================================================================================================================================================================================================================================================================================================================================================================================================================================================================================================================================================================================================================================================================================================================================================================================================================================================================================================================================================================================================================================================================================================================================================================================================================================================================================================================================================================================================================================================================================================================================================================================================================================================================================================================================================================================================================================================================================================================================================================================================================================================================================================================================================================================================================================================================================================================================================================================================================================================================================================================================================================================================================================================================================================================================================================================================================================================================================================================================================================================================================================================================================================================================================================================================================================================================================================================================================================================================================================================================================================================================================================================================================================================================================================================================================================================================================================================================================================================================================================================================================================================================================================================================================================================================================================================================================================================================================================================================================================================================================================================================================================================================================================================================================================================================================================================================================================================================================================================================================================================================================================================================================================================================================================================================================================================================================================================================================================================================================================================================================================================================================================================================================================================================================================================================================================================================================================================================================================================================================================================================================================================================================================================================================================================================================================================================================================================================================================================================================================================================================================================================================================================================================================================================================================================================================================================================================================================================================================================================================================================================================================================================================================================================================================================================================================================================================================================================================================================================================================================================================================================================================================================================================================================================================================================================================================================================================================================================================================================================================================================================================================================================================================================================================================================================================================================================================================================================================================================================================================================================================================================================================================================================================================================================================================================================================================================================================================================================================================================================================================================================================================================================================================================================================================================================================================================================================================================================================================================================================================================================================================================================================================================================================================================================================================================================================================================================================================================================================================================================================================================================================================================================================================================================================================================================================================================================================================================================================================================================================================================================================================================================================================================================================================================================================================================================================================================================================================================================================================================================================================================================================================================================================================================================================================================================================================================================================================================================================================================================================================================================================================================================================================================================================================================================================================================================================================================================================================================================================================================================================================================================================================================================================================================================================================================================================================================================================================================================================================================================================================================================================================================================================================================================================================================================================================================================================================================================================================================================================================================================================================================================================================================================================================================================================================================================================================================================================================================================================================================================================================================================================================================================================================================================================================================================================================================================================================================================================================================================================================================================================================================================================================================================================================================================================================================================================================================================================================================================================================================================================================================================================================================================================================================================================================================================================================================================================================================================================================================================================================================================================================================================================================================================================================================================================================================================================================================================================================================================================================================================================================================================================================================================================================================================================================================================================================================================================================================================================================================================================================================================================================================================================================================================================================================================================================================================================================================================================================================================================================================================================================================================================================================================================================================================================================================================================================================================================================================================================================================================================================================================================================================================================================================================================================================================================================================================================================================================================================================================================================================================================================================================================================================================================================================================================================================================================================================================================================================================================================================================================================================================================================================================================================================================================================================================================================================================================================================================================================================================================================================================================================================================================================================================================================================================================================================================================================================================================================================================================================================================================================================================================================================================================================================================================================================================================================================================================================================================================================================================================================================================================================================================================================================================================================================================================================================================================================================================================================================================================================================================================================================================================================================================================================================================================================================================================================================================================================================================================================================================================================================================================================================================================================================================================================================================================================================================================================================================================================================================================================================================================================================================================================================================================================================================================================================================================================================================================================================================================================================================================================================================================================================================================================================================================================================================================================================================================================================================================================================================================================================================================================================================================================================================================================================================================================================================================================================================================================================================================================================================================================================================================================================================================================================================================================================================================================================================================================================================================================================================================================================================================================================================================================================================================================================================================================================================================================================================================================================================================================================================================================================================================================================================================================================================================================================================================================================================================================================================================================================================================================================================================================================================================================================================================================================================================================================================================================================================================================================================================================================================================================================================================================================================================================================================================================================================================================================================================================================================================================================================================================================================================================================================================================================================================================================================================================================================================================================================================================================================================================================================================================================================================================================================================================================================================================================================================================================================================================================================================================================================================================================================================================================================================================================================================================================================================================================================================================================================================================================================================================================================================================================================================================================================================================================================================================================================================================================================================================================================================================================================================================================================================================================================================================================================================================================================================================================================================================================================================================================================================================================================================================================================================================================================================================================================================================================================================================================================================================================================================================================================================================================================================================================================================================================================================================================================================================================================================================================================================================================================================================================================================================================================================================================================================================================================================================================================================================================================================================================================================================================================================================================================================================================================================================================================================================================================================================================================================================================================================================================================================================================================================================================================================================================================================================================================================================================================================================================================================================================================================================================================================================================================================================================================================================================================================================================================================================================================================================================================================================================================================================================================================================================================================================================================================================================================================================================================================================================================================================================================================================================================================================================================================================================================================================================================================================================================================================================================================================================================================================================================================================================================================================================================================================================================================================================================================================================================================================================================================================================================================================================================================================================================================================================================================================================================================================================================================================================================================================================================================================================================================================================================================================================================================================================================================================================================================================================================================================================================================================================================================================================================================================================================================================================================================================================================================================================================================================================================================================================================================================================================================================================================================================================================================================================================================================================================================================================================================================================================================================================================================================================================================================================================================================================================================================================================================================================================================================================================================================================================================================================================================================================================================================================================================================================================================================================================================================================================================================================================================================================================================================================================================================================================================================================================================================================================================================================================================================================================================================================================================================================================================================================================================================================================================================================================================================================================================================================================================================================================================================================================================================================================================================================================================================================================================================================================================================================================================================================================================================================================================================================================================================================================================================================================================================================================================================================================================================================================================================================================================================================================================================================================================================================================================================================================================================================================================================================================================================================================================================================================================================================================================================================================================================================================================================================================================================================================================================================================================================================================================================================================================================================================================================================================================================================================================================================================================================================================================================================================================================================================================================================================================================================================================================================================================================================================================================================================================================================================================================================================================================================================================================================================================================================================================================================================================================================================================================================================================================================================================================================================================================================================================================================================================================================================================================================================================================================================================================================================================================================================================================================================================================================================================================================================================================================================================================================================================================================================================================================================================================================================================================================================================================================================================================================================================================================================================================================================================================================================================================================================================================================================================================================================================================================================================================================================================================================================================================================================================================================================================================================================================================================================================================================================================================================================================================================================================================================================================================================================================================================================================================================================================================================================================================================================================================================================================================================================================================================================================================================================================================================================================================================================================================================================================================================================================================================================================================================================================================================================================================================================================================================================================================================================================================================================================================================================================================================================================================================================================================================================================================================================================================================================================================================================================================================================================================================================================================================================================================================================================================================================================================================================================================================================================================================================================================================================================================================================================================================================================================================================================================================================================================================================================================================================================================================================================================================================================================================================================================================================================================================================================================================================================================================================================================================================================================================================================================================================================================================================================================================================================================================================================================================================================================================================================================================================================================================================================================================================================================================================================================================================================================================================================================================================================================================================================================================================================================================================================================================================================================================================================================================================================================================================================================================================================================================================================================================================================================================================================================================================================================================================================================================================================================================================================================================================================================================================================================================================================================================================================================================================================================================================================================================================================================================================================================================================================================================================================================================================================================================================================================================================================================================================================================================================================================================================================================================================================================================================================================================================================================================================================================================================================================================================================================================================================================================================================================================================================================================================================================================================================================================================================================================================================================================================================================================================================================================================================================================================================================================================================================================================================================================================================================================================================================================================================================================================================================================================================================================================================================================================================================================================================================================================================================================================================================================================================================================================================================================================================================================================================================================================================================================================================================================================================================================================================================================================================================================================================================================================================================================================================================================================================================================================================================================================================================================================================================================================================================================================================================================================================================================================================================================================================================================================================================================================================================================================================================================================================================================================================================================================================================================================================================================================================================================================================================================================================================================================================================================================================================================================================================================================================================================================================================================================================================================================================================================================================================================================================================================================================================================================================================================================================================================================================================================================================================================================================================================================================================================================================================================================================================================================================================================================================================================================================================================================================================================================================================================================================================================================================================================================================================================================================================================================================================================================================================================================================================================================================================================================================================================================================================================================================================================================================================================================================================================================================================================================================================================================================================================================================================================================================================================================================================================================================================================================================================================================================================================================================================================================================================================================================================================================================================================================================================================================================================================================================================================================================================================================================================================================================================================================================================================================================================================================================================================================================================================================================================================================================================================================================================================================================================================================================================================================================================================================================================================================================================================================================================================================================================================================================================================================================================================================================================================================================================================================================================================================================================================================================================================================================================================================================================================================================================================================================================================================================================================================================================================================================================================================================================================================================================================================================================================================================================================================================================================================================================================================================================================================================================================================================================================================================================================================================================================================================================================================================================================================================================================================================================================================================================================================================================================================================================================================================================================================================================================================================================================================================================================================================================================================================================================================================================================================================================================================================================================================================================================================================================================================================================================================================================================================================================================================================================================================================================================================================================================================================================================================================================================================================================================================================================================================================================================================================================================================================================================================================================================================================================================================================================================================================================================================================================================================================================================================================================================================================================================================================================================================================================================================================================================================================================================================================================================================================================================================================================================================================================================================================================================================================================================================================================================================================================================================================================================================================================================================================================================================================================================================================================================================================================================================================================================================================================================================================================================================================================================================================================================================================================================================================================================================================================================================================================================================================================================================================================================================================================================================================================================================================================================================================================================================================================================================================================================================================================================================================================================================================================================================================================================================================================================================================================================================================================================================================================================================================================================================================================================================================================================================================================================================================================================================================================================================================================================================================================================================================================================================================================================================================================================================================================================================================================================================================================================================================================================================================================================================================================================================================================================================================================================================================================================================================================================================================================================================================================================================================================================================================================================================================================================================================================================================================================================================================================================================================================================================================================================================================================================================================================================================================================================================================================================================================================================================================================================================================================================================================================================================================================================================================================================================================================================================================================================================================================================================================================================================================================================================================================================================================================================================================================================================================================================================================================================================================================================================================================================================================================================================================================================================================================================================================================================================================================================================================================================================================================================================================================================================================================================================================================================================================================================================================================================================================================================================================================================================================================================================================================================================================================================================================================================================================================================================================================================================================================================================================================================================================================================================================================================================================================================================================================================================================================================================================================================================================================================================================================================================================================================================================================================================================================================================================================================================================================================================================================================================================================================================================================================================================================================================================================================================================================================================================================================================================================================================================================================================================================================================================================================================================================================================================================================================================================================================================================================================================================================================================================================================================================================================================================================================================================================================================================================================================================================================================================================================================================================================================================================================================================================================================================================================================================================================================================================================================================================================================================================================================================================================================================================================================================================================================================================================================================================================================================================================================================================================================================================================================================================================================================================================================================================================================================================================================================================================================================================================================================================================================================================================================================================================================================================================================================================================================================================================================================================================================================================================================================================================================================================================================================================================================================================================================================================================================================================================================================================================================================================================================================================================================================================================================================================================================================================================================================================================================================================================================================================================================================================================================================================================================================================================================================================================================================================================================================================================================================================================================================================================================================================================================================================================================================================================================================================================================================================================================================================================================================================================================================================================================================================================================================================================================================================================================================================================================================================================================================================================================================================================================================================================================================================================================================================================================================================================================================================================================================================================================================================================================================================================================================================================================================================================================================================================================================================================================================================================================================================================================================================================================================================================================================================================================================================================================================================================================================================================================================================================================================================================================================================================================================================================================================================================================================================================================================================================================================================================================================================================================================================================================================================================================================================================================================================================================================================================================================================================================================================================================================================================================================================================================================================================================================================================================================================================================================================================================================================================================================================================================================================================================================================================================================================================================================================================================================================================================================================================================================================================================================================================================================================================================================================================================================================================================================================================================================================================================================================================================================================================================================================================================================================================================================================================================================================================================================================================================================================================================================================================================================================================================================================================================================================================================================================================================================================================================================================================================================================================================================================================================================================================================================================================================================================================================================================================================================================================================================================================================================================================================================================================================================================================================================================================================================================================================================================================================================================================================================================================================================================================================================================================================================================================================================================================================================================================================================================================================================================================================================================================================================================================================================================================================================================================================================================================================================================================================================================================================================================================================================================================================================================================================================================================================================================================================================================================================================================================================================================================================================================================================================================================================================================================================================================================================================================================================================================================================================================================================================================================================================================================================================================================================================================================================================================================================================================================================================================================================================================================================================================================================================================================================================================================================================================================================================================================================================================================================================================================================================================================================================================================================================================================================================================================================================================================================================================================================================================================================================================================================================================================================================================================================================================================================================================================================================================================================================================================================================================================================================================================================================================================================================================================================================================================================================================================================================================================================================================================================================================================================================================================================================================================================================================================================================================================================================================================================================================================================================================================================================================================================================================================================================================================================================================================================================================================================================================================================================================================================================================================================================================================================================================================================================================================================================================================================================================================================================================================================================================================================================================================================================================================================================================================================================================================================================================================================================================================================================================================================================================================================================================================================================================================================================================================================================================================================================================================================================================================================================================================================================================================================================================================================================================================================================================================================================================================================================================================================================================================================================================================================================================================================================================================================================================================================================================================================================================================================================================================================================================================================================================================================================================================================================================================================================================================================================================================================================================================================================================================================================================================================================================================================================================================================================================================================================================================================================================================================================================================================================================================================================================================================================================================================================================================================================================================================================================================================================================================================================================================================================================================================================================================================================================================================================================================================================================================================================================================================================================================================================================================================================================================================================================================================================================================================================================================================================================================================================================================================================================================================================================================================================================================================================================================================================================================================================================================================================================================================================================================================================================================================================================================================================================================================================================================================================================================================================================================================================================================================================================================================================================================================================================================================================================================================================================================================================================================================================================================================================================================================================================================================================================================================================================================================================================================================================================================================================================================================================================================================================================================================================================================================================================================================================================================================================================================================================================================================================================================================================================================================================================================================================================================================================================================================================================================================================================================================================================================================================================================================================================================================================================================================================================================================================================================================================================================================================================================================================================================================================================================================================================================================================================================================================================================================================================================================================================================================================================================================================================================================================================================================================================================================================================================================================================================================================================================================================================================================================================================================================================================================================================================================================================================================================================================================================================================================================================================================================================================================================================================================================================================================================================================================================================================================================================================================================================================================================================================================================================================================================================================================================================================================================================================================================================================================================================================================================================================================================================================================================================================================================================================================================================================================================================================================================================================================================================================================================================================================================================================================================================================================================================================================================================================================================================================================================================================================================================================================================================================================================================================================================================================================================================================================================================================================================================================================================================================================================================================================================================================================================================================================================================================================================================================================================================================================================================================================================================================================================================================================================================================================================================================================================================================================================================================================================================================================================================================================================================================================================================================================================================================================================================================================================================================================================================================================================================================================================================================================================================================================================================================================================================================================================================================================================================================================================================================================================================================================================================================================================================================================================================================================================================================================================================================================================================================================================================================================================================================================================================================================================================================================================================================================================================================================================================================================================================================================================================================================================================================================================================================================================================================================================================================================================================================================================================================================================================================================================================================================================================================================================================================================================================================================================================================================================================================================================================================================================================================================================================================================================================================================================================================================================================================================================================================================================================================================================================================================================================================================================================================================================================================================================================================================================================================================================================================================================================================================================================================================================================================================================================================================================================================================================================================================================================================================================================================================================================================================================================================================================================================================================================================================================================================================================================================================================================================================================================================================================================================================================================================================================================================================================================================================================================================================================================================================================================================================================================================================================================================================================================================================================================================================================================================================================================================================================================================================================================================================================================================================================================================================================================================================================================================================================================================================================================================================================================================================================================================================================================================================================================================================================================================================================================================================================================================================================================================================================================================================================================================================================================================================================================================================================================================================================================================================================================================================================================================================================================================================================================================================================================================================================================================================================================================================================================================================================================================================================================================================================================================================================================================================================================================================================================================================================================================================================================================================================================================================================================================================================================================================================================================================================================================================================================================================================================================================================================================================================================================================================================================================================================================================================================================================================================================================================================================================================================================================================================================================================================================================================================================================================================================================================================================================================================================================================================================================================================================================================================================================================================================================================================================================================================================================================================================================================================================================================================================================================================================================================================================================================================================================================================================================================================================================================================================================================================================================================================================================================================================================================================================================================================================================================================================================================================================================================================================================================================================================================================================================================================================================================================================================================================================================================================================================================================================================================================================================================================================================================================================================================================================================================================================================================================================================================================================================================================================================================================================================================================================================================================================================================================================================================================================================================================================================================================================================================================================================================================================================================================================================================================================================================================================================================================================================================================================================================================================================================================================================================================================================================================================================================================================================================================================================================================================================================================================================================================================================================================================================================================================================================================================================================================================================================================================================================================================================================================================================================================================================================================================================================================================================================================================================================================================================================================================================================================================================================================================================================================================================================================================================================================================================================================================================================================================================================================================================================================================================================================================================================================================================================================================================================================================================================================================================================================================================================================================================================================================================================================================================================================================================================================================================================================================================================================================================================================================================================================================================================================================================================================================================================================================================================================================================================================================================================================================================================================================================================================================================================================================================================================================================================================================================================================================================================================================================================================================================================================================================================================================================================================================================================================================================================================================================================================================================================================================================================================================================================================================================================================================================================================================================================================================================================================================================================================================================================================================================================================================================================================================================================================================================================================================================================================================================================================================================================================================================================================================================================================================================================================================================================================================================================================================================================================================================================================================================================================================================================================================================================================================================================================================================================================================================================================================================================================================================================================================================================================================================================================================================================================================================================================================================================================================================================================================================================================================================================================================================================================================================================================================================================================================================================================================================================================================================================================================================================================================================================================================================================================================================================================================================================================================================================================================================================================================================================================================================================================================================================================================================================================================================================================================================================================================================================================================================================================================================================================================================================================================================================================================================================================================================================================================================================================================================================================================================================================================================================================================================================================================================================================================================================================================================================================================================================================================================================================================================================================================================================================================================================================================================================================================================================================================================================================================================================================================================================================================================================================================================================================================================================================================================================================================================================================================================================================================================================================================================================================================================================================================================================================================================================================================================================================================================================================================================================================================================================================================================================================================================================================================================================================================================================================================================================================================================================================================================================================================================================================================================================================================================================================================================================================================================================================================================================================================================================================================================================================================================================================================================================================================================================================================================================================================================================================================================================================================================================================================================================================================================================================================================================================================================================================================================================================================================================================================================================================================================================================================================================================================================================================================================================================================================================================================================================================================================================================================================================================================================================================================================================================================================================================================================================================================================================================================================================================================================================================================================================================================================================================================================================================================================================================================================================================================================================================================================================================================================================================================================================================================================================================================================================================================================================================================================================================================================================================================================================================================================================================================================================================================================================================================================================================================================================================================================================================================================================================================================================================================================================================================================================================================================================================================================================================================================================================================================================================================================================================================================================================================================================================================================================================================================================================================================================================================================================================================================================================================================================================================================================================================================================================================================================================================================================================================================================================================================================================================================================================================================================================================================================================================================================================================================================================================================================================================================================================================================================================================================================================================================================================================================================================================================================================================================================================================================================================================================================================================================================================================================================================================================================================================================================================================================================================================================================================================================================================================================================================================================================================================================================================================================================================================================================================================================================================================================================================================================================================================================================================================================================================================================================================================================================================================================================================================================================================================================================================================================================================================================================================================================================================================================================================================================================================================================================================================================================================================================================================================================================================================================================================================================================================================================================================================================================================================================================================================================================================================================================================================================================================================================================================================================================================================================================================================================================================================================================================================================================================================================================================================================================================================================================================================================================================================================================================================================================================================================================================================================================================================================================================================================================================================================================================================================================================================================================================================================================================================================================================================================================================================================================================================================================================================================================================================================================================================================================================================================================================================================================================================================================================================================================================================================================================================================================================================================================================================================================================================================================================================================================================================================================================================================================================================================================================================================================================================================================================================================================================================================================================================================================================================================================================================================================================================================================================================================================================================================================================================================================================================================================================================================================================================================================================================================================================================================================================================================================================================================================================================================================================================================================================================================================================================================================================================================================================================================================================================================================================================================================================================================================================================================================================================================================================================================================================================================================================================================================================================================================================================================================================================================================================================================================================================================================================================================================================================================================================================================================================================================================================================================================================================================================================================================================================================================================================================================================================================================================================================================================================================================================================================================================================================================================================================================================================================================================================================================================================================================================================================================================================================================================================================================================================================================================================================================================================================================================================================================================================================================================================================================================================================================================================================================================================================================================================================================================================================================================================================================================================================================================================================================================================================================================================================================================================================================================================================================================================================================================================================================================================================================================================================================================================================================================================================================================================================================================================================================================================================================================================================================================================================================================================================================================================================================================================================================================================================================================================================================================================================================================================================================================================================================================================================================================================================================================================================================================================================================================================================================================================================================================================================================================================================================================================================================================================================================================================================================================================================================================================================================================================================================================================================================================================================================================================================================================================================================================================================================================================================================================================================================================================================================================================================================================================================================================================================================================================================================================================================================================================================================================================================================================================================================================================================================================================================================================================================================================================================================================================================================================================================================================================================================================================================================================================================================================================================================================================================================================================================================================================================================================================================================================================================================================================================================================================================================================================================================================================================================================================================================================================================================================================================================================================================================================================================================================================================================================================================================================================================================================================================================================================================================================================================================================================================================================================================================================================================================================================================================================================================================================================================================================================================================================================================================================================================================================================================================================================================================================================================================================================================================================================================================================================================================================================================================================================================================================================================================================================================================================================================================================================================================================================================================================================================================================================================================================================================================================================================================================================================================================================================================================================================================================================================================================================================================================================================================================================================================================================================================================================================================================================================================================================================================================================================================================================================================================================================================================================================================================================================================================================================================================================================================================================================================================================================================================================================================================================================================================================================================================================================================================================================================================================================================================================================================================================================================================================================================================================================================================================================================================================================================================================================================================================================================================================================================================================================================================================================================================================================================================================================================================================================================================================================================================================================================================================================================================================================================================================================================================================================================================================================================================================================================================================================================================================================================================================================================================================================================================================================================================================================================================================================================================================================================================================================================================================================================================================================================================================================================================================================================================================================================================================================================================================================================================================================================================================================================================================================================================================================================================================================================================================================================================================================================================================================================================================================================================================================================================================================================================================================================================================================================================================================================================================================================================================================================================================================================================================================================================================================================================================================================================================================================================================================================================================================================================================================================================================================================================================================================================================================================================================================================================================================================================================================================================================================================================================================================================================================================================================================================================================================================================================================================================================================================================================================================================================================================================================================================================================================================================================================================================================================================================================================================================================================================================================================================================================================================================================================================================================================================================================================================================================================================================================================================================================================================================================================================================================================================================================================================================================================================================================================================================================================================================================================================================================================================================================================================================================================================================================================================================================================================================================================================================================================================================================================================================================================================================================================================================================================================================================================================================================================================================================================================================================================================================================================================================================================================================================================================================================================================================================================================================================================================================================================================================================================================================================================================================================================================================================================================================================================================================================================================================================================================================================================================================================================================================================================================================================================================================================================================================================================================================================================================================================================================================================================================================================================================================================================================================================================================================================================================================================================================================================================================================================================================================================================================================================================================================================================================================================================================================================================================================================================================================================================================================================================================================================================================================================================================================================================================================================================================================================================================================================================================================================================================================================================================================================================================================================================================================================================================================================================================================================================================================================================================================================================================================================================================================================================================================================================================================================================================================================================================================================================================================================================================================================================================================================================================================================================================================================================================================================================================================================================================================================================================================================================================================================================================================================================================================================================================================================================================================================================================================================================================================================================================================================================================================================================================================================================================================================================================================================================================================================================================================================================================================================================================================================================================================================================================================================================================================================================================================================================================================================================================================================================================================================================================================================================================================================================================================================================================================================================================================================================================================================================================================================================================================================================================================================================================================================================================================================================================================================================================================================================================================================================================================================================================================================================================================================================================================================================================================================================================================================================================================================================================================================================================================================================================================================================================================================================================================================================================================================================================================================================================================================================================================================================================================================================================================================================================================================================================================================================================================================================================================================================================================================================================================================================================================================================================================================================================================================================================================================================================================================================================================================================================================================================================================================================================================================================================================================================================================================================================================================================================================================================================================================================================================================================================================================================================================================================================================================================================================================================================================================================================================================================================================================================================================================================================================================================================================================================================================================================================================================================================================================================================================================================================================================================================================================================================================================================================================================================================================================================================================================================================================================================================================================================================================================================================================================================================================================================================================================================================================================================================================================================================================================================================================================================================================================================================================================================================================================================================================================================================================================================================================================================================================================================================================================================================================================================================================================================================================================================================================================================================================================================================================================================================================================================================================================================================================================================================================================================================================================================================================================================================================================================================================================================================================================================================================================================================================================================================================================================================================================================================================================================================================================================================================================================================================================================================================================================================================================================================================================================================================================================================================================================================================================================================================================================================================================================================================================================================================================================================================================================================================================================================================================================================================================================================================================================================================================================================================================================================================================================================================================================================================================================================================================================================================================================================================================================================================================================================================================================================================================================================================================================================================================================================================================================================================================================================================================================================================================================================================================================================================================================================================================================================================================================================================================================================================================================================================================================================================================================================================================================================================================================================================================================================================================================================================================================================================================================================================================================================================================================================================================================================================================================================================================================================================================================================================================================================================================================================================================================================================================================================================================================================================================================================================================================================================================================================================================================================================================================================================================================================================================================================================================================================================================================================================================================================================================================================================================================================================================================================================================================================================================================================================================================================================================================================================================================================================================================================================================================================================================================================================================================================================================================================================================================================================================================================================================================================================================================================================================================================================================================================================================================================================================================================================================================================================================================================================================================================================================================================================================================================================================================================================================================================================================================================================================================================================================================================================================================================================================================================================================================================================================================================================================================================================================================================================================================================================================================================================================================================================================================================================================================================================================================================================================================================================================================================================================================================================================================================================================================================================================================================================================================================================================================================================================================================================================================================================================================================================================================================================================================================================================================================================================================================================================================================================================================================================================================================================================================================================================================================================================================================================================================================================================================================================================================================================================================================================================================================================================================================================================================================================================================================================================================================================================================================================================================================================================================================================================================================================================================================================================================================================================================================================================================================================================================================================================================================================================================================================================================================================================================================================================================================================================================================================================================================================================================================================================================================================================================================================================================================================================================================================================================================================================================================================================================================================================================================================================================================================================================================================================================================================================================================================================================================================================================================================================================================================================================================================================================================================================================================================================================================================================================================================================================================================================================================================================================================================================================================================================================================================================================================================================================================================================================================================================================================================================================================================================================================================================================================================================================================================================================================================================================================================================================================================================================================================================================================================================================================================================================================================================================================================================================================================================================================================================================================================================================================================================================================================================================================================================================================================================================================================================================================================================================================================================================================================================================================================================================================================================================================================================================================================================================================================================================================================================================================================================================================================================================================================================================================================================================================================================================================================================================================================================================================================================================================================================================================================================================================================================================================================================================================================================================================================================================================================================================================================================================================================================================================================================================================================================================================================================================================================================================================================================================================================================================================================================================================================================================================================================================================================================================================================================================================================================================================================================================================================================================================================================================================================================================================================================================================================================================================================================================================================================================================================================================================================================================================================================================================================================================================================================================================================================================================================================================================================================================================================================================================================================================================================================================================================================================================================================================================================================================================================================================================================================================================================================================================================================================================================================================================================================================================================================================================================================================================================================================================================================================================================================================================================================================================================================================================================================================================================================================================================================================================================================================================================================================================================================================================================================================================================================================================================================================================================================================================================================================================================================================================================================================================================================================================================================================================================================================================================================================================================================================================================================================================================================================================================================================================================================================================================================================================================================================================================================================================================================================================================================================================================================================================================================================================================================================================================================================================================================================================================================================================================================================================================================================================================================================================================================================================================================================================================================================================================================================================================================================================================================================================================================================================================================================================================================================================================================================================================================================================================================================================================================================================================================================================================================================================================================================================================================================================================================================================================================================================================================================================================================================================================================================================================================================================================================================================================================================================================================================================================================================================================================================================================================================================================================================================================================================================================================================================================================================================================================================================================================================================================================================================================================================================================================================================================================================================================================================================================================================================================================================================================================================================================================================================================================================================================================================================================================================================================================================================================================================================================================================================================================================================================================================================================================================================================================================================================================================================================================================================================================================================================================================================================================================================================================================================================================================================================================================================================================================================================================================================================================================================================================================================================================================================================================================================================================================================================================================================================================================================================================================================================================================================================================================================================================================================================================================================================================================================================================================================================================================================================================================================================================================================================================================================================================================================================================================================================================================================================================================================================================================================================================================================================================================================================================================================================================================================================================================================================================================================================================================================================================================================================================================================================================================================================================================================================================================================================================================================================================================================================================================================================================================================================================================================================================================================================================================================================================================================================================================================================================================================================================================================================================================================================================================================================================================================================================================================================================================================================================================================================================================================================================================================================================================================================================================================================================================================================================================================================================================================================================================================================================================================================================================================================================================================================================================================================================================================================================================================================================================================================================================================================================================================================================================================================================================================================================================================================================================================================================================================================================================================================================================================================================================================================================================================================================================================================================================================================================================================================================================================================================================================================================================================================================================================================================================================================================================================================================================================================================================================================================================================================================================================================================================================================================================================================================================================================================================================================================================================================================================================================================================================================================================================================================================================================================================================================================================================================================================================================================================================================================================================================================================================================================================================================================================================================================================================================================================================================================================================================================================================================================================================================================================================================================================================================================================================================================================================================================================================================================================================================================================================================================================================================================================================================================================================================================================================================================================================================================================================================================================================================================================================================================================================================================================================================================================================================================================================================================================================================================================================================================================================================================================================================================================================================================================================================================================================================================================================================================================================================================================================================================================================================================================================================================================================================================================================================================================================================================================================================================================================================================================================================================================================================================================================================================================================================================================================================================================================================================================================================================================================================================================================================================================================================================================================================================================================================================================================================================================================================================================================================================================================================================================================================================================================================================================================================================================================================================================================================================================================================================================================================================================================================================================================================================================================================================================================================================================================================================================================================================================================================================================================================================================================================================================================================================================================================================================================================================================================================================================================================================================================================================================================================================================================================================================================================================================================================================================================================================================================================================================================================================================================================================================================================================================================================================================================================================================================================================================================================================================================================================================================================================================================================================================================================================================================================================================================================================================================================================================================================================================================================================================================================================================================================================================================================================================================================================================================================================================================================================================================================================================================================================================================================================================================================================================================================================================================================================================================================================================================================================================================================================================================================================================================================================================================================================================================================================================================================================================================================================================================================================================================================================================================================================================================================================================================================================================================================================================================================================================================================================================================================================================================================================================================================================================================================================================================================================================================================================================================================================================================================================================================================================================================================================================================================================================================================================================================================================================================================================================================================================================================================================================================================================================================================================================================================================================================================================================================================================================================================================================================================================================================================================================================================================================================================================================================================================================================================================================================================================================================================================================================================================================================================================================================================================================================================================================================================================================================================================================================================================================================================================================================================================================================================================================================================================================================================================================================================================================================================================================================================================================================================================================================================================================================================================================================================================================================================================================================================================================================================================================================================================================================================================================================================================================================================================================================================================================================================================================================================================================================================================================================================================================================================================================================================================================================================================================================================================================================================================================================================================================================================================================================================================================================================================================================================================================================================================================================================================================================================================================================================================================================================================================================================================================================================================================================================================================================================================================================================================================================================================================================================================================================================================================================================================================================================================================================================================================================================================================================================================================================================================================================================================================================================================================================================================================================================================================================================================================================================================================================================================================================================================================================================================================================================================================================================================================================================================================================================================================================================================================================================================================================================================================================================================================================================================================================================================================================================================================================================================================================================================================================================================================================================================================================================================================================================================================================================================================================================================================================================================================================================================================================================================================================================================================================================================================================================================================================================================================================================================================================================================================================================================================================================================================================================================================================================================================================================================================================================================================================================================================================================================================================================================================================================================================================================================================================================================================================================================================================================================================================================================================================================================================================================================================================================================================================================================================================================================================================================================================================================================================================================================================================================================================================================================================================================================================================================================================================================================================================================================================================================================================================================================================================================================================================================================================================================================================================================================================================================================================================================================================================================================================================================================================================================================================================================================================================================================================================================================================================================================================================================================================================================================================================================================================================================================================================================================================================================================================================================================================================================================================================================================================================================================================================================================================================================================================================================================================================================================================================================================================================================================================================================================================================================================================================================================================================================================================================================================================================================================================================================================================================================================================================================================================================================================================================================================================================================================================================================================================================================================================================================================================================================================================================================================================================================================================================================================================================================================================================================================================================================================================================================================================================================================================================================================================================================================================================================================================================================================================================================================================================================================================================================================================================================================================================================================================================================================================================================================================================================================================================================================================================================================================================================================================================================================================================================================================================================================================================================================================================================================================================================================================================================================================================================================================================================================================================================================================================================================================================================================================================================================================================================================================================================================================================================================================================================================================================================================================================================================================================================================================================================================================================================================================================================================================================================================================================================================================================================================================================================================================================================================================================================================================================================================================================================================================================================================================================================================================================================================================================================================================================================================================================================================================================================================================================================================================================================================================================================================================================================================================================================================================================================================================================================================================================================================================================================================================================================================================================================================================================================================================================================================================================================================================================================================================================================================================================================================================================================================================================================================================================================================================================================================================================================================================================================================================================================================================================================================================================================================================================================================================================================================================================================================================================================================================================================================================================================================================================================================================================================================================================================================================================================================================================================================================================================================================================================================================================================================================================================================================================================================================================================================================================================================================================================================================================================================================================================================================================================================================================================================================================================================================================================================================================================================================================================================================================================================================================================================================================================================================================================================================================================================================================================================================================================================================================================================================================================================================================================================================================================================================================================================================================================================================================================================================================================================================================================================================================================================================================================================================================================================================================================================================================================================================================================================================================================================================================================================================================================================================================================================================================================================================================================================================================================================================================================================================================================================================================================================================================================================================================================================================================================================================================================================================================================================================================================================================================================================================================================================================================================================================================================================================================================================================================================================================================================================================================================================================================================================================================================================================================================================================================================================================================================================================================================================================================================================================================================================================================================================================================================================================================================================================================================================================================================================================================================================================================================================================================================================================================================================================================================================================================================================================================================================================================================================================================================================================================================================================================================================================================================================================================================================================================================================================================================================================================================================================================================================================================================================================================================================================================================================================================================================================================================================================================================================================================================================================================================================================================================================================================================================================================================================================================================================================================================================================================================================================================================================================================================================================================================================================================================================================================================================================================================================================================================================================================================================================================================================================================================================================================================================================================================================================================================================================================================================================================================================================================================================================================================================================================================================================================================================================================================================================================================================================================================================================================================================================================================================================================================================================================================================================================================================================================================================================================================================================================================================================================================================================================================================================================================================================================================================================================================================================================================================================================================================================================================================================================================================================================================================================================================================================================================================================================================================================================================================================================================================================================================================================================================================================================================================================================================================================================================================================================================================================================================================================================================================================================================================================================================================================================================================================================================================================================================================================================================================================================================================================================================================================================================================================================================================================================================================================================================================================================================================================================================================================================================================================================================================================================================================================================================================================================================================================================================================================================================================================================================================================================================================================================================================================================================================================================================================================================================================================================================================================================================================================================================================================================================================================================================================================================================================================================================================================================================================================================================================================================================================================================================================================================================================================================================================================================================================================================================================================================================================================================================================================================================================================================================================================================================================================================================================================================================================================================================================================================================================================================================================================================================================================================================================================================================================================================================================================================================================================================================================================================================================================================================================================================================================================================================================================================================================================================================================================================================================================================================================================================================================================================================================================================================================================================================================================================================================================================================================================================================================================================================================================================================================================================================================================================================================================================================================================================================================================================================================================================================================================================================================================================================================================================================================================================================================================================================================================================================================================================================================================================================================================================================================================================================================================================================================================================================================================================================================================================================================================================================================================================================================================================================================================================================================================================================================================================================================================================================================================================================================================================================================================================================================================================================================================================================================================================================================================================================================================================================================================================================================================================================================================================================================================================================================================================================================================================================================================================================================================================================================================================================================================================================================================================================================================================================================================================================================================================================================================================================================================================================================================================================================================================================================================================================================================================================================================================================================================================================================================================================================================================================================================================================================================================================================================================================================================================================================================================================================================================================================================================================================================================================================================================================================================================================================================================================================================================================================================================================================================================================================================================================================================================================================================================================================================================================================================================================================================================================================================================================================================================================================================================================================================================================================================================================================================================================================================================================================================================================================================================================================================================================================================================================================================================================================================================================================================================================================================================================================================================================================================================================================================================================================================================================================================================================================================================================================================================================================================================================================================================================================================================================================================================================================================================================================================================================================================================================================================================================================================================================================================================================================================================================================================================================================================================================================================================================================================================================================================================================================================================================================================================================================================================================================================================================================================================================================================================================================================================================================================================================================================================================================================================================================================================================================================================================================================================================================================================================================================================================================================================================================================================================================================================================================================================================================================================================================================================================================================================================================================================================================================================================================================================================================================================================================================================================================================================================================================================================================================================================================================================================================================================================================================================================================================================================================================================================================================================================================================================================================================================================================================================================================================================================================================================================================================================================================================================================================================================================================================================================================================================================================================================================================================================================================================================================================================================================================================================================================================================================================================================================================================================================================================================================================================================================================================================================================================================================================================================================================================================================================================================================================================================================================================================================================================================================================================================================================================================================================================================================================================================================================================================================================================================================================================================================================================================================================================================================================================================================================================================================================================================================================================================================================================================================================================================================================================================================================================================================================================================================================================================================================================================================================================================================================================================================================================================================================================================================================================================================================================================================================================================================================================================================================================================================================================================================================================================================================================================================================================================================================================================================================================================================================================================================================================================================================================================================================================================================================================================================================================================================================================================================================================================================================================================================================================================================================================================================================================================================================================================================================================================================================================================================================================================================================================================================================================================================================================================================================================================================================================================================================================================================================================================================================================================================================================================================================================================================================================================================================================================================================================================================================================================================================================================================================================================================================================================================================================================================================================================================================================================================================================================================================================================================================================================================================================================================================================================================================================================================================================================================================================================================================================================================================================================================================================================================================================================================================================================================================================================================================================================================================================================================================================================================================================================================================================================================================================================================================================================================================================================================================================================================================================================================================================================================================================================================================================================================================================================================================================================================================================================================================================================================================================================================================================================================================================================================================================================================================================================================================================================================================================================================================================================================================================================================================================================================================================================================================================================================================================================================================================================================================================================================================================================================================================================================================================================================================================================================================================================================================================================================================================================================================================================================================================================================================================================================================================================================================================================================================================================================================================================================================================================================================================================================================================================================================================================================================================================================================================================================================================================================================================================================================================================================================================================================================================================================================================================================================================================================================================================================================================================================================================================================================================================================================================================================================================================================================================================================================================================================================================================================================================================================================================================================================================================================================================================================================================================================================================================================================================================================================================================================================================================================================================================================================================================================================================================================================================================================================================================================================================================================================================================================================================================================================================================================================================================================================================================================================================================================================================================================================================================================================================================================================================================================================================================================================================================================================================================================================================================================================================================================================================================================================================================================================================================================================================================================================================================================================================================================================================================================================================================================================================================================================================================================================================================================================================================================================================================================================================================================================================================================================================================================================================================================================================================================================================================================================================================================================================================================================================================================================================================================================================================================================================================================================================================================================================================================================================================================================================================================================================================================================================================================================================================================================================================================================================================================================================================================================================================================================================================================================================================================================================================================================================================================================================================================================================================================================================================================================================================================================================================================================================================================================================================================================================================================================================================================================================================================================================================================================================================================================================================================================================================================================================================================================================================================================================================================================================================================================================================================================================================================================================================================================================================================================================================================================================================================================================================================================================================================================================================================================================================================================================================================================================================================================================================================================================================================================================================================================================================================================================================================================================================================================================================================================================================================================================================================================================================================================================================================================================================================================================================================================================================================================================================================================================================================================================================================================================================================================================================================================================================================================================================================================================================================================================================================================================================================================================================================================================================================================================================================================================================================================================================================================================================================================================================================================================================================================================================================================================================================================================================================================================================================================================================================================================================================================================================================================================================================================================================================================================================================================================================================================================================================================================================================================================================================================================================================================================================================================================================================================================================================================================================================================================================================================================================================================================================================================================================================================================================================================================================================================================================================================================================================================================================================================================================================================================================================================================================================================================================================================================================================================================================================================================================================================================================================================================================================================================================================================================================================================================================================================================================================================================================================================================================================================================================================================================================================================================================================================================================================================================================================================================================================================================================================================================================================================================================================================================================================================================================================================================================================================================================================================================================================================================================================================================================================================================================================================================================================================================================================================================================================================================================================================================================================================================================================================================================================================================================================================================================================================================================================================================================================================================================================================================================================================================================================================================================================================================================================================================================================================================================================================================================================================================================================================================================================================================================================================================================================================================================================================================================================================================================================================================================================================================================================================================================================================================================================================================================================================================================================================================================================================================================================================================================================================================================================================================================================================================================================================================================================================================================================================================================================================================================================================================================================================================================================================================================================================================================================================================================================================================================================================================================================================================================================================================================================================================================================================================================================================================================================================================================================================================================================================================================================================================================================================================================================================================================================================================================================================================================================================================================================================================================================================================================================================================================================================================================================================================================================================================================================================================================================================================================================================================================================================================================================================================================================================================================================================================================================================================================================================================================================================================================================================================================================================================================================================================================================================================================================================================================================================================================================================================================================================================================================================================================================================================================================================================================================================================================================================================================================================================================================================================================================================================================================================================================================================================================================================================================================================================================================================================================================================================================================================================================================================================================================================================================================================================================================================================================================================================================================================================================================================================================================================================================================================================================================================================================================================================================================================================================================================================================================================================================================================================================================================================================================================================================================================================================================================================================================================================================================================================================================================================================================================================================================================================================================================================================================================================================================================================================================================================================================================================================================================================================================================================================================================================================================================================================================================================================================================================================================================================================================================================================================================================================================================================================================================================================================================================================================================================================================================================================================================================================================================================================================================================================================================================================================================================================================================================================================================================================================================================================================================================================================================================================================================================================================================================================================================================================================================================================================================================================================================================================================================================================================================================================================================================================================================================================================================================================================================================================================================================================================================================================================================================================================================================================================================================================================================================================================================================================================================================================================================================================================================================================================================================================================================================================================================================================================================================================================================================================================================================================================================================================================================================================================================================================================================================================================================================================================================================================================================================================================================================================================================================================================================================================================================================================================================================================================================================================================================================================================================================================================================================================================================================================================================================================================================================================================================================================================================================================================================================================================================================================================================================================================================================================================================================================================================================================================================================================================================================================================================================================================================================================================================================================================================================================================================================================================================================================================================================================================================================================================================================================================================================================================================================================================================================================================================================================================================================================================================================================================================================================================================================================================================================================================================================================================================================================================================================================================================================================================================================================================================================================================================================================================================================================================================================================================================================================================================================================================================================================================================================================================================================================================================================================================================================================================================================================================================================================================================================================================================================================================================================================================================================================================================================================================================================================================================================================================================================================================================================================================================================================================================================================================================================================================================================================================================================================================================================================================================================================================================================================================================================================================================================================================================================================================================================================================================================================================================================================================================================================================================================================================================================================================================================================================================================================================================================================================================================================================================================================================================================================================================================================================================================================================================================================================================================================================================================================================================================================================================================================================================================================================================================================================================================================================================================================================================================================================================================================================================================================================================================================================================================================================================================================================================================================================================================================================================================================================================================================================================================================================================================================================================================================================================================================================================================================================================================================================================================================================================================================================================================================================================================================================================================================================================================================================================================================================================================================================================================================================================================================================================================================================================================================================================================================================================================================================================================================================================================================================================================================================================================================================================================================================================================================================================================================================================================================================================================================================================================================================================================================================================================================================================================================================================================================================================================================================================================================================================================================================================================================================================================================================================================================================================================================================================================================================================================================================================================================================================================================================================================================================================================================================================================================================================================================================================================================================================================================================================================================================================================================================================================================================================================================================================================================================================================================================================================================================================================================================================================================================================================================================================================================================================================================================================================================================================================================================================================================================================================================================================================================================================================================================================================================================================================================================================================================================================================================================================================================================================================================================================================================================================================================================================================================================================================================================================================================================================================================================================================================================================================================================================================================================================================================================================================================================================================================================================================================================================================================================================================================================================================================================================================================================================================================================================================================================================================================================================================================================================================================================================================================================================================================================================================================================================================================================================================================================================================================================================================================================================================================================================================================================================================================================================================================================================================================================================================================================================================================================================================================================================================================================================================================================================================================================================================================================================================================================================================================================================================================================================================================================================================================================================================================================================================================================================================================================================================================================================================================================================================================================================================================================================================================================================================================================================================================================================================================================================================================================================================================================================================================================================================================================================================================================================================================================================================================================================================================================================================================================================================================================================================================================================================================================================================================================================================================================================================================================================================================================================================================================================================================================================================================================================================================================================================================================================================================================================================================================================================================================================================================================================================================================================================================================================================================================================================================================================================================================================================================================================================================================================================================================================================================================================================================================================================================================================================================================================================================================================================================================================================================================================================================================================================================================================================================================================================================================================================================================================================================================================================================================================================================================================================================================================================================================================================================================================================================================================================================================================================================================================================================================================================================================================================================================================================================================================================] - 1s 57us/sample - loss: 0.1961 - mean_absolute_error: 0.1223\n"
     ]
    },
    {
     "data": {
      "text/plain": [
       "[0.20073608146205665, 0.12232507]"
      ]
     },
     "execution_count": 27,
     "metadata": {},
     "output_type": "execute_result"
    }
   ],
   "source": [
    "# To evaluate model test loss\n",
    "\n",
    "test_loss = model.evaluate(x_test, y_test)\n",
    "test_loss"
   ]
  },
  {
   "cell_type": "code",
   "execution_count": 28,
   "metadata": {},
   "outputs": [
    {
     "data": {
      "text/plain": [
       "(16505, 123)"
      ]
     },
     "execution_count": 28,
     "metadata": {},
     "output_type": "execute_result"
    }
   ],
   "source": [
    "\n",
    "x_test.shape"
   ]
  },
  {
   "cell_type": "code",
   "execution_count": 29,
   "metadata": {},
   "outputs": [
    {
     "data": {
      "text/plain": [
       "(16505, 80)"
      ]
     },
     "execution_count": 29,
     "metadata": {},
     "output_type": "execute_result"
    }
   ],
   "source": [
    "y_test.shape"
   ]
  },
  {
   "cell_type": "code",
   "execution_count": 30,
   "metadata": {
    "colab": {
     "base_uri": "https://localhost:8080/",
     "height": 280
    },
    "id": "K6jxwKI-au9s",
    "outputId": "4824a9db-6941-4ac8-87d8-5d749bc8497d"
   },
   "outputs": [
    {
     "data": {
      "image/png": "[encoded data removed]",
      "text/plain": [
       "<Figure size 432x288 with 1 Axes>"
      ]
     },
     "metadata": {
      "needs_background": "light"
     },
     "output_type": "display_data"
    }
   ],
   "source": [
    "# To plot training loss only\n",
    "\n",
    "loss = model_history.history['loss']\n",
    "epochs = range(1, len(loss)+1)\n",
    "plt.plot(epochs, loss, 'ro', label='Training loss')\n",
    "plt.xlabel('epoch')\n",
    "plt.legend()\n",
    "plt.show()"
   ]
  },
  {
   "cell_type": "code",
   "execution_count": 97,
   "metadata": {
    "colab": {
     "base_uri": "https://localhost:8080/",
     "height": 313
    },
    "id": "gr4ZQqHQayfv",
    "outputId": "b292d2fe-9161-4bfc-9b6f-fe09e9543f33"
   },
   "outputs": [
    {
     "name": "stdout",
     "output_type": "stream",
     "text": [
      "dict_keys(['loss', 'mean_absolute_error', 'val_loss', 'val_mean_absolute_error', 'lr'])\n"
     ]
    },
    {
     "data": {
      "image/png": "[encoded data removed]",
      "text/plain": [
       "<Figure size 432x288 with 1 Axes>"
      ]
     },
     "metadata": {
      "needs_background": "light"
     },
     "output_type": "display_data"
    }
   ],
   "source": [
    "# list all data in history\n",
    "\n",
    "print(model_history.history.keys())\n",
    "hfont = {'fontname':'Arial'}\n",
    "# summarize history for accuracy\n",
    "acc = model_history.history['mean_absolute_error']\n",
    "val_acc = model_history.history['val_mean_absolute_error']\n",
    "\n",
    "plt.plot(acc,color='red',linewidth=3)\n",
    "plt.plot(val_acc,color='blue',linewidth=3)\n",
    "#plt.title('model accuracy')\n",
    "plt.ylabel('MAE', fontsize=16, **hfont)\n",
    "plt.xlabel('Epoch', fontsize=16, **hfont)\n",
    "\n",
    "#ylim(top=0.2)  # adjust the top leaving bottom unchanged\n",
    "#ylim(bottom=0.05)  # adjust the bottom leaving top unchanged\n",
    "plt.legend(['Training (ReLU), T=20', 'Testing (ReLU), T=20'], loc='upper right')\n",
    "plt.grid()\n",
    "plt.savefig('accuracy_3_layer.pdf')\n",
    "plt.show()"
   ]
  },
  {
   "cell_type": "code",
   "execution_count": 32,
   "metadata": {
    "colab": {
     "base_uri": "https://localhost:8080/",
     "height": 295
    },
    "id": "pgrdmzrca2id",
    "outputId": "7698718b-fba5-415a-c5a5-abfbfe868c6c"
   },
   "outputs": [
    {
     "data": {
      "image/png": "[encoded data removed]",
      "text/plain": [
       "<Figure size 432x288 with 1 Axes>"
      ]
     },
     "metadata": {
      "needs_background": "light"
     },
     "output_type": "display_data"
    }
   ],
   "source": [
    "# summarize history for loss\n",
    "\n",
    "loss = model_history.history['loss']\n",
    "val_loss = model_history.history['val_loss']\n",
    "plt.plot(loss)\n",
    "plt.plot(val_loss)\n",
    "plt.title('Model loss')\n",
    "plt.ylabel('loss')\n",
    "plt.xlabel('epoch')\n",
    "plt.legend(['train', 'test'], loc='upper right')\n",
    "plt.savefig('loss_3_layer.pdf')\n",
    "plt.grid()\n",
    "plt.show()\n",
    "\n",
    "\n",
    "\n"
   ]
  },
  {
   "cell_type": "code",
   "execution_count": 33,
   "metadata": {
    "colab": {
     "base_uri": "https://localhost:8080/",
     "height": 249
    },
    "id": "V_KxSfNKa666",
    "outputId": "c668ae3d-01ef-4869-e191-af2122733da1"
   },
   "outputs": [
    {
     "data": {
      "text/plain": [
       "array([[1.9073486e-05, 1.6659200e-03, 3.5925108e-01, ..., 6.0908794e-03,\n",
       "        4.4987202e-03, 1.1920929e-07],\n",
       "       [1.2049079e-04, 6.1765611e-03, 9.2555285e-03, ..., 4.1637063e-02,\n",
       "        2.0388126e-02, 5.9604645e-08],\n",
       "       [1.5169382e-05, 5.7747781e-01, 4.5965612e-03, ..., 5.4927081e-02,\n",
       "        1.0408014e-02, 1.7881393e-07],\n",
       "       ...,\n",
       "       [6.2763691e-05, 3.4423655e-01, 4.3486297e-02, ..., 2.2972843e-01,\n",
       "        7.4702054e-02, 2.3841858e-07],\n",
       "       [9.9999994e-01, 1.6374588e-03, 1.7553955e-02, ..., 4.2205578e-01,\n",
       "        1.1527717e-02, 2.9802322e-08],\n",
       "       [8.2671642e-05, 2.3437816e-01, 3.7398249e-02, ..., 1.3980240e-02,\n",
       "        2.2559434e-02, 2.9802322e-07]], dtype=float32)"
      ]
     },
     "execution_count": 33,
     "metadata": {},
     "output_type": "execute_result"
    }
   ],
   "source": [
    "# Making the predictions for testing\n",
    "\n",
    "# Predicting the Test set results\n",
    "y_pred = model.predict(x_test) \n",
    "y_pred"
   ]
  },
  {
   "cell_type": "code",
   "execution_count": 34,
   "metadata": {
    "colab": {
     "base_uri": "https://localhost:8080/",
     "height": 142
    },
    "id": "nTiknlOLaTPp",
    "outputId": "70722f3f-835d-4abe-ca27-4cd0d3b285f1"
   },
   "outputs": [
    {
     "data": {
      "text/plain": [
       "(16505, 80)"
      ]
     },
     "execution_count": 34,
     "metadata": {},
     "output_type": "execute_result"
    }
   ],
   "source": [
    "y_test.shape\n"
   ]
  },
  {
   "cell_type": "code",
   "execution_count": 35,
   "metadata": {
    "id": "5x9nZKCHa9ZI"
   },
   "outputs": [
    {
     "data": {
      "text/plain": [
       "(16505, 80)"
      ]
     },
     "execution_count": 35,
     "metadata": {},
     "output_type": "execute_result"
    }
   ],
   "source": [
    "y_pred.shape"
   ]
  },
  {
   "cell_type": "code",
   "execution_count": 36,
   "metadata": {
    "id": "ACY5x1V7a_vo"
   },
   "outputs": [
    {
     "name": "stdout",
     "output_type": "stream",
     "text": [
      "Test Mean Squared error (MSE): 0.06124548465473608\n",
      "Test Root mean squared error (RMSE): 0.24747825087214448\n",
      "Test Mean absolute error (MAE): 0.122325035530968\n"
     ]
    }
   ],
   "source": [
    "# Evaluating the model # Test error\n",
    "\n",
    "# Measure MSE error  \n",
    "mse_test = metrics.mean_squared_error(y_test, y_pred)\n",
    "print(\"Test Mean Squared error (MSE): {}\".format(mse_test))\n",
    "\n",
    "# Measure RMSE error \n",
    "rmse_test = np.sqrt(metrics.mean_squared_error(y_test, y_pred))\n",
    "print(\"Test Root mean squared error (RMSE): {}\".format(rmse_test))\n",
    "\n",
    "# Measure MAE error\n",
    "mae_test = metrics.mean_absolute_error(y_test, y_pred)\n",
    "print(\"Test Mean absolute error (MAE): {}\".format(mae_test))"
   ]
  },
  {
   "cell_type": "code",
   "execution_count": 37,
   "metadata": {
    "id": "EpTj4zULbQMd"
   },
   "outputs": [
    {
     "data": {
      "text/plain": [
       "array([[9.5665455e-06, 9.3677044e-03, 3.6726296e-03, ..., 2.0063996e-02,\n",
       "        1.0804772e-02, 5.9604645e-08],\n",
       "       [7.1376562e-05, 5.4565072e-04, 1.1016816e-02, ..., 1.8886796e-01,\n",
       "        2.1166354e-02, 1.1920929e-07],\n",
       "       [9.9999774e-01, 2.6078224e-03, 6.5398216e-04, ..., 7.2120130e-03,\n",
       "        4.0121824e-02, 0.0000000e+00],\n",
       "       ...,\n",
       "       [3.4663081e-04, 6.1592460e-04, 4.6405792e-03, ..., 9.5585287e-03,\n",
       "        4.5345664e-02, 5.9604645e-08],\n",
       "       [9.9997997e-01, 2.5834173e-02, 7.6662004e-02, ..., 1.6385376e-02,\n",
       "        7.3709190e-03, 0.0000000e+00],\n",
       "       [4.7111511e-04, 1.0878056e-02, 4.3655604e-02, ..., 1.9304037e-02,\n",
       "        4.0726155e-02, 8.9406967e-08]], dtype=float32)"
      ]
     },
     "execution_count": 37,
     "metadata": {},
     "output_type": "execute_result"
    }
   ],
   "source": [
    "# Making the predictions for training\n",
    "\n",
    "# Predicting the Training set results\n",
    "y_pred_train = model.predict(x_train) \n",
    "y_pred_train"
   ]
  },
  {
   "cell_type": "code",
   "execution_count": 38,
   "metadata": {
    "id": "Of9BhiCTbU01"
   },
   "outputs": [
    {
     "data": {
      "text/plain": [
       "(148545, 80)"
      ]
     },
     "execution_count": 38,
     "metadata": {},
     "output_type": "execute_result"
    }
   ],
   "source": [
    "y_pred_train.shape "
   ]
  },
  {
   "cell_type": "code",
   "execution_count": 39,
   "metadata": {
    "id": "FWK7_bNJbXME"
   },
   "outputs": [
    {
     "name": "stdout",
     "output_type": "stream",
     "text": [
      "Training Mean Squared error (MSE): 0.060887293027646575\n",
      "Training Root mean squared error (RMSE): 0.24675350661671777\n",
      "Training Mean absolute error (MAE): 0.12201596765032048\n"
     ]
    }
   ],
   "source": [
    "# Evaluating the model # Training error\n",
    "\n",
    "# Measure MSE error  \n",
    "mse_train = metrics.mean_squared_error(y_train, y_pred_train)\n",
    "print(\"Training Mean Squared error (MSE): {}\".format(mse_train))\n",
    "\n",
    "# Measure RMSE error \n",
    "rmse_train = np.sqrt(metrics.mean_squared_error(y_train, y_pred_train))\n",
    "print(\"Training Root mean squared error (RMSE): {}\".format(rmse_train))\n",
    "\n",
    "# Measure MAE error\n",
    "mae_train = metrics.mean_absolute_error(y_train, y_pred_train)\n",
    "print(\"Training Mean absolute error (MAE): {}\".format(mae_train))"
   ]
  },
  {
   "cell_type": "code",
   "execution_count": 40,
   "metadata": {
    "id": "1Yw2ek-lRAmD"
   },
   "outputs": [
    {
     "data": {
      "text/plain": [
       "array([1.9073486e-05, 1.6659200e-03, 3.5925108e-01, ..., 1.3980240e-02,\n",
       "       2.2559434e-02, 2.9802322e-07], dtype=float32)"
      ]
     },
     "execution_count": 40,
     "metadata": {},
     "output_type": "execute_result"
    }
   ],
   "source": [
    "y_pred_flat = y_pred.flatten()\n",
    "y_pred_flat"
   ]
  },
  {
   "cell_type": "code",
   "execution_count": 41,
   "metadata": {
    "id": "zrHf4K-yRWEW"
   },
   "outputs": [
    {
     "data": {
      "text/plain": [
       "array([0., 0., 0., ..., 0., 0., 0.])"
      ]
     },
     "execution_count": 41,
     "metadata": {},
     "output_type": "execute_result"
    }
   ],
   "source": [
    "y_test_flat = y_test.flatten()\n",
    "y_test_flat"
   ]
  },
  {
   "cell_type": "code",
   "execution_count": 42,
   "metadata": {
    "id": "3sCT93VyRYOz"
   },
   "outputs": [
    {
     "name": "stdout",
     "output_type": "stream",
     "text": [
      "R2 Score Test: 0.4251849111713456\n"
     ]
    }
   ],
   "source": [
    "# Regression score for test\n",
    "\n",
    "r2_score_test = metrics.r2_score(y_test_flat, y_pred_flat)\n",
    "print(\"R2 Score Test: {}\".format(r2_score_test))"
   ]
  },
  {
   "cell_type": "code",
   "execution_count": 43,
   "metadata": {
    "id": "5oZLTaS6Rdpb"
   },
   "outputs": [
    {
     "data": {
      "text/plain": [
       "array([9.5665455e-06, 9.3677044e-03, 3.6726296e-03, ..., 1.9304037e-02,\n",
       "       4.0726155e-02, 8.9406967e-08], dtype=float32)"
      ]
     },
     "execution_count": 43,
     "metadata": {},
     "output_type": "execute_result"
    }
   ],
   "source": [
    "y_pred_train_flat = y_pred_train.flatten()\n",
    "y_pred_train_flat"
   ]
  },
  {
   "cell_type": "code",
   "execution_count": 44,
   "metadata": {
    "id": "imceUpMlRfrV"
   },
   "outputs": [
    {
     "data": {
      "text/plain": [
       "array([ 0., -0., -0., ...,  0.,  0.,  0.])"
      ]
     },
     "execution_count": 44,
     "metadata": {},
     "output_type": "execute_result"
    }
   ],
   "source": [
    "y_train_flat = y_train.flatten()\n",
    "y_train_flat"
   ]
  },
  {
   "cell_type": "code",
   "execution_count": 45,
   "metadata": {
    "id": "IywAjABTRjex"
   },
   "outputs": [
    {
     "name": "stdout",
     "output_type": "stream",
     "text": [
      "R2 Score Train: 0.42817375874335084\n"
     ]
    }
   ],
   "source": [
    "# Regression score for training\n",
    "\n",
    "r2_score_train = metrics.r2_score(y_train_flat, y_pred_train_flat)\n",
    "print(\"R2 Score Train: {}\".format(r2_score_train))"
   ]
  },
  {
   "cell_type": "code",
   "execution_count": 46,
   "metadata": {
    "id": "hr_f0cdyWpil"
   },
   "outputs": [],
   "source": [
    "######################### Constraint verification for test data ##########################"
   ]
  },
  {
   "cell_type": "code",
   "execution_count": 47,
   "metadata": {
    "colab": {
     "base_uri": "https://localhost:8080/",
     "height": 249
    },
    "id": "aS9k-9lwW0hY",
    "outputId": "32c16051-3a86-49a8-d7cb-77e547ad3e64"
   },
   "outputs": [
    {
     "data": {
      "text/plain": [
       "array([[1.9073486e-05, 1.6659200e-03, 3.5925108e-01, ..., 6.0908794e-03,\n",
       "        4.4987202e-03, 1.1920929e-07],\n",
       "       [1.2049079e-04, 6.1765611e-03, 9.2555285e-03, ..., 4.1637063e-02,\n",
       "        2.0388126e-02, 5.9604645e-08],\n",
       "       [1.5169382e-05, 5.7747781e-01, 4.5965612e-03, ..., 5.4927081e-02,\n",
       "        1.0408014e-02, 1.7881393e-07],\n",
       "       ...,\n",
       "       [6.2763691e-05, 3.4423655e-01, 4.3486297e-02, ..., 2.2972843e-01,\n",
       "        7.4702054e-02, 2.3841858e-07],\n",
       "       [9.9999994e-01, 1.6374588e-03, 1.7553955e-02, ..., 4.2205578e-01,\n",
       "        1.1527717e-02, 2.9802322e-08],\n",
       "       [8.2671642e-05, 2.3437816e-01, 3.7398249e-02, ..., 1.3980240e-02,\n",
       "        2.2559434e-02, 2.9802322e-07]], dtype=float32)"
      ]
     },
     "execution_count": 47,
     "metadata": {},
     "output_type": "execute_result"
    }
   ],
   "source": [
    "y_pred = model.predict(x_test)\n",
    "y_pred"
   ]
  },
  {
   "cell_type": "code",
   "execution_count": 48,
   "metadata": {
    "colab": {
     "base_uri": "https://localhost:8080/",
     "height": 249
    },
    "id": "qdcimHOXZsH2",
    "outputId": "1585d70d-b16d-4e2a-d7d5-6f381a4521fd"
   },
   "outputs": [
    {
     "data": {
      "text/plain": [
       "array([[-0.78611353,  1.06428217, -1.00148887, ...,  1.12895097,\n",
       "         0.94901612,  0.84466306],\n",
       "       [ 1.27337987,  0.53089654, -1.00148887, ..., -0.48112988,\n",
       "         1.3334617 , -1.33530447],\n",
       "       [ 0.53045922, -0.81211134, -1.00148887, ...,  0.39052317,\n",
       "         0.44887369,  1.48369187],\n",
       "       ...,\n",
       "       [-0.83684668,  1.12035938, -1.00148887, ..., -1.51257358,\n",
       "        -1.52444069, -0.51491748],\n",
       "       [-1.14497947, -0.12709196,  0.99851334, ..., -0.88871986,\n",
       "         0.61091845, -0.77942556],\n",
       "       [-0.17927152,  1.75854895, -1.00148887, ...,  0.99352636,\n",
       "         1.34625926,  0.64301935]])"
      ]
     },
     "execution_count": 48,
     "metadata": {},
     "output_type": "execute_result"
    }
   ],
   "source": [
    "x_test"
   ]
  },
  {
   "cell_type": "code",
   "execution_count": 49,
   "metadata": {
    "colab": {
     "base_uri": "https://localhost:8080/",
     "height": 35
    },
    "id": "ruqLSKwaZ06X",
    "outputId": "42dd9de3-1395-4349-8ec3-f163ef502a0e"
   },
   "outputs": [
    {
     "data": {
      "text/plain": [
       "(16505, 123)"
      ]
     },
     "execution_count": 49,
     "metadata": {},
     "output_type": "execute_result"
    }
   ],
   "source": [
    "x_test.shape"
   ]
  },
  {
   "cell_type": "code",
   "execution_count": 50,
   "metadata": {
    "colab": {
     "base_uri": "https://localhost:8080/",
     "height": 35
    },
    "id": "fOj5D4GRW7Ac",
    "outputId": "e4223fa4-dd8e-400f-eefc-bbd0178e4d99"
   },
   "outputs": [
    {
     "data": {
      "text/plain": [
       "(16505, 80)"
      ]
     },
     "execution_count": 50,
     "metadata": {},
     "output_type": "execute_result"
    }
   ],
   "source": [
    "y_test.shape"
   ]
  },
  {
   "cell_type": "code",
   "execution_count": 51,
   "metadata": {},
   "outputs": [
    {
     "data": {
      "text/plain": [
       "array([[1.9073486e-05, 1.6659200e-03, 3.5925108e-01, ..., 6.0908794e-03,\n",
       "        4.4987202e-03, 1.1920929e-07],\n",
       "       [1.2049079e-04, 6.1765611e-03, 9.2555285e-03, ..., 4.1637063e-02,\n",
       "        2.0388126e-02, 5.9604645e-08],\n",
       "       [1.5169382e-05, 5.7747781e-01, 4.5965612e-03, ..., 5.4927081e-02,\n",
       "        1.0408014e-02, 1.7881393e-07],\n",
       "       ...,\n",
       "       [6.2763691e-05, 3.4423655e-01, 4.3486297e-02, ..., 2.2972843e-01,\n",
       "        7.4702054e-02, 2.3841858e-07],\n",
       "       [9.9999994e-01, 1.6374588e-03, 1.7553955e-02, ..., 4.2205578e-01,\n",
       "        1.1527717e-02, 2.9802322e-08],\n",
       "       [8.2671642e-05, 2.3437816e-01, 3.7398249e-02, ..., 1.3980240e-02,\n",
       "        2.2559434e-02, 2.9802322e-07]], dtype=float32)"
      ]
     },
     "execution_count": 51,
     "metadata": {},
     "output_type": "execute_result"
    }
   ],
   "source": [
    "y_pred"
   ]
  },
  {
   "cell_type": "code",
   "execution_count": 52,
   "metadata": {
    "colab": {
     "base_uri": "https://localhost:8080/",
     "height": 142
    },
    "id": "Yn9ruPcpOQq0",
    "outputId": "c187ee9b-7905-455c-cee3-fa098f0966e1"
   },
   "outputs": [
    {
     "name": "stdout",
     "output_type": "stream",
     "text": [
      "[[0. 0. 0. ... 0. 0. 0.]\n",
      " [0. 0. 0. ... 0. 0. 0.]\n",
      " [0. 1. 0. ... 0. 0. 0.]\n",
      " ...\n",
      " [0. 0. 0. ... 0. 0. 0.]\n",
      " [1. 0. 0. ... 0. 0. 0.]\n",
      " [0. 0. 0. ... 0. 0. 0.]]\n"
     ]
    }
   ],
   "source": [
    "#round-off the y_pred\n",
    "\n",
    "import numpy as np\n",
    "a_list = np.array(y_pred)\n",
    "y_pred_binary = np.round(a_list)\n",
    "print(y_pred_binary)\n",
    "\n"
   ]
  },
  {
   "cell_type": "code",
   "execution_count": 53,
   "metadata": {
    "colab": {
     "base_uri": "https://localhost:8080/",
     "height": 35
    },
    "id": "zus7h7n3PMDh",
    "outputId": "ce6a354b-6dfa-40b8-c6c3-adead6f2d051"
   },
   "outputs": [
    {
     "data": {
      "text/plain": [
       "(16505, 80)"
      ]
     },
     "execution_count": 53,
     "metadata": {},
     "output_type": "execute_result"
    }
   ],
   "source": [
    "y_pred_binary.shape"
   ]
  },
  {
   "cell_type": "code",
   "execution_count": 54,
   "metadata": {
    "colab": {
     "base_uri": "https://localhost:8080/",
     "height": 142
    },
    "id": "RKVmQiPemWnf",
    "outputId": "8fa5f012-e7b4-4262-e8c9-06ad35d44c13"
   },
   "outputs": [
    {
     "data": {
      "text/plain": [
       "array([[0., 0., 0., ..., 0., 0., 0.],\n",
       "       [0., 0., 0., ..., 0., 0., 0.],\n",
       "       [0., 1., 0., ..., 0., 0., 0.],\n",
       "       ...,\n",
       "       [0., 0., 0., ..., 0., 0., 0.],\n",
       "       [1., 0., 0., ..., 0., 0., 0.],\n",
       "       [0., 0., 0., ..., 0., 0., 0.]], dtype=float32)"
      ]
     },
     "execution_count": 54,
     "metadata": {},
     "output_type": "execute_result"
    }
   ],
   "source": [
    "y_pred_binary"
   ]
  },
  {
   "cell_type": "code",
   "execution_count": 55,
   "metadata": {},
   "outputs": [
    {
     "data": {
      "text/plain": [
       "array([[ 0.,  0.,  0., ...,  0.,  0.,  0.],\n",
       "       [ 0., -0.,  0., ...,  0., -0.,  0.],\n",
       "       [ 0.,  1.,  0., ...,  0.,  0.,  0.],\n",
       "       ...,\n",
       "       [ 0.,  1., -0., ...,  0.,  0.,  0.],\n",
       "       [ 1.,  0., -0., ...,  0.,  0.,  0.],\n",
       "       [ 0.,  0.,  0., ...,  0.,  0.,  0.]])"
      ]
     },
     "execution_count": 55,
     "metadata": {},
     "output_type": "execute_result"
    }
   ],
   "source": [
    "y_test"
   ]
  },
  {
   "cell_type": "code",
   "execution_count": 56,
   "metadata": {
    "colab": {
     "base_uri": "https://localhost:8080/",
     "height": 35
    },
    "id": "0Y2CI1jdPzWz",
    "outputId": "7de20c4e-215b-40c2-b415-72ad1edead13"
   },
   "outputs": [
    {
     "data": {
      "text/plain": [
       "16505"
      ]
     },
     "execution_count": 56,
     "metadata": {},
     "output_type": "execute_result"
    }
   ],
   "source": [
    "len(y_pred_binary)"
   ]
  },
  {
   "cell_type": "code",
   "execution_count": null,
   "metadata": {},
   "outputs": [],
   "source": []
  },
  {
   "cell_type": "code",
   "execution_count": 57,
   "metadata": {
    "colab": {
     "base_uri": "https://localhost:8080/",
     "height": 35
    },
    "id": "W0EhQiatZWyj",
    "outputId": "67776725-788b-47d7-a3bd-288348bd211c"
   },
   "outputs": [
    {
     "data": {
      "text/plain": [
       "(165050, 123)"
      ]
     },
     "execution_count": 57,
     "metadata": {},
     "output_type": "execute_result"
    }
   ],
   "source": [
    "inputs.shape"
   ]
  },
  {
   "cell_type": "code",
   "execution_count": 58,
   "metadata": {},
   "outputs": [
    {
     "data": {
      "text/plain": [
       "array([[-0.78611353,  1.06428217, -1.00148887, ...,  1.12895097,\n",
       "         0.94901612,  0.84466306],\n",
       "       [ 1.27337987,  0.53089654, -1.00148887, ..., -0.48112988,\n",
       "         1.3334617 , -1.33530447],\n",
       "       [ 0.53045922, -0.81211134, -1.00148887, ...,  0.39052317,\n",
       "         0.44887369,  1.48369187],\n",
       "       ...,\n",
       "       [-0.83684668,  1.12035938, -1.00148887, ..., -1.51257358,\n",
       "        -1.52444069, -0.51491748],\n",
       "       [-1.14497947, -0.12709196,  0.99851334, ..., -0.88871986,\n",
       "         0.61091845, -0.77942556],\n",
       "       [-0.17927152,  1.75854895, -1.00148887, ...,  0.99352636,\n",
       "         1.34625926,  0.64301935]])"
      ]
     },
     "execution_count": 58,
     "metadata": {},
     "output_type": "execute_result"
    }
   ],
   "source": [
    "x_test"
   ]
  },
  {
   "cell_type": "code",
   "execution_count": 59,
   "metadata": {},
   "outputs": [
    {
     "data": {
      "text/plain": [
       "<bound method NDFrame.head of             0         1         2         3         4        5         6    \\\n",
       "0     -0.786114  1.064282 -1.001489  0.995265 -1.006314 -1.00033 -0.444809   \n",
       "1      1.273380  0.530897 -1.001489  0.995265 -1.006314  0.99967  0.448483   \n",
       "2      0.530459 -0.812111 -1.001489 -1.004757 -1.006314 -1.00033  0.448483   \n",
       "3      1.077441  0.820708  0.998513  0.995265 -1.006314  0.99967 -0.444809   \n",
       "4      1.387470  1.348699  0.998513  0.995265  0.993725 -1.00033  0.448483   \n",
       "...         ...       ...       ...       ...       ...      ...       ...   \n",
       "16500  1.718777  1.501341 -1.001489 -1.004757 -1.006314 -1.00033  0.448483   \n",
       "16501  0.198086  0.548502 -1.001489 -1.004757 -1.006314 -1.00033  0.448483   \n",
       "16502 -0.836847  1.120359 -1.001489 -1.004757 -1.006314  0.99967  0.448483   \n",
       "16503 -1.144979 -0.127092  0.998513 -1.004757 -1.006314 -1.00033 -0.444809   \n",
       "16504 -0.179272  1.758549 -1.001489 -1.004757 -1.006314 -1.00033 -2.231392   \n",
       "\n",
       "            7         8         9    ...       113       114       115  \\\n",
       "0     -0.999737  0.997089  1.001691  ...  0.099566  0.428057 -0.101450   \n",
       "1      1.000263 -1.002919 -0.998312  ... -1.610786 -1.159608 -0.077189   \n",
       "2     -0.999737  0.997089  1.001691  ...  0.015246  0.444326  1.226183   \n",
       "3      1.000263 -1.002919  1.001691  ...  0.844247 -1.626952 -0.734672   \n",
       "4     -0.999737  0.997089 -0.998312  ...  1.325061  0.637137  0.320936   \n",
       "...         ...       ...       ...  ...       ...       ...       ...   \n",
       "16500  1.000263 -1.002919 -0.998312  ...  0.233231 -1.434875  0.110046   \n",
       "16501  1.000263 -1.002919  1.001691  ... -0.164371  1.318554  1.646229   \n",
       "16502  1.000263 -1.002919 -0.998312  ...  0.402044 -1.052523 -0.708368   \n",
       "16503 -0.999737  0.997089 -0.998312  ... -1.207184 -0.243218  0.938875   \n",
       "16504 -0.999737 -1.002919 -0.998312  ...  1.125083 -1.474735 -0.247963   \n",
       "\n",
       "            116       117       118       119       120       121       122  \n",
       "0     -1.425301  1.167451 -0.470611 -1.479392  1.128951  0.949016  0.844663  \n",
       "1     -1.703826  0.589196 -1.428289 -1.080215 -0.481130  1.333462 -1.335304  \n",
       "2     -0.372184  1.260567 -1.733832 -0.004975  0.390523  0.448874  1.483692  \n",
       "3     -0.313346  1.292067  1.588787 -1.010833 -0.513895  0.113543 -1.286702  \n",
       "4     -1.079765 -0.927819  1.691549 -0.705673  0.989024  1.149108 -0.230505  \n",
       "...         ...       ...       ...       ...       ...       ...       ...  \n",
       "16500 -1.237724  0.974295 -0.138151  1.399869 -0.304628 -0.316455 -1.418126  \n",
       "16501  1.268046  0.580369  1.236312  1.125632 -0.645943 -0.854056  0.718484  \n",
       "16502 -0.061139 -0.581368 -0.069267  0.285425 -1.512574 -1.524441 -0.514917  \n",
       "16503 -0.620645  0.216558  0.475735  0.385384 -0.888720  0.610918 -0.779426  \n",
       "16504  1.606542  1.294663 -1.599661  0.485342  0.993526  1.346259  0.643019  \n",
       "\n",
       "[16505 rows x 123 columns]>"
      ]
     },
     "execution_count": 59,
     "metadata": {},
     "output_type": "execute_result"
    }
   ],
   "source": [
    "x_p = pd.DataFrame(x_test)\n",
    "#pi = x_p.iloc[:, 27:50]\n",
    "#pi\n",
    "x_p.head"
   ]
  },
  {
   "cell_type": "code",
   "execution_count": 60,
   "metadata": {},
   "outputs": [],
   "source": [
    "#In the next cells, we are going to compute the suboptimality of the DNN solution vs others "
   ]
  },
  {
   "cell_type": "code",
   "execution_count": 61,
   "metadata": {},
   "outputs": [
    {
     "data": {
      "text/html": [
       "<div>\n",
       "<style scoped>\n",
       "    .dataframe tbody tr th:only-of-type {\n",
       "        vertical-align: middle;\n",
       "    }\n",
       "\n",
       "    .dataframe tbody tr th {\n",
       "        vertical-align: top;\n",
       "    }\n",
       "\n",
       "    .dataframe thead th {\n",
       "        text-align: right;\n",
       "    }\n",
       "</style>\n",
       "<table border=\"1\" class=\"dataframe\">\n",
       "  <thead>\n",
       "    <tr style=\"text-align: right;\">\n",
       "      <th></th>\n",
       "      <th>27</th>\n",
       "      <th>28</th>\n",
       "      <th>29</th>\n",
       "      <th>30</th>\n",
       "      <th>31</th>\n",
       "      <th>32</th>\n",
       "      <th>33</th>\n",
       "      <th>34</th>\n",
       "      <th>35</th>\n",
       "      <th>36</th>\n",
       "      <th>37</th>\n",
       "      <th>38</th>\n",
       "      <th>39</th>\n",
       "      <th>40</th>\n",
       "      <th>41</th>\n",
       "      <th>42</th>\n",
       "      <th>43</th>\n",
       "      <th>44</th>\n",
       "      <th>45</th>\n",
       "      <th>46</th>\n",
       "    </tr>\n",
       "  </thead>\n",
       "  <tbody>\n",
       "    <tr>\n",
       "      <th>0</th>\n",
       "      <td>0.833285</td>\n",
       "      <td>1.077005</td>\n",
       "      <td>-1.369947</td>\n",
       "      <td>-0.532756</td>\n",
       "      <td>0.459941</td>\n",
       "      <td>1.045659</td>\n",
       "      <td>1.177309</td>\n",
       "      <td>1.406637</td>\n",
       "      <td>-1.028523</td>\n",
       "      <td>-1.638092</td>\n",
       "      <td>1.182250</td>\n",
       "      <td>0.404045</td>\n",
       "      <td>1.088193</td>\n",
       "      <td>0.146525</td>\n",
       "      <td>0.043721</td>\n",
       "      <td>-0.572423</td>\n",
       "      <td>-1.727986</td>\n",
       "      <td>1.239959</td>\n",
       "      <td>1.255966</td>\n",
       "      <td>-1.262450</td>\n",
       "    </tr>\n",
       "    <tr>\n",
       "      <th>1</th>\n",
       "      <td>0.915987</td>\n",
       "      <td>-0.863264</td>\n",
       "      <td>-0.985854</td>\n",
       "      <td>-1.430956</td>\n",
       "      <td>0.392835</td>\n",
       "      <td>-0.383992</td>\n",
       "      <td>0.192553</td>\n",
       "      <td>-1.717279</td>\n",
       "      <td>0.216344</td>\n",
       "      <td>0.084626</td>\n",
       "      <td>-1.704963</td>\n",
       "      <td>-0.034520</td>\n",
       "      <td>0.874998</td>\n",
       "      <td>-0.530832</td>\n",
       "      <td>-1.219658</td>\n",
       "      <td>1.594320</td>\n",
       "      <td>-0.892959</td>\n",
       "      <td>-0.602708</td>\n",
       "      <td>-0.523465</td>\n",
       "      <td>1.294095</td>\n",
       "    </tr>\n",
       "    <tr>\n",
       "      <th>2</th>\n",
       "      <td>-1.472246</td>\n",
       "      <td>-1.276995</td>\n",
       "      <td>0.566293</td>\n",
       "      <td>-0.778830</td>\n",
       "      <td>0.642828</td>\n",
       "      <td>-0.127024</td>\n",
       "      <td>-0.119341</td>\n",
       "      <td>1.204307</td>\n",
       "      <td>1.335861</td>\n",
       "      <td>-0.715294</td>\n",
       "      <td>-1.241168</td>\n",
       "      <td>-1.080003</td>\n",
       "      <td>-0.948439</td>\n",
       "      <td>-0.658362</td>\n",
       "      <td>-1.342078</td>\n",
       "      <td>-0.320032</td>\n",
       "      <td>0.584549</td>\n",
       "      <td>-0.179638</td>\n",
       "      <td>1.580675</td>\n",
       "      <td>0.678296</td>\n",
       "    </tr>\n",
       "    <tr>\n",
       "      <th>3</th>\n",
       "      <td>0.301299</td>\n",
       "      <td>1.404197</td>\n",
       "      <td>-1.485844</td>\n",
       "      <td>0.388595</td>\n",
       "      <td>0.169738</td>\n",
       "      <td>1.712529</td>\n",
       "      <td>1.465244</td>\n",
       "      <td>-1.692325</td>\n",
       "      <td>-0.631733</td>\n",
       "      <td>0.553135</td>\n",
       "      <td>-1.606559</td>\n",
       "      <td>0.119365</td>\n",
       "      <td>1.218928</td>\n",
       "      <td>0.494379</td>\n",
       "      <td>-1.412544</td>\n",
       "      <td>1.414850</td>\n",
       "      <td>0.853565</td>\n",
       "      <td>0.315041</td>\n",
       "      <td>1.269293</td>\n",
       "      <td>1.044160</td>\n",
       "    </tr>\n",
       "    <tr>\n",
       "      <th>4</th>\n",
       "      <td>-0.373301</td>\n",
       "      <td>-1.358495</td>\n",
       "      <td>-0.138018</td>\n",
       "      <td>-0.915734</td>\n",
       "      <td>-0.210813</td>\n",
       "      <td>0.548278</td>\n",
       "      <td>0.958021</td>\n",
       "      <td>-1.332715</td>\n",
       "      <td>1.343503</td>\n",
       "      <td>-1.674852</td>\n",
       "      <td>0.552833</td>\n",
       "      <td>1.199827</td>\n",
       "      <td>0.357255</td>\n",
       "      <td>-0.160117</td>\n",
       "      <td>0.446502</td>\n",
       "      <td>-0.223305</td>\n",
       "      <td>-1.573466</td>\n",
       "      <td>0.238999</td>\n",
       "      <td>-0.513180</td>\n",
       "      <td>-1.619390</td>\n",
       "    </tr>\n",
       "    <tr>\n",
       "      <th>...</th>\n",
       "      <td>...</td>\n",
       "      <td>...</td>\n",
       "      <td>...</td>\n",
       "      <td>...</td>\n",
       "      <td>...</td>\n",
       "      <td>...</td>\n",
       "      <td>...</td>\n",
       "      <td>...</td>\n",
       "      <td>...</td>\n",
       "      <td>...</td>\n",
       "      <td>...</td>\n",
       "      <td>...</td>\n",
       "      <td>...</td>\n",
       "      <td>...</td>\n",
       "      <td>...</td>\n",
       "      <td>...</td>\n",
       "      <td>...</td>\n",
       "      <td>...</td>\n",
       "      <td>...</td>\n",
       "      <td>...</td>\n",
       "    </tr>\n",
       "    <tr>\n",
       "      <th>16500</th>\n",
       "      <td>0.753082</td>\n",
       "      <td>0.881082</td>\n",
       "      <td>0.455629</td>\n",
       "      <td>0.614176</td>\n",
       "      <td>-1.632585</td>\n",
       "      <td>0.072575</td>\n",
       "      <td>-0.619641</td>\n",
       "      <td>-1.367387</td>\n",
       "      <td>1.226447</td>\n",
       "      <td>0.547355</td>\n",
       "      <td>0.186827</td>\n",
       "      <td>-0.590913</td>\n",
       "      <td>0.987717</td>\n",
       "      <td>0.699321</td>\n",
       "      <td>1.085234</td>\n",
       "      <td>1.454488</td>\n",
       "      <td>1.289687</td>\n",
       "      <td>0.612620</td>\n",
       "      <td>-1.606792</td>\n",
       "      <td>0.447862</td>\n",
       "    </tr>\n",
       "    <tr>\n",
       "      <th>16501</th>\n",
       "      <td>0.309753</td>\n",
       "      <td>-1.123033</td>\n",
       "      <td>1.459188</td>\n",
       "      <td>-1.730035</td>\n",
       "      <td>-0.532337</td>\n",
       "      <td>-1.080972</td>\n",
       "      <td>-0.612603</td>\n",
       "      <td>1.161342</td>\n",
       "      <td>1.167382</td>\n",
       "      <td>-0.744386</td>\n",
       "      <td>1.314417</td>\n",
       "      <td>0.784389</td>\n",
       "      <td>0.091358</td>\n",
       "      <td>1.667359</td>\n",
       "      <td>1.535853</td>\n",
       "      <td>0.537027</td>\n",
       "      <td>0.480946</td>\n",
       "      <td>1.080282</td>\n",
       "      <td>-0.865430</td>\n",
       "      <td>-0.836737</td>\n",
       "    </tr>\n",
       "    <tr>\n",
       "      <th>16502</th>\n",
       "      <td>1.238068</td>\n",
       "      <td>-0.842110</td>\n",
       "      <td>-0.626849</td>\n",
       "      <td>-0.748860</td>\n",
       "      <td>-0.877103</td>\n",
       "      <td>1.134177</td>\n",
       "      <td>-1.091213</td>\n",
       "      <td>-0.096524</td>\n",
       "      <td>-0.458991</td>\n",
       "      <td>-1.401314</td>\n",
       "      <td>-0.618672</td>\n",
       "      <td>-0.742527</td>\n",
       "      <td>0.398254</td>\n",
       "      <td>0.115529</td>\n",
       "      <td>0.497495</td>\n",
       "      <td>0.576435</td>\n",
       "      <td>1.663384</td>\n",
       "      <td>-0.897666</td>\n",
       "      <td>-0.819247</td>\n",
       "      <td>0.539982</td>\n",
       "    </tr>\n",
       "    <tr>\n",
       "      <th>16503</th>\n",
       "      <td>1.280265</td>\n",
       "      <td>1.102697</td>\n",
       "      <td>0.623011</td>\n",
       "      <td>-0.519004</td>\n",
       "      <td>0.609621</td>\n",
       "      <td>-0.848992</td>\n",
       "      <td>-1.337421</td>\n",
       "      <td>1.656945</td>\n",
       "      <td>-1.694603</td>\n",
       "      <td>0.192631</td>\n",
       "      <td>0.540335</td>\n",
       "      <td>-0.088047</td>\n",
       "      <td>-0.577446</td>\n",
       "      <td>1.298070</td>\n",
       "      <td>1.218353</td>\n",
       "      <td>1.190617</td>\n",
       "      <td>1.509210</td>\n",
       "      <td>-1.174316</td>\n",
       "      <td>0.534094</td>\n",
       "      <td>-1.164830</td>\n",
       "    </tr>\n",
       "    <tr>\n",
       "      <th>16504</th>\n",
       "      <td>-0.860056</td>\n",
       "      <td>-0.774687</td>\n",
       "      <td>0.268200</td>\n",
       "      <td>0.999080</td>\n",
       "      <td>1.593588</td>\n",
       "      <td>0.132717</td>\n",
       "      <td>-0.497844</td>\n",
       "      <td>0.075298</td>\n",
       "      <td>1.674008</td>\n",
       "      <td>-1.718084</td>\n",
       "      <td>-0.949378</td>\n",
       "      <td>1.084231</td>\n",
       "      <td>1.347084</td>\n",
       "      <td>1.477028</td>\n",
       "      <td>0.221097</td>\n",
       "      <td>-1.580486</td>\n",
       "      <td>-0.867636</td>\n",
       "      <td>1.617126</td>\n",
       "      <td>0.547807</td>\n",
       "      <td>-0.278826</td>\n",
       "    </tr>\n",
       "  </tbody>\n",
       "</table>\n",
       "<p>16505 rows × 20 columns</p>\n",
       "</div>"
      ],
      "text/plain": [
       "             27        28        29        30        31        32        33  \\\n",
       "0      0.833285  1.077005 -1.369947 -0.532756  0.459941  1.045659  1.177309   \n",
       "1      0.915987 -0.863264 -0.985854 -1.430956  0.392835 -0.383992  0.192553   \n",
       "2     -1.472246 -1.276995  0.566293 -0.778830  0.642828 -0.127024 -0.119341   \n",
       "3      0.301299  1.404197 -1.485844  0.388595  0.169738  1.712529  1.465244   \n",
       "4     -0.373301 -1.358495 -0.138018 -0.915734 -0.210813  0.548278  0.958021   \n",
       "...         ...       ...       ...       ...       ...       ...       ...   \n",
       "16500  0.753082  0.881082  0.455629  0.614176 -1.632585  0.072575 -0.619641   \n",
       "16501  0.309753 -1.123033  1.459188 -1.730035 -0.532337 -1.080972 -0.612603   \n",
       "16502  1.238068 -0.842110 -0.626849 -0.748860 -0.877103  1.134177 -1.091213   \n",
       "16503  1.280265  1.102697  0.623011 -0.519004  0.609621 -0.848992 -1.337421   \n",
       "16504 -0.860056 -0.774687  0.268200  0.999080  1.593588  0.132717 -0.497844   \n",
       "\n",
       "             34        35        36        37        38        39        40  \\\n",
       "0      1.406637 -1.028523 -1.638092  1.182250  0.404045  1.088193  0.146525   \n",
       "1     -1.717279  0.216344  0.084626 -1.704963 -0.034520  0.874998 -0.530832   \n",
       "2      1.204307  1.335861 -0.715294 -1.241168 -1.080003 -0.948439 -0.658362   \n",
       "3     -1.692325 -0.631733  0.553135 -1.606559  0.119365  1.218928  0.494379   \n",
       "4     -1.332715  1.343503 -1.674852  0.552833  1.199827  0.357255 -0.160117   \n",
       "...         ...       ...       ...       ...       ...       ...       ...   \n",
       "16500 -1.367387  1.226447  0.547355  0.186827 -0.590913  0.987717  0.699321   \n",
       "16501  1.161342  1.167382 -0.744386  1.314417  0.784389  0.091358  1.667359   \n",
       "16502 -0.096524 -0.458991 -1.401314 -0.618672 -0.742527  0.398254  0.115529   \n",
       "16503  1.656945 -1.694603  0.192631  0.540335 -0.088047 -0.577446  1.298070   \n",
       "16504  0.075298  1.674008 -1.718084 -0.949378  1.084231  1.347084  1.477028   \n",
       "\n",
       "             41        42        43        44        45        46  \n",
       "0      0.043721 -0.572423 -1.727986  1.239959  1.255966 -1.262450  \n",
       "1     -1.219658  1.594320 -0.892959 -0.602708 -0.523465  1.294095  \n",
       "2     -1.342078 -0.320032  0.584549 -0.179638  1.580675  0.678296  \n",
       "3     -1.412544  1.414850  0.853565  0.315041  1.269293  1.044160  \n",
       "4      0.446502 -0.223305 -1.573466  0.238999 -0.513180 -1.619390  \n",
       "...         ...       ...       ...       ...       ...       ...  \n",
       "16500  1.085234  1.454488  1.289687  0.612620 -1.606792  0.447862  \n",
       "16501  1.535853  0.537027  0.480946  1.080282 -0.865430 -0.836737  \n",
       "16502  0.497495  0.576435  1.663384 -0.897666 -0.819247  0.539982  \n",
       "16503  1.218353  1.190617  1.509210 -1.174316  0.534094 -1.164830  \n",
       "16504  0.221097 -1.580486 -0.867636  1.617126  0.547807 -0.278826  \n",
       "\n",
       "[16505 rows x 20 columns]"
      ]
     },
     "execution_count": 61,
     "metadata": {},
     "output_type": "execute_result"
    }
   ],
   "source": [
    "x_pi = pd.DataFrame(x_test)\n",
    "x_pi = x_pi.iloc[:, 27:47]\n",
    "x_pi #Saving the energy prize"
   ]
  },
  {
   "cell_type": "code",
   "execution_count": 62,
   "metadata": {},
   "outputs": [
    {
     "data": {
      "text/html": [
       "<div>\n",
       "<style scoped>\n",
       "    .dataframe tbody tr th:only-of-type {\n",
       "        vertical-align: middle;\n",
       "    }\n",
       "\n",
       "    .dataframe tbody tr th {\n",
       "        vertical-align: top;\n",
       "    }\n",
       "\n",
       "    .dataframe thead th {\n",
       "        text-align: right;\n",
       "    }\n",
       "</style>\n",
       "<table border=\"1\" class=\"dataframe\">\n",
       "  <thead>\n",
       "    <tr style=\"text-align: right;\">\n",
       "      <th></th>\n",
       "      <th>0</th>\n",
       "      <th>1</th>\n",
       "      <th>2</th>\n",
       "      <th>3</th>\n",
       "      <th>4</th>\n",
       "      <th>5</th>\n",
       "      <th>6</th>\n",
       "      <th>7</th>\n",
       "      <th>8</th>\n",
       "      <th>9</th>\n",
       "      <th>...</th>\n",
       "      <th>70</th>\n",
       "      <th>71</th>\n",
       "      <th>72</th>\n",
       "      <th>73</th>\n",
       "      <th>74</th>\n",
       "      <th>75</th>\n",
       "      <th>76</th>\n",
       "      <th>77</th>\n",
       "      <th>78</th>\n",
       "      <th>79</th>\n",
       "    </tr>\n",
       "  </thead>\n",
       "  <tbody>\n",
       "    <tr>\n",
       "      <th>0</th>\n",
       "      <td>0.000019</td>\n",
       "      <td>0.001666</td>\n",
       "      <td>0.359251</td>\n",
       "      <td>0.097391</td>\n",
       "      <td>0.056073</td>\n",
       "      <td>0.009757</td>\n",
       "      <td>0.026428</td>\n",
       "      <td>0.048721</td>\n",
       "      <td>0.142951</td>\n",
       "      <td>0.567845</td>\n",
       "      <td>...</td>\n",
       "      <td>0.009190</td>\n",
       "      <td>0.053882</td>\n",
       "      <td>0.005239</td>\n",
       "      <td>0.027655</td>\n",
       "      <td>0.036411</td>\n",
       "      <td>0.056356</td>\n",
       "      <td>0.333818</td>\n",
       "      <td>0.006091</td>\n",
       "      <td>0.004499</td>\n",
       "      <td>1.192093e-07</td>\n",
       "    </tr>\n",
       "    <tr>\n",
       "      <th>1</th>\n",
       "      <td>0.000120</td>\n",
       "      <td>0.006177</td>\n",
       "      <td>0.009256</td>\n",
       "      <td>0.338370</td>\n",
       "      <td>0.004904</td>\n",
       "      <td>0.072007</td>\n",
       "      <td>0.004565</td>\n",
       "      <td>0.626298</td>\n",
       "      <td>0.010950</td>\n",
       "      <td>0.005388</td>\n",
       "      <td>...</td>\n",
       "      <td>0.542052</td>\n",
       "      <td>0.014514</td>\n",
       "      <td>0.024447</td>\n",
       "      <td>0.022724</td>\n",
       "      <td>0.328572</td>\n",
       "      <td>0.007817</td>\n",
       "      <td>0.216432</td>\n",
       "      <td>0.041637</td>\n",
       "      <td>0.020388</td>\n",
       "      <td>5.960464e-08</td>\n",
       "    </tr>\n",
       "    <tr>\n",
       "      <th>2</th>\n",
       "      <td>0.000015</td>\n",
       "      <td>0.577478</td>\n",
       "      <td>0.004597</td>\n",
       "      <td>0.297627</td>\n",
       "      <td>0.003532</td>\n",
       "      <td>0.201380</td>\n",
       "      <td>0.027062</td>\n",
       "      <td>0.009512</td>\n",
       "      <td>0.022852</td>\n",
       "      <td>0.076959</td>\n",
       "      <td>...</td>\n",
       "      <td>0.351593</td>\n",
       "      <td>0.051467</td>\n",
       "      <td>0.091785</td>\n",
       "      <td>0.008667</td>\n",
       "      <td>0.542216</td>\n",
       "      <td>0.052560</td>\n",
       "      <td>0.013861</td>\n",
       "      <td>0.054927</td>\n",
       "      <td>0.010408</td>\n",
       "      <td>1.788139e-07</td>\n",
       "    </tr>\n",
       "    <tr>\n",
       "      <th>3</th>\n",
       "      <td>0.999998</td>\n",
       "      <td>0.001098</td>\n",
       "      <td>0.222416</td>\n",
       "      <td>0.004377</td>\n",
       "      <td>0.064565</td>\n",
       "      <td>0.007608</td>\n",
       "      <td>0.008099</td>\n",
       "      <td>0.570697</td>\n",
       "      <td>0.012569</td>\n",
       "      <td>0.001586</td>\n",
       "      <td>...</td>\n",
       "      <td>0.317563</td>\n",
       "      <td>0.012481</td>\n",
       "      <td>0.008469</td>\n",
       "      <td>0.014341</td>\n",
       "      <td>0.534124</td>\n",
       "      <td>0.007634</td>\n",
       "      <td>0.032288</td>\n",
       "      <td>0.115781</td>\n",
       "      <td>0.011481</td>\n",
       "      <td>0.000000e+00</td>\n",
       "    </tr>\n",
       "    <tr>\n",
       "      <th>4</th>\n",
       "      <td>0.999916</td>\n",
       "      <td>0.122258</td>\n",
       "      <td>0.003118</td>\n",
       "      <td>0.145033</td>\n",
       "      <td>0.022515</td>\n",
       "      <td>0.008167</td>\n",
       "      <td>0.005151</td>\n",
       "      <td>0.203196</td>\n",
       "      <td>0.001157</td>\n",
       "      <td>0.497182</td>\n",
       "      <td>...</td>\n",
       "      <td>0.019785</td>\n",
       "      <td>0.006822</td>\n",
       "      <td>0.004279</td>\n",
       "      <td>0.056804</td>\n",
       "      <td>0.006268</td>\n",
       "      <td>0.039876</td>\n",
       "      <td>0.336214</td>\n",
       "      <td>0.012885</td>\n",
       "      <td>0.018631</td>\n",
       "      <td>0.000000e+00</td>\n",
       "    </tr>\n",
       "    <tr>\n",
       "      <th>...</th>\n",
       "      <td>...</td>\n",
       "      <td>...</td>\n",
       "      <td>...</td>\n",
       "      <td>...</td>\n",
       "      <td>...</td>\n",
       "      <td>...</td>\n",
       "      <td>...</td>\n",
       "      <td>...</td>\n",
       "      <td>...</td>\n",
       "      <td>...</td>\n",
       "      <td>...</td>\n",
       "      <td>...</td>\n",
       "      <td>...</td>\n",
       "      <td>...</td>\n",
       "      <td>...</td>\n",
       "      <td>...</td>\n",
       "      <td>...</td>\n",
       "      <td>...</td>\n",
       "      <td>...</td>\n",
       "      <td>...</td>\n",
       "      <td>...</td>\n",
       "    </tr>\n",
       "    <tr>\n",
       "      <th>16500</th>\n",
       "      <td>0.000012</td>\n",
       "      <td>0.027452</td>\n",
       "      <td>0.028770</td>\n",
       "      <td>0.024553</td>\n",
       "      <td>0.604066</td>\n",
       "      <td>0.003489</td>\n",
       "      <td>0.019961</td>\n",
       "      <td>0.529772</td>\n",
       "      <td>0.005701</td>\n",
       "      <td>0.010655</td>\n",
       "      <td>...</td>\n",
       "      <td>0.024820</td>\n",
       "      <td>0.487674</td>\n",
       "      <td>0.010897</td>\n",
       "      <td>0.078071</td>\n",
       "      <td>0.017181</td>\n",
       "      <td>0.023179</td>\n",
       "      <td>0.010468</td>\n",
       "      <td>0.029949</td>\n",
       "      <td>0.265702</td>\n",
       "      <td>8.940697e-08</td>\n",
       "    </tr>\n",
       "    <tr>\n",
       "      <th>16501</th>\n",
       "      <td>0.000080</td>\n",
       "      <td>0.031114</td>\n",
       "      <td>0.001013</td>\n",
       "      <td>0.400080</td>\n",
       "      <td>0.003094</td>\n",
       "      <td>0.204207</td>\n",
       "      <td>0.018045</td>\n",
       "      <td>0.005520</td>\n",
       "      <td>0.006878</td>\n",
       "      <td>0.419015</td>\n",
       "      <td>...</td>\n",
       "      <td>0.014198</td>\n",
       "      <td>0.016832</td>\n",
       "      <td>0.334862</td>\n",
       "      <td>0.017964</td>\n",
       "      <td>0.008633</td>\n",
       "      <td>0.066816</td>\n",
       "      <td>0.122535</td>\n",
       "      <td>0.005553</td>\n",
       "      <td>0.231258</td>\n",
       "      <td>0.000000e+00</td>\n",
       "    </tr>\n",
       "    <tr>\n",
       "      <th>16502</th>\n",
       "      <td>0.000063</td>\n",
       "      <td>0.344237</td>\n",
       "      <td>0.043486</td>\n",
       "      <td>0.016135</td>\n",
       "      <td>0.220960</td>\n",
       "      <td>0.003990</td>\n",
       "      <td>0.419929</td>\n",
       "      <td>0.009996</td>\n",
       "      <td>0.029594</td>\n",
       "      <td>0.578970</td>\n",
       "      <td>...</td>\n",
       "      <td>0.004357</td>\n",
       "      <td>0.190683</td>\n",
       "      <td>0.006346</td>\n",
       "      <td>0.160113</td>\n",
       "      <td>0.014230</td>\n",
       "      <td>0.081268</td>\n",
       "      <td>0.004271</td>\n",
       "      <td>0.229728</td>\n",
       "      <td>0.074702</td>\n",
       "      <td>2.384186e-07</td>\n",
       "    </tr>\n",
       "    <tr>\n",
       "      <th>16503</th>\n",
       "      <td>1.000000</td>\n",
       "      <td>0.001637</td>\n",
       "      <td>0.017554</td>\n",
       "      <td>0.120635</td>\n",
       "      <td>0.002522</td>\n",
       "      <td>0.054604</td>\n",
       "      <td>0.264917</td>\n",
       "      <td>0.001352</td>\n",
       "      <td>0.567964</td>\n",
       "      <td>0.015025</td>\n",
       "      <td>...</td>\n",
       "      <td>0.005414</td>\n",
       "      <td>0.026982</td>\n",
       "      <td>0.526646</td>\n",
       "      <td>0.033572</td>\n",
       "      <td>0.022125</td>\n",
       "      <td>0.073113</td>\n",
       "      <td>0.011224</td>\n",
       "      <td>0.422056</td>\n",
       "      <td>0.011528</td>\n",
       "      <td>2.980232e-08</td>\n",
       "    </tr>\n",
       "    <tr>\n",
       "      <th>16504</th>\n",
       "      <td>0.000083</td>\n",
       "      <td>0.234378</td>\n",
       "      <td>0.037398</td>\n",
       "      <td>0.014745</td>\n",
       "      <td>0.008129</td>\n",
       "      <td>0.099088</td>\n",
       "      <td>0.478054</td>\n",
       "      <td>0.020218</td>\n",
       "      <td>0.015200</td>\n",
       "      <td>0.625287</td>\n",
       "      <td>...</td>\n",
       "      <td>0.121894</td>\n",
       "      <td>0.021168</td>\n",
       "      <td>0.018914</td>\n",
       "      <td>0.024172</td>\n",
       "      <td>0.074749</td>\n",
       "      <td>0.588977</td>\n",
       "      <td>0.060714</td>\n",
       "      <td>0.013980</td>\n",
       "      <td>0.022559</td>\n",
       "      <td>2.980232e-07</td>\n",
       "    </tr>\n",
       "  </tbody>\n",
       "</table>\n",
       "<p>16505 rows × 80 columns</p>\n",
       "</div>"
      ],
      "text/plain": [
       "             0         1         2         3         4         5         6   \\\n",
       "0      0.000019  0.001666  0.359251  0.097391  0.056073  0.009757  0.026428   \n",
       "1      0.000120  0.006177  0.009256  0.338370  0.004904  0.072007  0.004565   \n",
       "2      0.000015  0.577478  0.004597  0.297627  0.003532  0.201380  0.027062   \n",
       "3      0.999998  0.001098  0.222416  0.004377  0.064565  0.007608  0.008099   \n",
       "4      0.999916  0.122258  0.003118  0.145033  0.022515  0.008167  0.005151   \n",
       "...         ...       ...       ...       ...       ...       ...       ...   \n",
       "16500  0.000012  0.027452  0.028770  0.024553  0.604066  0.003489  0.019961   \n",
       "16501  0.000080  0.031114  0.001013  0.400080  0.003094  0.204207  0.018045   \n",
       "16502  0.000063  0.344237  0.043486  0.016135  0.220960  0.003990  0.419929   \n",
       "16503  1.000000  0.001637  0.017554  0.120635  0.002522  0.054604  0.264917   \n",
       "16504  0.000083  0.234378  0.037398  0.014745  0.008129  0.099088  0.478054   \n",
       "\n",
       "             7         8         9   ...        70        71        72  \\\n",
       "0      0.048721  0.142951  0.567845  ...  0.009190  0.053882  0.005239   \n",
       "1      0.626298  0.010950  0.005388  ...  0.542052  0.014514  0.024447   \n",
       "2      0.009512  0.022852  0.076959  ...  0.351593  0.051467  0.091785   \n",
       "3      0.570697  0.012569  0.001586  ...  0.317563  0.012481  0.008469   \n",
       "4      0.203196  0.001157  0.497182  ...  0.019785  0.006822  0.004279   \n",
       "...         ...       ...       ...  ...       ...       ...       ...   \n",
       "16500  0.529772  0.005701  0.010655  ...  0.024820  0.487674  0.010897   \n",
       "16501  0.005520  0.006878  0.419015  ...  0.014198  0.016832  0.334862   \n",
       "16502  0.009996  0.029594  0.578970  ...  0.004357  0.190683  0.006346   \n",
       "16503  0.001352  0.567964  0.015025  ...  0.005414  0.026982  0.526646   \n",
       "16504  0.020218  0.015200  0.625287  ...  0.121894  0.021168  0.018914   \n",
       "\n",
       "             73        74        75        76        77        78  \\\n",
       "0      0.027655  0.036411  0.056356  0.333818  0.006091  0.004499   \n",
       "1      0.022724  0.328572  0.007817  0.216432  0.041637  0.020388   \n",
       "2      0.008667  0.542216  0.052560  0.013861  0.054927  0.010408   \n",
       "3      0.014341  0.534124  0.007634  0.032288  0.115781  0.011481   \n",
       "4      0.056804  0.006268  0.039876  0.336214  0.012885  0.018631   \n",
       "...         ...       ...       ...       ...       ...       ...   \n",
       "16500  0.078071  0.017181  0.023179  0.010468  0.029949  0.265702   \n",
       "16501  0.017964  0.008633  0.066816  0.122535  0.005553  0.231258   \n",
       "16502  0.160113  0.014230  0.081268  0.004271  0.229728  0.074702   \n",
       "16503  0.033572  0.022125  0.073113  0.011224  0.422056  0.011528   \n",
       "16504  0.024172  0.074749  0.588977  0.060714  0.013980  0.022559   \n",
       "\n",
       "                 79  \n",
       "0      1.192093e-07  \n",
       "1      5.960464e-08  \n",
       "2      1.788139e-07  \n",
       "3      0.000000e+00  \n",
       "4      0.000000e+00  \n",
       "...             ...  \n",
       "16500  8.940697e-08  \n",
       "16501  0.000000e+00  \n",
       "16502  2.384186e-07  \n",
       "16503  2.980232e-08  \n",
       "16504  2.980232e-07  \n",
       "\n",
       "[16505 rows x 80 columns]"
      ]
     },
     "execution_count": 62,
     "metadata": {},
     "output_type": "execute_result"
    }
   ],
   "source": [
    "#saving the test and predicted switching\n",
    "y_test= pd.DataFrame(y_test)\n",
    "y_train= pd.DataFrame(y_train)\n",
    "y_pred= pd.DataFrame(y_pred)\n",
    "y_pred\n"
   ]
  },
  {
   "cell_type": "code",
   "execution_count": 63,
   "metadata": {
    "id": "ZQpsT-B6aMra"
   },
   "outputs": [
    {
     "data": {
      "text/plain": [
       "'\\nx_p = pd.DataFrame(inputs.values)            #Energy price of inputs\\nx_p = x_p.iloc[65544:81881, 18:50]            # Saving the Energy price\\nx_p.index = range(len(x_p))\\nx_p.columns = range(x_p.shape[1])\\n\\n\\ny_test= pd.DataFrame(y_test)\\ny_test = y_test.iloc[0:16377, 0:14]\\ny_test.index = range(len(y_test))\\ny_test.columns = range(y_test.shape[1])\\n\\ny_pred= pd.DataFrame(y_pred_binary)\\ny_pred = y_pred.iloc[0:16377, 0:14]\\ny_pred.index = range(len(y_pred))\\ny_pred.columns = range(y_pred.shape[1])\\n'"
      ]
     },
     "execution_count": 63,
     "metadata": {},
     "output_type": "execute_result"
    }
   ],
   "source": [
    "'''\n",
    "x_p = pd.DataFrame(inputs.values)            #Energy price of inputs\n",
    "x_p = x_p.iloc[65544:81881, 18:50]            # Saving the Energy price\n",
    "x_p.index = range(len(x_p))\n",
    "x_p.columns = range(x_p.shape[1])\n",
    "\n",
    "\n",
    "y_test= pd.DataFrame(y_test)\n",
    "y_test = y_test.iloc[0:16377, 0:14]\n",
    "y_test.index = range(len(y_test))\n",
    "y_test.columns = range(y_test.shape[1])\n",
    "\n",
    "y_pred= pd.DataFrame(y_pred_binary)\n",
    "y_pred = y_pred.iloc[0:16377, 0:14]\n",
    "y_pred.index = range(len(y_pred))\n",
    "y_pred.columns = range(y_pred.shape[1])\n",
    "'''\n",
    "#testing = pd.concat([x_pi, y_test, y_pred], axis=1)\n",
    "#testing.to_excel('testing.xlsx', index = False)"
   ]
  },
  {
   "cell_type": "code",
   "execution_count": 64,
   "metadata": {
    "id": "cmavpKE-GMCX"
   },
   "outputs": [],
   "source": [
    "concat_x_pi =  pd.concat([x_pi, x_pi, x_pi, x_pi], ignore_index=True, axis=1)\n",
    "concat_x_pi= pd.DataFrame(concat_x_pi)\n",
    "#concat_x_pi.index = new_index\n",
    "concat_x_pi = concat_x_pi.T\n"
   ]
  },
  {
   "cell_type": "code",
   "execution_count": 65,
   "metadata": {},
   "outputs": [
    {
     "data": {
      "text/plain": [
       "(80, 16505)"
      ]
     },
     "execution_count": 65,
     "metadata": {},
     "output_type": "execute_result"
    }
   ],
   "source": [
    "concat_x_pi = abs(concat_x_pi)\n",
    "concat_x_pi.shape"
   ]
  },
  {
   "cell_type": "code",
   "execution_count": 66,
   "metadata": {
    "colab": {
     "base_uri": "https://localhost:8080/",
     "height": 35
    },
    "id": "kyDfSEAnHTYC",
    "outputId": "a6daab74-55ac-445e-8835-2a1869120f5f"
   },
   "outputs": [
    {
     "data": {
      "text/plain": [
       "(16505, 80)"
      ]
     },
     "execution_count": 66,
     "metadata": {},
     "output_type": "execute_result"
    }
   ],
   "source": [
    "y_pred.shape\n"
   ]
  },
  {
   "cell_type": "code",
   "execution_count": 67,
   "metadata": {},
   "outputs": [],
   "source": [
    "y_pred = y_pred"
   ]
  },
  {
   "cell_type": "code",
   "execution_count": 68,
   "metadata": {},
   "outputs": [
    {
     "data": {
      "text/html": [
       "<div>\n",
       "<style scoped>\n",
       "    .dataframe tbody tr th:only-of-type {\n",
       "        vertical-align: middle;\n",
       "    }\n",
       "\n",
       "    .dataframe tbody tr th {\n",
       "        vertical-align: top;\n",
       "    }\n",
       "\n",
       "    .dataframe thead th {\n",
       "        text-align: right;\n",
       "    }\n",
       "</style>\n",
       "<table border=\"1\" class=\"dataframe\">\n",
       "  <thead>\n",
       "    <tr style=\"text-align: right;\">\n",
       "      <th></th>\n",
       "      <th>0</th>\n",
       "      <th>1</th>\n",
       "      <th>2</th>\n",
       "      <th>3</th>\n",
       "      <th>4</th>\n",
       "      <th>5</th>\n",
       "      <th>6</th>\n",
       "      <th>7</th>\n",
       "      <th>8</th>\n",
       "      <th>9</th>\n",
       "      <th>...</th>\n",
       "      <th>70</th>\n",
       "      <th>71</th>\n",
       "      <th>72</th>\n",
       "      <th>73</th>\n",
       "      <th>74</th>\n",
       "      <th>75</th>\n",
       "      <th>76</th>\n",
       "      <th>77</th>\n",
       "      <th>78</th>\n",
       "      <th>79</th>\n",
       "    </tr>\n",
       "  </thead>\n",
       "  <tbody>\n",
       "    <tr>\n",
       "      <th>0</th>\n",
       "      <td>0.000019</td>\n",
       "      <td>0.001666</td>\n",
       "      <td>0.359251</td>\n",
       "      <td>0.097391</td>\n",
       "      <td>0.056073</td>\n",
       "      <td>0.009757</td>\n",
       "      <td>0.026428</td>\n",
       "      <td>0.048721</td>\n",
       "      <td>0.142951</td>\n",
       "      <td>0.567845</td>\n",
       "      <td>...</td>\n",
       "      <td>0.009190</td>\n",
       "      <td>0.053882</td>\n",
       "      <td>0.005239</td>\n",
       "      <td>0.027655</td>\n",
       "      <td>0.036411</td>\n",
       "      <td>0.056356</td>\n",
       "      <td>0.333818</td>\n",
       "      <td>0.006091</td>\n",
       "      <td>0.004499</td>\n",
       "      <td>1.192093e-07</td>\n",
       "    </tr>\n",
       "    <tr>\n",
       "      <th>1</th>\n",
       "      <td>0.000120</td>\n",
       "      <td>0.006177</td>\n",
       "      <td>0.009256</td>\n",
       "      <td>0.338370</td>\n",
       "      <td>0.004904</td>\n",
       "      <td>0.072007</td>\n",
       "      <td>0.004565</td>\n",
       "      <td>0.626298</td>\n",
       "      <td>0.010950</td>\n",
       "      <td>0.005388</td>\n",
       "      <td>...</td>\n",
       "      <td>0.542052</td>\n",
       "      <td>0.014514</td>\n",
       "      <td>0.024447</td>\n",
       "      <td>0.022724</td>\n",
       "      <td>0.328572</td>\n",
       "      <td>0.007817</td>\n",
       "      <td>0.216432</td>\n",
       "      <td>0.041637</td>\n",
       "      <td>0.020388</td>\n",
       "      <td>5.960464e-08</td>\n",
       "    </tr>\n",
       "    <tr>\n",
       "      <th>2</th>\n",
       "      <td>0.000015</td>\n",
       "      <td>0.577478</td>\n",
       "      <td>0.004597</td>\n",
       "      <td>0.297627</td>\n",
       "      <td>0.003532</td>\n",
       "      <td>0.201380</td>\n",
       "      <td>0.027062</td>\n",
       "      <td>0.009512</td>\n",
       "      <td>0.022852</td>\n",
       "      <td>0.076959</td>\n",
       "      <td>...</td>\n",
       "      <td>0.351593</td>\n",
       "      <td>0.051467</td>\n",
       "      <td>0.091785</td>\n",
       "      <td>0.008667</td>\n",
       "      <td>0.542216</td>\n",
       "      <td>0.052560</td>\n",
       "      <td>0.013861</td>\n",
       "      <td>0.054927</td>\n",
       "      <td>0.010408</td>\n",
       "      <td>1.788139e-07</td>\n",
       "    </tr>\n",
       "    <tr>\n",
       "      <th>3</th>\n",
       "      <td>0.999998</td>\n",
       "      <td>0.001098</td>\n",
       "      <td>0.222416</td>\n",
       "      <td>0.004377</td>\n",
       "      <td>0.064565</td>\n",
       "      <td>0.007608</td>\n",
       "      <td>0.008099</td>\n",
       "      <td>0.570697</td>\n",
       "      <td>0.012569</td>\n",
       "      <td>0.001586</td>\n",
       "      <td>...</td>\n",
       "      <td>0.317563</td>\n",
       "      <td>0.012481</td>\n",
       "      <td>0.008469</td>\n",
       "      <td>0.014341</td>\n",
       "      <td>0.534124</td>\n",
       "      <td>0.007634</td>\n",
       "      <td>0.032288</td>\n",
       "      <td>0.115781</td>\n",
       "      <td>0.011481</td>\n",
       "      <td>0.000000e+00</td>\n",
       "    </tr>\n",
       "    <tr>\n",
       "      <th>4</th>\n",
       "      <td>0.999916</td>\n",
       "      <td>0.122258</td>\n",
       "      <td>0.003118</td>\n",
       "      <td>0.145033</td>\n",
       "      <td>0.022515</td>\n",
       "      <td>0.008167</td>\n",
       "      <td>0.005151</td>\n",
       "      <td>0.203196</td>\n",
       "      <td>0.001157</td>\n",
       "      <td>0.497182</td>\n",
       "      <td>...</td>\n",
       "      <td>0.019785</td>\n",
       "      <td>0.006822</td>\n",
       "      <td>0.004279</td>\n",
       "      <td>0.056804</td>\n",
       "      <td>0.006268</td>\n",
       "      <td>0.039876</td>\n",
       "      <td>0.336214</td>\n",
       "      <td>0.012885</td>\n",
       "      <td>0.018631</td>\n",
       "      <td>0.000000e+00</td>\n",
       "    </tr>\n",
       "    <tr>\n",
       "      <th>...</th>\n",
       "      <td>...</td>\n",
       "      <td>...</td>\n",
       "      <td>...</td>\n",
       "      <td>...</td>\n",
       "      <td>...</td>\n",
       "      <td>...</td>\n",
       "      <td>...</td>\n",
       "      <td>...</td>\n",
       "      <td>...</td>\n",
       "      <td>...</td>\n",
       "      <td>...</td>\n",
       "      <td>...</td>\n",
       "      <td>...</td>\n",
       "      <td>...</td>\n",
       "      <td>...</td>\n",
       "      <td>...</td>\n",
       "      <td>...</td>\n",
       "      <td>...</td>\n",
       "      <td>...</td>\n",
       "      <td>...</td>\n",
       "      <td>...</td>\n",
       "    </tr>\n",
       "    <tr>\n",
       "      <th>16500</th>\n",
       "      <td>0.000012</td>\n",
       "      <td>0.027452</td>\n",
       "      <td>0.028770</td>\n",
       "      <td>0.024553</td>\n",
       "      <td>0.604066</td>\n",
       "      <td>0.003489</td>\n",
       "      <td>0.019961</td>\n",
       "      <td>0.529772</td>\n",
       "      <td>0.005701</td>\n",
       "      <td>0.010655</td>\n",
       "      <td>...</td>\n",
       "      <td>0.024820</td>\n",
       "      <td>0.487674</td>\n",
       "      <td>0.010897</td>\n",
       "      <td>0.078071</td>\n",
       "      <td>0.017181</td>\n",
       "      <td>0.023179</td>\n",
       "      <td>0.010468</td>\n",
       "      <td>0.029949</td>\n",
       "      <td>0.265702</td>\n",
       "      <td>8.940697e-08</td>\n",
       "    </tr>\n",
       "    <tr>\n",
       "      <th>16501</th>\n",
       "      <td>0.000080</td>\n",
       "      <td>0.031114</td>\n",
       "      <td>0.001013</td>\n",
       "      <td>0.400080</td>\n",
       "      <td>0.003094</td>\n",
       "      <td>0.204207</td>\n",
       "      <td>0.018045</td>\n",
       "      <td>0.005520</td>\n",
       "      <td>0.006878</td>\n",
       "      <td>0.419015</td>\n",
       "      <td>...</td>\n",
       "      <td>0.014198</td>\n",
       "      <td>0.016832</td>\n",
       "      <td>0.334862</td>\n",
       "      <td>0.017964</td>\n",
       "      <td>0.008633</td>\n",
       "      <td>0.066816</td>\n",
       "      <td>0.122535</td>\n",
       "      <td>0.005553</td>\n",
       "      <td>0.231258</td>\n",
       "      <td>0.000000e+00</td>\n",
       "    </tr>\n",
       "    <tr>\n",
       "      <th>16502</th>\n",
       "      <td>0.000063</td>\n",
       "      <td>0.344237</td>\n",
       "      <td>0.043486</td>\n",
       "      <td>0.016135</td>\n",
       "      <td>0.220960</td>\n",
       "      <td>0.003990</td>\n",
       "      <td>0.419929</td>\n",
       "      <td>0.009996</td>\n",
       "      <td>0.029594</td>\n",
       "      <td>0.578970</td>\n",
       "      <td>...</td>\n",
       "      <td>0.004357</td>\n",
       "      <td>0.190683</td>\n",
       "      <td>0.006346</td>\n",
       "      <td>0.160113</td>\n",
       "      <td>0.014230</td>\n",
       "      <td>0.081268</td>\n",
       "      <td>0.004271</td>\n",
       "      <td>0.229728</td>\n",
       "      <td>0.074702</td>\n",
       "      <td>2.384186e-07</td>\n",
       "    </tr>\n",
       "    <tr>\n",
       "      <th>16503</th>\n",
       "      <td>1.000000</td>\n",
       "      <td>0.001637</td>\n",
       "      <td>0.017554</td>\n",
       "      <td>0.120635</td>\n",
       "      <td>0.002522</td>\n",
       "      <td>0.054604</td>\n",
       "      <td>0.264917</td>\n",
       "      <td>0.001352</td>\n",
       "      <td>0.567964</td>\n",
       "      <td>0.015025</td>\n",
       "      <td>...</td>\n",
       "      <td>0.005414</td>\n",
       "      <td>0.026982</td>\n",
       "      <td>0.526646</td>\n",
       "      <td>0.033572</td>\n",
       "      <td>0.022125</td>\n",
       "      <td>0.073113</td>\n",
       "      <td>0.011224</td>\n",
       "      <td>0.422056</td>\n",
       "      <td>0.011528</td>\n",
       "      <td>2.980232e-08</td>\n",
       "    </tr>\n",
       "    <tr>\n",
       "      <th>16504</th>\n",
       "      <td>0.000083</td>\n",
       "      <td>0.234378</td>\n",
       "      <td>0.037398</td>\n",
       "      <td>0.014745</td>\n",
       "      <td>0.008129</td>\n",
       "      <td>0.099088</td>\n",
       "      <td>0.478054</td>\n",
       "      <td>0.020218</td>\n",
       "      <td>0.015200</td>\n",
       "      <td>0.625287</td>\n",
       "      <td>...</td>\n",
       "      <td>0.121894</td>\n",
       "      <td>0.021168</td>\n",
       "      <td>0.018914</td>\n",
       "      <td>0.024172</td>\n",
       "      <td>0.074749</td>\n",
       "      <td>0.588977</td>\n",
       "      <td>0.060714</td>\n",
       "      <td>0.013980</td>\n",
       "      <td>0.022559</td>\n",
       "      <td>2.980232e-07</td>\n",
       "    </tr>\n",
       "  </tbody>\n",
       "</table>\n",
       "<p>16505 rows × 80 columns</p>\n",
       "</div>"
      ],
      "text/plain": [
       "             0         1         2         3         4         5         6   \\\n",
       "0      0.000019  0.001666  0.359251  0.097391  0.056073  0.009757  0.026428   \n",
       "1      0.000120  0.006177  0.009256  0.338370  0.004904  0.072007  0.004565   \n",
       "2      0.000015  0.577478  0.004597  0.297627  0.003532  0.201380  0.027062   \n",
       "3      0.999998  0.001098  0.222416  0.004377  0.064565  0.007608  0.008099   \n",
       "4      0.999916  0.122258  0.003118  0.145033  0.022515  0.008167  0.005151   \n",
       "...         ...       ...       ...       ...       ...       ...       ...   \n",
       "16500  0.000012  0.027452  0.028770  0.024553  0.604066  0.003489  0.019961   \n",
       "16501  0.000080  0.031114  0.001013  0.400080  0.003094  0.204207  0.018045   \n",
       "16502  0.000063  0.344237  0.043486  0.016135  0.220960  0.003990  0.419929   \n",
       "16503  1.000000  0.001637  0.017554  0.120635  0.002522  0.054604  0.264917   \n",
       "16504  0.000083  0.234378  0.037398  0.014745  0.008129  0.099088  0.478054   \n",
       "\n",
       "             7         8         9   ...        70        71        72  \\\n",
       "0      0.048721  0.142951  0.567845  ...  0.009190  0.053882  0.005239   \n",
       "1      0.626298  0.010950  0.005388  ...  0.542052  0.014514  0.024447   \n",
       "2      0.009512  0.022852  0.076959  ...  0.351593  0.051467  0.091785   \n",
       "3      0.570697  0.012569  0.001586  ...  0.317563  0.012481  0.008469   \n",
       "4      0.203196  0.001157  0.497182  ...  0.019785  0.006822  0.004279   \n",
       "...         ...       ...       ...  ...       ...       ...       ...   \n",
       "16500  0.529772  0.005701  0.010655  ...  0.024820  0.487674  0.010897   \n",
       "16501  0.005520  0.006878  0.419015  ...  0.014198  0.016832  0.334862   \n",
       "16502  0.009996  0.029594  0.578970  ...  0.004357  0.190683  0.006346   \n",
       "16503  0.001352  0.567964  0.015025  ...  0.005414  0.026982  0.526646   \n",
       "16504  0.020218  0.015200  0.625287  ...  0.121894  0.021168  0.018914   \n",
       "\n",
       "             73        74        75        76        77        78  \\\n",
       "0      0.027655  0.036411  0.056356  0.333818  0.006091  0.004499   \n",
       "1      0.022724  0.328572  0.007817  0.216432  0.041637  0.020388   \n",
       "2      0.008667  0.542216  0.052560  0.013861  0.054927  0.010408   \n",
       "3      0.014341  0.534124  0.007634  0.032288  0.115781  0.011481   \n",
       "4      0.056804  0.006268  0.039876  0.336214  0.012885  0.018631   \n",
       "...         ...       ...       ...       ...       ...       ...   \n",
       "16500  0.078071  0.017181  0.023179  0.010468  0.029949  0.265702   \n",
       "16501  0.017964  0.008633  0.066816  0.122535  0.005553  0.231258   \n",
       "16502  0.160113  0.014230  0.081268  0.004271  0.229728  0.074702   \n",
       "16503  0.033572  0.022125  0.073113  0.011224  0.422056  0.011528   \n",
       "16504  0.024172  0.074749  0.588977  0.060714  0.013980  0.022559   \n",
       "\n",
       "                 79  \n",
       "0      1.192093e-07  \n",
       "1      5.960464e-08  \n",
       "2      1.788139e-07  \n",
       "3      0.000000e+00  \n",
       "4      0.000000e+00  \n",
       "...             ...  \n",
       "16500  8.940697e-08  \n",
       "16501  0.000000e+00  \n",
       "16502  2.384186e-07  \n",
       "16503  2.980232e-08  \n",
       "16504  2.980232e-07  \n",
       "\n",
       "[16505 rows x 80 columns]"
      ]
     },
     "execution_count": 68,
     "metadata": {},
     "output_type": "execute_result"
    }
   ],
   "source": [
    "y_pred"
   ]
  },
  {
   "cell_type": "code",
   "execution_count": 69,
   "metadata": {
    "colab": {
     "base_uri": "https://localhost:8080/",
     "height": 427
    },
    "id": "8M0aZBT7HFzP",
    "outputId": "2ae09b1c-2193-41da-e402-43a5475e2eeb"
   },
   "outputs": [
    {
     "data": {
      "text/plain": [
       "(16505, 16505)"
      ]
     },
     "execution_count": 69,
     "metadata": {},
     "output_type": "execute_result"
    }
   ],
   "source": [
    "result_predict = y_pred.dot(concat_x_pi);\n",
    "result_predict.shape"
   ]
  },
  {
   "cell_type": "code",
   "execution_count": 70,
   "metadata": {},
   "outputs": [
    {
     "data": {
      "text/plain": [
       "(16505, 16505)"
      ]
     },
     "execution_count": 70,
     "metadata": {},
     "output_type": "execute_result"
    }
   ],
   "source": [
    "result_test = y_test.dot(concat_x_pi);\n",
    "result_test.shape"
   ]
  },
  {
   "cell_type": "code",
   "execution_count": 71,
   "metadata": {
    "id": "2_iywgm_0Ivw"
   },
   "outputs": [],
   "source": [
    "sub = abs(result_test - result_predict)\n"
   ]
  },
  {
   "cell_type": "code",
   "execution_count": 72,
   "metadata": {},
   "outputs": [
    {
     "data": {
      "text/html": [
       "<div>\n",
       "<style scoped>\n",
       "    .dataframe tbody tr th:only-of-type {\n",
       "        vertical-align: middle;\n",
       "    }\n",
       "\n",
       "    .dataframe tbody tr th {\n",
       "        vertical-align: top;\n",
       "    }\n",
       "\n",
       "    .dataframe thead th {\n",
       "        text-align: right;\n",
       "    }\n",
       "</style>\n",
       "<table border=\"1\" class=\"dataframe\">\n",
       "  <thead>\n",
       "    <tr style=\"text-align: right;\">\n",
       "      <th></th>\n",
       "      <th>0</th>\n",
       "      <th>1</th>\n",
       "      <th>2</th>\n",
       "      <th>3</th>\n",
       "      <th>4</th>\n",
       "      <th>5</th>\n",
       "      <th>6</th>\n",
       "      <th>7</th>\n",
       "      <th>8</th>\n",
       "      <th>9</th>\n",
       "      <th>...</th>\n",
       "      <th>16495</th>\n",
       "      <th>16496</th>\n",
       "      <th>16497</th>\n",
       "      <th>16498</th>\n",
       "      <th>16499</th>\n",
       "      <th>16500</th>\n",
       "      <th>16501</th>\n",
       "      <th>16502</th>\n",
       "      <th>16503</th>\n",
       "      <th>16504</th>\n",
       "    </tr>\n",
       "  </thead>\n",
       "  <tbody>\n",
       "    <tr>\n",
       "      <th>0</th>\n",
       "      <td>1.333002</td>\n",
       "      <td>1.299279</td>\n",
       "      <td>1.192539</td>\n",
       "      <td>0.661347</td>\n",
       "      <td>0.079513</td>\n",
       "      <td>0.248353</td>\n",
       "      <td>0.568884</td>\n",
       "      <td>0.174867</td>\n",
       "      <td>1.114183</td>\n",
       "      <td>2.031893</td>\n",
       "      <td>...</td>\n",
       "      <td>0.135732</td>\n",
       "      <td>0.708039</td>\n",
       "      <td>1.383427</td>\n",
       "      <td>0.320317</td>\n",
       "      <td>0.784465</td>\n",
       "      <td>0.761070</td>\n",
       "      <td>1.603896</td>\n",
       "      <td>0.464404</td>\n",
       "      <td>0.327897</td>\n",
       "      <td>1.787525</td>\n",
       "    </tr>\n",
       "    <tr>\n",
       "      <th>1</th>\n",
       "      <td>0.233069</td>\n",
       "      <td>0.724027</td>\n",
       "      <td>0.778263</td>\n",
       "      <td>0.701153</td>\n",
       "      <td>0.402904</td>\n",
       "      <td>0.639195</td>\n",
       "      <td>0.156019</td>\n",
       "      <td>0.217091</td>\n",
       "      <td>0.150300</td>\n",
       "      <td>0.436620</td>\n",
       "      <td>...</td>\n",
       "      <td>0.177130</td>\n",
       "      <td>0.425809</td>\n",
       "      <td>0.359807</td>\n",
       "      <td>0.524421</td>\n",
       "      <td>0.324761</td>\n",
       "      <td>0.899753</td>\n",
       "      <td>0.363883</td>\n",
       "      <td>0.046084</td>\n",
       "      <td>0.930174</td>\n",
       "      <td>0.696774</td>\n",
       "    </tr>\n",
       "    <tr>\n",
       "      <th>2</th>\n",
       "      <td>1.688551</td>\n",
       "      <td>1.016879</td>\n",
       "      <td>1.560094</td>\n",
       "      <td>0.103918</td>\n",
       "      <td>1.774614</td>\n",
       "      <td>0.164215</td>\n",
       "      <td>1.261837</td>\n",
       "      <td>1.051888</td>\n",
       "      <td>1.352452</td>\n",
       "      <td>1.611810</td>\n",
       "      <td>...</td>\n",
       "      <td>0.332187</td>\n",
       "      <td>0.151420</td>\n",
       "      <td>2.032313</td>\n",
       "      <td>0.614325</td>\n",
       "      <td>1.954767</td>\n",
       "      <td>1.373046</td>\n",
       "      <td>0.129296</td>\n",
       "      <td>0.455763</td>\n",
       "      <td>0.437425</td>\n",
       "      <td>2.811064</td>\n",
       "    </tr>\n",
       "    <tr>\n",
       "      <th>3</th>\n",
       "      <td>1.326898</td>\n",
       "      <td>0.521394</td>\n",
       "      <td>0.046325</td>\n",
       "      <td>1.244060</td>\n",
       "      <td>0.634638</td>\n",
       "      <td>0.042287</td>\n",
       "      <td>1.069873</td>\n",
       "      <td>1.967744</td>\n",
       "      <td>0.470863</td>\n",
       "      <td>0.535706</td>\n",
       "      <td>...</td>\n",
       "      <td>0.855831</td>\n",
       "      <td>0.116122</td>\n",
       "      <td>0.258412</td>\n",
       "      <td>0.872427</td>\n",
       "      <td>0.152038</td>\n",
       "      <td>0.316444</td>\n",
       "      <td>1.192915</td>\n",
       "      <td>0.111327</td>\n",
       "      <td>1.387401</td>\n",
       "      <td>0.798198</td>\n",
       "    </tr>\n",
       "    <tr>\n",
       "      <th>4</th>\n",
       "      <td>1.244069</td>\n",
       "      <td>1.552748</td>\n",
       "      <td>1.293104</td>\n",
       "      <td>1.252913</td>\n",
       "      <td>1.333265</td>\n",
       "      <td>1.172813</td>\n",
       "      <td>1.663842</td>\n",
       "      <td>0.912558</td>\n",
       "      <td>0.617516</td>\n",
       "      <td>1.485384</td>\n",
       "      <td>...</td>\n",
       "      <td>1.106816</td>\n",
       "      <td>0.896358</td>\n",
       "      <td>1.454434</td>\n",
       "      <td>1.290770</td>\n",
       "      <td>1.080097</td>\n",
       "      <td>1.335145</td>\n",
       "      <td>1.949912</td>\n",
       "      <td>1.369356</td>\n",
       "      <td>1.387704</td>\n",
       "      <td>1.775846</td>\n",
       "    </tr>\n",
       "    <tr>\n",
       "      <th>...</th>\n",
       "      <td>...</td>\n",
       "      <td>...</td>\n",
       "      <td>...</td>\n",
       "      <td>...</td>\n",
       "      <td>...</td>\n",
       "      <td>...</td>\n",
       "      <td>...</td>\n",
       "      <td>...</td>\n",
       "      <td>...</td>\n",
       "      <td>...</td>\n",
       "      <td>...</td>\n",
       "      <td>...</td>\n",
       "      <td>...</td>\n",
       "      <td>...</td>\n",
       "      <td>...</td>\n",
       "      <td>...</td>\n",
       "      <td>...</td>\n",
       "      <td>...</td>\n",
       "      <td>...</td>\n",
       "      <td>...</td>\n",
       "      <td>...</td>\n",
       "    </tr>\n",
       "    <tr>\n",
       "      <th>16500</th>\n",
       "      <td>1.511662</td>\n",
       "      <td>0.904965</td>\n",
       "      <td>0.557146</td>\n",
       "      <td>0.711565</td>\n",
       "      <td>0.800682</td>\n",
       "      <td>1.288283</td>\n",
       "      <td>0.478531</td>\n",
       "      <td>0.347786</td>\n",
       "      <td>0.846809</td>\n",
       "      <td>0.943064</td>\n",
       "      <td>...</td>\n",
       "      <td>1.550048</td>\n",
       "      <td>1.620789</td>\n",
       "      <td>0.157310</td>\n",
       "      <td>0.798845</td>\n",
       "      <td>0.596682</td>\n",
       "      <td>0.690169</td>\n",
       "      <td>0.678697</td>\n",
       "      <td>0.256087</td>\n",
       "      <td>1.174833</td>\n",
       "      <td>0.225825</td>\n",
       "    </tr>\n",
       "    <tr>\n",
       "      <th>16501</th>\n",
       "      <td>0.652222</td>\n",
       "      <td>0.731542</td>\n",
       "      <td>0.739538</td>\n",
       "      <td>1.524676</td>\n",
       "      <td>0.286600</td>\n",
       "      <td>0.136715</td>\n",
       "      <td>1.173500</td>\n",
       "      <td>1.969063</td>\n",
       "      <td>0.350263</td>\n",
       "      <td>1.738200</td>\n",
       "      <td>...</td>\n",
       "      <td>1.435924</td>\n",
       "      <td>0.238573</td>\n",
       "      <td>0.952218</td>\n",
       "      <td>0.352526</td>\n",
       "      <td>0.302929</td>\n",
       "      <td>0.011343</td>\n",
       "      <td>1.263318</td>\n",
       "      <td>0.388515</td>\n",
       "      <td>1.138699</td>\n",
       "      <td>0.543067</td>\n",
       "    </tr>\n",
       "    <tr>\n",
       "      <th>16502</th>\n",
       "      <td>0.306932</td>\n",
       "      <td>0.117295</td>\n",
       "      <td>0.482252</td>\n",
       "      <td>0.200659</td>\n",
       "      <td>0.656227</td>\n",
       "      <td>1.511173</td>\n",
       "      <td>1.504754</td>\n",
       "      <td>0.047481</td>\n",
       "      <td>0.780938</td>\n",
       "      <td>0.614301</td>\n",
       "      <td>...</td>\n",
       "      <td>0.513626</td>\n",
       "      <td>0.164008</td>\n",
       "      <td>0.136156</td>\n",
       "      <td>0.136739</td>\n",
       "      <td>1.093085</td>\n",
       "      <td>0.291222</td>\n",
       "      <td>1.510735</td>\n",
       "      <td>0.439976</td>\n",
       "      <td>0.926244</td>\n",
       "      <td>0.117768</td>\n",
       "    </tr>\n",
       "    <tr>\n",
       "      <th>16503</th>\n",
       "      <td>0.203221</td>\n",
       "      <td>0.271779</td>\n",
       "      <td>0.715656</td>\n",
       "      <td>0.661468</td>\n",
       "      <td>0.330522</td>\n",
       "      <td>0.805067</td>\n",
       "      <td>0.215697</td>\n",
       "      <td>1.938101</td>\n",
       "      <td>0.499125</td>\n",
       "      <td>0.277129</td>\n",
       "      <td>...</td>\n",
       "      <td>1.578169</td>\n",
       "      <td>0.506149</td>\n",
       "      <td>0.556325</td>\n",
       "      <td>0.408955</td>\n",
       "      <td>0.126314</td>\n",
       "      <td>0.109430</td>\n",
       "      <td>0.867716</td>\n",
       "      <td>0.570996</td>\n",
       "      <td>0.485706</td>\n",
       "      <td>0.028027</td>\n",
       "    </tr>\n",
       "    <tr>\n",
       "      <th>16504</th>\n",
       "      <td>2.186510</td>\n",
       "      <td>0.441488</td>\n",
       "      <td>0.123110</td>\n",
       "      <td>0.419164</td>\n",
       "      <td>1.664755</td>\n",
       "      <td>0.526189</td>\n",
       "      <td>0.275178</td>\n",
       "      <td>2.160860</td>\n",
       "      <td>0.618381</td>\n",
       "      <td>1.792989</td>\n",
       "      <td>...</td>\n",
       "      <td>0.552956</td>\n",
       "      <td>1.106184</td>\n",
       "      <td>0.790057</td>\n",
       "      <td>2.219789</td>\n",
       "      <td>1.582075</td>\n",
       "      <td>0.699531</td>\n",
       "      <td>0.420120</td>\n",
       "      <td>2.226617</td>\n",
       "      <td>0.554197</td>\n",
       "      <td>1.556863</td>\n",
       "    </tr>\n",
       "  </tbody>\n",
       "</table>\n",
       "<p>16505 rows × 16505 columns</p>\n",
       "</div>"
      ],
      "text/plain": [
       "          0         1         2         3         4         5         6      \\\n",
       "0      1.333002  1.299279  1.192539  0.661347  0.079513  0.248353  0.568884   \n",
       "1      0.233069  0.724027  0.778263  0.701153  0.402904  0.639195  0.156019   \n",
       "2      1.688551  1.016879  1.560094  0.103918  1.774614  0.164215  1.261837   \n",
       "3      1.326898  0.521394  0.046325  1.244060  0.634638  0.042287  1.069873   \n",
       "4      1.244069  1.552748  1.293104  1.252913  1.333265  1.172813  1.663842   \n",
       "...         ...       ...       ...       ...       ...       ...       ...   \n",
       "16500  1.511662  0.904965  0.557146  0.711565  0.800682  1.288283  0.478531   \n",
       "16501  0.652222  0.731542  0.739538  1.524676  0.286600  0.136715  1.173500   \n",
       "16502  0.306932  0.117295  0.482252  0.200659  0.656227  1.511173  1.504754   \n",
       "16503  0.203221  0.271779  0.715656  0.661468  0.330522  0.805067  0.215697   \n",
       "16504  2.186510  0.441488  0.123110  0.419164  1.664755  0.526189  0.275178   \n",
       "\n",
       "          7         8         9      ...     16495     16496     16497  \\\n",
       "0      0.174867  1.114183  2.031893  ...  0.135732  0.708039  1.383427   \n",
       "1      0.217091  0.150300  0.436620  ...  0.177130  0.425809  0.359807   \n",
       "2      1.051888  1.352452  1.611810  ...  0.332187  0.151420  2.032313   \n",
       "3      1.967744  0.470863  0.535706  ...  0.855831  0.116122  0.258412   \n",
       "4      0.912558  0.617516  1.485384  ...  1.106816  0.896358  1.454434   \n",
       "...         ...       ...       ...  ...       ...       ...       ...   \n",
       "16500  0.347786  0.846809  0.943064  ...  1.550048  1.620789  0.157310   \n",
       "16501  1.969063  0.350263  1.738200  ...  1.435924  0.238573  0.952218   \n",
       "16502  0.047481  0.780938  0.614301  ...  0.513626  0.164008  0.136156   \n",
       "16503  1.938101  0.499125  0.277129  ...  1.578169  0.506149  0.556325   \n",
       "16504  2.160860  0.618381  1.792989  ...  0.552956  1.106184  0.790057   \n",
       "\n",
       "          16498     16499     16500     16501     16502     16503     16504  \n",
       "0      0.320317  0.784465  0.761070  1.603896  0.464404  0.327897  1.787525  \n",
       "1      0.524421  0.324761  0.899753  0.363883  0.046084  0.930174  0.696774  \n",
       "2      0.614325  1.954767  1.373046  0.129296  0.455763  0.437425  2.811064  \n",
       "3      0.872427  0.152038  0.316444  1.192915  0.111327  1.387401  0.798198  \n",
       "4      1.290770  1.080097  1.335145  1.949912  1.369356  1.387704  1.775846  \n",
       "...         ...       ...       ...       ...       ...       ...       ...  \n",
       "16500  0.798845  0.596682  0.690169  0.678697  0.256087  1.174833  0.225825  \n",
       "16501  0.352526  0.302929  0.011343  1.263318  0.388515  1.138699  0.543067  \n",
       "16502  0.136739  1.093085  0.291222  1.510735  0.439976  0.926244  0.117768  \n",
       "16503  0.408955  0.126314  0.109430  0.867716  0.570996  0.485706  0.028027  \n",
       "16504  2.219789  1.582075  0.699531  0.420120  2.226617  0.554197  1.556863  \n",
       "\n",
       "[16505 rows x 16505 columns]"
      ]
     },
     "execution_count": 72,
     "metadata": {},
     "output_type": "execute_result"
    }
   ],
   "source": [
    "sub"
   ]
  },
  {
   "cell_type": "code",
   "execution_count": 73,
   "metadata": {
    "id": "LzRbMb3jGQ70"
   },
   "outputs": [
    {
     "data": {
      "text/html": [
       "<div>\n",
       "<style scoped>\n",
       "    .dataframe tbody tr th:only-of-type {\n",
       "        vertical-align: middle;\n",
       "    }\n",
       "\n",
       "    .dataframe tbody tr th {\n",
       "        vertical-align: top;\n",
       "    }\n",
       "\n",
       "    .dataframe thead th {\n",
       "        text-align: right;\n",
       "    }\n",
       "</style>\n",
       "<table border=\"1\" class=\"dataframe\">\n",
       "  <thead>\n",
       "    <tr style=\"text-align: right;\">\n",
       "      <th></th>\n",
       "      <th>0</th>\n",
       "      <th>1</th>\n",
       "      <th>2</th>\n",
       "      <th>3</th>\n",
       "      <th>4</th>\n",
       "      <th>5</th>\n",
       "      <th>6</th>\n",
       "      <th>7</th>\n",
       "      <th>8</th>\n",
       "      <th>9</th>\n",
       "      <th>...</th>\n",
       "      <th>16495</th>\n",
       "      <th>16496</th>\n",
       "      <th>16497</th>\n",
       "      <th>16498</th>\n",
       "      <th>16499</th>\n",
       "      <th>16500</th>\n",
       "      <th>16501</th>\n",
       "      <th>16502</th>\n",
       "      <th>16503</th>\n",
       "      <th>16504</th>\n",
       "    </tr>\n",
       "  </thead>\n",
       "  <tbody>\n",
       "    <tr>\n",
       "      <th>0</th>\n",
       "      <td>0.143412</td>\n",
       "      <td>0.196355</td>\n",
       "      <td>0.149793</td>\n",
       "      <td>0.090667</td>\n",
       "      <td>0.009393</td>\n",
       "      <td>0.042277</td>\n",
       "      <td>0.104580</td>\n",
       "      <td>0.018181</td>\n",
       "      <td>0.114456</td>\n",
       "      <td>0.198381</td>\n",
       "      <td>...</td>\n",
       "      <td>0.023815</td>\n",
       "      <td>0.091602</td>\n",
       "      <td>0.132051</td>\n",
       "      <td>0.052795</td>\n",
       "      <td>0.079835</td>\n",
       "      <td>0.105249</td>\n",
       "      <td>0.178759</td>\n",
       "      <td>0.055613</td>\n",
       "      <td>0.046158</td>\n",
       "      <td>0.166170</td>\n",
       "    </tr>\n",
       "    <tr>\n",
       "      <th>1</th>\n",
       "      <td>0.021989</td>\n",
       "      <td>0.047769</td>\n",
       "      <td>0.059467</td>\n",
       "      <td>0.054102</td>\n",
       "      <td>0.043639</td>\n",
       "      <td>0.066272</td>\n",
       "      <td>0.022191</td>\n",
       "      <td>0.023341</td>\n",
       "      <td>0.016126</td>\n",
       "      <td>0.057951</td>\n",
       "      <td>...</td>\n",
       "      <td>0.014433</td>\n",
       "      <td>0.044727</td>\n",
       "      <td>0.042818</td>\n",
       "      <td>0.065997</td>\n",
       "      <td>0.034058</td>\n",
       "      <td>0.089472</td>\n",
       "      <td>0.030286</td>\n",
       "      <td>0.006219</td>\n",
       "      <td>0.071131</td>\n",
       "      <td>0.113229</td>\n",
       "    </tr>\n",
       "    <tr>\n",
       "      <th>2</th>\n",
       "      <td>0.336734</td>\n",
       "      <td>0.120681</td>\n",
       "      <td>0.205891</td>\n",
       "      <td>0.009394</td>\n",
       "      <td>0.337179</td>\n",
       "      <td>0.023880</td>\n",
       "      <td>0.186665</td>\n",
       "      <td>0.174861</td>\n",
       "      <td>0.456046</td>\n",
       "      <td>0.338683</td>\n",
       "      <td>...</td>\n",
       "      <td>0.043324</td>\n",
       "      <td>0.026269</td>\n",
       "      <td>0.270859</td>\n",
       "      <td>0.115869</td>\n",
       "      <td>0.377387</td>\n",
       "      <td>0.270128</td>\n",
       "      <td>0.011822</td>\n",
       "      <td>0.076336</td>\n",
       "      <td>0.058206</td>\n",
       "      <td>0.769760</td>\n",
       "    </tr>\n",
       "    <tr>\n",
       "      <th>3</th>\n",
       "      <td>0.161325</td>\n",
       "      <td>0.041965</td>\n",
       "      <td>0.003666</td>\n",
       "      <td>0.118522</td>\n",
       "      <td>0.105865</td>\n",
       "      <td>0.004559</td>\n",
       "      <td>0.181818</td>\n",
       "      <td>0.224308</td>\n",
       "      <td>0.047038</td>\n",
       "      <td>0.076481</td>\n",
       "      <td>...</td>\n",
       "      <td>0.066945</td>\n",
       "      <td>0.011274</td>\n",
       "      <td>0.026448</td>\n",
       "      <td>0.137919</td>\n",
       "      <td>0.016218</td>\n",
       "      <td>0.034506</td>\n",
       "      <td>0.125771</td>\n",
       "      <td>0.015866</td>\n",
       "      <td>0.122978</td>\n",
       "      <td>0.119754</td>\n",
       "    </tr>\n",
       "    <tr>\n",
       "      <th>4</th>\n",
       "      <td>0.139616</td>\n",
       "      <td>0.280916</td>\n",
       "      <td>0.169339</td>\n",
       "      <td>0.274999</td>\n",
       "      <td>0.180762</td>\n",
       "      <td>0.212501</td>\n",
       "      <td>0.539416</td>\n",
       "      <td>0.105218</td>\n",
       "      <td>0.084660</td>\n",
       "      <td>0.187883</td>\n",
       "      <td>...</td>\n",
       "      <td>0.147722</td>\n",
       "      <td>0.104060</td>\n",
       "      <td>0.202270</td>\n",
       "      <td>0.325682</td>\n",
       "      <td>0.138518</td>\n",
       "      <td>0.222116</td>\n",
       "      <td>0.480236</td>\n",
       "      <td>0.165446</td>\n",
       "      <td>0.187725</td>\n",
       "      <td>0.255177</td>\n",
       "    </tr>\n",
       "    <tr>\n",
       "      <th>...</th>\n",
       "      <td>...</td>\n",
       "      <td>...</td>\n",
       "      <td>...</td>\n",
       "      <td>...</td>\n",
       "      <td>...</td>\n",
       "      <td>...</td>\n",
       "      <td>...</td>\n",
       "      <td>...</td>\n",
       "      <td>...</td>\n",
       "      <td>...</td>\n",
       "      <td>...</td>\n",
       "      <td>...</td>\n",
       "      <td>...</td>\n",
       "      <td>...</td>\n",
       "      <td>...</td>\n",
       "      <td>...</td>\n",
       "      <td>...</td>\n",
       "      <td>...</td>\n",
       "      <td>...</td>\n",
       "      <td>...</td>\n",
       "      <td>...</td>\n",
       "    </tr>\n",
       "    <tr>\n",
       "      <th>16500</th>\n",
       "      <td>0.179026</td>\n",
       "      <td>0.126875</td>\n",
       "      <td>0.063176</td>\n",
       "      <td>0.098289</td>\n",
       "      <td>0.105748</td>\n",
       "      <td>0.147049</td>\n",
       "      <td>0.088610</td>\n",
       "      <td>0.050850</td>\n",
       "      <td>0.074238</td>\n",
       "      <td>0.165016</td>\n",
       "      <td>...</td>\n",
       "      <td>0.144431</td>\n",
       "      <td>0.152188</td>\n",
       "      <td>0.019977</td>\n",
       "      <td>0.078879</td>\n",
       "      <td>0.055429</td>\n",
       "      <td>0.064091</td>\n",
       "      <td>0.084172</td>\n",
       "      <td>0.048818</td>\n",
       "      <td>0.145498</td>\n",
       "      <td>0.029152</td>\n",
       "    </tr>\n",
       "    <tr>\n",
       "      <th>16501</th>\n",
       "      <td>0.090353</td>\n",
       "      <td>0.124824</td>\n",
       "      <td>0.117458</td>\n",
       "      <td>0.320291</td>\n",
       "      <td>0.041135</td>\n",
       "      <td>0.029547</td>\n",
       "      <td>0.353741</td>\n",
       "      <td>0.431033</td>\n",
       "      <td>0.096081</td>\n",
       "      <td>0.188688</td>\n",
       "      <td>...</td>\n",
       "      <td>0.343050</td>\n",
       "      <td>0.040361</td>\n",
       "      <td>0.130390</td>\n",
       "      <td>0.058083</td>\n",
       "      <td>0.042086</td>\n",
       "      <td>0.002051</td>\n",
       "      <td>0.165450</td>\n",
       "      <td>0.061997</td>\n",
       "      <td>0.372878</td>\n",
       "      <td>0.065207</td>\n",
       "    </tr>\n",
       "    <tr>\n",
       "      <th>16502</th>\n",
       "      <td>0.028913</td>\n",
       "      <td>0.026418</td>\n",
       "      <td>0.067197</td>\n",
       "      <td>0.025084</td>\n",
       "      <td>0.063672</td>\n",
       "      <td>0.270341</td>\n",
       "      <td>0.261990</td>\n",
       "      <td>0.006210</td>\n",
       "      <td>0.074621</td>\n",
       "      <td>0.065502</td>\n",
       "      <td>...</td>\n",
       "      <td>0.072292</td>\n",
       "      <td>0.017666</td>\n",
       "      <td>0.012390</td>\n",
       "      <td>0.016601</td>\n",
       "      <td>0.081877</td>\n",
       "      <td>0.035543</td>\n",
       "      <td>0.223982</td>\n",
       "      <td>0.041263</td>\n",
       "      <td>0.123106</td>\n",
       "      <td>0.009779</td>\n",
       "    </tr>\n",
       "    <tr>\n",
       "      <th>16503</th>\n",
       "      <td>0.021462</td>\n",
       "      <td>0.052500</td>\n",
       "      <td>0.082909</td>\n",
       "      <td>0.083934</td>\n",
       "      <td>0.052775</td>\n",
       "      <td>0.200949</td>\n",
       "      <td>0.028715</td>\n",
       "      <td>0.182450</td>\n",
       "      <td>0.078406</td>\n",
       "      <td>0.028870</td>\n",
       "      <td>...</td>\n",
       "      <td>0.151818</td>\n",
       "      <td>0.088266</td>\n",
       "      <td>0.110244</td>\n",
       "      <td>0.052326</td>\n",
       "      <td>0.012458</td>\n",
       "      <td>0.013542</td>\n",
       "      <td>0.138896</td>\n",
       "      <td>0.097746</td>\n",
       "      <td>0.047996</td>\n",
       "      <td>0.002401</td>\n",
       "    </tr>\n",
       "    <tr>\n",
       "      <th>16504</th>\n",
       "      <td>0.170710</td>\n",
       "      <td>0.059576</td>\n",
       "      <td>0.022533</td>\n",
       "      <td>0.036156</td>\n",
       "      <td>0.154402</td>\n",
       "      <td>0.098550</td>\n",
       "      <td>0.036777</td>\n",
       "      <td>0.198583</td>\n",
       "      <td>0.073925</td>\n",
       "      <td>0.184622</td>\n",
       "      <td>...</td>\n",
       "      <td>0.072719</td>\n",
       "      <td>0.150633</td>\n",
       "      <td>0.101156</td>\n",
       "      <td>0.188212</td>\n",
       "      <td>0.133686</td>\n",
       "      <td>0.079905</td>\n",
       "      <td>0.053074</td>\n",
       "      <td>0.193890</td>\n",
       "      <td>0.060977</td>\n",
       "      <td>0.123000</td>\n",
       "    </tr>\n",
       "  </tbody>\n",
       "</table>\n",
       "<p>16505 rows × 16505 columns</p>\n",
       "</div>"
      ],
      "text/plain": [
       "          0         1         2         3         4         5         6      \\\n",
       "0      0.143412  0.196355  0.149793  0.090667  0.009393  0.042277  0.104580   \n",
       "1      0.021989  0.047769  0.059467  0.054102  0.043639  0.066272  0.022191   \n",
       "2      0.336734  0.120681  0.205891  0.009394  0.337179  0.023880  0.186665   \n",
       "3      0.161325  0.041965  0.003666  0.118522  0.105865  0.004559  0.181818   \n",
       "4      0.139616  0.280916  0.169339  0.274999  0.180762  0.212501  0.539416   \n",
       "...         ...       ...       ...       ...       ...       ...       ...   \n",
       "16500  0.179026  0.126875  0.063176  0.098289  0.105748  0.147049  0.088610   \n",
       "16501  0.090353  0.124824  0.117458  0.320291  0.041135  0.029547  0.353741   \n",
       "16502  0.028913  0.026418  0.067197  0.025084  0.063672  0.270341  0.261990   \n",
       "16503  0.021462  0.052500  0.082909  0.083934  0.052775  0.200949  0.028715   \n",
       "16504  0.170710  0.059576  0.022533  0.036156  0.154402  0.098550  0.036777   \n",
       "\n",
       "          7         8         9      ...     16495     16496     16497  \\\n",
       "0      0.018181  0.114456  0.198381  ...  0.023815  0.091602  0.132051   \n",
       "1      0.023341  0.016126  0.057951  ...  0.014433  0.044727  0.042818   \n",
       "2      0.174861  0.456046  0.338683  ...  0.043324  0.026269  0.270859   \n",
       "3      0.224308  0.047038  0.076481  ...  0.066945  0.011274  0.026448   \n",
       "4      0.105218  0.084660  0.187883  ...  0.147722  0.104060  0.202270   \n",
       "...         ...       ...       ...  ...       ...       ...       ...   \n",
       "16500  0.050850  0.074238  0.165016  ...  0.144431  0.152188  0.019977   \n",
       "16501  0.431033  0.096081  0.188688  ...  0.343050  0.040361  0.130390   \n",
       "16502  0.006210  0.074621  0.065502  ...  0.072292  0.017666  0.012390   \n",
       "16503  0.182450  0.078406  0.028870  ...  0.151818  0.088266  0.110244   \n",
       "16504  0.198583  0.073925  0.184622  ...  0.072719  0.150633  0.101156   \n",
       "\n",
       "          16498     16499     16500     16501     16502     16503     16504  \n",
       "0      0.052795  0.079835  0.105249  0.178759  0.055613  0.046158  0.166170  \n",
       "1      0.065997  0.034058  0.089472  0.030286  0.006219  0.071131  0.113229  \n",
       "2      0.115869  0.377387  0.270128  0.011822  0.076336  0.058206  0.769760  \n",
       "3      0.137919  0.016218  0.034506  0.125771  0.015866  0.122978  0.119754  \n",
       "4      0.325682  0.138518  0.222116  0.480236  0.165446  0.187725  0.255177  \n",
       "...         ...       ...       ...       ...       ...       ...       ...  \n",
       "16500  0.078879  0.055429  0.064091  0.084172  0.048818  0.145498  0.029152  \n",
       "16501  0.058083  0.042086  0.002051  0.165450  0.061997  0.372878  0.065207  \n",
       "16502  0.016601  0.081877  0.035543  0.223982  0.041263  0.123106  0.009779  \n",
       "16503  0.052326  0.012458  0.013542  0.138896  0.097746  0.047996  0.002401  \n",
       "16504  0.188212  0.133686  0.079905  0.053074  0.193890  0.060977  0.123000  \n",
       "\n",
       "[16505 rows x 16505 columns]"
      ]
     },
     "execution_count": 73,
     "metadata": {},
     "output_type": "execute_result"
    }
   ],
   "source": [
    "sub = abs(result_test - result_predict)/(result_test)\n",
    "sub"
   ]
  },
  {
   "cell_type": "code",
   "execution_count": 74,
   "metadata": {},
   "outputs": [
    {
     "data": {
      "text/plain": [
       "<matplotlib.lines.Line2D at 0x1c805ba3188>"
      ]
     },
     "execution_count": 74,
     "metadata": {},
     "output_type": "execute_result"
    },
    {
     "data": {
      "image/png": "[encoded data removed]",
      "text/plain": [
       "<Figure size 432x288 with 1 Axes>"
      ]
     },
     "metadata": {
      "needs_background": "light"
     },
     "output_type": "display_data"
    }
   ],
   "source": [
    "suboptimality = np.diag(sub)\n",
    "#plt.plot(suboptimality[48:72])\n",
    "plt.xlabel('number of components')\n",
    "plt.ylabel('element wise suboptimality')\n",
    "plt.title('F*-F^/')\n",
    "plt.axhline(y=0.15, color='r', linestyle='-')"
   ]
  },
  {
   "cell_type": "code",
   "execution_count": 75,
   "metadata": {},
   "outputs": [
    {
     "data": {
      "text/plain": [
       "(16505,)"
      ]
     },
     "execution_count": 75,
     "metadata": {},
     "output_type": "execute_result"
    }
   ],
   "source": [
    "suboptimality.shape"
   ]
  },
  {
   "cell_type": "code",
   "execution_count": 76,
   "metadata": {},
   "outputs": [
    {
     "data": {
      "text/plain": [
       "0.08977218846001603"
      ]
     },
     "execution_count": 76,
     "metadata": {},
     "output_type": "execute_result"
    }
   ],
   "source": [
    "#Calculating the suboptimality for T=20, two tank model, batch normalization, activation = sigmoid, ReLU\n",
    "#loss= binary cross entropy, pumps =4 \n",
    "T = np.mean(suboptimality)\n",
    "T"
   ]
  },
  {
   "cell_type": "code",
   "execution_count": null,
   "metadata": {},
   "outputs": [],
   "source": []
  },
  {
   "cell_type": "code",
   "execution_count": null,
   "metadata": {},
   "outputs": [],
   "source": []
  }
 ],
 "metadata": {
  "colab": {
   "collapsed_sections": [],
   "name": "FinalCodeDL.ipynb",
   "provenance": [],
   "toc_visible": true
  },
  "kernelspec": {
   "display_name": "Python 3",
   "language": "python",
   "name": "python3"
  },
  "language_info": {
   "codemirror_mode": {
    "name": "ipython",
    "version": 3
   },
   "file_extension": ".py",
   "mimetype": "text/x-python",
   "name": "python",
   "nbconvert_exporter": "python",
   "pygments_lexer": "ipython3",
   "version": "3.7.6"
  }
 },
 "nbformat": 4,
 "nbformat_minor": 1
}
