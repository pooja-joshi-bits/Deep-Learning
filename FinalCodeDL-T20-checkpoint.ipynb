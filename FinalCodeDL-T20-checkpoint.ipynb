{
 "cells": [
  {
   "cell_type": "code",
   "execution_count": 378,
   "metadata": {
    "id": "qLTVIvmEV0bJ"
   },
   "outputs": [],
   "source": [
    "#We are testing a DL model for Mixed integer formulation for Water distribution network.\n",
    "# The input data such as water demand and time-ahead dynamic energy prices are obtained from Singh et al (2019) paper.\n",
    "# We computed the time ahead pump switching using MATALB Gurobi solver\n",
    "# We obtained the time ahead pump switching for 2048 hours (85.33 days)\n",
    "# We train_test the neural network in the ratio of 80-20.\n",
    "# The nn is trained using ReLu and SoftMax (as the output is integer values)\n",
    "\n",
    "#In our  case y is (z)\n",
    "\n",
    "import numpy as np\n",
    "import pandas as pd   #data analysis and manipulation library\n",
    "import seaborn as sns #Python statistical data visualization library.\n",
    "import matplotlib.pyplot as plt\n",
    "from sklearn import model_selection #Tuning the hyperparameters, cross validation, model persistance are the important aspects of this.\n",
    "from sklearn.model_selection import train_test_split #ML library to data analysis\n",
    "from sklearn.metrics import accuracy_score, r2_score\n",
    "import sklearn.metrics as metrics\n",
    "from openpyxl import Workbook, load_workbook\n",
    "from openpyxl.utils.dataframe import dataframe_to_rows\n",
    "\n",
    "\n",
    "from sklearn.decomposition import PCA #dimensionality reduction\n",
    "\n",
    "%matplotlib inline\n",
    "\n",
    "#Libraries for Deep learning framework from Keras\n",
    "\n",
    "import tensorflow as tf\n",
    "from tensorflow.keras.models import Sequential\n",
    "from tensorflow.keras.layers import Dense, Activation\n",
    "\n",
    "import keras\n",
    "import keras.utils\n",
    "from keras import utils as np_utils\n",
    "from keras.models import Sequential\n",
    "\n",
    "from tensorflow.keras import layers\n",
    "from tensorflow.keras import utils as np_utils\n",
    "from tensorflow.keras import models \n",
    "from tensorflow.keras.models import Sequential\n",
    "from tensorflow.keras.layers import Activation, LeakyReLU, PReLU, ELU #Import activation functions from keras.layers\n",
    "from tensorflow.keras.layers import Dropout #Import dropout library, the objective of dropout is to prevent overfitting of data, However, we have to be careful while setting the dropout rate.\n",
    "from tensorflow.keras.optimizers import SGD, RMSprop\n",
    "from tensorflow.keras.callbacks import LearningRateScheduler #Learning rate scheduler, Here call back is an object that can perform\n",
    "                                                # at various actions at different stages of training \n",
    "from tensorflow.keras.callbacks import History #We can use the data collected from history to  [accuracy, loss, val_accuracy, val_loss]\n",
    "\n",
    "\n",
    "\n",
    "import io #Deal with various types of input output\n",
    "import os #Talk with os, like changing and modifying dirctories\n",
    "import requests #Allow you to send HTTP/1.1, headers, form data, multipart files r = requests.get(‘https://github.com/timeline.json’)\n",
    "\n",
    "\n",
    "import warnings\n",
    "warnings.simplefilter(action='ignore', category=FutureWarning)\n",
    "warnings.filterwarnings('ignore')\n",
    "warnings.filterwarnings('ignore', category=DeprecationWarning) #Deprecated warning: it is a base category of warning about deprecated features\n",
    "\n",
    "\n",
    "import dill\n",
    "# dill.dump_session('notebook_env.db')\n"
   ]
  },
  {
   "cell_type": "code",
   "execution_count": 379,
   "metadata": {
    "colab": {
     "base_uri": "https://localhost:8080/",
     "height": 35
    },
    "id": "3UAv55q5WBcM",
    "outputId": "3c021aa0-bd4d-494f-f943-eef9218e7517"
   },
   "outputs": [
    {
     "data": {
      "text/plain": [
       "'C:\\\\Users\\\\jyotib18\\\\OneDrive - Universitetet i Agder\\\\Data Files From Rahul'"
      ]
     },
     "execution_count": 379,
     "metadata": {},
     "output_type": "execute_result"
    }
   ],
   "source": [
    "pwd\n"
   ]
  },
  {
   "cell_type": "code",
   "execution_count": 380,
   "metadata": {
    "colab": {
     "base_uri": "https://localhost:8080/",
     "height": 35
    },
    "id": "IpVFTXeQXCXK",
    "outputId": "27426a81-8e08-46b7-8f2c-c8deaf83a9a4"
   },
   "outputs": [
    {
     "data": {
      "text/plain": [
       "(74426, 74)"
      ]
     },
     "execution_count": 380,
     "metadata": {},
     "output_type": "execute_result"
    }
   ],
   "source": [
    "import io\n",
    "#inputs = pd.read_csv(io.BytesIO(uploaded['1.csv']))\n",
    "\n",
    "inputs=pd.read_csv(r'C:\\Users\\jyotib18\\Google Drive\\1.UiA\\8. Summaries\\Papers\\Bhardwaj_Optimal water flow online\\Joshin Data\\Results\\T24DaTa\\1.csv')\n",
    "\n",
    "\n",
    "# Dataset is now stored in a Pandas Dataframe\n",
    "inputs.shape"
   ]
  },
  {
   "cell_type": "code",
   "execution_count": 381,
   "metadata": {
    "colab": {
     "base_uri": "https://localhost:8080/",
     "height": 35
    },
    "id": "JJOS8FKYX-NI",
    "outputId": "1b70258b-b9d3-487b-c10f-9a84707063e3"
   },
   "outputs": [
    {
     "data": {
      "text/plain": [
       "pandas.core.frame.DataFrame"
      ]
     },
     "execution_count": 381,
     "metadata": {},
     "output_type": "execute_result"
    }
   ],
   "source": [
    "type(inputs)"
   ]
  },
  {
   "cell_type": "code",
   "execution_count": 382,
   "metadata": {
    "colab": {
     "base_uri": "https://localhost:8080/",
     "height": 267
    },
    "id": "7kjRvcIjYBcE",
    "outputId": "fc4ba7fd-6de7-44fa-fddc-9bbd367a8a2d"
   },
   "outputs": [
    {
     "data": {
      "text/plain": [
       "<bound method NDFrame.head of            Vo  Zo  So  D1  D2  D3  D4  D5  D6  D7  ...      U14       U15  \\\n",
       "0      62.566   0   5   1   0   0   0   0   0   1  ...   5.8755  10.90100   \n",
       "1      71.810   1   5   0   1   1   1   0   1   0  ...  18.5460   5.19750   \n",
       "2      55.224   1   5   1   0   1   0   0   1   0  ...   9.8577   4.14280   \n",
       "3      93.310   0   3   1   0   0   0   0   1   1  ...   8.5887  15.87600   \n",
       "4      80.276   0   3   0   0   0   0   0   1   1  ...  11.6280  17.43400   \n",
       "...       ...  ..  ..  ..  ..  ..  ..  ..  ..  ..  ...      ...       ...   \n",
       "74421  83.700   1   3   0   0   0   1   1   0   0  ...   2.9541   9.15010   \n",
       "74422  47.008   1   5   0   0   1   0   0   1   1  ...  11.7450  19.65800   \n",
       "74423  78.333   1   2   1   0   0   0   0   0   0  ...   2.5003   4.23180   \n",
       "74424  78.274   1   4   1   0   1   1   0   0   1  ...  14.8520   0.72787   \n",
       "74425  98.236   1   4   0   1   0   1   1   1   0  ...  17.7920   5.69180   \n",
       "\n",
       "            U16       U17       U18      U19       U20      U21      U22  \\\n",
       "0      15.63400   6.54800   1.90530   8.8337   0.58154  13.5080   2.2318   \n",
       "1      16.65000   3.50250  17.59700   5.5927  16.99000  16.1340   3.7825   \n",
       "2       0.51638   3.40420   6.04680  19.2290  15.67300  13.4650  16.8140   \n",
       "3       2.83130  12.16200  18.61300  12.7290   0.95541  13.9670   5.1422   \n",
       "4       4.13810   1.89220   3.75900  13.3570  14.64800  12.6200   9.3641   \n",
       "...         ...       ...       ...      ...       ...      ...      ...   \n",
       "74421   8.59510  14.67500   9.83950   7.1363  15.05300  13.0420   9.1120   \n",
       "74422  18.21000  19.90400   7.40360   5.0991  12.60700  15.7320   8.2169   \n",
       "74423  12.51400   0.69207  17.26400   1.1724  14.57100  12.4900   4.3054   \n",
       "74424   3.85510  13.06700   9.47460   3.0832   5.48130   6.7063  11.6630   \n",
       "74425   2.16720  16.16700   0.14489  12.8460  15.92300  19.5390  17.4880   \n",
       "\n",
       "           U23  \n",
       "0       3.9928  \n",
       "1      19.5710  \n",
       "2       8.4171  \n",
       "3      13.8180  \n",
       "4       6.2872  \n",
       "...        ...  \n",
       "74421   9.6588  \n",
       "74422   2.5618  \n",
       "74423   7.5235  \n",
       "74424  19.0950  \n",
       "74425  14.0980  \n",
       "\n",
       "[74426 rows x 74 columns]>"
      ]
     },
     "execution_count": 382,
     "metadata": {},
     "output_type": "execute_result"
    }
   ],
   "source": [
    "inputs.head"
   ]
  },
  {
   "cell_type": "code",
   "execution_count": 383,
   "metadata": {
    "colab": {
     "base_uri": "https://localhost:8080/",
     "height": 35
    },
    "id": "3K06d0z3YLHZ",
    "outputId": "2f18508a-5444-4967-a6c7-42e5cfdeb656"
   },
   "outputs": [
    {
     "data": {
      "text/plain": [
       "(74426, 24)"
      ]
     },
     "execution_count": 383,
     "metadata": {},
     "output_type": "execute_result"
    }
   ],
   "source": [
    "import io\n",
    "outputs = pd.read_csv(r'C:\\Users\\jyotib18\\Google Drive\\1.UiA\\8. Summaries\\Papers\\Bhardwaj_Optimal water flow online\\Joshin Data\\Results\\T24DaTa\\3.csv')\n",
    "# Dataset is now stored in a Pandas Dataframe\n",
    "outputs.shape"
   ]
  },
  {
   "cell_type": "code",
   "execution_count": 384,
   "metadata": {
    "colab": {
     "base_uri": "https://localhost:8080/",
     "height": 267
    },
    "id": "c_Y34U9Eo9RK",
    "outputId": "a0beb83e-4aeb-4f67-e98b-175ffcb61b9b"
   },
   "outputs": [
    {
     "data": {
      "text/plain": [
       "<bound method NDFrame.head of        z1   z2   z3   z4   z5   z6   z7   z8   z9  z10  ...  z15  z16  z17  \\\n",
       "0       0  1.0  1.0  1.0  1.0  1.0  1.0  1.0  1.0  1.0  ...  1.0  1.0  1.0   \n",
       "1       1  1.0  1.0  1.0  1.0  1.0  1.0  1.0  1.0  1.0  ...  1.0  1.0  1.0   \n",
       "2       1  1.0  1.0  1.0  1.0  1.0  1.0  1.0  1.0  1.0  ...  1.0  1.0  1.0   \n",
       "3       0  1.0  1.0  1.0  1.0  1.0  1.0  1.0  1.0  1.0  ...  1.0  1.0  1.0   \n",
       "4       0  1.0  1.0  1.0  1.0  1.0  1.0  1.0  1.0  1.0  ...  1.0  0.0  1.0   \n",
       "...    ..  ...  ...  ...  ...  ...  ...  ...  ...  ...  ...  ...  ...  ...   \n",
       "74421   1  1.0  1.0  1.0  0.0  1.0  1.0  0.0  1.0  1.0  ...  0.0  1.0  1.0   \n",
       "74422   1  1.0  1.0  1.0  1.0  1.0  1.0  1.0  1.0  1.0  ...  1.0  1.0  1.0   \n",
       "74423   1  0.0  0.0  1.0  1.0  1.0  1.0  1.0  0.0  1.0  ...  1.0  0.0  1.0   \n",
       "74424   1  1.0  1.0  0.0  1.0  1.0  1.0  0.0  1.0  1.0  ...  1.0  1.0  1.0   \n",
       "74425   1  1.0  1.0  1.0  1.0  0.0  1.0  1.0  1.0  0.0  ...  1.0  0.0  0.0   \n",
       "\n",
       "       z18  z19  z20  z21  z22  z23  z24  \n",
       "0      0.0  1.0  0.0  1.0  0.0  0.0    0  \n",
       "1      1.0  1.0  0.0  1.0  1.0  1.0    0  \n",
       "2      1.0  1.0  1.0  1.0  1.0  1.0    0  \n",
       "3      1.0  1.0  1.0  1.0  1.0  1.0    0  \n",
       "4      1.0  1.0  1.0  0.0  0.0  1.0    0  \n",
       "...    ...  ...  ...  ...  ...  ...  ...  \n",
       "74421  1.0  1.0  1.0  0.0  1.0  0.0    0  \n",
       "74422  1.0  0.0  1.0  1.0  0.0  0.0    0  \n",
       "74423  1.0  1.0  0.0  1.0  0.0  1.0    0  \n",
       "74424  1.0  1.0  0.0  1.0  0.0  1.0    0  \n",
       "74425  0.0  1.0  1.0  1.0  1.0  1.0    0  \n",
       "\n",
       "[74426 rows x 24 columns]>"
      ]
     },
     "execution_count": 384,
     "metadata": {},
     "output_type": "execute_result"
    }
   ],
   "source": [
    "outputs.head"
   ]
  },
  {
   "cell_type": "code",
   "execution_count": 385,
   "metadata": {
    "colab": {
     "base_uri": "https://localhost:8080/",
     "height": 142
    },
    "id": "7Q5rdfEcYUpm",
    "outputId": "e1c8aace-b467-4903-93de-00041281f93e"
   },
   "outputs": [
    {
     "data": {
      "text/plain": [
       "array([[62.566 ,  0.    ,  5.    , ..., 13.508 ,  2.2318,  3.9928],\n",
       "       [71.81  ,  1.    ,  5.    , ..., 16.134 ,  3.7825, 19.571 ],\n",
       "       [55.224 ,  1.    ,  5.    , ..., 13.465 , 16.814 ,  8.4171],\n",
       "       ...,\n",
       "       [78.333 ,  1.    ,  2.    , ..., 12.49  ,  4.3054,  7.5235],\n",
       "       [78.274 ,  1.    ,  4.    , ...,  6.7063, 11.663 , 19.095 ],\n",
       "       [98.236 ,  1.    ,  4.    , ..., 19.539 , 17.488 , 14.098 ]])"
      ]
     },
     "execution_count": 385,
     "metadata": {},
     "output_type": "execute_result"
    }
   ],
   "source": [
    "x = inputs.values #converting data frame to array frame\n",
    "x"
   ]
  },
  {
   "cell_type": "code",
   "execution_count": 386,
   "metadata": {
    "colab": {
     "base_uri": "https://localhost:8080/",
     "height": 35
    },
    "id": "u-1JFtEPZMI-",
    "outputId": "1a6530ce-97d3-43c1-e22d-afa1cc4cc523"
   },
   "outputs": [
    {
     "data": {
      "text/plain": [
       "pandas.core.frame.DataFrame"
      ]
     },
     "execution_count": 386,
     "metadata": {},
     "output_type": "execute_result"
    }
   ],
   "source": [
    "type(outputs)"
   ]
  },
  {
   "cell_type": "code",
   "execution_count": 387,
   "metadata": {
    "colab": {
     "base_uri": "https://localhost:8080/",
     "height": 142
    },
    "id": "ftCpb4JaZOCm",
    "outputId": "d1adf403-a25c-406b-af25-602b9fc6363a"
   },
   "outputs": [
    {
     "data": {
      "text/plain": [
       "array([[0., 1., 1., ..., 0., 0., 0.],\n",
       "       [1., 1., 1., ..., 1., 1., 0.],\n",
       "       [1., 1., 1., ..., 1., 1., 0.],\n",
       "       ...,\n",
       "       [1., 0., 0., ..., 0., 1., 0.],\n",
       "       [1., 1., 1., ..., 0., 1., 0.],\n",
       "       [1., 1., 1., ..., 1., 1., 0.]])"
      ]
     },
     "execution_count": 387,
     "metadata": {},
     "output_type": "execute_result"
    }
   ],
   "source": [
    "y = outputs.values # converting dataframe \"outputc\" in array form i.e. 'y' is now in array form \n",
    "y # y is combination of power assignments and channel assignments both."
   ]
  },
  {
   "cell_type": "code",
   "execution_count": 388,
   "metadata": {
    "colab": {
     "base_uri": "https://localhost:8080/",
     "height": 35
    },
    "id": "ChIBpH6HZQxg",
    "outputId": "18f59c85-a710-4dfa-997d-b35308e72991"
   },
   "outputs": [
    {
     "data": {
      "text/plain": [
       "(74426, 24)"
      ]
     },
     "execution_count": 388,
     "metadata": {},
     "output_type": "execute_result"
    }
   ],
   "source": [
    "y.shape"
   ]
  },
  {
   "cell_type": "code",
   "execution_count": 389,
   "metadata": {},
   "outputs": [
    {
     "data": {
      "text/plain": [
       "(74426, 74)"
      ]
     },
     "execution_count": 389,
     "metadata": {},
     "output_type": "execute_result"
    }
   ],
   "source": [
    "x.shape"
   ]
  },
  {
   "cell_type": "code",
   "execution_count": 390,
   "metadata": {
    "colab": {
     "base_uri": "https://localhost:8080/",
     "height": 35
    },
    "id": "abgDkl9qZTMj",
    "outputId": "2d246909-8eff-48b5-f5d5-2a3ac593b867"
   },
   "outputs": [
    {
     "data": {
      "text/plain": [
       "numpy.ndarray"
      ]
     },
     "execution_count": 390,
     "metadata": {},
     "output_type": "execute_result"
    }
   ],
   "source": [
    "type(y)"
   ]
  },
  {
   "cell_type": "code",
   "execution_count": 391,
   "metadata": {
    "colab": {
     "base_uri": "https://localhost:8080/",
     "height": 142
    },
    "id": "feOJ4F4eZVDY",
    "outputId": "50399f6d-8241-46ee-c374-b53b7e17226b"
   },
   "outputs": [
    {
     "data": {
      "text/plain": [
       "array([0., 1., 1., 1., 1., 1., 1., 1., 1., 1., 1., 1., 1., 1., 1., 1., 1.,\n",
       "       0., 1., 0., 1., 0., 0., 0.])"
      ]
     },
     "execution_count": 391,
     "metadata": {},
     "output_type": "execute_result"
    }
   ],
   "source": [
    "y[0]"
   ]
  },
  {
   "cell_type": "code",
   "execution_count": 392,
   "metadata": {
    "colab": {
     "base_uri": "https://localhost:8080/",
     "height": 71
    },
    "id": "kL_w5EAOZXE9",
    "outputId": "e61df404-dd57-44dd-ed66-5e1662d55204"
   },
   "outputs": [
    {
     "data": {
      "text/plain": [
       "array([0., 1., 1., 0., 0., 1., 1., 0., 0., 0., 0., 0., 0., 1., 1., 1., 1.,\n",
       "       1., 1., 1., 0., 1., 1., 1., 1., 1., 1., 0., 0., 0., 1., 1., 0., 0.,\n",
       "       1., 1., 1., 1., 0., 1., 1., 0., 0., 0., 0., 1., 1., 0., 0., 0.])"
      ]
     },
     "execution_count": 392,
     "metadata": {},
     "output_type": "execute_result"
    }
   ],
   "source": [
    "y[0:50, 0] # First row and initial 50 columns of y "
   ]
  },
  {
   "cell_type": "code",
   "execution_count": 393,
   "metadata": {
    "id": "Jt2OQ-dMZZ1x"
   },
   "outputs": [],
   "source": [
    "# Splitting data for training and testing \n",
    "# Here both x and y are in array form (non-scaled)\n",
    "\n",
    "from sklearn.model_selection import train_test_split\n",
    "x_train, x_test, y_train, y_test = train_test_split(x, y, test_size=0.2, shuffle=False, random_state=42) # old\n",
    "#x_train, x_test, y_train, y_test = train_test_split(x, y, test_size=0.2, shuffle=True)"
   ]
  },
  {
   "cell_type": "code",
   "execution_count": 394,
   "metadata": {
    "id": "gBhAhKzuZehe"
   },
   "outputs": [],
   "source": [
    "# Feature Scaling\n",
    "from sklearn.preprocessing import StandardScaler\n",
    "sc = StandardScaler()\n",
    "x_train = sc.fit_transform(x_train)\n",
    "x_test = sc.transform(x_test)"
   ]
  },
  {
   "cell_type": "code",
   "execution_count": 395,
   "metadata": {
    "id": "VX8qOZkUZfiq"
   },
   "outputs": [],
   "source": [
    "# Building neural network\n",
    "\n",
    "model = Sequential()\n",
    "model.add(Dense(40, input_dim=x.shape[1], activation='relu', kernel_initializer='random_normal')) # Input layer and 1st hidden layer\n",
    "\n",
    "model.add(Dense(20, activation='relu', kernel_initializer='random_normal')) # 2nd Hidden layer \n",
    "model.add(Dense(5, activation='relu', kernel_initializer='random_normal')) # 3rd Hidden layer \n",
    "\n",
    "model.add(Dense(60, activation='relu', kernel_initializer='random_normal')) # 4th Hidden Layer \n",
    "model.add(Dense(60, activation='relu', kernel_initializer='random_normal')) # 5th Hidden Layer\n",
    "model.add(Dense(60, activation='relu', kernel_initializer='random_normal')) # 6th Hidden Layer \n",
    "model.add(Dense(60, activation='relu', kernel_initializer='random_normal')) # 7th Hidden Layer\n",
    "model.add(Dense(60, activation='linear', kernel_initializer='random_normal')) # 8th Hidden Layer\n",
    "model.add(Dense(60, activation='linear', kernel_initializer='random_normal')) # 9th Hidden Layer \n",
    "model.add(Dense(60, activation='linear', kernel_initializer='random_normal')) # 10th Hidden Layer\n",
    "\n",
    "model.add(Dense(y.shape[1], activation='linear', kernel_initializer='random_normal')) # Output Layer "
   ]
  },
  {
   "cell_type": "code",
   "execution_count": 396,
   "metadata": {},
   "outputs": [
    {
     "data": {
      "text/plain": [
       "74"
      ]
     },
     "execution_count": 396,
     "metadata": {},
     "output_type": "execute_result"
    }
   ],
   "source": [
    "x.shape[1]"
   ]
  },
  {
   "cell_type": "code",
   "execution_count": 397,
   "metadata": {
    "id": "wQ7hnYBPZlEz"
   },
   "outputs": [],
   "source": [
    "# #Building neural network\n",
    "\n",
    "# model = keras.Sequential()\n",
    "# model.add(Dense(40, input_dim=x.shape[1], kernel_initializer='random_normal')) # Input layer and 1st hidden layer\n",
    "\n",
    "# model.add(LeakyReLU(alpha=0.1)) # Leaky Relu for 1st hidden layer\n",
    "\n",
    "# model.add(Dense(60, kernel_initializer='random_normal')) # 2nd Hidden layer\n",
    "\n",
    "# model.add(LeakyReLU(alpha=0.1)) # Leaky Relu for 2nd hidden layer\n",
    "\n",
    "# model.add(Dense(80, kernel_initializer='random_normal')) # 3rd Hidden layer \n",
    "# model.add(LeakyReLU(alpha=0.1)) # Leaky Relu for 3rd hidden layer\n",
    "\n",
    "# model.add(Dense(100, kernel_initializer='random_normal')) # 4th Hidden Layer \n",
    "# model.add(LeakyReLU(alpha=0.1)) # Leaky Relu for 4th hidden layer\n",
    "# model.add(Dense(80, kernel_initializer='random_normal')) # 5th Hidden Layer\n",
    "# model.add(LeakyReLU(alpha=0.1)) # Leaky Relu for 5th hidden layer\n",
    "# model.add(Dense(60, kernel_initializer='random_normal')) # 6th Hidden layer\n",
    "# model.add(LeakyReLU(alpha=0.1)) # Leaky Relu for 6th hidden layer\n",
    "\n",
    "# model.add(Dense(10, kernel_initializer='random_normal')) # 7th Hidden Layer \n",
    "# model.add(LeakyReLU(alpha=0.1)) # Leaky Relu for 4th hidden layer\n",
    "# model.add(Dense(8, kernel_initializer='random_normal')) # 8th Hidden Layer\n",
    "# model.add(LeakyReLU(alpha=0.1)) # Leaky Relu for 5th hidden layer\n",
    "# model.add(Dense(6, kernel_initializer='random_normal')) # 9th Hidden layer\n",
    "# model.add(LeakyReLU(alpha=0.1)) # Leaky Relu for 6th hidden layer\n",
    "\n",
    "\n",
    "# model.add(Dense(10, kernel_initializer='random_normal')) # 10th Hidden Layer \n",
    "# model.add(LeakyReLU(alpha=0.1)) # Leaky Relu for 4th hidden layer\n",
    "# model.add(Dense(8, kernel_initializer='random_normal')) # 11th Hidden Layer\n",
    "# model.add(LeakyReLU(alpha=0.1)) # Leaky Relu for 5th hidden layer\n",
    "# model.add(Dense(6, kernel_initializer='random_normal')) # 12th Hidden layer\n",
    "# model.add(LeakyReLU(alpha=0.1)) # Leaky Relu for 6th hidden layer\n",
    "\n",
    "\n",
    "\n",
    "# model.add(LeakyReLU(alpha=0.1)) # Leaky Relu for 1st hidden layer\n",
    "\n",
    "# model.add(Dense(60, kernel_initializer='random_normal')) # 2nd Hidden layer\n",
    "# model.add(LeakyReLU(alpha=0.1)) # Leaky Relu for 2nd hidden layer\n",
    "\n",
    "# model.add(Dense(80, kernel_initializer='random_normal')) # 3rd Hidden layer \n",
    "# model.add(LeakyReLU(alpha=0.1)) # Leaky Relu for 3rd hidden layer\n",
    "\n",
    "# model.add(Dense(100, kernel_initializer='random_normal')) # 4th Hidden Layer \n",
    "# model.add(LeakyReLU(alpha=0.1)) # Leaky Relu for 4th hidden layer\n",
    "# model.add(Dense(80, kernel_initializer='random_normal')) # 5th Hidden Layer\n",
    "# model.add(LeakyReLU(alpha=0.1)) # Leaky Relu for 5th hidden layer\n",
    "# model.add(Dense(60, kernel_initializer='random_normal')) # 6th Hidden layer\n",
    "# model.add(LeakyReLU(alpha=0.1)) # Leaky Relu for 6th hidden layer\n",
    "\n",
    "# # model.add(Dense(10, kernel_initializer='random_normal')) # 7th Hidden Layer \n",
    "# # model.add(LeakyReLU(alpha=0.1)) # Leaky Relu for 4th hidden layer\n",
    "# # model.add(Dense(8, kernel_initializer='random_normal')) # 8th Hidden Layer\n",
    "# # model.add(LeakyReLU(alpha=0.1)) # Leaky Relu for 5th hidden layer\n",
    "# # model.add(Dense(6, kernel_initializer='random_normal')) # 9th Hidden layer\n",
    "# # model.add(LeakyReLU(alpha=0.1)) # Leaky Relu for 6th hidden layer\n",
    "\n",
    "\n",
    "# # model.add(Dense(10, kernel_initializer='random_normal')) # 10th Hidden Layer \n",
    "# # model.add(LeakyReLU(alpha=0.1)) # Leaky Relu for 4th hidden layer\n",
    "# # model.add(Dense(8, kernel_initializer='random_normal')) # 11th Hidden Layer\n",
    "# # model.add(LeakyReLU(alpha=0.1)) # Leaky Relu for 5th hidden layer\n",
    "# # model.add(Dense(6, kernel_initializer='random_normal')) # 12th Hidden layer\n",
    "# # model.add(LeakyReLU(alpha=0.1)) # Leaky Relu for 6th hidden layer\n",
    "\n",
    "\n",
    "# #model.add(Dense(y.shape[1], activation='relu', kernel_initializer='random_normal')) # Output Layer \n",
    "\n",
    "# # model.add(Dense(y.shape[1], activation='softmax', kernel_initializer='random_normal')) # Output Layer \n",
    "\n",
    "# # model.add(Dense(y.shape[1], kernel_initializer='random_normal')) # Output Layer\n",
    "# # model.add(LeakyReLU(alpha=0.1)) # Leaky Relu for output laye\n",
    "\n",
    "# model.add(Dense(y.shape[1], activation='relu', kernel_initializer='random_normal')) # Output Layer \n",
    "\n",
    "# # model.add(Dense(y.shape[1], activation='softmax', kernel_initializer='random_normal')) # Output Layer \n",
    "\n",
    "# # model.add(Dense(y.shape[1], kernel_initializer='random_normal')) # Output Layer\n",
    "# # model.add(LeakyReLU(alpha=0.1)) # Leaky Relu for output layer"
   ]
  },
  {
   "cell_type": "code",
   "execution_count": 398,
   "metadata": {
    "id": "xhwu9nzjaVYA"
   },
   "outputs": [],
   "source": [
    "# Compiling Neural network\n",
    "\n",
    "from tensorflow.keras.callbacks import EarlyStopping\n",
    "model.compile(optimizer='ADAM', loss='mean_squared_error', metrics = ['mean_absolute_error']) \n",
    "monitor = EarlyStopping(monitor='val_loss', min_delta=0.0001, patience=10, \n",
    "                        verbose=1, mode='auto', restore_best_weights=True)"
   ]
  },
  {
   "cell_type": "code",
   "execution_count": 399,
   "metadata": {
    "colab": {
     "base_uri": "https://localhost:8080/",
     "height": 1000
    },
    "id": "sUm7vYpNaZhk",
    "outputId": "bb1cd85f-4a22-4777-8674-4e053a532b6e"
   },
   "outputs": [
    {
     "name": "stdout",
     "output_type": "stream",
     "text": [
      "Train on 59540 samples, validate on 14886 samples\n",
      "Epoch 1/1000\n",
      "59540/59540 - 1s - loss: 0.2583 - mean_absolute_error: 0.3914 - val_loss: 0.1485 - val_mean_absolute_error: 0.2970\n",
      "Epoch 2/1000\n",
      "59540/59540 - 1s - loss: 0.1426 - mean_absolute_error: 0.2862 - val_loss: 0.1377 - val_mean_absolute_error: 0.2788\n",
      "Epoch 3/1000\n",
      "59540/59540 - 0s - loss: 0.1386 - mean_absolute_error: 0.2791 - val_loss: 0.1376 - val_mean_absolute_error: 0.2753\n",
      "Epoch 4/1000\n",
      "59540/59540 - 0s - loss: 0.1385 - mean_absolute_error: 0.2787 - val_loss: 0.1375 - val_mean_absolute_error: 0.2764\n",
      "Epoch 5/1000\n",
      "59540/59540 - 0s - loss: 0.1384 - mean_absolute_error: 0.2784 - val_loss: 0.1374 - val_mean_absolute_error: 0.2762\n",
      "Epoch 6/1000\n",
      "59540/59540 - 0s - loss: 0.1383 - mean_absolute_error: 0.2782 - val_loss: 0.1372 - val_mean_absolute_error: 0.2763\n",
      "Epoch 7/1000\n",
      "59540/59540 - 0s - loss: 0.1381 - mean_absolute_error: 0.2780 - val_loss: 0.1369 - val_mean_absolute_error: 0.2788\n",
      "Epoch 8/1000\n",
      "59540/59540 - 0s - loss: 0.1376 - mean_absolute_error: 0.2767 - val_loss: 0.1360 - val_mean_absolute_error: 0.2674\n",
      "Epoch 9/1000\n",
      "59540/59540 - 0s - loss: 0.1362 - mean_absolute_error: 0.2731 - val_loss: 0.1338 - val_mean_absolute_error: 0.2760\n",
      "Epoch 10/1000\n",
      "59540/59540 - 0s - loss: 0.1315 - mean_absolute_error: 0.2654 - val_loss: 0.1273 - val_mean_absolute_error: 0.2584\n",
      "Epoch 11/1000\n",
      "59540/59540 - 0s - loss: 0.1279 - mean_absolute_error: 0.2593 - val_loss: 0.1267 - val_mean_absolute_error: 0.2575\n",
      "Epoch 12/1000\n",
      "59540/59540 - 0s - loss: 0.1277 - mean_absolute_error: 0.2582 - val_loss: 0.1266 - val_mean_absolute_error: 0.2555\n",
      "Epoch 13/1000\n",
      "59540/59540 - 0s - loss: 0.1277 - mean_absolute_error: 0.2580 - val_loss: 0.1267 - val_mean_absolute_error: 0.2558\n",
      "Epoch 14/1000\n",
      "59540/59540 - 0s - loss: 0.1276 - mean_absolute_error: 0.2576 - val_loss: 0.1266 - val_mean_absolute_error: 0.2557\n",
      "Epoch 15/1000\n",
      "59540/59540 - 0s - loss: 0.1276 - mean_absolute_error: 0.2574 - val_loss: 0.1266 - val_mean_absolute_error: 0.2523\n",
      "Epoch 16/1000\n",
      "59540/59540 - 0s - loss: 0.1276 - mean_absolute_error: 0.2573 - val_loss: 0.1265 - val_mean_absolute_error: 0.2542\n",
      "Epoch 17/1000\n",
      "59540/59540 - 0s - loss: 0.1276 - mean_absolute_error: 0.2572 - val_loss: 0.1265 - val_mean_absolute_error: 0.2572\n",
      "Epoch 18/1000\n",
      "59540/59540 - 0s - loss: 0.1276 - mean_absolute_error: 0.2573 - val_loss: 0.1266 - val_mean_absolute_error: 0.2594\n",
      "Epoch 19/1000\n",
      "59540/59540 - 0s - loss: 0.1276 - mean_absolute_error: 0.2572 - val_loss: 0.1265 - val_mean_absolute_error: 0.2564\n",
      "Epoch 20/1000\n",
      "59540/59540 - 0s - loss: 0.1276 - mean_absolute_error: 0.2572 - val_loss: 0.1265 - val_mean_absolute_error: 0.2523\n",
      "Epoch 21/1000\n",
      "59540/59540 - 0s - loss: 0.1275 - mean_absolute_error: 0.2570 - val_loss: 0.1265 - val_mean_absolute_error: 0.2574\n",
      "Epoch 22/1000\n",
      "59540/59540 - 0s - loss: 0.1275 - mean_absolute_error: 0.2570 - val_loss: 0.1264 - val_mean_absolute_error: 0.2541\n",
      "Epoch 23/1000\n",
      "59540/59540 - 0s - loss: 0.1275 - mean_absolute_error: 0.2568 - val_loss: 0.1264 - val_mean_absolute_error: 0.2544\n",
      "Epoch 24/1000\n",
      "59540/59540 - 0s - loss: 0.1275 - mean_absolute_error: 0.2569 - val_loss: 0.1265 - val_mean_absolute_error: 0.2568\n",
      "Epoch 25/1000\n",
      "59540/59540 - 0s - loss: 0.1274 - mean_absolute_error: 0.2568 - val_loss: 0.1264 - val_mean_absolute_error: 0.2525\n",
      "Epoch 26/1000\n",
      "59540/59540 - 0s - loss: 0.1274 - mean_absolute_error: 0.2568 - val_loss: 0.1263 - val_mean_absolute_error: 0.2516\n",
      "Epoch 27/1000\n",
      "59540/59540 - 0s - loss: 0.1274 - mean_absolute_error: 0.2568 - val_loss: 0.1262 - val_mean_absolute_error: 0.2578\n",
      "Epoch 28/1000\n",
      "59540/59540 - 0s - loss: 0.1262 - mean_absolute_error: 0.2551 - val_loss: 0.1239 - val_mean_absolute_error: 0.2478\n",
      "Epoch 29/1000\n",
      "59540/59540 - 0s - loss: 0.1239 - mean_absolute_error: 0.2512 - val_loss: 0.1219 - val_mean_absolute_error: 0.2454\n",
      "Epoch 30/1000\n",
      "59540/59540 - 0s - loss: 0.1225 - mean_absolute_error: 0.2480 - val_loss: 0.1215 - val_mean_absolute_error: 0.2495\n",
      "Epoch 31/1000\n",
      "59540/59540 - 0s - loss: 0.1221 - mean_absolute_error: 0.2471 - val_loss: 0.1214 - val_mean_absolute_error: 0.2468\n",
      "Epoch 32/1000\n",
      "59540/59540 - 0s - loss: 0.1219 - mean_absolute_error: 0.2466 - val_loss: 0.1209 - val_mean_absolute_error: 0.2465\n",
      "Epoch 33/1000\n",
      "59540/59540 - 0s - loss: 0.1218 - mean_absolute_error: 0.2463 - val_loss: 0.1209 - val_mean_absolute_error: 0.2442\n",
      "Epoch 34/1000\n",
      "59540/59540 - 0s - loss: 0.1217 - mean_absolute_error: 0.2460 - val_loss: 0.1210 - val_mean_absolute_error: 0.2492\n",
      "Epoch 35/1000\n",
      "59540/59540 - 0s - loss: 0.1217 - mean_absolute_error: 0.2462 - val_loss: 0.1209 - val_mean_absolute_error: 0.2486\n",
      "Epoch 36/1000\n",
      "59540/59540 - 0s - loss: 0.1216 - mean_absolute_error: 0.2457 - val_loss: 0.1210 - val_mean_absolute_error: 0.2424\n",
      "Epoch 37/1000\n",
      "59540/59540 - 0s - loss: 0.1216 - mean_absolute_error: 0.2457 - val_loss: 0.1208 - val_mean_absolute_error: 0.2436\n",
      "Epoch 38/1000\n",
      "59540/59540 - 0s - loss: 0.1215 - mean_absolute_error: 0.2453 - val_loss: 0.1209 - val_mean_absolute_error: 0.2451\n",
      "Epoch 39/1000\n",
      "59540/59540 - 0s - loss: 0.1215 - mean_absolute_error: 0.2454 - val_loss: 0.1208 - val_mean_absolute_error: 0.2429\n",
      "Epoch 40/1000\n",
      "59540/59540 - 0s - loss: 0.1215 - mean_absolute_error: 0.2455 - val_loss: 0.1209 - val_mean_absolute_error: 0.2379\n",
      "Epoch 41/1000\n",
      "59540/59540 - 0s - loss: 0.1214 - mean_absolute_error: 0.2451 - val_loss: 0.1209 - val_mean_absolute_error: 0.2420\n",
      "Epoch 42/1000\n",
      "59540/59540 - 0s - loss: 0.1213 - mean_absolute_error: 0.2451 - val_loss: 0.1209 - val_mean_absolute_error: 0.2438\n",
      "Epoch 43/1000\n",
      "59540/59540 - 0s - loss: 0.1213 - mean_absolute_error: 0.2451 - val_loss: 0.1208 - val_mean_absolute_error: 0.2446\n",
      "Epoch 44/1000\n",
      "59540/59540 - 0s - loss: 0.1214 - mean_absolute_error: 0.2451 - val_loss: 0.1211 - val_mean_absolute_error: 0.2465\n",
      "Epoch 45/1000\n",
      "59540/59540 - 0s - loss: 0.1213 - mean_absolute_error: 0.2450 - val_loss: 0.1208 - val_mean_absolute_error: 0.2425\n",
      "Epoch 46/1000\n",
      "59540/59540 - 0s - loss: 0.1213 - mean_absolute_error: 0.2449 - val_loss: 0.1208 - val_mean_absolute_error: 0.2419\n",
      "Epoch 47/1000\n",
      "Restoring model weights from the end of the best epoch.\n",
      "59540/59540 - 0s - loss: 0.1212 - mean_absolute_error: 0.2447 - val_loss: 0.1208 - val_mean_absolute_error: 0.2456\n",
      "Epoch 00047: early stopping\n"
     ]
    }
   ],
   "source": [
    "# Fitting Neural network to training set\n",
    "\n",
    "model_history=model.fit(x_train, y_train, validation_data=(x_test, y_test), batch_size=512, verbose=2, callbacks=[monitor], epochs=1000)"
   ]
  },
  {
   "cell_type": "code",
   "execution_count": 400,
   "metadata": {
    "colab": {
     "base_uri": "https://localhost:8080/",
     "height": 142
    },
    "id": "AT8SOvaeap0x",
    "outputId": "c1eec1b2-94c5-4a80-bc87-7ed372b14acf"
   },
   "outputs": [
    {
     "data": {
      "text/plain": [
       "array([[0., 1., 1., ..., 0., 0., 0.],\n",
       "       [1., 1., 1., ..., 1., 1., 0.],\n",
       "       [1., 1., 1., ..., 1., 1., 0.],\n",
       "       ...,\n",
       "       [0., 1., 1., ..., 1., 1., 0.],\n",
       "       [1., 1., 1., ..., 0., 0., 0.],\n",
       "       [1., 1., 1., ..., 1., 0., 0.]])"
      ]
     },
     "execution_count": 400,
     "metadata": {},
     "output_type": "execute_result"
    }
   ],
   "source": [
    "y_train"
   ]
  },
  {
   "cell_type": "code",
   "execution_count": 401,
   "metadata": {},
   "outputs": [
    {
     "data": {
      "text/plain": [
       "array([[0., 1., 1., ..., 1., 1., 0.],\n",
       "       [1., 0., 1., ..., 1., 1., 0.],\n",
       "       [1., 1., 1., ..., 0., 1., 0.],\n",
       "       ...,\n",
       "       [1., 0., 0., ..., 0., 1., 0.],\n",
       "       [1., 1., 1., ..., 0., 1., 0.],\n",
       "       [1., 1., 1., ..., 1., 1., 0.]])"
      ]
     },
     "execution_count": 401,
     "metadata": {},
     "output_type": "execute_result"
    }
   ],
   "source": [
    "y_test = np.asarray(y_test)\n",
    "x_test = np.asarray(x_test)\n",
    "y_test\n"
   ]
  },
  {
   "cell_type": "code",
   "execution_count": 402,
   "metadata": {
    "colab": {
     "base_uri": "https://localhost:8080/",
     "height": 53
    },
    "id": "jnvop5zhare2",
    "outputId": "f9e033be-f657-4367-e93a-750eee9cc444"
   },
   "outputs": [
    {
     "name": "stdout",
     "output_type": "stream",
     "text": [
      "\r",
      "14886/1 [====================================================================================================================================================================================================================================================================================================================================================================================================================================================================================================================================================================================================================================================================================================================================================================================================================================================================================================================================================================================================================================================================================================================================================================================================================================================================================================================================================================================================================================================================================================================================================================================================================================================================================================================================================================================================================================================================================================================================================================================================================================================================================================================================================================================================================================================================================================================================================================================================================================================================================================================================================================================================================================================================================================================================================================================================================================================================================================================================================================================================================================================================================================================================================================================================================================================================================================================================================================================================================================================================================================================================================================================================================================================================================================================================================================================================================================================================================================================================================================================================================================================================================================================================================================================================================================================================================================================================================================================================================================================================================================================================================================================================================================================================================================================================================================================================================================================================================================================================================================================================================================================================================================================================================================================================================================================================================================================================================================================================================================================================================================================================================================================================================================================================================================================================================================================================================================================================================================================================================================================================================================================================================================================================================================================================================================================================================================================================================================================================================================================================================================================================================================================================================================================================================================================================================================================================================================================================================================================================================================================================================================================================================================================================================================================================================================================================================================================================================================================================================================================================================================================================================================================================================================================================================================================================================================================================================================================================================================================================================================================================================================================================================================================================================================================================================================================================================================================================================================================================================================================================================================================================================================================================================================================================================================================================================================================================================================================================================================================================================================================================================================================================================================================================================================================================================================================================================================================================================================================================================================================================================================================================================================================================================================================================================================================================================================================================================================================================================================================================================================================================================================================================================================================================================================================================================================================================================================================================================================================================================================================================================================================================================================================================================================================================================================================================================================================================================================================================================================================================================================================================================================================================================================================================================================================================================================================================================================================================================================================================================================================================================================================================================================================================================================================================================================================================================================================================================================================================================================================================================================================================================================================================================================================================================================================================================================================================================================================================================================================================================================================================================================================================================================================================================================================================================================================================================================================================================================================================================================================================================================================================================================================================================================================================================================================================================================================================================================================================================================================================================================================================================================================================================================================================================================================================================================================================================================================================================================================================================================================================================================================================================================================================================================================================================================================================================================================================================================================================================================================================================================================================================================================================================================================================================================================================================================================================================================================================================================================================================================================================================================================================================================================================================================================================================================================================================================================================================================================================================================================================================================================================================================================================================================================================================================================================================================================================================================================================================================================================================================================================================================================================================================================================================================================================================================================================================================================================================================================================================================================================================================================================================================================================================================================================================================================================================================================================================================================================================================================================================================================================================================================================================================================================================================================================================================================================================================================================================================================================================================================================================================================================================================================================================================================================================================================================================================================================================================================================================================================================================================================================================================================================================================================================================================================================================================================================================================================================================================================================================================================================================================================================================================================================================================================================================================================================================================================================================================================================================================================================================================================================================================================================================================================================================================================================================================================================================================================================================================================================================================================================================================================================================================================================================================================================================================================================================================================================================================================================================================================================================================================================================================================================================================================================================================================================================================================================================================================================================================================================================================================================================================================================================================================================================================================================================================================================================================================================================================================================================================================================================================================================================================================================================================================================================================================================================================================================================================================================================================================================================================================================================================================================================================================================================================================================================================================================================================================================================================================================================================================================================================================================================================================================================================================================================================================================================================================================================================================================================================================================================================================================================================================================================================================================================================================================================================================================================================================================================================================================================================================================================================================================================================================================================================================================================================================================================================================================================================================================================================================================================================================================================================================================================================================================================================================================================================================================================================================================================================================================================================================================================================================================================================================================================================================================================================================================================================================================================================================================================================================================================================================================================================================================================================================================================================================================================================================================================================================================================================================================================================================================================================================================================================================================================================================================================================================================================================================================================================================================================================================================================================================================================================================================================================================================================================================================================================================================================================================================================================================================================================================================================================================================================================================================================================================================================================================================================================================================================================================================================================================================================================================================================================================================================================================================================================================================================================================================================================================================================================================================================================================================================================================================================================================================================================================================================================================================================================================================================================================================================================================================================================================================================================================================================================================================================================================================================================================================================================================================================================================================================================================================================================================================================================================================================================================================================================================================================================================================================================================================================================================================================================================================================================================================================================================================================================================================================================================================================================================================================================================================================================================================================================================================================================================================================================================================================================================================================================================================================================================================================================================================================================================================================================================================================================================================================================================================================================================================================================================================================================================================================================================================================================================================================================================================================================================================================================================================================================================================================================================================================================================================================================================================================================================================================================================================================================================================================================================================================================================================================================================================================================================================================================================================================================================================================================================================================================================================================================================================================================================================================================================================================================================================================================================================================================================================================================================================================================================================================================================================================================================================================================================================================================================================================================================================================================================================================================================================================================================================================================================================================================================================================================================================================================================================================================================================================================================================================================================================================================================================================================================================================================================================================================================================================================================================================================================================================================================================================================================================================================================================================================================================================================================================================================================================================================================================================================================================================================================================================================================================================================================================================================================================================================================================================================================================================================================================================================================================================================================================================================================================================================================================================================================================================================================================================================================================================================================================================================================================================================================================================================================================================================================================================================================================================================================================================================================================================================================================================================================================================================================================================================================================================================================================================================================================================================================================================================================================================================================================================================================================================================================================================================================================================================================================================================================================================================================================================================================================================================================================================================================================================================================================================================================================================================================================================================================================================================================================================================================================================================================================================================================================================================================================================================================================================================================================================================================================================================================================================================================================================================================================================================================================================================================================================================================================================================================================================================================================================================================================================================================================================================================================================================================================================================================================================================================================================================================================================================================================================================================================================================================================================================================================================================================================================================================================================================================================================================================================================================================================================================================================================================================================================================================================================================================================================================================================================================================================================================================================================================================================================================================================================================================================================================================================================================================================================================================================================================================================================================================================================================================================================================================================================================================================================================================================================================================================================================================================================================================================================================================================================================================================================================================================================================================================================================================================================================================================================================================================================================================================================================================================================================================================================================================================================================================================================================================================================================================================================================================================================================================================================================================================================================================================================================================================================================================================================================================================================================================================================================================================================================================================================================================================================================================================================================================================================================================================================================================================================================================================================================================================================================================================================================================================================================================================================================================================================================================================================================================================================================================================================================================================================================================================================================================================================================================================================================================================================================================================================================================================================================================================================================================================================================================================================================================================================================================================================================================================================================================================================================================================================================================================================================================================================================================================================================================================================================================================================================================================================================================================================================================================================================================================================================================================================================================================================================================================================================================================================================================================================================================================================================================================================================================================================================================================================================================================================================================================================================================================================================================================================================================================================================================================================================================================================================================================================================================================================================================================================================================================================================================================================================================================================================================================================================================================================================================================================================================================================================================================================================================================================================================================================================================================================================================================================================================================================================================================================================================================================================================================================================================================================================================================================================================================================================================================================================================================================================================================================================================================================================================================================================================================================================================================================================================================================================================================================================================================================================================================================================================================================================================================================================================================================================================================================================================================================================================================================================================================================================================================================================================================================================================================================================================================================================================================================================================================================================================================================================================================================================================================================================================================================================================================================================================================================================================================================================================================================================================================================================================================================================================================================================================================================================================================================================================================================================================================================================================================================================================================================================================================================================================================================================================================================================================================================================================================================================================================================================================================================================================================================================================================================================================================================================================================================================================================================================================================================================================================================================================================================================================================================================================================================================================================================================================================================================================================================================================================================================================================================================================================================================================================================================================================================================================================================================================================================================================================================================================================================================================================================================================================================================================================================================================================================================================================================================================================================================================================================================================================================================================================================================================================================================================================================================================================================================================================================================================================================================================================================================================================================================================================================================================================================================================================================================================================================================================================================================================================================================================================================================================================================================================================================================================================================================================================================================================================================================================================================================================================================================================================================================================================================================================================================================================================================================================================================================================================================================================================================================================================================================================================================================================================================================================================================================================================================================================================================================================================================================================================================================================================================================================================================================================================================================================================================================================================================================================================================================================================================================================================================================================================================================================================================================================================================================================================================================================================================================================================================================================================================================================================================================================================================================================================================================================================================================================================================================================================================================================================================================================================================================================================================================================================================================================================================================================================================================================================================================================================================================================================================================================================================================================================================================================================================================================================================================================================================================================================================================================================================================================================================================================================================================================================================================================================================================================================================================================================================================================================================================================================================================================================================================================================================================================================================================================================================================================================================================================================================================================================================================================================================================================================================================================================================================================================================================================================================================================================================================================================================================================================================================================================================================================================================================================================================================================================================================================================================================================================================================================================================================================================================================================================================================================================================================================================================================================================================================================================================================================================================================================================================================================================================================================================================================================================================================================================================================================================================================================================================================================================================================================================================================================================================================================================================================================================================================================================================================================================================================================================================================================================================================================================================================================================================================================================================================================================================================================================================================================================================================================================================================================================================================================================================================================================================================================================================================================================================================================================================================================================================================================================================================================================================================================================================================================================================================================================================================================================================================================================================================================================================================================================================================================================================================================================================================================================================================================================================================================================================================================================================================================================================================================================================================================================================================================================================================================================================================================================================================================================================================================================================================================================================================================================================================================================================================================================================================================================================================================================================================================================================================================================================================================================================================================================================================================================================================================================================================================================================================================================================================================================================================================================================================================================================================================================================================================================================================================================================================================================================================================================================================================================================================================================================================================================================================================================================================================================================================================================================================================================================================================================================================================================================================================================================================================================================================================================================================================================================================================================================================================================================================================================================================================================================================================================================================================================================================================================================================================================================================================================================================================================================================================================================================================================================================================================================================================================================================================================================================================================================================================================================================================================================================================================================================================================================================================================================================================================================================================================================================================================================================================================================================================================================================================================================================================================================================================================================================================================================================================================================================================================================================================================================================================================================================================================================================================================================================================================================================================================================================================================================================================================================================================================================================================================================================================================================================================================================================================================================================================================================================================================================================================================================================================================================================================================================================================================================================================================================================================================================================================================================================================================================================================================================================================================================================================================================================================================================================================================================================================================================================================================================================================================================================================================================================================================================================================================================================================================================================================================================================================================================================================================================================================================================================================================================================================================================================================================================================================================================================================================================================================================================================================================================================================================================================================================================================================================================================================================================================================================================================================================================================================================================================================================================================================================================================================================================================================================================================================================================================================================================================================================================================================================================================================================================================================================================================================================================================================================================================================================================================================================================================================================================================================================================================================================================================================================================================================================================================================================================================================================================================================================================================================================================================================================================================================================================================================================================================================================================================================================================================================================================================================================================================================================================================================================================================================================================================================================================================================================================================================================================================================================================================================================================================================================================================================================================================================================================================================================================================================================================================================================================================================================================================================================================================================================================================================================================================================================================================================================================================================================================================================================================================================================================================================================================================================================================================================================================================================================================================================================================================================================================================================================================================================================================================================================================================================================================================================================================================================================================================================================================================================================================================================================================================================================================================================================================================================================================================================================================================================================================================================================================================================================================================================================================================================================================================================================================================================================================================================================================================================================================================================================================================================================================================================================================================================================================================================================================================================================================================================================================================================================================================================================================================================================================================================================================================================================================================================================================================================================================================================================================================================================================================================================================================================================================================================================================================================================================================================================================================================================================================================================================================================================================================================================================================================================================================================================================================================================================================================================================================================================================================================================================================================================================================================================================================================================================================================================================================================================================================================================================================================================================================================================================================================================================================================================================================================================================================================================================================================================================================================================================================================================================================================================================================================================================================================================================================================================================================================================================================================================================================================================================================================================================================================================================================================================================================================================================================================================================================================================================================================================================================================================================================================================================================================================================================================================================================================================================================================================================================================================================================================================================================================================================================================================================================================================================================================================================================================================================================================================================================================================================================================================================================================================================================================================================================================================================================================================================================================================================================================================================================================================================================================================================================================================================================================================================================================================================================================================================================================================================================================================================================================================================================================================================================================================================================================================================================================================================================================================================================================================================================================================================================================================================================================================================================================================================================================================================================================================================================================================================================================================================================================================================================================================================================================================================================================================================================================================================================================================================================================================================================================================================================================================================================================================================================================================================================================================================================================================================================================================================================================================================================================================================================================================================================================================================================================================================================================================================================================================================================================================================================================================================================================================================================================================================================================================================================================================================================================================================================================================================================================================================================================================================================================================================================================================================================================================================================================================================================================================================================================================================================================================================================================================================================================================================================================================================================================================================================================================================================================================================================================================================================================================================================================================================================================================================================================================================================================================================================================================================================================================================================================================================================================================================================================================================================================================================================================================================================================================================================================================================================================================================================================================================================================================================================================================================================================================================================================================================================================================================================================================================================================================================================================================================================================================================================================================================================================================================================================================================================================================================================================================================================================================================================================================================================================================================================================================================================================================================================================================================================================================================================================================================================================================================================================================================================================================================================================================================================================================================================================================================================================================================================================================================================================================================================================================================================================================================================================================================================================================================================================================================================================================================================================================================================================================================================================================================================================================================================================================================================================================================================================================================================================================================================================================================================================================================================================================================================================================================================================================================================================================================================================================================================================================================================================================================================================================================================================================================================================================================================================================================================================================================================================================================================================================================================================================================================================================================================================================================================================================================================================================================================================================================================================================================================================================================================================================================================================================================================================================================================================================================================================================================================================================================================================================================================================================================================================================================================================================================================================================================================================================================================================================================================================================================================================================================================================================================================================================================================================================================================================================================================================================================================================================================================================================================================================================================================================================================================================================================================================================================================================================================================================================================================================================================================================================================================================================================================================================================================================================================================================================================================================================================================================================================================================================================================================================================================================================================================================================================================================================================================================================================================================================================================================================================================================================================================================================================================================================================================================================================================================================================================================================================================================================================================================================================================================================================================================================================================================================================================================================================================================================================================================================================================================================================================================================================================================================================================================================================================================================================================================================================================================================================================================================================================================================================================================================================================================================================================================================================================================================================================================================================================================================================================================================================================================================================================================================================================================================================================================================================================================================================================================================================================================================================================================================================================================================================================================================================================================================================================================================================================================================================================================================================================================================================================================================================================================================================================================================================================================================================================================================================================================================================================================================================================================================================================================================================================================================================================================================================================================================================================================================================================================================================================================================================================================================================================================================================================================================================================================================================================================================================================================================================================================================================================================================================================================================================================================================================================================================================================================================================================================================================================================================================================================================================================================================================================================================================================================================================================================================================================================================================================================================================================================================================================================================================================================================================================================================================================================================================================================================================================================================================================================================================================================================================================================================================================================================================================================================================================================================================================================================================================================================================================================================================================================================================================================================================================================================================================================================================================================================================================================================================================================================================================================================================================================================================================================================================================================================================================================================================================================================================================================================================================================================================================================================================================================================================================================================================================================================================================================================================================================================================================================================================================================================================================================================================================================================================================================================================================================================================================================================================================================================================================================================================================================================================================================================================================================================================================================================================================================================================================================================================================================================================================================================================================================================================================================================================================================================================================================================================================================================================================================================================================================================================================================================================================================================================================================================================================================================================================================================================================================================================================================================================================================================================================================================================================================================================================================================================================================================================================================================================================================================================================================================================================================================================================================================================================================================================================================================================================================================================================================================================================================================================================================================================================================================================================================================================================================================================================================================================================================================================================================================================================================================================================================================================================================================================================================================================================================================================================================================================================================================================================================================================================================================================================================================================================================================================================================================================================================================================================================================================================================================================================================================================================================================================================================================================================================================================================================================================================================================================================================================================================================================================================================================================================================================================================================================================================================================================================================================================================================================================================================================================================================================================================================================================================================================================================================================================================================================================================================================================================================================================================================================================================================================================================================================================================================================================================================================================================================================================================================================================================================================================================================================================================================================================================================================================================================================================================================================================================================================================================================================================================================================================================================================================================================================================================================================================================================================================================================================================================================================================================================================================================================================================================================================================================================================================================================================================================================================================================================================================================================================================================================================================================================================================================================================================================================================================================================================================================================================================================================================================================================================================================================================================================================================================================================================================================================================================================================================================================================================================================================================================================================================================================================================================================================================================================================================================================================================================================================================================================================================================================================================================================================================================================================================================================================================================================================================================================================================================================================================================================================================================================================================================================================================================================================================================================================================================================================================================================================================================================================================================================================================================================================================================================================================================================================================================================================================================================================================================================================================================================================================================================================================================================================================================================================================================================================================================================================================================================================================================================================================================================================================================================================================================================================================================================================================================================================================================================================================================================================================================================================================================================================================================================================================================================================================================================================================================================================================================================================================================================================================================================================================================================================================================================================================================================================================================================================================================================================================================================================================================================================================================================================================================================================================================================================================================================================================================================================================================================================================================================================================================================================================================================================================================================================================================================================================================================================================================================================================================================================================================================================================================================================================================================================================================================================================================================================================================================================================================================================================================================================================================================================================================================================================================================================================================================================================================================================================================================================================================================================================================================================================================================================================================================================================================================================================================================================================================================================================================================================================================================================================================================================================================================================================================================================================================================================================================================================================================================================================================================================================================================================================================================================================================================================================================================================================================================================================================================================================================================================================================================================================================================================================================================================================================================================================================================================================================================================================================================================================================================================================================================================================================================================================================================================================================================================================================================================================================================================================================================================================================================================================================================================================================================================================================================================================================================================================================================================================================================================================================================================================================================================================================================================================================================================================================================================================================================================================================================================================================================================================================================================================================================================================================================================================================================================================================================================================================================================================================================================================================================================================================================================================================================================================================================================================================================================================================================================================================================================================================================================================================================================================================================================================================================================================================================================================================================================================================================================================================================================================================================================================================================================================================================================================================================================================================================================================================================================================================================================================================================================================================================================================================================================================================================================================================================================================================================================================================================================================================================================================================================================================================================================================================================================================================================================================================================================================================================================================================================================================================================================================================================================================================================================================================================================================================================================================================================================================================================================================================================================================================================================================================================================================================================================================================================================================================================================================================================================================================================================================================================================================================================================================================================================================================================================================================================================================================================================================================================================================================================================================================================================================================================================================================================================================================================================================================================================================================================================================================================================================================================================================================================================================================================================================================================================================================================================================================================================================================================================================================================================================================================================================================================================================================================================================================================================================================================================================================================================================================================================================================================================================================================================================================================================================================================================================================================================================================================================================================================================================================================================================================================================================================================================================================================================================================================================================================================================================================================================================================================================================================================================================================================================================================================================================================================================================================================================================================================================================================================================================================================================================================================================================================================================================================================================================================================================================================================================================================================================================================================================================================================================================================================================================================================================================================================================================================================================================================================================================================================================================================================================================================================================================================================================================================================================================================================================================================================================================================================================================================================================================================================================================================================================================================================================================================================================================================================================================================================================================================================================================================================================================================================================================================================================================================================================================================================================================================================================================================================================================================================================================================================================================================================================================================================================================================================================================================================================================================================================================================================================================================================================================================================================================================================================================================================================================================================================================================================================================================================================================================================================================================================================================================================================================================================================================================================================================================================================================================================================================================================================================================================================================================================================================================================================================================================================================================================================================================================================================================================================================================================================================================================================================================================================================================================================================================================================================================================================================================================================================================================================================================================================================================================================================================================================================================================================================================================================================================================================================================================================================================================================================================================================================================================================================================================================================================================================================================================================================================================================================================================================================================================================================================================================================================================================================================================================================================================================================================================================================================================================================================================================================================================================================================================================================================================================================================================================================================================================================================================================================================================================================================================================================================================================================================================================================================================================================================================================================================================================================================================================================================================================================================================================================================================================================================================================================================================================================================================================================================================================================================================================================================================================================================================================================================================================================================================================================================================================================================================================================================================================================================================================================================================================================================================================================================================================================================================================================================================================================================================================================================================================================================================================================================================================================================================================================================================================================================================================================================================================================================================================================================================================================================================================================================================================================================================================================================================================================================================================================================================================================================================================================================================================================================================================================================================================================================================================================================================================================================================================================================================================================================================================================================================================================================================================================================================================================================================================================================================================================================================================================================================================================================================================================================================================================================================================================================================================================================================================================================================================================================================================================================================================================================================================================================================================================================================================================================================================================================================================================================================================================================================================================================================================================================================================================================================================================================================================================================================================================================================================================================================================================================================================================================================================================================================================================================================================================================================================================================================================================================================================================================================================================================================================================================================================================================================================================================================================================================================================================================================================================================================================================================================================================================================================================================================================================================================================================================================================================================================================================================================================================================================================================================================================================================================================================================================================================================================================================================================================================================================================================================================================================================================================================================================================================================================================================================================================================================================================================================================================================================================================================================================================================================================================================================================================================================================================================================================================================================================================================================================================================================================================================================================================================================================================================================================================================================================================================================================================================================================================================================================================================================================================================================================================================================================================================================================================================================================================================================================================================================================================================================================================================================================================================================================================================================================================================================================================================================================================================================================================================================================================================================================================================================================================================================================================================================================================================================================================================================================================================================================================================================================================================================================================================================================================================================================================================================================================================================================================================================================================================================================================================================================================================================================================================================================================================================================================================================================================================================================================================================================================================================================================================================================================================================================================================================================================================================================================================================================================================================================================================================================================================================================================================================================================================================================================================================================================================================================================================================================================================================================================================================================================================================================================================================================================================================================================================================================================================================================================================================================================================================================================================================================================================================================================================================================================================================================================================================================================================================================================================================================================================================================================================================================================================================================================================================================================================================================================================================================================================================================================================================================================================================================================================================================================================================================================================================================================================================================================================================================================================================================================================================================================================================================================================================================================================================================================================================================================================================================================================================================================================================================================================================================================================================================================================================================================================================================================================================================================================================================================================================================================================================================================================================================================================================================================================================================================================================================================================================================================================================================================================================================================================================================================================================================================================================================================================================================================================================================================================================================================================================================================================================================================================================================================================================================================================================================================================================================================================================================================================================================================================================================================================================================================================================================================================================================================================================================================================================================================================================================================================================================================================================================================================================================================================================================================================================================================================================================================================================================================================================================================================================================================================================================================================================================================================================================================================================================================================================================================================================================================================================================================================================================================================================================================================================================================================================================================================================================================================================================================================================================================================================================================================================================================================================================================================================================================================================================================================================================================================================================================================================================================================================================================================================================================================================================================================================================================================================================================================================================================================================================================================================================================================================================================================================================================================================================================================================================================================================================================================================================================================================================================================================================================================================================================================================================================================================================================================================================================================================================================================================================================================================================================================================================================================================================================================================================================================================================================================================================================================================================================================================================================================================================================================================================================================================================================================================================================================================================================================================================================================================================================================================================================================================================================================================================================================================================================================================================================================================================================================================================================================================================================================================================================================================================================================================================================================================================================================================================================================================================================================================================================================================================================================================================================================================================================================================================================================================================================================================================================================================================================================================================================================================================================================================================================================================================================================================================================================================================================================================================================================================================================================================================================================================================================================================================================================================================================================================================================================================================================================================================================================================================================================================================================================================================================================================================================================================================================================================================================================================================================================================================================================================================================================================================================================================================================================================================================================================================================================================================================================================================================================================================================================================================================================================================================================================================================================================================================================================================================================================================================================================================================================================================================================================================================================================================================================================================================================================================================================================================================================================================================================================================================================================================================================================================================================================================================================================================================================================================================================================================================================================================================================================================================================================================================================================================================================================================================================================================================================================================================================================================================================================================================================================================================================================================================================================================================================================================================================================================================================================================================================================================================================================================================================================================================================================================================================================================================================================================================================================================================================================================================================================================================================================================================================================================================================================================================================================================================================================================================================================================================================================================================================================================================================================================================================================================================================================================================================================================================================================================================================================================================================================================================================================================================================================================================================================================================================================================================================================================================================================================================================================================================================================================================================================================================================================================================================================================================================================================================================================================================================================================================================================================================================================================================================================================================================================================================================================================================================================================================================================================================================================================================================================================================================================================================================================================================================================================================================================================================================================================================================================================================================================================================================================================================================================================================================================================================================================================================================================================================================================================================================================================================================================================================================================================================================================================================================================================================================================================================================================================================================================================================================================================================================================================================================================================================================================================================================================================================================================================================================================================================================================================================================================================================================================================================================================================================================================================================================================================================================================================================================================================================================================================================================================================================================================================================================================================================================================================================================================================================================================================================================================================================================================================================================================================================================================================================================================================================================================================================================================================================================================================================================================================================================================================================================================================================================================================================================================================================================================================================================================================================================================================================================================================================================================================================================================================================================================================================================================================================================================================================================================================================================================================================================================================================================================================================================================================================================================================================================================================================================================================================================================================================================================================================================================================================================================================================================================================================================================================================================================================================================================================================================================================================================================================================================================================================================================================================================================================================================================================================================================================================================================================================================================================================================================================================================================================================================================================================================================================================================================================================================================================================================================================================================================================================================================================================================================================================================================================================================================================================================================================================================================================================================================================================================================================================================================================================================================================================================================================================================================================================================================================================================================================================================================================================================================================================================================================================================================================================================================================================================================================================================================================================================================================================================================================================================================================================================================================================================================================================================================================================================================================================================================================================================================================================================================================================================================================================================================================================================================================================================================================================================================================================================================================================================================================================================================================================================================================================================================================================================================================================================================================================================================================================================================================================================================================================================================================================================================================================================================================================================================================================================================================================================================================================================================================================================================================================================================================================================================================================================================================================================================================================================================================================================================================================================================================================================================================================================================================================================================================================================================================================================================================================================================================================================================================================================================================================================================================================================================================================================================================================================================================================================================================================================================================================================================================================================================================================================================================================================================================================================================================================================================================================================================================================================================================================================================================================================================================================================================================================================================================================================================================================================================================================================================================================================================================================================================================================================================================================================================================================================================================================================================================================================================================================================================================================================================================================================================================================================================================================================================================================================================================================================================================================================================================================================================================================================================================================================================================================================================================================================================================================================================================================================================================================================================================================================================================================================================================================================================================================================================================================================================================================================================================================================================================================================================================================================================================================================================================================================================================================================================================================================================================================================================================================================================================================================================================================================================================================================================================================================================================================================================================================================================================================================================================================================================================================================================================================================================================================================================================================================================================================================================================================================================================================================================================================================================================================================================================================================================================================================================================================================================================================================================================================================================================================================================================================================================================================================================================================================================================================================================================================================================================================================================================================================================================================================================================================================================================================================================================================================================================================================================================================================================================================================================================================================================================================================================================================================================================================================================================================================================================================================================================================================================================================================================================================================================================================================================================================================================================================================================================================================================================================================================================================================================================================================================================================================================================================================================================================================================================================================================================================================================================================================================================================================================================================================================================================================================================================================================================================================================================================================================================================================================================================================================================================================================================================================================================================================================================================================================================================================================================================================================================================================================================================================================================================================================================================================================================================================================================================================================================================================================================================================================================================================================================================================================================================================================================================================================================================================================================================================================================================================================================================================================================================================================================================================================================================================================================================================================================================================================================================================================================================================================================================================================================================================================================================================================================================================================================================================================================================================================================================================================================================================================================================================================================================================================================================================================================================================================================================================================================================================================================================================================================================================================================================================================================================================================================================================================================================================================================================================================================================================================================================================================================================================================================================================================================================================================================================================================================================================================================================================================================================================================================================================================================================================================================================================================================================================================================================================================================================================================================================================================================================================================================================================================================================================================================================================================================================================================================================================================================================================================================================================================================================================================================================================================================================================================================================================================================================================================================================================================================================================================================================================================================================================================================================================================================================================================================================================================================================================================================================================================================================================================================================================================================================================================================================================================================================================================================================================================================================================================================================================================================================================================================================================================================================================================================================================================================================================================================================================================================================================================================================================================================================================================================================================================================================================================================================================================================================================================================================================================================================================================================================================================================================================================================================================================================================================================================================================================================================================================================================================================================================================================================================================================================================================================================================================================================================================================================================================================================================================================================================================================================================================================================================================================================================================================================================================================================================================================================================================================================================================================================================================================================================================================================================================================================================================================================================================================================================================================================================================================================================================================================================================================================================================================================================================================================================================================================================================================================================================================================================================================================================================================================================================================================================================================================================================================================================================================================================================================================================================================================================================================================================================================================================================================================================================================================================================================================================================================================================================================================================================================================================================================================================================================================================================================================================================================================================================================================================================================================================================================================================================================================================================================================================================================================================================================================================================================================================================================================================================================================================================================================================================================================================================================================================================================================================================================================================================================================================================================================================================================================================================================================================================================================================================================================================================================================================================================================================================================================================================================================================================================================================================================================================================================================================================================================================================================================================================================================================================================================================================================================================================================================================================================================================================================================================================================================================================================================================================================================================================================================================================================================================================================================================================================================================================================================================================================================================================================================================================================================================================================================================================================================================================================================================================================================================================================================================================================================================================================================================================================================================================================================================================================================================================================================================================================================================================================================================================================================================================================================================================================================================================================================================================================================================================================================================================================================================================================================================================================================================================================================================================================================================================================================================================================================================================================================================================================================================================================================================================================================================================================================================================================================================================================================================================================================================================================================================================================================================================================================================================================================================================================================================================================================================================================================================================================================================================================================================================================================================================================================================================================================================================================================================================================================================================================================================================================================================================================================================================================================================================================================================================================================================================================================================================================================================================================================================================================================================================================================================================================================================================================================================================================================================================================================================================================================================================================================================================================================================================================================================================================================================================================================================================================================================================================================================================================================================================================================================================================================================================================================================================================================================================================================================================================================================================================================================================================================================================================================================================================================================================================================================================================================================================================================================================================================================================================================================================================================================================================================================================================================================================================================================================================================================================================================================================================================================================================================================================================================================================================================================================================================================================================================================================================================================================================================================================================================================================================================================================================================================================================================================================================================================================================================================================================================================================================================================================================================================================================================================================================================================================================================================================================================================================================================================================================================================================================================================================================================================================================================================================================================================================================================================================================================================================================================================================================================================================================================================================================================================================================================================================================================================================================================================================================================================================================================================================================================================================================================================================================================================================================================================================================================================================================================================================================================================================================================================================================================================================================================================================================================================================================================================================================================================================================================================================================================================================================================================================================================================================================================================================================================================================================================================================================================================================================================================================================================================================================================================================================================================================================================================================================================================================================================================================================================================================================================================================================================================================================================================================================================================================================================================================================================================================================================================================================================================================================================================================================================================================================================================================================================================================================================================================================================================================================================================================================================================================================================================================================================================================================================================================================================================================================================================================================================================================================================================================================================================================================================================================================================================================================================================================================================================================================================================================================================================================================================================================================================================================================================================================================================================================================================================================================================================================================================================================================================================================================================================================================================================================================================================================================================================================================================================================================================================================================================================================================================================================================================================================================================================================================================================================================================================================================================================================================================================================================================================================================================================================================================================================================================================================================================================================================================================================================================================================================================================================================================================================================================================================================================================================================================================================================================================================================================================================================================================================================================================================================================================================================================================================================================================================================================================================================================================================================================================================================================================================================================================================================================================================================================================================================================================================================================================================================================================================================================================================================================================================================================================================================================================================================================================================================================================================================================================================================================================================================================================================================================================================================================================================================================================================================================================================================================================================================================================================================================================================================================================================================================================================================================================================================================================================================================================================================================================================================================================================================================================================================================================================================================================================================================================================================================================================================================================================================================================================================================================================================================================================================================================================================================================================================================================================================================================================================================================================================================================================================================================================================================================================================================================================================================================================================================================================================================================================================================================================================================================================================================================================================================================================================================================================================================================================================================================================================================================================================================================================================================================================================================================================================================================================================================================================================================================================================================================================================================================================================================================================================================================================================================================================================================================================================================================================================================================================================================================================================================================================================================================================================================================================================================================================================================================================================================================================================================================================================================================================================================================================================================================================================================================================================================================================================================================================================================================================================================================================================================================================================================================================================================================================================================================================================================================================================================================================================================================================================================================================================================================================================================================================================================================================================================================================================================================================================================================================================================================================================================================================================================================================================================================================================================================================================================================================================================================================================================================================================================================================================================================================================================================================================================================================================================================================================================================================================================================================================================================================================================================================================================================================================================================================================================================================================================================================================================================================================================================================================================================================================================================================================================================================================================================================================================================================================================================================================================================================================================================================================================================================================================================================================================================================================================================================================================================================================================================================================================================================================================================================================================================================================================================================================================================================================================================================================================================================================================================================================================================================================================================================================================================================================================================================================================================================================================================================================================================================================================================================================================================================================================================================================================================================================================================================================================================================================================================================================================================================================================================================================================================================================================================================================================================================================================================================================================================================================================================================================================================================================================================================================================================================================================================================================================================================================================================================================================================================================================================================================================================================================================================================================================================================================================================================================================================================================================================================================================================================================================================================================================================================================================================================================================================================================================================================================================================================================================================================================================================================================================================================================================================================================================================================================================================================================================================================================================================================================================================================================================================================================================================================================================================================================================================================================================================================================================================================================================================================================================================================================================================================================================================================================================================================================================================================================================================================================================================================================================================================================================================================================================================================================================================================================================================================================================================================================================================================================================================================================================================================================================================================================================================================================================================================================================================================================================================================================================================================================================================================================================================================================================================================================================================================================================================================================================================================================================================================================================================================================================================================================================================================================================================================================================================================================================================================================================================================================================================================================================================================================================================================================================================================================================================================================================================================================================================================================================================================================================================================================================================================================================================================================================================================================================================================================================================================================================================================================================================================================================================================================================================================================================================================================================================================================================================================================================================================================================================================================================================================================================================================================================================================================================================================================================================================================================================================================================================================================================================================================================================================================================================================================================================================================================================================================================================================================================================================================================================================================================================================================================================================================================================================================================================================================================================================================================================================================================================================================================================================================================================================================================================================================================================================================================================================================================================================================================================================================================================================================================================================================================================================================================================================================================================================================================================================================================================================================================================================================================================================================================================================================================================================================================================================================================================================================================================================================================================================================================================================================================================================================================================================================================================================================================================================================================================================================================================================================================================================================================================================================================================================================================================================================================================================================================================================================================================================================================================================================================================================================================================================================================================================================================================================================================================================================================================================================================================================================================================================================================================================================================================================================================================================================================================================================================================================================================================================================================================================================================================================================================================================================================================================================================================================================================================================================================================================================================================================================================================================================================================================================================================================================================================================================================================================================================================================================================================================================================================================================================================================================================================================================================================================================================================================================================================================================================================================================================================================================================================================================================================================================================================================================================================================================================================================================================================================================================================================================================================================================================================================================================================================================================================================================================================================================================================================================================================================================================================================================================================================================================================================================================================================================================================================================================================================================================================================================================================================================================================================================================================================================================================================================================================================================================================================================================================================================================================================================================================================================================================================================================================================================================================================================================================================================================================================================================================================================================================================================================================================================================================================================================================================================================================================================================================================================================================================================================================================================================================================================================================================================================================================================================================================================================================================================================================================================================================================================================================================================================================================================================================================================================================================================================================================================================================================================================================================================================================================================================================================================================================================================================================================================================================================================================================================================================================================================================================================================================================================================================================================================================================================================================================================================================================================================================================================================================================================================================================================================================================================================================================================================================================================================================================================================================================================================================================================================================================================================================================================================================================================================================================================================================================================================================================================================================================================================================================================================================================================================================================================================================================================================================================================================================================================================================================================================================================================================================================================================================================================================================================================================================================================================================================================================================================================================================================================================================================================================================================================================================================================================================================================================================================================================================================================================================================================================================================================================================================================================================================================================================================================================================================================================================================================================================================================================================================================================================================================================================================================================================================================================================================================================================================================================================================================================================================================================================================================================================================================================================================================================================================================================================================================================================================================================================================================================================================================================================================================================================================================================================================================================================================================================================================================================================================================================================================================================================================================================================================================================================================================================================================================================================================================================================================================================================================================================================================================================================================================================================================================================================================================================================================================================================================================================================================================================================================================================================================================================================================================================================================================================================================================================================================================================================================================================================================================================================================================================================================================================================================================================================================================================================================================================================================================================================================================================================================================================================================================================================================================================================================================================================================================================================================================================================================================================================================================================================================================================================================================================================================================================================================================================================================================================================================================================================================================================================================================================================================================================================================================================================================================================================================================================================================================================================================================================================================================================================================================================================================================================================================================================================================================================================================================================================================================================================================================================================================================================================================================================================================================================================================================================================================================================================================================================================================================================================================================================================================================================================================================================================================================================================================================================================================================================================================================================================================================================================================================================================================================================================================================================================================================================================================================================================================================================================================================================================================================================================================================================================================================================================================================================================================================================================================================================================================================================================================================================================================================================================================================================================================================================================================================================================================================================================================================================================================================================================================================================================================================================================================================================================================================================================================================================================================================================================================================================================================================================================================================================================================================================================================================================================================================================================================================================================================================================================================================================================================================================================================================================================================================================================================================================================================================================================================================================================================================================================================================================================================================================================================================================================================================================================================================================================================================================================================================================================================================================================================================================================================================================================================================================================================================================================================================================================================================================================================================================================================================================================================================================================================================================================================================================================================================================================================================================================================================================================================================================================================================================================================================================================================================================================================================================================================================================================================================================================================================================================================================================================================================================================================================================================================================================================================================================================================================================================================================================================================================================================================================================================================================================================================================================================================================================================================================================================================================================================================================================================================================================================================================================================================================================================================================================================================================================================================================================================================================================================================================================================================================================================================================================================================================================================================================================================================================================================================================================================================================================================================================================================================================================================================================================================================================================================================================================================================================================================================================================================================================================================================================================================================================================================================================================================================================================================================================================================================================================================================================================================================================================================================================================================================================================================================================================================================================================================================================================================================================================================================================================================================================================================================================================================================================================================================================================================================================================================================================================================================================================================================================================================================================================================================================================================================================================================================================================================================================================================================================================================================================================================================================================================================================================================================================================================================================================================================================================================================================================================================================================================================================================================================================================================================================================================================================================================================================================================================================================================================================================================================================================================================================================================================================================================================================================================================================================================================================================================================================================================================================================================================================================================================================================================================================================================================================================================================================================================================================================================================================================================================================================================================================================================================================================================================================================================================================================================================================================================================================================================================================================================================================================================================================================================================================================================================================================================================================================================================================================================================================================================================================================================================================================================================================================================================================================================================================================================================================================================================================================================================================================================================================================================================================================================================================================================================================================================================================================================================================================================================================================================================================================================================================================================================================================================================================================================================================================================================================================================================================================================================================================================================================================================================================================================================================================================================================================================================================================================================================================================================================================================================================================================================================================================================================================================================================================================================================================================================================================================================================================================================================================================================================================================================================================================================================================================================================================================================================================================================================================================================================================================================================================================================================================================================================================================================================================================================================================================================================================================================================================================================================================================================================================================================================================================================================================================================================================================================================================================================================================================================================================================================================================================================================================================================================================================================================================================================================================================================================================================================================================================================================================================================================================================================================================================================================================================================================================================================================================================================================================================================================================================================================================================================================================================================================================================================================================================================================================================================================================================================================================================================================================================================================================================================================================================================================================================================================================================================================================================================================================================================================================================================================================================================================================================================================================================================================================================================================================================================================================================================================================================================================================================================================================================================================================================================================================================================================================================================================================================================================================================================================================================================================================================================================================================================================================================================================================================================================================================================================================================================================================================================================================================================================================================================================================================================================================================================================================================================================================================================================================================================================================================================================================================================================================================================================================================================================================================================================================================================================================================================================================================================================================================================================================================================================================================================================================================================================================================================================================================================================================================================================================================================================================================================================================================================================================================================================================================================================================================================================================================================================================================================================================================================================================================================================================================================================================================================================================================================================================================================================================================================================================================================================================================================================================================================================================================================================================================================================================================================================================================================================================================================================================================================================================================================================================================================================================================================================================================================================================================================================================================================================================================================================================================================================================================================================================================================================================================================================================================================================================================================================================================================================================================================================================================================================================================================================================================================================================================================================================================================================================================================================================================================================================================================================================================================================================================================================================================================================================================================================================================================================================================================================================================================================================================================================================================================================================================================================================================================================================================================================================================================================================================================================================================================================================================================================================================================================================================================================================================================================================================================================================================================================================================================================================================================================================================================================================================================================================================================================================================================================================================================================================================================================================================================================================================================================================================================================================================================================================================================================================================================================================================================================================================================================================================================================================================================================================================================================================================================================================================================================================================================================================================================================================================================================================================================================================================================================================================================================================================================================================================================================================================================================================================================================================================================================================================================================================================================================================================================================================================================================================================================================================================================================================================================================================================================================================================================================================================================================================================================================================================================================================================================================================================================================================================================================================================================================================================================================================================================================================================================================================================================================================================================================================================================================================================================================================================================================================================================================================================================================================================================================================================================================================================================================================================================================================================================================================================================================================================================================================================================================================================================================================================================================================================================================================================================================================================================================================================================================================================================================================================================================================================================================================================================================================================================================================================================================================================================================================================================================================================================================================================================================================================================================================================================================================================================================================================================================================================================================================================================================================================================================================================================================================================================================================================================================================================================================================================================================================================================================================================================================================================================================================================================================================================================================================================================================================================================================================================================================================================================================================================================================================================================================================================================================================================================================================================================================================================================================================================================================================================================================================================================================================================================================================================================================================================================================================================================================================================================================================================================================================================================================================================================================================================================================================================================================================================================================================================================================================================================================================================================================================================================================================================================================================================================================================================================================================================================================================================================================================================================================================================================================================================================================================================================================================================================================================================================================================================================================================================================================================================================================================================================================================================================================================================================================================================================================================================================================================================================================================================================================================================================================================================================================================================================================================================================================================================================================================================================================================================================================================================================================================================================================================================================================================================================================================================================================================================================================================================================================================================================================================================================================================================================================================================================================================================================================================================================================================================================================================================================================================================================================================================================================================================================================================================================================================================================================================================================================================================================================================================================================================================================================================================================================================================================================================================================================================================================================================================================================================================================================================================================================================================================================================================================================================================================================================================================================================================================================================================================================================================================================================================================================================================================================================================================================================================================================================================================================================================================================================================================================================================================================================================================================================================================================================================================================================================================================================================================================================================================================================================================================================================================================================================================================================================================================================================================================================================================================================================================================================================================================================================================================================================================================================================================================================================================================================================================================================================================================================================================================================================================================================================================================================================================================================================================================================================================================================================================================================================================================================================================================================================================================================================================================================================================================================================================================================================================================================================================================================================================================================================================================================================================================================================================================================================================================================================================================================================================================================================================================================================================================================================================================================================================================================================================================================================================================================================================================================================================================================================================================================================================================================================================================================================================================================================================================================================================================================================================================================================================================================================================================================================================================================================================================================================================================================================================================================================================================================================================================================================================================================================================================================================================================================================================================================================================================================================================================================================================================================================================================================================================================================================================================================================================================================================================================================================================================================================================================================================================================================================================================================================================================================================================================================================================================================================================================================================================================================================================================================================================================================================================================================================================================================================================================================================================================================================================================================================================================================================================================================================================================================================================================================================================================================================================================================================================================================================================================================================================================================================================================================================================================================================================================================================================================================================================================================================================================================================================================================================================================================================================================================================================================================================================================================================================================================================================================================================================================================================================================================================================================================================================================================================================================================================================================================================================================================================================================================================================================================================================================================================================================================================================================================================================================================================================================================================================================================================================================================================================================================================================================================================================================================================================================================================================================================================================================================================================================================================================================================================================================================================================================================================================================================================================================================================================================================================================================================================================================================================================================================================================================================================================================================================================================================================================================================================================================================================================================================================================================================================================================================================================================================================================================================================================================================================================================================================================================================================================================================================================================================================================================================================================================================================================================================================================================================================================================================================================================================================================================================================================================================================================================================================================================================================================================================================================================================================================================================================================================================================================================================================================================================================================================================================================================================================================================================================================================================================================================================================================================================================================================================================================================================================================================================================================================================================================================================================================================================================================================================================================================================================================================================================================================================================================================================================================================================================================================================================================================================================================================================================================================================================================================================================================================================================================================================================================================================================================================================================================================================================================================================================================================================================================================================================================================================================================================================================================================================================================================================================================================================================================================================================================================================================================================================================================================================================================================================================================================================================================================================================================================================================================================================================================================================================================================================================================================================================================================================================================================================================================================================================================================================================================================================================================================================================================================================================================================================================================================================================================================================================================================================================================================================================================================================================================================================================================================================================================================================================================================================================================================================================================================================================================================================================================================================================================================================================================================================================================================================================================================================================================================================================================================================================================================================================================================================================================================================================================================================================================================================================================================================================================================================================================================================================================================================================================================================================================================================================================================================================================================================================================================================================================================================================================================================================================================================================================================================================================================================================================================================================================================================================================================================================================================================================================================================================================================================================================================================================================================================================================================================================================================================================================================================================================================================================================================================================================================================================================================================================================================================================================================================================================================================================================================================================================================================================================================================================================================================================================================================================================================================================================================================================================================================================================================================================================================================================================================================================================================================================================================================================================================================================================================================================================================================================================================================================================================================================================================================================================================================================================================================================================================================================================================================================================================================================================================================================================================================================================================================================================================================================================================================================================================================================================================================================================================================================================================================================================================================================================================================================================================================================================================================================================================================================================================================================================================================================================================================================================================================================================================================================================================================================================================================================================================================================================================================================================================================================================================================================================================================================================================================================================================================================================================================================================================================================================================================================================================================================================================================================================================================================================================================================================================================================================================================================================================================================================================================================================================================================================================================================================================================================================================================================================================================================================================================================================================================================================================================================================================================================================================================================================================================================================================================================================================================================================================================================================================================================================================================================================================================================================================================================================================================================================================================================================================================================================================================================================================================================================================================================================================================================================================================================================================================================================================================================================================================================================================================================================================================================================================================================================================================================================================================================================================================================================================================================================================================================================================================================================================================================================================================================================================================================================================================================================================================================================================================================================================================================================================================================================================================================================================================================================================================================================================================================================================================================================================================================================================================================================================================================================================================================================================================================================================================================================================================================================================================================================================================================================================================================================================================================================================================================================================================================================================================================================================================================================================================================================================================================================================================================================================================================================================================================================================================================================================================================================================================================================================================================================================================================================================================================================================================================================================================================================================================================================================================================================================================================================================================================================================================================================================================================================================================================================================================================================================================================================================================================================================================================================================================================================================================================================================================================================================================================================================================================================================================================================================================================================================================================================================================================================================================================================================================================================================================================================================================================================================================================================================================================================================================================================================================================================================================================================================================================================================================================================================================================================================================================================================================================================================================================================================================================================================================================================================================================================================================================================================================================================================================================================================================================================================================================================================================================================================================================================================================================================================================================================================================================================================================================================================================================================================================================================================================================================================================================================================================================================================================================================================================================================================================================================================================================================================================================================================================================================================================================================================================================================================================================================================================================================================================================================================================================================================================================================================================================================================================================================================================================================================================================================================================================================================================================================================================================================================================================================================================================================================================================================================================================================================================================================================================================================================================================================================================================================================================================================================================================================================================================================================================================================================================================================================================================================================================================================================================================================================================================================================================================================================================================================================================================================================================================================================================================================================================================================================================================================================================================================================================================================================================================================================================================================================================================================================================================================================================================================================================================================================================================================================================================================================================================================================================================================================================================================================================================================================================================================================================================================================================================================================================================================================================================================================================================================================================================================================================================================================================================================================================================================================================================================================================================================================================================================================================================================================================================================================================================================================================================================================================================================================================================================================================================================================================================================================================================================================================================================================================================================================================================================================================================================================================================================================================================================================================================================================================================================================================================================================================================================================================================================================================================================================================================================================================================================================================================================================================================================================================================================================================================================================================================================================================================================================================================================================================================================================================================================================================================================================================================================================================================================================================================================================================================================================================================================================================================================================================================================================================================================================================================================================================================================================================================================================================================================================================================================================================================================================================================================================================================================================================================================================================================================================================================================================================================================================================================================================================================================================================================================================================================================================================================================================================================================================================================================================================================================================================================================================================================================================================================================================================================================================================================================================================================================================================================================================================================================================================================================================================================================================================================================================================================================================================================================================================================================================================================================================================================================================================================================================================================================================================================================================================================================================================================================================================================================================================================================================================================================================================================================================================================================================================================================================================================================================================================================================================================================================================================================================================================================================================================================================================================================================================================================================================================================================================================================================================================================================================================================================================================================================================================================================================================================================================================================================================================================================================================================================================================================================================================================================================================================================================================================================================================================================================================================================================================================================================================================================================================================================================================================================================================================================================================================================================================================================================================================================================================================================================================================================================================================================================================================================================================================================================================================================================================================================================================================================================================================================================================================================================================================================================================================================================================================================================================================================================================================================================================================================================================================================================================================================================================================================================================================================================================================================================================================================================================================================================================================================================================================================================================================================================================================================================================================================================================================================================================================================================================================================================================================================================================================================================================================================================================================================================================================================================================================================================================================================================================================================================================================================================================================================================================================================================================================================================================================================================================================================================================================================================================================================================================================================================================================================================================================================================================================================================================================================================================================================================================================================================================================================================================================================================================================================================================================================================================================================================================================================================================================================================================================================================================================================================================================================================================================================================================================================================================================================================================================================================================================================================================================================================================================================================================================================================================================================================================================================================================================================================================================================================================================================================================================================================================================================================================================================================================================================================================================================================================================================================================================================================================================================================================================================================================================================================================================================================================================================================================================================================================================================================================================================================================================================================================================================================================================================================================================================================================================================================================================================================================================================================================================================================================================================================================================================================================================================================================================================================================================================================================================================================================================================================================================================================================================================================================================================================================================================================================================================================================================================================================================================================================================================================================================================================================================================================================================================================================================================================================================================================================================================================================================================================================================================================================================================================================================================================================================================================================================================================================================================================================================================================================================================================================================================================================================================================================================================================================================================================================================================================================================================================================================================================================================================================================================================================================================================================================================================================================================================================================================================================================================================================================================================================================================================================================================================================================================================================================================================================================================================================================================================================================================================================================================================================================================================================================================================================================================================================================================================================================================================================================================================================================================================================================================================================================================================================================================================================================================================================================================================================================================================================================================================================================================================================================================================================================================================================================================================================================================================================================================================================================================================================================================================================================================================================================================================================================================================================================================================================================================================================================================================================================================================================================================================================================================================================================================================================================================================================================================================================================================================================================================================================================================================================================================================================================================================================================================================================================================================================================================================================================================================================================================================================================================================================================================================================================================================================================================================================================================================================================================================================================================================================================================================================================================================================================================================================================================================================================================================================================================================================================================================================================================================================================================================================================================================================================================================================================================================================================================================================================================================================================================================================================================================================================================================================================================================================================================================================================================================================================================================================================================================================================================================================================================================================================================================================================================================================================================================================================================================================================================================================================================================================================================================================================================================================================================================================================================================================================================================================================================================================================================================================================================================================================================================================================================================================================================================================================================================================================================================================================================================================================================================================================================================================================================================================================================================================================================================================================================================================================================================================================================================================================================================================================================================================================================================================================================================================================================================================================================================================================================================================================================================================================================================================================================================================================================================================================================================================================================================================================================================================================================================================================================================================================================================================================================================================================================================================================================================================================================================================================================================================================================================================================================================================================================================================================================================================================================================================================================================================================================================================================================================================================================================================================================================================================================================================================================================================================================================================================================================================================================================================================================================================================================================================================================================================================================================================================================================================================================================================================================================================================================================================================================================================================================================================================================================================================================================================================================================================================================================================================================================================================================================================================================================================================================================================================================================================================================================================================================================================================================================================================================================================================================================================================================================================================================================================================================================================================================================================================================================================================================================================================================================================================================================================================================================================================================================================================================================================================================================================================================================================================================================================================================================================================================================================================================================================================================================================================================================================================================================================================================================================================================================================================================================================================================================================================================================================================================================================================================================================================================================================================================================================================================================================================================================================================================================================================================================================================================================================================================================================================================================================================================================================================================================================================================================================================================================================================================================================================================================================================================================================================================================================================================================================================================================================================================================================================================================================================================================================================================================================================================================================================================================================================================================================================================================================================================================================================================================================================================================================================================================================================================================================================================================================================================================================================================================================================================================================================================================================================================================================================================================================================================================================================================================================================================================================================================================================================================================================================================================================================================================================================================================================================================================================================================================================================================================================================================================================================================================================================================================================================================================================================================================================================================================================================================================================================================================================================================================================================================================================================================================================================================================================================================================================================================================================================================================================================================================================================================================================================================================================================================================================================================================================================================================================================================================================================================================================================================================================================================================================================================================================================================================================================================================================================================================================================================================================================================================================================================================================================================================================================================================================================================================================================================================================================================================================================================================================================================================================================================================================================================================================================================================================================================================================================================================================================================================================================================================================================================================================================================================================================================================================================================================================================================================================================================================================================================================================================================================================================================================================================================================================================================================================================================================================================================================================================================================================================================================================================================================================================================================================================================================================================================================================================================================================================================================================================================================================================================================================================================================================================================================================================================================================================================================================================================================================================================================================================================================================================================================================================================================================================================================================================================================================================================================================================================================================================================================================================================================================================================================================================================================================================================================================================================================================================================================================================================================================================================================================================================================================================================================================================================================================================================================================================================================================================================================================================================================================================================================================================================================================================================================================================================================================================================================================================================================================================================================================================================================================================================================================================================================================================================================================================================================================================================================================================================================================================================================================================================================================================================================================================================================================================================================================================================================================================================================================================================================================================================================================================================================================================================================================================================================================================================================================================================================================================================================================================================================================================================================================================================================================================================================================================================================================================================================================================================================================================================================================================================================================================================================================================================================================================================================================================================================================================================================================================================================================================================================================================================================================================================================================================================================================================================================================================================================================================================================================================================================================================================================================================================================================================================================================================================================================================================================================================================================================================================================================================================================================================================================================================================================================================================================================================================================================================================================================================================================================================================================================================================================================================================================================================================================================================================================================================================================================================================================================================================================================================================================================================================================================================================================================================================================================================================================================================================================================================================================================================================================================================================================================================================================================================================================================================================================================================================================================================================================================================================================================================================================================================================================================================================================================================================================================================================================================================================================================================================================================================================================================================================================================================================================================================================================================================================================================================================================================================================================================================================================================================================================================================================================================================================================================================================================================================================================================================================================================================================================================================================================================================================================================================================================================================================================================================================================================================================================================================================================================================================================================================================================================================================================================================================================================================================================================================================================================================================================================================================================================================================================================================================================================================================================================================================================================================================================================================================================================================================================================================================================================================================================================================================================================================================================================================================================================================================================================================================================================================================================================================================================================================================================================================================================================================================================================================================================================================================================================================================================================================================================================================================================================================================================================================================================================================================================================================================================================================================================================================================================================================================================================================================================================================================================================================================================================================================================================================================================================================================================================================================================================================================================================================================================================================================================================================================================================================================================================================================================================================================================================================================================================================================================================================================================================================================================================================================================================================================================================================================================================================================================================================================================================================================================================================================================================================================================================================================================================================================================================================================================================================================================================================================================================================================================================================================================================================================================================================================================================================================================================================================================================================================================================================================================================================================================================================================================================================================================================================================================================================================================================================================================================================================================================================================================================================================================================================================================================================================================================================================================================================================================================================================================================================================================================================================================================================================================================================================================================================================================================================================================================================================================================================================================================================================================================================================================================================================================================================================================================================================================================================================================================================================================================================================================================================================================================================================================================================================================================================================================================================================================================================================================================================================================================================================================================================================================================================================================================================================================================================================================================================================================================================================================================================================================================================================================================================================================================================================================================================================================================================================================================================================================================================================================================================================================================================================================================================================================================================================================================================================================================================================================================================================================================================================================================================================================================================================================================================================================================================================================================================================================================================================================================================================================================================================================================================================================================================================================================================================================================================================================================================================================================================================================================================================================================================================================================================================================================================================================================================================================================================================================================================================================================================================================================================================================================================================================================================================================================================================================================================================================================================================================================================================================================================================================================================================================================================================================================================================================================================================================================================================================================================================================================================================================================================================================================================================================================================================================================================================================================================================================================================================================================================================================================================================================================================================================================================================================================================================================================================================================================================================================================================================================================================================================================================================================================================================================================================================================================================================================================================================================================================================================================================================================================================================================================================================================================================================================================================================================================================================================================================================================================================================================================================================================================================================================================================================================================================================================================================================================================================================================================================================================================================================================================================================================================================================================================================================================================================================================================================================================================================================================================================================================================================================================================================================================================================================================================================================================================================================================================================================================================================================================================================================================================================================================================================================================================================================================================================================================================================================================================================================================================================================================================================================================================================================================================================================================================================================================================================================================================================================================================================================================================================================================================================================================================================================================================================================================================================================================================================================================================================================================================================================================================================================================================================================================================================================================================================================================================================================================================================================================================================================================================================================================================================================================================================================================================================================================================================================================================================================================================================================================================================================================================================================================================================================================================================================================================================================================================================================================================================================================================================================================================================================================================================================================================================================================================================================================================================================================================================================================================================================================================================================================================================================================================================================================================================================================================================================================================================================================================================================================================================================================================================================================================================================================================================================================================================================================================================================================================================================================================================================================================================================================================================================================================================================================================================================================================================================================================================================================================================================================================================================================================================================================================================================================================================================================================================================================================================================================================================================================================================================================================================================================================================================================================================================================================================================================================================================================================================================================================================================================================================================================================================================================================================================================================================================================================================================================================================================================================================================================================================================================================================================================================================================================================================================================================================================================================================================================================================================================================================================================================================================================================================================================================================================================================================================================================================================================================================================================================================================================================================================================================================================================================================================================================================================================================================================================================================================================================================================================================================================================================================================================================================================================================================================================================================================================================================================================================================================================================================================================================================================================================================================================================================================================================================================================================================================================================================================================================================================================================================================================================================================================================================================================================================================================================================================================================================================================================================================================================================================================================================================================================================================================================================================================================================================================================================================================================================================================================================================================================================================================================================================================================================================================================================================================================================================================================================================================================================================================================================================================================================================================================================================================================================================================================================================================================================================================================================================================================================================================================================================================================================================================================================================================================================================================================================================================================================================================================================================================================================================================================================================================================================================================================================================================================================================================================================================================================================================================================================================================================================================================================================================================================================================================================================================================================================================================================================================================================================================================================================================================================================================================================================================================================================================================================================================================================================================================================================================================================================================================================================================================================================================================================================================================================================================================================================================================================================================================================================================================================================================================================================================================================================================================================================================================================================================================================================================================================================================================================================================================================================================================================================================================================================================================================================================================================================================================================================================================================================================================================================================================================================================================================================================================================================================================================================================================================================================================================================================================================================================================================================================================================================================================================================================================================================================================================================================================================================================================================================================================================================================================================================================================================================================================================================================================================================================================================================================================================================================================================================================================================================================================================================================================================================================================================================================================================================================================================================================================================================================================================================================================================================================================================================================================================================================================================================================================================================================================================================================================================================================================================================================================================================================================================================================================================================================================================================================================================================================================================================================================================================================================================================================================================================================================================================================================================================================================================================================================================================================================================================================================================================================================================================================================================================================================================================================================================================================================================================================================================================================================================================================================================================================================================================================================================================================================================================================================================================================================================================================================================================================================================================================================================================================================================================================================================================================================================================================================================================================================================================================================================================================================================================================================================================================================================================================================================================================================================================================================================================================================================================================================================================================================================================================================================================================================================================================================================================================================================================================================================================================================================================================================================================================================================================================================================================================================================================================================================================================================================================================================================================================================================================================================================================================================================================================================================================================================================================================================================================================================================================================================================================================================================================================================================================================================================================================================================================================================================================================================================================================================================================================================================================================================================================================================================================================================================================================================================================================================================================================================================================================================================================================================================================================================================================================================================================================================================================================================================================================================================================================================================================================================================================================================================================================================================================================================================================================================================================================================================================================================================================================================================================================================================================================================================================================================================================================================================================================================================================================================================================================================================================================================================================================================================================================================================================================================================================================================================================================================================================================================================================================================================================================================================================================================================================================================================================================================================================================================================================================================================================================================================================================================================================================================================================================================================================================================================================================================================================================================================================================================================================================================================================================================================================================================================================================================================================================================================================================================================================================================================================================================================================================================================================================================================================================================================================================================================================================================================================================================================================================================================================================================================================================================================================================================================================================================================================================================================================================================================================================================================================================================================================================================================================================================================================================================================================================================================================================================================================================================================================================================================================================================================================================================================================================================================================================================================================================================================================================================================================================================================================================================================================================================================================================================================================================================================================================================================================================================================================================================================================================================================================================================================================================================================================================================================================================================================================================================================================================================================================================================================================================================================================================================================================================================================================================================================================================================================================================================================================================================================================================================================================================================================================================================================================================================================================================================================================================================================================================================================================================================================================================================================================================================================================================================================================================================================================================================================================================================================================================================================================================================================================================================================================================================================================================================================================================================================================================================================================================================================================================================================================================================================================================================================================================================================================================================================================================================================================================================================================================================================================================================================================================================================================================================================================================================================================================================================================================================================================================================================================================================================================================================================================================================================================================================================================================================================================================================================================================================================================================================================================================================================================================================================================================================================================================================================================================================================================================================================================================================================================================================================================================================================================================================================================================================================================================================================================================================================================================================================================================================================================================================================================================================================================================================================================================================================================================================================================================================================================================================================================================================================================================================================================================================================================================================================================================================================================================================================================================================================================================================================================================================================================================================================================================================================================================================================================================================================================================================================================================================================================================================================================================================================================================================================================================================================================================================================================================================================================================================================================================================================================================================================================================================================================================================================================================================================================================================================================================================================================================================================================================================================================================================================================================================================================================================================================================================================================================================================================================================================================================================================================================================================================================================================================================================================================================================================================================================================================================================================================================================================================================================================================================================================================================================================================================================================================================================================================================================================================================================================================================================================================================================================================================================================================================================================================================================================================================================================================================================================================================================================================================================================================================================================================================================================================================================================================================================================================================================================================================================================================================================================================================================================================================================================================================================================================================================================================================================================================================================================================================================================================================================================================================================================================================================================================================================================================================================================================================================================================================================================================================================================================================================================================================================================================================================================================================================================================================================================================================================================================================================================================================================================================================================================================================================================================================================================================================================================================================================================================================================================================================================================================================================================================================================================================================================================================================================================================================================================================================================================================================================================================================================================================================================================================================================================================================================================================================================================================================================================================================================================================================================================================================================================================================================================================================================================================================================================================================================================================================================================================================================================================================================================================================================================================================================================================================================================================================================================================================================================================================================================================================================================================================================================================================================================================================================================================================================================================================================================================================================================================================================================================================================================================================================================================================================================================================================================================================================================================================================================================================================================================================================================================================================================================================================================================================================================================================================================================================================================================================================================================================================================================================================================================================================================================================================================================================================================================================================================================================================================================================================================================================================================================================================================================================================================================================================================================================================================================================================================================================================================================================================================================================================================================================================================================================================================================================================================================================================================================================================================================================================================================================================================================================================================================================================================================================================================================================================================================================================================================================================================================================================================================================================================================================================================================================================================================================================================================================================================================================================================================================================================================================================================================================================================================================================================================================================================================================================================================================================================================================================================================================================================================================================================================================================================================================================================================================================================================================================================================================================================================================================================================================================================================================================================================================================================================================================================================================================================================================================================================================================================================================================================================================================================================================================================================================================================================================================================================================================================================================================================================================================================================================================================================================================================================================================================================================================================================================================================================================================================================================================================================================================================================================================================================================================================================================================================================================================================================================================================================================================================================================================================================================================================================================================================================================================================================================================================================================================================================================================================================================================================================================================================================================================================================================================================================================================================================================================================================================================================================================================================================================================================================================================================================================================================================================================================================================================================================================================================================================================================================================================================================================================================================================================================================================================================================================================================================================================================================================================================================================================================================================================================================================================================================================================================================================================================================================================================================================================================================================================================================================================================================================================================================================================================================================================================================================================================================================================================================================================================================================================================================================================================================================================================================================================================================================================================================================================================================================================================================================================================================================================================================================================================================================================================================================================================================================================================================================================================================================================================================================================================================================================================================================================================================================================================================================================================================================================================================================================================================================================================================================================================================================================================================================================================================================================================================================================================================================================================================================================================================================================================================================================================================================================================================================================================================================================================================================================================================================================================================================================================================================================================================================================================================================================================================================================================================================================================================================================================================================================================================================================================================================================================================================================================================================================================================================================================================================================================================================================================================================================================================================================================================================================================================================================================================================================================================================================================================================================================================================================================================================================================================================================================================================================================================================================================================================================================================================================================================================================================================================================================================================================================================================================================================================================================================================================================================================================================================================================================================================================================================================================================================================================================================================================================================================================================================================================================================================================================================================================================================================================================================================================================================================================================================================================================================================================================================================================================================================================================================================================================================================================================================================================================================================================================================================================================================================================================================================================================================================================================================================================================================================================================================================================================================================================================================================================================================================================================================================================================================================================================================================================================================================================================================================================================================================================================================================================================================================================================================================================================================================================================================================================================================================================================================================================================================================================================================================================================================================================================================================================================================================================================================================================================================================================================================================================================================================================================================================================================================================================================================================================================================================================================================================================================================================================================================================================================================================================================================================================================================================================================================================================================================================================================================================================================================================================================================================================================================================================================================================================================================================================================================================================================================================================================================================================================================================================================================================================================================================================================================================================================================================================================================================================================================================================================================================================================================================================================================================================================================================================================================================================================================================================================================================================================================================================================================================================================================================================================================================================================================================================================================================================================================================================================================================================================================================================================================================================================================================================================================================================================================================================================================================================================================================================================================================================================================================================================================================================================================================================================================================================================================================================================================================================================================================================================================================================================================================================================================================================================================================================================================================================================================================================================================================================================================================================================================================================================================================================================================================================================================================================================================================================================================================================================================================================================================================================================================================================================================================================================================================================================================================================================================================================================================================================================================================================================================================================================================================================================================================================================================================================================================================================================================================================================================================================================================================================================================================================================================================================================================================================================================================================================================================================================================================================================================================================================================================================================================================================================================================================================================================================================================================================================================================================================================================================================================================================================================================================================================================================================================================================================================================================================================================================================================================================================================================================================================================================================================================================================================================================================================================================================================================================================================================================================================================================================================================================================================================================================================================================================================================================================================================================================================================================================================================================================================================================================================================================================================================================================================================================================================================================================================================================================================================================================================================================================================================================================================================================================================================================================================================================================================================================================================================================================================================================================================================================================================================================================================================================================================================================================================================================================================================================================================================================================================================================================================================================================================================================================================================================================================================================================================================================================================================================================================================] - 0s 21us/sample - loss: 0.1331 - mean_absolute_error: 0.2436\n"
     ]
    },
    {
     "data": {
      "text/plain": [
       "[0.12077644772063849, 0.24363782]"
      ]
     },
     "execution_count": 402,
     "metadata": {},
     "output_type": "execute_result"
    }
   ],
   "source": [
    "# To evaluate model test loss\n",
    "\n",
    "test_loss = model.evaluate(x_test, y_test)\n",
    "test_loss"
   ]
  },
  {
   "cell_type": "code",
   "execution_count": 403,
   "metadata": {},
   "outputs": [
    {
     "data": {
      "text/plain": [
       "(14886, 74)"
      ]
     },
     "execution_count": 403,
     "metadata": {},
     "output_type": "execute_result"
    }
   ],
   "source": [
    "\n",
    "x_test.shape"
   ]
  },
  {
   "cell_type": "code",
   "execution_count": 404,
   "metadata": {},
   "outputs": [
    {
     "data": {
      "text/plain": [
       "(14886, 24)"
      ]
     },
     "execution_count": 404,
     "metadata": {},
     "output_type": "execute_result"
    }
   ],
   "source": [
    "y_test.shape"
   ]
  },
  {
   "cell_type": "code",
   "execution_count": 405,
   "metadata": {
    "colab": {
     "base_uri": "https://localhost:8080/",
     "height": 280
    },
    "id": "K6jxwKI-au9s",
    "outputId": "4824a9db-6941-4ac8-87d8-5d749bc8497d"
   },
   "outputs": [
    {
     "data": {
      "image/png": "[encoded data removed]",
      "text/plain": [
       "<Figure size 432x288 with 1 Axes>"
      ]
     },
     "metadata": {
      "needs_background": "light"
     },
     "output_type": "display_data"
    }
   ],
   "source": [
    "# To plot training loss only\n",
    "\n",
    "loss = model_history.history['loss']\n",
    "epochs = range(1, len(loss)+1)\n",
    "plt.plot(epochs, loss, 'ro', label='Training loss')\n",
    "plt.xlabel('epoch')\n",
    "plt.legend()\n",
    "plt.show()"
   ]
  },
  {
   "cell_type": "code",
   "execution_count": 406,
   "metadata": {
    "colab": {
     "base_uri": "https://localhost:8080/",
     "height": 313
    },
    "id": "gr4ZQqHQayfv",
    "outputId": "b292d2fe-9161-4bfc-9b6f-fe09e9543f33"
   },
   "outputs": [
    {
     "name": "stdout",
     "output_type": "stream",
     "text": [
      "dict_keys(['loss', 'mean_absolute_error', 'val_loss', 'val_mean_absolute_error'])\n"
     ]
    },
    {
     "data": {
      "image/png": "[encoded data removed]",
      "text/plain": [
       "<Figure size 432x288 with 1 Axes>"
      ]
     },
     "metadata": {
      "needs_background": "light"
     },
     "output_type": "display_data"
    }
   ],
   "source": [
    "# list all data in history\n",
    "\n",
    "print(model_history.history.keys())\n",
    "\n",
    "# summarize history for accuracy\n",
    "acc = model_history.history['mean_absolute_error']\n",
    "val_acc = model_history.history['val_mean_absolute_error']\n",
    "\n",
    "plt.plot(acc)\n",
    "plt.plot(val_acc)\n",
    "plt.title('model accuracy')\n",
    "plt.ylabel('Mean Absolute Error')\n",
    "plt.xlabel('epoch')\n",
    "plt.legend(['train', 'test'], loc='upper right')\n",
    "plt.savefig('accuracy_3_layer.pdf')\n",
    "plt.show()"
   ]
  },
  {
   "cell_type": "code",
   "execution_count": 407,
   "metadata": {
    "colab": {
     "base_uri": "https://localhost:8080/",
     "height": 295
    },
    "id": "pgrdmzrca2id",
    "outputId": "7698718b-fba5-415a-c5a5-abfbfe868c6c"
   },
   "outputs": [
    {
     "data": {
      "image/png": "[encoded data removed]",
      "text/plain": [
       "<Figure size 432x288 with 1 Axes>"
      ]
     },
     "metadata": {
      "needs_background": "light"
     },
     "output_type": "display_data"
    }
   ],
   "source": [
    "# summarize history for loss\n",
    "\n",
    "loss = model_history.history['loss']\n",
    "val_loss = model_history.history['val_loss']\n",
    "plt.plot(loss)\n",
    "plt.plot(val_loss)\n",
    "plt.title('model loss')\n",
    "plt.ylabel('loss')\n",
    "plt.xlabel('epoch')\n",
    "plt.legend(['train', 'test'], loc='upper right')\n",
    "plt.savefig('loss_3_layer.pdf')\n",
    "plt.show()"
   ]
  },
  {
   "cell_type": "code",
   "execution_count": 408,
   "metadata": {
    "colab": {
     "base_uri": "https://localhost:8080/",
     "height": 249
    },
    "id": "V_KxSfNKa666",
    "outputId": "c668ae3d-01ef-4869-e191-af2122733da1"
   },
   "outputs": [
    {
     "data": {
      "text/plain": [
       "array([[1.1770345e-02, 8.8964921e-01, 8.9642441e-01, ..., 7.8600937e-01,\n",
       "        1.0907867e+00, 8.0527132e-04],\n",
       "       [9.7321236e-01, 7.4952829e-01, 7.6626670e-01, ..., 6.7672169e-01,\n",
       "        1.0764587e+00, 2.9908493e-05],\n",
       "       [9.7566646e-01, 7.2925979e-01, 7.4637055e-01, ..., 6.5328777e-01,\n",
       "        1.0321190e+00, 5.0353352e-05],\n",
       "       ...,\n",
       "       [9.8913866e-01, 6.7526996e-01, 6.9330621e-01, ..., 5.8887422e-01,\n",
       "        8.8821310e-01, 1.3761269e-04],\n",
       "       [9.7608054e-01, 7.4440116e-01, 7.6118070e-01, ..., 6.7005700e-01,\n",
       "        1.0560718e+00, 4.6506058e-05],\n",
       "       [9.7693229e-01, 7.6084667e-01, 7.7754521e-01, ..., 6.9026095e-01,\n",
       "        1.1032178e+00, 2.1274667e-05]], dtype=float32)"
      ]
     },
     "execution_count": 408,
     "metadata": {},
     "output_type": "execute_result"
    }
   ],
   "source": [
    "# Making the predictions for testing\n",
    "\n",
    "# Predicting the Test set results\n",
    "y_pred = model.predict(x_test) \n",
    "y_pred"
   ]
  },
  {
   "cell_type": "code",
   "execution_count": 409,
   "metadata": {
    "colab": {
     "base_uri": "https://localhost:8080/",
     "height": 142
    },
    "id": "nTiknlOLaTPp",
    "outputId": "70722f3f-835d-4abe-ca27-4cd0d3b285f1"
   },
   "outputs": [
    {
     "data": {
      "text/plain": [
       "array([[0., 1., 1., ..., 1., 1., 0.],\n",
       "       [1., 0., 1., ..., 1., 1., 0.],\n",
       "       [1., 1., 1., ..., 0., 1., 0.],\n",
       "       ...,\n",
       "       [1., 0., 0., ..., 0., 1., 0.],\n",
       "       [1., 1., 1., ..., 0., 1., 0.],\n",
       "       [1., 1., 1., ..., 1., 1., 0.]])"
      ]
     },
     "execution_count": 409,
     "metadata": {},
     "output_type": "execute_result"
    }
   ],
   "source": [
    "y_test\n"
   ]
  },
  {
   "cell_type": "code",
   "execution_count": 410,
   "metadata": {
    "id": "5x9nZKCHa9ZI"
   },
   "outputs": [
    {
     "data": {
      "text/plain": [
       "(14886, 24)"
      ]
     },
     "execution_count": 410,
     "metadata": {},
     "output_type": "execute_result"
    }
   ],
   "source": [
    "y_pred.shape"
   ]
  },
  {
   "cell_type": "code",
   "execution_count": 411,
   "metadata": {
    "id": "ACY5x1V7a_vo"
   },
   "outputs": [
    {
     "name": "stdout",
     "output_type": "stream",
     "text": [
      "Test Mean Squared error (MSE): 0.12077644773592539\n",
      "Test Root mean squared error (RMSE): 0.3475290602754328\n",
      "Test Mean absolute error (MAE): 0.2436378443038754\n"
     ]
    }
   ],
   "source": [
    "# Evaluating the model # Test error\n",
    "\n",
    "# Measure MSE error  \n",
    "mse_test = metrics.mean_squared_error(y_test, y_pred)\n",
    "print(\"Test Mean Squared error (MSE): {}\".format(mse_test))\n",
    "\n",
    "# Measure RMSE error \n",
    "rmse_test = np.sqrt(metrics.mean_squared_error(y_test, y_pred))\n",
    "print(\"Test Root mean squared error (RMSE): {}\".format(rmse_test))\n",
    "\n",
    "# Measure MAE error\n",
    "mae_test = metrics.mean_absolute_error(y_test, y_pred)\n",
    "print(\"Test Mean absolute error (MAE): {}\".format(mae_test))"
   ]
  },
  {
   "cell_type": "code",
   "execution_count": 412,
   "metadata": {
    "id": "EpTj4zULbQMd"
   },
   "outputs": [
    {
     "data": {
      "text/plain": [
       "array([[-2.9504299e-03,  9.0385169e-01,  9.0975183e-01, ...,\n",
       "         7.2580439e-01,  2.0271224e-01,  6.2499195e-04],\n",
       "       [ 9.8018110e-01,  9.1090751e-01,  9.2097950e-01, ...,\n",
       "         8.2987720e-01,  1.0534477e+00,  2.0518294e-04],\n",
       "       [ 9.7576839e-01,  1.0186367e+00,  1.0239078e+00, ...,\n",
       "         9.3013191e-01,  1.0205922e+00,  3.5525346e-04],\n",
       "       ...,\n",
       "       [-2.1202117e-03,  9.4006640e-01,  9.4609606e-01, ...,\n",
       "         7.8590238e-01,  4.8909074e-01,  6.9867726e-04],\n",
       "       [ 1.0025520e+00,  6.8948776e-01,  6.9989389e-01, ...,\n",
       "         5.3231603e-01,  1.0626045e-01,  5.6808302e-04],\n",
       "       [ 9.6473247e-01,  7.6641989e-01,  7.7168471e-01, ...,\n",
       "         5.9452522e-01, -1.0354370e-03,  5.9633050e-04]], dtype=float32)"
      ]
     },
     "execution_count": 412,
     "metadata": {},
     "output_type": "execute_result"
    }
   ],
   "source": [
    "# Making the predictions for training\n",
    "\n",
    "# Predicting the Training set results\n",
    "y_pred_train = model.predict(x_train) \n",
    "y_pred_train"
   ]
  },
  {
   "cell_type": "code",
   "execution_count": 413,
   "metadata": {
    "id": "Of9BhiCTbU01"
   },
   "outputs": [
    {
     "data": {
      "text/plain": [
       "(59540, 24)"
      ]
     },
     "execution_count": 413,
     "metadata": {},
     "output_type": "execute_result"
    }
   ],
   "source": [
    "y_pred_train.shape "
   ]
  },
  {
   "cell_type": "code",
   "execution_count": 414,
   "metadata": {
    "id": "FWK7_bNJbXME"
   },
   "outputs": [
    {
     "name": "stdout",
     "output_type": "stream",
     "text": [
      "Training Mean Squared error (MSE): 0.1213648770244356\n",
      "Training Root mean squared error (RMSE): 0.34837462167103334\n",
      "Training Mean absolute error (MAE): 0.24502505537798744\n"
     ]
    }
   ],
   "source": [
    "# Evaluating the model # Training error\n",
    "\n",
    "# Measure MSE error  \n",
    "mse_train = metrics.mean_squared_error(y_train, y_pred_train)\n",
    "print(\"Training Mean Squared error (MSE): {}\".format(mse_train))\n",
    "\n",
    "# Measure RMSE error \n",
    "rmse_train = np.sqrt(metrics.mean_squared_error(y_train, y_pred_train))\n",
    "print(\"Training Root mean squared error (RMSE): {}\".format(rmse_train))\n",
    "\n",
    "# Measure MAE error\n",
    "mae_train = metrics.mean_absolute_error(y_train, y_pred_train)\n",
    "print(\"Training Mean absolute error (MAE): {}\".format(mae_train))"
   ]
  },
  {
   "cell_type": "code",
   "execution_count": 415,
   "metadata": {
    "id": "1Yw2ek-lRAmD"
   },
   "outputs": [
    {
     "data": {
      "text/plain": [
       "array([1.1770345e-02, 8.8964921e-01, 8.9642441e-01, ..., 6.9026095e-01,\n",
       "       1.1032178e+00, 2.1274667e-05], dtype=float32)"
      ]
     },
     "execution_count": 415,
     "metadata": {},
     "output_type": "execute_result"
    }
   ],
   "source": [
    "y_pred_flat = y_pred.flatten()\n",
    "y_pred_flat"
   ]
  },
  {
   "cell_type": "code",
   "execution_count": 416,
   "metadata": {
    "id": "zrHf4K-yRWEW"
   },
   "outputs": [
    {
     "data": {
      "text/plain": [
       "array([0., 1., 1., ..., 1., 1., 0.])"
      ]
     },
     "execution_count": 416,
     "metadata": {},
     "output_type": "execute_result"
    }
   ],
   "source": [
    "y_test_flat = y_test.flatten()\n",
    "y_test_flat"
   ]
  },
  {
   "cell_type": "code",
   "execution_count": 417,
   "metadata": {
    "id": "3sCT93VyRYOz"
   },
   "outputs": [
    {
     "name": "stdout",
     "output_type": "stream",
     "text": [
      "R2 Score Test: 0.33400524532176556\n"
     ]
    }
   ],
   "source": [
    "# Regression score for test\n",
    "\n",
    "r2_score_test = metrics.r2_score(y_test_flat, y_pred_flat)\n",
    "print(\"R2 Score Test: {}\".format(r2_score_test))"
   ]
  },
  {
   "cell_type": "code",
   "execution_count": 418,
   "metadata": {
    "id": "5oZLTaS6Rdpb"
   },
   "outputs": [
    {
     "data": {
      "text/plain": [
       "array([-2.9504299e-03,  9.0385169e-01,  9.0975183e-01, ...,\n",
       "        5.9452522e-01, -1.0354370e-03,  5.9633050e-04], dtype=float32)"
      ]
     },
     "execution_count": 418,
     "metadata": {},
     "output_type": "execute_result"
    }
   ],
   "source": [
    "y_pred_train_flat = y_pred_train.flatten()\n",
    "y_pred_train_flat"
   ]
  },
  {
   "cell_type": "code",
   "execution_count": 419,
   "metadata": {
    "id": "imceUpMlRfrV"
   },
   "outputs": [
    {
     "data": {
      "text/plain": [
       "array([0., 1., 1., ..., 1., 0., 0.])"
      ]
     },
     "execution_count": 419,
     "metadata": {},
     "output_type": "execute_result"
    }
   ],
   "source": [
    "y_train_flat = y_train.flatten()\n",
    "y_train_flat"
   ]
  },
  {
   "cell_type": "code",
   "execution_count": 420,
   "metadata": {
    "id": "IywAjABTRjex"
   },
   "outputs": [
    {
     "name": "stdout",
     "output_type": "stream",
     "text": [
      "R2 Score Train: 0.33406885378800355\n"
     ]
    }
   ],
   "source": [
    "# Regression score for training\n",
    "\n",
    "r2_score_train = metrics.r2_score(y_train_flat, y_pred_train_flat)\n",
    "print(\"R2 Score Train: {}\".format(r2_score_train))"
   ]
  },
  {
   "cell_type": "code",
   "execution_count": 421,
   "metadata": {
    "id": "hr_f0cdyWpil"
   },
   "outputs": [],
   "source": [
    "######################### Constraint verification for test data ##########################"
   ]
  },
  {
   "cell_type": "code",
   "execution_count": 422,
   "metadata": {
    "colab": {
     "base_uri": "https://localhost:8080/",
     "height": 249
    },
    "id": "aS9k-9lwW0hY",
    "outputId": "32c16051-3a86-49a8-d7cb-77e547ad3e64"
   },
   "outputs": [
    {
     "data": {
      "text/plain": [
       "array([[1.1770345e-02, 8.8964921e-01, 8.9642441e-01, ..., 7.8600937e-01,\n",
       "        1.0907867e+00, 8.0527132e-04],\n",
       "       [9.7321236e-01, 7.4952829e-01, 7.6626670e-01, ..., 6.7672169e-01,\n",
       "        1.0764587e+00, 2.9908493e-05],\n",
       "       [9.7566646e-01, 7.2925979e-01, 7.4637055e-01, ..., 6.5328777e-01,\n",
       "        1.0321190e+00, 5.0353352e-05],\n",
       "       ...,\n",
       "       [9.8913866e-01, 6.7526996e-01, 6.9330621e-01, ..., 5.8887422e-01,\n",
       "        8.8821310e-01, 1.3761269e-04],\n",
       "       [9.7608054e-01, 7.4440116e-01, 7.6118070e-01, ..., 6.7005700e-01,\n",
       "        1.0560718e+00, 4.6506058e-05],\n",
       "       [9.7693229e-01, 7.6084667e-01, 7.7754521e-01, ..., 6.9026095e-01,\n",
       "        1.1032178e+00, 2.1274667e-05]], dtype=float32)"
      ]
     },
     "execution_count": 422,
     "metadata": {},
     "output_type": "execute_result"
    }
   ],
   "source": [
    "y_pred = model.predict(x_test)\n",
    "y_pred"
   ]
  },
  {
   "cell_type": "code",
   "execution_count": 423,
   "metadata": {
    "colab": {
     "base_uri": "https://localhost:8080/",
     "height": 249
    },
    "id": "qdcimHOXZsH2",
    "outputId": "1585d70d-b16d-4e2a-d7d5-6f381a4521fd"
   },
   "outputs": [
    {
     "data": {
      "text/plain": [
       "array([[ 1.54529351e+00, -1.08616514e+00, -1.26974712e+00, ...,\n",
       "        -1.17626690e+00, -4.50545785e-01,  1.54385254e+00],\n",
       "       [ 1.31133707e+00,  9.20670313e-01, -8.31167652e-04, ...,\n",
       "        -1.48777663e+00,  4.57664436e-01,  8.64998395e-01],\n",
       "       [ 1.38085592e+00,  9.20670313e-01, -6.35289142e-01, ...,\n",
       "        -6.29864163e-01, -8.72997900e-01,  6.46063592e-01],\n",
       "       ...,\n",
       "       [ 2.11766986e-01,  9.20670313e-01, -1.90420509e+00, ...,\n",
       "         4.63706439e-01, -9.75750403e-01, -4.18487355e-01],\n",
       "       [ 2.08048389e-01,  9.20670313e-01, -6.35289142e-01, ...,\n",
       "        -5.42031427e-01,  3.05625562e-01,  1.59055632e+00],\n",
       "       [ 1.46619455e+00,  9.20670313e-01, -6.35289142e-01, ...,\n",
       "         1.68946957e+00,  1.32008884e+00,  7.22977246e-01]])"
      ]
     },
     "execution_count": 423,
     "metadata": {},
     "output_type": "execute_result"
    }
   ],
   "source": [
    "x_test"
   ]
  },
  {
   "cell_type": "code",
   "execution_count": 424,
   "metadata": {
    "colab": {
     "base_uri": "https://localhost:8080/",
     "height": 35
    },
    "id": "ruqLSKwaZ06X",
    "outputId": "42dd9de3-1395-4349-8ec3-f163ef502a0e"
   },
   "outputs": [
    {
     "data": {
      "text/plain": [
       "(14886, 74)"
      ]
     },
     "execution_count": 424,
     "metadata": {},
     "output_type": "execute_result"
    }
   ],
   "source": [
    "x_test.shape"
   ]
  },
  {
   "cell_type": "code",
   "execution_count": 425,
   "metadata": {
    "colab": {
     "base_uri": "https://localhost:8080/",
     "height": 35
    },
    "id": "fOj5D4GRW7Ac",
    "outputId": "e4223fa4-dd8e-400f-eefc-bbd0178e4d99"
   },
   "outputs": [
    {
     "data": {
      "text/plain": [
       "(14886, 24)"
      ]
     },
     "execution_count": 425,
     "metadata": {},
     "output_type": "execute_result"
    }
   ],
   "source": [
    "y_pred.shape"
   ]
  },
  {
   "cell_type": "code",
   "execution_count": 426,
   "metadata": {
    "colab": {
     "base_uri": "https://localhost:8080/",
     "height": 142
    },
    "id": "Yn9ruPcpOQq0",
    "outputId": "c187ee9b-7905-455c-cee3-fa098f0966e1"
   },
   "outputs": [
    {
     "name": "stdout",
     "output_type": "stream",
     "text": [
      "[[0. 1. 1. ... 1. 1. 0.]\n",
      " [1. 1. 1. ... 1. 1. 0.]\n",
      " [1. 1. 1. ... 1. 1. 0.]\n",
      " ...\n",
      " [1. 1. 1. ... 1. 1. 0.]\n",
      " [1. 1. 1. ... 1. 1. 0.]\n",
      " [1. 1. 1. ... 1. 1. 0.]]\n"
     ]
    }
   ],
   "source": [
    "#round-off the y_pred\n",
    "\n",
    "import numpy as np\n",
    "a_list = np.array(y_pred)\n",
    "y_pred_binary = np.round(a_list)\n",
    "print(y_pred_binary)\n",
    "\n"
   ]
  },
  {
   "cell_type": "code",
   "execution_count": 427,
   "metadata": {
    "colab": {
     "base_uri": "https://localhost:8080/",
     "height": 35
    },
    "id": "zus7h7n3PMDh",
    "outputId": "ce6a354b-6dfa-40b8-c6c3-adead6f2d051"
   },
   "outputs": [
    {
     "data": {
      "text/plain": [
       "(14886, 24)"
      ]
     },
     "execution_count": 427,
     "metadata": {},
     "output_type": "execute_result"
    }
   ],
   "source": [
    "y_pred_binary.shape"
   ]
  },
  {
   "cell_type": "code",
   "execution_count": 428,
   "metadata": {
    "colab": {
     "base_uri": "https://localhost:8080/",
     "height": 142
    },
    "id": "RKVmQiPemWnf",
    "outputId": "8fa5f012-e7b4-4262-e8c9-06ad35d44c13"
   },
   "outputs": [
    {
     "data": {
      "text/plain": [
       "array([[0., 1., 1., ..., 1., 1., 0.],\n",
       "       [1., 1., 1., ..., 1., 1., 0.],\n",
       "       [1., 1., 1., ..., 1., 1., 0.],\n",
       "       ...,\n",
       "       [1., 1., 1., ..., 1., 1., 0.],\n",
       "       [1., 1., 1., ..., 1., 1., 0.],\n",
       "       [1., 1., 1., ..., 1., 1., 0.]], dtype=float32)"
      ]
     },
     "execution_count": 428,
     "metadata": {},
     "output_type": "execute_result"
    }
   ],
   "source": [
    "y_pred_binary"
   ]
  },
  {
   "cell_type": "code",
   "execution_count": 429,
   "metadata": {
    "colab": {
     "base_uri": "https://localhost:8080/",
     "height": 35
    },
    "id": "0Y2CI1jdPzWz",
    "outputId": "7de20c4e-215b-40c2-b415-72ad1edead13"
   },
   "outputs": [
    {
     "data": {
      "text/plain": [
       "14886"
      ]
     },
     "execution_count": 429,
     "metadata": {},
     "output_type": "execute_result"
    }
   ],
   "source": [
    "len(y_pred_binary)"
   ]
  },
  {
   "cell_type": "code",
   "execution_count": 430,
   "metadata": {
    "colab": {
     "base_uri": "https://localhost:8080/",
     "height": 35
    },
    "id": "W0EhQiatZWyj",
    "outputId": "67776725-788b-47d7-a3bd-288348bd211c"
   },
   "outputs": [
    {
     "data": {
      "text/plain": [
       "(74426, 74)"
      ]
     },
     "execution_count": 430,
     "metadata": {},
     "output_type": "execute_result"
    }
   ],
   "source": [
    "inputs.shape"
   ]
  },
  {
   "cell_type": "code",
   "execution_count": 431,
   "metadata": {
    "id": "ZQpsT-B6aMra"
   },
   "outputs": [],
   "source": [
    "x_p = pd.DataFrame(inputs.values)            #Energy price of inputs\n",
    "x_p = x_p.iloc[59540:74425, 28:52]            # Saving the Energy price\n",
    "x_p.index = range(len(x_p))\n",
    "x_p.columns = range(x_p.shape[1])\n",
    "y_test= pd.DataFrame(y_test)\n",
    "\n",
    "y_test = y_test.iloc[0:14885, 0:24]\n",
    "y_test.index = range(len(y_test))\n",
    "y_test.columns = range(y_test.shape[1])\n",
    "\n",
    "y_pred= pd.DataFrame(y_pred_binary)\n",
    "y_pred = y_pred.iloc[0:14885, 0:24]\n",
    "y_pred.index = range(len(y_pred))\n",
    "y_pred.columns = range(y_pred.shape[1])\n",
    "\n",
    "testing = pd.concat([x_p, y_test, y_pred], axis=1)\n",
    "testing.to_excel('testing.xlsx', index = False)"
   ]
  },
  {
   "cell_type": "code",
   "execution_count": 432,
   "metadata": {
    "id": "cmavpKE-GMCX"
   },
   "outputs": [
    {
     "data": {
      "text/html": [
       "<div>\n",
       "<style scoped>\n",
       "    .dataframe tbody tr th:only-of-type {\n",
       "        vertical-align: middle;\n",
       "    }\n",
       "\n",
       "    .dataframe tbody tr th {\n",
       "        vertical-align: top;\n",
       "    }\n",
       "\n",
       "    .dataframe thead th {\n",
       "        text-align: right;\n",
       "    }\n",
       "</style>\n",
       "<table border=\"1\" class=\"dataframe\">\n",
       "  <thead>\n",
       "    <tr style=\"text-align: right;\">\n",
       "      <th></th>\n",
       "      <th>0</th>\n",
       "      <th>1</th>\n",
       "      <th>2</th>\n",
       "      <th>3</th>\n",
       "      <th>4</th>\n",
       "      <th>5</th>\n",
       "      <th>6</th>\n",
       "      <th>7</th>\n",
       "      <th>8</th>\n",
       "      <th>9</th>\n",
       "      <th>...</th>\n",
       "      <th>14</th>\n",
       "      <th>15</th>\n",
       "      <th>16</th>\n",
       "      <th>17</th>\n",
       "      <th>18</th>\n",
       "      <th>19</th>\n",
       "      <th>20</th>\n",
       "      <th>21</th>\n",
       "      <th>22</th>\n",
       "      <th>23</th>\n",
       "    </tr>\n",
       "  </thead>\n",
       "  <tbody>\n",
       "    <tr>\n",
       "      <th>0</th>\n",
       "      <td>3.6326</td>\n",
       "      <td>5.8069</td>\n",
       "      <td>3.0019</td>\n",
       "      <td>1.5783</td>\n",
       "      <td>1.7314</td>\n",
       "      <td>3.6025</td>\n",
       "      <td>5.1182</td>\n",
       "      <td>3.3216</td>\n",
       "      <td>1.6996</td>\n",
       "      <td>1.0348</td>\n",
       "      <td>...</td>\n",
       "      <td>9.5599</td>\n",
       "      <td>4.2947</td>\n",
       "      <td>6.5832</td>\n",
       "      <td>7.8491</td>\n",
       "      <td>7.1081</td>\n",
       "      <td>1.6181</td>\n",
       "      <td>5.3074</td>\n",
       "      <td>3.0692</td>\n",
       "      <td>1.3263</td>\n",
       "      <td>11.0850</td>\n",
       "    </tr>\n",
       "    <tr>\n",
       "      <th>1</th>\n",
       "      <td>9.5032</td>\n",
       "      <td>5.0103</td>\n",
       "      <td>6.6027</td>\n",
       "      <td>8.3939</td>\n",
       "      <td>2.7648</td>\n",
       "      <td>5.9637</td>\n",
       "      <td>7.0756</td>\n",
       "      <td>1.7303</td>\n",
       "      <td>2.4797</td>\n",
       "      <td>5.9867</td>\n",
       "      <td>...</td>\n",
       "      <td>7.0578</td>\n",
       "      <td>9.9972</td>\n",
       "      <td>8.5519</td>\n",
       "      <td>6.4890</td>\n",
       "      <td>3.6238</td>\n",
       "      <td>4.4266</td>\n",
       "      <td>4.9746</td>\n",
       "      <td>4.4291</td>\n",
       "      <td>6.9383</td>\n",
       "      <td>13.7080</td>\n",
       "    </tr>\n",
       "    <tr>\n",
       "      <th>2</th>\n",
       "      <td>2.4294</td>\n",
       "      <td>5.2466</td>\n",
       "      <td>5.8133</td>\n",
       "      <td>2.7695</td>\n",
       "      <td>8.1677</td>\n",
       "      <td>3.8897</td>\n",
       "      <td>5.3848</td>\n",
       "      <td>7.5303</td>\n",
       "      <td>3.7036</td>\n",
       "      <td>9.6154</td>\n",
       "      <td>...</td>\n",
       "      <td>8.6376</td>\n",
       "      <td>6.6296</td>\n",
       "      <td>2.1931</td>\n",
       "      <td>4.5093</td>\n",
       "      <td>6.4682</td>\n",
       "      <td>4.7508</td>\n",
       "      <td>8.9074</td>\n",
       "      <td>1.9463</td>\n",
       "      <td>1.7604</td>\n",
       "      <td>11.1900</td>\n",
       "    </tr>\n",
       "    <tr>\n",
       "      <th>3</th>\n",
       "      <td>9.2096</td>\n",
       "      <td>7.7633</td>\n",
       "      <td>2.2106</td>\n",
       "      <td>8.3099</td>\n",
       "      <td>7.0592</td>\n",
       "      <td>7.6547</td>\n",
       "      <td>6.6063</td>\n",
       "      <td>7.8558</td>\n",
       "      <td>2.9207</td>\n",
       "      <td>7.4149</td>\n",
       "      <td>...</td>\n",
       "      <td>5.5507</td>\n",
       "      <td>3.3456</td>\n",
       "      <td>4.0659</td>\n",
       "      <td>3.4790</td>\n",
       "      <td>3.9620</td>\n",
       "      <td>2.0477</td>\n",
       "      <td>8.0101</td>\n",
       "      <td>9.6982</td>\n",
       "      <td>8.1288</td>\n",
       "      <td>6.8563</td>\n",
       "    </tr>\n",
       "    <tr>\n",
       "      <th>4</th>\n",
       "      <td>4.7836</td>\n",
       "      <td>3.9128</td>\n",
       "      <td>2.2296</td>\n",
       "      <td>5.0696</td>\n",
       "      <td>2.5154</td>\n",
       "      <td>8.7778</td>\n",
       "      <td>9.2439</td>\n",
       "      <td>7.5943</td>\n",
       "      <td>5.2281</td>\n",
       "      <td>4.4468</td>\n",
       "      <td>...</td>\n",
       "      <td>4.6640</td>\n",
       "      <td>5.2678</td>\n",
       "      <td>7.4414</td>\n",
       "      <td>4.8223</td>\n",
       "      <td>8.6576</td>\n",
       "      <td>6.0536</td>\n",
       "      <td>2.1350</td>\n",
       "      <td>4.3222</td>\n",
       "      <td>1.4531</td>\n",
       "      <td>6.9337</td>\n",
       "    </tr>\n",
       "    <tr>\n",
       "      <th>...</th>\n",
       "      <td>...</td>\n",
       "      <td>...</td>\n",
       "      <td>...</td>\n",
       "      <td>...</td>\n",
       "      <td>...</td>\n",
       "      <td>...</td>\n",
       "      <td>...</td>\n",
       "      <td>...</td>\n",
       "      <td>...</td>\n",
       "      <td>...</td>\n",
       "      <td>...</td>\n",
       "      <td>...</td>\n",
       "      <td>...</td>\n",
       "      <td>...</td>\n",
       "      <td>...</td>\n",
       "      <td>...</td>\n",
       "      <td>...</td>\n",
       "      <td>...</td>\n",
       "      <td>...</td>\n",
       "      <td>...</td>\n",
       "      <td>...</td>\n",
       "    </tr>\n",
       "    <tr>\n",
       "      <th>14880</th>\n",
       "      <td>4.1235</td>\n",
       "      <td>3.3649</td>\n",
       "      <td>1.8860</td>\n",
       "      <td>4.6571</td>\n",
       "      <td>8.2290</td>\n",
       "      <td>8.2763</td>\n",
       "      <td>7.3375</td>\n",
       "      <td>6.9166</td>\n",
       "      <td>2.0583</td>\n",
       "      <td>6.0645</td>\n",
       "      <td>...</td>\n",
       "      <td>2.1445</td>\n",
       "      <td>9.5589</td>\n",
       "      <td>6.7887</td>\n",
       "      <td>6.2276</td>\n",
       "      <td>8.6238</td>\n",
       "      <td>4.4963</td>\n",
       "      <td>9.2747</td>\n",
       "      <td>6.9718</td>\n",
       "      <td>7.2127</td>\n",
       "      <td>13.4570</td>\n",
       "    </tr>\n",
       "    <tr>\n",
       "      <th>14881</th>\n",
       "      <td>6.8122</td>\n",
       "      <td>7.1579</td>\n",
       "      <td>6.8076</td>\n",
       "      <td>9.9074</td>\n",
       "      <td>3.6944</td>\n",
       "      <td>8.1458</td>\n",
       "      <td>9.8487</td>\n",
       "      <td>6.2165</td>\n",
       "      <td>1.0721</td>\n",
       "      <td>2.6205</td>\n",
       "      <td>...</td>\n",
       "      <td>2.0505</td>\n",
       "      <td>5.2728</td>\n",
       "      <td>1.0665</td>\n",
       "      <td>3.0569</td>\n",
       "      <td>3.1587</td>\n",
       "      <td>8.9783</td>\n",
       "      <td>1.6981</td>\n",
       "      <td>7.4853</td>\n",
       "      <td>9.4685</td>\n",
       "      <td>15.8370</td>\n",
       "    </tr>\n",
       "    <tr>\n",
       "      <th>14882</th>\n",
       "      <td>3.1373</td>\n",
       "      <td>2.4325</td>\n",
       "      <td>7.9156</td>\n",
       "      <td>4.1203</td>\n",
       "      <td>6.4837</td>\n",
       "      <td>3.1097</td>\n",
       "      <td>1.5720</td>\n",
       "      <td>7.1613</td>\n",
       "      <td>6.4729</td>\n",
       "      <td>7.8417</td>\n",
       "      <td>...</td>\n",
       "      <td>2.8572</td>\n",
       "      <td>4.8224</td>\n",
       "      <td>8.4878</td>\n",
       "      <td>8.9574</td>\n",
       "      <td>5.0764</td>\n",
       "      <td>3.0684</td>\n",
       "      <td>9.9855</td>\n",
       "      <td>1.6962</td>\n",
       "      <td>5.1035</td>\n",
       "      <td>6.7457</td>\n",
       "    </tr>\n",
       "    <tr>\n",
       "      <th>14883</th>\n",
       "      <td>8.7177</td>\n",
       "      <td>9.6307</td>\n",
       "      <td>7.2905</td>\n",
       "      <td>2.7480</td>\n",
       "      <td>2.3167</td>\n",
       "      <td>4.3711</td>\n",
       "      <td>1.5994</td>\n",
       "      <td>9.2815</td>\n",
       "      <td>1.7322</td>\n",
       "      <td>1.9426</td>\n",
       "      <td>...</td>\n",
       "      <td>8.3769</td>\n",
       "      <td>3.6771</td>\n",
       "      <td>2.3431</td>\n",
       "      <td>2.4790</td>\n",
       "      <td>7.6323</td>\n",
       "      <td>6.8877</td>\n",
       "      <td>8.4917</td>\n",
       "      <td>4.5822</td>\n",
       "      <td>8.3017</td>\n",
       "      <td>19.9690</td>\n",
       "    </tr>\n",
       "    <tr>\n",
       "      <th>14884</th>\n",
       "      <td>4.8169</td>\n",
       "      <td>6.5090</td>\n",
       "      <td>7.9724</td>\n",
       "      <td>6.2521</td>\n",
       "      <td>3.5567</td>\n",
       "      <td>7.5597</td>\n",
       "      <td>9.1097</td>\n",
       "      <td>1.6246</td>\n",
       "      <td>7.5928</td>\n",
       "      <td>9.9076</td>\n",
       "      <td>...</td>\n",
       "      <td>5.6008</td>\n",
       "      <td>2.8888</td>\n",
       "      <td>1.6721</td>\n",
       "      <td>2.9616</td>\n",
       "      <td>8.1798</td>\n",
       "      <td>4.9564</td>\n",
       "      <td>8.2356</td>\n",
       "      <td>3.5352</td>\n",
       "      <td>7.2869</td>\n",
       "      <td>8.9300</td>\n",
       "    </tr>\n",
       "  </tbody>\n",
       "</table>\n",
       "<p>14885 rows × 24 columns</p>\n",
       "</div>"
      ],
      "text/plain": [
       "           0       1       2       3       4       5       6       7       8   \\\n",
       "0      3.6326  5.8069  3.0019  1.5783  1.7314  3.6025  5.1182  3.3216  1.6996   \n",
       "1      9.5032  5.0103  6.6027  8.3939  2.7648  5.9637  7.0756  1.7303  2.4797   \n",
       "2      2.4294  5.2466  5.8133  2.7695  8.1677  3.8897  5.3848  7.5303  3.7036   \n",
       "3      9.2096  7.7633  2.2106  8.3099  7.0592  7.6547  6.6063  7.8558  2.9207   \n",
       "4      4.7836  3.9128  2.2296  5.0696  2.5154  8.7778  9.2439  7.5943  5.2281   \n",
       "...       ...     ...     ...     ...     ...     ...     ...     ...     ...   \n",
       "14880  4.1235  3.3649  1.8860  4.6571  8.2290  8.2763  7.3375  6.9166  2.0583   \n",
       "14881  6.8122  7.1579  6.8076  9.9074  3.6944  8.1458  9.8487  6.2165  1.0721   \n",
       "14882  3.1373  2.4325  7.9156  4.1203  6.4837  3.1097  1.5720  7.1613  6.4729   \n",
       "14883  8.7177  9.6307  7.2905  2.7480  2.3167  4.3711  1.5994  9.2815  1.7322   \n",
       "14884  4.8169  6.5090  7.9724  6.2521  3.5567  7.5597  9.1097  1.6246  7.5928   \n",
       "\n",
       "           9   ...      14      15      16      17      18      19      20  \\\n",
       "0      1.0348  ...  9.5599  4.2947  6.5832  7.8491  7.1081  1.6181  5.3074   \n",
       "1      5.9867  ...  7.0578  9.9972  8.5519  6.4890  3.6238  4.4266  4.9746   \n",
       "2      9.6154  ...  8.6376  6.6296  2.1931  4.5093  6.4682  4.7508  8.9074   \n",
       "3      7.4149  ...  5.5507  3.3456  4.0659  3.4790  3.9620  2.0477  8.0101   \n",
       "4      4.4468  ...  4.6640  5.2678  7.4414  4.8223  8.6576  6.0536  2.1350   \n",
       "...       ...  ...     ...     ...     ...     ...     ...     ...     ...   \n",
       "14880  6.0645  ...  2.1445  9.5589  6.7887  6.2276  8.6238  4.4963  9.2747   \n",
       "14881  2.6205  ...  2.0505  5.2728  1.0665  3.0569  3.1587  8.9783  1.6981   \n",
       "14882  7.8417  ...  2.8572  4.8224  8.4878  8.9574  5.0764  3.0684  9.9855   \n",
       "14883  1.9426  ...  8.3769  3.6771  2.3431  2.4790  7.6323  6.8877  8.4917   \n",
       "14884  9.9076  ...  5.6008  2.8888  1.6721  2.9616  8.1798  4.9564  8.2356   \n",
       "\n",
       "           21      22       23  \n",
       "0      3.0692  1.3263  11.0850  \n",
       "1      4.4291  6.9383  13.7080  \n",
       "2      1.9463  1.7604  11.1900  \n",
       "3      9.6982  8.1288   6.8563  \n",
       "4      4.3222  1.4531   6.9337  \n",
       "...       ...     ...      ...  \n",
       "14880  6.9718  7.2127  13.4570  \n",
       "14881  7.4853  9.4685  15.8370  \n",
       "14882  1.6962  5.1035   6.7457  \n",
       "14883  4.5822  8.3017  19.9690  \n",
       "14884  3.5352  7.2869   8.9300  \n",
       "\n",
       "[14885 rows x 24 columns]"
      ]
     },
     "execution_count": 432,
     "metadata": {},
     "output_type": "execute_result"
    }
   ],
   "source": [
    "x_p "
   ]
  },
  {
   "cell_type": "code",
   "execution_count": 433,
   "metadata": {
    "colab": {
     "base_uri": "https://localhost:8080/",
     "height": 35
    },
    "id": "xyk1BSSoH0rR",
    "outputId": "d48b837f-c7db-49ad-ad95-272f34bc8bb2"
   },
   "outputs": [
    {
     "data": {
      "text/html": [
       "<div>\n",
       "<style scoped>\n",
       "    .dataframe tbody tr th:only-of-type {\n",
       "        vertical-align: middle;\n",
       "    }\n",
       "\n",
       "    .dataframe tbody tr th {\n",
       "        vertical-align: top;\n",
       "    }\n",
       "\n",
       "    .dataframe thead th {\n",
       "        text-align: right;\n",
       "    }\n",
       "</style>\n",
       "<table border=\"1\" class=\"dataframe\">\n",
       "  <thead>\n",
       "    <tr style=\"text-align: right;\">\n",
       "      <th></th>\n",
       "      <th>0</th>\n",
       "      <th>1</th>\n",
       "      <th>2</th>\n",
       "      <th>3</th>\n",
       "      <th>4</th>\n",
       "      <th>5</th>\n",
       "      <th>6</th>\n",
       "      <th>7</th>\n",
       "      <th>8</th>\n",
       "      <th>9</th>\n",
       "      <th>...</th>\n",
       "      <th>14</th>\n",
       "      <th>15</th>\n",
       "      <th>16</th>\n",
       "      <th>17</th>\n",
       "      <th>18</th>\n",
       "      <th>19</th>\n",
       "      <th>20</th>\n",
       "      <th>21</th>\n",
       "      <th>22</th>\n",
       "      <th>23</th>\n",
       "    </tr>\n",
       "  </thead>\n",
       "  <tbody>\n",
       "    <tr>\n",
       "      <th>0</th>\n",
       "      <td>3.6326</td>\n",
       "      <td>5.8069</td>\n",
       "      <td>3.0019</td>\n",
       "      <td>1.5783</td>\n",
       "      <td>1.7314</td>\n",
       "      <td>3.6025</td>\n",
       "      <td>5.1182</td>\n",
       "      <td>3.3216</td>\n",
       "      <td>1.6996</td>\n",
       "      <td>1.0348</td>\n",
       "      <td>...</td>\n",
       "      <td>9.5599</td>\n",
       "      <td>4.2947</td>\n",
       "      <td>6.5832</td>\n",
       "      <td>7.8491</td>\n",
       "      <td>7.1081</td>\n",
       "      <td>1.6181</td>\n",
       "      <td>5.3074</td>\n",
       "      <td>3.0692</td>\n",
       "      <td>1.3263</td>\n",
       "      <td>11.0850</td>\n",
       "    </tr>\n",
       "    <tr>\n",
       "      <th>1</th>\n",
       "      <td>9.5032</td>\n",
       "      <td>5.0103</td>\n",
       "      <td>6.6027</td>\n",
       "      <td>8.3939</td>\n",
       "      <td>2.7648</td>\n",
       "      <td>5.9637</td>\n",
       "      <td>7.0756</td>\n",
       "      <td>1.7303</td>\n",
       "      <td>2.4797</td>\n",
       "      <td>5.9867</td>\n",
       "      <td>...</td>\n",
       "      <td>7.0578</td>\n",
       "      <td>9.9972</td>\n",
       "      <td>8.5519</td>\n",
       "      <td>6.4890</td>\n",
       "      <td>3.6238</td>\n",
       "      <td>4.4266</td>\n",
       "      <td>4.9746</td>\n",
       "      <td>4.4291</td>\n",
       "      <td>6.9383</td>\n",
       "      <td>13.7080</td>\n",
       "    </tr>\n",
       "    <tr>\n",
       "      <th>2</th>\n",
       "      <td>2.4294</td>\n",
       "      <td>5.2466</td>\n",
       "      <td>5.8133</td>\n",
       "      <td>2.7695</td>\n",
       "      <td>8.1677</td>\n",
       "      <td>3.8897</td>\n",
       "      <td>5.3848</td>\n",
       "      <td>7.5303</td>\n",
       "      <td>3.7036</td>\n",
       "      <td>9.6154</td>\n",
       "      <td>...</td>\n",
       "      <td>8.6376</td>\n",
       "      <td>6.6296</td>\n",
       "      <td>2.1931</td>\n",
       "      <td>4.5093</td>\n",
       "      <td>6.4682</td>\n",
       "      <td>4.7508</td>\n",
       "      <td>8.9074</td>\n",
       "      <td>1.9463</td>\n",
       "      <td>1.7604</td>\n",
       "      <td>11.1900</td>\n",
       "    </tr>\n",
       "    <tr>\n",
       "      <th>3</th>\n",
       "      <td>9.2096</td>\n",
       "      <td>7.7633</td>\n",
       "      <td>2.2106</td>\n",
       "      <td>8.3099</td>\n",
       "      <td>7.0592</td>\n",
       "      <td>7.6547</td>\n",
       "      <td>6.6063</td>\n",
       "      <td>7.8558</td>\n",
       "      <td>2.9207</td>\n",
       "      <td>7.4149</td>\n",
       "      <td>...</td>\n",
       "      <td>5.5507</td>\n",
       "      <td>3.3456</td>\n",
       "      <td>4.0659</td>\n",
       "      <td>3.4790</td>\n",
       "      <td>3.9620</td>\n",
       "      <td>2.0477</td>\n",
       "      <td>8.0101</td>\n",
       "      <td>9.6982</td>\n",
       "      <td>8.1288</td>\n",
       "      <td>6.8563</td>\n",
       "    </tr>\n",
       "    <tr>\n",
       "      <th>4</th>\n",
       "      <td>4.7836</td>\n",
       "      <td>3.9128</td>\n",
       "      <td>2.2296</td>\n",
       "      <td>5.0696</td>\n",
       "      <td>2.5154</td>\n",
       "      <td>8.7778</td>\n",
       "      <td>9.2439</td>\n",
       "      <td>7.5943</td>\n",
       "      <td>5.2281</td>\n",
       "      <td>4.4468</td>\n",
       "      <td>...</td>\n",
       "      <td>4.6640</td>\n",
       "      <td>5.2678</td>\n",
       "      <td>7.4414</td>\n",
       "      <td>4.8223</td>\n",
       "      <td>8.6576</td>\n",
       "      <td>6.0536</td>\n",
       "      <td>2.1350</td>\n",
       "      <td>4.3222</td>\n",
       "      <td>1.4531</td>\n",
       "      <td>6.9337</td>\n",
       "    </tr>\n",
       "    <tr>\n",
       "      <th>...</th>\n",
       "      <td>...</td>\n",
       "      <td>...</td>\n",
       "      <td>...</td>\n",
       "      <td>...</td>\n",
       "      <td>...</td>\n",
       "      <td>...</td>\n",
       "      <td>...</td>\n",
       "      <td>...</td>\n",
       "      <td>...</td>\n",
       "      <td>...</td>\n",
       "      <td>...</td>\n",
       "      <td>...</td>\n",
       "      <td>...</td>\n",
       "      <td>...</td>\n",
       "      <td>...</td>\n",
       "      <td>...</td>\n",
       "      <td>...</td>\n",
       "      <td>...</td>\n",
       "      <td>...</td>\n",
       "      <td>...</td>\n",
       "      <td>...</td>\n",
       "    </tr>\n",
       "    <tr>\n",
       "      <th>14880</th>\n",
       "      <td>4.1235</td>\n",
       "      <td>3.3649</td>\n",
       "      <td>1.8860</td>\n",
       "      <td>4.6571</td>\n",
       "      <td>8.2290</td>\n",
       "      <td>8.2763</td>\n",
       "      <td>7.3375</td>\n",
       "      <td>6.9166</td>\n",
       "      <td>2.0583</td>\n",
       "      <td>6.0645</td>\n",
       "      <td>...</td>\n",
       "      <td>2.1445</td>\n",
       "      <td>9.5589</td>\n",
       "      <td>6.7887</td>\n",
       "      <td>6.2276</td>\n",
       "      <td>8.6238</td>\n",
       "      <td>4.4963</td>\n",
       "      <td>9.2747</td>\n",
       "      <td>6.9718</td>\n",
       "      <td>7.2127</td>\n",
       "      <td>13.4570</td>\n",
       "    </tr>\n",
       "    <tr>\n",
       "      <th>14881</th>\n",
       "      <td>6.8122</td>\n",
       "      <td>7.1579</td>\n",
       "      <td>6.8076</td>\n",
       "      <td>9.9074</td>\n",
       "      <td>3.6944</td>\n",
       "      <td>8.1458</td>\n",
       "      <td>9.8487</td>\n",
       "      <td>6.2165</td>\n",
       "      <td>1.0721</td>\n",
       "      <td>2.6205</td>\n",
       "      <td>...</td>\n",
       "      <td>2.0505</td>\n",
       "      <td>5.2728</td>\n",
       "      <td>1.0665</td>\n",
       "      <td>3.0569</td>\n",
       "      <td>3.1587</td>\n",
       "      <td>8.9783</td>\n",
       "      <td>1.6981</td>\n",
       "      <td>7.4853</td>\n",
       "      <td>9.4685</td>\n",
       "      <td>15.8370</td>\n",
       "    </tr>\n",
       "    <tr>\n",
       "      <th>14882</th>\n",
       "      <td>3.1373</td>\n",
       "      <td>2.4325</td>\n",
       "      <td>7.9156</td>\n",
       "      <td>4.1203</td>\n",
       "      <td>6.4837</td>\n",
       "      <td>3.1097</td>\n",
       "      <td>1.5720</td>\n",
       "      <td>7.1613</td>\n",
       "      <td>6.4729</td>\n",
       "      <td>7.8417</td>\n",
       "      <td>...</td>\n",
       "      <td>2.8572</td>\n",
       "      <td>4.8224</td>\n",
       "      <td>8.4878</td>\n",
       "      <td>8.9574</td>\n",
       "      <td>5.0764</td>\n",
       "      <td>3.0684</td>\n",
       "      <td>9.9855</td>\n",
       "      <td>1.6962</td>\n",
       "      <td>5.1035</td>\n",
       "      <td>6.7457</td>\n",
       "    </tr>\n",
       "    <tr>\n",
       "      <th>14883</th>\n",
       "      <td>8.7177</td>\n",
       "      <td>9.6307</td>\n",
       "      <td>7.2905</td>\n",
       "      <td>2.7480</td>\n",
       "      <td>2.3167</td>\n",
       "      <td>4.3711</td>\n",
       "      <td>1.5994</td>\n",
       "      <td>9.2815</td>\n",
       "      <td>1.7322</td>\n",
       "      <td>1.9426</td>\n",
       "      <td>...</td>\n",
       "      <td>8.3769</td>\n",
       "      <td>3.6771</td>\n",
       "      <td>2.3431</td>\n",
       "      <td>2.4790</td>\n",
       "      <td>7.6323</td>\n",
       "      <td>6.8877</td>\n",
       "      <td>8.4917</td>\n",
       "      <td>4.5822</td>\n",
       "      <td>8.3017</td>\n",
       "      <td>19.9690</td>\n",
       "    </tr>\n",
       "    <tr>\n",
       "      <th>14884</th>\n",
       "      <td>4.8169</td>\n",
       "      <td>6.5090</td>\n",
       "      <td>7.9724</td>\n",
       "      <td>6.2521</td>\n",
       "      <td>3.5567</td>\n",
       "      <td>7.5597</td>\n",
       "      <td>9.1097</td>\n",
       "      <td>1.6246</td>\n",
       "      <td>7.5928</td>\n",
       "      <td>9.9076</td>\n",
       "      <td>...</td>\n",
       "      <td>5.6008</td>\n",
       "      <td>2.8888</td>\n",
       "      <td>1.6721</td>\n",
       "      <td>2.9616</td>\n",
       "      <td>8.1798</td>\n",
       "      <td>4.9564</td>\n",
       "      <td>8.2356</td>\n",
       "      <td>3.5352</td>\n",
       "      <td>7.2869</td>\n",
       "      <td>8.9300</td>\n",
       "    </tr>\n",
       "  </tbody>\n",
       "</table>\n",
       "<p>14885 rows × 24 columns</p>\n",
       "</div>"
      ],
      "text/plain": [
       "           0       1       2       3       4       5       6       7       8   \\\n",
       "0      3.6326  5.8069  3.0019  1.5783  1.7314  3.6025  5.1182  3.3216  1.6996   \n",
       "1      9.5032  5.0103  6.6027  8.3939  2.7648  5.9637  7.0756  1.7303  2.4797   \n",
       "2      2.4294  5.2466  5.8133  2.7695  8.1677  3.8897  5.3848  7.5303  3.7036   \n",
       "3      9.2096  7.7633  2.2106  8.3099  7.0592  7.6547  6.6063  7.8558  2.9207   \n",
       "4      4.7836  3.9128  2.2296  5.0696  2.5154  8.7778  9.2439  7.5943  5.2281   \n",
       "...       ...     ...     ...     ...     ...     ...     ...     ...     ...   \n",
       "14880  4.1235  3.3649  1.8860  4.6571  8.2290  8.2763  7.3375  6.9166  2.0583   \n",
       "14881  6.8122  7.1579  6.8076  9.9074  3.6944  8.1458  9.8487  6.2165  1.0721   \n",
       "14882  3.1373  2.4325  7.9156  4.1203  6.4837  3.1097  1.5720  7.1613  6.4729   \n",
       "14883  8.7177  9.6307  7.2905  2.7480  2.3167  4.3711  1.5994  9.2815  1.7322   \n",
       "14884  4.8169  6.5090  7.9724  6.2521  3.5567  7.5597  9.1097  1.6246  7.5928   \n",
       "\n",
       "           9   ...      14      15      16      17      18      19      20  \\\n",
       "0      1.0348  ...  9.5599  4.2947  6.5832  7.8491  7.1081  1.6181  5.3074   \n",
       "1      5.9867  ...  7.0578  9.9972  8.5519  6.4890  3.6238  4.4266  4.9746   \n",
       "2      9.6154  ...  8.6376  6.6296  2.1931  4.5093  6.4682  4.7508  8.9074   \n",
       "3      7.4149  ...  5.5507  3.3456  4.0659  3.4790  3.9620  2.0477  8.0101   \n",
       "4      4.4468  ...  4.6640  5.2678  7.4414  4.8223  8.6576  6.0536  2.1350   \n",
       "...       ...  ...     ...     ...     ...     ...     ...     ...     ...   \n",
       "14880  6.0645  ...  2.1445  9.5589  6.7887  6.2276  8.6238  4.4963  9.2747   \n",
       "14881  2.6205  ...  2.0505  5.2728  1.0665  3.0569  3.1587  8.9783  1.6981   \n",
       "14882  7.8417  ...  2.8572  4.8224  8.4878  8.9574  5.0764  3.0684  9.9855   \n",
       "14883  1.9426  ...  8.3769  3.6771  2.3431  2.4790  7.6323  6.8877  8.4917   \n",
       "14884  9.9076  ...  5.6008  2.8888  1.6721  2.9616  8.1798  4.9564  8.2356   \n",
       "\n",
       "           21      22       23  \n",
       "0      3.0692  1.3263  11.0850  \n",
       "1      4.4291  6.9383  13.7080  \n",
       "2      1.9463  1.7604  11.1900  \n",
       "3      9.6982  8.1288   6.8563  \n",
       "4      4.3222  1.4531   6.9337  \n",
       "...       ...     ...      ...  \n",
       "14880  6.9718  7.2127  13.4570  \n",
       "14881  7.4853  9.4685  15.8370  \n",
       "14882  1.6962  5.1035   6.7457  \n",
       "14883  4.5822  8.3017  19.9690  \n",
       "14884  3.5352  7.2869   8.9300  \n",
       "\n",
       "[14885 rows x 24 columns]"
      ]
     },
     "execution_count": 433,
     "metadata": {},
     "output_type": "execute_result"
    }
   ],
   "source": [
    "x_p"
   ]
  },
  {
   "cell_type": "code",
   "execution_count": 434,
   "metadata": {
    "colab": {
     "base_uri": "https://localhost:8080/",
     "height": 35
    },
    "id": "kyDfSEAnHTYC",
    "outputId": "a6daab74-55ac-445e-8835-2a1869120f5f"
   },
   "outputs": [
    {
     "data": {
      "text/plain": [
       "(14885, 24)"
      ]
     },
     "execution_count": 434,
     "metadata": {},
     "output_type": "execute_result"
    }
   ],
   "source": [
    "y_pred.shape\n"
   ]
  },
  {
   "cell_type": "code",
   "execution_count": 435,
   "metadata": {},
   "outputs": [],
   "source": [
    "y_pred = y_pred.T"
   ]
  },
  {
   "cell_type": "code",
   "execution_count": 436,
   "metadata": {},
   "outputs": [
    {
     "data": {
      "text/html": [
       "<div>\n",
       "<style scoped>\n",
       "    .dataframe tbody tr th:only-of-type {\n",
       "        vertical-align: middle;\n",
       "    }\n",
       "\n",
       "    .dataframe tbody tr th {\n",
       "        vertical-align: top;\n",
       "    }\n",
       "\n",
       "    .dataframe thead th {\n",
       "        text-align: right;\n",
       "    }\n",
       "</style>\n",
       "<table border=\"1\" class=\"dataframe\">\n",
       "  <thead>\n",
       "    <tr style=\"text-align: right;\">\n",
       "      <th></th>\n",
       "      <th>0</th>\n",
       "      <th>1</th>\n",
       "      <th>2</th>\n",
       "      <th>3</th>\n",
       "      <th>4</th>\n",
       "      <th>5</th>\n",
       "      <th>6</th>\n",
       "      <th>7</th>\n",
       "      <th>8</th>\n",
       "      <th>9</th>\n",
       "      <th>...</th>\n",
       "      <th>14875</th>\n",
       "      <th>14876</th>\n",
       "      <th>14877</th>\n",
       "      <th>14878</th>\n",
       "      <th>14879</th>\n",
       "      <th>14880</th>\n",
       "      <th>14881</th>\n",
       "      <th>14882</th>\n",
       "      <th>14883</th>\n",
       "      <th>14884</th>\n",
       "    </tr>\n",
       "  </thead>\n",
       "  <tbody>\n",
       "    <tr>\n",
       "      <th>0</th>\n",
       "      <td>0.0</td>\n",
       "      <td>1.0</td>\n",
       "      <td>1.0</td>\n",
       "      <td>-0.0</td>\n",
       "      <td>1.0</td>\n",
       "      <td>-0.0</td>\n",
       "      <td>-0.0</td>\n",
       "      <td>-0.0</td>\n",
       "      <td>1.0</td>\n",
       "      <td>1.0</td>\n",
       "      <td>...</td>\n",
       "      <td>1.0</td>\n",
       "      <td>0.0</td>\n",
       "      <td>0.0</td>\n",
       "      <td>-0.0</td>\n",
       "      <td>-0.0</td>\n",
       "      <td>-0.0</td>\n",
       "      <td>1.0</td>\n",
       "      <td>1.0</td>\n",
       "      <td>1.0</td>\n",
       "      <td>1.0</td>\n",
       "    </tr>\n",
       "    <tr>\n",
       "      <th>1</th>\n",
       "      <td>1.0</td>\n",
       "      <td>1.0</td>\n",
       "      <td>1.0</td>\n",
       "      <td>1.0</td>\n",
       "      <td>1.0</td>\n",
       "      <td>1.0</td>\n",
       "      <td>1.0</td>\n",
       "      <td>1.0</td>\n",
       "      <td>1.0</td>\n",
       "      <td>1.0</td>\n",
       "      <td>...</td>\n",
       "      <td>1.0</td>\n",
       "      <td>1.0</td>\n",
       "      <td>1.0</td>\n",
       "      <td>1.0</td>\n",
       "      <td>1.0</td>\n",
       "      <td>1.0</td>\n",
       "      <td>1.0</td>\n",
       "      <td>1.0</td>\n",
       "      <td>1.0</td>\n",
       "      <td>1.0</td>\n",
       "    </tr>\n",
       "    <tr>\n",
       "      <th>2</th>\n",
       "      <td>1.0</td>\n",
       "      <td>1.0</td>\n",
       "      <td>1.0</td>\n",
       "      <td>1.0</td>\n",
       "      <td>1.0</td>\n",
       "      <td>1.0</td>\n",
       "      <td>1.0</td>\n",
       "      <td>1.0</td>\n",
       "      <td>1.0</td>\n",
       "      <td>1.0</td>\n",
       "      <td>...</td>\n",
       "      <td>1.0</td>\n",
       "      <td>1.0</td>\n",
       "      <td>1.0</td>\n",
       "      <td>1.0</td>\n",
       "      <td>1.0</td>\n",
       "      <td>1.0</td>\n",
       "      <td>1.0</td>\n",
       "      <td>1.0</td>\n",
       "      <td>1.0</td>\n",
       "      <td>1.0</td>\n",
       "    </tr>\n",
       "    <tr>\n",
       "      <th>3</th>\n",
       "      <td>1.0</td>\n",
       "      <td>1.0</td>\n",
       "      <td>1.0</td>\n",
       "      <td>1.0</td>\n",
       "      <td>1.0</td>\n",
       "      <td>1.0</td>\n",
       "      <td>1.0</td>\n",
       "      <td>1.0</td>\n",
       "      <td>1.0</td>\n",
       "      <td>1.0</td>\n",
       "      <td>...</td>\n",
       "      <td>1.0</td>\n",
       "      <td>1.0</td>\n",
       "      <td>1.0</td>\n",
       "      <td>1.0</td>\n",
       "      <td>1.0</td>\n",
       "      <td>1.0</td>\n",
       "      <td>1.0</td>\n",
       "      <td>1.0</td>\n",
       "      <td>1.0</td>\n",
       "      <td>1.0</td>\n",
       "    </tr>\n",
       "    <tr>\n",
       "      <th>4</th>\n",
       "      <td>1.0</td>\n",
       "      <td>1.0</td>\n",
       "      <td>1.0</td>\n",
       "      <td>1.0</td>\n",
       "      <td>1.0</td>\n",
       "      <td>1.0</td>\n",
       "      <td>1.0</td>\n",
       "      <td>1.0</td>\n",
       "      <td>1.0</td>\n",
       "      <td>1.0</td>\n",
       "      <td>...</td>\n",
       "      <td>1.0</td>\n",
       "      <td>1.0</td>\n",
       "      <td>1.0</td>\n",
       "      <td>1.0</td>\n",
       "      <td>1.0</td>\n",
       "      <td>1.0</td>\n",
       "      <td>1.0</td>\n",
       "      <td>1.0</td>\n",
       "      <td>1.0</td>\n",
       "      <td>1.0</td>\n",
       "    </tr>\n",
       "    <tr>\n",
       "      <th>5</th>\n",
       "      <td>1.0</td>\n",
       "      <td>1.0</td>\n",
       "      <td>1.0</td>\n",
       "      <td>1.0</td>\n",
       "      <td>1.0</td>\n",
       "      <td>1.0</td>\n",
       "      <td>1.0</td>\n",
       "      <td>1.0</td>\n",
       "      <td>1.0</td>\n",
       "      <td>1.0</td>\n",
       "      <td>...</td>\n",
       "      <td>1.0</td>\n",
       "      <td>1.0</td>\n",
       "      <td>1.0</td>\n",
       "      <td>1.0</td>\n",
       "      <td>1.0</td>\n",
       "      <td>1.0</td>\n",
       "      <td>1.0</td>\n",
       "      <td>1.0</td>\n",
       "      <td>1.0</td>\n",
       "      <td>1.0</td>\n",
       "    </tr>\n",
       "    <tr>\n",
       "      <th>6</th>\n",
       "      <td>1.0</td>\n",
       "      <td>1.0</td>\n",
       "      <td>1.0</td>\n",
       "      <td>1.0</td>\n",
       "      <td>1.0</td>\n",
       "      <td>1.0</td>\n",
       "      <td>1.0</td>\n",
       "      <td>1.0</td>\n",
       "      <td>1.0</td>\n",
       "      <td>1.0</td>\n",
       "      <td>...</td>\n",
       "      <td>1.0</td>\n",
       "      <td>1.0</td>\n",
       "      <td>1.0</td>\n",
       "      <td>1.0</td>\n",
       "      <td>1.0</td>\n",
       "      <td>1.0</td>\n",
       "      <td>1.0</td>\n",
       "      <td>1.0</td>\n",
       "      <td>1.0</td>\n",
       "      <td>1.0</td>\n",
       "    </tr>\n",
       "    <tr>\n",
       "      <th>7</th>\n",
       "      <td>1.0</td>\n",
       "      <td>1.0</td>\n",
       "      <td>1.0</td>\n",
       "      <td>1.0</td>\n",
       "      <td>1.0</td>\n",
       "      <td>1.0</td>\n",
       "      <td>1.0</td>\n",
       "      <td>1.0</td>\n",
       "      <td>1.0</td>\n",
       "      <td>1.0</td>\n",
       "      <td>...</td>\n",
       "      <td>1.0</td>\n",
       "      <td>1.0</td>\n",
       "      <td>1.0</td>\n",
       "      <td>1.0</td>\n",
       "      <td>1.0</td>\n",
       "      <td>1.0</td>\n",
       "      <td>1.0</td>\n",
       "      <td>1.0</td>\n",
       "      <td>1.0</td>\n",
       "      <td>1.0</td>\n",
       "    </tr>\n",
       "    <tr>\n",
       "      <th>8</th>\n",
       "      <td>1.0</td>\n",
       "      <td>1.0</td>\n",
       "      <td>1.0</td>\n",
       "      <td>1.0</td>\n",
       "      <td>1.0</td>\n",
       "      <td>1.0</td>\n",
       "      <td>1.0</td>\n",
       "      <td>1.0</td>\n",
       "      <td>1.0</td>\n",
       "      <td>1.0</td>\n",
       "      <td>...</td>\n",
       "      <td>1.0</td>\n",
       "      <td>1.0</td>\n",
       "      <td>1.0</td>\n",
       "      <td>1.0</td>\n",
       "      <td>1.0</td>\n",
       "      <td>1.0</td>\n",
       "      <td>1.0</td>\n",
       "      <td>1.0</td>\n",
       "      <td>1.0</td>\n",
       "      <td>1.0</td>\n",
       "    </tr>\n",
       "    <tr>\n",
       "      <th>9</th>\n",
       "      <td>1.0</td>\n",
       "      <td>1.0</td>\n",
       "      <td>1.0</td>\n",
       "      <td>1.0</td>\n",
       "      <td>1.0</td>\n",
       "      <td>1.0</td>\n",
       "      <td>1.0</td>\n",
       "      <td>1.0</td>\n",
       "      <td>1.0</td>\n",
       "      <td>1.0</td>\n",
       "      <td>...</td>\n",
       "      <td>1.0</td>\n",
       "      <td>1.0</td>\n",
       "      <td>1.0</td>\n",
       "      <td>1.0</td>\n",
       "      <td>1.0</td>\n",
       "      <td>1.0</td>\n",
       "      <td>1.0</td>\n",
       "      <td>1.0</td>\n",
       "      <td>1.0</td>\n",
       "      <td>1.0</td>\n",
       "    </tr>\n",
       "    <tr>\n",
       "      <th>10</th>\n",
       "      <td>1.0</td>\n",
       "      <td>1.0</td>\n",
       "      <td>1.0</td>\n",
       "      <td>1.0</td>\n",
       "      <td>1.0</td>\n",
       "      <td>1.0</td>\n",
       "      <td>1.0</td>\n",
       "      <td>1.0</td>\n",
       "      <td>1.0</td>\n",
       "      <td>1.0</td>\n",
       "      <td>...</td>\n",
       "      <td>1.0</td>\n",
       "      <td>1.0</td>\n",
       "      <td>1.0</td>\n",
       "      <td>1.0</td>\n",
       "      <td>1.0</td>\n",
       "      <td>1.0</td>\n",
       "      <td>1.0</td>\n",
       "      <td>1.0</td>\n",
       "      <td>1.0</td>\n",
       "      <td>1.0</td>\n",
       "    </tr>\n",
       "    <tr>\n",
       "      <th>11</th>\n",
       "      <td>1.0</td>\n",
       "      <td>1.0</td>\n",
       "      <td>1.0</td>\n",
       "      <td>1.0</td>\n",
       "      <td>1.0</td>\n",
       "      <td>1.0</td>\n",
       "      <td>1.0</td>\n",
       "      <td>1.0</td>\n",
       "      <td>1.0</td>\n",
       "      <td>1.0</td>\n",
       "      <td>...</td>\n",
       "      <td>1.0</td>\n",
       "      <td>1.0</td>\n",
       "      <td>1.0</td>\n",
       "      <td>1.0</td>\n",
       "      <td>1.0</td>\n",
       "      <td>1.0</td>\n",
       "      <td>1.0</td>\n",
       "      <td>1.0</td>\n",
       "      <td>1.0</td>\n",
       "      <td>1.0</td>\n",
       "    </tr>\n",
       "    <tr>\n",
       "      <th>12</th>\n",
       "      <td>1.0</td>\n",
       "      <td>1.0</td>\n",
       "      <td>1.0</td>\n",
       "      <td>1.0</td>\n",
       "      <td>1.0</td>\n",
       "      <td>1.0</td>\n",
       "      <td>1.0</td>\n",
       "      <td>1.0</td>\n",
       "      <td>1.0</td>\n",
       "      <td>1.0</td>\n",
       "      <td>...</td>\n",
       "      <td>1.0</td>\n",
       "      <td>1.0</td>\n",
       "      <td>1.0</td>\n",
       "      <td>1.0</td>\n",
       "      <td>1.0</td>\n",
       "      <td>1.0</td>\n",
       "      <td>1.0</td>\n",
       "      <td>1.0</td>\n",
       "      <td>1.0</td>\n",
       "      <td>1.0</td>\n",
       "    </tr>\n",
       "    <tr>\n",
       "      <th>13</th>\n",
       "      <td>1.0</td>\n",
       "      <td>1.0</td>\n",
       "      <td>1.0</td>\n",
       "      <td>1.0</td>\n",
       "      <td>1.0</td>\n",
       "      <td>1.0</td>\n",
       "      <td>1.0</td>\n",
       "      <td>1.0</td>\n",
       "      <td>1.0</td>\n",
       "      <td>1.0</td>\n",
       "      <td>...</td>\n",
       "      <td>1.0</td>\n",
       "      <td>1.0</td>\n",
       "      <td>1.0</td>\n",
       "      <td>1.0</td>\n",
       "      <td>1.0</td>\n",
       "      <td>1.0</td>\n",
       "      <td>1.0</td>\n",
       "      <td>1.0</td>\n",
       "      <td>1.0</td>\n",
       "      <td>1.0</td>\n",
       "    </tr>\n",
       "    <tr>\n",
       "      <th>14</th>\n",
       "      <td>1.0</td>\n",
       "      <td>1.0</td>\n",
       "      <td>1.0</td>\n",
       "      <td>1.0</td>\n",
       "      <td>1.0</td>\n",
       "      <td>1.0</td>\n",
       "      <td>1.0</td>\n",
       "      <td>1.0</td>\n",
       "      <td>1.0</td>\n",
       "      <td>1.0</td>\n",
       "      <td>...</td>\n",
       "      <td>1.0</td>\n",
       "      <td>1.0</td>\n",
       "      <td>1.0</td>\n",
       "      <td>1.0</td>\n",
       "      <td>1.0</td>\n",
       "      <td>1.0</td>\n",
       "      <td>1.0</td>\n",
       "      <td>1.0</td>\n",
       "      <td>1.0</td>\n",
       "      <td>1.0</td>\n",
       "    </tr>\n",
       "    <tr>\n",
       "      <th>15</th>\n",
       "      <td>1.0</td>\n",
       "      <td>1.0</td>\n",
       "      <td>1.0</td>\n",
       "      <td>1.0</td>\n",
       "      <td>1.0</td>\n",
       "      <td>1.0</td>\n",
       "      <td>1.0</td>\n",
       "      <td>1.0</td>\n",
       "      <td>1.0</td>\n",
       "      <td>1.0</td>\n",
       "      <td>...</td>\n",
       "      <td>1.0</td>\n",
       "      <td>1.0</td>\n",
       "      <td>1.0</td>\n",
       "      <td>1.0</td>\n",
       "      <td>1.0</td>\n",
       "      <td>1.0</td>\n",
       "      <td>1.0</td>\n",
       "      <td>1.0</td>\n",
       "      <td>1.0</td>\n",
       "      <td>1.0</td>\n",
       "    </tr>\n",
       "    <tr>\n",
       "      <th>16</th>\n",
       "      <td>1.0</td>\n",
       "      <td>1.0</td>\n",
       "      <td>1.0</td>\n",
       "      <td>1.0</td>\n",
       "      <td>1.0</td>\n",
       "      <td>1.0</td>\n",
       "      <td>1.0</td>\n",
       "      <td>1.0</td>\n",
       "      <td>1.0</td>\n",
       "      <td>1.0</td>\n",
       "      <td>...</td>\n",
       "      <td>1.0</td>\n",
       "      <td>1.0</td>\n",
       "      <td>1.0</td>\n",
       "      <td>1.0</td>\n",
       "      <td>1.0</td>\n",
       "      <td>1.0</td>\n",
       "      <td>1.0</td>\n",
       "      <td>1.0</td>\n",
       "      <td>1.0</td>\n",
       "      <td>1.0</td>\n",
       "    </tr>\n",
       "    <tr>\n",
       "      <th>17</th>\n",
       "      <td>1.0</td>\n",
       "      <td>1.0</td>\n",
       "      <td>1.0</td>\n",
       "      <td>1.0</td>\n",
       "      <td>1.0</td>\n",
       "      <td>1.0</td>\n",
       "      <td>1.0</td>\n",
       "      <td>1.0</td>\n",
       "      <td>1.0</td>\n",
       "      <td>1.0</td>\n",
       "      <td>...</td>\n",
       "      <td>1.0</td>\n",
       "      <td>1.0</td>\n",
       "      <td>1.0</td>\n",
       "      <td>1.0</td>\n",
       "      <td>1.0</td>\n",
       "      <td>1.0</td>\n",
       "      <td>1.0</td>\n",
       "      <td>1.0</td>\n",
       "      <td>1.0</td>\n",
       "      <td>1.0</td>\n",
       "    </tr>\n",
       "    <tr>\n",
       "      <th>18</th>\n",
       "      <td>1.0</td>\n",
       "      <td>1.0</td>\n",
       "      <td>1.0</td>\n",
       "      <td>1.0</td>\n",
       "      <td>1.0</td>\n",
       "      <td>1.0</td>\n",
       "      <td>1.0</td>\n",
       "      <td>1.0</td>\n",
       "      <td>1.0</td>\n",
       "      <td>1.0</td>\n",
       "      <td>...</td>\n",
       "      <td>1.0</td>\n",
       "      <td>1.0</td>\n",
       "      <td>1.0</td>\n",
       "      <td>1.0</td>\n",
       "      <td>1.0</td>\n",
       "      <td>1.0</td>\n",
       "      <td>1.0</td>\n",
       "      <td>1.0</td>\n",
       "      <td>1.0</td>\n",
       "      <td>1.0</td>\n",
       "    </tr>\n",
       "    <tr>\n",
       "      <th>19</th>\n",
       "      <td>1.0</td>\n",
       "      <td>1.0</td>\n",
       "      <td>1.0</td>\n",
       "      <td>1.0</td>\n",
       "      <td>1.0</td>\n",
       "      <td>1.0</td>\n",
       "      <td>1.0</td>\n",
       "      <td>1.0</td>\n",
       "      <td>1.0</td>\n",
       "      <td>1.0</td>\n",
       "      <td>...</td>\n",
       "      <td>1.0</td>\n",
       "      <td>1.0</td>\n",
       "      <td>1.0</td>\n",
       "      <td>1.0</td>\n",
       "      <td>1.0</td>\n",
       "      <td>1.0</td>\n",
       "      <td>1.0</td>\n",
       "      <td>1.0</td>\n",
       "      <td>1.0</td>\n",
       "      <td>1.0</td>\n",
       "    </tr>\n",
       "    <tr>\n",
       "      <th>20</th>\n",
       "      <td>1.0</td>\n",
       "      <td>1.0</td>\n",
       "      <td>1.0</td>\n",
       "      <td>0.0</td>\n",
       "      <td>1.0</td>\n",
       "      <td>1.0</td>\n",
       "      <td>1.0</td>\n",
       "      <td>1.0</td>\n",
       "      <td>1.0</td>\n",
       "      <td>1.0</td>\n",
       "      <td>...</td>\n",
       "      <td>1.0</td>\n",
       "      <td>1.0</td>\n",
       "      <td>1.0</td>\n",
       "      <td>1.0</td>\n",
       "      <td>1.0</td>\n",
       "      <td>1.0</td>\n",
       "      <td>1.0</td>\n",
       "      <td>1.0</td>\n",
       "      <td>1.0</td>\n",
       "      <td>1.0</td>\n",
       "    </tr>\n",
       "    <tr>\n",
       "      <th>21</th>\n",
       "      <td>1.0</td>\n",
       "      <td>1.0</td>\n",
       "      <td>1.0</td>\n",
       "      <td>0.0</td>\n",
       "      <td>1.0</td>\n",
       "      <td>1.0</td>\n",
       "      <td>1.0</td>\n",
       "      <td>1.0</td>\n",
       "      <td>1.0</td>\n",
       "      <td>1.0</td>\n",
       "      <td>...</td>\n",
       "      <td>1.0</td>\n",
       "      <td>1.0</td>\n",
       "      <td>1.0</td>\n",
       "      <td>1.0</td>\n",
       "      <td>1.0</td>\n",
       "      <td>0.0</td>\n",
       "      <td>1.0</td>\n",
       "      <td>1.0</td>\n",
       "      <td>1.0</td>\n",
       "      <td>1.0</td>\n",
       "    </tr>\n",
       "    <tr>\n",
       "      <th>22</th>\n",
       "      <td>1.0</td>\n",
       "      <td>1.0</td>\n",
       "      <td>1.0</td>\n",
       "      <td>0.0</td>\n",
       "      <td>1.0</td>\n",
       "      <td>0.0</td>\n",
       "      <td>1.0</td>\n",
       "      <td>0.0</td>\n",
       "      <td>0.0</td>\n",
       "      <td>1.0</td>\n",
       "      <td>...</td>\n",
       "      <td>1.0</td>\n",
       "      <td>1.0</td>\n",
       "      <td>0.0</td>\n",
       "      <td>1.0</td>\n",
       "      <td>-0.0</td>\n",
       "      <td>0.0</td>\n",
       "      <td>0.0</td>\n",
       "      <td>0.0</td>\n",
       "      <td>1.0</td>\n",
       "      <td>1.0</td>\n",
       "    </tr>\n",
       "    <tr>\n",
       "      <th>23</th>\n",
       "      <td>0.0</td>\n",
       "      <td>0.0</td>\n",
       "      <td>0.0</td>\n",
       "      <td>0.0</td>\n",
       "      <td>0.0</td>\n",
       "      <td>0.0</td>\n",
       "      <td>0.0</td>\n",
       "      <td>0.0</td>\n",
       "      <td>0.0</td>\n",
       "      <td>0.0</td>\n",
       "      <td>...</td>\n",
       "      <td>0.0</td>\n",
       "      <td>0.0</td>\n",
       "      <td>0.0</td>\n",
       "      <td>0.0</td>\n",
       "      <td>0.0</td>\n",
       "      <td>0.0</td>\n",
       "      <td>0.0</td>\n",
       "      <td>0.0</td>\n",
       "      <td>0.0</td>\n",
       "      <td>0.0</td>\n",
       "    </tr>\n",
       "  </tbody>\n",
       "</table>\n",
       "<p>24 rows × 14885 columns</p>\n",
       "</div>"
      ],
      "text/plain": [
       "    0      1      2      3      4      5      6      7      8      9      ...  \\\n",
       "0     0.0    1.0    1.0   -0.0    1.0   -0.0   -0.0   -0.0    1.0    1.0  ...   \n",
       "1     1.0    1.0    1.0    1.0    1.0    1.0    1.0    1.0    1.0    1.0  ...   \n",
       "2     1.0    1.0    1.0    1.0    1.0    1.0    1.0    1.0    1.0    1.0  ...   \n",
       "3     1.0    1.0    1.0    1.0    1.0    1.0    1.0    1.0    1.0    1.0  ...   \n",
       "4     1.0    1.0    1.0    1.0    1.0    1.0    1.0    1.0    1.0    1.0  ...   \n",
       "5     1.0    1.0    1.0    1.0    1.0    1.0    1.0    1.0    1.0    1.0  ...   \n",
       "6     1.0    1.0    1.0    1.0    1.0    1.0    1.0    1.0    1.0    1.0  ...   \n",
       "7     1.0    1.0    1.0    1.0    1.0    1.0    1.0    1.0    1.0    1.0  ...   \n",
       "8     1.0    1.0    1.0    1.0    1.0    1.0    1.0    1.0    1.0    1.0  ...   \n",
       "9     1.0    1.0    1.0    1.0    1.0    1.0    1.0    1.0    1.0    1.0  ...   \n",
       "10    1.0    1.0    1.0    1.0    1.0    1.0    1.0    1.0    1.0    1.0  ...   \n",
       "11    1.0    1.0    1.0    1.0    1.0    1.0    1.0    1.0    1.0    1.0  ...   \n",
       "12    1.0    1.0    1.0    1.0    1.0    1.0    1.0    1.0    1.0    1.0  ...   \n",
       "13    1.0    1.0    1.0    1.0    1.0    1.0    1.0    1.0    1.0    1.0  ...   \n",
       "14    1.0    1.0    1.0    1.0    1.0    1.0    1.0    1.0    1.0    1.0  ...   \n",
       "15    1.0    1.0    1.0    1.0    1.0    1.0    1.0    1.0    1.0    1.0  ...   \n",
       "16    1.0    1.0    1.0    1.0    1.0    1.0    1.0    1.0    1.0    1.0  ...   \n",
       "17    1.0    1.0    1.0    1.0    1.0    1.0    1.0    1.0    1.0    1.0  ...   \n",
       "18    1.0    1.0    1.0    1.0    1.0    1.0    1.0    1.0    1.0    1.0  ...   \n",
       "19    1.0    1.0    1.0    1.0    1.0    1.0    1.0    1.0    1.0    1.0  ...   \n",
       "20    1.0    1.0    1.0    0.0    1.0    1.0    1.0    1.0    1.0    1.0  ...   \n",
       "21    1.0    1.0    1.0    0.0    1.0    1.0    1.0    1.0    1.0    1.0  ...   \n",
       "22    1.0    1.0    1.0    0.0    1.0    0.0    1.0    0.0    0.0    1.0  ...   \n",
       "23    0.0    0.0    0.0    0.0    0.0    0.0    0.0    0.0    0.0    0.0  ...   \n",
       "\n",
       "    14875  14876  14877  14878  14879  14880  14881  14882  14883  14884  \n",
       "0     1.0    0.0    0.0   -0.0   -0.0   -0.0    1.0    1.0    1.0    1.0  \n",
       "1     1.0    1.0    1.0    1.0    1.0    1.0    1.0    1.0    1.0    1.0  \n",
       "2     1.0    1.0    1.0    1.0    1.0    1.0    1.0    1.0    1.0    1.0  \n",
       "3     1.0    1.0    1.0    1.0    1.0    1.0    1.0    1.0    1.0    1.0  \n",
       "4     1.0    1.0    1.0    1.0    1.0    1.0    1.0    1.0    1.0    1.0  \n",
       "5     1.0    1.0    1.0    1.0    1.0    1.0    1.0    1.0    1.0    1.0  \n",
       "6     1.0    1.0    1.0    1.0    1.0    1.0    1.0    1.0    1.0    1.0  \n",
       "7     1.0    1.0    1.0    1.0    1.0    1.0    1.0    1.0    1.0    1.0  \n",
       "8     1.0    1.0    1.0    1.0    1.0    1.0    1.0    1.0    1.0    1.0  \n",
       "9     1.0    1.0    1.0    1.0    1.0    1.0    1.0    1.0    1.0    1.0  \n",
       "10    1.0    1.0    1.0    1.0    1.0    1.0    1.0    1.0    1.0    1.0  \n",
       "11    1.0    1.0    1.0    1.0    1.0    1.0    1.0    1.0    1.0    1.0  \n",
       "12    1.0    1.0    1.0    1.0    1.0    1.0    1.0    1.0    1.0    1.0  \n",
       "13    1.0    1.0    1.0    1.0    1.0    1.0    1.0    1.0    1.0    1.0  \n",
       "14    1.0    1.0    1.0    1.0    1.0    1.0    1.0    1.0    1.0    1.0  \n",
       "15    1.0    1.0    1.0    1.0    1.0    1.0    1.0    1.0    1.0    1.0  \n",
       "16    1.0    1.0    1.0    1.0    1.0    1.0    1.0    1.0    1.0    1.0  \n",
       "17    1.0    1.0    1.0    1.0    1.0    1.0    1.0    1.0    1.0    1.0  \n",
       "18    1.0    1.0    1.0    1.0    1.0    1.0    1.0    1.0    1.0    1.0  \n",
       "19    1.0    1.0    1.0    1.0    1.0    1.0    1.0    1.0    1.0    1.0  \n",
       "20    1.0    1.0    1.0    1.0    1.0    1.0    1.0    1.0    1.0    1.0  \n",
       "21    1.0    1.0    1.0    1.0    1.0    0.0    1.0    1.0    1.0    1.0  \n",
       "22    1.0    1.0    0.0    1.0   -0.0    0.0    0.0    0.0    1.0    1.0  \n",
       "23    0.0    0.0    0.0    0.0    0.0    0.0    0.0    0.0    0.0    0.0  \n",
       "\n",
       "[24 rows x 14885 columns]"
      ]
     },
     "execution_count": 436,
     "metadata": {},
     "output_type": "execute_result"
    }
   ],
   "source": [
    "y_pred"
   ]
  },
  {
   "cell_type": "code",
   "execution_count": 437,
   "metadata": {
    "colab": {
     "base_uri": "https://localhost:8080/",
     "height": 427
    },
    "id": "8M0aZBT7HFzP",
    "outputId": "2ae09b1c-2193-41da-e402-43a5475e2eeb"
   },
   "outputs": [
    {
     "ename": "MemoryError",
     "evalue": "Unable to allocate 1.65 GiB for an array with shape (14885, 14885) and data type float64",
     "output_type": "error",
     "traceback": [
      "\u001b[1;31m---------------------------------------------------------------------------\u001b[0m",
      "\u001b[1;31mMemoryError\u001b[0m                               Traceback (most recent call last)",
      "\u001b[1;32m<ipython-input-437-f2ee32d239d4>\u001b[0m in \u001b[0;36m<module>\u001b[1;34m\u001b[0m\n\u001b[1;32m----> 1\u001b[1;33m \u001b[0mresult_predict\u001b[0m \u001b[1;33m=\u001b[0m \u001b[0mx_p\u001b[0m\u001b[1;33m.\u001b[0m\u001b[0mdot\u001b[0m\u001b[1;33m(\u001b[0m\u001b[0my_pred\u001b[0m\u001b[1;33m)\u001b[0m\u001b[1;33m;\u001b[0m\u001b[1;33m\u001b[0m\u001b[1;33m\u001b[0m\u001b[0m\n\u001b[0m\u001b[0;32m      2\u001b[0m \u001b[0mresult_predict\u001b[0m\u001b[1;33m.\u001b[0m\u001b[0mshape\u001b[0m\u001b[1;33m\u001b[0m\u001b[1;33m\u001b[0m\u001b[0m\n",
      "\u001b[1;32m~\\Anaconda3\\lib\\site-packages\\pandas\\core\\frame.py\u001b[0m in \u001b[0;36mdot\u001b[1;34m(self, other)\u001b[0m\n\u001b[0;32m   1138\u001b[0m         \u001b[1;32mif\u001b[0m \u001b[0misinstance\u001b[0m\u001b[1;33m(\u001b[0m\u001b[0mother\u001b[0m\u001b[1;33m,\u001b[0m \u001b[0mDataFrame\u001b[0m\u001b[1;33m)\u001b[0m\u001b[1;33m:\u001b[0m\u001b[1;33m\u001b[0m\u001b[1;33m\u001b[0m\u001b[0m\n\u001b[0;32m   1139\u001b[0m             return self._constructor(\n\u001b[1;32m-> 1140\u001b[1;33m                 \u001b[0mnp\u001b[0m\u001b[1;33m.\u001b[0m\u001b[0mdot\u001b[0m\u001b[1;33m(\u001b[0m\u001b[0mlvals\u001b[0m\u001b[1;33m,\u001b[0m \u001b[0mrvals\u001b[0m\u001b[1;33m)\u001b[0m\u001b[1;33m,\u001b[0m \u001b[0mindex\u001b[0m\u001b[1;33m=\u001b[0m\u001b[0mleft\u001b[0m\u001b[1;33m.\u001b[0m\u001b[0mindex\u001b[0m\u001b[1;33m,\u001b[0m \u001b[0mcolumns\u001b[0m\u001b[1;33m=\u001b[0m\u001b[0mother\u001b[0m\u001b[1;33m.\u001b[0m\u001b[0mcolumns\u001b[0m\u001b[1;33m\u001b[0m\u001b[1;33m\u001b[0m\u001b[0m\n\u001b[0m\u001b[0;32m   1141\u001b[0m             )\n\u001b[0;32m   1142\u001b[0m         \u001b[1;32melif\u001b[0m \u001b[0misinstance\u001b[0m\u001b[1;33m(\u001b[0m\u001b[0mother\u001b[0m\u001b[1;33m,\u001b[0m \u001b[0mSeries\u001b[0m\u001b[1;33m)\u001b[0m\u001b[1;33m:\u001b[0m\u001b[1;33m\u001b[0m\u001b[1;33m\u001b[0m\u001b[0m\n",
      "\u001b[1;32m<__array_function__ internals>\u001b[0m in \u001b[0;36mdot\u001b[1;34m(*args, **kwargs)\u001b[0m\n",
      "\u001b[1;31mMemoryError\u001b[0m: Unable to allocate 1.65 GiB for an array with shape (14885, 14885) and data type float64"
     ]
    }
   ],
   "source": [
    "result_predict = x_p.dot(y_pred);\n",
    "result_predict.shape"
   ]
  },
  {
   "cell_type": "code",
   "execution_count": null,
   "metadata": {},
   "outputs": [],
   "source": [
    "y_test.shape"
   ]
  },
  {
   "cell_type": "code",
   "execution_count": null,
   "metadata": {},
   "outputs": [],
   "source": [
    "y_test = y_test.T"
   ]
  },
  {
   "cell_type": "code",
   "execution_count": null,
   "metadata": {},
   "outputs": [],
   "source": [
    "result_test = x_p.dot(y_test)\n"
   ]
  },
  {
   "cell_type": "code",
   "execution_count": null,
   "metadata": {},
   "outputs": [],
   "source": [
    "result_test.shape"
   ]
  },
  {
   "cell_type": "code",
   "execution_count": null,
   "metadata": {
    "id": "2_iywgm_0Ivw"
   },
   "outputs": [],
   "source": [
    "sub = abs(result_test - result_predict)\n"
   ]
  },
  {
   "cell_type": "code",
   "execution_count": null,
   "metadata": {},
   "outputs": [],
   "source": []
  },
  {
   "cell_type": "code",
   "execution_count": null,
   "metadata": {},
   "outputs": [],
   "source": [
    "sub"
   ]
  },
  {
   "cell_type": "code",
   "execution_count": null,
   "metadata": {},
   "outputs": [],
   "source": [
    "result_test"
   ]
  },
  {
   "cell_type": "code",
   "execution_count": null,
   "metadata": {
    "scrolled": true
   },
   "outputs": [],
   "source": [
    "result_test"
   ]
  },
  {
   "cell_type": "code",
   "execution_count": null,
   "metadata": {
    "id": "LzRbMb3jGQ70"
   },
   "outputs": [],
   "source": [
    " sub = abs(result_test - result_predict)/(result_test)\n",
    " sub"
   ]
  },
  {
   "cell_type": "code",
   "execution_count": null,
   "metadata": {},
   "outputs": [],
   "source": [
    "suboptimality = np.diag(sub)\n",
    "plt.plot(suboptimality[48:72])\n",
    "plt.xlabel('number of components')\n",
    "plt.ylabel('element wise suboptimality')\n",
    "plt.title('F*-F^')\n",
    "plt.axhline(y=0.15, color='r', linestyle='-')"
   ]
  },
  {
   "cell_type": "code",
   "execution_count": null,
   "metadata": {},
   "outputs": [],
   "source": [
    "T = np.mean(suboptimality) #Calculating the suboptimality for T=24 horizon\n",
    "T"
   ]
  },
  {
   "cell_type": "code",
   "execution_count": null,
   "metadata": {},
   "outputs": [],
   "source": []
  },
  {
   "cell_type": "code",
   "execution_count": null,
   "metadata": {},
   "outputs": [],
   "source": []
  }
 ],
 "metadata": {
  "colab": {
   "collapsed_sections": [],
   "name": "FinalCodeDL.ipynb",
   "provenance": [],
   "toc_visible": true
  },
  "kernelspec": {
   "display_name": "Python 3",
   "language": "python",
   "name": "python3"
  },
  "language_info": {
   "codemirror_mode": {
    "name": "ipython",
    "version": 3
   },
   "file_extension": ".py",
   "mimetype": "text/x-python",
   "name": "python",
   "nbconvert_exporter": "python",
   "pygments_lexer": "ipython3",
   "version": "3.7.6"
  }
 },
 "nbformat": 4,
 "nbformat_minor": 1
}
