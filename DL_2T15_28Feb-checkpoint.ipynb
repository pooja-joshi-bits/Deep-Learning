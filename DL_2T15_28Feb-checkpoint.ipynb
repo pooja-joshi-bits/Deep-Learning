{
 "cells": [
  {
   "cell_type": "code",
   "execution_count": 1,
   "metadata": {
    "id": "qLTVIvmEV0bJ"
   },
   "outputs": [
    {
     "name": "stderr",
     "output_type": "stream",
     "text": [
      "Using TensorFlow backend.\n"
     ]
    }
   ],
   "source": [
    "#We are testing a DL model for Mixed integer formulation for Water distribution network.\n",
    "# The input data such as water demand and time-ahead dynamic energy prices are obtained from Singh et al (2019) paper.\n",
    "# We computed the time ahead pump switching using MATALB Gurobi solver\n",
    "# We obtained the time ahead pump switching for 2048 hours (85.33 days)\n",
    "# We train_test the neural network in the ratio of 80-20.\n",
    "# The nn is trained using ReLu and SoftMax (as the output is integer values)\n",
    "\n",
    "#In our  case y is (z)\n",
    "\n",
    "import numpy as np\n",
    "import pandas as pd   #data analysis and manipulation library\n",
    "import seaborn as sns #Python statistical data visualization library.\n",
    "import matplotlib.pyplot as plt\n",
    "from sklearn import model_selection #Tuning the hyperparameters, cross validation, model persistance are the important aspects of this.\n",
    "from sklearn.model_selection import train_test_split #ML library to data analysis\n",
    "from sklearn.metrics import accuracy_score, r2_score\n",
    "import sklearn.metrics as metrics\n",
    "from openpyxl import Workbook, load_workbook\n",
    "from openpyxl.utils.dataframe import dataframe_to_rows\n",
    "\n",
    "\n",
    "from sklearn.decomposition import PCA #dimensionality reduction\n",
    "\n",
    "%matplotlib inline\n",
    "\n",
    "#Libraries for Deep learning framework from Keras\n",
    "\n",
    "import tensorflow as tf\n",
    "from tensorflow.keras.models import Sequential\n",
    "from tensorflow.keras.layers import Dense, Activation\n",
    "from tensorflow.keras.layers import BatchNormalization\n",
    "\n",
    "import keras\n",
    "import keras.utils\n",
    "from keras import utils as np_utils\n",
    "from keras.models import Sequential\n",
    "\n",
    "from tensorflow.keras import layers\n",
    "from tensorflow.keras import utils as np_utils\n",
    "from tensorflow.keras import models \n",
    "from tensorflow.keras.models import Sequential\n",
    "from tensorflow.keras.layers import Activation, LeakyReLU, PReLU, ELU #Import activation functions from keras.layers\n",
    "from tensorflow.keras.layers import Dropout #Import dropout library, the objective of dropout is to prevent overfitting of data, However, we have to be careful while setting the dropout rate.\n",
    "from tensorflow.keras.optimizers import SGD, RMSprop\n",
    "from tensorflow.keras.callbacks import LearningRateScheduler #Learning rate scheduler, Here call back is an object that can perform\n",
    "                                                # at various actions at different stages of training \n",
    "from tensorflow.keras.callbacks import History #We can use the data collected from history to  [accuracy, loss, val_accuracy, val_loss]\n",
    "\n",
    "\n",
    "\n",
    "import io #Deal with various types of input output\n",
    "import os #Talk with os, like changing and modifying dirctories\n",
    "import requests #Allow you to send HTTP/1.1, headers, form data, multipart files r = requests.get(‘https://github.com/timeline.json’)\n",
    "\n",
    "\n",
    "import warnings\n",
    "warnings.simplefilter(action='ignore', category=FutureWarning)\n",
    "warnings.filterwarnings('ignore')\n",
    "warnings.filterwarnings('ignore', category=DeprecationWarning) #Deprecated warning: it is a base category of warning about deprecated features\n",
    "\n",
    "\n",
    "import dill\n",
    "# dill.dump_session('notebook_env.db')\n"
   ]
  },
  {
   "cell_type": "code",
   "execution_count": 2,
   "metadata": {
    "colab": {
     "base_uri": "https://localhost:8080/",
     "height": 35
    },
    "id": "3UAv55q5WBcM",
    "outputId": "3c021aa0-bd4d-494f-f943-eef9218e7517"
   },
   "outputs": [
    {
     "data": {
      "text/plain": [
       "'C:\\\\Users\\\\jyotib18\\\\OneDrive - Universitetet i Agder\\\\Data Files From Rahul'"
      ]
     },
     "execution_count": 2,
     "metadata": {},
     "output_type": "execute_result"
    }
   ],
   "source": [
    "pwd\n"
   ]
  },
  {
   "cell_type": "code",
   "execution_count": 3,
   "metadata": {
    "colab": {
     "base_uri": "https://localhost:8080/",
     "height": 35
    },
    "id": "IpVFTXeQXCXK",
    "outputId": "27426a81-8e08-46b7-8f2c-c8deaf83a9a4"
   },
   "outputs": [
    {
     "data": {
      "text/plain": [
       "(109355, 93)"
      ]
     },
     "execution_count": 3,
     "metadata": {},
     "output_type": "execute_result"
    }
   ],
   "source": [
    "import io\n",
    "#inputs = pd.read_csv(io.BytesIO(uploaded['1.csv']))\n",
    "\n",
    "inputs=pd.read_csv(r'C:\\Users\\jyotib18\\OPS_Data\\2T15in\\Double data\\2T15in.csv')\n",
    "\n",
    "\n",
    "# Dataset is now stored in a Pandas Dataframe\n",
    "inputs.shape"
   ]
  },
  {
   "cell_type": "code",
   "execution_count": 4,
   "metadata": {
    "colab": {
     "base_uri": "https://localhost:8080/",
     "height": 35
    },
    "id": "JJOS8FKYX-NI",
    "outputId": "1b70258b-b9d3-487b-c10f-9a84707063e3"
   },
   "outputs": [
    {
     "data": {
      "text/plain": [
       "pandas.core.frame.DataFrame"
      ]
     },
     "execution_count": 4,
     "metadata": {},
     "output_type": "execute_result"
    }
   ],
   "source": [
    "type(inputs)"
   ]
  },
  {
   "cell_type": "code",
   "execution_count": 5,
   "metadata": {
    "colab": {
     "base_uri": "https://localhost:8080/",
     "height": 267
    },
    "id": "7kjRvcIjYBcE",
    "outputId": "fc4ba7fd-6de7-44fa-fddc-9bbd367a8a2d"
   },
   "outputs": [
    {
     "data": {
      "text/plain": [
       "<bound method NDFrame.head of         71.848   86.75  1  0  1.1  0.1  4  0.2  0.3  0.4  ...  0.86048  \\\n",
       "0       50.552  83.305  0  0    0    1  4    0    1    0  ...  11.7220   \n",
       "1       61.745  42.972  0  0    0    0  4    0    0    0  ...   4.1789   \n",
       "2       75.833  57.996  0  0    1    0  1    0    0    0  ...  13.7010   \n",
       "3       53.737  78.516  0  0    1    0  3    0    0    1  ...   3.0874   \n",
       "4       75.849  60.119  0  0    0    0  4    1    1    0  ...  19.9400   \n",
       "...        ...     ... .. ..  ...  ... ..  ...  ...  ...  ...      ...   \n",
       "109350  90.822  51.947  1  0    1    0  2    0    1    0  ...   1.7475   \n",
       "109351  98.012  60.489  1  0    0    0  5    1    0    1  ...  12.7790   \n",
       "109352  93.404  47.230  0  0    0    1  5    1    1    0  ...   5.1705   \n",
       "109353  93.183  68.686  0  0    1    1  5    0    1    0  ...   4.7674   \n",
       "109354  53.407  62.672  0  0    0    1  1    0    1    0  ...  11.3330   \n",
       "\n",
       "         3.3798    12.982   14.634   12.955   9.0185    10.94   5.9264  \\\n",
       "0        5.2429   0.88908  15.0990   4.8557   8.8480  13.7560   7.1846   \n",
       "1       18.1030  13.50800   9.3694  18.2430   2.0802  14.9110  14.7250   \n",
       "2       11.9590  15.78700   7.3531   4.1206   1.7333  15.4390   4.1135   \n",
       "3        7.6269   3.22270  15.1620  17.4220   7.0155  13.7110   5.8830   \n",
       "4        4.4834  13.04900  12.1000   7.7449   2.8437   0.5027   8.4222   \n",
       "...         ...       ...      ...      ...      ...      ...      ...   \n",
       "109350  17.1880   6.21200  15.6580  15.5110  17.3660   3.8386   6.7195   \n",
       "109351   3.9542  11.98500  19.9540   2.5306  16.0520  16.7390   6.6045   \n",
       "109352  13.2930   3.74960  16.8280  14.2530  15.0690   2.7901   3.5791   \n",
       "109353  17.0380  13.50900   1.5724  10.3200   6.3414   8.6293   2.0324   \n",
       "109354  10.1130   2.20810  19.2870  13.7060   7.8109  17.4510   3.7729   \n",
       "\n",
       "         14.894    3.7791  \n",
       "0       14.7270   7.89410  \n",
       "1       11.2370   3.68390  \n",
       "2        7.7654  11.03600  \n",
       "3       10.6130  16.64800  \n",
       "4        3.6820  14.51600  \n",
       "...         ...       ...  \n",
       "109350  12.2840   6.33590  \n",
       "109351   1.6663   3.11970  \n",
       "109352   3.8214  18.13100  \n",
       "109353   5.0390   5.99490  \n",
       "109354   2.5069   0.48154  \n",
       "\n",
       "[109355 rows x 93 columns]>"
      ]
     },
     "execution_count": 5,
     "metadata": {},
     "output_type": "execute_result"
    }
   ],
   "source": [
    "inputs.head"
   ]
  },
  {
   "cell_type": "code",
   "execution_count": 6,
   "metadata": {
    "colab": {
     "base_uri": "https://localhost:8080/",
     "height": 35
    },
    "id": "3K06d0z3YLHZ",
    "outputId": "2f18508a-5444-4967-a6c7-42e5cfdeb656"
   },
   "outputs": [
    {
     "data": {
      "text/plain": [
       "(109355, 60)"
      ]
     },
     "execution_count": 6,
     "metadata": {},
     "output_type": "execute_result"
    }
   ],
   "source": [
    "import io\n",
    "outputs = pd.read_csv(r'C:\\Users\\jyotib18\\OPS_Data\\2T15in\\Double data\\2T15out.csv')\n",
    "# Dataset is now stored in a Pandas Dataframe\n",
    "outputs.shape"
   ]
  },
  {
   "cell_type": "code",
   "execution_count": 7,
   "metadata": {
    "colab": {
     "base_uri": "https://localhost:8080/",
     "height": 267
    },
    "id": "c_Y34U9Eo9RK",
    "outputId": "a0beb83e-4aeb-4f67-e98b-175ffcb61b9b"
   },
   "outputs": [
    {
     "data": {
      "text/plain": [
       "<bound method NDFrame.head of         1    0  0.1  0.2  0.3  1.1  0.4  0.5  0.6  1.2  ...  0.43  0.44  0.45  \\\n",
       "0       0  0.0  0.0  0.0  0.0  0.0  0.0  0.0  1.0  0.0  ...   0.0   1.0   0.0   \n",
       "1       0  1.0  0.0  0.0  0.0  0.0  1.0  0.0  0.0  0.0  ...   0.0   1.0   0.0   \n",
       "2       0  0.0  0.0  0.0  0.0  1.0  0.0  0.0  0.0  1.0  ...   0.0   0.0   0.0   \n",
       "3       0  0.0  0.0  0.0  0.0  0.0  0.0  0.0  0.0  0.0  ...   0.0   0.0   0.0   \n",
       "4       0  0.0  0.0  0.0  0.0  0.0  1.0  0.0  0.0  0.0  ...   0.0   0.0   0.0   \n",
       "...    ..  ...  ...  ...  ...  ...  ...  ...  ...  ...  ...   ...   ...   ...   \n",
       "109350  1  0.0  0.0  0.0  0.0  0.0  0.0  0.0  1.0  0.0  ...   0.0   0.0   0.0   \n",
       "109351  1  1.0  1.0  1.0  0.0  0.0  0.0  0.0  0.0  0.0  ...   1.0   0.0   1.0   \n",
       "109352  0  0.0  0.0  0.0  0.0  0.0  0.0  0.0  0.0  0.0  ...   0.0   0.0   0.0   \n",
       "109353  0  0.0  0.0  0.0  0.0  0.0  0.0  0.0  1.0  0.0  ...   0.0   0.0   0.0   \n",
       "109354  0  0.0  0.0  1.0  0.0  0.0  0.0  0.0  0.0  0.0  ...   0.0   0.0   0.0   \n",
       "\n",
       "        0.46  0.47  0.48  0.49  0.50  0.51  0.52  \n",
       "0        0.0   0.0   0.0   0.0   0.0   0.0     0  \n",
       "1        0.0   0.0   0.0   0.0   0.0   0.0     0  \n",
       "2        0.0   1.0   0.0   0.0   0.0   0.0     0  \n",
       "3        0.0   0.0   0.0   0.0   0.0   0.0     0  \n",
       "4        0.0   1.0   0.0   0.0   0.0   0.0     0  \n",
       "...      ...   ...   ...   ...   ...   ...   ...  \n",
       "109350   0.0   0.0   0.0   0.0   0.0   0.0     0  \n",
       "109351   1.0   0.0   0.0   0.0   0.0   0.0     0  \n",
       "109352   0.0   0.0   1.0   0.0   0.0   0.0     0  \n",
       "109353   1.0   0.0   0.0   1.0   0.0   0.0     0  \n",
       "109354   0.0   0.0   0.0   0.0   0.0   1.0     0  \n",
       "\n",
       "[109355 rows x 60 columns]>"
      ]
     },
     "execution_count": 7,
     "metadata": {},
     "output_type": "execute_result"
    }
   ],
   "source": [
    "outputs.head"
   ]
  },
  {
   "cell_type": "code",
   "execution_count": 8,
   "metadata": {
    "colab": {
     "base_uri": "https://localhost:8080/",
     "height": 142
    },
    "id": "7Q5rdfEcYUpm",
    "outputId": "e1c8aace-b467-4903-93de-00041281f93e"
   },
   "outputs": [
    {
     "data": {
      "text/plain": [
       "array([[50.552  , 83.305  ,  0.     , ...,  7.1846 , 14.727  ,  7.8941 ],\n",
       "       [61.745  , 42.972  ,  0.     , ..., 14.725  , 11.237  ,  3.6839 ],\n",
       "       [75.833  , 57.996  ,  0.     , ...,  4.1135 ,  7.7654 , 11.036  ],\n",
       "       ...,\n",
       "       [93.404  , 47.23   ,  0.     , ...,  3.5791 ,  3.8214 , 18.131  ],\n",
       "       [93.183  , 68.686  ,  0.     , ...,  2.0324 ,  5.039  ,  5.9949 ],\n",
       "       [53.407  , 62.672  ,  0.     , ...,  3.7729 ,  2.5069 ,  0.48154]])"
      ]
     },
     "execution_count": 8,
     "metadata": {},
     "output_type": "execute_result"
    }
   ],
   "source": [
    "x = inputs.values #converting data frame to array frame\n",
    "x"
   ]
  },
  {
   "cell_type": "code",
   "execution_count": 9,
   "metadata": {
    "colab": {
     "base_uri": "https://localhost:8080/",
     "height": 35
    },
    "id": "u-1JFtEPZMI-",
    "outputId": "1a6530ce-97d3-43c1-e22d-afa1cc4cc523"
   },
   "outputs": [
    {
     "data": {
      "text/plain": [
       "pandas.core.frame.DataFrame"
      ]
     },
     "execution_count": 9,
     "metadata": {},
     "output_type": "execute_result"
    }
   ],
   "source": [
    "type(outputs)"
   ]
  },
  {
   "cell_type": "code",
   "execution_count": 10,
   "metadata": {
    "colab": {
     "base_uri": "https://localhost:8080/",
     "height": 142
    },
    "id": "ftCpb4JaZOCm",
    "outputId": "d1adf403-a25c-406b-af25-602b9fc6363a"
   },
   "outputs": [
    {
     "data": {
      "text/plain": [
       "array([[0., 0., 0., ..., 0., 0., 0.],\n",
       "       [0., 1., 0., ..., 0., 0., 0.],\n",
       "       [0., 0., 0., ..., 0., 0., 0.],\n",
       "       ...,\n",
       "       [0., 0., 0., ..., 0., 0., 0.],\n",
       "       [0., 0., 0., ..., 0., 0., 0.],\n",
       "       [0., 0., 0., ..., 0., 1., 0.]])"
      ]
     },
     "execution_count": 10,
     "metadata": {},
     "output_type": "execute_result"
    }
   ],
   "source": [
    "y = outputs.values # converting dataframe \"outputc\" in array form i.e. 'y' is now in array form \n",
    "y # y is combination of power assignments and channel assignments both."
   ]
  },
  {
   "cell_type": "code",
   "execution_count": 11,
   "metadata": {
    "colab": {
     "base_uri": "https://localhost:8080/",
     "height": 35
    },
    "id": "ChIBpH6HZQxg",
    "outputId": "18f59c85-a710-4dfa-997d-b35308e72991"
   },
   "outputs": [
    {
     "data": {
      "text/plain": [
       "(109355, 60)"
      ]
     },
     "execution_count": 11,
     "metadata": {},
     "output_type": "execute_result"
    }
   ],
   "source": [
    "y.shape"
   ]
  },
  {
   "cell_type": "code",
   "execution_count": 12,
   "metadata": {},
   "outputs": [
    {
     "data": {
      "text/plain": [
       "(109355, 93)"
      ]
     },
     "execution_count": 12,
     "metadata": {},
     "output_type": "execute_result"
    }
   ],
   "source": [
    "x.shape"
   ]
  },
  {
   "cell_type": "code",
   "execution_count": 13,
   "metadata": {
    "colab": {
     "base_uri": "https://localhost:8080/",
     "height": 35
    },
    "id": "abgDkl9qZTMj",
    "outputId": "2d246909-8eff-48b5-f5d5-2a3ac593b867"
   },
   "outputs": [
    {
     "data": {
      "text/plain": [
       "numpy.ndarray"
      ]
     },
     "execution_count": 13,
     "metadata": {},
     "output_type": "execute_result"
    }
   ],
   "source": [
    "type(y)"
   ]
  },
  {
   "cell_type": "code",
   "execution_count": 14,
   "metadata": {
    "colab": {
     "base_uri": "https://localhost:8080/",
     "height": 142
    },
    "id": "feOJ4F4eZVDY",
    "outputId": "50399f6d-8241-46ee-c374-b53b7e17226b"
   },
   "outputs": [],
   "source": [
    "#y[0]"
   ]
  },
  {
   "cell_type": "code",
   "execution_count": 15,
   "metadata": {
    "colab": {
     "base_uri": "https://localhost:8080/",
     "height": 71
    },
    "id": "kL_w5EAOZXE9",
    "outputId": "e61df404-dd57-44dd-ed66-5e1662d55204"
   },
   "outputs": [],
   "source": [
    "#y[0:50, 0] # First row and initial 50 columns of y "
   ]
  },
  {
   "cell_type": "code",
   "execution_count": 16,
   "metadata": {
    "id": "Jt2OQ-dMZZ1x"
   },
   "outputs": [],
   "source": [
    "# Splitting data for training and testing \n",
    "# Here both x and y are in array form (non-scaled)\n",
    "\n",
    "from sklearn.model_selection import train_test_split\n",
    "x_train, x_test, y_train, y_test = train_test_split(x, y, test_size=0.1, shuffle=False, random_state=42) # old\n",
    "#x_train, x_test, y_train, y_test = train_test_split(x, y, test_size=0.2, shuffle=True)"
   ]
  },
  {
   "cell_type": "code",
   "execution_count": 17,
   "metadata": {
    "id": "gBhAhKzuZehe"
   },
   "outputs": [],
   "source": [
    "# Feature Scaling\n",
    "from sklearn.preprocessing import StandardScaler\n",
    "sc = StandardScaler()\n",
    "x_train = sc.fit_transform(x_train)\n",
    "x_test = sc.transform(x_test)"
   ]
  },
  {
   "cell_type": "code",
   "execution_count": 18,
   "metadata": {},
   "outputs": [],
   "source": [
    "#Building neural network\n",
    "\n",
    "\n",
    "model = tf.keras.Sequential()\n",
    "\n",
    "model.add(Dense(20, input_dim=x.shape[1], kernel_initializer='random_normal')) # Input layer and 1st hidden layer\n",
    "model.add(LeakyReLU(alpha=0.1)) # Leaky Relu for 1st hidden layer\n",
    "model.add(BatchNormalization())\n",
    "\n",
    "\n",
    "#model.add(Dense(100,  kernel_initializer='random_normal')) # 2nd Hidden layer\n",
    "#model.add(BatchNormalization())\n",
    "#model.add(LeakyReLU(alpha=0.1)) # Leaky Relu for 2nd hidden layer\n",
    "\n",
    "\n",
    "#model.add(BatchNormalization())\n",
    "\n",
    "model.add(Dense(40, kernel_initializer='random_normal')) # 3rd Hidden layer \n",
    "model.add(LeakyReLU(alpha=0.1)) # Leaky Relu for 3rd hidden layer\n",
    "model.add(BatchNormalization())\n",
    "\n",
    "model.add(Dense(60,  kernel_initializer='random_normal')) # 4th Hidden Layer \n",
    "model.add(LeakyReLU(alpha=0.1)) # Leaky Relu for 4th hidden layer\n",
    "model.add(BatchNormalization())\n",
    "\n",
    "model.add(Dense(80, kernel_initializer='random_normal')) # 5th Hidden Layer\n",
    "model.add(LeakyReLU(alpha=0.1)) # Leaky Relu for 5th hidden layer\n",
    "model.add(BatchNormalization())\n",
    "\n",
    "model.add(Dense(100, kernel_initializer='random_normal')) # 6th Hidden layer\n",
    "model.add(LeakyReLU(alpha=0.1)) # Leaky Relu for 6th hidden layer\n",
    "model.add(BatchNormalization())\n",
    "\n",
    "model.add(Dense(80, kernel_initializer='random_normal')) # 7th Hidden Layer \n",
    "model.add(LeakyReLU(alpha=0.1)) # Leaky Relu for 4th hidden layer\n",
    "model.add(BatchNormalization())\n",
    "\n",
    "\n",
    "model.add(Dense(60, kernel_initializer='random_normal')) # 7th Hidden Layer \n",
    "model.add(LeakyReLU(alpha=0.1)) # Leaky Relu for 4th hidden layer\n",
    "model.add(BatchNormalization())\n",
    "\n",
    "model.add(Dense(40, kernel_initializer='random_normal')) # 7th Hidden Layer \n",
    "model.add(LeakyReLU(alpha=0.1)) # Leaky Relu for 4th hidden layer\n",
    "model.add(BatchNormalization())\n",
    "\n",
    "\n",
    "\n",
    "model.add(Dense(y.shape[1], activation='sigmoid', kernel_initializer='random_normal')) # Output Layer "
   ]
  },
  {
   "cell_type": "code",
   "execution_count": 19,
   "metadata": {},
   "outputs": [
    {
     "data": {
      "text/plain": [
       "93"
      ]
     },
     "execution_count": 19,
     "metadata": {},
     "output_type": "execute_result"
    }
   ],
   "source": [
    "x.shape[1]"
   ]
  },
  {
   "cell_type": "code",
   "execution_count": 20,
   "metadata": {
    "id": "xhwu9nzjaVYA"
   },
   "outputs": [
    {
     "data": {
      "text/plain": [
       "\"\\nfrom tensorflow.keras.callbacks import EarlyStopping\\nbce = tf.keras.losses.BinaryCrossentropy(reduction=tf.keras.losses.Reduction.NONE)\\n\\nmodel.compile(loss=bce, optimizer=keras.optimizers.Adam(), metrics=['accuracy'])\\n\\n#model.compile(optimizer='ADAM', loss= 'mean_squared_error' , metrics = ['accuracy']) \\n\\nmonitor = EarlyStopping(monitor='val_loss', min_delta=0.00001, patience=10, \\n                        verbose=1, mode='max', restore_best_weights=True)\\n\""
      ]
     },
     "execution_count": 20,
     "metadata": {},
     "output_type": "execute_result"
    }
   ],
   "source": [
    "# Compiling Neural network\n",
    "'''\n",
    "from tensorflow.keras.callbacks import EarlyStopping\n",
    "bce = tf.keras.losses.BinaryCrossentropy(reduction=tf.keras.losses.Reduction.NONE)\n",
    "\n",
    "model.compile(loss=bce, optimizer=keras.optimizers.Adam(), metrics=['accuracy'])\n",
    "\n",
    "#model.compile(optimizer='ADAM', loss= 'mean_squared_error' , metrics = ['accuracy']) \n",
    "\n",
    "monitor = EarlyStopping(monitor='val_loss', min_delta=0.00001, patience=10, \n",
    "                        verbose=1, mode='max', restore_best_weights=True)\n",
    "'''"
   ]
  },
  {
   "cell_type": "code",
   "execution_count": 21,
   "metadata": {},
   "outputs": [],
   "source": [
    "from tensorflow.keras.callbacks import LearningRateScheduler\n",
    "lrs = LearningRateScheduler(lambda x: 0.001)"
   ]
  },
  {
   "cell_type": "code",
   "execution_count": 22,
   "metadata": {},
   "outputs": [],
   "source": [
    "from tensorflow.keras.callbacks import EarlyStopping\n",
    "#model.compile(optimizer='adam', loss=tf.keras.losses.BinaryCrossentropy(), metrics = ['mean_absolute_error']) \n",
    "model.compile(optimizer='ADAM', loss='mean_squared_error', metrics = ['mean_absolute_error']) \n",
    "monitor = EarlyStopping(monitor='val_loss', min_delta=0.0001, patience=10, \n",
    "                        verbose=1, mode='auto', restore_best_weights=True)"
   ]
  },
  {
   "cell_type": "code",
   "execution_count": 23,
   "metadata": {
    "colab": {
     "base_uri": "https://localhost:8080/",
     "height": 1000
    },
    "id": "sUm7vYpNaZhk",
    "outputId": "bb1cd85f-4a22-4777-8674-4e053a532b6e"
   },
   "outputs": [
    {
     "name": "stdout",
     "output_type": "stream",
     "text": [
      "Train on 98419 samples, validate on 10936 samples\n",
      "Epoch 1/1000\n",
      "98419/98419 - 4s - loss: 0.1643 - mean_absolute_error: 0.3763 - val_loss: 0.0981 - val_mean_absolute_error: 0.2372\n",
      "Epoch 2/1000\n",
      "98419/98419 - 1s - loss: 0.0724 - mean_absolute_error: 0.1768 - val_loss: 0.0715 - val_mean_absolute_error: 0.1672\n",
      "Epoch 3/1000\n",
      "98419/98419 - 1s - loss: 0.0663 - mean_absolute_error: 0.1479 - val_loss: 0.0646 - val_mean_absolute_error: 0.1375\n",
      "Epoch 4/1000\n",
      "98419/98419 - 1s - loss: 0.0637 - mean_absolute_error: 0.1380 - val_loss: 0.0634 - val_mean_absolute_error: 0.1310\n",
      "Epoch 5/1000\n",
      "98419/98419 - 2s - loss: 0.0622 - mean_absolute_error: 0.1326 - val_loss: 0.0615 - val_mean_absolute_error: 0.1288\n",
      "Epoch 6/1000\n",
      "98419/98419 - 2s - loss: 0.0608 - mean_absolute_error: 0.1288 - val_loss: 0.0601 - val_mean_absolute_error: 0.1236\n",
      "Epoch 7/1000\n",
      "98419/98419 - 1s - loss: 0.0597 - mean_absolute_error: 0.1252 - val_loss: 0.0593 - val_mean_absolute_error: 0.1201\n",
      "Epoch 8/1000\n",
      "98419/98419 - 2s - loss: 0.0590 - mean_absolute_error: 0.1228 - val_loss: 0.0586 - val_mean_absolute_error: 0.1199\n",
      "Epoch 9/1000\n",
      "98419/98419 - 1s - loss: 0.0585 - mean_absolute_error: 0.1213 - val_loss: 0.0580 - val_mean_absolute_error: 0.1200\n",
      "Epoch 10/1000\n",
      "98419/98419 - 1s - loss: 0.0581 - mean_absolute_error: 0.1201 - val_loss: 0.0576 - val_mean_absolute_error: 0.1190\n",
      "Epoch 11/1000\n",
      "98419/98419 - 1s - loss: 0.0576 - mean_absolute_error: 0.1188 - val_loss: 0.0571 - val_mean_absolute_error: 0.1179\n",
      "Epoch 12/1000\n",
      "98419/98419 - 1s - loss: 0.0573 - mean_absolute_error: 0.1178 - val_loss: 0.0569 - val_mean_absolute_error: 0.1157\n",
      "Epoch 13/1000\n",
      "98419/98419 - 1s - loss: 0.0569 - mean_absolute_error: 0.1168 - val_loss: 0.0564 - val_mean_absolute_error: 0.1139\n",
      "Epoch 14/1000\n",
      "98419/98419 - 1s - loss: 0.0564 - mean_absolute_error: 0.1158 - val_loss: 0.0560 - val_mean_absolute_error: 0.1127\n",
      "Epoch 15/1000\n",
      "98419/98419 - 1s - loss: 0.0561 - mean_absolute_error: 0.1150 - val_loss: 0.0560 - val_mean_absolute_error: 0.1115\n",
      "Epoch 16/1000\n",
      "98419/98419 - 1s - loss: 0.0559 - mean_absolute_error: 0.1144 - val_loss: 0.0556 - val_mean_absolute_error: 0.1140\n",
      "Epoch 17/1000\n",
      "98419/98419 - 1s - loss: 0.0557 - mean_absolute_error: 0.1138 - val_loss: 0.0553 - val_mean_absolute_error: 0.1126\n",
      "Epoch 18/1000\n",
      "98419/98419 - 1s - loss: 0.0555 - mean_absolute_error: 0.1133 - val_loss: 0.0552 - val_mean_absolute_error: 0.1126\n",
      "Epoch 19/1000\n",
      "98419/98419 - 1s - loss: 0.0553 - mean_absolute_error: 0.1128 - val_loss: 0.0551 - val_mean_absolute_error: 0.1124\n",
      "Epoch 20/1000\n",
      "98419/98419 - 1s - loss: 0.0552 - mean_absolute_error: 0.1125 - val_loss: 0.0549 - val_mean_absolute_error: 0.1109\n",
      "Epoch 21/1000\n",
      "98419/98419 - 1s - loss: 0.0551 - mean_absolute_error: 0.1121 - val_loss: 0.0549 - val_mean_absolute_error: 0.1107\n",
      "Epoch 22/1000\n",
      "98419/98419 - 1s - loss: 0.0550 - mean_absolute_error: 0.1118 - val_loss: 0.0547 - val_mean_absolute_error: 0.1101\n",
      "Epoch 23/1000\n",
      "98419/98419 - 2s - loss: 0.0549 - mean_absolute_error: 0.1115 - val_loss: 0.0548 - val_mean_absolute_error: 0.1113\n",
      "Epoch 24/1000\n",
      "98419/98419 - 1s - loss: 0.0549 - mean_absolute_error: 0.1113 - val_loss: 0.0548 - val_mean_absolute_error: 0.1117\n",
      "Epoch 25/1000\n",
      "98419/98419 - 1s - loss: 0.0548 - mean_absolute_error: 0.1110 - val_loss: 0.0547 - val_mean_absolute_error: 0.1129\n",
      "Epoch 26/1000\n",
      "98419/98419 - 1s - loss: 0.0547 - mean_absolute_error: 0.1108 - val_loss: 0.0547 - val_mean_absolute_error: 0.1114\n",
      "Epoch 27/1000\n",
      "98419/98419 - 1s - loss: 0.0546 - mean_absolute_error: 0.1106 - val_loss: 0.0546 - val_mean_absolute_error: 0.1100\n",
      "Epoch 28/1000\n",
      "98419/98419 - 1s - loss: 0.0546 - mean_absolute_error: 0.1104 - val_loss: 0.0545 - val_mean_absolute_error: 0.1103\n",
      "Epoch 29/1000\n",
      "98419/98419 - 2s - loss: 0.0545 - mean_absolute_error: 0.1103 - val_loss: 0.0543 - val_mean_absolute_error: 0.1088\n",
      "Epoch 30/1000\n",
      "98419/98419 - 2s - loss: 0.0544 - mean_absolute_error: 0.1100 - val_loss: 0.0543 - val_mean_absolute_error: 0.1077\n",
      "Epoch 31/1000\n",
      "98419/98419 - 2s - loss: 0.0543 - mean_absolute_error: 0.1098 - val_loss: 0.0543 - val_mean_absolute_error: 0.1085\n",
      "Epoch 32/1000\n",
      "98419/98419 - 2s - loss: 0.0542 - mean_absolute_error: 0.1096 - val_loss: 0.0542 - val_mean_absolute_error: 0.1083\n",
      "Epoch 33/1000\n",
      "98419/98419 - 2s - loss: 0.0541 - mean_absolute_error: 0.1094 - val_loss: 0.0541 - val_mean_absolute_error: 0.1080\n",
      "Epoch 34/1000\n",
      "98419/98419 - 1s - loss: 0.0540 - mean_absolute_error: 0.1091 - val_loss: 0.0540 - val_mean_absolute_error: 0.1099\n",
      "Epoch 35/1000\n",
      "98419/98419 - 1s - loss: 0.0540 - mean_absolute_error: 0.1089 - val_loss: 0.0542 - val_mean_absolute_error: 0.1093\n",
      "Epoch 36/1000\n",
      "98419/98419 - 1s - loss: 0.0539 - mean_absolute_error: 0.1087 - val_loss: 0.0539 - val_mean_absolute_error: 0.1092\n",
      "Epoch 37/1000\n",
      "98419/98419 - 1s - loss: 0.0538 - mean_absolute_error: 0.1086 - val_loss: 0.0538 - val_mean_absolute_error: 0.1079\n",
      "Epoch 38/1000\n",
      "98419/98419 - 2s - loss: 0.0537 - mean_absolute_error: 0.1084 - val_loss: 0.0539 - val_mean_absolute_error: 0.1074\n",
      "Epoch 39/1000\n",
      "98419/98419 - 2s - loss: 0.0537 - mean_absolute_error: 0.1082 - val_loss: 0.0538 - val_mean_absolute_error: 0.1093\n",
      "Epoch 40/1000\n",
      "98419/98419 - 1s - loss: 0.0537 - mean_absolute_error: 0.1080 - val_loss: 0.0538 - val_mean_absolute_error: 0.1062\n",
      "Epoch 41/1000\n",
      "98419/98419 - 1s - loss: 0.0536 - mean_absolute_error: 0.1080 - val_loss: 0.0537 - val_mean_absolute_error: 0.1075\n",
      "Epoch 42/1000\n",
      "98419/98419 - 1s - loss: 0.0535 - mean_absolute_error: 0.1078 - val_loss: 0.0537 - val_mean_absolute_error: 0.1065\n",
      "Epoch 43/1000\n",
      "98419/98419 - 1s - loss: 0.0535 - mean_absolute_error: 0.1076 - val_loss: 0.0538 - val_mean_absolute_error: 0.1091\n",
      "Epoch 44/1000\n",
      "98419/98419 - 1s - loss: 0.0534 - mean_absolute_error: 0.1074 - val_loss: 0.0537 - val_mean_absolute_error: 0.1067\n",
      "Epoch 45/1000\n",
      "98419/98419 - 1s - loss: 0.0534 - mean_absolute_error: 0.1073 - val_loss: 0.0538 - val_mean_absolute_error: 0.1063\n",
      "Epoch 46/1000\n",
      "98419/98419 - 1s - loss: 0.0534 - mean_absolute_error: 0.1073 - val_loss: 0.0536 - val_mean_absolute_error: 0.1069\n",
      "Epoch 47/1000\n",
      "98419/98419 - 1s - loss: 0.0533 - mean_absolute_error: 0.1071 - val_loss: 0.0535 - val_mean_absolute_error: 0.1074\n",
      "Epoch 48/1000\n",
      "98419/98419 - 1s - loss: 0.0533 - mean_absolute_error: 0.1070 - val_loss: 0.0535 - val_mean_absolute_error: 0.1053\n",
      "Epoch 49/1000\n",
      "98419/98419 - 1s - loss: 0.0532 - mean_absolute_error: 0.1068 - val_loss: 0.0535 - val_mean_absolute_error: 0.1067\n",
      "Epoch 50/1000\n",
      "98419/98419 - 1s - loss: 0.0532 - mean_absolute_error: 0.1067 - val_loss: 0.0536 - val_mean_absolute_error: 0.1058\n",
      "Epoch 51/1000\n",
      "98419/98419 - 1s - loss: 0.0531 - mean_absolute_error: 0.1066 - val_loss: 0.0535 - val_mean_absolute_error: 0.1084\n",
      "Epoch 52/1000\n",
      "98419/98419 - 1s - loss: 0.0531 - mean_absolute_error: 0.1065 - val_loss: 0.0535 - val_mean_absolute_error: 0.1080\n",
      "Epoch 53/1000\n",
      "98419/98419 - 1s - loss: 0.0530 - mean_absolute_error: 0.1063 - val_loss: 0.0535 - val_mean_absolute_error: 0.1071\n",
      "Epoch 54/1000\n",
      "98419/98419 - 1s - loss: 0.0530 - mean_absolute_error: 0.1063 - val_loss: 0.0535 - val_mean_absolute_error: 0.1065\n",
      "Epoch 55/1000\n",
      "98419/98419 - 2s - loss: 0.0530 - mean_absolute_error: 0.1062 - val_loss: 0.0534 - val_mean_absolute_error: 0.1053\n",
      "Epoch 56/1000\n",
      "98419/98419 - 1s - loss: 0.0529 - mean_absolute_error: 0.1060 - val_loss: 0.0534 - val_mean_absolute_error: 0.1052\n",
      "Epoch 57/1000\n",
      "98419/98419 - 1s - loss: 0.0529 - mean_absolute_error: 0.1059 - val_loss: 0.0533 - val_mean_absolute_error: 0.1056\n",
      "Epoch 58/1000\n",
      "98419/98419 - 1s - loss: 0.0529 - mean_absolute_error: 0.1058 - val_loss: 0.0534 - val_mean_absolute_error: 0.1046\n",
      "Epoch 59/1000\n",
      "98419/98419 - 1s - loss: 0.0528 - mean_absolute_error: 0.1057 - val_loss: 0.0534 - val_mean_absolute_error: 0.1060\n",
      "Epoch 60/1000\n",
      "98419/98419 - 1s - loss: 0.0528 - mean_absolute_error: 0.1056 - val_loss: 0.0533 - val_mean_absolute_error: 0.1059\n",
      "Epoch 61/1000\n",
      "98419/98419 - 1s - loss: 0.0528 - mean_absolute_error: 0.1055 - val_loss: 0.0533 - val_mean_absolute_error: 0.1058\n",
      "Epoch 62/1000\n",
      "98419/98419 - 1s - loss: 0.0527 - mean_absolute_error: 0.1053 - val_loss: 0.0534 - val_mean_absolute_error: 0.1062\n",
      "Epoch 63/1000\n",
      "98419/98419 - 2s - loss: 0.0527 - mean_absolute_error: 0.1053 - val_loss: 0.0533 - val_mean_absolute_error: 0.1056\n",
      "Epoch 64/1000\n",
      "98419/98419 - 2s - loss: 0.0527 - mean_absolute_error: 0.1051 - val_loss: 0.0533 - val_mean_absolute_error: 0.1038\n"
     ]
    },
    {
     "name": "stdout",
     "output_type": "stream",
     "text": [
      "Epoch 65/1000\n",
      "98419/98419 - 1s - loss: 0.0526 - mean_absolute_error: 0.1051 - val_loss: 0.0532 - val_mean_absolute_error: 0.1049\n",
      "Epoch 66/1000\n",
      "98419/98419 - 1s - loss: 0.0526 - mean_absolute_error: 0.1050 - val_loss: 0.0533 - val_mean_absolute_error: 0.1057\n",
      "Epoch 67/1000\n",
      "98419/98419 - 2s - loss: 0.0526 - mean_absolute_error: 0.1049 - val_loss: 0.0534 - val_mean_absolute_error: 0.1074\n",
      "Epoch 68/1000\n",
      "98419/98419 - 1s - loss: 0.0526 - mean_absolute_error: 0.1048 - val_loss: 0.0533 - val_mean_absolute_error: 0.1047\n",
      "Epoch 69/1000\n",
      "98419/98419 - 2s - loss: 0.0525 - mean_absolute_error: 0.1047 - val_loss: 0.0532 - val_mean_absolute_error: 0.1036\n",
      "Epoch 70/1000\n",
      "98419/98419 - 2s - loss: 0.0525 - mean_absolute_error: 0.1046 - val_loss: 0.0533 - val_mean_absolute_error: 0.1082\n",
      "Epoch 71/1000\n",
      "98419/98419 - 1s - loss: 0.0525 - mean_absolute_error: 0.1045 - val_loss: 0.0533 - val_mean_absolute_error: 0.1059\n",
      "Epoch 72/1000\n",
      "98419/98419 - 1s - loss: 0.0525 - mean_absolute_error: 0.1045 - val_loss: 0.0533 - val_mean_absolute_error: 0.1069\n",
      "Epoch 73/1000\n",
      "98419/98419 - 1s - loss: 0.0524 - mean_absolute_error: 0.1043 - val_loss: 0.0532 - val_mean_absolute_error: 0.1028\n",
      "Epoch 74/1000\n",
      "98419/98419 - 1s - loss: 0.0524 - mean_absolute_error: 0.1043 - val_loss: 0.0532 - val_mean_absolute_error: 0.1051\n",
      "Epoch 75/1000\n",
      "98419/98419 - 1s - loss: 0.0524 - mean_absolute_error: 0.1043 - val_loss: 0.0531 - val_mean_absolute_error: 0.1042\n",
      "Epoch 76/1000\n",
      "98419/98419 - 1s - loss: 0.0523 - mean_absolute_error: 0.1041 - val_loss: 0.0531 - val_mean_absolute_error: 0.1047\n",
      "Epoch 77/1000\n",
      "98419/98419 - 2s - loss: 0.0523 - mean_absolute_error: 0.1041 - val_loss: 0.0532 - val_mean_absolute_error: 0.1030\n",
      "Epoch 78/1000\n",
      "98419/98419 - 1s - loss: 0.0523 - mean_absolute_error: 0.1040 - val_loss: 0.0531 - val_mean_absolute_error: 0.1049\n",
      "Epoch 79/1000\n",
      "98419/98419 - 1s - loss: 0.0523 - mean_absolute_error: 0.1039 - val_loss: 0.0531 - val_mean_absolute_error: 0.1049\n",
      "Epoch 80/1000\n",
      "98419/98419 - 1s - loss: 0.0523 - mean_absolute_error: 0.1039 - val_loss: 0.0533 - val_mean_absolute_error: 0.1077\n",
      "Epoch 81/1000\n",
      "98419/98419 - 1s - loss: 0.0522 - mean_absolute_error: 0.1037 - val_loss: 0.0532 - val_mean_absolute_error: 0.1028\n",
      "Epoch 82/1000\n",
      "98419/98419 - 2s - loss: 0.0522 - mean_absolute_error: 0.1037 - val_loss: 0.0531 - val_mean_absolute_error: 0.1036\n",
      "Epoch 83/1000\n",
      "98419/98419 - 1s - loss: 0.0522 - mean_absolute_error: 0.1037 - val_loss: 0.0532 - val_mean_absolute_error: 0.1044\n",
      "Epoch 84/1000\n",
      "Restoring model weights from the end of the best epoch.\n",
      "98419/98419 - 1s - loss: 0.0522 - mean_absolute_error: 0.1036 - val_loss: 0.0531 - val_mean_absolute_error: 0.1055\n",
      "Epoch 00084: early stopping\n"
     ]
    }
   ],
   "source": [
    "# Fitting Neural network to training set\n",
    "\n",
    "model_history=model.fit(x_train, y_train, validation_data=(x_test, y_test), batch_size=512, verbose=2, callbacks=[monitor, lrs], epochs=1000)"
   ]
  },
  {
   "cell_type": "code",
   "execution_count": null,
   "metadata": {},
   "outputs": [],
   "source": []
  },
  {
   "cell_type": "code",
   "execution_count": 24,
   "metadata": {
    "colab": {
     "base_uri": "https://localhost:8080/",
     "height": 142
    },
    "id": "AT8SOvaeap0x",
    "outputId": "c1eec1b2-94c5-4a80-bc87-7ed372b14acf"
   },
   "outputs": [
    {
     "data": {
      "text/plain": [
       "array([[0., 0., 0., ..., 0., 0., 0.],\n",
       "       [0., 1., 0., ..., 0., 0., 0.],\n",
       "       [0., 0., 0., ..., 0., 0., 0.],\n",
       "       ...,\n",
       "       [0., 0., 0., ..., 0., 0., 0.],\n",
       "       [0., 0., 0., ..., 0., 0., 0.],\n",
       "       [0., 0., 0., ..., 0., 0., 0.]])"
      ]
     },
     "execution_count": 24,
     "metadata": {},
     "output_type": "execute_result"
    }
   ],
   "source": [
    "y_train"
   ]
  },
  {
   "cell_type": "code",
   "execution_count": 25,
   "metadata": {},
   "outputs": [
    {
     "data": {
      "text/plain": [
       "array([[0., 0., 0., ..., 0., 0., 0.],\n",
       "       [0., 0., 0., ..., 0., 0., 0.],\n",
       "       [1., 1., 0., ..., 0., 0., 0.],\n",
       "       ...,\n",
       "       [0., 0., 0., ..., 0., 0., 0.],\n",
       "       [0., 0., 0., ..., 0., 0., 0.],\n",
       "       [0., 0., 0., ..., 0., 1., 0.]])"
      ]
     },
     "execution_count": 25,
     "metadata": {},
     "output_type": "execute_result"
    }
   ],
   "source": [
    "y_test = np.asarray(y_test)\n",
    "x_test = np.asarray(x_test)\n",
    "y_test\n"
   ]
  },
  {
   "cell_type": "code",
   "execution_count": 26,
   "metadata": {},
   "outputs": [
    {
     "data": {
      "text/plain": [
       "(10936, 60)"
      ]
     },
     "execution_count": 26,
     "metadata": {},
     "output_type": "execute_result"
    }
   ],
   "source": [
    "y_test.shape"
   ]
  },
  {
   "cell_type": "code",
   "execution_count": 27,
   "metadata": {
    "colab": {
     "base_uri": "https://localhost:8080/",
     "height": 53
    },
    "id": "jnvop5zhare2",
    "outputId": "f9e033be-f657-4367-e93a-750eee9cc444"
   },
   "outputs": [
    {
     "name": "stdout",
     "output_type": "stream",
     "text": [
      "\r",
      "10936/1 [================================================================================================================================================================================================================================================================================================================================================================================================================================================================================================================================================================================================================================================================================================================================================================================================================================================================================================================================================================================================================================================================================================================================================================================================================================================================================================================================================================================================================================================================================================================================================================================================================================================================================================================================================================================================================================================================================================================================================================================================================================================================================================================================================================================================================================================================================================================================================================================================================================================================================================================================================================================================================================================================================================================================================================================================================================================================================================================================================================================================================================================================================================================================================================================================================================================================================================================================================================================================================================================================================================================================================================================================================================================================================================================================================================================================================================================================================================================================================================================================================================================================================================================================================================================================================================================================================================================================================================================================================================================================================================================================================================================================================================================================================================================================================================================================================================================================================================================================================================================================================================================================================================================================================================================================================================================================================================================================================================================================================================================================================================================================================================================================================================================================================================================================================================================================================================================================================================================================================================================================================================================================================================================================================================================================================================================================================================================================================================================================================================================================================================================================================================================================================================================================================================================================================================================================================================================================================================================================================================================================================================================================================================================================================================================================================================================================================================================================================================================================================================================================================================================================================================================================================================================================================================================================================================================================================================================================================================================================================================================================================================================================================================================================================================================================================================================================================================================================================================================================================================================================================================================================================================================================================================================================================================================================================================================================================================================================================================================================================================================================================================================================================================================================================================================================================================================================================================================================================================================================================================================================================================================================================================================================================================================================================================================================================================================================================================================================================================================================================================================================================================================================================================================================================================================================================================================================================================================================================================================================================================================================================================================================================================================================================================================================================================================================================================================================================================================================================================================================================================================================================================================================================================================================================================================================================================================================================================================================================================================================================================================================================================================================================================================================================================================================================================================================================================================================================================================================================================================================================================================================================================================================================================================================================================================================================================================================================================================================================================================================================================================================================================================================================================================================================================================================================================================================================================================================================================================================================================================================================================================================================================================================================================================================================================================================================================================================================================================================================================================================================================================================================================================================================================================================================================================================================================================================================================================================================================================================================================================================================================================================================================================================================================================================================================================================================================================================================================================================================================================================================================================================================================================================================================================================================================================================================================================================================================================================================================================================================================================================================================================================================================================================================================================================================================================================================================================================================================================================================================================================================================================================================================================================================================================================================================================================================================================================================================================================================================================================================================================================================================================================================================================================================================================================================================================================================================================================================================================================================================================================================================================================================================================================================================================================================================================================================================================================================================================================================================================================================================================================================================================================================================================================================================================================================================================================================================================================================================================================================================================================================================================================================================================================================================================================================================================================================================================================================================================================================================================================================================================================================================================================================================================================================================================================================================================================================================================================================================================================================================================================================================================================================================================================================================================================================================================================================================================================================================================================================================================================================================================================================================================================================================================================================================================================================================================================================================================================================================================================================================================================================================================================================================================================================================================================================================================================================================================================================================================================================================================================================================================================================================================================================================================================================================================================================================================================================================================================================================================================================================================================================================================================================================================================================================================================================================================================================================================================================================================================================================================================================================================================================================================================================================================================================================================================================================================================================================================================================================================================================================================================================================================================================================================================================================================================================================================================================================================================================================================================================================================================================================================================================================================================================================================================================================================================================================================================================================================================================================================================================================================================================================================================================================================================================================================================================================================================================================================================================================================================================================================================================================================================================================================================================================================================================================================================================================================================================================================================================================================================================================================================================================================================================================================================================================================================================================================================================================================================================================================================================================================================================================================================================================================================================================================================================================================================================================================================================================================================================================================================================================================================================================================================================================================================================================================================================================================================================================================================================================================================================================================================================================================================================================================================================================================================================================================================================================================================================================================================================================================================================================================================================================================================================================================================================================================================================================================================================================================================================================================================================================================================================================================================================================================================================================================================================================================================================================================================================================================================================================================================================================================================================================================================================================================================================================================================================================================================================================================================================================================================================================================================================================================================================================================================================================================================================================================================================================================================================================================================================================================================================================================================================================================================================================================================================================================================================================================================================================================================================================================================================================================================================================================================================================================================================================================================================================================================================================================================================================================================================================================================================================================================================================================================================================================================================================================================================================================================================================================================================================================================================================================================================================================================================================================================================================================================================================================================================================================================================================================================================================================================================================================================================================================================================================================================================================================================================================================================================================================================================================================================================================================================================================================================================================================================================================================================================================================================================================================================================================================================================================================================================================================================================================================================================================================================================================================================================================================================================================================================================================================================================================================================================================================================================================================================================================================================================================================================================================================================================================================================================================================================================================================================================================================================================================================================================================================================================================================================================================================================================================================================================================================================================================================================================================================================================================================================================================================================================================================================================================================================================================================================================================================================================================================================================================================================================================================================================================================================================================================================================================================================================================================================================================================================================================================================================================================================================================================================================================================================================================================================================================================================================================================================================================================================================================================================================================================================================================================================================================================================================================================================================================================================================================================================================================================================================================================================================================================================================================================================================================================================================================================================================================================================================================================================================================================================================================================================================================================================================================================================================================================================================================================================================================================================================================================================================================================================================================================================================================================================================================================================================================================================================================================================================================================================================================================================================================================================================================================================================================================================================================================================================================================================================================================================================================================================================================================================================================================================================================================================================================================================================================================================================================================================================================================================================================================================================================================================================================================================================================================================================================================================================================================================================================================================================================================================================================================================================================================================================================================================================================================================================================================================================================================================================================================================================================================================================================================================================================================================================================================================================================================================================================================================================================================================================================================================================================================================================================================================================================================================================================================================================================================================================================================================================================================================================================================================================================================================================================================================================================================================================================================================================================================================================================================================================================================================================================================================================================================================================================================================================================================================================================================================================================================================================================================================================================================================================================================================================================================================================================================================================================================================================================================================================================================================================================================================================================================================================================================================================================================================================================================================================================================================================================================================================================================================================================================================================================================================================================================================================================================================================================================================================================================================================================================================================================================================================================================================================================================================================================================================================================================================================================================================================================================================================================================================================================================================================================================================================================================================================================================================================================================================================================================================================================================================================================================================================================================================================================================================================================================================================================================================================================================================================================================================================================================================================================================================================================================================================================================================================================================================================================================================================================================================================================================================================================================================================================================================================================================================================================================================================================================================================================================================================================================================================================================================================================================================================================================================================================================================================================================================================================================================================================================================================================================================================================================================================================================================================================================================================================================================================================================================================================================================================================================================================================================================================================================================================================================================================================================================================================================================================================================================================================================================================================================================================================================================================================================================================================================================================================================================================================================================================================================================================================================================================================================================================================================================================================================================================================================================================================================================================================================================================================================================================================================================================================================================================================================================================================================================================================================================================================================================================================================================================================================================================================================================================================================================================================================================================================================================================================================================================================================================================================================================================================================================================================================================================================================================================================================================================================================================================================================================================================================================================================================================================================================================================================================================================================================================================================================================================================================================================================================================================================================================================================================================================================================================================================================================================================================================================================================================================================================================================================================================================================================================================================================================================================================================================================================================================================================================================================================================================================================================================================================================================================================================================================================================================================================================================================================================================================================================================================================================================================================================================================================================================================================================================================================================================================================================================================================================================================================================================================================================================================================================================================================================================================================================================================================================================================================================================================================================================================================================================================================================================================================================================================================================================================================================================================================================================================================================================================================================================================================================================================================================================================================================================================================================================================================================================================================================================================================================================================================================================================================================================================================================================================================================================================================================================================================================================================================================================================================================================================================================================================================================================================================================================================================================================================================================================================================================================================================================================================================================================================================================================================================================================================================================================================================================================================================================================================================================================================================================================================================================================================================================================================================================================================================================================================================================================================================================================================================================================================================================================================================================================================================================================================================================================================================================================================================================================================================================================================================================================================================================================================================================================================================================================================================================================================================================================================================================================================================================================================================================================================================================================================================================================================================================================================================================================================================================================================================================================================================================================================================================================================================================================================================================================================================================================================================================================================================================================================================================================================================================================================================================================================================================================================================================================================================================================================================================================================================================================================================================================================================================================================================================================================================================================================================================================================================================================================================================================================================================================================================================================================================================================================================================================================================================================================================================================================================================================================================================================================================================================================================================================================================================================================================================================================================================================================================================================================================================================================================================================================================================================================================================================================================================================================================================================================================================================================================================================================================================================================================================================================================================================================================================================================================================================================================================================================================================================================================================================================================================================================================================================================================================================================================================================================================================================================================================================================================================================================================================================================================================================================================================================================================================================================================================================================================================================================================================================================================================================================================================================================================================================================================================================================================================================================================================================================================================================================================================================================================================================================================================================================================================================================================================================================================================================================================================================================================================================================================================================================================================================================================================================================================================================================================================================================================================================================================================================================================================================================================================================================================================================================================================================================================================================================================================================================================================================================================================================================================================================================================================================================================================================================================================================================================================================================================================================================================================================================================================================================================================================================================================================================================================================================================================================================================================================================================================================================================================================================================================================================================================================================================================================================================================================================================================================================================================================================================================================================================================================================================================================================================================================================================================================================================================================================================================================================================================================================================================================================================================================================================================================================================================================================================================================================================================================================================================================================================================================================================================================================================================================================================================================================================================================================================================================================================================================================================================================================================================================================================================================================================================================================================================================================================================================================================================================================================================================================================================================================================================================================================================================================================================================================================================================================================================================================================================================================================================================================================================================================================================================================================================================================================================================================================================================================================================================================================================================================================================================================================================================================================================================================================================================================================================================================================================================================================================================================================================================================================================================================================================================================================================================================================================================================================================================================================================================================================================================================================================================================================================================================================================================================================================================================================================================================================================================================================================================================================================================================================================================================================================================================================================================================================================================================================================================================================================================================================================================================================================================================================================================================================================================================================================================================================================================================================================================================================================================================================================================================================================================================================================================================================================================================================================================================================================================================================================================================================================================================================================================================================================================================================================================================================================================================================================================================================================================================================================================================================================================================================================================================================================================================================================================================================================================================================================================================================================================================================================================================================================================================================================================================================================================================================================================================================================================================================================================================================================================================================================================================================================================================================================================================================================================================================================================================================================================================================================================================================================================================================================================================================================================================================================================================================================================================================================================================================================================================================================================================================================================================================================================================================================================================================================================================================================================================================================================================================================================================================================================================================================================================================================================================================================================================================================================================================================================================================================================================================================================================================================================================================================================================================================================================================================================================================================================================================================================================================================================================================================================================================================================================================================================================================================================================================================================================================================================================================================================================================================================================================================================================================================================================================================================================================================================================================================================================================================================================================================================================================================================================================================================================================================================================================================================================================================================================================================================================================================================================================================================================================================================================================================================================================================================================================================================================================================================================================================================================================================================================================================================================================================================================================================================================================================================================================================================================================================================================================================================================================================================================================================================================================================================================================================================================================================================================================================================================================================================================================================================================================================================================================================================================================================================================================================================================================================================================================================================================================================================================================================================================================================================================================================================================================================================================================================================================================================================================================================================================================================================================================================================================================================================================================================================================================================================================================================================================================================================================================================================================================================================================================================================================================================================================================================================================================================================================================================================================================================================================================================================================================================================================================================================================================================================================================================================================================================================================================================================================================================================================================================================================================================================================================================================================================================================================================================================================================================================================================================================================================================================================================================================================================================================================================================================================================================================================================================================================================================================================================================================================================================================================================================================================================================================================================================================================================================================================================================================================================================================================================================================================================================================================================================================================================================================================================================================================================================================================================================================================================================================================================================================================================================================================================================================================================================================================================================================================================================================================================================================================================================================================================================================================================================================================================================================================================================================================================================================================================================================================================================================================================================================================================================================================================================================================================================================================================================================================================================================================================================================================================================================================================================================================================================================================================================================================================================================================================================================================================================================================================================================================================================================================================================================================================================================================================================================================================================================================================================================================================================================================================================================================================================================================================================================================================================================================================================================================================================================================================================================================================================================================================================================================================================================================================================================================================================================================================================================================================================================================================================================================================================================================================================================================================================================================================================================================================================================================================================================================================================================================================================================================================================================================================================================================================================================================================================================================================================================================================================================================================================================================================================================================================================================================================================================================================================================================================================================================================================================================================================================================================================================================================================================================================================================================================================================================================================================================================================================================================================================================================================================================================================================================================================================================================================================================================================================================================================================================================================================================================================================================================================================================================================================================================================================================================================================================================================================================================================================================================================================================================================================================================================================================================================================================================================================================================================================================================================================================================================================================================================================================================================================================================================================================================================================================================================================================================================================================================================================================================================================================================================================================================================================================================================================================================================================================================================================================================================================================================================================================================================================================================================================================================================================================================================================================================================================================================================================================================================================================================================================================================================================================================================================================================================================================================================================================================================================================================================================================================================================================================================================================================================================================================================================================================================================================================================================================================================================================================================================================================================================================================================================================================================================================================================================================================================================================================================================================================================================================================================================================================================================================================================================================================================================================================================================================================================================================================================================================================================================================================================================================================================================================================================================================================================================================================================================================================================================================================================================================================================================================================================================================================================================================================================================================================================================================================================================================================================================================================================================================================================================================================================================================================================================================================================================================================================================================================================================================================================================================================================================================================================================================================================================================================================================================================================================================================================================================================================================================================================================================================================================================================================================================================================================================================================================================================================================================================================================================================================================================================================================================================================================================================================================================================================================================================================================================================================================================================================================================================================================================================================================================================================================================================================================================================================================================================================================================================================================================================================================================================================================================================================================================================================================================================================================================================================================================================================================================================================================================================================================================================================================================================================================================================================================================================================================================================================================================================================================================================================================================================================================================================================================================================================================================================================================================================================================================================================================================================================================================================================================================================================================================================================================================================================================================================================================================================================================================================================================================================================================================================================================================================================================================================================================================================================================================================================================================================================================================================================================================================================================================================================================================================================================================================================================================================================================================================================================================================================================================================================================================================================================================================================================================================================================================================================================================================================================================================================================================================================================================================================================================================================================================================================================================================================================================================================================================================================================================================================================================================================================================================================================================================================================================================================================================================================================================================================================================================================================================================================================================================================================================================================================================================================================================================================================================================================================================================================================================================================================================================================================================================================================================================================================================================================================================================================================================================================================================================================================================================================================================================================================================================================================================================================================================================================================================================================================================================================================================================================================================================================================================================================================================================================================================================================================================================================================================================================================================================================================================================================================================================================================================================================================================================================================================================================================================================================================================================================================================================================================================================================================================================================================================================================================================================================================================================================================================================================================================================================================================================================================================================================================================================================================================================================================================================================================================================================================================================================================================================================================================================================================================================================================================================================================================================================================================================================================================================================================================================================================================================================================================================================================================================================================================================================================================================================================================================================================================================================================================================================================================================================================================================================================================================================================================================================================================================================================================================================================================================================================================================================================================================================================================================================================================================================================================================================================================================================================================================================================================================================================================================================================================================================================================================================================================================================================================================================================================================================================================================================================================================================================================================================================================================================================================================================================================================================================================================================================================================================================================================================================================================================================================================================================================================================================================================================================================================================================================================================================================================================================================================================================================================================================================================================================================================================================================================================================================================================================================================================================================================================================================================================================================================================================================================================================================================================================================================================================================================================================================================================================================================================================================================================================================================================================================================================================================================================================================================================================================================================================================================================================================================================================================================================================================================================================================================================================================================================================================================================================================================================================================================================================================================================================================================================================================================================================================================================================================================================================================================================================================================================================================================================================================================================================================================================================================================================================================================================================================================================================================================================================================================================================================================================================================================================================================================================================================================================================================================================================================================================================================================================================================================================================================================================================================================================================================================================================================================================================================================================================================================================================================================================================================================================================================================================================================================================================================================================================================================================================================================================================================================================================================================================================================================================================================================================================================================================================================================================================================================================================================================================================================================================================================================================================================================================================================================================================================================================================================================================================================================================================================================================================================================================================================================================================================================================================================================================================================================================================================================================================================================================================================================================================================================================================================================================================================================================================================================================================================================================================================================================================================================================================================================================================================================================================================================================================================================================================================================================================================================================================================================================================================================================================================================================================================================================================================================================================================================================================================================================================================================================================================================================================================================================================================================================================================================================================================================================================================================================================================================================================================================================================================================================================================================================================================================================================================================================================================================================================================================================================================================================================================================================================================================================================================================================================================================================================================================================================================================================================================================================================================================================================================================================================================================================================================================================================================================================================================================================================================================================================================================================================================================================================================================================================================================================================================================================================================================================================================================================================================================================================================================================================================================================================================================================================================================================================================================================================================================================================================================================================================================================================================================================================================================================================================================================================================================================================================================================================================================================================================================================================================================================================================================================================================================================================================================================================================================================================================================================================================================================================================================================================================================================================================================================================================================================================================================================================================================================================================================================================================================================================================================================================================================================================================================================================================================================================================================================================================================================================================================================================================================================================================================================================================================================================================================================================================================================================================================================================================================================================================================================================================================================================================================================================================================================================================================================================================================================================================================================================================================================================================================================================================================================================================================================================================================================================================================================================================================================================================================================================================================================================================================================================================================================================================================================================================================================================================================================================================================================================================================================================================================================================================================================================================================================================================================================================================================================================================================================================================================================================================================================================================================================================================================================================================================================================================================================================================================================================================================================================================================================================================================================================================================================================================================================================================================================================================================================================================================================================================================================================================================================================================================================================================================================================================================================================================================================================================================================================================================================================================================================================================================================================================================================================================================================================================================================================================================================================================================================================================================================================================================================================================================================================================================================================================================================================================================================================================================================================================================================================================================================================================================================================================================================================================================================================================================================================================================================================================================================================================================================================================================================================================================================================================================================================================================================================================================================================================================================================================================================================================================================================================================================================================================================================================================================================================================================================================================================================================================================================================================================================================================================================================================================================================================================================================================================================================================================================================================================================================================================================================================================================================================================================================================================================================================================================================================================================================================================================================================================================================================================================================================================================================================================================================================================================================================================================================================================================================================================================================================================================================================================================================================================================================================================================================================================================================================================================================================================================================================================================================================================================================================================================================================================================================================================================================================================================================================================================================================================================================================================================================================================================================================================================================================================================================================================================================================================================================================================================================================================================================================================================================================================================================================================================================================================================================================================================================================================================================================================================================================================================================================================================================================================================================================================================================================================================================================================================================================================================================================================================================================================================================================================================================================================================================================================================================================================================================================================================================================================================================================================================================================================================================================================================================================================================================================================================================================================================================================================================================================================================================================================================================================================================================================================================================================================================================================================================================================================================================================================================================================================================================================================================================================================================================================================================================================================================================================================================================================================================================================================================================================================================================================================================================================================================================================================================================================================================================================================================================================================================================================================================================================================================================================================================================================================================================================================================================================================================================================================================================================================================================================================================================================================================================================================================================================================================================================================================================================================================================================================================================================================================================================================================================================================================================================================================================================================================================================================================================================================================================================================================================================================================================================================================================================================================================================================================================================================================================================================================================================================================================================================================================================================================================================================================================================================================================================================================================================================================================================================================================================================================================================================================================================================================================================================================================================================================================================================================================================================================================================================================================================================================================================================================================================================================================================================================================================================================================================================================================================================================================================================================================================================================================================================================================================================================================================================================================================================================================================================================================================================================================================================================================================================================================================================================================================================================================================================================================================================================================================================================================================================================================================================================================================================================================================================================================================================================================================================================================================================================================================================================================================================================================================================================================================================================================================================================================================================================================================================================================================================================================================================================================================================================================================================================================================================================================================================================================================================================================================================================================================================================================================================================================================================================================================================================================================================================================================================================================================================================================================================================================================================================================================================================================================================================================================================================================================================================================================================================================================================================================================================================================================================================================================================================================================================================================================================================================================================================================================================================================================================================================================================================================================================================================================================================================================================================================================================================================================================================================================================================================================================================================================================================================================================================================================================================================================================================================================================================================================================================================================================================================================================================================================================================================================================================================================================================================================================================================================================================================================================================================================================================================================================================================================================================================================================================================================================================================================================================================================================================================================================================================================================================================================================================================================================================================================================================================================================================================================================================================================================================================================================================================================================================================================================================================================================================================================================================================================================================================================================================================================================================================================================================================================================================================================================================================================================================================================================================================================================================================================================================================================================================================================================================================================================================================================================================================================================================================================================================================================================================================================================================================================================================================================================================================================================================================================================================================================================================================================================================================================================================================================================================================================================================================================================================================================================================================================================================================================================================================================================================================================================================================================================================================================================================================================================================================================================================================================================================================================================================================================================================================================================================================================================================================================================================================================================================================================================================================================================================================================================================================================================================================================================================================================================================================================================================================================================================================================================================================================================================================================================================================================================================================================================================================================================================================================================================================================================================================================================================================================================================================================================================================================================================================================================================================================================================================================================================================================================================================================================================================================================================================================================================================================================================================================================================================================================================================================================================================================================================================================================================================================================================================================================================================================================================================================================================================================================================================================================================================================================================================================================================================================================================================================================================================================================================================================================================================================================================================================================================================================================================================================================================================================================================================================================================================================================================================================================================================================================================================================================================================================================================================================================================================================================================================================================================================================================================================================================================================================================================================================================================================================================================================================================================================================================================================================================================================================================================================================================================================================================================================================================================================================================================================================================================================================================================================================================================================================================================================================================================================================================================================================================================================================================================================================================================================================================================================================================================================================================================================================================================================================================================================================================================================================================================================================================================================================================================================================================================================================================================================================================================================================================================================================================================================================================================================================================================================================================================================================================================================================================================================================================================================================================================================================================================================================================================================================================================================================================================================================================================================================================================================================================================================================================================================================================================================================================================================================================================================================================================================================================================================================================================================================================================================================================================================================================================================================================================================================================================================================================================================================================================================================================================================================================================================================================================================================================================================================================================================================================================================================================================================================================================================================================================================================================================================================================================================================================================================================================================================================================================================================================================================================================================================================================================================================================================================================================================================================================================================================================================================================================================================================================================================================================================================================================================================================================================================================================================================================================================================================================================================================================================================================================================================================================================================================================================================================================================================================================================================================================================================================================================================================================================================================================================================================================================================================================================================================================================================================================================================================================================================================================================================================================================================================================================================================================================================================================================================================================================================================================================================================================================================================================================================================================================================================================================================================================================================================================================================================================================================================================================================================================================================================================================================================================================================================================================================================================================================================================================================================================================================================================================================================================================================================================================================================================================================================================================================================================================================================================================================================================================================================================================================================================================================================================================================================================================================================================================================================================================================================================================================================================================================================================================================================================================================================================================================================================================================================================================================================================================================================================================================================================================================================================================================================================================================================================================================================================================================================================================================================================================================================================================================================================================================================================================================================================================================================================================================================================================================================================================================================================================================================================================================================================================================================================================================================================================================================================================================================================================================================================================================================================================================================================================================================================================================================================================================================================================================================================================================================================================================================================================================================================================================================================================================================================================================================================================================================================================================================================================================================================================================================================================================================================================================================================================================================================================================================================================================================================================================================================================================================================================================================================================================================================================================================================================================================================================================================================================================================================================================================================================================================================================================================================================================================================================================================================================================================================================================================================================================================================================================================================================================================================================================================================================================================================================================================================================================================================================================================================================================================================================================================================================================================================================================================================================================================================================================================================================================================================================================================================================================================================================================================================================================================================================================================================================================================================================================================================================================================================================================================================================================================================================================================================================================================================================================================================================================================================================================================================================================================================================================================================================================================================================================================================================================================================================================================================================================================================================================================================================================================================================================================================================================================================================================================================================================================================================================================================================================================================================================================================================================================================================================================================================================================================================================================================================================================================================================================================================================================================================================================================================================================================================================================================================================================================================================================================================================================================================================================================================================================================================================================================================================================================================================================================================================================================================================================================================================================================================================================================================================================================================================================================================================================================================================================================================================================================================================================================================================================================================================================================================================================================================================================================================================================================================================================================================================================================================================================================================================================================================================================================================================================================================================================================================================================================================================================================================================================================================================================================================================================================================================================================================================================================================================================================================================================================================================================================================================================================================================================================================================================================================================================================================================================================================================================================================================================================================================================================================================================================================================================================================================================================================================================================================================================================================================================================================================================================================================================================================================================================================================================================================================================================================================================================================================================================================================================================================================================================================================================================================================================================================================================================================================================================================================================================================================================================================================================================================================================================================================================================================================================================================================================================================================================================================================================================================================================================================================================================================================================================================================================================================================================================================================================================================================================================================================================================================================================================================================================================================================================================================================================================================================================================================================================================================================================================================================================================================================================================================================================================================================================================================================================================================================================================================================================================================================================================================================================================================================================================================================================================================================================================================================================================================================================================================================================================================================================================================================================================================================================================================================================================================================================================================================================================================================================================================================================================================================================================================================================================================================================================================================================================================================================================================================================================================================================================================================================================================================================================================================================================================================================================================================================================================================================================================================================================================================================================================================================================================================================================================================================================================================================================================================================================================================================================================================================================================================================================================================================================================================================================================================================================================================================================================================================================================================================================================================================================================================================================================================================================================================================================================================================================================================================================================================================================================================================================================================================================================================================================================================================================================================================================================================================================================================================================================================================================================================================================================================================================================================================================================================================================================================================================================================================================================================================================================================================================================================================================================================================================================================================================================================================================================================================================================================================================================================================================================================================================================================================================================================================================================================================================================================================================================================================================================================================================================================================================================================================================================================================================================================================================================================================================================================================================================================================================================================================================================================================================================================================================================================================================================================================================================================================================================================================================================================================================================================================================================================================================================================================================================================================================================================================================================================================================================================================================================================================================================================================================================================================================================================================================================================================================================================================================================================================================================================================================================================================================================================================================================================================================================================================================================================================================================================================================================================================================================================================================================================================================================================================================================================================================================================================================================================================================================================================================================================================================================================================================================================================================================================================================================================================================================================================================================================================================================================================================================================================================================================================================================================================================================================================================================================================================================================================================================================================================================================================================================================================================================================================================================================================================================================================================================================================================================================================================================================================================================================================================================================================================================================================================================================================================================================================================================================================================================================================================================================================================================================================================================================================================================================================================================================================================================================================================================================================================================================================================================================================================================================================================================================================================================================================================================================================================================================================================================================================================================================================================================================================================================================================================================================================================================================================================================================================================================================================================================================================================================================================================================================================================================================================================================================================================================================================================================================================================================================================================================================================================================================================================================================================================================================================================================================================================================================================================================================================================================================================================================================================================================================================================================================================================================================================================================================================================================================================================================================================================================================================================================================================================================================================================================================================================================================================================================================================================================================================================================================================================================================================================================================================================================================================================================================================================================================================================================================================================================================================================================================================================================================================================================================================================================================================================================================================================================================================================================================================================================================================================================================================================================================================================================================================================================================================================================================================================================================================================================================================================================================================================================================================================================================================================================================================================================================================================================================================================================================================================================================================================================================================================================================================================================================================================================================================================================================================================================================================================================================================================================================================================================================================================================================================================================================================================================================================================================================================================================================================================================================================================================================================================================================================================================================================================================================================================================================================================================================================================================================================================================================================================================================================================================================================================================================================================================================================================================================================================================================================================================================================================================================================================================================================================================================================================================================================================================================================================================================================================================================================================================================================================================================================================================================================================================================================================================================================================================================================================================================================================================================================================================================================================================================================================================================================================================================================================================================================================================================================================================================================================================================================================================================================================================================================================================================================================================================================================================================================================================================================================================================================================================================================================================================================================================================================================================================================================================================================================================================================================================================================================================================================================================================================================================================================================================================================================================================================================================================================================================================================================================================================================================================================================================================================================================================================================================================================================================================================================================================================================================================================================================================================================================================================================================================================================================================================================================================================================================================================================================================================================================================================================================================================================================================================================================================================================================================================================================================================================================================================================================================================================================================================================================================================================================================================================================================================================================================================================================================================================================================================================================================================================================================================================================================================================================================================================================================================================================================================================================================================================================================================================================================================================================================================================================================================================================================================================================================================================================================================================================================================================================================================================================================================================================================================================================================================================================================================================================================================================================================================================================================================================================================================================================================================================================================================================================================================================================================================================================================================================================================================================================================================================================================================================================================================================================================================================================================================================================================================================================================================================================================================================================================================================================================================================================================================================================================================================================================================================================================================================================================================================================================================================================================================================================================================================================================================================================================================================================================================================================================================================================================================================================================================================================================================================================================================================================================================================================================================================================================================================================================================================================================================================================================================================================================================================================================================================================================================================================================================================================================================================================================================================================================================================================================================================================================================================================================================================================================================================================================================================================================================================================================================================================================================================================================================================================================================================================================================================================================================================================================================================================================================================================================================================================================================================================================================================================================================================================================================================================================================================================================================================================================================================================================================================================================================================================================================================================================================================================================================================================================================================================================================================================================================================================================================================================================================================================================================================================================================================================================================================================================================================================================================================================================================================================================================================================================================================================================================================================================================================================================================================================================================================================================================================================================================================================================================================================================================================================================================================================================================================================================================================================================================================================================================================================================================================================================================================================================================================================================================================================================================================================================================================================================================================================================================================================================================================================================================================================================================================================================================================================================================================================================================================================================================================================================================================================================================================================================================================================================================================================================================================================================================================================================================================================================================================================================================================================================================================================================================================================================================================================================================================================================================================================================================================================================================================================================================================================================================================================================================================================================================================================================================================================================================================================================================================================================================================================================================================================================================================================================================================================================================================================================================================================================================================================================================================================================================================================================================================================================================================================================================================================================================================================================================================================================================================================================================================================================================================================================================================================================================================================================================================================================================================================================================================================================================================================================================================================================================================================================================================================================================================================================================================================================================================================================================================================================================================================================================================================================================================================================================================================================================================================================================================================================================================================================================================================================================================================================================================================================================================================================================================================================================================================================================================================================================================================================================================================================================================================================================================================================================================================================================================================================================================================================================================================================================================================================================================================================================================================================================================================================================================================================================================================================================================================================================================================================================================================================================================================================================================================================================================================================================================================================================================================================================================================================================================================================================================================================================================================================================================================================================================================================================================================================================================================================================================================================================================================================================================================================================================================================================================================================================================================================================================================================================================================================================================================================================================================================================================================================================================================================================================================================================================================================================================================================================================================================================================================================================================================================================================================================================================================================================================================================================================================================================================================================================================================================================================================================================================================================================================================================================================================================================================================================================================================================================================================================================================================================================================================================================================================================================================================================================================================================================================================================================================================================================================================================================================================================================================================================================================================================================================================================================================================================================================================================================================================================================================================================================================================================================================================================================================================================================================================================================================================================================================================================================================================================================================================================================================================================================================================================================================================================================================================================================================================================================================================================================================================================================================================================================================================================================================================================================================================================================================================================================================================================================================================================================================================================================================================================================================================================================================================================================================================================================================================================================================================================================================================================================================================================================================================================================================================================================================================================================================================================================================================================================================================================================================================================================================================================================================================================================================================================================================================================================================================================================================================================================================================================================================================================================================================================================================================================================================================================================================================================================================================================================================================================================================================================================================================================================================================================================================================================================================================================================================================================================================================================================================================================================================================================================================================================================================================================================================================================================================================================================================================================================================================================================================================================================================================================================================================================================================================================================================================================================================================================================================================================================================================================================================================================================================================================================================================================================================================================================================================================================================================================================================================================================================================================================================================================================================================================================================================================================================================================================================================================================================================================================================================================================================================================================================================================================================================================================================================================================================================================================================================================================================================================================================================================================================================================================================================================================================================================================================================================================================================================================================================================================================================================================================================================================================================================================================================================================================================================================================================================================================================================================================================================================================================================================================================================================================================================================================================================================================================================================================================================================================================================================================================================================================================================================================================================================================================================================================================================================================================================================================================================================================================================================================================================================================================================================================================================================================================================================================================================================================================================================================================================================================================================================================================================================================================================================================================================================================================================================================================================================================================================================================================================================================================================================================================================================================================================================================================================================================================================================================================================================================================================================================================================================================================================================================================================================================================================================================================================================================================================================================================================================================================================================================================================================================================================================================================================================================================================================================================================================================================================================================================================================================================================================================================================================================================================================================================================================================================================================================================================================================================================================================================================================================================================================================================================================================================================================================================================================================================================================================================================================================================================================================================================================================================================================================================================================================================================================================================================================================================================================================================================================================================================================================================================================================================================================================================================================================================================================================================================================================================================================================================================================================================================================================================================================================================================================================================================================================================================================================================================================================================================================================================================================================================================================================================================================================================================================================================================================================================================================================================================================================================================================================================================================================================================================================================================================================================================================================================================================================================================================================================================================================================================================================================================================================================================================================================================================================================================================================================================================================================================================================================================================================================================================================================================================================================================================================================================================================================================================================================================================================================================================================================================================================================================================================================================================================================================================================================================================================================================================================================================================================================================================================================================================================================================================================================================================================================================================================================================================================================================================================================================================================================================================================================================================================================================================================================================================================================================================================================================================================================================================================================================================================================================================================================================================================================================================================================================================================================================================================================================================================================================================================================================================================================================================================================================================================================================================================================================================================================================================================================================================================================================================================================================================================================================================================================================================================================================================================================================================================================================================================================================================================================================================================================================================================================================================================================================================================================================================================================================================================================================================================================================================================================================================================================================================================================================================================================================================================================================================================================================================================================================================================================================================================================================================================================================================================================================================================================================================================================================================================================================================================================================================================================================================================================================================================================================================================================================================================================================================================================================================================================================================================================================================================================================================================================================================================================================================================================================================================================================================================================================================================================================================================================================================================================================================================================================================================================================================================================================================================================================================================================================================================================================================================================================================================================================================================================================================================================================================================================================================================================================================================================================================================================================================================================================================================================================================================================================================================================================================================================================================================================================================================================================================================================================================================================================================================================================================================================================================================================================================================================================================================================================================================================================================================================================================================================================================================================================================================================================================================================================================================================================================================================================================================================================================================================================================================================================================================================================================================================================================================================================================================================================================================================================================================================================================================================================================================================================================================================================================================================================================================================================================================================================================================================================================================================================================================================================================================================================================================================================================================================================================================================================================================================================================================================================================================================================================================================================================================================================================================================================================================================================================================================================================================================================================================================================================================================================================================================================================================================================================================================================================================================================================================================================================================================================================================================================================================================================================================================================================================================================================================================================================================================================================================================================================================================================================================================================================================================================================================================================================================================================================================================================================================================================================================================================================================================================================================================================================================================================================================================================================================================================================================================================================================================================================================================================================================================================================================================================================================================================================================================================================================================================================================================================================================================================================================================================================================================================================================================================================================================================================================================================================================================================================================================================================================================================================================================================================================================================================================================================================================================================================================================================================================================================================================================================================================================================================================================================================================================================================================================================================================================================================================================================================================================================================================================================================================================================================================================================================================================================================================================================================================================================================================================================================================================================================================================================================================================================================================================================================================================================================================================================================================================================================================================================================================================================================================================================================================================================================================================================================================================================================================================================================================================================================================================================================================================================================================================================================================================================================================================================================================================================================================================================================================================================================================================================================================================================================================================================================================================================================================================================================================================================================================================================================================================================================================================================================================================================================================================================================================================================================================================================================================================================================================================================================================================================================================================================================================================================================================================================================================================================================================================================================================================================================================================================================================================================================================================================================================================================================================================================================================================================================================================================================================================================================================================================================================================================================================================================================================================================================================================================================================================================================================================================================================================================================================================================================================================================================================================================================================================================================================================================================================================================================================================================================================================================================================================================================================================================================================================================================================================================================================================================================================================================================================================================================================================================================================================================================================================================================================================================================================================================================================================================================================================================================================================================================================================================================================================================================================================================================================================================================================================================================================================================================================================================================================================================================================================================================================================================================================================================================================================================================================================================================================================================================================================================================================================================================================================================================================================================================================================================================================================================================================================================================================================================================================================================================================================================================================================================================================================================================================================================================================================================================================================================================================================================================================================================================================================================================================================================================================================================================================================================================================================================================================================================================================================================================================================================================================================================================================================================================================================================================================================================================================================================================================================================================================================================================================================================================================================================================================================================================================================================================================================================================================================================================================================================================================================================================================================================================================================================================================================================================================================================================================================================================================================================================================================================================================================================================================================================================================================================================================================================================================================================================================================================================================================================================================================================================================================================================================================================================================================================================================================================================================================================================================================================================================================================================================================================================================================================================================================================================================================================================================================================================================================================================================================================================================================================================================================================================================================================================================================================================================================================================================================================================================================================================================================================================================================================================================================================================================================================================================================================================================================================================================================================================================================================================================================================================================================================================================================================================================================================================================================================================================================================================================================================================================================================================================================================================================================================================================================================================================================================================================================================================================================================================================================================================================================================================================================================================================================================================================================================================================================================================================================================================================================================================================================================================================================================================================================================================================================================================================================================================================================================================================================================================================================================================================================================================================================================================================================================================================================================================================================================================================================================================================================================================================================================================================================================================================================================================================================================================================================================================================================================================================================================================================================================================================================================================================================================================================================================================================================================================================================================================================================================================================================================================================================================================================================================================================================================================================================================================================================================================================================================================================================================================================================================================================================================================================================================================================================================================================================================================================================================================================================================================================================================================================================================================================================================================================================================================================================================================================================================================================================================================================================================================================================================================================================================================================================================================================================================================================================================================================================================================================================================================================================================================================================================================================================================================================================================================================================================================================================================================================================================================================================================================================================================================================================================================================================================================================================================================================================================================================================================================================================================================================================================================================================================================================================================================================================================================================================================================================================================================================================================================================================================================================================================================================================================================================================================================================================================================================================================================================================================================================================================================================================================================================================================================================================================================================================================================================================================================================================================================================================================================================================================================================================================================================================================================================================================================================================================================================================================================================================================================================================================================================================================================================================================================================================================================================================================================================================================================================================================================================================================================================================================================================================================================================================================================================================================================================================================================================================================================================================================================================================================================================================================================================================================================================================================================================================================================================================================================================================================================================================================================================================================================================================================================================================================================================================================================================================================================================================================================================================================================================================================================================================================================================================================================================================================================================================================================================================================================================================================================================================================================================================================================================================================================================================================================================================================================================================================================================================================================================================================================================================================================================================================================================================================================================================================================================================================================================================================================================================================================================================================================================================================================================================================================================================================================================================================================================================================================================================================================================================================================================================================================================================================================================================================================================================================================================================================================================================================================================================================================================================================================================================================================================================================================================================================================================================================================================================================================================================================================================================================================================================================================================================================================================================================================================================================================================================================================================================================================================================================================================================================================================================================================================================================================================================================================================================================================================================================================================================================================================================================================================================================================================================================================================================================================================================================================================================================================================================================================================================================================================================================================================================================================================================================================================================================================================================================================================================================================================================================================================================================================================================================================================================================================================================================================================================================================================================================================================================================================================================================================================================================================================================================================================================================================================================================================================================================================================================================================================================================================================================================================================================================================================================================================================================================================================================================================================================================================================================================================================================================================================================================================================================================================================================================================================================================================================================================================================================================================================================================================================================================================================================================================================================================================================================================================================================================================================================================================================================================================================================================================================================================================================================================================================================================================================================================================================================================================================================================================================================================================================================================================================================================================================================================================================================================================================================================================================================================================================================================================================================================================================================================================================================================================================================================================================================================================================================================================================================================================================================================================================================================================================================================================================================================================================================================================================================================================================================================================================================================================================================================================================================================================================================================================================================================================================================================================================================================================================================================================================================================================================================================================================================================================================================================================================================================================================================================================================================================================================================================================================================================================================================================================================================================================================================================================================================================================================================================================================================================================================================================================================================================================================================================================================================================================================================================================================================================================================================================================================================================================================================================================================================================================================================================================================================================================================================================================================================================================================================================================================================================================================================================================================================================================================================================================================================================================================================================================================================================================================================================================================================================================================================================================================================================================================================================================================================================================================================================================================================================================================================================================================================================================================================================================================================================================================================================================================================================================================================================================================================================================================================================================================================================================================================================================================================================================================================================================================================================================================================================================================================================================================================================================================================================================================================================================================================================================================================================================================================================================================================================================================================================================================================================================================================================================================================================================================================================================================================================================================================================================================================================================================================================================================================================================================================================================================================================================================================================================================================================================================================================================================================================================================================================================================================================================================================================================================================================================================================================================================================================================================================================================================================================================================================================================================================================================================================================================================================================================================================================================================================================================================================================================================================================================================================================================================================================================================================================================================================================================================================================================================================================================================================================================================================================================================================================================================================================================================================================================================================================================================================================================================================================================================================================================================================================================================================================================================================================================================================================================================================================================================================================================================================================================================================================================================================================================================================================================================================================================================================================================================================================================================================================================================================================================================================================================================================================================================================================================================================================================================================================================================================================================================================================================================================================================================================================================================================================================================================================================================================================================================================================================================================================================================================================================================================================================================================================================================================================================================================================================================================================================================================================================================================================================================================================================================================================================================================================================================================================================================================================================================================================================================================================================================================================================================================================================================================================================================================================================================================================================================================================================================================================================================================================================================================================================================================================================================================================================================================================================================================================================================================================================================================================================================================================================================================================================================================================================================================================================================================================================================================================================================================================================================================================================================================================================================================================================================================================================================================================================================================================================================================================================================================================================================================================================================================================================================================================================================================================================================================================================================================================================================================================================================================================================================================================================================================================================================================================================================================================================================================================================================================================================================================================================================================================================================================================================================================================================================================================================================================================================================================================================================================================================================================================================================================================================================================================================================================================================================================================================================================================================================================================================================================================================================================================================================================================================================================================================================================================================================================================================================================================================================================================================================================================================================================================================================================================================================================================================================================================================================================================================================================================================================================================================================================================================================================================================================================================================================================================================================================================================================================================================================================================================================================================================================================================================================================================================================================================================================================================================================================================================================================================================================================================================================================================================================================================================================================================================================================================================================================================================================================================================================================================================================================================================================================================================================================================================================================================================================================================================================================================================================================================================================================================================================================================================================================================================================================================================================================================================================================================================================================================================================================================================================================================================================================================================================================================================================================================================================================================================================================================================================================================================================================================================================================================================================================================================================================================================================================================================================================================================================================================================================================================================================================================================================================================================================================================================================================================================================================================================================================================================================================================================================================================================================================================================================================================================================================================================================================================================================================================================================================================================================================================================================================================================================================================================================================================================================================================================================================================================================================================================================================================================================================================================================================================================================================================================================================================================================================================================================================================================================================================================================================================================================================================================================================================================================================================================================================================================================================================================================================================================================================================================================================================================================================================================================================================================================================================================================================================================================================================================================================================================================================================================================================================================================================================================================================================================================================================================================================================================================================================================================================================================================================================================================================================================================================================================================================================================================================================================================================================================================================================================================================================================================================================================================================================================================================================================================================================================================================================================================================================================================================================================================================================================================================================================================================================================================================================================================================================================================================================================================================================================================================================================================================================================================================================================================================================================================================================================================================================================================================================================================================================================================================================================================================================================================================================================================================================================================================================================================================================================================================================================================================================================================================================================================================================================================================================================================================================================================================================================================================================================================================================================================================================================================================================================================================================================================================================================================================================================================================================================================================================================================================================================================================================================================================================================================================================================================================================================================================================================================================================================================================================================================================================================================================================================================================================================================================================================================================================================================================================================================================================================================================================================================================================================================================================================================================================================================================================================================================================================================================================================================================================================================================================================================================================================================================================================================================================================================================================================================================================================================================================================================================================================================================================================================================================================================================================================================================================================================================================================================================================================================================================================================================================================================================================================================================================================================================================================================================================================================================================================================================================================================================================================================================================================================================================================================================================================================================================================================================================================================================================================================================================================================================================================================================================================================================================================================================================================================================================================================================================================================================================================================================================================================================================================================================================================================================================================================================================================================================================================================================================================================================================================================================================================================================================================================================================================================================================================================================================================================================================================================================================================================================================================================================================================================================================================================================================================================================================================================================================================================================================================================================================================================================================================================================================================================================================================================================================================================================================================================================================================================================================================================================================================================================================================================================================================================================================================================================================================================================================================================================================================================================================================================================================================================================================================================================================================================================================================================================================================================================================================================================================================================================================================================================================================================================================================================================================================================================================================================================================================================================================================================================================================================================================================================================================================================================================================================================================================================================================================================================================================================================================================================================================================================================================================================================================================================================================================================================================================================================================================================================================================================================================================================================================================================================================================================================================================================================================================================================================================================================================================================================================================================================================================================================================================================================================================================================================================================================================================================================================================================================================================================================================================================================================================================================================================================================================================================================================================================================================================================================================================================================================================================================================================================================================================================================================================================================================================================================================================================================================================================================================================================================================================================================================================================================================================================================================================================================================================================================================================================================================================================================================================================================================================================================================================================================================================================================================================================================================================================================================================================================================================================================================================================================================================================================================================================================================================================================================================================================================================================================================================================================================================================================================================================================================================================================================================================================================================================================================================================================================================================================================================================================================================================================================================================================================================================================================================================================================================================================================================================================================================================================================================================================================================================================================================================================================================================================================================================================================================================================================================================================================================================================================================================================================================================================================================================================================================================================================================================================================================================================================================================================================================================================================================================================================================================================================================================================================================================================================================================================================================================================================================================================================================================================================================================================================================================================================================================================================================================================================================================================================================================================================================================================================================================================================================================================================================================================================================================================================================================================================================================================================================================================================================================================================================================================================================================================================================================================================================================================================================================================================================================================================================================================================================================================================================================================================================================================================================================================================================================================================================================================================================================================================================================================================================================================================================================================================================================================================================================================================================================================================================================================================================================================================================================================================================================================================================================================================================================================================================================================================================================================================================================================================================================================================================================================================================================================================================================================================================================================================================================================================================================================================================================================================================================================================================================================================================================================================================================================================================================================================================================================================================================================================================================================================================================================================================================================================================================================================================================================================================================================================================================================================================================================================================================================================================================================================================================================================================================================================================================================================================================================================================================================================================================================================================================================================================================================================================================================================================================================================================================================================================================================================================================================================================================================================================================================================================================================================================================================================================================================================================================================================================================================================================================================================================================================================================================================================================================================================================================================================================================================================================================================================================================================================================================================================================================================================================================================================================================================================================================================================================================================================================================================================================================================================================================================================================================================================================================================================================================================================================================================================================================================================================================================================================================================================================================================================================================================================================================================================================================================================================================================================================================================================================================================================================================================================================================================================================================================================================================================================================================================================================================================================================================================================================================================================================================================================================================================================================================================================================================================================================================================================================================================================================================================================================================================================================================================================================================================================================================================================================================================================================================================================================================================================================================================================================================================================================================================================================================================================================================================================================================================================================================================================================================================================================================================================================================================================================================================================================================================================================================================================================================================================================================================================================================================================================================================================================================================================================================================================================================================================================================================================================================================================================================================================================================================================================================================================================================================================================================================================================================================================================================================================================================================================================================================================================================================================================================================================================================================================================================================================================================================================================================================================================================================================================================================================================================================================================================================================================================================================================================================================================================================================================================================================================================================================================================================================================================================================================================================================================================================================================================================================================================================================================================================================================================================================================================================================================================================================================================================================================================================================================================================================================================================================================================================================================================================================================================================================================================================================================================================================================================================================================================================================================================================================================================================================================================================================================================================================================================================================================================================================================================================================================================================================================================================================================================================================================================================================================================================================================================================================================================================================================================================================================================================================================================================================================================================================================================================================================================================================================================================================================================================================================================================================================================================================================================================================================================================================================================================================================================================================================================================================================================================================================================================================================================================================================================================================================================================================================================================================================================================================================================================================================================================================================================================================================================================================================================================================================================================================================================================================================================================================================================================================================================================================================================================================================================================================================================================================================================================================================================================================================================================================================================================================================================================================================================================================================================================================================================================================================================================================================================================================================================================================================================================================================================================================================================================================================================================================================================================================================================================================================================================================================================================================================================================================================================================================================================================================================================================================================================================================================================================================================================================================================================================================================================================================================================================================================================================================================================================================================================================================================================================================================================================================================================================================================================================================================================================================================================================================================================================================================================================================================================================================================================================================================================================================================================================================================================================================================================================================================================================================================================================================================================================================================================================================================================================================================================================================================================================================================================================================================================================================================================================================================================================================================================================================================================================================================================================================================================================================================================================================================================================================================================================================================================================================================================================================================================================================================================================================================================================================================================================================================================================================================================================================================================================================================================================================================================================================================================================================================================================================================================================================================================================================================================================================================================================================================================================================================================================================================================================================================================================================================================================================================================================================================================================================================================================================================================================================================================================================================================================================================================================================================================================================================================================================================================================================================================================================================================================================================================================================================================================================================================================================================================================================================================================================================================================================================================================================================================================================================================================================================================================================================================================================================================================================================================================================================================================================================================================================================================================================================================================================================================================================================================================================================================================================================================================================================================================================================================================================================================================================================================================] - 0s 32us/sample - loss: 0.0543 - mean_absolute_error: 0.1051\n"
     ]
    },
    {
     "data": {
      "text/plain": [
       "[0.0531694547551866, 0.10509239]"
      ]
     },
     "execution_count": 27,
     "metadata": {},
     "output_type": "execute_result"
    }
   ],
   "source": [
    "# To evaluate model test loss\n",
    "\n",
    "test_loss = model.evaluate(x_test, y_test)\n",
    "test_loss"
   ]
  },
  {
   "cell_type": "code",
   "execution_count": 28,
   "metadata": {},
   "outputs": [
    {
     "data": {
      "text/plain": [
       "(10936, 93)"
      ]
     },
     "execution_count": 28,
     "metadata": {},
     "output_type": "execute_result"
    }
   ],
   "source": [
    "\n",
    "x_test.shape"
   ]
  },
  {
   "cell_type": "code",
   "execution_count": 29,
   "metadata": {},
   "outputs": [
    {
     "data": {
      "text/plain": [
       "(10936, 60)"
      ]
     },
     "execution_count": 29,
     "metadata": {},
     "output_type": "execute_result"
    }
   ],
   "source": [
    "y_test.shape"
   ]
  },
  {
   "cell_type": "code",
   "execution_count": 30,
   "metadata": {
    "colab": {
     "base_uri": "https://localhost:8080/",
     "height": 280
    },
    "id": "K6jxwKI-au9s",
    "outputId": "4824a9db-6941-4ac8-87d8-5d749bc8497d"
   },
   "outputs": [
    {
     "data": {
      "image/png": "[encoded data removed]",
      "text/plain": [
       "<Figure size 432x288 with 1 Axes>"
      ]
     },
     "metadata": {
      "needs_background": "light"
     },
     "output_type": "display_data"
    }
   ],
   "source": [
    "# To plot training loss only\n",
    "\n",
    "loss = model_history.history['loss']\n",
    "epochs = range(1, len(loss)+1)\n",
    "plt.plot(epochs, loss, 'ro', label='Training loss')\n",
    "plt.xlabel('epoch')\n",
    "plt.legend()\n",
    "plt.show()"
   ]
  },
  {
   "cell_type": "code",
   "execution_count": 31,
   "metadata": {
    "colab": {
     "base_uri": "https://localhost:8080/",
     "height": 313
    },
    "id": "gr4ZQqHQayfv",
    "outputId": "b292d2fe-9161-4bfc-9b6f-fe09e9543f33"
   },
   "outputs": [
    {
     "name": "stdout",
     "output_type": "stream",
     "text": [
      "dict_keys(['loss', 'mean_absolute_error', 'val_loss', 'val_mean_absolute_error', 'lr'])\n"
     ]
    },
    {
     "data": {
      "image/png": "[encoded data removed]",
      "text/plain": [
       "<Figure size 432x288 with 1 Axes>"
      ]
     },
     "metadata": {
      "needs_background": "light"
     },
     "output_type": "display_data"
    }
   ],
   "source": [
    "# list all data in history\n",
    "\n",
    "print(model_history.history.keys())\n",
    "\n",
    "# summarize history for accuracy\n",
    "acc = model_history.history['mean_absolute_error']\n",
    "val_acc = model_history.history['val_mean_absolute_error']\n",
    "\n",
    "plt.plot(acc)\n",
    "plt.plot(val_acc)\n",
    "plt.title('model accuracy')\n",
    "plt.ylabel('Mean Absolute Error')\n",
    "plt.xlabel('epoch')\n",
    "plt.legend(['train', 'test'], loc='upper right')\n",
    "plt.savefig('accuracy_3_layer.pdf')\n",
    "plt.show()"
   ]
  },
  {
   "cell_type": "code",
   "execution_count": 32,
   "metadata": {
    "colab": {
     "base_uri": "https://localhost:8080/",
     "height": 295
    },
    "id": "pgrdmzrca2id",
    "outputId": "7698718b-fba5-415a-c5a5-abfbfe868c6c"
   },
   "outputs": [
    {
     "data": {
      "image/png": "[encoded data removed]",
      "text/plain": [
       "<Figure size 432x288 with 1 Axes>"
      ]
     },
     "metadata": {
      "needs_background": "light"
     },
     "output_type": "display_data"
    }
   ],
   "source": [
    "# summarize history for loss\n",
    "\n",
    "loss = model_history.history['loss']\n",
    "val_loss = model_history.history['val_loss']\n",
    "plt.plot(loss)\n",
    "plt.plot(val_loss)\n",
    "plt.title('model loss')\n",
    "plt.ylabel('loss')\n",
    "plt.xlabel('epoch')\n",
    "plt.legend(['train', 'test'], loc='upper right')\n",
    "plt.savefig('loss_3_layer.pdf')\n",
    "plt.show()"
   ]
  },
  {
   "cell_type": "code",
   "execution_count": 33,
   "metadata": {
    "colab": {
     "base_uri": "https://localhost:8080/",
     "height": 249
    },
    "id": "V_KxSfNKa666",
    "outputId": "c668ae3d-01ef-4869-e191-af2122733da1"
   },
   "outputs": [
    {
     "data": {
      "text/plain": [
       "array([[2.8312206e-06, 9.7867846e-04, 7.6830715e-02, ..., 1.3347596e-02,\n",
       "        3.1667709e-02, 2.0900369e-04],\n",
       "       [1.4156103e-05, 4.6935380e-03, 1.1731982e-03, ..., 1.1575222e-02,\n",
       "        4.5774221e-02, 1.5312433e-04],\n",
       "       [9.9999404e-01, 9.7813523e-01, 6.4495802e-03, ..., 2.2302777e-01,\n",
       "        6.5829486e-02, 6.3049793e-04],\n",
       "       ...,\n",
       "       [1.7881393e-07, 2.0688862e-02, 4.0456653e-04, ..., 2.4676800e-02,\n",
       "        4.5595348e-02, 6.3541532e-04],\n",
       "       [0.0000000e+00, 4.6192110e-03, 8.5592270e-05, ..., 1.2630761e-02,\n",
       "        4.6378911e-02, 1.2177229e-04],\n",
       "       [3.3071637e-04, 3.8203597e-04, 4.2403340e-03, ..., 1.2533152e-01,\n",
       "        2.7798682e-02, 9.3668699e-05]], dtype=float32)"
      ]
     },
     "execution_count": 33,
     "metadata": {},
     "output_type": "execute_result"
    }
   ],
   "source": [
    "# Making the predictions for testing\n",
    "\n",
    "# Predicting the Test set results\n",
    "y_pred = model.predict(x_test) \n",
    "y_pred"
   ]
  },
  {
   "cell_type": "code",
   "execution_count": 34,
   "metadata": {
    "colab": {
     "base_uri": "https://localhost:8080/",
     "height": 142
    },
    "id": "nTiknlOLaTPp",
    "outputId": "70722f3f-835d-4abe-ca27-4cd0d3b285f1"
   },
   "outputs": [
    {
     "data": {
      "text/plain": [
       "(10936, 60)"
      ]
     },
     "execution_count": 34,
     "metadata": {},
     "output_type": "execute_result"
    }
   ],
   "source": [
    "y_test.shape\n"
   ]
  },
  {
   "cell_type": "code",
   "execution_count": 35,
   "metadata": {
    "id": "5x9nZKCHa9ZI"
   },
   "outputs": [
    {
     "data": {
      "text/plain": [
       "(10936, 60)"
      ]
     },
     "execution_count": 35,
     "metadata": {},
     "output_type": "execute_result"
    }
   ],
   "source": [
    "y_pred.shape"
   ]
  },
  {
   "cell_type": "code",
   "execution_count": 36,
   "metadata": {
    "id": "ACY5x1V7a_vo"
   },
   "outputs": [
    {
     "name": "stdout",
     "output_type": "stream",
     "text": [
      "Test Mean Squared error (MSE): 0.05316945617581059\n",
      "Test Root mean squared error (RMSE): 0.2305850302509046\n",
      "Test Mean absolute error (MAE): 0.10509236288166764\n"
     ]
    }
   ],
   "source": [
    "# Evaluating the model # Test error\n",
    "\n",
    "# Measure MSE error  \n",
    "mse_test = metrics.mean_squared_error(y_test, y_pred)\n",
    "print(\"Test Mean Squared error (MSE): {}\".format(mse_test))\n",
    "\n",
    "# Measure RMSE error \n",
    "rmse_test = np.sqrt(metrics.mean_squared_error(y_test, y_pred))\n",
    "print(\"Test Root mean squared error (RMSE): {}\".format(rmse_test))\n",
    "\n",
    "# Measure MAE error\n",
    "mae_test = metrics.mean_absolute_error(y_test, y_pred)\n",
    "print(\"Test Mean absolute error (MAE): {}\".format(mae_test))"
   ]
  },
  {
   "cell_type": "code",
   "execution_count": 37,
   "metadata": {
    "id": "EpTj4zULbQMd"
   },
   "outputs": [
    {
     "data": {
      "text/plain": [
       "array([[2.9784441e-04, 1.3449192e-03, 2.8921962e-03, ..., 2.4517968e-01,\n",
       "        3.4930110e-02, 2.4753809e-04],\n",
       "       [2.8967857e-05, 2.6435167e-01, 1.4596769e-01, ..., 2.3555493e-01,\n",
       "        6.4305842e-02, 6.4283609e-04],\n",
       "       [1.2614727e-03, 8.5717440e-04, 8.1205368e-04, ..., 1.7741239e-01,\n",
       "        2.9962212e-02, 7.6293945e-05],\n",
       "       ...,\n",
       "       [3.6797225e-03, 2.6217103e-04, 1.0197163e-03, ..., 6.2719166e-02,\n",
       "        8.1937611e-02, 1.1317432e-03],\n",
       "       [1.1920929e-07, 7.6293945e-06, 2.7326941e-03, ..., 1.8004414e-01,\n",
       "        3.9012045e-02, 1.1819601e-04],\n",
       "       [7.1525574e-05, 2.6170015e-03, 2.2981474e-01, ..., 2.9593639e-02,\n",
       "        5.2033026e-02, 2.0652563e-04]], dtype=float32)"
      ]
     },
     "execution_count": 37,
     "metadata": {},
     "output_type": "execute_result"
    }
   ],
   "source": [
    "# Making the predictions for training\n",
    "\n",
    "# Predicting the Training set results\n",
    "y_pred_train = model.predict(x_train) \n",
    "y_pred_train"
   ]
  },
  {
   "cell_type": "code",
   "execution_count": 38,
   "metadata": {
    "id": "Of9BhiCTbU01"
   },
   "outputs": [
    {
     "data": {
      "text/plain": [
       "(98419, 60)"
      ]
     },
     "execution_count": 38,
     "metadata": {},
     "output_type": "execute_result"
    }
   ],
   "source": [
    "y_pred_train.shape "
   ]
  },
  {
   "cell_type": "code",
   "execution_count": 39,
   "metadata": {
    "id": "FWK7_bNJbXME"
   },
   "outputs": [
    {
     "name": "stdout",
     "output_type": "stream",
     "text": [
      "Training Mean Squared error (MSE): 0.05168913517677952\n",
      "Training Root mean squared error (RMSE): 0.2273524470437464\n",
      "Training Mean absolute error (MAE): 0.1035174426910213\n"
     ]
    }
   ],
   "source": [
    "# Evaluating the model # Training error\n",
    "\n",
    "# Measure MSE error  \n",
    "mse_train = metrics.mean_squared_error(y_train, y_pred_train)\n",
    "print(\"Training Mean Squared error (MSE): {}\".format(mse_train))\n",
    "\n",
    "# Measure RMSE error \n",
    "rmse_train = np.sqrt(metrics.mean_squared_error(y_train, y_pred_train))\n",
    "print(\"Training Root mean squared error (RMSE): {}\".format(rmse_train))\n",
    "\n",
    "# Measure MAE error\n",
    "mae_train = metrics.mean_absolute_error(y_train, y_pred_train)\n",
    "print(\"Training Mean absolute error (MAE): {}\".format(mae_train))"
   ]
  },
  {
   "cell_type": "code",
   "execution_count": 40,
   "metadata": {
    "id": "1Yw2ek-lRAmD"
   },
   "outputs": [
    {
     "data": {
      "text/plain": [
       "array([2.8312206e-06, 9.7867846e-04, 7.6830715e-02, ..., 1.2533152e-01,\n",
       "       2.7798682e-02, 9.3668699e-05], dtype=float32)"
      ]
     },
     "execution_count": 40,
     "metadata": {},
     "output_type": "execute_result"
    }
   ],
   "source": [
    "y_pred_flat = y_pred.flatten()\n",
    "y_pred_flat"
   ]
  },
  {
   "cell_type": "code",
   "execution_count": 41,
   "metadata": {
    "id": "zrHf4K-yRWEW"
   },
   "outputs": [
    {
     "data": {
      "text/plain": [
       "array([0., 0., 0., ..., 0., 1., 0.])"
      ]
     },
     "execution_count": 41,
     "metadata": {},
     "output_type": "execute_result"
    }
   ],
   "source": [
    "y_test_flat = y_test.flatten()\n",
    "y_test_flat"
   ]
  },
  {
   "cell_type": "code",
   "execution_count": 42,
   "metadata": {
    "id": "3sCT93VyRYOz"
   },
   "outputs": [
    {
     "name": "stdout",
     "output_type": "stream",
     "text": [
      "R2 Score Test: 0.5162429630614787\n"
     ]
    }
   ],
   "source": [
    "# Regression score for test\n",
    "\n",
    "r2_score_test = metrics.r2_score(y_test_flat, y_pred_flat)\n",
    "print(\"R2 Score Test: {}\".format(r2_score_test))"
   ]
  },
  {
   "cell_type": "code",
   "execution_count": 43,
   "metadata": {
    "id": "5oZLTaS6Rdpb"
   },
   "outputs": [
    {
     "data": {
      "text/plain": [
       "array([0.00029784, 0.00134492, 0.0028922 , ..., 0.02959364, 0.05203303,\n",
       "       0.00020653], dtype=float32)"
      ]
     },
     "execution_count": 43,
     "metadata": {},
     "output_type": "execute_result"
    }
   ],
   "source": [
    "y_pred_train_flat = y_pred_train.flatten()\n",
    "y_pred_train_flat"
   ]
  },
  {
   "cell_type": "code",
   "execution_count": 44,
   "metadata": {
    "id": "imceUpMlRfrV"
   },
   "outputs": [
    {
     "data": {
      "text/plain": [
       "array([0., 0., 0., ..., 0., 0., 0.])"
      ]
     },
     "execution_count": 44,
     "metadata": {},
     "output_type": "execute_result"
    }
   ],
   "source": [
    "y_train_flat = y_train.flatten()\n",
    "y_train_flat"
   ]
  },
  {
   "cell_type": "code",
   "execution_count": 45,
   "metadata": {
    "id": "IywAjABTRjex"
   },
   "outputs": [
    {
     "name": "stdout",
     "output_type": "stream",
     "text": [
      "R2 Score Train: 0.530060910660598\n"
     ]
    }
   ],
   "source": [
    "# Regression score for training\n",
    "\n",
    "r2_score_train = metrics.r2_score(y_train_flat, y_pred_train_flat)\n",
    "print(\"R2 Score Train: {}\".format(r2_score_train))"
   ]
  },
  {
   "cell_type": "code",
   "execution_count": 46,
   "metadata": {
    "id": "hr_f0cdyWpil"
   },
   "outputs": [],
   "source": [
    "######################### Constraint verification for test data ##########################"
   ]
  },
  {
   "cell_type": "code",
   "execution_count": 47,
   "metadata": {
    "colab": {
     "base_uri": "https://localhost:8080/",
     "height": 249
    },
    "id": "aS9k-9lwW0hY",
    "outputId": "32c16051-3a86-49a8-d7cb-77e547ad3e64"
   },
   "outputs": [
    {
     "data": {
      "text/plain": [
       "array([[2.8312206e-06, 9.7867846e-04, 7.6830715e-02, ..., 1.3347596e-02,\n",
       "        3.1667709e-02, 2.0900369e-04],\n",
       "       [1.4156103e-05, 4.6935380e-03, 1.1731982e-03, ..., 1.1575222e-02,\n",
       "        4.5774221e-02, 1.5312433e-04],\n",
       "       [9.9999404e-01, 9.7813523e-01, 6.4495802e-03, ..., 2.2302777e-01,\n",
       "        6.5829486e-02, 6.3049793e-04],\n",
       "       ...,\n",
       "       [1.7881393e-07, 2.0688862e-02, 4.0456653e-04, ..., 2.4676800e-02,\n",
       "        4.5595348e-02, 6.3541532e-04],\n",
       "       [0.0000000e+00, 4.6192110e-03, 8.5592270e-05, ..., 1.2630761e-02,\n",
       "        4.6378911e-02, 1.2177229e-04],\n",
       "       [3.3071637e-04, 3.8203597e-04, 4.2403340e-03, ..., 1.2533152e-01,\n",
       "        2.7798682e-02, 9.3668699e-05]], dtype=float32)"
      ]
     },
     "execution_count": 47,
     "metadata": {},
     "output_type": "execute_result"
    }
   ],
   "source": [
    "y_pred = model.predict(x_test)\n",
    "y_pred"
   ]
  },
  {
   "cell_type": "code",
   "execution_count": 48,
   "metadata": {
    "colab": {
     "base_uri": "https://localhost:8080/",
     "height": 249
    },
    "id": "qdcimHOXZsH2",
    "outputId": "1585d70d-b16d-4e2a-d7d5-6f381a4521fd"
   },
   "outputs": [
    {
     "data": {
      "text/plain": [
       "array([[-0.96565418, -1.02510763, -1.00583909, ..., -0.93439145,\n",
       "        -0.44236428, -1.17577208],\n",
       "       [-0.48924106,  0.52100408, -1.00583909, ..., -1.65295975,\n",
       "        -0.75870877,  0.77838022],\n",
       "       [ 0.86051702,  1.64728977,  0.9941948 , ..., -1.14274709,\n",
       "         0.67330256, -1.01421832],\n",
       "       ...,\n",
       "       [ 1.37607763, -1.36785667, -1.00583909, ..., -1.12031787,\n",
       "        -1.07531388,  1.41145663],\n",
       "       [ 1.36296915, -0.09377084, -1.00583909, ..., -1.38882618,\n",
       "        -0.86376892, -0.68659868],\n",
       "       [-0.99631971, -0.45089016, -1.00583909, ..., -1.08667404,\n",
       "        -1.30369417, -1.63973307]])"
      ]
     },
     "execution_count": 48,
     "metadata": {},
     "output_type": "execute_result"
    }
   ],
   "source": [
    "x_test"
   ]
  },
  {
   "cell_type": "code",
   "execution_count": 49,
   "metadata": {
    "colab": {
     "base_uri": "https://localhost:8080/",
     "height": 35
    },
    "id": "ruqLSKwaZ06X",
    "outputId": "42dd9de3-1395-4349-8ec3-f163ef502a0e"
   },
   "outputs": [
    {
     "data": {
      "text/plain": [
       "(10936, 93)"
      ]
     },
     "execution_count": 49,
     "metadata": {},
     "output_type": "execute_result"
    }
   ],
   "source": [
    "x_test.shape"
   ]
  },
  {
   "cell_type": "code",
   "execution_count": 50,
   "metadata": {
    "colab": {
     "base_uri": "https://localhost:8080/",
     "height": 35
    },
    "id": "fOj5D4GRW7Ac",
    "outputId": "e4223fa4-dd8e-400f-eefc-bbd0178e4d99"
   },
   "outputs": [
    {
     "data": {
      "text/plain": [
       "(10936, 60)"
      ]
     },
     "execution_count": 50,
     "metadata": {},
     "output_type": "execute_result"
    }
   ],
   "source": [
    "y_test.shape"
   ]
  },
  {
   "cell_type": "code",
   "execution_count": 51,
   "metadata": {},
   "outputs": [
    {
     "data": {
      "text/plain": [
       "array([[2.8312206e-06, 9.7867846e-04, 7.6830715e-02, ..., 1.3347596e-02,\n",
       "        3.1667709e-02, 2.0900369e-04],\n",
       "       [1.4156103e-05, 4.6935380e-03, 1.1731982e-03, ..., 1.1575222e-02,\n",
       "        4.5774221e-02, 1.5312433e-04],\n",
       "       [9.9999404e-01, 9.7813523e-01, 6.4495802e-03, ..., 2.2302777e-01,\n",
       "        6.5829486e-02, 6.3049793e-04],\n",
       "       ...,\n",
       "       [1.7881393e-07, 2.0688862e-02, 4.0456653e-04, ..., 2.4676800e-02,\n",
       "        4.5595348e-02, 6.3541532e-04],\n",
       "       [0.0000000e+00, 4.6192110e-03, 8.5592270e-05, ..., 1.2630761e-02,\n",
       "        4.6378911e-02, 1.2177229e-04],\n",
       "       [3.3071637e-04, 3.8203597e-04, 4.2403340e-03, ..., 1.2533152e-01,\n",
       "        2.7798682e-02, 9.3668699e-05]], dtype=float32)"
      ]
     },
     "execution_count": 51,
     "metadata": {},
     "output_type": "execute_result"
    }
   ],
   "source": [
    "y_pred"
   ]
  },
  {
   "cell_type": "code",
   "execution_count": 52,
   "metadata": {
    "colab": {
     "base_uri": "https://localhost:8080/",
     "height": 142
    },
    "id": "Yn9ruPcpOQq0",
    "outputId": "c187ee9b-7905-455c-cee3-fa098f0966e1"
   },
   "outputs": [
    {
     "name": "stdout",
     "output_type": "stream",
     "text": [
      "[[0. 0. 0. ... 0. 0. 0.]\n",
      " [0. 0. 0. ... 0. 0. 0.]\n",
      " [1. 1. 0. ... 0. 0. 0.]\n",
      " ...\n",
      " [0. 0. 0. ... 0. 0. 0.]\n",
      " [0. 0. 0. ... 0. 0. 0.]\n",
      " [0. 0. 0. ... 0. 0. 0.]]\n"
     ]
    }
   ],
   "source": [
    "#round-off the y_pred\n",
    "\n",
    "import numpy as np\n",
    "a_list = np.array(y_pred)\n",
    "y_pred_binary = np.round(a_list)\n",
    "print(y_pred_binary)\n",
    "\n"
   ]
  },
  {
   "cell_type": "code",
   "execution_count": 53,
   "metadata": {
    "colab": {
     "base_uri": "https://localhost:8080/",
     "height": 35
    },
    "id": "zus7h7n3PMDh",
    "outputId": "ce6a354b-6dfa-40b8-c6c3-adead6f2d051"
   },
   "outputs": [
    {
     "data": {
      "text/plain": [
       "(10936, 60)"
      ]
     },
     "execution_count": 53,
     "metadata": {},
     "output_type": "execute_result"
    }
   ],
   "source": [
    "y_pred_binary.shape"
   ]
  },
  {
   "cell_type": "code",
   "execution_count": 54,
   "metadata": {
    "colab": {
     "base_uri": "https://localhost:8080/",
     "height": 142
    },
    "id": "RKVmQiPemWnf",
    "outputId": "8fa5f012-e7b4-4262-e8c9-06ad35d44c13"
   },
   "outputs": [
    {
     "data": {
      "text/plain": [
       "array([[0., 0., 0., ..., 0., 0., 0.],\n",
       "       [0., 0., 0., ..., 0., 0., 0.],\n",
       "       [1., 1., 0., ..., 0., 0., 0.],\n",
       "       ...,\n",
       "       [0., 0., 0., ..., 0., 0., 0.],\n",
       "       [0., 0., 0., ..., 0., 0., 0.],\n",
       "       [0., 0., 0., ..., 0., 0., 0.]], dtype=float32)"
      ]
     },
     "execution_count": 54,
     "metadata": {},
     "output_type": "execute_result"
    }
   ],
   "source": [
    "y_pred_binary"
   ]
  },
  {
   "cell_type": "code",
   "execution_count": 55,
   "metadata": {},
   "outputs": [
    {
     "data": {
      "text/plain": [
       "array([[0., 0., 0., ..., 0., 0., 0.],\n",
       "       [0., 0., 0., ..., 0., 0., 0.],\n",
       "       [1., 1., 0., ..., 0., 0., 0.],\n",
       "       ...,\n",
       "       [0., 0., 0., ..., 0., 0., 0.],\n",
       "       [0., 0., 0., ..., 0., 0., 0.],\n",
       "       [0., 0., 0., ..., 0., 1., 0.]])"
      ]
     },
     "execution_count": 55,
     "metadata": {},
     "output_type": "execute_result"
    }
   ],
   "source": [
    "y_test"
   ]
  },
  {
   "cell_type": "code",
   "execution_count": 56,
   "metadata": {
    "colab": {
     "base_uri": "https://localhost:8080/",
     "height": 35
    },
    "id": "0Y2CI1jdPzWz",
    "outputId": "7de20c4e-215b-40c2-b415-72ad1edead13"
   },
   "outputs": [
    {
     "data": {
      "text/plain": [
       "10936"
      ]
     },
     "execution_count": 56,
     "metadata": {},
     "output_type": "execute_result"
    }
   ],
   "source": [
    "len(y_pred_binary)"
   ]
  },
  {
   "cell_type": "code",
   "execution_count": null,
   "metadata": {},
   "outputs": [],
   "source": []
  },
  {
   "cell_type": "code",
   "execution_count": 57,
   "metadata": {
    "colab": {
     "base_uri": "https://localhost:8080/",
     "height": 35
    },
    "id": "W0EhQiatZWyj",
    "outputId": "67776725-788b-47d7-a3bd-288348bd211c"
   },
   "outputs": [
    {
     "data": {
      "text/plain": [
       "(109355, 93)"
      ]
     },
     "execution_count": 57,
     "metadata": {},
     "output_type": "execute_result"
    }
   ],
   "source": [
    "inputs.shape"
   ]
  },
  {
   "cell_type": "code",
   "execution_count": 58,
   "metadata": {},
   "outputs": [
    {
     "data": {
      "text/plain": [
       "array([[-0.96565418, -1.02510763, -1.00583909, ..., -0.93439145,\n",
       "        -0.44236428, -1.17577208],\n",
       "       [-0.48924106,  0.52100408, -1.00583909, ..., -1.65295975,\n",
       "        -0.75870877,  0.77838022],\n",
       "       [ 0.86051702,  1.64728977,  0.9941948 , ..., -1.14274709,\n",
       "         0.67330256, -1.01421832],\n",
       "       ...,\n",
       "       [ 1.37607763, -1.36785667, -1.00583909, ..., -1.12031787,\n",
       "        -1.07531388,  1.41145663],\n",
       "       [ 1.36296915, -0.09377084, -1.00583909, ..., -1.38882618,\n",
       "        -0.86376892, -0.68659868],\n",
       "       [-0.99631971, -0.45089016, -1.00583909, ..., -1.08667404,\n",
       "        -1.30369417, -1.63973307]])"
      ]
     },
     "execution_count": 58,
     "metadata": {},
     "output_type": "execute_result"
    }
   ],
   "source": [
    "x_test"
   ]
  },
  {
   "cell_type": "code",
   "execution_count": 59,
   "metadata": {},
   "outputs": [
    {
     "data": {
      "text/plain": [
       "<bound method NDFrame.head of              0         1         2         3         4         5         6   \\\n",
       "0     -0.965654 -1.025108 -1.005839 -1.011230  0.996946  0.995347 -0.004105   \n",
       "1     -0.489241  0.521004 -1.005839 -1.011230 -1.003063  0.995347 -0.982235   \n",
       "2      0.860517  1.647290  0.994195  0.988895  0.996946  0.995347  0.974026   \n",
       "3      1.110705  0.164122 -1.005839  0.988895 -1.003063  0.995347 -1.960365   \n",
       "4     -0.661134 -0.887521 -1.005839  0.988895 -1.003063  0.995347  0.974026   \n",
       "...         ...       ...       ...       ...       ...       ...       ...   \n",
       "10931  1.222928 -1.087755  0.994195 -1.011230  0.996946 -1.004675 -1.960365   \n",
       "10932  1.649398 -0.580520  0.994195 -1.011230 -1.003063 -1.004675  0.974026   \n",
       "10933  1.376078 -1.367857 -1.005839 -1.011230 -1.003063  0.995347  0.974026   \n",
       "10934  1.362969 -0.093771 -1.005839 -1.011230  0.996946  0.995347  0.974026   \n",
       "10935 -0.996320 -0.450890 -1.005839 -1.011230 -1.003063  0.995347 -2.938495   \n",
       "\n",
       "             7         8         9   ...        83        84        85  \\\n",
       "0     -0.813551 -0.819341  1.223828  ...  1.039587 -0.618669  1.573290   \n",
       "1     -0.813551  1.220493 -0.817109  ...  0.028826 -1.280170 -1.075525   \n",
       "2     -0.813551 -0.819341  1.223828  ... -0.865972 -1.230602 -0.628716   \n",
       "3     -0.813551 -0.819341  1.223828  ...  0.857653 -0.003696  0.970257   \n",
       "4     -0.813551 -0.819341  1.223828  ...  0.339377  1.373588  0.825121   \n",
       "...         ...       ...       ...  ...       ...       ...       ...   \n",
       "10931 -0.813551  1.220493 -0.817109  ... -1.431749  1.240601 -0.654093   \n",
       "10932  1.229179 -0.819341  1.223828  ...  0.477861 -1.045024  0.344562   \n",
       "10933  1.229179  1.220493 -0.817109  ... -0.839210  0.567891 -1.080057   \n",
       "10934 -0.813551  1.220493 -0.817109  ... -0.908988  1.214694  0.608195   \n",
       "10935 -0.813551  1.220493 -0.817109  ...  0.227551  0.018670 -1.346717   \n",
       "\n",
       "             86        87        88        89        90        91        92  \n",
       "0     -0.751625  0.574260 -0.812199  0.457030 -0.934391 -0.442364 -1.175772  \n",
       "1     -1.333100  1.467707 -0.116571  0.783579 -1.652960 -0.758709  0.778380  \n",
       "2     -1.247133 -0.773614 -0.739336 -0.582640 -1.142747  0.673303 -1.014218  \n",
       "3     -0.961183 -1.439813 -0.961589 -1.494742 -1.171356 -0.572547  0.718046  \n",
       "4     -0.330071  1.448145 -0.626852  0.717853  1.689393  0.621528 -0.142277  \n",
       "...         ...       ...       ...       ...       ...       ...       ...  \n",
       "10931  0.979995  0.956152  1.268962 -1.068961 -0.575142  0.394972 -0.627648  \n",
       "10932  1.722480 -1.290951  1.041817  1.168225 -0.595106 -1.449739 -1.183655  \n",
       "10933  1.182208  0.738373  0.871890 -1.250792 -1.120318 -1.075314  1.411457  \n",
       "10934 -1.454445  0.057511 -0.636809 -0.238159 -1.388826 -0.863769 -0.686599  \n",
       "10935  1.607201  0.643679 -0.382784  1.291700 -1.086674 -1.303694 -1.639733  \n",
       "\n",
       "[10936 rows x 93 columns]>"
      ]
     },
     "execution_count": 59,
     "metadata": {},
     "output_type": "execute_result"
    }
   ],
   "source": [
    "x_p = pd.DataFrame(x_test)\n",
    "#pi = x_p.iloc[:, 27:50]\n",
    "#pi\n",
    "x_p.head"
   ]
  },
  {
   "cell_type": "code",
   "execution_count": 60,
   "metadata": {},
   "outputs": [],
   "source": [
    "#In the next cells, we are going to compute the suboptimality of the DNN solution vs others "
   ]
  },
  {
   "cell_type": "code",
   "execution_count": 61,
   "metadata": {},
   "outputs": [
    {
     "data": {
      "text/html": [
       "<div>\n",
       "<style scoped>\n",
       "    .dataframe tbody tr th:only-of-type {\n",
       "        vertical-align: middle;\n",
       "    }\n",
       "\n",
       "    .dataframe tbody tr th {\n",
       "        vertical-align: top;\n",
       "    }\n",
       "\n",
       "    .dataframe thead th {\n",
       "        text-align: right;\n",
       "    }\n",
       "</style>\n",
       "<table border=\"1\" class=\"dataframe\">\n",
       "  <thead>\n",
       "    <tr style=\"text-align: right;\">\n",
       "      <th></th>\n",
       "      <th>22</th>\n",
       "      <th>23</th>\n",
       "      <th>24</th>\n",
       "      <th>25</th>\n",
       "      <th>26</th>\n",
       "      <th>27</th>\n",
       "      <th>28</th>\n",
       "      <th>29</th>\n",
       "      <th>30</th>\n",
       "      <th>31</th>\n",
       "      <th>32</th>\n",
       "      <th>33</th>\n",
       "      <th>34</th>\n",
       "      <th>35</th>\n",
       "      <th>36</th>\n",
       "    </tr>\n",
       "  </thead>\n",
       "  <tbody>\n",
       "    <tr>\n",
       "      <th>0</th>\n",
       "      <td>1.134502</td>\n",
       "      <td>-0.522965</td>\n",
       "      <td>-0.983313</td>\n",
       "      <td>-1.258300</td>\n",
       "      <td>-0.437126</td>\n",
       "      <td>0.844939</td>\n",
       "      <td>1.378356</td>\n",
       "      <td>-1.558260</td>\n",
       "      <td>0.451588</td>\n",
       "      <td>-0.519617</td>\n",
       "      <td>0.178917</td>\n",
       "      <td>-1.185506</td>\n",
       "      <td>0.449627</td>\n",
       "      <td>0.732987</td>\n",
       "      <td>-0.886427</td>\n",
       "    </tr>\n",
       "    <tr>\n",
       "      <th>1</th>\n",
       "      <td>-0.553784</td>\n",
       "      <td>-1.418371</td>\n",
       "      <td>0.356850</td>\n",
       "      <td>-1.129016</td>\n",
       "      <td>-0.144219</td>\n",
       "      <td>0.169736</td>\n",
       "      <td>-1.514847</td>\n",
       "      <td>0.491402</td>\n",
       "      <td>-1.010697</td>\n",
       "      <td>-0.218277</td>\n",
       "      <td>0.801438</td>\n",
       "      <td>-1.621006</td>\n",
       "      <td>1.391682</td>\n",
       "      <td>-0.171666</td>\n",
       "      <td>1.186963</td>\n",
       "    </tr>\n",
       "    <tr>\n",
       "      <th>2</th>\n",
       "      <td>-1.562913</td>\n",
       "      <td>1.403970</td>\n",
       "      <td>1.458641</td>\n",
       "      <td>1.075123</td>\n",
       "      <td>-0.508314</td>\n",
       "      <td>-0.910650</td>\n",
       "      <td>-0.036498</td>\n",
       "      <td>-0.759228</td>\n",
       "      <td>1.000406</td>\n",
       "      <td>0.003282</td>\n",
       "      <td>0.086906</td>\n",
       "      <td>1.146834</td>\n",
       "      <td>0.347507</td>\n",
       "      <td>0.096030</td>\n",
       "      <td>1.096973</td>\n",
       "    </tr>\n",
       "    <tr>\n",
       "      <th>3</th>\n",
       "      <td>0.118403</td>\n",
       "      <td>0.739906</td>\n",
       "      <td>0.160953</td>\n",
       "      <td>-0.936476</td>\n",
       "      <td>-0.931591</td>\n",
       "      <td>-1.419230</td>\n",
       "      <td>0.947461</td>\n",
       "      <td>-1.416539</td>\n",
       "      <td>-0.640352</td>\n",
       "      <td>1.198304</td>\n",
       "      <td>1.176174</td>\n",
       "      <td>-0.662184</td>\n",
       "      <td>-0.118297</td>\n",
       "      <td>-0.448545</td>\n",
       "      <td>0.195648</td>\n",
       "    </tr>\n",
       "    <tr>\n",
       "      <th>4</th>\n",
       "      <td>-0.948872</td>\n",
       "      <td>-0.454614</td>\n",
       "      <td>1.640059</td>\n",
       "      <td>-0.138713</td>\n",
       "      <td>1.444572</td>\n",
       "      <td>-1.436571</td>\n",
       "      <td>0.881959</td>\n",
       "      <td>-1.282783</td>\n",
       "      <td>0.699357</td>\n",
       "      <td>-1.207635</td>\n",
       "      <td>-0.985199</td>\n",
       "      <td>-1.210762</td>\n",
       "      <td>-0.058659</td>\n",
       "      <td>-1.731875</td>\n",
       "      <td>-0.127169</td>\n",
       "    </tr>\n",
       "    <tr>\n",
       "      <th>...</th>\n",
       "      <td>...</td>\n",
       "      <td>...</td>\n",
       "      <td>...</td>\n",
       "      <td>...</td>\n",
       "      <td>...</td>\n",
       "      <td>...</td>\n",
       "      <td>...</td>\n",
       "      <td>...</td>\n",
       "      <td>...</td>\n",
       "      <td>...</td>\n",
       "      <td>...</td>\n",
       "      <td>...</td>\n",
       "      <td>...</td>\n",
       "      <td>...</td>\n",
       "      <td>...</td>\n",
       "    </tr>\n",
       "    <tr>\n",
       "      <th>10931</th>\n",
       "      <td>-0.789913</td>\n",
       "      <td>-1.096874</td>\n",
       "      <td>1.695859</td>\n",
       "      <td>-1.596216</td>\n",
       "      <td>1.248902</td>\n",
       "      <td>-1.337318</td>\n",
       "      <td>-0.589061</td>\n",
       "      <td>0.046345</td>\n",
       "      <td>-1.219738</td>\n",
       "      <td>-0.384784</td>\n",
       "      <td>-1.552960</td>\n",
       "      <td>-0.503468</td>\n",
       "      <td>-1.583827</td>\n",
       "      <td>1.008983</td>\n",
       "      <td>0.434441</td>\n",
       "    </tr>\n",
       "    <tr>\n",
       "      <th>10932</th>\n",
       "      <td>1.068539</td>\n",
       "      <td>-1.413732</td>\n",
       "      <td>-1.528105</td>\n",
       "      <td>0.077582</td>\n",
       "      <td>0.601634</td>\n",
       "      <td>0.015888</td>\n",
       "      <td>-0.205769</td>\n",
       "      <td>0.150010</td>\n",
       "      <td>-1.060474</td>\n",
       "      <td>1.242053</td>\n",
       "      <td>-1.594790</td>\n",
       "      <td>0.125716</td>\n",
       "      <td>0.612040</td>\n",
       "      <td>0.637415</td>\n",
       "      <td>1.459358</td>\n",
       "    </tr>\n",
       "    <tr>\n",
       "      <th>10933</th>\n",
       "      <td>0.145590</td>\n",
       "      <td>0.304980</td>\n",
       "      <td>-0.551585</td>\n",
       "      <td>-0.376452</td>\n",
       "      <td>-1.272983</td>\n",
       "      <td>0.759766</td>\n",
       "      <td>-1.277604</td>\n",
       "      <td>0.800510</td>\n",
       "      <td>-1.193791</td>\n",
       "      <td>-0.839167</td>\n",
       "      <td>-1.197311</td>\n",
       "      <td>-1.008135</td>\n",
       "      <td>-0.448095</td>\n",
       "      <td>-0.706364</td>\n",
       "      <td>-1.284416</td>\n",
       "    </tr>\n",
       "    <tr>\n",
       "      <th>10934</th>\n",
       "      <td>0.856401</td>\n",
       "      <td>0.965256</td>\n",
       "      <td>-0.534718</td>\n",
       "      <td>0.557949</td>\n",
       "      <td>-0.190894</td>\n",
       "      <td>1.686765</td>\n",
       "      <td>-0.686234</td>\n",
       "      <td>-1.033165</td>\n",
       "      <td>-1.150520</td>\n",
       "      <td>0.365538</td>\n",
       "      <td>0.954788</td>\n",
       "      <td>-1.109890</td>\n",
       "      <td>0.602904</td>\n",
       "      <td>-1.440162</td>\n",
       "      <td>-0.276742</td>\n",
       "    </tr>\n",
       "    <tr>\n",
       "      <th>10935</th>\n",
       "      <td>-0.847867</td>\n",
       "      <td>0.781813</td>\n",
       "      <td>1.402649</td>\n",
       "      <td>-0.830369</td>\n",
       "      <td>1.080246</td>\n",
       "      <td>-0.307691</td>\n",
       "      <td>0.580179</td>\n",
       "      <td>0.387007</td>\n",
       "      <td>-0.190318</td>\n",
       "      <td>0.472402</td>\n",
       "      <td>0.614185</td>\n",
       "      <td>0.800154</td>\n",
       "      <td>-0.457578</td>\n",
       "      <td>-1.338326</td>\n",
       "      <td>-1.460200</td>\n",
       "    </tr>\n",
       "  </tbody>\n",
       "</table>\n",
       "<p>10936 rows × 15 columns</p>\n",
       "</div>"
      ],
      "text/plain": [
       "             22        23        24        25        26        27        28  \\\n",
       "0      1.134502 -0.522965 -0.983313 -1.258300 -0.437126  0.844939  1.378356   \n",
       "1     -0.553784 -1.418371  0.356850 -1.129016 -0.144219  0.169736 -1.514847   \n",
       "2     -1.562913  1.403970  1.458641  1.075123 -0.508314 -0.910650 -0.036498   \n",
       "3      0.118403  0.739906  0.160953 -0.936476 -0.931591 -1.419230  0.947461   \n",
       "4     -0.948872 -0.454614  1.640059 -0.138713  1.444572 -1.436571  0.881959   \n",
       "...         ...       ...       ...       ...       ...       ...       ...   \n",
       "10931 -0.789913 -1.096874  1.695859 -1.596216  1.248902 -1.337318 -0.589061   \n",
       "10932  1.068539 -1.413732 -1.528105  0.077582  0.601634  0.015888 -0.205769   \n",
       "10933  0.145590  0.304980 -0.551585 -0.376452 -1.272983  0.759766 -1.277604   \n",
       "10934  0.856401  0.965256 -0.534718  0.557949 -0.190894  1.686765 -0.686234   \n",
       "10935 -0.847867  0.781813  1.402649 -0.830369  1.080246 -0.307691  0.580179   \n",
       "\n",
       "             29        30        31        32        33        34        35  \\\n",
       "0     -1.558260  0.451588 -0.519617  0.178917 -1.185506  0.449627  0.732987   \n",
       "1      0.491402 -1.010697 -0.218277  0.801438 -1.621006  1.391682 -0.171666   \n",
       "2     -0.759228  1.000406  0.003282  0.086906  1.146834  0.347507  0.096030   \n",
       "3     -1.416539 -0.640352  1.198304  1.176174 -0.662184 -0.118297 -0.448545   \n",
       "4     -1.282783  0.699357 -1.207635 -0.985199 -1.210762 -0.058659 -1.731875   \n",
       "...         ...       ...       ...       ...       ...       ...       ...   \n",
       "10931  0.046345 -1.219738 -0.384784 -1.552960 -0.503468 -1.583827  1.008983   \n",
       "10932  0.150010 -1.060474  1.242053 -1.594790  0.125716  0.612040  0.637415   \n",
       "10933  0.800510 -1.193791 -0.839167 -1.197311 -1.008135 -0.448095 -0.706364   \n",
       "10934 -1.033165 -1.150520  0.365538  0.954788 -1.109890  0.602904 -1.440162   \n",
       "10935  0.387007 -0.190318  0.472402  0.614185  0.800154 -0.457578 -1.338326   \n",
       "\n",
       "             36  \n",
       "0     -0.886427  \n",
       "1      1.186963  \n",
       "2      1.096973  \n",
       "3      0.195648  \n",
       "4     -0.127169  \n",
       "...         ...  \n",
       "10931  0.434441  \n",
       "10932  1.459358  \n",
       "10933 -1.284416  \n",
       "10934 -0.276742  \n",
       "10935 -1.460200  \n",
       "\n",
       "[10936 rows x 15 columns]"
      ]
     },
     "execution_count": 61,
     "metadata": {},
     "output_type": "execute_result"
    }
   ],
   "source": [
    "x_pi = pd.DataFrame(x_test)\n",
    "x_pi = x_pi.iloc[:, 22:37]\n",
    "x_pi #Saving the energy prize"
   ]
  },
  {
   "cell_type": "code",
   "execution_count": 62,
   "metadata": {},
   "outputs": [
    {
     "data": {
      "text/html": [
       "<div>\n",
       "<style scoped>\n",
       "    .dataframe tbody tr th:only-of-type {\n",
       "        vertical-align: middle;\n",
       "    }\n",
       "\n",
       "    .dataframe tbody tr th {\n",
       "        vertical-align: top;\n",
       "    }\n",
       "\n",
       "    .dataframe thead th {\n",
       "        text-align: right;\n",
       "    }\n",
       "</style>\n",
       "<table border=\"1\" class=\"dataframe\">\n",
       "  <thead>\n",
       "    <tr style=\"text-align: right;\">\n",
       "      <th></th>\n",
       "      <th>0</th>\n",
       "      <th>1</th>\n",
       "      <th>2</th>\n",
       "      <th>3</th>\n",
       "      <th>4</th>\n",
       "      <th>5</th>\n",
       "      <th>6</th>\n",
       "      <th>7</th>\n",
       "      <th>8</th>\n",
       "      <th>9</th>\n",
       "      <th>...</th>\n",
       "      <th>50</th>\n",
       "      <th>51</th>\n",
       "      <th>52</th>\n",
       "      <th>53</th>\n",
       "      <th>54</th>\n",
       "      <th>55</th>\n",
       "      <th>56</th>\n",
       "      <th>57</th>\n",
       "      <th>58</th>\n",
       "      <th>59</th>\n",
       "    </tr>\n",
       "  </thead>\n",
       "  <tbody>\n",
       "    <tr>\n",
       "      <th>0</th>\n",
       "      <td>2.831221e-06</td>\n",
       "      <td>0.000979</td>\n",
       "      <td>0.076831</td>\n",
       "      <td>0.432224</td>\n",
       "      <td>0.013813</td>\n",
       "      <td>0.000619</td>\n",
       "      <td>0.012803</td>\n",
       "      <td>0.571589</td>\n",
       "      <td>0.007800</td>\n",
       "      <td>0.054516</td>\n",
       "      <td>...</td>\n",
       "      <td>0.017435</td>\n",
       "      <td>0.049085</td>\n",
       "      <td>0.546773</td>\n",
       "      <td>0.009392</td>\n",
       "      <td>0.059583</td>\n",
       "      <td>0.023902</td>\n",
       "      <td>0.227151</td>\n",
       "      <td>0.013348</td>\n",
       "      <td>0.031668</td>\n",
       "      <td>0.000209</td>\n",
       "    </tr>\n",
       "    <tr>\n",
       "      <th>1</th>\n",
       "      <td>1.415610e-05</td>\n",
       "      <td>0.004694</td>\n",
       "      <td>0.001173</td>\n",
       "      <td>0.034478</td>\n",
       "      <td>0.003755</td>\n",
       "      <td>0.010581</td>\n",
       "      <td>0.692604</td>\n",
       "      <td>0.022296</td>\n",
       "      <td>0.159444</td>\n",
       "      <td>0.018018</td>\n",
       "      <td>...</td>\n",
       "      <td>0.015726</td>\n",
       "      <td>0.525657</td>\n",
       "      <td>0.012539</td>\n",
       "      <td>0.113098</td>\n",
       "      <td>0.021330</td>\n",
       "      <td>0.016416</td>\n",
       "      <td>0.341426</td>\n",
       "      <td>0.011575</td>\n",
       "      <td>0.045774</td>\n",
       "      <td>0.000153</td>\n",
       "    </tr>\n",
       "    <tr>\n",
       "      <th>2</th>\n",
       "      <td>9.999940e-01</td>\n",
       "      <td>0.978135</td>\n",
       "      <td>0.006450</td>\n",
       "      <td>0.017784</td>\n",
       "      <td>0.059489</td>\n",
       "      <td>0.726715</td>\n",
       "      <td>0.009627</td>\n",
       "      <td>0.387536</td>\n",
       "      <td>0.018408</td>\n",
       "      <td>0.071646</td>\n",
       "      <td>...</td>\n",
       "      <td>0.424879</td>\n",
       "      <td>0.010036</td>\n",
       "      <td>0.552111</td>\n",
       "      <td>0.022141</td>\n",
       "      <td>0.076547</td>\n",
       "      <td>0.070549</td>\n",
       "      <td>0.056907</td>\n",
       "      <td>0.223028</td>\n",
       "      <td>0.065829</td>\n",
       "      <td>0.000630</td>\n",
       "    </tr>\n",
       "    <tr>\n",
       "      <th>3</th>\n",
       "      <td>1.338124e-05</td>\n",
       "      <td>0.000146</td>\n",
       "      <td>0.002954</td>\n",
       "      <td>0.045870</td>\n",
       "      <td>0.008113</td>\n",
       "      <td>0.516991</td>\n",
       "      <td>0.016359</td>\n",
       "      <td>0.457027</td>\n",
       "      <td>0.086575</td>\n",
       "      <td>0.010340</td>\n",
       "      <td>...</td>\n",
       "      <td>0.572587</td>\n",
       "      <td>0.015313</td>\n",
       "      <td>0.322345</td>\n",
       "      <td>0.087801</td>\n",
       "      <td>0.016397</td>\n",
       "      <td>0.028096</td>\n",
       "      <td>0.168104</td>\n",
       "      <td>0.037335</td>\n",
       "      <td>0.066356</td>\n",
       "      <td>0.000346</td>\n",
       "    </tr>\n",
       "    <tr>\n",
       "      <th>4</th>\n",
       "      <td>4.640967e-03</td>\n",
       "      <td>0.000516</td>\n",
       "      <td>0.000357</td>\n",
       "      <td>0.016862</td>\n",
       "      <td>0.006000</td>\n",
       "      <td>0.606199</td>\n",
       "      <td>0.018810</td>\n",
       "      <td>0.411501</td>\n",
       "      <td>0.011328</td>\n",
       "      <td>0.062773</td>\n",
       "      <td>...</td>\n",
       "      <td>0.312966</td>\n",
       "      <td>0.022076</td>\n",
       "      <td>0.400075</td>\n",
       "      <td>0.010807</td>\n",
       "      <td>0.098111</td>\n",
       "      <td>0.076018</td>\n",
       "      <td>0.269350</td>\n",
       "      <td>0.018841</td>\n",
       "      <td>0.047679</td>\n",
       "      <td>0.000362</td>\n",
       "    </tr>\n",
       "    <tr>\n",
       "      <th>...</th>\n",
       "      <td>...</td>\n",
       "      <td>...</td>\n",
       "      <td>...</td>\n",
       "      <td>...</td>\n",
       "      <td>...</td>\n",
       "      <td>...</td>\n",
       "      <td>...</td>\n",
       "      <td>...</td>\n",
       "      <td>...</td>\n",
       "      <td>...</td>\n",
       "      <td>...</td>\n",
       "      <td>...</td>\n",
       "      <td>...</td>\n",
       "      <td>...</td>\n",
       "      <td>...</td>\n",
       "      <td>...</td>\n",
       "      <td>...</td>\n",
       "      <td>...</td>\n",
       "      <td>...</td>\n",
       "      <td>...</td>\n",
       "      <td>...</td>\n",
       "    </tr>\n",
       "    <tr>\n",
       "      <th>10931</th>\n",
       "      <td>9.999809e-01</td>\n",
       "      <td>0.002903</td>\n",
       "      <td>0.000604</td>\n",
       "      <td>0.131424</td>\n",
       "      <td>0.005864</td>\n",
       "      <td>0.227412</td>\n",
       "      <td>0.029556</td>\n",
       "      <td>0.036047</td>\n",
       "      <td>0.171874</td>\n",
       "      <td>0.016077</td>\n",
       "      <td>...</td>\n",
       "      <td>0.099966</td>\n",
       "      <td>0.027121</td>\n",
       "      <td>0.041491</td>\n",
       "      <td>0.122891</td>\n",
       "      <td>0.011416</td>\n",
       "      <td>0.378051</td>\n",
       "      <td>0.029322</td>\n",
       "      <td>0.136159</td>\n",
       "      <td>0.035819</td>\n",
       "      <td>0.000217</td>\n",
       "    </tr>\n",
       "    <tr>\n",
       "      <th>10932</th>\n",
       "      <td>1.000000e+00</td>\n",
       "      <td>0.999321</td>\n",
       "      <td>0.870474</td>\n",
       "      <td>0.056087</td>\n",
       "      <td>0.000528</td>\n",
       "      <td>0.041651</td>\n",
       "      <td>0.039285</td>\n",
       "      <td>0.010902</td>\n",
       "      <td>0.257577</td>\n",
       "      <td>0.011364</td>\n",
       "      <td>...</td>\n",
       "      <td>0.029131</td>\n",
       "      <td>0.048267</td>\n",
       "      <td>0.050860</td>\n",
       "      <td>0.359246</td>\n",
       "      <td>0.012000</td>\n",
       "      <td>0.509645</td>\n",
       "      <td>0.031909</td>\n",
       "      <td>0.014899</td>\n",
       "      <td>0.030890</td>\n",
       "      <td>0.000190</td>\n",
       "    </tr>\n",
       "    <tr>\n",
       "      <th>10933</th>\n",
       "      <td>1.788139e-07</td>\n",
       "      <td>0.020689</td>\n",
       "      <td>0.000405</td>\n",
       "      <td>0.005160</td>\n",
       "      <td>0.109877</td>\n",
       "      <td>0.008105</td>\n",
       "      <td>0.374866</td>\n",
       "      <td>0.013912</td>\n",
       "      <td>0.346502</td>\n",
       "      <td>0.016735</td>\n",
       "      <td>...</td>\n",
       "      <td>0.002408</td>\n",
       "      <td>0.241665</td>\n",
       "      <td>0.014566</td>\n",
       "      <td>0.269520</td>\n",
       "      <td>0.011343</td>\n",
       "      <td>0.404312</td>\n",
       "      <td>0.084428</td>\n",
       "      <td>0.024677</td>\n",
       "      <td>0.045595</td>\n",
       "      <td>0.000635</td>\n",
       "    </tr>\n",
       "    <tr>\n",
       "      <th>10934</th>\n",
       "      <td>0.000000e+00</td>\n",
       "      <td>0.004619</td>\n",
       "      <td>0.000086</td>\n",
       "      <td>0.000160</td>\n",
       "      <td>0.004858</td>\n",
       "      <td>0.003542</td>\n",
       "      <td>0.024206</td>\n",
       "      <td>0.096741</td>\n",
       "      <td>0.436482</td>\n",
       "      <td>0.011090</td>\n",
       "      <td>...</td>\n",
       "      <td>0.016878</td>\n",
       "      <td>0.020304</td>\n",
       "      <td>0.062182</td>\n",
       "      <td>0.452750</td>\n",
       "      <td>0.014792</td>\n",
       "      <td>0.011998</td>\n",
       "      <td>0.310569</td>\n",
       "      <td>0.012631</td>\n",
       "      <td>0.046379</td>\n",
       "      <td>0.000122</td>\n",
       "    </tr>\n",
       "    <tr>\n",
       "      <th>10935</th>\n",
       "      <td>3.307164e-04</td>\n",
       "      <td>0.000382</td>\n",
       "      <td>0.004240</td>\n",
       "      <td>0.803237</td>\n",
       "      <td>0.008002</td>\n",
       "      <td>0.121646</td>\n",
       "      <td>0.012547</td>\n",
       "      <td>0.010457</td>\n",
       "      <td>0.337702</td>\n",
       "      <td>0.040569</td>\n",
       "      <td>...</td>\n",
       "      <td>0.156276</td>\n",
       "      <td>0.018364</td>\n",
       "      <td>0.011634</td>\n",
       "      <td>0.215463</td>\n",
       "      <td>0.047207</td>\n",
       "      <td>0.018155</td>\n",
       "      <td>0.023116</td>\n",
       "      <td>0.125332</td>\n",
       "      <td>0.027799</td>\n",
       "      <td>0.000094</td>\n",
       "    </tr>\n",
       "  </tbody>\n",
       "</table>\n",
       "<p>10936 rows × 60 columns</p>\n",
       "</div>"
      ],
      "text/plain": [
       "                 0         1         2         3         4         5   \\\n",
       "0      2.831221e-06  0.000979  0.076831  0.432224  0.013813  0.000619   \n",
       "1      1.415610e-05  0.004694  0.001173  0.034478  0.003755  0.010581   \n",
       "2      9.999940e-01  0.978135  0.006450  0.017784  0.059489  0.726715   \n",
       "3      1.338124e-05  0.000146  0.002954  0.045870  0.008113  0.516991   \n",
       "4      4.640967e-03  0.000516  0.000357  0.016862  0.006000  0.606199   \n",
       "...             ...       ...       ...       ...       ...       ...   \n",
       "10931  9.999809e-01  0.002903  0.000604  0.131424  0.005864  0.227412   \n",
       "10932  1.000000e+00  0.999321  0.870474  0.056087  0.000528  0.041651   \n",
       "10933  1.788139e-07  0.020689  0.000405  0.005160  0.109877  0.008105   \n",
       "10934  0.000000e+00  0.004619  0.000086  0.000160  0.004858  0.003542   \n",
       "10935  3.307164e-04  0.000382  0.004240  0.803237  0.008002  0.121646   \n",
       "\n",
       "             6         7         8         9   ...        50        51  \\\n",
       "0      0.012803  0.571589  0.007800  0.054516  ...  0.017435  0.049085   \n",
       "1      0.692604  0.022296  0.159444  0.018018  ...  0.015726  0.525657   \n",
       "2      0.009627  0.387536  0.018408  0.071646  ...  0.424879  0.010036   \n",
       "3      0.016359  0.457027  0.086575  0.010340  ...  0.572587  0.015313   \n",
       "4      0.018810  0.411501  0.011328  0.062773  ...  0.312966  0.022076   \n",
       "...         ...       ...       ...       ...  ...       ...       ...   \n",
       "10931  0.029556  0.036047  0.171874  0.016077  ...  0.099966  0.027121   \n",
       "10932  0.039285  0.010902  0.257577  0.011364  ...  0.029131  0.048267   \n",
       "10933  0.374866  0.013912  0.346502  0.016735  ...  0.002408  0.241665   \n",
       "10934  0.024206  0.096741  0.436482  0.011090  ...  0.016878  0.020304   \n",
       "10935  0.012547  0.010457  0.337702  0.040569  ...  0.156276  0.018364   \n",
       "\n",
       "             52        53        54        55        56        57        58  \\\n",
       "0      0.546773  0.009392  0.059583  0.023902  0.227151  0.013348  0.031668   \n",
       "1      0.012539  0.113098  0.021330  0.016416  0.341426  0.011575  0.045774   \n",
       "2      0.552111  0.022141  0.076547  0.070549  0.056907  0.223028  0.065829   \n",
       "3      0.322345  0.087801  0.016397  0.028096  0.168104  0.037335  0.066356   \n",
       "4      0.400075  0.010807  0.098111  0.076018  0.269350  0.018841  0.047679   \n",
       "...         ...       ...       ...       ...       ...       ...       ...   \n",
       "10931  0.041491  0.122891  0.011416  0.378051  0.029322  0.136159  0.035819   \n",
       "10932  0.050860  0.359246  0.012000  0.509645  0.031909  0.014899  0.030890   \n",
       "10933  0.014566  0.269520  0.011343  0.404312  0.084428  0.024677  0.045595   \n",
       "10934  0.062182  0.452750  0.014792  0.011998  0.310569  0.012631  0.046379   \n",
       "10935  0.011634  0.215463  0.047207  0.018155  0.023116  0.125332  0.027799   \n",
       "\n",
       "             59  \n",
       "0      0.000209  \n",
       "1      0.000153  \n",
       "2      0.000630  \n",
       "3      0.000346  \n",
       "4      0.000362  \n",
       "...         ...  \n",
       "10931  0.000217  \n",
       "10932  0.000190  \n",
       "10933  0.000635  \n",
       "10934  0.000122  \n",
       "10935  0.000094  \n",
       "\n",
       "[10936 rows x 60 columns]"
      ]
     },
     "execution_count": 62,
     "metadata": {},
     "output_type": "execute_result"
    }
   ],
   "source": [
    "#saving the test and predicted switching\n",
    "y_test= pd.DataFrame(y_test)\n",
    "y_train= pd.DataFrame(y_train)\n",
    "y_pred= pd.DataFrame(y_pred)\n",
    "y_pred\n"
   ]
  },
  {
   "cell_type": "code",
   "execution_count": 63,
   "metadata": {
    "id": "ZQpsT-B6aMra"
   },
   "outputs": [
    {
     "data": {
      "text/plain": [
       "'\\nx_p = pd.DataFrame(inputs.values)            #Energy price of inputs\\nx_p = x_p.iloc[65544:81881, 18:50]            # Saving the Energy price\\nx_p.index = range(len(x_p))\\nx_p.columns = range(x_p.shape[1])\\n\\n\\ny_test= pd.DataFrame(y_test)\\ny_test = y_test.iloc[0:16377, 0:14]\\ny_test.index = range(len(y_test))\\ny_test.columns = range(y_test.shape[1])\\n\\ny_pred= pd.DataFrame(y_pred_binary)\\ny_pred = y_pred.iloc[0:16377, 0:14]\\ny_pred.index = range(len(y_pred))\\ny_pred.columns = range(y_pred.shape[1])\\n'"
      ]
     },
     "execution_count": 63,
     "metadata": {},
     "output_type": "execute_result"
    }
   ],
   "source": [
    "'''\n",
    "x_p = pd.DataFrame(inputs.values)            #Energy price of inputs\n",
    "x_p = x_p.iloc[65544:81881, 18:50]            # Saving the Energy price\n",
    "x_p.index = range(len(x_p))\n",
    "x_p.columns = range(x_p.shape[1])\n",
    "\n",
    "\n",
    "y_test= pd.DataFrame(y_test)\n",
    "y_test = y_test.iloc[0:16377, 0:14]\n",
    "y_test.index = range(len(y_test))\n",
    "y_test.columns = range(y_test.shape[1])\n",
    "\n",
    "y_pred= pd.DataFrame(y_pred_binary)\n",
    "y_pred = y_pred.iloc[0:16377, 0:14]\n",
    "y_pred.index = range(len(y_pred))\n",
    "y_pred.columns = range(y_pred.shape[1])\n",
    "'''\n",
    "#testing = pd.concat([x_pi, y_test, y_pred], axis=1)\n",
    "#testing.to_excel('testing.xlsx', index = False)"
   ]
  },
  {
   "cell_type": "code",
   "execution_count": 64,
   "metadata": {
    "id": "cmavpKE-GMCX"
   },
   "outputs": [],
   "source": [
    "concat_x_pi =  pd.concat([x_pi, x_pi, x_pi, x_pi], ignore_index=True, axis=1)\n",
    "concat_x_pi= pd.DataFrame(concat_x_pi)\n",
    "#concat_x_pi.index = new_index\n",
    "concat_x_pi = concat_x_pi.T\n"
   ]
  },
  {
   "cell_type": "code",
   "execution_count": 65,
   "metadata": {},
   "outputs": [
    {
     "data": {
      "text/plain": [
       "(60, 10936)"
      ]
     },
     "execution_count": 65,
     "metadata": {},
     "output_type": "execute_result"
    }
   ],
   "source": [
    "concat_x_pi = abs(concat_x_pi)\n",
    "concat_x_pi.shape"
   ]
  },
  {
   "cell_type": "code",
   "execution_count": 66,
   "metadata": {
    "colab": {
     "base_uri": "https://localhost:8080/",
     "height": 35
    },
    "id": "kyDfSEAnHTYC",
    "outputId": "a6daab74-55ac-445e-8835-2a1869120f5f"
   },
   "outputs": [
    {
     "data": {
      "text/plain": [
       "(10936, 60)"
      ]
     },
     "execution_count": 66,
     "metadata": {},
     "output_type": "execute_result"
    }
   ],
   "source": [
    "y_pred.shape\n"
   ]
  },
  {
   "cell_type": "code",
   "execution_count": 67,
   "metadata": {},
   "outputs": [],
   "source": [
    "y_pred = y_pred"
   ]
  },
  {
   "cell_type": "code",
   "execution_count": 68,
   "metadata": {},
   "outputs": [
    {
     "data": {
      "text/html": [
       "<div>\n",
       "<style scoped>\n",
       "    .dataframe tbody tr th:only-of-type {\n",
       "        vertical-align: middle;\n",
       "    }\n",
       "\n",
       "    .dataframe tbody tr th {\n",
       "        vertical-align: top;\n",
       "    }\n",
       "\n",
       "    .dataframe thead th {\n",
       "        text-align: right;\n",
       "    }\n",
       "</style>\n",
       "<table border=\"1\" class=\"dataframe\">\n",
       "  <thead>\n",
       "    <tr style=\"text-align: right;\">\n",
       "      <th></th>\n",
       "      <th>0</th>\n",
       "      <th>1</th>\n",
       "      <th>2</th>\n",
       "      <th>3</th>\n",
       "      <th>4</th>\n",
       "      <th>5</th>\n",
       "      <th>6</th>\n",
       "      <th>7</th>\n",
       "      <th>8</th>\n",
       "      <th>9</th>\n",
       "      <th>...</th>\n",
       "      <th>50</th>\n",
       "      <th>51</th>\n",
       "      <th>52</th>\n",
       "      <th>53</th>\n",
       "      <th>54</th>\n",
       "      <th>55</th>\n",
       "      <th>56</th>\n",
       "      <th>57</th>\n",
       "      <th>58</th>\n",
       "      <th>59</th>\n",
       "    </tr>\n",
       "  </thead>\n",
       "  <tbody>\n",
       "    <tr>\n",
       "      <th>0</th>\n",
       "      <td>2.831221e-06</td>\n",
       "      <td>0.000979</td>\n",
       "      <td>0.076831</td>\n",
       "      <td>0.432224</td>\n",
       "      <td>0.013813</td>\n",
       "      <td>0.000619</td>\n",
       "      <td>0.012803</td>\n",
       "      <td>0.571589</td>\n",
       "      <td>0.007800</td>\n",
       "      <td>0.054516</td>\n",
       "      <td>...</td>\n",
       "      <td>0.017435</td>\n",
       "      <td>0.049085</td>\n",
       "      <td>0.546773</td>\n",
       "      <td>0.009392</td>\n",
       "      <td>0.059583</td>\n",
       "      <td>0.023902</td>\n",
       "      <td>0.227151</td>\n",
       "      <td>0.013348</td>\n",
       "      <td>0.031668</td>\n",
       "      <td>0.000209</td>\n",
       "    </tr>\n",
       "    <tr>\n",
       "      <th>1</th>\n",
       "      <td>1.415610e-05</td>\n",
       "      <td>0.004694</td>\n",
       "      <td>0.001173</td>\n",
       "      <td>0.034478</td>\n",
       "      <td>0.003755</td>\n",
       "      <td>0.010581</td>\n",
       "      <td>0.692604</td>\n",
       "      <td>0.022296</td>\n",
       "      <td>0.159444</td>\n",
       "      <td>0.018018</td>\n",
       "      <td>...</td>\n",
       "      <td>0.015726</td>\n",
       "      <td>0.525657</td>\n",
       "      <td>0.012539</td>\n",
       "      <td>0.113098</td>\n",
       "      <td>0.021330</td>\n",
       "      <td>0.016416</td>\n",
       "      <td>0.341426</td>\n",
       "      <td>0.011575</td>\n",
       "      <td>0.045774</td>\n",
       "      <td>0.000153</td>\n",
       "    </tr>\n",
       "    <tr>\n",
       "      <th>2</th>\n",
       "      <td>9.999940e-01</td>\n",
       "      <td>0.978135</td>\n",
       "      <td>0.006450</td>\n",
       "      <td>0.017784</td>\n",
       "      <td>0.059489</td>\n",
       "      <td>0.726715</td>\n",
       "      <td>0.009627</td>\n",
       "      <td>0.387536</td>\n",
       "      <td>0.018408</td>\n",
       "      <td>0.071646</td>\n",
       "      <td>...</td>\n",
       "      <td>0.424879</td>\n",
       "      <td>0.010036</td>\n",
       "      <td>0.552111</td>\n",
       "      <td>0.022141</td>\n",
       "      <td>0.076547</td>\n",
       "      <td>0.070549</td>\n",
       "      <td>0.056907</td>\n",
       "      <td>0.223028</td>\n",
       "      <td>0.065829</td>\n",
       "      <td>0.000630</td>\n",
       "    </tr>\n",
       "    <tr>\n",
       "      <th>3</th>\n",
       "      <td>1.338124e-05</td>\n",
       "      <td>0.000146</td>\n",
       "      <td>0.002954</td>\n",
       "      <td>0.045870</td>\n",
       "      <td>0.008113</td>\n",
       "      <td>0.516991</td>\n",
       "      <td>0.016359</td>\n",
       "      <td>0.457027</td>\n",
       "      <td>0.086575</td>\n",
       "      <td>0.010340</td>\n",
       "      <td>...</td>\n",
       "      <td>0.572587</td>\n",
       "      <td>0.015313</td>\n",
       "      <td>0.322345</td>\n",
       "      <td>0.087801</td>\n",
       "      <td>0.016397</td>\n",
       "      <td>0.028096</td>\n",
       "      <td>0.168104</td>\n",
       "      <td>0.037335</td>\n",
       "      <td>0.066356</td>\n",
       "      <td>0.000346</td>\n",
       "    </tr>\n",
       "    <tr>\n",
       "      <th>4</th>\n",
       "      <td>4.640967e-03</td>\n",
       "      <td>0.000516</td>\n",
       "      <td>0.000357</td>\n",
       "      <td>0.016862</td>\n",
       "      <td>0.006000</td>\n",
       "      <td>0.606199</td>\n",
       "      <td>0.018810</td>\n",
       "      <td>0.411501</td>\n",
       "      <td>0.011328</td>\n",
       "      <td>0.062773</td>\n",
       "      <td>...</td>\n",
       "      <td>0.312966</td>\n",
       "      <td>0.022076</td>\n",
       "      <td>0.400075</td>\n",
       "      <td>0.010807</td>\n",
       "      <td>0.098111</td>\n",
       "      <td>0.076018</td>\n",
       "      <td>0.269350</td>\n",
       "      <td>0.018841</td>\n",
       "      <td>0.047679</td>\n",
       "      <td>0.000362</td>\n",
       "    </tr>\n",
       "    <tr>\n",
       "      <th>...</th>\n",
       "      <td>...</td>\n",
       "      <td>...</td>\n",
       "      <td>...</td>\n",
       "      <td>...</td>\n",
       "      <td>...</td>\n",
       "      <td>...</td>\n",
       "      <td>...</td>\n",
       "      <td>...</td>\n",
       "      <td>...</td>\n",
       "      <td>...</td>\n",
       "      <td>...</td>\n",
       "      <td>...</td>\n",
       "      <td>...</td>\n",
       "      <td>...</td>\n",
       "      <td>...</td>\n",
       "      <td>...</td>\n",
       "      <td>...</td>\n",
       "      <td>...</td>\n",
       "      <td>...</td>\n",
       "      <td>...</td>\n",
       "      <td>...</td>\n",
       "    </tr>\n",
       "    <tr>\n",
       "      <th>10931</th>\n",
       "      <td>9.999809e-01</td>\n",
       "      <td>0.002903</td>\n",
       "      <td>0.000604</td>\n",
       "      <td>0.131424</td>\n",
       "      <td>0.005864</td>\n",
       "      <td>0.227412</td>\n",
       "      <td>0.029556</td>\n",
       "      <td>0.036047</td>\n",
       "      <td>0.171874</td>\n",
       "      <td>0.016077</td>\n",
       "      <td>...</td>\n",
       "      <td>0.099966</td>\n",
       "      <td>0.027121</td>\n",
       "      <td>0.041491</td>\n",
       "      <td>0.122891</td>\n",
       "      <td>0.011416</td>\n",
       "      <td>0.378051</td>\n",
       "      <td>0.029322</td>\n",
       "      <td>0.136159</td>\n",
       "      <td>0.035819</td>\n",
       "      <td>0.000217</td>\n",
       "    </tr>\n",
       "    <tr>\n",
       "      <th>10932</th>\n",
       "      <td>1.000000e+00</td>\n",
       "      <td>0.999321</td>\n",
       "      <td>0.870474</td>\n",
       "      <td>0.056087</td>\n",
       "      <td>0.000528</td>\n",
       "      <td>0.041651</td>\n",
       "      <td>0.039285</td>\n",
       "      <td>0.010902</td>\n",
       "      <td>0.257577</td>\n",
       "      <td>0.011364</td>\n",
       "      <td>...</td>\n",
       "      <td>0.029131</td>\n",
       "      <td>0.048267</td>\n",
       "      <td>0.050860</td>\n",
       "      <td>0.359246</td>\n",
       "      <td>0.012000</td>\n",
       "      <td>0.509645</td>\n",
       "      <td>0.031909</td>\n",
       "      <td>0.014899</td>\n",
       "      <td>0.030890</td>\n",
       "      <td>0.000190</td>\n",
       "    </tr>\n",
       "    <tr>\n",
       "      <th>10933</th>\n",
       "      <td>1.788139e-07</td>\n",
       "      <td>0.020689</td>\n",
       "      <td>0.000405</td>\n",
       "      <td>0.005160</td>\n",
       "      <td>0.109877</td>\n",
       "      <td>0.008105</td>\n",
       "      <td>0.374866</td>\n",
       "      <td>0.013912</td>\n",
       "      <td>0.346502</td>\n",
       "      <td>0.016735</td>\n",
       "      <td>...</td>\n",
       "      <td>0.002408</td>\n",
       "      <td>0.241665</td>\n",
       "      <td>0.014566</td>\n",
       "      <td>0.269520</td>\n",
       "      <td>0.011343</td>\n",
       "      <td>0.404312</td>\n",
       "      <td>0.084428</td>\n",
       "      <td>0.024677</td>\n",
       "      <td>0.045595</td>\n",
       "      <td>0.000635</td>\n",
       "    </tr>\n",
       "    <tr>\n",
       "      <th>10934</th>\n",
       "      <td>0.000000e+00</td>\n",
       "      <td>0.004619</td>\n",
       "      <td>0.000086</td>\n",
       "      <td>0.000160</td>\n",
       "      <td>0.004858</td>\n",
       "      <td>0.003542</td>\n",
       "      <td>0.024206</td>\n",
       "      <td>0.096741</td>\n",
       "      <td>0.436482</td>\n",
       "      <td>0.011090</td>\n",
       "      <td>...</td>\n",
       "      <td>0.016878</td>\n",
       "      <td>0.020304</td>\n",
       "      <td>0.062182</td>\n",
       "      <td>0.452750</td>\n",
       "      <td>0.014792</td>\n",
       "      <td>0.011998</td>\n",
       "      <td>0.310569</td>\n",
       "      <td>0.012631</td>\n",
       "      <td>0.046379</td>\n",
       "      <td>0.000122</td>\n",
       "    </tr>\n",
       "    <tr>\n",
       "      <th>10935</th>\n",
       "      <td>3.307164e-04</td>\n",
       "      <td>0.000382</td>\n",
       "      <td>0.004240</td>\n",
       "      <td>0.803237</td>\n",
       "      <td>0.008002</td>\n",
       "      <td>0.121646</td>\n",
       "      <td>0.012547</td>\n",
       "      <td>0.010457</td>\n",
       "      <td>0.337702</td>\n",
       "      <td>0.040569</td>\n",
       "      <td>...</td>\n",
       "      <td>0.156276</td>\n",
       "      <td>0.018364</td>\n",
       "      <td>0.011634</td>\n",
       "      <td>0.215463</td>\n",
       "      <td>0.047207</td>\n",
       "      <td>0.018155</td>\n",
       "      <td>0.023116</td>\n",
       "      <td>0.125332</td>\n",
       "      <td>0.027799</td>\n",
       "      <td>0.000094</td>\n",
       "    </tr>\n",
       "  </tbody>\n",
       "</table>\n",
       "<p>10936 rows × 60 columns</p>\n",
       "</div>"
      ],
      "text/plain": [
       "                 0         1         2         3         4         5   \\\n",
       "0      2.831221e-06  0.000979  0.076831  0.432224  0.013813  0.000619   \n",
       "1      1.415610e-05  0.004694  0.001173  0.034478  0.003755  0.010581   \n",
       "2      9.999940e-01  0.978135  0.006450  0.017784  0.059489  0.726715   \n",
       "3      1.338124e-05  0.000146  0.002954  0.045870  0.008113  0.516991   \n",
       "4      4.640967e-03  0.000516  0.000357  0.016862  0.006000  0.606199   \n",
       "...             ...       ...       ...       ...       ...       ...   \n",
       "10931  9.999809e-01  0.002903  0.000604  0.131424  0.005864  0.227412   \n",
       "10932  1.000000e+00  0.999321  0.870474  0.056087  0.000528  0.041651   \n",
       "10933  1.788139e-07  0.020689  0.000405  0.005160  0.109877  0.008105   \n",
       "10934  0.000000e+00  0.004619  0.000086  0.000160  0.004858  0.003542   \n",
       "10935  3.307164e-04  0.000382  0.004240  0.803237  0.008002  0.121646   \n",
       "\n",
       "             6         7         8         9   ...        50        51  \\\n",
       "0      0.012803  0.571589  0.007800  0.054516  ...  0.017435  0.049085   \n",
       "1      0.692604  0.022296  0.159444  0.018018  ...  0.015726  0.525657   \n",
       "2      0.009627  0.387536  0.018408  0.071646  ...  0.424879  0.010036   \n",
       "3      0.016359  0.457027  0.086575  0.010340  ...  0.572587  0.015313   \n",
       "4      0.018810  0.411501  0.011328  0.062773  ...  0.312966  0.022076   \n",
       "...         ...       ...       ...       ...  ...       ...       ...   \n",
       "10931  0.029556  0.036047  0.171874  0.016077  ...  0.099966  0.027121   \n",
       "10932  0.039285  0.010902  0.257577  0.011364  ...  0.029131  0.048267   \n",
       "10933  0.374866  0.013912  0.346502  0.016735  ...  0.002408  0.241665   \n",
       "10934  0.024206  0.096741  0.436482  0.011090  ...  0.016878  0.020304   \n",
       "10935  0.012547  0.010457  0.337702  0.040569  ...  0.156276  0.018364   \n",
       "\n",
       "             52        53        54        55        56        57        58  \\\n",
       "0      0.546773  0.009392  0.059583  0.023902  0.227151  0.013348  0.031668   \n",
       "1      0.012539  0.113098  0.021330  0.016416  0.341426  0.011575  0.045774   \n",
       "2      0.552111  0.022141  0.076547  0.070549  0.056907  0.223028  0.065829   \n",
       "3      0.322345  0.087801  0.016397  0.028096  0.168104  0.037335  0.066356   \n",
       "4      0.400075  0.010807  0.098111  0.076018  0.269350  0.018841  0.047679   \n",
       "...         ...       ...       ...       ...       ...       ...       ...   \n",
       "10931  0.041491  0.122891  0.011416  0.378051  0.029322  0.136159  0.035819   \n",
       "10932  0.050860  0.359246  0.012000  0.509645  0.031909  0.014899  0.030890   \n",
       "10933  0.014566  0.269520  0.011343  0.404312  0.084428  0.024677  0.045595   \n",
       "10934  0.062182  0.452750  0.014792  0.011998  0.310569  0.012631  0.046379   \n",
       "10935  0.011634  0.215463  0.047207  0.018155  0.023116  0.125332  0.027799   \n",
       "\n",
       "             59  \n",
       "0      0.000209  \n",
       "1      0.000153  \n",
       "2      0.000630  \n",
       "3      0.000346  \n",
       "4      0.000362  \n",
       "...         ...  \n",
       "10931  0.000217  \n",
       "10932  0.000190  \n",
       "10933  0.000635  \n",
       "10934  0.000122  \n",
       "10935  0.000094  \n",
       "\n",
       "[10936 rows x 60 columns]"
      ]
     },
     "execution_count": 68,
     "metadata": {},
     "output_type": "execute_result"
    }
   ],
   "source": [
    "y_pred"
   ]
  },
  {
   "cell_type": "code",
   "execution_count": 69,
   "metadata": {
    "colab": {
     "base_uri": "https://localhost:8080/",
     "height": 427
    },
    "id": "8M0aZBT7HFzP",
    "outputId": "2ae09b1c-2193-41da-e402-43a5475e2eeb"
   },
   "outputs": [
    {
     "data": {
      "text/plain": [
       "(10936, 10936)"
      ]
     },
     "execution_count": 69,
     "metadata": {},
     "output_type": "execute_result"
    }
   ],
   "source": [
    "result_predict = y_pred.dot(concat_x_pi);\n",
    "result_predict.shape"
   ]
  },
  {
   "cell_type": "code",
   "execution_count": 70,
   "metadata": {},
   "outputs": [
    {
     "data": {
      "text/plain": [
       "(10936, 10936)"
      ]
     },
     "execution_count": 70,
     "metadata": {},
     "output_type": "execute_result"
    }
   ],
   "source": [
    "result_test = y_test.dot(concat_x_pi);\n",
    "result_test.shape"
   ]
  },
  {
   "cell_type": "code",
   "execution_count": 71,
   "metadata": {
    "id": "2_iywgm_0Ivw"
   },
   "outputs": [],
   "source": [
    "sub = abs(result_test - result_predict)\n"
   ]
  },
  {
   "cell_type": "code",
   "execution_count": 72,
   "metadata": {},
   "outputs": [
    {
     "data": {
      "text/html": [
       "<div>\n",
       "<style scoped>\n",
       "    .dataframe tbody tr th:only-of-type {\n",
       "        vertical-align: middle;\n",
       "    }\n",
       "\n",
       "    .dataframe tbody tr th {\n",
       "        vertical-align: top;\n",
       "    }\n",
       "\n",
       "    .dataframe thead th {\n",
       "        text-align: right;\n",
       "    }\n",
       "</style>\n",
       "<table border=\"1\" class=\"dataframe\">\n",
       "  <thead>\n",
       "    <tr style=\"text-align: right;\">\n",
       "      <th></th>\n",
       "      <th>0</th>\n",
       "      <th>1</th>\n",
       "      <th>2</th>\n",
       "      <th>3</th>\n",
       "      <th>4</th>\n",
       "      <th>5</th>\n",
       "      <th>6</th>\n",
       "      <th>7</th>\n",
       "      <th>8</th>\n",
       "      <th>9</th>\n",
       "      <th>...</th>\n",
       "      <th>10926</th>\n",
       "      <th>10927</th>\n",
       "      <th>10928</th>\n",
       "      <th>10929</th>\n",
       "      <th>10930</th>\n",
       "      <th>10931</th>\n",
       "      <th>10932</th>\n",
       "      <th>10933</th>\n",
       "      <th>10934</th>\n",
       "      <th>10935</th>\n",
       "    </tr>\n",
       "  </thead>\n",
       "  <tbody>\n",
       "    <tr>\n",
       "      <th>0</th>\n",
       "      <td>0.556426</td>\n",
       "      <td>1.611539</td>\n",
       "      <td>0.895906</td>\n",
       "      <td>0.221641</td>\n",
       "      <td>1.149779</td>\n",
       "      <td>0.087975</td>\n",
       "      <td>1.590287</td>\n",
       "      <td>0.463214</td>\n",
       "      <td>1.262243</td>\n",
       "      <td>1.117299</td>\n",
       "      <td>...</td>\n",
       "      <td>0.876441</td>\n",
       "      <td>1.054507</td>\n",
       "      <td>0.890738</td>\n",
       "      <td>0.946565</td>\n",
       "      <td>0.773241</td>\n",
       "      <td>1.372498</td>\n",
       "      <td>0.789771</td>\n",
       "      <td>1.061454</td>\n",
       "      <td>0.848521</td>\n",
       "      <td>1.153001</td>\n",
       "    </tr>\n",
       "    <tr>\n",
       "      <th>1</th>\n",
       "      <td>1.733163</td>\n",
       "      <td>1.989797</td>\n",
       "      <td>0.553014</td>\n",
       "      <td>0.735130</td>\n",
       "      <td>1.085762</td>\n",
       "      <td>0.310324</td>\n",
       "      <td>1.936451</td>\n",
       "      <td>1.107864</td>\n",
       "      <td>0.431338</td>\n",
       "      <td>0.248221</td>\n",
       "      <td>...</td>\n",
       "      <td>0.764397</td>\n",
       "      <td>0.785941</td>\n",
       "      <td>0.509652</td>\n",
       "      <td>0.517065</td>\n",
       "      <td>0.808043</td>\n",
       "      <td>0.546335</td>\n",
       "      <td>0.598709</td>\n",
       "      <td>1.500222</td>\n",
       "      <td>0.416485</td>\n",
       "      <td>0.482969</td>\n",
       "    </tr>\n",
       "    <tr>\n",
       "      <th>2</th>\n",
       "      <td>0.773820</td>\n",
       "      <td>1.571081</td>\n",
       "      <td>0.682714</td>\n",
       "      <td>0.153058</td>\n",
       "      <td>1.167182</td>\n",
       "      <td>1.173066</td>\n",
       "      <td>0.418314</td>\n",
       "      <td>0.640847</td>\n",
       "      <td>1.525581</td>\n",
       "      <td>0.443470</td>\n",
       "      <td>...</td>\n",
       "      <td>0.679877</td>\n",
       "      <td>1.572112</td>\n",
       "      <td>1.876519</td>\n",
       "      <td>1.456561</td>\n",
       "      <td>1.010987</td>\n",
       "      <td>0.137490</td>\n",
       "      <td>0.287236</td>\n",
       "      <td>0.129738</td>\n",
       "      <td>0.627080</td>\n",
       "      <td>0.388852</td>\n",
       "    </tr>\n",
       "    <tr>\n",
       "      <th>3</th>\n",
       "      <td>0.859600</td>\n",
       "      <td>0.918895</td>\n",
       "      <td>0.247890</td>\n",
       "      <td>0.350131</td>\n",
       "      <td>1.149893</td>\n",
       "      <td>1.254746</td>\n",
       "      <td>1.411093</td>\n",
       "      <td>0.838302</td>\n",
       "      <td>0.508807</td>\n",
       "      <td>0.670938</td>\n",
       "      <td>...</td>\n",
       "      <td>0.696868</td>\n",
       "      <td>0.899379</td>\n",
       "      <td>0.935765</td>\n",
       "      <td>0.785614</td>\n",
       "      <td>0.275023</td>\n",
       "      <td>1.020532</td>\n",
       "      <td>0.625044</td>\n",
       "      <td>0.539368</td>\n",
       "      <td>1.243113</td>\n",
       "      <td>0.239286</td>\n",
       "    </tr>\n",
       "    <tr>\n",
       "      <th>4</th>\n",
       "      <td>0.478389</td>\n",
       "      <td>0.720711</td>\n",
       "      <td>0.508467</td>\n",
       "      <td>0.110307</td>\n",
       "      <td>0.148764</td>\n",
       "      <td>0.896714</td>\n",
       "      <td>1.124150</td>\n",
       "      <td>0.094344</td>\n",
       "      <td>0.541665</td>\n",
       "      <td>0.718483</td>\n",
       "      <td>...</td>\n",
       "      <td>0.372761</td>\n",
       "      <td>0.800404</td>\n",
       "      <td>0.954314</td>\n",
       "      <td>0.403627</td>\n",
       "      <td>0.012957</td>\n",
       "      <td>0.858071</td>\n",
       "      <td>1.081799</td>\n",
       "      <td>0.321856</td>\n",
       "      <td>0.872092</td>\n",
       "      <td>0.504063</td>\n",
       "    </tr>\n",
       "    <tr>\n",
       "      <th>...</th>\n",
       "      <td>...</td>\n",
       "      <td>...</td>\n",
       "      <td>...</td>\n",
       "      <td>...</td>\n",
       "      <td>...</td>\n",
       "      <td>...</td>\n",
       "      <td>...</td>\n",
       "      <td>...</td>\n",
       "      <td>...</td>\n",
       "      <td>...</td>\n",
       "      <td>...</td>\n",
       "      <td>...</td>\n",
       "      <td>...</td>\n",
       "      <td>...</td>\n",
       "      <td>...</td>\n",
       "      <td>...</td>\n",
       "      <td>...</td>\n",
       "      <td>...</td>\n",
       "      <td>...</td>\n",
       "      <td>...</td>\n",
       "      <td>...</td>\n",
       "    </tr>\n",
       "    <tr>\n",
       "      <th>10931</th>\n",
       "      <td>0.299790</td>\n",
       "      <td>0.783185</td>\n",
       "      <td>0.875534</td>\n",
       "      <td>0.178350</td>\n",
       "      <td>0.025522</td>\n",
       "      <td>0.681062</td>\n",
       "      <td>0.770070</td>\n",
       "      <td>0.371636</td>\n",
       "      <td>0.641508</td>\n",
       "      <td>1.206001</td>\n",
       "      <td>...</td>\n",
       "      <td>0.610668</td>\n",
       "      <td>0.666478</td>\n",
       "      <td>0.748598</td>\n",
       "      <td>0.504860</td>\n",
       "      <td>0.670853</td>\n",
       "      <td>1.377020</td>\n",
       "      <td>0.154439</td>\n",
       "      <td>0.315565</td>\n",
       "      <td>0.813265</td>\n",
       "      <td>0.055076</td>\n",
       "    </tr>\n",
       "    <tr>\n",
       "      <th>10932</th>\n",
       "      <td>5.263030</td>\n",
       "      <td>4.149190</td>\n",
       "      <td>3.369860</td>\n",
       "      <td>2.565352</td>\n",
       "      <td>2.484277</td>\n",
       "      <td>2.125022</td>\n",
       "      <td>2.907298</td>\n",
       "      <td>3.594107</td>\n",
       "      <td>1.593987</td>\n",
       "      <td>4.878255</td>\n",
       "      <td>...</td>\n",
       "      <td>5.268426</td>\n",
       "      <td>4.496206</td>\n",
       "      <td>2.105664</td>\n",
       "      <td>0.488075</td>\n",
       "      <td>3.553116</td>\n",
       "      <td>2.164757</td>\n",
       "      <td>1.430023</td>\n",
       "      <td>1.937600</td>\n",
       "      <td>3.021044</td>\n",
       "      <td>1.810256</td>\n",
       "    </tr>\n",
       "    <tr>\n",
       "      <th>10933</th>\n",
       "      <td>0.786970</td>\n",
       "      <td>1.444813</td>\n",
       "      <td>0.953063</td>\n",
       "      <td>0.591548</td>\n",
       "      <td>0.715081</td>\n",
       "      <td>0.992270</td>\n",
       "      <td>0.220307</td>\n",
       "      <td>1.655501</td>\n",
       "      <td>0.754768</td>\n",
       "      <td>0.358277</td>\n",
       "      <td>...</td>\n",
       "      <td>0.219055</td>\n",
       "      <td>0.016295</td>\n",
       "      <td>0.094253</td>\n",
       "      <td>0.702001</td>\n",
       "      <td>1.684967</td>\n",
       "      <td>0.591347</td>\n",
       "      <td>0.316928</td>\n",
       "      <td>0.330151</td>\n",
       "      <td>1.272834</td>\n",
       "      <td>0.820829</td>\n",
       "    </tr>\n",
       "    <tr>\n",
       "      <th>10934</th>\n",
       "      <td>0.423953</td>\n",
       "      <td>0.654810</td>\n",
       "      <td>0.586572</td>\n",
       "      <td>0.499219</td>\n",
       "      <td>0.471112</td>\n",
       "      <td>1.037585</td>\n",
       "      <td>0.029217</td>\n",
       "      <td>0.401142</td>\n",
       "      <td>0.030217</td>\n",
       "      <td>0.443209</td>\n",
       "      <td>...</td>\n",
       "      <td>0.371480</td>\n",
       "      <td>0.977086</td>\n",
       "      <td>0.607421</td>\n",
       "      <td>1.176037</td>\n",
       "      <td>0.646895</td>\n",
       "      <td>0.437343</td>\n",
       "      <td>0.277516</td>\n",
       "      <td>0.125286</td>\n",
       "      <td>0.474553</td>\n",
       "      <td>0.585538</td>\n",
       "    </tr>\n",
       "    <tr>\n",
       "      <th>10935</th>\n",
       "      <td>0.036134</td>\n",
       "      <td>0.714722</td>\n",
       "      <td>0.553646</td>\n",
       "      <td>0.516242</td>\n",
       "      <td>0.402724</td>\n",
       "      <td>0.692375</td>\n",
       "      <td>0.812978</td>\n",
       "      <td>0.216568</td>\n",
       "      <td>0.231940</td>\n",
       "      <td>1.091943</td>\n",
       "      <td>...</td>\n",
       "      <td>0.006230</td>\n",
       "      <td>0.815502</td>\n",
       "      <td>0.260232</td>\n",
       "      <td>0.844477</td>\n",
       "      <td>0.512716</td>\n",
       "      <td>0.391477</td>\n",
       "      <td>0.143957</td>\n",
       "      <td>0.279595</td>\n",
       "      <td>0.071626</td>\n",
       "      <td>0.725231</td>\n",
       "    </tr>\n",
       "  </tbody>\n",
       "</table>\n",
       "<p>10936 rows × 10936 columns</p>\n",
       "</div>"
      ],
      "text/plain": [
       "          0         1         2         3         4         5         6      \\\n",
       "0      0.556426  1.611539  0.895906  0.221641  1.149779  0.087975  1.590287   \n",
       "1      1.733163  1.989797  0.553014  0.735130  1.085762  0.310324  1.936451   \n",
       "2      0.773820  1.571081  0.682714  0.153058  1.167182  1.173066  0.418314   \n",
       "3      0.859600  0.918895  0.247890  0.350131  1.149893  1.254746  1.411093   \n",
       "4      0.478389  0.720711  0.508467  0.110307  0.148764  0.896714  1.124150   \n",
       "...         ...       ...       ...       ...       ...       ...       ...   \n",
       "10931  0.299790  0.783185  0.875534  0.178350  0.025522  0.681062  0.770070   \n",
       "10932  5.263030  4.149190  3.369860  2.565352  2.484277  2.125022  2.907298   \n",
       "10933  0.786970  1.444813  0.953063  0.591548  0.715081  0.992270  0.220307   \n",
       "10934  0.423953  0.654810  0.586572  0.499219  0.471112  1.037585  0.029217   \n",
       "10935  0.036134  0.714722  0.553646  0.516242  0.402724  0.692375  0.812978   \n",
       "\n",
       "          7         8         9      ...     10926     10927     10928  \\\n",
       "0      0.463214  1.262243  1.117299  ...  0.876441  1.054507  0.890738   \n",
       "1      1.107864  0.431338  0.248221  ...  0.764397  0.785941  0.509652   \n",
       "2      0.640847  1.525581  0.443470  ...  0.679877  1.572112  1.876519   \n",
       "3      0.838302  0.508807  0.670938  ...  0.696868  0.899379  0.935765   \n",
       "4      0.094344  0.541665  0.718483  ...  0.372761  0.800404  0.954314   \n",
       "...         ...       ...       ...  ...       ...       ...       ...   \n",
       "10931  0.371636  0.641508  1.206001  ...  0.610668  0.666478  0.748598   \n",
       "10932  3.594107  1.593987  4.878255  ...  5.268426  4.496206  2.105664   \n",
       "10933  1.655501  0.754768  0.358277  ...  0.219055  0.016295  0.094253   \n",
       "10934  0.401142  0.030217  0.443209  ...  0.371480  0.977086  0.607421   \n",
       "10935  0.216568  0.231940  1.091943  ...  0.006230  0.815502  0.260232   \n",
       "\n",
       "          10929     10930     10931     10932     10933     10934     10935  \n",
       "0      0.946565  0.773241  1.372498  0.789771  1.061454  0.848521  1.153001  \n",
       "1      0.517065  0.808043  0.546335  0.598709  1.500222  0.416485  0.482969  \n",
       "2      1.456561  1.010987  0.137490  0.287236  0.129738  0.627080  0.388852  \n",
       "3      0.785614  0.275023  1.020532  0.625044  0.539368  1.243113  0.239286  \n",
       "4      0.403627  0.012957  0.858071  1.081799  0.321856  0.872092  0.504063  \n",
       "...         ...       ...       ...       ...       ...       ...       ...  \n",
       "10931  0.504860  0.670853  1.377020  0.154439  0.315565  0.813265  0.055076  \n",
       "10932  0.488075  3.553116  2.164757  1.430023  1.937600  3.021044  1.810256  \n",
       "10933  0.702001  1.684967  0.591347  0.316928  0.330151  1.272834  0.820829  \n",
       "10934  1.176037  0.646895  0.437343  0.277516  0.125286  0.474553  0.585538  \n",
       "10935  0.844477  0.512716  0.391477  0.143957  0.279595  0.071626  0.725231  \n",
       "\n",
       "[10936 rows x 10936 columns]"
      ]
     },
     "execution_count": 72,
     "metadata": {},
     "output_type": "execute_result"
    }
   ],
   "source": [
    "sub"
   ]
  },
  {
   "cell_type": "code",
   "execution_count": 73,
   "metadata": {
    "id": "LzRbMb3jGQ70"
   },
   "outputs": [
    {
     "data": {
      "text/html": [
       "<div>\n",
       "<style scoped>\n",
       "    .dataframe tbody tr th:only-of-type {\n",
       "        vertical-align: middle;\n",
       "    }\n",
       "\n",
       "    .dataframe tbody tr th {\n",
       "        vertical-align: top;\n",
       "    }\n",
       "\n",
       "    .dataframe thead th {\n",
       "        text-align: right;\n",
       "    }\n",
       "</style>\n",
       "<table border=\"1\" class=\"dataframe\">\n",
       "  <thead>\n",
       "    <tr style=\"text-align: right;\">\n",
       "      <th></th>\n",
       "      <th>0</th>\n",
       "      <th>1</th>\n",
       "      <th>2</th>\n",
       "      <th>3</th>\n",
       "      <th>4</th>\n",
       "      <th>5</th>\n",
       "      <th>6</th>\n",
       "      <th>7</th>\n",
       "      <th>8</th>\n",
       "      <th>9</th>\n",
       "      <th>...</th>\n",
       "      <th>10926</th>\n",
       "      <th>10927</th>\n",
       "      <th>10928</th>\n",
       "      <th>10929</th>\n",
       "      <th>10930</th>\n",
       "      <th>10931</th>\n",
       "      <th>10932</th>\n",
       "      <th>10933</th>\n",
       "      <th>10934</th>\n",
       "      <th>10935</th>\n",
       "    </tr>\n",
       "  </thead>\n",
       "  <tbody>\n",
       "    <tr>\n",
       "      <th>0</th>\n",
       "      <td>0.067840</td>\n",
       "      <td>0.434284</td>\n",
       "      <td>0.138286</td>\n",
       "      <td>0.040871</td>\n",
       "      <td>0.195381</td>\n",
       "      <td>0.017962</td>\n",
       "      <td>0.390203</td>\n",
       "      <td>0.094641</td>\n",
       "      <td>0.429469</td>\n",
       "      <td>0.285025</td>\n",
       "      <td>...</td>\n",
       "      <td>0.100087</td>\n",
       "      <td>0.195848</td>\n",
       "      <td>0.259843</td>\n",
       "      <td>0.256242</td>\n",
       "      <td>0.091483</td>\n",
       "      <td>0.414017</td>\n",
       "      <td>0.296384</td>\n",
       "      <td>0.345845</td>\n",
       "      <td>0.158004</td>\n",
       "      <td>0.312710</td>\n",
       "    </tr>\n",
       "    <tr>\n",
       "      <th>1</th>\n",
       "      <td>0.192169</td>\n",
       "      <td>0.201904</td>\n",
       "      <td>0.138165</td>\n",
       "      <td>0.140490</td>\n",
       "      <td>0.157397</td>\n",
       "      <td>0.098260</td>\n",
       "      <td>0.213223</td>\n",
       "      <td>0.178427</td>\n",
       "      <td>0.142105</td>\n",
       "      <td>0.064747</td>\n",
       "      <td>...</td>\n",
       "      <td>0.092033</td>\n",
       "      <td>0.135150</td>\n",
       "      <td>0.076099</td>\n",
       "      <td>0.074854</td>\n",
       "      <td>0.089490</td>\n",
       "      <td>0.131549</td>\n",
       "      <td>0.279373</td>\n",
       "      <td>0.206293</td>\n",
       "      <td>0.071547</td>\n",
       "      <td>0.101275</td>\n",
       "    </tr>\n",
       "    <tr>\n",
       "      <th>2</th>\n",
       "      <td>0.064617</td>\n",
       "      <td>0.169313</td>\n",
       "      <td>0.044166</td>\n",
       "      <td>0.014232</td>\n",
       "      <td>0.082510</td>\n",
       "      <td>0.085203</td>\n",
       "      <td>0.033599</td>\n",
       "      <td>0.091992</td>\n",
       "      <td>0.181410</td>\n",
       "      <td>0.039502</td>\n",
       "      <td>...</td>\n",
       "      <td>0.043289</td>\n",
       "      <td>0.257107</td>\n",
       "      <td>0.127355</td>\n",
       "      <td>0.120563</td>\n",
       "      <td>0.056582</td>\n",
       "      <td>0.010577</td>\n",
       "      <td>0.023924</td>\n",
       "      <td>0.020184</td>\n",
       "      <td>0.041294</td>\n",
       "      <td>0.040339</td>\n",
       "    </tr>\n",
       "    <tr>\n",
       "      <th>3</th>\n",
       "      <td>0.099098</td>\n",
       "      <td>0.183407</td>\n",
       "      <td>0.031875</td>\n",
       "      <td>0.057514</td>\n",
       "      <td>0.158620</td>\n",
       "      <td>0.219871</td>\n",
       "      <td>0.217488</td>\n",
       "      <td>0.162006</td>\n",
       "      <td>0.112480</td>\n",
       "      <td>0.121245</td>\n",
       "      <td>...</td>\n",
       "      <td>0.072587</td>\n",
       "      <td>0.146446</td>\n",
       "      <td>0.189519</td>\n",
       "      <td>0.184597</td>\n",
       "      <td>0.028211</td>\n",
       "      <td>0.199732</td>\n",
       "      <td>0.235308</td>\n",
       "      <td>0.133621</td>\n",
       "      <td>0.174258</td>\n",
       "      <td>0.054285</td>\n",
       "    </tr>\n",
       "    <tr>\n",
       "      <th>4</th>\n",
       "      <td>0.063383</td>\n",
       "      <td>0.193262</td>\n",
       "      <td>0.065492</td>\n",
       "      <td>0.016781</td>\n",
       "      <td>0.017097</td>\n",
       "      <td>0.126394</td>\n",
       "      <td>0.127679</td>\n",
       "      <td>0.023850</td>\n",
       "      <td>0.101186</td>\n",
       "      <td>0.105034</td>\n",
       "      <td>...</td>\n",
       "      <td>0.043900</td>\n",
       "      <td>0.161937</td>\n",
       "      <td>0.160566</td>\n",
       "      <td>0.097410</td>\n",
       "      <td>0.001379</td>\n",
       "      <td>0.139715</td>\n",
       "      <td>0.439672</td>\n",
       "      <td>0.073498</td>\n",
       "      <td>0.097810</td>\n",
       "      <td>0.132440</td>\n",
       "    </tr>\n",
       "    <tr>\n",
       "      <th>...</th>\n",
       "      <td>...</td>\n",
       "      <td>...</td>\n",
       "      <td>...</td>\n",
       "      <td>...</td>\n",
       "      <td>...</td>\n",
       "      <td>...</td>\n",
       "      <td>...</td>\n",
       "      <td>...</td>\n",
       "      <td>...</td>\n",
       "      <td>...</td>\n",
       "      <td>...</td>\n",
       "      <td>...</td>\n",
       "      <td>...</td>\n",
       "      <td>...</td>\n",
       "      <td>...</td>\n",
       "      <td>...</td>\n",
       "      <td>...</td>\n",
       "      <td>...</td>\n",
       "      <td>...</td>\n",
       "      <td>...</td>\n",
       "      <td>...</td>\n",
       "    </tr>\n",
       "    <tr>\n",
       "      <th>10931</th>\n",
       "      <td>0.054983</td>\n",
       "      <td>0.139602</td>\n",
       "      <td>0.133742</td>\n",
       "      <td>0.039394</td>\n",
       "      <td>0.004893</td>\n",
       "      <td>0.116835</td>\n",
       "      <td>0.091812</td>\n",
       "      <td>0.079930</td>\n",
       "      <td>0.132633</td>\n",
       "      <td>0.268141</td>\n",
       "      <td>...</td>\n",
       "      <td>0.089931</td>\n",
       "      <td>0.174171</td>\n",
       "      <td>0.110036</td>\n",
       "      <td>0.067559</td>\n",
       "      <td>0.075188</td>\n",
       "      <td>0.155247</td>\n",
       "      <td>0.028091</td>\n",
       "      <td>0.073962</td>\n",
       "      <td>0.122007</td>\n",
       "      <td>0.013447</td>\n",
       "    </tr>\n",
       "    <tr>\n",
       "      <th>10932</th>\n",
       "      <td>0.538839</td>\n",
       "      <td>0.429639</td>\n",
       "      <td>0.347345</td>\n",
       "      <td>0.358299</td>\n",
       "      <td>0.283841</td>\n",
       "      <td>0.272514</td>\n",
       "      <td>0.308482</td>\n",
       "      <td>0.563719</td>\n",
       "      <td>0.275827</td>\n",
       "      <td>0.561145</td>\n",
       "      <td>...</td>\n",
       "      <td>0.442851</td>\n",
       "      <td>0.577364</td>\n",
       "      <td>0.256351</td>\n",
       "      <td>0.059614</td>\n",
       "      <td>0.291930</td>\n",
       "      <td>0.206983</td>\n",
       "      <td>0.228516</td>\n",
       "      <td>0.282181</td>\n",
       "      <td>0.328954</td>\n",
       "      <td>0.274880</td>\n",
       "    </tr>\n",
       "    <tr>\n",
       "      <th>10933</th>\n",
       "      <td>0.184392</td>\n",
       "      <td>0.268637</td>\n",
       "      <td>0.227254</td>\n",
       "      <td>0.098243</td>\n",
       "      <td>0.100082</td>\n",
       "      <td>0.276232</td>\n",
       "      <td>0.030891</td>\n",
       "      <td>0.280683</td>\n",
       "      <td>0.263719</td>\n",
       "      <td>0.136030</td>\n",
       "      <td>...</td>\n",
       "      <td>0.031115</td>\n",
       "      <td>0.003915</td>\n",
       "      <td>0.012818</td>\n",
       "      <td>0.094424</td>\n",
       "      <td>0.228335</td>\n",
       "      <td>0.073190</td>\n",
       "      <td>0.044758</td>\n",
       "      <td>0.049507</td>\n",
       "      <td>0.265215</td>\n",
       "      <td>0.146610</td>\n",
       "    </tr>\n",
       "    <tr>\n",
       "      <th>10934</th>\n",
       "      <td>0.069086</td>\n",
       "      <td>0.084400</td>\n",
       "      <td>0.063915</td>\n",
       "      <td>0.121522</td>\n",
       "      <td>0.065905</td>\n",
       "      <td>0.154483</td>\n",
       "      <td>0.005196</td>\n",
       "      <td>0.141827</td>\n",
       "      <td>0.005667</td>\n",
       "      <td>0.110579</td>\n",
       "      <td>...</td>\n",
       "      <td>0.040168</td>\n",
       "      <td>0.214668</td>\n",
       "      <td>0.074396</td>\n",
       "      <td>0.130897</td>\n",
       "      <td>0.057579</td>\n",
       "      <td>0.056610</td>\n",
       "      <td>0.035359</td>\n",
       "      <td>0.025041</td>\n",
       "      <td>0.055867</td>\n",
       "      <td>0.101331</td>\n",
       "    </tr>\n",
       "    <tr>\n",
       "      <th>10935</th>\n",
       "      <td>0.005929</td>\n",
       "      <td>0.139507</td>\n",
       "      <td>0.094082</td>\n",
       "      <td>0.128523</td>\n",
       "      <td>0.106085</td>\n",
       "      <td>0.115251</td>\n",
       "      <td>0.177752</td>\n",
       "      <td>0.036004</td>\n",
       "      <td>0.047385</td>\n",
       "      <td>0.336160</td>\n",
       "      <td>...</td>\n",
       "      <td>0.000773</td>\n",
       "      <td>0.233126</td>\n",
       "      <td>0.031889</td>\n",
       "      <td>0.105286</td>\n",
       "      <td>0.063855</td>\n",
       "      <td>0.050143</td>\n",
       "      <td>0.047999</td>\n",
       "      <td>0.088059</td>\n",
       "      <td>0.013987</td>\n",
       "      <td>0.148991</td>\n",
       "    </tr>\n",
       "  </tbody>\n",
       "</table>\n",
       "<p>10936 rows × 10936 columns</p>\n",
       "</div>"
      ],
      "text/plain": [
       "          0         1         2         3         4         5         6      \\\n",
       "0      0.067840  0.434284  0.138286  0.040871  0.195381  0.017962  0.390203   \n",
       "1      0.192169  0.201904  0.138165  0.140490  0.157397  0.098260  0.213223   \n",
       "2      0.064617  0.169313  0.044166  0.014232  0.082510  0.085203  0.033599   \n",
       "3      0.099098  0.183407  0.031875  0.057514  0.158620  0.219871  0.217488   \n",
       "4      0.063383  0.193262  0.065492  0.016781  0.017097  0.126394  0.127679   \n",
       "...         ...       ...       ...       ...       ...       ...       ...   \n",
       "10931  0.054983  0.139602  0.133742  0.039394  0.004893  0.116835  0.091812   \n",
       "10932  0.538839  0.429639  0.347345  0.358299  0.283841  0.272514  0.308482   \n",
       "10933  0.184392  0.268637  0.227254  0.098243  0.100082  0.276232  0.030891   \n",
       "10934  0.069086  0.084400  0.063915  0.121522  0.065905  0.154483  0.005196   \n",
       "10935  0.005929  0.139507  0.094082  0.128523  0.106085  0.115251  0.177752   \n",
       "\n",
       "          7         8         9      ...     10926     10927     10928  \\\n",
       "0      0.094641  0.429469  0.285025  ...  0.100087  0.195848  0.259843   \n",
       "1      0.178427  0.142105  0.064747  ...  0.092033  0.135150  0.076099   \n",
       "2      0.091992  0.181410  0.039502  ...  0.043289  0.257107  0.127355   \n",
       "3      0.162006  0.112480  0.121245  ...  0.072587  0.146446  0.189519   \n",
       "4      0.023850  0.101186  0.105034  ...  0.043900  0.161937  0.160566   \n",
       "...         ...       ...       ...  ...       ...       ...       ...   \n",
       "10931  0.079930  0.132633  0.268141  ...  0.089931  0.174171  0.110036   \n",
       "10932  0.563719  0.275827  0.561145  ...  0.442851  0.577364  0.256351   \n",
       "10933  0.280683  0.263719  0.136030  ...  0.031115  0.003915  0.012818   \n",
       "10934  0.141827  0.005667  0.110579  ...  0.040168  0.214668  0.074396   \n",
       "10935  0.036004  0.047385  0.336160  ...  0.000773  0.233126  0.031889   \n",
       "\n",
       "          10929     10930     10931     10932     10933     10934     10935  \n",
       "0      0.256242  0.091483  0.414017  0.296384  0.345845  0.158004  0.312710  \n",
       "1      0.074854  0.089490  0.131549  0.279373  0.206293  0.071547  0.101275  \n",
       "2      0.120563  0.056582  0.010577  0.023924  0.020184  0.041294  0.040339  \n",
       "3      0.184597  0.028211  0.199732  0.235308  0.133621  0.174258  0.054285  \n",
       "4      0.097410  0.001379  0.139715  0.439672  0.073498  0.097810  0.132440  \n",
       "...         ...       ...       ...       ...       ...       ...       ...  \n",
       "10931  0.067559  0.075188  0.155247  0.028091  0.073962  0.122007  0.013447  \n",
       "10932  0.059614  0.291930  0.206983  0.228516  0.282181  0.328954  0.274880  \n",
       "10933  0.094424  0.228335  0.073190  0.044758  0.049507  0.265215  0.146610  \n",
       "10934  0.130897  0.057579  0.056610  0.035359  0.025041  0.055867  0.101331  \n",
       "10935  0.105286  0.063855  0.050143  0.047999  0.088059  0.013987  0.148991  \n",
       "\n",
       "[10936 rows x 10936 columns]"
      ]
     },
     "execution_count": 73,
     "metadata": {},
     "output_type": "execute_result"
    }
   ],
   "source": [
    "sub = abs(result_test - result_predict)/(result_test)\n",
    "sub"
   ]
  },
  {
   "cell_type": "code",
   "execution_count": 74,
   "metadata": {},
   "outputs": [
    {
     "data": {
      "text/plain": [
       "<matplotlib.lines.Line2D at 0x2002579e0c8>"
      ]
     },
     "execution_count": 74,
     "metadata": {},
     "output_type": "execute_result"
    },
    {
     "data": {
      "image/png": "[encoded data removed]",
      "text/plain": [
       "<Figure size 432x288 with 1 Axes>"
      ]
     },
     "metadata": {
      "needs_background": "light"
     },
     "output_type": "display_data"
    }
   ],
   "source": [
    "suboptimality = np.diag(sub)\n",
    "#plt.plot(suboptimality[48:72])\n",
    "plt.xlabel('number of components')\n",
    "plt.ylabel('element wise suboptimality')\n",
    "plt.title('F*-F^')\n",
    "plt.axhline(y=0.15, color='r', linestyle='-')"
   ]
  },
  {
   "cell_type": "code",
   "execution_count": 75,
   "metadata": {},
   "outputs": [
    {
     "data": {
      "text/plain": [
       "(10936,)"
      ]
     },
     "execution_count": 75,
     "metadata": {},
     "output_type": "execute_result"
    }
   ],
   "source": [
    "suboptimality.shape"
   ]
  },
  {
   "cell_type": "code",
   "execution_count": 76,
   "metadata": {},
   "outputs": [
    {
     "data": {
      "text/plain": [
       "0.11585358338226487"
      ]
     },
     "execution_count": 76,
     "metadata": {},
     "output_type": "execute_result"
    }
   ],
   "source": [
    "T = np.mean(suboptimality) #Calculating the suboptimality for T=15 horizon with more layers\n",
    "T"
   ]
  },
  {
   "cell_type": "code",
   "execution_count": null,
   "metadata": {},
   "outputs": [],
   "source": []
  }
 ],
 "metadata": {
  "colab": {
   "collapsed_sections": [],
   "name": "FinalCodeDL.ipynb",
   "provenance": [],
   "toc_visible": true
  },
  "kernelspec": {
   "display_name": "Python 3",
   "language": "python",
   "name": "python3"
  },
  "language_info": {
   "codemirror_mode": {
    "name": "ipython",
    "version": 3
   },
   "file_extension": ".py",
   "mimetype": "text/x-python",
   "name": "python",
   "nbconvert_exporter": "python",
   "pygments_lexer": "ipython3",
   "version": "3.7.6"
  }
 },
 "nbformat": 4,
 "nbformat_minor": 1
}
