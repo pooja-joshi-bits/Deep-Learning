{
 "cells": [
  {
   "cell_type": "code",
   "execution_count": 177,
   "metadata": {
    "id": "qLTVIvmEV0bJ"
   },
   "outputs": [],
   "source": [
    "#We are testing a DL model for Mixed integer formulation for Water distribution network.\n",
    "# The input data such as water demand and time-ahead dynamic energy prices are obtained from Singh et al (2019) paper.\n",
    "# We computed the time ahead pump switching using MATALB Gurobi solver\n",
    "# We obtained the time ahead pump switching for 2048 hours (85.33 days)\n",
    "# We train_test the neural network in the ratio of 80-20.\n",
    "# The nn is trained using ReLu and SoftMax (as the output is integer values)\n",
    "\n",
    "#In our  case y is (z)\n",
    "\n",
    "import numpy as np\n",
    "import pandas as pd   #data analysis and manipulation library\n",
    "import seaborn as sns #Python statistical data visualization library.\n",
    "import matplotlib.pyplot as plt\n",
    "from sklearn import model_selection #Tuning the hyperparameters, cross validation, model persistance are the important aspects of this.\n",
    "from sklearn.model_selection import train_test_split #ML library to data analysis\n",
    "from sklearn.metrics import accuracy_score, r2_score\n",
    "import sklearn.metrics as metrics\n",
    "from openpyxl import Workbook, load_workbook\n",
    "from openpyxl.utils.dataframe import dataframe_to_rows\n",
    "\n",
    "\n",
    "from sklearn.decomposition import PCA #dimensionality reduction\n",
    "\n",
    "%matplotlib inline\n",
    "\n",
    "#Libraries for Deep learning framework from Keras\n",
    "\n",
    "import tensorflow as tf\n",
    "from tensorflow.keras.models import Sequential\n",
    "from tensorflow.keras.layers import Dense, Activation\n",
    "\n",
    "import keras\n",
    "import keras.utils\n",
    "from keras import utils as np_utils\n",
    "from keras.models import Sequential\n",
    "\n",
    "from tensorflow.keras import layers\n",
    "from tensorflow.keras import utils as np_utils\n",
    "from tensorflow.keras import models \n",
    "from tensorflow.keras.models import Sequential\n",
    "from tensorflow.keras.layers import Activation, LeakyReLU, PReLU, ELU #Import activation functions from keras.layers\n",
    "from tensorflow.keras.layers import Dropout #Import dropout library, the objective of dropout is to prevent overfitting of data, However, we have to be careful while setting the dropout rate.\n",
    "from tensorflow.keras.optimizers import SGD, RMSprop\n",
    "from tensorflow.keras.callbacks import LearningRateScheduler #Learning rate scheduler, Here call back is an object that can perform\n",
    "                                                # at various actions at different stages of training \n",
    "from tensorflow.keras.callbacks import History #We can use the data collected from history to  [accuracy, loss, val_accuracy, val_loss]\n",
    "\n",
    "\n",
    "\n",
    "import io #Deal with various types of input output\n",
    "import os #Talk with os, like changing and modifying dirctories\n",
    "import requests #Allow you to send HTTP/1.1, headers, form data, multipart files r = requests.get(‘https://github.com/timeline.json’)\n",
    "\n",
    "\n",
    "import warnings\n",
    "warnings.simplefilter(action='ignore', category=FutureWarning)\n",
    "warnings.filterwarnings('ignore')\n",
    "warnings.filterwarnings('ignore', category=DeprecationWarning) #Deprecated warning: it is a base category of warning about deprecated features\n",
    "\n",
    "\n",
    "import dill\n",
    "# dill.dump_session('notebook_env.db')\n"
   ]
  },
  {
   "cell_type": "code",
   "execution_count": 178,
   "metadata": {
    "colab": {
     "base_uri": "https://localhost:8080/",
     "height": 35
    },
    "id": "3UAv55q5WBcM",
    "outputId": "3c021aa0-bd4d-494f-f943-eef9218e7517"
   },
   "outputs": [
    {
     "data": {
      "text/plain": [
       "'C:\\\\Users\\\\jyotib18\\\\OneDrive - Universitetet i Agder\\\\Data Files From Rahul'"
      ]
     },
     "execution_count": 178,
     "metadata": {},
     "output_type": "execute_result"
    }
   ],
   "source": [
    "pwd\n"
   ]
  },
  {
   "cell_type": "code",
   "execution_count": 179,
   "metadata": {
    "colab": {
     "base_uri": "https://localhost:8080/",
     "height": 35
    },
    "id": "IpVFTXeQXCXK",
    "outputId": "27426a81-8e08-46b7-8f2c-c8deaf83a9a4"
   },
   "outputs": [
    {
     "data": {
      "text/plain": [
       "(81881, 47)"
      ]
     },
     "execution_count": 179,
     "metadata": {},
     "output_type": "execute_result"
    }
   ],
   "source": [
    "import io\n",
    "#inputs = pd.read_csv(io.BytesIO(uploaded['1.csv']))\n",
    "\n",
    "inputs=pd.read_csv(r'C:\\Users\\jyotib18\\Google Drive\\1.UiA\\8. Summaries\\Papers\\Bhardwaj_Optimal water flow online\\Joshin Data\\Results\\T15DaTa\\1.csv')\n",
    "\n",
    "\n",
    "# Dataset is now stored in a Pandas Dataframe\n",
    "inputs.shape"
   ]
  },
  {
   "cell_type": "code",
   "execution_count": 180,
   "metadata": {
    "colab": {
     "base_uri": "https://localhost:8080/",
     "height": 35
    },
    "id": "JJOS8FKYX-NI",
    "outputId": "1b70258b-b9d3-487b-c10f-9a84707063e3"
   },
   "outputs": [
    {
     "data": {
      "text/plain": [
       "pandas.core.frame.DataFrame"
      ]
     },
     "execution_count": 180,
     "metadata": {},
     "output_type": "execute_result"
    }
   ],
   "source": [
    "type(inputs)"
   ]
  },
  {
   "cell_type": "code",
   "execution_count": 181,
   "metadata": {
    "colab": {
     "base_uri": "https://localhost:8080/",
     "height": 267
    },
    "id": "7kjRvcIjYBcE",
    "outputId": "fc4ba7fd-6de7-44fa-fddc-9bbd367a8a2d"
   },
   "outputs": [
    {
     "data": {
      "text/plain": [
       "<bound method NDFrame.head of            Vo  Zo  So  D1  D2  D3  D4  D5  D6  D7  ...        U5        U6  \\\n",
       "0      88.883   1   6   0   1   1   0   0   1   1  ...  13.89700   6.34200   \n",
       "1      66.735   1   5   1   1   0   1   1   0   0  ...  11.70500  10.99400   \n",
       "2      71.848   1   4   1   0   1   0   0   0   0  ...   5.19740  16.00100   \n",
       "3      72.992   0   3   1   1   0   1   0   0   0  ...   0.86048   3.37980   \n",
       "4      81.207   0   4   0   1   1   0   1   1   0  ...   6.22200  18.46800   \n",
       "...       ...  ..  ..  ..  ..  ..  ..  ..  ..  ..  ...       ...       ...   \n",
       "81876  71.372   1   6   1   1   1   0   0   0   0  ...  19.02100  12.16200   \n",
       "81877  83.196   0   7   0   1   1   1   1   1   1  ...   6.28850   0.58418   \n",
       "81878  74.043   1   5   0   1   1   1   0   1   0  ...  15.19600   3.06080   \n",
       "81879  91.452   1   6   1   1   0   1   1   0   1  ...  16.31600   9.30570   \n",
       "81880  61.132   1   3   0   1   0   1   0   1   0  ...  17.74000   1.64390   \n",
       "\n",
       "             U7        U8       U9      U10       U11      U12      U13  \\\n",
       "0      19.00400   0.68892   8.7749   7.6312  15.31000  15.9040   3.7375   \n",
       "1      18.34400   5.71680  15.1440  15.0750   7.60890  11.3560   1.5171   \n",
       "2       8.62830  18.21300   3.6369   5.2761   2.91080   2.7214  17.3860   \n",
       "3      12.98200  14.63400  12.9550   9.0185  10.94000   5.9264  14.8940   \n",
       "4       8.60410   3.69630  18.0980  19.5950   8.77740   2.2224   5.1613   \n",
       "...         ...       ...      ...      ...       ...      ...      ...   \n",
       "81876   0.48431   6.56570   7.8693  11.8260   3.40460  18.8390  12.9470   \n",
       "81877  18.82100   5.59820  13.5880   6.8464  13.75400  19.9020  13.9930   \n",
       "81878  15.04700   1.87370  11.5350   9.3954   0.12498  16.7610  18.2230   \n",
       "81879   0.81617   7.62580   5.0450   4.9149  16.18700  14.1160   6.7427   \n",
       "81880  19.89100   3.27000   2.5282  18.3630  17.73200  19.9260   7.1158   \n",
       "\n",
       "            U14  \n",
       "0       9.79530  \n",
       "1       1.07900  \n",
       "2      11.59400  \n",
       "3       3.77910  \n",
       "4       8.17440  \n",
       "...         ...  \n",
       "81876  13.46700  \n",
       "81877  13.34500  \n",
       "81878  12.64000  \n",
       "81879   0.16285  \n",
       "81880   4.87300  \n",
       "\n",
       "[81881 rows x 47 columns]>"
      ]
     },
     "execution_count": 181,
     "metadata": {},
     "output_type": "execute_result"
    }
   ],
   "source": [
    "inputs.head"
   ]
  },
  {
   "cell_type": "code",
   "execution_count": 182,
   "metadata": {
    "colab": {
     "base_uri": "https://localhost:8080/",
     "height": 35
    },
    "id": "3K06d0z3YLHZ",
    "outputId": "2f18508a-5444-4967-a6c7-42e5cfdeb656"
   },
   "outputs": [
    {
     "data": {
      "text/plain": [
       "(81881, 45)"
      ]
     },
     "execution_count": 182,
     "metadata": {},
     "output_type": "execute_result"
    }
   ],
   "source": [
    "import io\n",
    "outputs = pd.read_csv(r'C:\\Users\\jyotib18\\Google Drive\\1.UiA\\8. Summaries\\Papers\\Bhardwaj_Optimal water flow online\\Joshin Data\\Results\\T15DaTa\\2.csv')\n",
    "# Dataset is now stored in a Pandas Dataframe\n",
    "outputs.shape"
   ]
  },
  {
   "cell_type": "code",
   "execution_count": 183,
   "metadata": {
    "colab": {
     "base_uri": "https://localhost:8080/",
     "height": 267
    },
    "id": "c_Y34U9Eo9RK",
    "outputId": "a0beb83e-4aeb-4f67-e98b-175ffcb61b9b"
   },
   "outputs": [
    {
     "data": {
      "text/plain": [
       "<bound method NDFrame.head of        z1   z2   z3   z4   z5   z6   z7   z8   z9  z10  ...   fu6   fu7  \\\n",
       "0       1  0.0  0.0  1.0  1.0  0.0  0.0  1.0  0.0  0.0  ...   0.0   0.0   \n",
       "1       1  1.0  0.0  1.0  1.0  1.0  1.0  1.0  1.0  1.0  ...  10.0  10.0   \n",
       "2       1  1.0  1.0  1.0  0.0  1.0  0.0  1.0  0.0  1.0  ...  10.0   0.0   \n",
       "3       0  1.0  0.0  1.0  1.0  0.0  1.0  1.0  1.0  1.0  ...   0.0  10.0   \n",
       "4       0  0.0  1.0  1.0  0.0  0.0  1.0  0.0  1.0  1.0  ...   0.0  10.0   \n",
       "...    ..  ...  ...  ...  ...  ...  ...  ...  ...  ...  ...   ...   ...   \n",
       "81876   1  1.0  0.0  1.0  0.0  1.0  0.0  1.0  1.0  1.0  ...  10.0   0.0   \n",
       "81877   0  1.0  1.0  1.0  1.0  0.0  1.0  1.0  1.0  1.0  ...   0.0  10.0   \n",
       "81878   1  0.0  1.0  0.0  0.0  1.0  1.0  1.0  1.0  1.0  ...  10.0  10.0   \n",
       "81879   1  0.0  0.0  1.0  1.0  0.0  0.0  1.0  1.0  1.0  ...   0.0   0.0   \n",
       "81880   1  1.0  0.0  0.0  1.0  1.0  1.0  1.0  1.0  1.0  ...  10.0  10.0   \n",
       "\n",
       "           fu8   fu9  fu10     fu11  fu12  fu13          fu14  fu15  \n",
       "0      10.0000   0.0   0.0  10.0000  10.0  10.0  0.000000e+00     0  \n",
       "1       7.2417  10.0  10.0  10.0000  10.0   0.0  0.000000e+00     0  \n",
       "2      10.0000   0.0  10.0  10.0000  10.0   0.0  1.000000e+01     0  \n",
       "3      10.0000  10.0  10.0  10.0000   0.0   0.0  0.000000e+00     0  \n",
       "4       0.0000  10.0  10.0   9.0115   0.0  10.0  0.000000e+00     0  \n",
       "...        ...   ...   ...      ...   ...   ...           ...   ...  \n",
       "81876  10.0000  10.0  10.0  10.0000  10.0  10.0  1.000000e+01     0  \n",
       "81877  10.0000  10.0  10.0  10.0000  10.0   0.0  0.000000e+00     0  \n",
       "81878  10.0000  10.0  10.0  10.0000   0.0  10.0  1.000000e+01     0  \n",
       "81879  10.0000  10.0  10.0  10.0000   0.0   0.0  0.000000e+00     0  \n",
       "81880  10.0000  10.0  10.0  10.0000  10.0  10.0 -5.550000e-16     0  \n",
       "\n",
       "[81881 rows x 45 columns]>"
      ]
     },
     "execution_count": 183,
     "metadata": {},
     "output_type": "execute_result"
    }
   ],
   "source": [
    "outputs.head"
   ]
  },
  {
   "cell_type": "code",
   "execution_count": 184,
   "metadata": {
    "colab": {
     "base_uri": "https://localhost:8080/",
     "height": 142
    },
    "id": "7Q5rdfEcYUpm",
    "outputId": "e1c8aace-b467-4903-93de-00041281f93e"
   },
   "outputs": [
    {
     "data": {
      "text/plain": [
       "array([[88.883  ,  1.     ,  6.     , ..., 15.904  ,  3.7375 ,  9.7953 ],\n",
       "       [66.735  ,  1.     ,  5.     , ..., 11.356  ,  1.5171 ,  1.079  ],\n",
       "       [71.848  ,  1.     ,  4.     , ...,  2.7214 , 17.386  , 11.594  ],\n",
       "       ...,\n",
       "       [74.043  ,  1.     ,  5.     , ..., 16.761  , 18.223  , 12.64   ],\n",
       "       [91.452  ,  1.     ,  6.     , ..., 14.116  ,  6.7427 ,  0.16285],\n",
       "       [61.132  ,  1.     ,  3.     , ..., 19.926  ,  7.1158 ,  4.873  ]])"
      ]
     },
     "execution_count": 184,
     "metadata": {},
     "output_type": "execute_result"
    }
   ],
   "source": [
    "x = inputs.values #converting data frame to array frame\n",
    "x"
   ]
  },
  {
   "cell_type": "code",
   "execution_count": 185,
   "metadata": {
    "colab": {
     "base_uri": "https://localhost:8080/",
     "height": 35
    },
    "id": "u-1JFtEPZMI-",
    "outputId": "1a6530ce-97d3-43c1-e22d-afa1cc4cc523"
   },
   "outputs": [
    {
     "data": {
      "text/plain": [
       "pandas.core.frame.DataFrame"
      ]
     },
     "execution_count": 185,
     "metadata": {},
     "output_type": "execute_result"
    }
   ],
   "source": [
    "type(outputs)"
   ]
  },
  {
   "cell_type": "code",
   "execution_count": 186,
   "metadata": {
    "colab": {
     "base_uri": "https://localhost:8080/",
     "height": 142
    },
    "id": "ftCpb4JaZOCm",
    "outputId": "d1adf403-a25c-406b-af25-602b9fc6363a"
   },
   "outputs": [
    {
     "data": {
      "text/plain": [
       "array([[ 1.00e+00,  0.00e+00,  0.00e+00, ...,  1.00e+01,  0.00e+00,\n",
       "         0.00e+00],\n",
       "       [ 1.00e+00,  1.00e+00,  0.00e+00, ...,  0.00e+00,  0.00e+00,\n",
       "         0.00e+00],\n",
       "       [ 1.00e+00,  1.00e+00,  1.00e+00, ...,  0.00e+00,  1.00e+01,\n",
       "         0.00e+00],\n",
       "       ...,\n",
       "       [ 1.00e+00,  0.00e+00,  1.00e+00, ...,  1.00e+01,  1.00e+01,\n",
       "         0.00e+00],\n",
       "       [ 1.00e+00,  0.00e+00,  0.00e+00, ...,  0.00e+00,  0.00e+00,\n",
       "         0.00e+00],\n",
       "       [ 1.00e+00,  1.00e+00,  0.00e+00, ...,  1.00e+01, -5.55e-16,\n",
       "         0.00e+00]])"
      ]
     },
     "execution_count": 186,
     "metadata": {},
     "output_type": "execute_result"
    }
   ],
   "source": [
    "y = outputs.values # converting dataframe \"outputc\" in array form i.e. 'y' is now in array form \n",
    "y # y is combination of power assignments and channel assignments both."
   ]
  },
  {
   "cell_type": "code",
   "execution_count": 187,
   "metadata": {
    "colab": {
     "base_uri": "https://localhost:8080/",
     "height": 35
    },
    "id": "ChIBpH6HZQxg",
    "outputId": "18f59c85-a710-4dfa-997d-b35308e72991"
   },
   "outputs": [
    {
     "data": {
      "text/plain": [
       "(81881, 45)"
      ]
     },
     "execution_count": 187,
     "metadata": {},
     "output_type": "execute_result"
    }
   ],
   "source": [
    "y.shape"
   ]
  },
  {
   "cell_type": "code",
   "execution_count": 188,
   "metadata": {},
   "outputs": [
    {
     "data": {
      "text/plain": [
       "(81881, 47)"
      ]
     },
     "execution_count": 188,
     "metadata": {},
     "output_type": "execute_result"
    }
   ],
   "source": [
    "x.shape"
   ]
  },
  {
   "cell_type": "code",
   "execution_count": 189,
   "metadata": {
    "colab": {
     "base_uri": "https://localhost:8080/",
     "height": 35
    },
    "id": "abgDkl9qZTMj",
    "outputId": "2d246909-8eff-48b5-f5d5-2a3ac593b867"
   },
   "outputs": [
    {
     "data": {
      "text/plain": [
       "numpy.ndarray"
      ]
     },
     "execution_count": 189,
     "metadata": {},
     "output_type": "execute_result"
    }
   ],
   "source": [
    "type(y)"
   ]
  },
  {
   "cell_type": "code",
   "execution_count": 190,
   "metadata": {
    "colab": {
     "base_uri": "https://localhost:8080/",
     "height": 142
    },
    "id": "feOJ4F4eZVDY",
    "outputId": "50399f6d-8241-46ee-c374-b53b7e17226b"
   },
   "outputs": [
    {
     "data": {
      "text/plain": [
       "array([ 1.    ,  0.    ,  0.    ,  1.    ,  1.    ,  0.    ,  0.    ,\n",
       "        1.    ,  0.    ,  0.    ,  1.    ,  1.    ,  1.    ,  0.    ,\n",
       "        0.    , 88.883 , 93.345 , 92.422 , 90.479 , 84.01  , 77.188 ,\n",
       "       70.846 , 51.842 , 61.153 , 52.378 , 44.747 , 39.437 , 33.533 ,\n",
       "       39.795 , 30.    , 10.    ,  0.    ,  0.    , 10.    ,  7.0753,\n",
       "        0.    ,  0.    , 10.    ,  0.    ,  0.    , 10.    , 10.    ,\n",
       "       10.    ,  0.    ,  0.    ])"
      ]
     },
     "execution_count": 190,
     "metadata": {},
     "output_type": "execute_result"
    }
   ],
   "source": [
    "y[0]"
   ]
  },
  {
   "cell_type": "code",
   "execution_count": 191,
   "metadata": {
    "colab": {
     "base_uri": "https://localhost:8080/",
     "height": 71
    },
    "id": "kL_w5EAOZXE9",
    "outputId": "e61df404-dd57-44dd-ed66-5e1662d55204"
   },
   "outputs": [
    {
     "data": {
      "text/plain": [
       "array([1., 1., 1., 0., 0., 0., 0., 1., 1., 1., 1., 1., 0., 0., 0., 1., 1.,\n",
       "       0., 0., 1., 1., 1., 1., 1., 1., 0., 1., 1., 0., 0., 1., 1., 0., 0.,\n",
       "       0., 1., 1., 1., 0., 1., 1., 0., 1., 1., 0., 0., 1., 0., 0., 1.])"
      ]
     },
     "execution_count": 191,
     "metadata": {},
     "output_type": "execute_result"
    }
   ],
   "source": [
    "y[0:50, 0] # First row and initial 50 columns of y "
   ]
  },
  {
   "cell_type": "code",
   "execution_count": 192,
   "metadata": {
    "id": "Jt2OQ-dMZZ1x"
   },
   "outputs": [],
   "source": [
    "# Splitting data for training and testing \n",
    "# Here both x and y are in array form (non-scaled)\n",
    "\n",
    "from sklearn.model_selection import train_test_split\n",
    "x_train, x_test, y_train, y_test = train_test_split(x, y, test_size=0.2, shuffle=False, random_state=42) # old\n",
    "#x_train, x_test, y_train, y_test = train_test_split(x, y, test_size=0.2, shuffle=True)"
   ]
  },
  {
   "cell_type": "code",
   "execution_count": 193,
   "metadata": {
    "id": "gBhAhKzuZehe"
   },
   "outputs": [],
   "source": [
    "# Feature Scaling\n",
    "from sklearn.preprocessing import StandardScaler\n",
    "sc = StandardScaler()\n",
    "x_train = sc.fit_transform(x_train)\n",
    "x_test = sc.transform(x_test)"
   ]
  },
  {
   "cell_type": "code",
   "execution_count": 194,
   "metadata": {
    "id": "VX8qOZkUZfiq"
   },
   "outputs": [],
   "source": [
    "# Building neural network\n",
    "\n",
    "model = Sequential()\n",
    "model.add(Dense(40, input_dim=x.shape[1], activation='relu', kernel_initializer='random_normal')) # Input layer and 1st hidden layer\n",
    "\n",
    "model.add(Dense(20, activation='relu', kernel_initializer='random_normal')) # 2nd Hidden layer \n",
    "model.add(Dense(5, activation='relu', kernel_initializer='random_normal')) # 3rd Hidden layer \n",
    "\n",
    "model.add(Dense(60, activation='relu', kernel_initializer='random_normal')) # 4th Hidden Layer \n",
    "model.add(Dense(60, activation='relu', kernel_initializer='random_normal')) # 5th Hidden Layer\n",
    "model.add(Dense(60, activation='relu', kernel_initializer='random_normal')) # 6th Hidden Layer \n",
    "model.add(Dense(60, activation='relu', kernel_initializer='random_normal')) # 7th Hidden Layer\n",
    "model.add(Dense(60, activation='linear', kernel_initializer='random_normal')) # 8th Hidden Layer\n",
    "model.add(Dense(60, activation='linear', kernel_initializer='random_normal')) # 9th Hidden Layer \n",
    "model.add(Dense(60, activation='linear', kernel_initializer='random_normal')) # 10th Hidden Layer\n",
    "\n",
    "model.add(Dense(y.shape[1], activation='linear', kernel_initializer='random_normal')) # Output Layer "
   ]
  },
  {
   "cell_type": "code",
   "execution_count": 195,
   "metadata": {},
   "outputs": [
    {
     "data": {
      "text/plain": [
       "47"
      ]
     },
     "execution_count": 195,
     "metadata": {},
     "output_type": "execute_result"
    }
   ],
   "source": [
    "x.shape[1]"
   ]
  },
  {
   "cell_type": "code",
   "execution_count": 196,
   "metadata": {
    "id": "wQ7hnYBPZlEz"
   },
   "outputs": [],
   "source": [
    "# #Building neural network\n",
    "\n",
    "# model = keras.Sequential()\n",
    "# model.add(Dense(40, input_dim=x.shape[1], kernel_initializer='random_normal')) # Input layer and 1st hidden layer\n",
    "\n",
    "# model.add(LeakyReLU(alpha=0.1)) # Leaky Relu for 1st hidden layer\n",
    "\n",
    "# model.add(Dense(60, kernel_initializer='random_normal')) # 2nd Hidden layer\n",
    "\n",
    "# model.add(LeakyReLU(alpha=0.1)) # Leaky Relu for 2nd hidden layer\n",
    "\n",
    "# model.add(Dense(80, kernel_initializer='random_normal')) # 3rd Hidden layer \n",
    "# model.add(LeakyReLU(alpha=0.1)) # Leaky Relu for 3rd hidden layer\n",
    "\n",
    "# model.add(Dense(100, kernel_initializer='random_normal')) # 4th Hidden Layer \n",
    "# model.add(LeakyReLU(alpha=0.1)) # Leaky Relu for 4th hidden layer\n",
    "# model.add(Dense(80, kernel_initializer='random_normal')) # 5th Hidden Layer\n",
    "# model.add(LeakyReLU(alpha=0.1)) # Leaky Relu for 5th hidden layer\n",
    "# model.add(Dense(60, kernel_initializer='random_normal')) # 6th Hidden layer\n",
    "# model.add(LeakyReLU(alpha=0.1)) # Leaky Relu for 6th hidden layer\n",
    "\n",
    "# model.add(Dense(10, kernel_initializer='random_normal')) # 7th Hidden Layer \n",
    "# model.add(LeakyReLU(alpha=0.1)) # Leaky Relu for 4th hidden layer\n",
    "# model.add(Dense(8, kernel_initializer='random_normal')) # 8th Hidden Layer\n",
    "# model.add(LeakyReLU(alpha=0.1)) # Leaky Relu for 5th hidden layer\n",
    "# model.add(Dense(6, kernel_initializer='random_normal')) # 9th Hidden layer\n",
    "# model.add(LeakyReLU(alpha=0.1)) # Leaky Relu for 6th hidden layer\n",
    "\n",
    "\n",
    "# model.add(Dense(10, kernel_initializer='random_normal')) # 10th Hidden Layer \n",
    "# model.add(LeakyReLU(alpha=0.1)) # Leaky Relu for 4th hidden layer\n",
    "# model.add(Dense(8, kernel_initializer='random_normal')) # 11th Hidden Layer\n",
    "# model.add(LeakyReLU(alpha=0.1)) # Leaky Relu for 5th hidden layer\n",
    "# model.add(Dense(6, kernel_initializer='random_normal')) # 12th Hidden layer\n",
    "# model.add(LeakyReLU(alpha=0.1)) # Leaky Relu for 6th hidden layer\n",
    "\n",
    "\n",
    "\n",
    "# model.add(LeakyReLU(alpha=0.1)) # Leaky Relu for 1st hidden layer\n",
    "\n",
    "# model.add(Dense(60, kernel_initializer='random_normal')) # 2nd Hidden layer\n",
    "# model.add(LeakyReLU(alpha=0.1)) # Leaky Relu for 2nd hidden layer\n",
    "\n",
    "# model.add(Dense(80, kernel_initializer='random_normal')) # 3rd Hidden layer \n",
    "# model.add(LeakyReLU(alpha=0.1)) # Leaky Relu for 3rd hidden layer\n",
    "\n",
    "# model.add(Dense(100, kernel_initializer='random_normal')) # 4th Hidden Layer \n",
    "# model.add(LeakyReLU(alpha=0.1)) # Leaky Relu for 4th hidden layer\n",
    "# model.add(Dense(80, kernel_initializer='random_normal')) # 5th Hidden Layer\n",
    "# model.add(LeakyReLU(alpha=0.1)) # Leaky Relu for 5th hidden layer\n",
    "# model.add(Dense(60, kernel_initializer='random_normal')) # 6th Hidden layer\n",
    "# model.add(LeakyReLU(alpha=0.1)) # Leaky Relu for 6th hidden layer\n",
    "\n",
    "# # model.add(Dense(10, kernel_initializer='random_normal')) # 7th Hidden Layer \n",
    "# # model.add(LeakyReLU(alpha=0.1)) # Leaky Relu for 4th hidden layer\n",
    "# # model.add(Dense(8, kernel_initializer='random_normal')) # 8th Hidden Layer\n",
    "# # model.add(LeakyReLU(alpha=0.1)) # Leaky Relu for 5th hidden layer\n",
    "# # model.add(Dense(6, kernel_initializer='random_normal')) # 9th Hidden layer\n",
    "# # model.add(LeakyReLU(alpha=0.1)) # Leaky Relu for 6th hidden layer\n",
    "\n",
    "\n",
    "# # model.add(Dense(10, kernel_initializer='random_normal')) # 10th Hidden Layer \n",
    "# # model.add(LeakyReLU(alpha=0.1)) # Leaky Relu for 4th hidden layer\n",
    "# # model.add(Dense(8, kernel_initializer='random_normal')) # 11th Hidden Layer\n",
    "# # model.add(LeakyReLU(alpha=0.1)) # Leaky Relu for 5th hidden layer\n",
    "# # model.add(Dense(6, kernel_initializer='random_normal')) # 12th Hidden layer\n",
    "# # model.add(LeakyReLU(alpha=0.1)) # Leaky Relu for 6th hidden layer\n",
    "\n",
    "\n",
    "# #model.add(Dense(y.shape[1], activation='relu', kernel_initializer='random_normal')) # Output Layer \n",
    "\n",
    "# # model.add(Dense(y.shape[1], activation='softmax', kernel_initializer='random_normal')) # Output Layer \n",
    "\n",
    "# # model.add(Dense(y.shape[1], kernel_initializer='random_normal')) # Output Layer\n",
    "# # model.add(LeakyReLU(alpha=0.1)) # Leaky Relu for output laye\n",
    "\n",
    "# model.add(Dense(y.shape[1], activation='relu', kernel_initializer='random_normal')) # Output Layer \n",
    "\n",
    "# # model.add(Dense(y.shape[1], activation='softmax', kernel_initializer='random_normal')) # Output Layer \n",
    "\n",
    "# # model.add(Dense(y.shape[1], kernel_initializer='random_normal')) # Output Layer\n",
    "# # model.add(LeakyReLU(alpha=0.1)) # Leaky Relu for output layer"
   ]
  },
  {
   "cell_type": "code",
   "execution_count": 197,
   "metadata": {
    "id": "xhwu9nzjaVYA"
   },
   "outputs": [],
   "source": [
    "# Compiling Neural network\n",
    "\n",
    "from tensorflow.keras.callbacks import EarlyStopping\n",
    "model.compile(optimizer='ADAM', loss='mean_squared_error', metrics = ['mean_absolute_error']) \n",
    "monitor = EarlyStopping(monitor='val_loss', min_delta=0.0001, patience=10, \n",
    "                        verbose=1, mode='auto', restore_best_weights=True)"
   ]
  },
  {
   "cell_type": "code",
   "execution_count": null,
   "metadata": {
    "colab": {
     "base_uri": "https://localhost:8080/",
     "height": 1000
    },
    "id": "sUm7vYpNaZhk",
    "outputId": "bb1cd85f-4a22-4777-8674-4e053a532b6e"
   },
   "outputs": [
    {
     "name": "stdout",
     "output_type": "stream",
     "text": [
      "Train on 65504 samples, validate on 16377 samples\n",
      "Epoch 1/1000\n",
      "65504/65504 - 1s - loss: 396.4213 - mean_absolute_error: 10.4098 - val_loss: 33.9680 - val_mean_absolute_error: 3.8438\n",
      "Epoch 2/1000\n",
      "65504/65504 - 0s - loss: 32.6519 - mean_absolute_error: 3.8342 - val_loss: 32.6234 - val_mean_absolute_error: 3.8329\n",
      "Epoch 3/1000\n",
      "65504/65504 - 0s - loss: 32.1217 - mean_absolute_error: 3.8152 - val_loss: 32.3239 - val_mean_absolute_error: 3.8203\n",
      "Epoch 4/1000\n",
      "65504/65504 - 0s - loss: 31.8447 - mean_absolute_error: 3.8043 - val_loss: 32.0660 - val_mean_absolute_error: 3.8103\n",
      "Epoch 5/1000\n",
      "65504/65504 - 0s - loss: 31.4361 - mean_absolute_error: 3.7884 - val_loss: 31.7238 - val_mean_absolute_error: 3.7914\n",
      "Epoch 6/1000\n",
      "65504/65504 - 0s - loss: 31.1901 - mean_absolute_error: 3.7772 - val_loss: 31.5695 - val_mean_absolute_error: 3.7999\n",
      "Epoch 7/1000\n",
      "65504/65504 - 0s - loss: 31.0578 - mean_absolute_error: 3.7729 - val_loss: 31.5012 - val_mean_absolute_error: 3.7935\n",
      "Epoch 8/1000\n",
      "65504/65504 - 1s - loss: 30.9727 - mean_absolute_error: 3.7682 - val_loss: 31.4271 - val_mean_absolute_error: 3.7985\n",
      "Epoch 9/1000\n",
      "65504/65504 - 0s - loss: 30.9225 - mean_absolute_error: 3.7673 - val_loss: 31.3825 - val_mean_absolute_error: 3.7785\n",
      "Epoch 10/1000\n",
      "65504/65504 - 1s - loss: 30.8566 - mean_absolute_error: 3.7634 - val_loss: 31.3030 - val_mean_absolute_error: 3.7779\n",
      "Epoch 11/1000\n",
      "65504/65504 - 0s - loss: 30.8265 - mean_absolute_error: 3.7624 - val_loss: 31.3593 - val_mean_absolute_error: 3.7928\n",
      "Epoch 12/1000\n",
      "65504/65504 - 0s - loss: 30.7625 - mean_absolute_error: 3.7585 - val_loss: 31.2889 - val_mean_absolute_error: 3.7841\n",
      "Epoch 13/1000\n",
      "65504/65504 - 0s - loss: 30.7121 - mean_absolute_error: 3.7568 - val_loss: 31.1611 - val_mean_absolute_error: 3.7771\n",
      "Epoch 14/1000\n",
      "65504/65504 - 0s - loss: 30.6675 - mean_absolute_error: 3.7538 - val_loss: 31.1093 - val_mean_absolute_error: 3.7684\n",
      "Epoch 15/1000\n",
      "65504/65504 - 1s - loss: 30.6228 - mean_absolute_error: 3.7514 - val_loss: 31.0968 - val_mean_absolute_error: 3.7594\n",
      "Epoch 16/1000\n",
      "65504/65504 - 0s - loss: 30.5764 - mean_absolute_error: 3.7486 - val_loss: 31.0317 - val_mean_absolute_error: 3.7679\n",
      "Epoch 17/1000\n",
      "65504/65504 - 0s - loss: 30.5295 - mean_absolute_error: 3.7463 - val_loss: 30.9875 - val_mean_absolute_error: 3.7626\n",
      "Epoch 18/1000\n",
      "65504/65504 - 0s - loss: 30.5008 - mean_absolute_error: 3.7444 - val_loss: 30.9768 - val_mean_absolute_error: 3.7602\n",
      "Epoch 19/1000\n",
      "65504/65504 - 0s - loss: 30.4598 - mean_absolute_error: 3.7422 - val_loss: 30.9117 - val_mean_absolute_error: 3.7581\n",
      "Epoch 20/1000\n",
      "65504/65504 - 0s - loss: 30.4313 - mean_absolute_error: 3.7399 - val_loss: 30.9149 - val_mean_absolute_error: 3.7559\n",
      "Epoch 21/1000\n",
      "65504/65504 - 0s - loss: 30.4001 - mean_absolute_error: 3.7381 - val_loss: 30.9921 - val_mean_absolute_error: 3.7653\n",
      "Epoch 22/1000\n",
      "65504/65504 - 0s - loss: 30.4079 - mean_absolute_error: 3.7380 - val_loss: 30.8586 - val_mean_absolute_error: 3.7503\n",
      "Epoch 23/1000\n",
      "65504/65504 - 0s - loss: 30.3246 - mean_absolute_error: 3.7336 - val_loss: 30.7671 - val_mean_absolute_error: 3.7490\n",
      "Epoch 24/1000\n",
      "65504/65504 - 0s - loss: 30.2868 - mean_absolute_error: 3.7311 - val_loss: 30.7549 - val_mean_absolute_error: 3.7547\n",
      "Epoch 25/1000\n",
      "65504/65504 - 0s - loss: 30.2150 - mean_absolute_error: 3.7270 - val_loss: 30.6456 - val_mean_absolute_error: 3.7386\n",
      "Epoch 26/1000\n",
      "65504/65504 - 0s - loss: 30.1778 - mean_absolute_error: 3.7245 - val_loss: 30.5747 - val_mean_absolute_error: 3.7411\n",
      "Epoch 27/1000\n",
      "65504/65504 - 0s - loss: 30.0814 - mean_absolute_error: 3.7189 - val_loss: 30.5098 - val_mean_absolute_error: 3.7390\n",
      "Epoch 28/1000\n",
      "65504/65504 - 0s - loss: 30.0685 - mean_absolute_error: 3.7168 - val_loss: 30.4548 - val_mean_absolute_error: 3.7348\n",
      "Epoch 29/1000\n",
      "65504/65504 - 0s - loss: 29.9521 - mean_absolute_error: 3.7104 - val_loss: 30.5872 - val_mean_absolute_error: 3.7267\n",
      "Epoch 30/1000\n",
      "65504/65504 - 1s - loss: 29.7978 - mean_absolute_error: 3.6994 - val_loss: 30.2536 - val_mean_absolute_error: 3.7340\n",
      "Epoch 31/1000\n",
      "65504/65504 - 0s - loss: 29.6449 - mean_absolute_error: 3.6905 - val_loss: 30.0134 - val_mean_absolute_error: 3.7005\n",
      "Epoch 32/1000\n",
      "65504/65504 - 0s - loss: 29.4096 - mean_absolute_error: 3.6757 - val_loss: 29.8672 - val_mean_absolute_error: 3.6717\n",
      "Epoch 33/1000\n",
      "65504/65504 - 1s - loss: 29.1174 - mean_absolute_error: 3.6532 - val_loss: 29.3974 - val_mean_absolute_error: 3.6519\n",
      "Epoch 34/1000\n",
      "65504/65504 - 0s - loss: 28.6009 - mean_absolute_error: 3.6167 - val_loss: 28.9384 - val_mean_absolute_error: 3.6139\n",
      "Epoch 35/1000\n",
      "65504/65504 - 0s - loss: 27.7304 - mean_absolute_error: 3.5480 - val_loss: 27.7450 - val_mean_absolute_error: 3.5201\n",
      "Epoch 36/1000\n",
      "65504/65504 - 0s - loss: 26.6666 - mean_absolute_error: 3.4406 - val_loss: 26.8612 - val_mean_absolute_error: 3.4224\n",
      "Epoch 37/1000\n",
      "65504/65504 - 1s - loss: 26.2737 - mean_absolute_error: 3.3975 - val_loss: 26.7678 - val_mean_absolute_error: 3.4285\n",
      "Epoch 38/1000\n",
      "65504/65504 - 0s - loss: 26.2419 - mean_absolute_error: 3.3993 - val_loss: 26.7008 - val_mean_absolute_error: 3.4128\n",
      "Epoch 39/1000\n",
      "65504/65504 - 0s - loss: 26.2035 - mean_absolute_error: 3.3984 - val_loss: 26.7974 - val_mean_absolute_error: 3.4559\n",
      "Epoch 40/1000\n",
      "65504/65504 - 0s - loss: 26.1289 - mean_absolute_error: 3.3938 - val_loss: 26.1746 - val_mean_absolute_error: 3.3890\n",
      "Epoch 41/1000\n",
      "65504/65504 - 0s - loss: 24.1108 - mean_absolute_error: 3.2721 - val_loss: 23.7870 - val_mean_absolute_error: 3.2756\n",
      "Epoch 42/1000\n",
      "65504/65504 - 1s - loss: 23.1866 - mean_absolute_error: 3.2388 - val_loss: 23.0890 - val_mean_absolute_error: 3.2537\n",
      "Epoch 43/1000\n",
      "65504/65504 - 0s - loss: 22.8008 - mean_absolute_error: 3.2351 - val_loss: 22.8974 - val_mean_absolute_error: 3.2635\n",
      "Epoch 44/1000\n",
      "65504/65504 - 1s - loss: 22.5157 - mean_absolute_error: 3.2298 - val_loss: 22.5332 - val_mean_absolute_error: 3.2218\n",
      "Epoch 45/1000\n",
      "65504/65504 - 0s - loss: 22.3851 - mean_absolute_error: 3.2281 - val_loss: 22.4413 - val_mean_absolute_error: 3.2167\n",
      "Epoch 46/1000\n",
      "65504/65504 - 0s - loss: 22.3229 - mean_absolute_error: 3.2279 - val_loss: 22.3449 - val_mean_absolute_error: 3.2173\n",
      "Epoch 47/1000\n",
      "65504/65504 - 0s - loss: 22.1500 - mean_absolute_error: 3.2198 - val_loss: 22.1641 - val_mean_absolute_error: 3.2321\n",
      "Epoch 48/1000\n",
      "65504/65504 - 0s - loss: 22.0318 - mean_absolute_error: 3.2146 - val_loss: 22.0783 - val_mean_absolute_error: 3.2167\n",
      "Epoch 49/1000\n",
      "65504/65504 - 1s - loss: 21.9012 - mean_absolute_error: 3.2090 - val_loss: 21.8638 - val_mean_absolute_error: 3.2102\n",
      "Epoch 50/1000\n",
      "65504/65504 - 0s - loss: 21.6839 - mean_absolute_error: 3.1963 - val_loss: 21.5767 - val_mean_absolute_error: 3.1831\n",
      "Epoch 51/1000\n",
      "65504/65504 - 0s - loss: 21.2345 - mean_absolute_error: 3.1707 - val_loss: 21.0898 - val_mean_absolute_error: 3.1673\n",
      "Epoch 52/1000\n",
      "65504/65504 - 0s - loss: 20.7093 - mean_absolute_error: 3.1280 - val_loss: 20.6317 - val_mean_absolute_error: 3.1213\n",
      "Epoch 53/1000\n",
      "65504/65504 - 0s - loss: 20.2140 - mean_absolute_error: 3.0763 - val_loss: 20.1915 - val_mean_absolute_error: 3.0627\n",
      "Epoch 54/1000\n",
      "65504/65504 - 1s - loss: 20.0683 - mean_absolute_error: 3.0551 - val_loss: 20.2348 - val_mean_absolute_error: 3.0805\n",
      "Epoch 55/1000\n",
      "65504/65504 - 0s - loss: 20.0259 - mean_absolute_error: 3.0519 - val_loss: 20.1145 - val_mean_absolute_error: 3.0570\n",
      "Epoch 56/1000\n",
      "65504/65504 - 0s - loss: 19.9864 - mean_absolute_error: 3.0505 - val_loss: 20.1339 - val_mean_absolute_error: 3.0413\n",
      "Epoch 57/1000\n",
      "65504/65504 - 0s - loss: 19.9657 - mean_absolute_error: 3.0503 - val_loss: 20.1120 - val_mean_absolute_error: 3.0582\n",
      "Epoch 58/1000\n",
      "65504/65504 - 0s - loss: 19.9782 - mean_absolute_error: 3.0522 - val_loss: 20.0904 - val_mean_absolute_error: 3.0623\n",
      "Epoch 59/1000\n",
      "65504/65504 - 0s - loss: 20.0245 - mean_absolute_error: 3.0556 - val_loss: 20.0980 - val_mean_absolute_error: 3.0470\n",
      "Epoch 60/1000\n",
      "65504/65504 - 0s - loss: 19.9711 - mean_absolute_error: 3.0522 - val_loss: 20.0715 - val_mean_absolute_error: 3.0743\n",
      "Epoch 61/1000\n",
      "65504/65504 - 0s - loss: 19.9236 - mean_absolute_error: 3.0501 - val_loss: 20.1329 - val_mean_absolute_error: 3.0496\n",
      "Epoch 62/1000\n",
      "65504/65504 - 0s - loss: 19.9049 - mean_absolute_error: 3.0484 - val_loss: 20.1173 - val_mean_absolute_error: 3.0539\n",
      "Epoch 63/1000\n",
      "65504/65504 - 0s - loss: 19.9167 - mean_absolute_error: 3.0497 - val_loss: 20.0489 - val_mean_absolute_error: 3.0415\n"
     ]
    },
    {
     "name": "stdout",
     "output_type": "stream",
     "text": [
      "Epoch 64/1000\n",
      "65504/65504 - 1s - loss: 19.9156 - mean_absolute_error: 3.0495 - val_loss: 20.0035 - val_mean_absolute_error: 3.0469\n",
      "Epoch 65/1000\n",
      "65504/65504 - 0s - loss: 19.9192 - mean_absolute_error: 3.0497 - val_loss: 20.0266 - val_mean_absolute_error: 3.0534\n",
      "Epoch 66/1000\n",
      "65504/65504 - 1s - loss: 19.8755 - mean_absolute_error: 3.0463 - val_loss: 20.0587 - val_mean_absolute_error: 3.0571\n",
      "Epoch 67/1000\n",
      "65504/65504 - 0s - loss: 19.8864 - mean_absolute_error: 3.0478 - val_loss: 20.0352 - val_mean_absolute_error: 3.0689\n"
     ]
    }
   ],
   "source": [
    "# Fitting Neural network to training set\n",
    "\n",
    "model_history=model.fit(x_train, y_train, validation_data=(x_test, y_test), batch_size=512, verbose=2, callbacks=[monitor], epochs=1000)"
   ]
  },
  {
   "cell_type": "code",
   "execution_count": null,
   "metadata": {
    "colab": {
     "base_uri": "https://localhost:8080/",
     "height": 142
    },
    "id": "AT8SOvaeap0x",
    "outputId": "c1eec1b2-94c5-4a80-bc87-7ed372b14acf"
   },
   "outputs": [],
   "source": [
    "y_train"
   ]
  },
  {
   "cell_type": "code",
   "execution_count": null,
   "metadata": {},
   "outputs": [],
   "source": [
    "y_test = np.asarray(y_test)\n",
    "x_test = np.asarray(x_test)\n",
    "y_test\n"
   ]
  },
  {
   "cell_type": "code",
   "execution_count": null,
   "metadata": {
    "colab": {
     "base_uri": "https://localhost:8080/",
     "height": 53
    },
    "id": "jnvop5zhare2",
    "outputId": "f9e033be-f657-4367-e93a-750eee9cc444"
   },
   "outputs": [],
   "source": [
    "# To evaluate model test loss\n",
    "\n",
    "test_loss = model.evaluate(x_test, y_test)\n",
    "test_loss"
   ]
  },
  {
   "cell_type": "code",
   "execution_count": null,
   "metadata": {},
   "outputs": [],
   "source": [
    "\n",
    "x_test.shape"
   ]
  },
  {
   "cell_type": "code",
   "execution_count": null,
   "metadata": {},
   "outputs": [],
   "source": [
    "y_test.shape"
   ]
  },
  {
   "cell_type": "code",
   "execution_count": null,
   "metadata": {
    "colab": {
     "base_uri": "https://localhost:8080/",
     "height": 280
    },
    "id": "K6jxwKI-au9s",
    "outputId": "4824a9db-6941-4ac8-87d8-5d749bc8497d"
   },
   "outputs": [],
   "source": [
    "# To plot training loss only\n",
    "\n",
    "loss = model_history.history['loss']\n",
    "epochs = range(1, len(loss)+1)\n",
    "plt.plot(epochs, loss, 'ro', label='Training loss')\n",
    "plt.xlabel('epoch')\n",
    "plt.legend()\n",
    "plt.show()"
   ]
  },
  {
   "cell_type": "code",
   "execution_count": null,
   "metadata": {
    "colab": {
     "base_uri": "https://localhost:8080/",
     "height": 313
    },
    "id": "gr4ZQqHQayfv",
    "outputId": "b292d2fe-9161-4bfc-9b6f-fe09e9543f33"
   },
   "outputs": [],
   "source": [
    "# list all data in history\n",
    "\n",
    "print(model_history.history.keys())\n",
    "\n",
    "# summarize history for accuracy\n",
    "acc = model_history.history['mean_absolute_error']\n",
    "val_acc = model_history.history['val_mean_absolute_error']\n",
    "\n",
    "plt.plot(acc)\n",
    "plt.plot(val_acc)\n",
    "plt.title('model accuracy')\n",
    "plt.ylabel('Mean Absolute Error')\n",
    "plt.xlabel('epoch')\n",
    "plt.legend(['train', 'test'], loc='upper right')\n",
    "plt.savefig('accuracy_3_layer.pdf')\n",
    "plt.show()"
   ]
  },
  {
   "cell_type": "code",
   "execution_count": null,
   "metadata": {
    "colab": {
     "base_uri": "https://localhost:8080/",
     "height": 295
    },
    "id": "pgrdmzrca2id",
    "outputId": "7698718b-fba5-415a-c5a5-abfbfe868c6c"
   },
   "outputs": [],
   "source": [
    "# summarize history for loss\n",
    "\n",
    "loss = model_history.history['loss']\n",
    "val_loss = model_history.history['val_loss']\n",
    "plt.plot(loss)\n",
    "plt.plot(val_loss)\n",
    "plt.title('model loss')\n",
    "plt.ylabel('loss')\n",
    "plt.xlabel('epoch')\n",
    "plt.legend(['train', 'test'], loc='upper right')\n",
    "plt.savefig('loss_3_layer.pdf')\n",
    "plt.show()"
   ]
  },
  {
   "cell_type": "code",
   "execution_count": null,
   "metadata": {
    "colab": {
     "base_uri": "https://localhost:8080/",
     "height": 249
    },
    "id": "V_KxSfNKa666",
    "outputId": "c668ae3d-01ef-4869-e191-af2122733da1"
   },
   "outputs": [],
   "source": [
    "# Making the predictions for testing\n",
    "\n",
    "# Predicting the Test set results\n",
    "y_pred = model.predict(x_test) \n",
    "y_pred"
   ]
  },
  {
   "cell_type": "code",
   "execution_count": null,
   "metadata": {
    "colab": {
     "base_uri": "https://localhost:8080/",
     "height": 142
    },
    "id": "nTiknlOLaTPp",
    "outputId": "70722f3f-835d-4abe-ca27-4cd0d3b285f1"
   },
   "outputs": [],
   "source": [
    "y_test\n"
   ]
  },
  {
   "cell_type": "code",
   "execution_count": null,
   "metadata": {
    "id": "5x9nZKCHa9ZI"
   },
   "outputs": [],
   "source": [
    "y_pred.shape"
   ]
  },
  {
   "cell_type": "code",
   "execution_count": null,
   "metadata": {
    "id": "ACY5x1V7a_vo"
   },
   "outputs": [],
   "source": [
    "# Evaluating the model # Test error\n",
    "\n",
    "# Measure MSE error  \n",
    "mse_test = metrics.mean_squared_error(y_test, y_pred)\n",
    "print(\"Test Mean Squared error (MSE): {}\".format(mse_test))\n",
    "\n",
    "# Measure RMSE error \n",
    "rmse_test = np.sqrt(metrics.mean_squared_error(y_test, y_pred))\n",
    "print(\"Test Root mean squared error (RMSE): {}\".format(rmse_test))\n",
    "\n",
    "# Measure MAE error\n",
    "mae_test = metrics.mean_absolute_error(y_test, y_pred)\n",
    "print(\"Test Mean absolute error (MAE): {}\".format(mae_test))"
   ]
  },
  {
   "cell_type": "code",
   "execution_count": null,
   "metadata": {
    "id": "EpTj4zULbQMd"
   },
   "outputs": [],
   "source": [
    "# Making the predictions for training\n",
    "\n",
    "# Predicting the Training set results\n",
    "y_pred_train = model.predict(x_train) \n",
    "y_pred_train"
   ]
  },
  {
   "cell_type": "code",
   "execution_count": null,
   "metadata": {
    "id": "Of9BhiCTbU01"
   },
   "outputs": [],
   "source": [
    "y_pred_train.shape "
   ]
  },
  {
   "cell_type": "code",
   "execution_count": null,
   "metadata": {
    "id": "FWK7_bNJbXME"
   },
   "outputs": [],
   "source": [
    "# Evaluating the model # Training error\n",
    "\n",
    "# Measure MSE error  \n",
    "mse_train = metrics.mean_squared_error(y_train, y_pred_train)\n",
    "print(\"Training Mean Squared error (MSE): {}\".format(mse_train))\n",
    "\n",
    "# Measure RMSE error \n",
    "rmse_train = np.sqrt(metrics.mean_squared_error(y_train, y_pred_train))\n",
    "print(\"Training Root mean squared error (RMSE): {}\".format(rmse_train))\n",
    "\n",
    "# Measure MAE error\n",
    "mae_train = metrics.mean_absolute_error(y_train, y_pred_train)\n",
    "print(\"Training Mean absolute error (MAE): {}\".format(mae_train))"
   ]
  },
  {
   "cell_type": "code",
   "execution_count": null,
   "metadata": {
    "id": "1Yw2ek-lRAmD"
   },
   "outputs": [],
   "source": [
    "y_pred_flat = y_pred.flatten()\n",
    "y_pred_flat"
   ]
  },
  {
   "cell_type": "code",
   "execution_count": null,
   "metadata": {
    "id": "zrHf4K-yRWEW"
   },
   "outputs": [],
   "source": [
    "y_test_flat = y_test.flatten()\n",
    "y_test_flat"
   ]
  },
  {
   "cell_type": "code",
   "execution_count": null,
   "metadata": {
    "id": "3sCT93VyRYOz"
   },
   "outputs": [],
   "source": [
    "# Regression score for test\n",
    "\n",
    "r2_score_test = metrics.r2_score(y_test_flat, y_pred_flat)\n",
    "print(\"R2 Score Test: {}\".format(r2_score_test))"
   ]
  },
  {
   "cell_type": "code",
   "execution_count": null,
   "metadata": {
    "id": "5oZLTaS6Rdpb"
   },
   "outputs": [],
   "source": [
    "y_pred_train_flat = y_pred_train.flatten()\n",
    "y_pred_train_flat"
   ]
  },
  {
   "cell_type": "code",
   "execution_count": null,
   "metadata": {
    "id": "imceUpMlRfrV"
   },
   "outputs": [],
   "source": [
    "y_train_flat = y_train.flatten()\n",
    "y_train_flat"
   ]
  },
  {
   "cell_type": "code",
   "execution_count": null,
   "metadata": {
    "id": "IywAjABTRjex"
   },
   "outputs": [],
   "source": [
    "# Regression score for training\n",
    "\n",
    "r2_score_train = metrics.r2_score(y_train_flat, y_pred_train_flat)\n",
    "print(\"R2 Score Train: {}\".format(r2_score_train))"
   ]
  },
  {
   "cell_type": "code",
   "execution_count": null,
   "metadata": {
    "id": "hr_f0cdyWpil"
   },
   "outputs": [],
   "source": [
    "######################### Constraint verification for test data ##########################"
   ]
  },
  {
   "cell_type": "code",
   "execution_count": null,
   "metadata": {
    "colab": {
     "base_uri": "https://localhost:8080/",
     "height": 249
    },
    "id": "aS9k-9lwW0hY",
    "outputId": "32c16051-3a86-49a8-d7cb-77e547ad3e64"
   },
   "outputs": [],
   "source": [
    "y_pred = model.predict(x_test)\n",
    "y_pred"
   ]
  },
  {
   "cell_type": "code",
   "execution_count": null,
   "metadata": {
    "colab": {
     "base_uri": "https://localhost:8080/",
     "height": 249
    },
    "id": "qdcimHOXZsH2",
    "outputId": "1585d70d-b16d-4e2a-d7d5-6f381a4521fd"
   },
   "outputs": [],
   "source": [
    "x_test"
   ]
  },
  {
   "cell_type": "code",
   "execution_count": null,
   "metadata": {
    "colab": {
     "base_uri": "https://localhost:8080/",
     "height": 35
    },
    "id": "ruqLSKwaZ06X",
    "outputId": "42dd9de3-1395-4349-8ec3-f163ef502a0e"
   },
   "outputs": [],
   "source": [
    "x_test.shape"
   ]
  },
  {
   "cell_type": "code",
   "execution_count": null,
   "metadata": {
    "colab": {
     "base_uri": "https://localhost:8080/",
     "height": 35
    },
    "id": "fOj5D4GRW7Ac",
    "outputId": "e4223fa4-dd8e-400f-eefc-bbd0178e4d99"
   },
   "outputs": [],
   "source": [
    "y_pred.shape"
   ]
  },
  {
   "cell_type": "code",
   "execution_count": null,
   "metadata": {
    "colab": {
     "base_uri": "https://localhost:8080/",
     "height": 142
    },
    "id": "Yn9ruPcpOQq0",
    "outputId": "c187ee9b-7905-455c-cee3-fa098f0966e1"
   },
   "outputs": [],
   "source": [
    "#round-off the y_pred\n",
    "\n",
    "import numpy as np\n",
    "a_list = np.array(y_pred)\n",
    "y_pred_binary = np.round(a_list)\n",
    "print(y_pred_binary)\n",
    "\n"
   ]
  },
  {
   "cell_type": "code",
   "execution_count": null,
   "metadata": {
    "colab": {
     "base_uri": "https://localhost:8080/",
     "height": 35
    },
    "id": "zus7h7n3PMDh",
    "outputId": "ce6a354b-6dfa-40b8-c6c3-adead6f2d051"
   },
   "outputs": [],
   "source": [
    "y_pred_binary.shape"
   ]
  },
  {
   "cell_type": "code",
   "execution_count": null,
   "metadata": {
    "colab": {
     "base_uri": "https://localhost:8080/",
     "height": 142
    },
    "id": "RKVmQiPemWnf",
    "outputId": "8fa5f012-e7b4-4262-e8c9-06ad35d44c13"
   },
   "outputs": [],
   "source": [
    "y_pred_binary"
   ]
  },
  {
   "cell_type": "code",
   "execution_count": null,
   "metadata": {
    "colab": {
     "base_uri": "https://localhost:8080/",
     "height": 35
    },
    "id": "0Y2CI1jdPzWz",
    "outputId": "7de20c4e-215b-40c2-b415-72ad1edead13"
   },
   "outputs": [],
   "source": [
    "len(y_pred_binary)"
   ]
  },
  {
   "cell_type": "code",
   "execution_count": null,
   "metadata": {
    "colab": {
     "base_uri": "https://localhost:8080/",
     "height": 35
    },
    "id": "W0EhQiatZWyj",
    "outputId": "67776725-788b-47d7-a3bd-288348bd211c"
   },
   "outputs": [],
   "source": [
    "inputs.shape"
   ]
  },
  {
   "cell_type": "code",
   "execution_count": null,
   "metadata": {
    "id": "ZQpsT-B6aMra"
   },
   "outputs": [],
   "source": [
    "x_p = pd.DataFrame(inputs.values)            #Energy price of inputs\n",
    "x_p = x_p.iloc[65544:81881, 18:32]            # Saving the Energy price\n",
    "x_p.index = range(len(x_p))\n",
    "x_p.columns = range(x_p.shape[1])\n",
    "y_test= pd.DataFrame(y_test)\n",
    "\n",
    "y_test = y_test.iloc[0:16377, 0:14]\n",
    "y_test.index = range(len(y_test))\n",
    "y_test.columns = range(y_test.shape[1])\n",
    "\n",
    "y_pred= pd.DataFrame(y_pred_binary)\n",
    "y_pred = y_pred.iloc[0:16377, 0:14]\n",
    "y_pred.index = range(len(y_pred))\n",
    "y_pred.columns = range(y_pred.shape[1])\n",
    "\n",
    "testing = pd.concat([x_p, y_test, y_pred], axis=1)\n",
    "testing.to_excel('testing.xlsx', index = False)"
   ]
  },
  {
   "cell_type": "code",
   "execution_count": null,
   "metadata": {
    "id": "cmavpKE-GMCX"
   },
   "outputs": [],
   "source": [
    "x_p "
   ]
  },
  {
   "cell_type": "code",
   "execution_count": null,
   "metadata": {
    "colab": {
     "base_uri": "https://localhost:8080/",
     "height": 35
    },
    "id": "xyk1BSSoH0rR",
    "outputId": "d48b837f-c7db-49ad-ad95-272f34bc8bb2"
   },
   "outputs": [],
   "source": [
    "x_p"
   ]
  },
  {
   "cell_type": "code",
   "execution_count": null,
   "metadata": {
    "colab": {
     "base_uri": "https://localhost:8080/",
     "height": 35
    },
    "id": "kyDfSEAnHTYC",
    "outputId": "a6daab74-55ac-445e-8835-2a1869120f5f"
   },
   "outputs": [],
   "source": [
    "y_pred.shape\n"
   ]
  },
  {
   "cell_type": "code",
   "execution_count": null,
   "metadata": {},
   "outputs": [],
   "source": [
    "y_pred = y_pred.T"
   ]
  },
  {
   "cell_type": "code",
   "execution_count": null,
   "metadata": {},
   "outputs": [],
   "source": [
    "y_pred"
   ]
  },
  {
   "cell_type": "code",
   "execution_count": null,
   "metadata": {
    "colab": {
     "base_uri": "https://localhost:8080/",
     "height": 427
    },
    "id": "8M0aZBT7HFzP",
    "outputId": "2ae09b1c-2193-41da-e402-43a5475e2eeb"
   },
   "outputs": [],
   "source": [
    "result_predict = x_p.dot(y_pred);\n",
    "result_predict.shape"
   ]
  },
  {
   "cell_type": "code",
   "execution_count": null,
   "metadata": {},
   "outputs": [],
   "source": [
    "y_test.shape"
   ]
  },
  {
   "cell_type": "code",
   "execution_count": null,
   "metadata": {},
   "outputs": [],
   "source": [
    "y_test = y_test.T"
   ]
  },
  {
   "cell_type": "code",
   "execution_count": null,
   "metadata": {},
   "outputs": [],
   "source": [
    "result_test = x_p.dot(y_test)\n"
   ]
  },
  {
   "cell_type": "code",
   "execution_count": null,
   "metadata": {},
   "outputs": [],
   "source": [
    "result_test.shape"
   ]
  },
  {
   "cell_type": "code",
   "execution_count": null,
   "metadata": {
    "id": "2_iywgm_0Ivw"
   },
   "outputs": [],
   "source": [
    "sub = abs(result_test - result_predict)\n"
   ]
  },
  {
   "cell_type": "code",
   "execution_count": null,
   "metadata": {},
   "outputs": [],
   "source": []
  },
  {
   "cell_type": "code",
   "execution_count": null,
   "metadata": {},
   "outputs": [],
   "source": [
    "sub"
   ]
  },
  {
   "cell_type": "code",
   "execution_count": null,
   "metadata": {},
   "outputs": [],
   "source": [
    "result_test"
   ]
  },
  {
   "cell_type": "code",
   "execution_count": null,
   "metadata": {
    "scrolled": true
   },
   "outputs": [],
   "source": [
    "result_test"
   ]
  },
  {
   "cell_type": "code",
   "execution_count": null,
   "metadata": {
    "id": "LzRbMb3jGQ70"
   },
   "outputs": [],
   "source": [
    " sub = abs(result_test - result_predict)/(result_test)\n",
    " sub"
   ]
  },
  {
   "cell_type": "code",
   "execution_count": null,
   "metadata": {},
   "outputs": [],
   "source": [
    "suboptimality = np.diag(sub)\n",
    "plt.plot(suboptimality[48:72])\n",
    "plt.xlabel('number of components')\n",
    "plt.ylabel('element wise suboptimality')\n",
    "plt.title('F*-F^')\n",
    "plt.axhline(y=0.15, color='r', linestyle='-')"
   ]
  },
  {
   "cell_type": "code",
   "execution_count": null,
   "metadata": {},
   "outputs": [],
   "source": [
    "T = np.mean(suboptimality) #Calculating the suboptimality for T=15 horizon with more layers\n",
    "T"
   ]
  },
  {
   "cell_type": "code",
   "execution_count": null,
   "metadata": {},
   "outputs": [],
   "source": []
  }
 ],
 "metadata": {
  "colab": {
   "collapsed_sections": [],
   "name": "FinalCodeDL.ipynb",
   "provenance": [],
   "toc_visible": true
  },
  "kernelspec": {
   "display_name": "Python 3",
   "language": "python",
   "name": "python3"
  },
  "language_info": {
   "codemirror_mode": {
    "name": "ipython",
    "version": 3
   },
   "file_extension": ".py",
   "mimetype": "text/x-python",
   "name": "python",
   "nbconvert_exporter": "python",
   "pygments_lexer": "ipython3",
   "version": "3.7.6"
  }
 },
 "nbformat": 4,
 "nbformat_minor": 1
}
